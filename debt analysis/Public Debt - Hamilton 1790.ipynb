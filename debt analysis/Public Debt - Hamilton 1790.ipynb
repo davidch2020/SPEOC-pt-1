{
 "cells": [
  {
   "cell_type": "code",
   "execution_count": 8,
   "id": "ec888d04",
   "metadata": {},
   "outputs": [],
   "source": [
    "import pandas as pd\n",
    "\n",
    "data_path = 'data_clean/final_data_CD.csv'\n",
    "debt_data = pd.read_csv(data_path)"
   ]
  },
  {
   "cell_type": "code",
   "execution_count": 9,
   "id": "f00cc138",
   "metadata": {},
   "outputs": [],
   "source": [
    "names = [\n",
    "    \"Jedediah Huntington\", \"Peter Colt\", \"John Gordon\", \"John Gibbons\", \"John Meals\",\n",
    "    \"Benjamin Hardwood\", \"John Haywood\", \"John Taylor Gilman\", \"William Gardner\",\n",
    "    \"Oliver Peabody\", \"Nathaniel Gilman\", \"John Stevens\", \"Gerard Bancker\",\n",
    "    \"David Rittenhouse\", \"Henry Sherburne\", \"Thomas Taylor\"\n",
    "]\n",
    "states = [\"CT\", \"DE\", \"GA\", \"MA\", \"MD\", \"NC\", \"NH\", \"NJ\", \"NY\", \"PA\", \"RI\", \"SC\"]"
   ]
  },
  {
   "cell_type": "code",
   "execution_count": 10,
   "id": "3bbe26c4",
   "metadata": {},
   "outputs": [],
   "source": [
    "state_patterns = [\"state of \" + state.lower() for state in states] + [\"commonwealth of \" + state.lower() for state in states]\n",
    "\n",
    "filtered_data = debt_data[\n",
    "    (debt_data[\"Group State\"].isin(states)) |\n",
    "    (debt_data[\"Group Name\"].isin(names)) |\n",
    "    (debt_data[\"Group Name\"].str.lower().isin(state_patterns))\n",
    "]"
   ]
  },
  {
   "cell_type": "code",
   "execution_count": 11,
   "id": "a383419e",
   "metadata": {},
   "outputs": [],
   "source": [
    "public_debt = filtered_data.groupby('Group State')['final_total_adj'].sum().reindex(states, fill_value=0)\n",
    "\n",
    "debt_summary = pd.DataFrame({\n",
    "    \"State\": states,\n",
    "    \"Private Debt\": [0] * len(states), \n",
    "    \"Public Debt\": public_debt.values.astype(int)  \n",
    "})"
   ]
  },
  {
   "cell_type": "code",
   "execution_count": 13,
   "id": "9b9156d2",
   "metadata": {},
   "outputs": [
    {
     "name": "stdout",
     "output_type": "stream",
     "text": [
      "   State  Private Debt  Public Debt\n",
      "0     CT             0      1499915\n",
      "1     DE             0        16903\n",
      "2     GA             0        18462\n",
      "3     MA             0       152014\n",
      "4     MD             0      1431463\n",
      "5     NC             0        53870\n",
      "6     NH             0       264590\n",
      "7     NJ             0        43713\n",
      "8     NY             0      1792507\n",
      "9     PA             0      2825484\n",
      "10    RI             0       764422\n",
      "11    SC             0      1492260\n"
     ]
    }
   ],
   "source": [
    "print(debt_summary)"
   ]
  },
  {
   "cell_type": "code",
   "execution_count": null,
   "id": "1e208ba2",
   "metadata": {},
   "outputs": [],
   "source": []
  }
 ],
 "metadata": {
  "kernelspec": {
   "display_name": "Python 3 (ipykernel)",
   "language": "python",
   "name": "python3"
  },
  "language_info": {
   "codemirror_mode": {
    "name": "ipython",
    "version": 3
   },
   "file_extension": ".py",
   "mimetype": "text/x-python",
   "name": "python",
   "nbconvert_exporter": "python",
   "pygments_lexer": "ipython3",
   "version": "3.11.7"
  }
 },
 "nbformat": 4,
 "nbformat_minor": 5
}
