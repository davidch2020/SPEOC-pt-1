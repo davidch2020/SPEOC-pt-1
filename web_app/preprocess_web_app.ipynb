{
 "cells": [
  {
   "cell_type": "code",
   "execution_count": 7,
   "outputs": [],
   "source": [
    "import geopandas as gpd\n",
    "import json\n",
    "import pandas as pd"
   ],
   "metadata": {
    "collapsed": false,
    "pycharm": {
     "name": "#%%\n"
    }
   }
  },
  {
   "cell_type": "code",
   "execution_count": 8,
   "outputs": [],
   "source": [
    "# import json file that converts full name of a state to two character abbreviation\n",
    "with open('assets/state_codes.json', \"r\") as file:\n",
    "    state_codes = json.load(file)"
   ],
   "metadata": {
    "collapsed": false,
    "pycharm": {
     "name": "#%%\n"
    }
   }
  },
  {
   "cell_type": "code",
   "execution_count": 9,
   "metadata": {
    "collapsed": true,
    "pycharm": {
     "name": "#%%\n"
    }
   },
   "outputs": [],
   "source": [
    "map_df = gpd.read_file(\"../data_raw/shapefiles/historicalcounties\")\n",
    "# rename columns and simplify map geometry (to make it run faster)\n",
    "map_df.rename(columns={'NHGISNAM': 'county'}, inplace=True)\n",
    "map_df.rename(columns={'STATENAM': 'state'}, inplace=True)\n",
    "map_df['state_abrev'] = map_df.loc[:, 'state']\n",
    "map_df.replace({\"state_abrev\": state_codes}, inplace=True)\n",
    "map_df[\"geometry\"] = map_df[\"geometry\"].simplify(0.01).buffer(0)\n",
    "map_df[\"Geo_FIPS\"] = map_df[\"Geo_FIPS\"].map(lambda x: int(str(x.lstrip(\"0\"))))\n",
    "map_df.to_csv('assets/map_df.csv')"
   ]
  },
  {
   "cell_type": "code",
   "execution_count": 60,
   "outputs": [],
   "source": [
    "# county-level population data\n",
    "county_pop_data_raw = pd.read_csv(\"../data_raw/census_data/countyPopulation.csv\", header=1)\n",
    "county_pop_data = county_pop_data_raw[county_pop_data_raw[\"SE_T001_001\"].notna()]\n",
    "county_pop_data = county_pop_data.astype({\"SE_T001_001\": \"int\", \"Geo_FIPS\": \"str\"})\n",
    "county_pop_data.rename(columns={'SE_T001_001': 'Population', \"Geo_name\": \"County\"}, inplace=True)\n",
    "county_pop_data = county_pop_data[[\"Geo_FIPS\", \"Population\", \"County\", \"Geo_STUSAB\"]]"
   ],
   "metadata": {
    "collapsed": false,
    "pycharm": {
     "name": "#%%\n"
    }
   }
  },
  {
   "cell_type": "code",
   "execution_count": 63,
   "outputs": [
    {
     "data": {
      "text/plain": "{'New Hampshire': 'NH',\n 'Vermont': 'VT',\n 'Rhode Island': 'RI',\n 'Connecticut': 'CT',\n 'New York': 'NY',\n 'New Jersey': 'NJ',\n 'Pennsylvania': 'PA',\n 'Delaware': 'DE',\n 'Maryland': 'MD',\n 'Virginia': 'VA',\n 'North Carolina': 'NC',\n 'South Carolina': 'SC',\n 'Georgia': 'GA',\n 'Massachusetts': 'MA'}"
     },
     "execution_count": 63,
     "metadata": {},
     "output_type": "execute_result"
    }
   ],
   "source": [
    "with open('assets/state_codes.json', \"r\") as file:\n",
    "    state_codes = json.load(file)"
   ],
   "metadata": {
    "collapsed": false,
    "pycharm": {
     "name": "#%%\n"
    }
   }
  },
  {
   "cell_type": "code",
   "execution_count": 74,
   "outputs": [
    {
     "data": {
      "text/plain": "               county state  count      6p_total Geo_FIPS  population\n0    Abbeville County    SC      4    190.025533  4500010        9197\n1     Accomack County    VA      1     78.330000  5100010       13959\n2       Albany County    NY     81  49580.460000  3600010       75980\n3     Allegany County    MD      1    755.550000  2400010        4809\n4    Allegheny County    PA     11  12204.070000  4200030       10203\n..                ...   ...    ...           ...      ...         ...\n132    Windsor County    VT      5     44.060000  5000270       15740\n133  Worcester County    MA      9   8412.157733  2500270       56764\n134  Worcester County    MD      5   8468.770000  2400470       11640\n135       York County    MA      5   2161.090000  2500275       29078\n136       York County    PA     31  26412.540000  4201330       37535\n\n[137 rows x 6 columns]",
      "text/html": "<div>\n<style scoped>\n    .dataframe tbody tr th:only-of-type {\n        vertical-align: middle;\n    }\n\n    .dataframe tbody tr th {\n        vertical-align: top;\n    }\n\n    .dataframe thead th {\n        text-align: right;\n    }\n</style>\n<table border=\"1\" class=\"dataframe\">\n  <thead>\n    <tr style=\"text-align: right;\">\n      <th></th>\n      <th>county</th>\n      <th>state</th>\n      <th>count</th>\n      <th>6p_total</th>\n      <th>Geo_FIPS</th>\n      <th>population</th>\n    </tr>\n  </thead>\n  <tbody>\n    <tr>\n      <th>0</th>\n      <td>Abbeville County</td>\n      <td>SC</td>\n      <td>4</td>\n      <td>190.025533</td>\n      <td>4500010</td>\n      <td>9197</td>\n    </tr>\n    <tr>\n      <th>1</th>\n      <td>Accomack County</td>\n      <td>VA</td>\n      <td>1</td>\n      <td>78.330000</td>\n      <td>5100010</td>\n      <td>13959</td>\n    </tr>\n    <tr>\n      <th>2</th>\n      <td>Albany County</td>\n      <td>NY</td>\n      <td>81</td>\n      <td>49580.460000</td>\n      <td>3600010</td>\n      <td>75980</td>\n    </tr>\n    <tr>\n      <th>3</th>\n      <td>Allegany County</td>\n      <td>MD</td>\n      <td>1</td>\n      <td>755.550000</td>\n      <td>2400010</td>\n      <td>4809</td>\n    </tr>\n    <tr>\n      <th>4</th>\n      <td>Allegheny County</td>\n      <td>PA</td>\n      <td>11</td>\n      <td>12204.070000</td>\n      <td>4200030</td>\n      <td>10203</td>\n    </tr>\n    <tr>\n      <th>...</th>\n      <td>...</td>\n      <td>...</td>\n      <td>...</td>\n      <td>...</td>\n      <td>...</td>\n      <td>...</td>\n    </tr>\n    <tr>\n      <th>132</th>\n      <td>Windsor County</td>\n      <td>VT</td>\n      <td>5</td>\n      <td>44.060000</td>\n      <td>5000270</td>\n      <td>15740</td>\n    </tr>\n    <tr>\n      <th>133</th>\n      <td>Worcester County</td>\n      <td>MA</td>\n      <td>9</td>\n      <td>8412.157733</td>\n      <td>2500270</td>\n      <td>56764</td>\n    </tr>\n    <tr>\n      <th>134</th>\n      <td>Worcester County</td>\n      <td>MD</td>\n      <td>5</td>\n      <td>8468.770000</td>\n      <td>2400470</td>\n      <td>11640</td>\n    </tr>\n    <tr>\n      <th>135</th>\n      <td>York County</td>\n      <td>MA</td>\n      <td>5</td>\n      <td>2161.090000</td>\n      <td>2500275</td>\n      <td>29078</td>\n    </tr>\n    <tr>\n      <th>136</th>\n      <td>York County</td>\n      <td>PA</td>\n      <td>31</td>\n      <td>26412.540000</td>\n      <td>4201330</td>\n      <td>37535</td>\n    </tr>\n  </tbody>\n</table>\n<p>137 rows × 6 columns</p>\n</div>"
     },
     "execution_count": 74,
     "metadata": {},
     "output_type": "execute_result"
    }
   ],
   "source": [
    "debt_by_county = pd.read_csv(\"../data_clean/final_data_CD.csv\")[[\"Group State\", \"Group County\", '6p_total']]\n",
    "debt_by_county = debt_by_county.groupby(by=[\"Group County\", \"Group State\"]).agg(['size', 'sum'])\n",
    "debt_by_county.reset_index(inplace=True)\n",
    "debt_by_county.columns = debt_by_county.columns.droplevel(1)\n",
    "debt_by_county.columns = ['county', 'state', 'count', '6p_total']\n",
    "\n",
    "county_pop_data_raw = pd.read_csv(\"../data_raw/census_data/countyPopulation.csv\", header=1)\n",
    "county_geo_fips = county_pop_data_raw[county_pop_data_raw[\"SE_T001_001\"].notna()]\n",
    "county_geo_fips = county_geo_fips.astype({\"SE_T001_001\": \"int\", \"Geo_FIPS\": \"str\"})\n",
    "county_geo_fips = county_geo_fips[[\"Geo_FIPS\", \"Geo_name\", 'Geo_STUSAB', \"SE_T001_001\"]]\n",
    "county_geo_fips.rename(columns={\"Geo_name\": \"county\", 'Geo_STUSAB': 'state', \"SE_T001_001\": 'population'},\n",
    "                       inplace=True)\n",
    "county_debt_geo = pd.merge(debt_by_county, county_geo_fips, on=[\"county\", 'state'])\n",
    "\n",
    "# state debt aggregation\n",
    "state_debt_geo = county_debt_geo.groupby('state', as_index=False).sum()\n",
    "\n",
    "county_debt_geo"
   ],
   "metadata": {
    "collapsed": false,
    "pycharm": {
     "name": "#%%\n"
    }
   }
  }
 ],
 "metadata": {
  "kernelspec": {
   "display_name": "Python 3",
   "language": "python",
   "name": "python3"
  },
  "language_info": {
   "codemirror_mode": {
    "name": "ipython",
    "version": 2
   },
   "file_extension": ".py",
   "mimetype": "text/x-python",
   "name": "python",
   "nbconvert_exporter": "python",
   "pygments_lexer": "ipython2",
   "version": "2.7.6"
  }
 },
 "nbformat": 4,
 "nbformat_minor": 0
}