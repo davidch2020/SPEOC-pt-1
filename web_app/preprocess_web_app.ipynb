{
 "cells": [
  {
   "cell_type": "code",
   "execution_count": 7,
   "outputs": [],
   "source": [
    "import geopandas as gpd\n",
    "import json\n",
    "import pandas as pd"
   ],
   "metadata": {
    "collapsed": false,
    "pycharm": {
     "name": "#%%\n"
    }
   }
  },
  {
   "cell_type": "code",
   "execution_count": 8,
   "outputs": [],
   "source": [
    "# import json file that converts full name of a state to two character abbreviation\n",
    "with open('assets/state_codes.json', \"r\") as file:\n",
    "    state_codes = json.load(file)"
   ],
   "metadata": {
    "collapsed": false,
    "pycharm": {
     "name": "#%%\n"
    }
   }
  },
  {
   "cell_type": "code",
   "execution_count": 9,
   "metadata": {
    "collapsed": true,
    "pycharm": {
     "name": "#%%\n"
    }
   },
   "outputs": [],
   "source": [
    "map_df = gpd.read_file(\"../data_raw/shapefiles/historicalcounties\")\n",
    "# rename columns and simplify map geometry (to make it run faster)\n",
    "map_df.rename(columns={'NHGISNAM': 'county'}, inplace=True)\n",
    "map_df.rename(columns={'STATENAM': 'state'}, inplace=True)\n",
    "map_df['state_abrev'] = map_df.loc[:, 'state']\n",
    "map_df.replace({\"state_abrev\": state_codes}, inplace=True)\n",
    "map_df[\"geometry\"] = map_df[\"geometry\"].simplify(0.01).buffer(0)\n",
    "map_df[\"Geo_FIPS\"] = map_df[\"Geo_FIPS\"].map(lambda x: int(str(x.lstrip(\"0\"))))\n",
    "map_df.to_csv('assets/map_df.csv')"
   ]
  }
 ],
 "metadata": {
  "kernelspec": {
   "display_name": "Python 3",
   "language": "python",
   "name": "python3"
  },
  "language_info": {
   "codemirror_mode": {
    "name": "ipython",
    "version": 2
   },
   "file_extension": ".py",
   "mimetype": "text/x-python",
   "name": "python",
   "nbconvert_exporter": "python",
   "pygments_lexer": "ipython2",
   "version": "2.7.6"
  }
 },
 "nbformat": 4,
 "nbformat_minor": 0
}