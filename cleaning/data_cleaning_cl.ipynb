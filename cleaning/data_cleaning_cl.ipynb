{
 "cells": [
  {
   "cell_type": "code",
   "execution_count": 1,
   "outputs": [],
   "source": [
    "import numpy as np\n",
    "import pandas as pd\n",
    "from rapidfuzz import process"
   ],
   "metadata": {
    "collapsed": false,
    "pycharm": {
     "name": "#%%\n"
    }
   }
  },
  {
   "cell_type": "markdown",
   "source": [
    "Helper function section"
   ],
   "metadata": {
    "collapsed": false,
    "pycharm": {
     "name": "#%% md\n"
    }
   }
  },
  {
   "cell_type": "code",
   "execution_count": 2,
   "outputs": [],
   "source": [
    "# helper function: turn np.nan into \"\"\n",
    "def deNaN(series):\n",
    "    return series.apply(lambda x: \"\" if type(x) != str else x)"
   ],
   "metadata": {
    "collapsed": false,
    "pycharm": {
     "name": "#%%\n"
    }
   }
  },
  {
   "cell_type": "code",
   "execution_count": 3,
   "outputs": [],
   "source": [
    "# helper function to combine columns with data into one column with all unique values\n",
    "# we use this to combine name, town, state and person columns into just one column\n",
    "def combineCols(df, num=3, namenum=3):\n",
    "    change_df_agg = pd.DataFrame(columns=['old', 'new', 'type'])\n",
    "    for col in ['town', 'state', 'occupation']:\n",
    "        if num == 3:\n",
    "            df[col] = [set([\" \".join(x.split()) for x in [t1, t2, t3] if not pd.isnull(x)]) for t1, t2, t3 in\n",
    "                       zip(df[col + '1'],\n",
    "                           df[col + '2'],\n",
    "                           df[col + '3'])]\n",
    "        else:\n",
    "            df[col] = [set([\" \".join(x.split()) for x in [t1, t2] if not pd.isnull(x)]) for t1, t2 in zip(df[col + '1'],\n",
    "                                                                                                          df[\n",
    "                                                                                                              col + '2'])]\n",
    "        if not any(df[col].apply(lambda x: len(x) > 1).tolist()):\n",
    "            # change set to string\n",
    "            print(\"reformatting {}\".format(col))\n",
    "            df[col] = df[col].apply(lambda x: x.pop() if x != set() else np.nan)\n",
    "        else:\n",
    "            print(\"{} column has multiple unique entries\".format(col))\n",
    "            print(\"see table at end for new entries\")\n",
    "            # keep the value that has the most characters, otherwise change set to string\n",
    "            old = df[df[col].apply(lambda x: len(x) > 1)][col]\n",
    "            df[col] = df[col].apply(\n",
    "                lambda x: x.pop() if len(x) == 1 else np.nan if x == set() else max(list(x), key=len))\n",
    "            # new dataframe to keep track of changes\n",
    "            # create copy of change_df that removes all duplicates by turning old column, which is\n",
    "            # of type set to type string\n",
    "            change_df = pd.DataFrame([old, df.loc[old.index][col]]).T\n",
    "            change_df.columns = ['old', 'new']\n",
    "            change_df['type'] = col\n",
    "            change_df_str = change_df.copy()\n",
    "            change_df_str['old'] = change_df_str['old'].astype(str)\n",
    "            change_df_str = change_df_str.drop_duplicates()\n",
    "            # add filtered database of changes to aggregate dataset\n",
    "            change_df_agg = pd.concat([change_df_agg, change_df.loc[change_df_str.index]])\n",
    "\n",
    "    # add functions to combine asset totals, handle missing debt values\n",
    "    if namenum == 3:\n",
    "        df['Name 1'] = deNaN(df['First Name']) + \" \" + deNaN(df['Last Name'])\n",
    "        df['Name 2'] = deNaN(df['First Name.1']) + \" \" + deNaN(df['Last Name.1'])\n",
    "        df['Name 3'] = deNaN(df['First Name.2']) + \" \" + deNaN(df['Last Name.2'])\n",
    "        df['Name'] = list(\n",
    "            list(set([x.replace(\"  \", \" \").strip() for x in [name1, name2, name3] if x.strip() != \"\"])) for\n",
    "            name1, name2, name3 in zip(df['Name 1'], df['Name 2'], df['Name 3']))\n",
    "    return df[['6p_Dollar', '6p_Cents', '6p_def_Dollar', '6p_def_Cents', '3p_Dollar', '3p_Cents',\n",
    "               'town', 'state', 'occupation', 'Name']], change_df_agg"
   ],
   "metadata": {
    "collapsed": false,
    "pycharm": {
     "name": "#%%\n"
    }
   }
  },
  {
   "cell_type": "markdown",
   "source": [
    "raw data import section"
   ],
   "metadata": {
    "collapsed": false,
    "pycharm": {
     "name": "#%% md\n"
    }
   }
  },
  {
   "cell_type": "markdown",
   "source": [
    "### Connecticut"
   ],
   "metadata": {
    "collapsed": false,
    "pycharm": {
     "name": "#%% md\n"
    }
   },
   "execution_count": 1
  },
  {
   "cell_type": "code",
   "execution_count": 15,
   "outputs": [],
   "source": [
    "CD_all = pd.DataFrame(columns=['6p_Dollar', '6p_Cents', '6p_def_Dollar', '6p_def_Cents', '3p_Dollar', '3p_Cents',\n",
    "                               'town', 'state', 'occupation', 'Name', 'state_data'])\n",
    "ASD_all = pd.DataFrame(columns=['6p_Dollar', '6p_Cents', '6p_def_Dollar', '6p_def_Cents', '3p_Dollar', '3p_Cents',\n",
    "                                'town', 'state', 'occupation', 'Name', 'state_data'])"
   ],
   "metadata": {
    "collapsed": false,
    "pycharm": {
     "name": "#%%\n"
    }
   }
  },
  {
   "cell_type": "code",
   "execution_count": 16,
   "outputs": [
    {
     "name": "stdout",
     "output_type": "stream",
     "text": [
      "town column has multiple unique entries\n",
      "see table at end for new entries\n",
      "reformatting state\n",
      "reformatting occupation\n"
     ]
    },
    {
     "name": "stderr",
     "output_type": "stream",
     "text": [
      "/var/folders/5s/dvrxt95949x1pm_sjxm85lj00000gn/T/ipykernel_13960/1037064597.py:10: SettingWithCopyWarning: \n",
      "A value is trying to be set on a copy of a slice from a DataFrame.\n",
      "Try using .loc[row_indexer,col_indexer] = value instead\n",
      "\n",
      "See the caveats in the documentation: https://pandas.pydata.org/pandas-docs/stable/user_guide/indexing.html#returning-a-view-versus-a-copy\n",
      "  CT_CD['state_data'] = 'CT'\n"
     ]
    },
    {
     "data": {
      "text/plain": "                   old      new  type\n526  {Milford, Miford}  Milford  town\n799  {Nowich, Norwich}  Norwich  town",
      "text/html": "<div>\n<style scoped>\n    .dataframe tbody tr th:only-of-type {\n        vertical-align: middle;\n    }\n\n    .dataframe tbody tr th {\n        vertical-align: top;\n    }\n\n    .dataframe thead th {\n        text-align: right;\n    }\n</style>\n<table border=\"1\" class=\"dataframe\">\n  <thead>\n    <tr style=\"text-align: right;\">\n      <th></th>\n      <th>old</th>\n      <th>new</th>\n      <th>type</th>\n    </tr>\n  </thead>\n  <tbody>\n    <tr>\n      <th>526</th>\n      <td>{Milford, Miford}</td>\n      <td>Milford</td>\n      <td>town</td>\n    </tr>\n    <tr>\n      <th>799</th>\n      <td>{Nowich, Norwich}</td>\n      <td>Norwich</td>\n      <td>town</td>\n    </tr>\n  </tbody>\n</table>\n</div>"
     },
     "execution_count": 16,
     "metadata": {},
     "output_type": "execute_result"
    }
   ],
   "source": [
    "# importing desired columns and rename\n",
    "CT_CD_raw = pd.read_excel(\"../data_raw/post1790/CT/CT_post1790_CD_ledger.xlsx\",\n",
    "                          header=13, usecols='H, I, J, K, L, N, O, X, Y, Z, AA, AB, AD, AE, AN, AO, AP, AQ, AR, AT, AU')\n",
    "CT_CD_raw.columns = ['First Name', 'Last Name', 'town1', 'state1', 'occupation1', '6p_Dollar', '6p_Cents',\n",
    "                     'First Name.1', 'Last Name.1', 'town2', 'state2', 'occupation2', '6p_def_Dollar', '6p_def_Cents',\n",
    "                     'First Name.2', 'Last Name.2', 'town3', 'state3', 'occupation3', '3p_Dollar', '3p_Cents', ]\n",
    "# unify occupation, town and state columns\n",
    "CT_CD, change_df = combineCols(CT_CD_raw)\n",
    "CT_CD.loc[CT_CD.query('state.isna()').index, 'state'] = 'CT'\n",
    "CT_CD['state_data'] = 'CT'\n",
    "CD_all = pd.concat([CD_all, CT_CD])\n",
    "change_df"
   ],
   "metadata": {
    "collapsed": false,
    "pycharm": {
     "name": "#%%\n"
    }
   }
  },
  {
   "cell_type": "code",
   "execution_count": 17,
   "outputs": [
    {
     "name": "stdout",
     "output_type": "stream",
     "text": [
      "town column has multiple unique entries\n",
      "see table at end for new entries\n",
      "reformatting state\n",
      "occupation column has multiple unique entries\n",
      "see table at end for new entries\n"
     ]
    },
    {
     "name": "stderr",
     "output_type": "stream",
     "text": [
      "/var/folders/5s/dvrxt95949x1pm_sjxm85lj00000gn/T/ipykernel_13960/2556498923.py:10: SettingWithCopyWarning: \n",
      "A value is trying to be set on a copy of a slice from a DataFrame.\n",
      "Try using .loc[row_indexer,col_indexer] = value instead\n",
      "\n",
      "See the caveats in the documentation: https://pandas.pydata.org/pandas-docs/stable/user_guide/indexing.html#returning-a-view-versus-a-copy\n",
      "  CT_ASD['state_data'] = 'CT'\n"
     ]
    },
    {
     "data": {
      "text/plain": "                                                   old  \\\n125                                 {Norwalk, Norwall}   \n811  {1st Society in Lyme, Treasuer 1st Society in ...   \n\n                              new        type  \n125                       Norwalk        town  \n811  Treasuer 1st Society in Lyme  occupation  ",
      "text/html": "<div>\n<style scoped>\n    .dataframe tbody tr th:only-of-type {\n        vertical-align: middle;\n    }\n\n    .dataframe tbody tr th {\n        vertical-align: top;\n    }\n\n    .dataframe thead th {\n        text-align: right;\n    }\n</style>\n<table border=\"1\" class=\"dataframe\">\n  <thead>\n    <tr style=\"text-align: right;\">\n      <th></th>\n      <th>old</th>\n      <th>new</th>\n      <th>type</th>\n    </tr>\n  </thead>\n  <tbody>\n    <tr>\n      <th>125</th>\n      <td>{Norwalk, Norwall}</td>\n      <td>Norwalk</td>\n      <td>town</td>\n    </tr>\n    <tr>\n      <th>811</th>\n      <td>{1st Society in Lyme, Treasuer 1st Society in ...</td>\n      <td>Treasuer 1st Society in Lyme</td>\n      <td>occupation</td>\n    </tr>\n  </tbody>\n</table>\n</div>"
     },
     "execution_count": 17,
     "metadata": {},
     "output_type": "execute_result"
    }
   ],
   "source": [
    "# importing desired columns and rename\n",
    "CT_ASD_raw = pd.read_excel(\"../data_raw/post1790/CT/CT_post1790_ASD_ledger.xlsx\",\n",
    "                       header = 13, usecols = 'H, I, J, K, L, N, O, X, Y, Z, AA, AB, AD, AE, AN, AO, AP, AQ, AR, AT, AU')\n",
    "CT_ASD_raw.columns = ['First Name', 'Last Name', 'town1', 'state1', 'occupation1', '6p_Dollar', '6p_Cents',\n",
    "                     'First Name.1', 'Last Name.1', 'town2', 'state2', 'occupation2', '6p_def_Dollar', '6p_def_Cents',\n",
    "                     'First Name.2', 'Last Name.2', 'town3', 'state3', 'occupation3', '3p_Dollar', '3p_Cents', ]\n",
    "# unify occupation, town and state columns\n",
    "CT_ASD, change_df = combineCols(CT_ASD_raw)\n",
    "CT_ASD.loc[CT_ASD.query('state.isna()').index, 'state'] = 'CT'\n",
    "CT_ASD['state_data'] = 'CT'\n",
    "ASD_all = pd.concat([ASD_all, CT_ASD])\n",
    "change_df"
   ],
   "metadata": {
    "collapsed": false,
    "pycharm": {
     "name": "#%%\n"
    }
   }
  },
  {
   "cell_type": "markdown",
   "source": [
    "### Georgia\n",
    "No need to do additional cleaning because there's only one state/city/occupation column"
   ],
   "metadata": {
    "collapsed": false,
    "pycharm": {
     "name": "#%% md\n"
    }
   }
  },
  {
   "cell_type": "code",
   "execution_count": 18,
   "outputs": [
    {
     "name": "stderr",
     "output_type": "stream",
     "text": [
      "/var/folders/5s/dvrxt95949x1pm_sjxm85lj00000gn/T/ipykernel_13960/1413414494.py:16: SettingWithCopyWarning: \n",
      "A value is trying to be set on a copy of a slice from a DataFrame.\n",
      "Try using .loc[row_indexer,col_indexer] = value instead\n",
      "\n",
      "See the caveats in the documentation: https://pandas.pydata.org/pandas-docs/stable/user_guide/indexing.html#returning-a-view-versus-a-copy\n",
      "  GA_CD['state_data'] = 'GA'\n"
     ]
    }
   ],
   "source": [
    "# importing desired columns and rename\n",
    "# prepare loan dataset\n",
    "GA_CD_raw = pd.read_excel(\"../data_raw/post1790/GA/T694_GA_Loan_Office_CD.xlsx\",\n",
    "                      header = 10, usecols = 'Q, R, S, T, U, Z, AA, AB, AC, AD, AE')\n",
    "# end of table\n",
    "GA_CD_raw.drop([65, 66], inplace = True)\n",
    "GA_CD_raw.columns = ['First Name', 'Last Name', 'town', 'state', 'occupation', '6p_Dollar', '6p_Cents',\n",
    "                 '6p_def_Dollar', '6p_def_Cents', '3p_Dollar', '3p_Cents']\n",
    "# convert name column types\n",
    "GA_CD_raw['Name'] = deNaN(GA_CD_raw['First Name']) + \" \" + deNaN(GA_CD_raw['Last Name'])\n",
    "GA_CD_raw['Name'] = GA_CD_raw['Name'].apply(lambda x: [x])\n",
    "GA_CD = GA_CD_raw[['6p_Dollar', '6p_Cents', '6p_def_Dollar', '6p_def_Cents','3p_Dollar', '3p_Cents',\n",
    "                   'town', 'state', 'occupation', 'Name']]\n",
    "# impute state\n",
    "GA_CD.loc[GA_CD.query('state.isna()').index, 'state'] = 'GA'\n",
    "GA_CD['state_data'] = 'GA'\n",
    "CD_all = pd.concat([CD_all, GA_CD])"
   ],
   "metadata": {
    "collapsed": false,
    "pycharm": {
     "name": "#%%\n"
    }
   }
  },
  {
   "cell_type": "markdown",
   "source": [
    "### Maryland"
   ],
   "metadata": {
    "collapsed": false,
    "pycharm": {
     "name": "#%% md\n"
    }
   }
  },
  {
   "cell_type": "code",
   "execution_count": 19,
   "outputs": [
    {
     "name": "stdout",
     "output_type": "stream",
     "text": [
      "reformatting town\n",
      "reformatting state\n",
      "reformatting occupation\n"
     ]
    },
    {
     "name": "stderr",
     "output_type": "stream",
     "text": [
      "/var/folders/5s/dvrxt95949x1pm_sjxm85lj00000gn/T/ipykernel_13960/4140097698.py:10: SettingWithCopyWarning: \n",
      "A value is trying to be set on a copy of a slice from a DataFrame.\n",
      "Try using .loc[row_indexer,col_indexer] = value instead\n",
      "\n",
      "See the caveats in the documentation: https://pandas.pydata.org/pandas-docs/stable/user_guide/indexing.html#returning-a-view-versus-a-copy\n",
      "  MD_CD['state_data'] = 'MD'\n"
     ]
    },
    {
     "data": {
      "text/plain": "Empty DataFrame\nColumns: [old, new, type]\nIndex: []",
      "text/html": "<div>\n<style scoped>\n    .dataframe tbody tr th:only-of-type {\n        vertical-align: middle;\n    }\n\n    .dataframe tbody tr th {\n        vertical-align: top;\n    }\n\n    .dataframe thead th {\n        text-align: right;\n    }\n</style>\n<table border=\"1\" class=\"dataframe\">\n  <thead>\n    <tr style=\"text-align: right;\">\n      <th></th>\n      <th>old</th>\n      <th>new</th>\n      <th>type</th>\n    </tr>\n  </thead>\n  <tbody>\n  </tbody>\n</table>\n</div>"
     },
     "execution_count": 19,
     "metadata": {},
     "output_type": "execute_result"
    }
   ],
   "source": [
    "#prepare loan dataset\n",
    "MD_CD_raw = pd.read_excel(\"../data_raw/post1790/MD/MD_post1790_CD.xlsx\",\n",
    "                      header = 11, usecols = 'G, H, I, J, K, L, M, U, V, W, X, Y, Z, AA, AI, AJ, AK, AL, AM, AN, AO')\n",
    "MD_CD_raw.columns = ['First Name', 'Last Name', 'town1', 'state1', 'occupation1', '6p_Dollar', '6p_Cents',\n",
    "                 'First Name.1', 'Last Name.1', 'town2', 'state2', 'occupation2', '6p_def_Dollar', '6p_def_Cents',\n",
    "                 'First Name.2', 'Last Name.2', 'town3', 'state3', 'occupation3', '3p_Dollar', '3p_Cents', ]\n",
    "# unify occupation, town and state columns\n",
    "MD_CD , change_df = combineCols(MD_CD_raw)\n",
    "MD_CD.loc[MD_CD.query('state.isna()').index, 'state'] = 'MD'\n",
    "MD_CD['state_data'] = 'MD'\n",
    "CD_all = pd.concat([CD_all, MD_CD])\n",
    "change_df"
   ],
   "metadata": {
    "collapsed": false,
    "pycharm": {
     "name": "#%%\n"
    }
   }
  },
  {
   "cell_type": "code",
   "execution_count": 20,
   "outputs": [
    {
     "name": "stdout",
     "output_type": "stream",
     "text": [
      "reformatting town\n",
      "reformatting state\n",
      "reformatting occupation\n"
     ]
    },
    {
     "name": "stderr",
     "output_type": "stream",
     "text": [
      "/var/folders/5s/dvrxt95949x1pm_sjxm85lj00000gn/T/ipykernel_13960/1297863743.py:10: SettingWithCopyWarning: \n",
      "A value is trying to be set on a copy of a slice from a DataFrame.\n",
      "Try using .loc[row_indexer,col_indexer] = value instead\n",
      "\n",
      "See the caveats in the documentation: https://pandas.pydata.org/pandas-docs/stable/user_guide/indexing.html#returning-a-view-versus-a-copy\n",
      "  MD_ASD['state_data'] = 'MD'\n"
     ]
    },
    {
     "data": {
      "text/plain": "Empty DataFrame\nColumns: [old, new, type]\nIndex: []",
      "text/html": "<div>\n<style scoped>\n    .dataframe tbody tr th:only-of-type {\n        vertical-align: middle;\n    }\n\n    .dataframe tbody tr th {\n        vertical-align: top;\n    }\n\n    .dataframe thead th {\n        text-align: right;\n    }\n</style>\n<table border=\"1\" class=\"dataframe\">\n  <thead>\n    <tr style=\"text-align: right;\">\n      <th></th>\n      <th>old</th>\n      <th>new</th>\n      <th>type</th>\n    </tr>\n  </thead>\n  <tbody>\n  </tbody>\n</table>\n</div>"
     },
     "execution_count": 20,
     "metadata": {},
     "output_type": "execute_result"
    }
   ],
   "source": [
    "# prepare loan dataset\n",
    "MD_ASD_raw = pd.read_excel(\"../data_raw/post1790/MD/MD_post1790_ASD.xlsx\",\n",
    "                      header = 11, usecols = 'G, H, I, J, K, L, M, U, V, W, X, Y, Z, AA, AI, AJ, AK, AL, AM, AN, AO')\n",
    "MD_ASD_raw.columns = ['First Name', 'Last Name', 'town1', 'state1', 'occupation1', '6p_Dollar', '6p_Cents',\n",
    "                 'First Name.1', 'Last Name.1', 'town2', 'state2', 'occupation2', '6p_def_Dollar', '6p_def_Cents',\n",
    "                 'First Name.2', 'Last Name.2', 'town3', 'state3', 'occupation3', '3p_Dollar', '3p_Cents', ]\n",
    "# unify occupation, town and state columns\n",
    "MD_ASD , change_df = combineCols(MD_ASD_raw)\n",
    "MD_ASD.loc[MD_ASD.query('state.isna()').index, 'state'] = 'MD'\n",
    "MD_ASD['state_data'] = 'MD'\n",
    "ASD_all = pd.concat([ASD_all, MD_ASD])\n",
    "change_df"
   ],
   "metadata": {
    "collapsed": false,
    "pycharm": {
     "name": "#%%\n"
    }
   }
  },
  {
   "cell_type": "markdown",
   "source": [
    "### North Carolina"
   ],
   "metadata": {
    "collapsed": false,
    "pycharm": {
     "name": "#%% md\n"
    }
   }
  },
  {
   "cell_type": "code",
   "execution_count": 21,
   "outputs": [
    {
     "name": "stderr",
     "output_type": "stream",
     "text": [
      "/var/folders/5s/dvrxt95949x1pm_sjxm85lj00000gn/T/ipykernel_13960/2777629163.py:11: SettingWithCopyWarning: \n",
      "A value is trying to be set on a copy of a slice from a DataFrame.\n",
      "Try using .loc[row_indexer,col_indexer] = value instead\n",
      "\n",
      "See the caveats in the documentation: https://pandas.pydata.org/pandas-docs/stable/user_guide/indexing.html#returning-a-view-versus-a-copy\n",
      "  NC_CD['state_data'] = 'NC'\n"
     ]
    }
   ],
   "source": [
    "NC_CD_raw = pd.read_excel(\"../data_raw/post1790/NC/T695_R4_NC_CD.xlsx\",\n",
    "                      header = 11, usecols = 'J, K, L, M, N, W, X, Z, AA, AC, AD ')\n",
    "NC_CD_raw.drop([74, 75], inplace = True)\n",
    "NC_CD_raw.columns = ['First Name', 'Last Name', 'town', 'state', 'occupation', '6p_Dollar', '6p_Cents',\n",
    "                 '6p_def_Dollar', '6p_def_Cents', '3p_Dollar', '3p_Cents']\n",
    "NC_CD_raw['Name'] = deNaN(NC_CD_raw['First Name'])  + \" \" + deNaN(NC_CD_raw['Last Name'])\n",
    "NC_CD_raw['Name'] = NC_CD_raw['Name'].apply(lambda x: [x])\n",
    "NC_CD = NC_CD_raw[['6p_Dollar', '6p_Cents', '6p_def_Dollar', '6p_def_Cents','3p_Dollar', '3p_Cents',\n",
    "                   'town', 'state', 'occupation', 'Name']]\n",
    "NC_CD.loc[NC_CD.query('state.isna()').index, 'state'] = 'NC'\n",
    "NC_CD['state_data'] = 'NC'\n",
    "CD_all = pd.concat([CD_all, NC_CD])"
   ],
   "metadata": {
    "collapsed": false,
    "pycharm": {
     "name": "#%%\n"
    }
   }
  },
  {
   "cell_type": "code",
   "execution_count": 22,
   "outputs": [
    {
     "name": "stderr",
     "output_type": "stream",
     "text": [
      "/var/folders/5s/dvrxt95949x1pm_sjxm85lj00000gn/T/ipykernel_13960/3886891644.py:9: SettingWithCopyWarning: \n",
      "A value is trying to be set on a copy of a slice from a DataFrame.\n",
      "Try using .loc[row_indexer,col_indexer] = value instead\n",
      "\n",
      "See the caveats in the documentation: https://pandas.pydata.org/pandas-docs/stable/user_guide/indexing.html#returning-a-view-versus-a-copy\n",
      "  NC_ASD['state_data'] = 'NC'\n"
     ]
    }
   ],
   "source": [
    "NC_ASD_raw = pd.read_excel(\"../data_raw/post1790/NC/T695_R3_NC_ASD.xlsx\", header = 10, usecols = 'H, I, J, K, L, P, Q, R, S, T, U')\n",
    "NC_ASD_raw.columns = ['First Name', 'Last Name', 'town', 'state', 'occupation',  '6p_Dollar', '6p_Cents',\n",
    "                      '6p_def_Dollar', '6p_def_Cents', '3p_Dollar', '3p_Cents']\n",
    "NC_ASD_raw['Name'] = deNaN(NC_ASD_raw['First Name'])  + \" \" + deNaN(NC_ASD_raw['Last Name'])\n",
    "NC_ASD_raw['Name'] = NC_ASD_raw['Name'].apply(lambda x: [x])\n",
    "NC_ASD = NC_ASD_raw[['6p_Dollar', '6p_Cents', '6p_def_Dollar', '6p_def_Cents','3p_Dollar', '3p_Cents',\n",
    "                   'town', 'state', 'occupation', 'Name']]\n",
    "NC_ASD.loc[NC_ASD.query('state.isna()').index, 'state'] = 'NC'\n",
    "NC_ASD['state_data'] = 'NC'\n",
    "ASD_all = pd.concat([ASD_all, NC_ASD])"
   ],
   "metadata": {
    "collapsed": false,
    "pycharm": {
     "name": "#%%\n"
    }
   }
  },
  {
   "cell_type": "markdown",
   "source": [
    "### New Hampshire"
   ],
   "metadata": {
    "collapsed": false,
    "pycharm": {
     "name": "#%% md\n"
    }
   }
  },
  {
   "cell_type": "code",
   "execution_count": 23,
   "outputs": [
    {
     "name": "stderr",
     "output_type": "stream",
     "text": [
      "/var/folders/5s/dvrxt95949x1pm_sjxm85lj00000gn/T/ipykernel_13960/2175492351.py:11: SettingWithCopyWarning: \n",
      "A value is trying to be set on a copy of a slice from a DataFrame.\n",
      "Try using .loc[row_indexer,col_indexer] = value instead\n",
      "\n",
      "See the caveats in the documentation: https://pandas.pydata.org/pandas-docs/stable/user_guide/indexing.html#returning-a-view-versus-a-copy\n",
      "  NH_CD['state_data'] = 'NH'\n"
     ]
    }
   ],
   "source": [
    "#prepare loan dataset\n",
    "NH_CD_raw = pd.read_excel(\"../data_raw/post1790/NH/T652_R6_New_Hampshire_CD.xlsx\",\n",
    "                      header = 10, usecols = 'I, J, K, L, M, N, O, P, Q, R, S').drop([219, 220])\n",
    "NH_CD_raw.columns = ['First Name', 'Last Name', 'town', 'state', 'occupation', '6p_Dollar', '6p_Cents',\n",
    "                     '6p_def_Dollar', '6p_def_Cents', '3p_Dollar', '3p_Cents']\n",
    "NH_CD_raw['Name'] = deNaN(NH_CD_raw['First Name'])  + \" \" + deNaN(NH_CD_raw['Last Name'])\n",
    "NH_CD_raw['Name'] = NH_CD_raw['Name'].apply(lambda x: [x])\n",
    "NH_CD = NH_CD_raw[['6p_Dollar', '6p_Cents', '6p_def_Dollar', '6p_def_Cents','3p_Dollar', '3p_Cents',\n",
    "                     'town', 'state', 'occupation', 'Name']]\n",
    "NH_CD.loc[NH_CD.query('state.isna()').index, 'state'] = 'NH'\n",
    "NH_CD['state_data'] = 'NH'\n",
    "CD_all = pd.concat([CD_all, NH_CD])"
   ],
   "metadata": {
    "collapsed": false,
    "pycharm": {
     "name": "#%%\n"
    }
   }
  },
  {
   "cell_type": "code",
   "execution_count": 24,
   "outputs": [
    {
     "name": "stdout",
     "output_type": "stream",
     "text": [
      "reformatting town\n",
      "reformatting state\n",
      "reformatting occupation\n"
     ]
    },
    {
     "name": "stderr",
     "output_type": "stream",
     "text": [
      "/var/folders/5s/dvrxt95949x1pm_sjxm85lj00000gn/T/ipykernel_13960/2490837571.py:9: SettingWithCopyWarning: \n",
      "A value is trying to be set on a copy of a slice from a DataFrame.\n",
      "Try using .loc[row_indexer,col_indexer] = value instead\n",
      "\n",
      "See the caveats in the documentation: https://pandas.pydata.org/pandas-docs/stable/user_guide/indexing.html#returning-a-view-versus-a-copy\n",
      "  NH_ASD['state_data'] = 'NH'\n"
     ]
    },
    {
     "data": {
      "text/plain": "Empty DataFrame\nColumns: [old, new, type]\nIndex: []",
      "text/html": "<div>\n<style scoped>\n    .dataframe tbody tr th:only-of-type {\n        vertical-align: middle;\n    }\n\n    .dataframe tbody tr th {\n        vertical-align: top;\n    }\n\n    .dataframe thead th {\n        text-align: right;\n    }\n</style>\n<table border=\"1\" class=\"dataframe\">\n  <thead>\n    <tr style=\"text-align: right;\">\n      <th></th>\n      <th>old</th>\n      <th>new</th>\n      <th>type</th>\n    </tr>\n  </thead>\n  <tbody>\n  </tbody>\n</table>\n</div>"
     },
     "execution_count": 24,
     "metadata": {},
     "output_type": "execute_result"
    }
   ],
   "source": [
    "NH_ASD_raw = pd.read_excel(\"../data_raw/post1790/NH/T652_New_Hampshire_ASD.xlsx\", header = 12,\n",
    "                       usecols = 'G, H, I, J, K, M, N, V, W, X, Y, Z, AA, AB, AK, AL, AM, AN')\n",
    "NH_ASD_raw.columns = ['First Name', 'Last Name', 'town1', 'state1', 'occupation1', '6p_Dollar', '6p_Cents',\n",
    "                      'First Name.1', 'Last Name.1', 'town2', 'state2', 'occupation2', '6p_def_Dollar', '6p_def_Cents',\n",
    "                      'First Name.2', 'Last Name.2', '3p_Dollar', '3p_Cents']\n",
    "# unify occupation, town and state columns\n",
    "NH_ASD, change_df = combineCols(NH_ASD_raw, 2)\n",
    "NH_ASD.loc[NH_ASD.query('state.isna()').index, 'state'] = 'NH'\n",
    "NH_ASD['state_data'] = 'NH'\n",
    "ASD_all = pd.concat([ASD_all, NH_ASD])\n",
    "change_df"
   ],
   "metadata": {
    "collapsed": false,
    "pycharm": {
     "name": "#%%\n"
    }
   }
  },
  {
   "cell_type": "markdown",
   "source": [
    "### New York\n",
    "Doesn't have town/occupation/state"
   ],
   "metadata": {
    "collapsed": false,
    "pycharm": {
     "name": "#%% md\n"
    }
   }
  },
  {
   "cell_type": "markdown",
   "source": [
    "### Pennsylvania"
   ],
   "metadata": {
    "collapsed": false,
    "pycharm": {
     "name": "#%% md\n"
    }
   }
  },
  {
   "cell_type": "code",
   "execution_count": 26,
   "outputs": [
    {
     "name": "stdout",
     "output_type": "stream",
     "text": [
      "town column has multiple unique entries\n",
      "see table at end for new entries\n",
      "reformatting state\n",
      "occupation column has multiple unique entries\n",
      "see table at end for new entries\n"
     ]
    },
    {
     "name": "stderr",
     "output_type": "stream",
     "text": [
      "/var/folders/5s/dvrxt95949x1pm_sjxm85lj00000gn/T/ipykernel_13960/2309322194.py:10: SettingWithCopyWarning: \n",
      "A value is trying to be set on a copy of a slice from a DataFrame.\n",
      "Try using .loc[row_indexer,col_indexer] = value instead\n",
      "\n",
      "See the caveats in the documentation: https://pandas.pydata.org/pandas-docs/stable/user_guide/indexing.html#returning-a-view-versus-a-copy\n",
      "  PA_CD['state_data'] = 'PA'\n"
     ]
    },
    {
     "data": {
      "text/plain": "                                                    old  \\\n14                    {Carlisle Pennsylvania, Carlisle}   \n39                           {Conecticutt, Connecticut}   \n40            {New Castle Delaware, Newcastle Delaware}   \n113                 {Philadelphia County, Philadelphia}   \n131              {State of Delaware, State of Delawere}   \n210                         {Connecticutt, Connecticut}   \n221           {Bucks County, Bucks County Pennsylvania}   \n267                     {Reading Berks County, Reading}   \n276        {Reading Pennsylvania, Reading Berks County}   \n293                  {Northumberland, Northumb Country}   \n300                           {Lancaster, Philadelphia}   \n473                  {Yorktown, York Town Pennsylvania}   \n477              {York Town Pennsylvania, Pennsylvania}   \n485   {Allegheny County Pennsylvania, Allegan County...   \n506           {The N Lib of Philadelphia, Philadelphia}   \n508   {Berks County Pennsylvania, Pennsylvania Berks...   \n510   {Montgomery County Pennsylvania, Pennsylvania ...   \n513   {Franklin County Pennsylvania, Pennsylvania Fr...   \n517       {Dauphin County, Dauphin County Pennsylvania}   \n522           {Charles Town, Charleston South Carolina}   \n523                 {Lancaster, Lancaster Pennsylvania}   \n528               {Pittsburgh, Pittsburgh Pennsylvania}   \n530   {Lancaster County Pennsylvania, Lancaster County}   \n535                  {Brunswick New Jersey, New Jersey}   \n539                          {St Eustalia, St Eustatia}   \n541           {Berks County Pennsylvania, Berks County}   \n550          {Lancaster, Lancaster County Pennsylvania}   \n552           {Berks County, Bucks County Pennsylvania}   \n563                        {Berks County, Philadelphia}   \n569       {Lancaster County Pennsylvania, Lancaster Co}   \n596                     {Reading Pennsylvania, Reading}   \n597      {Northampton, Northampton County Pennsylvania}   \n599       {Chester County, Chester County Pennsylvaina}   \n600         {Chester County Pennsylvaina, Philadelphia}   \n603                  {Northern Liberties, Philadelphia}   \n604                              {New Jersey, New York}   \n610       {Northumberland, Northum County Pennsylvania}   \n621          {Chambersburgh Pennsylvania, Chambersburg}   \n637       {Chester County, Chester County Pennsylvania}   \n644           {Dauphincoy Pennsylvania, Dauphin County}   \n652            {Cape May New Jersey, Cape May N Jersey}   \n653             {York County Pennsylvania, York County}   \n654       {Cumb County Pennsylvania, Cumberland County}   \n673                          {Delaware, Delaware State}   \n685   {Northampton County Pennsylvania, Northampton ...   \n700   {Mount Holley New Jersey, Mount Holly New Jersey}   \n706    {Allegany County, Allegheny County Pennsylvania}   \n712                            {Kensington, Kensignton}   \n726                 {Burlington New Jersey, Burlington}   \n728                 {Allegany County, Allegheny County}   \n783                {Chester County, Chester and County}   \n784                           {Bordentown, Borden Town}   \n806                           {Germantown, German Town}   \n826                 {Westmoreland County, Westmoreland}   \n836                  {New Jersey, Middlesex New Jersey}   \n853                 {The Northern Libert, Philadelphia}   \n861                       {Lancaster, Lancaster County}   \n862                {Kent Company Delaware, Kent County}   \n872             {Northumberland, Northumberland County}   \n913                  {North Libert, Northern Liberties}   \n914                 {Princeton New Jersey, Prince Town}   \n935                  {Northampton County, Pennsylvania}   \n942                 {Virginia, King George Co Virginia}   \n989                 {Lancaster Pennsylvania, Lancaster}   \n995                   {Wilmington Delaware, Wilmington}   \n996   {Montgomery County, Montgomery County Pennsylv...   \n1009     {Burlington New Jersey, Berlington New Jersey}   \n1019  {Northumberland County Pennsylvania, Northern ...   \n1022            {Northern Liberties, The Northern Libs}   \n1024        {Sundry Pennsylvania, Sunbury Pennsylvania}   \n1025    {Franklin County, Franklin County Pennsylvania}   \n1032             {Church on Philadelphia, Philadelphia}   \n1073  {New Castle County Delaware State, New Castle ...   \n1155      {Berks County Pennsylvania, Berks and County}   \n1156                          {Chester, Chester County}   \n1193                {Westmoreland County, Philadelphia}   \n1197  {Westmoreland County, Westmoreland County Penn...   \n1203            {Pittsburgh, Paxton Tot Dauphin County}   \n1231              {Northumberland County, North County}   \n1234        {Northumberland County, Northampton County}   \n1248               {Northumberland, Northampton County}   \n1259           {New Jersey, Somerset County New Jersey}   \n1264                {York Town Pennsylvania, York Town}   \n1268                           {York Town, York County}   \n1274              {York County Pennsylvania, York Town}   \n28                                {Merchants, Merchant}   \n171                                {Executer, Executor}   \n248                                {Merchant, Marchant}   \n571                  {Ex of William Honeyman, Executor}   \n607   {Adm to Estate of Job Vernon, Administer of th...   \n626   {Ex to the Estate John Holmes, Executor to the...   \n638   {Ex to the Est of Jacob Coleman deceased, Exec...   \n647                             {Junior Broker, Broker}   \n649   {Executor to the Estate Abraham Hull deceased,...   \n689   {Executor to the Estate of Francis Hopkinson d...   \n696   {Admin to the the Estate of Frederick Faring, ...   \n708                   {Esquier, Ex Philadelphia County}   \n712                           {Ship Wright, Shipwright}   \n717    {Guardian to Adam Grier, Guardian to Adam Guier}   \n758   {Ex to the Estate of John Hart Deceased, Execu...   \n763   {Administrator of Daniel Joy Deceased, One of ...   \n781   {Executor to the Estate of Hugh Patton decease...   \n871   {Guadian to George Lawrence Young, Guardian fo...   \n905   {Executer of Samuel Inglis, Executor Samuel In...   \n948   {Administer Estate of Richard Walker Deceased,...   \n963            {Property of Mathematics, Mathematician}   \n1044  {Printer in Trust for Jennet Thompson, Interes...   \n1080  {Trustee for the Use of the Legal Representati...   \n1081  {Administratrix of Alexander McCaraher decease...   \n1140                          {Cordwainder, Cordwainer}   \n1143                                {Esquire, Merchant}   \n1181                          {Shop Keeper, Shopkeeper}   \n1200  {Trust for the Estate of Robert Dill, in trust...   \n1224  {Adm to the Est of William Barrell Decesed, Ad...   \n1259  {Trust for Jacobus Van Eis of Somerset, In tru...   \n\n                                                    new        type  \n14                                Carlisle Pennsylvania        town  \n39                                          Conecticutt        town  \n40                                  New Castle Delaware        town  \n113                                 Philadelphia County        town  \n131                                   State of Delaware        town  \n210                                        Connecticutt        town  \n221                           Bucks County Pennsylvania        town  \n267                                Reading Berks County        town  \n276                                Reading Pennsylvania        town  \n293                                    Northumb Country        town  \n300                                        Philadelphia        town  \n473                              York Town Pennsylvania        town  \n477                              York Town Pennsylvania        town  \n485                       Allegheny County Pennsylvania        town  \n506                           The N Lib of Philadelphia        town  \n508                           Berks County Pennsylvania        town  \n510                      Montgomery County Pennsylvania        town  \n513                        Franklin County Pennsylvania        town  \n517                         Dauphin County Pennsylvania        town  \n522                           Charleston South Carolina        town  \n523                              Lancaster Pennsylvania        town  \n528                             Pittsburgh Pennsylvania        town  \n530                       Lancaster County Pennsylvania        town  \n535                                Brunswick New Jersey        town  \n539                                         St Eustalia        town  \n541                           Berks County Pennsylvania        town  \n550                       Lancaster County Pennsylvania        town  \n552                           Bucks County Pennsylvania        town  \n563                                        Berks County        town  \n569                       Lancaster County Pennsylvania        town  \n596                                Reading Pennsylvania        town  \n597                     Northampton County Pennsylvania        town  \n599                         Chester County Pennsylvaina        town  \n600                         Chester County Pennsylvaina        town  \n603                                  Northern Liberties        town  \n604                                          New Jersey        town  \n610                         Northum County Pennsylvania        town  \n621                          Chambersburgh Pennsylvania        town  \n637                         Chester County Pennsylvania        town  \n644                             Dauphincoy Pennsylvania        town  \n652                                 Cape May New Jersey        town  \n653                            York County Pennsylvania        town  \n654                            Cumb County Pennsylvania        town  \n673                                      Delaware State        town  \n685                     Northampton County Pennsylvania        town  \n700                             Mount Holley New Jersey        town  \n706                       Allegheny County Pennsylvania        town  \n712                                          Kensington        town  \n726                               Burlington New Jersey        town  \n728                                    Allegheny County        town  \n783                                  Chester and County        town  \n784                                         Borden Town        town  \n806                                         German Town        town  \n826                                 Westmoreland County        town  \n836                                Middlesex New Jersey        town  \n853                                 The Northern Libert        town  \n861                                    Lancaster County        town  \n862                               Kent Company Delaware        town  \n872                               Northumberland County        town  \n913                                  Northern Liberties        town  \n914                                Princeton New Jersey        town  \n935                                  Northampton County        town  \n942                             King George Co Virginia        town  \n989                              Lancaster Pennsylvania        town  \n995                                 Wilmington Delaware        town  \n996                      Montgomery County Pennsylvania        town  \n1009                              Burlington New Jersey        town  \n1019                 Northumberland County Pennsylvania        town  \n1022                                 Northern Liberties        town  \n1024                               Sunbury Pennsylvania        town  \n1025                       Franklin County Pennsylvania        town  \n1032                             Church on Philadelphia        town  \n1073                   New Castle County Delaware State        town  \n1155                          Berks County Pennsylvania        town  \n1156                                     Chester County        town  \n1193                                Westmoreland County        town  \n1197                   Westmoreland County Pennsylvania        town  \n1203                          Paxton Tot Dauphin County        town  \n1231                              Northumberland County        town  \n1234                              Northumberland County        town  \n1248                                 Northampton County        town  \n1259                         Somerset County New Jersey        town  \n1264                             York Town Pennsylvania        town  \n1268                                        York County        town  \n1274                           York County Pennsylvania        town  \n28                                            Merchants  occupation  \n171                                            Executer  occupation  \n248                                            Merchant  occupation  \n571                              Ex of William Honeyman  occupation  \n607              Administer of the estate of Job Vernon  occupation  \n626      Executor to the Estate of John Holmes deceased  occupation  \n638    Executor to the Estate of Jacob Coleman deceased  occupation  \n647                                       Junior Broker  occupation  \n649        Executor to the Estate Abraham Hull deceased  occupation  \n689   Executor to the Estate of Francis Hopkinson de...  occupation  \n696   Administrator to Estate of Frederick Faring De...  occupation  \n708                              Ex Philadelphia County  occupation  \n712                                         Ship Wright  occupation  \n717                              Guardian to Adam Grier  occupation  \n758            Executor to Estate of John Hart deceased  occupation  \n763    One of the Administrators of Daniel Joy Deceased  occupation  \n781   Executer to the Estate of Hugh Patton Deceased...  occupation  \n871                  Guardian for George Lawrence Young  occupation  \n905                           Executer of Samuel Inglis  occupation  \n948        Administer Estate of Richard Walker Deceased  occupation  \n963                             Property of Mathematics  occupation  \n1044               Printer in Trust for Jennet Thompson  occupation  \n1080  Trustee for the Use of the Legal Representativ...  occupation  \n1081  Adm of Alexander McCaraher late of Chester Cou...  occupation  \n1140                                        Cordwainder  occupation  \n1143                                           Merchant  occupation  \n1181                                        Shop Keeper  occupation  \n1200             in trust for the Estate of Robert Dill  occupation  \n1224  Administrator to the Estate of William Barrell...  occupation  \n1259  In trust for Jacobus Van Eis of Somerset Count...  occupation  ",
      "text/html": "<div>\n<style scoped>\n    .dataframe tbody tr th:only-of-type {\n        vertical-align: middle;\n    }\n\n    .dataframe tbody tr th {\n        vertical-align: top;\n    }\n\n    .dataframe thead th {\n        text-align: right;\n    }\n</style>\n<table border=\"1\" class=\"dataframe\">\n  <thead>\n    <tr style=\"text-align: right;\">\n      <th></th>\n      <th>old</th>\n      <th>new</th>\n      <th>type</th>\n    </tr>\n  </thead>\n  <tbody>\n    <tr>\n      <th>14</th>\n      <td>{Carlisle Pennsylvania, Carlisle}</td>\n      <td>Carlisle Pennsylvania</td>\n      <td>town</td>\n    </tr>\n    <tr>\n      <th>39</th>\n      <td>{Conecticutt, Connecticut}</td>\n      <td>Conecticutt</td>\n      <td>town</td>\n    </tr>\n    <tr>\n      <th>40</th>\n      <td>{New Castle Delaware, Newcastle Delaware}</td>\n      <td>New Castle Delaware</td>\n      <td>town</td>\n    </tr>\n    <tr>\n      <th>113</th>\n      <td>{Philadelphia County, Philadelphia}</td>\n      <td>Philadelphia County</td>\n      <td>town</td>\n    </tr>\n    <tr>\n      <th>131</th>\n      <td>{State of Delaware, State of Delawere}</td>\n      <td>State of Delaware</td>\n      <td>town</td>\n    </tr>\n    <tr>\n      <th>210</th>\n      <td>{Connecticutt, Connecticut}</td>\n      <td>Connecticutt</td>\n      <td>town</td>\n    </tr>\n    <tr>\n      <th>221</th>\n      <td>{Bucks County, Bucks County Pennsylvania}</td>\n      <td>Bucks County Pennsylvania</td>\n      <td>town</td>\n    </tr>\n    <tr>\n      <th>267</th>\n      <td>{Reading Berks County, Reading}</td>\n      <td>Reading Berks County</td>\n      <td>town</td>\n    </tr>\n    <tr>\n      <th>276</th>\n      <td>{Reading Pennsylvania, Reading Berks County}</td>\n      <td>Reading Pennsylvania</td>\n      <td>town</td>\n    </tr>\n    <tr>\n      <th>293</th>\n      <td>{Northumberland, Northumb Country}</td>\n      <td>Northumb Country</td>\n      <td>town</td>\n    </tr>\n    <tr>\n      <th>300</th>\n      <td>{Lancaster, Philadelphia}</td>\n      <td>Philadelphia</td>\n      <td>town</td>\n    </tr>\n    <tr>\n      <th>473</th>\n      <td>{Yorktown, York Town Pennsylvania}</td>\n      <td>York Town Pennsylvania</td>\n      <td>town</td>\n    </tr>\n    <tr>\n      <th>477</th>\n      <td>{York Town Pennsylvania, Pennsylvania}</td>\n      <td>York Town Pennsylvania</td>\n      <td>town</td>\n    </tr>\n    <tr>\n      <th>485</th>\n      <td>{Allegheny County Pennsylvania, Allegan County...</td>\n      <td>Allegheny County Pennsylvania</td>\n      <td>town</td>\n    </tr>\n    <tr>\n      <th>506</th>\n      <td>{The N Lib of Philadelphia, Philadelphia}</td>\n      <td>The N Lib of Philadelphia</td>\n      <td>town</td>\n    </tr>\n    <tr>\n      <th>508</th>\n      <td>{Berks County Pennsylvania, Pennsylvania Berks...</td>\n      <td>Berks County Pennsylvania</td>\n      <td>town</td>\n    </tr>\n    <tr>\n      <th>510</th>\n      <td>{Montgomery County Pennsylvania, Pennsylvania ...</td>\n      <td>Montgomery County Pennsylvania</td>\n      <td>town</td>\n    </tr>\n    <tr>\n      <th>513</th>\n      <td>{Franklin County Pennsylvania, Pennsylvania Fr...</td>\n      <td>Franklin County Pennsylvania</td>\n      <td>town</td>\n    </tr>\n    <tr>\n      <th>517</th>\n      <td>{Dauphin County, Dauphin County Pennsylvania}</td>\n      <td>Dauphin County Pennsylvania</td>\n      <td>town</td>\n    </tr>\n    <tr>\n      <th>522</th>\n      <td>{Charles Town, Charleston South Carolina}</td>\n      <td>Charleston South Carolina</td>\n      <td>town</td>\n    </tr>\n    <tr>\n      <th>523</th>\n      <td>{Lancaster, Lancaster Pennsylvania}</td>\n      <td>Lancaster Pennsylvania</td>\n      <td>town</td>\n    </tr>\n    <tr>\n      <th>528</th>\n      <td>{Pittsburgh, Pittsburgh Pennsylvania}</td>\n      <td>Pittsburgh Pennsylvania</td>\n      <td>town</td>\n    </tr>\n    <tr>\n      <th>530</th>\n      <td>{Lancaster County Pennsylvania, Lancaster County}</td>\n      <td>Lancaster County Pennsylvania</td>\n      <td>town</td>\n    </tr>\n    <tr>\n      <th>535</th>\n      <td>{Brunswick New Jersey, New Jersey}</td>\n      <td>Brunswick New Jersey</td>\n      <td>town</td>\n    </tr>\n    <tr>\n      <th>539</th>\n      <td>{St Eustalia, St Eustatia}</td>\n      <td>St Eustalia</td>\n      <td>town</td>\n    </tr>\n    <tr>\n      <th>541</th>\n      <td>{Berks County Pennsylvania, Berks County}</td>\n      <td>Berks County Pennsylvania</td>\n      <td>town</td>\n    </tr>\n    <tr>\n      <th>550</th>\n      <td>{Lancaster, Lancaster County Pennsylvania}</td>\n      <td>Lancaster County Pennsylvania</td>\n      <td>town</td>\n    </tr>\n    <tr>\n      <th>552</th>\n      <td>{Berks County, Bucks County Pennsylvania}</td>\n      <td>Bucks County Pennsylvania</td>\n      <td>town</td>\n    </tr>\n    <tr>\n      <th>563</th>\n      <td>{Berks County, Philadelphia}</td>\n      <td>Berks County</td>\n      <td>town</td>\n    </tr>\n    <tr>\n      <th>569</th>\n      <td>{Lancaster County Pennsylvania, Lancaster Co}</td>\n      <td>Lancaster County Pennsylvania</td>\n      <td>town</td>\n    </tr>\n    <tr>\n      <th>596</th>\n      <td>{Reading Pennsylvania, Reading}</td>\n      <td>Reading Pennsylvania</td>\n      <td>town</td>\n    </tr>\n    <tr>\n      <th>597</th>\n      <td>{Northampton, Northampton County Pennsylvania}</td>\n      <td>Northampton County Pennsylvania</td>\n      <td>town</td>\n    </tr>\n    <tr>\n      <th>599</th>\n      <td>{Chester County, Chester County Pennsylvaina}</td>\n      <td>Chester County Pennsylvaina</td>\n      <td>town</td>\n    </tr>\n    <tr>\n      <th>600</th>\n      <td>{Chester County Pennsylvaina, Philadelphia}</td>\n      <td>Chester County Pennsylvaina</td>\n      <td>town</td>\n    </tr>\n    <tr>\n      <th>603</th>\n      <td>{Northern Liberties, Philadelphia}</td>\n      <td>Northern Liberties</td>\n      <td>town</td>\n    </tr>\n    <tr>\n      <th>604</th>\n      <td>{New Jersey, New York}</td>\n      <td>New Jersey</td>\n      <td>town</td>\n    </tr>\n    <tr>\n      <th>610</th>\n      <td>{Northumberland, Northum County Pennsylvania}</td>\n      <td>Northum County Pennsylvania</td>\n      <td>town</td>\n    </tr>\n    <tr>\n      <th>621</th>\n      <td>{Chambersburgh Pennsylvania, Chambersburg}</td>\n      <td>Chambersburgh Pennsylvania</td>\n      <td>town</td>\n    </tr>\n    <tr>\n      <th>637</th>\n      <td>{Chester County, Chester County Pennsylvania}</td>\n      <td>Chester County Pennsylvania</td>\n      <td>town</td>\n    </tr>\n    <tr>\n      <th>644</th>\n      <td>{Dauphincoy Pennsylvania, Dauphin County}</td>\n      <td>Dauphincoy Pennsylvania</td>\n      <td>town</td>\n    </tr>\n    <tr>\n      <th>652</th>\n      <td>{Cape May New Jersey, Cape May N Jersey}</td>\n      <td>Cape May New Jersey</td>\n      <td>town</td>\n    </tr>\n    <tr>\n      <th>653</th>\n      <td>{York County Pennsylvania, York County}</td>\n      <td>York County Pennsylvania</td>\n      <td>town</td>\n    </tr>\n    <tr>\n      <th>654</th>\n      <td>{Cumb County Pennsylvania, Cumberland County}</td>\n      <td>Cumb County Pennsylvania</td>\n      <td>town</td>\n    </tr>\n    <tr>\n      <th>673</th>\n      <td>{Delaware, Delaware State}</td>\n      <td>Delaware State</td>\n      <td>town</td>\n    </tr>\n    <tr>\n      <th>685</th>\n      <td>{Northampton County Pennsylvania, Northampton ...</td>\n      <td>Northampton County Pennsylvania</td>\n      <td>town</td>\n    </tr>\n    <tr>\n      <th>700</th>\n      <td>{Mount Holley New Jersey, Mount Holly New Jersey}</td>\n      <td>Mount Holley New Jersey</td>\n      <td>town</td>\n    </tr>\n    <tr>\n      <th>706</th>\n      <td>{Allegany County, Allegheny County Pennsylvania}</td>\n      <td>Allegheny County Pennsylvania</td>\n      <td>town</td>\n    </tr>\n    <tr>\n      <th>712</th>\n      <td>{Kensington, Kensignton}</td>\n      <td>Kensington</td>\n      <td>town</td>\n    </tr>\n    <tr>\n      <th>726</th>\n      <td>{Burlington New Jersey, Burlington}</td>\n      <td>Burlington New Jersey</td>\n      <td>town</td>\n    </tr>\n    <tr>\n      <th>728</th>\n      <td>{Allegany County, Allegheny County}</td>\n      <td>Allegheny County</td>\n      <td>town</td>\n    </tr>\n    <tr>\n      <th>783</th>\n      <td>{Chester County, Chester and County}</td>\n      <td>Chester and County</td>\n      <td>town</td>\n    </tr>\n    <tr>\n      <th>784</th>\n      <td>{Bordentown, Borden Town}</td>\n      <td>Borden Town</td>\n      <td>town</td>\n    </tr>\n    <tr>\n      <th>806</th>\n      <td>{Germantown, German Town}</td>\n      <td>German Town</td>\n      <td>town</td>\n    </tr>\n    <tr>\n      <th>826</th>\n      <td>{Westmoreland County, Westmoreland}</td>\n      <td>Westmoreland County</td>\n      <td>town</td>\n    </tr>\n    <tr>\n      <th>836</th>\n      <td>{New Jersey, Middlesex New Jersey}</td>\n      <td>Middlesex New Jersey</td>\n      <td>town</td>\n    </tr>\n    <tr>\n      <th>853</th>\n      <td>{The Northern Libert, Philadelphia}</td>\n      <td>The Northern Libert</td>\n      <td>town</td>\n    </tr>\n    <tr>\n      <th>861</th>\n      <td>{Lancaster, Lancaster County}</td>\n      <td>Lancaster County</td>\n      <td>town</td>\n    </tr>\n    <tr>\n      <th>862</th>\n      <td>{Kent Company Delaware, Kent County}</td>\n      <td>Kent Company Delaware</td>\n      <td>town</td>\n    </tr>\n    <tr>\n      <th>872</th>\n      <td>{Northumberland, Northumberland County}</td>\n      <td>Northumberland County</td>\n      <td>town</td>\n    </tr>\n    <tr>\n      <th>913</th>\n      <td>{North Libert, Northern Liberties}</td>\n      <td>Northern Liberties</td>\n      <td>town</td>\n    </tr>\n    <tr>\n      <th>914</th>\n      <td>{Princeton New Jersey, Prince Town}</td>\n      <td>Princeton New Jersey</td>\n      <td>town</td>\n    </tr>\n    <tr>\n      <th>935</th>\n      <td>{Northampton County, Pennsylvania}</td>\n      <td>Northampton County</td>\n      <td>town</td>\n    </tr>\n    <tr>\n      <th>942</th>\n      <td>{Virginia, King George Co Virginia}</td>\n      <td>King George Co Virginia</td>\n      <td>town</td>\n    </tr>\n    <tr>\n      <th>989</th>\n      <td>{Lancaster Pennsylvania, Lancaster}</td>\n      <td>Lancaster Pennsylvania</td>\n      <td>town</td>\n    </tr>\n    <tr>\n      <th>995</th>\n      <td>{Wilmington Delaware, Wilmington}</td>\n      <td>Wilmington Delaware</td>\n      <td>town</td>\n    </tr>\n    <tr>\n      <th>996</th>\n      <td>{Montgomery County, Montgomery County Pennsylv...</td>\n      <td>Montgomery County Pennsylvania</td>\n      <td>town</td>\n    </tr>\n    <tr>\n      <th>1009</th>\n      <td>{Burlington New Jersey, Berlington New Jersey}</td>\n      <td>Burlington New Jersey</td>\n      <td>town</td>\n    </tr>\n    <tr>\n      <th>1019</th>\n      <td>{Northumberland County Pennsylvania, Northern ...</td>\n      <td>Northumberland County Pennsylvania</td>\n      <td>town</td>\n    </tr>\n    <tr>\n      <th>1022</th>\n      <td>{Northern Liberties, The Northern Libs}</td>\n      <td>Northern Liberties</td>\n      <td>town</td>\n    </tr>\n    <tr>\n      <th>1024</th>\n      <td>{Sundry Pennsylvania, Sunbury Pennsylvania}</td>\n      <td>Sunbury Pennsylvania</td>\n      <td>town</td>\n    </tr>\n    <tr>\n      <th>1025</th>\n      <td>{Franklin County, Franklin County Pennsylvania}</td>\n      <td>Franklin County Pennsylvania</td>\n      <td>town</td>\n    </tr>\n    <tr>\n      <th>1032</th>\n      <td>{Church on Philadelphia, Philadelphia}</td>\n      <td>Church on Philadelphia</td>\n      <td>town</td>\n    </tr>\n    <tr>\n      <th>1073</th>\n      <td>{New Castle County Delaware State, New Castle ...</td>\n      <td>New Castle County Delaware State</td>\n      <td>town</td>\n    </tr>\n    <tr>\n      <th>1155</th>\n      <td>{Berks County Pennsylvania, Berks and County}</td>\n      <td>Berks County Pennsylvania</td>\n      <td>town</td>\n    </tr>\n    <tr>\n      <th>1156</th>\n      <td>{Chester, Chester County}</td>\n      <td>Chester County</td>\n      <td>town</td>\n    </tr>\n    <tr>\n      <th>1193</th>\n      <td>{Westmoreland County, Philadelphia}</td>\n      <td>Westmoreland County</td>\n      <td>town</td>\n    </tr>\n    <tr>\n      <th>1197</th>\n      <td>{Westmoreland County, Westmoreland County Penn...</td>\n      <td>Westmoreland County Pennsylvania</td>\n      <td>town</td>\n    </tr>\n    <tr>\n      <th>1203</th>\n      <td>{Pittsburgh, Paxton Tot Dauphin County}</td>\n      <td>Paxton Tot Dauphin County</td>\n      <td>town</td>\n    </tr>\n    <tr>\n      <th>1231</th>\n      <td>{Northumberland County, North County}</td>\n      <td>Northumberland County</td>\n      <td>town</td>\n    </tr>\n    <tr>\n      <th>1234</th>\n      <td>{Northumberland County, Northampton County}</td>\n      <td>Northumberland County</td>\n      <td>town</td>\n    </tr>\n    <tr>\n      <th>1248</th>\n      <td>{Northumberland, Northampton County}</td>\n      <td>Northampton County</td>\n      <td>town</td>\n    </tr>\n    <tr>\n      <th>1259</th>\n      <td>{New Jersey, Somerset County New Jersey}</td>\n      <td>Somerset County New Jersey</td>\n      <td>town</td>\n    </tr>\n    <tr>\n      <th>1264</th>\n      <td>{York Town Pennsylvania, York Town}</td>\n      <td>York Town Pennsylvania</td>\n      <td>town</td>\n    </tr>\n    <tr>\n      <th>1268</th>\n      <td>{York Town, York County}</td>\n      <td>York County</td>\n      <td>town</td>\n    </tr>\n    <tr>\n      <th>1274</th>\n      <td>{York County Pennsylvania, York Town}</td>\n      <td>York County Pennsylvania</td>\n      <td>town</td>\n    </tr>\n    <tr>\n      <th>28</th>\n      <td>{Merchants, Merchant}</td>\n      <td>Merchants</td>\n      <td>occupation</td>\n    </tr>\n    <tr>\n      <th>171</th>\n      <td>{Executer, Executor}</td>\n      <td>Executer</td>\n      <td>occupation</td>\n    </tr>\n    <tr>\n      <th>248</th>\n      <td>{Merchant, Marchant}</td>\n      <td>Merchant</td>\n      <td>occupation</td>\n    </tr>\n    <tr>\n      <th>571</th>\n      <td>{Ex of William Honeyman, Executor}</td>\n      <td>Ex of William Honeyman</td>\n      <td>occupation</td>\n    </tr>\n    <tr>\n      <th>607</th>\n      <td>{Adm to Estate of Job Vernon, Administer of th...</td>\n      <td>Administer of the estate of Job Vernon</td>\n      <td>occupation</td>\n    </tr>\n    <tr>\n      <th>626</th>\n      <td>{Ex to the Estate John Holmes, Executor to the...</td>\n      <td>Executor to the Estate of John Holmes deceased</td>\n      <td>occupation</td>\n    </tr>\n    <tr>\n      <th>638</th>\n      <td>{Ex to the Est of Jacob Coleman deceased, Exec...</td>\n      <td>Executor to the Estate of Jacob Coleman deceased</td>\n      <td>occupation</td>\n    </tr>\n    <tr>\n      <th>647</th>\n      <td>{Junior Broker, Broker}</td>\n      <td>Junior Broker</td>\n      <td>occupation</td>\n    </tr>\n    <tr>\n      <th>649</th>\n      <td>{Executor to the Estate Abraham Hull deceased,...</td>\n      <td>Executor to the Estate Abraham Hull deceased</td>\n      <td>occupation</td>\n    </tr>\n    <tr>\n      <th>689</th>\n      <td>{Executor to the Estate of Francis Hopkinson d...</td>\n      <td>Executor to the Estate of Francis Hopkinson de...</td>\n      <td>occupation</td>\n    </tr>\n    <tr>\n      <th>696</th>\n      <td>{Admin to the the Estate of Frederick Faring, ...</td>\n      <td>Administrator to Estate of Frederick Faring De...</td>\n      <td>occupation</td>\n    </tr>\n    <tr>\n      <th>708</th>\n      <td>{Esquier, Ex Philadelphia County}</td>\n      <td>Ex Philadelphia County</td>\n      <td>occupation</td>\n    </tr>\n    <tr>\n      <th>712</th>\n      <td>{Ship Wright, Shipwright}</td>\n      <td>Ship Wright</td>\n      <td>occupation</td>\n    </tr>\n    <tr>\n      <th>717</th>\n      <td>{Guardian to Adam Grier, Guardian to Adam Guier}</td>\n      <td>Guardian to Adam Grier</td>\n      <td>occupation</td>\n    </tr>\n    <tr>\n      <th>758</th>\n      <td>{Ex to the Estate of John Hart Deceased, Execu...</td>\n      <td>Executor to Estate of John Hart deceased</td>\n      <td>occupation</td>\n    </tr>\n    <tr>\n      <th>763</th>\n      <td>{Administrator of Daniel Joy Deceased, One of ...</td>\n      <td>One of the Administrators of Daniel Joy Deceased</td>\n      <td>occupation</td>\n    </tr>\n    <tr>\n      <th>781</th>\n      <td>{Executor to the Estate of Hugh Patton decease...</td>\n      <td>Executer to the Estate of Hugh Patton Deceased...</td>\n      <td>occupation</td>\n    </tr>\n    <tr>\n      <th>871</th>\n      <td>{Guadian to George Lawrence Young, Guardian fo...</td>\n      <td>Guardian for George Lawrence Young</td>\n      <td>occupation</td>\n    </tr>\n    <tr>\n      <th>905</th>\n      <td>{Executer of Samuel Inglis, Executor Samuel In...</td>\n      <td>Executer of Samuel Inglis</td>\n      <td>occupation</td>\n    </tr>\n    <tr>\n      <th>948</th>\n      <td>{Administer Estate of Richard Walker Deceased,...</td>\n      <td>Administer Estate of Richard Walker Deceased</td>\n      <td>occupation</td>\n    </tr>\n    <tr>\n      <th>963</th>\n      <td>{Property of Mathematics, Mathematician}</td>\n      <td>Property of Mathematics</td>\n      <td>occupation</td>\n    </tr>\n    <tr>\n      <th>1044</th>\n      <td>{Printer in Trust for Jennet Thompson, Interes...</td>\n      <td>Printer in Trust for Jennet Thompson</td>\n      <td>occupation</td>\n    </tr>\n    <tr>\n      <th>1080</th>\n      <td>{Trustee for the Use of the Legal Representati...</td>\n      <td>Trustee for the Use of the Legal Representativ...</td>\n      <td>occupation</td>\n    </tr>\n    <tr>\n      <th>1081</th>\n      <td>{Administratrix of Alexander McCaraher decease...</td>\n      <td>Adm of Alexander McCaraher late of Chester Cou...</td>\n      <td>occupation</td>\n    </tr>\n    <tr>\n      <th>1140</th>\n      <td>{Cordwainder, Cordwainer}</td>\n      <td>Cordwainder</td>\n      <td>occupation</td>\n    </tr>\n    <tr>\n      <th>1143</th>\n      <td>{Esquire, Merchant}</td>\n      <td>Merchant</td>\n      <td>occupation</td>\n    </tr>\n    <tr>\n      <th>1181</th>\n      <td>{Shop Keeper, Shopkeeper}</td>\n      <td>Shop Keeper</td>\n      <td>occupation</td>\n    </tr>\n    <tr>\n      <th>1200</th>\n      <td>{Trust for the Estate of Robert Dill, in trust...</td>\n      <td>in trust for the Estate of Robert Dill</td>\n      <td>occupation</td>\n    </tr>\n    <tr>\n      <th>1224</th>\n      <td>{Adm to the Est of William Barrell Decesed, Ad...</td>\n      <td>Administrator to the Estate of William Barrell...</td>\n      <td>occupation</td>\n    </tr>\n    <tr>\n      <th>1259</th>\n      <td>{Trust for Jacobus Van Eis of Somerset, In tru...</td>\n      <td>In trust for Jacobus Van Eis of Somerset Count...</td>\n      <td>occupation</td>\n    </tr>\n  </tbody>\n</table>\n</div>"
     },
     "metadata": {},
     "output_type": "display_data"
    }
   ],
   "source": [
    "#prepare loan dataset\n",
    "PA_CD_raw = pd.read_excel(\"../data_raw/post1790/PA/PA_post1790_CD.xlsx\",\n",
    "                      header = 11, usecols = 'G, H, I, J, K, L, M, U, V, W, X, Y, Z, AA, AJ, AK, AL, AM, AN, AO, AP')\n",
    "PA_CD_raw.columns = ['First Name', 'Last Name', 'town1', 'state1', 'occupation1', '6p_Dollar', '6p_Cents',\n",
    "                 'First Name.1', 'Last Name.1', 'town2', 'state2', 'occupation2', '6p_def_Dollar', '6p_def_Cents',\n",
    "                 'First Name.2', 'Last Name.2', 'town3', 'state3', 'occupation3', '3p_Dollar', '3p_Cents', ]\n",
    "# unify occupation, town and state columns\n",
    "PA_CD, change_df = combineCols(PA_CD_raw)\n",
    "PA_CD.loc[PA_CD.query('state.isna()').index, 'state'] = 'PA'\n",
    "PA_CD['state_data'] = 'PA'\n",
    "CD_all = pd.concat([CD_all, PA_CD])\n",
    "with pd.option_context('display.max_rows', None,\n",
    "                       'display.max_columns', None,\n",
    "                       'display.precision', 3,\n",
    "                       ):\n",
    "    display(change_df)"
   ],
   "metadata": {
    "collapsed": false,
    "pycharm": {
     "name": "#%%\n"
    }
   }
  },
  {
   "cell_type": "markdown",
   "source": [
    "### Rhode Island"
   ],
   "metadata": {
    "collapsed": false,
    "pycharm": {
     "name": "#%% md\n"
    }
   }
  },
  {
   "cell_type": "code",
   "execution_count": 30,
   "outputs": [
    {
     "name": "stdout",
     "output_type": "stream",
     "text": [
      "town column has multiple unique entries\n",
      "see table at end for new entries\n",
      "reformatting state\n",
      "reformatting occupation\n"
     ]
    },
    {
     "name": "stderr",
     "output_type": "stream",
     "text": [
      "/var/folders/5s/dvrxt95949x1pm_sjxm85lj00000gn/T/ipykernel_13960/1261053380.py:9: SettingWithCopyWarning: \n",
      "A value is trying to be set on a copy of a slice from a DataFrame.\n",
      "Try using .loc[row_indexer,col_indexer] = value instead\n",
      "\n",
      "See the caveats in the documentation: https://pandas.pydata.org/pandas-docs/stable/user_guide/indexing.html#returning-a-view-versus-a-copy\n",
      "  RI_CD['state_data'] = 'RI'\n"
     ]
    },
    {
     "data": {
      "text/plain": "                                   old              new  type\n26             {Gloucester, Glocester}       Gloucester  town\n371          {Chalestown, Charlestown}      Charlestown  town\n435  {North Kingston, North Kingstone}  North Kingstone  town\n462  {North Kingston, North Kingstown}  North Kingstown  town\n499           {Smithfeild, Smithfield}       Smithfeild  town",
      "text/html": "<div>\n<style scoped>\n    .dataframe tbody tr th:only-of-type {\n        vertical-align: middle;\n    }\n\n    .dataframe tbody tr th {\n        vertical-align: top;\n    }\n\n    .dataframe thead th {\n        text-align: right;\n    }\n</style>\n<table border=\"1\" class=\"dataframe\">\n  <thead>\n    <tr style=\"text-align: right;\">\n      <th></th>\n      <th>old</th>\n      <th>new</th>\n      <th>type</th>\n    </tr>\n  </thead>\n  <tbody>\n    <tr>\n      <th>26</th>\n      <td>{Gloucester, Glocester}</td>\n      <td>Gloucester</td>\n      <td>town</td>\n    </tr>\n    <tr>\n      <th>371</th>\n      <td>{Chalestown, Charlestown}</td>\n      <td>Charlestown</td>\n      <td>town</td>\n    </tr>\n    <tr>\n      <th>435</th>\n      <td>{North Kingston, North Kingstone}</td>\n      <td>North Kingstone</td>\n      <td>town</td>\n    </tr>\n    <tr>\n      <th>462</th>\n      <td>{North Kingston, North Kingstown}</td>\n      <td>North Kingstown</td>\n      <td>town</td>\n    </tr>\n    <tr>\n      <th>499</th>\n      <td>{Smithfeild, Smithfield}</td>\n      <td>Smithfeild</td>\n      <td>town</td>\n    </tr>\n  </tbody>\n</table>\n</div>"
     },
     "execution_count": 30,
     "metadata": {},
     "output_type": "execute_result"
    }
   ],
   "source": [
    "#prepare loan dataset\n",
    "RI_CD_raw = pd.read_excel(\"../data_raw/post1790/RI/T653_Rhode_Island_CD.xlsx\",\n",
    "                      header = 11, usecols = 'G, H, I, J, K, L, M, U, V, W, X, Y, Z, AA, AI, AJ, AK, AL, AM, AN, AO')\n",
    "RI_CD_raw.columns = ['First Name', 'Last Name', 'town1', 'state1', 'occupation1', '6p_Dollar', '6p_Cents',\n",
    "                     'First Name.1', 'Last Name.1', 'town2', 'state2', 'occupation2', '6p_def_Dollar', '6p_def_Cents',\n",
    "                     'First Name.2', 'Last Name.2', 'town3', 'state3', 'occupation3', '3p_Dollar', '3p_Cents', ]\n",
    "RI_CD, change_df = combineCols(RI_CD_raw)\n",
    "RI_CD.loc[RI_CD.query('state.isna()').index, 'state'] = 'RI'\n",
    "RI_CD['state_data'] = 'RI'\n",
    "CD_all = pd.concat([CD_all, RI_CD])\n",
    "change_df"
   ],
   "metadata": {
    "collapsed": false,
    "pycharm": {
     "name": "#%%\n"
    }
   }
  },
  {
   "cell_type": "code",
   "execution_count": 31,
   "outputs": [
    {
     "name": "stdout",
     "output_type": "stream",
     "text": [
      "reformatting town\n",
      "reformatting state\n",
      "reformatting occupation\n"
     ]
    },
    {
     "name": "stderr",
     "output_type": "stream",
     "text": [
      "/var/folders/5s/dvrxt95949x1pm_sjxm85lj00000gn/T/ipykernel_13960/4154184335.py:9: SettingWithCopyWarning: \n",
      "A value is trying to be set on a copy of a slice from a DataFrame.\n",
      "Try using .loc[row_indexer,col_indexer] = value instead\n",
      "\n",
      "See the caveats in the documentation: https://pandas.pydata.org/pandas-docs/stable/user_guide/indexing.html#returning-a-view-versus-a-copy\n",
      "  RI_ASD['state_data'] = 'RI'\n"
     ]
    },
    {
     "data": {
      "text/plain": "Empty DataFrame\nColumns: [old, new, type]\nIndex: []",
      "text/html": "<div>\n<style scoped>\n    .dataframe tbody tr th:only-of-type {\n        vertical-align: middle;\n    }\n\n    .dataframe tbody tr th {\n        vertical-align: top;\n    }\n\n    .dataframe thead th {\n        text-align: right;\n    }\n</style>\n<table border=\"1\" class=\"dataframe\">\n  <thead>\n    <tr style=\"text-align: right;\">\n      <th></th>\n      <th>old</th>\n      <th>new</th>\n      <th>type</th>\n    </tr>\n  </thead>\n  <tbody>\n  </tbody>\n</table>\n</div>"
     },
     "execution_count": 31,
     "metadata": {},
     "output_type": "execute_result"
    }
   ],
   "source": [
    "#prepare loan dataset\n",
    "RI_ASD_raw = pd.read_excel(\"../data_raw/post1790/RI/T653_Rhode_Island_ASD.xlsx\",\n",
    "                          header = 11, usecols = 'H, I, J, K, L, N, O, X, Y, Z, AA, AB, AD, AE, AN, AO, AP, AQ, AR, AT, AU')\n",
    "RI_ASD_raw.columns = ['First Name', 'Last Name', 'town1', 'state1', 'occupation1', '6p_Dollar', '6p_Cents',\n",
    "                     'First Name.1', 'Last Name.1', 'town2', 'state2', 'occupation2', '6p_def_Dollar', '6p_def_Cents',\n",
    "                     'First Name.2', 'Last Name.2', 'town3', 'state3', 'occupation3', '3p_Dollar', '3p_Cents', ]\n",
    "RI_ASD, change_df = combineCols(RI_ASD_raw)\n",
    "RI_ASD.loc[RI_ASD.query('state.isna()').index, 'state'] = 'RI'\n",
    "RI_ASD['state_data'] = 'RI'\n",
    "ASD_all = pd.concat([CD_all, RI_ASD])\n",
    "change_df"
   ],
   "metadata": {
    "collapsed": false,
    "pycharm": {
     "name": "#%%\n"
    }
   }
  },
  {
   "cell_type": "markdown",
   "source": [
    "### South Carolina"
   ],
   "metadata": {
    "collapsed": false,
    "pycharm": {
     "name": "#%% md\n"
    }
   }
  },
  {
   "cell_type": "code",
   "execution_count": 33,
   "outputs": [
    {
     "name": "stdout",
     "output_type": "stream",
     "text": [
      "town column has multiple unique entries\n",
      "see table at end for new entries\n",
      "reformatting state\n",
      "occupation column has multiple unique entries\n",
      "see table at end for new entries\n"
     ]
    },
    {
     "name": "stderr",
     "output_type": "stream",
     "text": [
      "/var/folders/5s/dvrxt95949x1pm_sjxm85lj00000gn/T/ipykernel_13960/3712008378.py:9: SettingWithCopyWarning: \n",
      "A value is trying to be set on a copy of a slice from a DataFrame.\n",
      "Try using .loc[row_indexer,col_indexer] = value instead\n",
      "\n",
      "See the caveats in the documentation: https://pandas.pydata.org/pandas-docs/stable/user_guide/indexing.html#returning-a-view-versus-a-copy\n",
      "  SC_CD['state_data'] = 'SC'\n"
     ]
    },
    {
     "data": {
      "text/plain": "                                                   old  \\\n50                            {Camden Planter, Camden}   \n94                                   {Peedee, Pee Dee}   \n270                            {Long Cames, Long Cane}   \n292                           {Charleston, Charlestom}   \n45   {as Executor to Henry Coram, as Executor to Jo...   \n50   {as Executor Ely Kershaw, Planter as Executor ...   \n182          {Philip Hawkins, Executor Philip Hawkins}   \n256  {as Guardian to Mary Deborah L. Gowdey, Guardi...   \n305                  {Merchants, Charleston Merchants}   \n383              {Physician, Assignee of James Simons}   \n\n                                       new        type  \n50                          Camden Planter        town  \n94                                 Pee Dee        town  \n270                             Long Cames        town  \n292                             Charleston        town  \n45           as Executor to John Couturier  occupation  \n50         Planter as Executor Ely Kershaw  occupation  \n182                Executor Philip Hawkins  occupation  \n256  as Guardian to Mary Deborah L. Gowdey  occupation  \n305                   Charleston Merchants  occupation  \n383               Assignee of James Simons  occupation  ",
      "text/html": "<div>\n<style scoped>\n    .dataframe tbody tr th:only-of-type {\n        vertical-align: middle;\n    }\n\n    .dataframe tbody tr th {\n        vertical-align: top;\n    }\n\n    .dataframe thead th {\n        text-align: right;\n    }\n</style>\n<table border=\"1\" class=\"dataframe\">\n  <thead>\n    <tr style=\"text-align: right;\">\n      <th></th>\n      <th>old</th>\n      <th>new</th>\n      <th>type</th>\n    </tr>\n  </thead>\n  <tbody>\n    <tr>\n      <th>50</th>\n      <td>{Camden Planter, Camden}</td>\n      <td>Camden Planter</td>\n      <td>town</td>\n    </tr>\n    <tr>\n      <th>94</th>\n      <td>{Peedee, Pee Dee}</td>\n      <td>Pee Dee</td>\n      <td>town</td>\n    </tr>\n    <tr>\n      <th>270</th>\n      <td>{Long Cames, Long Cane}</td>\n      <td>Long Cames</td>\n      <td>town</td>\n    </tr>\n    <tr>\n      <th>292</th>\n      <td>{Charleston, Charlestom}</td>\n      <td>Charleston</td>\n      <td>town</td>\n    </tr>\n    <tr>\n      <th>45</th>\n      <td>{as Executor to Henry Coram, as Executor to Jo...</td>\n      <td>as Executor to John Couturier</td>\n      <td>occupation</td>\n    </tr>\n    <tr>\n      <th>50</th>\n      <td>{as Executor Ely Kershaw, Planter as Executor ...</td>\n      <td>Planter as Executor Ely Kershaw</td>\n      <td>occupation</td>\n    </tr>\n    <tr>\n      <th>182</th>\n      <td>{Philip Hawkins, Executor Philip Hawkins}</td>\n      <td>Executor Philip Hawkins</td>\n      <td>occupation</td>\n    </tr>\n    <tr>\n      <th>256</th>\n      <td>{as Guardian to Mary Deborah L. Gowdey, Guardi...</td>\n      <td>as Guardian to Mary Deborah L. Gowdey</td>\n      <td>occupation</td>\n    </tr>\n    <tr>\n      <th>305</th>\n      <td>{Merchants, Charleston Merchants}</td>\n      <td>Charleston Merchants</td>\n      <td>occupation</td>\n    </tr>\n    <tr>\n      <th>383</th>\n      <td>{Physician, Assignee of James Simons}</td>\n      <td>Assignee of James Simons</td>\n      <td>occupation</td>\n    </tr>\n  </tbody>\n</table>\n</div>"
     },
     "execution_count": 33,
     "metadata": {},
     "output_type": "execute_result"
    }
   ],
   "source": [
    "#prepare loan dataset\n",
    "SC_CD_raw = pd.read_excel(\"../data_raw/post1790/SC/Post_1790_South_Carolina_CD.xlsx\",\n",
    "                      header = 11, usecols = 'D, E, F, G, H, M, N, S, T, U, V, W, AB, AC, AH, AI, AJ, AK, AL, AQ, AR')\n",
    "SC_CD_raw.columns = ['First Name', 'Last Name', 'town1', 'state1', 'occupation1', '6p_Dollar', '6p_Cents',\n",
    "                 'First Name.1', 'Last Name.1', 'town2', 'state2', 'occupation2', '6p_def_Dollar', '6p_def_Cents',\n",
    "                 'First Name.2', 'Last Name.2', 'town3', 'state3', 'occupation3', '3p_Dollar', '3p_Cents', ]\n",
    "SC_CD, change_df = combineCols(SC_CD_raw)\n",
    "SC_CD.loc[SC_CD.query('state.isna()').index, 'state'] = 'SC'\n",
    "SC_CD['state_data'] = 'SC'\n",
    "CD_all = pd.concat([CD_all, SC_CD])\n",
    "change_df"
   ],
   "metadata": {
    "collapsed": false,
    "pycharm": {
     "name": "#%%\n"
    }
   }
  },
  {
   "cell_type": "code",
   "execution_count": 37,
   "outputs": [
    {
     "name": "stderr",
     "output_type": "stream",
     "text": [
      "/var/folders/5s/dvrxt95949x1pm_sjxm85lj00000gn/T/ipykernel_13960/2385065181.py:11: SettingWithCopyWarning: \n",
      "A value is trying to be set on a copy of a slice from a DataFrame.\n",
      "Try using .loc[row_indexer,col_indexer] = value instead\n",
      "\n",
      "See the caveats in the documentation: https://pandas.pydata.org/pandas-docs/stable/user_guide/indexing.html#returning-a-view-versus-a-copy\n",
      "  SC_ASD['state_data'] = 'SC'\n"
     ]
    }
   ],
   "source": [
    "#prepare loan dataset\n",
    "SC_ASD_raw = pd.read_excel(\"../data_raw/post1790/SC/Post_1790_South_Carolina_ASD_transfers_removed.xlsx\", header = 11,\n",
    "                       usecols = 'D, E, F, G, H, M, N, O')\n",
    "SC_ASD_raw.columns = ['First Name', 'Last Name', 'town', 'state', 'occupation', '6p_Dollar', '6p_def_Dollar','3p_Dollar']\n",
    "for col in ['6p_', '6p_def_', '3p_']:\n",
    "    SC_ASD_raw[col+'Cents'] = SC_ASD_raw[col+'Dollar'] - np.round(SC_ASD_raw[col+'Dollar'], 0)\n",
    "    SC_ASD_raw[col+'Dollar'] = np.round(SC_ASD_raw['6p_Dollar'], 0)\n",
    "SC_ASD = SC_ASD_raw[['6p_Dollar', '6p_Cents', '6p_def_Dollar', '6p_def_Cents', '3p_Dollar', '3p_Cents',\n",
    "                     'town', 'state', 'occupation']]\n",
    "SC_ASD.loc[SC_ASD.query('state.isna()').index, 'state'] = 'SC'\n",
    "SC_ASD['state_data'] = 'SC'\n",
    "ASD_all = pd.concat([ASD_all, SC_ASD])"
   ],
   "metadata": {
    "collapsed": false,
    "pycharm": {
     "name": "#%%\n"
    }
   }
  },
  {
   "cell_type": "markdown",
   "source": [
    "### Virginia"
   ],
   "metadata": {
    "collapsed": false,
    "pycharm": {
     "name": "#%% md\n"
    }
   }
  },
  {
   "cell_type": "code",
   "execution_count": 76,
   "outputs": [
    {
     "data": {
      "text/plain": "'\\nVA CD not possible atm\\n'"
     },
     "execution_count": 76,
     "metadata": {},
     "output_type": "execute_result"
    }
   ],
   "source": [
    "\"\"\"\n",
    "VA CD not possible atm\n",
    "\"\"\""
   ],
   "metadata": {
    "collapsed": false,
    "pycharm": {
     "name": "#%%\n"
    }
   }
  },
  {
   "cell_type": "code",
   "execution_count": 39,
   "outputs": [
    {
     "name": "stdout",
     "output_type": "stream",
     "text": [
      "town column has multiple unique entries\n",
      "see table at end for new entries\n",
      "reformatting state\n",
      "occupation column has multiple unique entries\n",
      "see table at end for new entries\n"
     ]
    },
    {
     "name": "stderr",
     "output_type": "stream",
     "text": [
      "/var/folders/5s/dvrxt95949x1pm_sjxm85lj00000gn/T/ipykernel_13960/1402671458.py:11: SettingWithCopyWarning: \n",
      "A value is trying to be set on a copy of a slice from a DataFrame.\n",
      "Try using .loc[row_indexer,col_indexer] = value instead\n",
      "\n",
      "See the caveats in the documentation: https://pandas.pydata.org/pandas-docs/stable/user_guide/indexing.html#returning-a-view-versus-a-copy\n",
      "  VA_ASD.loc[VA_ASD.query('state.isna()').index, 'state'] = 'VA'\n",
      "/var/folders/5s/dvrxt95949x1pm_sjxm85lj00000gn/T/ipykernel_13960/1402671458.py:12: SettingWithCopyWarning: \n",
      "A value is trying to be set on a copy of a slice from a DataFrame.\n",
      "Try using .loc[row_indexer,col_indexer] = value instead\n",
      "\n",
      "See the caveats in the documentation: https://pandas.pydata.org/pandas-docs/stable/user_guide/indexing.html#returning-a-view-versus-a-copy\n",
      "  VA_ASD['state_data'] = 'VA'\n"
     ]
    },
    {
     "data": {
      "text/plain": "                                                   old  \\\n0            {The Town Petersburg, Town of Petersburg}   \n1                         {City of Richmond, Richmond}   \n2                {Dinwiddie County, Dinwiddie Country}   \n3    {Town of Petersbung, The Town Petersburg, Town...   \n4                     {Halifox County, Halifax County}   \n5                     {Petersbung, Town of Petersburg}   \n6    {City of Richmond, Richmond, The City of Richm...   \n8              {Rockbridge Country, Rockbridge County}   \n9              {Buckingham Country, Buckingham County}   \n10             {Rocksbridge County, Rockbridge County}   \n11                     {Louisa County, Louisa Country}   \n13                 {Culpeper County, Culpepper County}   \n18                   {Mecklenburg County, Mecklenburg}   \n21   {Frederucksburg, The Town of Fredericksburg, F...   \n33   {Frederickburg, Fredericksburg, The Town of Fr...   \n35          {The Town of York, The town of York, York}   \n37                     {Frederickburg, Fredericksburg}   \n39                     {B Norfolk, Borough of Norfolk}   \n41   {Alexandria, The Town of Alexandria, The Town ...   \n42                         {Massachusetts, Manchester}   \n45                          {Amelia Co, Amelia County}   \n54   {South Hampton County, S Hampton County, South...   \n55   {Manchester, Town of Manchester, The Town of M...   \n58                    {Richmond, The City of Richmond}   \n60                         {Stafford County, Stafford}   \n61   {Westmoreland County, Westmoreland Co, Westmor...   \n62      {York Town Virginia, York Town, York Virginia}   \n64   {City of Richmond, Richmond, The city of Richm...   \n65                {City of Philadelphia, Philadelphia}   \n69                  {Gloster County, Glocester County}   \n75   {Botetort Co, Botetourt County, Baltimore County}   \n76                          {Borough Norfolk, Norfolk}   \n80            {Williamsburg, The City of Williamsburg}   \n88               {City of Williamsburg, Williammsburg}   \n93                  {Rockbridge Co, Rockbridge County}   \n97      {Rockbridge Co, Rockbridge, Rockbridge County}   \n101                       {Warwick Co, Warwick County}   \n102                             {York Co, York County}   \n105  {Isle Wight County, Wight Co, Isle of Wight Co...   \n110    {County of Hanover, Hanover Co, Hanover County}   \n113          {Loudon County, London, County of London}   \n114  {Petersburg, Town of Petersberg, Town of Peter...   \n115                   {Alexandria, Town of Alexandria}   \n118             {Charles City County, Charles City Co}   \n120       {City of London, London, The City of London}   \n124                   {Petersburg, Town of Petersburg}   \n128         {Glocester Co, Gloster Co, Gloster County}   \n132                       {Bedford Co, Bedford County}   \n134  {Northampton, NorthHampton County, Northampton...   \n135                     {Campbell Co, Campbell County}   \n137  {New Kent Co, New Kent County Now of Goochland...   \n143                           {Southfield, Smithfield}   \n144  {South Hampton County, South Hampton, South Ha...   \n145                   {Portsmouth, Town of Portsmouth}   \n148                         {B Norfolk, Bo of Norfolk}   \n150           {South Hampton County, South Hampton Co}   \n158           {City of Richmond, The City of Richmond}   \n161                  {City of Richmond, City Richmond}   \n162                 {City of Willamburg, Williamsburg}   \n163  {South Hampton County, North Hampton County, N...   \n164  {Richmond, The City of Richmond, The city of R...   \n165  {Town of Machester, Town of Manchester, The To...   \n166                {Northampton, North Hampton County}   \n169                  {King George, King George County}   \n170                     {K George, King George County}   \n172           {New Kent, New Kent Co, New Kent County}   \n174       {The Town of Alexandria, Town of Alexandria}   \n175           {Town of Fredericksburg, Fredericksburg}   \n176                           {Essex Co, Essex County}   \n177                       {N Carolina, North Carolina}   \n179                     {Powhatan County, Powhatan Co}   \n181                     {Caroline Co, Caroline County}   \n182                       {Hanover Co, Hanover County}   \n183         {Charles City County, Charles City and Co}   \n184                       {Fayette Co, Fayette County}   \n185                           {Surry Co, Surry County}   \n188                       {City of New York, New York}   \n189                 {Cumberland County, Cumberland Co}   \n193  {The Town of New York, City of New York, New Y...   \n195    {Hanover, Excutor Bennet White, Hanover County}   \n200                   {Goochland County, Goochland Co}   \n201     {Bo Norfolk, B of Norfolk, Borough of Norfolk}   \n202                    {Botetourt County, Botetart Co}   \n205   {Amherst County, Albemarle Co, Albemarle County}   \n206                       {Amherst County, Amherst Co}   \n207       {Hanover Co, Hanover County, Hamover County}   \n209                         {Louisa County, Louisa Co}   \n213                         {Orange Co, Orange County}   \n216  {Dinwiddie County, Dinwiddle County, Dinwiddie...   \n220             {Dumpries, Dumfries, Town of Dumfries}   \n222                       {Augusta County, Augusta Co}   \n225                    {Rockbridge, Rockbridge County}   \n226                  {City of Richmond, Richmond City}   \n230               {Petersburg, The Town of Petersburg}   \n233                          {Cincinnati, Chincinnati}   \n234                       {Henrico County, Henrico Co}   \n235               {City of Williamsburg, Williamsburg}   \n237                 {James City Co, James City County}   \n238               {The Town of Portsmouth, Portsmouth}   \n244                   {Frederick Co, Frederick County}   \n247    {Town of Fredericksburg, Town of Frederickburg}   \n253    {State of New York, City of New York, New York}   \n256         {King and Queen County, King and Queen Co}   \n262  {Petersburg, Town of Petersburg, The Town of P...   \n264                       {Accomac Co, Accomac County}   \n265                   {Henrico County, Hanover County}   \n268  {Town of Falsmouth Rappa, Town of Falmouth, Fa...   \n273      {Rockbridge Co, R Bridge County, Rock Bridge}   \n275  {Botetourt Co, Botetourt County, Botetort County}   \n276                       {Dumfries, Town of Dumfries}   \n278      {N Kent County, New Kent Co, New Kent County}   \n279                             {Baltimire, Baltimore}   \n281                       {Diwiddie, Dinwiddie County}   \n282    {Dinwiddie, Dinwiddie County, Denwiddle County}   \n284  {The County of Carolina, Caroline Co, Carolina...   \n286         {King and Queen County, King and queen Co}   \n287                  {Fairfax, Alexandria, Fairfax Co}   \n289           {Prince George County, Prince George Co}   \n291                      {Charlotte County, Charlotte}   \n294                {Fairfax, Fairfax County, Fairfaux}   \n295                {Chesterfield County, Chesterfield}   \n299          {Philadelphia (Petersburg), Philadelphia}   \n303  {North Hampton County, N Hampton County, North...   \n304        {Town of Hampton Now of Norfolk B, Hampton}   \n308                           {Winchester, Manchester}   \n309                     {Town of Baltimore, Baltimore}   \n311           {City of Richmond, City of Williamsburg}   \n312  {North Hampton, N Hampton County, Northampton Co}   \n313  {Fairfax Country, Fairfax County, Fairfox County}   \n318                              {York Virginia, York}   \n327                    {Annapolis Maryland, Annapolis}   \n331                               {Caroline, Carolina}   \n335             {King William County, King William Co}   \n336                        {Henrico County, Henico Co}   \n341              {Prince Edward County, Prince Edward}   \n342              {Accomac Co, Accomac, Accomac County}   \n345       {Fairfax Co, Fairfax County, Fairfox County}   \n349                   {Albemarle Co, Albemarle County}   \n352           {Prince Edward Co, Prince Edward County}   \n353        {Bo Norfolk, Norfolk B, Borough of Norfolk}   \n354       {Hanover Co, Henrico County, Hanover County}   \n357                 {Buckingham Co, Buckingham County}   \n358                          {Town of York, York Town}   \n367     {Culpeper County, Culpeper Co, Culpper County}   \n369                      {Goochland County, Goochland}   \n370                     {Fauquier Co, Fauquier County}   \n373    {Caroline County, Caroline Co, Carolina County}   \n376        {Foug County, Fauquier Co, Fauquier County}   \n379                {Town of York, York Virginia, York}   \n380                            {Peterburg, Petersburg}   \n381  {County of Richmond, Richmond County, Richmond...   \n386    {Henrico County, County of Henrico, Henrico Co}   \n390    {Halifax Co, County of Halifox, Halifax County}   \n391  {County of Prince Edward, Prince Edward Co, Pr...   \n397    {Hanover Co, County of Hanover, Hanover County}   \n400                   {The Town of York, Town of York}   \n402               {Williamsburg, City ot Williamsburg}   \n406  {Rockbridge Co, County of Rockbridge, Rockbridge}   \n409  {Rockbridge Co, County of Rockbridge, Rockbrid...   \n410  {Powhatan County, County of Powhatan, Powhatan...   \n415                          {New York City, New York}   \n417  {County of Buckingham, Williamsburg, Buckingha...   \n419    {County of Warwick, Warwick Co, Warwick County}   \n426  {Botetort Co, County of Botetourt, Botefourt C...   \n428  {Ann Selden and Thomas Fitzhugh Executor of Th...   \n431    {County of Augusta, Augusta County, Augusta Co}   \n435                          {Alexanderia, Alexandria}   \n437    {Fairfax Co, County of Fairfax, Fairfax County}   \n440                {County of Fairfax, Fairfax County}   \n446                   {Dinwiddie County, Dinwiddie Co}   \n447      {Hanover Co, Hanover County, City of Hanover}   \n451       {Orange Co, County of Orange, Orange County}   \n453  {Charlotte County, County of Chartotte, Charlo...   \n458       {Amelia Co, County of Amelia, Amelia County}   \n460  {County of Nottoway, Nottoway Co, Nottoway Cou...   \n463        {Bo Norfolk, B Norfolk, Borough of Norfolk}   \n466  {County of Prince George, Prince Edward County...   \n467  {Sullivan Co South Western Territory, Sullivan...   \n469       {County of Amelia, Ameila Co, Amelia County}   \n472  {Culpeper County, Culpeper Co, County of Culpe...   \n475  {Dinwiddie County, County of Dinwiddle, Dinwid...   \n477  {County of Albemarle, Albemarle Co, Albemarle ...   \n478             {Western Jerritory, Western Territory}   \n482  {County of Caroline, Caroline Co, Carolina Cou...   \n486       {Louisa County, County of Louisa, Lousia Co}   \n487                     {Bo Of Norfolk, Bo of Norfolk}   \n490          {Surry Co, Surry County, County of Surry}   \n492                                 {Suffolk, Sulfolk}   \n493     {County of Brunswick, Brunswick, Brunswick Co}   \n495  {County of Elizabeth City, Elizabeth City Coun...   \n496    {Berkley County, County of Berkley, Berkley Co}   \n497                    {Goodland Co, Goochland County}   \n502   {Accomack County, County of Accomac, Accomac Co}   \n503           {Culpeper County, Culpeper Co, Culpepar}   \n506          {County of Essex, Essex Co, Essex County}   \n514  {Culpeper in Trust for James Duncanson, Culpep...   \n519          {District of Kentucky, District Kentucky}   \n523  {Montogomery County, Montgomerie County, Montg...   \n529  {King and Queen County, King and Quin Co, King...   \n541                {Bo of Norfolk, Borough of Norfolk}   \n543                       {Berkley County, Beckley Co}   \n546                  {City of New York, City New York}   \n547        {Amhert County, Amherst County, Amherst Co}   \n549  {Greenbrier Co, Greenbrier County, Greenbier C...   \n550                      {Augusta County, Auguston Co}   \n562              {City of Williamsburge, Williamsburg}   \n566                     {Caroline County, Caroline Co}   \n572            {Executor of Turner Southall, Southall}   \n573                   {Patrick and Co, Patrick County}   \n574     {Culpeper County, Culpeper, White Culpeper Co}   \n583  {Halifax North Carolina, Halifax N Corolina, H...   \n594               {Alexandria, The Town of Alexandria}   \n595             {N Kent, New Kent Co, New Kent County}   \n597                {City of Richmond, Richmond London}   \n598                  {Fredericksburge, Fredericksburg}   \n599   {Glocester Co, Glouchester Co, Glocester County}   \n602              {State of Pennsylvania, Pennsylvania}   \n605                         {Accomack County, Accomac}   \n608  {Frederick Co, Frederick County, Fredericksbur...   \n611      {Alexanderia, Alexandria, Town of Alexandria}   \n612        {Jefferson County, Jefferson Co, Jefferson}   \n617              {Augusta, Augusta County, Augusta Co}   \n618        {Brunswick County, Burnswick, Brunswick Co}   \n621             {Accomack County, Accomac, Accomac Co}   \n622  {Shenandoah Co, Augusta Shenandoah, Shenandoah...   \n624       {Northampton, North Hampton, Northampton Co}   \n625                    {James City, James City County}   \n626                           {Henry Co, Henry County}   \n628                      {Lancaster, Lancaster County}   \n632        {Lunenburg County, Lunenburg Co, Lunenburg}   \n633  {George Accomac Co, King and Queen County, Kin...   \n634  {King and Queen County, King and Queen Co, Kin...   \n635                        {Richmond County, Richmond}   \n638                            {Louisa County, Louisa}   \n639           {Richmond County, Richmond, Richmond Co}   \n640           {Caroline Co, Caroline, Caroline County}   \n641        {Albemarle, Albemarle Co, Albemarle County}   \n644  {North Hampton, North Hampton County, Northamp...   \n645  {Fredricksburg, Town of Fredericksberg, Freder...   \n649               {Taug, Fauquier Co, Fauquier County}   \n650                  {Amlia Co, Amelia, Amelia County}   \n651    {Rockbridge, Rock Bridge Co, Rockbridge County}   \n652                 {Loudon County, London, London Co}   \n653                        {Fauquire, Fauquier County}   \n656            {Borough County, Bo Norfolk, B Norfolk}   \n657  {Falmouth, Town of Falmouth, Town of Falmouth ...   \n658           {Powhatan County, Powhatan Co, Powhatan}   \n659        {Isle Wight Co, Isle of Wright, Isle Wight}   \n660                       {Ohio Co, Ohio, Ohio County}   \n661            {Caroline, Caroline Co, Carolin County}   \n665         {Richmond County, Richmond, Richmond City}   \n666          {Botetort Co, Botelort, Botetourt County}   \n668        {Lancaster, Lancaster County, Lancaster Co}   \n669                 {Orange Co, Orange County, Orange}   \n671              {Mathews, Matthew Co, Matthew County}   \n672               {Halifax Co, Senior, Halifax County}   \n673           {Campbell Co, Campbell County, Campbell}   \n674                          {Hanover, Hanover County}   \n675                          {New York, City New York}   \n676              {Berkley County, Berkley Co, Berkley}   \n677     {Greenbrier Co, Greenbrier, Greenbrier County}   \n679                          {Hampton, Fredericksburg}   \n681                         {South Hampton, S Hampton}   \n682            {Newkent County, New Kent, New Kent Co}   \n683                    {Fredricksburg, Fredericksburg}   \n684           {Campball, Campbell Co, Campbell County}   \n685                 {Louden, Loudon County, Loudon Co}   \n687  {Prince Edmund Co, Prince Edward County, Princ...   \n693                            {Amelia, Amelia County}   \n695              {Berkley County, Barkley, Berkley Co}   \n698           {George Town, Geo, George Town Maryland}   \n699        {George Town, George Town Maryland, George}   \n703        {Frederick Co, Frederick County, Frederick}   \n715              {The County of Carolina, Caroline Co}   \n716                              {Essex, Essex County}   \n717  {King William County, King William, King Willi...   \n721                         {New Kent, Warwick County}   \n722                               {London, Petersburg}   \n727                          {N Kent, New Kent County}   \n728    {Frederickburg County, Frederick, Frederick Co}   \n741              {Hanover Co, Hanover County, Hanover}   \n742             {Loudon County, London, London County}   \n744                   {Petersberg, Town of Petersburg}   \n750        {City of Richmond, Richmond, City Richmond}   \n758   {Borough Norfolk, b Norfolk, Borough of Norfolk}   \n759      {Glouchester County, Gloster County, Gloster}   \n764  {King and Queen Coventy, King and Queen County...   \n766      {Norfolk County, Norwick County, Bar Norfolk}   \n777                                 {London, Richmond}   \n779               {Glouchester County, Gloster County}   \n785              {King and Queen County, King & Queen}   \n801       {Brunswick County, Burnswick, Bruckswick Co}   \n805           {New Kent, New Kent Co, New Hunt County}   \n806                   {Winchester, Town of Winchester}   \n808                {Williamsburg County, Williamsburg}   \n820       {Rockbridge Co, R Bridge, Rockbridge County}   \n823     {James City, James City Co, James City County}   \n827                        {State of Georgia, Georgia}   \n835          {James City Co, James City County, James}   \n837                        {Caroline, Caroline County}   \n841                        {Powhatan County, Powhatan}   \n842                          {Bedford, Bedford County}   \n845                            {Fauq, Fauquier County}   \n850                          {Henrico County, Henrico}   \n859                    {Chesterfield, Chesterfield Co}   \n864  {State of Kentucky, Cumberland, Cumberland Cou...   \n881                  {Mecklenburg County, Mecklenberg}   \n889              {City Richmond, The City of Richmond}   \n37   {Administrator of Robert Ritchie, adm of Rober...   \n42   {Executrix of Richmond Brown, Executor of Rich...   \n56   {Executors Thomas Williamson, Executor Thomas ...   \n62   {In Trust for Francis Charlton, In trust for F...   \n63   {In Trust for William Short, In trust for Will...   \n67   {In trust for Willinge Morris and Swanwick, In...   \n70   {In Trust for St George Tucker Williamsburg, I...   \n71   {In Trust for Benjamin Harrison Prince George ...   \n72              {Exe of Hugh Paton, Excer Hugh Patton}   \n73   {John Swanwick in trust, In trust for John Swa...   \n75   {In Trust, In trust for the Jn Le Mayeur, In T...   \n81   {In Trust for John Swan, Trust for John Swan, ...   \n82   {In trust for Archibald Montcrieff, In Trust f...   \n83      {In Trust for McNewman, In trust for M Newman}   \n84   {In Trust for Andrew Glassell, In trust for An...   \n104  {In Trust for William Ruffins Est, In trust fo...   \n106  {Executor for Edward Travis, Executor of Edwar...   \n107      {Executor of Jn Camm, Executors of John Camm}   \n121  {In trust for Mariamne Williams, In Trust for ...   \n122  {In Trust for Alexander London, In trust Alexa...   \n153  {Administrator G C Jucker, Admr G C Tucker, Ad...   \n195  {Executor Bennet White, Executor of Bennet White}   \n223  {In trust for Robert Gilmer Baltimore, In trus...   \n224  {Exetors of William Carr, Excrs William Carr, ...   \n233           {Treasurer, Treasurer of the Cincinnati}   \n240               {Executor of Murphy, Excrs M Murphy}   \n266  {Excr of John Greehow, Executor of John Greenhow}   \n272  {in trust for Chesley Kenny, In Trust for Ches...   \n294  {Adm of J P Custes, Executor of J P Custis, Ad...   \n305  {Executor of Jn Harris, Executor of John Harri...   \n313                                     {Esquire, Esq}   \n331    {Executor Roger Quarles, Excr of Roger Quarles}   \n361  {In Trust for Robert Nicolson, In trust for Ro...   \n372  {In Trust for Henry Skinner, In trust for Henr...   \n375  {In Trust for George Breckenridge, In trust fo...   \n378  {Excrs of Samuel Scherwin, Executor Samuel Sch...   \n413  {Executor for John Trabue, Executor of John Tr...   \n434  {Executor of William Dangerfield, Executor Wil...   \n438  {In Trust for Elizabeth Lewis, In trust for El...   \n452  {In Trust for Administrator of John Robinson, ...   \n455  {Executors of Samuel Boush, Executor of Samuel...   \n473  {Executors Thomas Lewis, Executor of Thomas Le...   \n505  {In Trust for the Dismal Swamp Company, In tru...   \n514  {In trust for James Duncanson, In trust for Ja...   \n518  {In trust for the Legatees of John Ramsay, In ...   \n539  {In trust for the Trustees of John Bland, In t...   \n545  {In Trust of Mary Ramsay, In trust for Mary Ra...   \n559  {In trust for the Alexa Fire Comp, In trust fo...   \n563  {In trust for the adminastrator Jn Robinson, I...   \n572        {Turner Excr, Executors of Turner Southall}   \n574  {Adminatrix of Armstead White, Admrx of Armist...   \n575      {Excrs of R Gilchrist, Executors R Gilchrist}   \n586  {Excrs Jo Serevener, Executor T Scriviner, Exe...   \n593        {Adm of Strother Jones, Adm Strother Jones}   \n605  {Excr of R Gilchrist Accomac Co, Executors of ...   \n633    {Executer G Smith, Excrs, Executors of G Smith}   \n636  {In trust for R H Waller Executor of J Camm, ,...   \n638  {Executors of Josiah Lipscomb, Excr Josiah Lip...   \n639  {Excr Samuel Williams, Executer Sam Williams, ...   \n673  {In trust for Jn Holm, In trust for John Helm,...   \n686  {In trust for John Mannick Huysen, In trust fo...   \n689  {Excrs of William Pearl, Executors of William ...   \n693  {Excrs Alexander McNabb, Executors of Alexande...   \n702  {In trust for Richard Smyth, In trust for R Sm...   \n704  {In trust for Richard Smyth, Trust & C for Ric...   \n705  {In trust for James Coleman, In trust for J Co...   \n722  {In trust for Alexander Bigbee London, In trus...   \n743        {In trust & co I Ball, In trust for J Ball}   \n777  {Trust for Geo Morrison, In trust for George M...   \n831  {In trust for J Robinson, In trust for Jn Robi...   \n875  {Executors of James Minor, Exec James Minor Lo...   \n905  {Administrator of McKennie Sumner, Adm of McKe...   \n\n                                                   new        type  \n0                                  The Town Petersburg        town  \n1                                     City of Richmond        town  \n2                                    Dinwiddie Country        town  \n3                                  The Town Petersburg        town  \n4                                       Halifox County        town  \n5                                   Town of Petersburg        town  \n6                                 The City of Richmond        town  \n8                                   Rockbridge Country        town  \n9                                   Buckingham Country        town  \n10                                  Rocksbridge County        town  \n11                                      Louisa Country        town  \n13                                    Culpepper County        town  \n18                                  Mecklenburg County        town  \n21                         Fredericksburg now Shafford        town  \n33                          The Town of Fredericksburg        town  \n35                                    The Town of York        town  \n37                                      Fredericksburg        town  \n39                                  Borough of Norfolk        town  \n41                              The Town of Alexandria        town  \n42                                       Massachusetts        town  \n45                                       Amelia County        town  \n54                                South Hampton County        town  \n55                              The Town of Manchester        town  \n58                                The City of Richmond        town  \n60                                     Stafford County        town  \n61                                 Westmoreland County        town  \n62                                  York Town Virginia        town  \n64                                The city of Richmond        town  \n65                                City of Philadelphia        town  \n69                                    Glocester County        town  \n75                                    Botetourt County        town  \n76                                     Borough Norfolk        town  \n80                            The City of Williamsburg        town  \n88                                City of Williamsburg        town  \n93                                   Rockbridge County        town  \n97                                   Rockbridge County        town  \n101                                     Warwick County        town  \n102                                        York County        town  \n105                               Isle of Wight County        town  \n110                                  County of Hanover        town  \n113                                   County of London        town  \n114                                 Town of Petersberg        town  \n115                                 Town of Alexandria        town  \n118                                Charles City County        town  \n120                                 The City of London        town  \n124                                 Town of Petersburg        town  \n128                                     Gloster County        town  \n132                                     Bedford County        town  \n134                                NorthHampton County        town  \n135                                    Campbell County        town  \n137                   New Kent County Now of Goochland        town  \n143                                         Southfield        town  \n144                               South Hampton County        town  \n145                                 Town of Portsmouth        town  \n148                                      Bo of Norfolk        town  \n150                               South Hampton County        town  \n158                               The City of Richmond        town  \n161                                   City of Richmond        town  \n162                                 City of Willamburg        town  \n163                               South Hampton County        town  \n164                               The City of Richmond        town  \n165                             The Town of Manchester        town  \n166                               North Hampton County        town  \n169                                 King George County        town  \n170                                 King George County        town  \n172                                    New Kent County        town  \n174                             The Town of Alexandria        town  \n175                             Town of Fredericksburg        town  \n176                                       Essex County        town  \n177                                     North Carolina        town  \n179                                    Powhatan County        town  \n181                                    Caroline County        town  \n182                                     Hanover County        town  \n183                                Charles City County        town  \n184                                     Fayette County        town  \n185                                       Surry County        town  \n188                                   City of New York        town  \n189                                  Cumberland County        town  \n193                               The Town of New York        town  \n195                               Excutor Bennet White        town  \n200                                   Goochland County        town  \n201                                 Borough of Norfolk        town  \n202                                   Botetourt County        town  \n205                                   Albemarle County        town  \n206                                     Amherst County        town  \n207                                     Hanover County        town  \n209                                      Louisa County        town  \n213                                      Orange County        town  \n216                                   Dinwiddie County        town  \n220                                   Town of Dumfries        town  \n222                                     Augusta County        town  \n225                                  Rockbridge County        town  \n226                                   City of Richmond        town  \n230                             The Town of Petersburg        town  \n233                                        Chincinnati        town  \n234                                     Henrico County        town  \n235                               City of Williamsburg        town  \n237                                  James City County        town  \n238                             The Town of Portsmouth        town  \n244                                   Frederick County        town  \n247                             Town of Fredericksburg        town  \n253                                  State of New York        town  \n256                              King and Queen County        town  \n262                             The Town of Petersburg        town  \n264                                     Accomac County        town  \n265                                     Henrico County        town  \n268                            Town of Falsmouth Rappa        town  \n273                                    R Bridge County        town  \n275                                   Botetourt County        town  \n276                                   Town of Dumfries        town  \n278                                    New Kent County        town  \n279                                          Baltimire        town  \n281                                   Dinwiddie County        town  \n282                                   Dinwiddie County        town  \n284                             The County of Carolina        town  \n286                              King and Queen County        town  \n287                                         Alexandria        town  \n289                               Prince George County        town  \n291                                   Charlotte County        town  \n294                                     Fairfax County        town  \n295                                Chesterfield County        town  \n299                          Philadelphia (Petersburg)        town  \n303                               North Hampton County        town  \n304                   Town of Hampton Now of Norfolk B        town  \n308                                         Winchester        town  \n309                                  Town of Baltimore        town  \n311                               City of Williamsburg        town  \n312                                   N Hampton County        town  \n313                                    Fairfax Country        town  \n318                                      York Virginia        town  \n327                                 Annapolis Maryland        town  \n331                                           Caroline        town  \n335                                King William County        town  \n336                                     Henrico County        town  \n341                               Prince Edward County        town  \n342                                     Accomac County        town  \n345                                     Fairfax County        town  \n349                                   Albemarle County        town  \n352                               Prince Edward County        town  \n353                                 Borough of Norfolk        town  \n354                                     Henrico County        town  \n357                                  Buckingham County        town  \n358                                       Town of York        town  \n367                                    Culpeper County        town  \n369                                   Goochland County        town  \n370                                    Fauquier County        town  \n373                                    Caroline County        town  \n376                                    Fauquier County        town  \n379                                      York Virginia        town  \n380                                         Petersburg        town  \n381                                 County of Richmond        town  \n386                                  County of Henrico        town  \n390                                  County of Halifox        town  \n391                            County of Prince Edward        town  \n397                                  County of Hanover        town  \n400                                   The Town of York        town  \n402                               City ot Williamsburg        town  \n406                               County of Rockbridge        town  \n409                               County of Rockbridge        town  \n410                                 County of Powhatan        town  \n415                                      New York City        town  \n417                               County of Buckingham        town  \n419                                  County of Warwick        town  \n426                                County of Botetourt        town  \n428  Ann Selden and Thomas Fitzhugh Executor of Tho...        town  \n431                                  County of Augusta        town  \n435                                        Alexanderia        town  \n437                                  County of Fairfax        town  \n440                                  County of Fairfax        town  \n446                                   Dinwiddie County        town  \n447                                    City of Hanover        town  \n451                                   County of Orange        town  \n453                                County of Chartotte        town  \n458                                   County of Amelia        town  \n460                                 County of Nottoway        town  \n463                                 Borough of Norfolk        town  \n466                            County of Prince George        town  \n467                Sullivan Co South Western Territory        town  \n469                                   County of Amelia        town  \n472                                 County of Culpeper        town  \n475                                County of Dinwiddle        town  \n477                                County of Albemarle        town  \n478                                  Western Jerritory        town  \n482                                 County of Caroline        town  \n486                                   County of Louisa        town  \n487                                      Bo Of Norfolk        town  \n490                                    County of Surry        town  \n492                                            Suffolk        town  \n493                                County of Brunswick        town  \n495                           County of Elizabeth City        town  \n496                                  County of Berkley        town  \n497                                   Goochland County        town  \n502                                  County of Accomac        town  \n503                                    Culpeper County        town  \n506                                    County of Essex        town  \n514              Culpeper in Trust for James Duncanson        town  \n519                               District of Kentucky        town  \n523                                 Montogomery County        town  \n529                             Kings and Queen County        town  \n541                                 Borough of Norfolk        town  \n543                                     Berkley County        town  \n546                                   City of New York        town  \n547                                     Amherst County        town  \n549                                  Greenbrier County        town  \n550                                     Augusta County        town  \n562                              City of Williamsburge        town  \n566                                    Caroline County        town  \n572                        Executor of Turner Southall        town  \n573                                     Patrick and Co        town  \n574                                  White Culpeper Co        town  \n583                             Halifax North Carolina        town  \n594                             The Town of Alexandria        town  \n595                                    New Kent County        town  \n597                                   City of Richmond        town  \n598                                    Fredericksburge        town  \n599                                   Glocester County        town  \n602                              State of Pennsylvania        town  \n605                                    Accomack County        town  \n608                              Fredericksburg County        town  \n611                                 Town of Alexandria        town  \n612                                   Jefferson County        town  \n617                                     Augusta County        town  \n618                                   Brunswick County        town  \n621                                    Accomack County        town  \n622                                 Augusta Shenandoah        town  \n624                                     Northampton Co        town  \n625                                  James City County        town  \n626                                       Henry County        town  \n628                                   Lancaster County        town  \n632                                   Lunenburg County        town  \n633                              King and Queen County        town  \n634                              King and Queen County        town  \n635                                    Richmond County        town  \n638                                      Louisa County        town  \n639                                    Richmond County        town  \n640                                    Caroline County        town  \n641                                   Albemarle County        town  \n644                               North Hampton County        town  \n645                             Town of Fredericksberg        town  \n649                                    Fauquier County        town  \n650                                      Amelia County        town  \n651                                  Rockbridge County        town  \n652                                      Loudon County        town  \n653                                    Fauquier County        town  \n656                                     Borough County        town  \n657                          Town of Falmouth Virginia        town  \n658                                    Powhatan County        town  \n659                                     Isle of Wright        town  \n660                                        Ohio County        town  \n661                                     Carolin County        town  \n665                                    Richmond County        town  \n666                                   Botetourt County        town  \n668                                   Lancaster County        town  \n669                                      Orange County        town  \n671                                     Matthew County        town  \n672                                     Halifax County        town  \n673                                    Campbell County        town  \n674                                     Hanover County        town  \n675                                      City New York        town  \n676                                     Berkley County        town  \n677                                  Greenbrier County        town  \n679                                     Fredericksburg        town  \n681                                      South Hampton        town  \n682                                     Newkent County        town  \n683                                     Fredericksburg        town  \n684                                    Campbell County        town  \n685                                      Loudon County        town  \n687                               Prince Edward County        town  \n693                                      Amelia County        town  \n695                                     Berkley County        town  \n698                               George Town Maryland        town  \n699                               George Town Maryland        town  \n703                                   Frederick County        town  \n715                             The County of Carolina        town  \n716                                       Essex County        town  \n717                                King William County        town  \n721                                     Warwick County        town  \n722                                         Petersburg        town  \n727                                    New Kent County        town  \n728                               Frederickburg County        town  \n741                                     Hanover County        town  \n742                                      Loudon County        town  \n744                                 Town of Petersburg        town  \n750                                   City of Richmond        town  \n758                                 Borough of Norfolk        town  \n759                                 Glouchester County        town  \n764                             King and Queen Coventy        town  \n766                                     Norfolk County        town  \n777                                           Richmond        town  \n779                                 Glouchester County        town  \n785                              King and Queen County        town  \n801                                   Brunswick County        town  \n805                                    New Hunt County        town  \n806                                 Town of Winchester        town  \n808                                Williamsburg County        town  \n820                                  Rockbridge County        town  \n823                                  James City County        town  \n827                                   State of Georgia        town  \n835                                  James City County        town  \n837                                    Caroline County        town  \n841                                    Powhatan County        town  \n842                                     Bedford County        town  \n845                                    Fauquier County        town  \n850                                     Henrico County        town  \n859                                    Chesterfield Co        town  \n864                                  State of Kentucky        town  \n881                                 Mecklenburg County        town  \n889                               The City of Richmond        town  \n37                     Administrator of Robert Ritchie  occupation  \n42                         Executrix of Richmond Brown  occupation  \n56                   Executor of the Thomas Williamson  occupation  \n62                       In Trust for Francis Charlton  occupation  \n63                          In Trust for William Short  occupation  \n67           In trust for Willinge Morris and Swanwick  occupation  \n70          In Trust for St George Tucker Williamsburg  occupation  \n71   In Trust for Benjamin Harrison Prince George C...  occupation  \n72                                   Exe of Hugh Paton  occupation  \n73                          In trust for John Swanwick  occupation  \n75                       In trust for the Jn Le Mayeur  occupation  \n81                          In trust for John Jonathan  occupation  \n82                   In trust for Archibald Montcrieff  occupation  \n83                               In Trust for McNewman  occupation  \n84                        In Trust for Andrew Glassell  occupation  \n104                   In Trust for William Ruffins Est  occupation  \n106                         Executor for Edward Travis  occupation  \n107                             Executors of John Camm  occupation  \n121                     In trust for Mariamne Williams  occupation  \n122  In Trust for Alexander Jn alexander City of Lo...  occupation  \n153                           Administrator G C Jucker  occupation  \n195                           Executor of Bennet White  occupation  \n223               In trust for Robert Gilmer Baltimore  occupation  \n224                            Exetors of William Carr  occupation  \n233                        Treasurer of the Cincinnati  occupation  \n240                                 Executor of Murphy  occupation  \n266                          Executor of John Greenhow  occupation  \n272                         in trust for Chesley Kenny  occupation  \n294                            Administrator JP Custrs  occupation  \n305                          Executor of the Jn Harris  occupation  \n313                                            Esquire  occupation  \n331                             Executor Roger Quarles  occupation  \n361                       In Trust for Robert Nicolson  occupation  \n372                         In Trust for Henry Skinner  occupation  \n375                   In Trust for George Breckenridge  occupation  \n378                           Excrs of Samuel Scherwin  occupation  \n413                           Executor for John Trabue  occupation  \n434                    Executor of William Dangerfield  occupation  \n438                       In Trust for Elizabeth Lewis  occupation  \n452      In trust for the Administrator of Jn Robinson  occupation  \n455                          Executors of Samuel Boush  occupation  \n473                           Executor of Thomas Lewis  occupation  \n505              In Trust for the Dismal Swamp Company  occupation  \n514                       In trust for James Duncanson  occupation  \n518           In trust for the Legatees of John Ramsay  occupation  \n539            In trust for the Trustees of John Bland  occupation  \n545                           In trust for Mary Ramsay  occupation  \n559              In trust for the Alexandria Fire Comp  occupation  \n563   In Trust for the Administrators of John Robinson  occupation  \n572                       Executors of Turner Southall  occupation  \n574                   Administratix of Armislead White  occupation  \n575                              Executors R Gilchrist  occupation  \n586                       Executor of Joseph Scrivener  occupation  \n593                              Adm of Strother Jones  occupation  \n605                     Excr of R Gilchrist Accomac Co  occupation  \n633                               Executors of G Smith  occupation  \n636         In trust for R H Waller Executor of J Camm  occupation  \n638                       Executors of Josiah Lipscomb  occupation  \n639                       Executors of Samuel Williams  occupation  \n673                             In trust for John Helm  occupation  \n686                   In trust for John Mannick Huysen  occupation  \n689                         Executors of William Pearl  occupation  \n693                      Executors of Alexander McNabb  occupation  \n702                         In trust for Richard Smyth  occupation  \n704                  In trust and Co for Richard Smyth  occupation  \n705                         In trust for James Coleman  occupation  \n722               In trust for Alexander Bigbee London  occupation  \n743                               In trust & co I Ball  occupation  \n777                In trust for George Morrison London  occupation  \n831                        In trust for Jn Robinson RB  occupation  \n875                         Exec James Minor Louisa Co  occupation  \n905                   Administrator of McKennie Sumner  occupation  ",
      "text/html": "<div>\n<style scoped>\n    .dataframe tbody tr th:only-of-type {\n        vertical-align: middle;\n    }\n\n    .dataframe tbody tr th {\n        vertical-align: top;\n    }\n\n    .dataframe thead th {\n        text-align: right;\n    }\n</style>\n<table border=\"1\" class=\"dataframe\">\n  <thead>\n    <tr style=\"text-align: right;\">\n      <th></th>\n      <th>old</th>\n      <th>new</th>\n      <th>type</th>\n    </tr>\n  </thead>\n  <tbody>\n    <tr>\n      <th>0</th>\n      <td>{The Town Petersburg, Town of Petersburg}</td>\n      <td>The Town Petersburg</td>\n      <td>town</td>\n    </tr>\n    <tr>\n      <th>1</th>\n      <td>{City of Richmond, Richmond}</td>\n      <td>City of Richmond</td>\n      <td>town</td>\n    </tr>\n    <tr>\n      <th>2</th>\n      <td>{Dinwiddie County, Dinwiddie Country}</td>\n      <td>Dinwiddie Country</td>\n      <td>town</td>\n    </tr>\n    <tr>\n      <th>3</th>\n      <td>{Town of Petersbung, The Town Petersburg, Town...</td>\n      <td>The Town Petersburg</td>\n      <td>town</td>\n    </tr>\n    <tr>\n      <th>4</th>\n      <td>{Halifox County, Halifax County}</td>\n      <td>Halifox County</td>\n      <td>town</td>\n    </tr>\n    <tr>\n      <th>5</th>\n      <td>{Petersbung, Town of Petersburg}</td>\n      <td>Town of Petersburg</td>\n      <td>town</td>\n    </tr>\n    <tr>\n      <th>6</th>\n      <td>{City of Richmond, Richmond, The City of Richm...</td>\n      <td>The City of Richmond</td>\n      <td>town</td>\n    </tr>\n    <tr>\n      <th>8</th>\n      <td>{Rockbridge Country, Rockbridge County}</td>\n      <td>Rockbridge Country</td>\n      <td>town</td>\n    </tr>\n    <tr>\n      <th>9</th>\n      <td>{Buckingham Country, Buckingham County}</td>\n      <td>Buckingham Country</td>\n      <td>town</td>\n    </tr>\n    <tr>\n      <th>10</th>\n      <td>{Rocksbridge County, Rockbridge County}</td>\n      <td>Rocksbridge County</td>\n      <td>town</td>\n    </tr>\n    <tr>\n      <th>11</th>\n      <td>{Louisa County, Louisa Country}</td>\n      <td>Louisa Country</td>\n      <td>town</td>\n    </tr>\n    <tr>\n      <th>13</th>\n      <td>{Culpeper County, Culpepper County}</td>\n      <td>Culpepper County</td>\n      <td>town</td>\n    </tr>\n    <tr>\n      <th>18</th>\n      <td>{Mecklenburg County, Mecklenburg}</td>\n      <td>Mecklenburg County</td>\n      <td>town</td>\n    </tr>\n    <tr>\n      <th>21</th>\n      <td>{Frederucksburg, The Town of Fredericksburg, F...</td>\n      <td>Fredericksburg now Shafford</td>\n      <td>town</td>\n    </tr>\n    <tr>\n      <th>33</th>\n      <td>{Frederickburg, Fredericksburg, The Town of Fr...</td>\n      <td>The Town of Fredericksburg</td>\n      <td>town</td>\n    </tr>\n    <tr>\n      <th>35</th>\n      <td>{The Town of York, The town of York, York}</td>\n      <td>The Town of York</td>\n      <td>town</td>\n    </tr>\n    <tr>\n      <th>37</th>\n      <td>{Frederickburg, Fredericksburg}</td>\n      <td>Fredericksburg</td>\n      <td>town</td>\n    </tr>\n    <tr>\n      <th>39</th>\n      <td>{B Norfolk, Borough of Norfolk}</td>\n      <td>Borough of Norfolk</td>\n      <td>town</td>\n    </tr>\n    <tr>\n      <th>41</th>\n      <td>{Alexandria, The Town of Alexandria, The Town ...</td>\n      <td>The Town of Alexandria</td>\n      <td>town</td>\n    </tr>\n    <tr>\n      <th>42</th>\n      <td>{Massachusetts, Manchester}</td>\n      <td>Massachusetts</td>\n      <td>town</td>\n    </tr>\n    <tr>\n      <th>45</th>\n      <td>{Amelia Co, Amelia County}</td>\n      <td>Amelia County</td>\n      <td>town</td>\n    </tr>\n    <tr>\n      <th>54</th>\n      <td>{South Hampton County, S Hampton County, South...</td>\n      <td>South Hampton County</td>\n      <td>town</td>\n    </tr>\n    <tr>\n      <th>55</th>\n      <td>{Manchester, Town of Manchester, The Town of M...</td>\n      <td>The Town of Manchester</td>\n      <td>town</td>\n    </tr>\n    <tr>\n      <th>58</th>\n      <td>{Richmond, The City of Richmond}</td>\n      <td>The City of Richmond</td>\n      <td>town</td>\n    </tr>\n    <tr>\n      <th>60</th>\n      <td>{Stafford County, Stafford}</td>\n      <td>Stafford County</td>\n      <td>town</td>\n    </tr>\n    <tr>\n      <th>61</th>\n      <td>{Westmoreland County, Westmoreland Co, Westmor...</td>\n      <td>Westmoreland County</td>\n      <td>town</td>\n    </tr>\n    <tr>\n      <th>62</th>\n      <td>{York Town Virginia, York Town, York Virginia}</td>\n      <td>York Town Virginia</td>\n      <td>town</td>\n    </tr>\n    <tr>\n      <th>64</th>\n      <td>{City of Richmond, Richmond, The city of Richm...</td>\n      <td>The city of Richmond</td>\n      <td>town</td>\n    </tr>\n    <tr>\n      <th>65</th>\n      <td>{City of Philadelphia, Philadelphia}</td>\n      <td>City of Philadelphia</td>\n      <td>town</td>\n    </tr>\n    <tr>\n      <th>69</th>\n      <td>{Gloster County, Glocester County}</td>\n      <td>Glocester County</td>\n      <td>town</td>\n    </tr>\n    <tr>\n      <th>75</th>\n      <td>{Botetort Co, Botetourt County, Baltimore County}</td>\n      <td>Botetourt County</td>\n      <td>town</td>\n    </tr>\n    <tr>\n      <th>76</th>\n      <td>{Borough Norfolk, Norfolk}</td>\n      <td>Borough Norfolk</td>\n      <td>town</td>\n    </tr>\n    <tr>\n      <th>80</th>\n      <td>{Williamsburg, The City of Williamsburg}</td>\n      <td>The City of Williamsburg</td>\n      <td>town</td>\n    </tr>\n    <tr>\n      <th>88</th>\n      <td>{City of Williamsburg, Williammsburg}</td>\n      <td>City of Williamsburg</td>\n      <td>town</td>\n    </tr>\n    <tr>\n      <th>93</th>\n      <td>{Rockbridge Co, Rockbridge County}</td>\n      <td>Rockbridge County</td>\n      <td>town</td>\n    </tr>\n    <tr>\n      <th>97</th>\n      <td>{Rockbridge Co, Rockbridge, Rockbridge County}</td>\n      <td>Rockbridge County</td>\n      <td>town</td>\n    </tr>\n    <tr>\n      <th>101</th>\n      <td>{Warwick Co, Warwick County}</td>\n      <td>Warwick County</td>\n      <td>town</td>\n    </tr>\n    <tr>\n      <th>102</th>\n      <td>{York Co, York County}</td>\n      <td>York County</td>\n      <td>town</td>\n    </tr>\n    <tr>\n      <th>105</th>\n      <td>{Isle Wight County, Wight Co, Isle of Wight Co...</td>\n      <td>Isle of Wight County</td>\n      <td>town</td>\n    </tr>\n    <tr>\n      <th>110</th>\n      <td>{County of Hanover, Hanover Co, Hanover County}</td>\n      <td>County of Hanover</td>\n      <td>town</td>\n    </tr>\n    <tr>\n      <th>113</th>\n      <td>{Loudon County, London, County of London}</td>\n      <td>County of London</td>\n      <td>town</td>\n    </tr>\n    <tr>\n      <th>114</th>\n      <td>{Petersburg, Town of Petersberg, Town of Peter...</td>\n      <td>Town of Petersberg</td>\n      <td>town</td>\n    </tr>\n    <tr>\n      <th>115</th>\n      <td>{Alexandria, Town of Alexandria}</td>\n      <td>Town of Alexandria</td>\n      <td>town</td>\n    </tr>\n    <tr>\n      <th>118</th>\n      <td>{Charles City County, Charles City Co}</td>\n      <td>Charles City County</td>\n      <td>town</td>\n    </tr>\n    <tr>\n      <th>120</th>\n      <td>{City of London, London, The City of London}</td>\n      <td>The City of London</td>\n      <td>town</td>\n    </tr>\n    <tr>\n      <th>124</th>\n      <td>{Petersburg, Town of Petersburg}</td>\n      <td>Town of Petersburg</td>\n      <td>town</td>\n    </tr>\n    <tr>\n      <th>128</th>\n      <td>{Glocester Co, Gloster Co, Gloster County}</td>\n      <td>Gloster County</td>\n      <td>town</td>\n    </tr>\n    <tr>\n      <th>132</th>\n      <td>{Bedford Co, Bedford County}</td>\n      <td>Bedford County</td>\n      <td>town</td>\n    </tr>\n    <tr>\n      <th>134</th>\n      <td>{Northampton, NorthHampton County, Northampton...</td>\n      <td>NorthHampton County</td>\n      <td>town</td>\n    </tr>\n    <tr>\n      <th>135</th>\n      <td>{Campbell Co, Campbell County}</td>\n      <td>Campbell County</td>\n      <td>town</td>\n    </tr>\n    <tr>\n      <th>137</th>\n      <td>{New Kent Co, New Kent County Now of Goochland...</td>\n      <td>New Kent County Now of Goochland</td>\n      <td>town</td>\n    </tr>\n    <tr>\n      <th>143</th>\n      <td>{Southfield, Smithfield}</td>\n      <td>Southfield</td>\n      <td>town</td>\n    </tr>\n    <tr>\n      <th>144</th>\n      <td>{South Hampton County, South Hampton, South Ha...</td>\n      <td>South Hampton County</td>\n      <td>town</td>\n    </tr>\n    <tr>\n      <th>145</th>\n      <td>{Portsmouth, Town of Portsmouth}</td>\n      <td>Town of Portsmouth</td>\n      <td>town</td>\n    </tr>\n    <tr>\n      <th>148</th>\n      <td>{B Norfolk, Bo of Norfolk}</td>\n      <td>Bo of Norfolk</td>\n      <td>town</td>\n    </tr>\n    <tr>\n      <th>150</th>\n      <td>{South Hampton County, South Hampton Co}</td>\n      <td>South Hampton County</td>\n      <td>town</td>\n    </tr>\n    <tr>\n      <th>158</th>\n      <td>{City of Richmond, The City of Richmond}</td>\n      <td>The City of Richmond</td>\n      <td>town</td>\n    </tr>\n    <tr>\n      <th>161</th>\n      <td>{City of Richmond, City Richmond}</td>\n      <td>City of Richmond</td>\n      <td>town</td>\n    </tr>\n    <tr>\n      <th>162</th>\n      <td>{City of Willamburg, Williamsburg}</td>\n      <td>City of Willamburg</td>\n      <td>town</td>\n    </tr>\n    <tr>\n      <th>163</th>\n      <td>{South Hampton County, North Hampton County, N...</td>\n      <td>South Hampton County</td>\n      <td>town</td>\n    </tr>\n    <tr>\n      <th>164</th>\n      <td>{Richmond, The City of Richmond, The city of R...</td>\n      <td>The City of Richmond</td>\n      <td>town</td>\n    </tr>\n    <tr>\n      <th>165</th>\n      <td>{Town of Machester, Town of Manchester, The To...</td>\n      <td>The Town of Manchester</td>\n      <td>town</td>\n    </tr>\n    <tr>\n      <th>166</th>\n      <td>{Northampton, North Hampton County}</td>\n      <td>North Hampton County</td>\n      <td>town</td>\n    </tr>\n    <tr>\n      <th>169</th>\n      <td>{King George, King George County}</td>\n      <td>King George County</td>\n      <td>town</td>\n    </tr>\n    <tr>\n      <th>170</th>\n      <td>{K George, King George County}</td>\n      <td>King George County</td>\n      <td>town</td>\n    </tr>\n    <tr>\n      <th>172</th>\n      <td>{New Kent, New Kent Co, New Kent County}</td>\n      <td>New Kent County</td>\n      <td>town</td>\n    </tr>\n    <tr>\n      <th>174</th>\n      <td>{The Town of Alexandria, Town of Alexandria}</td>\n      <td>The Town of Alexandria</td>\n      <td>town</td>\n    </tr>\n    <tr>\n      <th>175</th>\n      <td>{Town of Fredericksburg, Fredericksburg}</td>\n      <td>Town of Fredericksburg</td>\n      <td>town</td>\n    </tr>\n    <tr>\n      <th>176</th>\n      <td>{Essex Co, Essex County}</td>\n      <td>Essex County</td>\n      <td>town</td>\n    </tr>\n    <tr>\n      <th>177</th>\n      <td>{N Carolina, North Carolina}</td>\n      <td>North Carolina</td>\n      <td>town</td>\n    </tr>\n    <tr>\n      <th>179</th>\n      <td>{Powhatan County, Powhatan Co}</td>\n      <td>Powhatan County</td>\n      <td>town</td>\n    </tr>\n    <tr>\n      <th>181</th>\n      <td>{Caroline Co, Caroline County}</td>\n      <td>Caroline County</td>\n      <td>town</td>\n    </tr>\n    <tr>\n      <th>182</th>\n      <td>{Hanover Co, Hanover County}</td>\n      <td>Hanover County</td>\n      <td>town</td>\n    </tr>\n    <tr>\n      <th>183</th>\n      <td>{Charles City County, Charles City and Co}</td>\n      <td>Charles City County</td>\n      <td>town</td>\n    </tr>\n    <tr>\n      <th>184</th>\n      <td>{Fayette Co, Fayette County}</td>\n      <td>Fayette County</td>\n      <td>town</td>\n    </tr>\n    <tr>\n      <th>185</th>\n      <td>{Surry Co, Surry County}</td>\n      <td>Surry County</td>\n      <td>town</td>\n    </tr>\n    <tr>\n      <th>188</th>\n      <td>{City of New York, New York}</td>\n      <td>City of New York</td>\n      <td>town</td>\n    </tr>\n    <tr>\n      <th>189</th>\n      <td>{Cumberland County, Cumberland Co}</td>\n      <td>Cumberland County</td>\n      <td>town</td>\n    </tr>\n    <tr>\n      <th>193</th>\n      <td>{The Town of New York, City of New York, New Y...</td>\n      <td>The Town of New York</td>\n      <td>town</td>\n    </tr>\n    <tr>\n      <th>195</th>\n      <td>{Hanover, Excutor Bennet White, Hanover County}</td>\n      <td>Excutor Bennet White</td>\n      <td>town</td>\n    </tr>\n    <tr>\n      <th>200</th>\n      <td>{Goochland County, Goochland Co}</td>\n      <td>Goochland County</td>\n      <td>town</td>\n    </tr>\n    <tr>\n      <th>201</th>\n      <td>{Bo Norfolk, B of Norfolk, Borough of Norfolk}</td>\n      <td>Borough of Norfolk</td>\n      <td>town</td>\n    </tr>\n    <tr>\n      <th>202</th>\n      <td>{Botetourt County, Botetart Co}</td>\n      <td>Botetourt County</td>\n      <td>town</td>\n    </tr>\n    <tr>\n      <th>205</th>\n      <td>{Amherst County, Albemarle Co, Albemarle County}</td>\n      <td>Albemarle County</td>\n      <td>town</td>\n    </tr>\n    <tr>\n      <th>206</th>\n      <td>{Amherst County, Amherst Co}</td>\n      <td>Amherst County</td>\n      <td>town</td>\n    </tr>\n    <tr>\n      <th>207</th>\n      <td>{Hanover Co, Hanover County, Hamover County}</td>\n      <td>Hanover County</td>\n      <td>town</td>\n    </tr>\n    <tr>\n      <th>209</th>\n      <td>{Louisa County, Louisa Co}</td>\n      <td>Louisa County</td>\n      <td>town</td>\n    </tr>\n    <tr>\n      <th>213</th>\n      <td>{Orange Co, Orange County}</td>\n      <td>Orange County</td>\n      <td>town</td>\n    </tr>\n    <tr>\n      <th>216</th>\n      <td>{Dinwiddie County, Dinwiddle County, Dinwiddie...</td>\n      <td>Dinwiddie County</td>\n      <td>town</td>\n    </tr>\n    <tr>\n      <th>220</th>\n      <td>{Dumpries, Dumfries, Town of Dumfries}</td>\n      <td>Town of Dumfries</td>\n      <td>town</td>\n    </tr>\n    <tr>\n      <th>222</th>\n      <td>{Augusta County, Augusta Co}</td>\n      <td>Augusta County</td>\n      <td>town</td>\n    </tr>\n    <tr>\n      <th>225</th>\n      <td>{Rockbridge, Rockbridge County}</td>\n      <td>Rockbridge County</td>\n      <td>town</td>\n    </tr>\n    <tr>\n      <th>226</th>\n      <td>{City of Richmond, Richmond City}</td>\n      <td>City of Richmond</td>\n      <td>town</td>\n    </tr>\n    <tr>\n      <th>230</th>\n      <td>{Petersburg, The Town of Petersburg}</td>\n      <td>The Town of Petersburg</td>\n      <td>town</td>\n    </tr>\n    <tr>\n      <th>233</th>\n      <td>{Cincinnati, Chincinnati}</td>\n      <td>Chincinnati</td>\n      <td>town</td>\n    </tr>\n    <tr>\n      <th>234</th>\n      <td>{Henrico County, Henrico Co}</td>\n      <td>Henrico County</td>\n      <td>town</td>\n    </tr>\n    <tr>\n      <th>235</th>\n      <td>{City of Williamsburg, Williamsburg}</td>\n      <td>City of Williamsburg</td>\n      <td>town</td>\n    </tr>\n    <tr>\n      <th>237</th>\n      <td>{James City Co, James City County}</td>\n      <td>James City County</td>\n      <td>town</td>\n    </tr>\n    <tr>\n      <th>238</th>\n      <td>{The Town of Portsmouth, Portsmouth}</td>\n      <td>The Town of Portsmouth</td>\n      <td>town</td>\n    </tr>\n    <tr>\n      <th>244</th>\n      <td>{Frederick Co, Frederick County}</td>\n      <td>Frederick County</td>\n      <td>town</td>\n    </tr>\n    <tr>\n      <th>247</th>\n      <td>{Town of Fredericksburg, Town of Frederickburg}</td>\n      <td>Town of Fredericksburg</td>\n      <td>town</td>\n    </tr>\n    <tr>\n      <th>253</th>\n      <td>{State of New York, City of New York, New York}</td>\n      <td>State of New York</td>\n      <td>town</td>\n    </tr>\n    <tr>\n      <th>256</th>\n      <td>{King and Queen County, King and Queen Co}</td>\n      <td>King and Queen County</td>\n      <td>town</td>\n    </tr>\n    <tr>\n      <th>262</th>\n      <td>{Petersburg, Town of Petersburg, The Town of P...</td>\n      <td>The Town of Petersburg</td>\n      <td>town</td>\n    </tr>\n    <tr>\n      <th>264</th>\n      <td>{Accomac Co, Accomac County}</td>\n      <td>Accomac County</td>\n      <td>town</td>\n    </tr>\n    <tr>\n      <th>265</th>\n      <td>{Henrico County, Hanover County}</td>\n      <td>Henrico County</td>\n      <td>town</td>\n    </tr>\n    <tr>\n      <th>268</th>\n      <td>{Town of Falsmouth Rappa, Town of Falmouth, Fa...</td>\n      <td>Town of Falsmouth Rappa</td>\n      <td>town</td>\n    </tr>\n    <tr>\n      <th>273</th>\n      <td>{Rockbridge Co, R Bridge County, Rock Bridge}</td>\n      <td>R Bridge County</td>\n      <td>town</td>\n    </tr>\n    <tr>\n      <th>275</th>\n      <td>{Botetourt Co, Botetourt County, Botetort County}</td>\n      <td>Botetourt County</td>\n      <td>town</td>\n    </tr>\n    <tr>\n      <th>276</th>\n      <td>{Dumfries, Town of Dumfries}</td>\n      <td>Town of Dumfries</td>\n      <td>town</td>\n    </tr>\n    <tr>\n      <th>278</th>\n      <td>{N Kent County, New Kent Co, New Kent County}</td>\n      <td>New Kent County</td>\n      <td>town</td>\n    </tr>\n    <tr>\n      <th>279</th>\n      <td>{Baltimire, Baltimore}</td>\n      <td>Baltimire</td>\n      <td>town</td>\n    </tr>\n    <tr>\n      <th>281</th>\n      <td>{Diwiddie, Dinwiddie County}</td>\n      <td>Dinwiddie County</td>\n      <td>town</td>\n    </tr>\n    <tr>\n      <th>282</th>\n      <td>{Dinwiddie, Dinwiddie County, Denwiddle County}</td>\n      <td>Dinwiddie County</td>\n      <td>town</td>\n    </tr>\n    <tr>\n      <th>284</th>\n      <td>{The County of Carolina, Caroline Co, Carolina...</td>\n      <td>The County of Carolina</td>\n      <td>town</td>\n    </tr>\n    <tr>\n      <th>286</th>\n      <td>{King and Queen County, King and queen Co}</td>\n      <td>King and Queen County</td>\n      <td>town</td>\n    </tr>\n    <tr>\n      <th>287</th>\n      <td>{Fairfax, Alexandria, Fairfax Co}</td>\n      <td>Alexandria</td>\n      <td>town</td>\n    </tr>\n    <tr>\n      <th>289</th>\n      <td>{Prince George County, Prince George Co}</td>\n      <td>Prince George County</td>\n      <td>town</td>\n    </tr>\n    <tr>\n      <th>291</th>\n      <td>{Charlotte County, Charlotte}</td>\n      <td>Charlotte County</td>\n      <td>town</td>\n    </tr>\n    <tr>\n      <th>294</th>\n      <td>{Fairfax, Fairfax County, Fairfaux}</td>\n      <td>Fairfax County</td>\n      <td>town</td>\n    </tr>\n    <tr>\n      <th>295</th>\n      <td>{Chesterfield County, Chesterfield}</td>\n      <td>Chesterfield County</td>\n      <td>town</td>\n    </tr>\n    <tr>\n      <th>299</th>\n      <td>{Philadelphia (Petersburg), Philadelphia}</td>\n      <td>Philadelphia (Petersburg)</td>\n      <td>town</td>\n    </tr>\n    <tr>\n      <th>303</th>\n      <td>{North Hampton County, N Hampton County, North...</td>\n      <td>North Hampton County</td>\n      <td>town</td>\n    </tr>\n    <tr>\n      <th>304</th>\n      <td>{Town of Hampton Now of Norfolk B, Hampton}</td>\n      <td>Town of Hampton Now of Norfolk B</td>\n      <td>town</td>\n    </tr>\n    <tr>\n      <th>308</th>\n      <td>{Winchester, Manchester}</td>\n      <td>Winchester</td>\n      <td>town</td>\n    </tr>\n    <tr>\n      <th>309</th>\n      <td>{Town of Baltimore, Baltimore}</td>\n      <td>Town of Baltimore</td>\n      <td>town</td>\n    </tr>\n    <tr>\n      <th>311</th>\n      <td>{City of Richmond, City of Williamsburg}</td>\n      <td>City of Williamsburg</td>\n      <td>town</td>\n    </tr>\n    <tr>\n      <th>312</th>\n      <td>{North Hampton, N Hampton County, Northampton Co}</td>\n      <td>N Hampton County</td>\n      <td>town</td>\n    </tr>\n    <tr>\n      <th>313</th>\n      <td>{Fairfax Country, Fairfax County, Fairfox County}</td>\n      <td>Fairfax Country</td>\n      <td>town</td>\n    </tr>\n    <tr>\n      <th>318</th>\n      <td>{York Virginia, York}</td>\n      <td>York Virginia</td>\n      <td>town</td>\n    </tr>\n    <tr>\n      <th>327</th>\n      <td>{Annapolis Maryland, Annapolis}</td>\n      <td>Annapolis Maryland</td>\n      <td>town</td>\n    </tr>\n    <tr>\n      <th>331</th>\n      <td>{Caroline, Carolina}</td>\n      <td>Caroline</td>\n      <td>town</td>\n    </tr>\n    <tr>\n      <th>335</th>\n      <td>{King William County, King William Co}</td>\n      <td>King William County</td>\n      <td>town</td>\n    </tr>\n    <tr>\n      <th>336</th>\n      <td>{Henrico County, Henico Co}</td>\n      <td>Henrico County</td>\n      <td>town</td>\n    </tr>\n    <tr>\n      <th>341</th>\n      <td>{Prince Edward County, Prince Edward}</td>\n      <td>Prince Edward County</td>\n      <td>town</td>\n    </tr>\n    <tr>\n      <th>342</th>\n      <td>{Accomac Co, Accomac, Accomac County}</td>\n      <td>Accomac County</td>\n      <td>town</td>\n    </tr>\n    <tr>\n      <th>345</th>\n      <td>{Fairfax Co, Fairfax County, Fairfox County}</td>\n      <td>Fairfax County</td>\n      <td>town</td>\n    </tr>\n    <tr>\n      <th>349</th>\n      <td>{Albemarle Co, Albemarle County}</td>\n      <td>Albemarle County</td>\n      <td>town</td>\n    </tr>\n    <tr>\n      <th>352</th>\n      <td>{Prince Edward Co, Prince Edward County}</td>\n      <td>Prince Edward County</td>\n      <td>town</td>\n    </tr>\n    <tr>\n      <th>353</th>\n      <td>{Bo Norfolk, Norfolk B, Borough of Norfolk}</td>\n      <td>Borough of Norfolk</td>\n      <td>town</td>\n    </tr>\n    <tr>\n      <th>354</th>\n      <td>{Hanover Co, Henrico County, Hanover County}</td>\n      <td>Henrico County</td>\n      <td>town</td>\n    </tr>\n    <tr>\n      <th>357</th>\n      <td>{Buckingham Co, Buckingham County}</td>\n      <td>Buckingham County</td>\n      <td>town</td>\n    </tr>\n    <tr>\n      <th>358</th>\n      <td>{Town of York, York Town}</td>\n      <td>Town of York</td>\n      <td>town</td>\n    </tr>\n    <tr>\n      <th>367</th>\n      <td>{Culpeper County, Culpeper Co, Culpper County}</td>\n      <td>Culpeper County</td>\n      <td>town</td>\n    </tr>\n    <tr>\n      <th>369</th>\n      <td>{Goochland County, Goochland}</td>\n      <td>Goochland County</td>\n      <td>town</td>\n    </tr>\n    <tr>\n      <th>370</th>\n      <td>{Fauquier Co, Fauquier County}</td>\n      <td>Fauquier County</td>\n      <td>town</td>\n    </tr>\n    <tr>\n      <th>373</th>\n      <td>{Caroline County, Caroline Co, Carolina County}</td>\n      <td>Caroline County</td>\n      <td>town</td>\n    </tr>\n    <tr>\n      <th>376</th>\n      <td>{Foug County, Fauquier Co, Fauquier County}</td>\n      <td>Fauquier County</td>\n      <td>town</td>\n    </tr>\n    <tr>\n      <th>379</th>\n      <td>{Town of York, York Virginia, York}</td>\n      <td>York Virginia</td>\n      <td>town</td>\n    </tr>\n    <tr>\n      <th>380</th>\n      <td>{Peterburg, Petersburg}</td>\n      <td>Petersburg</td>\n      <td>town</td>\n    </tr>\n    <tr>\n      <th>381</th>\n      <td>{County of Richmond, Richmond County, Richmond...</td>\n      <td>County of Richmond</td>\n      <td>town</td>\n    </tr>\n    <tr>\n      <th>386</th>\n      <td>{Henrico County, County of Henrico, Henrico Co}</td>\n      <td>County of Henrico</td>\n      <td>town</td>\n    </tr>\n    <tr>\n      <th>390</th>\n      <td>{Halifax Co, County of Halifox, Halifax County}</td>\n      <td>County of Halifox</td>\n      <td>town</td>\n    </tr>\n    <tr>\n      <th>391</th>\n      <td>{County of Prince Edward, Prince Edward Co, Pr...</td>\n      <td>County of Prince Edward</td>\n      <td>town</td>\n    </tr>\n    <tr>\n      <th>397</th>\n      <td>{Hanover Co, County of Hanover, Hanover County}</td>\n      <td>County of Hanover</td>\n      <td>town</td>\n    </tr>\n    <tr>\n      <th>400</th>\n      <td>{The Town of York, Town of York}</td>\n      <td>The Town of York</td>\n      <td>town</td>\n    </tr>\n    <tr>\n      <th>402</th>\n      <td>{Williamsburg, City ot Williamsburg}</td>\n      <td>City ot Williamsburg</td>\n      <td>town</td>\n    </tr>\n    <tr>\n      <th>406</th>\n      <td>{Rockbridge Co, County of Rockbridge, Rockbridge}</td>\n      <td>County of Rockbridge</td>\n      <td>town</td>\n    </tr>\n    <tr>\n      <th>409</th>\n      <td>{Rockbridge Co, County of Rockbridge, Rockbrid...</td>\n      <td>County of Rockbridge</td>\n      <td>town</td>\n    </tr>\n    <tr>\n      <th>410</th>\n      <td>{Powhatan County, County of Powhatan, Powhatan...</td>\n      <td>County of Powhatan</td>\n      <td>town</td>\n    </tr>\n    <tr>\n      <th>415</th>\n      <td>{New York City, New York}</td>\n      <td>New York City</td>\n      <td>town</td>\n    </tr>\n    <tr>\n      <th>417</th>\n      <td>{County of Buckingham, Williamsburg, Buckingha...</td>\n      <td>County of Buckingham</td>\n      <td>town</td>\n    </tr>\n    <tr>\n      <th>419</th>\n      <td>{County of Warwick, Warwick Co, Warwick County}</td>\n      <td>County of Warwick</td>\n      <td>town</td>\n    </tr>\n    <tr>\n      <th>426</th>\n      <td>{Botetort Co, County of Botetourt, Botefourt C...</td>\n      <td>County of Botetourt</td>\n      <td>town</td>\n    </tr>\n    <tr>\n      <th>428</th>\n      <td>{Ann Selden and Thomas Fitzhugh Executor of Th...</td>\n      <td>Ann Selden and Thomas Fitzhugh Executor of Tho...</td>\n      <td>town</td>\n    </tr>\n    <tr>\n      <th>431</th>\n      <td>{County of Augusta, Augusta County, Augusta Co}</td>\n      <td>County of Augusta</td>\n      <td>town</td>\n    </tr>\n    <tr>\n      <th>435</th>\n      <td>{Alexanderia, Alexandria}</td>\n      <td>Alexanderia</td>\n      <td>town</td>\n    </tr>\n    <tr>\n      <th>437</th>\n      <td>{Fairfax Co, County of Fairfax, Fairfax County}</td>\n      <td>County of Fairfax</td>\n      <td>town</td>\n    </tr>\n    <tr>\n      <th>440</th>\n      <td>{County of Fairfax, Fairfax County}</td>\n      <td>County of Fairfax</td>\n      <td>town</td>\n    </tr>\n    <tr>\n      <th>446</th>\n      <td>{Dinwiddie County, Dinwiddie Co}</td>\n      <td>Dinwiddie County</td>\n      <td>town</td>\n    </tr>\n    <tr>\n      <th>447</th>\n      <td>{Hanover Co, Hanover County, City of Hanover}</td>\n      <td>City of Hanover</td>\n      <td>town</td>\n    </tr>\n    <tr>\n      <th>451</th>\n      <td>{Orange Co, County of Orange, Orange County}</td>\n      <td>County of Orange</td>\n      <td>town</td>\n    </tr>\n    <tr>\n      <th>453</th>\n      <td>{Charlotte County, County of Chartotte, Charlo...</td>\n      <td>County of Chartotte</td>\n      <td>town</td>\n    </tr>\n    <tr>\n      <th>458</th>\n      <td>{Amelia Co, County of Amelia, Amelia County}</td>\n      <td>County of Amelia</td>\n      <td>town</td>\n    </tr>\n    <tr>\n      <th>460</th>\n      <td>{County of Nottoway, Nottoway Co, Nottoway Cou...</td>\n      <td>County of Nottoway</td>\n      <td>town</td>\n    </tr>\n    <tr>\n      <th>463</th>\n      <td>{Bo Norfolk, B Norfolk, Borough of Norfolk}</td>\n      <td>Borough of Norfolk</td>\n      <td>town</td>\n    </tr>\n    <tr>\n      <th>466</th>\n      <td>{County of Prince George, Prince Edward County...</td>\n      <td>County of Prince George</td>\n      <td>town</td>\n    </tr>\n    <tr>\n      <th>467</th>\n      <td>{Sullivan Co South Western Territory, Sullivan...</td>\n      <td>Sullivan Co South Western Territory</td>\n      <td>town</td>\n    </tr>\n    <tr>\n      <th>469</th>\n      <td>{County of Amelia, Ameila Co, Amelia County}</td>\n      <td>County of Amelia</td>\n      <td>town</td>\n    </tr>\n    <tr>\n      <th>472</th>\n      <td>{Culpeper County, Culpeper Co, County of Culpe...</td>\n      <td>County of Culpeper</td>\n      <td>town</td>\n    </tr>\n    <tr>\n      <th>475</th>\n      <td>{Dinwiddie County, County of Dinwiddle, Dinwid...</td>\n      <td>County of Dinwiddle</td>\n      <td>town</td>\n    </tr>\n    <tr>\n      <th>477</th>\n      <td>{County of Albemarle, Albemarle Co, Albemarle ...</td>\n      <td>County of Albemarle</td>\n      <td>town</td>\n    </tr>\n    <tr>\n      <th>478</th>\n      <td>{Western Jerritory, Western Territory}</td>\n      <td>Western Jerritory</td>\n      <td>town</td>\n    </tr>\n    <tr>\n      <th>482</th>\n      <td>{County of Caroline, Caroline Co, Carolina Cou...</td>\n      <td>County of Caroline</td>\n      <td>town</td>\n    </tr>\n    <tr>\n      <th>486</th>\n      <td>{Louisa County, County of Louisa, Lousia Co}</td>\n      <td>County of Louisa</td>\n      <td>town</td>\n    </tr>\n    <tr>\n      <th>487</th>\n      <td>{Bo Of Norfolk, Bo of Norfolk}</td>\n      <td>Bo Of Norfolk</td>\n      <td>town</td>\n    </tr>\n    <tr>\n      <th>490</th>\n      <td>{Surry Co, Surry County, County of Surry}</td>\n      <td>County of Surry</td>\n      <td>town</td>\n    </tr>\n    <tr>\n      <th>492</th>\n      <td>{Suffolk, Sulfolk}</td>\n      <td>Suffolk</td>\n      <td>town</td>\n    </tr>\n    <tr>\n      <th>493</th>\n      <td>{County of Brunswick, Brunswick, Brunswick Co}</td>\n      <td>County of Brunswick</td>\n      <td>town</td>\n    </tr>\n    <tr>\n      <th>495</th>\n      <td>{County of Elizabeth City, Elizabeth City Coun...</td>\n      <td>County of Elizabeth City</td>\n      <td>town</td>\n    </tr>\n    <tr>\n      <th>496</th>\n      <td>{Berkley County, County of Berkley, Berkley Co}</td>\n      <td>County of Berkley</td>\n      <td>town</td>\n    </tr>\n    <tr>\n      <th>497</th>\n      <td>{Goodland Co, Goochland County}</td>\n      <td>Goochland County</td>\n      <td>town</td>\n    </tr>\n    <tr>\n      <th>502</th>\n      <td>{Accomack County, County of Accomac, Accomac Co}</td>\n      <td>County of Accomac</td>\n      <td>town</td>\n    </tr>\n    <tr>\n      <th>503</th>\n      <td>{Culpeper County, Culpeper Co, Culpepar}</td>\n      <td>Culpeper County</td>\n      <td>town</td>\n    </tr>\n    <tr>\n      <th>506</th>\n      <td>{County of Essex, Essex Co, Essex County}</td>\n      <td>County of Essex</td>\n      <td>town</td>\n    </tr>\n    <tr>\n      <th>514</th>\n      <td>{Culpeper in Trust for James Duncanson, Culpep...</td>\n      <td>Culpeper in Trust for James Duncanson</td>\n      <td>town</td>\n    </tr>\n    <tr>\n      <th>519</th>\n      <td>{District of Kentucky, District Kentucky}</td>\n      <td>District of Kentucky</td>\n      <td>town</td>\n    </tr>\n    <tr>\n      <th>523</th>\n      <td>{Montogomery County, Montgomerie County, Montg...</td>\n      <td>Montogomery County</td>\n      <td>town</td>\n    </tr>\n    <tr>\n      <th>529</th>\n      <td>{King and Queen County, King and Quin Co, King...</td>\n      <td>Kings and Queen County</td>\n      <td>town</td>\n    </tr>\n    <tr>\n      <th>541</th>\n      <td>{Bo of Norfolk, Borough of Norfolk}</td>\n      <td>Borough of Norfolk</td>\n      <td>town</td>\n    </tr>\n    <tr>\n      <th>543</th>\n      <td>{Berkley County, Beckley Co}</td>\n      <td>Berkley County</td>\n      <td>town</td>\n    </tr>\n    <tr>\n      <th>546</th>\n      <td>{City of New York, City New York}</td>\n      <td>City of New York</td>\n      <td>town</td>\n    </tr>\n    <tr>\n      <th>547</th>\n      <td>{Amhert County, Amherst County, Amherst Co}</td>\n      <td>Amherst County</td>\n      <td>town</td>\n    </tr>\n    <tr>\n      <th>549</th>\n      <td>{Greenbrier Co, Greenbrier County, Greenbier C...</td>\n      <td>Greenbrier County</td>\n      <td>town</td>\n    </tr>\n    <tr>\n      <th>550</th>\n      <td>{Augusta County, Auguston Co}</td>\n      <td>Augusta County</td>\n      <td>town</td>\n    </tr>\n    <tr>\n      <th>562</th>\n      <td>{City of Williamsburge, Williamsburg}</td>\n      <td>City of Williamsburge</td>\n      <td>town</td>\n    </tr>\n    <tr>\n      <th>566</th>\n      <td>{Caroline County, Caroline Co}</td>\n      <td>Caroline County</td>\n      <td>town</td>\n    </tr>\n    <tr>\n      <th>572</th>\n      <td>{Executor of Turner Southall, Southall}</td>\n      <td>Executor of Turner Southall</td>\n      <td>town</td>\n    </tr>\n    <tr>\n      <th>573</th>\n      <td>{Patrick and Co, Patrick County}</td>\n      <td>Patrick and Co</td>\n      <td>town</td>\n    </tr>\n    <tr>\n      <th>574</th>\n      <td>{Culpeper County, Culpeper, White Culpeper Co}</td>\n      <td>White Culpeper Co</td>\n      <td>town</td>\n    </tr>\n    <tr>\n      <th>583</th>\n      <td>{Halifax North Carolina, Halifax N Corolina, H...</td>\n      <td>Halifax North Carolina</td>\n      <td>town</td>\n    </tr>\n    <tr>\n      <th>594</th>\n      <td>{Alexandria, The Town of Alexandria}</td>\n      <td>The Town of Alexandria</td>\n      <td>town</td>\n    </tr>\n    <tr>\n      <th>595</th>\n      <td>{N Kent, New Kent Co, New Kent County}</td>\n      <td>New Kent County</td>\n      <td>town</td>\n    </tr>\n    <tr>\n      <th>597</th>\n      <td>{City of Richmond, Richmond London}</td>\n      <td>City of Richmond</td>\n      <td>town</td>\n    </tr>\n    <tr>\n      <th>598</th>\n      <td>{Fredericksburge, Fredericksburg}</td>\n      <td>Fredericksburge</td>\n      <td>town</td>\n    </tr>\n    <tr>\n      <th>599</th>\n      <td>{Glocester Co, Glouchester Co, Glocester County}</td>\n      <td>Glocester County</td>\n      <td>town</td>\n    </tr>\n    <tr>\n      <th>602</th>\n      <td>{State of Pennsylvania, Pennsylvania}</td>\n      <td>State of Pennsylvania</td>\n      <td>town</td>\n    </tr>\n    <tr>\n      <th>605</th>\n      <td>{Accomack County, Accomac}</td>\n      <td>Accomack County</td>\n      <td>town</td>\n    </tr>\n    <tr>\n      <th>608</th>\n      <td>{Frederick Co, Frederick County, Fredericksbur...</td>\n      <td>Fredericksburg County</td>\n      <td>town</td>\n    </tr>\n    <tr>\n      <th>611</th>\n      <td>{Alexanderia, Alexandria, Town of Alexandria}</td>\n      <td>Town of Alexandria</td>\n      <td>town</td>\n    </tr>\n    <tr>\n      <th>612</th>\n      <td>{Jefferson County, Jefferson Co, Jefferson}</td>\n      <td>Jefferson County</td>\n      <td>town</td>\n    </tr>\n    <tr>\n      <th>617</th>\n      <td>{Augusta, Augusta County, Augusta Co}</td>\n      <td>Augusta County</td>\n      <td>town</td>\n    </tr>\n    <tr>\n      <th>618</th>\n      <td>{Brunswick County, Burnswick, Brunswick Co}</td>\n      <td>Brunswick County</td>\n      <td>town</td>\n    </tr>\n    <tr>\n      <th>621</th>\n      <td>{Accomack County, Accomac, Accomac Co}</td>\n      <td>Accomack County</td>\n      <td>town</td>\n    </tr>\n    <tr>\n      <th>622</th>\n      <td>{Shenandoah Co, Augusta Shenandoah, Shenandoah...</td>\n      <td>Augusta Shenandoah</td>\n      <td>town</td>\n    </tr>\n    <tr>\n      <th>624</th>\n      <td>{Northampton, North Hampton, Northampton Co}</td>\n      <td>Northampton Co</td>\n      <td>town</td>\n    </tr>\n    <tr>\n      <th>625</th>\n      <td>{James City, James City County}</td>\n      <td>James City County</td>\n      <td>town</td>\n    </tr>\n    <tr>\n      <th>626</th>\n      <td>{Henry Co, Henry County}</td>\n      <td>Henry County</td>\n      <td>town</td>\n    </tr>\n    <tr>\n      <th>628</th>\n      <td>{Lancaster, Lancaster County}</td>\n      <td>Lancaster County</td>\n      <td>town</td>\n    </tr>\n    <tr>\n      <th>632</th>\n      <td>{Lunenburg County, Lunenburg Co, Lunenburg}</td>\n      <td>Lunenburg County</td>\n      <td>town</td>\n    </tr>\n    <tr>\n      <th>633</th>\n      <td>{George Accomac Co, King and Queen County, Kin...</td>\n      <td>King and Queen County</td>\n      <td>town</td>\n    </tr>\n    <tr>\n      <th>634</th>\n      <td>{King and Queen County, King and Queen Co, Kin...</td>\n      <td>King and Queen County</td>\n      <td>town</td>\n    </tr>\n    <tr>\n      <th>635</th>\n      <td>{Richmond County, Richmond}</td>\n      <td>Richmond County</td>\n      <td>town</td>\n    </tr>\n    <tr>\n      <th>638</th>\n      <td>{Louisa County, Louisa}</td>\n      <td>Louisa County</td>\n      <td>town</td>\n    </tr>\n    <tr>\n      <th>639</th>\n      <td>{Richmond County, Richmond, Richmond Co}</td>\n      <td>Richmond County</td>\n      <td>town</td>\n    </tr>\n    <tr>\n      <th>640</th>\n      <td>{Caroline Co, Caroline, Caroline County}</td>\n      <td>Caroline County</td>\n      <td>town</td>\n    </tr>\n    <tr>\n      <th>641</th>\n      <td>{Albemarle, Albemarle Co, Albemarle County}</td>\n      <td>Albemarle County</td>\n      <td>town</td>\n    </tr>\n    <tr>\n      <th>644</th>\n      <td>{North Hampton, North Hampton County, Northamp...</td>\n      <td>North Hampton County</td>\n      <td>town</td>\n    </tr>\n    <tr>\n      <th>645</th>\n      <td>{Fredricksburg, Town of Fredericksberg, Freder...</td>\n      <td>Town of Fredericksberg</td>\n      <td>town</td>\n    </tr>\n    <tr>\n      <th>649</th>\n      <td>{Taug, Fauquier Co, Fauquier County}</td>\n      <td>Fauquier County</td>\n      <td>town</td>\n    </tr>\n    <tr>\n      <th>650</th>\n      <td>{Amlia Co, Amelia, Amelia County}</td>\n      <td>Amelia County</td>\n      <td>town</td>\n    </tr>\n    <tr>\n      <th>651</th>\n      <td>{Rockbridge, Rock Bridge Co, Rockbridge County}</td>\n      <td>Rockbridge County</td>\n      <td>town</td>\n    </tr>\n    <tr>\n      <th>652</th>\n      <td>{Loudon County, London, London Co}</td>\n      <td>Loudon County</td>\n      <td>town</td>\n    </tr>\n    <tr>\n      <th>653</th>\n      <td>{Fauquire, Fauquier County}</td>\n      <td>Fauquier County</td>\n      <td>town</td>\n    </tr>\n    <tr>\n      <th>656</th>\n      <td>{Borough County, Bo Norfolk, B Norfolk}</td>\n      <td>Borough County</td>\n      <td>town</td>\n    </tr>\n    <tr>\n      <th>657</th>\n      <td>{Falmouth, Town of Falmouth, Town of Falmouth ...</td>\n      <td>Town of Falmouth Virginia</td>\n      <td>town</td>\n    </tr>\n    <tr>\n      <th>658</th>\n      <td>{Powhatan County, Powhatan Co, Powhatan}</td>\n      <td>Powhatan County</td>\n      <td>town</td>\n    </tr>\n    <tr>\n      <th>659</th>\n      <td>{Isle Wight Co, Isle of Wright, Isle Wight}</td>\n      <td>Isle of Wright</td>\n      <td>town</td>\n    </tr>\n    <tr>\n      <th>660</th>\n      <td>{Ohio Co, Ohio, Ohio County}</td>\n      <td>Ohio County</td>\n      <td>town</td>\n    </tr>\n    <tr>\n      <th>661</th>\n      <td>{Caroline, Caroline Co, Carolin County}</td>\n      <td>Carolin County</td>\n      <td>town</td>\n    </tr>\n    <tr>\n      <th>665</th>\n      <td>{Richmond County, Richmond, Richmond City}</td>\n      <td>Richmond County</td>\n      <td>town</td>\n    </tr>\n    <tr>\n      <th>666</th>\n      <td>{Botetort Co, Botelort, Botetourt County}</td>\n      <td>Botetourt County</td>\n      <td>town</td>\n    </tr>\n    <tr>\n      <th>668</th>\n      <td>{Lancaster, Lancaster County, Lancaster Co}</td>\n      <td>Lancaster County</td>\n      <td>town</td>\n    </tr>\n    <tr>\n      <th>669</th>\n      <td>{Orange Co, Orange County, Orange}</td>\n      <td>Orange County</td>\n      <td>town</td>\n    </tr>\n    <tr>\n      <th>671</th>\n      <td>{Mathews, Matthew Co, Matthew County}</td>\n      <td>Matthew County</td>\n      <td>town</td>\n    </tr>\n    <tr>\n      <th>672</th>\n      <td>{Halifax Co, Senior, Halifax County}</td>\n      <td>Halifax County</td>\n      <td>town</td>\n    </tr>\n    <tr>\n      <th>673</th>\n      <td>{Campbell Co, Campbell County, Campbell}</td>\n      <td>Campbell County</td>\n      <td>town</td>\n    </tr>\n    <tr>\n      <th>674</th>\n      <td>{Hanover, Hanover County}</td>\n      <td>Hanover County</td>\n      <td>town</td>\n    </tr>\n    <tr>\n      <th>675</th>\n      <td>{New York, City New York}</td>\n      <td>City New York</td>\n      <td>town</td>\n    </tr>\n    <tr>\n      <th>676</th>\n      <td>{Berkley County, Berkley Co, Berkley}</td>\n      <td>Berkley County</td>\n      <td>town</td>\n    </tr>\n    <tr>\n      <th>677</th>\n      <td>{Greenbrier Co, Greenbrier, Greenbrier County}</td>\n      <td>Greenbrier County</td>\n      <td>town</td>\n    </tr>\n    <tr>\n      <th>679</th>\n      <td>{Hampton, Fredericksburg}</td>\n      <td>Fredericksburg</td>\n      <td>town</td>\n    </tr>\n    <tr>\n      <th>681</th>\n      <td>{South Hampton, S Hampton}</td>\n      <td>South Hampton</td>\n      <td>town</td>\n    </tr>\n    <tr>\n      <th>682</th>\n      <td>{Newkent County, New Kent, New Kent Co}</td>\n      <td>Newkent County</td>\n      <td>town</td>\n    </tr>\n    <tr>\n      <th>683</th>\n      <td>{Fredricksburg, Fredericksburg}</td>\n      <td>Fredericksburg</td>\n      <td>town</td>\n    </tr>\n    <tr>\n      <th>684</th>\n      <td>{Campball, Campbell Co, Campbell County}</td>\n      <td>Campbell County</td>\n      <td>town</td>\n    </tr>\n    <tr>\n      <th>685</th>\n      <td>{Louden, Loudon County, Loudon Co}</td>\n      <td>Loudon County</td>\n      <td>town</td>\n    </tr>\n    <tr>\n      <th>687</th>\n      <td>{Prince Edmund Co, Prince Edward County, Princ...</td>\n      <td>Prince Edward County</td>\n      <td>town</td>\n    </tr>\n    <tr>\n      <th>693</th>\n      <td>{Amelia, Amelia County}</td>\n      <td>Amelia County</td>\n      <td>town</td>\n    </tr>\n    <tr>\n      <th>695</th>\n      <td>{Berkley County, Barkley, Berkley Co}</td>\n      <td>Berkley County</td>\n      <td>town</td>\n    </tr>\n    <tr>\n      <th>698</th>\n      <td>{George Town, Geo, George Town Maryland}</td>\n      <td>George Town Maryland</td>\n      <td>town</td>\n    </tr>\n    <tr>\n      <th>699</th>\n      <td>{George Town, George Town Maryland, George}</td>\n      <td>George Town Maryland</td>\n      <td>town</td>\n    </tr>\n    <tr>\n      <th>703</th>\n      <td>{Frederick Co, Frederick County, Frederick}</td>\n      <td>Frederick County</td>\n      <td>town</td>\n    </tr>\n    <tr>\n      <th>715</th>\n      <td>{The County of Carolina, Caroline Co}</td>\n      <td>The County of Carolina</td>\n      <td>town</td>\n    </tr>\n    <tr>\n      <th>716</th>\n      <td>{Essex, Essex County}</td>\n      <td>Essex County</td>\n      <td>town</td>\n    </tr>\n    <tr>\n      <th>717</th>\n      <td>{King William County, King William, King Willi...</td>\n      <td>King William County</td>\n      <td>town</td>\n    </tr>\n    <tr>\n      <th>721</th>\n      <td>{New Kent, Warwick County}</td>\n      <td>Warwick County</td>\n      <td>town</td>\n    </tr>\n    <tr>\n      <th>722</th>\n      <td>{London, Petersburg}</td>\n      <td>Petersburg</td>\n      <td>town</td>\n    </tr>\n    <tr>\n      <th>727</th>\n      <td>{N Kent, New Kent County}</td>\n      <td>New Kent County</td>\n      <td>town</td>\n    </tr>\n    <tr>\n      <th>728</th>\n      <td>{Frederickburg County, Frederick, Frederick Co}</td>\n      <td>Frederickburg County</td>\n      <td>town</td>\n    </tr>\n    <tr>\n      <th>741</th>\n      <td>{Hanover Co, Hanover County, Hanover}</td>\n      <td>Hanover County</td>\n      <td>town</td>\n    </tr>\n    <tr>\n      <th>742</th>\n      <td>{Loudon County, London, London County}</td>\n      <td>Loudon County</td>\n      <td>town</td>\n    </tr>\n    <tr>\n      <th>744</th>\n      <td>{Petersberg, Town of Petersburg}</td>\n      <td>Town of Petersburg</td>\n      <td>town</td>\n    </tr>\n    <tr>\n      <th>750</th>\n      <td>{City of Richmond, Richmond, City Richmond}</td>\n      <td>City of Richmond</td>\n      <td>town</td>\n    </tr>\n    <tr>\n      <th>758</th>\n      <td>{Borough Norfolk, b Norfolk, Borough of Norfolk}</td>\n      <td>Borough of Norfolk</td>\n      <td>town</td>\n    </tr>\n    <tr>\n      <th>759</th>\n      <td>{Glouchester County, Gloster County, Gloster}</td>\n      <td>Glouchester County</td>\n      <td>town</td>\n    </tr>\n    <tr>\n      <th>764</th>\n      <td>{King and Queen Coventy, King and Queen County...</td>\n      <td>King and Queen Coventy</td>\n      <td>town</td>\n    </tr>\n    <tr>\n      <th>766</th>\n      <td>{Norfolk County, Norwick County, Bar Norfolk}</td>\n      <td>Norfolk County</td>\n      <td>town</td>\n    </tr>\n    <tr>\n      <th>777</th>\n      <td>{London, Richmond}</td>\n      <td>Richmond</td>\n      <td>town</td>\n    </tr>\n    <tr>\n      <th>779</th>\n      <td>{Glouchester County, Gloster County}</td>\n      <td>Glouchester County</td>\n      <td>town</td>\n    </tr>\n    <tr>\n      <th>785</th>\n      <td>{King and Queen County, King &amp; Queen}</td>\n      <td>King and Queen County</td>\n      <td>town</td>\n    </tr>\n    <tr>\n      <th>801</th>\n      <td>{Brunswick County, Burnswick, Bruckswick Co}</td>\n      <td>Brunswick County</td>\n      <td>town</td>\n    </tr>\n    <tr>\n      <th>805</th>\n      <td>{New Kent, New Kent Co, New Hunt County}</td>\n      <td>New Hunt County</td>\n      <td>town</td>\n    </tr>\n    <tr>\n      <th>806</th>\n      <td>{Winchester, Town of Winchester}</td>\n      <td>Town of Winchester</td>\n      <td>town</td>\n    </tr>\n    <tr>\n      <th>808</th>\n      <td>{Williamsburg County, Williamsburg}</td>\n      <td>Williamsburg County</td>\n      <td>town</td>\n    </tr>\n    <tr>\n      <th>820</th>\n      <td>{Rockbridge Co, R Bridge, Rockbridge County}</td>\n      <td>Rockbridge County</td>\n      <td>town</td>\n    </tr>\n    <tr>\n      <th>823</th>\n      <td>{James City, James City Co, James City County}</td>\n      <td>James City County</td>\n      <td>town</td>\n    </tr>\n    <tr>\n      <th>827</th>\n      <td>{State of Georgia, Georgia}</td>\n      <td>State of Georgia</td>\n      <td>town</td>\n    </tr>\n    <tr>\n      <th>835</th>\n      <td>{James City Co, James City County, James}</td>\n      <td>James City County</td>\n      <td>town</td>\n    </tr>\n    <tr>\n      <th>837</th>\n      <td>{Caroline, Caroline County}</td>\n      <td>Caroline County</td>\n      <td>town</td>\n    </tr>\n    <tr>\n      <th>841</th>\n      <td>{Powhatan County, Powhatan}</td>\n      <td>Powhatan County</td>\n      <td>town</td>\n    </tr>\n    <tr>\n      <th>842</th>\n      <td>{Bedford, Bedford County}</td>\n      <td>Bedford County</td>\n      <td>town</td>\n    </tr>\n    <tr>\n      <th>845</th>\n      <td>{Fauq, Fauquier County}</td>\n      <td>Fauquier County</td>\n      <td>town</td>\n    </tr>\n    <tr>\n      <th>850</th>\n      <td>{Henrico County, Henrico}</td>\n      <td>Henrico County</td>\n      <td>town</td>\n    </tr>\n    <tr>\n      <th>859</th>\n      <td>{Chesterfield, Chesterfield Co}</td>\n      <td>Chesterfield Co</td>\n      <td>town</td>\n    </tr>\n    <tr>\n      <th>864</th>\n      <td>{State of Kentucky, Cumberland, Cumberland Cou...</td>\n      <td>State of Kentucky</td>\n      <td>town</td>\n    </tr>\n    <tr>\n      <th>881</th>\n      <td>{Mecklenburg County, Mecklenberg}</td>\n      <td>Mecklenburg County</td>\n      <td>town</td>\n    </tr>\n    <tr>\n      <th>889</th>\n      <td>{City Richmond, The City of Richmond}</td>\n      <td>The City of Richmond</td>\n      <td>town</td>\n    </tr>\n    <tr>\n      <th>37</th>\n      <td>{Administrator of Robert Ritchie, adm of Rober...</td>\n      <td>Administrator of Robert Ritchie</td>\n      <td>occupation</td>\n    </tr>\n    <tr>\n      <th>42</th>\n      <td>{Executrix of Richmond Brown, Executor of Rich...</td>\n      <td>Executrix of Richmond Brown</td>\n      <td>occupation</td>\n    </tr>\n    <tr>\n      <th>56</th>\n      <td>{Executors Thomas Williamson, Executor Thomas ...</td>\n      <td>Executor of the Thomas Williamson</td>\n      <td>occupation</td>\n    </tr>\n    <tr>\n      <th>62</th>\n      <td>{In Trust for Francis Charlton, In trust for F...</td>\n      <td>In Trust for Francis Charlton</td>\n      <td>occupation</td>\n    </tr>\n    <tr>\n      <th>63</th>\n      <td>{In Trust for William Short, In trust for Will...</td>\n      <td>In Trust for William Short</td>\n      <td>occupation</td>\n    </tr>\n    <tr>\n      <th>67</th>\n      <td>{In trust for Willinge Morris and Swanwick, In...</td>\n      <td>In trust for Willinge Morris and Swanwick</td>\n      <td>occupation</td>\n    </tr>\n    <tr>\n      <th>70</th>\n      <td>{In Trust for St George Tucker Williamsburg, I...</td>\n      <td>In Trust for St George Tucker Williamsburg</td>\n      <td>occupation</td>\n    </tr>\n    <tr>\n      <th>71</th>\n      <td>{In Trust for Benjamin Harrison Prince George ...</td>\n      <td>In Trust for Benjamin Harrison Prince George C...</td>\n      <td>occupation</td>\n    </tr>\n    <tr>\n      <th>72</th>\n      <td>{Exe of Hugh Paton, Excer Hugh Patton}</td>\n      <td>Exe of Hugh Paton</td>\n      <td>occupation</td>\n    </tr>\n    <tr>\n      <th>73</th>\n      <td>{John Swanwick in trust, In trust for John Swa...</td>\n      <td>In trust for John Swanwick</td>\n      <td>occupation</td>\n    </tr>\n    <tr>\n      <th>75</th>\n      <td>{In Trust, In trust for the Jn Le Mayeur, In T...</td>\n      <td>In trust for the Jn Le Mayeur</td>\n      <td>occupation</td>\n    </tr>\n    <tr>\n      <th>81</th>\n      <td>{In Trust for John Swan, Trust for John Swan, ...</td>\n      <td>In trust for John Jonathan</td>\n      <td>occupation</td>\n    </tr>\n    <tr>\n      <th>82</th>\n      <td>{In trust for Archibald Montcrieff, In Trust f...</td>\n      <td>In trust for Archibald Montcrieff</td>\n      <td>occupation</td>\n    </tr>\n    <tr>\n      <th>83</th>\n      <td>{In Trust for McNewman, In trust for M Newman}</td>\n      <td>In Trust for McNewman</td>\n      <td>occupation</td>\n    </tr>\n    <tr>\n      <th>84</th>\n      <td>{In Trust for Andrew Glassell, In trust for An...</td>\n      <td>In Trust for Andrew Glassell</td>\n      <td>occupation</td>\n    </tr>\n    <tr>\n      <th>104</th>\n      <td>{In Trust for William Ruffins Est, In trust fo...</td>\n      <td>In Trust for William Ruffins Est</td>\n      <td>occupation</td>\n    </tr>\n    <tr>\n      <th>106</th>\n      <td>{Executor for Edward Travis, Executor of Edwar...</td>\n      <td>Executor for Edward Travis</td>\n      <td>occupation</td>\n    </tr>\n    <tr>\n      <th>107</th>\n      <td>{Executor of Jn Camm, Executors of John Camm}</td>\n      <td>Executors of John Camm</td>\n      <td>occupation</td>\n    </tr>\n    <tr>\n      <th>121</th>\n      <td>{In trust for Mariamne Williams, In Trust for ...</td>\n      <td>In trust for Mariamne Williams</td>\n      <td>occupation</td>\n    </tr>\n    <tr>\n      <th>122</th>\n      <td>{In Trust for Alexander London, In trust Alexa...</td>\n      <td>In Trust for Alexander Jn alexander City of Lo...</td>\n      <td>occupation</td>\n    </tr>\n    <tr>\n      <th>153</th>\n      <td>{Administrator G C Jucker, Admr G C Tucker, Ad...</td>\n      <td>Administrator G C Jucker</td>\n      <td>occupation</td>\n    </tr>\n    <tr>\n      <th>195</th>\n      <td>{Executor Bennet White, Executor of Bennet White}</td>\n      <td>Executor of Bennet White</td>\n      <td>occupation</td>\n    </tr>\n    <tr>\n      <th>223</th>\n      <td>{In trust for Robert Gilmer Baltimore, In trus...</td>\n      <td>In trust for Robert Gilmer Baltimore</td>\n      <td>occupation</td>\n    </tr>\n    <tr>\n      <th>224</th>\n      <td>{Exetors of William Carr, Excrs William Carr, ...</td>\n      <td>Exetors of William Carr</td>\n      <td>occupation</td>\n    </tr>\n    <tr>\n      <th>233</th>\n      <td>{Treasurer, Treasurer of the Cincinnati}</td>\n      <td>Treasurer of the Cincinnati</td>\n      <td>occupation</td>\n    </tr>\n    <tr>\n      <th>240</th>\n      <td>{Executor of Murphy, Excrs M Murphy}</td>\n      <td>Executor of Murphy</td>\n      <td>occupation</td>\n    </tr>\n    <tr>\n      <th>266</th>\n      <td>{Excr of John Greehow, Executor of John Greenhow}</td>\n      <td>Executor of John Greenhow</td>\n      <td>occupation</td>\n    </tr>\n    <tr>\n      <th>272</th>\n      <td>{in trust for Chesley Kenny, In Trust for Ches...</td>\n      <td>in trust for Chesley Kenny</td>\n      <td>occupation</td>\n    </tr>\n    <tr>\n      <th>294</th>\n      <td>{Adm of J P Custes, Executor of J P Custis, Ad...</td>\n      <td>Administrator JP Custrs</td>\n      <td>occupation</td>\n    </tr>\n    <tr>\n      <th>305</th>\n      <td>{Executor of Jn Harris, Executor of John Harri...</td>\n      <td>Executor of the Jn Harris</td>\n      <td>occupation</td>\n    </tr>\n    <tr>\n      <th>313</th>\n      <td>{Esquire, Esq}</td>\n      <td>Esquire</td>\n      <td>occupation</td>\n    </tr>\n    <tr>\n      <th>331</th>\n      <td>{Executor Roger Quarles, Excr of Roger Quarles}</td>\n      <td>Executor Roger Quarles</td>\n      <td>occupation</td>\n    </tr>\n    <tr>\n      <th>361</th>\n      <td>{In Trust for Robert Nicolson, In trust for Ro...</td>\n      <td>In Trust for Robert Nicolson</td>\n      <td>occupation</td>\n    </tr>\n    <tr>\n      <th>372</th>\n      <td>{In Trust for Henry Skinner, In trust for Henr...</td>\n      <td>In Trust for Henry Skinner</td>\n      <td>occupation</td>\n    </tr>\n    <tr>\n      <th>375</th>\n      <td>{In Trust for George Breckenridge, In trust fo...</td>\n      <td>In Trust for George Breckenridge</td>\n      <td>occupation</td>\n    </tr>\n    <tr>\n      <th>378</th>\n      <td>{Excrs of Samuel Scherwin, Executor Samuel Sch...</td>\n      <td>Excrs of Samuel Scherwin</td>\n      <td>occupation</td>\n    </tr>\n    <tr>\n      <th>413</th>\n      <td>{Executor for John Trabue, Executor of John Tr...</td>\n      <td>Executor for John Trabue</td>\n      <td>occupation</td>\n    </tr>\n    <tr>\n      <th>434</th>\n      <td>{Executor of William Dangerfield, Executor Wil...</td>\n      <td>Executor of William Dangerfield</td>\n      <td>occupation</td>\n    </tr>\n    <tr>\n      <th>438</th>\n      <td>{In Trust for Elizabeth Lewis, In trust for El...</td>\n      <td>In Trust for Elizabeth Lewis</td>\n      <td>occupation</td>\n    </tr>\n    <tr>\n      <th>452</th>\n      <td>{In Trust for Administrator of John Robinson, ...</td>\n      <td>In trust for the Administrator of Jn Robinson</td>\n      <td>occupation</td>\n    </tr>\n    <tr>\n      <th>455</th>\n      <td>{Executors of Samuel Boush, Executor of Samuel...</td>\n      <td>Executors of Samuel Boush</td>\n      <td>occupation</td>\n    </tr>\n    <tr>\n      <th>473</th>\n      <td>{Executors Thomas Lewis, Executor of Thomas Le...</td>\n      <td>Executor of Thomas Lewis</td>\n      <td>occupation</td>\n    </tr>\n    <tr>\n      <th>505</th>\n      <td>{In Trust for the Dismal Swamp Company, In tru...</td>\n      <td>In Trust for the Dismal Swamp Company</td>\n      <td>occupation</td>\n    </tr>\n    <tr>\n      <th>514</th>\n      <td>{In trust for James Duncanson, In trust for Ja...</td>\n      <td>In trust for James Duncanson</td>\n      <td>occupation</td>\n    </tr>\n    <tr>\n      <th>518</th>\n      <td>{In trust for the Legatees of John Ramsay, In ...</td>\n      <td>In trust for the Legatees of John Ramsay</td>\n      <td>occupation</td>\n    </tr>\n    <tr>\n      <th>539</th>\n      <td>{In trust for the Trustees of John Bland, In t...</td>\n      <td>In trust for the Trustees of John Bland</td>\n      <td>occupation</td>\n    </tr>\n    <tr>\n      <th>545</th>\n      <td>{In Trust of Mary Ramsay, In trust for Mary Ra...</td>\n      <td>In trust for Mary Ramsay</td>\n      <td>occupation</td>\n    </tr>\n    <tr>\n      <th>559</th>\n      <td>{In trust for the Alexa Fire Comp, In trust fo...</td>\n      <td>In trust for the Alexandria Fire Comp</td>\n      <td>occupation</td>\n    </tr>\n    <tr>\n      <th>563</th>\n      <td>{In trust for the adminastrator Jn Robinson, I...</td>\n      <td>In Trust for the Administrators of John Robinson</td>\n      <td>occupation</td>\n    </tr>\n    <tr>\n      <th>572</th>\n      <td>{Turner Excr, Executors of Turner Southall}</td>\n      <td>Executors of Turner Southall</td>\n      <td>occupation</td>\n    </tr>\n    <tr>\n      <th>574</th>\n      <td>{Adminatrix of Armstead White, Admrx of Armist...</td>\n      <td>Administratix of Armislead White</td>\n      <td>occupation</td>\n    </tr>\n    <tr>\n      <th>575</th>\n      <td>{Excrs of R Gilchrist, Executors R Gilchrist}</td>\n      <td>Executors R Gilchrist</td>\n      <td>occupation</td>\n    </tr>\n    <tr>\n      <th>586</th>\n      <td>{Excrs Jo Serevener, Executor T Scriviner, Exe...</td>\n      <td>Executor of Joseph Scrivener</td>\n      <td>occupation</td>\n    </tr>\n    <tr>\n      <th>593</th>\n      <td>{Adm of Strother Jones, Adm Strother Jones}</td>\n      <td>Adm of Strother Jones</td>\n      <td>occupation</td>\n    </tr>\n    <tr>\n      <th>605</th>\n      <td>{Excr of R Gilchrist Accomac Co, Executors of ...</td>\n      <td>Excr of R Gilchrist Accomac Co</td>\n      <td>occupation</td>\n    </tr>\n    <tr>\n      <th>633</th>\n      <td>{Executer G Smith, Excrs, Executors of G Smith}</td>\n      <td>Executors of G Smith</td>\n      <td>occupation</td>\n    </tr>\n    <tr>\n      <th>636</th>\n      <td>{In trust for R H Waller Executor of J Camm, ,...</td>\n      <td>In trust for R H Waller Executor of J Camm</td>\n      <td>occupation</td>\n    </tr>\n    <tr>\n      <th>638</th>\n      <td>{Executors of Josiah Lipscomb, Excr Josiah Lip...</td>\n      <td>Executors of Josiah Lipscomb</td>\n      <td>occupation</td>\n    </tr>\n    <tr>\n      <th>639</th>\n      <td>{Excr Samuel Williams, Executer Sam Williams, ...</td>\n      <td>Executors of Samuel Williams</td>\n      <td>occupation</td>\n    </tr>\n    <tr>\n      <th>673</th>\n      <td>{In trust for Jn Holm, In trust for John Helm,...</td>\n      <td>In trust for John Helm</td>\n      <td>occupation</td>\n    </tr>\n    <tr>\n      <th>686</th>\n      <td>{In trust for John Mannick Huysen, In trust fo...</td>\n      <td>In trust for John Mannick Huysen</td>\n      <td>occupation</td>\n    </tr>\n    <tr>\n      <th>689</th>\n      <td>{Excrs of William Pearl, Executors of William ...</td>\n      <td>Executors of William Pearl</td>\n      <td>occupation</td>\n    </tr>\n    <tr>\n      <th>693</th>\n      <td>{Excrs Alexander McNabb, Executors of Alexande...</td>\n      <td>Executors of Alexander McNabb</td>\n      <td>occupation</td>\n    </tr>\n    <tr>\n      <th>702</th>\n      <td>{In trust for Richard Smyth, In trust for R Sm...</td>\n      <td>In trust for Richard Smyth</td>\n      <td>occupation</td>\n    </tr>\n    <tr>\n      <th>704</th>\n      <td>{In trust for Richard Smyth, Trust &amp; C for Ric...</td>\n      <td>In trust and Co for Richard Smyth</td>\n      <td>occupation</td>\n    </tr>\n    <tr>\n      <th>705</th>\n      <td>{In trust for James Coleman, In trust for J Co...</td>\n      <td>In trust for James Coleman</td>\n      <td>occupation</td>\n    </tr>\n    <tr>\n      <th>722</th>\n      <td>{In trust for Alexander Bigbee London, In trus...</td>\n      <td>In trust for Alexander Bigbee London</td>\n      <td>occupation</td>\n    </tr>\n    <tr>\n      <th>743</th>\n      <td>{In trust &amp; co I Ball, In trust for J Ball}</td>\n      <td>In trust &amp; co I Ball</td>\n      <td>occupation</td>\n    </tr>\n    <tr>\n      <th>777</th>\n      <td>{Trust for Geo Morrison, In trust for George M...</td>\n      <td>In trust for George Morrison London</td>\n      <td>occupation</td>\n    </tr>\n    <tr>\n      <th>831</th>\n      <td>{In trust for J Robinson, In trust for Jn Robi...</td>\n      <td>In trust for Jn Robinson RB</td>\n      <td>occupation</td>\n    </tr>\n    <tr>\n      <th>875</th>\n      <td>{Executors of James Minor, Exec James Minor Lo...</td>\n      <td>Exec James Minor Louisa Co</td>\n      <td>occupation</td>\n    </tr>\n    <tr>\n      <th>905</th>\n      <td>{Administrator of McKennie Sumner, Adm of McKe...</td>\n      <td>Administrator of McKennie Sumner</td>\n      <td>occupation</td>\n    </tr>\n  </tbody>\n</table>\n</div>"
     },
     "metadata": {},
     "output_type": "display_data"
    }
   ],
   "source": [
    "#prepare loan dataset\n",
    "VA_ASD_raw = pd.read_excel(\"../data_raw/post1790/VA/VA_ASD.xlsx\", header = 11,\n",
    "                       usecols = 'D, E, F, G, N, O, U, V, W, X, AE, AF, AL, AM, AN, AO, AW, AX')\n",
    "VA_ASD_raw.columns = ['First Name', 'Last Name', 'town1', 'occupation1', '6p_Dollar', '6p_Cents',\n",
    "                  'First Name.1', 'Last Name.1', 'town2', 'occupation2', '6p_def_Dollar', '6p_def_Cents',\n",
    "                  'First Name.2', 'Last Name.2', 'town3', 'occupation3', '3p_Dollar', '3p_Cents']\n",
    "VA_ASD_raw['state1'] = np.nan\n",
    "VA_ASD_raw['state2'] = np.nan\n",
    "VA_ASD_raw['state3'] = np.nan\n",
    "VA_ASD, change_df = combineCols(VA_ASD_raw)\n",
    "VA_ASD.loc[VA_ASD.query('state.isna()').index, 'state'] = 'VA'\n",
    "VA_ASD['state_data'] = 'VA'\n",
    "ASD_all = pd.concat([ASD_all, VA_ASD])\n",
    "with pd.option_context('display.max_rows', None,\n",
    "                       'display.max_columns', None,\n",
    "                       'display.precision', 3,\n",
    "                       ):\n",
    "    display(change_df)"
   ],
   "metadata": {
    "collapsed": false,
    "pycharm": {
     "name": "#%%\n"
    }
   }
  },
  {
   "cell_type": "markdown",
   "source": [
    "## Mapping Town/City to Counties - INCOMPLETE\n",
    "1. Connecticut: Referencing <a href = \"https://ctstatelibrary.org/cttowns/counties\">https://ctstatelibrary.org/cttowns/counties</a> I found that Huntington is now called Shelton and Chatham is now called East Hampton. The other two cases below are not mappable because those are not valid town names.\n",
    "2. Georgia: Investigate more, very few counties"
   ],
   "metadata": {
    "collapsed": false,
    "pycharm": {
     "name": "#%% md\n"
    }
   }
  },
  {
   "cell_type": "code",
   "execution_count": 22,
   "outputs": [],
   "source": [
    "# fuzzy string matching function\n",
    "def fuzzyMatch(unmatched_towns, towns, crosswalk, primary_dict, dict_matchcol = 'primary_city', initial = True, score_threshold = 85):\n",
    "    if initial:\n",
    "        print(\"\\nFuzzy City name - county matches\\n\")\n",
    "    else:\n",
    "        print(\"\\nFuzzy City name - county matches with string changes\\n\")\n",
    "    printedtowns = []\n",
    "    for town in unmatched_towns:\n",
    "        # extract best match\n",
    "        match_tuple = process.extractOne(town, [x for x in crosswalk[dict_matchcol] if not pd.isnull(x)])\n",
    "        score = match_tuple[1]\n",
    "        match = match_tuple[0]\n",
    "        # if match above threshold, change + print match so we can hand check\n",
    "        if score >= score_threshold:\n",
    "            if dict_matchcol == 'primary_city':\n",
    "                county = primary_dict[match]\n",
    "            if dict_matchcol == 'county':\n",
    "                county = match\n",
    "            # add match, print out match\n",
    "            if initial:\n",
    "                print(\"{} -> {} in {}\".format(town, match, county))\n",
    "                town_index = towns[towns['town'] == town].index\n",
    "                towns.loc[town_index, 'county'] = county\n",
    "            else:\n",
    "                original_town = towns[towns['town2'] == town]['town'].tolist()\n",
    "                if town not in printedtowns:\n",
    "                    print(\"{} (new name: {}) -> {} in {}\".format(original_town, town, match, county))\n",
    "                    printedtowns.append(town)\n",
    "                town_index = towns[towns['town'].apply(lambda x: x in original_town)].index\n",
    "                towns.loc[town_index, 'county'] = [county] * len(town_index)\n",
    "    return towns"
   ],
   "metadata": {
    "collapsed": false,
    "pycharm": {
     "name": "#%%\n"
    }
   }
  },
  {
   "cell_type": "code",
   "execution_count": 23,
   "outputs": [],
   "source": [
    "def directTownMatch(state_cw, towns, col = 'primary_city', towncol = 'town'):\n",
    "    print(\"Direct City name - county matches\\n\")\n",
    "    # match towns directly based off crosswalk\n",
    "    primary_dict = dict(zip(state_cw[col],state_cw['county']))\n",
    "    if col == 'primary_city':\n",
    "        towns['county'] = towns[towncol].apply(lambda x: primary_dict.get(x, np.nan))\n",
    "    if col == 'acceptable_cities':\n",
    "        for ind in towns.index:\n",
    "            town = towns.loc[ind, 'town']\n",
    "            county = state_cw[state_cw[col].apply(lambda x: town in x if not pd.isnull(x) else False)]['county'].tolist()\n",
    "            if len(county)>0:\n",
    "                towns.loc[ind, 'county'] = county[0]\n",
    "    t = towns[towns['county'].apply(lambda x: not pd.isnull(x))]\n",
    "    if towncol == 'town':\n",
    "        for tn, cty in zip(t['town'], t['county']):\n",
    "            print(\"{} was matched to {} directly using the crosswalk\".format(tn, cty))\n",
    "    if towncol == 'town2':\n",
    "        for tn, tn_og, cty in zip(t['town2'], t['town'], t['county']):\n",
    "            print(\"{} (original: {}) was matched to {} directly using the crosswalk\".format(tn, tn_og, cty))\n",
    "    return primary_dict, towns"
   ],
   "metadata": {
    "collapsed": false,
    "pycharm": {
     "name": "#%%\n"
    }
   }
  },
  {
   "cell_type": "code",
   "execution_count": 24,
   "outputs": [],
   "source": [
    "def directCountyMatch(state_cw, towns, towncol = 'town'):\n",
    "    print(\"\\nSome city names are actually county names\")\n",
    "    if towncol == 'town':\n",
    "        print(\"Direct City (county) name - county matches\\n\")\n",
    "    if towncol == 'town2':\n",
    "        print(\"Direct City (county) name with string changes - county matches\\n\")\n",
    "    # some own names are actually counties\n",
    "    # match towns based off whether town name is actually county name in crosswalk\n",
    "    counties = state_cw['county'].unique()\n",
    "    nanindex = towns[towns['county'].apply(lambda x: pd.isnull(x))].index\n",
    "    towns.loc[nanindex, 'county'] = towns.loc[nanindex, towncol].apply(lambda x: x if x in counties.tolist() else np.nan)\n",
    "    towns2 = towns.loc[nanindex]\n",
    "    nanindex2 = towns2[towns2['county'].apply(lambda x: not pd.isnull(x))].index\n",
    "    for t, c in zip(towns2.loc[nanindex2, towncol], towns2.loc[nanindex2, 'county']):\n",
    "        print(\"{} was matched to {} using the crosswalk\".format(t, c))\n",
    "    return towns"
   ],
   "metadata": {
    "collapsed": false,
    "pycharm": {
     "name": "#%%\n"
    }
   }
  },
  {
   "cell_type": "code",
   "execution_count": 25,
   "outputs": [],
   "source": [
    "# change column of town dataframe's type to either town or county\n",
    "def addType(towns, type = 'town'):\n",
    "    towns['name_type'] = [name_type if not pd.isnull(name_type) else type if not pd.isnull(county) else np.nan for name_type, county in\n",
    "                          zip(towns['name_type'], towns['county'])]\n",
    "    return towns"
   ],
   "metadata": {
    "collapsed": false,
    "pycharm": {
     "name": "#%%\n"
    }
   }
  },
  {
   "cell_type": "code",
   "execution_count": 26,
   "outputs": [],
   "source": [
    "city_county_cw = pd.read_excel('../../Data/CensusData/zip_code_database.xls')[['primary_city', 'acceptable_cities',\n",
    "                                                                               'unacceptable_cities', 'county', 'state']]"
   ],
   "metadata": {
    "collapsed": false,
    "pycharm": {
     "name": "#%%\n"
    }
   }
  },
  {
   "cell_type": "code",
   "execution_count": 27,
   "outputs": [
    {
     "name": "stdout",
     "output_type": "stream",
     "text": [
      "\n",
      "CT MATCHING \n",
      "\n",
      "Direct City name - county matches\n",
      "\n",
      "Hartford was matched to Hartford County directly using the crosswalk\n",
      "Bolton was matched to Tolland County directly using the crosswalk\n",
      "Wethersfield was matched to Hartford County directly using the crosswalk\n",
      "New Haven was matched to New Haven County directly using the crosswalk\n",
      "Farmington was matched to Hartford County directly using the crosswalk\n",
      "New London was matched to New London County directly using the crosswalk\n",
      "Cornwall was matched to Litchfield County directly using the crosswalk\n",
      "Stamford was matched to Fairfield County directly using the crosswalk\n",
      "East Hartford was matched to Hartford County directly using the crosswalk\n",
      "Bristol was matched to Hartford County directly using the crosswalk\n",
      "Lebanon was matched to New London County directly using the crosswalk\n",
      "Windsor was matched to Hartford County directly using the crosswalk\n",
      "Suffield was matched to Hartford County directly using the crosswalk\n",
      "Berlin was matched to Hartford County directly using the crosswalk\n",
      "Glastonbury was matched to Hartford County directly using the crosswalk\n",
      "Stafford was matched to Tolland County directly using the crosswalk\n",
      "Hebron was matched to Tolland County directly using the crosswalk\n",
      "Middletown was matched to Middlesex County directly using the crosswalk\n",
      "East Windsor was matched to Hartford County directly using the crosswalk\n",
      "Norwich was matched to New London County directly using the crosswalk\n",
      "Preston was matched to New London County directly using the crosswalk\n",
      "Sharon was matched to Litchfield County directly using the crosswalk\n",
      "Somers was matched to Tolland County directly using the crosswalk\n",
      "Goshen was matched to Litchfield County directly using the crosswalk\n",
      "Torrington was matched to Litchfield County directly using the crosswalk\n",
      "Watertown was matched to Litchfield County directly using the crosswalk\n",
      "Stonington was matched to New London County directly using the crosswalk\n",
      "Colchester was matched to New London County directly using the crosswalk\n",
      "Fairfield was matched to Fairfield County directly using the crosswalk\n",
      "Guilford was matched to New Haven County directly using the crosswalk\n",
      "Enfield was matched to Hartford County directly using the crosswalk\n",
      "Plainfield was matched to Windham County directly using the crosswalk\n",
      "Coventry was matched to Tolland County directly using the crosswalk\n",
      "Groton was matched to New London County directly using the crosswalk\n",
      "Bozrah was matched to New London County directly using the crosswalk\n",
      "Derby was matched to New Haven County directly using the crosswalk\n",
      "Woodstock was matched to Windham County directly using the crosswalk\n",
      "Windham was matched to Windham County directly using the crosswalk\n",
      "Stratford was matched to Fairfield County directly using the crosswalk\n",
      "Brooklyn was matched to Windham County directly using the crosswalk\n",
      "Haddam was matched to Middlesex County directly using the crosswalk\n",
      "Tolland was matched to Tolland County directly using the crosswalk\n",
      "Danbury was matched to Fairfield County directly using the crosswalk\n",
      "Newington was matched to Hartford County directly using the crosswalk\n",
      "Litchfield was matched to Litchfield County directly using the crosswalk\n",
      "Milford was matched to New Haven County directly using the crosswalk\n",
      "Pomfret was matched to Windham County directly using the crosswalk\n",
      "Killingworth was matched to Middlesex County directly using the crosswalk\n",
      "Granby was matched to Hartford County directly using the crosswalk\n",
      "Roxbury was matched to Litchfield County directly using the crosswalk\n",
      "New Hartford was matched to Litchfield County directly using the crosswalk\n",
      "East Haddam was matched to Middlesex County directly using the crosswalk\n",
      "Greenwich was matched to Fairfield County directly using the crosswalk\n",
      "New Milford was matched to Litchfield County directly using the crosswalk\n",
      "Canaan was matched to Litchfield County directly using the crosswalk\n",
      "Montville was matched to New London County directly using the crosswalk\n",
      "Norwalk was matched to Fairfield County directly using the crosswalk\n",
      "Canterbury was matched to Windham County directly using the crosswalk\n",
      "Branford was matched to New Haven County directly using the crosswalk\n",
      "Ashford was matched to Windham County directly using the crosswalk\n",
      "Willington was matched to Tolland County directly using the crosswalk\n",
      "Southbury was matched to New Haven County directly using the crosswalk\n",
      "North Haven was matched to New Haven County directly using the crosswalk\n",
      "Woodbury was matched to Litchfield County directly using the crosswalk\n",
      "Thompson was matched to Windham County directly using the crosswalk\n",
      "Hampton was matched to Windham County directly using the crosswalk\n",
      "Cheshire was matched to New Haven County directly using the crosswalk\n",
      "Voluntown was matched to New London County directly using the crosswalk\n",
      "Salisbury was matched to Litchfield County directly using the crosswalk\n",
      "Weston was matched to Fairfield County directly using the crosswalk\n",
      "Wallingford was matched to New Haven County directly using the crosswalk\n",
      "East Haven was matched to New Haven County directly using the crosswalk\n",
      "Ellington was matched to Tolland County directly using the crosswalk\n",
      "Durham was matched to Middlesex County directly using the crosswalk\n",
      "Waterbury was matched to New Haven County directly using the crosswalk\n",
      "Norfolk was matched to Litchfield County directly using the crosswalk\n",
      "Ridgefield was matched to Fairfield County directly using the crosswalk\n",
      "\n",
      "Fuzzy City name - county matches\n",
      "\n",
      "Lyme -> East Lyme in New London County\n",
      "Southhampton -> Hampton in Windham County\n",
      "Saybrook -> Old Saybrook in Middlesex County\n",
      "Mansfield -> Mansfield Center in Tolland County\n",
      "Northampton -> Hampton in Windham County\n",
      "Reading -> Redding in Fairfield County\n",
      "Symsbury -> Simsbury in Hartford County\n",
      "London -> New London in New London County\n",
      "Franklin -> North Franklin in New London County\n",
      "Cornwell -> Cornwall in Litchfield County\n",
      "Brooklyne -> Brooklyn in Windham County\n",
      "Stonnington -> Stonington in New London County\n",
      "Volentown -> Voluntown in New London County\n",
      "\n",
      "Fuzzy City name - county matches with string changes\n",
      "\n",
      "['Chatham'] (new name: East Hampton) -> East Hampton in Middlesex County\n",
      "['Huntington'] (new name: Shelton) -> Shelton in Fairfield County\n",
      "\n",
      "Final Unmatched Names\n",
      "\n",
      "Vermont was unable to be matched\n",
      "Connecticut was unable to be matched\n",
      "Connecticutt was unable to be matched\n",
      "\n",
      "GA MATCHING \n",
      "\n",
      "Direct City name - county matches\n",
      "\n",
      "Savannah was matched to Chatham County directly using the crosswalk\n",
      "Augusta was matched to Richmond County directly using the crosswalk\n",
      "\n",
      "Some city names are actually county names\n",
      "Direct City (county) name - county matches\n",
      "\n",
      "Effingham County was matched to Effingham County using the crosswalk\n",
      "Columbia County was matched to Columbia County using the crosswalk\n",
      "\n",
      "Final Unmatched Names\n",
      "\n",
      "State of Georgia was unable to be matched\n",
      "Georgia was unable to be matched\n",
      "\n",
      "MD MATCHING \n",
      "\n",
      "Direct City name - county matches\n",
      "\n",
      "Baltimore was matched to Baltimore County directly using the crosswalk\n",
      "Annapolis was matched to Anne Arundel County directly using the crosswalk\n",
      "Bladensburg was matched to Prince George's County directly using the crosswalk\n",
      "Cambridge was matched to Dorchester County directly using the crosswalk\n",
      "Frederick was matched to Frederick County directly using the crosswalk\n",
      "\n",
      "Some city names are actually county names\n",
      "Direct City (county) name with string changes - county matches\n",
      "\n",
      "Harford County was matched to Harford County using the crosswalk\n",
      "Baltimore County was matched to Baltimore County using the crosswalk\n",
      "Anne Arundel County was matched to Anne Arundel County using the crosswalk\n",
      "Frederick County was matched to Frederick County using the crosswalk\n",
      "Somerset County was matched to Somerset County using the crosswalk\n",
      "Caroline County was matched to Caroline County using the crosswalk\n",
      "Washington County was matched to Washington County using the crosswalk\n",
      "Kent County was matched to Kent County using the crosswalk\n",
      "Charles County was matched to Charles County using the crosswalk\n",
      "Montgomery County was matched to Montgomery County using the crosswalk\n",
      "Talbot County was matched to Talbot County using the crosswalk\n",
      "Calvert County was matched to Calvert County using the crosswalk\n",
      "Cecil County was matched to Cecil County using the crosswalk\n",
      "Dorchester County was matched to Dorchester County using the crosswalk\n",
      "Worcester County was matched to Worcester County using the crosswalk\n",
      "Allegany County was matched to Allegany County using the crosswalk\n",
      "Frederick County was matched to Frederick County using the crosswalk\n",
      "Montgomery County was matched to Montgomery County using the crosswalk\n",
      "Somerset County was matched to Somerset County using the crosswalk\n",
      "\n",
      "Fuzzy City name - county matches with string changes\n",
      "\n",
      "['Prince Georges County'] (new name: Prince Georges County) -> Prince George's County in Prince George's County\n",
      "['St Marys County'] (new name: St Marys County) -> St Mary's County in St Mary's County\n",
      "['Calver County'] (new name: Calver County) -> Calvert County in Calvert County\n",
      "['Queen Annes County'] (new name: Queen Annes County) -> Queen Anne's County in Queen Anne's County\n",
      "['Talbot'] (new name: Talbot) -> Talbot County in Talbot County\n",
      "['Fredrick Co Maryland'] (new name: Fredrick County) -> Frederick County in Frederick County\n",
      "\n",
      "Fuzzy City name - county matches with string changes\n",
      "\n",
      "['George Town'] (new name: George Town) -> Georgetown in Cecil County\n",
      "['Frederick Town'] (new name: Frederick Town) -> Frederick in Frederick County\n",
      "['Baltimore Town'] (new name: Baltimore Town) -> Baltimore in Baltimore County\n",
      "['Georges Town'] (new name: Georges Town) -> Georgetown in Cecil County\n",
      "['George town'] (new name: George town) -> Georgetown in Cecil County\n",
      "Baltimore City changed to Baltimore County\n",
      "\n",
      "Final Unmatched Names\n",
      "\n",
      "Maryland was unable to be matched\n",
      "Rotterdam was unable to be matched\n",
      "Doden Maryland was unable to be matched\n",
      "Isaac was unable to be matched\n",
      "London was unable to be matched\n",
      "\n",
      "NC MATCHING \n",
      "\n",
      "Direct City name - county matches\n",
      "\n",
      "Edenton was matched to Chowan County directly using the crosswalk\n",
      "Fayetteville was matched to Cumberland County directly using the crosswalk\n",
      "Wilmington was matched to New Hanover County directly using the crosswalk\n",
      "Salisbury was matched to Rowan County directly using the crosswalk\n",
      "Halifax was matched to Halifax County directly using the crosswalk\n",
      "Washington was matched to Beaufort County directly using the crosswalk\n",
      "Hillsborough was matched to Orange County directly using the crosswalk\n",
      "\n",
      "Some city names are actually county names\n",
      "Direct City (county) name - county matches\n",
      "\n",
      "Wayne County was matched to Wayne County using the crosswalk\n",
      "Rowan County was matched to Rowan County using the crosswalk\n",
      "Warren County was matched to Warren County using the crosswalk\n",
      "Perquimans County was matched to Perquimans County using the crosswalk\n",
      "Mecklenburg County was matched to Mecklenburg County using the crosswalk\n",
      "Edgecombe County was matched to Edgecombe County using the crosswalk\n",
      "Pitt County was matched to Pitt County using the crosswalk\n",
      "Currituck County was matched to Currituck County using the crosswalk\n",
      "Rockingham County was matched to Rockingham County using the crosswalk\n",
      "\n",
      "Fuzzy City name - county matches with string changes\n",
      "\n",
      "['Newbern'] (new name: Newbern) -> New Bern in Craven County\n",
      "['Tarborugh'] (new name: Tarboro) -> Tarboro in Edgecombe County\n",
      "['Murfrees Borough'] (new name: Murfrees Borough) -> Murfreesboro in Hertford County\n",
      "['Halifax', 'Halifax '] (new name: Halifax) -> Halifax in Halifax County\n",
      "\n",
      "Final Unmatched Names\n",
      "\n",
      "North Carolina was unable to be matched\n",
      "\n",
      "NH MATCHING \n",
      "\n",
      "Direct City name - county matches\n",
      "\n",
      "Portsmouth was matched to Rockingham County directly using the crosswalk\n",
      "Exeter was matched to Rockingham County directly using the crosswalk\n",
      "Deerfield was matched to Rockingham County directly using the crosswalk\n",
      "Greenland was matched to Rockingham County directly using the crosswalk\n",
      "Hampton was matched to Rockingham County directly using the crosswalk\n",
      "North Hampton was matched to Rockingham County directly using the crosswalk\n",
      "Newbury was matched to Merrimack County directly using the crosswalk\n",
      "Candia was matched to Rockingham County directly using the crosswalk\n",
      "Salem was matched to Rockingham County directly using the crosswalk\n",
      "Canterbury was matched to Merrimack County directly using the crosswalk\n",
      "New Castle was matched to Rockingham County directly using the crosswalk\n",
      "Pelham was matched to Hillsborough County directly using the crosswalk\n",
      "Concord was matched to Merrimack County directly using the crosswalk\n",
      "Barrington was matched to Strafford County directly using the crosswalk\n",
      "Tamworth was matched to Carroll County directly using the crosswalk\n",
      "Amherst was matched to Hillsborough County directly using the crosswalk\n",
      "Acworth was matched to Sullivan County directly using the crosswalk\n",
      "Somersworth was matched to Strafford County directly using the crosswalk\n",
      "Nottingham was matched to Rockingham County directly using the crosswalk\n",
      "Charlestown was matched to Sullivan County directly using the crosswalk\n",
      "Salisbury was matched to Merrimack County directly using the crosswalk\n",
      "Durham was matched to Strafford County directly using the crosswalk\n",
      "Hollis was matched to Hillsborough County directly using the crosswalk\n",
      "Dover was matched to Strafford County directly using the crosswalk\n",
      "Keene was matched to Cheshire County directly using the crosswalk\n",
      "Rye was matched to Rockingham County directly using the crosswalk\n",
      "Direct City name - county matches\n",
      "\n",
      "Kensington was matched to Rockingham County directly using the crosswalk\n",
      "London was matched to Rockingham County directly using the crosswalk\n",
      "Sandwich was matched to Carroll County directly using the crosswalk\n",
      "Pembroke was matched to Merrimack County directly using the crosswalk\n",
      "South Hampton was matched to Rockingham County directly using the crosswalk\n",
      "Hopkinton was matched to Merrimack County directly using the crosswalk\n",
      "Wakefield was matched to Carroll County directly using the crosswalk\n",
      "Alexandria was matched to Grafton County directly using the crosswalk\n",
      "\n",
      "Fuzzy City name - county matches with string changes\n",
      "\n",
      "['Charleston State of New Hampshire'] (new name: Charleston) -> Charlestown in Sullivan County\n",
      "['Portsmouth', 'Portsmouth New Hampshire'] (new name: Portsmouth) -> Portsmouth in Rockingham County\n",
      "['Merrimac'] (new name: Merrimac) -> Merrimack in Hillsborough County\n",
      "['Kingstown'] (new name: Kingstown) -> Kingston in Rockingham County\n",
      "['Marbury'] (new name: Marbury) -> Madbury in Strafford County\n",
      "['Gilmantown'] (new name: Gilmantown) -> Gilmanton in Belknap County\n",
      "['Newtown'] (new name: Newtown) -> Newton in Rockingham County\n",
      "['Londonberry'] (new name: Londonberry) -> Londonderry in Rockingham County\n",
      "['Newport in New Hampshire'] (new name: Newport in) -> Newport in Sullivan County\n",
      "\n",
      "Some city names are actually county names\n",
      "Direct City (county) name with string changes - county matches\n",
      "\n",
      "Rockingham County was matched to Rockingham County using the crosswalk\n",
      "\n",
      "Manual Match\n",
      "\n",
      "Brintwood was matched to Rockingham County\n",
      "Portsmouth New Hampshire was matched to Rockingham County\n",
      "\n",
      "Final Unmatched Names\n",
      "\n",
      "North Hampshire was unable to be matched\n",
      "State of New Hampshire was unable to be matched\n",
      "Glouster was unable to be matched\n",
      "York was unable to be matched\n",
      "Wells was unable to be matched\n",
      "\n",
      "NJ MATCHING \n",
      "\n",
      "Direct City name - county matches\n",
      "\n",
      "Cape May was matched to Cape May County directly using the crosswalk\n",
      "\n",
      "Fuzzy City name - county matches with string changes\n",
      "\n",
      "['Brunswick New Jersey'] (new name: Brunswick) -> New Brunswick in Middlesex County\n",
      "['Cape May New Jersey', 'Cape May'] (new name: Cape May) -> Cape May in Cape May County\n",
      "['Trenton New Jersey'] (new name: Trenton) -> Trenton in Mercer County\n",
      "['New Brunswick New Jersey'] (new name: New Brunswick) -> New Brunswick in Middlesex County\n",
      "['Mount Holley New Jersey'] (new name: Mount Holley) -> Mount Holly in Burlington County\n",
      "['Middlesex New Jersey'] (new name: Middlesex) -> Middlesex in Middlesex County\n",
      "['Princeton New Jersey'] (new name: Princeton) -> Princeton in Mercer County\n",
      "['Burlington New Jersey'] (new name: Burlington) -> Burlington in Burlington County\n",
      "['Newton Township New Jersey'] (new name: Newton Township) -> Newton in Sussex County\n",
      "['Somerset County New Jersey'] (new name: Somerset County) -> Somerset in Somerset County\n",
      "\n",
      "Some city names are actually county names\n",
      "Direct City (county) name with string changes - county matches\n",
      "\n",
      "Monmouth County was matched to Monmouth County using the crosswalk\n",
      "\n",
      "Final Unmatched Names\n",
      "\n",
      "New Jersey was unable to be matched\n",
      "Huntington New Jersey was unable to be matched\n",
      "\n",
      "PA MATCHING \n",
      "\n",
      "Direct City name - county matches\n",
      "\n",
      "Philadelphia was matched to Philadelphia County directly using the crosswalk\n",
      "Lancaster was matched to Lancaster County directly using the crosswalk\n",
      "Reading was matched to Berks County directly using the crosswalk\n",
      "Bethlehem was matched to Northampton County directly using the crosswalk\n",
      "Montgomery was matched to Lycoming County directly using the crosswalk\n",
      "Chester was matched to Delaware County directly using the crosswalk\n",
      "Pittsburgh was matched to Allegheny County directly using the crosswalk\n",
      "\n",
      "Some city names are actually county names\n",
      "Direct City (county) name - county matches\n",
      "\n",
      "Philadelphia County was matched to Philadelphia County using the crosswalk\n",
      "Franklin County was matched to Franklin County using the crosswalk\n",
      "Chester County was matched to Chester County using the crosswalk\n",
      "Bucks County was matched to Bucks County using the crosswalk\n",
      "Montgomery County was matched to Montgomery County using the crosswalk\n",
      "Berks County was matched to Berks County using the crosswalk\n",
      "Dauphin County was matched to Dauphin County using the crosswalk\n",
      "Allegheny County was matched to Allegheny County using the crosswalk\n",
      "Westmoreland County was matched to Westmoreland County using the crosswalk\n",
      "Lancaster County was matched to Lancaster County using the crosswalk\n",
      "Northumberland County was matched to Northumberland County using the crosswalk\n",
      "Northampton County was matched to Northampton County using the crosswalk\n",
      "York County was matched to York County using the crosswalk\n",
      "Delaware County was matched to Delaware County using the crosswalk\n",
      "Bedford County was matched to Bedford County using the crosswalk\n",
      "Direct City name - county matches\n",
      "\n",
      "Armstrong was matched to Lycoming County directly using the crosswalk\n",
      "\n",
      "Some city names are actually county names\n",
      "Direct City (county) name with string changes - county matches\n",
      "\n",
      "Bucks County was matched to Bucks County using the crosswalk\n",
      "Delaware County was matched to Delaware County using the crosswalk\n",
      "Berks County was matched to Berks County using the crosswalk\n",
      "Chester County was matched to Chester County using the crosswalk\n",
      "Dauphin County was matched to Dauphin County using the crosswalk\n",
      "Allegheny County was matched to Allegheny County using the crosswalk\n",
      "Chester County was matched to Chester County using the crosswalk\n",
      "Berks County was matched to Berks County using the crosswalk\n",
      "Montgomery County was matched to Montgomery County using the crosswalk\n",
      "Franklin County was matched to Franklin County using the crosswalk\n",
      "Lancaster County was matched to Lancaster County using the crosswalk\n",
      "Berks County was matched to Berks County using the crosswalk\n",
      "Fayette County was matched to Fayette County using the crosswalk\n",
      "Delaware County was matched to Delaware County using the crosswalk\n",
      "Northampton County was matched to Northampton County using the crosswalk\n",
      "York County was matched to York County using the crosswalk\n",
      "Westmoreland County was matched to Westmoreland County using the crosswalk\n",
      "Montgomery County was matched to Montgomery County using the crosswalk\n",
      "Northumberland County was matched to Northumberland County using the crosswalk\n",
      "\n",
      "Some city names are actually county names\n",
      "Direct City (county) name - county matches\n",
      "\n",
      "Direct City name - county matches\n",
      "\n",
      "\n",
      "Some city names are actually county names\n",
      "Direct City (county) name with string changes - county matches\n",
      "\n",
      "\n",
      "Fuzzy City name - county matches with string changes\n",
      "\n",
      "['Carlisle Pennsylvania'] (new name: Carlisle) -> Carlisle in Cumberland County\n",
      "['Germantown'] (new name: Germantown) -> New Germantown in Perry County\n",
      "['Westmoreland'] (new name: Westmoreland) -> Westmoreland City in Westmoreland County\n",
      "['Philadelphia', 'Blockley', 'Northan Liberties', 'Borden Town', 'Passyunk', 'Northern Liberties', 'German Town', 'The Northern Libert', 'Southwark'] (new name: Philadelphia) -> Philadelphia in Philadelphia County\n",
      "['Cumberland'] (new name: Cumberland) -> New Cumberland in Cumberland County\n",
      "['Reading', 'Reading Pennsylvania'] (new name: Reading) -> Reading in Berks County\n",
      "['Reading Berks County'] (new name: Reading Berks County) -> Reading in Berks County\n",
      "['County of Philadelphia'] (new name: County of Philadelphia) -> Philadelphia in Philadelphia County\n",
      "['York Town Pennsylvania', 'York Town'] (new name: York Town) -> York in York County\n",
      "['Lancaster', 'Lancaster Pennsylvania'] (new name: Lancaster) -> Lancaster in Lancaster County\n",
      "['The N Lib of Philadelphia'] (new name: The N Lib of Philadelphia) -> Philadelphia in Philadelphia County\n",
      "['Charleston South Carolina'] (new name: Charleston South Carolina) -> South Heights in Beaver County\n",
      "['Pittsburgh Pennsylvania', 'Pittsburgh'] (new name: Pittsburgh) -> Pittsburgh in Allegheny County\n",
      "['Chester County Pennsylvaina'] (new name: Chester County Pennsylvaina) -> Penn in Westmoreland County\n",
      "['Chambersburgh Pennsylvania'] (new name: Chambersburgh) -> Chambersburg in Franklin County\n",
      "['Frankford Philadelphia County'] (new name: Frankford Philadelphia County) -> Philadelphia in Philadelphia County\n",
      "['Dauphincoy Pennsylvania'] (new name: Dauphin) -> Dauphin in Dauphin County\n",
      "['Kensington'] (new name: Kensington) -> New Kensington in Westmoreland County\n",
      "['Burlington New Jersey'] (new name: Burlington New Jersey) -> Burlington in Bradford County\n",
      "['Chester and County'] (new name: Chester and County) -> Chester in Delaware County\n",
      "['Dauphin and Company'] (new name: Dauphin and Company) -> Dauphin in Dauphin County\n",
      "['Hatter Philadelphia'] (new name: Hatter Philadelphia) -> Philadelphia in Philadelphia County\n",
      "['Sunbury Pennsylvania'] (new name: Sunbury) -> Sunbury in Northumberland County\n",
      "['Church on Philadelphia'] (new name: Church on Philadelphia) -> Philadelphia in Philadelphia County\n",
      "['Newark'] (new name: Newark) -> New Park in York County\n",
      "['Philadelphila'] (new name: Philadelphila) -> Philadelphia in Philadelphia County\n",
      "['Northumberland County Virginia'] (new name: Northumberland County Virginia) -> Northumberland in Northumberland County\n",
      "['Paxton Tot Dauphin County'] (new name: Paxton Tot Dauphin County) -> Dauphin in Dauphin County\n",
      "\n",
      "Fuzzy City name - county matches with string changes\n",
      "\n",
      "['Northumb Country'] (new name: Northumb County) -> Elk County in Elk County\n",
      "['Northum County Pennsylvania'] (new name: Northum County) -> Northumberland County in Northumberland County\n",
      "['Cumb County Pennsylvania'] (new name: Cumb County) -> Washington County in Washington County\n",
      "\n",
      "Manual Match\n",
      "\n",
      "Charleston South Carolina was matched to Charleston County\n",
      "Burlington New Jersey was matched to Burlington County\n",
      "Northumberland County Virginia was matched to Northumberland County\n",
      "\n",
      "Fuzzy City name - county matches with string changes\n",
      "\n",
      "\n",
      "Fuzzy City name - county matches with string changes\n",
      "\n",
      "\n",
      "Manual Match\n",
      "\n",
      "Charleston South Carolina was matched to Charleston County\n",
      "Burlington New Jersey was matched to Burlington County\n",
      "Northumberland County Virginia was matched to Northumberland County\n",
      "\n",
      "Final Unmatched Names\n",
      "\n",
      "Pennsylvania was unable to be matched\n",
      "Barbadoes was unable to be matched\n",
      "Sta Croix was unable to be matched\n",
      "W Callisters Town was unable to be matched\n",
      "Maidenhead was unable to be matched\n",
      "St Eustalia was unable to be matched\n",
      "\n",
      "RI MATCHING \n",
      "\n",
      "Direct City name - county matches\n",
      "\n",
      "Providence was matched to Providence County directly using the crosswalk\n",
      "Little Compton was matched to Newport County directly using the crosswalk\n",
      "Warren was matched to Bristol County directly using the crosswalk\n",
      "East Greenwich was matched to Kent County directly using the crosswalk\n",
      "Johnston was matched to Providence County directly using the crosswalk\n",
      "Coventry was matched to Kent County directly using the crosswalk\n",
      "Newport was matched to Newport County directly using the crosswalk\n",
      "Cumberland was matched to Providence County directly using the crosswalk\n",
      "North Providence was matched to Providence County directly using the crosswalk\n",
      "Foster was matched to Providence County directly using the crosswalk\n",
      "Warwick was matched to Kent County directly using the crosswalk\n",
      "Bristol was matched to Bristol County directly using the crosswalk\n",
      "Smithfield was matched to Providence County directly using the crosswalk\n",
      "Barrington was matched to Bristol County directly using the crosswalk\n",
      "Cranston was matched to Providence County directly using the crosswalk\n",
      "Charlestown was matched to Washington County directly using the crosswalk\n",
      "West Greenwich was matched to Kent County directly using the crosswalk\n",
      "Portsmouth was matched to Newport County directly using the crosswalk\n",
      "Exeter was matched to Washington County directly using the crosswalk\n",
      "Tiverton was matched to Newport County directly using the crosswalk\n",
      "North Kingstown was matched to Washington County directly using the crosswalk\n",
      "\n",
      "Fuzzy City name - county matches with string changes\n",
      "\n",
      "['Newport State of Rhode Island', 'Newport'] (new name: Newport) -> Newport in Newport County\n",
      "['Scituate'] (new name: Scituate) -> North Scituate in Providence County\n",
      "['South Kingston'] (new name: South Kingston) -> Kingston in Washington County\n",
      "['South Kingstone'] (new name: South Kingstone) -> Kingston in Washington County\n",
      "['Johnson'] (new name: Johnson) -> Johnston in Providence County\n",
      "['North Kingston'] (new name: North Kingston) -> North Kingstown in Washington County\n",
      "['North Kingstone'] (new name: North Kingstone) -> North Kingstown in Washington County\n",
      "['Stoughton now of Providence'] (new name: Stoughton now  Providence) -> Providence in Providence County\n",
      "\n",
      "Manual Match\n",
      "\n",
      "Gloucester was matched to Providence County\n",
      "Richmond was matched to Washington County\n",
      "\n",
      "Final Unmatched Names\n",
      "\n",
      "Rhode Island was unable to be matched\n",
      "London was unable to be matched\n",
      "Springfield was unable to be matched\n",
      "\n",
      "SC MATCHING \n",
      "\n",
      "Direct City name - county matches\n",
      "\n",
      "Charleston was matched to Berkeley County directly using the crosswalk\n",
      "Georgetown was matched to Georgetown County directly using the crosswalk\n",
      "Camden was matched to Kershaw County directly using the crosswalk\n",
      "Columbia was matched to Richland County directly using the crosswalk\n",
      "Abbeville was matched to Abbeville County directly using the crosswalk\n",
      "Dorchester was matched to Dorchester County directly using the crosswalk\n",
      "Direct City name - county matches\n",
      "\n",
      "St Helena (original: St Helena) was matched to Beaufort County directly using the crosswalk\n",
      "\n",
      "Fuzzy City name - county matches with string changes\n",
      "\n",
      "['Charleston', 'Charleston  South Carolina', 'Charleston South Carolina'] (new name: Charleston) -> Charleston in Berkeley County\n",
      "['James Island'] (new name: James Island) -> Saint Helena Island in Beaufort County\n",
      "['Camden Planter'] (new name: Camden Planter) -> Camden in Kershaw County\n",
      "['St Johns'] (new name: St Johns) -> Johns Island in Charleston County\n",
      "['St Andrews'] (new name: St Andrews) -> Andrews in Georgetown County\n",
      "['96 District', 'Ninety six District'] (new name: Ninety six District) -> Ninety Six in Greenwood County\n",
      "['Charlestom'] (new name: Charlestom) -> Charleston in Berkeley County\n",
      "\n",
      "Fuzzy City name - county matches with string changes\n",
      "\n",
      "['Richard County'] (new name: Richard County) -> Richland County in Richland County\n",
      "St. Paul's was matched to Clarendon County\n",
      "Pee Dee was matched to Marion County\n",
      "St. George was matched to Dorchester County\n",
      "New River was matched to Beaufort County\n",
      "Winyaw was matched to Georgetown County\n",
      "Broad River was matched to Beaufort County\n",
      "Toogoodoo was matched to Charleston County\n",
      "St Pauls was matched to Clarendon County\n",
      "Savannah was matched to Chatham County\n",
      "James Island was matched to Charleston County\n",
      "St Andrews was matched to Richland County\n",
      "\n",
      "Final Unmatched Names\n",
      "\n",
      "South Carolina was unable to be matched\n",
      "Carolina was unable to be matched\n",
      "Richard Sennings was unable to be matched\n",
      "Long Cames was unable to be matched\n",
      "\n",
      "MA MATCHING \n",
      "\n",
      "Direct City name - county matches\n",
      "\n",
      "Boston was matched to Suffolk County directly using the crosswalk\n",
      "Springfield was matched to Hampden County directly using the crosswalk\n",
      "Pittsfield was matched to Berkshire County directly using the crosswalk\n",
      "Cambridge was matched to Middlesex County directly using the crosswalk\n",
      "Andover was matched to Essex County directly using the crosswalk\n",
      "Salem was matched to Essex County directly using the crosswalk\n",
      "Beverly was matched to Essex County directly using the crosswalk\n",
      "Ipswich was matched to Essex County directly using the crosswalk\n",
      "Rowley was matched to Essex County directly using the crosswalk\n",
      "Haverhill was matched to Essex County directly using the crosswalk\n",
      "Stoughton was matched to Norfolk County directly using the crosswalk\n",
      "Roxbury was matched to Suffolk County directly using the crosswalk\n",
      "Rehoboth was matched to Bristol County directly using the crosswalk\n",
      "Dighton was matched to Bristol County directly using the crosswalk\n",
      "Littleton was matched to Middlesex County directly using the crosswalk\n",
      "Sutton was matched to Worcester County directly using the crosswalk\n",
      "Ludlow was matched to Hampden County directly using the crosswalk\n",
      "Somerset was matched to Bristol County directly using the crosswalk\n",
      "Swansea was matched to Bristol County directly using the crosswalk\n",
      "Bridgewater was matched to Plymouth County directly using the crosswalk\n",
      "Dudley was matched to Worcester County directly using the crosswalk\n",
      "Westport was matched to Bristol County directly using the crosswalk\n",
      "Norton was matched to Bristol County directly using the crosswalk\n",
      "\n",
      "Fuzzy City name - county matches with string changes\n",
      "\n",
      "['Tyringham MA', 'Tyringham Massachusetts'] (new name: Tyringham) -> Tyringham in Berkshire County\n",
      "['Sturbridge MA'] (new name: Sturbridge) -> Sturbridge in Worcester County\n",
      "['Hadley Massachusetts'] (new name: Hadley) -> Hadley in Hampshire County\n",
      "['Boston state Massachusetts'] (new name: Boston state) -> Boston in Suffolk County\n",
      "['Worcester State Massachusetts'] (new name: Worcester) -> Worcester in Worcester County\n",
      "['Granby Massachusetts'] (new name: Granby) -> Granby in Hampshire County\n",
      "['Long Meadow Massachusetts'] (new name: Long Meadow) -> Longmeadow in Hampden County\n",
      "['Newbury Port'] (new name: Newbury Port) -> Newburyport in Essex County\n",
      "['Situate'] (new name: Situate) -> Scituate in Plymouth County\n",
      "['Almsbury'] (new name: Almsbury) -> Amesbury in Essex County\n",
      "['Cambridge', 'Cambridge Massachusetts'] (new name: Cambridge) -> Cambridge in Middlesex County\n",
      "['North Hampton'] (new name: North Hampton) -> Northampton in Hampshire County\n",
      "['Liecester'] (new name: Liecester) -> Leicester in Worcester County\n",
      "['Grafton Massachusetts'] (new name: Grafton) -> Grafton in Worcester County\n",
      "['Attleborough'] (new name: Attleborough) -> Attleboro in Bristol County\n",
      "['Falmouth Massachusetts'] (new name: Falmouth) -> Falmouth in Barnstable County\n",
      "['Chesterfield Massachusetts'] (new name: Chesterfield) -> Chesterfield in Hampshire County\n",
      "['Freetown'] (new name: Freetown) -> East Freetown in Bristol County\n",
      "\n",
      "Final Unmatched Names\n",
      "\n",
      "Kittery was unable to be matched\n",
      "Massachusetts was unable to be matched\n",
      "\n",
      "VA MATCHING \n",
      "\n",
      "Direct City name - county matches\n",
      "\n",
      "\n",
      "Fuzzy City name - county matches with string changes\n",
      "\n",
      "['Alexandria State of Virginia'] (new name: Alexandria  of) -> Alexandria in Fairfax County\n",
      "['Richmond Virginia'] (new name: Richmond) -> Richmond in Henrico County\n",
      "['Petersburg Virginia'] (new name: Petersburg) -> Petersburg in Grant County\n",
      "['Alexandria Virginia'] (new name: Alexandria) -> Alexandria in Fairfax County\n",
      "['Fredericksburg Virginia'] (new name: Fredericksburg) -> Fredericksburg in Spotsylvania County\n",
      "['Accomack County Virginia'] (new name: Accomack County) -> Accomac in Accomack County\n",
      "['King George Co Virginia'] (new name: King George Co) -> King George in King George County\n",
      "['James City County Virginia'] (new name: James City County) -> Chase City in Mecklenburg County\n",
      "['Virginia and Philadelphia'] (new name: and Philadelphia) -> King And Queen Court House in King and Queen County\n",
      "['Williamsburgh'] (new name: Williamsburgh) -> Williamsburg in Greenbrier County\n",
      "\n",
      "Fuzzy City name - county matches with string changes\n",
      "\n",
      "['Louden County Virginia'] (new name: Louden County) -> Loudoun County in Loudoun County\n",
      "['Ohio County Virginia'] (new name: Ohio County) -> Ohio County in Ohio County\n",
      "Portsmouth Virginia was matched to Norfolk County\n",
      "\n",
      "Final Unmatched Names\n",
      "\n",
      "Virginia was unable to be matched\n",
      "Virgina was unable to be matched\n",
      "\n",
      "DE MATCHING \n",
      "\n",
      "Direct City name - county matches\n",
      "\n",
      "\n",
      "Fuzzy City name - county matches with string changes\n",
      "\n",
      "['New Castle Delaware'] (new name: New Castle) -> New Castle in New Castle County\n",
      "['Delaware Newcastle County'] (new name: Newcastle County) -> New Castle in New Castle County\n",
      "['Wilmington Delaware'] (new name: Wilmington) -> Wilmington in New Castle County\n",
      "['New Castle County Delaware State'] (new name: New Castle County) -> New Castle in New Castle County\n",
      "\n",
      "Fuzzy City name - county matches with string changes\n",
      "\n",
      "['Kent Company Delaware'] (new name: Kent County) -> Kent County in Kent County\n",
      "\n",
      "Final Unmatched Names\n",
      "\n",
      "State of Delawere was unable to be matched\n",
      "Delaware State was unable to be matched\n"
     ]
    }
   ],
   "source": [
    "final_cw = pd.DataFrame(columns = ['town', 'county', 'state', 'name_type'])\n",
    "list_of_states = ['CT', 'GA', 'MD', 'NC', 'NH', 'NJ', 'PA', 'RI', 'SC',\n",
    "                  'MA', 'VA', 'DE']\n",
    "\n",
    "for state in list_of_states:\n",
    "    print(\"\\n{} MATCHING \\n\".format(state))\n",
    "    # create list of towns for each state\n",
    "    towns = CD_all[CD_all['state'] == state][['town']].drop_duplicates()\n",
    "    towns = towns[towns['town'].apply(lambda x: not pd.isnull(x))]\n",
    "    # state crosswalk\n",
    "    state_cw = city_county_cw[city_county_cw['state'] == state]\n",
    "    if state == 'VA':\n",
    "        state_cw = city_county_cw[city_county_cw['state'].apply(lambda x: x in ['VA', 'WV'])]\n",
    "    state_cw = state_cw[state_cw['county'].apply(lambda x: 'county' in x.lower() if not pd.isnull(x) else False)]\n",
    "    # try direct match: town name -> crosswalk town-county\n",
    "    oldtowns = towns.copy()\n",
    "    primary_dict, towns = directTownMatch(state_cw, towns, col = 'primary_city', towncol = 'town')\n",
    "    # label name type\n",
    "    towns['name_type'] = towns['county'].apply(lambda x: 'town' if not pd.isnull(x) else np.nan)\n",
    "\n",
    "    if state == 'CT':\n",
    "        # try fuzzy match: town name -> crosswalk town-county\n",
    "        unmatched_towns1 = towns[towns['county'].apply(lambda x: pd.isnull(x))]['town']\n",
    "        towns = fuzzyMatch(unmatched_towns1, towns, state_cw, primary_dict, dict_matchcol = 'primary_city', initial = True, score_threshold = 85)\n",
    "        towns = addType(towns)\n",
    "\n",
    "        # modify town names - towns changed names (see CT note)\n",
    "        # retry fuzzy match: town name -> crosswalk town-county\n",
    "        towns['town2'] = towns['town'].apply(lambda x: x.replace('Huntington', 'Shelton').replace('Chatham', 'East Hampton'))\n",
    "        unmatched_towns2 = towns[towns['county'].apply(lambda x: pd.isnull(x))]['town2']\n",
    "        towns = fuzzyMatch(unmatched_towns2, towns, state_cw, primary_dict, dict_matchcol ='primary_city', initial = False, score_threshold = 85)\n",
    "        towns = addType(towns)\n",
    "\n",
    "    if state == 'GA':\n",
    "        # some \"town\" names are actually counties\n",
    "        # try direct match: town (county) name -> crosswalk county\n",
    "        towns = directCountyMatch(state_cw, towns, towncol = 'town')\n",
    "        towns = addType(towns, 'county')\n",
    "    if state == 'MD':\n",
    "        # remove instances where Maryland is mentioned and unabbreviate county abbreviations\n",
    "        # use modified town names\n",
    "        # try direct match: town (county) name -> crosswalk county\n",
    "        towns['town2'] = towns['town'].apply(lambda x: x.replace('Maryland', '').replace('Co ', 'County').strip())\n",
    "        towns = directCountyMatch(state_cw, towns, towncol = 'town2')\n",
    "        towns = addType(towns, 'county')\n",
    "\n",
    "        # use modified town names\n",
    "        # try fuzzy match: town (county) name -> crosswalk county\n",
    "        unmatched_towns2 = towns[towns['county'].apply(lambda x: pd.isnull(x))]['town2']\n",
    "        towns = fuzzyMatch(unmatched_towns2, towns, state_cw, primary_dict, dict_matchcol = 'county', initial = False, score_threshold = 86)\n",
    "        towns = addType(towns, 'county')\n",
    "\n",
    "        # use modified town names\n",
    "        # try fuzzy match: town name -> crosswalk town-county\n",
    "        unmatched_towns2 = towns[towns['county'].apply(lambda x: pd.isnull(x))]['town2']\n",
    "        towns = fuzzyMatch(unmatched_towns2, towns, state_cw, primary_dict, dict_matchcol ='primary_city', initial = False, score_threshold = 85)\n",
    "        towns = addType(towns)\n",
    "\n",
    "\n",
    "        # correct a matching - Baltimore City to Baltimore County\n",
    "        print(\"Baltimore City changed to Baltimore County\")\n",
    "        towns['county'] = towns['county'].apply(lambda x: x.replace('City', 'County') if not pd.isnull(x) else x)\n",
    "        towns = addType(towns)\n",
    "    if state == 'NC':\n",
    "        # some \"town\" names are actually counties\n",
    "        # try direct match: town (county) name -> crosswalk county\n",
    "        towns = directCountyMatch(state_cw, towns, towncol = 'town')\n",
    "        towns = addType(towns, 'county')\n",
    "        # remove instances where North Carolina is mentioned and rename Tarborugh to enable matching\n",
    "        towns['town2'] = towns['town'].apply(lambda x: x.replace('North Carolina', '').replace('Tarborugh', 'Tarboro').strip())\n",
    "        # use modified town names\n",
    "        # try fuzzy match: town name -> crosswalk town-county\n",
    "        unmatched_towns2 = towns[towns['county'].apply(lambda x: pd.isnull(x))]['town2']\n",
    "        towns = fuzzyMatch(unmatched_towns2, towns, state_cw, primary_dict, dict_matchcol ='primary_city', initial = False, score_threshold = 85)\n",
    "        towns = addType(towns)\n",
    "    if state == 'NH':\n",
    "        # use acceptable_cities instead of primary_cities column to match in the crosswalk\n",
    "        # try direct match: town name -> crosswalk town-county\n",
    "        null_ind = towns[towns['county'].apply(lambda x: pd.isnull(x))].index\n",
    "        pdict, tn = directTownMatch(state_cw, towns.loc[null_ind], col = 'acceptable_cities', towncol = 'town')\n",
    "        towns.loc[null_ind] = tn\n",
    "        towns = addType(towns)\n",
    "        # remove instances where New Hampshire and other geo-jurisdictional terms are used\n",
    "        # rename Rockingham to enable matching\n",
    "        towns['town2'] = towns['town'].apply(lambda x: x.replace('State', '').replace('New Hampshire', '').replace('of ','').strip())\n",
    "        towns['town2'] = towns['town2'].apply(lambda x: x.replace('Rockingham', 'Rockingham County').strip())\n",
    "        # use modified town names\n",
    "        # try fuzzy match: town name -> crosswalk town-county\n",
    "        unmatched_towns2 = towns[towns['county'].apply(lambda x: pd.isnull(x))]['town2']\n",
    "        towns = fuzzyMatch(unmatched_towns2, towns, state_cw, primary_dict, dict_matchcol ='primary_city', initial = False, score_threshold = 85)\n",
    "        towns = addType(towns)\n",
    "        # some \"town\" names are actually counties\n",
    "        # use modified town names\n",
    "        # try direct match: town (county) name -> crosswalk county\n",
    "        towns = directCountyMatch(state_cw, towns, towncol = 'town2')\n",
    "        towns = addType(towns, 'county')\n",
    "        # manual fixes for matches\n",
    "        # manually adjust incorrect matches\n",
    "        print(\"\\nManual Match\\n\")\n",
    "        for town, county in zip(['Brintwood', 'Portsmouth New Hampshire'],\n",
    "                                ['Rockingham County', 'Rockingham County']):\n",
    "            print(\"{} was matched to {}\".format(town, county))\n",
    "            if town == 'Brintwood':\n",
    "                towns.loc[towns[towns['town'] == town].index, ['county', 'name_type']] = [county,'town]']\n",
    "            else:\n",
    "                towns.loc[towns[towns['town'] == town].index, ['county', 'name_type']] = [county,'county']\n",
    "    if state == 'NJ':\n",
    "        # remove instances where New Jersey is used\n",
    "        towns['town2'] = towns['town'].apply(lambda x: x.replace('New Jersey', '').strip())\n",
    "\n",
    "        # use modified town names\n",
    "        # try fuzzy match: town name -> crosswalk town-county\n",
    "        unmatched_towns2 = towns[towns['county'].apply(lambda x: pd.isnull(x))]['town2']\n",
    "        towns = fuzzyMatch(unmatched_towns2, towns, state_cw, primary_dict, dict_matchcol ='primary_city', initial = False, score_threshold = 85)\n",
    "        towns = addType(towns)\n",
    "        # some \"town\" names are actually counties\n",
    "        # use modified town names\n",
    "        # try direct match: town (county) name -> crosswalk county\n",
    "        towns = directCountyMatch(state_cw, towns, towncol = 'town2')\n",
    "        towns = addType(towns, 'county')\n",
    "    if state == 'PA':\n",
    "        # some \"town\" names are actually counties\n",
    "        # try direct match: town (county) name -> crosswalk county\n",
    "        towns = directCountyMatch(state_cw, towns, towncol = 'town')\n",
    "        towns = addType(towns, 'county')\n",
    "\n",
    "        # use acceptable_cities instead of primary_cities column to match in the crosswalk\n",
    "        # try direct match: town (county) name -> crosswalk county\n",
    "        null_ind = towns[towns['county'].apply(lambda x: pd.isnull(x))].index\n",
    "        pdict, tn = directTownMatch(state_cw, towns.loc[null_ind], col = 'acceptable_cities', towncol = 'town')\n",
    "        towns.loc[null_ind] = tn\n",
    "        towns = addType(towns, 'county')\n",
    "\n",
    "        # remove instances where New Jersey is used, fix some notational issues\n",
    "        # correct Dauphincoy to Dauphin and categorize Tulpehocken as being in Berks County\n",
    "        towns['town2'] = towns['town'].apply(lambda x: x.replace('Co ', 'County').replace('Delaware', 'Delaware County').strip())\n",
    "        towns['town2'] = towns['town2'].apply(lambda x: x.replace('Pennsylvania', '').replace('County County','County').strip())\n",
    "        towns['town2'] = towns['town2'].apply(lambda x: x.replace('Country', 'County').replace('Dauphincoy','Dauphin').strip())\n",
    "        towns['town2'] = towns['town2'].apply(lambda x: x.replace('Tulpehocken', 'Berks County').strip())\n",
    "\n",
    "        # categorize different Philadelphia neighborhoods as belonging in Philadelphia\n",
    "        philreptowns = ['Blockley', 'Northan Liberties', 'Northern Liberties', \\\n",
    "                        'The Northern Libert', 'Passyunk', 'German Town', 'Southwark', 'Borden Town'] # not sure on this last one...\n",
    "        for town in philreptowns:\n",
    "            towns['town2'] = towns['town2'].apply(lambda x: x.replace(town, 'Philadelphia'))\n",
    "        towns = addType(towns)\n",
    "        # use modified town names\n",
    "        # try direct match: town (county) name -> crosswalk county\n",
    "        unmatched_towns2 = towns[towns['county'].apply(lambda x: pd.isnull(x))]['town2']\n",
    "        towns = directCountyMatch(state_cw, towns, 'town2')\n",
    "        towns = addType(towns, 'county')\n",
    "        # some \"town\" names are actually counties\n",
    "        # try direct match: town (county) name -> crosswalk county\n",
    "        towns = directCountyMatch(state_cw, towns, towncol = 'town')\n",
    "        towns = addType(towns, 'county')\n",
    "\n",
    "        # use acceptable_cities instead of primary_cities column to match in the crosswalk\n",
    "        # try direct match: town (county) name -> crosswalk county\n",
    "        null_ind = towns[towns['county'].apply(lambda x: pd.isnull(x))].index\n",
    "        pdict, tn = directTownMatch(state_cw, towns.loc[null_ind], col = 'acceptable_cities', towncol = 'town')\n",
    "        towns.loc[null_ind] = tn\n",
    "        towns = addType(towns, 'county')\n",
    "\n",
    "        # remove instances where New Jersey is used, fix some notational issues\n",
    "        # correct Dauphincoy to Dauphin and categorize Tulpehocken as being in Berks County\n",
    "        towns['town2'] = towns['town'].apply(lambda x: x.replace('Co ', 'County').replace('Delaware', 'Delaware County').strip())\n",
    "        towns['town2'] = towns['town2'].apply(lambda x: x.replace('Pennsylvania', '').replace('County County','County').strip())\n",
    "        towns['town2'] = towns['town2'].apply(lambda x: x.replace('Country', 'County').replace('Dauphincoy','Dauphin').strip())\n",
    "        towns['town2'] = towns['town2'].apply(lambda x: x.replace('Tulpehocken', 'Berks County').strip())\n",
    "\n",
    "        # categorize different Philadelphia neighborhoods as belonging in Philadelphia\n",
    "        philreptowns = ['Blockley', 'Northan Liberties', 'Northern Liberties',\n",
    "                        'The Northern Libert', 'Passyunk', 'German Town', 'Southwark', 'Borden Town'] # not sure on this last one...\n",
    "        for town in philreptowns:\n",
    "            towns['town2'] = towns['town2'].apply(lambda x: x.replace(town, 'Philadelphia'))\n",
    "        towns = addType(towns)\n",
    "        # use modified town names\n",
    "        # try direct match: town (county) name -> crosswalk county\n",
    "        unmatched_towns2 = towns[towns['county'].apply(lambda x: pd.isnull(x))]['town2']\n",
    "        towns = directCountyMatch(state_cw, towns, 'town2')\n",
    "        towns = addType(towns, 'county')\n",
    "\n",
    "        # use modified town names\n",
    "        # try fuzzy match: town name -> crosswalk town-county\n",
    "        unmatched_towns2 = towns[towns['county'].apply(lambda x: pd.isnull(x))]['town2']\n",
    "        towns = fuzzyMatch(unmatched_towns2, towns, state_cw, primary_dict, dict_matchcol ='primary_city', initial = False, score_threshold = 85)\n",
    "        towns = addType(towns)\n",
    "\n",
    "        # use modified town names\n",
    "        # try fuzzy match: town (county) name -> crosswalk county\n",
    "        unmatched_towns2_1 = [x for x in towns[towns['county'].apply(lambda x: pd.isnull(x))]['town2'] if x != '']\n",
    "        towns = fuzzyMatch(unmatched_towns2_1, towns, state_cw, primary_dict, dict_matchcol = 'county', initial = False, score_threshold = 85)\n",
    "        towns = addType(towns, 'county')\n",
    "\n",
    "        # manually adjust incorrect matches\n",
    "        print(\"\\nManual Match\\n\")\n",
    "        for town, county, s in zip(['Charleston South Carolina', 'Burlington New Jersey', 'Northumberland County Virginia'],\n",
    "                                       ['Charleston County', 'Burlington County', 'Northumberland County'],\n",
    "                                       ['SC', 'NJ', 'VA']):\n",
    "            print(\"{} was matched to {}\".format(town, county))\n",
    "            towns.loc[towns[towns['town'] == town].index, ['county', 'state']] = [county, s]\n",
    "        towns = addType(towns, 'county')\n",
    "\n",
    "        # use modified town names\n",
    "        # try fuzzy match: town name -> crosswalk town-county\n",
    "        unmatched_towns2 = towns[towns['county'].apply(lambda x: pd.isnull(x))]['town2']\n",
    "        towns = fuzzyMatch(unmatched_towns2, towns, state_cw, primary_dict, dict_matchcol ='primary_city', initial = False, score_threshold = 85)\n",
    "        towns = addType(towns)\n",
    "\n",
    "        # use modified town names\n",
    "        # try fuzzy match: town (county) name -> crosswalk county\n",
    "        unmatched_towns2_1 = [x for x in towns[towns['county'].apply(lambda x: pd.isnull(x))]['town2'] if x != '']\n",
    "        towns = fuzzyMatch(unmatched_towns2_1, towns, state_cw, primary_dict, dict_matchcol = 'county', initial = False, score_threshold = 85)\n",
    "        towns = addType(towns, 'county')\n",
    "\n",
    "        # manually adjust incorrect matches\n",
    "        print(\"\\nManual Match\\n\")\n",
    "        for town, county, s in zip(['Charleston South Carolina', 'Burlington New Jersey', 'Northumberland County Virginia'],\n",
    "                                       ['Charleston County', 'Burlington County', 'Northumberland County'],\n",
    "                                       ['SC', 'NJ', 'VA']):\n",
    "            print(\"{} was matched to {}\".format(town, county))\n",
    "            towns.loc[towns[towns['town'] == town].index, ['county', 'state']] = [county, s]\n",
    "        towns = addType(towns, 'county')\n",
    "    if state == 'RI':\n",
    "        # remove instances where Rhode Island and other geo-jurisdictional terms are used\n",
    "        towns['town2'] = towns['town'].apply(lambda x: x.replace('Rhode Island', '').replace('State ', '').replace('of', '').strip())\n",
    "        # use modified town names\n",
    "        # try fuzzy match: town name -> crosswalk town-county\n",
    "        unmatched_towns2 = towns[towns['county'].apply(lambda x: pd.isnull(x))]['town2']\n",
    "        towns = fuzzyMatch(unmatched_towns2, towns, state_cw, primary_dict, dict_matchcol ='primary_city', initial = False, score_threshold = 85)\n",
    "        towns = addType(towns)\n",
    "\n",
    "        # manually adjust incorrect matches\n",
    "        print(\"\\nManual Match\\n\")\n",
    "        for town, county in zip(['Gloucester', 'Richmond'],\n",
    "                                ['Providence County', 'Washington County']):\n",
    "            print(\"{} was matched to {}\".format(town, county))\n",
    "            towns.loc[towns[towns['town'] == town].index, 'county'] = county\n",
    "        towns = addType(towns)\n",
    "\n",
    "    if state == 'SC':\n",
    "        # remove instances where South Carolina is used, change number to character\n",
    "        towns['town2'] = towns['town'].apply(lambda x: x.replace('South Carolina', '').replace('96', 'Ninety six').strip())\n",
    "\n",
    "        # use modified town names\n",
    "        # use acceptable_cities column\n",
    "        # try fuzzy match: town (county) name -> crosswalk county\n",
    "        null_ind = towns[towns['county'].apply(lambda x: pd.isnull(x))].index\n",
    "        pdict, tn = directTownMatch(state_cw, towns.loc[null_ind], col = 'acceptable_cities', towncol = 'town2')\n",
    "        towns.loc[null_ind] = tn\n",
    "        towns = addType(towns, 'county')\n",
    "\n",
    "        # use modified town names\n",
    "        # try fuzzy match: town (county) name -> crosswalk county\n",
    "        unmatched_towns2 = towns[towns['county'].apply(lambda x: pd.isnull(x))]['town2']\n",
    "        towns = fuzzyMatch(unmatched_towns2, towns, state_cw, primary_dict, dict_matchcol ='primary_city', initial = False, score_threshold = 85)\n",
    "        towns = addType(towns, 'county')\n",
    "\n",
    "        # some town names are actually county names\n",
    "        # use modified town names\n",
    "        # try fuzzy match: town (county) name -> crosswalk county\n",
    "        unmatched_towns2_1 = towns[towns['county'].apply(lambda x: pd.isnull(x))]['town2']\n",
    "        towns = fuzzyMatch(unmatched_towns2_1, towns, state_cw, primary_dict, dict_matchcol ='county', initial = False, score_threshold = 85)\n",
    "        towns = addType(towns, 'county')\n",
    "\n",
    "        townlist = ['St. Paul\\'s', 'Pee Dee', 'St. George', 'New River', 'Winyaw', 'Broad River', \\\n",
    "                    'Toogoodoo', 'St Pauls', 'Savannah', \\\n",
    "                    'James Island', 'St Andrews'] # last two are manual fixes\n",
    "        countylist = ['Clarendon County', 'Marion County', 'Dorchester County', 'Beaufort County', 'Georgetown County', 'Beaufort County',\n",
    "                      'Charleston County', 'Clarendon County', 'Chatham County', \\\n",
    "                      'Charleston County', 'Richland County']\n",
    "        for town, county in zip(townlist, countylist):\n",
    "            print(\"{} was matched to {}\".format(town, county))\n",
    "            towns.loc[towns[towns['town'] == town].index, 'county'] = county\n",
    "        towns = addType(towns)\n",
    "\n",
    "        towns.loc[towns[towns['town'] == 'Savannah'].index, 'state'] =  'GA'\n",
    "\n",
    "    if state == 'MA':\n",
    "        # remove instances where Massachusetts, MA or State is used\n",
    "        towns['town2'] = towns['town'].apply(lambda x: x.replace('MA', '').replace('Massachusetts', '').replace('State','').strip())\n",
    "        # use modified town names\n",
    "        # try fuzzy match: town (county) name -> crosswalk county\n",
    "        unmatched_towns2 = towns[towns['county'].apply(lambda x: pd.isnull(x))]['town2']\n",
    "        towns = fuzzyMatch(unmatched_towns2, towns, state_cw, primary_dict, dict_matchcol ='primary_city', initial = False, score_threshold = 85)\n",
    "        towns = addType(towns, 'county')\n",
    "\n",
    "    if state == 'VA':\n",
    "        # remove instances where Massachusetts, MA or State is used\n",
    "        towns['town2'] = towns['town'].apply(lambda x: x.replace('VA', '').replace('Virginia', '').replace('Virgina','').strip())\n",
    "        towns['town2'] = towns['town2'].apply(lambda x: x.replace('State', '').replace(' of ', '').strip())\n",
    "        # use modified town names\n",
    "        # try fuzzy match: town (county) name -> crosswalk county\n",
    "        unmatched_towns2 = towns[towns['county'].apply(lambda x: pd.isnull(x))]['town2']\n",
    "        towns = fuzzyMatch(unmatched_towns2, towns, state_cw, primary_dict, dict_matchcol ='primary_city', initial = False, score_threshold = 85)\n",
    "        towns = addType(towns, 'county')\n",
    "\n",
    "        # some town names are actually county names\n",
    "        # use modified town names\n",
    "        # try fuzzy match: town (county) name -> crosswalk county\n",
    "        unmatched_towns2_1 = towns[towns['county'].apply(lambda x: pd.isnull(x))]['town2']\n",
    "        towns = fuzzyMatch(unmatched_towns2_1, towns, state_cw, primary_dict, dict_matchcol ='county', initial = False, score_threshold = 85)\n",
    "        towns = addType(towns, 'county')\n",
    "\n",
    "        townlist = ['Portsmouth Virginia'] # last two are manual fixes\n",
    "        countylist = ['Norfolk County']\n",
    "        for town, county in zip(townlist, countylist):\n",
    "            print(\"{} was matched to {}\".format(town, county))\n",
    "            towns.loc[towns[towns['town'] == town].index, 'county'] = county\n",
    "        towns = addType(towns)\n",
    "    if state == 'DE':\n",
    "        # remove instances where Massachusetts, MA or State is used\n",
    "        towns['town2'] = towns['town'].apply(lambda x: x.replace('Delaware', '').replace('State', '').replace(' of ', '').strip())\n",
    "        towns['town2'] = towns['town2'].apply(lambda x: x.replace('Kent Company', 'Kent County').strip())\n",
    "        # use modified town names\n",
    "        # try fuzzy match: town (county) name -> crosswalk county\n",
    "        unmatched_towns2 = towns[towns['county'].apply(lambda x: pd.isnull(x))]['town2']\n",
    "        towns = fuzzyMatch(unmatched_towns2, towns, state_cw, primary_dict, dict_matchcol ='primary_city', initial = False, score_threshold = 85)\n",
    "        towns = addType(towns, 'county')\n",
    "\n",
    "        # some town names are actually county names\n",
    "        # use modified town names\n",
    "        # try fuzzy match: town (county) name -> crosswalk county\n",
    "        unmatched_towns2_1 = towns[towns['county'].apply(lambda x: pd.isnull(x))]['town2']\n",
    "        towns = fuzzyMatch(unmatched_towns2_1, towns, state_cw, primary_dict, dict_matchcol ='county', initial = False, score_threshold = 85)\n",
    "        towns = addType(towns, 'county')\n",
    "\n",
    "    # print out all unmatched names\n",
    "    print(\"\\nFinal Unmatched Names\\n\")\n",
    "    t = towns[towns['county'].apply(lambda x: pd.isnull(x))]\n",
    "    for tn in t['town']:\n",
    "        print(\"{} was unable to be matched\".format(tn))\n",
    "    towns = towns[towns['county'].apply(lambda x: not pd.isnull(x))]\n",
    "    towns['state'] = state\n",
    "\n",
    "    # only Georgia doesn't have a town2 column\n",
    "    if state not in ['GA']:\n",
    "        towns.drop('town2', axis = 1, inplace = True)\n",
    "\n",
    "    # correct states for certain counties/cities in PA and SC\n",
    "    if state == 'PA':\n",
    "        towns.loc[towns[towns['town'] == 'Charleston South Carolina'].index, 'state'] ='SC'\n",
    "        towns.loc[towns[towns['town'] == 'Northumberland County Virginia'].index, 'state'] = 'VA'\n",
    "    if state == 'SC':\n",
    "        towns.loc[towns[towns['town'] == 'Savannah'].index, 'state'] ='GA'\n",
    "\n",
    "\n",
    "    final_cw = pd.concat([final_cw, towns])"
   ],
   "metadata": {
    "collapsed": false,
    "pycharm": {
     "name": "#%%\n"
    }
   }
  },
  {
   "cell_type": "code",
   "execution_count": 28,
   "outputs": [],
   "source": [
    "final_cw.reset_index(inplace = True, drop = True)"
   ],
   "metadata": {
    "collapsed": false,
    "pycharm": {
     "name": "#%%\n"
    }
   }
  },
  {
   "cell_type": "code",
   "execution_count": 29,
   "outputs": [],
   "source": [
    "# manually input county, state and name type labels\n",
    "towns = ['Colchester', 'Charleston South Carolina', 'Philadelphia', 'Albany', 'Newark', 'Northumberland County Virginia', 'Savannah', 'City of New York', 'Long Island', 'Portsmouth Virginia']\n",
    "counties = ['New London County', 'Berkeley County', 'Philadelphia County', 'Albany County', 'Essex County', 'Northumberland County', 'Chatham County', 'New York County', \\\n",
    "            np.nan, 'Rockingham County']\n",
    "states = ['CT', 'SC', 'PA', 'NY', 'NJ', 'VA', 'GA', 'NY', 'NY', 'VA']\n",
    "for town, county, state in zip(towns, counties, states):\n",
    "    if town == 'Northumberland County Virginia':\n",
    "        final_cw.loc[final_cw[final_cw['town'] == town].index, ['county', 'state', 'name_type']] = [county, state, 'county']\n",
    "    elif pd.isnull(county):\n",
    "        final_cw.loc[final_cw[final_cw['town'] == town].index, ['county', 'state', 'name_type']] = [county, state, 'other']\n",
    "    else:\n",
    "        final_cw.loc[final_cw[final_cw['town'] == town].index, ['county', 'state', 'name_type']] = [county, state, 'town']"
   ],
   "metadata": {
    "collapsed": false,
    "pycharm": {
     "name": "#%%\n"
    }
   }
  },
  {
   "cell_type": "code",
   "execution_count": 30,
   "outputs": [],
   "source": [
    "# manually input county, state and name type labels\n",
    "colonies = ['New Hampshire', 'Massachusetts', 'Rhode Island', 'Connecticut', 'Conecticutt', 'New York', 'New Jersey', 'Pennsylvania', 'Delaware', 'Maryland', \\\n",
    "            'Virginia', 'North Carolina', 'South Carolina', 'Georgia', 'Vermont', 'Delawere', 'Virgina']\n",
    "abbrev = ['NH', 'MA', 'RI', 'CT', 'CT', 'NY', 'NJ', 'PA', 'DE', 'MD', 'VA', 'NC', 'SC', 'GA', 'VT', 'DE', 'VA']\n",
    "for colony, abrv in zip(colonies, abbrev):\n",
    "    ind = np.max(final_cw.index)+1\n",
    "    final_cw.loc[ind, ['town','county', 'state', 'name_type']] = [colony, np.nan, abrv, 'state']"
   ],
   "metadata": {
    "collapsed": false,
    "pycharm": {
     "name": "#%%\n"
    }
   }
  },
  {
   "cell_type": "code",
   "execution_count": 31,
   "outputs": [
    {
     "name": "stdout",
     "output_type": "stream",
     "text": [
      "Berlington New Jersey Camden\n"
     ]
    }
   ],
   "source": [
    "# manual replacement of counties that changed names or boders\n",
    "towns = ['Gilmantown', np.nan, 'Berlington New Jersey', np.nan, np.nan, np.nan, np.nan, np.nan, '96 District', \\\n",
    "         'Ninety six District', np.nan, np.nan, np.nan, np.nan, np.nan, 'Trenton New Jersey', 'Princeton New Jersey',\n",
    "         'Newbury', 'Pembroke', 'Hopkinton', 'Salisbury', 'Canterbury', 'Concord', np.nan, np.nan, np.nan]\n",
    "oldcounties = ['Belknap', 'Berkeley', 'Camden', 'Carroll', 'Columbia', 'Elk', 'Dorchester', 'Grant', 'Greenwood', \\\n",
    "               'Greenwood', 'Hampden', 'Kershaw', 'King and Queen', 'Lycoming', 'Marion', 'Mercer', 'Mercer',\n",
    "               'Merrimack', 'Merrimack', 'Merrimack', 'Merrimack', 'Merrimack', 'Merrimack', 'Norfolk', 'Perry', 'Sullivan']\n",
    "newcounties = ['Strafford', 'Charleston', 'Burlington', 'Strafford', 'Richmond', 'Northumberland', 'Charleston', 'Hampshire', 'Abbeville', \\\n",
    "               'Laurens', 'Hampshire', 'Lancaster', np.nan, 'Northumberland', 'Prince George\\'s', 'Hunterdon', 'Middlesex',\n",
    "               'Hillsborough', 'Hillsborough', 'Hillsborough', 'Hillsborough', 'Rockingham', 'Grafton', 'Suffolk', 'Cumberland', 'Cheshire']\n",
    "for town, oldcounty, newcounty in zip(towns, oldcounties, newcounties):\n",
    "    if not pd.isnull(town):\n",
    "        ind = final_cw[[t == town and oldcounty + ' County' == oc for t, oc in zip(final_cw['town'], final_cw['county'])]].index\n",
    "    else:\n",
    "        ind = final_cw[final_cw['county'] == oldcounty + ' County'].index\n",
    "    if pd.isnull(newcounty):\n",
    "        final_cw.loc[ind, 'county']  = newcounty\n",
    "    else:\n",
    "        final_cw.loc[ind, 'county']  = newcounty + ' County'\n",
    "    if len(ind) == 0:\n",
    "        print(town, oldcounty)\n",
    "#make corrections\n",
    "ind = final_cw[[c == 'Charleston County' and s == 'MD' for c, s in zip(final_cw['county'], final_cw['state'])]].index\n",
    "final_cw.loc[ind, 'county'] = 'Dorchester County'\n",
    "\n",
    "ind = final_cw[[c == 'Prince George\\'s County' and s == 'SC' for c, s in zip(final_cw['county'], final_cw['state'])]].index\n",
    "final_cw.loc[ind, 'county'] = 'Georgetown County'"
   ],
   "metadata": {
    "collapsed": false,
    "pycharm": {
     "name": "#%%\n"
    }
   }
  },
  {
   "cell_type": "code",
   "execution_count": 32,
   "outputs": [],
   "source": [
    "# manual fixes of assignments\n",
    "final_cw.loc[final_cw[final_cw['county'] == 'Prince George\\'s County'].index, 'county'] = 'Prince Georges County'\n",
    "final_cw.loc[final_cw[final_cw['county'] == 'Queen Anne\\'s County'].index, 'county'] = 'Queen Annes County'\n",
    "final_cw.loc[final_cw[final_cw['county'] == 'St Mary\\'s County'].index, 'county'] = 'St Marys County'\n",
    "\n",
    "# more manual fixes\n",
    "final_cw.loc[final_cw[final_cw['town'] == 'Doden Maryland'].index, ['county', 'name_type']] = ['Anne Arundel County', 'county']\n",
    "final_cw.loc[final_cw[final_cw['town'] == 'Huntington New Jersey'].index, ['county', 'name_type']] = ['Hunterdon County', 'county']\n",
    "# adding state labels\n",
    "final_cw.loc[final_cw[[pd.isnull(t) and not pd.isnull(s) and s != 'FR' for t, s in zip(final_cw['town'], final_cw['state'])]].index, 'name_type'] = 'state'\n",
    "\n",
    "final_cw.loc[final_cw[final_cw['town'] == 'Kittery'].index, ['county', 'name_type']] = ['York County', 'town']\n",
    "final_cw.loc[final_cw[final_cw['town'] == 'Kensignton'].index, ['county', 'name_type']] = ['Philadelphia County', 'neighborhood']\n",
    "final_cw.loc[final_cw[final_cw['town'] == 'York'].index, ['county', 'name_type']] = ['York County', 'town']\n",
    "final_cw.loc[final_cw[final_cw['town'] == 'Wells'].index, ['county', 'name_type']] = ['York County', 'town']\n",
    "final_cw.loc[final_cw[final_cw['town'] == 'James City County Virginia'].index, ['county']] = ['James City County']\n",
    "\n",
    "final_cw.loc[final_cw[final_cw['town'] == 'Cumb County Pennsylvania'].index, ['county']] = ['Cumberland County']\n",
    "final_cw.loc[final_cw[final_cw['town'] == 'Cumberland'].index, 'name_type'] = 'county'\n",
    "final_cw.loc[final_cw[final_cw['town'] == 'york town pennsylvania'].index, ['county', 'name_type']] = ['Philadelphia County', 'town']\n",
    "\n",
    "# Manual fixes of name_type\n",
    "final_cw.loc[final_cw['town'] == 'Virginia and Philadelphia', 'name_type'] = 'state'\n",
    "town_ind = final_cw[[nt == 'county' and ('County' not in c and 'Co ' not in c and 'Country' not in c and\n",
    "                                       'Talbot' not in c and 'Rockingham' not in c and 'Delaware' not in c)\n",
    "                       if not pd.isnull(c) else False for nt, c in zip(final_cw['name_type'], final_cw['town'])]].index\n",
    "final_cw.loc[town_ind, 'name_type'] = 'town'\n",
    "\n",
    "# some chester counties are mislabelled\n",
    "chester_ind = final_cw[final_cw['town'].apply(lambda x: 'Chester' in x and 'Massachusetts' not in x if not pd.isnull(x) else False)].index\n",
    "final_cw.loc[chester_ind, ['county', 'name_type']] = ['Chester County', 'county']\n",
    "\n",
    "# correctly label some counties\n",
    "\n",
    "county_ind = final_cw[[nt == 'town' and ('County of Philadelphia' in c or 'Paxton Tot Dauphin County' in c or 'Somerset County New Jersey' in c)\n",
    "                     for nt, c in zip(final_cw['name_type'], final_cw['town'])]].index\n",
    "final_cw.loc[county_ind, 'name_type'] = 'county'"
   ],
   "metadata": {
    "collapsed": false,
    "pycharm": {
     "name": "#%%\n"
    }
   }
  },
  {
   "cell_type": "code",
   "execution_count": 34,
   "outputs": [],
   "source": [
    "# drop duplicates that occur for some reason\n",
    "final_cw.drop_duplicates(subset = ['town', 'state'], inplace = True)\n",
    "# add labels for county and name type to CD_all\n",
    "CD_all = pd.merge(CD_all, final_cw, on = ['town', 'state'], how = 'left')"
   ],
   "metadata": {
    "collapsed": false,
    "pycharm": {
     "name": "#%%\n"
    }
   }
  },
  {
   "cell_type": "code",
   "execution_count": 35,
   "outputs": [],
   "source": [
    "CD_all.loc[CD_all[CD_all['name_type'].apply(lambda x: pd.isnull(x))].index, 'name_type'] = 'other'"
   ],
   "metadata": {
    "collapsed": false,
    "pycharm": {
     "name": "#%%\n"
    }
   }
  },
  {
   "cell_type": "code",
   "execution_count": 36,
   "outputs": [],
   "source": [
    "CD_all.loc[CD_all.query('town == \"City of New York\" and name_type == \"other\"').index, ['county', 'name_type']] = ['New York County', 'town']\n",
    "CD_all.loc[CD_all[CD_all['town'].apply(lambda x: \"State\" in x if not pd.isnull(x) else False)].index, ['name_type']] = ['state']\n",
    "CD_all.loc[CD_all.query('town == \"Vermont\"').index, ['state', 'name_type']] = ['VT', 'state']\n",
    "# assigning unassinable towns as states\n",
    "CD_all.loc[CD_all.query('town == \"North Hampshire\" and name_type == \"other\"').index, ['name_type']] = ['state_flag']\n",
    "CD_all.loc[CD_all.query('town == \"Long Island\" and name_type == \"other\"').index, ['name_type']] = [ 'state']\n",
    "CD_all.loc[CD_all.query('town == \"Carolina\" and name_type == \"other\"').index, ['name_type']] = [ 'state_flag']\n",
    "CD_all.loc[CD_all.query('town == \"Doden\" and name_type == \"other\"').index, [ 'name_type']] = [ 'state_flag']\n",
    "CD_all.loc[CD_all.query('town == \"Isaac\" and name_type == \"other\"').index, [ 'name_type']] = [ 'state_flag']\n",
    "CD_all.loc[CD_all.query('town == \"Kittery\" and name_type == \"other\"').index, [ 'name_type']] = [ 'state_flag']\n",
    "CD_all.loc[CD_all.query('town == \"Glouster\" and name_type == \"other\"').index, ['name_type']] = [ 'state_flag']\n",
    "CD_all.loc[CD_all.query('town == \"York\" and name_type == \"other\"').index, [ 'name_type']] = [ 'state_flag']\n",
    "CD_all.loc[CD_all.query('town == \"Wells\" and name_type == \"other\"').index, [ 'name_type']] = ['state_flag']\n",
    "CD_all.loc[CD_all.query('town == \"W Callisters\" and name_type == \"other\"').index, ['name_type']] = ['state_flag']\n",
    "CD_all.loc[CD_all.query('town == \"Huntington\" and name_type == \"other\"').index, [ 'county', 'name_type']] = [ 'Hunterdon County', 'county']\n",
    "CD_all.loc[CD_all.query('town == \"Connecticutt\" and name_type == \"other\"').index, [ 'name_type']] = [  'county']\n",
    "CD_all.loc[CD_all.query('town == \"Charleston South Carolina\" and name_type == \"other\"').index, [ 'county', 'name_type']] = ['Charleston County', 'town']\n",
    "CD_all.loc[CD_all.query('town == \"Albany\" and name_type == \"other\"').index, ['county', 'name_type']] = ['Albany County', 'town']\n",
    "CD_all.loc[CD_all.query('town == \"Northumberland\" and name_type == \"other\"').index, ['county', 'name_type']] = [ 'Northumberland County', 'town']\n",
    "CD_all.loc[CD_all.query('town == \"Springfield\" and name_type == \"other\"').index, ['name_type']] = [ 'state_flag']\n",
    "CD_all.loc[CD_all.query('town == \"Long Cames\" and name_type == \"other\"').index, [ 'name_type']] = [ 'state_flag']\n",
    "CD_all.loc[CD_all.query('town == \"Savannah\" and name_type == \"other\"').index, [ 'name_type']] = [ 'state_flag']"
   ],
   "metadata": {
    "collapsed": false,
    "pycharm": {
     "name": "#%%\n"
    }
   }
  },
  {
   "cell_type": "code",
   "execution_count": 37,
   "outputs": [],
   "source": [
    "CD_all.loc[CD_all.query('name_type == \"other\" and town.isna() and county.isna() and not state.isna() and state != \"FR\"').index, 'name_type'] = 'state'"
   ],
   "metadata": {
    "collapsed": false,
    "pycharm": {
     "name": "#%%\n"
    }
   }
  },
  {
   "cell_type": "code",
   "execution_count": 38,
   "outputs": [],
   "source": [
    "# fix state\n",
    "ind = CD_all.query('name_type == \"other\" and not state.isna() and state != \"BVI\" and state != \"BM\" and state != \"GB\" and state != \"VI\" and state != \"FR\" and state != \"US\"').index\n",
    "CD_all.loc[ind, 'name_type'] = 'state'\n",
    "CD_all.loc[CD_all[CD_all['name_type'] == 'town]'].index, 'name_type'] = 'town'"
   ],
   "metadata": {
    "collapsed": false,
    "pycharm": {
     "name": "#%%\n"
    }
   }
  },
  {
   "cell_type": "code",
   "execution_count": 39,
   "outputs": [],
   "source": [
    "CD_all['6p_total'] = CD_all['6p_Dollar'] + CD_all['6p_Cents']/100"
   ],
   "metadata": {
    "collapsed": false,
    "pycharm": {
     "name": "#%%\n"
    }
   }
  },
  {
   "cell_type": "code",
   "execution_count": 40,
   "outputs": [],
   "source": [
    "grouped_assets = CD_all.groupby(['county', 'state']).agg({'6p_total': ['sum', 'count', 'mean']})\n",
    "grouped_assets.columns = grouped_assets.columns.map('_'.join).str.strip('_')\n",
    "grouped_assets.columns = ['6p_total', 'debtholder_county_count', 'mean_6p_held']\n",
    "grouped_assets = grouped_assets.reset_index()"
   ],
   "metadata": {
    "collapsed": false,
    "pycharm": {
     "name": "#%%\n"
    }
   }
  },
  {
   "cell_type": "code",
   "execution_count": 41,
   "outputs": [],
   "source": [
    "countyPop = pd.read_csv('../../Data/CensusData/countyPopulation.csv').drop(0).reset_index(drop = True)\n",
    "sub_cols =['Area Name', 'State/US Abbreviation', 'Total Population', 'White Male', 'White Male Age 16 Years and over']\n",
    "county_subset = countyPop[sub_cols]\n",
    "merged_geography = pd.merge(county_subset, grouped_assets, left_on = ['Area Name', 'State/US Abbreviation'], right_on=['county', 'state'], how = 'right')\n",
    "final_asset_data = merged_geography.drop(['Area Name', 'State/US Abbreviation'], axis = 1)\n",
    "final_asset_data['debt_per_capita'] = final_asset_data['6p_total']/final_asset_data['Total Population'].apply(lambda x: float(x))\n",
    "final_asset_data['debt_per_white_male'] = final_asset_data['6p_total']/final_asset_data['White Male'].apply(lambda x: float(x))"
   ],
   "metadata": {
    "collapsed": false,
    "pycharm": {
     "name": "#%%\n"
    }
   }
  },
  {
   "cell_type": "code",
   "execution_count": 44,
   "outputs": [
    {
     "data": {
      "text/plain": "    6p_Dollar 6p_Cents 6p_def_Dollar 6p_def_Cents 3p_Dollar 3p_Cents  \\\n0      1064.0     75.0         532.0         37.0     508.0     51.0   \n1       449.0     96.0         224.0         97.0     232.0     10.0   \n2       154.0     20.0          77.0         10.0     192.0      NaN   \n3       196.0     75.0          98.0         37.0     172.0     24.0   \n4        53.0     58.0          26.0         79.0      67.0      6.0   \n..        ...      ...           ...          ...       ...      ...   \n423     120.0     25.0          60.0         12.0      97.0     70.0   \n424      33.0     33.0          16.0         67.0      31.0     67.0   \n425     124.0     33.0          62.0         17.0     118.0     41.0   \n426     242.0     67.0         121.0         33.0      79.0     52.0   \n427     180.0     47.0          90.0         24.0     207.0     93.0   \n\n               town state  occupation                   Name state_data  \n0          Hartford    CT    Merchant     [Samuel W Pomeroy]         CT  \n1            Bolton    CT      Farmer    [Benjamin Trumbull]         CT  \n2      Rhode Island    RI      Farmer        [Richard Green]         CT  \n3          Hartford    CT    Merchant       [Thomas Hopkins]         CT  \n4          Hartford    CT    Merchant          [John Morgan]         CT  \n..              ...   ...         ...                    ...        ...  \n423        New York    NY    Merchant  [Robert Ross Waddell]         SC  \n424        Maryland    MD  Shopkeeper        [George Parker]         SC  \n425        Maryland    MD    Merchant       [Edward Ireland]         SC  \n426      Charleston    SC         NaN         [Simeon Theus]         SC  \n427  South Carolina    SC    Marriner          [Thomas Ross]         SC  \n\n[5664 rows x 11 columns]",
      "text/html": "<div>\n<style scoped>\n    .dataframe tbody tr th:only-of-type {\n        vertical-align: middle;\n    }\n\n    .dataframe tbody tr th {\n        vertical-align: top;\n    }\n\n    .dataframe thead th {\n        text-align: right;\n    }\n</style>\n<table border=\"1\" class=\"dataframe\">\n  <thead>\n    <tr style=\"text-align: right;\">\n      <th></th>\n      <th>6p_Dollar</th>\n      <th>6p_Cents</th>\n      <th>6p_def_Dollar</th>\n      <th>6p_def_Cents</th>\n      <th>3p_Dollar</th>\n      <th>3p_Cents</th>\n      <th>town</th>\n      <th>state</th>\n      <th>occupation</th>\n      <th>Name</th>\n      <th>state_data</th>\n    </tr>\n  </thead>\n  <tbody>\n    <tr>\n      <th>0</th>\n      <td>1064.0</td>\n      <td>75.0</td>\n      <td>532.0</td>\n      <td>37.0</td>\n      <td>508.0</td>\n      <td>51.0</td>\n      <td>Hartford</td>\n      <td>CT</td>\n      <td>Merchant</td>\n      <td>[Samuel W Pomeroy]</td>\n      <td>CT</td>\n    </tr>\n    <tr>\n      <th>1</th>\n      <td>449.0</td>\n      <td>96.0</td>\n      <td>224.0</td>\n      <td>97.0</td>\n      <td>232.0</td>\n      <td>10.0</td>\n      <td>Bolton</td>\n      <td>CT</td>\n      <td>Farmer</td>\n      <td>[Benjamin Trumbull]</td>\n      <td>CT</td>\n    </tr>\n    <tr>\n      <th>2</th>\n      <td>154.0</td>\n      <td>20.0</td>\n      <td>77.0</td>\n      <td>10.0</td>\n      <td>192.0</td>\n      <td>NaN</td>\n      <td>Rhode Island</td>\n      <td>RI</td>\n      <td>Farmer</td>\n      <td>[Richard Green]</td>\n      <td>CT</td>\n    </tr>\n    <tr>\n      <th>3</th>\n      <td>196.0</td>\n      <td>75.0</td>\n      <td>98.0</td>\n      <td>37.0</td>\n      <td>172.0</td>\n      <td>24.0</td>\n      <td>Hartford</td>\n      <td>CT</td>\n      <td>Merchant</td>\n      <td>[Thomas Hopkins]</td>\n      <td>CT</td>\n    </tr>\n    <tr>\n      <th>4</th>\n      <td>53.0</td>\n      <td>58.0</td>\n      <td>26.0</td>\n      <td>79.0</td>\n      <td>67.0</td>\n      <td>6.0</td>\n      <td>Hartford</td>\n      <td>CT</td>\n      <td>Merchant</td>\n      <td>[John Morgan]</td>\n      <td>CT</td>\n    </tr>\n    <tr>\n      <th>...</th>\n      <td>...</td>\n      <td>...</td>\n      <td>...</td>\n      <td>...</td>\n      <td>...</td>\n      <td>...</td>\n      <td>...</td>\n      <td>...</td>\n      <td>...</td>\n      <td>...</td>\n      <td>...</td>\n    </tr>\n    <tr>\n      <th>423</th>\n      <td>120.0</td>\n      <td>25.0</td>\n      <td>60.0</td>\n      <td>12.0</td>\n      <td>97.0</td>\n      <td>70.0</td>\n      <td>New York</td>\n      <td>NY</td>\n      <td>Merchant</td>\n      <td>[Robert Ross Waddell]</td>\n      <td>SC</td>\n    </tr>\n    <tr>\n      <th>424</th>\n      <td>33.0</td>\n      <td>33.0</td>\n      <td>16.0</td>\n      <td>67.0</td>\n      <td>31.0</td>\n      <td>67.0</td>\n      <td>Maryland</td>\n      <td>MD</td>\n      <td>Shopkeeper</td>\n      <td>[George Parker]</td>\n      <td>SC</td>\n    </tr>\n    <tr>\n      <th>425</th>\n      <td>124.0</td>\n      <td>33.0</td>\n      <td>62.0</td>\n      <td>17.0</td>\n      <td>118.0</td>\n      <td>41.0</td>\n      <td>Maryland</td>\n      <td>MD</td>\n      <td>Merchant</td>\n      <td>[Edward Ireland]</td>\n      <td>SC</td>\n    </tr>\n    <tr>\n      <th>426</th>\n      <td>242.0</td>\n      <td>67.0</td>\n      <td>121.0</td>\n      <td>33.0</td>\n      <td>79.0</td>\n      <td>52.0</td>\n      <td>Charleston</td>\n      <td>SC</td>\n      <td>NaN</td>\n      <td>[Simeon Theus]</td>\n      <td>SC</td>\n    </tr>\n    <tr>\n      <th>427</th>\n      <td>180.0</td>\n      <td>47.0</td>\n      <td>90.0</td>\n      <td>24.0</td>\n      <td>207.0</td>\n      <td>93.0</td>\n      <td>South Carolina</td>\n      <td>SC</td>\n      <td>Marriner</td>\n      <td>[Thomas Ross]</td>\n      <td>SC</td>\n    </tr>\n  </tbody>\n</table>\n<p>5664 rows × 11 columns</p>\n</div>"
     },
     "execution_count": 44,
     "metadata": {},
     "output_type": "execute_result"
    }
   ],
   "source": [
    "CD_all"
   ],
   "metadata": {
    "collapsed": false,
    "pycharm": {
     "name": "#%%\n"
    }
   }
  },
  {
   "cell_type": "code",
   "execution_count": 42,
   "outputs": [],
   "source": [
    "# for david to use when doing histograms of occupations vs no occupations and grouping occupations\n",
    "CD_all.to_csv('../data_raw/post1790/Aggregated/raw/aggregated_CD.csv')\n",
    "# for Jiacheng to use when making table\n",
    "CD_all[['town', 'state', 'county', 'name_type']].drop_duplicates().to_csv('../../Data/AssetGeography/county_cw.csv')\n",
    "# for Maria to use when making maps\n",
    "final_asset_data.to_csv('../../Data/AssetGeography/county_debt_total.csv')"
   ],
   "metadata": {
    "collapsed": false,
    "pycharm": {
     "name": "#%%\n"
    }
   }
  },
  {
   "cell_type": "code",
   "execution_count": 43,
   "outputs": [
    {
     "name": "stdout",
     "output_type": "stream",
     "text": [
      "0.6574815625923992\n",
      "0.808598216327464\n"
     ]
    }
   ],
   "source": [
    "print(CD_all[CD_all['county'].apply(lambda x: not pd.isnull(x))]['6p_Dollar'].sum()/CD_all['6p_Dollar'].sum())\n",
    "print(CD_all[CD_all['county'].apply(lambda x: not pd.isnull(x))].shape[0]/CD_all.shape[0])"
   ],
   "metadata": {
    "collapsed": false,
    "pycharm": {
     "name": "#%%\n"
    }
   }
  }
 ],
 "metadata": {
  "kernelspec": {
   "display_name": "Python 3",
   "language": "python",
   "name": "python3"
  },
  "language_info": {
   "codemirror_mode": {
    "name": "ipython",
    "version": 2
   },
   "file_extension": ".py",
   "mimetype": "text/x-python",
   "name": "python",
   "nbconvert_exporter": "python",
   "pygments_lexer": "ipython2",
   "version": "2.7.6"
  }
 },
 "nbformat": 4,
 "nbformat_minor": 0
}