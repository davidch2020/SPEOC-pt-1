{
 "cells": [
  {
   "cell_type": "code",
   "execution_count": 259,
   "metadata": {
    "collapsed": true,
    "pycharm": {
     "name": "#%%\n"
    }
   },
   "outputs": [],
   "source": [
    "import pandas as pd"
   ]
  },
  {
   "cell_type": "markdown",
   "source": [
    "## Helper Functions and Structures"
   ],
   "metadata": {
    "collapsed": false,
    "pycharm": {
     "name": "#%% md\n"
    }
   }
  },
  {
   "cell_type": "code",
   "execution_count": 260,
   "outputs": [],
   "source": [
    "def deNaN(series):\n",
    "    \"\"\"\n",
    "    amends pandas series by replacing NaN values with empty strings\n",
    "    :param series: pandas series\n",
    "    \"\"\"\n",
    "\n",
    "    return series.apply(lambda x: \"\" if type(x) != str else x)\n",
    "\n",
    "\n",
    "def simpleSplit(name):\n",
    "    \"\"\"\n",
    "    split two people with the same last name. example: John and James Davenport\n",
    "    :param name: input name\n",
    "    :return: two separate names\n",
    "    \"\"\"\n",
    "    name2 = name.split(\" and \")[1]\n",
    "    lname2 = name2.split(\" \")[-1] if \"Van\" not in name2 else \" \".join(name.split(\" \")[-2:])\n",
    "    name1 = name.split(\" and \")[0] + \" \" + lname2\n",
    "    return \" | \".join([name1, name2])\n",
    "\n",
    "\n",
    "def simpleSplit2(name):\n",
    "    \"\"\"\n",
    "    split two people with different last names whose names are separated by \"and\"\n",
    "    :param name: input name\n",
    "    :return: two separate names\n",
    "    \"\"\"\n",
    "    try:\n",
    "        name2 = name.split(\" and \")[1]\n",
    "        name1 = name.split(\" and \")[0]\n",
    "    except:\n",
    "        name2 = name.split(\" And \")[1]\n",
    "        name1 = name.split(\" And \")[0]\n",
    "    return \" | \".join([name1, name2])\n",
    "\n",
    "\n",
    "def tNameList(lst):\n",
    "    \"\"\"\n",
    "    takes a list of names and returns a string of names separated by \" | \", sorted and with duplicates removed\n",
    "    :param lst: input lst\n",
    "    :return: string with names joined\n",
    "    \"\"\"\n",
    "    return \" | \".join(sorted(list(set(lst))))"
   ],
   "metadata": {
    "collapsed": false,
    "pycharm": {
     "name": "#%%\n"
    }
   }
  },
  {
   "cell_type": "markdown",
   "source": [
    "## Prepare List of Names"
   ],
   "metadata": {
    "collapsed": false,
    "pycharm": {
     "name": "#%% md\n"
    }
   }
  },
  {
   "cell_type": "code",
   "execution_count": 261,
   "outputs": [],
   "source": [
    "# import data\n",
    "CD_merged = pd.read_csv(\"../data_clean/aggregated_CD_post1790.csv\", index_col=0)\n",
    "\n",
    "# create name df\n",
    "names = CD_merged[\n",
    "    ['Name', 'First Name', 'Last Name', 'new_town', 'county', 'new_state', 'country', 'name_type']].fillna(\n",
    "    \"\").drop_duplicates()"
   ],
   "metadata": {
    "collapsed": false,
    "pycharm": {
     "name": "#%%\n"
    }
   }
  },
  {
   "cell_type": "code",
   "execution_count": 262,
   "outputs": [],
   "source": [
    "names['Name_Fix'] = names['Name']"
   ],
   "metadata": {
    "collapsed": false,
    "pycharm": {
     "name": "#%%\n"
    }
   }
  },
  {
   "cell_type": "code",
   "execution_count": 263,
   "outputs": [],
   "source": [
    "# cleaning names - identify names to be cleaned\n",
    "names['Name_Fix'] = names['Name_Fix'].apply(\n",
    "    lambda x: x.lower().replace(\"and sons\", \"\").replace(\"and son\", \"\").replace(\"and co\", \"\").replace(\"and others\",\n",
    "                                                                                                     \"\").replace(\n",
    "        \" mpany\", \"\").replace(\" mpaney\", \"\").replace('as guardian', '').replace(\"and brothers\", \"\").replace(\"and co\\'\",\n",
    "                                                                                                            \"\").replace(\n",
    "        '  ', ' ').strip().title().replace(\"And\", \"and\"))\n",
    "\n",
    "# list key words that classsify a name as one that needs to be fixed\n",
    "name_fix_inds = names[names['Name_Fix'].apply(lambda x: ' and ' in x.lower() or\n",
    "                                                        ' of ' in x.lower() or\n",
    "                                                        'treas' in x.lower() or\n",
    "                                                        ' to ' in x.lower() or\n",
    "                                                        'adm ' in x.lower() or\n",
    "                                                        ' adm' in x.lower() or\n",
    "                                                        ' exec ' in x.lower() or\n",
    "                                                        'agents' in x.lower() or\n",
    "                                                        ' no ' in x.lower() or\n",
    "                                                        ' comm' in x.lower() or\n",
    "                                                        ' for ' in x.lower())].index"
   ],
   "metadata": {
    "collapsed": false,
    "pycharm": {
     "name": "#%%\n"
    }
   }
  },
  {
   "cell_type": "code",
   "execution_count": 264,
   "outputs": [],
   "source": [
    "# group of names that have a particular form that need to be fixed\n",
    "simplefix = ['John and James Davenport', 'Eunice and Betsey Wadsworth', 'Daniel and Elijah Boardman',\n",
    "             'Dan and Elijah Boardman',\n",
    "             'Samuel and Timothy Burr', 'Michael and Thomas Bull', 'Elias and Jeremiah Cowles',\n",
    "             'Amasa and Elnathan Keyes', 'Horace and Seth Johnson',\n",
    "             'Richard and James Potter', 'Elizabeth and John Grover', 'Nicholas and Hannah Cooke',\n",
    "             'Moses and Nicholas Brown',\n",
    "             'Samuel and Charles Sampson', 'John and Hugh Irvin', 'Jonathan and Mariamne Williams',\n",
    "             'Jacob and Philip Mark', 'John and Nicholas J Roosevelt', 'Isaac and Henry Truax',\n",
    "             'Catherine and Rachel Dow', 'Charles and J Shaw',\n",
    "             'W and J Heyer', 'George and Edm Morewood', 'William and James Constable',\n",
    "             'Horace and Seth Johnston', 'Michael and Thomas Bull', 'Daniel and E Marsh',\n",
    "             'Michael and Abraham Van Peene', 'John and Alexander Mowatt', 'Alexander and Michael Mowatt',\n",
    "             \"Moses and Charles Ogden\", \"John and Francis Atkinson\", \"Abraham and James Cole\"]\n",
    "# replace names, then remove duplicates and reformat in our combined name format\n",
    "names['Name_Fix'] = names['Name_Fix'].apply(\n",
    "    lambda x: tNameList([simpleSplit(ele) if ele in simplefix else ele for ele in x.split(\" | \")]))"
   ],
   "metadata": {
    "collapsed": false,
    "pycharm": {
     "name": "#%%\n"
    }
   }
  },
  {
   "cell_type": "code",
   "execution_count": 265,
   "outputs": [],
   "source": [
    "# group of names that have another form that need to be fixed\n",
    "simplefix2 = ['Joshua Belden and James Wells', 'William Joseph and Richard Hart', 'Anthony Bradford and Stephen Hall',\n",
    "              'John Dodd and John Porter',\n",
    "              'Uriah Forrest and Benjamin Stoddert', 'Samuel John and Thomas Snowden',\n",
    "              'John Laird and Thomas Dick', 'James Boyd and Jonathan B Smith', 'Nathan Waterman and Robert Newell',\n",
    "              'Joseph Jenckes and David L Barnes',\n",
    "              'Henry Laurens and Arnoldus Vanderhorst', 'Love Stone and Joseph Vesey',\n",
    "              'Charles Stuart and James Mcculloch',\n",
    "              'Robert Daniel and Guilian Crommelin']\n",
    "# replace names, then remove duplicates and reformat in our combined name format\n",
    "names['Name_Fix'] = names['Name_Fix'].apply(\n",
    "    lambda x: tNameList([simpleSplit2(ele) if ele in simplefix2 else ele for ele in x.split(\" | \")]))"
   ],
   "metadata": {
    "collapsed": false,
    "pycharm": {
     "name": "#%%\n"
    }
   }
  },
  {
   "cell_type": "code",
   "execution_count": 266,
   "outputs": [],
   "source": [
    "# fix people with \"Treasurer in name among our problematic names\n",
    "t_ind = names.loc[name_fix_inds][names.loc[name_fix_inds, 'Name_Fix'].apply(\n",
    "    lambda x: 'treasurer' in x.lower() and 'cincinnati' not in x.lower())].index\n",
    "# remove certain phrases\n",
    "newvals = names.loc[t_ind, 'Name_Fix'].apply(lambda x: tNameList(\n",
    "    [ele.replace('Society', '').replace('Proprietors', '').split(\"Treasurer\")[0].strip() for ele in x.split(\" | \")]))\n",
    "names.loc[t_ind, 'Name_Fix'] = newvals"
   ],
   "metadata": {
    "collapsed": false,
    "pycharm": {
     "name": "#%%\n"
    }
   }
  },
  {
   "cell_type": "code",
   "execution_count": 267,
   "outputs": [],
   "source": [
    "# fix people with \"transfer\" and \"of\"\" in name\n",
    "trans_ind = names.loc[name_fix_inds][names.loc[name_fix_inds, 'Name_Fix'].apply(\n",
    "    lambda x: all(['transfer' in ele.lower() and 'from' in ele.lower() for ele in x.split(\" | \")]))].index\n",
    "newvals = names.loc[trans_ind, 'Name_Fix'].apply(lambda x: tNameList(\n",
    "    [ele.lower().split(\"transfer\")[0].strip().title().replace(\" And\", \"\").split(\"In Trust\")[0].strip() for ele in\n",
    "     x.split(\" | \")]))\n",
    "names.loc[trans_ind, 'Name_Fix'] = newvals"
   ],
   "metadata": {
    "collapsed": false,
    "pycharm": {
     "name": "#%%\n"
    }
   }
  },
  {
   "cell_type": "code",
   "execution_count": 268,
   "outputs": [],
   "source": [
    "# fix people with \"school\" in name\n",
    "s_ind = names.loc[name_fix_inds][\n",
    "    names.loc[name_fix_inds, 'Name_Fix'].apply(lambda x: \" school \" in x.lower() and \"com\" in x.lower())].index\n",
    "newvals = names.loc[s_ind, 'Name_Fix'].apply(lambda x: tNameList(\n",
    "    [ele.lower().split(\"school\")[0].replace(\"hon\", \"\").replace(\"society committee\", \"\").strip().title() for ele in\n",
    "     x.split(\" | \")]))\n",
    "names.loc[s_ind, 'Name_Fix'] = newvals"
   ],
   "metadata": {
    "collapsed": false,
    "pycharm": {
     "name": "#%%\n"
    }
   }
  },
  {
   "cell_type": "code",
   "execution_count": 269,
   "outputs": [],
   "source": [
    "# import list of manual changes we make to names, then apply them\n",
    "df_comp = pd.read_csv('clean_tools/company_names_fix.csv', index_col=0)\n",
    "df_comp_dict = dict(zip(df_comp['original'].apply(lambda x: x.lower()), df_comp['new']))\n",
    "names['Name_Fix'] = names['Name_Fix'].apply(lambda x: df_comp_dict.get(x.lower(), x) if not pd.isnull(x) else x)"
   ],
   "metadata": {
    "collapsed": false,
    "pycharm": {
     "name": "#%%\n"
    }
   }
  },
  {
   "cell_type": "code",
   "execution_count": 270,
   "outputs": [],
   "source": [
    "# remove duplicates and sort alphabetically\n",
    "names['Name_Fix'] = names['Name_Fix'].apply(lambda x: x.replace(\"  \", \" \").strip())\n",
    "names['Name_Fix'] = names['Name_Fix'].apply(lambda x: tNameList(x.split(\" | \")))"
   ],
   "metadata": {
    "collapsed": false,
    "pycharm": {
     "name": "#%%\n"
    }
   }
  },
  {
   "cell_type": "code",
   "execution_count": 271,
   "outputs": [],
   "source": [
    "# manually fix some names that have issues that the above process did not solve\n",
    "names.loc[names[names['Name_Fix'].apply(lambda x: 'virginia' in x.lower())].index, 'Name_Fix'] = [\n",
    "    'Daniel Carroll Brant | Daniel Carroll Brent', 'Charles Lee | Richard Lee']\n",
    "names.loc[names[names['Name_Fix'].apply(lambda x: 'the fred' in x.lower())].index, 'Name_Fix'] = ['Frderick Smith']\n",
    "names.loc[names[names['Name_Fix'].apply(lambda x: 'dr ' in x.lower())].index, 'Name_Fix'] = [\n",
    "    'William Handy | Philip N Brown']"
   ],
   "metadata": {
    "collapsed": false,
    "pycharm": {
     "name": "#%%\n"
    }
   }
  },
  {
   "cell_type": "code",
   "execution_count": 272,
   "outputs": [],
   "source": [
    "# export names that we changed + names we want to do research on to figure out identities to check folder\n",
    "change_index = names[names['Name'] != names['Name_Fix']].index\n",
    "exc_ind = names[names.apply(lambda x: (x['Name'] == x['Name_Fix'] and ' and ' in x['Name']) or (\n",
    "        x['Name'] != x['Name_Fix'] and ' and ' in x['Name_Fix']), axis=1)].index\n",
    "name_fix_inds_a = [ind for ind in name_fix_inds if ind not in exc_ind]\n",
    "names.loc[exc_ind].to_csv('../data_clean/check/company_research.csv')\n",
    "names.loc[name_fix_inds_a].to_csv('../data_clean/check/changed_names.csv')"
   ],
   "metadata": {
    "collapsed": false,
    "pycharm": {
     "name": "#%%\n"
    }
   }
  },
  {
   "cell_type": "code",
   "execution_count": 273,
   "outputs": [],
   "source": [
    "# create dataframe that contains first/last names\n",
    "df_cols = ['Name', 'Fn_Fix', 'Ln_Fix', 'new_town', 'county', 'new_state', 'country', 'name_type', 'Name_Fix']\n",
    "name_df = pd.DataFrame(columns=df_cols)\n",
    "# exceptions where we have to handle fn/ln separation differently\n",
    "# these are names we cannot search for on the scraper because they are not person names\n",
    "excep_vals = [\n",
    "    \"Trustees Of 2Nd R Church | Trustees Of The Second Presbeterian Church | Trustees Of The Second Presbyterian\",\n",
    "    \"The State Of Georgia\",\n",
    "    \"The Trustees Of Frederick County | The Trustees Of Frederick County Poor | Trustees Of Frederick County Poor\",\n",
    "    \"The Treasurer Of Cincinnati | The Treasurer Of The Cincinnati | The Treasurer Of The Cincinnati Of Maryland\",\n",
    "    \"The Trustees Of Preb Church Work Joseph Buck County | Trustees Of The Presbyterean Church Warwick Township Bucks | Trustees Of The Presbyterian Church\",\n",
    "    \"Society For Releif Of Poor Distressd Masters Of Ships | Society For The Relief Of Poor and Distressed Masters Of Ships Their Widows\",\n",
    "    \"Jackson and Nightingale\",\n",
    "    \"Nesmoz and Valiant | Nesmoz and Valliant\",\n",
    "    \"Jackson and Evans | Jackson and Evens\",\n",
    "    \"Trustees Of Prebn Church Abarwick Bucks County | Trustees Of The Presbyterean Church Warwick Township Bucks | Trustees Of The Presbyterian Church\",\n",
    "    \"Trustees Of Prebn Church Abarwick Bucks\",\n",
    "    \"Trustees Of The Presbyterian\",\n",
    "    \"Bull and Keyes\",\n",
    "    \"Saybrook 1St Society\",\n",
    "    \"Fairfield 1St Society School\",\n",
    "    \"State Of Connecticut\",\n",
    "    \"Treasurer Of The Cincinnati Society Of Georgia\",\n",
    "    \"Lamb and Chukley\",\n",
    "    \"The Elders Of The Congregation\",\n",
    "    \"Barclay and Mckean\",\n",
    "    \"State Of New Hampshire\",\n",
    "    \"The Trustees Of Phillips Academy\",\n",
    "    \"Town Of Canterbury\",\n",
    "    \"Corporation For The Relief Of Poor and Distressed Presbyterian Ministers\",\n",
    "    \"Nesmoz and Valliant\",\n",
    "    \"Greene and Cleverly\",\n",
    "    \"Mann and Low\",\n",
    "    \"Hoppin and Snow\",\n",
    "    \"Brown and Francis\",\n",
    "    \"Bank Of Providence\",\n",
    "    \"President Directors Of The Bank Of Providence\",\n",
    "    \"Vos and Graves\",\n",
    "    \"The State Of South Carolina\",\n",
    "    \"Watson and Greenleaf\",\n",
    "    \"Brochholz and Livingston\",\n",
    "    \"Anspach and Rogers\",\n",
    "    \"Berry and Rogers\",\n",
    "    \"Gardner and Rodman\",\n",
    "    \"Haydock and March\",\n",
    "    \"Robinson and Hartshorn\",\n",
    "    \"Armstrong and Barnswall\",\n",
    "    \"Amshong and Barnwall\",\n",
    "    \"Bleeker and March\",\n",
    "    \"Cooke and Cushing\",\n",
    "    \"Coxe and Meilan\",\n",
    "    \"Loomis and Tillinghast\",\n",
    "    \"Chevallier and Rainctaux\",\n",
    "    \"Phym, Ellice and Ingliss\",\n",
    "    \"Coxe and Meilan\",\n",
    "    \"The Treasurer Of The Cincinnati Of Maryland\",\n",
    "    \"The Trustees Of Phillips Academy\",\n",
    "    \"Trustees Of The Presbyterean Church Warwick Township Bucks\",\n",
    "    \"Trustees Of The Second Presbeterian Church\",\n",
    "    \"The Commonwealth Of Pennsylvania\",\n",
    "    \"The President Of Bank Of Providence From The Books In Massachusetts\",\n",
    "    \"The Trustees Of The Second Presbyterian Church In Philadelphia\"\n",
    "]\n",
    "\n",
    "for ind in names.index:\n",
    "    if (not pd.isnull(names.loc[ind, 'Last Name']) or \"|\" in names.loc[ind, 'Name_Fix']) and names.loc[\n",
    "        ind, 'Name_Fix'] not in excep_vals:\n",
    "        # if names are the same, just add the name\n",
    "        for name in names.loc[ind, 'Name_Fix'].split(\" | \"):\n",
    "            # split names for fn/ln,include last 2 for last name if ii in last name\n",
    "            if ' van de ' in name.lower() or ' de la ' in name.lower():\n",
    "                if ' de la ' in name.lower():\n",
    "                    ln = \" \".join(name.split(\" \")[-3:])\n",
    "                    fn = \" \".join(name.split(\" \")[:-3])\n",
    "                else:\n",
    "                    ln = \" \".join(name.split(\" \")[1:])\n",
    "                    fn = \" \".join(name.split(\" \")[:1])\n",
    "            elif ' de ' in name.lower():\n",
    "                ln = \" \".join(name.split(\" \")[-2:])\n",
    "                fn = \" \".join(name.split(\" \")[:-2])\n",
    "            elif \"ii\" in name.lower() or '2nd' in name.lower() or ' van ' in name.lower() or ' ten ' in name.lower() or ' del ' in name.lower():\n",
    "                ln = \" \".join(name.split(\" \")[-2:])\n",
    "                fn = \" \".join(name.split(\" \")[:-2])\n",
    "            else:\n",
    "                ln = \" \".join(name.split(\" \")[-1:])\n",
    "                fn = \" \".join(name.split(\" \")[:-1])\n",
    "            # get rest of information for name, reset fn/ln columns, rename columns\n",
    "            res = names.loc[[ind]].copy()\n",
    "            res['First Name'] = fn\n",
    "            res['Last Name'] = ln\n",
    "            res.columns = df_cols\n",
    "            # add to dataframe\n",
    "            name_df = pd.concat([name_df, res])"
   ],
   "metadata": {
    "collapsed": false,
    "pycharm": {
     "name": "#%%\n"
    }
   }
  },
  {
   "cell_type": "code",
   "execution_count": 274,
   "outputs": [],
   "source": [
    "# Joseph Stiles = society of poor and distressed masters of ships and their widows"
   ],
   "metadata": {
    "collapsed": false,
    "pycharm": {
     "name": "#%%\n"
    }
   }
  },
  {
   "cell_type": "code",
   "execution_count": 275,
   "outputs": [],
   "source": [
    "name_df.to_csv('clean_tools/fixed_names.csv')"
   ],
   "metadata": {
    "collapsed": false,
    "pycharm": {
     "name": "#%%\n"
    }
   }
  },
  {
   "cell_type": "code",
   "execution_count": 276,
   "outputs": [],
   "source": [
    "# create list of final names\n",
    "final_name_list = name_df[\n",
    "    ['Fn_Fix', 'Ln_Fix', 'new_town', 'county', 'new_state', 'country', 'name_type']].drop_duplicates()\n",
    "final_name_list.reset_index(inplace=True, drop=True)\n",
    "\n",
    "final_name_list.to_csv('scrape_tools/name_list.csv')"
   ],
   "metadata": {
    "collapsed": false,
    "pycharm": {
     "name": "#%%\n"
    }
   }
  },
  {
   "cell_type": "code",
   "execution_count": 292,
   "outputs": [],
   "source": [
    "# next we want to add the name fix column to the CD debt dataframe\n",
    "CD_merged_names = pd.merge(CD_merged.fillna(\"\"), name_df[['Name', 'Name_Fix', 'new_town', 'county', 'new_state', 'country', 'name_type']].drop_duplicates(),how = 'left')\n",
    "CD_merged_names.loc[CD_merged_names[CD_merged_names['Name_Fix'].isnull()].index, 'Name_Fix'] = CD_merged_names.loc[CD_merged_names[CD_merged_names['Name_Fix'].isnull()].index, 'Name']"
   ],
   "metadata": {
    "collapsed": false,
    "pycharm": {
     "name": "#%%\n"
    }
   }
  },
  {
   "cell_type": "code",
   "execution_count": 293,
   "outputs": [],
   "source": [
    "CD_merged_names.to_csv('../data_clean/aggregated_CD_post1790_names.csv')"
   ],
   "metadata": {
    "collapsed": false,
    "pycharm": {
     "name": "#%%\n"
    }
   }
  }
 ],
 "metadata": {
  "kernelspec": {
   "display_name": "Python 3",
   "language": "python",
   "name": "python3"
  },
  "language_info": {
   "codemirror_mode": {
    "name": "ipython",
    "version": 2
   },
   "file_extension": ".py",
   "mimetype": "text/x-python",
   "name": "python",
   "nbconvert_exporter": "python",
   "pygments_lexer": "ipython2",
   "version": "2.7.6"
  }
 },
 "nbformat": 4,
 "nbformat_minor": 0
}