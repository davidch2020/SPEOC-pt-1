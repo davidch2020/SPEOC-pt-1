{
 "cells": [
  {
   "cell_type": "markdown",
   "metadata": {},
   "source": [
    "<h1>Annual Change in Debt Redemption</h1>\n",
    "Create a bar graph showing the change in the amount of debt redeemed from year to year and month to month "
   ]
  },
  {
   "cell_type": "code",
   "execution_count": 43,
   "metadata": {},
   "outputs": [],
   "source": [
    "using CSV, DataFrames, DataFramesMeta, Gadfly, XLSX"
   ]
  },
  {
   "cell_type": "code",
   "execution_count": 44,
   "metadata": {},
   "outputs": [
    {
     "data": {
      "text/plain": [
       "plot_debt (generic function with 1 method)"
      ]
     },
     "metadata": {},
     "output_type": "display_data"
    }
   ],
   "source": [
    "function clean_df(df) \n",
    "    df[:, :dollars] = replace(df[:, :dollars], \"NaN\" => missing) # replace \"NaN\" with missing\n",
    "    df[:, :cents] = replace(df[:, :cents], \"NaN\" => missing) # replace \"NaN\" with missing\n",
    "    df[:, :dollars] = replace(df[:, :dollars], missing => 0)  # replace missing with 0 \n",
    "    df[:, :cents] = replace(df[:, :cents], missing => 0)  # replace missing with 0 \n",
    "    df \n",
    "end \n",
    "\n",
    "function group_by_year(df) \n",
    "    gdf = @by(df, :year,\n",
    "        :total_amt = sum(:dollars) + sum(:cents)  # calculate total amount of debt \n",
    "    )\n",
    "    sort!(gdf) # sort by year \n",
    "    replace!(gdf.year, missing => \"missing\") # change missing values to string to allow for plotting\n",
    "    return gdf \n",
    "end\n",
    "\n",
    "#plot debt redeemed per year saved as svg \n",
    "function plot_debt(df::DataFrame, state)\n",
    "    set_default_plot_size(16cm, 9cm)\n",
    "\n",
    "    p_debt_date = Gadfly.plot(\n",
    "        df,\n",
    "        x=:year,\n",
    "        y=:total_amt,\n",
    "        Geom.bar,\n",
    "        Guide.xlabel(\"Year\"),\n",
    "        Guide.ylabel(\"Total Debt (in dollars)\"),\n",
    "        Guide.title(uppercase(state)*\" Debt Redeemed Per Year\"),\n",
    "        Gadfly.Theme(background_color = \"white\")\n",
    "    )\n",
    "\n",
    "    println(state)\n",
    "    img = SVG(\"analysis/debt_per_year/\" * uppercase(state) * \"_debt_redeemed_per_year.svg\", 16cm, 9cm) \n",
    "    draw(img, p_debt_date)  \n",
    "end "
   ]
  },
  {
   "cell_type": "code",
   "execution_count": 45,
   "metadata": {},
   "outputs": [
    {
     "name": "stdout",
     "output_type": "stream",
     "text": [
      "ct\n",
      "\u001b[1m5×2 DataFrame\u001b[0m\n",
      "\u001b[1m Row \u001b[0m│\u001b[1m year   \u001b[0m\u001b[1m total_amt    \u001b[0m\n",
      "     │\u001b[90m String \u001b[0m\u001b[90m Float64      \u001b[0m\n",
      "─────┼──────────────────────\n",
      "   1 │ 1790       1.18777e5\n",
      "   2 │ 1791       2.24218e5\n",
      "   3 │ 1792    2255.55\n",
      "   4 │ 1793    3351.04\n",
      "   5 │ 1794       1.25849e5\n"
     ]
    },
    {
     "name": "stdout",
     "output_type": "stream",
     "text": [
      "ga\n",
      "\u001b[1m5×2 DataFrame\u001b[0m\n",
      "\u001b[1m Row \u001b[0m│\u001b[1m year   \u001b[0m\u001b[1m total_amt \u001b[0m\n",
      "     │\u001b[90m String \u001b[0m\u001b[90m Float64   \u001b[0m\n",
      "─────┼───────────────────\n",
      "   1 │ 1790      2277.27\n",
      "   2 │ 1791     95739.3\n",
      "   3 │ 1792      3967.43\n",
      "   4 │ 1793      1046.81\n",
      "   5 │ 1794     24012.9\n",
      "md"
     ]
    },
    {
     "name": "stdout",
     "output_type": "stream",
     "text": [
      "\n",
      "\u001b[1m5×2 DataFrame\u001b[0m\n",
      "\u001b[1m Row \u001b[0m│\u001b[1m year   \u001b[0m\u001b[1m total_amt     \u001b[0m\n",
      "     │\u001b[90m String \u001b[0m\u001b[90m Float64       \u001b[0m\n",
      "─────┼───────────────────────\n",
      "   1 │ 1790        1.40061e5\n",
      "   2 │ 1791        5.04802e5\n",
      "   3 │ 1792     7006.75\n",
      "   4 │ 1793    44582.1\n",
      "   5 │ 1794      717.89\n",
      "nc\n",
      "\u001b[1m4×2 DataFrame\u001b[0m\n",
      "\u001b[1m Row \u001b[0m│\u001b[1m year   \u001b[0m\u001b[1m total_amt \u001b[0m\n",
      "     │\u001b[90m String \u001b[0m\u001b[90m Float64   \u001b[0m\n",
      "─────┼───────────────────\n",
      "   1 │ 1791     33666.1\n",
      "   2 │ 1792     32129.7\n",
      "   3 │ 1793      4713.45\n",
      "   4 │ 1794     14401.9\n",
      "nh\n",
      "\u001b[1m3×2 DataFrame\u001b[0m\n",
      "\u001b[1m Row \u001b[0m│\u001b[1m year   \u001b[0m\u001b[1m total_amt \u001b[0m\n",
      "     │\u001b[90m String \u001b[0m\u001b[90m Float64   \u001b[0m\n",
      "─────┼───────────────────\n",
      "   1 │ 1791    420772.0\n",
      "   2 │ 1792     37316.9\n",
      "   3 │ 1793      4597.44"
     ]
    },
    {
     "name": "stdout",
     "output_type": "stream",
     "text": [
      "\n",
      "nj\n",
      "\u001b[1m5×2 DataFrame\u001b[0m\n",
      "\u001b[1m Row \u001b[0m│\u001b[1m year   \u001b[0m\u001b[1m total_amt     \u001b[0m\n",
      "     │\u001b[90m String \u001b[0m\u001b[90m Float64       \u001b[0m\n",
      "─────┼───────────────────────\n",
      "   1 │ 1791        2.35745e5\n",
      "   2 │ 1792    17893.8\n",
      "   3 │ 1793     3665.43\n",
      "   4 │ 1794    16517.0\n",
      "   5 │ 1795      809.04"
     ]
    },
    {
     "name": "stdout",
     "output_type": "stream",
     "text": [
      "\n",
      "ny\n",
      "\u001b[1m5×2 DataFrame\u001b[0m\n",
      "\u001b[1m Row \u001b[0m│\u001b[1m year   \u001b[0m\u001b[1m total_amt \u001b[0m\n",
      "     │\u001b[90m String \u001b[0m\u001b[90m Float64   \u001b[0m\n",
      "─────┼───────────────────\n",
      "   1 │ 1790    5.4273e5\n",
      "   2 │ 1791    2.6001e6\n",
      "   3 │ 1792    7.86956e5\n",
      "   4 │ 1793    4.24138e5\n",
      "   5 │ 1794    2.78669e5"
     ]
    },
    {
     "name": "stdout",
     "output_type": "stream",
     "text": [
      "\n",
      "pa\n"
     ]
    },
    {
     "name": "stdout",
     "output_type": "stream",
     "text": [
      "\u001b[1m5×2 DataFrame\u001b[0m\n",
      "\u001b[1m Row \u001b[0m│\u001b[1m year    \u001b[0m\u001b[1m total_amt     \u001b[0m\n",
      "     │\u001b[90m String  \u001b[0m\u001b[90m Float64       \u001b[0m\n",
      "─────┼────────────────────────\n",
      "   1 │ 1790         2.03456e5\n",
      "   2 │ 1791         6.06171e5\n",
      "   3 │ 1792     34862.0\n",
      "   4 │ 1793     16283.8\n",
      "   5 │ missing  76527.9\n",
      "ri\n",
      "\u001b[1m5×2 DataFrame\u001b[0m\n",
      "\u001b[1m Row \u001b[0m│\u001b[1m year   \u001b[0m\u001b[1m total_amt     \u001b[0m\n",
      "     │\u001b[90m String \u001b[0m\u001b[90m Float64       \u001b[0m\n",
      "─────┼───────────────────────\n",
      "   1 │ 1790    36863.3\n",
      "   2 │ 1791        1.46409e5\n",
      "   3 │ 1792     8258.96\n",
      "   4 │ 1793     3682.69\n",
      "   5 │ 1794    60622.3\n",
      "sc\n"
     ]
    },
    {
     "name": "stdout",
     "output_type": "stream",
     "text": [
      "\u001b[1m5×2 DataFrame\u001b[0m\n",
      "\u001b[1m Row \u001b[0m│\u001b[1m year   \u001b[0m\u001b[1m total_amt     \u001b[0m\n",
      "     │\u001b[90m String \u001b[0m\u001b[90m Float64       \u001b[0m\n",
      "─────┼───────────────────────\n",
      "   1 │ 1790    27513.8\n",
      "   2 │ 1791    78834.3\n",
      "   3 │ 1792    15058.0\n",
      "   4 │ 1793     3137.15\n",
      "   5 │ 1794        2.48973e5\n",
      "va\n",
      "\u001b[1m5×2 DataFrame\u001b[0m\n",
      "\u001b[1m Row \u001b[0m│\u001b[1m year   \u001b[0m\u001b[1m total_amt     \u001b[0m\n",
      "     │\u001b[90m String \u001b[0m\u001b[90m Float64       \u001b[0m\n",
      "─────┼───────────────────────\n",
      "   1 │ 1790    48870.6\n",
      "   2 │ 1791        2.99654e5\n",
      "   3 │ 1792    16614.6\n",
      "   4 │ 1793     6551.69\n",
      "   5 │ 1794     3945.98\n"
     ]
    }
   ],
   "source": [
    "# import cd_info \n",
    "cd_info = DataFrame(CSV.File(\"analysis/cd_info.csv\"))\n",
    "# store total amount and years of all states in a new dataframe \n",
    "all_states = DataFrame([[], []], [:year, :total_amt])\n",
    "\n",
    "# loop through cd_info per state \n",
    "for i in 1:nrow(cd_info)\n",
    "    state_df = DataFrame() # create new dataframe for each state\n",
    "    state_row = cd_info[i, :]\n",
    "    state_excel = XLSX.readxlsx(state_row[:file_path])\n",
    "    state_sheet = state_excel[\"Sheet1\"]\n",
    "    \n",
    "    # get year columns --> merge years columns into one column \n",
    "    year_col_indexes = split(state_row[:year_col], \",\")\n",
    "    for year_col_index in year_col_indexes\n",
    "        year_col_range = year_col_index*string(state_row[:first_row])*\":\"*year_col_index*string(state_row[:last_row])\n",
    "        year_col = state_sheet[year_col_range]\n",
    "\n",
    "        if nrow(state_df) == 0 # if state_df is empty, create year column \n",
    "            state_df.year = vec(year_col)\n",
    "        else \n",
    "            state_df.year .= coalesce(state_df.year, vec(year_col)) # append year col to state dataframe\n",
    "        end \n",
    "    end\n",
    "\n",
    "    state_df.year = string.(state_df.year) # convert year column to string to allow for replacing missing values\n",
    "\n",
    "    # add dollar amount column to states dataframe \n",
    "    dollar_indexes = split(state_row[:dollars_col], \",\") \n",
    "    for dollar_index in dollar_indexes\n",
    "        dollar_col_range = dollar_index*string(state_row[:first_row])*\":\"*dollar_index*string(state_row[:last_row])\n",
    "        dollar_col = state_sheet[dollar_col_range]\n",
    "        state_df.dollars = vec(dollar_col)\n",
    "    end\n",
    "\n",
    "    # add cents amount column to states dataframe \n",
    "    if !ismissing(state_row[:cents_col]) # handle excel spreadsheets with no cents column \n",
    "        cents_indexes = split(state_row[:cents_col], \",\")\n",
    "        for cents_index in cents_indexes\n",
    "            cents_col_range = cents_index*string(state_row[:first_row])*\":\"*cents_index*string(state_row[:last_row])\n",
    "            cents_col = state_sheet[cents_col_range]\n",
    "            state_df.cents = vec(cents_col) ./ 100 # convert cents to decimal\n",
    "        end \n",
    "    else \n",
    "        state_df.cents = zeros(nrow(state_df)) # create column of zeros to allow for summing\n",
    "    end\n",
    "\n",
    "    # add state label \n",
    "    state_df.state = fill(state_row[:state], nrow(state_df))\n",
    "\n",
    "    state_df_clean = clean_df(state_df) # clean table to remove missing values\n",
    "    state_gdf = group_by_year(state_df_clean) # group by year and sum debt\n",
    "    plot_debt(state_gdf, state_row[:state]) # plot debt redeemed per year saved as svg\n",
    "\n",
    "    all_states = vcat(all_states, state_gdf) # append state dataframe to all_states dataframe\n",
    "\n",
    "    println(first(state_gdf, 5)) \n",
    "end \n"
   ]
  },
  {
   "cell_type": "code",
   "execution_count": 46,
   "metadata": {},
   "outputs": [
    {
     "name": "stdout",
     "output_type": "stream",
     "text": [
      "United States\n"
     ]
    },
    {
     "data": {
      "text/plain": [
       "false"
      ]
     },
     "metadata": {},
     "output_type": "display_data"
    }
   ],
   "source": [
    "all_states_gdf = @by(all_states, :year,\n",
    "    :total_amt = sum(:total_amt)  \n",
    ") # group by year and sum debt\n",
    "replace!(all_states_gdf.year, \"missing\" => missing) # change string to missing to allow for sorting \n",
    "sort!(all_states_gdf) # sort by year\n",
    "replace!(all_states_gdf.year, missing=> \"missing\") # change missing values to string to allow for plotting\n",
    "plot_debt(all_states_gdf, \"United States\") # plot debt redeemed per year saved as svg"
   ]
  },
  {
   "cell_type": "code",
   "execution_count": 47,
   "metadata": {},
   "outputs": [
    {
     "data": {
      "text/html": [
       "<div><div style = \"float: left;\"><span>18×2 DataFrame</span></div><div style = \"clear: both;\"></div></div><div class = \"data-frame\" style = \"overflow-x: scroll;\"><table class = \"data-frame\" style = \"margin-bottom: 6px;\"><thead><tr class = \"header\"><th class = \"rowNumber\" style = \"font-weight: bold; text-align: right;\">Row</th><th style = \"text-align: left;\">year</th><th style = \"text-align: left;\">total_amt</th></tr><tr class = \"subheader headerLastRow\"><th class = \"rowNumber\" style = \"font-weight: bold; text-align: right;\"></th><th title = \"Any\" style = \"text-align: left;\">Any</th><th title = \"Float64\" style = \"text-align: left;\">Float64</th></tr></thead><tbody><tr><td class = \"rowNumber\" style = \"font-weight: bold; text-align: right;\">1</td><td style = \"text-align: left;\">1790</td><td style = \"text-align: right;\">1.12055e6</td></tr><tr><td class = \"rowNumber\" style = \"font-weight: bold; text-align: right;\">2</td><td style = \"text-align: left;\">1791</td><td style = \"text-align: right;\">5.24611e6</td></tr><tr><td class = \"rowNumber\" style = \"font-weight: bold; text-align: right;\">3</td><td style = \"text-align: left;\">1792</td><td style = \"text-align: right;\">9.62319e5</td></tr><tr><td class = \"rowNumber\" style = \"font-weight: bold; text-align: right;\">4</td><td style = \"text-align: left;\">1793</td><td style = \"text-align: right;\">5.15749e5</td></tr><tr><td class = \"rowNumber\" style = \"font-weight: bold; text-align: right;\">5</td><td style = \"text-align: left;\">1794</td><td style = \"text-align: right;\">7.73709e5</td></tr><tr><td class = \"rowNumber\" style = \"font-weight: bold; text-align: right;\">6</td><td style = \"text-align: left;\">1795</td><td style = \"text-align: right;\">1.93738e5</td></tr><tr><td class = \"rowNumber\" style = \"font-weight: bold; text-align: right;\">7</td><td style = \"text-align: left;\">1796</td><td style = \"text-align: right;\">7873.3</td></tr><tr><td class = \"rowNumber\" style = \"font-weight: bold; text-align: right;\">8</td><td style = \"text-align: left;\">1797</td><td style = \"text-align: right;\">1.45392e5</td></tr><tr><td class = \"rowNumber\" style = \"font-weight: bold; text-align: right;\">9</td><td style = \"text-align: left;\">1798</td><td style = \"text-align: right;\">2238.45</td></tr><tr><td class = \"rowNumber\" style = \"font-weight: bold; text-align: right;\">10</td><td style = \"text-align: left;\">1799</td><td style = \"text-align: right;\">3858.65</td></tr><tr><td class = \"rowNumber\" style = \"font-weight: bold; text-align: right;\">11</td><td style = \"text-align: left;\">1800</td><td style = \"text-align: right;\">813.31</td></tr><tr><td class = \"rowNumber\" style = \"font-weight: bold; text-align: right;\">12</td><td style = \"text-align: left;\">1801</td><td style = \"text-align: right;\">3859.37</td></tr><tr><td class = \"rowNumber\" style = \"font-weight: bold; text-align: right;\">13</td><td style = \"text-align: left;\">1803</td><td style = \"text-align: right;\">6888.79</td></tr><tr><td class = \"rowNumber\" style = \"font-weight: bold; text-align: right;\">14</td><td style = \"text-align: left;\">1805</td><td style = \"text-align: right;\">8759.68</td></tr><tr><td class = \"rowNumber\" style = \"font-weight: bold; text-align: right;\">15</td><td style = \"text-align: left;\">1807</td><td style = \"text-align: right;\">160.65</td></tr><tr><td class = \"rowNumber\" style = \"font-weight: bold; text-align: right;\">16</td><td style = \"text-align: left;\">1808</td><td style = \"text-align: right;\">19.14</td></tr><tr><td class = \"rowNumber\" style = \"font-weight: bold; text-align: right;\">17</td><td style = \"text-align: left;\">1813</td><td style = \"text-align: right;\">430.38</td></tr><tr><td class = \"rowNumber\" style = \"font-weight: bold; text-align: right;\">18</td><td style = \"text-align: left;\">missing</td><td style = \"text-align: right;\">2.76131e5</td></tr></tbody></table></div>"
      ],
      "text/latex": [
       "\\begin{tabular}{r|cc}\n",
       "\t& year & total\\_amt\\\\\n",
       "\t\\hline\n",
       "\t& Any & Float64\\\\\n",
       "\t\\hline\n",
       "\t1 & 1790 & 1.12055e6 \\\\\n",
       "\t2 & 1791 & 5.24611e6 \\\\\n",
       "\t3 & 1792 & 9.62319e5 \\\\\n",
       "\t4 & 1793 & 5.15749e5 \\\\\n",
       "\t5 & 1794 & 7.73709e5 \\\\\n",
       "\t6 & 1795 & 1.93738e5 \\\\\n",
       "\t7 & 1796 & 7873.3 \\\\\n",
       "\t8 & 1797 & 1.45392e5 \\\\\n",
       "\t9 & 1798 & 2238.45 \\\\\n",
       "\t10 & 1799 & 3858.65 \\\\\n",
       "\t11 & 1800 & 813.31 \\\\\n",
       "\t12 & 1801 & 3859.37 \\\\\n",
       "\t13 & 1803 & 6888.79 \\\\\n",
       "\t14 & 1805 & 8759.68 \\\\\n",
       "\t15 & 1807 & 160.65 \\\\\n",
       "\t16 & 1808 & 19.14 \\\\\n",
       "\t17 & 1813 & 430.38 \\\\\n",
       "\t18 & missing & 2.76131e5 \\\\\n",
       "\\end{tabular}\n"
      ],
      "text/plain": [
       "\u001b[1m18×2 DataFrame\u001b[0m\n",
       "\u001b[1m Row \u001b[0m│\u001b[1m year    \u001b[0m\u001b[1m total_amt    \u001b[0m\n",
       "     │\u001b[90m Any     \u001b[0m\u001b[90m Float64      \u001b[0m\n",
       "─────┼───────────────────────\n",
       "   1 │ 1790        1.12055e6\n",
       "   2 │ 1791        5.24611e6\n",
       "   3 │ 1792        9.62319e5\n",
       "   4 │ 1793        5.15749e5\n",
       "   5 │ 1794        7.73709e5\n",
       "   6 │ 1795        1.93738e5\n",
       "   7 │ 1796     7873.3\n",
       "   8 │ 1797        1.45392e5\n",
       "  ⋮  │    ⋮          ⋮\n",
       "  12 │ 1801     3859.37\n",
       "  13 │ 1803     6888.79\n",
       "  14 │ 1805     8759.68\n",
       "  15 │ 1807      160.65\n",
       "  16 │ 1808       19.14\n",
       "  17 │ 1813      430.38\n",
       "  18 │ missing     2.76131e5\n",
       "\u001b[36m               3 rows omitted\u001b[0m"
      ]
     },
     "metadata": {},
     "output_type": "display_data"
    }
   ],
   "source": [
    "all_states_gdf"
   ]
  }
 ],
 "metadata": {
  "kernelspec": {
   "display_name": "Julia 1.9.4",
   "language": "julia",
   "name": "julia-1.9"
  },
  "language_info": {
   "file_extension": ".jl",
   "mimetype": "application/julia",
   "name": "julia",
   "version": "1.9.4"
  }
 },
 "nbformat": 4,
 "nbformat_minor": 2
}
