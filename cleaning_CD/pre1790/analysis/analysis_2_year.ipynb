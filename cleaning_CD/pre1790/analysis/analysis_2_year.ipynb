{
 "cells": [
  {
   "cell_type": "markdown",
   "metadata": {},
   "source": [
    "<h1>Annual Change in Debt Redemption</h1>\n",
    "Create a bar graph showing the change in the amount of debt redeemed from year to year and month to month "
   ]
  },
  {
   "cell_type": "code",
   "execution_count": 2,
   "metadata": {},
   "outputs": [],
   "source": [
    "using CSV, DataFrames, DataFramesMeta, Gadfly, XLSX"
   ]
  },
  {
   "cell_type": "code",
   "execution_count": 78,
   "metadata": {},
   "outputs": [
    {
     "data": {
      "text/plain": [
       "plot_debt (generic function with 1 method)"
      ]
     },
     "metadata": {},
     "output_type": "display_data"
    }
   ],
   "source": [
    "function clean_df(df) \n",
    "    df[:, :dollars] = replace(df[:, :dollars], \"NaN\" => missing) # replace \"NaN\" with missing\n",
    "    df[:, :cents] = replace(df[:, :cents], \"NaN\" => missing) # replace \"NaN\" with missing\n",
    "    df[:, :dollars] = replace(df[:, :dollars], missing => 0)  # replace missing with 0 \n",
    "    df[:, :cents] = replace(df[:, :cents], missing => 0)  # replace missing with 0 \n",
    "    df \n",
    "end \n",
    "\n",
    "function group_by_year(df) \n",
    "    gdf = @by(df, :year,\n",
    "        :total_amt = sum(:dollars) + sum(:cents)  # calculate total amount of debt \n",
    "    )\n",
    "    sort!(gdf) # sort by year \n",
    "    replace!(gdf.year, missing => \"missing\") # change missing values to string to allow for plotting\n",
    "    return gdf \n",
    "end\n",
    "\n",
    "#plot debt redeemed per year saved as svg \n",
    "function plot_debt(df::DataFrame, state)\n",
    "    set_default_plot_size(16cm, 9cm)\n",
    "\n",
    "    p_debt_date = Gadfly.plot(\n",
    "        df,\n",
    "        x=:year,\n",
    "        y=:total_amt,\n",
    "        Geom.bar,\n",
    "        Guide.xlabel(\"Year\"),\n",
    "        Guide.ylabel(\"Total Debt (in dollars)\"),\n",
    "        Guide.title(uppercase(state)*\" Debt Redeemed Per Year\"),\n",
    "        Gadfly.Theme(background_color = \"white\")\n",
    "    )\n",
    "\n",
    "    println(state)\n",
    "    img = SVG(\"debt_per_year/\" * uppercase(state) * \"_debt_redeemed_per_year.svg\", 16cm, 9cm) \n",
    "    draw(img, p_debt_date)  \n",
    "end "
   ]
  },
  {
   "cell_type": "code",
   "execution_count": 45,
   "metadata": {},
   "outputs": [
    {
     "name": "stdout",
     "output_type": "stream",
     "text": [
      "ct\n",
      "\u001b[1m5×2 DataFrame\u001b[0m\n",
      "\u001b[1m Row \u001b[0m│\u001b[1m year   \u001b[0m\u001b[1m total_amt    \u001b[0m\n",
      "     │\u001b[90m String \u001b[0m\u001b[90m Float64      \u001b[0m\n",
      "─────┼──────────────────────\n",
      "   1 │ 1790       1.18777e5\n",
      "   2 │ 1791       2.24218e5\n",
      "   3 │ 1792    2255.55\n",
      "   4 │ 1793    3351.04\n",
      "   5 │ 1794       1.25849e5\n"
     ]
    },
    {
     "name": "stdout",
     "output_type": "stream",
     "text": [
      "ga\n",
      "\u001b[1m5×2 DataFrame\u001b[0m\n",
      "\u001b[1m Row \u001b[0m│\u001b[1m year   \u001b[0m\u001b[1m total_amt \u001b[0m\n",
      "     │\u001b[90m String \u001b[0m\u001b[90m Float64   \u001b[0m\n",
      "─────┼───────────────────\n",
      "   1 │ 1790      2277.27\n",
      "   2 │ 1791     95739.3\n",
      "   3 │ 1792      3967.43\n",
      "   4 │ 1793      1046.81\n",
      "   5 │ 1794     24012.9\n",
      "md"
     ]
    },
    {
     "name": "stdout",
     "output_type": "stream",
     "text": [
      "\n",
      "\u001b[1m5×2 DataFrame\u001b[0m\n",
      "\u001b[1m Row \u001b[0m│\u001b[1m year   \u001b[0m\u001b[1m total_amt     \u001b[0m\n",
      "     │\u001b[90m String \u001b[0m\u001b[90m Float64       \u001b[0m\n",
      "─────┼───────────────────────\n",
      "   1 │ 1790        1.40061e5\n",
      "   2 │ 1791        5.04802e5\n",
      "   3 │ 1792     7006.75\n",
      "   4 │ 1793    44582.1\n",
      "   5 │ 1794      717.89\n",
      "nc\n",
      "\u001b[1m4×2 DataFrame\u001b[0m\n",
      "\u001b[1m Row \u001b[0m│\u001b[1m year   \u001b[0m\u001b[1m total_amt \u001b[0m\n",
      "     │\u001b[90m String \u001b[0m\u001b[90m Float64   \u001b[0m\n",
      "─────┼───────────────────\n",
      "   1 │ 1791     33666.1\n",
      "   2 │ 1792     32129.7\n",
      "   3 │ 1793      4713.45\n",
      "   4 │ 1794     14401.9\n",
      "nh\n",
      "\u001b[1m3×2 DataFrame\u001b[0m\n",
      "\u001b[1m Row \u001b[0m│\u001b[1m year   \u001b[0m\u001b[1m total_amt \u001b[0m\n",
      "     │\u001b[90m String \u001b[0m\u001b[90m Float64   \u001b[0m\n",
      "─────┼───────────────────\n",
      "   1 │ 1791    420772.0\n",
      "   2 │ 1792     37316.9\n",
      "   3 │ 1793      4597.44"
     ]
    },
    {
     "name": "stdout",
     "output_type": "stream",
     "text": [
      "\n",
      "nj\n",
      "\u001b[1m5×2 DataFrame\u001b[0m\n",
      "\u001b[1m Row \u001b[0m│\u001b[1m year   \u001b[0m\u001b[1m total_amt     \u001b[0m\n",
      "     │\u001b[90m String \u001b[0m\u001b[90m Float64       \u001b[0m\n",
      "─────┼───────────────────────\n",
      "   1 │ 1791        2.35745e5\n",
      "   2 │ 1792    17893.8\n",
      "   3 │ 1793     3665.43\n",
      "   4 │ 1794    16517.0\n",
      "   5 │ 1795      809.04"
     ]
    },
    {
     "name": "stdout",
     "output_type": "stream",
     "text": [
      "\n",
      "ny\n",
      "\u001b[1m5×2 DataFrame\u001b[0m\n",
      "\u001b[1m Row \u001b[0m│\u001b[1m year   \u001b[0m\u001b[1m total_amt \u001b[0m\n",
      "     │\u001b[90m String \u001b[0m\u001b[90m Float64   \u001b[0m\n",
      "─────┼───────────────────\n",
      "   1 │ 1790    5.4273e5\n",
      "   2 │ 1791    2.6001e6\n",
      "   3 │ 1792    7.86956e5\n",
      "   4 │ 1793    4.24138e5\n",
      "   5 │ 1794    2.78669e5"
     ]
    },
    {
     "name": "stdout",
     "output_type": "stream",
     "text": [
      "\n",
      "pa\n"
     ]
    },
    {
     "name": "stdout",
     "output_type": "stream",
     "text": [
      "\u001b[1m5×2 DataFrame\u001b[0m\n",
      "\u001b[1m Row \u001b[0m│\u001b[1m year    \u001b[0m\u001b[1m total_amt     \u001b[0m\n",
      "     │\u001b[90m String  \u001b[0m\u001b[90m Float64       \u001b[0m\n",
      "─────┼────────────────────────\n",
      "   1 │ 1790         2.03456e5\n",
      "   2 │ 1791         6.06171e5\n",
      "   3 │ 1792     34862.0\n",
      "   4 │ 1793     16283.8\n",
      "   5 │ missing  76527.9\n",
      "ri\n",
      "\u001b[1m5×2 DataFrame\u001b[0m\n",
      "\u001b[1m Row \u001b[0m│\u001b[1m year   \u001b[0m\u001b[1m total_amt     \u001b[0m\n",
      "     │\u001b[90m String \u001b[0m\u001b[90m Float64       \u001b[0m\n",
      "─────┼───────────────────────\n",
      "   1 │ 1790    36863.3\n",
      "   2 │ 1791        1.46409e5\n",
      "   3 │ 1792     8258.96\n",
      "   4 │ 1793     3682.69\n",
      "   5 │ 1794    60622.3\n",
      "sc\n"
     ]
    },
    {
     "name": "stdout",
     "output_type": "stream",
     "text": [
      "\u001b[1m5×2 DataFrame\u001b[0m\n",
      "\u001b[1m Row \u001b[0m│\u001b[1m year   \u001b[0m\u001b[1m total_amt     \u001b[0m\n",
      "     │\u001b[90m String \u001b[0m\u001b[90m Float64       \u001b[0m\n",
      "─────┼───────────────────────\n",
      "   1 │ 1790    27513.8\n",
      "   2 │ 1791    78834.3\n",
      "   3 │ 1792    15058.0\n",
      "   4 │ 1793     3137.15\n",
      "   5 │ 1794        2.48973e5\n",
      "va\n",
      "\u001b[1m5×2 DataFrame\u001b[0m\n",
      "\u001b[1m Row \u001b[0m│\u001b[1m year   \u001b[0m\u001b[1m total_amt     \u001b[0m\n",
      "     │\u001b[90m String \u001b[0m\u001b[90m Float64       \u001b[0m\n",
      "─────┼───────────────────────\n",
      "   1 │ 1790    48870.6\n",
      "   2 │ 1791        2.99654e5\n",
      "   3 │ 1792    16614.6\n",
      "   4 │ 1793     6551.69\n",
      "   5 │ 1794     3945.98\n"
     ]
    }
   ],
   "source": [
    "# import cd_info \n",
    "cd_info = DataFrame(CSV.File(\"analysis/cd_info.csv\"))\n",
    "# store total amount and years of all states in a new dataframe \n",
    "all_states = DataFrame([[], []], [:year, :total_amt])\n",
    "\n",
    "# loop through cd_info per state \n",
    "for i in 1:nrow(cd_info)\n",
    "    state_df = DataFrame() # create new dataframe for each state\n",
    "    state_row = cd_info[i, :]\n",
    "    state_excel = XLSX.readxlsx(state_row[:file_path])\n",
    "    state_sheet = state_excel[\"Sheet1\"]\n",
    "    \n",
    "    # get year columns --> merge years columns into one column \n",
    "    year_col_indexes = split(state_row[:year_col], \",\")\n",
    "    for year_col_index in year_col_indexes\n",
    "        year_col_range = year_col_index*string(state_row[:first_row])*\":\"*year_col_index*string(state_row[:last_row])\n",
    "        year_col = state_sheet[year_col_range]\n",
    "\n",
    "        if nrow(state_df) == 0 # if state_df is empty, create year column \n",
    "            state_df.year = vec(year_col)\n",
    "        else \n",
    "            state_df.year .= coalesce(state_df.year, vec(year_col)) # append year col to state dataframe\n",
    "        end \n",
    "    end\n",
    "\n",
    "    state_df.year = string.(state_df.year) # convert year column to string to allow for replacing missing values\n",
    "\n",
    "    # add dollar amount column to states dataframe \n",
    "    dollar_indexes = split(state_row[:dollars_col], \",\") \n",
    "    for dollar_index in dollar_indexes\n",
    "        dollar_col_range = dollar_index*string(state_row[:first_row])*\":\"*dollar_index*string(state_row[:last_row])\n",
    "        dollar_col = state_sheet[dollar_col_range]\n",
    "        state_df.dollars = vec(dollar_col)\n",
    "    end\n",
    "\n",
    "    # add cents amount column to states dataframe \n",
    "    if !ismissing(state_row[:cents_col]) # handle excel spreadsheets with no cents column \n",
    "        cents_indexes = split(state_row[:cents_col], \",\")\n",
    "        for cents_index in cents_indexes\n",
    "            cents_col_range = cents_index*string(state_row[:first_row])*\":\"*cents_index*string(state_row[:last_row])\n",
    "            cents_col = state_sheet[cents_col_range]\n",
    "            state_df.cents = vec(cents_col) ./ 100 # convert cents to decimal\n",
    "        end \n",
    "    else \n",
    "        state_df.cents = zeros(nrow(state_df)) # create column of zeros to allow for summing\n",
    "    end\n",
    "\n",
    "    # add state label \n",
    "    state_df.state = fill(state_row[:state], nrow(state_df))\n",
    "\n",
    "    state_df_clean = clean_df(state_df) # clean table to remove missing values\n",
    "    state_gdf = group_by_year(state_df_clean) # group by year and sum debt\n",
    "    plot_debt(state_gdf, state_row[:state]) # plot debt redeemed per year saved as svg\n",
    "\n",
    "    all_states = vcat(all_states, state_gdf) # append state dataframe to all_states dataframe\n",
    "\n",
    "    println(first(state_gdf, 5)) \n",
    "end \n"
   ]
  },
  {
   "cell_type": "markdown",
   "metadata": {},
   "source": [
    "<h1>Pre-1790</h1>"
   ]
  },
  {
   "cell_type": "code",
   "execution_count": 85,
   "metadata": {},
   "outputs": [
    {
     "data": {
      "text/html": [
       "<div><div style = \"float: left;\"><span>14×2 DataFrame</span></div><div style = \"clear: both;\"></div></div><div class = \"data-frame\" style = \"overflow-x: scroll;\"><table class = \"data-frame\" style = \"margin-bottom: 6px;\"><thead><tr class = \"header\"><th class = \"rowNumber\" style = \"font-weight: bold; text-align: right;\">Row</th><th style = \"text-align: left;\">year</th><th style = \"text-align: left;\">total_amt</th></tr><tr class = \"subheader headerLastRow\"><th class = \"rowNumber\" style = \"font-weight: bold; text-align: right;\"></th><th title = \"String\" style = \"text-align: left;\">String</th><th title = \"Float64\" style = \"text-align: left;\">Float64</th></tr></thead><tbody><tr><td class = \"rowNumber\" style = \"font-weight: bold; text-align: right;\">1</td><td style = \"text-align: left;\">1776</td><td style = \"text-align: right;\">51300.0</td></tr><tr><td class = \"rowNumber\" style = \"font-weight: bold; text-align: right;\">2</td><td style = \"text-align: left;\">1777</td><td style = \"text-align: right;\">4.9459e6</td></tr><tr><td class = \"rowNumber\" style = \"font-weight: bold; text-align: right;\">3</td><td style = \"text-align: left;\">1778</td><td style = \"text-align: right;\">8.1022e6</td></tr><tr><td class = \"rowNumber\" style = \"font-weight: bold; text-align: right;\">4</td><td style = \"text-align: left;\">1779</td><td style = \"text-align: right;\">2.81939e7</td></tr><tr><td class = \"rowNumber\" style = \"font-weight: bold; text-align: right;\">5</td><td style = \"text-align: left;\">1780</td><td style = \"text-align: right;\">1.4315e7</td></tr><tr><td class = \"rowNumber\" style = \"font-weight: bold; text-align: right;\">6</td><td style = \"text-align: left;\">1781</td><td style = \"text-align: right;\">2.1771e6</td></tr><tr><td class = \"rowNumber\" style = \"font-weight: bold; text-align: right;\">7</td><td style = \"text-align: left;\">1783</td><td style = \"text-align: right;\">1.04227e5</td></tr><tr><td class = \"rowNumber\" style = \"font-weight: bold; text-align: right;\">8</td><td style = \"text-align: left;\">1784</td><td style = \"text-align: right;\">1.06626e6</td></tr><tr><td class = \"rowNumber\" style = \"font-weight: bold; text-align: right;\">9</td><td style = \"text-align: left;\">1785</td><td style = \"text-align: right;\">1.53478e6</td></tr><tr><td class = \"rowNumber\" style = \"font-weight: bold; text-align: right;\">10</td><td style = \"text-align: left;\">1786</td><td style = \"text-align: right;\">1.02251e6</td></tr><tr><td class = \"rowNumber\" style = \"font-weight: bold; text-align: right;\">11</td><td style = \"text-align: left;\">1787</td><td style = \"text-align: right;\">1.71975e5</td></tr><tr><td class = \"rowNumber\" style = \"font-weight: bold; text-align: right;\">12</td><td style = \"text-align: left;\">1788</td><td style = \"text-align: right;\">62778.3</td></tr><tr><td class = \"rowNumber\" style = \"font-weight: bold; text-align: right;\">13</td><td style = \"text-align: left;\">1789</td><td style = \"text-align: right;\">17804.2</td></tr><tr><td class = \"rowNumber\" style = \"font-weight: bold; text-align: right;\">14</td><td style = \"text-align: left;\">missing</td><td style = \"text-align: right;\">1.22731e7</td></tr></tbody></table></div>"
      ],
      "text/latex": [
       "\\begin{tabular}{r|cc}\n",
       "\t& year & total\\_amt\\\\\n",
       "\t\\hline\n",
       "\t& String & Float64\\\\\n",
       "\t\\hline\n",
       "\t1 & 1776 & 51300.0 \\\\\n",
       "\t2 & 1777 & 4.9459e6 \\\\\n",
       "\t3 & 1778 & 8.1022e6 \\\\\n",
       "\t4 & 1779 & 2.81939e7 \\\\\n",
       "\t5 & 1780 & 1.4315e7 \\\\\n",
       "\t6 & 1781 & 2.1771e6 \\\\\n",
       "\t7 & 1783 & 1.04227e5 \\\\\n",
       "\t8 & 1784 & 1.06626e6 \\\\\n",
       "\t9 & 1785 & 1.53478e6 \\\\\n",
       "\t10 & 1786 & 1.02251e6 \\\\\n",
       "\t11 & 1787 & 1.71975e5 \\\\\n",
       "\t12 & 1788 & 62778.3 \\\\\n",
       "\t13 & 1789 & 17804.2 \\\\\n",
       "\t14 & missing & 1.22731e7 \\\\\n",
       "\\end{tabular}\n"
      ],
      "text/plain": [
       "\u001b[1m14×2 DataFrame\u001b[0m\n",
       "\u001b[1m Row \u001b[0m│\u001b[1m year    \u001b[0m\u001b[1m total_amt     \u001b[0m\n",
       "     │\u001b[90m String  \u001b[0m\u001b[90m Float64       \u001b[0m\n",
       "─────┼────────────────────────\n",
       "   1 │ 1776     51300.0\n",
       "   2 │ 1777         4.9459e6\n",
       "   3 │ 1778         8.1022e6\n",
       "   4 │ 1779         2.81939e7\n",
       "   5 │ 1780         1.4315e7\n",
       "   6 │ 1781         2.1771e6\n",
       "   7 │ 1783         1.04227e5\n",
       "   8 │ 1784         1.06626e6\n",
       "   9 │ 1785         1.53478e6\n",
       "  10 │ 1786         1.02251e6\n",
       "  11 │ 1787         1.71975e5\n",
       "  12 │ 1788     62778.3\n",
       "  13 │ 1789     17804.2\n",
       "  14 │ missing      1.22731e7"
      ]
     },
     "metadata": {},
     "output_type": "display_data"
    }
   ],
   "source": [
    "# import pre-1790 debt data \n",
    "# get unique dates \n",
    "# group by year - sum debt \n",
    "# plot debt redeemed per year saved as svg \n",
    "\n",
    "pre1790 = DataFrame(CSV.File(\"../data/agg_debt_grouped.csv\"))\n",
    "pre1790.year = pre1790[:, \"date of the certificate | year\"]\n",
    "\n",
    "# fix cents column in agg_debt_grouped.csv \n",
    "pre1790[:, \"amount | 90th\"] = getindex.(split.(pre1790[:, \"amount | 90th\"], \".\"), 1)\n",
    "pre1790[:, \"amount | 90th\"] = replace.(pre1790[:, \"amount | 90th\"], \"/\" => \"\")\n",
    "pre1790.cents = parse.(Float64, pre1790[:, \"amount | 90th\"]) ./ 100\n",
    "\n",
    "pre1790.total_amt = pre1790[:, \"amount | dollars\"] + pre1790[:, \"cents\"]\n",
    "pre1790.dollars = pre1790[:, \"amount | dollars\"]\n",
    "\n",
    "pre1790.cents = ifelse.(pre1790.cents .>= 100, 0, pre1790.cents)\n",
    "\n",
    "#clean \n",
    "pre1790_clean = clean_df(pre1790)\n",
    "\n",
    "#group by year and sum \n",
    "pre1790_clean.year = coalesce.(pre1790_clean.year, 0)\n",
    "pre1790_clean.year = Int.(pre1790_clean.year)\n",
    "pre1790_clean.year = string.(pre1790_clean.year)\n",
    "pre1790_gdf = group_by_year(pre1790_clean)\n",
    "pre1790_gdf[1, \"year\"] = \"missing\"\n",
    "sort!(pre1790_gdf)"
   ]
  },
  {
   "cell_type": "code",
   "execution_count": 88,
   "metadata": {},
   "outputs": [
    {
     "data": {
      "text/plain": [
       "false"
      ]
     },
     "metadata": {},
     "output_type": "display_data"
    }
   ],
   "source": [
    "#plot \n",
    "set_default_plot_size(16cm, 9cm)\n",
    "\n",
    "p_debt_date = Gadfly.plot(\n",
    "    pre1790_gdf,\n",
    "    x=:year,\n",
    "    y=:total_amt,\n",
    "    Geom.bar,\n",
    "    Guide.xlabel(\"Year\"),\n",
    "    Guide.ylabel(\"Amount (in dollars)\"),\n",
    "    Guide.title(\"Debt Certificate Total Per Year\"),\n",
    "    Gadfly.Theme(background_color = \"white\")\n",
    ")\n",
    "\n",
    "img = SVG(\"debt_per_year/pre1790_debt_certificate_amts_per_year.svg\", 16cm, 9cm) \n",
    "draw(img, p_debt_date)  "
   ]
  },
  {
   "cell_type": "code",
   "execution_count": null,
   "metadata": {},
   "outputs": [],
   "source": []
  }
 ],
 "metadata": {
  "kernelspec": {
   "display_name": "Julia 1.9.4",
   "language": "julia",
   "name": "julia-1.9"
  },
  "language_info": {
   "file_extension": ".jl",
   "mimetype": "application/julia",
   "name": "julia",
   "version": "1.9.4"
  }
 },
 "nbformat": 4,
 "nbformat_minor": 2
}
