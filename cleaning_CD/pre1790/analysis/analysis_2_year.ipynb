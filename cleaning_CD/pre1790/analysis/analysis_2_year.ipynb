{
 "cells": [
  {
   "cell_type": "markdown",
   "metadata": {},
   "source": [
    "<h1>Annual Change in Debt Redemption</h1>\n",
    "Create a bar graph showing the change in the amount of debt redeemed from year to year and month to month "
   ]
  },
  {
   "cell_type": "code",
   "execution_count": 2,
   "metadata": {},
   "outputs": [],
   "source": [
    "using CSV, DataFrames, DataFramesMeta, Gadfly, XLSX"
   ]
  },
  {
   "cell_type": "code",
   "execution_count": 44,
   "metadata": {},
   "outputs": [
    {
     "data": {
      "text/plain": [
       "plot_debt (generic function with 1 method)"
      ]
     },
     "metadata": {},
     "output_type": "display_data"
    }
   ],
   "source": [
    "function clean_df(df) \n",
    "    df[:, :dollars] = replace(df[:, :dollars], \"NaN\" => missing) # replace \"NaN\" with missing\n",
    "    df[:, :cents] = replace(df[:, :cents], \"NaN\" => missing) # replace \"NaN\" with missing\n",
    "    df[:, :dollars] = replace(df[:, :dollars], missing => 0)  # replace missing with 0 \n",
    "    df[:, :cents] = replace(df[:, :cents], missing => 0)  # replace missing with 0 \n",
    "    df \n",
    "end \n",
    "\n",
    "function group_by_year(df) \n",
    "    gdf = @by(df, :year,\n",
    "        :total_amt = sum(:dollars) + sum(:cents)  # calculate total amount of debt \n",
    "    )\n",
    "    sort!(gdf) # sort by year \n",
    "    replace!(gdf.year, missing => \"missing\") # change missing values to string to allow for plotting\n",
    "    return gdf \n",
    "end\n",
    "\n",
    "#plot debt redeemed per year saved as svg \n",
    "function plot_debt(df::DataFrame, state)\n",
    "    set_default_plot_size(16cm, 9cm)\n",
    "\n",
    "    p_debt_date = Gadfly.plot(\n",
    "        df,\n",
    "        x=:year,\n",
    "        y=:total_amt,\n",
    "        Geom.bar,\n",
    "        Guide.xlabel(\"Year\"),\n",
    "        Guide.ylabel(\"Total Debt (in dollars)\"),\n",
    "        Guide.title(uppercase(state)*\" Debt Redeemed Per Year\"),\n",
    "        Gadfly.Theme(background_color = \"white\")\n",
    "    )\n",
    "\n",
    "    println(state)\n",
    "    img = SVG(\"analysis/debt_per_year/\" * uppercase(state) * \"_debt_redeemed_per_year.svg\", 16cm, 9cm) \n",
    "    draw(img, p_debt_date)  \n",
    "end "
   ]
  },
  {
   "cell_type": "code",
   "execution_count": 45,
   "metadata": {},
   "outputs": [
    {
     "name": "stdout",
     "output_type": "stream",
     "text": [
      "ct\n",
      "\u001b[1m5×2 DataFrame\u001b[0m\n",
      "\u001b[1m Row \u001b[0m│\u001b[1m year   \u001b[0m\u001b[1m total_amt    \u001b[0m\n",
      "     │\u001b[90m String \u001b[0m\u001b[90m Float64      \u001b[0m\n",
      "─────┼──────────────────────\n",
      "   1 │ 1790       1.18777e5\n",
      "   2 │ 1791       2.24218e5\n",
      "   3 │ 1792    2255.55\n",
      "   4 │ 1793    3351.04\n",
      "   5 │ 1794       1.25849e5\n"
     ]
    },
    {
     "name": "stdout",
     "output_type": "stream",
     "text": [
      "ga\n",
      "\u001b[1m5×2 DataFrame\u001b[0m\n",
      "\u001b[1m Row \u001b[0m│\u001b[1m year   \u001b[0m\u001b[1m total_amt \u001b[0m\n",
      "     │\u001b[90m String \u001b[0m\u001b[90m Float64   \u001b[0m\n",
      "─────┼───────────────────\n",
      "   1 │ 1790      2277.27\n",
      "   2 │ 1791     95739.3\n",
      "   3 │ 1792      3967.43\n",
      "   4 │ 1793      1046.81\n",
      "   5 │ 1794     24012.9\n",
      "md"
     ]
    },
    {
     "name": "stdout",
     "output_type": "stream",
     "text": [
      "\n",
      "\u001b[1m5×2 DataFrame\u001b[0m\n",
      "\u001b[1m Row \u001b[0m│\u001b[1m year   \u001b[0m\u001b[1m total_amt     \u001b[0m\n",
      "     │\u001b[90m String \u001b[0m\u001b[90m Float64       \u001b[0m\n",
      "─────┼───────────────────────\n",
      "   1 │ 1790        1.40061e5\n",
      "   2 │ 1791        5.04802e5\n",
      "   3 │ 1792     7006.75\n",
      "   4 │ 1793    44582.1\n",
      "   5 │ 1794      717.89\n",
      "nc\n",
      "\u001b[1m4×2 DataFrame\u001b[0m\n",
      "\u001b[1m Row \u001b[0m│\u001b[1m year   \u001b[0m\u001b[1m total_amt \u001b[0m\n",
      "     │\u001b[90m String \u001b[0m\u001b[90m Float64   \u001b[0m\n",
      "─────┼───────────────────\n",
      "   1 │ 1791     33666.1\n",
      "   2 │ 1792     32129.7\n",
      "   3 │ 1793      4713.45\n",
      "   4 │ 1794     14401.9\n",
      "nh\n",
      "\u001b[1m3×2 DataFrame\u001b[0m\n",
      "\u001b[1m Row \u001b[0m│\u001b[1m year   \u001b[0m\u001b[1m total_amt \u001b[0m\n",
      "     │\u001b[90m String \u001b[0m\u001b[90m Float64   \u001b[0m\n",
      "─────┼───────────────────\n",
      "   1 │ 1791    420772.0\n",
      "   2 │ 1792     37316.9\n",
      "   3 │ 1793      4597.44"
     ]
    },
    {
     "name": "stdout",
     "output_type": "stream",
     "text": [
      "\n",
      "nj\n",
      "\u001b[1m5×2 DataFrame\u001b[0m\n",
      "\u001b[1m Row \u001b[0m│\u001b[1m year   \u001b[0m\u001b[1m total_amt     \u001b[0m\n",
      "     │\u001b[90m String \u001b[0m\u001b[90m Float64       \u001b[0m\n",
      "─────┼───────────────────────\n",
      "   1 │ 1791        2.35745e5\n",
      "   2 │ 1792    17893.8\n",
      "   3 │ 1793     3665.43\n",
      "   4 │ 1794    16517.0\n",
      "   5 │ 1795      809.04"
     ]
    },
    {
     "name": "stdout",
     "output_type": "stream",
     "text": [
      "\n",
      "ny\n",
      "\u001b[1m5×2 DataFrame\u001b[0m\n",
      "\u001b[1m Row \u001b[0m│\u001b[1m year   \u001b[0m\u001b[1m total_amt \u001b[0m\n",
      "     │\u001b[90m String \u001b[0m\u001b[90m Float64   \u001b[0m\n",
      "─────┼───────────────────\n",
      "   1 │ 1790    5.4273e5\n",
      "   2 │ 1791    2.6001e6\n",
      "   3 │ 1792    7.86956e5\n",
      "   4 │ 1793    4.24138e5\n",
      "   5 │ 1794    2.78669e5"
     ]
    },
    {
     "name": "stdout",
     "output_type": "stream",
     "text": [
      "\n",
      "pa\n"
     ]
    },
    {
     "name": "stdout",
     "output_type": "stream",
     "text": [
      "\u001b[1m5×2 DataFrame\u001b[0m\n",
      "\u001b[1m Row \u001b[0m│\u001b[1m year    \u001b[0m\u001b[1m total_amt     \u001b[0m\n",
      "     │\u001b[90m String  \u001b[0m\u001b[90m Float64       \u001b[0m\n",
      "─────┼────────────────────────\n",
      "   1 │ 1790         2.03456e5\n",
      "   2 │ 1791         6.06171e5\n",
      "   3 │ 1792     34862.0\n",
      "   4 │ 1793     16283.8\n",
      "   5 │ missing  76527.9\n",
      "ri\n",
      "\u001b[1m5×2 DataFrame\u001b[0m\n",
      "\u001b[1m Row \u001b[0m│\u001b[1m year   \u001b[0m\u001b[1m total_amt     \u001b[0m\n",
      "     │\u001b[90m String \u001b[0m\u001b[90m Float64       \u001b[0m\n",
      "─────┼───────────────────────\n",
      "   1 │ 1790    36863.3\n",
      "   2 │ 1791        1.46409e5\n",
      "   3 │ 1792     8258.96\n",
      "   4 │ 1793     3682.69\n",
      "   5 │ 1794    60622.3\n",
      "sc\n"
     ]
    },
    {
     "name": "stdout",
     "output_type": "stream",
     "text": [
      "\u001b[1m5×2 DataFrame\u001b[0m\n",
      "\u001b[1m Row \u001b[0m│\u001b[1m year   \u001b[0m\u001b[1m total_amt     \u001b[0m\n",
      "     │\u001b[90m String \u001b[0m\u001b[90m Float64       \u001b[0m\n",
      "─────┼───────────────────────\n",
      "   1 │ 1790    27513.8\n",
      "   2 │ 1791    78834.3\n",
      "   3 │ 1792    15058.0\n",
      "   4 │ 1793     3137.15\n",
      "   5 │ 1794        2.48973e5\n",
      "va\n",
      "\u001b[1m5×2 DataFrame\u001b[0m\n",
      "\u001b[1m Row \u001b[0m│\u001b[1m year   \u001b[0m\u001b[1m total_amt     \u001b[0m\n",
      "     │\u001b[90m String \u001b[0m\u001b[90m Float64       \u001b[0m\n",
      "─────┼───────────────────────\n",
      "   1 │ 1790    48870.6\n",
      "   2 │ 1791        2.99654e5\n",
      "   3 │ 1792    16614.6\n",
      "   4 │ 1793     6551.69\n",
      "   5 │ 1794     3945.98\n"
     ]
    }
   ],
   "source": [
    "# import cd_info \n",
    "cd_info = DataFrame(CSV.File(\"analysis/cd_info.csv\"))\n",
    "# store total amount and years of all states in a new dataframe \n",
    "all_states = DataFrame([[], []], [:year, :total_amt])\n",
    "\n",
    "# loop through cd_info per state \n",
    "for i in 1:nrow(cd_info)\n",
    "    state_df = DataFrame() # create new dataframe for each state\n",
    "    state_row = cd_info[i, :]\n",
    "    state_excel = XLSX.readxlsx(state_row[:file_path])\n",
    "    state_sheet = state_excel[\"Sheet1\"]\n",
    "    \n",
    "    # get year columns --> merge years columns into one column \n",
    "    year_col_indexes = split(state_row[:year_col], \",\")\n",
    "    for year_col_index in year_col_indexes\n",
    "        year_col_range = year_col_index*string(state_row[:first_row])*\":\"*year_col_index*string(state_row[:last_row])\n",
    "        year_col = state_sheet[year_col_range]\n",
    "\n",
    "        if nrow(state_df) == 0 # if state_df is empty, create year column \n",
    "            state_df.year = vec(year_col)\n",
    "        else \n",
    "            state_df.year .= coalesce(state_df.year, vec(year_col)) # append year col to state dataframe\n",
    "        end \n",
    "    end\n",
    "\n",
    "    state_df.year = string.(state_df.year) # convert year column to string to allow for replacing missing values\n",
    "\n",
    "    # add dollar amount column to states dataframe \n",
    "    dollar_indexes = split(state_row[:dollars_col], \",\") \n",
    "    for dollar_index in dollar_indexes\n",
    "        dollar_col_range = dollar_index*string(state_row[:first_row])*\":\"*dollar_index*string(state_row[:last_row])\n",
    "        dollar_col = state_sheet[dollar_col_range]\n",
    "        state_df.dollars = vec(dollar_col)\n",
    "    end\n",
    "\n",
    "    # add cents amount column to states dataframe \n",
    "    if !ismissing(state_row[:cents_col]) # handle excel spreadsheets with no cents column \n",
    "        cents_indexes = split(state_row[:cents_col], \",\")\n",
    "        for cents_index in cents_indexes\n",
    "            cents_col_range = cents_index*string(state_row[:first_row])*\":\"*cents_index*string(state_row[:last_row])\n",
    "            cents_col = state_sheet[cents_col_range]\n",
    "            state_df.cents = vec(cents_col) ./ 100 # convert cents to decimal\n",
    "        end \n",
    "    else \n",
    "        state_df.cents = zeros(nrow(state_df)) # create column of zeros to allow for summing\n",
    "    end\n",
    "\n",
    "    # add state label \n",
    "    state_df.state = fill(state_row[:state], nrow(state_df))\n",
    "\n",
    "    state_df_clean = clean_df(state_df) # clean table to remove missing values\n",
    "    state_gdf = group_by_year(state_df_clean) # group by year and sum debt\n",
    "    plot_debt(state_gdf, state_row[:state]) # plot debt redeemed per year saved as svg\n",
    "\n",
    "    all_states = vcat(all_states, state_gdf) # append state dataframe to all_states dataframe\n",
    "\n",
    "    println(first(state_gdf, 5)) \n",
    "end \n"
   ]
  },
  {
   "cell_type": "markdown",
   "metadata": {},
   "source": [
    "<h1>Pre-1790</h1>"
   ]
  },
  {
   "cell_type": "code",
   "execution_count": 46,
   "metadata": {},
   "outputs": [
    {
     "name": "stdout",
     "output_type": "stream",
     "text": [
      "United States\n"
     ]
    },
    {
     "data": {
      "text/plain": [
       "false"
      ]
     },
     "metadata": {},
     "output_type": "display_data"
    }
   ],
   "source": [
    "# import pre-1790 debt data \n"
   ]
  },
  {
   "cell_type": "code",
   "execution_count": 17,
   "metadata": {},
   "outputs": [
    {
     "data": {
      "text/html": [
       "<div><div style = \"float: left;\"><span>57149×2 DataFrame</span></div><div style = \"float: right;\"><span style = \"font-style: italic;\">57124 rows omitted</span></div><div style = \"clear: both;\"></div></div><div class = \"data-frame\" style = \"overflow-x: scroll;\"><table class = \"data-frame\" style = \"margin-bottom: 6px;\"><thead><tr class = \"header\"><th class = \"rowNumber\" style = \"font-weight: bold; text-align: right;\">Row</th><th style = \"text-align: left;\">To Whom Issued</th><th style = \"text-align: left;\">full_name_unique</th></tr><tr class = \"subheader headerLastRow\"><th class = \"rowNumber\" style = \"font-weight: bold; text-align: right;\"></th><th title = \"Any\" style = \"text-align: left;\">Any</th><th title = \"String\" style = \"text-align: left;\">String</th></tr></thead><tbody><tr><td class = \"rowNumber\" style = \"font-weight: bold; text-align: right;\">1</td><td style = \"text-align: left;\">Second New York Artillery  under Col. John Lamb; W. Stevens  agent</td><td style = \"text-align: left;\">Giles Abanathy</td></tr><tr><td class = \"rowNumber\" style = \"font-weight: bold; text-align: right;\">2</td><td style = \"text-align: left;\">Second New York Artillery  under Col. John Lamb; W. Stevens  agent</td><td style = \"text-align: left;\">Jonathan Adams</td></tr><tr><td class = \"rowNumber\" style = \"font-weight: bold; text-align: right;\">3</td><td style = \"text-align: left;\">Second New York Artillery  under Col. John Lamb; W. Stevens  agent</td><td style = \"text-align: left;\">Jonas Addom</td></tr><tr><td class = \"rowNumber\" style = \"font-weight: bold; text-align: right;\">4</td><td style = \"text-align: left;\">Second New York Artillery  under Col. John Lamb; W. Stevens  agent</td><td style = \"text-align: left;\">Jonas Addoms</td></tr><tr><td class = \"rowNumber\" style = \"font-weight: bold; text-align: right;\">5</td><td style = \"text-align: left;\">Second New York Artillery  under Col. John Lamb; W. Stevens  agent</td><td style = \"text-align: left;\">Giles Ahunatha</td></tr><tr><td class = \"rowNumber\" style = \"font-weight: bold; text-align: right;\">6</td><td style = \"text-align: left;\">Second New York Artillery  under Col. John Lamb; W. Stevens  agent</td><td style = \"text-align: left;\">James Aikins</td></tr><tr><td class = \"rowNumber\" style = \"font-weight: bold; text-align: right;\">7</td><td style = \"text-align: left;\">Second New York Artillery  under Col. John Lamb; W. Stevens  agent</td><td style = \"text-align: left;\">John Ailing</td></tr><tr><td class = \"rowNumber\" style = \"font-weight: bold; text-align: right;\">8</td><td style = \"text-align: left;\">Second New York Artillery  under Col. John Lamb; W. Stevens  agent</td><td style = \"text-align: left;\">Stephen Ailing</td></tr><tr><td class = \"rowNumber\" style = \"font-weight: bold; text-align: right;\">9</td><td style = \"text-align: left;\">Second New York Artillery  under Col. John Lamb; W. Stevens  agent</td><td style = \"text-align: left;\">Ichabod Ailling</td></tr><tr><td class = \"rowNumber\" style = \"font-weight: bold; text-align: right;\">10</td><td style = \"text-align: left;\">Second New York Artillery  under Col. John Lamb; W. Stevens  agent</td><td style = \"text-align: left;\">Ichobod Ailling</td></tr><tr><td class = \"rowNumber\" style = \"font-weight: bold; text-align: right;\">11</td><td style = \"text-align: left;\">Second New York Artillery  under Col. John Lamb; W. Stevens  agent</td><td style = \"text-align: left;\">James Akins</td></tr><tr><td class = \"rowNumber\" style = \"font-weight: bold; text-align: right;\">12</td><td style = \"text-align: left;\">Second New York Artillery  under Col. John Lamb; W. Stevens  agent</td><td style = \"text-align: left;\">Thomas G Jr. Alford</td></tr><tr><td class = \"rowNumber\" style = \"font-weight: bold; text-align: right;\">13</td><td style = \"text-align: left;\">Second New York Artillery  under Col. John Lamb; W. Stevens  agent</td><td style = \"text-align: left;\">Thomas G Sr. Alford</td></tr><tr><td style = \"text-align: right;\">&vellip;</td><td style = \"text-align: right;\">&vellip;</td><td style = \"text-align: right;\">&vellip;</td></tr><tr><td class = \"rowNumber\" style = \"font-weight: bold; text-align: right;\">57138</td><td style = \"text-align: left;\">Officers paid to November 4  1794</td><td style = \"text-align: left;\">Thomas Thompson</td></tr><tr><td class = \"rowNumber\" style = \"font-weight: bold; text-align: right;\">57139</td><td style = \"text-align: left;\">Officers paid to November 4  1840</td><td style = \"text-align: left;\">William Torrey</td></tr><tr><td class = \"rowNumber\" style = \"font-weight: bold; text-align: right;\">57140</td><td style = \"text-align: left;\">Officers paid to November 4  1841</td><td style = \"text-align: left;\">William Torrey</td></tr><tr><td class = \"rowNumber\" style = \"font-weight: bold; text-align: right;\">57141</td><td style = \"text-align: left;\">Officers paid to November 4  1842</td><td style = \"text-align: left;\">William Torrey</td></tr><tr><td class = \"rowNumber\" style = \"font-weight: bold; text-align: right;\">57142</td><td style = \"text-align: left;\">Detachment  paid to April 1  1783</td><td style = \"text-align: left;\">Ebenezer Wales</td></tr><tr><td class = \"rowNumber\" style = \"font-weight: bold; text-align: right;\">57143</td><td style = \"text-align: left;\">Detachment  paid to April 1  1796</td><td style = \"text-align: left;\">Robert Warner</td></tr><tr><td class = \"rowNumber\" style = \"font-weight: bold; text-align: right;\">57144</td><td style = \"text-align: left;\">Detachment  paid to April 1  1804</td><td style = \"text-align: left;\">John R Watrous</td></tr><tr><td class = \"rowNumber\" style = \"font-weight: bold; text-align: right;\">57145</td><td style = \"text-align: left;\">Officers paid to November 4  1801</td><td style = \"text-align: left;\">Moses White</td></tr><tr><td class = \"rowNumber\" style = \"font-weight: bold; text-align: right;\">57146</td><td style = \"text-align: left;\">Officers paid to November 4  1802</td><td style = \"text-align: left;\">Moses White</td></tr><tr><td class = \"rowNumber\" style = \"font-weight: bold; text-align: right;\">57147</td><td style = \"text-align: left;\">Officers paid to November 4  1803</td><td style = \"text-align: left;\">Moses White</td></tr><tr><td class = \"rowNumber\" style = \"font-weight: bold; text-align: right;\">57148</td><td style = \"text-align: left;\">Detachment  paid to April 1  1817</td><td style = \"text-align: left;\">Theoph Woodbridge</td></tr><tr><td class = \"rowNumber\" style = \"font-weight: bold; text-align: right;\">57149</td><td style = \"text-align: left;\">Detachment  paid to April 1  1791</td><td style = \"text-align: left;\">Samuel Wyllys</td></tr></tbody></table></div>"
      ],
      "text/latex": [
       "\\begin{tabular}{r|cc}\n",
       "\t& To Whom Issued & full\\_name\\_unique\\\\\n",
       "\t\\hline\n",
       "\t& Any & String\\\\\n",
       "\t\\hline\n",
       "\t1 & Second New York Artillery  under Col. John Lamb; W. Stevens  agent & Giles Abanathy \\\\\n",
       "\t2 & Second New York Artillery  under Col. John Lamb; W. Stevens  agent & Jonathan Adams \\\\\n",
       "\t3 & Second New York Artillery  under Col. John Lamb; W. Stevens  agent & Jonas Addom \\\\\n",
       "\t4 & Second New York Artillery  under Col. John Lamb; W. Stevens  agent & Jonas Addoms \\\\\n",
       "\t5 & Second New York Artillery  under Col. John Lamb; W. Stevens  agent & Giles Ahunatha \\\\\n",
       "\t6 & Second New York Artillery  under Col. John Lamb; W. Stevens  agent & James Aikins \\\\\n",
       "\t7 & Second New York Artillery  under Col. John Lamb; W. Stevens  agent & John Ailing \\\\\n",
       "\t8 & Second New York Artillery  under Col. John Lamb; W. Stevens  agent & Stephen Ailing \\\\\n",
       "\t9 & Second New York Artillery  under Col. John Lamb; W. Stevens  agent & Ichabod Ailling \\\\\n",
       "\t10 & Second New York Artillery  under Col. John Lamb; W. Stevens  agent & Ichobod Ailling \\\\\n",
       "\t11 & Second New York Artillery  under Col. John Lamb; W. Stevens  agent & James Akins \\\\\n",
       "\t12 & Second New York Artillery  under Col. John Lamb; W. Stevens  agent & Thomas G Jr. Alford \\\\\n",
       "\t13 & Second New York Artillery  under Col. John Lamb; W. Stevens  agent & Thomas G Sr. Alford \\\\\n",
       "\t14 & Second New York Artillery  under Col. John Lamb; W. Stevens  agent & George Allen \\\\\n",
       "\t15 & Second New York Artillery  under Col. John Lamb; W. Stevens  agent & John Allen \\\\\n",
       "\t16 & Second New York Artillery  under Col. John Lamb; W. Stevens  agent & John Alleng \\\\\n",
       "\t17 & Second New York Artillery  under Col. John Lamb; W. Stevens  agent & William Alley \\\\\n",
       "\t18 & Second New York Artillery  under Col. John Lamb; W. Stevens  agent & Ichabod Alling \\\\\n",
       "\t19 & Second New York Artillery  under Col. John Lamb; W. Stevens  agent & John Alling \\\\\n",
       "\t20 & Second New York Artillery  under Col. John Lamb; W. Stevens  agent & Stephen Alling \\\\\n",
       "\t21 & Second New York Artillery  under Col. John Lamb; W. Stevens  agent & Tho G Jr. Alvord \\\\\n",
       "\t22 & Second New York Artillery  under Col. John Lamb; W. Stevens  agent & Tho G Sr. Alvord \\\\\n",
       "\t23 & Second New York Artillery  under Col. John Lamb; W. Stevens  agent & Thomas G Alvord \\\\\n",
       "\t24 & Second New York Artillery  under Col. John Lamb; W. Stevens  agent & Thomas Jr. Alvord \\\\\n",
       "\t$\\dots$ & $\\dots$ & $\\dots$ \\\\\n",
       "\\end{tabular}\n"
      ],
      "text/plain": [
       "\u001b[1m57149×2 DataFrame\u001b[0m\n",
       "\u001b[1m   Row \u001b[0m│\u001b[1m To Whom Issued                    \u001b[0m\u001b[1m full_name_unique  \u001b[0m\n",
       "       │\u001b[90m Any                               \u001b[0m\u001b[90m String            \u001b[0m\n",
       "───────┼──────────────────────────────────────────────────────\n",
       "     1 │ Second New York Artillery  under…  Giles Abanathy\n",
       "     2 │ Second New York Artillery  under…  Jonathan Adams\n",
       "     3 │ Second New York Artillery  under…  Jonas Addom\n",
       "     4 │ Second New York Artillery  under…  Jonas Addoms\n",
       "     5 │ Second New York Artillery  under…  Giles Ahunatha\n",
       "     6 │ Second New York Artillery  under…  James Aikins\n",
       "     7 │ Second New York Artillery  under…  John Ailing\n",
       "     8 │ Second New York Artillery  under…  Stephen Ailing\n",
       "   ⋮   │                 ⋮                          ⋮\n",
       " 57143 │ Detachment  paid to April 1  1796  Robert Warner\n",
       " 57144 │ Detachment  paid to April 1  1804  John R Watrous\n",
       " 57145 │ Officers paid to November 4  1801  Moses White\n",
       " 57146 │ Officers paid to November 4  1802  Moses White\n",
       " 57147 │ Officers paid to November 4  1803  Moses White\n",
       " 57148 │ Detachment  paid to April 1  1817  Theoph Woodbridge\n",
       " 57149 │ Detachment  paid to April 1  1791  Samuel Wyllys\n",
       "\u001b[36m                                            57134 rows omitted\u001b[0m"
      ]
     },
     "metadata": {},
     "output_type": "display_data"
    }
   ],
   "source": [
    "# import pierce certificates \n",
    "pierce_df = DataFrame(XLSX.readtable(\"../../../data_raw/pre1790/Pierce_Certs_cleaned_2019.xlsx\", \"Pierce_Certs_cleaned_2019\"))\n",
    "pierce_df.First = string.(pierce_df.First) # convert first name column to string to allow for concatenation\n",
    "pierce_df.Last = string.(pierce_df.Last) # convert last name column to string to allow for concatenation\n",
    "pierce_df.full_name = pierce_df.First .* \" \" .* pierce_df.Last # create full name column\n",
    "gdf = groupby(pierce_df, \"To Whom Issued\") # group by year and sum debt\n",
    "gdf_c = combine(gdf, :full_name => unique) \n",
    "gdf_c"
   ]
  },
  {
   "cell_type": "code",
   "execution_count": null,
   "metadata": {},
   "outputs": [],
   "source": []
  }
 ],
 "metadata": {
  "kernelspec": {
   "display_name": "Julia 1.9.4",
   "language": "julia",
   "name": "julia-1.9"
  },
  "language_info": {
   "file_extension": ".jl",
   "mimetype": "application/julia",
   "name": "julia",
   "version": "1.9.4"
  }
 },
 "nbformat": 4,
 "nbformat_minor": 2
}
