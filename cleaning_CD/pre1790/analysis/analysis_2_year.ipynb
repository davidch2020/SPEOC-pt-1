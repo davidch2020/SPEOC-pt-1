{
 "cells": [
  {
   "cell_type": "markdown",
   "metadata": {},
   "source": [
    "<h1>Annual Change in Debt Redemption</h1>\n",
    "Create a bar graph showing the change in the amount of debt redeemed from year to year and month to month "
   ]
  },
  {
   "cell_type": "code",
   "execution_count": 3,
   "metadata": {},
   "outputs": [],
   "source": [
    "using CSV, DataFrames, DataFramesMeta, Gadfly, XLSX, Dates, Compose, Plots"
   ]
  },
  {
   "cell_type": "code",
   "execution_count": 4,
   "metadata": {},
   "outputs": [
    {
     "data": {
      "text/plain": [
       "plot_debt (generic function with 1 method)"
      ]
     },
     "metadata": {},
     "output_type": "display_data"
    }
   ],
   "source": [
    "function clean_df(df) \n",
    "    df[:, :dollars] = replace(df[:, :dollars], \"NaN\" => missing) # replace \"NaN\" with missing\n",
    "    df[:, :cents] = replace(df[:, :cents], \"NaN\" => missing) # replace \"NaN\" with missing\n",
    "    df[:, :dollars] = replace(df[:, :dollars], missing => 0)  # replace missing with 0 \n",
    "    df[:, :cents] = replace(df[:, :cents], missing => 0)  # replace missing with 0 \n",
    "    df \n",
    "end \n",
    "\n",
    "function group_by_year(df) \n",
    "    gdf = @by(df, :year,\n",
    "        :total_amt = sum(:dollars) + sum(:cents)  # calculate total amount of debt \n",
    "    )\n",
    "    sort!(gdf) # sort by year \n",
    "    replace!(gdf.year, \"missing\" => \"no year\") # change missing values to string to allow for plotting\n",
    "    return gdf \n",
    "end\n",
    "\n",
    "function group_by_year_month(df)\n",
    "    gdf = @by(df, [:year, :month],\n",
    "        :total_amt = sum(:dollars) + sum(:cents)  # calculate total amount of debt \n",
    "    )\n",
    "    \n",
    "    return gdf \n",
    "end\n",
    "\n",
    "#plot debt redeemed per year saved as svg \n",
    "function plot_debt(df::DataFrame, state, type)\n",
    "    set_default_plot_size(40cm, 22.5cm)\n",
    "\n",
    "    if type == \"year\"\n",
    "        p_debt_date = Gadfly.plot(\n",
    "            df,\n",
    "            x=:year,\n",
    "            y=:total_amt,\n",
    "            Geom.bar,\n",
    "            Guide.xlabel(\"Year\"),\n",
    "            Guide.ylabel(\"Total Debt (in dollars)\"),\n",
    "            Guide.title(uppercase(state)*\" Debt Redeemed Per Year\"),\n",
    "            Gadfly.Theme(background_color = \"white\")\n",
    "        )\n",
    "        img = SVG(\"results/debt_per_year/year/\" * uppercase(state) * \"_debt_redeemed_per_year.svg\", 40cm, 22.5cm) \n",
    "        draw(img, p_debt_date)  \n",
    "    elseif type == \"year_month\"\n",
    "        p_debt_date = Gadfly.plot(\n",
    "            df,\n",
    "            x=:year_month,\n",
    "            y=:total_amt,\n",
    "            Geom.bar,\n",
    "            Guide.xlabel(\"Year\"),\n",
    "            Guide.ylabel(\"Total Debt (in dollars)\"),\n",
    "            Guide.title(uppercase(state)*\" Debt Redeemed Per Year/Month\"),\n",
    "            Gadfly.Theme(background_color = \"white\")\n",
    "        )\n",
    "\n",
    "        img = SVG(\"results/debt_per_year/year_month/\" * uppercase(state) * \"_debt_redeemed_per_year_month.svg\", 40cm, 22.5cm) \n",
    "        draw(img, p_debt_date)  \n",
    "    end\n",
    "\n",
    "    println(state)\n",
    "\n",
    "end "
   ]
  },
  {
   "cell_type": "code",
   "execution_count": 5,
   "metadata": {},
   "outputs": [
    {
     "data": {
      "text/plain": [
       "group_post1795 (generic function with 1 method)"
      ]
     },
     "metadata": {},
     "output_type": "display_data"
    }
   ],
   "source": [
    "function group_post1795(state_df) \n",
    "    # filtering dataframes using multiple conditions \n",
    "    state_df_post1795 = @subset(state_df, :year_month .> DateTime(1795)) # filter out years before 1795\n",
    "    state_df_post1795.total_amt = replace(state_df_post1795.total_amt, missing => 0) # replace missing values with 0\n",
    "    state_df_sum = sum(state_df_post1795.total_amt) # sum total debt redeemed after 1795\n",
    "\n",
    "    # remove rows where year is greater than 1795 \n",
    "    state_df = @subset(state_df, :year_month .< DateTime(1795))\n",
    "    \n",
    "    # change datetime object to string \n",
    "    state_df.year_month = Dates.format.(state_df.year_month, \"yyyy-mm\")\n",
    "    \n",
    "    push!(state_df, [state_df_sum, \"post-1795\"], promote=true) # add total debt redeemed after 1795 to dataframe\n",
    "    return state_df\n",
    "end "
   ]
  },
  {
   "cell_type": "code",
   "execution_count": 6,
   "metadata": {},
   "outputs": [
    {
     "data": {
      "text/plain": [
       "handle_missing_info (generic function with 1 method)"
      ]
     },
     "metadata": {},
     "output_type": "display_data"
    }
   ],
   "source": [
    "function handle_missing_info(state_df)\n",
    "    missing_info = @rsubset(state_df, ismissing(:year) || ismissing(:month)) # filter out rows with missing year or month\\\n",
    "    missing_info_sum = 0\n",
    "    if nrow(missing_info) > 0\n",
    "        missing_info_sum = sum(missing_info.dollars + missing_info.cents) # sum total debt redeemed with missing year or month\n",
    "    end \n",
    "    return missing_info_sum\n",
    "end "
   ]
  },
  {
   "cell_type": "code",
   "execution_count": 7,
   "metadata": {},
   "outputs": [
    {
     "name": "stdout",
     "output_type": "stream",
     "text": [
      "ct\n"
     ]
    },
    {
     "name": "stdout",
     "output_type": "stream",
     "text": [
      "\u001b[1m5×2 DataFrame\u001b[0m\n",
      "\u001b[1m Row \u001b[0m│\u001b[1m total_amt     \u001b[0m\u001b[1m year_month   \u001b[0m\n",
      "     │\u001b[90m Float64       \u001b[0m\u001b[90m String       \u001b[0m\n",
      "─────┼─────────────────────────────\n",
      "   1 │   467.11       1794-10\n",
      "   2 │     1.23824e5  1794-11\n",
      "   3 │     0.0        1794-12\n",
      "   4 │   788.6        post-1795\n",
      "   5 │ 13337.7        missing info"
     ]
    },
    {
     "name": "stdout",
     "output_type": "stream",
     "text": [
      "\n"
     ]
    },
    {
     "name": "stdout",
     "output_type": "stream",
     "text": [
      "ga\n",
      "\u001b[1m5×2 DataFrame\u001b[0m\n",
      "\u001b[1m Row \u001b[0m│\u001b[1m total_amt \u001b[0m\u001b[1m year_month   \u001b[0m\n",
      "     │\u001b[90m Float64   \u001b[0m\u001b[90m String       \u001b[0m\n",
      "─────┼─────────────────────────\n",
      "   1 │     89.53  1793-02\n",
      "   2 │     27.29  1794-03\n",
      "   3 │  23985.6   1794-11\n",
      "   4 │      0.0   post-1795\n",
      "   5 │      0.0   missing info\n"
     ]
    },
    {
     "name": "stdout",
     "output_type": "stream",
     "text": [
      "md\n",
      "\u001b[1m5×2 DataFrame\u001b[0m\n",
      "\u001b[1m Row \u001b[0m│\u001b[1m total_amt   \u001b[0m\u001b[1m year_month   \u001b[0m\n",
      "     │\u001b[90m Float64     \u001b[0m\u001b[90m String       \u001b[0m\n",
      "─────┼───────────────────────────\n",
      "   1 │   0.0        1794-10\n",
      "   2 │  64.17       1794-11\n",
      "   3 │ 130.0        1794-12\n",
      "   4 │ 994.68       post-1795\n",
      "   5 │   1.02597e5  missing info\n",
      "nc\n",
      "\u001b[1m5×2 DataFrame\u001b[0m\n",
      "\u001b[1m Row \u001b[0m│\u001b[1m total_amt \u001b[0m\u001b[1m year_month   \u001b[0m\n",
      "     │\u001b[90m Float64   \u001b[0m\u001b[90m String       \u001b[0m\n",
      "─────┼─────────────────────────\n",
      "   1 │   1005.93  1793-06\n",
      "   2 │  12170.2   1794-02\n",
      "   3 │   2231.66  1794-07\n",
      "   4 │      0.0   post-1795\n",
      "   5 │      0.0   missing info"
     ]
    },
    {
     "name": "stdout",
     "output_type": "stream",
     "text": [
      "\n"
     ]
    },
    {
     "name": "stdout",
     "output_type": "stream",
     "text": [
      "nh\n",
      "\u001b[1m5×2 DataFrame\u001b[0m\n",
      "\u001b[1m Row \u001b[0m│\u001b[1m total_amt \u001b[0m\u001b[1m year_month   \u001b[0m\n",
      "     │\u001b[90m Float64   \u001b[0m\u001b[90m String       \u001b[0m\n",
      "─────┼─────────────────────────\n",
      "   1 │   5104.4   1792-11\n",
      "   2 │    658.99  1792-12\n",
      "   3 │   4597.44  1793-01\n",
      "   4 │      0.0   post-1795\n",
      "   5 │      0.0   missing info\n",
      "nj\n",
      "\u001b[1m5×2 DataFrame\u001b[0m\n",
      "\u001b[1m Row \u001b[0m│\u001b[1m total_amt     \u001b[0m\u001b[1m year_month   \u001b[0m\n",
      "     │\u001b[90m Float64       \u001b[0m\u001b[90m String       \u001b[0m\n",
      "─────┼─────────────────────────────\n",
      "   1 │  1006.2        1794-09\n",
      "   2 │ 10160.9        1794-10\n",
      "   3 │     3.74       1794-11\n",
      "   4 │     1.73934e5  post-1795\n",
      "   5 │   351.48       missing info"
     ]
    },
    {
     "name": "stdout",
     "output_type": "stream",
     "text": [
      "\n",
      "ny\n",
      "\u001b[1m5×2 DataFrame\u001b[0m\n",
      "\u001b[1m Row \u001b[0m│\u001b[1m total_amt     \u001b[0m\u001b[1m year_month   \u001b[0m\n",
      "     │\u001b[90m Float64       \u001b[0m\u001b[90m String       \u001b[0m\n",
      "─────┼─────────────────────────────\n",
      "   1 │ 40031.3        1794-09\n",
      "   2 │ 47256.6        1794-10\n",
      "   3 │  1495.89       1794-12\n",
      "   4 │     1.70848e5  post-1795\n",
      "   5 │  3351.63       missing info"
     ]
    },
    {
     "name": "stdout",
     "output_type": "stream",
     "text": [
      "\n"
     ]
    },
    {
     "name": "stdout",
     "output_type": "stream",
     "text": [
      "pa\n",
      "\u001b[1m5×2 DataFrame\u001b[0m\n",
      "\u001b[1m Row \u001b[0m│\u001b[1m total_amt \u001b[0m\u001b[1m year_month   \u001b[0m\n",
      "     │\u001b[90m Float64   \u001b[0m\u001b[90m String       \u001b[0m\n",
      "─────┼─────────────────────────\n",
      "   1 │    990.5   1792-12\n",
      "   2 │    584.98  1793-01\n",
      "   3 │  15698.8   1793-02\n",
      "   4 │      0.0   post-1795\n",
      "   5 │  76527.9   missing info"
     ]
    },
    {
     "name": "stdout",
     "output_type": "stream",
     "text": [
      "\n"
     ]
    },
    {
     "name": "stdout",
     "output_type": "stream",
     "text": [
      "ri\n",
      "\u001b[1m5×2 DataFrame\u001b[0m\n",
      "\u001b[1m Row \u001b[0m│\u001b[1m total_amt \u001b[0m\u001b[1m year_month   \u001b[0m\n",
      "     │\u001b[90m Float64   \u001b[0m\u001b[90m String       \u001b[0m\n",
      "─────┼─────────────────────────\n",
      "   1 │    213.94  1794-09\n",
      "   2 │  59922.2   1794-11\n",
      "   3 │      9.51  1794-12\n",
      "   4 │      0.0   post-1795\n",
      "   5 │  20673.4   missing info\n",
      "sc\n",
      "\u001b[1m5×2 DataFrame\u001b[0m\n",
      "\u001b[1m Row \u001b[0m│\u001b[1m total_amt     \u001b[0m\u001b[1m year_month   \u001b[0m\n",
      "     │\u001b[90m Float64       \u001b[0m\u001b[90m String       \u001b[0m\n",
      "─────┼─────────────────────────────\n",
      "   1 │   363.98       1794-04\n",
      "   2 │     2.41984e5  1794-10\n",
      "   3 │  6417.45       1794-11\n",
      "   4 │ 17033.8        post-1795\n",
      "   5 │ 19148.7        missing info\n"
     ]
    },
    {
     "name": "stdout",
     "output_type": "stream",
     "text": [
      "va\n",
      "\u001b[1m5×2 DataFrame\u001b[0m\n",
      "\u001b[1m Row \u001b[0m│\u001b[1m total_amt \u001b[0m\u001b[1m year_month   \u001b[0m\n",
      "     │\u001b[90m Float64   \u001b[0m\u001b[90m String       \u001b[0m\n",
      "─────┼─────────────────────────\n",
      "   1 │   1349.76  1794-08\n",
      "   2 │    464.12  1794-11\n",
      "   3 │    226.83  1794-12\n",
      "   4 │   7691.96  post-1795\n",
      "   5 │  40353.0   missing info\n"
     ]
    }
   ],
   "source": [
    "# import cd_info \n",
    "cd_info = DataFrame(CSV.File(\"data/cd_info.csv\"))\n",
    "# store total amount and years of all states in a new dataframe \n",
    "all_states = DataFrame([[], []], [:year_month, :total_amt])\n",
    "\n",
    "# loop through cd_info per state \n",
    "for i in 1:nrow(cd_info)\n",
    "    state_df = DataFrame() # create new dataframe for each state\n",
    "    state_row = cd_info[i, :]\n",
    "    state_excel = XLSX.readxlsx(state_row[:file_path])\n",
    "    state_sheet = state_excel[\"Sheet1\"]\n",
    "    \n",
    "    # get year columns --> merge years columns into one column \n",
    "    year_col_indexes = split(state_row[:year_col], \",\")\n",
    "    for year_col_index in year_col_indexes\n",
    "        year_col_range = year_col_index*string(state_row[:first_row])*\":\"*year_col_index*string(state_row[:last_row])\n",
    "        year_col = state_sheet[year_col_range]\n",
    "        \n",
    "        if nrow(state_df) == 0 # if state_df is empty, create year column \n",
    "            state_df.year = vec(year_col)\n",
    "        else \n",
    "            state_df.year .= coalesce(state_df.year, vec(year_col)) # append year col to state dataframe\n",
    "        end \n",
    "    end\n",
    "    \n",
    "    # get month columns --> merge month columns into one column\n",
    "    month_col_indexes = split(state_row[:month_col], \",\")\n",
    "    for month_col_index in month_col_indexes\n",
    "        month_col_range = month_col_index*string(state_row[:first_row])*\":\"*month_col_index*string(state_row[:last_row])\n",
    "        month_col = state_sheet[month_col_range]\n",
    "\n",
    "        if !(\"month\" in names(state_df)) \n",
    "            state_df.month = vec(month_col)\n",
    "        else\n",
    "            state_df.month .= coalesce(state_df.month, vec(month_col)) # append month col to state dataframe\n",
    "        end \n",
    "    end\n",
    "    \n",
    "    # add dollar amount column to states dataframe \n",
    "    dollar_indexes = split(state_row[:dollars_col], \",\") \n",
    "    for dollar_index in dollar_indexes\n",
    "        dollar_col_range = dollar_index*string(state_row[:first_row])*\":\"*dollar_index*string(state_row[:last_row])\n",
    "        dollar_col = state_sheet[dollar_col_range]\n",
    "        state_df.dollars = vec(dollar_col)\n",
    "    end\n",
    "\n",
    "    # add cents amount column to states dataframe \n",
    "    if !ismissing(state_row[:cents_col]) # handle excel spreadsheets with no cents column \n",
    "        cents_indexes = split(state_row[:cents_col], \",\")\n",
    "        for cents_index in cents_indexes\n",
    "            cents_col_range = cents_index*string(state_row[:first_row])*\":\"*cents_index*string(state_row[:last_row])\n",
    "            cents_col = state_sheet[cents_col_range]\n",
    "            state_df.cents = vec(cents_col) ./ 100 # convert cents to decimal\n",
    "        end \n",
    "    else \n",
    "        state_df.cents = zeros(nrow(state_df)) # create column of zeros to allow for summing\n",
    "    end\n",
    "\n",
    "    state_df = clean_df(state_df) # clean dataframe to removeq missing values from :dollars and :cents columns\n",
    "    missing_info_sum = handle_missing_info(state_df) # get total value of rows with missing info \n",
    "    dropmissing!(state_df, [:year, :month]) # drop rows with missing values in year, month columns\n",
    "\n",
    "    state_df.year = string.(state_df.year)\n",
    "    state_df.month = string.(state_df.month)\n",
    "\n",
    "    # add state label \n",
    "    state_df.state = fill(state_row[:state], nrow(state_df))\n",
    "\n",
    "    state_df_clean = clean_df(state_df) # clean table to remove missing values\n",
    "    state_gdf = group_by_year_month(state_df_clean) # group by year and month and sum debt \n",
    "\n",
    "    # create new column that merges year and month \n",
    "    state_gdf.year_month = string.(state_gdf[:, :year], \"-\", state_gdf[:, :month])\n",
    "\n",
    "    # convert year_month column to datetime object \n",
    "    state_gdf.year_month = DateTime.(state_gdf.year_month, DateFormat(\"yyyy-mm\"))\n",
    "    sort!(state_gdf, :year_month) # sort by year_month column   \n",
    "\n",
    "    # remove year and month columns \n",
    "    select!(state_gdf, Not([:year, :month]))\n",
    "\n",
    "    all_states = vcat(all_states, state_gdf) # append state dataframe to all_states dataframe\n",
    "\n",
    "    state_gdf = group_post1795(state_gdf) # filter out years before 1795\n",
    "    push!(state_gdf, [missing_info_sum, \"missing info\"], promote=true) # add total debt redeemed with missing info to dataframe\n",
    "\n",
    "    plot_debt(state_gdf, state_row[:state], \"year_month\") # plot debt redeemed per year saved as svg\n",
    "    #plot_debt(state_gdf, state_row[:state], \"year\") # plot debt redeemed per year saved as svg\n",
    "\n",
    "    println(last(state_gdf, 5)) \n",
    "end \n"
   ]
  },
  {
   "cell_type": "code",
   "execution_count": 8,
   "metadata": {},
   "outputs": [
    {
     "data": {
      "text/html": [
       "<div><div style = \"float: left;\"><span>54×2 DataFrame</span></div><div style = \"float: right;\"><span style = \"font-style: italic;\">29 rows omitted</span></div><div style = \"clear: both;\"></div></div><div class = \"data-frame\" style = \"overflow-x: scroll;\"><table class = \"data-frame\" style = \"margin-bottom: 6px;\"><thead><tr class = \"header\"><th class = \"rowNumber\" style = \"font-weight: bold; text-align: right;\">Row</th><th style = \"text-align: left;\">total_amt</th><th style = \"text-align: left;\">year_month</th></tr><tr class = \"subheader headerLastRow\"><th class = \"rowNumber\" style = \"font-weight: bold; text-align: right;\"></th><th title = \"Float64\" style = \"text-align: left;\">Float64</th><th title = \"String\" style = \"text-align: left;\">String</th></tr></thead><tbody><tr><td class = \"rowNumber\" style = \"font-weight: bold; text-align: right;\">1</td><td style = \"text-align: right;\">19429.3</td><td style = \"text-align: left;\">1790-01</td></tr><tr><td class = \"rowNumber\" style = \"font-weight: bold; text-align: right;\">2</td><td style = \"text-align: right;\">0.0</td><td style = \"text-align: left;\">1790-09</td></tr><tr><td class = \"rowNumber\" style = \"font-weight: bold; text-align: right;\">3</td><td style = \"text-align: right;\">4.90071e5</td><td style = \"text-align: left;\">1790-10</td></tr><tr><td class = \"rowNumber\" style = \"font-weight: bold; text-align: right;\">4</td><td style = \"text-align: right;\">2.82428e5</td><td style = \"text-align: left;\">1790-11</td></tr><tr><td class = \"rowNumber\" style = \"font-weight: bold; text-align: right;\">5</td><td style = \"text-align: right;\">3.28619e5</td><td style = \"text-align: left;\">1790-12</td></tr><tr><td class = \"rowNumber\" style = \"font-weight: bold; text-align: right;\">6</td><td style = \"text-align: right;\">301538.0</td><td style = \"text-align: left;\">1791-01</td></tr><tr><td class = \"rowNumber\" style = \"font-weight: bold; text-align: right;\">7</td><td style = \"text-align: right;\">3.67543e5</td><td style = \"text-align: left;\">1791-02</td></tr><tr><td class = \"rowNumber\" style = \"font-weight: bold; text-align: right;\">8</td><td style = \"text-align: right;\">7.1012e5</td><td style = \"text-align: left;\">1791-03</td></tr><tr><td class = \"rowNumber\" style = \"font-weight: bold; text-align: right;\">9</td><td style = \"text-align: right;\">5.0777e5</td><td style = \"text-align: left;\">1791-04</td></tr><tr><td class = \"rowNumber\" style = \"font-weight: bold; text-align: right;\">10</td><td style = \"text-align: right;\">3.95622e5</td><td style = \"text-align: left;\">1791-05</td></tr><tr><td class = \"rowNumber\" style = \"font-weight: bold; text-align: right;\">11</td><td style = \"text-align: right;\">3.33485e5</td><td style = \"text-align: left;\">1791-06</td></tr><tr><td class = \"rowNumber\" style = \"font-weight: bold; text-align: right;\">12</td><td style = \"text-align: right;\">4.62838e5</td><td style = \"text-align: left;\">1791-07</td></tr><tr><td class = \"rowNumber\" style = \"font-weight: bold; text-align: right;\">13</td><td style = \"text-align: right;\">4.33595e5</td><td style = \"text-align: left;\">1791-08</td></tr><tr><td style = \"text-align: right;\">&vellip;</td><td style = \"text-align: right;\">&vellip;</td><td style = \"text-align: right;\">&vellip;</td></tr><tr><td class = \"rowNumber\" style = \"font-weight: bold; text-align: right;\">43</td><td style = \"text-align: right;\">18313.7</td><td style = \"text-align: left;\">1794-02</td></tr><tr><td class = \"rowNumber\" style = \"font-weight: bold; text-align: right;\">44</td><td style = \"text-align: right;\">1.06089e5</td><td style = \"text-align: left;\">1794-03</td></tr><tr><td class = \"rowNumber\" style = \"font-weight: bold; text-align: right;\">45</td><td style = \"text-align: right;\">11473.4</td><td style = \"text-align: left;\">1794-04</td></tr><tr><td class = \"rowNumber\" style = \"font-weight: bold; text-align: right;\">46</td><td style = \"text-align: right;\">11312.0</td><td style = \"text-align: left;\">1794-05</td></tr><tr><td class = \"rowNumber\" style = \"font-weight: bold; text-align: right;\">47</td><td style = \"text-align: right;\">20806.1</td><td style = \"text-align: left;\">1794-06</td></tr><tr><td class = \"rowNumber\" style = \"font-weight: bold; text-align: right;\">48</td><td style = \"text-align: right;\">17742.8</td><td style = \"text-align: left;\">1794-07</td></tr><tr><td class = \"rowNumber\" style = \"font-weight: bold; text-align: right;\">49</td><td style = \"text-align: right;\">6230.71</td><td style = \"text-align: left;\">1794-08</td></tr><tr><td class = \"rowNumber\" style = \"font-weight: bold; text-align: right;\">50</td><td style = \"text-align: right;\">41303.3</td><td style = \"text-align: left;\">1794-09</td></tr><tr><td class = \"rowNumber\" style = \"font-weight: bold; text-align: right;\">51</td><td style = \"text-align: right;\">2.99868e5</td><td style = \"text-align: left;\">1794-10</td></tr><tr><td class = \"rowNumber\" style = \"font-weight: bold; text-align: right;\">52</td><td style = \"text-align: right;\">2.14681e5</td><td style = \"text-align: left;\">1794-11</td></tr><tr><td class = \"rowNumber\" style = \"font-weight: bold; text-align: right;\">53</td><td style = \"text-align: right;\">1862.23</td><td style = \"text-align: left;\">1794-12</td></tr><tr><td class = \"rowNumber\" style = \"font-weight: bold; text-align: right;\">54</td><td style = \"text-align: right;\">3.71292e5</td><td style = \"text-align: left;\">post-1795</td></tr></tbody></table></div>"
      ],
      "text/latex": [
       "\\begin{tabular}{r|cc}\n",
       "\t& total\\_amt & year\\_month\\\\\n",
       "\t\\hline\n",
       "\t& Float64 & String\\\\\n",
       "\t\\hline\n",
       "\t1 & 19429.3 & 1790-01 \\\\\n",
       "\t2 & 0.0 & 1790-09 \\\\\n",
       "\t3 & 4.90071e5 & 1790-10 \\\\\n",
       "\t4 & 2.82428e5 & 1790-11 \\\\\n",
       "\t5 & 3.28619e5 & 1790-12 \\\\\n",
       "\t6 & 301538.0 & 1791-01 \\\\\n",
       "\t7 & 3.67543e5 & 1791-02 \\\\\n",
       "\t8 & 7.1012e5 & 1791-03 \\\\\n",
       "\t9 & 5.0777e5 & 1791-04 \\\\\n",
       "\t10 & 3.95622e5 & 1791-05 \\\\\n",
       "\t11 & 3.33485e5 & 1791-06 \\\\\n",
       "\t12 & 4.62838e5 & 1791-07 \\\\\n",
       "\t13 & 4.33595e5 & 1791-08 \\\\\n",
       "\t14 & 7.37389e5 & 1791-09 \\\\\n",
       "\t15 & 1.66827e5 & 1791-10 \\\\\n",
       "\t16 & 3.48057e5 & 1791-11 \\\\\n",
       "\t17 & 4.81219e5 & 1791-12 \\\\\n",
       "\t18 & 82971.1 & 1792-01 \\\\\n",
       "\t19 & 1.47449e5 & 1792-02 \\\\\n",
       "\t20 & 44351.5 & 1792-03 \\\\\n",
       "\t21 & 30157.7 & 1792-04 \\\\\n",
       "\t22 & 113256.0 & 1792-05 \\\\\n",
       "\t23 & 132009.0 & 1792-06 \\\\\n",
       "\t24 & 1.05467e5 & 1792-07 \\\\\n",
       "\t$\\dots$ & $\\dots$ & $\\dots$ \\\\\n",
       "\\end{tabular}\n"
      ],
      "text/plain": [
       "\u001b[1m54×2 DataFrame\u001b[0m\n",
       "\u001b[1m Row \u001b[0m│\u001b[1m total_amt      \u001b[0m\u001b[1m year_month \u001b[0m\n",
       "     │\u001b[90m Float64        \u001b[0m\u001b[90m String     \u001b[0m\n",
       "─────┼────────────────────────────\n",
       "   1 │  19429.3        1790-01\n",
       "   2 │      0.0        1790-09\n",
       "   3 │      4.90071e5  1790-10\n",
       "   4 │      2.82428e5  1790-11\n",
       "   5 │      3.28619e5  1790-12\n",
       "   6 │ 301538.0        1791-01\n",
       "   7 │      3.67543e5  1791-02\n",
       "   8 │      7.1012e5   1791-03\n",
       "  ⋮  │       ⋮             ⋮\n",
       "  48 │  17742.8        1794-07\n",
       "  49 │   6230.71       1794-08\n",
       "  50 │  41303.3        1794-09\n",
       "  51 │      2.99868e5  1794-10\n",
       "  52 │      2.14681e5  1794-11\n",
       "  53 │   1862.23       1794-12\n",
       "  54 │      3.71292e5  post-1795\n",
       "\u001b[36m                   39 rows omitted\u001b[0m"
      ]
     },
     "metadata": {},
     "output_type": "display_data"
    }
   ],
   "source": [
    "# plot united states \n",
    "all_states = @by(all_states, :year_month, :total_amt = sum(:total_amt)) # group by year and month and sum debt\n",
    "all_states = all_states[!, [:total_amt, :year_month]] # swap columns\n",
    "sort!(all_states, :year_month) # sort by year_month column\n",
    "all_states = group_post1795(all_states) # filter out years before 1795"
   ]
  },
  {
   "cell_type": "markdown",
   "metadata": {},
   "source": [
    "<h1>Pre-1790</h1>"
   ]
  },
  {
   "cell_type": "code",
   "execution_count": 9,
   "metadata": {},
   "outputs": [
    {
     "data": {
      "text/html": [
       "<div><div style = \"float: left;\"><span>14×2 DataFrame</span></div><div style = \"clear: both;\"></div></div><div class = \"data-frame\" style = \"overflow-x: scroll;\"><table class = \"data-frame\" style = \"margin-bottom: 6px;\"><thead><tr class = \"header\"><th class = \"rowNumber\" style = \"font-weight: bold; text-align: right;\">Row</th><th style = \"text-align: left;\">year</th><th style = \"text-align: left;\">total_amt</th></tr><tr class = \"subheader headerLastRow\"><th class = \"rowNumber\" style = \"font-weight: bold; text-align: right;\"></th><th title = \"String\" style = \"text-align: left;\">String</th><th title = \"Float64\" style = \"text-align: left;\">Float64</th></tr></thead><tbody><tr><td class = \"rowNumber\" style = \"font-weight: bold; text-align: right;\">1</td><td style = \"text-align: left;\">1776</td><td style = \"text-align: right;\">51300.0</td></tr><tr><td class = \"rowNumber\" style = \"font-weight: bold; text-align: right;\">2</td><td style = \"text-align: left;\">1777</td><td style = \"text-align: right;\">4.9459e6</td></tr><tr><td class = \"rowNumber\" style = \"font-weight: bold; text-align: right;\">3</td><td style = \"text-align: left;\">1778</td><td style = \"text-align: right;\">8.1022e6</td></tr><tr><td class = \"rowNumber\" style = \"font-weight: bold; text-align: right;\">4</td><td style = \"text-align: left;\">1779</td><td style = \"text-align: right;\">2.81939e7</td></tr><tr><td class = \"rowNumber\" style = \"font-weight: bold; text-align: right;\">5</td><td style = \"text-align: left;\">1780</td><td style = \"text-align: right;\">1.4315e7</td></tr><tr><td class = \"rowNumber\" style = \"font-weight: bold; text-align: right;\">6</td><td style = \"text-align: left;\">1781</td><td style = \"text-align: right;\">2.1771e6</td></tr><tr><td class = \"rowNumber\" style = \"font-weight: bold; text-align: right;\">7</td><td style = \"text-align: left;\">1783</td><td style = \"text-align: right;\">1.04227e5</td></tr><tr><td class = \"rowNumber\" style = \"font-weight: bold; text-align: right;\">8</td><td style = \"text-align: left;\">1784</td><td style = \"text-align: right;\">1.06626e6</td></tr><tr><td class = \"rowNumber\" style = \"font-weight: bold; text-align: right;\">9</td><td style = \"text-align: left;\">1785</td><td style = \"text-align: right;\">1.53478e6</td></tr><tr><td class = \"rowNumber\" style = \"font-weight: bold; text-align: right;\">10</td><td style = \"text-align: left;\">1786</td><td style = \"text-align: right;\">1.02251e6</td></tr><tr><td class = \"rowNumber\" style = \"font-weight: bold; text-align: right;\">11</td><td style = \"text-align: left;\">1787</td><td style = \"text-align: right;\">1.71975e5</td></tr><tr><td class = \"rowNumber\" style = \"font-weight: bold; text-align: right;\">12</td><td style = \"text-align: left;\">1788</td><td style = \"text-align: right;\">62778.3</td></tr><tr><td class = \"rowNumber\" style = \"font-weight: bold; text-align: right;\">13</td><td style = \"text-align: left;\">1789</td><td style = \"text-align: right;\">17804.2</td></tr><tr><td class = \"rowNumber\" style = \"font-weight: bold; text-align: right;\">14</td><td style = \"text-align: left;\">no year</td><td style = \"text-align: right;\">1.22731e7</td></tr></tbody></table></div>"
      ],
      "text/latex": [
       "\\begin{tabular}{r|cc}\n",
       "\t& year & total\\_amt\\\\\n",
       "\t\\hline\n",
       "\t& String & Float64\\\\\n",
       "\t\\hline\n",
       "\t1 & 1776 & 51300.0 \\\\\n",
       "\t2 & 1777 & 4.9459e6 \\\\\n",
       "\t3 & 1778 & 8.1022e6 \\\\\n",
       "\t4 & 1779 & 2.81939e7 \\\\\n",
       "\t5 & 1780 & 1.4315e7 \\\\\n",
       "\t6 & 1781 & 2.1771e6 \\\\\n",
       "\t7 & 1783 & 1.04227e5 \\\\\n",
       "\t8 & 1784 & 1.06626e6 \\\\\n",
       "\t9 & 1785 & 1.53478e6 \\\\\n",
       "\t10 & 1786 & 1.02251e6 \\\\\n",
       "\t11 & 1787 & 1.71975e5 \\\\\n",
       "\t12 & 1788 & 62778.3 \\\\\n",
       "\t13 & 1789 & 17804.2 \\\\\n",
       "\t14 & no year & 1.22731e7 \\\\\n",
       "\\end{tabular}\n"
      ],
      "text/plain": [
       "\u001b[1m14×2 DataFrame\u001b[0m\n",
       "\u001b[1m Row \u001b[0m│\u001b[1m year    \u001b[0m\u001b[1m total_amt     \u001b[0m\n",
       "     │\u001b[90m String  \u001b[0m\u001b[90m Float64       \u001b[0m\n",
       "─────┼────────────────────────\n",
       "   1 │ 1776     51300.0\n",
       "   2 │ 1777         4.9459e6\n",
       "   3 │ 1778         8.1022e6\n",
       "   4 │ 1779         2.81939e7\n",
       "   5 │ 1780         1.4315e7\n",
       "   6 │ 1781         2.1771e6\n",
       "   7 │ 1783         1.04227e5\n",
       "   8 │ 1784         1.06626e6\n",
       "   9 │ 1785         1.53478e6\n",
       "  10 │ 1786         1.02251e6\n",
       "  11 │ 1787         1.71975e5\n",
       "  12 │ 1788     62778.3\n",
       "  13 │ 1789     17804.2\n",
       "  14 │ no year      1.22731e7"
      ]
     },
     "metadata": {},
     "output_type": "display_data"
    }
   ],
   "source": [
    "# import pre-1790 debt data \n",
    "# get unique dates \n",
    "# group by year - sum debt \n",
    "# plot debt redeemed per year saved as svg \n",
    "\n",
    "pre1790 = DataFrame(CSV.File(\"../data/agg_debt_grouped.csv\"))\n",
    "pre1790.year = pre1790[:, \"date of the certificate | year\"]\n",
    "\n",
    "# fix cents column in agg_debt_grouped.csv \n",
    "pre1790[:, \"amount | 90th\"] = getindex.(split.(pre1790[:, \"amount | 90th\"], \".\"), 1)\n",
    "pre1790[:, \"amount | 90th\"] = replace.(pre1790[:, \"amount | 90th\"], \"/\" => \"\")\n",
    "pre1790.cents = parse.(Float64, pre1790[:, \"amount | 90th\"]) ./ 100\n",
    "\n",
    "pre1790.total_amt = pre1790[:, \"amount | dollars\"] + pre1790[:, \"cents\"]\n",
    "pre1790.dollars = pre1790[:, \"amount | dollars\"]\n",
    "\n",
    "pre1790.cents = ifelse.(pre1790.cents .>= 100, 0, pre1790.cents)\n",
    "\n",
    "#clean \n",
    "pre1790_clean = clean_df(pre1790)\n",
    "\n",
    "#group by year and sum \n",
    "pre1790_clean.year = coalesce.(pre1790_clean.year, 0)\n",
    "pre1790_clean.year = Int.(pre1790_clean.year)\n",
    "pre1790_clean.year = string.(pre1790_clean.year)\n",
    "pre1790_gdf = group_by_year(pre1790_clean)\n",
    "pre1790_gdf[1, \"year\"] = \"no year\"\n",
    "sort!(pre1790_gdf)"
   ]
  },
  {
   "cell_type": "code",
   "execution_count": 10,
   "metadata": {},
   "outputs": [
    {
     "data": {
      "text/plain": [
       "14-element Vector{Float64}:\n",
       "  0.0513\n",
       "  4.9459\n",
       "  8.1022\n",
       " 28.193929\n",
       " 14.315\n",
       "  2.1771\n",
       "  0.10422725999999999\n",
       "  1.06626137\n",
       "  1.53478178\n",
       "  1.022512745\n",
       "  0.17197539\n",
       "  0.06277835\n",
       "  0.017804189999999998\n",
       " 12.273124663332927"
      ]
     },
     "metadata": {},
     "output_type": "display_data"
    }
   ],
   "source": [
    "pre1790_gdf.total_amt = pre1790_gdf.total_amt ./ 1e6 # convert to millions"
   ]
  },
  {
   "cell_type": "code",
   "execution_count": 15,
   "metadata": {},
   "outputs": [
    {
     "data": {
      "text/plain": [
       "\"c:\\\\Users\\\\david\\\\OneDrive\\\\Documents\\\\SPEOC-pt-1\\\\cleaning_CD\\\\pre1790\\\\analysis\\\\results\\\\debt_per_year\\\\pre1790_debt_certificate_amts_per_year.svg\""
      ]
     },
     "metadata": {},
     "output_type": "display_data"
    }
   ],
   "source": [
    "#plot \n",
    "p_bar = bar(pre1790_gdf.year, pre1790_gdf.total_amt, \n",
    "    title = \"Debt Certificate Total Per Year\",\n",
    "    xlabel = \"Year\",\n",
    "    ylabel = \"Amount (in million dollars)\",\n",
    "    legend = false,\n",
    "    background_color = \"white\",\n",
    "    yaxis=[0, 30],\n",
    "    top_margin=5mm,\n",
    ")\n",
    "\n",
    "# round to 2 decimal places\n",
    "pre1790_gdf.total_amt = round.(pre1790_gdf.total_amt, digits=2)\n",
    "annotate!(pre1790_gdf.year, pre1790_gdf.total_amt, pre1790_gdf.total_amt, annotationfontsizes=8, annotationvalign=:bottom)\n",
    "\n",
    "savefig(p_bar, \"results/debt_per_year/pre1790_debt_certificate_amts_per_year.svg\")"
   ]
  },
  {
   "cell_type": "code",
   "execution_count": 16,
   "metadata": {},
   "outputs": [
    {
     "data": {
      "text/plain": [
       "\"c:\\\\Users\\\\david\\\\OneDrive\\\\Documents\\\\SPEOC-pt-1\\\\cleaning_CD\\\\pre1790\\\\analysis\\\\results\\\\debt_per_year\\\\pre1790_debt_certificate_percent_per_year.svg\""
      ]
     },
     "metadata": {},
     "output_type": "display_data"
    }
   ],
   "source": [
    "#plot \n",
    "total_amt = sum(pre1790_gdf.total_amt)\n",
    "pre1790_gdf.percent = pre1790_gdf.total_amt ./ total_amt\n",
    "\n",
    "p_bar = bar(pre1790_gdf.year, pre1790_gdf.percent, \n",
    "    title = \"Percent of Debt Certificate Total Per Year\",\n",
    "    xlabel = \"Year\",\n",
    "    ylabel = \"Amount (Percentage of Total)\",\n",
    "    legend = false,\n",
    "    background_color = \"white\",\n",
    "    yaxis=[0, 0.5],\n",
    "    top_margin=5mm\n",
    ")\n",
    "\n",
    "# round to 2 decimal places\n",
    "pre1790_gdf.percent = round.(pre1790_gdf.percent, digits=2)\n",
    "annotate!(pre1790_gdf.year, pre1790_gdf.percent, pre1790_gdf.percent, annotationfontsizes=8, annotationvalign=:bottom)\n",
    "\n",
    "savefig(p_bar, \"results/debt_per_year/pre1790_debt_certificate_percent_per_year.svg\")"
   ]
  }
 ],
 "metadata": {
  "kernelspec": {
   "display_name": "Julia 1.9.4",
   "language": "julia",
   "name": "julia-1.9"
  },
  "language_info": {
   "file_extension": ".jl",
   "mimetype": "application/julia",
   "name": "julia",
   "version": "1.9.4"
  }
 },
 "nbformat": 4,
 "nbformat_minor": 2
}
