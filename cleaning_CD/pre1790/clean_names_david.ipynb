{
 "cells": [
  {
   "cell_type": "markdown",
   "id": "239af09c",
   "metadata": {},
   "source": [
    "# Cleaning Names"
   ]
  },
  {
   "cell_type": "markdown",
   "id": "5c41e041",
   "metadata": {},
   "source": [
    "The purpose of this notebook is to clean the names of individuals. All the problems that we aim to fix in this notebook are listed [here](https://docs.google.com/document/d/1pcSQfWNll6K9tl-_rB4lztN0TsZsclU9vOnbyQob-Zs/edit)."
   ]
  },
  {
   "cell_type": "markdown",
   "id": "798c3c47",
   "metadata": {},
   "source": [
    "## Cleaning Table Columns"
   ]
  },
  {
   "cell_type": "markdown",
   "id": "b68b5559",
   "metadata": {},
   "source": [
    "Not all tables share the same columns. Therefore, its important to take time to clean these columns. We do this by standardizing the names of columns across all the debt tables. Next, we add a state column to each table. This column will be useful when we merge all these tables together at the end."
   ]
  },
  {
   "cell_type": "code",
   "execution_count": null,
   "id": "140ce0dc",
   "metadata": {},
   "outputs": [],
   "source": [
    "# import all the necessary packages\n",
    "import pandas as pd \n",
    "import numpy as np\n",
    "import nltk\n",
    "import re\n",
    "from nameparser import HumanName"
   ]
  },
  {
   "cell_type": "code",
   "execution_count": null,
   "id": "c80f8a18",
   "metadata": {},
   "outputs": [],
   "source": [
    "nltk.download('punkt')\n",
    "nltk.download('averaged_perceptron_tagger')\n",
    "nltk.download('maxent_ne_chunker')\n",
    "nltk.download('words')"
   ]
  },
  {
   "cell_type": "code",
   "execution_count": null,
   "id": "83295ba7",
   "metadata": {},
   "outputs": [],
   "source": [
    "from nltk import ne_chunk, pos_tag, word_tokenize\n",
    "from nltk.tree import Tree"
   ]
  },
  {
   "cell_type": "code",
   "execution_count": null,
   "id": "0fa02a0a",
   "metadata": {},
   "outputs": [],
   "source": [
    "def clean_table(table, drp_cols):\n",
    "    table.drop(columns=drp_cols, inplace=True, axis=1)\n",
    "    table.columns = table.columns.to_flat_index() \n",
    "    table.rename(columns=lambda x: x[0].lower() + ' | ' + x[1].lower(), inplace=True) # lowercase column titles\n",
    "    table.rename(columns={'state | ' : 'state'}, inplace=True)\n",
    "    return table"
   ]
  },
  {
   "cell_type": "code",
   "execution_count": null,
   "id": "02c14344",
   "metadata": {
    "scrolled": false
   },
   "outputs": [],
   "source": [
    "# handle the liquidated debt certificates first for each file and merge into 1 dataframe\n",
    "ct_debt = pd.read_excel(\"../../data_raw/pre1790/liquidated_debt_certificates_CT.xlsx\", header=[10,11])\n",
    "de_debt = pd.read_excel(\"../../data_raw/pre1790/liquidated_debt_certificates_DE.xlsx\", header=[9,10])\n",
    "ma_debt = pd.read_excel(\"../../data_raw/pre1790/liquidated_debt_certificates_MA.xlsx\", header=[10,11])\n",
    "nh_debt = pd.read_excel(\"../../data_raw/pre1790/liquidated_debt_certificates_NH.xlsx\", header=[10,11])\n",
    "nj_debt = pd.read_excel(\"../../data_raw/pre1790/liquidated_debt_certificates_NJ.xlsx\", header=[9,10])\n",
    "ny_debt = pd.read_excel(\"../../data_raw/pre1790/liquidated_debt_certificates_NY.xlsx\", header=[10,11])\n",
    "pa_stelle_debt = pd.read_excel(\"../../data_raw/pre1790/liquidated_debt_certificates_PA_stelle.xlsx\", header=[10,11])\n",
    "pa_story_debt = pd.read_excel(\"../../data_raw/pre1790/liquidated_debt_certificates_PA_story.xlsx\", header=[10,11])\n",
    "ri_debt = pd.read_excel(\"../../data_raw/pre1790/liquidated_debt_certificates_RI.xlsx\", header=[10,11])\n",
    "\n",
    "# add a state column to each dataframe\n",
    "ct_debt['state'] = 'ct'\n",
    "de_debt['state'] = 'de'\n",
    "ma_debt['state'] = 'ma'\n",
    "nh_debt['state'] = 'nh'\n",
    "nj_debt['state'] = 'nj'\n",
    "ny_debt['state'] = 'ny'\n",
    "pa_stelle_debt['state'] = 'pa'\n",
    "pa_story_debt['state'] = 'pa'\n",
    "ri_debt['state'] = 'ri'\n",
    "\n",
    "ny_drp_cols = ['Page', 'JPEG number', 'Number', 'Letter', 'Line Strike Through?']\n",
    "ny_debt = clean_table(ny_debt, ny_drp_cols)\n",
    "ct_drp_cols = ['Register Page', 'JPEG number', 'Number', 'Letter', 'Line Strike Thorugh?']\n",
    "ct_debt = clean_table(ct_debt, ct_drp_cols)\n",
    "de_drp_cols = ['Unnamed: 0_level_0', 'Unnamed: 1_level_0', 'Unnamed: 2_level_0', ('Amount', 'Strike Through'),\n",
    "            ('Amount', 'Note')]\n",
    "de_debt = clean_table(de_debt, de_drp_cols)\n",
    "ma_drp_cols = ['Unnamed: 0_level_0', 'Unnamed: 1_level_0', 'Unnamed: 2_level_0', 'Unnamed: 3_level_0', \n",
    "               ('Time when the Debt\\nbecame due', 'Line Strike Thorugh?'),\n",
    "               ('Time when the Debt\\nbecame due', 'Note'),\n",
    "               ('Time when the Debt\\nbecame due', 'Note.1')]\n",
    "ma_debt = clean_table(ma_debt, ma_drp_cols)\n",
    "ma_debt.rename(columns={'to whome due | first name':'to whom due | first name'}, inplace=True)\n",
    "nj_drp_cols = ['Unnamed: 0_level_0', 'Unnamed: 1_level_0', 'Unnamed: 2_level_0', ('Time when the debt became Due', 'Strike Through Number'),\n",
    "            ('Time when the debt became Due', 'Note'),\n",
    "            ('Time when the debt became Due', 'Note.1')]\n",
    "nj_debt = clean_table(nj_debt, nj_drp_cols)\n",
    "nj_debt.rename(columns={'date of the certificate | title':'to whom due | title', 'date of the certificate | first name':'to whom due | first name',\n",
    "                    'date of the certificate | last name':'to whom due | last name', 'date of the certificate | title.1':'to whom due | title.1'}, \n",
    "               inplace=True)\n",
    "pa_stelle_drp = ['Register Page', 'JPEG number', 'No.', 'Letter', 'Line Strike Through?']\n",
    "pa_stelle_debt = clean_table(pa_stelle_debt, pa_stelle_drp)"
   ]
  },
  {
   "cell_type": "code",
   "execution_count": null,
   "id": "ea50a4dc",
   "metadata": {},
   "outputs": [],
   "source": [
    "print(nj_debt.columns)"
   ]
  },
  {
   "cell_type": "code",
   "execution_count": null,
   "id": "efe4ba6a",
   "metadata": {},
   "outputs": [],
   "source": [
    "print(ny_debt.dtypes)"
   ]
  },
  {
   "cell_type": "markdown",
   "id": "3c110b87",
   "metadata": {},
   "source": [
    "## Company Names"
   ]
  },
  {
   "cell_type": "markdown",
   "id": "f52a77aa",
   "metadata": {},
   "source": [
    "There are multiple kinds of companies. \n",
    "\n",
    "```James Vernon & Co.``` These are pretty simple to deal with. If they have '& co' or '& others' anywhere in the string of the first name column, it is most likely a company. Just take the string beforehand. "
   ]
  },
  {
   "cell_type": "code",
   "execution_count": null,
   "id": "082ee241",
   "metadata": {},
   "outputs": [],
   "source": [
    "# dictionary of manual changes i have to make \n",
    "changes = {\n",
    "    'Henry Mc Clellen & Henry & co' : 'Henry Mc Clellen & Co'\n",
    "}"
   ]
  },
  {
   "cell_type": "code",
   "execution_count": null,
   "id": "d5800aa3",
   "metadata": {},
   "outputs": [],
   "source": [
    "def handle_comp_name(row):    \n",
    "    fname = row['to whom due | first name']\n",
    "    \n",
    "    if fname in changes:\n",
    "        print(fname)\n",
    "        fname = changes[fname]\n",
    "    \n",
    "    fname_c = str(fname).lower()\n",
    "    if ('& co' in fname_c) or ('& others' in fname_c) or ('& several others' in fname_c):        \n",
    "        fname_c = fname_c.replace('& co', '').replace('& others', '')\n",
    "        name = HumanName(fname_c)\n",
    "        row['to whom due | first name'] = name.first\n",
    "        row['to whom due | last name'] = name.last\n",
    "        row['under company'] = True # note that the original debt entry was held by a company \n",
    "        print(row)\n",
    "        \n",
    "        return row\n",
    "    \n",
    "    return row\n",
    "\n",
    "ny_debt['under company'] = np.nan\n",
    "ny_debt[['to whom due | first name', 'to whom due | last name', 'under company']] = ny_debt[['to whom due | first name', \n",
    "                                                                            'to whom due | last name', 'under company']].apply(lambda row: handle_comp_name(row), axis=1)"
   ]
  },
  {
   "cell_type": "markdown",
   "id": "66551839",
   "metadata": {},
   "source": [
    "## Cleaning Entries with Two Names"
   ]
  },
  {
   "cell_type": "markdown",
   "id": "22df92c8",
   "metadata": {},
   "source": [
    "There are debt entries that have two names in a single cell: ```NY_2422: Messes Williamson & Beckman```. The plan is to split the name across the first name and last name columns.  "
   ]
  },
  {
   "cell_type": "code",
   "execution_count": null,
   "id": "4d9945d0",
   "metadata": {},
   "outputs": [],
   "source": [
    "changes = {\n",
    "    'van zandt & kittletas' : ['', 'van zandt | kittletas'],\n",
    "    'trustees of & davids church':['trustees of & davids church', '']\n",
    "}"
   ]
  },
  {
   "cell_type": "code",
   "execution_count": null,
   "id": "7edd4040",
   "metadata": {
    "scrolled": true
   },
   "outputs": [],
   "source": [
    "def handle_two_name(row):\n",
    "    name = str(row['to whom due | first name']).lower()\n",
    "    if (' & ' in name) or (' and ' in name):\n",
    "        person1 = re.split('&|and', name)[0].strip()\n",
    "        person2 = re.split('&|and', name)[1].strip()\n",
    "        human_name_1 = HumanName(person1)\n",
    "        human_name_2 = HumanName(person2)\n",
    "        \n",
    "        if name not in changes:\n",
    "            if human_name_1.first != '' and human_name_2.first != '':\n",
    "                row['to whom due | first name'] = human_name_1.first + \" | \" + human_name_2.first\n",
    "            else: \n",
    "                row['to whom due | first name'] = human_name_1.first + human_name_2.first\n",
    "\n",
    "            if human_name_1.last != '' and human_name_2.last != '':\n",
    "                row['to whom due | last name'] = human_name_1.last + \" | \" + human_name_2.last\n",
    "            else:\n",
    "                row['to whom due | last name'] = human_name_1.last + human_name_2.last\n",
    "        else:\n",
    "            row['to whom due | first name'] = changes[name][0]\n",
    "            row['to whom due | last name'] = changes[name][1]\n",
    "        \n",
    "        ny_debt['multiple persons'] = True\n",
    "            \n",
    "        print(\"old: \" + name)\n",
    "        print(\"new fn: \" + row['to whom due | first name'])\n",
    "        print(\"new ln: \" + row['to whom due | last name'] +\"\\n\")\n",
    "        \n",
    "    return row\n",
    "\n",
    "ny_debt['multiple persons'] = np.nan\n",
    "ny_debt.apply(lambda row: handle_two_name(row), axis=1)"
   ]
  },
  {
   "cell_type": "markdown",
   "id": "f552b9ae",
   "metadata": {},
   "source": [
    "## Handle Abbreviations of a Name"
   ]
  },
  {
   "cell_type": "markdown",
   "id": "50aa3adf",
   "metadata": {},
   "source": [
    "There are individuals who have a handwritten abbreviation of a name in their debt entry. Fix these names. There will be a dictionary of abbreviations. Just check if any of the debt entries are in the dictionary and change it if needed. "
   ]
  },
  {
   "cell_type": "code",
   "execution_count": null,
   "id": "07208b4f",
   "metadata": {},
   "outputs": [],
   "source": [
    "abbreviations = {\n",
    "    'And':'Andrew', 'Ant':'Anthony', 'Bart':'Bartholomew', 'Cha':'Charles', 'Dor':'Dorothy', 'Dot':'Dorothy', 'Doth':'Dorothy',\n",
    "    'Edw':'Edward', 'Eliz':'Elizabeth', 'Geo':'George', 'H':'Henry', 'Herb':'Herbert', 'Ja':'James', 'Jn':'John', 'Marg':'Margaret', \n",
    "    'Mich':'Michael', 'Pat': 'Patrick', 'Rich':'Richard', 'Tho':'Thomas', 'W':'William'\n",
    "}"
   ]
  },
  {
   "cell_type": "code",
   "execution_count": null,
   "id": "549f8070",
   "metadata": {},
   "outputs": [],
   "source": [
    "def handle_abbreviations(row):\n",
    "    fn = str(row['to whom due | first name'])\n",
    "    if fn in abbreviations:\n",
    "        row['to whom due | first name'] = abbreviations[fn]\n",
    "    \n",
    "    return row\n",
    "\n",
    "# test on new jersey dataset for now \n",
    "nj_debt.apply(lambda row: handle_abbreviations(row), axis=1)"
   ]
  },
  {
   "cell_type": "markdown",
   "id": "668cf75b",
   "metadata": {},
   "source": [
    "## Standardizing Names"
   ]
  },
  {
   "cell_type": "markdown",
   "id": "664d95d6",
   "metadata": {},
   "source": [
    "Multiple different spellings of a name can be referring to the same identity. We will use a phonetics library and Ancestry to fix this. "
   ]
  },
  {
   "cell_type": "code",
   "execution_count": null,
   "id": "2128daf2",
   "metadata": {},
   "outputs": [],
   "source": [
    "# import necessary fuzzy string libraries \n",
    "from selenium import webdriver\n",
    "from selenium.webdriver.chrome.options import Options\n",
    "from phonetics import metaphone\n",
    "from fuzzywuzzy import fuzz\n",
    "from jellyfish import soundex"
   ]
  },
  {
   "cell_type": "code",
   "execution_count": null,
   "id": "7ec36019",
   "metadata": {},
   "outputs": [],
   "source": [
    "# options\n",
    "options = Options()\n",
    "options.add_argument('--headless')\n",
    "options.add_argument(\"--window-size=1000,1000\")\n",
    "options.add_argument('--disable-blink-features=AutomationControlled')\n",
    "options.add_argument('--no-sandbox')   "
   ]
  },
  {
   "cell_type": "code",
   "execution_count": 169,
   "id": "5da5b8fe",
   "metadata": {},
   "outputs": [
    {
     "name": "stdout",
     "output_type": "stream",
     "text": [
      "Name: Nathniel Tuttle\n",
      "Cname: Nathaniel Tulttle\n",
      "M Score: 93\n",
      "Ratio: 94\n",
      "--------------------------------------------------\n",
      "Name: Benjamin Moore\n",
      "Cname: Benjamin Morse\n",
      "M Score: 93\n",
      "Ratio: 93\n",
      "--------------------------------------------------\n",
      "Name: Benjamin Moore\n",
      "Cname: Benjamin Morse\n",
      "M Score: 93\n",
      "Ratio: 93\n",
      "--------------------------------------------------\n",
      "Name: William Barker\n",
      "Cname: William Baker\n",
      "M Score: 92\n",
      "Ratio: 96\n",
      "--------------------------------------------------\n",
      "Name: Jacob Swartwout\n",
      "Cname: Jacobus Swartwout\n",
      "M Score: 93\n",
      "Ratio: 94\n",
      "--------------------------------------------------\n",
      "Name: Jacob Swartwout\n",
      "Cname: Jacobus Swartwout\n",
      "M Score: 93\n",
      "Ratio: 94\n",
      "--------------------------------------------------\n",
      "Name: Nathaniel Seely\n",
      "Cname: Nathaniel Slely\n",
      "M Score: 92\n",
      "Ratio: 93\n",
      "--------------------------------------------------\n",
      "Name: William Badell\n",
      "Cname: William Bell\n",
      "M Score: 91\n",
      "Ratio: 92\n",
      "--------------------------------------------------\n",
      "Name: Inerease Carpenter\n",
      "Cname: Increase Carpenter\n",
      "M Score: 95\n",
      "Ratio: 94\n",
      "--------------------------------------------------\n",
      "Name: Inerease Carpenter\n",
      "Cname: Increase Carpenter\n",
      "M Score: 95\n",
      "Ratio: 94\n",
      "--------------------------------------------------\n",
      "Name: George Denison\n",
      "Cname: George Deniston\n",
      "M Score: 93\n",
      "Ratio: 97\n",
      "--------------------------------------------------\n",
      "Name: George Denison\n",
      "Cname: George Denniston\n",
      "M Score: 93\n",
      "Ratio: 93\n",
      "--------------------------------------------------\n",
      "Name: George Denison\n",
      "Cname: George Denniston\n",
      "M Score: 93\n",
      "Ratio: 93\n",
      "--------------------------------------------------\n",
      "Name: George Denison\n",
      "Cname: George Deniston\n",
      "M Score: 93\n",
      "Ratio: 97\n",
      "--------------------------------------------------\n",
      "Name: George Denison\n",
      "Cname: George Denniston\n",
      "M Score: 93\n",
      "Ratio: 93\n",
      "--------------------------------------------------\n",
      "Name: George Denison\n",
      "Cname: George Denniston\n",
      "M Score: 93\n",
      "Ratio: 93\n",
      "--------------------------------------------------\n",
      "Name: George Denison\n",
      "Cname: George Deniston\n",
      "M Score: 93\n",
      "Ratio: 97\n",
      "--------------------------------------------------\n",
      "Name: George Denison\n",
      "Cname: George Denniston\n",
      "M Score: 93\n",
      "Ratio: 93\n",
      "--------------------------------------------------\n",
      "Name: George Denison\n",
      "Cname: George Denniston\n",
      "M Score: 93\n",
      "Ratio: 93\n",
      "--------------------------------------------------\n",
      "Name: George Denison\n",
      "Cname: George Deniston\n",
      "M Score: 93\n",
      "Ratio: 97\n",
      "--------------------------------------------------\n",
      "Name: George Denison\n",
      "Cname: George Denniston\n",
      "M Score: 93\n",
      "Ratio: 93\n",
      "--------------------------------------------------\n",
      "Name: George Denison\n",
      "Cname: George Denniston\n",
      "M Score: 93\n",
      "Ratio: 93\n",
      "--------------------------------------------------\n"
     ]
    },
    {
     "ename": "KeyboardInterrupt",
     "evalue": "",
     "output_type": "error",
     "traceback": [
      "\u001b[1;31m---------------------------------------------------------------------------\u001b[0m",
      "\u001b[1;31mKeyboardInterrupt\u001b[0m                         Traceback (most recent call last)",
      "Cell \u001b[1;32mIn[169], line 30\u001b[0m\n\u001b[0;32m     28\u001b[0m ny_debt[\u001b[38;5;124m'\u001b[39m\u001b[38;5;124mto whom due | first name\u001b[39m\u001b[38;5;124m'\u001b[39m] \u001b[38;5;241m=\u001b[39m ny_debt[\u001b[38;5;124m'\u001b[39m\u001b[38;5;124mto whom due | first name\u001b[39m\u001b[38;5;124m'\u001b[39m]\u001b[38;5;241m.\u001b[39mastype(\u001b[38;5;28mstr\u001b[39m)\n\u001b[0;32m     29\u001b[0m ny_debt[\u001b[38;5;124m'\u001b[39m\u001b[38;5;124mto whom due | last name\u001b[39m\u001b[38;5;124m'\u001b[39m] \u001b[38;5;241m=\u001b[39m ny_debt[\u001b[38;5;124m'\u001b[39m\u001b[38;5;124mto whom due | last name\u001b[39m\u001b[38;5;124m'\u001b[39m]\u001b[38;5;241m.\u001b[39mastype(\u001b[38;5;28mstr\u001b[39m)\n\u001b[1;32m---> 30\u001b[0m \u001b[43mny_debt\u001b[49m\u001b[38;5;241;43m.\u001b[39;49m\u001b[43mapply\u001b[49m\u001b[43m(\u001b[49m\u001b[38;5;28;43;01mlambda\u001b[39;49;00m\u001b[43m \u001b[49m\u001b[43mrow\u001b[49m\u001b[43m:\u001b[49m\u001b[43m \u001b[49m\u001b[43mdetermine_similarities\u001b[49m\u001b[43m(\u001b[49m\u001b[43mny_debt\u001b[49m\u001b[43m,\u001b[49m\u001b[43m \u001b[49m\u001b[43mrow\u001b[49m\u001b[43m)\u001b[49m\u001b[43m,\u001b[49m\u001b[43m \u001b[49m\u001b[43maxis\u001b[49m\u001b[38;5;241;43m=\u001b[39;49m\u001b[38;5;241;43m1\u001b[39;49m\u001b[43m)\u001b[49m\n",
      "File \u001b[1;32m~\\AppData\\Local\\Packages\\PythonSoftwareFoundation.Python.3.9_qbz5n2kfra8p0\\LocalCache\\local-packages\\Python39\\site-packages\\pandas\\core\\frame.py:9423\u001b[0m, in \u001b[0;36mDataFrame.apply\u001b[1;34m(self, func, axis, raw, result_type, args, **kwargs)\u001b[0m\n\u001b[0;32m   9412\u001b[0m \u001b[38;5;28;01mfrom\u001b[39;00m \u001b[38;5;21;01mpandas\u001b[39;00m\u001b[38;5;21;01m.\u001b[39;00m\u001b[38;5;21;01mcore\u001b[39;00m\u001b[38;5;21;01m.\u001b[39;00m\u001b[38;5;21;01mapply\u001b[39;00m \u001b[38;5;28;01mimport\u001b[39;00m frame_apply\n\u001b[0;32m   9414\u001b[0m op \u001b[38;5;241m=\u001b[39m frame_apply(\n\u001b[0;32m   9415\u001b[0m     \u001b[38;5;28mself\u001b[39m,\n\u001b[0;32m   9416\u001b[0m     func\u001b[38;5;241m=\u001b[39mfunc,\n\u001b[1;32m   (...)\u001b[0m\n\u001b[0;32m   9421\u001b[0m     kwargs\u001b[38;5;241m=\u001b[39mkwargs,\n\u001b[0;32m   9422\u001b[0m )\n\u001b[1;32m-> 9423\u001b[0m \u001b[38;5;28;01mreturn\u001b[39;00m \u001b[43mop\u001b[49m\u001b[38;5;241;43m.\u001b[39;49m\u001b[43mapply\u001b[49m\u001b[43m(\u001b[49m\u001b[43m)\u001b[49m\u001b[38;5;241m.\u001b[39m__finalize__(\u001b[38;5;28mself\u001b[39m, method\u001b[38;5;241m=\u001b[39m\u001b[38;5;124m\"\u001b[39m\u001b[38;5;124mapply\u001b[39m\u001b[38;5;124m\"\u001b[39m)\n",
      "File \u001b[1;32m~\\AppData\\Local\\Packages\\PythonSoftwareFoundation.Python.3.9_qbz5n2kfra8p0\\LocalCache\\local-packages\\Python39\\site-packages\\pandas\\core\\apply.py:678\u001b[0m, in \u001b[0;36mFrameApply.apply\u001b[1;34m(self)\u001b[0m\n\u001b[0;32m    675\u001b[0m \u001b[38;5;28;01melif\u001b[39;00m \u001b[38;5;28mself\u001b[39m\u001b[38;5;241m.\u001b[39mraw:\n\u001b[0;32m    676\u001b[0m     \u001b[38;5;28;01mreturn\u001b[39;00m \u001b[38;5;28mself\u001b[39m\u001b[38;5;241m.\u001b[39mapply_raw()\n\u001b[1;32m--> 678\u001b[0m \u001b[38;5;28;01mreturn\u001b[39;00m \u001b[38;5;28;43mself\u001b[39;49m\u001b[38;5;241;43m.\u001b[39;49m\u001b[43mapply_standard\u001b[49m\u001b[43m(\u001b[49m\u001b[43m)\u001b[49m\n",
      "File \u001b[1;32m~\\AppData\\Local\\Packages\\PythonSoftwareFoundation.Python.3.9_qbz5n2kfra8p0\\LocalCache\\local-packages\\Python39\\site-packages\\pandas\\core\\apply.py:798\u001b[0m, in \u001b[0;36mFrameApply.apply_standard\u001b[1;34m(self)\u001b[0m\n\u001b[0;32m    797\u001b[0m \u001b[38;5;28;01mdef\u001b[39;00m \u001b[38;5;21mapply_standard\u001b[39m(\u001b[38;5;28mself\u001b[39m):\n\u001b[1;32m--> 798\u001b[0m     results, res_index \u001b[38;5;241m=\u001b[39m \u001b[38;5;28;43mself\u001b[39;49m\u001b[38;5;241;43m.\u001b[39;49m\u001b[43mapply_series_generator\u001b[49m\u001b[43m(\u001b[49m\u001b[43m)\u001b[49m\n\u001b[0;32m    800\u001b[0m     \u001b[38;5;66;03m# wrap results\u001b[39;00m\n\u001b[0;32m    801\u001b[0m     \u001b[38;5;28;01mreturn\u001b[39;00m \u001b[38;5;28mself\u001b[39m\u001b[38;5;241m.\u001b[39mwrap_results(results, res_index)\n",
      "File \u001b[1;32m~\\AppData\\Local\\Packages\\PythonSoftwareFoundation.Python.3.9_qbz5n2kfra8p0\\LocalCache\\local-packages\\Python39\\site-packages\\pandas\\core\\apply.py:814\u001b[0m, in \u001b[0;36mFrameApply.apply_series_generator\u001b[1;34m(self)\u001b[0m\n\u001b[0;32m    811\u001b[0m \u001b[38;5;28;01mwith\u001b[39;00m option_context(\u001b[38;5;124m\"\u001b[39m\u001b[38;5;124mmode.chained_assignment\u001b[39m\u001b[38;5;124m\"\u001b[39m, \u001b[38;5;28;01mNone\u001b[39;00m):\n\u001b[0;32m    812\u001b[0m     \u001b[38;5;28;01mfor\u001b[39;00m i, v \u001b[38;5;129;01min\u001b[39;00m \u001b[38;5;28menumerate\u001b[39m(series_gen):\n\u001b[0;32m    813\u001b[0m         \u001b[38;5;66;03m# ignore SettingWithCopy here in case the user mutates\u001b[39;00m\n\u001b[1;32m--> 814\u001b[0m         results[i] \u001b[38;5;241m=\u001b[39m \u001b[38;5;28;43mself\u001b[39;49m\u001b[38;5;241;43m.\u001b[39;49m\u001b[43mf\u001b[49m\u001b[43m(\u001b[49m\u001b[43mv\u001b[49m\u001b[43m)\u001b[49m\n\u001b[0;32m    815\u001b[0m         \u001b[38;5;28;01mif\u001b[39;00m \u001b[38;5;28misinstance\u001b[39m(results[i], ABCSeries):\n\u001b[0;32m    816\u001b[0m             \u001b[38;5;66;03m# If we have a view on v, we need to make a copy because\u001b[39;00m\n\u001b[0;32m    817\u001b[0m             \u001b[38;5;66;03m#  series_generator will swap out the underlying data\u001b[39;00m\n\u001b[0;32m    818\u001b[0m             results[i] \u001b[38;5;241m=\u001b[39m results[i]\u001b[38;5;241m.\u001b[39mcopy(deep\u001b[38;5;241m=\u001b[39m\u001b[38;5;28;01mFalse\u001b[39;00m)\n",
      "Cell \u001b[1;32mIn[169], line 30\u001b[0m, in \u001b[0;36m<lambda>\u001b[1;34m(row)\u001b[0m\n\u001b[0;32m     28\u001b[0m ny_debt[\u001b[38;5;124m'\u001b[39m\u001b[38;5;124mto whom due | first name\u001b[39m\u001b[38;5;124m'\u001b[39m] \u001b[38;5;241m=\u001b[39m ny_debt[\u001b[38;5;124m'\u001b[39m\u001b[38;5;124mto whom due | first name\u001b[39m\u001b[38;5;124m'\u001b[39m]\u001b[38;5;241m.\u001b[39mastype(\u001b[38;5;28mstr\u001b[39m)\n\u001b[0;32m     29\u001b[0m ny_debt[\u001b[38;5;124m'\u001b[39m\u001b[38;5;124mto whom due | last name\u001b[39m\u001b[38;5;124m'\u001b[39m] \u001b[38;5;241m=\u001b[39m ny_debt[\u001b[38;5;124m'\u001b[39m\u001b[38;5;124mto whom due | last name\u001b[39m\u001b[38;5;124m'\u001b[39m]\u001b[38;5;241m.\u001b[39mastype(\u001b[38;5;28mstr\u001b[39m)\n\u001b[1;32m---> 30\u001b[0m ny_debt\u001b[38;5;241m.\u001b[39mapply(\u001b[38;5;28;01mlambda\u001b[39;00m row: \u001b[43mdetermine_similarities\u001b[49m\u001b[43m(\u001b[49m\u001b[43mny_debt\u001b[49m\u001b[43m,\u001b[49m\u001b[43m \u001b[49m\u001b[43mrow\u001b[49m\u001b[43m)\u001b[49m, axis\u001b[38;5;241m=\u001b[39m\u001b[38;5;241m1\u001b[39m)\n",
      "Cell \u001b[1;32mIn[169], line 22\u001b[0m, in \u001b[0;36mdetermine_similarities\u001b[1;34m(df, row)\u001b[0m\n\u001b[0;32m     20\u001b[0m fn \u001b[38;5;241m=\u001b[39m row[\u001b[38;5;124m'\u001b[39m\u001b[38;5;124mto whom due | first name\u001b[39m\u001b[38;5;124m'\u001b[39m]\n\u001b[0;32m     21\u001b[0m ln \u001b[38;5;241m=\u001b[39m row[\u001b[38;5;124m'\u001b[39m\u001b[38;5;124mto whom due | last name\u001b[39m\u001b[38;5;124m'\u001b[39m] \n\u001b[1;32m---> 22\u001b[0m onlyfc_df \u001b[38;5;241m=\u001b[39m \u001b[43mdf\u001b[49m\u001b[38;5;241;43m.\u001b[39;49m\u001b[43mapply\u001b[49m\u001b[43m(\u001b[49m\u001b[38;5;28;43;01mlambda\u001b[39;49;00m\u001b[43m \u001b[49m\u001b[43mrow\u001b[49m\u001b[43m:\u001b[49m\u001b[43m \u001b[49m\u001b[43monly_f\u001b[49m\u001b[43m(\u001b[49m\u001b[43mfn\u001b[49m\u001b[43m,\u001b[49m\u001b[43m \u001b[49m\u001b[43mln\u001b[49m\u001b[43m,\u001b[49m\u001b[43m \u001b[49m\u001b[43mrow\u001b[49m\u001b[43m)\u001b[49m\u001b[43m,\u001b[49m\u001b[43m \u001b[49m\u001b[43maxis\u001b[49m\u001b[38;5;241;43m=\u001b[39;49m\u001b[38;5;241;43m1\u001b[39;49m\u001b[43m)\u001b[49m\u001b[38;5;241m.\u001b[39mdropna()\n\u001b[0;32m     24\u001b[0m \u001b[38;5;28;01mif\u001b[39;00m \u001b[38;5;28mlen\u001b[39m(onlyfc_df) \u001b[38;5;241m>\u001b[39m \u001b[38;5;241m0\u001b[39m:\n\u001b[0;32m     25\u001b[0m     onlyfc_df\u001b[38;5;241m.\u001b[39mapply(\u001b[38;5;28;01mlambda\u001b[39;00m row: fuzzy_similarity(fn \u001b[38;5;241m+\u001b[39m \u001b[38;5;124m'\u001b[39m\u001b[38;5;124m \u001b[39m\u001b[38;5;124m'\u001b[39m \u001b[38;5;241m+\u001b[39m ln, row))\n",
      "File \u001b[1;32m~\\AppData\\Local\\Packages\\PythonSoftwareFoundation.Python.3.9_qbz5n2kfra8p0\\LocalCache\\local-packages\\Python39\\site-packages\\pandas\\core\\frame.py:9423\u001b[0m, in \u001b[0;36mDataFrame.apply\u001b[1;34m(self, func, axis, raw, result_type, args, **kwargs)\u001b[0m\n\u001b[0;32m   9412\u001b[0m \u001b[38;5;28;01mfrom\u001b[39;00m \u001b[38;5;21;01mpandas\u001b[39;00m\u001b[38;5;21;01m.\u001b[39;00m\u001b[38;5;21;01mcore\u001b[39;00m\u001b[38;5;21;01m.\u001b[39;00m\u001b[38;5;21;01mapply\u001b[39;00m \u001b[38;5;28;01mimport\u001b[39;00m frame_apply\n\u001b[0;32m   9414\u001b[0m op \u001b[38;5;241m=\u001b[39m frame_apply(\n\u001b[0;32m   9415\u001b[0m     \u001b[38;5;28mself\u001b[39m,\n\u001b[0;32m   9416\u001b[0m     func\u001b[38;5;241m=\u001b[39mfunc,\n\u001b[1;32m   (...)\u001b[0m\n\u001b[0;32m   9421\u001b[0m     kwargs\u001b[38;5;241m=\u001b[39mkwargs,\n\u001b[0;32m   9422\u001b[0m )\n\u001b[1;32m-> 9423\u001b[0m \u001b[38;5;28;01mreturn\u001b[39;00m \u001b[43mop\u001b[49m\u001b[38;5;241;43m.\u001b[39;49m\u001b[43mapply\u001b[49m\u001b[43m(\u001b[49m\u001b[43m)\u001b[49m\u001b[38;5;241m.\u001b[39m__finalize__(\u001b[38;5;28mself\u001b[39m, method\u001b[38;5;241m=\u001b[39m\u001b[38;5;124m\"\u001b[39m\u001b[38;5;124mapply\u001b[39m\u001b[38;5;124m\"\u001b[39m)\n",
      "File \u001b[1;32m~\\AppData\\Local\\Packages\\PythonSoftwareFoundation.Python.3.9_qbz5n2kfra8p0\\LocalCache\\local-packages\\Python39\\site-packages\\pandas\\core\\apply.py:678\u001b[0m, in \u001b[0;36mFrameApply.apply\u001b[1;34m(self)\u001b[0m\n\u001b[0;32m    675\u001b[0m \u001b[38;5;28;01melif\u001b[39;00m \u001b[38;5;28mself\u001b[39m\u001b[38;5;241m.\u001b[39mraw:\n\u001b[0;32m    676\u001b[0m     \u001b[38;5;28;01mreturn\u001b[39;00m \u001b[38;5;28mself\u001b[39m\u001b[38;5;241m.\u001b[39mapply_raw()\n\u001b[1;32m--> 678\u001b[0m \u001b[38;5;28;01mreturn\u001b[39;00m \u001b[38;5;28;43mself\u001b[39;49m\u001b[38;5;241;43m.\u001b[39;49m\u001b[43mapply_standard\u001b[49m\u001b[43m(\u001b[49m\u001b[43m)\u001b[49m\n",
      "File \u001b[1;32m~\\AppData\\Local\\Packages\\PythonSoftwareFoundation.Python.3.9_qbz5n2kfra8p0\\LocalCache\\local-packages\\Python39\\site-packages\\pandas\\core\\apply.py:798\u001b[0m, in \u001b[0;36mFrameApply.apply_standard\u001b[1;34m(self)\u001b[0m\n\u001b[0;32m    797\u001b[0m \u001b[38;5;28;01mdef\u001b[39;00m \u001b[38;5;21mapply_standard\u001b[39m(\u001b[38;5;28mself\u001b[39m):\n\u001b[1;32m--> 798\u001b[0m     results, res_index \u001b[38;5;241m=\u001b[39m \u001b[38;5;28;43mself\u001b[39;49m\u001b[38;5;241;43m.\u001b[39;49m\u001b[43mapply_series_generator\u001b[49m\u001b[43m(\u001b[49m\u001b[43m)\u001b[49m\n\u001b[0;32m    800\u001b[0m     \u001b[38;5;66;03m# wrap results\u001b[39;00m\n\u001b[0;32m    801\u001b[0m     \u001b[38;5;28;01mreturn\u001b[39;00m \u001b[38;5;28mself\u001b[39m\u001b[38;5;241m.\u001b[39mwrap_results(results, res_index)\n",
      "File \u001b[1;32m~\\AppData\\Local\\Packages\\PythonSoftwareFoundation.Python.3.9_qbz5n2kfra8p0\\LocalCache\\local-packages\\Python39\\site-packages\\pandas\\core\\apply.py:812\u001b[0m, in \u001b[0;36mFrameApply.apply_series_generator\u001b[1;34m(self)\u001b[0m\n\u001b[0;32m    809\u001b[0m results \u001b[38;5;241m=\u001b[39m {}\n\u001b[0;32m    811\u001b[0m \u001b[38;5;28;01mwith\u001b[39;00m option_context(\u001b[38;5;124m\"\u001b[39m\u001b[38;5;124mmode.chained_assignment\u001b[39m\u001b[38;5;124m\"\u001b[39m, \u001b[38;5;28;01mNone\u001b[39;00m):\n\u001b[1;32m--> 812\u001b[0m     \u001b[38;5;28;01mfor\u001b[39;00m i, v \u001b[38;5;129;01min\u001b[39;00m \u001b[38;5;28menumerate\u001b[39m(series_gen):\n\u001b[0;32m    813\u001b[0m         \u001b[38;5;66;03m# ignore SettingWithCopy here in case the user mutates\u001b[39;00m\n\u001b[0;32m    814\u001b[0m         results[i] \u001b[38;5;241m=\u001b[39m \u001b[38;5;28mself\u001b[39m\u001b[38;5;241m.\u001b[39mf(v)\n\u001b[0;32m    815\u001b[0m         \u001b[38;5;28;01mif\u001b[39;00m \u001b[38;5;28misinstance\u001b[39m(results[i], ABCSeries):\n\u001b[0;32m    816\u001b[0m             \u001b[38;5;66;03m# If we have a view on v, we need to make a copy because\u001b[39;00m\n\u001b[0;32m    817\u001b[0m             \u001b[38;5;66;03m#  series_generator will swap out the underlying data\u001b[39;00m\n",
      "File \u001b[1;32m~\\AppData\\Local\\Packages\\PythonSoftwareFoundation.Python.3.9_qbz5n2kfra8p0\\LocalCache\\local-packages\\Python39\\site-packages\\pandas\\core\\apply.py:939\u001b[0m, in \u001b[0;36mFrameColumnApply.series_generator\u001b[1;34m(self)\u001b[0m\n\u001b[0;32m    936\u001b[0m \u001b[38;5;28;01melse\u001b[39;00m:\n\u001b[0;32m    937\u001b[0m     \u001b[38;5;28;01mfor\u001b[39;00m arr, name \u001b[38;5;129;01min\u001b[39;00m \u001b[38;5;28mzip\u001b[39m(values, \u001b[38;5;28mself\u001b[39m\u001b[38;5;241m.\u001b[39mindex):\n\u001b[0;32m    938\u001b[0m         \u001b[38;5;66;03m# GH#35462 re-pin mgr in case setitem changed it\u001b[39;00m\n\u001b[1;32m--> 939\u001b[0m         \u001b[43mser\u001b[49m\u001b[38;5;241;43m.\u001b[39;49m\u001b[43m_mgr\u001b[49m \u001b[38;5;241m=\u001b[39m mgr\n\u001b[0;32m    940\u001b[0m         mgr\u001b[38;5;241m.\u001b[39mset_values(arr)\n\u001b[0;32m    941\u001b[0m         \u001b[38;5;28mobject\u001b[39m\u001b[38;5;241m.\u001b[39m\u001b[38;5;21m__setattr__\u001b[39m(ser, \u001b[38;5;124m\"\u001b[39m\u001b[38;5;124m_name\u001b[39m\u001b[38;5;124m\"\u001b[39m, name)\n",
      "File \u001b[1;32m~\\AppData\\Local\\Packages\\PythonSoftwareFoundation.Python.3.9_qbz5n2kfra8p0\\LocalCache\\local-packages\\Python39\\site-packages\\pandas\\core\\generic.py:6002\u001b[0m, in \u001b[0;36mNDFrame.__setattr__\u001b[1;34m(self, name, value)\u001b[0m\n\u001b[0;32m   6000\u001b[0m \u001b[38;5;28;01mtry\u001b[39;00m:\n\u001b[0;32m   6001\u001b[0m     \u001b[38;5;28mobject\u001b[39m\u001b[38;5;241m.\u001b[39m\u001b[38;5;21m__getattribute__\u001b[39m(\u001b[38;5;28mself\u001b[39m, name)\n\u001b[1;32m-> 6002\u001b[0m     \u001b[38;5;28;01mreturn\u001b[39;00m \u001b[38;5;28;43mobject\u001b[39;49m\u001b[38;5;241;43m.\u001b[39;49m\u001b[38;5;21;43m__setattr__\u001b[39;49m(\u001b[38;5;28mself\u001b[39m, name, value)\n\u001b[0;32m   6003\u001b[0m \u001b[38;5;28;01mexcept\u001b[39;00m \u001b[38;5;167;01mAttributeError\u001b[39;00m:\n\u001b[0;32m   6004\u001b[0m     \u001b[38;5;28;01mpass\u001b[39;00m\n",
      "\u001b[1;31mKeyboardInterrupt\u001b[0m: "
     ]
    }
   ],
   "source": [
    "def only_f(fn, ln, crow):\n",
    "    if crow['to whom due | first name'][0] == fn[0] and crow['to whom due | last name'][0] == ln[0]:\n",
    "        return crow\n",
    "\n",
    "def fuzzy_similarity(name, row):\n",
    "    cname = row['to whom due | first name'] + ' ' + row['to whom due | last name']\n",
    "    code1 = metaphone(name)\n",
    "    code2 = metaphone(cname)\n",
    "    ratio = fuzz.ratio(name, cname)\n",
    "    score = fuzz.ratio(code1, code2)\n",
    "    if score > 90 and score != 100 and ratio > 90:\n",
    "        print('Name: ' + name)\n",
    "        print('Cname: ' + cname)\n",
    "        print('M Score: ' + str(score))\n",
    "        print('Ratio: ' + str(ratio))\n",
    "        print('--------------------------------------------------')\n",
    "        # print('Name=' + name + ' - CName=' + cname + ' - M Score=' + str(score) + )\n",
    "    \n",
    "def determine_similarities(df, row):\n",
    "    fn = row['to whom due | first name']\n",
    "    ln = row['to whom due | last name'] \n",
    "    onlyfc_df = df.apply(lambda row: only_f(fn, ln, row), axis=1).dropna()\n",
    "    \n",
    "    if len(onlyfc_df) > 0:\n",
    "        onlyfc_df.apply(lambda row: fuzzy_similarity(fn + ' ' + ln, row))\n",
    "    # print(\"first name=\" + fn + \" - last name=\" + ln + \" - length=\" + str(len(onlyfc_df)))\n",
    "    \n",
    "ny_debt['to whom due | first name'] = ny_debt['to whom due | first name'].astype(str)\n",
    "ny_debt['to whom due | last name'] = ny_debt['to whom due | last name'].astype(str)\n",
    "ny_debt.apply(lambda row: determine_similarities(ny_debt, row), axis=1)"
   ]
  },
  {
   "cell_type": "code",
   "execution_count": null,
   "id": "8ca8a820",
   "metadata": {},
   "outputs": [],
   "source": []
  }
 ],
 "metadata": {
  "kernelspec": {
   "display_name": "Python 3 (ipykernel)",
   "language": "python",
   "name": "python3"
  },
  "language_info": {
   "codemirror_mode": {
    "name": "ipython",
    "version": 3
   },
   "file_extension": ".py",
   "mimetype": "text/x-python",
   "name": "python",
   "nbconvert_exporter": "python",
   "pygments_lexer": "ipython3",
   "version": "3.9.13"
  }
 },
 "nbformat": 4,
 "nbformat_minor": 5
}
