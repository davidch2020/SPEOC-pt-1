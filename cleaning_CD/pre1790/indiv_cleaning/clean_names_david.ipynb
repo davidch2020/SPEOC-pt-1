{
 "cells": [
  {
   "cell_type": "markdown",
   "id": "239af09c",
   "metadata": {},
   "source": [
    "# Cleaning Names"
   ]
  },
  {
   "cell_type": "markdown",
   "id": "5c41e041",
   "metadata": {},
   "source": [
    "The purpose of this notebook is to clean the names of individuals. All the problems that we aim to fix in this notebook are listed [here](https://docs.google.com/document/d/1pcSQfWNll6K9tl-_rB4lztN0TsZsclU9vOnbyQob-Zs/edit)."
   ]
  },
  {
   "cell_type": "code",
   "execution_count": null,
   "id": "140ce0dc",
   "metadata": {
    "tags": []
   },
   "outputs": [],
   "source": [
    "# import all the necessary packages\n",
    "import pandas as pd \n",
    "import numpy as np\n",
    "import re\n",
    "import csv\n",
    "import ast"
   ]
  },
  {
   "cell_type": "code",
   "execution_count": null,
   "id": "3d7c755c",
   "metadata": {
    "tags": []
   },
   "outputs": [],
   "source": [
    "# import aggregated debt file\n",
    "agg_debt = pd.read_csv('data/final_agg_debt.csv')"
   ]
  },
  {
   "cell_type": "code",
   "execution_count": null,
   "id": "4791b795",
   "metadata": {
    "tags": []
   },
   "outputs": [],
   "source": [
    "print(agg_debt.dtypes)"
   ]
  },
  {
   "cell_type": "markdown",
   "id": "05c5ce85",
   "metadata": {},
   "source": [
    "## Documenting Changes"
   ]
  },
  {
   "cell_type": "markdown",
   "id": "94686cfe",
   "metadata": {},
   "source": [
    "<b>Goal: </b> We need to document changes we make to ```agg_debt.csv``` in a separate dataframe: ```name_changes```. This way, we can double-check whether those changes were appropriate. \n",
    "\n",
    "<b>Steps</b>\n",
    "1. Create an empty dataframe. Here are the column names:\n",
    "    - ```title_org```: The original title of the individual (Mr., Ms., etc.)\n",
    "    - ```title_new```: The new title of the individual (Mr., Ms., etc.) \n",
    "    - ```first_name_org```: The original first name of the individual from the unchanged ```agg_debt.csv```\n",
    "    - ```last_name_org```: The original last name of the individual from the unchanged ```agg_debt.csv``` \n",
    "    - ```first_name_new``` : If first name changed, record it here. Otherwise, this entry will still be the old name. \n",
    "    - ```last_name_new```: If last name changed, record it here. Otherwise, this entry will still be the old name. \n",
    "    - ```cleaning case```: This corresponds with the task number in the objectives document linked above. \n",
    "    - ```file_loc```: The individual state filename in which the row came from \n",
    "    - ```org_index```: The original index/row that the debt entry can be found in ```file_loc``` \n",
    "2. Create a function that adds a new row to the dataframe. This function will be called while we are cleaning. \n",
    "\n",
    "**Cleaning case = Objective number** \n",
    "- Clean company names = 2,\n",
    "- Handle two names = 3,\n",
    "- Handle abbreviations = 5,\n",
    "- Standardize names (Ancestry) = 6"
   ]
  },
  {
   "cell_type": "code",
   "execution_count": null,
   "id": "d225fa98",
   "metadata": {
    "tags": []
   },
   "outputs": [],
   "source": [
    "# record changes in this dataframe\n",
    "name_changes = pd.DataFrame({'title_org': pd.Series(dtype='str'),\n",
    "                       'title_new': pd.Series(dtype='str'),\n",
    "                       'first_name_org': pd.Series(dtype='str'),\n",
    "                       'last_name_org': pd.Series(dtype='str'),\n",
    "                       'first_name_new': pd.Series(dtype='str'),\n",
    "                       'last_name_new': pd.Series(dtype='str'),\n",
    "                       'cleaning case': pd.Series(dtype='int'),\n",
    "                       'file_loc': pd.Series(dtype='str'),\n",
    "                       'org_index': pd.Series(dtype='int')})"
   ]
  },
  {
   "cell_type": "code",
   "execution_count": null,
   "id": "112012b4",
   "metadata": {
    "tags": []
   },
   "outputs": [],
   "source": [
    "def add_changes(title_org, title_new, fn_org, ln_org, fn_new, ln_new, case, file, index):\n",
    "    new_row = [title_org, title_new, fn_org, ln_org, fn_new, ln_new, case, file, index]\n",
    "    name_changes.loc[len(name_changes.index)] = new_row"
   ]
  },
  {
   "cell_type": "markdown",
   "id": "3c110b87",
   "metadata": {},
   "source": [
    "## Company Names"
   ]
  },
  {
   "cell_type": "markdown",
   "id": "f52a77aa",
   "metadata": {},
   "source": [
    "<b>Goal: </b> Some debt entries are actually company names or represent a group of people (example: ```James Vernon & Co.```). \n",
    "\n",
    "<b>Steps: </b>\n",
    "1. Use string parsing to find if a debt entry has '& co' or '& others' in it's name. Note: I noticed these company names appear in the first name column. I do <b>not</b> run this program on the last name column.\n",
    "2. I remove the '& co' or '& others' from the name. I use a human name parser library. This library can find out what parts of the name are the first name versus last name. \n",
    "3. I put the first name and last name in their own respective columns. \n",
    "4. Record name change in ``name_changes``."
   ]
  },
  {
   "cell_type": "code",
   "execution_count": null,
   "id": "46e4d89c",
   "metadata": {
    "tags": []
   },
   "outputs": [],
   "source": [
    "# retrieve manual corrections from csv file if they exist \n",
    "manual_corrects_df = pd.read_csv('data/manual_corrections.csv')\n",
    "manual_corrects_dict = manual_corrects_df.to_dict(orient='index')\n",
    "manual_corrects = {}\n",
    "# add manual corrections to manual_corrects dictionary \n",
    "for correction in manual_corrects_dict.keys():\n",
    "    manual_corrects[manual_corrects_dict[correction]['Unnamed: 0']] = [manual_corrects_dict[correction]['new first name'], manual_corrects_dict[correction]['new last name']]\n",
    "\n",
    "print(manual_corrects)"
   ]
  },
  {
   "cell_type": "code",
   "execution_count": null,
   "id": "082ee241",
   "metadata": {
    "tags": []
   },
   "outputs": [],
   "source": [
    "# dictionary of manual changes i have to make \n",
    "changes = {\n",
    "    'Henry Mc Clellen & Henry & co' : 'Henry Mc Clellen & Co'\n",
    "}\n",
    "\n",
    "conn_words = [' for ', ' of ', ' and '] # these are connector key words\n",
    "corp_key_words = ('corporation', ' and co', ' and coy', ' and others', ' and several others', ' and heirs', ' and comp', ' and other trustees') # these are corporation key words"
   ]
  },
  {
   "cell_type": "code",
   "execution_count": null,
   "id": "d5800aa3",
   "metadata": {
    "scrolled": true,
    "tags": []
   },
   "outputs": [],
   "source": [
    "def handle_comp_name(row):        \n",
    "    org_fname = str(row['to whom due | first name'])\n",
    "    org_lname = str(row['to whom due | last name'])\n",
    "    \n",
    "    fname = str(row['to whom due | first name'])\n",
    "    fname = fname.replace('&', 'and')\n",
    "    fname = fname.replace('.', '')\n",
    "    \n",
    "    if fname in changes:\n",
    "        fname = changes[fname]\n",
    "    \n",
    "    fname_l = str(fname).lower().strip()\n",
    "    \n",
    "    # check if string ends with co, coy, or others; if so, delete \n",
    "    for key_word in corp_key_words:\n",
    "        if fname_l.endswith(key_word):\n",
    "            print('index=' + str(row['Unnamed: 0']))\n",
    "            print('old name=' + str(org_fname))      \n",
    "            fname_corr = fname_l.split(key_word)\n",
    "            print('corrected name=' + str(fname_corr[0])) \n",
    "            fname_corr = fname_corr[0]\n",
    "            fname_sp = fname_corr.split()\n",
    "            \n",
    "            # only one name; put name into last name column \n",
    "            if len(fname_sp) == 1:\n",
    "                row['to whom due | first name'] = ''\n",
    "                row['to whom due | last name'] = fname_sp[0].capitalize()\n",
    "                print('corrected name=' + str(fname_sp[0])) \n",
    "                print('new last name=' + str(fname_sp[0].capitalize()))\n",
    "                \n",
    "            # if there are is only a first name and a last name, put into respective columns\n",
    "            elif len(fname_sp) == 2:\n",
    "                row['to whom due | first name'] = fname_sp[0].capitalize()\n",
    "                row['to whom due | last name'] = fname_sp[1].capitalize()\n",
    "                print('new first name=' + str(fname_sp[0].capitalize()))\n",
    "                print('new last name=' + str(fname_sp[1].capitalize()))\n",
    "                \n",
    "            # handles middle names; put middle names in last name column \n",
    "            elif len(fname_sp) == 3:\n",
    "                row['to whom due | first name'] = fname_sp[0].capitalize() \n",
    "                row['to whom due | last name'] = fname_sp[1].capitalize() + ' ' + fname_sp[2].capitalize()\n",
    "                print('new first name=' + str(fname_sp[0].capitalize()))\n",
    "                print('new last name=' + str(fname_sp[1].capitalize() + ' ' + fname_sp[2].capitalize()))  \n",
    "            # manually clean debt entries that have long names \n",
    "            else: \n",
    "                # check if name has already been manually cleaned\n",
    "                if fname_corr in manual_corrects:\n",
    "                    new_fname = manual_corrects[fname_corr][0]\n",
    "                    new_lname = manual_corrects[fname_corr][1]\n",
    "                else:\n",
    "                    new_fname = input('new first name: ')\n",
    "                    new_lname = input('new last name: ') \n",
    "                    manual_corrects[fname_corr] = [new_fname, new_lname]\n",
    "                \n",
    "                row['to whom due | first name'] = new_fname.capitalize()\n",
    "                row['to whom due | last name'] = new_lname.capitalize()\n",
    "                    \n",
    "                print('new first name=' + str(new_fname.capitalize()))\n",
    "                print('new last name=' + str(new_lname.capitalize()))  \n",
    "                \n",
    "            # record change \n",
    "            add_changes(row['to whom due | title'], row['to whom due | title'], org_fname, org_lname, \n",
    "                   row['to whom due | first name'], row['to whom due | last name'], 2, row['org_file'], row['org_index'])\n",
    "            \n",
    "            print('+------------------------------+')\n",
    "        # if the name starts with any keyword: 'corporation for the relief of...'; manually change these names\n",
    "        elif fname_l.startswith(key_word): \n",
    "            print('index=' + str(row['Unnamed: 0']))\n",
    "            print('old name=' + str(fname_l))      \n",
    "            \n",
    "            # check if name has already been manually cleaned\n",
    "            if fname_l in manual_corrects:\n",
    "                new_fname = str(manual_corrects[fname_l][0])\n",
    "                new_lname = str(manual_corrects[fname_l][1])\n",
    "            else:\n",
    "                new_fname = input('new first name: ')\n",
    "                new_lname = input('new last name: ') \n",
    "                manual_corrects[fname_l] = [new_fname, new_lname]\n",
    "\n",
    "            row['to whom due | first name'] = new_fname.capitalize()\n",
    "            row['to whom due | last name'] = new_lname.capitalize()\n",
    "            \n",
    "            # record change \n",
    "            add_changes(row['to whom due | title'], row['to whom due | title'], org_fname, org_lname, \n",
    "                   row['to whom due | first name'], row['to whom due | last name'], 2, row['org_file'], row['org_index'])\n",
    "\n",
    "            print('new first name=' + str(new_fname.capitalize()))\n",
    "            print('new last name=' + str(new_lname.capitalize()))  \n",
    "    \n",
    "    return row\n",
    "\n",
    "agg_debt = agg_debt.apply(lambda row: handle_comp_name(row), axis=1)"
   ]
  },
  {
   "cell_type": "code",
   "execution_count": null,
   "id": "38847c6b",
   "metadata": {
    "scrolled": true,
    "tags": []
   },
   "outputs": [],
   "source": [
    "# checkup on name_changes\n",
    "name_changes.tail()"
   ]
  },
  {
   "cell_type": "code",
   "execution_count": null,
   "id": "d5793399",
   "metadata": {
    "tags": []
   },
   "outputs": [],
   "source": [
    "agg_debt['Unnamed: 0'] = agg_debt.index"
   ]
  },
  {
   "cell_type": "code",
   "execution_count": null,
   "id": "daadfd7e",
   "metadata": {
    "tags": []
   },
   "outputs": [],
   "source": [
    "agg_debt.rename(columns={'Unnamed: 0' : 'index'}, inplace=True)"
   ]
  },
  {
   "cell_type": "markdown",
   "id": "66551839",
   "metadata": {},
   "source": [
    "## Cleaning Entries with Two Names"
   ]
  },
  {
   "cell_type": "markdown",
   "id": "22df92c8",
   "metadata": {},
   "source": [
    "<b>Goal: </b>There are debt entries that have two names in a single cell: ```NY_2422: Messes Williamson & Beckman```. The plan is to split the name across the first name and last name columns. Note: I have to check naming conventions during thre 1700s. \n",
    "\n",
    "<b>Steps: </b>\n",
    "1. Use string parsing to check if the name contains '&' or 'and' and split the string accordingly. \n",
    "2. Use the human name parser library to determine the first name and last names. \n",
    "3. Put each person's first name and last name in the respective columns, split by ```|``` to separate both individuals' names. \n",
    "4. Record change in ```name_changes```.\n",
    "\n",
    "<b>Examples of different formats</b>\n",
    "- James and Ash \n",
    "- William Miller and John Gamble"
   ]
  },
  {
   "cell_type": "code",
   "execution_count": null,
   "id": "4d9945d0",
   "metadata": {
    "tags": []
   },
   "outputs": [],
   "source": [
    "changes = {\n",
    "    'van zandt & kittletas' : ['', 'van zandt | kittletas'],\n",
    "    'trustees of & davids church':['trustees of & davids church', '']\n",
    "}"
   ]
  },
  {
   "cell_type": "code",
   "execution_count": null,
   "id": "c766137d",
   "metadata": {
    "tags": []
   },
   "outputs": [],
   "source": [
    "# make sure all names are of type: str\n",
    "agg_debt[['to whom due | first name', 'to whom due | last name']] = agg_debt[['to whom due | first name', 'to whom due | last name']].astype(str)"
   ]
  },
  {
   "cell_type": "code",
   "execution_count": null,
   "id": "a43b170d",
   "metadata": {
    "tags": []
   },
   "outputs": [],
   "source": [
    "# function to convert\n",
    "def listToString(s):\n",
    " \n",
    "    # initialize an empty string\n",
    "    str1 = \" \"\n",
    " \n",
    "    # return string\n",
    "    return (str1.join(s))"
   ]
  },
  {
   "cell_type": "code",
   "execution_count": null,
   "id": "7edd4040",
   "metadata": {
    "jupyter": {
     "source_hidden": true
    },
    "scrolled": true,
    "tags": []
   },
   "outputs": [],
   "source": [
    "def handle_two_name(row):\n",
    "    org_fn = row['to whom due | first name']\n",
    "    org_ln = row['to whom due | last name']\n",
    "    \n",
    "    org_fn_l = str(org_fn).lower()\n",
    "        \n",
    "    # remove extraneous information like 'for the estates of...'\n",
    "    org_fn_l = org_fn_l.split(' for ')[0]\n",
    "\n",
    "    # remove extraneous information like 'of the heirs of...'\n",
    "    org_fn_l = org_fn_l.split(' of ')[0]\n",
    "\n",
    "    # remove occupations: guardians, etc. \n",
    "    org_fn_l = org_fn_l.replace(' guardian', '')\n",
    "    \n",
    "    # check if there are two individuals, but check if there are more than 7 words (most likely a society)\n",
    "    if ' and ' in org_fn_l and len(org_fn_l.split()) <= 7:   \n",
    "        print('original name= ' + org_fn_l)\n",
    "        \n",
    "        # cleaning extraneous information can reveal there to be only one name\n",
    "        #if ' and ' in org_fn_l:\n",
    "        person1 = org_fn_l.split(' and ')[0]\n",
    "        person2 = org_fn_l.split(' and ')[1]\n",
    "        person1_sp = person1.split() \n",
    "        person2_sp = person2.split()\n",
    "\n",
    "        # recapitalize people's names\n",
    "        person1_sp = [i.title() for i in person1_sp]\n",
    "        person2_sp = [i.title() for i in person2_sp]\n",
    "\n",
    "        # if both individuals only have a last name; put both last names into last name column  ex. edward and joseph\n",
    "        if len(person1_sp) == 1 and len(person2_sp) == 1:\n",
    "            row['to whom due | first name'] = ''\n",
    "            row['to whom due | last name'] = [person1_sp[0], person2_sp[0]] \n",
    "            \n",
    "            print('new last name col (org)=' + listToString(row['to whom due | last name']))\n",
    "        # if there are three separate last names; put all three into last name column: ex. vance caldwell and vance\n",
    "        elif len(person1_sp) == 2 and len(person2_sp) == 1:\n",
    "            row['to whom due | first name'] = ''\n",
    "            row['to whom due | last name'] = [person1_sp[0], person1_sp[1], person2_sp[0]]\n",
    "            print('new last name col=' + listToString(row['to whom due | last name']))\n",
    "        # if both individuals belong to the same family; put names into respective cols: ex. peter and isaac wikoff  \n",
    "        elif len(person1_sp) == 1 and len(person2_sp) == 2:\n",
    "            row['to whom due | first name'] = [person1_sp[0], person2_sp[0]]\n",
    "            row['to whom due | last name'] = person2_sp[1]\n",
    "            print('new first name col=' + listToString(row['to whom due | first name']))\n",
    "            print('new last name col=' + listToString(row['to whom due | last name']))\n",
    "        # if both individuals are two completely different people with full names; ex. john doe and james hill\n",
    "        elif len(person1_sp) == 2 and len(person2_sp) == 2:\n",
    "            row['to whom due | first name'] = [person1_sp[0], person2_sp[0]]\n",
    "            row['to whom due | last name'] = [person1_sp[1], person2_sp[1]]\n",
    "            print('new first name col=' + listToString(row['to whom due | first name']))\n",
    "            print('new last name col=' + listToString(row['to whom due | last name']))\n",
    "        # if either individual has a middle name; group middle names with the last name; ex. john hill doe and james madison hill\n",
    "        elif len(person1_sp) == 3 or len(person2_sp) == 3:\n",
    "            row['to whom due | first name'] = [person1_sp[0], person2_sp[0]]\n",
    "            # determine which individual has the middle name\n",
    "            if len(person1_sp) == 3:\n",
    "                person2_ln = ''\n",
    "                if len(person2_sp) > 1:\n",
    "                    person2_ln = person2_sp[1]\n",
    "                \n",
    "                row['to whom due | last name'] = [person1_sp[1] + ' ' + person1_sp[2], person2_ln]\n",
    "                print('new last name col=' + listToString(row['to whom due | last name']))\n",
    "            elif len(person2_sp) == 3:\n",
    "                person1_ln = ''\n",
    "                if len(person1_sp) > 1:\n",
    "                    person1_ln = person1_sp[1]\n",
    "                \n",
    "                row['to whom due | last name'] = [person1_ln, person2_sp[1] + ' ' + person2_sp[2]]\n",
    "                print('new last name col=' + listToString(row['to whom due | last name']))\n",
    "            # both individuals have a middle name \n",
    "            else:\n",
    "                row['to whom due | last name'] = [person1_sp[1] + ' ' + person1_sp[2], person2_sp[1] + ' ' + person2_sp[2]]\n",
    "                print('new last name col=' + listToString(row['to whom due | last name']))\n",
    "        \n",
    "        # handle all other types of names manually\n",
    "        else:\n",
    "            if org_fn in manual_corrects:\n",
    "                new_fname = str(manual_corrects[org_fn][0])\n",
    "                new_lname = str(manual_corrects[org_fn][1])\n",
    "            else:\n",
    "                new_fname = input('new first name: ')\n",
    "                new_lname = input('new last name: ') \n",
    "                manual_corrects[org_fn] = [new_fname, new_lname]\n",
    "\n",
    "            row['to whom due | first name'] = new_fname.capitalize()\n",
    "            row['to whom due | last name'] = new_lname.capitalize()\n",
    "        \n",
    "        # record change \n",
    "        add_changes(row['to whom due | title'], row['to whom due | title'], org_fn, org_ln, \n",
    "                row['to whom due | first name'], row['to whom due | last name'], 3, row['org_file'], row['org_index'])\n",
    "            \n",
    "        print('+------------------------------+')\n",
    "    # might be a corporation or many names; manually fix\n",
    "    elif ' and ' in org_fn_l and len(org_fn_l.split()) > 7:\n",
    "        print('original name= ' + org_fn_l)\n",
    "         # check if name has already been manually cleaned\n",
    "        if org_fn in manual_corrects:\n",
    "            new_fname = str(manual_corrects[org_fn][0])\n",
    "            new_lname = str(manual_corrects[org_fn][1])\n",
    "        else:\n",
    "            new_fname = input('new first name: ')\n",
    "            new_lname = input('new last name: ') \n",
    "            manual_corrects[org_fn] = [new_fname, new_lname]\n",
    "\n",
    "        row['to whom due | first name'] = new_fname.capitalize()\n",
    "        row['to whom due | last name'] = new_lname.capitalize()\n",
    "        \n",
    "        # record change \n",
    "        add_changes(row['to whom due | title'], row['to whom due | title'], org_fn, org_ln, \n",
    "                row['to whom due | first name'], row['to whom due | last name'], 3, row['org_file'], row['org_index'])\n",
    "\n",
    "        print('new first name col=' + listToString(row['to whom due | first name']))\n",
    "        print('new last name col=' + listToString(row['to whom due | last name']))\n",
    "\n",
    "        print('+------------------------------+')\n",
    "    \n",
    "    # capitalize the names properly \n",
    "    row['to whom due | first name'] = row['to whom due | first name']\n",
    "    row['to whom due | last name'] = row['to whom due | last name']\n",
    "        \n",
    "    return row\n",
    "\n",
    "agg_debt = agg_debt.apply(lambda row: handle_two_name(row), axis=1)"
   ]
  },
  {
   "cell_type": "code",
   "execution_count": null,
   "id": "0395d3ce",
   "metadata": {
    "tags": []
   },
   "outputs": [],
   "source": [
    "# save manual corrections \n",
    "manual_corrects_df = pd.DataFrame.from_dict(manual_corrects, orient='index') \n",
    "manual_corrects_df.columns = ['new first name', 'new last name']\n",
    "manual_corrects_df.to_csv('data/manual_corrections.csv')"
   ]
  },
  {
   "cell_type": "code",
   "execution_count": null,
   "id": "725b0006",
   "metadata": {
    "tags": []
   },
   "outputs": [],
   "source": [
    "# if there are debt entries with multiple individuals, split them into their own rows\n",
    "agg_debt = agg_debt.explode('to whom due | first name')\n",
    "agg_debt = agg_debt.explode('to whom due | last name')\n",
    "# reindex\n",
    "agg_debt['index'] = agg_debt.index"
   ]
  },
  {
   "cell_type": "code",
   "execution_count": null,
   "id": "9aa674ed",
   "metadata": {
    "tags": []
   },
   "outputs": [],
   "source": [
    "# checkup on name_changes\n",
    "name_changes.tail()"
   ]
  },
  {
   "cell_type": "markdown",
   "id": "f552b9ae",
   "metadata": {},
   "source": [
    "## Handle Abbreviations of a Name"
   ]
  },
  {
   "cell_type": "markdown",
   "id": "50aa3adf",
   "metadata": {},
   "source": [
    "<b>Goal: </b>There are individuals who have a handwritten abbreviation of a name in their debt entry. Thanks to Chris, he found a website with all these [abbreviations](https://hull-awe.org.uk/index.php/Conventional_abbreviations_for_forenames). \n",
    "\n",
    "<b>Steps: </b>\n",
    "1. Copy and past the name abbreviations from the website into a dictionary. \n",
    "2. Iterate through each row in the dataframe.\n",
    "3. Check if the name is an abbreviation and change accordingly. \n",
    "4. Record changes. \n"
   ]
  },
  {
   "cell_type": "code",
   "execution_count": null,
   "id": "07208b4f",
   "metadata": {
    "tags": []
   },
   "outputs": [],
   "source": [
    "abbreviations = {\n",
    "    'And':'Andrew', 'Ant':'Anthony', 'Bart':'Bartholomew', 'Cha':'Charles', 'Dor':'Dorothy', 'Dot':'Dorothy', 'Doth':'Dorothy',\n",
    "    'Edw':'Edward', 'Eliz':'Elizabeth', 'Geo':'George', 'H':'Henry', 'Herb':'Herbert', 'Ja':'James', 'Jn':'John', 'Marg':'Margaret', \n",
    "    'Mich':'Michael', 'Pat': 'Patrick', 'Rich':'Richard', 'Tho':'Thomas', 'W':'William', 'Will\\'m':'William'\n",
    "}"
   ]
  },
  {
   "cell_type": "code",
   "execution_count": null,
   "id": "549f8070",
   "metadata": {
    "tags": []
   },
   "outputs": [],
   "source": [
    "def handle_abbreviations(row):\n",
    "    fn = str(row['to whom due | first name'])\n",
    "    if fn in abbreviations:\n",
    "        row['to whom due | first name'] = abbreviations[fn]\n",
    "        # record changes\n",
    "        add_changes(row['to whom due | title'], row['to whom due | title'], fn, \n",
    "                    row['to whom due | last name'], row['to whom due | first name'], \n",
    "                    row['to whom due | last name'], 5, row['org_file'], row['org_index'])\n",
    "    \n",
    "    return row\n",
    "\n",
    "agg_debt = agg_debt.apply(lambda row: handle_abbreviations(row), axis=1)"
   ]
  },
  {
   "cell_type": "code",
   "execution_count": null,
   "id": "bc4fe74e",
   "metadata": {
    "tags": []
   },
   "outputs": [],
   "source": [
    "# checkup on name_changes\n",
    "name_changes.tail()"
   ]
  },
  {
   "cell_type": "markdown",
   "id": "9089ad1c-a53d-40b7-8320-28779869372f",
   "metadata": {},
   "source": [
    "## Grouping Consecutive Names - David"
   ]
  },
  {
   "cell_type": "code",
   "execution_count": null,
   "id": "a1ed9da9-d92f-4e18-9ac4-7a203326ffed",
   "metadata": {
    "tags": []
   },
   "outputs": [],
   "source": [
    "agg_debt[['to whom due | first name', 'to whom due | last name', 'amount | dollars', 'amount | 90th']].head()"
   ]
  },
  {
   "cell_type": "code",
   "execution_count": null,
   "id": "52aea7de-0bc8-4817-9504-035b3de47350",
   "metadata": {
    "tags": []
   },
   "outputs": [],
   "source": [
    "agg_debt['full name'] = agg_debt['to whom due | first name'] + ' ' + agg_debt['to whom due | last name']\n",
    "agg_debt['full name'].head()"
   ]
  },
  {
   "cell_type": "code",
   "execution_count": null,
   "id": "c1731461-5601-4177-b515-8ef3e714ee8d",
   "metadata": {
    "tags": []
   },
   "outputs": [],
   "source": [
    "# Create a final_agg_debt index column - The original index of the row in final_agg_debt.csv\n",
    "agg_debt['final_agg_debt index'] = agg_debt.index\n",
    "\n",
    "# Identify consecutive rows with the same name\n",
    "g = (agg_debt['full name'] != agg_debt.shift().fillna(method='bfill')['full name']).cumsum() \n",
    "\n",
    "agg_debt['org_index'] = agg_debt['org_index'].astype(str)\n",
    "agg_debt['final_agg_debt index'] = agg_debt['final_agg_debt index'].astype(str)\n",
    "\n",
    "# Save the rest of the columns \n",
    "columns = {}\n",
    "for col in agg_debt.columns:\n",
    "    columns[col] = 'first'\n",
    "\n",
    "columns['amount | dollars'] = sum \n",
    "columns['amount | 90th'] = sum\n",
    "columns['org_index'] = ' | '.join \n",
    "columns['final_agg_debt index'] = ' | '.join \n",
    "\n",
    "# Merge consecutive rows with the same name\n",
    "agg_debt = agg_debt.groupby([g]).agg(columns).drop('full name', axis=1)"
   ]
  },
  {
   "cell_type": "code",
   "execution_count": null,
   "id": "ba48d5e4-2152-4fdd-94c2-61314adf5815",
   "metadata": {
    "tags": []
   },
   "outputs": [],
   "source": [
    "agg_debt = agg_debt.reset_index(drop=True)"
   ]
  },
  {
   "cell_type": "code",
   "execution_count": null,
   "id": "f603648d-f92b-4c5f-b156-84c8cd14fd3b",
   "metadata": {
    "tags": []
   },
   "outputs": [],
   "source": [
    "agg_debt = agg_debt.drop('index', axis=1)"
   ]
  },
  {
   "cell_type": "code",
   "execution_count": null,
   "id": "289465f7-1a96-4301-a8f0-81b4e7ab7fda",
   "metadata": {
    "pycharm": {
     "name": "#%%\n"
    },
    "tags": []
   },
   "outputs": [],
   "source": [
    "agg_debt.to_csv('data/agg_debt_grouped.csv') # Save"
   ]
  },
  {
   "cell_type": "code",
   "execution_count": null,
   "id": "0b4eb5c0",
   "metadata": {
    "collapsed": false,
    "jupyter": {
     "outputs_hidden": false
    },
    "pycharm": {
     "name": "#%%\n"
    }
   },
   "outputs": [],
   "source": [
    "breakpoint"
   ]
  }
 ],
 "metadata": {
  "kernelspec": {
   "display_name": "Python 3 (ipykernel)",
   "language": "python",
   "name": "python3"
  },
  "language_info": {
   "codemirror_mode": {
    "name": "ipython",
    "version": 3
   },
   "file_extension": ".py",
   "mimetype": "text/x-python",
   "name": "python",
   "nbconvert_exporter": "python",
   "pygments_lexer": "ipython3",
   "version": "3.12.4"
  }
 },
 "nbformat": 4,
 "nbformat_minor": 5
}
