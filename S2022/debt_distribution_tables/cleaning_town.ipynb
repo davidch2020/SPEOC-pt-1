{
 "cells": [
  {
   "cell_type": "code",
   "execution_count": 190,
   "metadata": {
    "pycharm": {
     "name": "#%%\n"
    }
   },
   "outputs": [],
   "source": [
    "import pandas as pd\n",
    "import numpy as np\n",
    "from rapidfuzz import process, fuzz\n",
    "import os"
   ]
  },
  {
   "cell_type": "markdown",
   "metadata": {
    "pycharm": {
     "name": "#%% md\n"
    }
   },
   "source": [
    "\n",
    "\n",
    "## Cleaning town names\n",
    "\n",
    "Goals:\n",
    "- Clean town names that are different but refer to the same town in `ASD_all.xlsx` and `CD_all.xlsx`.\n",
    "- check if all town names are in the \"town-county\" matching list given by `final_cw.xlsx` - if so, perform the matching.\n",
    "\n",
    "\n",
    "Step 1: flag by 1 records that have NA \"state\" and \"town\" values."
   ]
  },
  {
   "cell_type": "code",
   "execution_count": 191,
   "metadata": {
    "pycharm": {
     "name": "#%%\n"
    }
   },
   "outputs": [
    {
     "name": "stdout",
     "output_type": "stream",
     "text": [
      "(5674, 10) (4377, 13)\n"
     ]
    }
   ],
   "source": [
    "# import and cleaning\n",
    "ASD_all = pd.read_excel(\n",
    "    'ASD_all.xlsx', index_col=0).reset_index(drop=True).dropna(how='all').drop_duplicates().reset_index(drop=True)\n",
    "\n",
    "# CD_all = pd.read_excel(\n",
    "#     'CD_all.xlsx', index_col=0).reset_index(drop=True).dropna(how='all').drop_duplicates().reset_index(drop=True)\n",
    "\n",
    "CD_all = pd.read_csv('../../Data/Post1790/aggregated_CD_noname.csv', index_col=0).reset_index(drop=True)\n",
    "\n",
    "# strip white space\n",
    "for col in ['town', 'state', 'occupation']:\n",
    "    ASD_all[col] = ASD_all[col].str.strip()\n",
    "    CD_all[col] = CD_all[col].str.strip()\n",
    "\n",
    "ASD_all['orig_town'] = ASD_all['town']\n",
    "CD_all['orig_town'] = CD_all['town']\n",
    "    \n",
    "print(ASD_all.shape, CD_all.shape)\n",
    "\n",
    "CD_all.drop(['name_type', 'county'], axis=1, inplace=True)"
   ]
  },
  {
   "cell_type": "code",
   "execution_count": 192,
   "metadata": {
    "pycharm": {
     "name": "#%%\n"
    }
   },
   "outputs": [],
   "source": [
    "ASD_all['FLAG'], CD_all['FLAG'] = 0, 0\n",
    "\n",
    "# identify NA rows\n",
    "ASD_all.loc[(pd.isna(ASD_all['town'])) | (pd.isna(ASD_all['state'])), 'FLAG'] = 1\n",
    "CD_all.loc[(pd.isna(CD_all['town'])) | (pd.isna(CD_all['state'])), 'FLAG'] = 1\n",
    "\n",
    "# select non-NA subdataframe\n",
    "ASD_no_NA = ASD_all[ASD_all['FLAG']==0]\n",
    "CD_no_NA = CD_all[CD_all['FLAG']==0]"
   ]
  },
  {
   "cell_type": "code",
   "execution_count": 193,
   "metadata": {
    "pycharm": {
     "name": "#%%\n"
    }
   },
   "outputs": [
    {
     "name": "stdout",
     "output_type": "stream",
     "text": [
      "{'NJ', 'US', 'RI', 'NH', 'MA', 'DE', 'NC', 'BVI', 'MD', 'PA', 'BM', 'CT', 'SC', 'FR', 'FC', 'VA', 'NY', 'VT', 'GB', 'VI', 'GA'}\n"
     ]
    }
   ],
   "source": [
    "# check all states\n",
    "print(\n",
    "    set(list(ASD_no_NA.state.unique()) + list(CD_no_NA.state.unique()))\n",
    ")"
   ]
  },
  {
   "cell_type": "markdown",
   "metadata": {
    "pycharm": {
     "name": "#%% md\n"
    }
   },
   "source": [
    "Step 2: flag by 2 the records with states outside the following list of states."
   ]
  },
  {
   "cell_type": "code",
   "execution_count": 194,
   "metadata": {
    "pycharm": {
     "name": "#%%\n"
    }
   },
   "outputs": [
    {
     "data": {
      "text/plain": "      6p_Dollar  6p_Cents  6p_def_Dollar  6p_def_Cents  3p_Dollar  3p_Cents  \\\n1753       19.0       NaN            9.0           4.0        NaN       NaN   \n1754      125.0      45.0           62.0          73.0      134.0      87.0   \n1755       90.0       NaN           45.0           NaN       93.0      84.0   \n3974      640.0       4.0          320.0           2.0      406.0      72.0   \n4053       61.0      50.0           30.0          75.0       57.0      16.0   \n\n                          town state occupation  6p_total  \\\n1753                  Eustatia   BVI        NaN       NaN   \n1754                  Eustatia   BVI        NaN    125.45   \n1755                  Eustatia   BVI        NaN       NaN   \n3974                   Bermuda    BM        NaN    640.04   \n4053  Register of the Treasury    US        NaN     61.50   \n\n                     orig_town  FLAG  \n1753                  Eustatia   2.0  \n1754                  Eustatia   2.0  \n1755                  Eustatia   2.0  \n3974                   Bermuda   2.0  \n4053  Register of the Treasury   2.0  ",
      "text/html": "<div>\n<style scoped>\n    .dataframe tbody tr th:only-of-type {\n        vertical-align: middle;\n    }\n\n    .dataframe tbody tr th {\n        vertical-align: top;\n    }\n\n    .dataframe thead th {\n        text-align: right;\n    }\n</style>\n<table border=\"1\" class=\"dataframe\">\n  <thead>\n    <tr style=\"text-align: right;\">\n      <th></th>\n      <th>6p_Dollar</th>\n      <th>6p_Cents</th>\n      <th>6p_def_Dollar</th>\n      <th>6p_def_Cents</th>\n      <th>3p_Dollar</th>\n      <th>3p_Cents</th>\n      <th>town</th>\n      <th>state</th>\n      <th>occupation</th>\n      <th>6p_total</th>\n      <th>orig_town</th>\n      <th>FLAG</th>\n    </tr>\n  </thead>\n  <tbody>\n    <tr>\n      <th>1753</th>\n      <td>19.0</td>\n      <td>NaN</td>\n      <td>9.0</td>\n      <td>4.0</td>\n      <td>NaN</td>\n      <td>NaN</td>\n      <td>Eustatia</td>\n      <td>BVI</td>\n      <td>NaN</td>\n      <td>NaN</td>\n      <td>Eustatia</td>\n      <td>2.0</td>\n    </tr>\n    <tr>\n      <th>1754</th>\n      <td>125.0</td>\n      <td>45.0</td>\n      <td>62.0</td>\n      <td>73.0</td>\n      <td>134.0</td>\n      <td>87.0</td>\n      <td>Eustatia</td>\n      <td>BVI</td>\n      <td>NaN</td>\n      <td>125.45</td>\n      <td>Eustatia</td>\n      <td>2.0</td>\n    </tr>\n    <tr>\n      <th>1755</th>\n      <td>90.0</td>\n      <td>NaN</td>\n      <td>45.0</td>\n      <td>NaN</td>\n      <td>93.0</td>\n      <td>84.0</td>\n      <td>Eustatia</td>\n      <td>BVI</td>\n      <td>NaN</td>\n      <td>NaN</td>\n      <td>Eustatia</td>\n      <td>2.0</td>\n    </tr>\n    <tr>\n      <th>3974</th>\n      <td>640.0</td>\n      <td>4.0</td>\n      <td>320.0</td>\n      <td>2.0</td>\n      <td>406.0</td>\n      <td>72.0</td>\n      <td>Bermuda</td>\n      <td>BM</td>\n      <td>NaN</td>\n      <td>640.04</td>\n      <td>Bermuda</td>\n      <td>2.0</td>\n    </tr>\n    <tr>\n      <th>4053</th>\n      <td>61.0</td>\n      <td>50.0</td>\n      <td>30.0</td>\n      <td>75.0</td>\n      <td>57.0</td>\n      <td>16.0</td>\n      <td>Register of the Treasury</td>\n      <td>US</td>\n      <td>NaN</td>\n      <td>61.50</td>\n      <td>Register of the Treasury</td>\n      <td>2.0</td>\n    </tr>\n  </tbody>\n</table>\n</div>"
     },
     "execution_count": 194,
     "metadata": {},
     "output_type": "execute_result"
    }
   ],
   "source": [
    "state_list = ['RI', 'CT', 'GA', 'MD', 'NC', 'NH', 'NJ', 'NY', 'VA', 'PA', 'RI', 'SC', 'DE', 'MA', 'VT']\n",
    "state_name_list = [\n",
    "            'Rhode Island', 'Connecticut', 'Georgia', 'Maryland', 'North Carolina', \n",
    "            'New Hampshire', 'New Jersey', 'New York', 'Virginia',\n",
    "            'Pennsylvania', 'Rhode Island', 'South Carolina', 'Delaware', \n",
    "            'Massachusetts', 'Vermont'\n",
    "            ]\n",
    "state_list_dict = dict(zip(state_list, state_name_list))\n",
    "\n",
    "ASD_no_NA.loc[ASD_no_NA.apply(lambda row: row.state not in state_list, axis=1), 'FLAG'] = 2\n",
    "CD_no_NA.loc[CD_no_NA.apply(lambda row: row.state not in state_list, axis=1), 'FLAG'] = 2\n",
    "\n",
    "# update to the original df\n",
    "ASD_all.update(ASD_no_NA)\n",
    "CD_all.update(CD_no_NA)\n",
    "\n",
    "\n",
    "CD_all[CD_all['FLAG']==2].head()"
   ]
  },
  {
   "cell_type": "markdown",
   "metadata": {
    "pycharm": {
     "name": "#%% md\n"
    }
   },
   "source": [
    "Step 3: flag by 3 the records\n",
    "- with town name 'State of XX' or 'State XX' or 'XX State' where XX is the state where the town is located, and \n",
    "- with town name exactly or almost the same as the state name (due to typos).\n",
    "\n",
    "These are records for which \"township\" is not available."
   ]
  },
  {
   "cell_type": "code",
   "execution_count": 195,
   "metadata": {
    "pycharm": {
     "name": "#%%\n"
    }
   },
   "outputs": [
    {
     "data": {
      "text/plain": "     6p_Dollar  6p_Cents  6p_def_Dollar  6p_def_Cents  3p_Dollar  3p_Cents  \\\n2        154.0      20.0           77.0          10.0      192.0       NaN   \n36        60.0      37.0           30.0          18.0       63.0      83.0   \n103      248.0      46.0          124.0          23.0      144.0       NaN   \n123      738.0      43.0          369.0          22.0      708.0      13.0   \n168       30.0      48.0           15.0          24.0        8.0      22.0   \n\n                  town state occupation  6p_total          orig_town  FLAG  \n2         Rhode Island    RI     Farmer    154.20       Rhode Island   3.0  \n36        Rhode Island    RI        NaN     60.37       Rhode Island   3.0  \n103  State of New York    NY        NaN    248.46  State of New York   3.0  \n123  State of New York    NY        NaN    738.43  State of New York   3.0  \n168   State of Vermont    VT        NaN     30.48   State of Vermont   3.0  ",
      "text/html": "<div>\n<style scoped>\n    .dataframe tbody tr th:only-of-type {\n        vertical-align: middle;\n    }\n\n    .dataframe tbody tr th {\n        vertical-align: top;\n    }\n\n    .dataframe thead th {\n        text-align: right;\n    }\n</style>\n<table border=\"1\" class=\"dataframe\">\n  <thead>\n    <tr style=\"text-align: right;\">\n      <th></th>\n      <th>6p_Dollar</th>\n      <th>6p_Cents</th>\n      <th>6p_def_Dollar</th>\n      <th>6p_def_Cents</th>\n      <th>3p_Dollar</th>\n      <th>3p_Cents</th>\n      <th>town</th>\n      <th>state</th>\n      <th>occupation</th>\n      <th>6p_total</th>\n      <th>orig_town</th>\n      <th>FLAG</th>\n    </tr>\n  </thead>\n  <tbody>\n    <tr>\n      <th>2</th>\n      <td>154.0</td>\n      <td>20.0</td>\n      <td>77.0</td>\n      <td>10.0</td>\n      <td>192.0</td>\n      <td>NaN</td>\n      <td>Rhode Island</td>\n      <td>RI</td>\n      <td>Farmer</td>\n      <td>154.20</td>\n      <td>Rhode Island</td>\n      <td>3.0</td>\n    </tr>\n    <tr>\n      <th>36</th>\n      <td>60.0</td>\n      <td>37.0</td>\n      <td>30.0</td>\n      <td>18.0</td>\n      <td>63.0</td>\n      <td>83.0</td>\n      <td>Rhode Island</td>\n      <td>RI</td>\n      <td>NaN</td>\n      <td>60.37</td>\n      <td>Rhode Island</td>\n      <td>3.0</td>\n    </tr>\n    <tr>\n      <th>103</th>\n      <td>248.0</td>\n      <td>46.0</td>\n      <td>124.0</td>\n      <td>23.0</td>\n      <td>144.0</td>\n      <td>NaN</td>\n      <td>State of New York</td>\n      <td>NY</td>\n      <td>NaN</td>\n      <td>248.46</td>\n      <td>State of New York</td>\n      <td>3.0</td>\n    </tr>\n    <tr>\n      <th>123</th>\n      <td>738.0</td>\n      <td>43.0</td>\n      <td>369.0</td>\n      <td>22.0</td>\n      <td>708.0</td>\n      <td>13.0</td>\n      <td>State of New York</td>\n      <td>NY</td>\n      <td>NaN</td>\n      <td>738.43</td>\n      <td>State of New York</td>\n      <td>3.0</td>\n    </tr>\n    <tr>\n      <th>168</th>\n      <td>30.0</td>\n      <td>48.0</td>\n      <td>15.0</td>\n      <td>24.0</td>\n      <td>8.0</td>\n      <td>22.0</td>\n      <td>State of Vermont</td>\n      <td>VT</td>\n      <td>NaN</td>\n      <td>30.48</td>\n      <td>State of Vermont</td>\n      <td>3.0</td>\n    </tr>\n  </tbody>\n</table>\n</div>"
     },
     "execution_count": 195,
     "metadata": {},
     "output_type": "execute_result"
    }
   ],
   "source": [
    "ASD_rest = ASD_all[ASD_all['FLAG']==0]\n",
    "CD_rest = CD_all[CD_all['FLAG']==0]\n",
    "\n",
    "# state of XX/state XX - checked\n",
    "ASD_rest.loc[\n",
    "    ASD_rest.apply(lambda row: row.town.lower().startswith('state '), axis=1), 'FLAG'] = 3\n",
    "CD_rest.loc[\n",
    "    CD_rest.apply(lambda row: row.town.lower().startswith('state '), axis=1), 'FLAG'] = 3\n",
    "ASD_rest.loc[ASD_rest.town=='Delaware State', 'FLAG'] = 3\n",
    "CD_rest.loc[CD_rest.town=='Delaware State', 'FLAG'] = 3\n",
    "\n",
    "# town name == state name - checked\n",
    "ASD_rest.loc[ASD_rest.apply(lambda row: row.town==state_list_dict[row.state], axis=1), 'FLAG'] = 3\n",
    "CD_rest.loc[CD_rest.apply(lambda row: row.town==state_list_dict[row.state], axis=1), 'FLAG'] = 3\n",
    "\n",
    "# town name ~= state name - checked\n",
    "ASD_rest.loc[\n",
    "    ASD_rest.apply(lambda row: \n",
    "    process.cdist([row.town], [state_list_dict[row.state]])[0][0] >= 80, axis=1), 'FLAG'\n",
    "    ] = 3\n",
    "CD_rest.loc[\n",
    "    CD_rest.apply(lambda row: \n",
    "    process.cdist([row.town], [state_list_dict[row.state]])[0][0] >= 80, axis=1), 'FLAG'\n",
    "    ] = 3\n",
    "\n",
    "# Carolina in South Carolina (no county named Carolina)\n",
    "ASD_rest.loc[\n",
    "    ASD_rest.apply(lambda row: row.town in state_list_dict[row.state] and\n",
    "    row.town != state_list_dict[row.state], axis=1), 'FLAG'] = 3\n",
    "CD_rest.loc[\n",
    "    CD_rest.apply(lambda row: row.town in state_list_dict[row.state] and\n",
    "    row.town != state_list_dict[row.state], axis=1), 'FLAG'] = 3\n",
    "\n",
    "# update\n",
    "ASD_all.update(ASD_rest)\n",
    "CD_all.update(CD_rest)\n",
    "CD_all[CD_all['FLAG']==3].head()"
   ]
  },
  {
   "cell_type": "markdown",
   "metadata": {
    "pycharm": {
     "name": "#%% md\n"
    }
   },
   "source": [
    "Step 4: unify town names\n",
    "- remove `\"state of\" + state_name` and `\"of\" + state_name` that appear in the town name, except \"City of New York\",\n",
    "- remove `\"state\" + state_name` that appears in the town name,\n",
    "- remove `state_name` from `XX + state_name` or `state_name + XX`,\n",
    "- take into account the three special cases.\n",
    "\n",
    "Then, \n",
    "- create a new identifier and remove \"Town\"/\"County\" from town names.\n",
    "\n",
    "Flag this change by 4."
   ]
  },
  {
   "cell_type": "code",
   "execution_count": 196,
   "metadata": {
    "pycharm": {
     "name": "#%%\n"
    }
   },
   "outputs": [],
   "source": [
    "ASD_rest = ASD_all[ASD_all.FLAG==0]\n",
    "CD_rest = CD_all[CD_all.FLAG==0]\n",
    "\n",
    "def remove_state_from_town(row):\n",
    "    state_name = state_list_dict[row.state]\n",
    "    # state of/of\n",
    "    row.town = row.town.replace(' State of ' + state_name, '')\n",
    "    # state + state_name\n",
    "    row.town = row.town.replace(' State ' + state_name, '')\n",
    "    # special cases\n",
    "    if row.town == 'Boston state Massachusetts':\n",
    "        row.town = 'Boston'\n",
    "\n",
    "    if row.town == 'New Castle County Delaware State':\n",
    "        row.town = 'New Castle County'\n",
    "\n",
    "    if row.town == 'Virginia and Philadelphia':\n",
    "        row.town = 'Philadelphia'\n",
    "\n",
    "    if row.town != 'City of New York':\n",
    "        row.town = row.town.replace(' of ' + state_name, '')\n",
    "        row.town = row.town.replace(state_name, '')\n",
    "    \n",
    "    # flag changes\n",
    "    row.FLAG = 4\n",
    "    return row\n",
    "\n",
    "ASD_rest = ASD_rest.apply(lambda row: remove_state_from_town(row), axis=1)\n",
    "CD_rest = CD_rest.apply(lambda row: remove_state_from_town(row), axis=1)\n",
    "\n",
    "# town_level = 'T' if specified 'Town', 'C' if specified 'County', otherwise 'U'\n",
    "ASD_rest['town_level'] = 'U'\n",
    "ASD_rest.loc[ASD_rest['town'].str.contains('County', na=False), 'town_level'] = 'C'\n",
    "ASD_rest.loc[ASD_rest['town'].str.contains('Town', na=False), 'town_level'] = 'T'\n",
    "\n",
    "def remove_CountyTown(row):\n",
    "    row.town = row.town.replace('County', '')\n",
    "    row.town = row.town.replace('Town', '')\n",
    "    row.FLAG = 4\n",
    "    return row\n",
    "    \n",
    "ASD_rest = ASD_rest.apply(lambda row: remove_CountyTown(row), axis=1)\n",
    "CD_rest = CD_rest.apply(lambda row: remove_CountyTown(row), axis=1)\n",
    "\n",
    "\n",
    "ASD_all.update(ASD_rest)\n",
    "CD_all.update(CD_rest)"
   ]
  },
  {
   "cell_type": "markdown",
   "metadata": {
    "pycharm": {
     "name": "#%% md\n"
    }
   },
   "source": [
    "Step 5: match town names that are likely to be the same one  \n",
    "1. for each state, create a list `A` of town names with # of occurences >= 4; create a list `B` for all the rest towns.\n",
    "2. for each town in list `B`, find the best three matches with towns in list `A` - if above a threshold, report all three and match to the best one. - to be checked afterwards\n",
    "3. all unmatched towns in list `B` become a new list `C` - we WANT to compare one another and if the similarity is above a threshold, group them; otherwise keep it untouched. One simple procedure is for each town in list `C`, group it with all other towns whose distance to it is smaller than a threshold. Then proceed to the next one if it's not in some group already and skip otherwise. This is legitimate because we expect \"typos\" to cause small differences among all mistyped names. Report all the matched and unmatched cases in this round.\n",
    "4. For all above, allow user's input to manually confirm the matches.\n",
    "\n",
    "Flag this change by 5."
   ]
  },
  {
   "cell_type": "code",
   "execution_count": 197,
   "metadata": {
    "pycharm": {
     "name": "#%%\n"
    }
   },
   "outputs": [],
   "source": [
    "def match_towns(df):\n",
    "    if len(df.index)==0:    # Vermont\n",
    "        return df\n",
    "    print(f\"State: {df.state.iloc[0]}\")\n",
    "\n",
    "    val_counts = df.town.value_counts(sort=True)\n",
    "    list_A, list_B = list(val_counts[val_counts>=min(val_counts.iloc[0], 4)].index), list(val_counts[val_counts<min(val_counts.iloc[0], 6)].index)\n",
    "    list_C = list_B.copy()\n",
    "    for town in list_B:\n",
    "        best3 = process.extract(town, list_A)[0:3]\n",
    "        if best3[0][1] >= 85:\n",
    "            print(f\"{town}. Candidates: {[x[0] for x in best3]}. Matched: {best3[0][0]}.\\n\")\n",
    "\n",
    "            # # user input\n",
    "            # ACCEPT = input(\"1 for ACCEPT. 0 for REJECT\")\n",
    "            # # records\n",
    "\n",
    "            # if ACCEPT==1:\n",
    "            # matched to list_A\n",
    "            list_C.remove(town)\n",
    "            df.loc[df.town==town, 'FLAG'] = 5\n",
    "            df.loc[df.town==town, 'town'] = best3[0][0]\n",
    "\n",
    "    list_C_flag = [-1 for x in list_C]\n",
    "    for id, town in enumerate(list_C):\n",
    "        # only do matching if not already matched\n",
    "        if list_C_flag[id] == -1:\n",
    "            bests = [x[0] for x in process.extract(town, list_C, score_cutoff=85)]\n",
    "            if len(bests) > 1:\n",
    "                # if not just oneself\n",
    "                indexes = [list_C.index(x) for x in bests]\n",
    "                # make sure same group has the same id\n",
    "                print(f\"Candidate group: {bests} -> {min(bests, key=len)}\")\n",
    "\n",
    "                # pick the shortest one as the name we want to keep\n",
    "                # this deals with the cases like North Hampton -> Hampton\n",
    "                index_selected = list_C.index(min(bests, key=len))\n",
    "                \n",
    "                for k in indexes: \n",
    "                    list_C_flag[k] = index_selected \n",
    "\n",
    "                # one special case\n",
    "                if bests==['Cumberland', 'Cumb  ']:\n",
    "                    list_C_flag[k] = list_C.index('Cumberland')\n",
    "    \n",
    "    for id, flag in enumerate(list_C_flag):\n",
    "        if flag != -1:\n",
    "            df.loc[df.town==list_C[id], 'FLAG'] = 5\n",
    "            df.loc[df.town==list_C[id], 'town'] = list_C[flag]\n",
    "\n",
    "    return df"
   ]
  },
  {
   "cell_type": "code",
   "execution_count": 198,
   "metadata": {
    "pycharm": {
     "name": "#%%\n"
    }
   },
   "outputs": [
    {
     "name": "stdout",
     "output_type": "stream",
     "text": [
      "State: RI\n",
      "Johnson. Candidates: ['Johnson', 'Johnston', 'South Kingston']. Matched: Johnson.\n",
      "\n",
      "Portsmouth. Candidates: ['Portsmouth', 'North Providence', 'South Kingston']. Matched: Portsmouth.\n",
      "\n",
      "Richmond. Candidates: ['Richmond', 'East Greenwich', 'West Greenwich']. Matched: Richmond.\n",
      "\n",
      "Conventry. Candidates: ['Coventry', 'Exeter', 'North Providence']. Matched: Coventry.\n",
      "\n",
      "Glocester. Candidates: ['Gloucester', 'Exeter', 'Coventry']. Matched: Gloucester.\n",
      "\n",
      "North Kingstone. Candidates: ['North Kingston', 'South Kingston', 'Newport']. Matched: North Kingston.\n",
      "\n",
      "North Kingstown. Candidates: ['North Kingston', 'South Kingston', 'Newport']. Matched: North Kingston.\n",
      "\n",
      "Stoughton now of Providence. Candidates: ['Providence', 'North Providence', 'Johnston']. Matched: Providence.\n",
      "\n",
      "Smithfeild. Candidates: ['Smithfield', 'Scituate', 'Cumberland']. Matched: Smithfield.\n",
      "\n",
      "South Kingstone. Candidates: ['South Kingston', 'North Kingston', 'Johnston']. Matched: South Kingston.\n",
      "\n",
      "Warnick. Candidates: ['Warwick', 'Warren', 'East Greenwich']. Matched: Warwick.\n",
      "\n",
      "State: RI\n",
      "Coventry. Candidates: ['Coventry', 'North Providence', 'Providence']. Matched: Coventry.\n",
      "\n",
      "Johnson. Candidates: ['Johnson', 'Johnston', 'South Kingston']. Matched: Johnson.\n",
      "\n",
      "North Kingston. Candidates: ['North Kingston', 'South Kingston', 'Newport']. Matched: North Kingston.\n",
      "\n",
      "Johnston. Candidates: ['Johnston', 'Johnson', 'South Kingston']. Matched: Johnston.\n",
      "\n",
      "South Kingstone. Candidates: ['South Kingston', 'North Kingston', 'Johnston']. Matched: South Kingston.\n",
      "\n",
      "North Kingstone. Candidates: ['North Kingston', 'South Kingston', 'Newport']. Matched: North Kingston.\n",
      "\n",
      "North Kingstown. Candidates: ['North Kingston', 'South Kingston', 'Newport']. Matched: North Kingston.\n",
      "\n",
      "Stoughton now of Providence. Candidates: ['Providence', 'North Providence', 'Johnston']. Matched: Providence.\n",
      "\n",
      "State: CT\n",
      "Huntington. Candidates: ['Huntington', 'Groton', 'Stonington']. Matched: Huntington.\n",
      "\n",
      "Montville. Candidates: ['Montville', 'Lyme', 'Mansfield']. Matched: Montville.\n",
      "\n",
      "Plainfield. Candidates: ['Plainfield', 'Fairfield', 'Mansfield']. Matched: Plainfield.\n",
      "\n",
      "Tolland. Candidates: ['Tolland', 'Plainfield', 'Bolton']. Matched: Tolland.\n",
      "\n",
      "Canterbury. Candidates: ['Canterbury', 'Danbury', 'Glastonbury']. Matched: Canterbury.\n",
      "\n",
      "Berlin. Candidates: ['Berlin', 'Bolton', 'Hebron']. Matched: Berlin.\n",
      "\n",
      "Thompson. Candidates: ['Thompson', 'Preston', 'Stonington']. Matched: Thompson.\n",
      "\n",
      "Torrington. Candidates: ['Torrington', 'Stonington', 'Groton']. Matched: Torrington.\n",
      "\n",
      "Haddam. Candidates: ['East Haddam', 'Chatham', 'Windham']. Matched: East Haddam.\n",
      "\n",
      "Stonnington. Candidates: ['Stonington', 'Torrington', 'Groton']. Matched: Stonington.\n",
      "\n",
      "Stafford. Candidates: ['Stamford', 'Stratford', 'East Hartford']. Matched: Stamford.\n",
      "\n",
      "New Hartford. Candidates: ['Hartford', 'East Hartford', 'New Milford']. Matched: Hartford.\n",
      "\n",
      "Colchestert. Candidates: ['Colchester', 'Coventry', 'Norwich']. Matched: Colchester.\n",
      "\n",
      "London. Candidates: ['New London', 'Lebanon', 'Bolton']. Matched: New London.\n",
      "\n",
      "Wethersfield in t. Candidates: ['Wethersfield', 'Suffield', 'Mansfield']. Matched: Wethersfield.\n",
      "\n",
      "Candidate group: ['Cornwall', 'Cornwell'] -> Cornwall\n",
      "Candidate group: ['Brooklyn', 'Brooklyne'] -> Brooklyn\n",
      "Candidate group: ['Volentown', 'Voluntown'] -> Volentown\n",
      "Candidate group: ['Southhampton', 'Hampton'] -> Hampton\n",
      "Candidate group: ['Northampton', 'Hampton'] -> Hampton\n",
      "State: CT\n",
      "Montville. Candidates: ['Montville', 'Lyme', 'Mansfield']. Matched: Montville.\n",
      "\n",
      "Huntington. Candidates: ['Huntington', 'Groton', 'Stonington']. Matched: Huntington.\n",
      "\n",
      "Torrington. Candidates: ['Torrington', 'Stonington', 'Groton']. Matched: Torrington.\n",
      "\n",
      "Tolland. Candidates: ['Tolland', 'Plainfield', 'Bolton']. Matched: Tolland.\n",
      "\n",
      "Ashford. Candidates: ['Ashford', 'East Hartford', 'Hartford']. Matched: Ashford.\n",
      "\n",
      "Thompson. Candidates: ['Thompson', 'Preston', 'Stonington']. Matched: Thompson.\n",
      "\n",
      "Canterbury. Candidates: ['Canterbury', 'Danbury', 'Glastonbury']. Matched: Canterbury.\n",
      "\n",
      "Berlin. Candidates: ['Berlin', 'Bolton', 'Hebron']. Matched: Berlin.\n",
      "\n",
      "Plainfield. Candidates: ['Plainfield', 'Fairfield', 'Mansfield']. Matched: Plainfield.\n",
      "\n",
      "Stonnington. Candidates: ['Stonington', 'Torrington', 'Groton']. Matched: Stonington.\n",
      "\n",
      "Haddam. Candidates: ['East Haddam', 'Chatham', 'Windham']. Matched: East Haddam.\n",
      "\n",
      "Stafford. Candidates: ['Stamford', 'Stratford', 'East Hartford']. Matched: Stamford.\n",
      "\n",
      "New Hartford. Candidates: ['Hartford', 'East Hartford', 'New Milford']. Matched: Hartford.\n",
      "\n",
      "London. Candidates: ['New London', 'Lebanon', 'Bolton']. Matched: New London.\n",
      "\n",
      "Candidate group: ['Cornwall', 'Cornwell'] -> Cornwall\n",
      "Candidate group: ['Brooklyn', 'Brooklyne'] -> Brooklyn\n",
      "Candidate group: ['Volentown', 'Voluntown'] -> Volentown\n",
      "Candidate group: ['Hampton', 'Southhampton', 'Northampton'] -> Hampton\n",
      "State: GA\n",
      "State: GA\n",
      "State: MD\n",
      "Somerset. Candidates: ['Somerset', 'St Marys', 'Montgomery']. Matched: Somerset.\n",
      "\n",
      "Cambridge. Candidates: ['Cambridge', 'Charles', 'George']. Matched: Cambridge.\n",
      "\n",
      "Washington. Candidates: ['Washington', 'Talbot', 'George']. Matched: Washington.\n",
      "\n",
      "Queen Annes. Candidates: ['Queen Annes', 'Anne Arundel', 'Charles']. Matched: Queen Annes.\n",
      "\n",
      "Talbot. Candidates: ['Talbot', 'Baltimore', 'Washington']. Matched: Talbot.\n",
      "\n",
      "George town. Candidates: ['George', 'Prince Georges', 'Somerset']. Matched: George.\n",
      "\n",
      "Georges. Candidates: ['George', 'Prince Georges', 'Dorchester']. Matched: George.\n",
      "\n",
      "Candidate group: ['Calvert', 'Calver'] -> Calver\n",
      "State: MD\n",
      "Somerset. Candidates: ['Somerset', 'St Marys', 'Montgomery']. Matched: Somerset.\n",
      "\n",
      "Cambridge. Candidates: ['Cambridge', 'Charles', 'George']. Matched: Cambridge.\n",
      "\n",
      "Washington. Candidates: ['Washington', 'Talbot', 'George']. Matched: Washington.\n",
      "\n",
      "Queen Annes. Candidates: ['Queen Annes', 'Anne Arundel', 'Charles']. Matched: Queen Annes.\n",
      "\n",
      "Talbot. Candidates: ['Talbot', 'Baltimore', 'Washington']. Matched: Talbot.\n",
      "\n",
      "George town. Candidates: ['George', 'Prince Georges', 'Somerset']. Matched: George.\n",
      "\n",
      "Georges. Candidates: ['George', 'Prince Georges', 'Dorchester']. Matched: George.\n",
      "\n",
      "Candidate group: ['Calvert', 'Calver'] -> Calver\n",
      "State: NC\n",
      "Rowan. Candidates: ['Rowan', 'Edenton', 'Newbern']. Matched: Rowan.\n",
      "\n",
      "State: NC\n",
      "Rowan. Candidates: ['Rowan', 'Edenton', 'Newbern']. Matched: Rowan.\n",
      "\n",
      "State: NH\n",
      "Kensington. Candidates: ['Kensington', 'Exeter', 'Concord']. Matched: Kensington.\n",
      "\n",
      "Canterbury. Candidates: ['Canterbury', 'Exeter', 'Concord']. Matched: Canterbury.\n",
      "\n",
      "Candidate group: ['South Hampton', 'Hampton'] -> Hampton\n",
      "Candidate group: ['Londonberry', 'London'] -> London\n",
      "Candidate group: ['Charleston', 'Charlestown'] -> Charleston\n",
      "Candidate group: ['North Hampton', 'Hampton'] -> Hampton\n",
      "Candidate group: ['Newport in', 'Newport'] -> Newport\n",
      "State: NH\n",
      "Canterbury. Candidates: ['Canterbury', 'Exeter', 'Concord']. Matched: Canterbury.\n",
      "\n",
      "Kensington. Candidates: ['Kensington', 'Exeter', 'Concord']. Matched: Kensington.\n",
      "\n",
      "Candidate group: ['South Hampton', 'Hampton'] -> Hampton\n",
      "Candidate group: ['Londonberry', 'London'] -> London\n",
      "Candidate group: ['Charleston', 'Charlestown'] -> Charleston\n",
      "Candidate group: ['North Hampton', 'Hampton'] -> Hampton\n",
      "State: NJ\n",
      "Candidate group: ['Brunswick', 'New Brunswick'] -> Brunswick\n",
      "State: NJ\n",
      "Candidate group: ['Brunswick', 'New Brunswick'] -> Brunswick\n",
      "State: NY\n",
      "State: NY\n",
      "State: VA\n",
      "State: VA\n",
      "State: PA\n",
      "Bethlehem. Candidates: ['Bethlehem', 'Berks', 'Northern Liberties']. Matched: Bethlehem.\n",
      "\n",
      "Northern Liberties. Candidates: ['Northern Liberties', 'Northampton', 'Berks']. Matched: Northern Liberties.\n",
      "\n",
      "Northampton. Candidates: ['Northampton', 'Northern Liberties', 'Northumberland']. Matched: Northampton.\n",
      "\n",
      "Germantown. Candidates: ['Germantown', 'Northampton', 'Berks']. Matched: Germantown.\n",
      "\n",
      "Pittsburgh. Candidates: ['Pittsburgh', 'Bucks', 'Berks']. Matched: Pittsburgh.\n",
      "\n",
      "Delaware. Candidates: ['Delaware', 'Philadelphia', 'Lancaster']. Matched: Delaware.\n",
      "\n",
      "Chester  Pennsylvaina. Candidates: ['Chester', 'Lancaster', 'Reading']. Matched: Chester.\n",
      "\n",
      "Philadephia. Candidates: ['Philadelphia', 'Dauphin', 'Bethlehem']. Matched: Philadelphia.\n",
      "\n",
      "Chester Co. Candidates: ['Chester', 'Lancaster', 'Northern Liberties']. Matched: Chester.\n",
      "\n",
      "The N Lib of Philadelphia. Candidates: ['Philadelphia', 'Dauphin', 'Delaware']. Matched: Philadelphia.\n",
      "\n",
      "Chester and. Candidates: ['Chester', 'Lancaster', 'Westmoreland']. Matched: Chester.\n",
      "\n",
      "Paxton Tot Dauphin. Candidates: ['Dauphin', 'Germantown', 'Northampton']. Matched: Dauphin.\n",
      "\n",
      "Northumberland  Virginia. Candidates: ['Northumberland', 'Northampton', 'Northern Liberties']. Matched: Northumberland.\n",
      "\n",
      "Philadelphila. Candidates: ['Philadelphia', 'Dauphin', 'Carlisle']. Matched: Philadelphia.\n",
      "\n",
      "Church on Philadelphia. Candidates: ['Philadelphia', 'Dauphin', 'Chester']. Matched: Philadelphia.\n",
      "\n",
      "Hatter Philadelphia. Candidates: ['Philadelphia', 'Chester', 'Dauphin']. Matched: Philadelphia.\n",
      "\n",
      "Dauphin and Company. Candidates: ['Dauphin', 'Philadelphia', 'Northampton']. Matched: Dauphin.\n",
      "\n",
      "German. Candidates: ['Germantown', 'Northumberland', 'Northern Liberties']. Matched: Germantown.\n",
      "\n",
      "Northan Liberties. Candidates: ['Northern Liberties', 'Northampton', 'Franklin']. Matched: Northern Liberties.\n",
      "\n",
      "Northum. Candidates: ['Northumberland', 'Northampton', 'Northern Liberties']. Matched: Northumberland.\n",
      "\n",
      "of Philadelphia. Candidates: ['Philadelphia', 'Dauphin', 'Delaware']. Matched: Philadelphia.\n",
      "\n",
      "Frankford Philadelphia. Candidates: ['Philadelphia', 'Franklin', 'Dauphin']. Matched: Philadelphia.\n",
      "\n",
      "Candidate group: ['Kensington', 'Kensignton'] -> Kensington\n",
      "Candidate group: ['Cumb', 'Cumberland'] -> Cumb\n",
      "State: PA\n",
      "Northampton. Candidates: ['Northampton', 'Northern Liberties', 'Northumberland']. Matched: Northampton.\n",
      "\n",
      "Northern Liberties. Candidates: ['Northern Liberties', 'Northampton', 'Berks']. Matched: Northern Liberties.\n",
      "\n",
      "Bethlehem. Candidates: ['Bethlehem', 'Berks', 'Northern Liberties']. Matched: Bethlehem.\n",
      "\n",
      "Germantown. Candidates: ['Germantown', 'Northampton', 'Berks']. Matched: Germantown.\n",
      "\n",
      "Delaware. Candidates: ['Delaware', 'Philadelphia', 'Lancaster']. Matched: Delaware.\n",
      "\n",
      "Pittsburgh. Candidates: ['Pittsburgh', 'Bucks', 'Berks']. Matched: Pittsburgh.\n",
      "\n",
      "Chester  Pennsylvaina. Candidates: ['Chester', 'Lancaster', 'Reading']. Matched: Chester.\n",
      "\n",
      "Chester Co. Candidates: ['Chester', 'Lancaster', 'Northern Liberties']. Matched: Chester.\n",
      "\n",
      "Dauphin and Company. Candidates: ['Dauphin', 'Philadelphia', 'Northampton']. Matched: Dauphin.\n",
      "\n",
      "German. Candidates: ['Germantown', 'Northumberland', 'Northern Liberties']. Matched: Germantown.\n",
      "\n",
      "Chester and. Candidates: ['Chester', 'Lancaster', 'Westmoreland']. Matched: Chester.\n",
      "\n",
      "Hatter Philadelphia. Candidates: ['Philadelphia', 'Chester', 'Dauphin']. Matched: Philadelphia.\n",
      "\n",
      "Church on Philadelphia. Candidates: ['Philadelphia', 'Dauphin', 'Chester']. Matched: Philadelphia.\n",
      "\n",
      "Philadelphila. Candidates: ['Philadelphia', 'Dauphin', 'Carlisle']. Matched: Philadelphia.\n",
      "\n",
      "Northumberland  Virginia. Candidates: ['Northumberland', 'Northampton', 'Northern Liberties']. Matched: Northumberland.\n",
      "\n",
      "Paxton Tot Dauphin. Candidates: ['Dauphin', 'Germantown', 'Northampton']. Matched: Dauphin.\n",
      "\n",
      "Frankford Philadelphia. Candidates: ['Philadelphia', 'Franklin', 'Dauphin']. Matched: Philadelphia.\n",
      "\n",
      "Northum. Candidates: ['Northumberland', 'Northampton', 'Northern Liberties']. Matched: Northumberland.\n",
      "\n",
      "The N Lib of Philadelphia. Candidates: ['Philadelphia', 'Dauphin', 'Delaware']. Matched: Philadelphia.\n",
      "\n",
      "Northan Liberties. Candidates: ['Northern Liberties', 'Northampton', 'Franklin']. Matched: Northern Liberties.\n",
      "\n",
      "of Philadelphia. Candidates: ['Philadelphia', 'Dauphin', 'Delaware']. Matched: Philadelphia.\n",
      "\n",
      "Candidate group: ['Cumb', 'Cumberland'] -> Cumb\n",
      "State: RI\n",
      "Johnson. Candidates: ['Johnson', 'Johnston', 'North Kingston']. Matched: Johnson.\n",
      "\n",
      "Portsmouth. Candidates: ['Portsmouth', 'North Providence', 'South Kingston']. Matched: Portsmouth.\n",
      "\n",
      "Richmond. Candidates: ['Richmond', 'East Greenwich', 'West Greenwich']. Matched: Richmond.\n",
      "\n",
      "State: RI\n",
      "Coventry. Candidates: ['Coventry', 'North Providence', 'Providence']. Matched: Coventry.\n",
      "\n",
      "Johnston. Candidates: ['Johnston', 'Johnson', 'South Kingston']. Matched: Johnston.\n",
      "\n",
      "Johnson. Candidates: ['Johnson', 'Johnston', 'South Kingston']. Matched: Johnson.\n",
      "\n",
      "State: SC\n",
      "St Eustatius. Candidates: ['St Eustatius', 'Santee', 'Charleston']. Matched: St Eustatius.\n",
      "\n",
      "Santee. Candidates: ['Santee', 'St Eustatius', 'Charleston']. Matched: Santee.\n",
      "\n",
      "St James Santee. Candidates: ['Santee', 'St Eustatius', 'Charleston']. Matched: Santee.\n",
      "\n",
      "St Lukes. Candidates: ['St Eustatius', 'Santee', 'Charleston']. Matched: St Eustatius.\n",
      "\n",
      "St James Parish Santee. Candidates: ['Santee', 'St Eustatius', 'Charleston']. Matched: Santee.\n",
      "\n",
      "St George's Parish. Candidates: ['St Eustatius', 'Santee', 'Charleston']. Matched: St Eustatius.\n",
      "\n",
      "Candidate group: ['Camden', 'Camden District'] -> Camden\n",
      "Candidate group: [\"St Luke's\", \"St John's Parish\", \"St Bartholomew's\", \"Bartholomew's Parish\", \"St Johnn's Parish\"] -> St Luke's\n",
      "Candidate group: ['St Helena', \"St John's Parish\", \"St Bartholomew's\", \"St Johnn's Parish\"] -> St Helena\n",
      "Candidate group: ['St Gustavus', \"St Johnn's Parish\"] -> St Gustavus\n",
      "Candidate group: [\"John's Island\", \"Bartholomew's Parish\"] -> John's Island\n",
      "State: SC\n",
      "James Island. Candidates: ['James Island', 'Camden', 'Charleston']. Matched: James Island.\n",
      "\n",
      "Camden. Candidates: ['Camden', 'James Island', 'Charleston']. Matched: Camden.\n",
      "\n",
      "Charlestom. Candidates: ['Charleston', 'Camden', 'Georgetown']. Matched: Charleston.\n",
      "\n",
      "Camden Planter. Candidates: ['Camden', 'James Island', 'Charleston']. Matched: Camden.\n",
      "\n",
      "Candidate group: ['Richard', 'Richard Sennings'] -> Richard\n",
      "Candidate group: ['Ninety six District', '96 District'] -> 96 District\n",
      "Candidate group: ['St Pauls', \"St. Paul's\"] -> St Pauls\n",
      "State: DE\n",
      "Newcastle. Candidates: ['New Castle']. Matched: New Castle.\n",
      "\n",
      "State: DE\n",
      "Newcastle. Candidates: ['New Castle']. Matched: New Castle.\n",
      "\n",
      "State: MA\n",
      "Swansea. Candidates: ['Swansea', 'Andover', 'Newbury Port']. Matched: Swansea.\n",
      "\n",
      "Haverhill. Candidates: ['Haverhill', 'Andover', 'Beverly']. Matched: Haverhill.\n",
      "\n",
      "Andover. Candidates: ['Andover', 'Haverhill', 'Swansea']. Matched: Andover.\n",
      "\n",
      "Dighton. Candidates: ['Dighton', 'Boston', 'Attleborough']. Matched: Dighton.\n",
      "\n",
      "Springfield. Candidates: ['Springfield', 'Cambridge', 'Beverly']. Matched: Springfield.\n",
      "\n",
      "Beverly. Candidates: ['Beverly', 'Haverhill', 'Andover']. Matched: Beverly.\n",
      "\n",
      "Candidate group: ['Tyringham MA', 'Tyringham'] -> Tyringham\n",
      "State: MA\n",
      "Swansea. Candidates: ['Swansea', 'Andover', 'Newbury Port']. Matched: Swansea.\n",
      "\n",
      "Cambridge. Candidates: ['Cambridge', 'Springfield', 'Attleborough']. Matched: Cambridge.\n",
      "\n",
      "Andover. Candidates: ['Andover', 'Haverhill', 'Swansea']. Matched: Andover.\n",
      "\n",
      "Haverhill. Candidates: ['Haverhill', 'Andover', 'Beverly']. Matched: Haverhill.\n",
      "\n",
      "Beverly. Candidates: ['Beverly', 'Haverhill', 'Andover']. Matched: Beverly.\n",
      "\n",
      "Dighton. Candidates: ['Dighton', 'Boston', 'Attleborough']. Matched: Dighton.\n",
      "\n",
      "Springfield. Candidates: ['Springfield', 'Cambridge', 'Beverly']. Matched: Springfield.\n",
      "\n",
      "Candidate group: ['Tyringham', 'Tyringham MA'] -> Tyringham\n"
     ]
    }
   ],
   "source": [
    "# first stripping trailing space\n",
    "ASD_rest['town'] = ASD_rest['town'].apply(lambda x: x.strip())\n",
    "CD_rest['town'] = CD_rest['town'].apply(lambda x: x.strip())\n",
    "\n",
    "# first match to show list (but no update)\n",
    "for state_code in state_list:\n",
    "    \n",
    "    ASD_rest[ASD_rest.state==state_code] = match_towns(ASD_rest[ASD_rest.state==state_code])\n",
    "    CD_rest[CD_rest.state==state_code] = match_towns(CD_rest[CD_rest.state==state_code])"
   ]
  },
  {
   "cell_type": "code",
   "execution_count": 199,
   "metadata": {
    "pycharm": {
     "name": "#%%\n"
    }
   },
   "outputs": [],
   "source": [
    "# keep misclassified cases untouched\n",
    "ASD_rest['mskip'], CD_rest['mskip'] = 0, 0\n",
    "\n",
    "ASD_rest.loc[\n",
    "    ASD_rest.apply(lambda row: row.town in ['Stafford', 'New Hartford', 'New Brunswick', 'St Lukes', \"St George's Parish\"], axis=1), 'mskip'\n",
    "] = 1\n",
    "CD_rest.loc[\n",
    "    CD_rest.apply(lambda row: row.town in ['Stafford', 'New Hartford', 'New Brunswick', 'St Lukes', \"St George's Parish\"], axis=1), 'mskip'\n",
    "] = 1\n",
    "\n",
    "ASD_rest.loc[ASD_rest.town=='George town', 'town'] = 'Georgetown'\n",
    "CD_rest.loc[CD_rest.town=='George town', 'town'] = 'Georgetown'\n",
    "\n",
    "# keep misgrouped cases untouched\n",
    "ASD_rest.loc[ASD_rest.town==\"St Johnn's Parish\", 'town'] = \"St John's Parish\"\n",
    "CD_rest.loc[CD_rest.town==\"St Johnn's Parish\", 'town'] = \"St John's Parish\"\n",
    "\n",
    "ASD_rest.loc[ASD_rest.town==\"St Bartholomew's\", 'town'] = \"St Bartholomew's Parish\"\n",
    "CD_rest.loc[CD_rest.town==\"St Bartholomew's\", 'town'] = \"St Bartholomew's Parish\"\n",
    "ASD_rest.loc[ASD_rest.town==\"Bartholomew's Parish\", 'town'] = \"St Bartholomew's Parish\"\n",
    "CD_rest.loc[CD_rest.town==\"Bartholomew's Parish\", 'town'] = \"St Bartholomew's Parish\"\n",
    "\n",
    "ASD_rest.loc[\n",
    "    ASD_rest.apply(\n",
    "        lambda row: row.town in [\"St Luke's\", \"St John's Parish\", \"St Bartholomew's\",  'St Helena', 'St Gustavus', \"John's Island\"], axis=1\n",
    "        ), 'mskip'\n",
    "] = 1\n",
    "CD_rest.loc[\n",
    "    CD_rest.apply(\n",
    "        lambda row: row.town in [\"St Luke's\", \"St John's Parish\", \"St Bartholomew's\",  'St Helena', 'St Gustavus', \"John's Island\"], axis=1\n",
    "        ), 'mskip'\n",
    "] = 1\n",
    "\n",
    "ASD_rest.loc[ASD_rest.apply(lambda row: row.town in ['Richard Sennings', 'Richard'], axis=1), 'mskip'] = 1\n",
    "CD_rest.loc[CD_rest.apply(lambda row: row.town in ['Richard Sennings', 'Richard'], axis=1), 'mskip'] = 1"
   ]
  },
  {
   "cell_type": "code",
   "execution_count": 200,
   "metadata": {
    "pycharm": {
     "name": "#%%\n"
    }
   },
   "outputs": [
    {
     "name": "stdout",
     "output_type": "stream",
     "text": [
      "State: RI\n",
      "Johnson. Candidates: ['Johnson', 'Johnston', 'North Kingston']. Matched: Johnson.\n",
      "\n",
      "Portsmouth. Candidates: ['Portsmouth', 'North Providence', 'South Kingston']. Matched: Portsmouth.\n",
      "\n",
      "Richmond. Candidates: ['Richmond', 'East Greenwich', 'West Greenwich']. Matched: Richmond.\n",
      "\n",
      "State: RI\n",
      "Coventry. Candidates: ['Coventry', 'North Providence', 'Providence']. Matched: Coventry.\n",
      "\n",
      "Johnston. Candidates: ['Johnston', 'Johnson', 'South Kingston']. Matched: Johnston.\n",
      "\n",
      "Johnson. Candidates: ['Johnson', 'Johnston', 'South Kingston']. Matched: Johnson.\n",
      "\n",
      "State: CT\n",
      "Huntington. Candidates: ['Huntington', 'Groton', 'Stonington']. Matched: Huntington.\n",
      "\n",
      "Montville. Candidates: ['Montville', 'Lyme', 'Mansfield']. Matched: Montville.\n",
      "\n",
      "Thompson. Candidates: ['Thompson', 'Preston', 'Stonington']. Matched: Thompson.\n",
      "\n",
      "Torrington. Candidates: ['Torrington', 'Stonington', 'Groton']. Matched: Torrington.\n",
      "\n",
      "Berlin. Candidates: ['Berlin', 'Bolton', 'Hebron']. Matched: Berlin.\n",
      "\n",
      "Canterbury. Candidates: ['Canterbury', 'Danbury', 'Glastonbury']. Matched: Canterbury.\n",
      "\n",
      "Tolland. Candidates: ['Tolland', 'Plainfield', 'Bolton']. Matched: Tolland.\n",
      "\n",
      "Plainfield. Candidates: ['Plainfield', 'Fairfield', 'Mansfield']. Matched: Plainfield.\n",
      "\n",
      "State: CT\n",
      "Montville. Candidates: ['Montville', 'Lyme', 'Mansfield']. Matched: Montville.\n",
      "\n",
      "Huntington. Candidates: ['Huntington', 'Groton', 'Stonington']. Matched: Huntington.\n",
      "\n",
      "Torrington. Candidates: ['Torrington', 'Stonington', 'Groton']. Matched: Torrington.\n",
      "\n",
      "Tolland. Candidates: ['Tolland', 'Plainfield', 'Bolton']. Matched: Tolland.\n",
      "\n",
      "Berlin. Candidates: ['Berlin', 'Bolton', 'Hebron']. Matched: Berlin.\n",
      "\n",
      "Ashford. Candidates: ['Ashford', 'East Hartford', 'Hartford']. Matched: Ashford.\n",
      "\n",
      "Canterbury. Candidates: ['Canterbury', 'Danbury', 'Glastonbury']. Matched: Canterbury.\n",
      "\n",
      "Thompson. Candidates: ['Thompson', 'Preston', 'Stonington']. Matched: Thompson.\n",
      "\n",
      "Plainfield. Candidates: ['Plainfield', 'Fairfield', 'Mansfield']. Matched: Plainfield.\n",
      "\n",
      "State: GA\n",
      "State: GA\n",
      "State: MD\n",
      "Somerset. Candidates: ['Somerset', 'St Marys', 'Montgomery']. Matched: Somerset.\n",
      "\n",
      "Talbot. Candidates: ['Talbot', 'Baltimore', 'Washington']. Matched: Talbot.\n",
      "\n",
      "Queen Annes. Candidates: ['Queen Annes', 'Anne Arundel', 'Charles']. Matched: Queen Annes.\n",
      "\n",
      "Calver. Candidates: ['Calver', 'Charles', 'Cambridge']. Matched: Calver.\n",
      "\n",
      "Cambridge. Candidates: ['Cambridge', 'Charles', 'George']. Matched: Cambridge.\n",
      "\n",
      "Washington. Candidates: ['Washington', 'Talbot', 'George']. Matched: Washington.\n",
      "\n",
      "State: MD\n",
      "Somerset. Candidates: ['Somerset', 'St Marys', 'Montgomery']. Matched: Somerset.\n",
      "\n",
      "Talbot. Candidates: ['Talbot', 'Baltimore', 'Washington']. Matched: Talbot.\n",
      "\n",
      "Queen Annes. Candidates: ['Queen Annes', 'Anne Arundel', 'Charles']. Matched: Queen Annes.\n",
      "\n",
      "Calver. Candidates: ['Calver', 'Charles', 'Cambridge']. Matched: Calver.\n",
      "\n",
      "Cambridge. Candidates: ['Cambridge', 'Charles', 'George']. Matched: Cambridge.\n",
      "\n",
      "Washington. Candidates: ['Washington', 'Talbot', 'George']. Matched: Washington.\n",
      "\n",
      "State: NC\n",
      "Rowan. Candidates: ['Rowan', 'Edenton', 'Newbern']. Matched: Rowan.\n",
      "\n",
      "State: NC\n",
      "Rowan. Candidates: ['Rowan', 'Edenton', 'Newbern']. Matched: Rowan.\n",
      "\n",
      "State: NH\n",
      "Kensington. Candidates: ['Kensington', 'Hampton', 'Exeter']. Matched: Kensington.\n",
      "\n",
      "Canterbury. Candidates: ['Canterbury', 'Exeter', 'Concord']. Matched: Canterbury.\n",
      "\n",
      "State: NH\n",
      "Canterbury. Candidates: ['Canterbury', 'Exeter', 'Concord']. Matched: Canterbury.\n",
      "\n",
      "Kensington. Candidates: ['Kensington', 'Hampton', 'Exeter']. Matched: Kensington.\n",
      "\n",
      "State: NJ\n",
      "State: NJ\n",
      "State: NY\n",
      "State: NY\n",
      "State: VA\n",
      "State: VA\n",
      "State: PA\n",
      "Bethlehem. Candidates: ['Bethlehem', 'Berks', 'Northern Liberties']. Matched: Bethlehem.\n",
      "\n",
      "Northampton. Candidates: ['Northampton', 'Northern Liberties', 'Northumberland']. Matched: Northampton.\n",
      "\n",
      "Pittsburgh. Candidates: ['Pittsburgh', 'Bucks', 'Berks']. Matched: Pittsburgh.\n",
      "\n",
      "Delaware. Candidates: ['Delaware', 'Philadelphia', 'Lancaster']. Matched: Delaware.\n",
      "\n",
      "State: PA\n",
      "Bethlehem. Candidates: ['Bethlehem', 'Berks', 'Northern Liberties']. Matched: Bethlehem.\n",
      "\n",
      "Northampton. Candidates: ['Northampton', 'Northern Liberties', 'Northumberland']. Matched: Northampton.\n",
      "\n",
      "Pittsburgh. Candidates: ['Pittsburgh', 'Bucks', 'Berks']. Matched: Pittsburgh.\n",
      "\n",
      "Delaware. Candidates: ['Delaware', 'Philadelphia', 'Lancaster']. Matched: Delaware.\n",
      "\n",
      "State: RI\n",
      "Johnson. Candidates: ['Johnson', 'Johnston', 'North Kingston']. Matched: Johnson.\n",
      "\n",
      "Portsmouth. Candidates: ['Portsmouth', 'North Providence', 'South Kingston']. Matched: Portsmouth.\n",
      "\n",
      "Richmond. Candidates: ['Richmond', 'East Greenwich', 'West Greenwich']. Matched: Richmond.\n",
      "\n",
      "State: RI\n",
      "Coventry. Candidates: ['Coventry', 'North Providence', 'Providence']. Matched: Coventry.\n",
      "\n",
      "Johnston. Candidates: ['Johnston', 'Johnson', 'South Kingston']. Matched: Johnston.\n",
      "\n",
      "Johnson. Candidates: ['Johnson', 'Johnston', 'South Kingston']. Matched: Johnson.\n",
      "\n",
      "State: SC\n",
      "Camden. Candidates: ['Camden', 'Charleston', 'Santee']. Matched: Camden.\n",
      "\n",
      "State: SC\n",
      "Camden. Candidates: ['Camden', 'James Island', 'Charleston']. Matched: Camden.\n",
      "\n",
      "James Island. Candidates: ['James Island', 'Camden', 'Charleston']. Matched: James Island.\n",
      "\n",
      "State: DE\n",
      "State: DE\n",
      "State: MA\n",
      "Andover. Candidates: ['Andover', 'Haverhill', 'Swansea']. Matched: Andover.\n",
      "\n",
      "Swansea. Candidates: ['Swansea', 'Andover', 'Newbury Port']. Matched: Swansea.\n",
      "\n",
      "Haverhill. Candidates: ['Haverhill', 'Andover', 'Beverly']. Matched: Haverhill.\n",
      "\n",
      "Dighton. Candidates: ['Dighton', 'Boston', 'Attleborough']. Matched: Dighton.\n",
      "\n",
      "Beverly. Candidates: ['Beverly', 'Haverhill', 'Andover']. Matched: Beverly.\n",
      "\n",
      "Springfield. Candidates: ['Springfield', 'Cambridge', 'Beverly']. Matched: Springfield.\n",
      "\n",
      "State: MA\n",
      "Swansea. Candidates: ['Swansea', 'Andover', 'Newbury Port']. Matched: Swansea.\n",
      "\n",
      "Cambridge. Candidates: ['Cambridge', 'Springfield', 'Attleborough']. Matched: Cambridge.\n",
      "\n",
      "Andover. Candidates: ['Andover', 'Haverhill', 'Swansea']. Matched: Andover.\n",
      "\n",
      "Haverhill. Candidates: ['Haverhill', 'Andover', 'Beverly']. Matched: Haverhill.\n",
      "\n",
      "Dighton. Candidates: ['Dighton', 'Boston', 'Attleborough']. Matched: Dighton.\n",
      "\n",
      "Springfield. Candidates: ['Springfield', 'Cambridge', 'Beverly']. Matched: Springfield.\n",
      "\n",
      "Beverly. Candidates: ['Beverly', 'Haverhill', 'Andover']. Matched: Beverly.\n",
      "\n"
     ]
    }
   ],
   "source": [
    "# match again\n",
    "ASD_rest = ASD_rest[ASD_rest.mskip==0]\n",
    "CD_rest = CD_rest[CD_rest.mskip==0]\n",
    "\n",
    "for state_code in state_list:\n",
    "    \n",
    "    ASD_rest[ASD_rest.state==state_code] = match_towns(ASD_rest[ASD_rest.state==state_code])\n",
    "    CD_rest[CD_rest.state==state_code] = match_towns(CD_rest[CD_rest.state==state_code])\n",
    "\n",
    "# deal with some other special cases\n",
    "ASD_rest.loc[ASD_rest.town=='East Haddam', 'town'] = 'Haddam'\n",
    "CD_rest.loc[CD_rest.town=='East Haddam', 'town'] = 'Haddam'\n",
    "\n",
    "ASD_all.update(ASD_rest)\n",
    "CD_all.update(CD_rest)"
   ]
  },
  {
   "cell_type": "markdown",
   "metadata": {
    "pycharm": {
     "name": "#%% md\n"
    }
   },
   "source": [
    "### Now maps to the County-town list\n",
    "\n",
    "There are a few cases where the `orig_town` names include `'County'`, but gets mapped to nothing on the list. We assign `county` to `name_type` in this case, and let `county` be county name."
   ]
  },
  {
   "cell_type": "code",
   "execution_count": 201,
   "metadata": {
    "pycharm": {
     "name": "#%%\n"
    }
   },
   "outputs": [
    {
     "data": {
      "text/plain": "      orig_town state             county name_type\n0      Hartford    CT    Hartford County      town\n1        Bolton    CT     Tolland County      town\n2  Rhode Island    RI                NaN     state\n5  Wethersfield    CT    Hartford County      town\n6          Lyme    CT  New London County      town",
      "text/html": "<div>\n<style scoped>\n    .dataframe tbody tr th:only-of-type {\n        vertical-align: middle;\n    }\n\n    .dataframe tbody tr th {\n        vertical-align: top;\n    }\n\n    .dataframe thead th {\n        text-align: right;\n    }\n</style>\n<table border=\"1\" class=\"dataframe\">\n  <thead>\n    <tr style=\"text-align: right;\">\n      <th></th>\n      <th>orig_town</th>\n      <th>state</th>\n      <th>county</th>\n      <th>name_type</th>\n    </tr>\n  </thead>\n  <tbody>\n    <tr>\n      <th>0</th>\n      <td>Hartford</td>\n      <td>CT</td>\n      <td>Hartford County</td>\n      <td>town</td>\n    </tr>\n    <tr>\n      <th>1</th>\n      <td>Bolton</td>\n      <td>CT</td>\n      <td>Tolland County</td>\n      <td>town</td>\n    </tr>\n    <tr>\n      <th>2</th>\n      <td>Rhode Island</td>\n      <td>RI</td>\n      <td>NaN</td>\n      <td>state</td>\n    </tr>\n    <tr>\n      <th>5</th>\n      <td>Wethersfield</td>\n      <td>CT</td>\n      <td>Hartford County</td>\n      <td>town</td>\n    </tr>\n    <tr>\n      <th>6</th>\n      <td>Lyme</td>\n      <td>CT</td>\n      <td>New London County</td>\n      <td>town</td>\n    </tr>\n  </tbody>\n</table>\n</div>"
     },
     "execution_count": 201,
     "metadata": {},
     "output_type": "execute_result"
    }
   ],
   "source": [
    "ASD_no_NA = ASD_all[ASD_all['FLAG']!=1]\n",
    "CD_no_NA = CD_all[CD_all['FLAG']!=1]\n",
    "\n",
    "matchlist = pd.read_csv('../../Data/AssetGeography/county_cw.csv', index_col=0)\n",
    "matchlist = matchlist.rename({'town': 'orig_town'}, axis=1)\n",
    "matchlist.head()"
   ]
  },
  {
   "cell_type": "code",
   "execution_count": 202,
   "metadata": {
    "pycharm": {
     "name": "#%%\n"
    }
   },
   "outputs": [
    {
     "data": {
      "text/plain": "      6p_Dollar  6p_Cents  6p_def_Dollar  6p_def_Cents  3p_Dollar  3p_Cents  \\\n4037     1634.0     -0.14         1634.0         -0.08     1634.0      0.38   \n\n           town state occupation         orig_town  FLAG county name_type  \n4037  Pendleton    SC    Planter  Pendleton County   4.0    NaN       NaN  ",
      "text/html": "<div>\n<style scoped>\n    .dataframe tbody tr th:only-of-type {\n        vertical-align: middle;\n    }\n\n    .dataframe tbody tr th {\n        vertical-align: top;\n    }\n\n    .dataframe thead th {\n        text-align: right;\n    }\n</style>\n<table border=\"1\" class=\"dataframe\">\n  <thead>\n    <tr style=\"text-align: right;\">\n      <th></th>\n      <th>6p_Dollar</th>\n      <th>6p_Cents</th>\n      <th>6p_def_Dollar</th>\n      <th>6p_def_Cents</th>\n      <th>3p_Dollar</th>\n      <th>3p_Cents</th>\n      <th>town</th>\n      <th>state</th>\n      <th>occupation</th>\n      <th>orig_town</th>\n      <th>FLAG</th>\n      <th>county</th>\n      <th>name_type</th>\n    </tr>\n  </thead>\n  <tbody>\n    <tr>\n      <th>4037</th>\n      <td>1634.0</td>\n      <td>-0.14</td>\n      <td>1634.0</td>\n      <td>-0.08</td>\n      <td>1634.0</td>\n      <td>0.38</td>\n      <td>Pendleton</td>\n      <td>SC</td>\n      <td>Planter</td>\n      <td>Pendleton County</td>\n      <td>4.0</td>\n      <td>NaN</td>\n      <td>NaN</td>\n    </tr>\n  </tbody>\n</table>\n</div>"
     },
     "execution_count": 202,
     "metadata": {},
     "output_type": "execute_result"
    }
   ],
   "source": [
    "ASD_merged = pd.merge(left=ASD_no_NA, right=matchlist, how='left', on=['state', 'orig_town'])\n",
    "CD_merged = pd.merge(left=CD_no_NA, right=matchlist, how='left', on=['state', 'orig_town'])\n",
    "\n",
    "# select\n",
    "filter_ASD = (ASD_merged.orig_town.str.contains('County')) & (ASD_merged.name_type.isna())\n",
    "filter_CD = (CD_merged.orig_town.str.contains('County')) & (CD_merged.name_type.isna())\n",
    "ASD_merged.loc[filter_ASD]"
   ]
  },
  {
   "cell_type": "code",
   "execution_count": 203,
   "metadata": {
    "pycharm": {
     "name": "#%%\n"
    }
   },
   "outputs": [
    {
     "data": {
      "text/plain": "      6p_Dollar  6p_Cents  6p_def_Dollar  6p_def_Cents  3p_Dollar  3p_Cents  \\\n0        1064.0      75.0          532.0          37.0      508.0      51.0   \n1         449.0      96.0          224.0          97.0      232.0      10.0   \n2         154.0      20.0           77.0          10.0      192.0       NaN   \n3         196.0      75.0           98.0          37.0      172.0      24.0   \n4          53.0      58.0           26.0          79.0       67.0       6.0   \n...         ...       ...            ...           ...        ...       ...   \n3716      120.0      25.0           60.0          12.0       97.0      70.0   \n3717       33.0      33.0           16.0          67.0       31.0      67.0   \n3718      124.0      33.0           62.0          17.0      118.0      41.0   \n3719      242.0      67.0          121.0          33.0       79.0      52.0   \n3720      180.0      47.0           90.0          24.0      207.0      93.0   \n\n                town state  occupation  6p_total       orig_town  FLAG  \\\n0           Hartford    CT    Merchant   1064.75        Hartford   4.0   \n1             Bolton    CT      Farmer    449.96          Bolton   4.0   \n2       Rhode Island    RI      Farmer    154.20    Rhode Island   3.0   \n3           Hartford    CT    Merchant    196.75        Hartford   4.0   \n4           Hartford    CT    Merchant     53.58        Hartford   4.0   \n...              ...   ...         ...       ...             ...   ...   \n3716        New York    NY    Merchant    120.25        New York   3.0   \n3717        Maryland    MD  Shopkeeper     33.33        Maryland   3.0   \n3718        Maryland    MD    Merchant    124.33        Maryland   3.0   \n3719      Charleston    SC         NaN    242.67      Charleston   4.0   \n3720  South Carolina    SC    Marriner    180.47  South Carolina   3.0   \n\n                 county name_type  \n0       Hartford County      town  \n1        Tolland County      town  \n2                   NaN     state  \n3       Hartford County      town  \n4       Hartford County      town  \n...                 ...       ...  \n3716                NaN     state  \n3717                NaN     state  \n3718                NaN     state  \n3719  Charleston County      town  \n3720                NaN     state  \n\n[3721 rows x 14 columns]",
      "text/html": "<div>\n<style scoped>\n    .dataframe tbody tr th:only-of-type {\n        vertical-align: middle;\n    }\n\n    .dataframe tbody tr th {\n        vertical-align: top;\n    }\n\n    .dataframe thead th {\n        text-align: right;\n    }\n</style>\n<table border=\"1\" class=\"dataframe\">\n  <thead>\n    <tr style=\"text-align: right;\">\n      <th></th>\n      <th>6p_Dollar</th>\n      <th>6p_Cents</th>\n      <th>6p_def_Dollar</th>\n      <th>6p_def_Cents</th>\n      <th>3p_Dollar</th>\n      <th>3p_Cents</th>\n      <th>town</th>\n      <th>state</th>\n      <th>occupation</th>\n      <th>6p_total</th>\n      <th>orig_town</th>\n      <th>FLAG</th>\n      <th>county</th>\n      <th>name_type</th>\n    </tr>\n  </thead>\n  <tbody>\n    <tr>\n      <th>0</th>\n      <td>1064.0</td>\n      <td>75.0</td>\n      <td>532.0</td>\n      <td>37.0</td>\n      <td>508.0</td>\n      <td>51.0</td>\n      <td>Hartford</td>\n      <td>CT</td>\n      <td>Merchant</td>\n      <td>1064.75</td>\n      <td>Hartford</td>\n      <td>4.0</td>\n      <td>Hartford County</td>\n      <td>town</td>\n    </tr>\n    <tr>\n      <th>1</th>\n      <td>449.0</td>\n      <td>96.0</td>\n      <td>224.0</td>\n      <td>97.0</td>\n      <td>232.0</td>\n      <td>10.0</td>\n      <td>Bolton</td>\n      <td>CT</td>\n      <td>Farmer</td>\n      <td>449.96</td>\n      <td>Bolton</td>\n      <td>4.0</td>\n      <td>Tolland County</td>\n      <td>town</td>\n    </tr>\n    <tr>\n      <th>2</th>\n      <td>154.0</td>\n      <td>20.0</td>\n      <td>77.0</td>\n      <td>10.0</td>\n      <td>192.0</td>\n      <td>NaN</td>\n      <td>Rhode Island</td>\n      <td>RI</td>\n      <td>Farmer</td>\n      <td>154.20</td>\n      <td>Rhode Island</td>\n      <td>3.0</td>\n      <td>NaN</td>\n      <td>state</td>\n    </tr>\n    <tr>\n      <th>3</th>\n      <td>196.0</td>\n      <td>75.0</td>\n      <td>98.0</td>\n      <td>37.0</td>\n      <td>172.0</td>\n      <td>24.0</td>\n      <td>Hartford</td>\n      <td>CT</td>\n      <td>Merchant</td>\n      <td>196.75</td>\n      <td>Hartford</td>\n      <td>4.0</td>\n      <td>Hartford County</td>\n      <td>town</td>\n    </tr>\n    <tr>\n      <th>4</th>\n      <td>53.0</td>\n      <td>58.0</td>\n      <td>26.0</td>\n      <td>79.0</td>\n      <td>67.0</td>\n      <td>6.0</td>\n      <td>Hartford</td>\n      <td>CT</td>\n      <td>Merchant</td>\n      <td>53.58</td>\n      <td>Hartford</td>\n      <td>4.0</td>\n      <td>Hartford County</td>\n      <td>town</td>\n    </tr>\n    <tr>\n      <th>...</th>\n      <td>...</td>\n      <td>...</td>\n      <td>...</td>\n      <td>...</td>\n      <td>...</td>\n      <td>...</td>\n      <td>...</td>\n      <td>...</td>\n      <td>...</td>\n      <td>...</td>\n      <td>...</td>\n      <td>...</td>\n      <td>...</td>\n      <td>...</td>\n    </tr>\n    <tr>\n      <th>3716</th>\n      <td>120.0</td>\n      <td>25.0</td>\n      <td>60.0</td>\n      <td>12.0</td>\n      <td>97.0</td>\n      <td>70.0</td>\n      <td>New York</td>\n      <td>NY</td>\n      <td>Merchant</td>\n      <td>120.25</td>\n      <td>New York</td>\n      <td>3.0</td>\n      <td>NaN</td>\n      <td>state</td>\n    </tr>\n    <tr>\n      <th>3717</th>\n      <td>33.0</td>\n      <td>33.0</td>\n      <td>16.0</td>\n      <td>67.0</td>\n      <td>31.0</td>\n      <td>67.0</td>\n      <td>Maryland</td>\n      <td>MD</td>\n      <td>Shopkeeper</td>\n      <td>33.33</td>\n      <td>Maryland</td>\n      <td>3.0</td>\n      <td>NaN</td>\n      <td>state</td>\n    </tr>\n    <tr>\n      <th>3718</th>\n      <td>124.0</td>\n      <td>33.0</td>\n      <td>62.0</td>\n      <td>17.0</td>\n      <td>118.0</td>\n      <td>41.0</td>\n      <td>Maryland</td>\n      <td>MD</td>\n      <td>Merchant</td>\n      <td>124.33</td>\n      <td>Maryland</td>\n      <td>3.0</td>\n      <td>NaN</td>\n      <td>state</td>\n    </tr>\n    <tr>\n      <th>3719</th>\n      <td>242.0</td>\n      <td>67.0</td>\n      <td>121.0</td>\n      <td>33.0</td>\n      <td>79.0</td>\n      <td>52.0</td>\n      <td>Charleston</td>\n      <td>SC</td>\n      <td>NaN</td>\n      <td>242.67</td>\n      <td>Charleston</td>\n      <td>4.0</td>\n      <td>Charleston County</td>\n      <td>town</td>\n    </tr>\n    <tr>\n      <th>3720</th>\n      <td>180.0</td>\n      <td>47.0</td>\n      <td>90.0</td>\n      <td>24.0</td>\n      <td>207.0</td>\n      <td>93.0</td>\n      <td>South Carolina</td>\n      <td>SC</td>\n      <td>Marriner</td>\n      <td>180.47</td>\n      <td>South Carolina</td>\n      <td>3.0</td>\n      <td>NaN</td>\n      <td>state</td>\n    </tr>\n  </tbody>\n</table>\n<p>3721 rows × 14 columns</p>\n</div>"
     },
     "execution_count": 203,
     "metadata": {},
     "output_type": "execute_result"
    }
   ],
   "source": [
    "ASD_merged.loc[filter_ASD, 'name_type'] = 'county'\n",
    "ASD_merged.loc[filter_ASD, 'county'] = ASD_merged.loc[filter_ASD, 'town']\n",
    "\n",
    "CD_merged.loc[filter_CD, 'name_type'] = 'county'\n",
    "CD_merged.loc[filter_CD, 'county'] = CD_merged.loc[filter_CD, 'town']\n",
    "\n",
    "CD_merged"
   ]
  },
  {
   "cell_type": "code",
   "execution_count": 204,
   "metadata": {
    "pycharm": {
     "name": "#%%\n"
    }
   },
   "outputs": [],
   "source": [
    "# address Chris's comments\n",
    "ASD_merged.loc[ASD_merged.town=='Brunswick', 'town'] = 'New Brunswick'\n",
    "CD_merged.loc[CD_merged.town=='Brunswick', 'town'] = 'New Brunswick'\n",
    "\n",
    "ASD_merged.loc[(ASD_merged.town=='Johnson') & (ASD_merged.state=='RI'), 'town'] = 'Johnston'\n",
    "CD_merged.loc[(CD_merged.town=='Johnson') & (CD_merged.state=='RI'), 'town'] = 'Johnston'\n",
    "ASD_merged.loc[(ASD_merged.town=='Georges') & (ASD_merged.state=='RI'), 'town'] = 'Georgetown'\n",
    "CD_merged.loc[(CD_merged.town=='Georges') & (CD_merged.state=='RI'), 'town'] = 'Georgetown'\n",
    "\n",
    "# Chester\n",
    "ASD_merged.loc[(ASD_merged.orig_town.str.contains('Chester and County')) |\n",
    "            (ASD_merged.orig_town.str.contains('Chester County'))  |\n",
    "            (ASD_merged.orig_town.str.contains('Chester Co')), 'name_type'] = 'county'\n",
    "\n",
    "CD_merged.loc[(CD_merged.orig_town.str.contains('Chester and County')) |\n",
    "            (CD_merged.orig_town.str.contains('Chester County'))  |\n",
    "            (CD_merged.orig_town.str.contains('Chester Co')), 'name_type'] = 'county'\n",
    "    \n",
    "# Northern Liberties - but already marked as county\n",
    "ASD_merged.loc[ASD_merged.town=='Northern Liberties', 'name_type'] = 'county'\n",
    "CD_merged.loc[CD_merged.town=='Northern Liberties', 'name_type'] = 'county'\n",
    "\n",
    "ASD_merged.loc[(ASD_merged.town=='Cumb') | (ASD_merged.town=='Cumberland'), 'name_type'] = 'county'\n",
    "CD_merged.loc[(CD_merged.town=='Cumb') | (CD_merged.town=='Cumberland'), 'name_type'] = 'county'"
   ]
  },
  {
   "cell_type": "code",
   "execution_count": 205,
   "metadata": {
    "pycharm": {
     "name": "#%%\n"
    }
   },
   "outputs": [],
   "source": [
    "# assign nan to town if name_type == county/state\n",
    "ASD_merged.loc[(ASD_merged.name_type=='county') | (ASD_merged.name_type=='state'), 'town'] = np.nan\n",
    "CD_merged.loc[(CD_merged.name_type=='county') | (CD_merged.name_type=='state'), 'town'] = np.nan\n",
    "\n",
    "ASD_df= ASD_merged.drop(['orig_town'], axis=1)\n",
    "CD_df = CD_merged.drop(['orig_town'], axis=1)\n",
    "\n",
    "ASD_df_strNaN = ASD_df.fillna('NaN')\n",
    "CD_df_strNaN = CD_df.fillna('NaN')"
   ]
  },
  {
   "cell_type": "code",
   "execution_count": 206,
   "metadata": {
    "collapsed": false,
    "pycharm": {
     "name": "#%%\n"
    }
   },
   "outputs": [],
   "source": [
    "states = {\"Connecticut\": \"CT\",\"Delaware\": \"DE\",\"Georgia\": \"GA\", \"Maryland\": \"MD\", \"Massachusetts\": \"MA\",\n",
    "          \"New Hampshire\": \"NH\", \"New Jersey\": \"NJ\", \"New York\": \"NY\",\"North Carolina\": \"NC\",\n",
    "          \"Pennsylvania\": \"PA\", \"Rhode Island\": \"RI\", \"South Carolina\": \"SC\", \"Virginia\": \"VA\", }"
   ]
  },
  {
   "cell_type": "code",
   "execution_count": 207,
   "outputs": [],
   "source": [
    "# aggregate data from colonies & noncolonies\n",
    "CD_df_str_names = CD_df.copy()\n",
    "CD_df_str_names[['county', 'town']] = CD_df_str_names[['county', 'town']].fillna('nan')\n",
    "colonies = CD_df_str_names.loc[(~CD_merged.name_type.isna()) & (CD_merged.name_type!='other')]\n",
    "noncolonies = CD_df_str_names.loc[(CD_merged.name_type.isna()) | (CD_merged.name_type=='other')]\n",
    "colonies = pd.concat([colonies, noncolonies[noncolonies['state'].apply(lambda x: x in states.values())]])\n",
    "noncolonies = noncolonies[noncolonies['state'].apply(lambda x: x not in states.values())]\n",
    "\n",
    "# find total amount of assets held in each town-county-state\n",
    "aggregated_data = colonies.groupby(['state', 'county', 'town'], dropna=False).agg({'6p_total':['sum', 'size']}).reset_index()\n",
    "aggregated_data.columns = ['state', 'county', 'town', '6p_total_sum', '6p_total_count']\n",
    "aggregated_data['town/county pct'] = np.round(aggregated_data['6p_total_sum'] / \\\n",
    "                                     aggregated_data.groupby(['state', 'county'])['6p_total_sum'].transform('sum')*100, 1)\n",
    "aggregated_data['county/state pct'] = np.round(aggregated_data.groupby(['state', 'county'])['6p_total_sum'].transform('sum') / \\\n",
    "                                    aggregated_data.groupby('state')['6p_total_sum'].transform('sum')*100, 1)\n",
    "aggregated_data['state/ovall (excluding non-colonies) pct'] = np.round(aggregated_data.groupby(['state'])['6p_total_sum'].transform('sum') / \\\n",
    "                                                              aggregated_data['6p_total_sum'].sum()*100, 1)\n",
    "\n",
    "noncolonies_agg = noncolonies.groupby(['state', 'county', 'town'], dropna=False).agg({'6p_total':['sum', 'size']}).reset_index()\n",
    "noncolonies_agg.columns = ['state', 'county', 'town', '6p_total_sum', '6p_total_count']\n",
    "pd.concat([aggregated_data, noncolonies_agg]).to_csv('CD_geographical_table_summary.csv')"
   ],
   "metadata": {
    "collapsed": false,
    "pycharm": {
     "name": "#%%\n"
    }
   }
  },
  {
   "cell_type": "code",
   "execution_count": 208,
   "outputs": [],
   "source": [
    "# export crosswalk for original town name, correct town name, county and state\n",
    "mapping_df = CD_merged[['orig_town', 'town', 'county', 'state']]\n",
    "mapping_df.drop_duplicates().to_csv('../../Data/AssetGeography/final_geographical_cw.csv')"
   ],
   "metadata": {
    "collapsed": false,
    "pycharm": {
     "name": "#%%\n"
    }
   }
  }
 ],
 "metadata": {
  "kernelspec": {
   "display_name": "Python 3.9.7 64-bit",
   "language": "python",
   "name": "python3"
  },
  "language_info": {
   "codemirror_mode": {
    "name": "ipython",
    "version": 3
   },
   "file_extension": ".py",
   "mimetype": "text/x-python",
   "name": "python",
   "nbconvert_exporter": "python",
   "pygments_lexer": "ipython3",
   "version": "3.9.7"
  },
  "orig_nbformat": 4,
  "vscode": {
   "interpreter": {
    "hash": "aee8b7b246df8f9039afb4144a1f6fd8d2ca17a180786b69acc140d282b71a49"
   }
  }
 },
 "nbformat": 4,
 "nbformat_minor": 2
}