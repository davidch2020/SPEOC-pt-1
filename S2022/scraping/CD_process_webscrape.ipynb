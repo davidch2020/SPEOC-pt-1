{
 "cells": [
  {
   "cell_type": "code",
   "execution_count": 1,
   "outputs": [],
   "source": [
    "import csv\n",
    "import pandas as pd\n",
    "import numpy as np\n",
    "import itertools\n",
    "from rapidfuzz import fuzz\n",
    "import re\n"
   ],
   "metadata": {
    "collapsed": false,
    "pycharm": {
     "name": "#%%\n"
    }
   }
  },
  {
   "cell_type": "markdown",
   "source": [
    "## Create Final Table - process scraped data"
   ],
   "metadata": {
    "collapsed": false,
    "pycharm": {
     "name": "#%% md\n"
    }
   }
  },
  {
   "cell_type": "code",
   "execution_count": 2,
   "outputs": [],
   "source": [
    "def deNaN(series):\n",
    "    return series.apply(lambda x: \"\" if pd.isnull(x) else x)"
   ],
   "metadata": {
    "collapsed": false,
    "pycharm": {
     "name": "#%%\n"
    }
   }
  },
  {
   "cell_type": "code",
   "execution_count": 3,
   "outputs": [],
   "source": [
    "df = pd.read_csv('CD_results.csv', index_col = 0)\n",
    "df['Search Name'] = df['Search Name'].apply(lambda x: [x.split('\\xa0')[0]] if '[\\'' not in x else x.replace('\\'','').replace('\\\"','').strip('][').split(', '))\n",
    "df['Search Name'] = df['Search Name'].apply(lambda x: \", \".join(x))\n",
    "\n",
    "# add occupations\n",
    "occ_ind = df[df['Search Name'].apply(lambda x: '(' in x)].index\n",
    "df.loc[occ_ind, 'Title'] = df.loc[occ_ind, 'Search Name'].apply(lambda x: re.findall('\\(.*?\\)', x)[0])\n",
    "df['Search Name'] = [sn_list.replace(title, '')  if not pd.isnull(title) else sn_list for sn_list, title in zip(df['Search Name'], df['Title'])]\n",
    "\n",
    "# add esquire roles\n",
    "ind = df[df['Search Name'].apply(lambda ele: ',' in ele and 'esq' in ele.lower())].index\n",
    "df.loc[ind, 'Search Name'] = df.loc[ind, 'Search Name'].apply(lambda ele: ele.replace('Esquire', '').replace(', Esqr', '').replace(', Esq.', '').replace(', Esq','').replace('  ', ' ').strip())\n",
    "df.loc[ind, 'Title'] = 'Esquire'\n",
    "\n",
    "# resolve remaining\n",
    "ind = df[df['Search Name'].apply(lambda x: any([',' in ele for ele in x]))].index\n",
    "\n",
    "# resolve remaining\n",
    "ind = df[df['Search Name'].apply(lambda x: any([',' in ele for ele in x]))].index\n",
    "df.loc[ind, 'Search Name'] = ['Josiah Phelps Junior', 'John Johnson', 'Josiah Bartlett',\n",
    "                              'David Lenox', 'David Lenox',\n",
    "                              'Chrisr Marshall Junior', 'Jacob Laverswyler', 'Beriah Brown II']\n",
    "df.loc[df[df['Search Name'] == 'Josiah Bartlett'].index, 'Title'] = 'Esquire'\n",
    "df.loc[df[df['Search Name'] == 'David Lenox'].index, 'Title'] = 'Colonel'\n",
    "# convert from list to string\n",
    "df['Search Name'] = df['Search Name'].apply(lambda x: x[0] if type(x) == list else x)"
   ],
   "metadata": {
    "collapsed": false,
    "pycharm": {
     "name": "#%%\n"
    }
   }
  },
  {
   "cell_type": "code",
   "execution_count": 4,
   "outputs": [],
   "source": [
    "# manual mistake...\n",
    "df.loc[df[df['Search Name'].apply(lambda x: 'Andrew Douglass' in x)].index, ['town', 'county', 'name_type']] = [np.nan, 'Berks County', 'county']"
   ],
   "metadata": {
    "collapsed": false,
    "pycharm": {
     "name": "#%%\n"
    }
   }
  },
  {
   "cell_type": "code",
   "execution_count": 5,
   "outputs": [],
   "source": [
    "df.loc[df[df['Search Name'] == \"John Otto\"].index, 'town'] = 'Reading'"
   ],
   "metadata": {
    "collapsed": false,
    "pycharm": {
     "name": "#%%\n"
    }
   }
  },
  {
   "cell_type": "code",
   "execution_count": 6,
   "outputs": [],
   "source": [
    "statedict = {'PA':'Pennsylvania', 'CT':'Connecticut', 'MA':'Massachusetts', 'NH':'New Hampshire', 'DE':'Delaware',\n",
    "             'NC':'North Carolina', 'GA':'Georgia', 'NY':'New York', 'NJ': 'New Jersey', 'RI':'Rhode Island',\n",
    "             'VA':'Virginia', 'MD':'Maryland', 'SC':'South Carolina', 'VT':'Vermont'}"
   ],
   "metadata": {
    "collapsed": false,
    "pycharm": {
     "name": "#%%\n"
    }
   }
  },
  {
   "cell_type": "code",
   "execution_count": 7,
   "outputs": [],
   "source": [
    "def processLocationString(name_type, town, county, state):\n",
    "    if name_type == \"town\":\n",
    "        return town + \", \" + county.replace('County', '').strip() + \", \" + statedict[state]\n",
    "    elif name_type == \"county\":\n",
    "        return county.replace('County', '').strip() + \", \" + statedict[state]\n",
    "    elif name_type == \"state\" or name_type == \"state_flag\":\n",
    "        return statedict[state]\n",
    "    else:\n",
    "        return \"United States\""
   ],
   "metadata": {
    "collapsed": false,
    "pycharm": {
     "name": "#%%\n"
    }
   }
  },
  {
   "cell_type": "code",
   "execution_count": 8,
   "outputs": [],
   "source": [
    "df['Original Name'] = df['Original Name'].apply(lambda x: x.replace('\\'','').replace('\\\"','').strip('][').split(', '))\n",
    "df['Original Name2'] = df['Original Name'].apply(lambda x: str(x))\n",
    "\n",
    "# preprocess slavecount oclumns\n",
    "df.loc[df[df['Family Size'].apply(lambda x: '\\xa0' in x if not pd.isnull(x) else False)].index, 'Family Size'] = np.nan"
   ],
   "metadata": {
    "collapsed": false,
    "pycharm": {
     "name": "#%%\n"
    }
   }
  },
  {
   "cell_type": "code",
   "execution_count": 9,
   "outputs": [],
   "source": [
    "df['Combined Location'] = [processLocationString(nt, t, c, s) for l, nt, t, c, s in zip(df['Location'], df['name_type'],\n",
    "                                                                                        df['town'], df['county'], df['state'])]"
   ],
   "metadata": {
    "collapsed": false,
    "pycharm": {
     "name": "#%%\n"
    }
   }
  },
  {
   "cell_type": "code",
   "execution_count": 10,
   "outputs": [],
   "source": [
    "df['Title'] = df['Title'].apply(lambda x: x.replace('(', '').replace(')','') if not pd.isnull(x) else x)"
   ],
   "metadata": {
    "collapsed": false,
    "pycharm": {
     "name": "#%%\n"
    }
   }
  },
  {
   "cell_type": "code",
   "execution_count": 11,
   "outputs": [],
   "source": [
    "# dictionary to convert between string and list version of data\n",
    "str_convert = dict(zip(df['Original Name2'], df['Original Name']))\n",
    "# find unique value for all of the columns - helps with consolidation\n",
    "# use dict.fromkeys because it preserves order\n",
    "df_reformat = df.groupby(['Index', 'Original Name2', 'Combined Location'])['Search Name'].unique().reset_index()\n",
    "for col in ['Match Status', 'Match Reason', 'Location', 'Family Size', 'Slavecount', 'url', 'Title']:\n",
    "    df_merge = df.groupby(['Index', 'Original Name2', 'Combined Location']).agg({col:list}).reset_index()\n",
    "    df_merge[col] = df_merge[col].apply(lambda x: list(dict.fromkeys(x)))\n",
    "    df_reformat = pd.merge(df_reformat, df_merge)\n",
    "# convert back to original format\n",
    "df_reformat['Original Name'] = df_reformat['Original Name2'].apply(lambda x: str_convert[x])\n",
    "# preprocess names to prepare for merging\n",
    "df_reformat['Original Name2'] = df_reformat['Original Name'].apply(lambda x: set([y.replace('\\\"', '') for y in x]))\n",
    "df_reformat['Original Name2'] = df_reformat['Original Name2'].apply(lambda x: str(sorted(x)))"
   ],
   "metadata": {
    "collapsed": false,
    "pycharm": {
     "name": "#%%\n"
    }
   }
  },
  {
   "cell_type": "code",
   "execution_count": 12,
   "outputs": [],
   "source": [
    "occ_table = pd.read_csv(\"../../S2022/occupational_analysis/avg_debt_occupation/occupation_crosswalk.csv\", index_col = 0)\n",
    "occ_dict = dict(zip(occ_table['occupation'], occ_table['new occupation']))"
   ],
   "metadata": {
    "collapsed": false,
    "pycharm": {
     "name": "#%%\n"
    }
   }
  },
  {
   "cell_type": "markdown",
   "source": [
    "## Proess aggregated CD file"
   ],
   "metadata": {
    "collapsed": false,
    "pycharm": {
     "name": "#%% md\n"
    }
   }
  },
  {
   "cell_type": "code",
   "execution_count": 13,
   "outputs": [],
   "source": [
    "# NY loan data\n",
    "CD_raw = pd.read_csv(\"../../Data/Post1790/Aggregated/raw/aggregated_CD_final.csv\")\n",
    "CD_raw['Name'] = CD_raw['Name'].apply(lambda x: set(x.replace('\\'','').replace('\\\"','').strip('][').split(', ')))\n",
    "\n",
    "# create name column string equivalent and dictionary to convert\n",
    "CD_raw['Name_str'] = CD_raw['Name'].apply(lambda x: str(sorted(x)))\n",
    "CD_dict = dict(zip(CD_raw['Name_str'], CD_raw['Name']))\n",
    "\n",
    "# aggregate our reults - creat eaggregated dataframe\n",
    "CD_raw['6p_Total'] = CD_raw['6p_Dollar'].fillna(0) + CD_raw['6p_Cents'].fillna(0)\n",
    "CD_raw['6p_def_Total'] = CD_raw['6p_def_Dollar'].fillna(0) + CD_raw['6p_def_Cents'].fillna(0)\n",
    "CD_raw['3p_Total'] = CD_raw['3p_Dollar'].fillna(0) + CD_raw['3p_Cents'].fillna(0)\n",
    "CD_raw[['occupation']] = CD_raw[['occupation']].fillna('')\n",
    "CD_raw['Raw Location'] = [processLocationString(nt, t, c, s) for nt, t, c, s in zip(CD_raw['name_type'], CD_raw['town'],\n",
    "                                                                                CD_raw['county'], CD_raw['state'])]\n",
    "CD_raw['occupation'] = CD_raw['occupation'].apply(lambda x: occ_table.get(x, x))\n",
    "CD_grouped = CD_raw.groupby(['Name_str', 'Raw Location']).agg({'6p_Total': ['sum', 'count'],\n",
    "                                                               '6p_def_Total': 'sum',\n",
    "                                                               '3p_Total': 'sum',\n",
    "                                                               'occupation': list}).reset_index()\n",
    "CD_grouped.columns = ['Name_str', 'Raw Location', '6p_Total', 'count', '6p_def_Total', '3p_Total', 'Occupation']"
   ],
   "metadata": {
    "collapsed": false,
    "pycharm": {
     "name": "#%%\n"
    }
   }
  },
  {
   "cell_type": "code",
   "execution_count": 14,
   "outputs": [
    {
     "data": {
      "text/plain": "                                               Name_str  \\\n0                                                  ['']   \n1                                                  ['']   \n2                                                  ['']   \n3     ['10926 in Favor Johh Brown from the Register ...   \n4                                       ['Aaron Bourn']   \n...                                                 ...   \n3231                               ['Zebulon Waterman']   \n3232                              ['Zephaniah Andrews']   \n3233                                ['Zephaniah Brown']   \n3234                                ['Zephaniah Davis']   \n3235                                ['Zuriel Waterman']   \n\n                              Raw Location  6p_Total  count  6p_def_Total  \\\n0                                 Maryland       0.0      1           0.0   \n1                             Pennsylvania       0.0     10           0.0   \n2                             Rhode Island       0.0      7           0.0   \n3                             Rhode Island      84.0      1         197.0   \n4           Bristol, Bristol, Rhode Island     243.0      1         121.0   \n...                                    ...       ...    ...           ...   \n3231   Colchester, New London, Connecticut     244.0      1         123.0   \n3232  Providence, Providence, Rhode Island    1301.0      3         699.0   \n3233  Providence, Providence, Rhode Island    1715.0      2         906.0   \n3234          Hebron, Tolland, Connecticut      98.0      1          98.0   \n3235    Cranston, Providence, Rhode Island      37.0      1          68.0   \n\n      3p_Total  Occupation  \n0          0.0          []  \n1          0.0          []  \n2          0.0          []  \n3        307.0          []  \n4        284.0     [Baker]  \n...        ...         ...  \n3231     244.0    [Farmer]  \n3232     832.0     [Mason]  \n3233     744.0  [Merchant]  \n3234      74.0    [Farmer]  \n3235       0.0    [Yeoman]  \n\n[3236 rows x 7 columns]",
      "text/html": "<div>\n<style scoped>\n    .dataframe tbody tr th:only-of-type {\n        vertical-align: middle;\n    }\n\n    .dataframe tbody tr th {\n        vertical-align: top;\n    }\n\n    .dataframe thead th {\n        text-align: right;\n    }\n</style>\n<table border=\"1\" class=\"dataframe\">\n  <thead>\n    <tr style=\"text-align: right;\">\n      <th></th>\n      <th>Name_str</th>\n      <th>Raw Location</th>\n      <th>6p_Total</th>\n      <th>count</th>\n      <th>6p_def_Total</th>\n      <th>3p_Total</th>\n      <th>Occupation</th>\n    </tr>\n  </thead>\n  <tbody>\n    <tr>\n      <th>0</th>\n      <td>['']</td>\n      <td>Maryland</td>\n      <td>0.0</td>\n      <td>1</td>\n      <td>0.0</td>\n      <td>0.0</td>\n      <td>[]</td>\n    </tr>\n    <tr>\n      <th>1</th>\n      <td>['']</td>\n      <td>Pennsylvania</td>\n      <td>0.0</td>\n      <td>10</td>\n      <td>0.0</td>\n      <td>0.0</td>\n      <td>[]</td>\n    </tr>\n    <tr>\n      <th>2</th>\n      <td>['']</td>\n      <td>Rhode Island</td>\n      <td>0.0</td>\n      <td>7</td>\n      <td>0.0</td>\n      <td>0.0</td>\n      <td>[]</td>\n    </tr>\n    <tr>\n      <th>3</th>\n      <td>['10926 in Favor Johh Brown from the Register ...</td>\n      <td>Rhode Island</td>\n      <td>84.0</td>\n      <td>1</td>\n      <td>197.0</td>\n      <td>307.0</td>\n      <td>[]</td>\n    </tr>\n    <tr>\n      <th>4</th>\n      <td>['Aaron Bourn']</td>\n      <td>Bristol, Bristol, Rhode Island</td>\n      <td>243.0</td>\n      <td>1</td>\n      <td>121.0</td>\n      <td>284.0</td>\n      <td>[Baker]</td>\n    </tr>\n    <tr>\n      <th>...</th>\n      <td>...</td>\n      <td>...</td>\n      <td>...</td>\n      <td>...</td>\n      <td>...</td>\n      <td>...</td>\n      <td>...</td>\n    </tr>\n    <tr>\n      <th>3231</th>\n      <td>['Zebulon Waterman']</td>\n      <td>Colchester, New London, Connecticut</td>\n      <td>244.0</td>\n      <td>1</td>\n      <td>123.0</td>\n      <td>244.0</td>\n      <td>[Farmer]</td>\n    </tr>\n    <tr>\n      <th>3232</th>\n      <td>['Zephaniah Andrews']</td>\n      <td>Providence, Providence, Rhode Island</td>\n      <td>1301.0</td>\n      <td>3</td>\n      <td>699.0</td>\n      <td>832.0</td>\n      <td>[Mason]</td>\n    </tr>\n    <tr>\n      <th>3233</th>\n      <td>['Zephaniah Brown']</td>\n      <td>Providence, Providence, Rhode Island</td>\n      <td>1715.0</td>\n      <td>2</td>\n      <td>906.0</td>\n      <td>744.0</td>\n      <td>[Merchant]</td>\n    </tr>\n    <tr>\n      <th>3234</th>\n      <td>['Zephaniah Davis']</td>\n      <td>Hebron, Tolland, Connecticut</td>\n      <td>98.0</td>\n      <td>1</td>\n      <td>98.0</td>\n      <td>74.0</td>\n      <td>[Farmer]</td>\n    </tr>\n    <tr>\n      <th>3235</th>\n      <td>['Zuriel Waterman']</td>\n      <td>Cranston, Providence, Rhode Island</td>\n      <td>37.0</td>\n      <td>1</td>\n      <td>68.0</td>\n      <td>0.0</td>\n      <td>[Yeoman]</td>\n    </tr>\n  </tbody>\n</table>\n<p>3236 rows × 7 columns</p>\n</div>"
     },
     "execution_count": 14,
     "metadata": {},
     "output_type": "execute_result"
    }
   ],
   "source": [
    "CD_grouped['Occupation'] = CD_grouped['Occupation'].apply(lambda x: list(dict.fromkeys(x)))\n",
    "CD_grouped"
   ],
   "metadata": {
    "collapsed": false,
    "pycharm": {
     "name": "#%%\n"
    }
   }
  },
  {
   "cell_type": "markdown",
   "source": [
    "## Merge Data"
   ],
   "metadata": {
    "collapsed": false,
    "pycharm": {
     "name": "#%% md\n"
    }
   }
  },
  {
   "cell_type": "code",
   "execution_count": 15,
   "outputs": [],
   "source": [
    "# merge NY asset data and scraped data\n",
    "CD_final = pd.merge(CD_grouped, df_reformat, left_on=['Name_str', 'Raw Location'], right_on = ['Original Name2', 'Combined Location'], how = 'left')\n",
    "\n",
    "# filling in information for left joins\n",
    "nanind = CD_final[CD_final['Name_str'].apply(lambda x: x == '[\\'\\']')].index\n",
    "CD_final.loc[nanind, 'Original Name2'] = CD_final.loc[nanind, 'Name_str'].tolist()\n",
    "CD_final.loc[nanind, ['Combined Location']] = CD_final.loc[nanind, 'Raw Location'].tolist()\n",
    "CD_final.loc[nanind, 'Search Name'] = CD_final.loc[nanind, 'Name_str'].tolist()\n",
    "CD_final.loc[nanind, 'Original Name'] = ['' for x in range(len(nanind))]\n",
    "CD_final.loc[nanind, 'Family Size'] = [np.nan for x in range(len(nanind))]\n",
    "CD_final.loc[nanind, 'Slavecount'] = [np.nan for x in range(len(nanind))]\n",
    "CD_final.loc[nanind, 'Location'] = [np.nan for x in range(len(nanind))]\n",
    "CD_final.loc[nanind, ['Match Reason']] = ['No Match Found' for x in range(len(nanind)) ]\n",
    "CD_final.loc[nanind, ['Match Status']] = ['No Match' for x in range(len(nanind))]"
   ],
   "metadata": {
    "collapsed": false,
    "pycharm": {
     "name": "#%%\n"
    }
   }
  },
  {
   "cell_type": "code",
   "execution_count": 16,
   "outputs": [],
   "source": [
    "for col in ['Match Status', 'Match Reason', 'Location', 'Family Size', 'Slavecount', 'url', 'Title', 'Occupation']:\n",
    "    CD_final[col] = CD_final[col].apply(lambda x: [x] if type(x) != list else x)"
   ],
   "metadata": {
    "collapsed": false,
    "pycharm": {
     "name": "#%%\n"
    }
   }
  },
  {
   "cell_type": "code",
   "execution_count": 17,
   "outputs": [],
   "source": [
    "CD_final['Original Name'] = CD_final['Original Name2'].apply(lambda x: CD_dict.get(x, ['']))\n",
    "CD_final['occupation'] = CD_final['Raw Location'].apply(lambda x: occ_dict.get(x, x))\n",
    "CD_final.drop(['Original Name2', 'Combined Location'], axis = 1, inplace = True)\n",
    "# re-string Search Name Column\n",
    "CD_final['Name_str'] = CD_final.apply(lambda x: str(sorted(x['Search Name'])) if type(x['Search Name']) != float else x['Name_str'], axis = 1)"
   ],
   "metadata": {
    "collapsed": false,
    "pycharm": {
     "name": "#%%\n"
    }
   }
  },
  {
   "cell_type": "code",
   "execution_count": 18,
   "outputs": [],
   "source": [
    "# names that we will match\n",
    "sn_series = CD_final['Search Name'].explode().drop_duplicates()\n",
    "sn_names = [sn for sn in CD_final['Search Name'].tolist() if len(sn) < 2]\n",
    "sn_series = [x for x in sn_series[sn_series.apply(lambda x: [x] in sn_names)]]"
   ],
   "metadata": {
    "collapsed": false,
    "pycharm": {
     "name": "#%%\n"
    }
   }
  },
  {
   "cell_type": "code",
   "execution_count": 19,
   "outputs": [],
   "source": [
    "# use fuzzy string matching to see if the same name appears multiple times spelled slightly differently\n",
    "elements = sn_series\n",
    "results = [[name, [], 0] for name in elements]\n",
    "\n",
    "for (i, element) in enumerate(elements):\n",
    "    for (j, choice) in enumerate(elements[i+1:]):\n",
    "        if fuzz.ratio(element, choice, score_cutoff=85):\n",
    "            results[i][2] += 1\n",
    "            results[i][1].append(choice)\n",
    "            results[j+i+1][2] += 1\n",
    "            results[j+i+1][1].append(element)\n",
    "# remove names with no matches\n",
    "match_df = pd.DataFrame(results, columns=['name', 'duplicates', 'duplicate_count'])\n",
    "\n",
    "match_df['dup_list'] = [[name] + dup for name, dup in zip(match_df['name'], match_df['duplicates'])]\n",
    "match_df['dup_list_str'] = match_df['dup_list'].apply(lambda x: str(sorted(x)))\n",
    "match_df = match_df[match_df['duplicate_count'] > 0]\n",
    "\n",
    "# create duplicate list\n",
    "# convert to string format, create match reason column\n",
    "\n",
    "mr_dict = dict(zip(CD_final[CD_final['Search Name'].apply(lambda x: len(x) == 1)]['Search Name'].apply(lambda x: x[0]),\n",
    "                   CD_final[CD_final['Search Name'].apply(lambda x: len(x) == 1)]['Match Reason']))\n",
    "location_dict = dict(zip(CD_final[CD_final['Search Name'].apply(lambda x: len(x) == 1)]['Search Name'].apply(lambda x: x[0]),\n",
    "                   CD_final[CD_final['Search Name'].apply(lambda x: len(x) == 1)]['Raw Location']))\n",
    "match_df['match reason'] = match_df['name'].apply(lambda x: mr_dict[x][0])\n",
    "match_df['location'] = match_df['name'].apply(lambda x: location_dict[x])"
   ],
   "metadata": {
    "collapsed": false,
    "pycharm": {
     "name": "#%%\n"
    }
   }
  },
  {
   "cell_type": "code",
   "execution_count": 20,
   "outputs": [
    {
     "name": "stderr",
     "output_type": "stream",
     "text": [
      "/var/folders/5s/dvrxt95949x1pm_sjxm85lj00000gn/T/ipykernel_51906/153827282.py:9: SettingWithCopyWarning: \n",
      "A value is trying to be set on a copy of a slice from a DataFrame.\n",
      "Try using .loc[row_indexer,col_indexer] = value instead\n",
      "\n",
      "See the caveats in the documentation: https://pandas.pydata.org/pandas-docs/stable/user_guide/indexing.html#returning-a-view-versus-a-copy\n",
      "  grouped_df['dup_list'] = [([dup] if type(dup) != list else dup) + [name] for dup, name in zip(grouped_df['duplicates'], grouped_df['name'])]\n"
     ]
    }
   ],
   "source": [
    "names = ['Benjn  Loxley','Benjamin Loxley','Elial Williams','Elias Williams','Joseph Greer','Joseph Grier',\n",
    "         'Joseph R Tatem','Joseph  Tatem','Naphtali Phillips','Napthali Phillips','Robert Porter','Robt  Porter',\n",
    "         'Edward Trescott','Edward Trescot', 'Archibald Harvey', 'Archibald Hervey', 'Andrew  Caldwell', 'andrew Caldwell',\n",
    "         'Daniel Tefft', 'Daniel Tofft', 'Frantz Jacob Foltz', 'Franz Jacob Follz', 'John Bleakley','John Bleakly',\n",
    "         'Mary Muncreef','Mary Muncrief', 'Peter Heisler','Peter Heister','John Bleakley','John Bleakly']\n",
    "grouped_df = match_df[match_df['name'].apply(lambda x: x in names)]\n",
    "grouped_df.loc[grouped_df[grouped_df['name'] == 'Elias Williams'].index, 'duplicates'] = ['Elial Williams']\n",
    "grouped_df.loc[grouped_df[grouped_df['name'] == 'Joseph Greer'].index, 'duplicates'] = ['Joseph Grier']\n",
    "grouped_df['dup_list'] = [([dup] if type(dup) != list else dup) + [name] for dup, name in zip(grouped_df['duplicates'], grouped_df['name'])]\n",
    "# list to manually remove certain matches\n",
    "final_merge = grouped_df"
   ],
   "metadata": {
    "collapsed": false,
    "pycharm": {
     "name": "#%%\n"
    }
   }
  },
  {
   "cell_type": "code",
   "execution_count": 21,
   "outputs": [],
   "source": [
    "fuzzy_merge_dict = dict(zip(final_merge['name'].apply(lambda x: str([x])),\n",
    "                            final_merge['dup_list_str'].astype(str)))\n",
    "# add in merged data\n",
    "CD_final['Name_str_new'] = CD_final['Name_str'].apply(lambda x: fuzzy_merge_dict.get(x, x))"
   ],
   "metadata": {
    "collapsed": false,
    "pycharm": {
     "name": "#%%\n"
    }
   }
  },
  {
   "cell_type": "code",
   "execution_count": 22,
   "outputs": [],
   "source": [
    "CD_grouped = CD_final.groupby(['Name_str_new', 'Raw Location']).agg({'count':'sum', '6p_Total':'sum', '6p_def_Total':'sum', '3p_Total':'sum',\n",
    "                                                                     'Family Size': list,  'Location': list, 'Match Reason': list,\n",
    "                                                                     'Match Status': list, 'Slavecount': list, 'url': list,\n",
    "                                                                     'Name_str': list, 'Occupation': list, 'Title': list}).reset_index()\n",
    "# remove duplicates, flatten string\n",
    "for cols in ['Family Size', 'Location', 'Match Reason', 'Match Status', 'Slavecount', 'url', 'Occupation', 'Title']:\n",
    "    CD_grouped[cols] = CD_grouped[cols].apply(lambda x: list(dict.fromkeys(list(itertools.chain(*x)))))\n",
    "\n",
    "# change to list format\n",
    "namestr_dict = dict(zip(CD_final['Name_str'], CD_final['Search Name']))\n",
    "CD_grouped['Name_str'] = CD_grouped['Name_str'].apply(lambda x: list(dict.fromkeys(list(itertools.chain(*[namestr_dict[ele] for ele in x])))))\n",
    "CD_grouped.rename({'Name_str': 'Original Search Names'}, axis = 1, inplace = True)\n",
    "\n",
    "# aggregate data - group by search name\n",
    "CD_grouped['Name_str_new'] = CD_grouped['Original Search Names'].apply(lambda x: [max(x, key=len)] if x in final_merge['dup_list'].tolist() else x)\n",
    "CD_grouped.rename({'Name_str_new': 'Search Names'}, axis = 1, inplace = True)"
   ],
   "metadata": {
    "collapsed": false,
    "pycharm": {
     "name": "#%%\n"
    }
   }
  },
  {
   "cell_type": "markdown",
   "source": [
    "## Eliminate duplicate names in a list of names"
   ],
   "metadata": {
    "collapsed": false,
    "pycharm": {
     "name": "#%% md\n"
    }
   }
  },
  {
   "cell_type": "code",
   "execution_count": 23,
   "outputs": [],
   "source": [
    "CD_table = CD_grouped.copy()\n",
    "CD_table['Search Names'] = CD_grouped['Search Names'].apply(lambda x: [x] if type(x) != list else x)\n",
    "CD_table.loc[0:2, 'Search Names'] = CD_table.loc[0:2, 'Search Names'].apply(lambda x: [''])"
   ],
   "metadata": {
    "collapsed": false,
    "pycharm": {
     "name": "#%%\n"
    }
   }
  },
  {
   "cell_type": "code",
   "execution_count": 24,
   "outputs": [],
   "source": [
    "# processing names where search names length is 4\n",
    "name_length = 5\n",
    "# processing search names length of 2\n",
    "names = CD_table[CD_table['Search Names'].apply(lambda x: len(x) == name_length)]['Search Names']\n",
    "locations = CD_table[CD_table['Search Names'].apply(lambda x: len(x) == name_length)]['Raw Location']\n",
    "namedict = dict(zip([str(n) for n in names], names))\n",
    "locationdict = dict(zip([str(n) for n in names], locations))\n",
    "\n",
    "remlist = []\n",
    "for name_str, name in namedict.items():\n",
    "    match = False\n",
    "    ind = CD_table[[str(sn) == name_str and loc == locationdict[name_str] for sn, loc in zip(CD_table['Search Names'], CD_table['Raw Location'])]].index\n",
    "    for n in name:\n",
    "        if not match:\n",
    "            mr = df[[sn == n and loc == locationdict[name_str] for sn, loc in zip(df['Search Name'], df['Combined Location'])]]['Match Reason'].tolist()[0]\n",
    "            if mr == 'Full Match':\n",
    "                CD_table.loc[ind, 'Search Name'] = n\n",
    "                match = True"
   ],
   "metadata": {
    "collapsed": false,
    "pycharm": {
     "name": "#%%\n"
    }
   }
  },
  {
   "cell_type": "code",
   "execution_count": 25,
   "outputs": [],
   "source": [
    "# processing names where search names length is 4\n",
    "name_length = 4\n",
    "# processing search names length of 2\n",
    "names = CD_table[CD_table['Search Names'].apply(lambda x: len(x) == name_length)]['Search Names']\n",
    "locations = CD_table[CD_table['Search Names'].apply(lambda x: len(x) == name_length)]['Raw Location']\n",
    "namedict = dict(zip([str(n) for n in names], names))\n",
    "locationdict = dict(zip([str(n) for n in names], locations))\n",
    "\n",
    "remlist = []\n",
    "for name_str, name in namedict.items():\n",
    "    match = False\n",
    "    ind = CD_table[[str(sn) == name_str and loc == locationdict[name_str] for sn, loc in zip(CD_table['Search Names'], CD_table['Raw Location'])]].index\n",
    "    mr_list = CD_table.loc[ind, 'Match Reason'].tolist()[0]\n",
    "    for n in name:\n",
    "        if not match:\n",
    "            mr = df[[sn == n and loc == locationdict[name_str] for sn, loc in zip(df['Search Name'], df['Combined Location'])]]['Match Reason'].tolist()[0]\n",
    "            if mr == 'Full Match':\n",
    "                CD_table.loc[ind, 'Search Name'] = n\n",
    "                match = True\n",
    "            elif 'Full Match' not in mr_list and \"Only Location\" in mr:\n",
    "                CD_table.loc[ind, 'Search Name'] = n\n",
    "                match = True\n",
    "            elif ('Full Match' not in mr_list and \"Only Location\" not in mr_list) and \"Too Many\" in mr:\n",
    "                CD_table.loc[ind, 'Search Name'] = n\n",
    "                match = True"
   ],
   "metadata": {
    "collapsed": false,
    "pycharm": {
     "name": "#%%\n"
    }
   }
  },
  {
   "cell_type": "code",
   "execution_count": 26,
   "outputs": [],
   "source": [
    "# Manually remove names for when length of the name list is 4\n",
    "ind = CD_table[CD_table['Search Names'].apply(lambda x: str(x) == \"['Catherine Coleman', 'Catharine Coleman', 'William Coleman', 'Jacob Coleman']\")].index\n",
    "CD_table.loc[ind, 'Search Names'] = CD_table.loc[ind, 'Search Names'].apply(lambda x: ['Catherine Coleman', 'William Coleman', 'Jacob Coleman'])"
   ],
   "metadata": {
    "collapsed": false,
    "pycharm": {
     "name": "#%%\n"
    }
   }
  },
  {
   "cell_type": "code",
   "execution_count": 27,
   "outputs": [],
   "source": [
    "# processing names where search names length is 4\n",
    "name_length = 3\n",
    "# processing search names length of 2\n",
    "names = CD_table[CD_table['Search Names'].apply(lambda x: len(x) == name_length)]['Search Names']\n",
    "locations = CD_table[CD_table['Search Names'].apply(lambda x: len(x) == name_length)]['Raw Location']\n",
    "namedict = dict(zip([str(n) for n in names], names))\n",
    "locationdict = dict(zip([str(n) for n in names], locations))\n",
    "\n",
    "remlist = []\n",
    "for name_str, name in namedict.items():\n",
    "    match = False\n",
    "    ind = CD_table[[str(sn) == name_str and loc == locationdict[name_str] for sn, loc in zip(CD_table['Search Names'], CD_table['Raw Location'])]].index\n",
    "    mr_list = CD_table.loc[ind, 'Match Reason'].tolist()[0]\n",
    "    for n in name:\n",
    "        if not match:\n",
    "            mr = df[[sn == n and loc == locationdict[name_str] for sn, loc in zip(df['Search Name'], df['Combined Location'])]]['Match Reason'].tolist()[0]\n",
    "            if mr == 'Full Match':\n",
    "                CD_table.loc[ind, 'Search Name'] = n\n",
    "                match = True\n",
    "            elif 'Full Match' not in mr_list and \"Only Location\" in mr:\n",
    "                CD_table.loc[ind, 'Search Name'] = n\n",
    "                match = True\n",
    "            elif ('Full Match' not in mr_list and \"Only Location\" not in mr_list) and \"Too Many\" in mr:\n",
    "                CD_table.loc[ind, 'Search Name'] = n\n",
    "                match = True\n",
    "    if not match:\n",
    "        n = max(name, key = len)\n",
    "        CD_table.loc[ind, 'Search Name'] = n"
   ],
   "metadata": {
    "collapsed": false,
    "pycharm": {
     "name": "#%%\n"
    }
   }
  },
  {
   "cell_type": "code",
   "execution_count": 28,
   "outputs": [
    {
     "name": "stderr",
     "output_type": "stream",
     "text": [
      "/usr/local/lib/python3.9/site-packages/numpy/core/_asarray.py:83: VisibleDeprecationWarning: Creating an ndarray from ragged nested sequences (which is a list-or-tuple of lists-or-tuples-or ndarrays with different lengths or shapes) is deprecated. If you meant to do this, you must specify 'dtype=object' when creating the ndarray\n",
      "  return array(a, dtype, copy=False, order=order)\n"
     ]
    }
   ],
   "source": [
    "scores = CD_table[CD_table['Search Names'].apply(lambda x: len(x) == name_length)]['Search Names'].apply(lambda x: [fuzz.ratio(x[0], x[1]),\n",
    "                                                                                                                    fuzz.ratio(x[0], x[2]),\n",
    "                                                                                                                    fuzz.ratio(x[1], x[2])])\n",
    "score_names = pd.concat([scores.apply(lambda x: [round(ele, 2) for ele in x]),\n",
    "                         CD_table[CD_table['Search Names'].apply(lambda x: len(x) == name_length)]['Search Names'],\n",
    "                         CD_table[CD_table['Search Names'].apply(lambda x: len(x) == name_length)]['Search Name']], axis = 1)\n",
    "score_names['Search Name2'] = CD_table['Search Name']\n",
    "score_names.columns = ['Scores', 'Search Names', 'Search Name', 'Search Name2']\n",
    "\n",
    "# classify names where all 3 are different\n",
    "nosame = score_names[score_names['Scores'].apply(lambda x: all([ele<80 for ele in x]))]\n",
    "# nosame\n",
    "# manually correct some names classified as different\n",
    "score_names.loc[score_names[score_names['Search Name'] == 'Charles Lee Virginia'].index,\n",
    "                ['Search Names', 'Search Name']] = [['Charles Lee', 'Richard Lee'], 'Charles Lee']\n",
    "score_names.loc[score_names[score_names['Search Name'] == 'Ignatius Smith'].index, 'Search Names'] = [['Ignatius Smith', 'James Smith']]\n",
    "score_names.loc[score_names[score_names['Search Name'] == 'Trustees Of The Presbyterean Church Warwick Township Bucks'].index, 'Search Names'] = [['Trustees Of The Presbyterean Church Warwick Township Bucks'], ['Trustees Of The Presbyterean Church Warwick Township Bucks']]\n",
    "\n",
    "somesame = score_names[score_names['Scores'].apply(lambda x: not all([ele<80 for ele in x]))]\n",
    "#somesame\n",
    "score_names.loc[score_names[score_names['Search Name'] == 'Asa Gillet'].index,\n",
    "                'Search Names'] = score_names.loc[score_names[score_names['Search Name'] == 'Asa Gillet'].index,\n",
    "                                                    'Search Names'].apply(lambda x: ['Asa Gillet', 'Israel Gillet'])\n",
    "score_names.loc[score_names[score_names['Search Name'] == 'Gasaway Watkins'].index, 'Search Names'] = score_names.loc[score_names[score_names['Search Name'] == 'Gasaway Watkins'].index, 'Search Names'].apply(lambda x: ['Gasaway Watkins', 'Tristram Bowdle'])\n",
    "score_names.loc[score_names[score_names['Search Name'] == 'William Johnston'].index, 'Search Names'] = score_names.loc[score_names[score_names['Search Name'] == 'William Johnston'].index, 'Search Names'].apply(lambda x: ['William Waterman', 'William Johnston'])\n",
    "\n",
    "# fix allsame\n",
    "allsame_ind = score_names[[not all([ele<80 for ele in s]) and\n",
    "                           sn not in ['Asa Gillet', 'Gasaway Watkins', 'William Johnston'] for s, sn in zip(score_names['Scores'],\n",
    "                                                                                                            score_names['Search Name'])]].index\n",
    "score_names.loc[allsame_ind, 'Search Names'] = [[x] for x in score_names.loc[allsame_ind, 'Search Name']]"
   ],
   "metadata": {
    "collapsed": false,
    "pycharm": {
     "name": "#%%\n"
    }
   }
  },
  {
   "cell_type": "code",
   "execution_count": 29,
   "outputs": [
    {
     "name": "stderr",
     "output_type": "stream",
     "text": [
      "/usr/local/lib/python3.9/site-packages/numpy/core/_asarray.py:83: VisibleDeprecationWarning: Creating an ndarray from ragged nested sequences (which is a list-or-tuple of lists-or-tuples-or ndarrays with different lengths or shapes) is deprecated. If you meant to do this, you must specify 'dtype=object' when creating the ndarray\n",
      "  return array(a, dtype, copy=False, order=order)\n"
     ]
    }
   ],
   "source": [
    "CD_table.loc[score_names.index, ['Search Names', 'Search Name']] = score_names[['Search Names', 'Search Name']].values"
   ],
   "metadata": {
    "collapsed": false,
    "pycharm": {
     "name": "#%%\n"
    }
   }
  },
  {
   "cell_type": "code",
   "execution_count": 30,
   "outputs": [],
   "source": [
    "name_length = 2\n",
    "# processing search names length of 2\n",
    "names = CD_table[CD_table['Search Names'].apply(lambda x: len(x) == name_length)]['Search Names']\n",
    "scores = CD_table.loc[CD_table[CD_table['Search Names'].apply(lambda x: len(x)>1 and len(x) < 3)].index,\n",
    "                      'Search Names'].apply(lambda x: fuzz.ratio(x[0], x[1]))\n",
    "compare = pd.DataFrame([names, scores]).T\n",
    "compare.columns = ['Search Names', 'Scores']\n",
    "# processing search names length of 2\n",
    "locations = CD_table[CD_table['Search Names'].apply(lambda x: len(x) == name_length)]['Raw Location']\n",
    "namedict = dict(zip([str(n) + \"_\" + l for n, l in zip(names, locations)], names))\n",
    "\n",
    "remlist = []\n",
    "for name_str_combo, name in namedict.items():\n",
    "    match = False\n",
    "    ind = CD_table[[(str(sn) + \"_\" + loc) == name_str_combo for sn, loc in zip(CD_table['Search Names'], CD_table['Raw Location'])]].index\n",
    "    mr_list = CD_table.loc[ind, 'Match Reason'].tolist()[0]\n",
    "    for n in name:\n",
    "        if not match:\n",
    "            mr = df[[sn == n and name_str_combo.split(\"_\")[1] == loc for sn, loc in zip(df['Search Name'], df['Combined Location'])]]['Match Reason'].tolist()[0]\n",
    "            if mr == 'Full Match':\n",
    "                CD_table.loc[ind, 'Search Name'] = n\n",
    "                match = True\n",
    "\n",
    "            elif 'Full Match' not in mr_list and \"Only Location\" in mr:\n",
    "                CD_table.loc[ind, 'Search Name'] = n\n",
    "                match = True\n",
    "\n",
    "            elif ('Full Match' not in mr_list and \"Only Location\" not in mr_list) and \"Too Many\" in mr:\n",
    "                CD_table.loc[ind, 'Search Name'] = n\n",
    "                match = True\n",
    "\n",
    "    if not match:\n",
    "        n = max(name, key = len)\n",
    "        CD_table.loc[ind, 'Search Name'] = n"
   ],
   "metadata": {
    "collapsed": false,
    "pycharm": {
     "name": "#%%\n"
    }
   }
  },
  {
   "cell_type": "code",
   "execution_count": 31,
   "outputs": [],
   "source": [
    "# replace search names with just a list with one name\n",
    "candidate_index = CD_table[[len(sn) == 2 and len(mr) == 1 for sn, mr in zip(CD_table['Search Names'], CD_table['Match Reason'])]].index\n",
    "snames = compare[compare['Search Names'].apply(lambda x: x in CD_table.loc[candidate_index]['Search Names'].tolist())].query('Scores > 73 and Scores != 75')['Search Names'].tolist()\n",
    "repindex = CD_table.loc[candidate_index][CD_table.loc[candidate_index, 'Search Names'].apply(lambda x: x in snames)].index\n",
    "CD_table.loc[repindex, 'Search Names'] = CD_table.loc[repindex, 'Search Name'].apply(lambda x: [x])"
   ],
   "metadata": {
    "collapsed": false,
    "pycharm": {
     "name": "#%%\n"
    }
   }
  },
  {
   "cell_type": "code",
   "execution_count": 32,
   "outputs": [],
   "source": [
    "# set search names to the name for everyone else\n",
    "goodnames = CD_table[CD_table['Search Names'].apply(lambda x: len(x) == 1)].index\n",
    "CD_table.loc[goodnames, 'Search Name'] = \\\n",
    "    CD_table.loc[goodnames, 'Search Names'].apply(lambda x: x[0])"
   ],
   "metadata": {
    "collapsed": false,
    "pycharm": {
     "name": "#%%\n"
    }
   }
  },
  {
   "cell_type": "markdown",
   "source": [
    "## Turn list format into normal datatypes"
   ],
   "metadata": {
    "collapsed": false,
    "pycharm": {
     "name": "#%% md\n"
    }
   }
  },
  {
   "cell_type": "code",
   "execution_count": 33,
   "outputs": [],
   "source": [
    "datacols = ['Family Size', 'Location', 'Match Reason', 'Match Status', 'Slavecount', 'url']\n",
    "for ind in CD_table['Search Name'].index:\n",
    "    search_name = CD_table.loc[ind, 'Search Name']\n",
    "    loc = CD_table.loc[ind, 'Raw Location']\n",
    "    search_namelist = CD_table.loc[ind, 'Search Names']\n",
    "    if len(search_namelist) > 1:\n",
    "        CD_table.loc[ind, datacols] = df[[sn == search_name and rl == loc for sn, rl in zip(df['Search Name'],\n",
    "                                                                                            df['Combined Location'])]][datacols].drop_duplicates().values[0].tolist()\n",
    "    else:\n",
    "        for col in datacols:\n",
    "            CD_table.loc[ind, col] = CD_table.loc[ind, col][0]"
   ],
   "metadata": {
    "collapsed": false,
    "pycharm": {
     "name": "#%%\n"
    }
   }
  },
  {
   "cell_type": "code",
   "execution_count": 34,
   "outputs": [],
   "source": [
    "# add original names\n",
    "t = df[['Search Name', 'Combined Location', 'Original Name']].fillna('').groupby(['Search Name', 'Combined Location']).agg({'Original Name':list}).reset_index()\n",
    "t['key'] = t['Search Name'] + \"_\" + t['Combined Location']\n",
    "ogname_dict = dict(zip(t['key'], t['Original Name']))\n",
    "\n",
    "CD_table['Original Names'] = CD_table.apply(lambda x: [ogname_dict.get(n+\"_\"+ (x['Location'] if not pd.isnull(x['Location']) else ''), ogname_dict.get(n+\"_\"+ (x['Raw Location'] if not pd.isnull(x['Raw Location']) else ''))) if n != '' else '' for n in x['Search Names']], axis = 1)\n",
    "\n",
    "CD_table['Original Names'] = CD_table['Original Names']\n",
    "CD_table['Match Reason'] = CD_table['Match Reason'].apply(lambda x: x if 'Too Many' not in x else \"Too Many Potential Matches Found (\" + str(x.split(\"Found \")[1]) + \")\")"
   ],
   "metadata": {
    "collapsed": false,
    "pycharm": {
     "name": "#%%\n"
    }
   }
  },
  {
   "cell_type": "code",
   "execution_count": 35,
   "outputs": [],
   "source": [
    "multiple_ind = CD_table[['Too Many' in mr and count > 1 and len(snames) == 1 for mr, count, snames in zip(CD_table['Match Reason'],\n",
    "                                                                                                          CD_table['count'],\n",
    "                                                                                                          CD_table['Search Names'])]].index\n",
    "CD_table.loc[multiple_ind, 'notes'] = 'Potentially Multiple People'\n",
    "\n",
    "multiple_ind = CD_table[CD_table['Search Names'].apply(lambda x: len(x) > 1)].index\n",
    "CD_table.loc[multiple_ind, 'notes'] = 'See Supplementary Table'"
   ],
   "metadata": {
    "collapsed": false,
    "pycharm": {
     "name": "#%%\n"
    }
   }
  },
  {
   "cell_type": "code",
   "execution_count": 36,
   "outputs": [],
   "source": [
    "# define location column\n",
    "# make some manual corrections\n",
    "CD_table['Location'] = [max([x for x in [l, rl] if not pd.isnull(x)], key = len) for l, rl in zip(CD_table['Location'], CD_table['Raw Location'])]\n",
    "CD_table.loc[0:2, 'Original Search Names'] = CD_table.loc[0:2, 'Original Search Names'].apply(lambda x: [''])"
   ],
   "metadata": {
    "collapsed": false,
    "pycharm": {
     "name": "#%%\n"
    }
   }
  },
  {
   "cell_type": "code",
   "execution_count": 37,
   "outputs": [],
   "source": [
    "CD_table['Original Occupations'] = [[x for x in (occ + title) if not pd.isnull(x) and x != ''] for occ, title in zip(CD_table['Occupation'], CD_table['Title'])]"
   ],
   "metadata": {
    "collapsed": false,
    "pycharm": {
     "name": "#%%\n"
    }
   }
  },
  {
   "cell_type": "markdown",
   "source": [
    "## Merge with New York Data"
   ],
   "metadata": {
    "collapsed": false,
    "pycharm": {
     "name": "#%% md\n"
    }
   }
  },
  {
   "cell_type": "code",
   "execution_count": 38,
   "outputs": [],
   "source": [
    "NY_table = pd.read_csv('../../Data/Post1790/Aggregated/NY/NY_table.csv', index_col = 0)"
   ],
   "metadata": {
    "collapsed": false,
    "pycharm": {
     "name": "#%%\n"
    }
   }
  },
  {
   "cell_type": "code",
   "execution_count": 39,
   "outputs": [],
   "source": [
    "NY_table['Search Names'] = NY_table['Search Names'].apply(lambda x: x.replace('\\'','').replace('\\\"','').strip('][').split(', '))\n",
    "NY_table['Original Names'] = NY_table['Original Names'].apply(lambda x: x.replace('\\'','').replace('\\\"','').strip('][').split(', '))"
   ],
   "metadata": {
    "collapsed": false,
    "pycharm": {
     "name": "#%%\n"
    }
   }
  },
  {
   "cell_type": "markdown",
   "source": [
    "## Create Supplementary Data"
   ],
   "metadata": {
    "collapsed": false,
    "pycharm": {
     "name": "#%% md\n"
    }
   }
  },
  {
   "cell_type": "code",
   "execution_count": 40,
   "outputs": [],
   "source": [
    "# create table with supplementary data\n",
    "CD_table2 = CD_table.copy()\n",
    "CD_table2['Search Names2'] = CD_table2['Search Names']\n",
    "CD_table2 = CD_table2[['Search Names', 'Original Names', 'Search Names2', 'Search Name', 'Raw Location', 'count', '6p_Total', '6p_def_Total', '3p_Total', 'Original Occupations']].explode('Search Names2')\n",
    "CD_table2 = CD_table2[CD_table2['Search Names2'] != CD_table2['Search Name']]\n",
    "CD_table2.drop('Search Name', axis = 1, inplace = True)\n",
    "CD_table2.rename({'Search Names2':'Search Name'}, axis = 1, inplace = True)\n",
    "CD_table2.reset_index(drop = True, inplace = True)"
   ],
   "metadata": {
    "collapsed": false,
    "pycharm": {
     "name": "#%%\n"
    }
   }
  },
  {
   "cell_type": "code",
   "execution_count": 41,
   "outputs": [],
   "source": [
    "# reformat match reason column\n",
    "# add data to CD_table2 - suppelementary table\n",
    "for ind in CD_table2.index:\n",
    "    search_name = CD_table2.loc[ind, 'Search Name']\n",
    "    search_namelist = CD_table2.loc[ind, 'Search Names']\n",
    "    loc = CD_table2.loc[ind, 'Raw Location']\n",
    "    CD_table2.loc[ind, datacols] =  df[[sn == search_name and rl == loc for sn, rl in zip(df['Search Name'],\n",
    "                                                                                          df['Combined Location'])]][datacols].drop_duplicates().values[0].tolist()\n",
    "CD_table2['Match Reason'] = CD_table2['Match Reason'].apply(lambda x: x if 'Too Many' not in x else \"Too Many Potential Matches Found (\" + str(x.split(\"Found \")[1]) + \")\")"
   ],
   "metadata": {
    "collapsed": false,
    "pycharm": {
     "name": "#%%\n"
    }
   }
  },
  {
   "cell_type": "code",
   "execution_count": 42,
   "outputs": [],
   "source": [
    "# adding how many people were actually searched for - # unique people\n",
    "CD_table2['temp'] = CD_table2['Search Names'].astype(str)\n",
    "namecntdf = CD_table2.groupby('temp')['Search Names'].count().reset_index()\n",
    "namecntdict = dict(zip(namecntdf['temp'], namecntdf['Search Names']))\n",
    "CD_table['temp'] = CD_table['Search Names'].astype(str)\n",
    "CD_table2['# debtholders'] = CD_table2['temp'].apply(lambda x: namecntdict.get(x, 0)+1)\n",
    "CD_table['# debtholders'] = CD_table['temp'].apply(lambda x: namecntdict.get(x, 0)+1)"
   ],
   "metadata": {
    "collapsed": false,
    "pycharm": {
     "name": "#%%\n"
    }
   }
  },
  {
   "cell_type": "code",
   "execution_count": 43,
   "outputs": [],
   "source": [
    "CD_table2['Location'] = [l if not pd.isnull(l) else rl for l, rl in zip(CD_table2['Location'], CD_table2['Raw Location'])]"
   ],
   "metadata": {
    "collapsed": false,
    "pycharm": {
     "name": "#%%\n"
    }
   }
  },
  {
   "cell_type": "code",
   "execution_count": 44,
   "outputs": [],
   "source": [
    "# reodder columns\n",
    "CD_table = CD_table[['Search Names', 'Search Name', 'Original Names', 'Original Occupations', '# debtholders', 'count', '6p_Total', '6p_def_Total', '3p_Total',\n",
    "                     'Location', 'Family Size', 'Slavecount', 'Match Status', 'Match Reason', 'notes', 'url']]\n",
    "CD_table2 = CD_table2[['Search Names', 'Search Name', 'Original Names', 'Original Occupations',  '# debtholders', 'count', '6p_Total', '6p_def_Total', '3p_Total',\n",
    "                       'Location', 'Family Size', 'Slavecount', 'Match Status', 'Match Reason', 'url']]"
   ],
   "metadata": {
    "collapsed": false,
    "pycharm": {
     "name": "#%%\n"
    }
   }
  },
  {
   "cell_type": "code",
   "execution_count": 45,
   "outputs": [],
   "source": [
    "NY_table2 = pd.read_csv('../../Data/Post1790/Aggregated/NY/NY_supp_table.csv', index_col = 0)"
   ],
   "metadata": {
    "collapsed": false,
    "pycharm": {
     "name": "#%%\n"
    }
   }
  },
  {
   "cell_type": "code",
   "execution_count": 46,
   "outputs": [],
   "source": [
    "NY_table2['Search Names'] = NY_table2['Search Names'].apply(lambda x: x.replace('\\'','').replace('\\\"','').strip('][').split(', '))\n",
    "NY_table2['Original Names'] = NY_table2['Original Names'].apply(lambda x: x.replace('\\'','').replace('\\\"','').strip('][').split(', '))"
   ],
   "metadata": {
    "collapsed": false,
    "pycharm": {
     "name": "#%%\n"
    }
   }
  },
  {
   "cell_type": "code",
   "execution_count": 47,
   "outputs": [],
   "source": [
    "# no need to combine NY_table2 and CD_table2\n",
    "CD_table2[CD_table2['Search Name'].apply(lambda x: x in NY_table2['Search Name'].tolist())]\n",
    "CD_table2['origin'] = 'Aggregated CD debt files'\n",
    "NY_table2['origin'] = 'NY debt file'\n",
    "CD_table2 = pd.concat([CD_table2, NY_table2])"
   ],
   "metadata": {
    "collapsed": false,
    "pycharm": {
     "name": "#%%\n"
    }
   }
  },
  {
   "cell_type": "code",
   "execution_count": 48,
   "outputs": [],
   "source": [
    "CD_table['origin'] = 'Aggregated CD debt files'\n",
    "NY_table['origin'] = 'NY debt file'\n",
    "CD_table = pd.concat([CD_table, NY_table])"
   ],
   "metadata": {
    "collapsed": false,
    "pycharm": {
     "name": "#%%\n"
    }
   }
  },
  {
   "cell_type": "code",
   "execution_count": 49,
   "outputs": [],
   "source": [
    "CD_table.reset_index(drop = True, inplace = True)"
   ],
   "metadata": {
    "collapsed": false,
    "pycharm": {
     "name": "#%%\n"
    }
   }
  },
  {
   "cell_type": "code",
   "execution_count": 50,
   "outputs": [],
   "source": [
    "CD_table.loc[CD_table[CD_table['Location'].apply(lambda x: pd.isnull(x))].index, 'Location'] = 'New York'"
   ],
   "metadata": {
    "collapsed": false,
    "pycharm": {
     "name": "#%%\n"
    }
   }
  },
  {
   "cell_type": "markdown",
   "source": [
    "## Fix Location Names"
   ],
   "metadata": {
    "collapsed": false,
    "pycharm": {
     "name": "#%% md\n"
    }
   }
  },
  {
   "cell_type": "code",
   "execution_count": 51,
   "outputs": [],
   "source": [
    "agg_names = CD_table[CD_table['Location'].apply(lambda x: 'New York' in x if not pd.isnull(x) else False)]['Search Names'].value_counts()[CD_table[CD_table['Location'].apply(lambda x: 'New York' in x if not pd.isnull(x) else False)]['Search Names'].value_counts() > 1].index"
   ],
   "metadata": {
    "collapsed": false,
    "pycharm": {
     "name": "#%%\n"
    }
   }
  },
  {
   "cell_type": "code",
   "execution_count": 52,
   "outputs": [],
   "source": [
    "for name in agg_names:\n",
    "    try:\n",
    "        ind1 = CD_table[CD_table['Search Names'].apply(lambda x: x == name)].query(\"'New York' in Location\").index[0]\n",
    "    except:\n",
    "        continue\n",
    "    drops = CD_table[CD_table['Search Names'].apply(lambda x: x == name)].query(\"'New York' in Location\").index[:-1]\n",
    "    if len(drops) != 0:\n",
    "        for col in ['6p_Total', '6p_def_Total', 'count', '3p_Total', 'origin']:\n",
    "            if col != 'origin':\n",
    "                val = CD_table[CD_table['Search Names'].apply(lambda x: x == name)].query(\"'New York' in Location\")[col].sum()\n",
    "                CD_table.loc[ind1, col] = val\n",
    "            else:\n",
    "                CD_table.loc[ind1, col] = 'Both Data Sources'\n",
    "        CD_table.drop(drops, inplace = True)"
   ],
   "metadata": {
    "collapsed": false,
    "pycharm": {
     "name": "#%%\n"
    }
   }
  },
  {
   "cell_type": "markdown",
   "source": [
    "## Fix Occupation Names"
   ],
   "metadata": {
    "collapsed": false,
    "pycharm": {
     "name": "#%% md\n"
    }
   }
  },
  {
   "cell_type": "code",
   "execution_count": 53,
   "outputs": [],
   "source": [
    "occ_list = list(set(CD_table['Original Occupations'].explode().tolist()))\n",
    "occ_list.remove(np.nan)"
   ],
   "metadata": {
    "collapsed": false,
    "pycharm": {
     "name": "#%%\n"
    }
   }
  },
  {
   "cell_type": "code",
   "execution_count": 54,
   "outputs": [],
   "source": [
    "# add to occupation dictionary\n",
    "adm_list = [x for x in occ_list if 'adm' in x or 'Adm' in x]\n",
    "for occ in adm_list:\n",
    "    occ_dict[occ] = 'administrator'\n",
    "ex_list = [x for x in occ_list if 'exe' in x.lower()]\n",
    "for occ in ex_list:\n",
    "    occ_dict[occ] = 'executor'\n",
    "gentleman_list = ['G. Man', 'Genl Man','Genl man','Gent.', 'Gent. in the Court','Gentn']\n",
    "gentlewoman_list = ['G. Woman','Gen. Woman', 'Genl Woman', 'Genl woman', 'Gent. w.',\n",
    "                    'Gentle Wm','Gentlewoman','Gentlewomen','Gentw']\n",
    "for occ in gentleman_list:\n",
    "    occ_dict[occ] = 'gentleman'\n",
    "for occ in gentlewoman_list:\n",
    "    occ_dict[occ] = 'gentlewoman'\n",
    "merchant_list = ['Merch.', 'Mercht','Mert', 'Mert.']\n",
    "for occ in merchant_list:\n",
    "    occ_dict[occ] = 'merchant'\n",
    "behalf_list = ['Deceased Estate of','Estate William Butler','Estate of Philip Boehm Deceased','Ex to the Estate Christopher Grover',\n",
    "               'For the Estate Abraham Robinson', 'His estate','In Trust for the use of the Heris of Samuel McFarran Deceased',\n",
    "               'Trustee', 'Trustee for the Use of the Legal Representatives of Thomas Albertson Deceased',\n",
    "               'Trustee to Geo and William Peck','for the Estate of William Allison deceased', 'of Jas',\n",
    "               'of Nicholas']\n",
    "guard_list = [x for x in occ_list if 'guard' in x.lower()]\n",
    "for occ in guard_list:\n",
    "    occ_dict[occ] = 'guardian'\n",
    "for occ in behalf_list:\n",
    "    occ_dict[occ] = 'trustee'\n",
    "\n",
    "occ_og = ['Acct',  'At State House', 'Attory at Law','Attory','B.Smith', 'Bl. Smith','Board Buildr', 'Book binder',\n",
    "          'Carpentr', 'Carpr', 'Clk. Market', 'Coach Maker', 'Colonel', 'Consul of the French Nation',\n",
    "          'Currier','House Carp.','House Carpenter','Brees maker', 'Inn keeper', 'Iron Monger', 'Mill S. Makr',\n",
    "          'Minister Luth. Cong.', 'Ministers their Widows and Children',\n",
    "          'Rigger', 'School Mastr', 'Ships Their Widows and Children', 'Shoe Mak.',\n",
    "          'Shoe Marker', 'Shop Kr',  'Shop keeper',  'Skinner', 'Sugar Baker', 'Surveyor',\n",
    "          'Tallow Chanr', 'Tavern k.', 'Wd',\n",
    "          'Plane Maker', 'Printer & Bookseller', 'Professor in the University', 'Providence',\n",
    "          'Notary, Scrivener, & Broker','Governor of the State',\n",
    "          'Boardg School', 'Boardg hous', 'City Commr', 'Clerk in Rec. Genl of Land Office', 'Grocer',\n",
    "          'Lab', 'Negroe', 'Plaisterer', 'Receiver Gen. of Land Office', 'junior']\n",
    "occ_new = ['accountant', 'doorkeeper', 'attorney','attorney', 'blacksmith', 'blacksmith', 'board builder', 'book binder',\n",
    "           'carpenter', 'carpenter', 'cloak maker', 'coach maker', 'colonel', 'consul',\n",
    "           'currier','carpenter', 'carpenter', 'baker', 'inn keeper', 'ironmonger', 'miller',\n",
    "           'minister','minister',\n",
    "           'rigger', 'school master', np.nan, 'shoemaker',\n",
    "           'shoemaker', 'shopkeeper', 'shopkeeper', 'skinner', 'baker', 'surveyor',\n",
    "           'candlekeeper', 'inn keeper', 'widow',\n",
    "           'wooden planemaker', 'printer', 'professor', np.nan,\n",
    "           ['notary', 'scrivener', 'broker'], 'governor',\n",
    "           'boardinghouse keeper', 'boardinghouse keeper', 'city commissioner', 'clerk', 'grocer',\n",
    "           np.nan, 'negroe', 'plasterer','receiver general of land office', np.nan]\n",
    "for og, new in zip(occ_og, occ_new):\n",
    "    occ_dict[og] = new"
   ],
   "metadata": {
    "collapsed": false,
    "pycharm": {
     "name": "#%%\n"
    }
   }
  },
  {
   "cell_type": "code",
   "execution_count": 55,
   "outputs": [],
   "source": [
    "for key, value in occ_dict.items():\n",
    "    if value == 'marchant':\n",
    "        occ_dict[key] = 'merchant'"
   ],
   "metadata": {
    "collapsed": false,
    "pycharm": {
     "name": "#%%\n"
    }
   }
  },
  {
   "cell_type": "code",
   "execution_count": 56,
   "outputs": [],
   "source": [
    "# proess occupations\n",
    "CD_table['Original Occupations'] = CD_table['Original Occupations'].apply(lambda x: [] if type(x) != list else x)\n",
    "CD_table['Original Occupations'] = CD_table['Original Occupations'].apply(lambda x: list(set(x)))\n",
    "CD_table['Original Occupations'] = CD_table['Original Occupations'].apply(lambda x: [] if type(x) != list else x)\n",
    "CD_table['Occupations'] = CD_table['Original Occupations'].apply(lambda x: [] if type(x) != list else x)\n",
    "CD_table['Occupations'] = CD_table['Occupations'].apply(lambda x:  [occ_dict.get(ele, ele) for ele in x])\n",
    "CD_table['Occupations'] = CD_table['Occupations'].apply(lambda x:  x if (x != ['broker', ['notary', 'scrivener', 'broker']] and x != [['notary', 'scrivener', 'broker'], 'broker']) else ['broker',' notary', 'scrivener'])\n",
    "CD_table['Occupations'] = CD_table['Occupations'].apply(lambda x:  x if x != ['no occupation'] else [])\n",
    "CD_table['Occupations'] = CD_table['Occupations'].apply(lambda x:  x if np.nan not in x else x.remove(np.nan))\n",
    "CD_table['Occupations'] = CD_table['Occupations'].apply(lambda x: [] if type(x) != list else x)\n",
    "CD_table['Occupations'] = CD_table['Occupations'].apply(lambda x: list(set(x)))"
   ],
   "metadata": {
    "collapsed": false,
    "pycharm": {
     "name": "#%%\n"
    }
   }
  },
  {
   "cell_type": "code",
   "execution_count": 57,
   "outputs": [],
   "source": [
    "occ_df = pd.DataFrame([occ_dict.keys(), occ_dict.values()]).T\n",
    "occ_df.columns = ['original name', 'new name']"
   ],
   "metadata": {
    "collapsed": false,
    "pycharm": {
     "name": "#%%\n"
    }
   }
  },
  {
   "cell_type": "code",
   "execution_count": 58,
   "outputs": [],
   "source": [
    "cnty_cw = pd.read_csv('../../Data/AssetGeography/final_geographical_cw.csv', index_col = 0)\n",
    "\n",
    "locdict = dict()\n",
    "for location in CD_table[CD_table['Location'].apply(lambda x: len(x.split(\", \")) == 1 and x.split(\", \")[0].strip() not in list(statedict.values()))]['Location'].unique():\n",
    "    loc = cnty_cw[cnty_cw['county'] == (location.strip() + ' County')][['county', 'state']].drop_duplicates().values.tolist()\n",
    "    if len(loc)== 0:\n",
    "        continue\n",
    "    else:\n",
    "        locdict[location] = loc[0][0].replace(\"County\", \"\").strip() + \", \" + statedict[loc[0][1]]\n",
    "for location in CD_table[CD_table['Location'].apply(lambda x: len(x.split(\", \")) == 1 and x.split(\", \")[0].strip() not in list(statedict.values()))]['Location'].unique():\n",
    "    loc = cnty_cw[cnty_cw['town'] == (location.strip())][['town', 'county', 'state']].drop_duplicates().values.tolist()\n",
    "    if len(loc)== 0:\n",
    "        continue\n",
    "    else:\n",
    "        locdict[location] = loc[0][0] + \", \" + loc[0][1].replace(\"County\", \"\").strip() + \", \" + statedict[loc[0][2]]\n",
    "for loc in ['Dutchess', 'Ulster', 'Kings', 'Queens', 'Westchester']:\n",
    "    locdict[loc] = loc + ', New York'"
   ],
   "metadata": {
    "collapsed": false,
    "pycharm": {
     "name": "#%%\n"
    }
   }
  },
  {
   "cell_type": "markdown",
   "source": [
    "## Fix Location Names Again lol"
   ],
   "metadata": {
    "collapsed": false,
    "pycharm": {
     "name": "#%% md\n"
    }
   }
  },
  {
   "cell_type": "code",
   "execution_count": 59,
   "outputs": [],
   "source": [
    "CD_table['Location'] = CD_table['Location'].apply(lambda x: locdict.get(x.strip(), x))\n",
    "CD_table['Location'] = CD_table['Location'].apply(lambda x: locdict.get(x, x))"
   ],
   "metadata": {
    "collapsed": false,
    "pycharm": {
     "name": "#%%\n"
    }
   }
  },
  {
   "cell_type": "code",
   "execution_count": 60,
   "outputs": [],
   "source": [
    "CD_table.loc[CD_table[CD_table['Search Name'] == 'Hopson Pinckney'].index, 'Location'] = 'Charleston, South Carolina'"
   ],
   "metadata": {
    "collapsed": false,
    "pycharm": {
     "name": "#%%\n"
    }
   }
  },
  {
   "cell_type": "code",
   "execution_count": 61,
   "outputs": [],
   "source": [
    "locdict = dict(zip(['GB', 'BVI', 'BM', 'VI', 'FR'],['Great Britain', 'British Virgin Islands', 'Bermuda', 'British Virgin Islands', 'France']))\n",
    "\n",
    "for ind in CD_table[CD_table['Location'] == 'United States']['Search Name'].index:\n",
    "    name = CD_table.loc[ind, 'Search Name']\n",
    "    if name != 'Joseph Norse':\n",
    "        town = df[df['Search Name'] == name]['town'].tolist()[0]\n",
    "        nation = df[df['Search Name'] == name]['state'].tolist()[0]\n",
    "        if locdict[nation] == town:\n",
    "            CD_table.loc[ind, 'Location'] = locdict[nation]\n",
    "        else:\n",
    "            CD_table.loc[ind, 'Location'] = town + \", \" + locdict[nation]"
   ],
   "metadata": {
    "collapsed": false,
    "pycharm": {
     "name": "#%%\n"
    }
   }
  },
  {
   "cell_type": "code",
   "execution_count": 62,
   "outputs": [],
   "source": [
    "CD_table['Slavecount'] = CD_table.apply(lambda x: 0 if pd.isnull(x['Slavecount']) and not pd.isnull(x['Family Size']) else x['Slavecount'], axis = 1)"
   ],
   "metadata": {
    "collapsed": false,
    "pycharm": {
     "name": "#%%\n"
    }
   }
  },
  {
   "cell_type": "code",
   "execution_count": 63,
   "outputs": [],
   "source": [
    "CD_table2['Slavecount'] = CD_table2.apply(lambda x: 0 if pd.isnull(x['Slavecount']) and not pd.isnull(x['Family Size']) else x['Slavecount'], axis = 1)"
   ],
   "metadata": {
    "collapsed": false,
    "pycharm": {
     "name": "#%%\n"
    }
   }
  },
  {
   "cell_type": "code",
   "execution_count": 64,
   "outputs": [],
   "source": [
    "occ_df.to_csv('../../Data/Post1790/Aggregated/occupation/occupation_mapping.csv')"
   ],
   "metadata": {
    "collapsed": false,
    "pycharm": {
     "name": "#%%\n"
    }
   }
  },
  {
   "cell_type": "code",
   "execution_count": 65,
   "outputs": [],
   "source": [
    "CD_table[['Search Names', 'Location']] = CD_table[['Search Names', 'Location']].astype(str)\n",
    "CD_table_final = CD_table.groupby(['Search Names', 'Location']).agg({'Search Name':list, 'Original Names':list, 'Original Occupations':list,\n",
    "                                                                     '# debtholders': list, 'count': sum, '6p_Total': sum, '6p_def_Total': sum,\n",
    "                                                                     '3p_Total': sum, 'Family Size': list, 'Slavecount': list,\n",
    "                                                                     'Match Status': list, 'Match Reason': list, 'notes': list,\n",
    "                                                                     'url': list, 'origin': list, 'Occupations': list}).reset_index()"
   ],
   "metadata": {
    "collapsed": false,
    "pycharm": {
     "name": "#%%\n"
    }
   }
  },
  {
   "cell_type": "code",
   "execution_count": 66,
   "outputs": [],
   "source": [
    "CD_table_final['Search Names'] = CD_table_final['Search Names'].apply(lambda x: x.replace('\\'','').replace('\\\"','').strip('][').split(', '))\n",
    "for col in ['Search Name', 'Original Names', 'Original Occupations', '# debtholders', 'Family Size', 'Slavecount',\n",
    "            'Match Status', 'Match Reason', 'notes', 'url', 'origin', 'Occupations']:\n",
    "    CD_table_final[col] = CD_table_final[col].apply(lambda x: x[0])"
   ],
   "metadata": {
    "collapsed": false,
    "pycharm": {
     "name": "#%%\n"
    }
   }
  },
  {
   "cell_type": "code",
   "execution_count": 67,
   "outputs": [],
   "source": [
    "CD_table2[['Search Names', 'Location']] = CD_table2[['Search Names', 'Location']].astype(str)\n",
    "CD_table2_final = CD_table2.groupby(['Search Names', 'Location']).agg({'Search Name':list, 'Original Names':list, 'Original Occupations':list,\n",
    "                                                                     '# debtholders': list, 'count': sum, '6p_Total': sum, '6p_def_Total': sum,\n",
    "                                                                     '3p_Total': sum, 'Family Size': list, 'Slavecount': list,\n",
    "                                                                     'Match Status': list, 'Match Reason': list,\n",
    "                                                                     'url': list, 'origin': list}).reset_index()"
   ],
   "metadata": {
    "collapsed": false,
    "pycharm": {
     "name": "#%%\n"
    }
   }
  },
  {
   "cell_type": "code",
   "execution_count": 68,
   "outputs": [],
   "source": [
    "CD_table2_final['Search Names'] = CD_table2_final['Search Names'].apply(lambda x: x.replace('\\'','').replace('\\\"','').strip('][').split(', '))\n",
    "for col in ['Search Name', 'Original Names', 'Original Occupations', '# debtholders', 'Family Size', 'Slavecount',\n",
    "            'Match Status', 'Match Reason', 'url', 'origin']:\n",
    "    CD_table2_final[col] = CD_table2_final[col].apply(lambda x: x[0])"
   ],
   "metadata": {
    "collapsed": false,
    "pycharm": {
     "name": "#%%\n"
    }
   }
  },
  {
   "cell_type": "code",
   "execution_count": 69,
   "outputs": [],
   "source": [
    "CD_table_final['Location'] = CD_table_final['Location'].replace('nan', np.nan)\n",
    "CD_table2_final['Location'] = CD_table2_final['Location'].replace('nan', np.nan)"
   ],
   "metadata": {
    "collapsed": false,
    "pycharm": {
     "name": "#%%\n"
    }
   }
  },
  {
   "cell_type": "code",
   "execution_count": 70,
   "outputs": [],
   "source": [
    "CD_table_final.sort_values(['6p_Total', '3p_Total'], ascending = False).reset_index(drop = True).to_csv('../Results/CD_table.csv')"
   ],
   "metadata": {
    "collapsed": false,
    "pycharm": {
     "name": "#%%\n"
    }
   }
  },
  {
   "cell_type": "code",
   "execution_count": 71,
   "outputs": [],
   "source": [
    "CD_table2_final.sort_values(['6p_Total', '3p_Total'], ascending = False).reset_index(drop = True).to_csv('../Results/CD_supp_table.csv')"
   ],
   "metadata": {
    "collapsed": false,
    "pycharm": {
     "name": "#%%\n"
    }
   }
  }
 ],
 "metadata": {
  "kernelspec": {
   "display_name": "Python 3",
   "language": "python",
   "name": "python3"
  },
  "language_info": {
   "codemirror_mode": {
    "name": "ipython",
    "version": 2
   },
   "file_extension": ".py",
   "mimetype": "text/x-python",
   "name": "python",
   "nbconvert_exporter": "python",
   "pygments_lexer": "ipython2",
   "version": "2.7.6"
  }
 },
 "nbformat": 4,
 "nbformat_minor": 0
}