{
 "cells": [
  {
   "cell_type": "code",
   "execution_count": 88,
   "metadata": {
    "collapsed": true,
    "pycharm": {
     "name": "#%%\n"
    }
   },
   "outputs": [],
   "source": [
    "from selenium import webdriver\n",
    "from selenium.webdriver.common.by import By\n",
    "from selenium.webdriver.support.ui import WebDriverWait\n",
    "from selenium.webdriver.support import expected_conditions as EC\n",
    "import time\n",
    "import pandas as pd\n",
    "import numpy as np\n",
    "from selenium.webdriver.common.keys import Keys"
   ]
  },
  {
   "cell_type": "code",
   "execution_count": 89,
   "outputs": [],
   "source": [
    "user = \"Chris\" # Miguel"
   ],
   "metadata": {
    "collapsed": false,
    "pycharm": {
     "name": "#%%\n"
    }
   }
  },
  {
   "cell_type": "markdown",
   "source": [
    "## Preprocess New York Data"
   ],
   "metadata": {
    "collapsed": false,
    "pycharm": {
     "name": "#%% md\n"
    }
   }
  },
  {
   "cell_type": "code",
   "execution_count": 90,
   "outputs": [],
   "source": [
    "statedict = {'PA':'Pennsylvania', 'CT':'Connecticut', 'MA':'Massachusetts', 'NH':'New Hampshire', 'DE':'Delaware',\n",
    "             'NC':'North Carolina', 'GA':'Georgia', 'NY':'New York', 'NJ': 'New Jersey', 'RI':'Rhode Island',\n",
    "             'VA':'Virginia', 'MD':'Maryland', 'SC':'South Carolina', 'VT':'Vermont'}"
   ],
   "metadata": {
    "collapsed": false,
    "pycharm": {
     "name": "#%%\n"
    }
   }
  },
  {
   "cell_type": "code",
   "execution_count": 91,
   "outputs": [],
   "source": [
    "def deNaN(series):\n",
    "    return series.apply(lambda x: \"\" if pd.isnull(x) else x)"
   ],
   "metadata": {
    "collapsed": false,
    "pycharm": {
     "name": "#%%\n"
    }
   }
  },
  {
   "cell_type": "code",
   "execution_count": 92,
   "outputs": [],
   "source": [
    "CD_merged = pd.read_csv(\"../../Data/Post1790/Aggregated/aggregated_CD_final.csv\")\n",
    "CD_merged['Name'] = CD_merged['Name'].apply(lambda x: x.replace('\\'','').replace('\\\"','').strip('][').split(', '))"
   ],
   "metadata": {
    "collapsed": false,
    "pycharm": {
     "name": "#%%\n"
    }
   }
  },
  {
   "cell_type": "code",
   "execution_count": 93,
   "outputs": [
    {
     "data": {
      "text/plain": "4377"
     },
     "execution_count": 93,
     "metadata": {},
     "output_type": "execute_result"
    }
   ],
   "source": [
    "# number of names\n",
    "np.sum(CD_merged['Name'].apply(lambda x: len(x) > 0))"
   ],
   "metadata": {
    "collapsed": false,
    "pycharm": {
     "name": "#%%\n"
    }
   }
  },
  {
   "cell_type": "code",
   "execution_count": 94,
   "outputs": [],
   "source": [
    "# remove duplicated names\n",
    "names = CD_merged['Name'][~CD_merged['Name'].astype(str).duplicated(keep='first')]\n",
    "names = names[names.apply(lambda x: x[0] != '')]\n",
    "names = names[names.apply(lambda x: len(list(x)) > 0)]"
   ],
   "metadata": {
    "collapsed": false,
    "pycharm": {
     "name": "#%%\n"
    }
   }
  },
  {
   "cell_type": "code",
   "execution_count": 95,
   "outputs": [],
   "source": [
    "# create name df\n",
    "CD_merged2 = CD_merged.copy()\n",
    "CD_merged2['Name_str'] = CD_merged2['Name'].astype(str)\n",
    "namedict = dict(zip(CD_merged2['Name_str'], CD_merged2['Name']))\n",
    "names = CD_merged2[['Name_str', 'town', 'county', 'state', 'name_type']].drop_duplicates()\n",
    "names['Name'] = names['Name_str'].apply(lambda x: namedict[x])\n",
    "names.drop('Name_str', axis = 1, inplace = True)\n",
    "names = names[names['Name'].apply(lambda x: len(x) != 0)]"
   ],
   "metadata": {
    "collapsed": false,
    "pycharm": {
     "name": "#%%\n"
    }
   }
  },
  {
   "cell_type": "code",
   "execution_count": 96,
   "outputs": [
    {
     "data": {
      "text/plain": "18                             {John and James Davenport}\n113                         {Eunice and Betsey Wadsworth}\n114                       {Joshua Belden and James Wells}\n118     {Wheeler Coit, Wheeler Coit Treasurer Of Prest...\n155     {Nehemiah Child, Nehemiah Child Society Treasu...\n                              ...                        \n4191             {Henry Laurens and Arnoldus Vanderhorst}\n4254                               {Wadsworth and Turpin}\n4330                        {The State Of South Carolina}\n4342                        {Love Stone and Joseph Vesey}\n4357                                   {Cross and Crowly}\nName: Name, Length: 203, dtype: object"
     },
     "execution_count": 96,
     "metadata": {},
     "output_type": "execute_result"
    }
   ],
   "source": [
    "# cleaning names - identify names to be cleaned\n",
    "names_fix = names['Name'].copy()\n",
    "names_fix = names_fix.apply(lambda set: {el.lower().replace(\"and sons\", \"\").replace(\"and son\", \"\").replace(\"and co\", \"\").replace(\"and others\", \"\").replace(\" mpany\", \"\").replace(\" mpaney\", \"\").replace('as guardian','').strip().title().replace(\"And\", \"and\") for el in set})\n",
    "\n",
    "name_fix_inds = names_fix[names_fix.astype(str).apply(lambda x:  ' and ' in  x.lower() or\n",
    "                                                                 ' of ' in  x.lower() or\n",
    "                                                                 'treas' in x.lower() or\n",
    "                                                                 ' to ' in x.lower() or\n",
    "                                                                 'adm ' in x.lower() or\n",
    "                                                                 ' exec ' in x.lower() or\n",
    "                                                                 'agents' in x.lower() or\n",
    "                                                                 ' no ' in x.lower() or\n",
    "                                                                 ' comm' in x.lower() or\n",
    "                                                                 ' for ' in x.lower())].index\n",
    "names_fix.loc[name_fix_inds]"
   ],
   "metadata": {
    "collapsed": false,
    "pycharm": {
     "name": "#%%\n"
    }
   }
  },
  {
   "cell_type": "code",
   "execution_count": 97,
   "outputs": [],
   "source": [
    "# split two people with same last name\n",
    "def simpleSplit(name):\n",
    "    name2 = name.split(\" and \")[1]\n",
    "    lname2 = name2.split(\" \")[-1] if \"Van\" not in name2 else \" \".join(name.split(\" \")[-2:])\n",
    "    name1 = name.split(\" and \")[0] + \" \" + lname2\n",
    "    return set([name1, name2])\n",
    "\n",
    "simplefix = ['John and James Davenport','Eunice and Betsey Wadsworth', 'Daniel and Elijah Boardman', 'Samuel and Timothy Burr',\n",
    "             'Michael and Thomas Bull','Elias and Jeremiah Cowles', 'Amasa and Elnathan Keyes','Horace and Seth Johnson',\n",
    "             'Richard and James Potter','Elizabeth and John Grover', 'Nicholas and Hannah Cooke', 'Moses and Nicholas Brown',\n",
    "             'Samuel and Charles Sampson', 'John and Hugh Irvin', 'Jonathan and Mariamne Williams']\n",
    "names_fix = names_fix.apply(lambda x: simpleSplit(list(x)[0]) if list(x)[0] in simplefix else x)"
   ],
   "metadata": {
    "collapsed": false,
    "pycharm": {
     "name": "#%%\n"
    }
   }
  },
  {
   "cell_type": "code",
   "execution_count": 98,
   "outputs": [],
   "source": [
    "# split two people separated by \"and\"\n",
    "def simpleSplit2(name):\n",
    "    try:\n",
    "        name2 = name.split(\" and \")[1]\n",
    "        name1 = name.split(\" and \")[0]\n",
    "    except:\n",
    "        name2 = name.split(\" And \")[1]\n",
    "        name1 = name.split(\" And \")[0]\n",
    "    return set([name1, name2])\n",
    "\n",
    "simplefix2 = ['Joshua Belden and James Wells','William Joseph and Richard Hart','Anthony Bradford and Stephen Hall', 'John Dodd and John Porter',\n",
    "              'Uriah Forrest and Benjamin Stoddert','Samuel John and Thomas Snowden',\n",
    "              'John Laird and Thomas Dick','James Boyd and Jonathan B Smith', 'Nathan Waterman and Robert Newell', 'Joseph Jenckes and David L Barnes',\n",
    "              'Henry Laurens and Arnoldus Vanderhorst','Love Stone and Joseph Vesey', 'Charles Stuart and James Mcculloch']\n",
    "names_fix = names_fix.apply(lambda x: simpleSplit2(list(x)[0]) if list(x)[0] in simplefix2 else x)"
   ],
   "metadata": {
    "collapsed": false,
    "pycharm": {
     "name": "#%%\n"
    }
   }
  },
  {
   "cell_type": "code",
   "execution_count": 99,
   "outputs": [],
   "source": [
    "# fix people with \"Treasurer in name\n",
    "t_ind = names_fix[names_fix.astype(str).apply(lambda x: 'treasurer' in x.lower() and 'cincinnati' not in x.lower())].index\n",
    "newvals = names_fix.loc[t_ind].apply(lambda x: set(list([ele.replace('Society', '').replace('Proprietors', '').split(\"Treasurer\")[0].strip() for ele in x])))\n",
    "names_fix.loc[t_ind] = newvals"
   ],
   "metadata": {
    "collapsed": false,
    "pycharm": {
     "name": "#%%\n"
    }
   }
  },
  {
   "cell_type": "code",
   "execution_count": 100,
   "outputs": [],
   "source": [
    "# fix people with \"transfer\" and \"of\"\" in name\n",
    "trans_ind = names_fix[names_fix.apply(lambda x: all([\"transfer\" in ele.lower() and \"from\" in ele.lower() for ele in list(x)]))].index\n",
    "newvals = names_fix.loc[trans_ind].apply(lambda x: set([ele.lower().split(\"transfer\")[0].strip().title() for ele in list(x)]))\n",
    "newvals = newvals.apply(lambda x: set([ele.replace(\" And\",\"\").split(\"In Trust\")[0].strip() for ele in list(x)]))\n",
    "names_fix.loc[trans_ind] = newvals"
   ],
   "metadata": {
    "collapsed": false,
    "pycharm": {
     "name": "#%%\n"
    }
   }
  },
  {
   "cell_type": "code",
   "execution_count": 101,
   "outputs": [],
   "source": [
    "# fix people with \"guardian\" in name\n",
    "guard_ind = names_fix[names_fix.astype(str).apply(lambda x: \"guard\" in x.lower())].index\n",
    "newvals = names_fix.loc[guard_ind].apply(lambda x: set([ele.lower().split(\"guard\")[0].strip().title() for ele in list(x)]))\n",
    "names_fix.loc[guard_ind] = newvals"
   ],
   "metadata": {
    "collapsed": false,
    "pycharm": {
     "name": "#%%\n"
    }
   }
  },
  {
   "cell_type": "code",
   "execution_count": 102,
   "outputs": [],
   "source": [
    "# fix people with \"administrator\" in name\n",
    "adm_ind = names_fix[names_fix.astype(str).apply(lambda x: \"adm\" in x.lower())].index\n",
    "newvals = names_fix.loc[adm_ind].apply(lambda x: set([ele.lower().split(\"adm\")[0].strip().title() for ele in list(x)]))\n",
    "newvals.loc[[3940, 3941, 3943]] = [set(['Stephen Davis']),\n",
    "                                     set(['James Manning', 'Phillip N Brown', 'Stephen Davis']),\n",
    "                                     set(['James Burrill', 'John Brown', 'Mehitable Davis'])]\n",
    "names_fix.loc[adm_ind] = newvals"
   ],
   "metadata": {
    "collapsed": false,
    "pycharm": {
     "name": "#%%\n"
    }
   }
  },
  {
   "cell_type": "code",
   "execution_count": 103,
   "outputs": [],
   "source": [
    "# fix people with \"of\" in name\n",
    "of_ind = names_fix[names_fix.astype(str).apply(lambda x: \" of \" in x.lower() and \"state\" not in x.lower()\n",
    "                                                         and \"the\" not in x.lower() \\\n",
    "                                                         and \"bank\" not in x.lower()\n",
    "                                                         and \"town\" not in x.lower())].index\n",
    "newvals = names_fix.loc[of_ind].apply(lambda x: set([ele.lower().replace(\"execr\", \"\").replace(\"excr\", \"\").replace(\"executor\", \"\") for ele in list(x)]))\n",
    "newvals = newvals.apply(lambda x: set([ele.lower().split(\" of \")[0].replace(\"(\",\"\").replace(\"son\", \"\").strip().title() if \"robert pinkney\" not in ele.lower() else \"Johnathan Pinkney\" for ele in list(x)]))\n",
    "names_fix.loc[of_ind] = newvals"
   ],
   "metadata": {
    "collapsed": false,
    "pycharm": {
     "name": "#%%\n"
    }
   }
  },
  {
   "cell_type": "code",
   "execution_count": 104,
   "outputs": [],
   "source": [
    "# fix people with \"school\" in name\n",
    "s_ind = names_fix[names_fix.astype(str).apply(lambda x: \"school\" in x.lower() and \"com\" in x.lower())].index\n",
    "newvals = names_fix.loc[s_ind].apply(lambda x: set([ele.lower().split(\"school\")[0].replace(\"hon\", \"\").replace(\"society committee\", \"\").strip().title() for ele in list(x)]))\n",
    "names_fix.loc[s_ind] = newvals"
   ],
   "metadata": {
    "collapsed": false,
    "pycharm": {
     "name": "#%%\n"
    }
   }
  },
  {
   "cell_type": "code",
   "execution_count": 105,
   "outputs": [],
   "source": [
    "# change names for companies and other changes - warning - this is long\n",
    "company_names = [['{Clark and Nightingale}', set(['Joseph Nightingale', 'Joseph Innes Clark'])],\n",
    "                 ['{Jon and Jacob Starr, Jonathan and Jared Starr}', set(['Jonathan Starr', 'Jacob Starr'])],\n",
    "                 ['{John Williams Of Wethersfield, John Williams}', set(['John Williams'])],\n",
    "                 ['{Wallace and Muir}', set(['Charles Wallace', 'John Muir'])],\n",
    "                 ['{Zealor E Fisher, Henry Zealor and Margaret Fisher}', set(['Zealor E Fisher', 'Henry Zealor', 'Margaret Fisher'])],\n",
    "                 ['{Wallace Muir, Wallace and Muir}', set(['Charles Wallace', 'John Muir'])],\n",
    "                 ['{The Estate Of John Jordon, John Jordon, John Jordans Estate}', set(['John Jordon'])],\n",
    "                 ['{Lawrence Brangle and Jacob Gombar, Lawrence Brangle and Jacob Gombare, Lawrance Brangle and Jacob Gombare}', set(['Lawrence Brangle', 'Jacob Gombar', 'Jacob Gombare'])],\n",
    "                 ['{Thomas and Benjamin Harwood, William Harwood}', set(['Thomas Harwood', 'Benjamin Harwood', 'William Harwood'])],\n",
    "                 ['{Thomas and Benjamin Harwood, Thomas Harwwod and Benjamin Harwood}', set(['Thomas Harwood', 'Benjamin Harwood'])],\n",
    "                 ['{Wallce and Muir, Wallace and Muir}', set(['Charles Wallace', 'John Muir'])],\n",
    "                 ['{Stewart and Plunkett, Stewart Plunkett, Stewart E Plunkett}', set(['David Stewart', 'David Plunkett'])],\n",
    "                 ['{The Estate Of General Otto H Williams}', set(['Otto H Williams'])],\n",
    "                 ['{Hartshorne and Lindley}', set(['William Hartshorne', 'Joseph Lindley'])],\n",
    "                 ['{Willing Morris and Swanwick, William Morris and Swanwick}', set(['Thomas Willing', 'Robert Morris', 'John Swanwick'])],\n",
    "                 ['{Mccrea and Mease}', set(['Robert McCrea', 'Robert Mease'])],\n",
    "                 ['{Thomas Mifflin  Ex, His Executor Thomas Mifflin Francis Johnston David Lenox Charles Smith Ex To Ex Lawrence Keene, Thomas Mifflin and Francis Johnston David Lenax and Charles Smith}', set(['Thomas Mifflin', 'Francis Johnston', 'David Lenox', 'David Lenax', 'Charles Smith', 'Lawrence Keene'])],\n",
    "                 ['{Morris and Swanwick Willing, William Morris and Swanwick}', set(['Thomas Willing', 'Robert Morris', 'John Swanwick'])],\n",
    "                 ['{Wharton and Lewis}', set(['Isaac Wharton', 'David Lewis'])],\n",
    "                 ['{Bernard and Malfeson}', set(['Bernard Malfeson'])],\n",
    "                 ['{James Johnston John Mcdowell and Samuel Strawbridge, James Johnston John Mcdowell and James Strawbridge}', set(['James Johnston', 'John McDowell', 'James Strawbridge', 'Samuel Strawbridge'])],\n",
    "                 ['{William Sherer and John Mcdowell, William Sherer and Mcdowell}', set(['William Sherer', 'John McDowell'])],\n",
    "                 ['{Jennet Grier James Riddle and Henry Miller, Jennet Grier James Riddle}', set(['Jennet Grier', 'James Riddle', 'Henry Miller'])],\n",
    "                 ['{George Leib, George Leib Of The N L}', set(['George Leib'])],\n",
    "                 ['{Josiah Lockhart Treasury, Josiah Lockhart}', set(['Josiah Lockhart'])],\n",
    "                 ['{Alexander Fullerton, Alexander Fullerton and William Honeyman Deceased}', set(['Alexander Fullerton', 'William Honeyman'])],\n",
    "                 ['{Catharine and William Coleman Executor Of Jacob Coleman Deceased, Catherine and William, Cath and William Coleman}', set(['Catherine Coleman', 'Catharine Coleman', 'William Coleman'])],\n",
    "                 ['{Thomas Folwell And Joseph Hart, Thomas Folwell And Jo Hart}', set(['Thomas Folwell', 'Joseph Hart'])],\n",
    "                 ['{Rebecca and Deborah Wharton, Rebecca Wharton and Deborah Wharton}', set(['Rebecca Wharton', 'Deborah Wharton'])],\n",
    "                 ['{andrew Clow  Agents To James Brown Executor To The Est Of Hugh Patton, andrew Clow, andrew Clow  Agents To James Brown}', set(['Andrew Clow', 'James Brown', 'Hugh Patton'])],\n",
    "                 ['{Reed and Forde, Reide and Forde}', set(['John Reed', 'Standish Forde'])],\n",
    "                 ['{John Butler, John Butler From Treasury}', set(['John Butler'])],\n",
    "                 ['{Reed and Forde}', set(['John Reed', 'Standish Forde'])],\n",
    "                 ['{Joseph Stiles For Society, Society For The Relief Of Poor and Distressed Masters Of Ships Their Widows}', 'Joseph Stiles'],\n",
    "                 ['{Willing Morris and Swanwick, Willing Morries and Swanwick}', set(['Thomas Willing', 'Robert Morris', 'John Swanwick'])],\n",
    "                 ['{Budd Pryor, Budd and Pryor, Berdd and Pryor}', set(['John Budd', 'Norton Pryor'])],\n",
    "                 ['{Wilhem and Jan Willink and William Bingham, William and Jan Willink and William Bingham}', set(['William Willink', 'Jan Willink', 'William Bingham'])],\n",
    "                 ['{Reed and Forde, Reede and Ford}',set(['John Reed', 'Standish Forde'])],\n",
    "                 ['{Nicholas And Hannah Coske, Nicholas And Hannah Cooke, Robert Crooke}', set(['Nicholas Coske', 'Hannah Coske', 'Nicholas Cooke', 'Hannah Cooke', 'Robert Crooke'])],\n",
    "                 ['{Nathan Waterman And Robert Newell, N Waterman And R Newell}', set(['Nathan Waterman', 'Robert Newell'])],\n",
    "                 ['{Nathan and Fredrick Williams, Nathan and Frederick Williams}', set(['Nathan Williams', 'Frederick Williams'])],\n",
    "                 ['{Clark and Hammond}', set(['Ethan Clark'])],\n",
    "                 ['{Peleg Shearman Transfer From The Register Of The Treasury, Peleg Shearman Transfer The Register, Peleg Shearman Transferred From The Register Of The Treasury}', set(['Peleg Shearman'])],\n",
    "                 ['{Clark and Nightingale Transferred, Clark and Nightingale Transferred From Register}', set(['Joseph Innes Clark', 'Joseph Nightingale'])],\n",
    "                 ['{Mess and Nicholas Brown Transferred, Moses and Nicholas Brown Transferred From Treasury, Moses and Nicholas Brown Transferred}', set(['Moses and Nicholas Brown'])],\n",
    "                 ['{Benjamin Brown Transferred From Treasury, Benjamin Brown Transfer From Treasury, Benjamin Bowen}', set(['Benjamin Brown'])],\n",
    "                 ['{Samuel Eddy Transferred From Treasury, Samuel Eddy Transfer From Treasury, Samuel Eddy}', set(['Samuel Eddy'])],\n",
    "                 ['{Clark and Nightingale, Clark and Nightingale Transferred To Treasury}', set(['Joseph Innes Clark', 'Joseph Nightingale'])],\n",
    "                 ['{James Manning Transferred From The Treasury, James Manning, James Manning Transferred From Treasury}', set(['James Manning'])],\n",
    "                 ['{Philip Allen Transferred To Massachusetts, Philip Allen, Philip Allen Transferred From Massachusetts}', set(['Philip Allen '])],\n",
    "                 ['{Clarkand Nightingale Transferred From The Register, Clark and Nightingale Transferred From The Reg, Clark and Nightingale Register}', set(['Joseph Innes Clark', 'Joseph Nightingale'])],\n",
    "                 ['{Hopestill Mcneal, Hopestill Mcneal Transferred From The Register Of The Treasury}', set(['Hopestill McNeal'])],\n",
    "                 ['{John Smith, John Smith Transferred From The Register Of The Treasury}', set(['John Smith'])],\n",
    "                 ['{Nehemiah Rhodes Transferred From The Register Of The Treasury, Nehemiah Rhodes}', set(['Nehemiah Rhodes'])],\n",
    "                 ['{Thomas Fry, Thomas Fry  Transferred From The Register Of The Treasury}', set(['Thomas Fry'])],\n",
    "                 ['{John Mumford Transferred From The Treasury, John Mumford Transferred From Treasury, John Mumford Journal}', set(['John Mumford'])],\n",
    "                 ['{Clark and Nightingale, Nicholas Banney Transfer From Register, Nathaniel Barney Transfer From Register}', set(['Joseph Innes Clark', 'Joseph Nightingale', 'Nathaniel Barney', 'Nicholas Banney'])],\n",
    "                 ['{Clark and Nightingale Transfer From Register, William Larned}', set(['Joseph Innes Clark', 'Joseph Nightingale', 'William Larned'])],\n",
    "                 ['{Matthew Watson Transferred From The Office In Connecticut, Christopher Hill Transferred From The Register, The President  Of Bank Of Providence From The Books In Massachusetts}', set(['Matthew Watson', 'Christopher Hill'])],\n",
    "                 ['{William Littlefeild Transferred From The Office Of The Register, The President  Of Bank Of Providence From The Books In Massachusetts, John Warren Transferred From The Register}', set(['William Littlefeild', 'John Warren'])],\n",
    "                 ['{John Mawney Transferred From The Register, Matthew Watson From The Office Of William Imlay Connecticut, Sarah Ward Transferred From The Register Of The Treasury}', set(['John Mawney', 'Matthew Watson', 'Sarah Ward', 'William Imlay'])],\n",
    "                 ['{William Littlefield From The Office Of The Register Of Treasury, John Rogers Transferred From The Register Of The Treasury, Elisha Aldrich Transferred From The Register Of The Treasury}', set(['William Littlefield', 'John Rogers', 'Elisha Aldrich'])],\n",
    "                 ['{William Littlefield From The Office Of The Register Of Treasury, John Rogers Transferred From The Register Of The Treasury, Elisha Aldrich Transferred From The Register Of The Treasury}', set(['William Littlefield', 'John Rogers', 'Elisha Aldrich'])],\n",
    "                 ['{Dr William Handy In Trust For His Niece Mehetable Handy Transferred From The Books At New York, Warrant For Transferring Into The Books Of This Office Vizt, Warrant For Transfering Into the Books Of This Office Vizt}', set(['William Handy', 'Mehetable Handy'])],\n",
    "                 ['{10926 In Favor Johh Brown From The Register Of The Treasury, John Mawney Transferred From The Register Of The Treasury, No 10925 In Favor Of John Brown From The Register Of The Treasury}', set(['John Brown', 'John Mawney'])],\n",
    "                 ['{Warrats For Transfering Into The Books Of This Office Vizt, Warrants From The Secretary Of The Treasury For Transferring To The Books Of This Office Vizt, Jn Rogers Transfer From Register}', set(['Jn Rogers'])],\n",
    "                 ['{John Eddy Transfer From Register, No 11749 In Fovar Christopher Smith From Register Of The Treasury, Christopher Smith No 11750}', set(['John Eddy', 'Christopher Smith'])],\n",
    "                 ['{No 11723 In Favor Of James Bursill Jun From Register Of Treasury, Rev Ja Manning No 10315, Warrant For Transferring Into The Books Of This Office From The Register Of The Treasury Viz}', set(['James Bursill', 'Ja Manning'])],\n",
    "                 ['{John Bowen No 11747}', set(['John Bowen'])],\n",
    "                 ['{Willard Eddy No 11753}', set(['Willard Eddy'])],\n",
    "                 ['{Benjamin Stelle No 9201}', set(['Benjamin Stelle'])],\n",
    "                 ['{The Heirs Of George Guerin}', set(['George Guerin'])],\n",
    "                 ['{Nicholas Low and Horace and S Johnson}', set(['Nicholas Low', 'Horace Johnson', 'S Johnson'])],\n",
    "                 ['{Allexander Gillon and Robert Smith}', set(['Allexander Gillon', ' Robert Smith'])],\n",
    "                 ['{Allexander Gillon and Robert Smith}', set(['Allexander Gillon', ' Robert Smith'])],\n",
    "                 ['{Presstman and Calhoun}', set(['William Presstman'])],\n",
    "                 ['{Wadsworth and Turpin}', set(['Thomas Wadsworth', 'William Turpin'])],\n",
    "                 ['{Cross and Crowly}', set(['William George Cross', 'Charles Crowley'])],\n",
    "                 ['{Barnabas Deane and Jeremiah Wadsworth, Barnabas Deane and J Wadsworth}', set(['Barnabas Deane', 'Jeremiah Wadsworth'])],\n",
    "                 ['{Dan and E Boardman, Daniel and Elijah Boardman}', set(['Daniel Boardman', 'Elijah Boardman'])],\n",
    "                 ['{Charles Stuart and James Mcculloch}', set(['Charles Stuart', 'James McCulloch'])],\n",
    "                 ['{Willing Morris and Swanwick, Morris and Swanwick Willing, William Morris and Swanwick}', set(['Thomas Willing', 'Robert Morris', 'John Swanwick'])],\n",
    "                 ['{Moses and Nicholas Brown}', set(['Moses Brown', 'Nicholas Brown'])],\n",
    "                 ['{Jonathan and Jared Starr, Jon and Jacob Starr}', set(['Jonathan Starr', 'Jared Starr', 'Jacob Starr'])],\n",
    "                 ['{Barnabas Deane and J Wadsworth, Barnabas Deane and Jeremiah Wadsworth}', set(['Barnabas Deane', 'Jeremiah Wadsworth'])],\n",
    "                 ['{Daniel And Elijah Bor, Daniel And Elijah Boardman, Dan And Elijah Boardman}', set(['Daniel Boardman', 'Elijah Boardman'])],\n",
    "                 ['{John Williams, John Williams Of Wethersfield}', set(['John Williams'])],\n",
    "                 ['{Henry Zealor and Margaret Fisher, Zealor E Fisher}', set(['Henry Zealor', 'Margaret Fisher'])],\n",
    "                 ['{Wallace and Muir, Wallace Muir}', set(['Charles Wallace','John Muir'])],\n",
    "                 ['{The Estate Of John Jordon, John Jordans Estate, John Jordon}', set(['John Jordon'])],\n",
    "                 ['{Lawrance Brangle and Jacob Gombare, Lawrence Brangle and Jacob Gombare, Lawrence Brangle and Jacob Gombar}', set(['Lawrence Brangle', 'Jacob Gombare'])],\n",
    "                 ['{William Harwood, Thomas and Benjamin Harwood}', set(['William Harwood', 'Thomas Harwood', 'Benjamin Harwood'])],\n",
    "                 ['{Stewart E Plunkett, Stewart and Plunkett, Stewart Plunkett}', set(['David Stewart', 'David Plunkett'])],\n",
    "                 ['{William Morris and Swanwick, Willing Morris and Swanwick}', set(['Thomas Willing', 'Robert Morris', 'John Swanwick'])],\n",
    "                 ['{John Ewing, John Ewing For Corp, Anthony Weiss}', set(['John Ewing', 'Anthony Weiss'])],\n",
    "                 ['{Thomas Mifflin  Ex, Thomas Mifflin and Francis Johnston David Lenax and Charles Smith, His Executor Thomas Mifflin Francis Johnston David Lenox Charles Smith Ex To Ex Lawrence Keene}', set(['Thomas Mifflin', 'Francis Johnston', 'David Lenax', 'David Lenox', 'Charles Smith', 'Lawrence Keene'])],\n",
    "                 ['{William Morris and Swanwick, Morris and Swanwick Willing}', set(['Thomas Willing', 'Robert Morris', 'John Swanwick'])],\n",
    "                 ['{William Morris and Swanwick, Willing Morris and Swanwick, Morris and Swanwick Willing}', set(['Thomas Willing', 'Robert Morris', 'John Swanwick'])],\n",
    "                 ['{William Sherer and Mcdowell, William Sherer and John Mcdowell}', set(['William Sherer', 'John McDowell'])],\n",
    "                 ['{George Leib Of The N L, George Leib}', set(['George Leib'])],\n",
    "                 ['{Catherine and William, Cath and William Coleman, Catharine and William Coleman Executor Of Jacob Coleman Deceased}', set(['Catherine Coleman', 'Catharine Coleman', 'William Coleman', 'Jacob Coleman'])],\n",
    "                 ['{andrew Clow  Agents To James Brown, andrew Clow  Agents To James Brown Executor To The Est Of Hugh Patton, andrew Clow}', set(['Andrew Clow', 'James Brown', 'Hugh Patton'])],\n",
    "                 ['{John Butler From Treasury, John Butler}', set(['John Butler'])],\n",
    "                 ['{Ditta In Trust For Jonnet Thompson}', set(['Jonnet Thompson'])],\n",
    "                 ['{Peter Vanderveer, Peter Vanderveer In Trust For Jacobus Van Eis}', set(['Peter Vanderveer', 'Jacobus Van Eis'])],\n",
    "                 ['{N Waterman And R Newell, Nathan Waterman And Robert Newell}', set(['Nathan Waterman', 'Robert Newell'])],\n",
    "                 ['{Nathan and Frederick Williams, Nathan and Fredrick Williams}', set(['Nathan Williams', 'Frederick Williams'])],\n",
    "                 ['{Peleg Shearman Transfer From The Register Of The Treasury, Peleg Shearman Transferred From The Register Of The Treasury, Peleg Shearman Transfer The Register}', set(['Peleg Shearman'])],\n",
    "                 ['{Clark and Nightingale Transferred From Register, Clark and Nightingale Transferred}', set(['Joseph Innes Clark', 'Joseph Nightingale'])],\n",
    "                 ['{Mess and Nicholas Brown Transferred, Moses and Nicholas Brown Transferred, Moses and Nicholas Brown Transferred From Treasury}', set(['Moses Brown', 'Nicholas Brown'])],\n",
    "                 ['{Benjamin Brown Transferred From Treasury, Benjamin Bowen, Benjamin Brown Transfer From Treasury}', set(['Benjamin brown', 'Benjamin Bowen'])],\n",
    "                 ['{Samuel Eddy, Samuel Eddy Transferred From Treasury, Samuel Eddy Transfer From Treasury}', set(['Samuel Eddy'])],\n",
    "                 ['{Clark and Nightingale Transferred From Register, Clark and Nightingale Transferred}', set(['Joseph Innes Clark', 'Joseph Nightingale'])],\n",
    "                 ['{Philip Allen, Philip Allen Transferred From Massachusetts, Philip Allen Transferred To Massachusetts}', set(['Philip Allen'])],\n",
    "                 ['{Clark and Nightingale Transferred From The Reg, Clarkand Nightingale Transferred From The Register, Clark and Nightingale Register}',\n",
    "                  set(['Joseph Innes Clark', 'Joseph Nightingale'])],\n",
    "                 ['{Hopestill Mcneal Transferred From The Register Of The Treasury, Hopestill Mcneal}', set(['Hopestill Mcneal'])],\n",
    "                 ['{Nehemiah Rhodes, Nehemiah Rhodes Transferred From The Register Of The Treasury}', set(['Nehemiah Rhodes'])],\n",
    "                 ['{The President  Of Bank Of Providence From The Books In Massachusetts, Matthew Watson Transferred From The Office In Connecticut, Christopher Hill Transferred From The Register}', set(['Matthew Watson', 'Christopher Hill'])],\n",
    "                 ['{The President  Of Bank Of Providence From The Books In Massachusetts, John Warren Transferred From The Register, William Littlefeild Transferred From The Office Of The Register}', set(['William Littlefeild'])],\n",
    "                 ['{Matthew Watson From The Office Of William Imlay Connecticut, John Mawney Transferred From The Register, Sarah Ward Transferred From The Register Of The Treasury}', set(['Matthew Watson', 'William Imlay', 'John Mawney', 'Sarah Ward'])],\n",
    "                 ['{John Rogers Transferred From The Register Of The Treasury, William Littlefield From The Office Of The Register Of Treasury, Elisha Aldrich Transferred From The Register Of The Treasury}', set(['John Rogers', 'William Littlefield', 'Elisha Aldrich'])],\n",
    "                 ['{Dr William Handy In Trust For His Niece Mehetable Handy Transferred From The Books At New York, Warrant For Transfering Into The Books Of This Office Vizt, Warrant For Transferring Into The Books Of This Office Vizt}', set(['William Handy', 'Mehetable Handy'])],\n",
    "                 ['{10926 In Favor Johh Brown From The Register Of The Treasury, No 10925 In Favor Of John Brown From The Register Of The Treasury, John Mawney Transferred From The Register Of The Treasury}', set(['William Handy', 'Mehetable Handy'])],\n",
    "                 ['{Warrants From The Secretary Of The Treasury For Transferring To The Books Of This Office Vizt, Jn Rogers Transfer From Register, Warrats For Transfering Into The Books Of This Office Vizt}', set(['John Rogers'])],\n",
    "                 ['{Rev Ja Manning No 10315, No 11723 In Favor Of James Bursill Jun From Register Of Treasury, Warrant For Transferring Into The Books Of This Office From The Register Of The Treasury Viz}', set(['Ja Manning', 'James Bursill'])],\n",
    "                 ['{James Manning, James Manning Transferred From Treasury, James Manning Transferred From The Treasury}', set(['James Manning'])],\n",
    "                 ['{William Larned, Clark and Nightingale Transfer From Register}', set(['William Larned', 'Joseph Innes Clark', 'Joseph Nightingale'])],\n",
    "                 ['{Society For The Relief Of Poor and Distressed Masters Of Ships Their Widows, Joseph Stiles For Society}', set(['Joseph Stiles'])],\n",
    "                 ['{Appha Loomis, Appha Loomis Executor, Alpha Lommis Executor}', set(['Alpha Loomis', 'Appha Loomis'])],\n",
    "                 ['{Oliver Mather, Oliver Mather Executor, Oliver Mather Executive}', set(['Oliver Mather'])],\n",
    "                 ['{John Jordans Estate}', set(['John Jordan'])],\n",
    "                 ['{Richard Downing  Jennings}', set(['Richard Downing Jennings'])],\n",
    "                 ['{Avery  Hall}', set(['Avery Hall'])],\n",
    "                 ['{Samuel Athenton Transfer, Samuel Atherton Transfer}', set(['Samuel Athenton', 'Samuel Atherton'])]]\n",
    "company_names = dict(zip([c[0] for c in company_names], [c[1] for c in company_names]))\n",
    "names_fix = names_fix.apply(lambda x: company_names.get(str(x).replace('\\'',''), x))\n",
    "names_fix.loc[3936] = set(['William Handy','Mehetable Handy'])"
   ],
   "metadata": {
    "collapsed": false,
    "pycharm": {
     "name": "#%%\n"
    }
   }
  },
  {
   "cell_type": "code",
   "execution_count": 106,
   "outputs": [],
   "source": [
    "# remove names with transfer\n",
    "names_fix = names_fix.apply(lambda x: set([ele.lower().split(\"transfer\")[0].title().strip() for ele in list(x)]) if 'transfer' in str(x).lower() else x)"
   ],
   "metadata": {
    "collapsed": false,
    "pycharm": {
     "name": "#%%\n"
    }
   }
  },
  {
   "cell_type": "code",
   "execution_count": 107,
   "outputs": [
    {
     "data": {
      "text/plain": "            town             county state name_type                 Name  \\\n0       Hartford    Hartford County    CT      town   [Samuel W Pomeroy]   \n1         Bolton     Tolland County    CT      town  [Benjamin Trumbull]   \n2            NaN                NaN    RI     state      [Richard Green]   \n3       Hartford    Hartford County    CT      town     [Thomas Hopkins]   \n4       Hartford    Hartford County    CT      town        [John Morgan]   \n...          ...                ...   ...       ...                  ...   \n4370  Charleston  Charleston County    SC      town     [William Graham]   \n4371         NaN                NaN    RI     state        [John Updike]   \n4373         NaN                NaN    MD     state      [George Parker]   \n4374         NaN                NaN    MD     state     [Edward Ireland]   \n4375  Charleston  Charleston County    SC      town       [Simeon Theus]   \n\n               Fixed Name  \n0      {Samuel W Pomeroy}  \n1     {Benjamin Trumbull}  \n2         {Richard Green}  \n3        {Thomas Hopkins}  \n4           {John Morgan}  \n...                   ...  \n4370     {William Graham}  \n4371        {John Updike}  \n4373      {George Parker}  \n4374     {Edward Ireland}  \n4375       {Simeon Theus}  \n\n[3241 rows x 6 columns]",
      "text/html": "<div>\n<style scoped>\n    .dataframe tbody tr th:only-of-type {\n        vertical-align: middle;\n    }\n\n    .dataframe tbody tr th {\n        vertical-align: top;\n    }\n\n    .dataframe thead th {\n        text-align: right;\n    }\n</style>\n<table border=\"1\" class=\"dataframe\">\n  <thead>\n    <tr style=\"text-align: right;\">\n      <th></th>\n      <th>town</th>\n      <th>county</th>\n      <th>state</th>\n      <th>name_type</th>\n      <th>Name</th>\n      <th>Fixed Name</th>\n    </tr>\n  </thead>\n  <tbody>\n    <tr>\n      <th>0</th>\n      <td>Hartford</td>\n      <td>Hartford County</td>\n      <td>CT</td>\n      <td>town</td>\n      <td>[Samuel W Pomeroy]</td>\n      <td>{Samuel W Pomeroy}</td>\n    </tr>\n    <tr>\n      <th>1</th>\n      <td>Bolton</td>\n      <td>Tolland County</td>\n      <td>CT</td>\n      <td>town</td>\n      <td>[Benjamin Trumbull]</td>\n      <td>{Benjamin Trumbull}</td>\n    </tr>\n    <tr>\n      <th>2</th>\n      <td>NaN</td>\n      <td>NaN</td>\n      <td>RI</td>\n      <td>state</td>\n      <td>[Richard Green]</td>\n      <td>{Richard Green}</td>\n    </tr>\n    <tr>\n      <th>3</th>\n      <td>Hartford</td>\n      <td>Hartford County</td>\n      <td>CT</td>\n      <td>town</td>\n      <td>[Thomas Hopkins]</td>\n      <td>{Thomas Hopkins}</td>\n    </tr>\n    <tr>\n      <th>4</th>\n      <td>Hartford</td>\n      <td>Hartford County</td>\n      <td>CT</td>\n      <td>town</td>\n      <td>[John Morgan]</td>\n      <td>{John Morgan}</td>\n    </tr>\n    <tr>\n      <th>...</th>\n      <td>...</td>\n      <td>...</td>\n      <td>...</td>\n      <td>...</td>\n      <td>...</td>\n      <td>...</td>\n    </tr>\n    <tr>\n      <th>4370</th>\n      <td>Charleston</td>\n      <td>Charleston County</td>\n      <td>SC</td>\n      <td>town</td>\n      <td>[William Graham]</td>\n      <td>{William Graham}</td>\n    </tr>\n    <tr>\n      <th>4371</th>\n      <td>NaN</td>\n      <td>NaN</td>\n      <td>RI</td>\n      <td>state</td>\n      <td>[John Updike]</td>\n      <td>{John Updike}</td>\n    </tr>\n    <tr>\n      <th>4373</th>\n      <td>NaN</td>\n      <td>NaN</td>\n      <td>MD</td>\n      <td>state</td>\n      <td>[George Parker]</td>\n      <td>{George Parker}</td>\n    </tr>\n    <tr>\n      <th>4374</th>\n      <td>NaN</td>\n      <td>NaN</td>\n      <td>MD</td>\n      <td>state</td>\n      <td>[Edward Ireland]</td>\n      <td>{Edward Ireland}</td>\n    </tr>\n    <tr>\n      <th>4375</th>\n      <td>Charleston</td>\n      <td>Charleston County</td>\n      <td>SC</td>\n      <td>town</td>\n      <td>[Simeon Theus]</td>\n      <td>{Simeon Theus}</td>\n    </tr>\n  </tbody>\n</table>\n<p>3241 rows × 6 columns</p>\n</div>"
     },
     "execution_count": 107,
     "metadata": {},
     "output_type": "execute_result"
    }
   ],
   "source": [
    "# final name list\n",
    "name_df = names\n",
    "name_df['Fixed Name'] = names_fix\n",
    "# fix state\n",
    "ind = name_df.query('name_type == \"other\" and not state.isna() and state != \"BVI\" and state != \"BM\" and state != \"GB\" and state != \"VI\" and state != \"FR\" and state != \"US\"').index\n",
    "name_df.loc[ind, 'name_type'] = 'state'\n",
    "name_df.loc[name_df[name_df['name_type'] == 'town]'].index, 'name_type'] = 'town'\n",
    "set_conv = dict(zip(name_df['Fixed Name'].astype(str), name_df['Fixed Name']))\n",
    "name_conv = dict(zip(name_df['Name'].astype(str), name_df['Name']))\n",
    "name_df"
   ],
   "metadata": {
    "collapsed": false,
    "pycharm": {
     "name": "#%%\n"
    }
   }
  },
  {
   "cell_type": "code",
   "execution_count": 108,
   "outputs": [],
   "source": [
    "# store numeric suffix for location\n",
    "#locationsuffix = dict()"
   ],
   "metadata": {
    "collapsed": false,
    "pycharm": {
     "name": "#%%\n"
    }
   }
  },
  {
   "cell_type": "markdown",
   "source": [
    "## Scrape Data From Ancetry"
   ],
   "metadata": {
    "collapsed": false,
    "pycharm": {
     "name": "#%% md\n"
    }
   }
  },
  {
   "cell_type": "code",
   "execution_count": 109,
   "outputs": [],
   "source": [
    "# store data\n",
    "#df_list = []"
   ],
   "metadata": {
    "collapsed": false,
    "pycharm": {
     "name": "#%%\n"
    }
   }
  },
  {
   "cell_type": "code",
   "execution_count": 110,
   "outputs": [],
   "source": [
    "# main function that obtains data on individuals\n",
    "# basically this function just takes a link and outputs data on them\n",
    "def listPeople(driver, fn, ln, samelocation = False, expandGeography = False, expandNameMatch = False):\n",
    "    retVal =  [\"end\"]\n",
    "    # if no matches found, loosen the restrictions on gegraphy and name\n",
    "    try:\n",
    "        count_text = driver.find_element(By.XPATH, \"//*[@id=\\\"results-footer\\\"]/h3\").text\n",
    "    except:\n",
    "        # feel free to swap the order, depending on your preferences\n",
    "        # here i say we loosen name match restrictions before we expand geography\n",
    "        if expandNameMatch:\n",
    "            return \"name\"\n",
    "        if expandGeography:\n",
    "            return \"geography\"\n",
    "        retVal.append(\"No Match: No Match Found\")\n",
    "        return retVal\n",
    "\n",
    "    count = int(count_text.split(\" of \")[1])\n",
    "    # if multiple matches found, see if any of them are all in the same place\n",
    "    # we can categorize this as a \"location match\"\n",
    "    if count > 1:\n",
    "        if samelocation:\n",
    "            locationlist = []\n",
    "            if count < 5: # likelihood of same location for over 5 individuals = rare\n",
    "                for i in range(count):\n",
    "                    location = driver.find_element(By.XPATH, f\"//*[@id=\\\"sRes-{i}\\\"]/td[3]\").text.split(\",\")[1]\n",
    "                    locationlist.append(location)\n",
    "                if len(set(locationlist)) == 1:\n",
    "                    name = fn + \" \" + ln\n",
    "                    retVal.extend([f\"Name: {name}\", f\"Location: {locationlist[0]}\"])\n",
    "                else:\n",
    "                    retVal.append(f\"No Match: Too Many Potential Matches Found {count}\")\n",
    "            else:\n",
    "                retVal.append(f\"No Match: Too Many Potential Matches Found {count}\")\n",
    "        else:\n",
    "            retVal.append(f\"No Match: Too Many Potential Matches Found\")\n",
    "        return retVal\n",
    "    # if only one name is found then we categorize this as a person match\n",
    "    else:\n",
    "        fname = driver.find_element(By.XPATH, f\"//*[@id=\\\"sRes-0\\\"]/td[2]/span/span[1]\").text\n",
    "        try:\n",
    "            lname  = driver.find_element(By.XPATH, f\"//*[@id=\\\"sRes-0\\\"]/td[2]/span/span[2]\").text\n",
    "        except:\n",
    "            try:\n",
    "                lname = driver.find_element(By.XPATH, f\"//*[@id=\\\"sRes-0\\\"]/td[2]/span/span/span[2]\").text\n",
    "            except:\n",
    "                lname = driver.find_element(By.XPATH, \"//*[@id=\\\"sRes-0\\\"]/td[2]/span/span/text()\").text\n",
    "        name = fname + \" \" + lname\n",
    "        location = driver.find_element(By.XPATH, f\"//*[@id=\\\"sRes-0\\\"]/td[3]\").text\n",
    "        slavecount = driver.find_element(By.XPATH, f\"//*[@id=\\\"sRes-0\\\"]/td[4]\").text\n",
    "        familysize = driver.find_element(By.XPATH, f\"//*[@id=\\\"sRes-0\\\"]/td[5]\").text\n",
    "        # print output\n",
    "        retVal.extend([f\"Name: {name}\", f\"Location: {location}\", f\"Family Size: {familysize}\", f\"Slavecount: {slavecount}\"])\n",
    "        return retVal"
   ],
   "metadata": {
    "collapsed": false,
    "pycharm": {
     "name": "#%%\n"
    }
   }
  },
  {
   "cell_type": "code",
   "execution_count": 111,
   "outputs": [],
   "source": [
    "def processLocationString(name_type, town, county, state):\n",
    "    if name_type == \"town\":\n",
    "        return town + \", \" + county + \", \" + statedict[state]\n",
    "    elif name_type == \"county\":\n",
    "        return county + \", \" + statedict[state]\n",
    "    elif name_type == \"state\" or name_type == \"state_flag\":\n",
    "        return statedict[state]\n",
    "    else:\n",
    "        return \"United States\""
   ],
   "metadata": {
    "collapsed": false,
    "pycharm": {
     "name": "#%%\n"
    }
   }
  },
  {
   "cell_type": "code",
   "execution_count": 112,
   "outputs": [],
   "source": [
    "def searchLocationString(name_type, town, county, state):\n",
    "    if not pd.isnull(county):\n",
    "        county = county.replace('County', '').strip().replace(' ', '+').replace('\\'', '+').lower()\n",
    "    if name_type == \"town\":\n",
    "        return town.lower() + \"-\" + county + \"-\" + statedict[state].lower() + \"-usa\"\n",
    "    elif name_type == \"county\":\n",
    "        return county + \"-\" + statedict[state].lower() + \"-usa\"\n",
    "    elif name_type == \"state\" or name_type == \"state_flag\":\n",
    "        return statedict[state]+ \"-usa\"\n",
    "    else:\n",
    "        return \"usa\""
   ],
   "metadata": {
    "collapsed": false,
    "pycharm": {
     "name": "#%%\n"
    }
   }
  },
  {
   "cell_type": "code",
   "execution_count": 113,
   "outputs": [],
   "source": [
    "def navigateTo(fn, ln, driver, namesuffix , locsuffix, town, county, state, name_type, initial = False):\n",
    "    fn = fn.replace(\" \", \"+\")\n",
    "    ln = ln.replace(\" \", \"+\")\n",
    "\n",
    "    if initial:\n",
    "        locationstr = processLocationString(name_type, town, county, state)\n",
    "        if locationstr in locationsuffix.keys():\n",
    "            locationnum = locationsuffix[locationstr]\n",
    "            searchstr = searchLocationString(name_type, town, county, state)\n",
    "            url = f\"https://www-ancestrylibrary-com.proxy.uchicago.edu/search/collections/5058/?name={fn}_{ln}&name_x={namesuffix}&residence=_{searchstr}_{locationnum}&residence_x={locsuffix}\"\n",
    "            driver.get(url)\n",
    "            time.sleep(3)\n",
    "        else:\n",
    "            driver.get('https://www-ancestrylibrary-com.proxy.uchicago.edu/search/collections/5058/')\n",
    "            time.sleep(8)\n",
    "            val = driver.find_element(by = By.XPATH, value =\"//*[@id=\\\"sfs_ContentBased\\\"]/div[1]/div/fieldset[1]/div[2]/label\").get_attribute(\"for\").split(\"Place_\")[1]\n",
    "\n",
    "            driver.find_element(by=By.XPATH, value=f\"//*[@id=\\\"sfs__SelfResidencePlace_{val}\\\"]\").send_keys(locationstr)\n",
    "            time.sleep(2)\n",
    "            driver.find_element(by=By.XPATH, value=f\"//*[@id=\\\"sfs__SelfResidencePlace_{val}Autocomplete0\\\"]\").click()\n",
    "            time.sleep(1)\n",
    "            driver.find_element(by=By.XPATH, value=f\"//*[@id=\\\"sfs__SelfResidencePlace_{val}\\\"]\").send_keys(Keys.ENTER)\n",
    "            time.sleep(7)\n",
    "            currurl = driver.current_url\n",
    "\n",
    "            try:\n",
    "                code = currurl.split(\"usa_\")[1]\n",
    "                locationsuffix[locationstr] = code\n",
    "            except:\n",
    "                print(f\"error saving {locationstr}\")\n",
    "\n",
    "            url = currurl.split(\"?\")[0] + f\"?name={fn}_{ln}&name_x={namesuffix}&\" + currurl.split(\"?\")[1] + f\"&residence_x={locsuffix}\"\n",
    "            print(url)\n",
    "            driver.get(url)\n",
    "            time.sleep(3)\n",
    "    else:\n",
    "        currurl = driver.current_url\n",
    "        url = currurl.split(\"&name_x\")[0] + f\"&name_x={namesuffix}\" + \"&residence=_\" + currurl.split(\"&residence=_\")[1].split(\"&residence_x=\")[0] + f\"&residence_x={locsuffix}\"\n",
    "        driver.get(url)\n",
    "        time.sleep(1)\n",
    "    return driver, url"
   ],
   "metadata": {
    "collapsed": false,
    "pycharm": {
     "name": "#%%\n"
    }
   }
  },
  {
   "cell_type": "code",
   "execution_count": 114,
   "outputs": [],
   "source": [
    "# function that controls settings for strictness of search and returns final data for each individual\n",
    "def findMatches(fn, ln, driver, locationmatchlist , namematchlist, town, county, state, name_type):\n",
    "    locationmatchind = 0\n",
    "    namematchind = 0\n",
    "    geobool = True\n",
    "    namebool = True\n",
    "\n",
    "    # navigate to original url\n",
    "    driver, og_url = navigateTo(fn, ln, driver, namematchlist[namematchind] , locationmatchlist[locationmatchind], town, county, state, name_type, initial = True)\n",
    "    time.sleep(1)\n",
    "\n",
    "    # see if there are any matches using initial strict settings\n",
    "    val = listPeople(driver, fn, ln, samelocation = True, expandGeography = geobool, expandNameMatch = namebool)\n",
    "    # if we have found a match or we have exhausted all possible geo/name restriction loosenings, end search\n",
    "    while type(val) != list and (geobool or namebool):\n",
    "        # command to do a geographic expansion\n",
    "        if val == \"geography\":\n",
    "            if namematchind == len(namematchlist) - 1 and locationmatchind == 0:\n",
    "                namematchind = 0\n",
    "                namebool = True\n",
    "            locationmatchind+=1\n",
    "            if locationmatchind < len(locationmatchlist):\n",
    "                # navigate to url with new settings\n",
    "                driver, og_url = navigateTo(fn, ln, driver, namematchlist[namematchind] , locationmatchlist[locationmatchind], town, county, state, name_type)\n",
    "                time.sleep(1)\n",
    "                val = listPeople(driver, fn, ln, samelocation = True, expandGeography = geobool, expandNameMatch = namebool)\n",
    "            else:\n",
    "                # if we have exhausted all options, prevent future geographic expansions\n",
    "                locationmatchind -= 1 # reset it to most loose setting\n",
    "                geobool = False\n",
    "                val = listPeople(driver, fn, ln, samelocation = True, expandGeography = geobool, expandNameMatch = namebool)\n",
    "        # command to do name expansion\n",
    "        elif val == \"name\":\n",
    "            namematchind += 1\n",
    "            if namematchind < len(namematchlist):\n",
    "                # navigate to url with new settings\n",
    "                driver, og_url = navigateTo(fn, ln, driver, namematchlist[namematchind] , locationmatchlist[locationmatchind], town, county, state, name_type)\n",
    "                time.sleep(1)\n",
    "                val = listPeople(driver, fn, ln, samelocation = True, expandGeography = geobool, expandNameMatch = namebool)\n",
    "            else:\n",
    "                # if we have exhausted all options, prevent future name expansions\n",
    "                namematchind -= 1 # reset it to most loose setting\n",
    "                namebool = False\n",
    "                val = listPeople(driver, fn, ln, samelocation = True, expandGeography = geobool, expandNameMatch = namebool)\n",
    "    val.extend([og_url])\n",
    "    return val"
   ],
   "metadata": {
    "collapsed": false,
    "pycharm": {
     "name": "#%%\n"
    }
   }
  },
  {
   "cell_type": "code",
   "execution_count": 115,
   "outputs": [],
   "source": [
    "# split result of scraping, depending on how much info was obtained\n",
    "def parseScrapeResult(res, i, index, og_name, name,):\n",
    "    remdata = []\n",
    "    if len(res) == 3: # nomatch\n",
    "        matchstatus = res[1].split(\": \")[0]\n",
    "        matchreason = res[1].split(\": \")[1]\n",
    "        remdata.extend([matchstatus, matchreason, np.nan, np.nan, np.nan, res[2]])\n",
    "    elif len(res) == 4: # location match\n",
    "        matchstatus = \"Match\"\n",
    "        matchreason = \"Only Location Found\"\n",
    "        location = res[2].split(\": \")[1]\n",
    "        remdata.extend([matchstatus, matchreason, location, np.nan, np.nan, res[3]])\n",
    "    else:\n",
    "        matchstatus = \"Match\"\n",
    "        matchreason = \"Full Match\"\n",
    "        name = res[1].split(\": \")[1]\n",
    "        location = res[2].split(\": \")[1]\n",
    "        familycnt = res[3].split(\": \")[1]\n",
    "        slavecnt = res[4].split(\": \")[1]\n",
    "        remdata.extend([matchstatus, matchreason, location, familycnt, slavecnt, res[5]])\n",
    "    data = [index, og_name, name, i]\n",
    "    data.extend(remdata)\n",
    "    return data"
   ],
   "metadata": {
    "collapsed": false,
    "pycharm": {
     "name": "#%%\n"
    }
   }
  },
  {
   "cell_type": "code",
   "execution_count": 116,
   "outputs": [],
   "source": [
    "def determineMatchList(name_type, townmatchlist, countymatchlist, statematchlist, stateflagmatchlist, othermatchlist):\n",
    "    if name_type == \"town\":\n",
    "        return townmatchlist\n",
    "    elif name_type == \"county\":\n",
    "        return countymatchlist\n",
    "    elif name_type == \"state\":\n",
    "        return statematchlist\n",
    "    elif name_type == \"state_flag\":\n",
    "        return stateflagmatchlist\n",
    "    else:\n",
    "        return othermatchlist"
   ],
   "metadata": {
    "collapsed": false,
    "pycharm": {
     "name": "#%%\n"
    }
   }
  },
  {
   "cell_type": "code",
   "execution_count": 120,
   "outputs": [
    {
     "name": "stdout",
     "output_type": "stream",
     "text": [
      "Original Name: ['John Otto'], Search Name:['John Otto'], Index: 2272\n",
      "error saving Reading Berks, Berks County, Pennsylvania\n",
      "https://www-ancestrylibrary-com.proxy.uchicago.edu/search/collections/5058/?name=John_Otto&name_x=1_1&residence=_Reading+Berks-Berks+County-Pennsylvania&residence_x=1-0_1-0\n",
      "['Index: 2272', \"Original Name: ['John Otto']\", 'Search Name: John Otto', 'Name #: 1', 'Match Status: Match', 'Match Reason: Full Match', 'Location: Reading, Berks, Pennsylvania', 'Family Size: 10', 'Slavecount: \\xa0', 'url: https://www-ancestrylibrary-com.proxy.uchicago.edu/search/collections/5058/?name=John_Otto&name_x=1_1&residence=_Reading+Berks-Berks+County-Pennsylvania&residence_x=1-0_1-0', 'town: Reading Berks', 'county: Berks County', 'state: PA', 'name_type: town']\n",
      "\n",
      "Original Name: ['Andrew Douglass'], Search Name:['andrew Douglass'], Index: 2559\n",
      "['Index: 2559', \"Original Name: ['Andrew Douglass']\", 'Search Name: Andrew Douglass', 'Name #: 1', 'Match Status: Match', 'Match Reason: Full Match', 'Location: Water Street East Side, Philadelphia, Pennsylvania', 'Family Size: \\xa0', 'Slavecount: \\xa0', 'url: https://www-ancestrylibrary-com.proxy.uchicago.edu/search/collections/5058/?name=andrew_Douglass&name_x=1_1&residence=_philadelphia-philadelphia-pennsylvania-usa_15153&residence_x=1-0_1-1', 'town: Philadelphia', 'county: Philadelphia County', 'state: PA', 'name_type: town']\n",
      "\n",
      "Original Name: ['Manuel Eyre'], Search Name:['Manuel Eyre'], Index: 2708\n",
      "error saving Kensington, Westmoreland County, Pennsylvania\n",
      "https://www-ancestrylibrary-com.proxy.uchicago.edu/search/collections/5058/?name=Manuel_Eyre&name_x=1_1&residence=_Kensington-Westmoreland+County-Pennsylvania&residence_x=1-0_1-0\n",
      "['Index: 2708', \"Original Name: ['Manuel Eyre']\", \"Search Name: ['Manuel Eyre']\", 'Name #: 1', 'Match Status: No Match', 'Match Reason: No Match Found', 'Location: nan', 'Family Size: nan', 'Slavecount: nan', 'url: https://www-ancestrylibrary-com.proxy.uchicago.edu/search/collections/5058/?name=Manuel_Eyre&name_x=ps_ps&residence=_Kensington-Westmoreland+County-Pennsylvania&residence_x=1-0_1-1', 'town: Kensington', 'county: Westmoreland County', 'state: PA', 'name_type: town']\n",
      "\n",
      "Original Name: ['Jacob Myers'], Search Name:['Jacob Myers'], Index: 3005\n",
      "error saving Burlington, Burlington County, New Jersey\n",
      "https://www-ancestrylibrary-com.proxy.uchicago.edu/search/collections/5058/?name=Jacob_Myers&name_x=1_1&residence=_Burlington-Burlington+County-New+Jersey&residence_x=1-0_1-0\n",
      "['Index: 3005', \"Original Name: ['Jacob Myers']\", \"Search Name: ['Jacob Myers']\", 'Name #: 1', 'Match Status: No Match', 'Match Reason: No Match Found', 'Location: nan', 'Family Size: nan', 'Slavecount: nan', 'url: https://www-ancestrylibrary-com.proxy.uchicago.edu/search/collections/5058/?name=Jacob_Myers&name_x=ps_ps&residence=_Burlington-Burlington+County-New+Jersey&residence_x=1-0_1-1', 'town: Burlington', 'county: Burlington County', 'state: NJ', 'name_type: town']\n",
      "\n"
     ]
    }
   ],
   "source": [
    "# iterate through all individuals and try to find data for them\n",
    "assert(user == \"Chris\")\n",
    "driver = webdriver.Safari(executable_path=r'/usr/bin/safaridriver')#set driver\n",
    "file = pd.read_csv('~/Desktop/login_details.txt')\n",
    "username = file.columns[0]\n",
    "password = file[username].tolist()[0]\n",
    "driver.set_window_size(1400,1000)\n",
    "\n",
    "driver.get(\"https://www-ancestrylibrary-com.proxy.uchicago.edu/search/collections/5058/\")#get website from nyu database\n",
    "\n",
    "WebDriverWait(driver, 20).until(EC.element_to_be_clickable((By.ID, \"okta-signin-username\"))).send_keys(username)\n",
    "time.sleep(1)\n",
    "driver.find_element(by=By.ID, value=\"okta-signin-password\").send_keys(password)\n",
    "time.sleep(1)\n",
    "driver.find_element(by=By.ID, value=\"okta-signin-submit\").click() #sign in\n",
    "\n",
    "WebDriverWait(driver, 20).until(EC.frame_to_be_available_and_switch_to_it((By.XPATH,\"//*[@id=\\\"form62\\\"]/div/div[2]/iframe\")))\n",
    "WebDriverWait(driver, 20).until(EC.element_to_be_clickable((By.XPATH, \"//*[@id=\\\"auth_methods\\\"]/fieldset/div[1]/button\"))).click()\n",
    "\n",
    "time.sleep(17)\n",
    "\n",
    "# specify namematch and locationmatch options\n",
    "townmatchlist = [\"1-0_1-0\", \"1-0_1-1\"]\n",
    "countymatchlist = [\"1-0_1-0\"]\n",
    "statematchlist = [\"1-0_1-0\"]\n",
    "stateflagmatchlist = [\"1-0_1-0-a\"]\n",
    "othermatchlist = [\"1-0_1-0\"]\n",
    "namematchlist = [\"1_1\", \"s_s\", \"ps_ps\"]\n",
    "for index in name_df.index:\n",
    "    if index % 100 == 0:\n",
    "        df = pd.DataFrame(columns = ['Index', 'Original Name', 'Search Name', 'Name #', 'Match Status', 'Match Reason', 'Location', 'Family Size', 'Slavecount', 'url', 'town', 'county', 'state', 'name_type'],\n",
    "                          data = df_list)\n",
    "        df.to_csv('CD_results.csv')\n",
    "    if index in [2272, 2559, 2708, 3005]: #1528 is invalid name\n",
    "        og_name = list(name_df.loc[index]['Name'])\n",
    "        if og_name == ['']:\n",
    "            continue\n",
    "        fixed_name = list(name_df.loc[index]['Fixed Name'])\n",
    "        name_type = name_df.loc[index]['name_type']\n",
    "        town = name_df.loc[index]['town']\n",
    "        county = name_df.loc[index]['county']\n",
    "        state = name_df.loc[index]['state']\n",
    "        locationmatchlist = determineMatchList(name_type, townmatchlist, countymatchlist, statematchlist, stateflagmatchlist, othermatchlist)\n",
    "\n",
    "        # distinguish between names that correspond to multiple real names vs. just one name\n",
    "        if len(fixed_name)>1:\n",
    "            print(f\"Original Name: {og_name}, Search Names:{fixed_name}, Index: {index}\")\n",
    "            i = 0\n",
    "            for name in fixed_name:\n",
    "                i += 1\n",
    "                print(f\"Name {i}: {name}\")\n",
    "                fn = \" \".join(name.split(\" \")[:-1])  if (\"Van\" not in name or \"Ten\" not in name) else \" \".join(name.split(\" \")[:-2])\n",
    "                ln = name.split(\" \")[-1] if (\"Van\" not in name or \"Ten\" not in name or \"Ii\" not in name) else \" \".join(name.split(\" \")[-2:])\n",
    "                res = findMatches(fn, ln, driver, locationmatchlist, namematchlist, town, county, state, name_type)\n",
    "                data = parseScrapeResult(res, 1, index, og_name, name)\n",
    "                data.extend([town, county, state, name_type])\n",
    "                df_list.append(data)\n",
    "                print([val + \": \" + str(d) for val, d in zip(df.columns, data)])\n",
    "                print(\"\")\n",
    "        else:\n",
    "            print(f\"Original Name: {og_name}, Search Name:{fixed_name}, Index: {index}\")\n",
    "            name = fixed_name[0]\n",
    "            fn = \" \".join(name.split(\" \")[:-1])  if (\"Van\" not in name or \"Ten\" not in name) else \" \".join(name.split(\" \")[:-2])\n",
    "            ln = name.split(\" \")[-1] if (\"Van\" not in name or \"Ten\" not in name or \"Ii\" not in name) else \" \".join(name.split(\" \")[-2:])\n",
    "            res = findMatches(fn, ln, driver, locationmatchlist, namematchlist, town, county, state, name_type)\n",
    "            data = parseScrapeResult(res, 1, index, og_name, fixed_name)\n",
    "            data.extend([town, county, state, name_type])\n",
    "            df_list.append(data)\n",
    "            print([val + \": \" + str(d) for val, d in zip(df.columns, data)])\n",
    "            print(\"\")"
   ],
   "metadata": {
    "collapsed": false,
    "pycharm": {
     "name": "#%%\n"
    }
   }
  },
  {
   "cell_type": "code",
   "execution_count": 166,
   "outputs": [],
   "source": [
    "# export data\n",
    "df = pd.DataFrame(columns = ['Index', 'Original Name', 'Search Name', 'Name #', 'Match Status', 'Match Reason', 'Location', 'Family Size', 'Slavecount', 'url', 'town', 'county', 'state', 'name_type'],\n",
    "                  data = df_list)"
   ],
   "metadata": {
    "collapsed": false,
    "pycharm": {
     "name": "#%%\n"
    }
   }
  },
  {
   "cell_type": "code",
   "execution_count": 174,
   "outputs": [],
   "source": [
    "df.loc[df[df['Slavecount'].apply(lambda x: x == '\\xa0')].index, 'Slavecount'] = np.nan\n",
    "df['Search Name'] = df['Search Name'].apply(lambda x: [x.split('\\xa0')[0]] if type(x) != list else x)"
   ],
   "metadata": {
    "collapsed": false,
    "pycharm": {
     "name": "#%%\n"
    }
   }
  },
  {
   "cell_type": "code",
   "execution_count": 182,
   "outputs": [],
   "source": [
    "df.to_csv('CD_results.csv')"
   ],
   "metadata": {
    "collapsed": false,
    "pycharm": {
     "name": "#%%\n"
    }
   }
  },
  {
   "cell_type": "markdown",
   "source": [],
   "metadata": {
    "collapsed": false,
    "pycharm": {
     "name": "#%% md\n"
    }
   }
  }
 ],
 "metadata": {
  "kernelspec": {
   "display_name": "Python 3",
   "language": "python",
   "name": "python3"
  },
  "language_info": {
   "codemirror_mode": {
    "name": "ipython",
    "version": 2
   },
   "file_extension": ".py",
   "mimetype": "text/x-python",
   "name": "python",
   "nbconvert_exporter": "python",
   "pygments_lexer": "ipython2",
   "version": "2.7.6"
  }
 },
 "nbformat": 4,
 "nbformat_minor": 0
}