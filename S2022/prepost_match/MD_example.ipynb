{
 "cells": [
  {
   "cell_type": "code",
   "execution_count": 56,
   "metadata": {
    "collapsed": true,
    "pycharm": {
     "name": "#%%\n"
    }
   },
   "outputs": [],
   "source": [
    "from rapidfuzz import process, fuzz\n",
    "import pandas as pd\n",
    "import re\n",
    "import numpy as np"
   ]
  },
  {
   "cell_type": "markdown",
   "source": [],
   "metadata": {
    "collapsed": false,
    "pycharm": {
     "name": "#%% md\n"
    }
   }
  },
  {
   "cell_type": "code",
   "execution_count": 204,
   "outputs": [],
   "source": [
    "#prepare loan dataset\n",
    "MD_CD_raw = pd.read_excel(\"../../Data/Post1790/MD/MD_post1790_CD.xlsx\",\n",
    "                      header = 11, usecols = 'G, H, I, J, K, L, M, U, V, W, X, Y, Z, AA, AI, AJ, AK, AL, AM, AN, AO')\n",
    "MD_CD_raw.columns = ['First Name', 'Last Name', 'town1', 'state1', 'occupation1', '6p_Dollar', '6p_Cents',\n",
    "                 'First Name.1', 'Last Name.1', 'town2', 'state2', 'occupation2', '6p_def_Dollar', '6p_def_Cents',\n",
    "                 'First Name.2', 'Last Name.2', 'town3', 'state3', 'occupation3', '3p_Dollar', '3p_Cents', ]\n",
    "MD_CD_raw['Name'] = MD_CD_raw['First Name'].apply(lambda x: \"\" if pd.isnull(x) else x) + \" \" + MD_CD_raw['Last Name'].apply(lambda x: \"\" if pd.isnull(x) else x)\n",
    "MD_CD_raw['Name'] = MD_CD_raw['Name'].apply(lambda x: re.sub(' +', ' ', x).strip())\n",
    "MD_CD_raw['occupation1'] = MD_CD_raw['occupation1'].apply(lambda x: \"\" if pd.isnull(x) else x)"
   ],
   "metadata": {
    "collapsed": false,
    "pycharm": {
     "name": "#%%\n"
    }
   }
  },
  {
   "cell_type": "code",
   "execution_count": 205,
   "outputs": [],
   "source": [
    "grouped_df = MD_CD_raw.groupby(['Name', 'town1', 'occupation1']).agg({'6p_Dollar': ['sum', 'count']}).reset_index()\n",
    "grouped_df.columns = ['Name', 'Town', 'occupation', '6p_total', '6p_count']\n",
    "grouped_df = grouped_df.sort_values('6p_total', ascending = False).reset_index(drop = True)\n",
    "grouped_df['pct_cum'] = grouped_df['6p_total'].cumsum()/grouped_df['6p_total'].sum()\n",
    "grouped_df['pct'] = grouped_df['6p_total']/grouped_df['6p_total'].sum()"
   ],
   "metadata": {
    "collapsed": false,
    "pycharm": {
     "name": "#%%\n"
    }
   }
  },
  {
   "cell_type": "code",
   "execution_count": 206,
   "outputs": [
    {
     "data": {
      "text/plain": "                                    Name              Town occupation  \\\n0                       Benjamin Harwood         Annapolis              \n1                        William Marbury         Annapolis              \n2    Uriah Forrest and Benjamin Stoddert       George Town  Merchants   \n3                       Wallace and Muir         Annapolis              \n4                         James Williams         Annapolis              \n..                                   ...               ...        ...   \n277                            Ann Rigby            London              \n278                    Charles Maccubbin         Annapolis              \n279                  Elizabeth Weatherby  Baltimore County              \n280                        Andrew Baille    Charles County              \n281                            John Ward      Cecil County              \n\n     6p_total  6p_count   pct_cum       pct  \n0    419989.0         7  0.458947  0.458947  \n1     55986.0        39  0.520126  0.061179  \n2     29873.0         2  0.552770  0.032644  \n3     27925.0        16  0.583286  0.030515  \n4     23680.0         9  0.609162  0.025877  \n..        ...       ...       ...       ...  \n277       8.0         1  0.999979  0.000009  \n278       6.0         1  0.999986  0.000007  \n279       5.0         1  0.999991  0.000005  \n280       5.0         1  0.999997  0.000005  \n281       3.0         1  1.000000  0.000003  \n\n[282 rows x 7 columns]",
      "text/html": "<div>\n<style scoped>\n    .dataframe tbody tr th:only-of-type {\n        vertical-align: middle;\n    }\n\n    .dataframe tbody tr th {\n        vertical-align: top;\n    }\n\n    .dataframe thead th {\n        text-align: right;\n    }\n</style>\n<table border=\"1\" class=\"dataframe\">\n  <thead>\n    <tr style=\"text-align: right;\">\n      <th></th>\n      <th>Name</th>\n      <th>Town</th>\n      <th>occupation</th>\n      <th>6p_total</th>\n      <th>6p_count</th>\n      <th>pct_cum</th>\n      <th>pct</th>\n    </tr>\n  </thead>\n  <tbody>\n    <tr>\n      <th>0</th>\n      <td>Benjamin Harwood</td>\n      <td>Annapolis</td>\n      <td></td>\n      <td>419989.0</td>\n      <td>7</td>\n      <td>0.458947</td>\n      <td>0.458947</td>\n    </tr>\n    <tr>\n      <th>1</th>\n      <td>William Marbury</td>\n      <td>Annapolis</td>\n      <td></td>\n      <td>55986.0</td>\n      <td>39</td>\n      <td>0.520126</td>\n      <td>0.061179</td>\n    </tr>\n    <tr>\n      <th>2</th>\n      <td>Uriah Forrest and Benjamin Stoddert</td>\n      <td>George Town</td>\n      <td>Merchants</td>\n      <td>29873.0</td>\n      <td>2</td>\n      <td>0.552770</td>\n      <td>0.032644</td>\n    </tr>\n    <tr>\n      <th>3</th>\n      <td>Wallace and Muir</td>\n      <td>Annapolis</td>\n      <td></td>\n      <td>27925.0</td>\n      <td>16</td>\n      <td>0.583286</td>\n      <td>0.030515</td>\n    </tr>\n    <tr>\n      <th>4</th>\n      <td>James Williams</td>\n      <td>Annapolis</td>\n      <td></td>\n      <td>23680.0</td>\n      <td>9</td>\n      <td>0.609162</td>\n      <td>0.025877</td>\n    </tr>\n    <tr>\n      <th>...</th>\n      <td>...</td>\n      <td>...</td>\n      <td>...</td>\n      <td>...</td>\n      <td>...</td>\n      <td>...</td>\n      <td>...</td>\n    </tr>\n    <tr>\n      <th>277</th>\n      <td>Ann Rigby</td>\n      <td>London</td>\n      <td></td>\n      <td>8.0</td>\n      <td>1</td>\n      <td>0.999979</td>\n      <td>0.000009</td>\n    </tr>\n    <tr>\n      <th>278</th>\n      <td>Charles Maccubbin</td>\n      <td>Annapolis</td>\n      <td></td>\n      <td>6.0</td>\n      <td>1</td>\n      <td>0.999986</td>\n      <td>0.000007</td>\n    </tr>\n    <tr>\n      <th>279</th>\n      <td>Elizabeth Weatherby</td>\n      <td>Baltimore County</td>\n      <td></td>\n      <td>5.0</td>\n      <td>1</td>\n      <td>0.999991</td>\n      <td>0.000005</td>\n    </tr>\n    <tr>\n      <th>280</th>\n      <td>Andrew Baille</td>\n      <td>Charles County</td>\n      <td></td>\n      <td>5.0</td>\n      <td>1</td>\n      <td>0.999997</td>\n      <td>0.000005</td>\n    </tr>\n    <tr>\n      <th>281</th>\n      <td>John Ward</td>\n      <td>Cecil County</td>\n      <td></td>\n      <td>3.0</td>\n      <td>1</td>\n      <td>1.000000</td>\n      <td>0.000003</td>\n    </tr>\n  </tbody>\n</table>\n<p>282 rows × 7 columns</p>\n</div>"
     },
     "execution_count": 206,
     "metadata": {},
     "output_type": "execute_result"
    }
   ],
   "source": [
    "grouped_df"
   ],
   "metadata": {
    "collapsed": false,
    "pycharm": {
     "name": "#%%\n"
    }
   }
  },
  {
   "cell_type": "code",
   "execution_count": 91,
   "outputs": [
    {
     "name": "stderr",
     "output_type": "stream",
     "text": [
      "/var/folders/5s/dvrxt95949x1pm_sjxm85lj00000gn/T/ipykernel_53970/3372110578.py:3: DtypeWarning: Columns (1) have mixed types. Specify dtype option on import or set low_memory=False.\n",
      "  pierce = pd.read_csv('../../Data/Pre1790/cleaned/Pierce_Certs_cleaned_2021.csv', index_col = 0)\n"
     ]
    }
   ],
   "source": [
    "loan = pd.read_csv('../../Data/Pre1790/cleaned/loan_office_certificates_9_states_cleaned.csv', index_col = 0)\n",
    "marine = pd.read_csv('../../Data/Pre1790/cleaned/Marine_Liquidated_Debt_Certificates_cleaned.csv', index_col = 0)\n",
    "pierce = pd.read_csv('../../Data/Pre1790/cleaned/Pierce_Certs_cleaned_2021.csv', index_col = 0)\n",
    "liquidCT = pd.read_csv('../../Data/Pre1790/cleaned/liquidated_debt_certificates_CT_cleaned.csv', index_col = 0)\n",
    "liquidDE = pd.read_csv('../../Data/Pre1790/cleaned/liquidated_debt_certificates_DE_cleaned.csv', index_col = 0)\n",
    "liquidMA = pd.read_csv('../../Data/Pre1790/cleaned/liquidated_debt_certificates_MA_cleaned.csv', index_col = 0)\n",
    "liquidNJ = pd.read_csv('../../Data/Pre1790/cleaned/liquidated_debt_certificates_NJ_cleaned.csv', index_col = 0)\n",
    "liquidNH = pd.read_csv('../../Data/Pre1790/cleaned/liquidated_debt_certificates_NH_cleaned.csv', index_col = 0)\n",
    "liquidNY = pd.read_csv('../../Data/Pre1790/cleaned/liquidated_debt_certificates_NY_cleaned.csv', index_col = 0)\n",
    "liquidPA1 = pd.read_csv('../../Data/Pre1790/cleaned/liquidated_debt_certificates_PA_story_cleaned.csv', index_col = 0)\n",
    "liquidRI = pd.read_csv('../../Data/Pre1790/cleaned/liquidated_debt_certificates_RI_cleaned.csv', index_col = 0)\n",
    "liquidPA2 = pd.read_csv('../../Data/Pre1790/cleaned/liquidated_debt_certificates_PA_stelle_cleaned.csv', index_col = 0)"
   ],
   "metadata": {
    "collapsed": false,
    "pycharm": {
     "name": "#%%\n"
    }
   }
  },
  {
   "cell_type": "code",
   "execution_count": 117,
   "outputs": [],
   "source": [
    "def nameLiquidated(fname, lname):\n",
    "    ctsum = liquidCT[[ln in lname and fn in fname for ln, fn in zip(liquidCT['Last name'],\n",
    "                                                                    liquidCT['First name'])]]['Dollars'].sum()\n",
    "    desum = liquidDE[[ln in lname and fn in fname for ln, fn in zip(liquidDE['Last name'],\n",
    "                                                                    liquidDE['First name'])]]['Dollars'].sum()\n",
    "    masum = liquidMA[[ln in lname and fn in fname for ln, fn in zip(liquidMA['Last name'],\n",
    "                                                                    liquidMA['First name'])]]['Dollars'].sum()\n",
    "    njsum = liquidNJ[[ln in lname and fn in fname for ln, fn in zip(liquidNJ['Last name'],\n",
    "                                                                    liquidNJ['First name'])]]['Dollars'].sum()\n",
    "    nhsum = liquidNH[[ln in lname and fn in fname for ln, fn in zip(liquidNH['Last name'],\n",
    "                                                                    liquidNH['First name'])]]['Dollars'].sum()\n",
    "    pasum1 = liquidPA1[[ln in lname and fn in fname for ln, fn in zip(liquidPA1['Last name'],\n",
    "                                                                      liquidPA1['First name'])]]['Dollars'].sum()\n",
    "    risum = liquidRI[[ln in lname and fn in fname for ln, fn in zip(liquidRI['Last name'],\n",
    "                                                                    liquidRI['First name'])]]['Dollars'].sum()\n",
    "    pasum2 = liquidPA2[[ln in lname and fn in fname for ln, fn in zip(liquidPA2['Last name'],\n",
    "                                                                      liquidPA2['First name'])]]['Dollars'].sum()\n",
    "    return ctsum + desum + masum + njsum + nhsum + pasum1 + risum + pasum2"
   ],
   "metadata": {
    "collapsed": false,
    "pycharm": {
     "name": "#%%\n"
    }
   }
  },
  {
   "cell_type": "markdown",
   "source": [
    "## Benjamin Harwood"
   ],
   "metadata": {
    "collapsed": false,
    "pycharm": {
     "name": "#%% md\n"
    }
   }
  },
  {
   "cell_type": "code",
   "execution_count": 95,
   "outputs": [
    {
     "data": {
      "text/plain": "877.8800000000001"
     },
     "execution_count": 95,
     "metadata": {},
     "output_type": "execute_result"
    }
   ],
   "source": [
    "pierce[[ln == 'Harwood' and fn in ['Benjamin', 'Thomas'] for ln, fn in zip(pierce['Last'],\n",
    "                                                                           pierce['First'])]]['Value'].sum()"
   ],
   "metadata": {
    "collapsed": false,
    "pycharm": {
     "name": "#%%\n"
    }
   }
  },
  {
   "cell_type": "code",
   "execution_count": 101,
   "outputs": [
    {
     "data": {
      "text/plain": "0.0"
     },
     "execution_count": 101,
     "metadata": {},
     "output_type": "execute_result"
    }
   ],
   "source": [
    "marine[[ln == 'Harwood' and fn in ['Benjamin', 'Thomas'] for ln, fn in zip(marine['Last name'],\n",
    "                                                                           marine['First name'])]]['Dollars'].sum()"
   ],
   "metadata": {
    "collapsed": false,
    "pycharm": {
     "name": "#%%\n"
    }
   }
  },
  {
   "cell_type": "code",
   "execution_count": 102,
   "outputs": [
    {
     "data": {
      "text/plain": "2400"
     },
     "execution_count": 102,
     "metadata": {},
     "output_type": "execute_result"
    }
   ],
   "source": [
    "loan[[ln == 'Harwood' and fn in ['Benjamin', 'Thomas'] for ln, fn in zip(loan['Last Name 1 '],\n",
    "                                                                        loan['First Name 1 '])]]['Face Value'].sum()"
   ],
   "metadata": {
    "collapsed": false,
    "pycharm": {
     "name": "#%%\n"
    }
   }
  },
  {
   "cell_type": "code",
   "execution_count": 116,
   "outputs": [
    {
     "data": {
      "text/plain": "0.0"
     },
     "execution_count": 116,
     "metadata": {},
     "output_type": "execute_result"
    }
   ],
   "source": [
    "nameLiquidated(['Harwood'], ['Benjamin', 'Thomas'])"
   ],
   "metadata": {
    "collapsed": false,
    "pycharm": {
     "name": "#%%\n"
    }
   }
  },
  {
   "cell_type": "markdown",
   "source": [
    "## William Marbury"
   ],
   "metadata": {
    "collapsed": false,
    "pycharm": {
     "name": "#%% md\n"
    }
   }
  },
  {
   "cell_type": "code",
   "execution_count": 118,
   "outputs": [
    {
     "data": {
      "text/plain": "0.0"
     },
     "execution_count": 118,
     "metadata": {},
     "output_type": "execute_result"
    }
   ],
   "source": [
    "pierce[[ln == 'Marbury' and fn in ['William'] for ln, fn in zip(pierce['Last'],\n",
    "                                                                pierce['First'])]]['Value'].sum()"
   ],
   "metadata": {
    "collapsed": false,
    "pycharm": {
     "name": "#%%\n"
    }
   }
  },
  {
   "cell_type": "code",
   "execution_count": 119,
   "outputs": [
    {
     "data": {
      "text/plain": "0.0"
     },
     "execution_count": 119,
     "metadata": {},
     "output_type": "execute_result"
    }
   ],
   "source": [
    "marine[[ln == 'Marbury' and fn in ['William'] for ln, fn in zip(marine['Last name'],\n",
    "                                                                marine['First name'])]]['Dollars'].sum()"
   ],
   "metadata": {
    "collapsed": false,
    "pycharm": {
     "name": "#%%\n"
    }
   }
  },
  {
   "cell_type": "code",
   "execution_count": 120,
   "outputs": [
    {
     "data": {
      "text/plain": "0"
     },
     "execution_count": 120,
     "metadata": {},
     "output_type": "execute_result"
    }
   ],
   "source": [
    "loan[[ln == 'Marbury' and fn in ['William'] for ln, fn in zip(loan['Last Name 1 '],\n",
    "                                                              loan['First Name 1 '])]]['Face Value'].sum()"
   ],
   "metadata": {
    "collapsed": false,
    "pycharm": {
     "name": "#%%\n"
    }
   }
  },
  {
   "cell_type": "code",
   "execution_count": 153,
   "outputs": [
    {
     "data": {
      "text/plain": "0.0"
     },
     "execution_count": 153,
     "metadata": {},
     "output_type": "execute_result"
    }
   ],
   "source": [
    "nameLiquidated(['William'], ['Marbury'])"
   ],
   "metadata": {
    "collapsed": false,
    "pycharm": {
     "name": "#%%\n"
    }
   }
  },
  {
   "cell_type": "markdown",
   "source": [
    "## Uriah Forrest and Benjamin Stoddert"
   ],
   "metadata": {
    "collapsed": false,
    "pycharm": {
     "name": "#%% md\n"
    }
   }
  },
  {
   "cell_type": "code",
   "execution_count": 155,
   "outputs": [
    {
     "data": {
      "text/plain": "0.0"
     },
     "execution_count": 155,
     "metadata": {},
     "output_type": "execute_result"
    }
   ],
   "source": [
    "marine[[ln in ['Stoddert', 'Forrest'] and fn in ['Uriah', 'Benjamin'] for ln, fn in zip(marine['Last name'],\n",
    "                                                                                        marine['First name'])]]['Dollars'].sum()"
   ],
   "metadata": {
    "collapsed": false,
    "pycharm": {
     "name": "#%%\n"
    }
   }
  },
  {
   "cell_type": "code",
   "execution_count": 151,
   "outputs": [
    {
     "data": {
      "text/plain": "426.15999999999997"
     },
     "execution_count": 151,
     "metadata": {},
     "output_type": "execute_result"
    }
   ],
   "source": [
    "pierce[[ln in ['Stoddert', 'Forrest'] and fn in ['Uriah', 'Benjamin'] for ln, fn in zip(pierce['Last'],\n",
    "                                                                                        pierce['First'])]]['Value'].sum()"
   ],
   "metadata": {
    "collapsed": false,
    "pycharm": {
     "name": "#%%\n"
    }
   }
  },
  {
   "cell_type": "code",
   "execution_count": 148,
   "outputs": [
    {
     "data": {
      "text/plain": "3200"
     },
     "execution_count": 148,
     "metadata": {},
     "output_type": "execute_result"
    }
   ],
   "source": [
    "loan[[ln in ['Stoddert', 'Forrest'] and fn in ['Uriah', 'Benjamin'] for ln, fn in zip(loan['Last Name 1 '],\n",
    "                                                                                      loan['First Name 1 '])]]['Face Value'].sum()"
   ],
   "metadata": {
    "collapsed": false,
    "pycharm": {
     "name": "#%%\n"
    }
   }
  },
  {
   "cell_type": "code",
   "execution_count": 154,
   "outputs": [
    {
     "data": {
      "text/plain": "0.0"
     },
     "execution_count": 154,
     "metadata": {},
     "output_type": "execute_result"
    }
   ],
   "source": [
    "nameLiquidated(['Uriah', 'Benjamin'], ['Stoddert', 'Forrest'])"
   ],
   "metadata": {
    "collapsed": false,
    "pycharm": {
     "name": "#%%\n"
    }
   }
  },
  {
   "cell_type": "markdown",
   "source": [
    "## Wallace and Muir"
   ],
   "metadata": {
    "collapsed": false,
    "pycharm": {
     "name": "#%% md\n"
    }
   }
  },
  {
   "cell_type": "code",
   "execution_count": 182,
   "outputs": [
    {
     "data": {
      "text/plain": "0.0"
     },
     "execution_count": 182,
     "metadata": {},
     "output_type": "execute_result"
    }
   ],
   "source": [
    "marine[[ln == 'Muir' and fn == 'John' or ln == 'Wallace' and fn == 'Charles'  for ln, fn in zip(marine['Last name'],\n",
    "                                                                                                marine['First name'])]]['Dollars'].sum()"
   ],
   "metadata": {
    "collapsed": false,
    "pycharm": {
     "name": "#%%\n"
    }
   }
  },
  {
   "cell_type": "code",
   "execution_count": 181,
   "outputs": [
    {
     "data": {
      "text/plain": "28.52"
     },
     "execution_count": 181,
     "metadata": {},
     "output_type": "execute_result"
    }
   ],
   "source": [
    "pierce[[ln == 'Muir' and fn == 'John' or ln == 'Wallace' and fn == 'Charles'  for ln, fn in zip(pierce['Last'],\n",
    "                                                                                                pierce['First'])]]['Value'].sum()"
   ],
   "metadata": {
    "collapsed": false,
    "pycharm": {
     "name": "#%%\n"
    }
   }
  },
  {
   "cell_type": "code",
   "execution_count": 170,
   "outputs": [
    {
     "data": {
      "text/plain": "15300"
     },
     "execution_count": 170,
     "metadata": {},
     "output_type": "execute_result"
    }
   ],
   "source": [
    "loan[[ln == 'Muir' and fn == 'John' or ln == 'Wallace' and fn == 'Charles'  for ln, fn in zip(loan['Last Name 1 '],\n",
    "                                                                                              loan['First Name 1 '])]]['Face Value'].sum()"
   ],
   "metadata": {
    "collapsed": false,
    "pycharm": {
     "name": "#%%\n"
    }
   }
  },
  {
   "cell_type": "code",
   "execution_count": 175,
   "outputs": [
    {
     "data": {
      "text/plain": "0.0"
     },
     "execution_count": 175,
     "metadata": {},
     "output_type": "execute_result"
    }
   ],
   "source": [
    "nameLiquidated(['John', 'Charles'], ['Muir', 'Wallace'])"
   ],
   "metadata": {
    "collapsed": false,
    "pycharm": {
     "name": "#%%\n"
    }
   }
  },
  {
   "cell_type": "markdown",
   "source": [
    "## James Williams"
   ],
   "metadata": {
    "collapsed": false,
    "pycharm": {
     "name": "#%% md\n"
    }
   }
  },
  {
   "cell_type": "code",
   "execution_count": 208,
   "outputs": [
    {
     "data": {
      "text/plain": "101.3"
     },
     "execution_count": 208,
     "metadata": {},
     "output_type": "execute_result"
    }
   ],
   "source": [
    "pierce[[ln == 'Williams' and fn in ['James'] and 'Maryland' in issue for ln, fn, issue in zip(pierce['Last'],\n",
    "                                                                                              pierce['First'],\n",
    "                                                                                              pierce['To Whom Issued'])]]['Value'].sum()"
   ],
   "metadata": {
    "collapsed": false,
    "pycharm": {
     "name": "#%%\n"
    }
   }
  },
  {
   "cell_type": "code",
   "execution_count": 185,
   "outputs": [
    {
     "data": {
      "text/plain": "0.0"
     },
     "execution_count": 185,
     "metadata": {},
     "output_type": "execute_result"
    }
   ],
   "source": [
    "marine[[ln == 'Williams' and fn in ['James'] for ln, fn in zip(marine['Last name'],\n",
    "                                                                marine['First name'])]]['Dollars'].sum()"
   ],
   "metadata": {
    "collapsed": false,
    "pycharm": {
     "name": "#%%\n"
    }
   }
  },
  {
   "cell_type": "code",
   "execution_count": 188,
   "outputs": [
    {
     "data": {
      "text/plain": "2300"
     },
     "execution_count": 188,
     "metadata": {},
     "output_type": "execute_result"
    }
   ],
   "source": [
    "loan[[ln == 'Williams' and fn in ['James'] for ln, fn in zip(loan['Last Name 1 '],\n",
    "                                                             loan['First Name 1 '])]]['Face Value'].sum()"
   ],
   "metadata": {
    "collapsed": false,
    "pycharm": {
     "name": "#%%\n"
    }
   }
  },
  {
   "cell_type": "code",
   "execution_count": 183,
   "outputs": [
    {
     "data": {
      "text/plain": "44.0"
     },
     "execution_count": 183,
     "metadata": {},
     "output_type": "execute_result"
    }
   ],
   "source": [
    "nameLiquidated(['James'], ['Williams'])"
   ],
   "metadata": {
    "collapsed": false,
    "pycharm": {
     "name": "#%%\n"
    }
   }
  },
  {
   "cell_type": "markdown",
   "source": [
    "## John Laird"
   ],
   "metadata": {
    "collapsed": false,
    "pycharm": {
     "name": "#%% md\n"
    }
   }
  },
  {
   "cell_type": "code",
   "execution_count": 209,
   "outputs": [
    {
     "data": {
      "text/plain": "0.0"
     },
     "execution_count": 209,
     "metadata": {},
     "output_type": "execute_result"
    }
   ],
   "source": [
    "pierce[[ln == 'Laird' and fn in ['John'] and 'Maryland' in issue for ln, fn, issue in zip(pierce['Last'],\n",
    "                                                                                          pierce['First'],\n",
    "                                                                                          pierce['To Whom Issued'])]]['Value'].sum()"
   ],
   "metadata": {
    "collapsed": false,
    "pycharm": {
     "name": "#%%\n"
    }
   }
  },
  {
   "cell_type": "code",
   "execution_count": 210,
   "outputs": [
    {
     "data": {
      "text/plain": "0.0"
     },
     "execution_count": 210,
     "metadata": {},
     "output_type": "execute_result"
    }
   ],
   "source": [
    "marine[[ln == 'Laird' and fn in ['John'] for ln, fn in zip(marine['Last name'],\n",
    "                                                           marine['First name'])]]['Dollars'].sum()"
   ],
   "metadata": {
    "collapsed": false,
    "pycharm": {
     "name": "#%%\n"
    }
   }
  },
  {
   "cell_type": "code",
   "execution_count": 211,
   "outputs": [
    {
     "data": {
      "text/plain": "0"
     },
     "execution_count": 211,
     "metadata": {},
     "output_type": "execute_result"
    }
   ],
   "source": [
    "loan[[ln == 'Laird' and fn in ['John'] for ln, fn in zip(loan['Last Name 1 '],\n",
    "                                                         loan['First Name 1 '])]]['Face Value'].sum()"
   ],
   "metadata": {
    "collapsed": false,
    "pycharm": {
     "name": "#%%\n"
    }
   }
  },
  {
   "cell_type": "code",
   "execution_count": 212,
   "outputs": [
    {
     "data": {
      "text/plain": "0.0"
     },
     "execution_count": 212,
     "metadata": {},
     "output_type": "execute_result"
    }
   ],
   "source": [
    "nameLiquidated(['John'], ['Laird'])"
   ],
   "metadata": {
    "collapsed": false,
    "pycharm": {
     "name": "#%%\n"
    }
   }
  },
  {
   "cell_type": "markdown",
   "source": [
    "## John Mason"
   ],
   "metadata": {
    "collapsed": false,
    "pycharm": {
     "name": "#%% md\n"
    }
   }
  },
  {
   "cell_type": "code",
   "execution_count": 222,
   "outputs": [
    {
     "data": {
      "text/plain": "0.0"
     },
     "execution_count": 222,
     "metadata": {},
     "output_type": "execute_result"
    }
   ],
   "source": [
    "pierce[[ln == 'Mason' and fn in ['John'] and 'Maryland' in issue for ln, fn, issue in zip(pierce['Last'],\n",
    "                                                                  pierce['First'],\n",
    "                                                                  pierce['To Whom Issued'])]]['Value'].sum()"
   ],
   "metadata": {
    "collapsed": false,
    "pycharm": {
     "name": "#%%\n"
    }
   }
  },
  {
   "cell_type": "code",
   "execution_count": 216,
   "outputs": [
    {
     "data": {
      "text/plain": "0.0"
     },
     "execution_count": 216,
     "metadata": {},
     "output_type": "execute_result"
    }
   ],
   "source": [
    "marine[[ln == 'Mason' and fn in ['John'] for ln, fn in zip(marine['Last name'],\n",
    "                                                           marine['First name'])]]['Dollars'].sum()"
   ],
   "metadata": {
    "collapsed": false,
    "pycharm": {
     "name": "#%%\n"
    }
   }
  },
  {
   "cell_type": "code",
   "execution_count": 219,
   "outputs": [
    {
     "data": {
      "text/plain": "Empty DataFrame\nColumns: [State, Year, Month, Day, Title 1, First Name 1 , Last Name 1 , Title 2, First Name 2, Last Name 2, Title 3, First Name 3, Last Name 3, Face Value, Specie Value , notes, original text, match eligible]\nIndex: []",
      "text/html": "<div>\n<style scoped>\n    .dataframe tbody tr th:only-of-type {\n        vertical-align: middle;\n    }\n\n    .dataframe tbody tr th {\n        vertical-align: top;\n    }\n\n    .dataframe thead th {\n        text-align: right;\n    }\n</style>\n<table border=\"1\" class=\"dataframe\">\n  <thead>\n    <tr style=\"text-align: right;\">\n      <th></th>\n      <th>State</th>\n      <th>Year</th>\n      <th>Month</th>\n      <th>Day</th>\n      <th>Title 1</th>\n      <th>First Name 1</th>\n      <th>Last Name 1</th>\n      <th>Title 2</th>\n      <th>First Name 2</th>\n      <th>Last Name 2</th>\n      <th>Title 3</th>\n      <th>First Name 3</th>\n      <th>Last Name 3</th>\n      <th>Face Value</th>\n      <th>Specie Value</th>\n      <th>notes</th>\n      <th>original text</th>\n      <th>match eligible</th>\n    </tr>\n  </thead>\n  <tbody>\n  </tbody>\n</table>\n</div>"
     },
     "execution_count": 219,
     "metadata": {},
     "output_type": "execute_result"
    }
   ],
   "source": [
    "loan[[ln == 'Mason' and fn in ['John'] and state == 8 for ln, fn, state in zip(loan['Last Name 1 '],\n",
    "                                                                               loan['First Name 1 '],\n",
    "                                                                               loan['State'])]]"
   ],
   "metadata": {
    "collapsed": false,
    "pycharm": {
     "name": "#%%\n"
    }
   }
  },
  {
   "cell_type": "code",
   "execution_count": 223,
   "outputs": [
    {
     "data": {
      "text/plain": "0.0"
     },
     "execution_count": 223,
     "metadata": {},
     "output_type": "execute_result"
    }
   ],
   "source": [
    "nameLiquidated(['John'], ['Mason'])"
   ],
   "metadata": {
    "collapsed": false,
    "pycharm": {
     "name": "#%%\n"
    }
   }
  },
  {
   "cell_type": "markdown",
   "source": [
    "## William Campbell"
   ],
   "metadata": {
    "collapsed": false,
    "pycharm": {
     "name": "#%% md\n"
    }
   }
  },
  {
   "cell_type": "code",
   "execution_count": 228,
   "outputs": [
    {
     "data": {
      "text/plain": "            CN      Last    First   Value  Group  \\\n12794  33475.0  Campbell  William   40.00   47.0   \n12795  36337.0  Campbell  William   26.38   54.0   \n12796  49258.0  Campbell  William   90.78   67.0   \n12797  49955.0  Campbell  William  108.00   67.0   \n12798  50691.0  Campbell  William   16.47   67.0   \n12799  51175.0  Campbell  William   79.10   67.0   \n12800  52727.0  Campbell  William    1.70   69.0   \n12801  58673.0  Campbell  William   92.40   74.0   \n12802  59368.0  Campbell  William   17.86   74.0   \n12803  76747.0  Campbell  William  142.12   96.0   \n12804  77064.0  Campbell  William  104.00   96.0   \n12805  77385.0  Campbell  William   80.00   96.0   \n12806  77651.0  Campbell  William   52.78   96.0   \n12807  80429.0  Campbell  William  141.60   99.0   \n12808  80461.0  Campbell  William  100.00   99.0   \n12809  87411.0  Campbell  William  134.15  118.0   \n12810  90422.0  Campbell  William   25.50  121.0   \n\n                                          To Whom Issued State  Officer  \\\n12794                    Regiment paid to August 1  1780   NaN      0.0   \n12795                   Regiment paid to January 1  1783   NaN      0.0   \n12796  Second Artillery  under Col. John Crane  Massa...    MA      0.0   \n12797  Second Artillery  under Col. John Crane  Massa...    MA      0.0   \n12798  Second Artillery  under Col. John Crane  Massa...    MA      0.0   \n12799  Second Artillery  under Col. John Crane  Massa...    MA      0.0   \n12800  Eighth Massachusetts Regiment  under Col. Mich...    MA      0.0   \n12801  Invalid Corps of United States  under Col. L. ...   NaN      0.0   \n12802  Invalid Corps of United States  under Col. L. ...   NaN      0.0   \n12803  Pennsylvania Artillery  under Lieut. Col. F. P...    PA      0.0   \n12804  Pennsylvania Artillery  under Lieut. Col. F. P...    PA      0.0   \n12805  Pennsylvania Artillery  under Lieut. Col. F. P...    PA      0.0   \n12806  Pennsylvania Artillery  under Lieut. Col. F. P...    PA      0.0   \n12807  Officers  etc.  Virginia  paid to November 15 ...    VA      1.0   \n12808  Officers  etc.  Virginia  paid to November 15 ...    VA      1.0   \n12809                                   Officers and men   NaN      0.0   \n12810  Regiment under Col. Thomas Clarke  North Carol...    NC      0.0   \n\n      Last 2 First 2 original text  \n12794    NaN     NaN           NaN  \n12795    NaN     NaN           NaN  \n12796    NaN     NaN           NaN  \n12797    NaN     NaN           NaN  \n12798    NaN     NaN           NaN  \n12799    NaN     NaN           NaN  \n12800    NaN     NaN           NaN  \n12801    NaN     NaN           NaN  \n12802    NaN     NaN           NaN  \n12803    NaN     NaN           NaN  \n12804    NaN     NaN           NaN  \n12805    NaN     NaN           NaN  \n12806    NaN     NaN           NaN  \n12807    NaN     NaN           NaN  \n12808    NaN     NaN           NaN  \n12809    NaN     NaN           NaN  \n12810    NaN     NaN           NaN  ",
      "text/html": "<div>\n<style scoped>\n    .dataframe tbody tr th:only-of-type {\n        vertical-align: middle;\n    }\n\n    .dataframe tbody tr th {\n        vertical-align: top;\n    }\n\n    .dataframe thead th {\n        text-align: right;\n    }\n</style>\n<table border=\"1\" class=\"dataframe\">\n  <thead>\n    <tr style=\"text-align: right;\">\n      <th></th>\n      <th>CN</th>\n      <th>Last</th>\n      <th>First</th>\n      <th>Value</th>\n      <th>Group</th>\n      <th>To Whom Issued</th>\n      <th>State</th>\n      <th>Officer</th>\n      <th>Last 2</th>\n      <th>First 2</th>\n      <th>original text</th>\n    </tr>\n  </thead>\n  <tbody>\n    <tr>\n      <th>12794</th>\n      <td>33475.0</td>\n      <td>Campbell</td>\n      <td>William</td>\n      <td>40.00</td>\n      <td>47.0</td>\n      <td>Regiment paid to August 1  1780</td>\n      <td>NaN</td>\n      <td>0.0</td>\n      <td>NaN</td>\n      <td>NaN</td>\n      <td>NaN</td>\n    </tr>\n    <tr>\n      <th>12795</th>\n      <td>36337.0</td>\n      <td>Campbell</td>\n      <td>William</td>\n      <td>26.38</td>\n      <td>54.0</td>\n      <td>Regiment paid to January 1  1783</td>\n      <td>NaN</td>\n      <td>0.0</td>\n      <td>NaN</td>\n      <td>NaN</td>\n      <td>NaN</td>\n    </tr>\n    <tr>\n      <th>12796</th>\n      <td>49258.0</td>\n      <td>Campbell</td>\n      <td>William</td>\n      <td>90.78</td>\n      <td>67.0</td>\n      <td>Second Artillery  under Col. John Crane  Massa...</td>\n      <td>MA</td>\n      <td>0.0</td>\n      <td>NaN</td>\n      <td>NaN</td>\n      <td>NaN</td>\n    </tr>\n    <tr>\n      <th>12797</th>\n      <td>49955.0</td>\n      <td>Campbell</td>\n      <td>William</td>\n      <td>108.00</td>\n      <td>67.0</td>\n      <td>Second Artillery  under Col. John Crane  Massa...</td>\n      <td>MA</td>\n      <td>0.0</td>\n      <td>NaN</td>\n      <td>NaN</td>\n      <td>NaN</td>\n    </tr>\n    <tr>\n      <th>12798</th>\n      <td>50691.0</td>\n      <td>Campbell</td>\n      <td>William</td>\n      <td>16.47</td>\n      <td>67.0</td>\n      <td>Second Artillery  under Col. John Crane  Massa...</td>\n      <td>MA</td>\n      <td>0.0</td>\n      <td>NaN</td>\n      <td>NaN</td>\n      <td>NaN</td>\n    </tr>\n    <tr>\n      <th>12799</th>\n      <td>51175.0</td>\n      <td>Campbell</td>\n      <td>William</td>\n      <td>79.10</td>\n      <td>67.0</td>\n      <td>Second Artillery  under Col. John Crane  Massa...</td>\n      <td>MA</td>\n      <td>0.0</td>\n      <td>NaN</td>\n      <td>NaN</td>\n      <td>NaN</td>\n    </tr>\n    <tr>\n      <th>12800</th>\n      <td>52727.0</td>\n      <td>Campbell</td>\n      <td>William</td>\n      <td>1.70</td>\n      <td>69.0</td>\n      <td>Eighth Massachusetts Regiment  under Col. Mich...</td>\n      <td>MA</td>\n      <td>0.0</td>\n      <td>NaN</td>\n      <td>NaN</td>\n      <td>NaN</td>\n    </tr>\n    <tr>\n      <th>12801</th>\n      <td>58673.0</td>\n      <td>Campbell</td>\n      <td>William</td>\n      <td>92.40</td>\n      <td>74.0</td>\n      <td>Invalid Corps of United States  under Col. L. ...</td>\n      <td>NaN</td>\n      <td>0.0</td>\n      <td>NaN</td>\n      <td>NaN</td>\n      <td>NaN</td>\n    </tr>\n    <tr>\n      <th>12802</th>\n      <td>59368.0</td>\n      <td>Campbell</td>\n      <td>William</td>\n      <td>17.86</td>\n      <td>74.0</td>\n      <td>Invalid Corps of United States  under Col. L. ...</td>\n      <td>NaN</td>\n      <td>0.0</td>\n      <td>NaN</td>\n      <td>NaN</td>\n      <td>NaN</td>\n    </tr>\n    <tr>\n      <th>12803</th>\n      <td>76747.0</td>\n      <td>Campbell</td>\n      <td>William</td>\n      <td>142.12</td>\n      <td>96.0</td>\n      <td>Pennsylvania Artillery  under Lieut. Col. F. P...</td>\n      <td>PA</td>\n      <td>0.0</td>\n      <td>NaN</td>\n      <td>NaN</td>\n      <td>NaN</td>\n    </tr>\n    <tr>\n      <th>12804</th>\n      <td>77064.0</td>\n      <td>Campbell</td>\n      <td>William</td>\n      <td>104.00</td>\n      <td>96.0</td>\n      <td>Pennsylvania Artillery  under Lieut. Col. F. P...</td>\n      <td>PA</td>\n      <td>0.0</td>\n      <td>NaN</td>\n      <td>NaN</td>\n      <td>NaN</td>\n    </tr>\n    <tr>\n      <th>12805</th>\n      <td>77385.0</td>\n      <td>Campbell</td>\n      <td>William</td>\n      <td>80.00</td>\n      <td>96.0</td>\n      <td>Pennsylvania Artillery  under Lieut. Col. F. P...</td>\n      <td>PA</td>\n      <td>0.0</td>\n      <td>NaN</td>\n      <td>NaN</td>\n      <td>NaN</td>\n    </tr>\n    <tr>\n      <th>12806</th>\n      <td>77651.0</td>\n      <td>Campbell</td>\n      <td>William</td>\n      <td>52.78</td>\n      <td>96.0</td>\n      <td>Pennsylvania Artillery  under Lieut. Col. F. P...</td>\n      <td>PA</td>\n      <td>0.0</td>\n      <td>NaN</td>\n      <td>NaN</td>\n      <td>NaN</td>\n    </tr>\n    <tr>\n      <th>12807</th>\n      <td>80429.0</td>\n      <td>Campbell</td>\n      <td>William</td>\n      <td>141.60</td>\n      <td>99.0</td>\n      <td>Officers  etc.  Virginia  paid to November 15 ...</td>\n      <td>VA</td>\n      <td>1.0</td>\n      <td>NaN</td>\n      <td>NaN</td>\n      <td>NaN</td>\n    </tr>\n    <tr>\n      <th>12808</th>\n      <td>80461.0</td>\n      <td>Campbell</td>\n      <td>William</td>\n      <td>100.00</td>\n      <td>99.0</td>\n      <td>Officers  etc.  Virginia  paid to November 15 ...</td>\n      <td>VA</td>\n      <td>1.0</td>\n      <td>NaN</td>\n      <td>NaN</td>\n      <td>NaN</td>\n    </tr>\n    <tr>\n      <th>12809</th>\n      <td>87411.0</td>\n      <td>Campbell</td>\n      <td>William</td>\n      <td>134.15</td>\n      <td>118.0</td>\n      <td>Officers and men</td>\n      <td>NaN</td>\n      <td>0.0</td>\n      <td>NaN</td>\n      <td>NaN</td>\n      <td>NaN</td>\n    </tr>\n    <tr>\n      <th>12810</th>\n      <td>90422.0</td>\n      <td>Campbell</td>\n      <td>William</td>\n      <td>25.50</td>\n      <td>121.0</td>\n      <td>Regiment under Col. Thomas Clarke  North Carol...</td>\n      <td>NC</td>\n      <td>0.0</td>\n      <td>NaN</td>\n      <td>NaN</td>\n      <td>NaN</td>\n    </tr>\n  </tbody>\n</table>\n</div>"
     },
     "execution_count": 228,
     "metadata": {},
     "output_type": "execute_result"
    }
   ],
   "source": [
    "pierce[[ln == 'Campbell' and fn in ['William'] for ln, fn, issue in zip(pierce['Last'],\n",
    "                                                                  pierce['First'],\n",
    "                                                                  pierce['To Whom Issued'])]]"
   ],
   "metadata": {
    "collapsed": false,
    "pycharm": {
     "name": "#%%\n"
    }
   }
  },
  {
   "cell_type": "code",
   "execution_count": 216,
   "outputs": [
    {
     "data": {
      "text/plain": "0.0"
     },
     "execution_count": 216,
     "metadata": {},
     "output_type": "execute_result"
    }
   ],
   "source": [
    "marine[[ln == 'Mason' and fn in ['John'] for ln, fn in zip(marine['Last name'],\n",
    "                                                           marine['First name'])]]['Dollars'].sum()"
   ],
   "metadata": {
    "collapsed": false,
    "pycharm": {
     "name": "#%%\n"
    }
   }
  },
  {
   "cell_type": "code",
   "execution_count": 219,
   "outputs": [
    {
     "data": {
      "text/plain": "Empty DataFrame\nColumns: [State, Year, Month, Day, Title 1, First Name 1 , Last Name 1 , Title 2, First Name 2, Last Name 2, Title 3, First Name 3, Last Name 3, Face Value, Specie Value , notes, original text, match eligible]\nIndex: []",
      "text/html": "<div>\n<style scoped>\n    .dataframe tbody tr th:only-of-type {\n        vertical-align: middle;\n    }\n\n    .dataframe tbody tr th {\n        vertical-align: top;\n    }\n\n    .dataframe thead th {\n        text-align: right;\n    }\n</style>\n<table border=\"1\" class=\"dataframe\">\n  <thead>\n    <tr style=\"text-align: right;\">\n      <th></th>\n      <th>State</th>\n      <th>Year</th>\n      <th>Month</th>\n      <th>Day</th>\n      <th>Title 1</th>\n      <th>First Name 1</th>\n      <th>Last Name 1</th>\n      <th>Title 2</th>\n      <th>First Name 2</th>\n      <th>Last Name 2</th>\n      <th>Title 3</th>\n      <th>First Name 3</th>\n      <th>Last Name 3</th>\n      <th>Face Value</th>\n      <th>Specie Value</th>\n      <th>notes</th>\n      <th>original text</th>\n      <th>match eligible</th>\n    </tr>\n  </thead>\n  <tbody>\n  </tbody>\n</table>\n</div>"
     },
     "execution_count": 219,
     "metadata": {},
     "output_type": "execute_result"
    }
   ],
   "source": [
    "loan[[ln == 'Mason' and fn in ['John'] and state == 8 for ln, fn, state in zip(loan['Last Name 1 '],\n",
    "                                                                               loan['First Name 1 '],\n",
    "                                                                               loan['State'])]]"
   ],
   "metadata": {
    "collapsed": false,
    "pycharm": {
     "name": "#%%\n"
    }
   }
  },
  {
   "cell_type": "code",
   "execution_count": 212,
   "outputs": [
    {
     "data": {
      "text/plain": "0.0"
     },
     "execution_count": 212,
     "metadata": {},
     "output_type": "execute_result"
    }
   ],
   "source": [
    "nameLiquidated(['John'], ['Laird'])"
   ],
   "metadata": {
    "collapsed": false,
    "pycharm": {
     "name": "#%%\n"
    }
   }
  }
 ],
 "metadata": {
  "kernelspec": {
   "display_name": "Python 3",
   "language": "python",
   "name": "python3"
  },
  "language_info": {
   "codemirror_mode": {
    "name": "ipython",
    "version": 2
   },
   "file_extension": ".py",
   "mimetype": "text/x-python",
   "name": "python",
   "nbconvert_exporter": "python",
   "pygments_lexer": "ipython2",
   "version": "2.7.6"
  }
 },
 "nbformat": 4,
 "nbformat_minor": 0
}