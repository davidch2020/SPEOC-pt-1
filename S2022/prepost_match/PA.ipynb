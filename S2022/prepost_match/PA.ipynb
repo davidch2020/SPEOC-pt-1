{
 "cells": [
  {
   "cell_type": "code",
   "execution_count": 55,
   "metadata": {
    "pycharm": {
     "name": "#%%\n"
    }
   },
   "outputs": [],
   "source": [
    "from rapidfuzz import process, fuzz\n",
    "import pandas as pd\n",
    "import re\n",
    "import numpy as np"
   ]
  },
  {
   "cell_type": "markdown",
   "metadata": {
    "pycharm": {
     "name": "#%% md\n"
    }
   },
   "source": []
  },
  {
   "cell_type": "code",
   "execution_count": 56,
   "metadata": {
    "pycharm": {
     "name": "#%%\n"
    }
   },
   "outputs": [],
   "source": [
    "#prepare loan dataset\n",
    "PA_CD_raw = pd.read_excel(\"../../Data/Post1790/PA/PA_post1790_CD.xlsx\",\n",
    "                      header = 11, usecols = 'G, H, I, J, K, L, M, U, V, W, X, Y, Z, AA, AJ, AK, AL, AM, AN, AO, AP')\n",
    "PA_CD_raw.columns = ['First Name', 'Last Name', 'town1', 'state1', 'occupation1', '6p_Dollar', '6p_Cents',\n",
    "                 'First Name.1', 'Last Name.1', 'town2', 'state2', 'occupation2', '6p_def_Dollar', '6p_def_Cents',\n",
    "                 'First Name.2', 'Last Name.2', 'town3', 'state3', 'occupation3', '3p_Dollar', '3p_Cents', ]\n",
    "PA_CD_raw['Name'] = PA_CD_raw['First Name'].apply(lambda x: \"\" if pd.isnull(x) else x) + \" \" + PA_CD_raw['Last Name'].apply(lambda x: \"\" if pd.isnull(x) else x)\n",
    "PA_CD_raw['Name'] = PA_CD_raw['Name'].apply(lambda x: re.sub(' +', ' ', x).strip())\n",
    "PA_CD_raw['occupation1'] = PA_CD_raw['occupation1'].apply(lambda x: \"\" if pd.isnull(x) else x)"
   ]
  },
  {
   "cell_type": "code",
   "execution_count": 57,
   "metadata": {
    "pycharm": {
     "name": "#%%\n"
    }
   },
   "outputs": [],
   "source": [
    "grouped_df = PA_CD_raw.groupby(['Name', 'town1', 'occupation1']).agg({'6p_Dollar': ['sum', 'count']}).reset_index()\n",
    "grouped_df.columns = ['Name', 'Town', 'occupation', '6p_total', '6p_count']\n",
    "grouped_df = grouped_df.sort_values('6p_total', ascending = False).reset_index(drop = True)\n",
    "grouped_df['pct_cum'] = grouped_df['6p_total'].cumsum()/grouped_df['6p_total'].sum()\n",
    "grouped_df['pct'] = grouped_df['6p_total']/grouped_df['6p_total'].sum()"
   ]
  },
  {
   "cell_type": "code",
   "execution_count": 58,
   "metadata": {
    "pycharm": {
     "name": "#%%\n"
    }
   },
   "outputs": [
    {
     "data": {
      "text/html": [
       "<div>\n",
       "<style scoped>\n",
       "    .dataframe tbody tr th:only-of-type {\n",
       "        vertical-align: middle;\n",
       "    }\n",
       "\n",
       "    .dataframe tbody tr th {\n",
       "        vertical-align: top;\n",
       "    }\n",
       "\n",
       "    .dataframe thead th {\n",
       "        text-align: right;\n",
       "    }\n",
       "</style>\n",
       "<table border=\"1\" class=\"dataframe\">\n",
       "  <thead>\n",
       "    <tr style=\"text-align: right;\">\n",
       "      <th></th>\n",
       "      <th>Name</th>\n",
       "      <th>Town</th>\n",
       "      <th>occupation</th>\n",
       "      <th>6p_total</th>\n",
       "      <th>6p_count</th>\n",
       "      <th>pct_cum</th>\n",
       "      <th>pct</th>\n",
       "    </tr>\n",
       "  </thead>\n",
       "  <tbody>\n",
       "    <tr>\n",
       "      <th>0</th>\n",
       "      <td>Mordecai Lewis</td>\n",
       "      <td>Philadelphia</td>\n",
       "      <td>Merchant</td>\n",
       "      <td>88152.0</td>\n",
       "      <td>12</td>\n",
       "      <td>0.057169</td>\n",
       "      <td>0.057169</td>\n",
       "    </tr>\n",
       "    <tr>\n",
       "      <th>1</th>\n",
       "      <td>Blair McClenahan</td>\n",
       "      <td>Philadelphia</td>\n",
       "      <td></td>\n",
       "      <td>62341.0</td>\n",
       "      <td>3</td>\n",
       "      <td>0.097598</td>\n",
       "      <td>0.040430</td>\n",
       "    </tr>\n",
       "    <tr>\n",
       "      <th>2</th>\n",
       "      <td>William Morris and Swanwick</td>\n",
       "      <td>Philadelphia</td>\n",
       "      <td>Merchant</td>\n",
       "      <td>54009.0</td>\n",
       "      <td>6</td>\n",
       "      <td>0.132624</td>\n",
       "      <td>0.035026</td>\n",
       "    </tr>\n",
       "    <tr>\n",
       "      <th>3</th>\n",
       "      <td>George Eddy</td>\n",
       "      <td>Philadelphia</td>\n",
       "      <td>Merchant</td>\n",
       "      <td>29630.0</td>\n",
       "      <td>12</td>\n",
       "      <td>0.151840</td>\n",
       "      <td>0.019216</td>\n",
       "    </tr>\n",
       "    <tr>\n",
       "      <th>4</th>\n",
       "      <td>Robert Buchanan</td>\n",
       "      <td>Philadelphia</td>\n",
       "      <td>Merchant</td>\n",
       "      <td>25633.0</td>\n",
       "      <td>8</td>\n",
       "      <td>0.168463</td>\n",
       "      <td>0.016624</td>\n",
       "    </tr>\n",
       "    <tr>\n",
       "      <th>...</th>\n",
       "      <td>...</td>\n",
       "      <td>...</td>\n",
       "      <td>...</td>\n",
       "      <td>...</td>\n",
       "      <td>...</td>\n",
       "      <td>...</td>\n",
       "      <td>...</td>\n",
       "    </tr>\n",
       "    <tr>\n",
       "      <th>694</th>\n",
       "      <td>David Hahn</td>\n",
       "      <td>York Town</td>\n",
       "      <td></td>\n",
       "      <td>3.0</td>\n",
       "      <td>1</td>\n",
       "      <td>0.999995</td>\n",
       "      <td>0.000002</td>\n",
       "    </tr>\n",
       "    <tr>\n",
       "      <th>695</th>\n",
       "      <td>Mark Wilcocks</td>\n",
       "      <td>Delaware County</td>\n",
       "      <td></td>\n",
       "      <td>3.0</td>\n",
       "      <td>1</td>\n",
       "      <td>0.999997</td>\n",
       "      <td>0.000002</td>\n",
       "    </tr>\n",
       "    <tr>\n",
       "      <th>696</th>\n",
       "      <td>Silas Engles</td>\n",
       "      <td>Southwark</td>\n",
       "      <td></td>\n",
       "      <td>3.0</td>\n",
       "      <td>1</td>\n",
       "      <td>0.999999</td>\n",
       "      <td>0.000002</td>\n",
       "    </tr>\n",
       "    <tr>\n",
       "      <th>697</th>\n",
       "      <td>James Bell</td>\n",
       "      <td>Allegany County</td>\n",
       "      <td></td>\n",
       "      <td>2.0</td>\n",
       "      <td>1</td>\n",
       "      <td>1.000000</td>\n",
       "      <td>0.000001</td>\n",
       "    </tr>\n",
       "    <tr>\n",
       "      <th>698</th>\n",
       "      <td>William Lee</td>\n",
       "      <td>Philadelphia</td>\n",
       "      <td></td>\n",
       "      <td>0.0</td>\n",
       "      <td>0</td>\n",
       "      <td>1.000000</td>\n",
       "      <td>0.000000</td>\n",
       "    </tr>\n",
       "  </tbody>\n",
       "</table>\n",
       "<p>699 rows × 7 columns</p>\n",
       "</div>"
      ],
      "text/plain": [
       "                            Name             Town occupation  6p_total  \\\n",
       "0                 Mordecai Lewis     Philadelphia   Merchant   88152.0   \n",
       "1               Blair McClenahan     Philadelphia              62341.0   \n",
       "2    William Morris and Swanwick     Philadelphia   Merchant   54009.0   \n",
       "3                    George Eddy     Philadelphia   Merchant   29630.0   \n",
       "4                Robert Buchanan     Philadelphia   Merchant   25633.0   \n",
       "..                           ...              ...        ...       ...   \n",
       "694                   David Hahn        York Town                  3.0   \n",
       "695                Mark Wilcocks  Delaware County                  3.0   \n",
       "696                 Silas Engles        Southwark                  3.0   \n",
       "697                   James Bell  Allegany County                  2.0   \n",
       "698                  William Lee     Philadelphia                  0.0   \n",
       "\n",
       "     6p_count   pct_cum       pct  \n",
       "0          12  0.057169  0.057169  \n",
       "1           3  0.097598  0.040430  \n",
       "2           6  0.132624  0.035026  \n",
       "3          12  0.151840  0.019216  \n",
       "4           8  0.168463  0.016624  \n",
       "..        ...       ...       ...  \n",
       "694         1  0.999995  0.000002  \n",
       "695         1  0.999997  0.000002  \n",
       "696         1  0.999999  0.000002  \n",
       "697         1  1.000000  0.000001  \n",
       "698         0  1.000000  0.000000  \n",
       "\n",
       "[699 rows x 7 columns]"
      ]
     },
     "execution_count": 58,
     "metadata": {},
     "output_type": "execute_result"
    }
   ],
   "source": [
    "grouped_df"
   ]
  },
  {
   "cell_type": "code",
   "execution_count": 59,
   "metadata": {
    "pycharm": {
     "name": "#%%\n"
    }
   },
   "outputs": [
    {
     "name": "stderr",
     "output_type": "stream",
     "text": [
      "C:\\Users\\david\\AppData\\Local\\Packages\\PythonSoftwareFoundation.Python.3.7_qbz5n2kfra8p0\\LocalCache\\local-packages\\Python37\\site-packages\\IPython\\core\\interactiveshell.py:3553: DtypeWarning: Columns (1) have mixed types.Specify dtype option on import or set low_memory=False.\n",
      "  exec(code_obj, self.user_global_ns, self.user_ns)\n"
     ]
    }
   ],
   "source": [
    "loan = pd.read_csv('../../Data/Pre1790/cleaned/loan_office_certificates_9_states_cleaned.csv', index_col = 0)\n",
    "marine = pd.read_csv('../../Data/Pre1790/cleaned/Marine_Liquidated_Debt_Certificates_cleaned.csv', index_col = 0)\n",
    "pierce = pd.read_csv('../../Data/Pre1790/cleaned/Pierce_Certs_cleaned_2021.csv', index_col = 0)\n",
    "liquidCT = pd.read_csv('../../Data/Pre1790/cleaned/liquidated_debt_certificates_CT_cleaned.csv', index_col = 0)\n",
    "liquidDE = pd.read_csv('../../Data/Pre1790/cleaned/liquidated_debt_certificates_DE_cleaned.csv', index_col = 0)\n",
    "liquidMA = pd.read_csv('../../Data/Pre1790/cleaned/liquidated_debt_certificates_MA_cleaned.csv', index_col = 0)\n",
    "liquidNJ = pd.read_csv('../../Data/Pre1790/cleaned/liquidated_debt_certificates_NJ_cleaned.csv', index_col = 0)\n",
    "liquidNH = pd.read_csv('../../Data/Pre1790/cleaned/liquidated_debt_certificates_NH_cleaned.csv', index_col = 0)\n",
    "liquidNY = pd.read_csv('../../Data/Pre1790/cleaned/liquidated_debt_certificates_NY_cleaned.csv', index_col = 0)\n",
    "liquidPA1 = pd.read_csv('../../Data/Pre1790/cleaned/liquidated_debt_certificates_PA_story_cleaned.csv', index_col = 0)\n",
    "liquidRI = pd.read_csv('../../Data/Pre1790/cleaned/liquidated_debt_certificates_RI_cleaned.csv', index_col = 0)\n",
    "liquidPA2 = pd.read_csv('../../Data/Pre1790/cleaned/liquidated_debt_certificates_PA_stelle_cleaned.csv', index_col = 0)"
   ]
  },
  {
   "cell_type": "code",
   "execution_count": 60,
   "metadata": {
    "pycharm": {
     "name": "#%%\n"
    }
   },
   "outputs": [],
   "source": [
    "def nameLiquidated(fname, lname):\n",
    "    ctsum = liquidCT[[ln in lname and fn in fname for ln, fn in zip(liquidCT['Last name'],\n",
    "                                                                    liquidCT['First name'])]]['Dollars'].sum()\n",
    "    desum = liquidDE[[ln in lname and fn in fname for ln, fn in zip(liquidDE['Last name'],\n",
    "                                                                    liquidDE['First name'])]]['Dollars'].sum()\n",
    "    masum = liquidMA[[ln in lname and fn in fname for ln, fn in zip(liquidMA['Last name'],\n",
    "                                                                    liquidMA['First name'])]]['Dollars'].sum()\n",
    "    njsum = liquidNJ[[ln in lname and fn in fname for ln, fn in zip(liquidNJ['Last name'],\n",
    "                                                                    liquidNJ['First name'])]]['Dollars'].sum()\n",
    "    nhsum = liquidNH[[ln in lname and fn in fname for ln, fn in zip(liquidNH['Last name'],\n",
    "                                                                    liquidNH['First name'])]]['Dollars'].sum()\n",
    "    pasum1 = liquidPA1[[ln in lname and fn in fname for ln, fn in zip(liquidPA1['Last name'],\n",
    "                                                                      liquidPA1['First name'])]]['Dollars'].sum()\n",
    "    risum = liquidRI[[ln in lname and fn in fname for ln, fn in zip(liquidRI['Last name'],\n",
    "                                                                    liquidRI['First name'])]]['Dollars'].sum()\n",
    "    pasum2 = liquidPA2[[ln in lname and fn in fname for ln, fn in zip(liquidPA2['Last name'],\n",
    "                                                                      liquidPA2['First name'])]]['Dollars'].sum()\n",
    "    return ctsum + desum + masum + njsum + nhsum + pasum1 + risum + pasum2"
   ]
  },
  {
   "cell_type": "markdown",
   "metadata": {
    "pycharm": {
     "name": "#%% md\n"
    }
   },
   "source": [
    "## David Grier"
   ]
  },
  {
   "cell_type": "code",
   "execution_count": 61,
   "metadata": {
    "pycharm": {
     "name": "#%%\n"
    }
   },
   "outputs": [
    {
     "data": {
      "text/plain": [
       "0.0"
      ]
     },
     "execution_count": 61,
     "metadata": {},
     "output_type": "execute_result"
    }
   ],
   "source": [
    "pierce[[ln == 'Grier' and fn in ['David'] for ln, fn in zip(pierce['Last'],\n",
    "                                                                           pierce['First'])]]['Value'].sum()"
   ]
  },
  {
   "cell_type": "code",
   "execution_count": 62,
   "metadata": {
    "pycharm": {
     "name": "#%%\n"
    }
   },
   "outputs": [
    {
     "data": {
      "text/plain": [
       "0.0"
      ]
     },
     "execution_count": 62,
     "metadata": {},
     "output_type": "execute_result"
    }
   ],
   "source": [
    "marine[[ln == 'Grier' and fn in ['David'] for ln, fn in zip(marine['Last name'],\n",
    "                                                                           marine['First name'])]]['Dollars'].sum()"
   ]
  },
  {
   "cell_type": "code",
   "execution_count": 63,
   "metadata": {
    "pycharm": {
     "name": "#%%\n"
    }
   },
   "outputs": [
    {
     "data": {
      "text/plain": [
       "0"
      ]
     },
     "execution_count": 63,
     "metadata": {},
     "output_type": "execute_result"
    }
   ],
   "source": [
    "loan[[ln == 'Grier' and fn in ['David'] for ln, fn in zip(loan['Last Name 1 '],\n",
    "                                                                        loan['First Name 1 '])]]['Face Value'].sum()"
   ]
  },
  {
   "cell_type": "code",
   "execution_count": 64,
   "metadata": {
    "pycharm": {
     "name": "#%%\n"
    }
   },
   "outputs": [
    {
     "data": {
      "text/plain": [
       "196.0"
      ]
     },
     "execution_count": 64,
     "metadata": {},
     "output_type": "execute_result"
    }
   ],
   "source": [
    "nameLiquidated(['David'], ['Grier'])"
   ]
  },
  {
   "cell_type": "markdown",
   "metadata": {
    "pycharm": {
     "name": "#%% md\n"
    }
   },
   "source": [
    "## John Schweighauser"
   ]
  },
  {
   "cell_type": "code",
   "execution_count": 65,
   "metadata": {
    "pycharm": {
     "name": "#%%\n"
    }
   },
   "outputs": [
    {
     "data": {
      "text/plain": [
       "0.0"
      ]
     },
     "execution_count": 65,
     "metadata": {},
     "output_type": "execute_result"
    }
   ],
   "source": [
    "pierce[[ln == 'Schweighauser' and fn in ['John'] for ln, fn in zip(pierce['Last'],\n",
    "                                                                pierce['First'])]]['Value'].sum()"
   ]
  },
  {
   "cell_type": "code",
   "execution_count": 66,
   "metadata": {
    "pycharm": {
     "name": "#%%\n"
    }
   },
   "outputs": [
    {
     "data": {
      "text/plain": [
       "0.0"
      ]
     },
     "execution_count": 66,
     "metadata": {},
     "output_type": "execute_result"
    }
   ],
   "source": [
    "marine[[ln == 'Schweighauser' and fn in ['John'] for ln, fn in zip(marine['Last name'],\n",
    "                                                                marine['First name'])]]['Dollars'].sum()"
   ]
  },
  {
   "cell_type": "code",
   "execution_count": 67,
   "metadata": {
    "pycharm": {
     "name": "#%%\n"
    }
   },
   "outputs": [
    {
     "data": {
      "text/plain": [
       "8000"
      ]
     },
     "execution_count": 67,
     "metadata": {},
     "output_type": "execute_result"
    }
   ],
   "source": [
    "loan[[ln == 'Schweighauser' and fn in ['John'] for ln, fn in zip(loan['Last Name 1 '],\n",
    "                                                              loan['First Name 1 '])]]['Face Value'].sum()"
   ]
  },
  {
   "cell_type": "code",
   "execution_count": 68,
   "metadata": {
    "pycharm": {
     "name": "#%%\n"
    }
   },
   "outputs": [
    {
     "data": {
      "text/plain": [
       "0.0"
      ]
     },
     "execution_count": 68,
     "metadata": {},
     "output_type": "execute_result"
    }
   ],
   "source": [
    "nameLiquidated(['John'], ['Schweighauser'])"
   ]
  },
  {
   "cell_type": "markdown",
   "metadata": {
    "pycharm": {
     "name": "#%% md\n"
    }
   },
   "source": [
    "## Maria Benezet (Guardian: Daniel Benezett)"
   ]
  },
  {
   "cell_type": "code",
   "execution_count": 69,
   "metadata": {
    "pycharm": {
     "name": "#%%\n"
    }
   },
   "outputs": [
    {
     "data": {
      "text/plain": [
       "0.0"
      ]
     },
     "execution_count": 69,
     "metadata": {},
     "output_type": "execute_result"
    }
   ],
   "source": [
    "marine[[ln == 'Benezett' and fn in ['Daniel'] for ln, fn in zip(marine['Last name'],\n",
    "                                                                                        marine['First name'])]]['Dollars'].sum()"
   ]
  },
  {
   "cell_type": "code",
   "execution_count": 70,
   "metadata": {
    "pycharm": {
     "name": "#%%\n"
    }
   },
   "outputs": [
    {
     "data": {
      "text/plain": [
       "0.0"
      ]
     },
     "execution_count": 70,
     "metadata": {},
     "output_type": "execute_result"
    }
   ],
   "source": [
    "pierce[[ln == 'Benezett' and fn in ['Daniel'] for ln, fn in zip(pierce['Last'],\n",
    "                                                                                        pierce['First'])]]['Value'].sum()"
   ]
  },
  {
   "cell_type": "code",
   "execution_count": 71,
   "metadata": {
    "pycharm": {
     "name": "#%%\n"
    }
   },
   "outputs": [
    {
     "data": {
      "text/plain": [
       "6000"
      ]
     },
     "execution_count": 71,
     "metadata": {},
     "output_type": "execute_result"
    }
   ],
   "source": [
    "loan[[ln == 'Benezett' and fn in ['Daniel'] for ln, fn in zip(loan['Last Name 1 '],\n",
    "                                                                                      loan['First Name 1 '])]]['Face Value'].sum()"
   ]
  },
  {
   "cell_type": "code",
   "execution_count": 72,
   "metadata": {
    "pycharm": {
     "name": "#%%\n"
    }
   },
   "outputs": [
    {
     "data": {
      "text/plain": [
       "0.0"
      ]
     },
     "execution_count": 72,
     "metadata": {},
     "output_type": "execute_result"
    }
   ],
   "source": [
    "nameLiquidated(['Maria'], ['Benezet'])"
   ]
  },
  {
   "cell_type": "markdown",
   "metadata": {
    "pycharm": {
     "name": "#%% md\n"
    }
   },
   "source": [
    "## Job Vernon"
   ]
  },
  {
   "cell_type": "code",
   "execution_count": 73,
   "metadata": {
    "pycharm": {
     "name": "#%%\n"
    }
   },
   "outputs": [
    {
     "data": {
      "text/plain": [
       "0.0"
      ]
     },
     "execution_count": 73,
     "metadata": {},
     "output_type": "execute_result"
    }
   ],
   "source": [
    "marine[[ln == 'Vernon' and fn in ['Job'] for ln, fn in zip(marine['Last name'],\n",
    "                                                                                        marine['First name'])]]['Dollars'].sum()"
   ]
  },
  {
   "cell_type": "code",
   "execution_count": 74,
   "metadata": {
    "pycharm": {
     "name": "#%%\n"
    }
   },
   "outputs": [
    {
     "data": {
      "text/plain": [
       "2994.34"
      ]
     },
     "execution_count": 74,
     "metadata": {},
     "output_type": "execute_result"
    }
   ],
   "source": [
    "pierce[[ln == 'Vernon' and fn in ['Job'] for ln, fn in zip(pierce['Last'],\n",
    "                                                                                        pierce['First'])]]['Value'].sum()"
   ]
  },
  {
   "cell_type": "code",
   "execution_count": 75,
   "metadata": {
    "pycharm": {
     "name": "#%%\n"
    }
   },
   "outputs": [
    {
     "data": {
      "text/plain": [
       "0"
      ]
     },
     "execution_count": 75,
     "metadata": {},
     "output_type": "execute_result"
    }
   ],
   "source": [
    "loan[[ln == 'Vernon' and fn in ['Job'] for ln, fn in zip(loan['Last Name 1 '],\n",
    "                                                                                      loan['First Name 1 '])]]['Face Value'].sum()"
   ]
  },
  {
   "cell_type": "code",
   "execution_count": 76,
   "metadata": {
    "pycharm": {
     "name": "#%%\n"
    }
   },
   "outputs": [
    {
     "data": {
      "text/plain": [
       "0.0"
      ]
     },
     "execution_count": 76,
     "metadata": {},
     "output_type": "execute_result"
    }
   ],
   "source": [
    "nameLiquidated(['John'], ['Vernon'])"
   ]
  },
  {
   "cell_type": "markdown",
   "metadata": {
    "pycharm": {
     "name": "#%% md\n"
    }
   },
   "source": [
    "## Adam Guier"
   ]
  },
  {
   "cell_type": "code",
   "execution_count": 77,
   "metadata": {
    "pycharm": {
     "name": "#%%\n"
    }
   },
   "outputs": [
    {
     "data": {
      "text/plain": [
       "0.0"
      ]
     },
     "execution_count": 77,
     "metadata": {},
     "output_type": "execute_result"
    }
   ],
   "source": [
    "marine[[ln == 'Guier' and fn in ['Adam'] for ln, fn in zip(marine['Last name'],\n",
    "                                                                                        marine['First name'])]]['Dollars'].sum()"
   ]
  },
  {
   "cell_type": "code",
   "execution_count": 78,
   "metadata": {
    "pycharm": {
     "name": "#%%\n"
    }
   },
   "outputs": [
    {
     "data": {
      "text/plain": [
       "0.0"
      ]
     },
     "execution_count": 78,
     "metadata": {},
     "output_type": "execute_result"
    }
   ],
   "source": [
    "pierce[[ln == 'Guier' and fn in ['Adam'] for ln, fn in zip(pierce['Last'],\n",
    "                                                                                        pierce['First'])]]['Value'].sum()"
   ]
  },
  {
   "cell_type": "code",
   "execution_count": 79,
   "metadata": {
    "pycharm": {
     "name": "#%%\n"
    }
   },
   "outputs": [
    {
     "data": {
      "text/plain": [
       "0"
      ]
     },
     "execution_count": 79,
     "metadata": {},
     "output_type": "execute_result"
    }
   ],
   "source": [
    "loan[[ln == 'Guier' and fn in ['Adam'] for ln, fn in zip(loan['Last Name 1 '],\n",
    "                                                             loan['First Name 1 '])]]['Face Value'].sum()"
   ]
  },
  {
   "cell_type": "code",
   "execution_count": 80,
   "metadata": {
    "pycharm": {
     "name": "#%%\n"
    }
   },
   "outputs": [
    {
     "data": {
      "text/plain": [
       "0.0"
      ]
     },
     "execution_count": 80,
     "metadata": {},
     "output_type": "execute_result"
    }
   ],
   "source": [
    "nameLiquidated(['Adam'], ['Guier'])"
   ]
  },
  {
   "cell_type": "markdown",
   "metadata": {
    "pycharm": {
     "name": "#%% md\n"
    }
   },
   "source": [
    "## William Honeyman"
   ]
  },
  {
   "cell_type": "code",
   "execution_count": 81,
   "metadata": {
    "pycharm": {
     "name": "#%%\n"
    }
   },
   "outputs": [
    {
     "data": {
      "text/plain": [
       "2699.2499999999995"
      ]
     },
     "execution_count": 81,
     "metadata": {},
     "output_type": "execute_result"
    }
   ],
   "source": [
    "pierce[[ln == 'Honeyman' and fn in ['William'] for ln, fn in zip(pierce['Last'],\n",
    "                                                                                        pierce['First'])]]['Value'].sum()"
   ]
  },
  {
   "cell_type": "code",
   "execution_count": 82,
   "metadata": {
    "pycharm": {
     "name": "#%%\n"
    }
   },
   "outputs": [
    {
     "data": {
      "text/plain": [
       "0.0"
      ]
     },
     "execution_count": 82,
     "metadata": {},
     "output_type": "execute_result"
    }
   ],
   "source": [
    "marine[[ln == 'Honeyman' and fn in ['William'] for ln, fn in zip(marine['Last name'],\n",
    "                                                           marine['First name'])]]['Dollars'].sum()"
   ]
  },
  {
   "cell_type": "code",
   "execution_count": 83,
   "metadata": {
    "pycharm": {
     "name": "#%%\n"
    }
   },
   "outputs": [
    {
     "data": {
      "text/plain": [
       "0"
      ]
     },
     "execution_count": 83,
     "metadata": {},
     "output_type": "execute_result"
    }
   ],
   "source": [
    "loan[[ln == 'Honeyman' and fn in ['William'] for ln, fn in zip(loan['Last Name 1 '],\n",
    "                                                         loan['First Name 1 '])]]['Face Value'].sum()"
   ]
  },
  {
   "cell_type": "code",
   "execution_count": 84,
   "metadata": {
    "pycharm": {
     "name": "#%%\n"
    }
   },
   "outputs": [
    {
     "data": {
      "text/plain": [
       "0.0"
      ]
     },
     "execution_count": 84,
     "metadata": {},
     "output_type": "execute_result"
    }
   ],
   "source": [
    "nameLiquidated(['William'], ['Honeyman'])"
   ]
  },
  {
   "cell_type": "markdown",
   "metadata": {
    "pycharm": {
     "name": "#%% md\n"
    }
   },
   "source": [
    "## William Chevalier (Guardian: Mary Chevalier)"
   ]
  },
  {
   "cell_type": "markdown",
   "metadata": {},
   "source": [
    "Looked into his supposed father, John Chevalier."
   ]
  },
  {
   "cell_type": "code",
   "execution_count": 85,
   "metadata": {
    "pycharm": {
     "name": "#%%\n"
    }
   },
   "outputs": [
    {
     "data": {
      "text/plain": [
       "0.0"
      ]
     },
     "execution_count": 85,
     "metadata": {},
     "output_type": "execute_result"
    }
   ],
   "source": [
    "pierce[[ln == 'Chevalier' and fn in ['John'] and 'Pennsylvania' in issue for ln, fn, issue in zip(pierce['Last'],\n",
    "                                                                  pierce['First'],\n",
    "                                                                  pierce['To Whom Issued'])]]['Value'].sum()"
   ]
  },
  {
   "cell_type": "code",
   "execution_count": 86,
   "metadata": {
    "pycharm": {
     "name": "#%%\n"
    }
   },
   "outputs": [
    {
     "data": {
      "text/plain": [
       "0.0"
      ]
     },
     "execution_count": 86,
     "metadata": {},
     "output_type": "execute_result"
    }
   ],
   "source": [
    "marine[[ln == 'Chevalier' and fn in ['John'] for ln, fn in zip(marine['Last name'],\n",
    "                                                           marine['First name'])]]['Dollars'].sum()"
   ]
  },
  {
   "cell_type": "code",
   "execution_count": 87,
   "metadata": {
    "pycharm": {
     "name": "#%%\n"
    }
   },
   "outputs": [
    {
     "data": {
      "text/plain": [
       "38500"
      ]
     },
     "execution_count": 87,
     "metadata": {},
     "output_type": "execute_result"
    }
   ],
   "source": [
    "loan[[ln == 'Chevalier' and fn in ['John'] for ln, fn in zip(loan['Last Name 1 '],\n",
    "                                                         loan['First Name 1 '])]]['Face Value'].sum()"
   ]
  },
  {
   "cell_type": "code",
   "execution_count": 88,
   "metadata": {
    "pycharm": {
     "name": "#%%\n"
    }
   },
   "outputs": [
    {
     "data": {
      "text/plain": [
       "0.0"
      ]
     },
     "execution_count": 88,
     "metadata": {},
     "output_type": "execute_result"
    }
   ],
   "source": [
    "nameLiquidated(['John'], ['Chevalier'])"
   ]
  }
 ],
 "metadata": {
  "kernelspec": {
   "display_name": "Python 3 (ipykernel)",
   "language": "python",
   "name": "python3"
  },
  "language_info": {
   "codemirror_mode": {
    "name": "ipython",
    "version": 3
   },
   "file_extension": ".py",
   "mimetype": "text/x-python",
   "name": "python",
   "nbconvert_exporter": "python",
   "pygments_lexer": "ipython3",
   "version": "3.7.9"
  }
 },
 "nbformat": 4,
 "nbformat_minor": 1
}
