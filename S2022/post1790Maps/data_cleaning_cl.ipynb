{
 "cells": [
  {
   "cell_type": "markdown",
   "source": [
    "# Outline\n",
    "1. Import continental and assumed debt for each state\n",
    "2. Map towns to county names using mapping file + fuzzy string matching\n",
    "3. Use county shape files to create maps"
   ],
   "metadata": {
    "collapsed": false,
    "pycharm": {
     "name": "#%% md\n"
    }
   }
  },
  {
   "cell_type": "markdown",
   "source": [
    "## Documentation Notes\n",
    "1. All non-exact matches will be printed out when doing merges (exact matches are not printed)"
   ],
   "metadata": {
    "collapsed": false,
    "pycharm": {
     "name": "#%% md\n"
    }
   }
  },
  {
   "cell_type": "code",
   "execution_count": 29,
   "outputs": [],
   "source": [
    "import numpy as np\n",
    "import pandas as pd\n",
    "from rapidfuzz import process"
   ],
   "metadata": {
    "collapsed": false,
    "pycharm": {
     "name": "#%%\n"
    }
   }
  },
  {
   "cell_type": "code",
   "execution_count": 30,
   "outputs": [],
   "source": [
    "def deNaN(series):\n",
    "    return series.apply(lambda x: \"\" if type(x) != str else x)"
   ],
   "metadata": {
    "collapsed": false,
    "pycharm": {
     "name": "#%%\n"
    }
   }
  },
  {
   "cell_type": "code",
   "execution_count": 31,
   "outputs": [],
   "source": [
    "def combineCols(df, num = 3, namenum = 3):\n",
    "    change_df_agg = pd.DataFrame(columns = ['old', 'new', 'type'])\n",
    "    for col in ['town', 'state', 'occupation']:\n",
    "        # \" \".join(x.split()) removes all excess whitespace\n",
    "        # creates set with all unique instances of column\n",
    "        if num == 3:\n",
    "            df[col] = [set([\" \".join(x.split()) for x in [t1, t2, t3] if not pd.isnull(x)]) for t1, t2, t3 in zip(df[col+'1'],\n",
    "                                                                                                                  df[col+'2'],\n",
    "                                                                                                                  df[col+'3'])]\n",
    "        else:\n",
    "            df[col] = [set([\" \".join(x.split()) for x in [t1, t2] if not pd.isnull(x)]) for t1, t2 in zip(df[col+'1'],\n",
    "                                                                                                          df[col+'2'])]\n",
    "        if not any(df[col].apply(lambda x: len(x) > 1).tolist()):\n",
    "            # change set to string\n",
    "            print(\"reformatting {}\".format(col))\n",
    "            df[col] = df[col].apply(lambda x: x.pop() if x != set() else np.nan)\n",
    "        else:\n",
    "            print(\"{} column has multiple unique entries\".format(col))\n",
    "            print(\"see table at end for new entries\")\n",
    "            # keep the value that has the most characters, otherwise change set to string\n",
    "            old = df[df[col].apply(lambda x: len(x) > 1)][col]\n",
    "            df[col] = df[col].apply(lambda x: x.pop() if len(x) == 1 else np.nan if x == set() else max(list(x), key=len))\n",
    "            # new dataframe to keep track of changes\n",
    "            # create copy of change_df that removes all duplicates by turning old column, which is\n",
    "            # of type set to type string\n",
    "            change_df = pd.DataFrame([old, df.loc[old.index][col]]).T\n",
    "            change_df.columns = ['old', 'new']\n",
    "            change_df['type'] = col\n",
    "            change_df_str = change_df.copy()\n",
    "            change_df_str['old'] = change_df_str['old'].astype(str)\n",
    "            change_df_str = change_df_str.drop_duplicates()\n",
    "            # add filtered database of changes to aggregate dataset\n",
    "            change_df_agg = pd.concat([change_df_agg, change_df.loc[change_df_str.index]])\n",
    "\n",
    "    # add functions to combine asset totals, handle missing debt values\n",
    "    if namenum == 3:\n",
    "        df['Name 1'] =  deNaN(df['First Name']) + \" \" + deNaN(df['Last Name'])\n",
    "        df['Name 2'] =  deNaN(df['First Name.1']) + \" \" + deNaN(df['Last Name.1'])\n",
    "        df['Name 3'] =  deNaN(df['First Name.2']) + \" \" + deNaN(df['Last Name.2'])\n",
    "        df['Name'] = list(list(set([x.replace(\"  \",\" \").strip() for x in [name1, name2, name3] if x.strip() != \"\"])) for name1, name2, name3 in zip(df['Name 1'], df['Name 2'], df['Name 3']))\n",
    "    return df[['6p_Dollar', '6p_Cents', '6p_def_Dollar', '6p_def_Cents','3p_Dollar', '3p_Cents',\n",
    "               'town', 'state', 'occupation', 'Name']], change_df_agg"
   ],
   "metadata": {
    "collapsed": false,
    "pycharm": {
     "name": "#%%\n"
    }
   }
  },
  {
   "cell_type": "code",
   "execution_count": 32,
   "outputs": [
    {
     "data": {
      "text/plain": "\"ind1, ind2, ind3 = CT_CD[['6p_Dollar', '6p_Cents']].dropna(thresh = 1).index,\\n                   CT_CD[['6p_def_Dollar', '6p_def_Cents']].dropna(thresh = 1).index,\\n                   CT_CD[['3p_Dollar', '3p_Cents']].dropna(thresh = 1).index\\nind = set(ind1).intersection(ind2).intersection(ind3)\""
     },
     "execution_count": 32,
     "metadata": {},
     "output_type": "execute_result"
    }
   ],
   "source": [
    "\"\"\"ind1, ind2, ind3 = CT_CD[['6p_Dollar', '6p_Cents']].dropna(thresh = 1).index,\n",
    "                   CT_CD[['6p_def_Dollar', '6p_def_Cents']].dropna(thresh = 1).index,\n",
    "                   CT_CD[['3p_Dollar', '3p_Cents']].dropna(thresh = 1).index\n",
    "ind = set(ind1).intersection(ind2).intersection(ind3)\"\"\""
   ],
   "metadata": {
    "collapsed": false,
    "pycharm": {
     "name": "#%%\n"
    }
   }
  },
  {
   "cell_type": "markdown",
   "source": [
    "## Import Data\n",
    "1. Import CD and ASD for each state, combine the multiple town/state/occupation columns (if they exist) into one\n",
    "2. Concatenate all the separate datasets into two (one CD and one ASD)"
   ],
   "metadata": {
    "collapsed": false,
    "pycharm": {
     "name": "#%% md\n"
    }
   }
  },
  {
   "cell_type": "markdown",
   "source": [
    "### Connecticut"
   ],
   "metadata": {
    "collapsed": false,
    "pycharm": {
     "name": "#%% md\n"
    }
   },
   "execution_count": 1
  },
  {
   "cell_type": "code",
   "execution_count": 33,
   "outputs": [],
   "source": [
    "CD_all = pd.DataFrame(columns = ['6p_Dollar', '6p_Cents', '6p_def_Dollar', '6p_def_Cents','3p_Dollar', '3p_Cents',\n",
    "                                  'town', 'state', 'occupation', 'Name'])\n",
    "ASD_all = pd.DataFrame(columns = ['6p_Dollar', '6p_Cents', '6p_def_Dollar', '6p_def_Cents','3p_Dollar', '3p_Cents',\n",
    "                                  'town', 'state', 'occupation', 'Name'])"
   ],
   "metadata": {
    "collapsed": false,
    "pycharm": {
     "name": "#%%\n"
    }
   }
  },
  {
   "cell_type": "code",
   "execution_count": 34,
   "outputs": [
    {
     "name": "stdout",
     "output_type": "stream",
     "text": [
      "town column has multiple unique entries\n",
      "see table at end for new entries\n",
      "reformatting state\n",
      "reformatting occupation\n"
     ]
    },
    {
     "data": {
      "text/plain": "                   old      new  type\n526  {Miford, Milford}  Milford  town\n799  {Nowich, Norwich}  Norwich  town",
      "text/html": "<div>\n<style scoped>\n    .dataframe tbody tr th:only-of-type {\n        vertical-align: middle;\n    }\n\n    .dataframe tbody tr th {\n        vertical-align: top;\n    }\n\n    .dataframe thead th {\n        text-align: right;\n    }\n</style>\n<table border=\"1\" class=\"dataframe\">\n  <thead>\n    <tr style=\"text-align: right;\">\n      <th></th>\n      <th>old</th>\n      <th>new</th>\n      <th>type</th>\n    </tr>\n  </thead>\n  <tbody>\n    <tr>\n      <th>526</th>\n      <td>{Miford, Milford}</td>\n      <td>Milford</td>\n      <td>town</td>\n    </tr>\n    <tr>\n      <th>799</th>\n      <td>{Nowich, Norwich}</td>\n      <td>Norwich</td>\n      <td>town</td>\n    </tr>\n  </tbody>\n</table>\n</div>"
     },
     "execution_count": 34,
     "metadata": {},
     "output_type": "execute_result"
    }
   ],
   "source": [
    "# importing desired columns and rename\n",
    "CT_CD_raw = pd.read_excel(\"../../Data/Post1790/CT/CT_post1790_CD_ledger.xlsx\",\n",
    "                      header = 13, usecols = 'H, I, J, K, L, N, O, X, Y, Z, AA, AB, AD, AE, AN, AO, AP, AQ, AR, AT, AU')\n",
    "CT_CD_raw.columns = ['First Name', 'Last Name', 'town1', 'state1', 'occupation1', '6p_Dollar', '6p_Cents',\n",
    "                     'First Name.1', 'Last Name.1', 'town2', 'state2', 'occupation2', '6p_def_Dollar', '6p_def_Cents',\n",
    "                     'First Name.2', 'Last Name.2', 'town3', 'state3', 'occupation3', '3p_Dollar', '3p_Cents', ]\n",
    "# unify occupation, town and state columns\n",
    "CT_CD, change_df = combineCols(CT_CD_raw)\n",
    "CT_CD.loc[CT_CD.query('state.isna()').index, 'state'] = 'CT'\n",
    "CD_all = pd.concat([CD_all, CT_CD])\n",
    "change_df"
   ],
   "metadata": {
    "collapsed": false,
    "pycharm": {
     "name": "#%%\n"
    }
   }
  },
  {
   "cell_type": "code",
   "execution_count": 35,
   "outputs": [
    {
     "name": "stdout",
     "output_type": "stream",
     "text": [
      "town column has multiple unique entries\n",
      "see table at end for new entries\n",
      "reformatting state\n",
      "occupation column has multiple unique entries\n",
      "see table at end for new entries\n"
     ]
    },
    {
     "data": {
      "text/plain": "                                                   old  \\\n125                                 {Norwall, Norwalk}   \n811  {1st Society in Lyme, Treasuer 1st Society in ...   \n\n                              new        type  \n125                       Norwall        town  \n811  Treasuer 1st Society in Lyme  occupation  ",
      "text/html": "<div>\n<style scoped>\n    .dataframe tbody tr th:only-of-type {\n        vertical-align: middle;\n    }\n\n    .dataframe tbody tr th {\n        vertical-align: top;\n    }\n\n    .dataframe thead th {\n        text-align: right;\n    }\n</style>\n<table border=\"1\" class=\"dataframe\">\n  <thead>\n    <tr style=\"text-align: right;\">\n      <th></th>\n      <th>old</th>\n      <th>new</th>\n      <th>type</th>\n    </tr>\n  </thead>\n  <tbody>\n    <tr>\n      <th>125</th>\n      <td>{Norwall, Norwalk}</td>\n      <td>Norwall</td>\n      <td>town</td>\n    </tr>\n    <tr>\n      <th>811</th>\n      <td>{1st Society in Lyme, Treasuer 1st Society in ...</td>\n      <td>Treasuer 1st Society in Lyme</td>\n      <td>occupation</td>\n    </tr>\n  </tbody>\n</table>\n</div>"
     },
     "execution_count": 35,
     "metadata": {},
     "output_type": "execute_result"
    }
   ],
   "source": [
    "# importing desired columns and rename\n",
    "CT_ASD_raw = pd.read_excel(\"../../Data/Post1790/CT/CT_post1790_ASD_ledger.xlsx\",\n",
    "                       header = 13, usecols = 'H, I, J, K, L, N, O, X, Y, Z, AA, AB, AD, AE, AN, AO, AP, AQ, AR, AT, AU')\n",
    "CT_ASD_raw.columns = ['First Name', 'Last Name', 'town1', 'state1', 'occupation1', '6p_Dollar', '6p_Cents',\n",
    "                     'First Name.1', 'Last Name.1', 'town2', 'state2', 'occupation2', '6p_def_Dollar', '6p_def_Cents',\n",
    "                     'First Name.2', 'Last Name.2', 'town3', 'state3', 'occupation3', '3p_Dollar', '3p_Cents', ]\n",
    "# unify occupation, town and state columns\n",
    "CT_ASD, change_df = combineCols(CT_ASD_raw)\n",
    "CT_ASD.loc[CT_ASD.query('state.isna()').index, 'state'] = 'CT'\n",
    "ASD_all = pd.concat([ASD_all, CT_ASD])\n",
    "change_df"
   ],
   "metadata": {
    "collapsed": false,
    "pycharm": {
     "name": "#%%\n"
    }
   }
  },
  {
   "cell_type": "markdown",
   "source": [
    "### Georgia\n",
    "No need to do additional cleaning because there's only one state/city/occupation column"
   ],
   "metadata": {
    "collapsed": false,
    "pycharm": {
     "name": "#%% md\n"
    }
   }
  },
  {
   "cell_type": "code",
   "execution_count": 36,
   "outputs": [],
   "source": [
    "# importing desired columns and rename\n",
    "# prepare loan dataset\n",
    "GA_CD_raw = pd.read_excel(\"../../Data/Post1790/GA/T694_GA_Loan_Office_CD.xlsx\",\n",
    "                      header = 10, usecols = 'Q, R, S, T, U, Z, AA, AB, AC, AD, AE')\n",
    "GA_CD_raw.drop([65, 66], inplace = True)\n",
    "GA_CD_raw.columns = ['First Name', 'Last Name', 'town', 'state', 'occupation', '6p_Dollar', '6p_Cents',\n",
    "                 '6p_def_Dollar', '6p_def_Cents', '3p_Dollar', '3p_Cents']\n",
    "GA_CD_raw['Name'] = deNaN(GA_CD_raw['First Name']) + \" \" + deNaN(GA_CD_raw['Last Name'])\n",
    "GA_CD_raw['Name'] = GA_CD_raw['Name'].apply(lambda x: [x])\n",
    "GA_CD = GA_CD_raw[['6p_Dollar', '6p_Cents', '6p_def_Dollar', '6p_def_Cents','3p_Dollar', '3p_Cents',\n",
    "                   'town', 'state', 'occupation', 'Name']]\n",
    "\n",
    "GA_CD.loc[GA_CD.query('state.isna()').index, 'state'] = 'GA'\n",
    "CD_all = pd.concat([CD_all, GA_CD])"
   ],
   "metadata": {
    "collapsed": false,
    "pycharm": {
     "name": "#%%\n"
    }
   }
  },
  {
   "cell_type": "markdown",
   "source": [
    "### Maryland"
   ],
   "metadata": {
    "collapsed": false,
    "pycharm": {
     "name": "#%% md\n"
    }
   }
  },
  {
   "cell_type": "code",
   "execution_count": 37,
   "outputs": [
    {
     "name": "stdout",
     "output_type": "stream",
     "text": [
      "reformatting town\n",
      "reformatting state\n",
      "reformatting occupation\n"
     ]
    },
    {
     "data": {
      "text/plain": "Empty DataFrame\nColumns: [old, new, type]\nIndex: []",
      "text/html": "<div>\n<style scoped>\n    .dataframe tbody tr th:only-of-type {\n        vertical-align: middle;\n    }\n\n    .dataframe tbody tr th {\n        vertical-align: top;\n    }\n\n    .dataframe thead th {\n        text-align: right;\n    }\n</style>\n<table border=\"1\" class=\"dataframe\">\n  <thead>\n    <tr style=\"text-align: right;\">\n      <th></th>\n      <th>old</th>\n      <th>new</th>\n      <th>type</th>\n    </tr>\n  </thead>\n  <tbody>\n  </tbody>\n</table>\n</div>"
     },
     "execution_count": 37,
     "metadata": {},
     "output_type": "execute_result"
    }
   ],
   "source": [
    "#prepare loan dataset\n",
    "MD_CD_raw = pd.read_excel(\"../../Data/Post1790/MD/MD_post1790_CD.xlsx\",\n",
    "                      header = 11, usecols = 'G, H, I, J, K, L, M, U, V, W, X, Y, Z, AA, AI, AJ, AK, AL, AM, AN, AO')\n",
    "MD_CD_raw.columns = ['First Name', 'Last Name', 'town1', 'state1', 'occupation1', '6p_Dollar', '6p_Cents',\n",
    "                 'First Name.1', 'Last Name.1', 'town2', 'state2', 'occupation2', '6p_def_Dollar', '6p_def_Cents',\n",
    "                 'First Name.2', 'Last Name.2', 'town3', 'state3', 'occupation3', '3p_Dollar', '3p_Cents', ]\n",
    "# unify occupation, town and state columns\n",
    "MD_CD , change_df = combineCols(MD_CD_raw)\n",
    "MD_CD.loc[MD_CD.query('state.isna()').index, 'state'] = 'MD'\n",
    "CD_all = pd.concat([CD_all, MD_CD])\n",
    "change_df"
   ],
   "metadata": {
    "collapsed": false,
    "pycharm": {
     "name": "#%%\n"
    }
   }
  },
  {
   "cell_type": "code",
   "execution_count": 38,
   "outputs": [
    {
     "name": "stdout",
     "output_type": "stream",
     "text": [
      "reformatting town\n",
      "reformatting state\n",
      "reformatting occupation\n"
     ]
    },
    {
     "data": {
      "text/plain": "Empty DataFrame\nColumns: [old, new, type]\nIndex: []",
      "text/html": "<div>\n<style scoped>\n    .dataframe tbody tr th:only-of-type {\n        vertical-align: middle;\n    }\n\n    .dataframe tbody tr th {\n        vertical-align: top;\n    }\n\n    .dataframe thead th {\n        text-align: right;\n    }\n</style>\n<table border=\"1\" class=\"dataframe\">\n  <thead>\n    <tr style=\"text-align: right;\">\n      <th></th>\n      <th>old</th>\n      <th>new</th>\n      <th>type</th>\n    </tr>\n  </thead>\n  <tbody>\n  </tbody>\n</table>\n</div>"
     },
     "execution_count": 38,
     "metadata": {},
     "output_type": "execute_result"
    }
   ],
   "source": [
    "#prepare loan dataset\n",
    "MD_ASD_raw = pd.read_excel(\"../../Data/Post1790/MD/MD_post1790_ASD.xlsx\",\n",
    "                      header = 11, usecols = 'G, H, I, J, K, L, M, U, V, W, X, Y, Z, AA, AI, AJ, AK, AL, AM, AN, AO')\n",
    "MD_ASD_raw.columns = ['First Name', 'Last Name', 'town1', 'state1', 'occupation1', '6p_Dollar', '6p_Cents',\n",
    "                 'First Name.1', 'Last Name.1', 'town2', 'state2', 'occupation2', '6p_def_Dollar', '6p_def_Cents',\n",
    "                 'First Name.2', 'Last Name.2', 'town3', 'state3', 'occupation3', '3p_Dollar', '3p_Cents', ]\n",
    "# unify occupation, town and state columns\n",
    "MD_ASD , change_df = combineCols(MD_ASD_raw)\n",
    "MD_ASD.loc[MD_ASD.query('state.isna()').index, 'state'] = 'MD'\n",
    "ASD_all = pd.concat([ASD_all, MD_ASD])\n",
    "change_df"
   ],
   "metadata": {
    "collapsed": false,
    "pycharm": {
     "name": "#%%\n"
    }
   }
  },
  {
   "cell_type": "markdown",
   "source": [
    "### North Carolina"
   ],
   "metadata": {
    "collapsed": false,
    "pycharm": {
     "name": "#%% md\n"
    }
   }
  },
  {
   "cell_type": "code",
   "execution_count": 39,
   "outputs": [],
   "source": [
    "NC_CD_raw = pd.read_excel(\"../../Data/Post1790/NC/T695_R4_NC_CD.xlsx\",\n",
    "                      header = 11, usecols = 'J, K, L, M, N, W, X, Z, AA, AC, AD ')\n",
    "NC_CD_raw.drop([74, 75], inplace = True)\n",
    "NC_CD_raw.columns = ['First Name', 'Last Name', 'town', 'state', 'occupation', '6p_Dollar', '6p_Cents',\n",
    "                 '6p_def_Dollar', '6p_def_Cents', '3p_Dollar', '3p_Cents']\n",
    "NC_CD_raw['Name'] = deNaN(NC_CD_raw['First Name'])  + \" \" + deNaN(NC_CD_raw['Last Name'])\n",
    "NC_CD_raw['Name'] = NC_CD_raw['Name'].apply(lambda x: [x])\n",
    "NC_CD = NC_CD_raw[['6p_Dollar', '6p_Cents', '6p_def_Dollar', '6p_def_Cents','3p_Dollar', '3p_Cents',\n",
    "                   'town', 'state', 'occupation', 'Name']]\n",
    "NC_CD.loc[NC_CD.query('state.isna()').index, 'state'] = 'NC'\n",
    "CD_all = pd.concat([CD_all, NC_CD])"
   ],
   "metadata": {
    "collapsed": false,
    "pycharm": {
     "name": "#%%\n"
    }
   }
  },
  {
   "cell_type": "code",
   "execution_count": 40,
   "outputs": [],
   "source": [
    "NC_ASD_raw = pd.read_excel(\"../../Data/Post1790/NC/T695_R3_NC_ASD.xlsx\", header = 10, usecols = 'H, I, J, K, L, P, Q, R, S, T, U')\n",
    "NC_ASD_raw.columns = ['First Name', 'Last Name', 'town', 'state', 'occupation',  '6p_Dollar', '6p_Cents',\n",
    "                      '6p_def_Dollar', '6p_def_Cents', '3p_Dollar', '3p_Cents']\n",
    "NC_ASD_raw['Name'] = deNaN(NC_ASD_raw['First Name'])  + \" \" + deNaN(NC_ASD_raw['Last Name'])\n",
    "NC_ASD_raw['Name'] = NC_ASD_raw['Name'].apply(lambda x: [x])\n",
    "NC_ASD = NC_ASD_raw[['6p_Dollar', '6p_Cents', '6p_def_Dollar', '6p_def_Cents','3p_Dollar', '3p_Cents',\n",
    "                   'town', 'state', 'occupation', 'Name']]\n",
    "NC_ASD.loc[NC_ASD.query('state.isna()').index, 'state'] = 'NC'\n",
    "ASD_all = pd.concat([ASD_all, NC_ASD])"
   ],
   "metadata": {
    "collapsed": false,
    "pycharm": {
     "name": "#%%\n"
    }
   }
  },
  {
   "cell_type": "markdown",
   "source": [
    "### New Hampshire"
   ],
   "metadata": {
    "collapsed": false,
    "pycharm": {
     "name": "#%% md\n"
    }
   }
  },
  {
   "cell_type": "code",
   "execution_count": 41,
   "outputs": [],
   "source": [
    "#prepare loan dataset\n",
    "NH_CD_raw = pd.read_excel(\"../../Data/Post1790/NH/T652_R6_New_Hampshire_CD.xlsx\",\n",
    "                      header = 10, usecols = 'I, J, K, L, M, N, O, P, Q, R, S').drop([219, 220])\n",
    "NH_CD_raw.columns = ['First Name', 'Last Name', 'town', 'state', 'occupation', '6p_Dollar', '6p_Cents',\n",
    "                     '6p_def_Dollar', '6p_def_Cents', '3p_Dollar', '3p_Cents']\n",
    "NH_CD_raw['Name'] = deNaN(NH_CD_raw['First Name'])  + \" \" + deNaN(NH_CD_raw['Last Name'])\n",
    "NH_CD_raw['Name'] = NH_CD_raw['Name'].apply(lambda x: [x])\n",
    "NH_CD = NH_CD_raw[['6p_Dollar', '6p_Cents', '6p_def_Dollar', '6p_def_Cents','3p_Dollar', '3p_Cents',\n",
    "                     'town', 'state', 'occupation', 'Name']]\n",
    "NH_CD.loc[NH_CD.query('state.isna()').index, 'state'] = 'NH'\n",
    "CD_all = pd.concat([CD_all, NH_CD])"
   ],
   "metadata": {
    "collapsed": false,
    "pycharm": {
     "name": "#%%\n"
    }
   }
  },
  {
   "cell_type": "code",
   "execution_count": 42,
   "outputs": [
    {
     "name": "stdout",
     "output_type": "stream",
     "text": [
      "reformatting town\n",
      "reformatting state\n",
      "reformatting occupation\n"
     ]
    },
    {
     "data": {
      "text/plain": "Empty DataFrame\nColumns: [old, new, type]\nIndex: []",
      "text/html": "<div>\n<style scoped>\n    .dataframe tbody tr th:only-of-type {\n        vertical-align: middle;\n    }\n\n    .dataframe tbody tr th {\n        vertical-align: top;\n    }\n\n    .dataframe thead th {\n        text-align: right;\n    }\n</style>\n<table border=\"1\" class=\"dataframe\">\n  <thead>\n    <tr style=\"text-align: right;\">\n      <th></th>\n      <th>old</th>\n      <th>new</th>\n      <th>type</th>\n    </tr>\n  </thead>\n  <tbody>\n  </tbody>\n</table>\n</div>"
     },
     "execution_count": 42,
     "metadata": {},
     "output_type": "execute_result"
    }
   ],
   "source": [
    "NH_ASD_raw = pd.read_excel(\"../../Data/Post1790/NH/T652_New_Hampshire_ASD.xlsx\", header = 12,\n",
    "                       usecols = 'G, H, I, J, K, M, N, V, W, X, Y, Z, AA, AB, AK, AL, AM, AN')\n",
    "NH_ASD_raw.columns = ['First Name', 'Last Name', 'town1', 'state1', 'occupation1', '6p_Dollar', '6p_Cents',\n",
    "                      'First Name.1', 'Last Name.1', 'town2', 'state2', 'occupation2', '6p_def_Dollar', '6p_def_Cents',\n",
    "                      'First Name.2', 'Last Name.2', '3p_Dollar', '3p_Cents']\n",
    "# unify occupation, town and state columns\n",
    "NH_ASD, change_df = combineCols(NH_ASD_raw, 2)\n",
    "NH_ASD.loc[NH_ASD.query('state.isna()').index, 'state'] = 'NH'\n",
    "ASD_all = pd.concat([ASD_all, NH_ASD])\n",
    "change_df"
   ],
   "metadata": {
    "collapsed": false,
    "pycharm": {
     "name": "#%%\n"
    }
   }
  },
  {
   "cell_type": "markdown",
   "source": [
    "### New York\n",
    "Doesn't have town/occupation/state"
   ],
   "metadata": {
    "collapsed": false,
    "pycharm": {
     "name": "#%% md\n"
    }
   }
  },
  {
   "cell_type": "markdown",
   "source": [
    "### Pennsylvania"
   ],
   "metadata": {
    "collapsed": false,
    "pycharm": {
     "name": "#%% md\n"
    }
   }
  },
  {
   "cell_type": "code",
   "execution_count": 43,
   "outputs": [
    {
     "name": "stdout",
     "output_type": "stream",
     "text": [
      "town column has multiple unique entries\n",
      "see table at end for new entries\n",
      "reformatting state\n",
      "occupation column has multiple unique entries\n",
      "see table at end for new entries\n"
     ]
    },
    {
     "data": {
      "text/plain": "                                                    old  \\\n14                    {Carlisle Pennsylvania, Carlisle}   \n39                           {Connecticut, Conecticutt}   \n40            {Newcastle Delaware, New Castle Delaware}   \n113                 {Philadelphia County, Philadelphia}   \n131              {State of Delaware, State of Delawere}   \n...                                                 ...   \n1143                                {Merchant, Esquire}   \n1181                          {Shop Keeper, Shopkeeper}   \n1200  {in trust for the Estate of Robert Dill, Trust...   \n1224  {Administrator to the Estate of William Barrel...   \n1259  {In trust for Jacobus Van Eis of Somerset Coun...   \n\n                                                    new        type  \n14                                Carlisle Pennsylvania        town  \n39                                          Connecticut        town  \n40                                  New Castle Delaware        town  \n113                                 Philadelphia County        town  \n131                                   State of Delaware        town  \n...                                                 ...         ...  \n1143                                           Merchant  occupation  \n1181                                        Shop Keeper  occupation  \n1200             in trust for the Estate of Robert Dill  occupation  \n1224  Administrator to the Estate of William Barrell...  occupation  \n1259  In trust for Jacobus Van Eis of Somerset Count...  occupation  \n\n[114 rows x 3 columns]",
      "text/html": "<div>\n<style scoped>\n    .dataframe tbody tr th:only-of-type {\n        vertical-align: middle;\n    }\n\n    .dataframe tbody tr th {\n        vertical-align: top;\n    }\n\n    .dataframe thead th {\n        text-align: right;\n    }\n</style>\n<table border=\"1\" class=\"dataframe\">\n  <thead>\n    <tr style=\"text-align: right;\">\n      <th></th>\n      <th>old</th>\n      <th>new</th>\n      <th>type</th>\n    </tr>\n  </thead>\n  <tbody>\n    <tr>\n      <th>14</th>\n      <td>{Carlisle Pennsylvania, Carlisle}</td>\n      <td>Carlisle Pennsylvania</td>\n      <td>town</td>\n    </tr>\n    <tr>\n      <th>39</th>\n      <td>{Connecticut, Conecticutt}</td>\n      <td>Connecticut</td>\n      <td>town</td>\n    </tr>\n    <tr>\n      <th>40</th>\n      <td>{Newcastle Delaware, New Castle Delaware}</td>\n      <td>New Castle Delaware</td>\n      <td>town</td>\n    </tr>\n    <tr>\n      <th>113</th>\n      <td>{Philadelphia County, Philadelphia}</td>\n      <td>Philadelphia County</td>\n      <td>town</td>\n    </tr>\n    <tr>\n      <th>131</th>\n      <td>{State of Delaware, State of Delawere}</td>\n      <td>State of Delaware</td>\n      <td>town</td>\n    </tr>\n    <tr>\n      <th>...</th>\n      <td>...</td>\n      <td>...</td>\n      <td>...</td>\n    </tr>\n    <tr>\n      <th>1143</th>\n      <td>{Merchant, Esquire}</td>\n      <td>Merchant</td>\n      <td>occupation</td>\n    </tr>\n    <tr>\n      <th>1181</th>\n      <td>{Shop Keeper, Shopkeeper}</td>\n      <td>Shop Keeper</td>\n      <td>occupation</td>\n    </tr>\n    <tr>\n      <th>1200</th>\n      <td>{in trust for the Estate of Robert Dill, Trust...</td>\n      <td>in trust for the Estate of Robert Dill</td>\n      <td>occupation</td>\n    </tr>\n    <tr>\n      <th>1224</th>\n      <td>{Administrator to the Estate of William Barrel...</td>\n      <td>Administrator to the Estate of William Barrell...</td>\n      <td>occupation</td>\n    </tr>\n    <tr>\n      <th>1259</th>\n      <td>{In trust for Jacobus Van Eis of Somerset Coun...</td>\n      <td>In trust for Jacobus Van Eis of Somerset Count...</td>\n      <td>occupation</td>\n    </tr>\n  </tbody>\n</table>\n<p>114 rows × 3 columns</p>\n</div>"
     },
     "execution_count": 43,
     "metadata": {},
     "output_type": "execute_result"
    }
   ],
   "source": [
    "#prepare loan dataset\n",
    "PA_CD_raw = pd.read_excel(\"../../Data/Post1790/PA/PA_post1790_CD.xlsx\",\n",
    "                      header = 11, usecols = 'G, H, I, J, K, L, M, U, V, W, X, Y, Z, AA, AJ, AK, AL, AM, AN, AO, AP')\n",
    "PA_CD_raw.columns = ['First Name', 'Last Name', 'town1', 'state1', 'occupation1', '6p_Dollar', '6p_Cents',\n",
    "                 'First Name.1', 'Last Name.1', 'town2', 'state2', 'occupation2', '6p_def_Dollar', '6p_def_Cents',\n",
    "                 'First Name.2', 'Last Name.2', 'town3', 'state3', 'occupation3', '3p_Dollar', '3p_Cents', ]\n",
    "# unify occupation, town and state columns\n",
    "PA_CD, change_df = combineCols(PA_CD_raw)\n",
    "PA_CD.loc[PA_CD.query('state.isna()').index, 'state'] = 'PA'\n",
    "CD_all = pd.concat([CD_all, PA_CD])\n",
    "change_df"
   ],
   "metadata": {
    "collapsed": false,
    "pycharm": {
     "name": "#%%\n"
    }
   }
  },
  {
   "cell_type": "markdown",
   "source": [
    "### Rhode Island"
   ],
   "metadata": {
    "collapsed": false,
    "pycharm": {
     "name": "#%% md\n"
    }
   }
  },
  {
   "cell_type": "code",
   "execution_count": 44,
   "outputs": [
    {
     "name": "stdout",
     "output_type": "stream",
     "text": [
      "town column has multiple unique entries\n",
      "see table at end for new entries\n",
      "reformatting state\n",
      "reformatting occupation\n"
     ]
    },
    {
     "data": {
      "text/plain": "                                   old              new  type\n26             {Gloucester, Glocester}       Gloucester  town\n371          {Charlestown, Chalestown}      Charlestown  town\n435  {North Kingstone, North Kingston}  North Kingstone  town\n462  {North Kingston, North Kingstown}  North Kingstown  town\n499           {Smithfeild, Smithfield}       Smithfeild  town",
      "text/html": "<div>\n<style scoped>\n    .dataframe tbody tr th:only-of-type {\n        vertical-align: middle;\n    }\n\n    .dataframe tbody tr th {\n        vertical-align: top;\n    }\n\n    .dataframe thead th {\n        text-align: right;\n    }\n</style>\n<table border=\"1\" class=\"dataframe\">\n  <thead>\n    <tr style=\"text-align: right;\">\n      <th></th>\n      <th>old</th>\n      <th>new</th>\n      <th>type</th>\n    </tr>\n  </thead>\n  <tbody>\n    <tr>\n      <th>26</th>\n      <td>{Gloucester, Glocester}</td>\n      <td>Gloucester</td>\n      <td>town</td>\n    </tr>\n    <tr>\n      <th>371</th>\n      <td>{Charlestown, Chalestown}</td>\n      <td>Charlestown</td>\n      <td>town</td>\n    </tr>\n    <tr>\n      <th>435</th>\n      <td>{North Kingstone, North Kingston}</td>\n      <td>North Kingstone</td>\n      <td>town</td>\n    </tr>\n    <tr>\n      <th>462</th>\n      <td>{North Kingston, North Kingstown}</td>\n      <td>North Kingstown</td>\n      <td>town</td>\n    </tr>\n    <tr>\n      <th>499</th>\n      <td>{Smithfeild, Smithfield}</td>\n      <td>Smithfeild</td>\n      <td>town</td>\n    </tr>\n  </tbody>\n</table>\n</div>"
     },
     "execution_count": 44,
     "metadata": {},
     "output_type": "execute_result"
    }
   ],
   "source": [
    "#prepare loan dataset\n",
    "RI_CD_raw = pd.read_excel(\"../../Data/Post1790/RI/T653_Rhode_Island_CD.xlsx\",\n",
    "                      header = 11, usecols = 'G, H, I, J, K, L, M, U, V, W, X, Y, Z, AA, AI, AJ, AK, AL, AM, AN, AO')\n",
    "RI_CD_raw.columns = ['First Name', 'Last Name', 'town1', 'state1', 'occupation1', '6p_Dollar', '6p_Cents',\n",
    "                     'First Name.1', 'Last Name.1', 'town2', 'state2', 'occupation2', '6p_def_Dollar', '6p_def_Cents',\n",
    "                     'First Name.2', 'Last Name.2', 'town3', 'state3', 'occupation3', '3p_Dollar', '3p_Cents', ]\n",
    "RI_CD, change_df = combineCols(RI_CD_raw)\n",
    "RI_CD.loc[RI_CD.query('state.isna()').index, 'state'] = 'RI'\n",
    "CD_all = pd.concat([CD_all, RI_CD])\n",
    "change_df"
   ],
   "metadata": {
    "collapsed": false,
    "pycharm": {
     "name": "#%%\n"
    }
   }
  },
  {
   "cell_type": "code",
   "execution_count": 45,
   "outputs": [
    {
     "name": "stdout",
     "output_type": "stream",
     "text": [
      "reformatting town\n",
      "reformatting state\n",
      "reformatting occupation\n"
     ]
    },
    {
     "data": {
      "text/plain": "Empty DataFrame\nColumns: [old, new, type]\nIndex: []",
      "text/html": "<div>\n<style scoped>\n    .dataframe tbody tr th:only-of-type {\n        vertical-align: middle;\n    }\n\n    .dataframe tbody tr th {\n        vertical-align: top;\n    }\n\n    .dataframe thead th {\n        text-align: right;\n    }\n</style>\n<table border=\"1\" class=\"dataframe\">\n  <thead>\n    <tr style=\"text-align: right;\">\n      <th></th>\n      <th>old</th>\n      <th>new</th>\n      <th>type</th>\n    </tr>\n  </thead>\n  <tbody>\n  </tbody>\n</table>\n</div>"
     },
     "execution_count": 45,
     "metadata": {},
     "output_type": "execute_result"
    }
   ],
   "source": [
    "#prepare loan dataset\n",
    "RI_ASD_raw = pd.read_excel(\"../../Data/Post1790/RI/T653_Rhode_Island_ASD.xlsx\",\n",
    "                          header = 11, usecols = 'H, I, J, K, L, N, O, X, Y, Z, AA, AB, AD, AE, AN, AO, AP, AQ, AR, AT, AU')\n",
    "RI_ASD_raw.columns = ['First Name', 'Last Name', 'town1', 'state1', 'occupation1', '6p_Dollar', '6p_Cents',\n",
    "                     'First Name.1', 'Last Name.1', 'town2', 'state2', 'occupation2', '6p_def_Dollar', '6p_def_Cents',\n",
    "                     'First Name.2', 'Last Name.2', 'town3', 'state3', 'occupation3', '3p_Dollar', '3p_Cents', ]\n",
    "RI_ASD, change_df = combineCols(RI_ASD_raw)\n",
    "RI_ASD.loc[RI_ASD.query('state.isna()').index, 'state'] = 'RI'\n",
    "ASD_all = pd.concat([CD_all, RI_ASD])\n",
    "change_df"
   ],
   "metadata": {
    "collapsed": false,
    "pycharm": {
     "name": "#%%\n"
    }
   }
  },
  {
   "cell_type": "markdown",
   "source": [
    "### South Carolina"
   ],
   "metadata": {
    "collapsed": false,
    "pycharm": {
     "name": "#%% md\n"
    }
   }
  },
  {
   "cell_type": "code",
   "execution_count": 46,
   "outputs": [
    {
     "name": "stdout",
     "output_type": "stream",
     "text": [
      "town column has multiple unique entries\n",
      "see table at end for new entries\n",
      "reformatting state\n",
      "occupation column has multiple unique entries\n",
      "see table at end for new entries\n"
     ]
    },
    {
     "data": {
      "text/plain": "                                                   old  \\\n50                            {Camden, Camden Planter}   \n94                                   {Pee Dee, Peedee}   \n270                            {Long Cane, Long Cames}   \n292                           {Charlestom, Charleston}   \n45   {as Executor to John Couturier, as Executor to...   \n50   {as Executor Ely Kershaw, Planter as Executor ...   \n182          {Philip Hawkins, Executor Philip Hawkins}   \n256  {as Guardian to Mary Deborah L. Gowdey, Guardi...   \n305                  {Merchants, Charleston Merchants}   \n383              {Physician, Assignee of James Simons}   \n\n                                       new        type  \n50                          Camden Planter        town  \n94                                 Pee Dee        town  \n270                             Long Cames        town  \n292                             Charlestom        town  \n45           as Executor to John Couturier  occupation  \n50         Planter as Executor Ely Kershaw  occupation  \n182                Executor Philip Hawkins  occupation  \n256  as Guardian to Mary Deborah L. Gowdey  occupation  \n305                   Charleston Merchants  occupation  \n383               Assignee of James Simons  occupation  ",
      "text/html": "<div>\n<style scoped>\n    .dataframe tbody tr th:only-of-type {\n        vertical-align: middle;\n    }\n\n    .dataframe tbody tr th {\n        vertical-align: top;\n    }\n\n    .dataframe thead th {\n        text-align: right;\n    }\n</style>\n<table border=\"1\" class=\"dataframe\">\n  <thead>\n    <tr style=\"text-align: right;\">\n      <th></th>\n      <th>old</th>\n      <th>new</th>\n      <th>type</th>\n    </tr>\n  </thead>\n  <tbody>\n    <tr>\n      <th>50</th>\n      <td>{Camden, Camden Planter}</td>\n      <td>Camden Planter</td>\n      <td>town</td>\n    </tr>\n    <tr>\n      <th>94</th>\n      <td>{Pee Dee, Peedee}</td>\n      <td>Pee Dee</td>\n      <td>town</td>\n    </tr>\n    <tr>\n      <th>270</th>\n      <td>{Long Cane, Long Cames}</td>\n      <td>Long Cames</td>\n      <td>town</td>\n    </tr>\n    <tr>\n      <th>292</th>\n      <td>{Charlestom, Charleston}</td>\n      <td>Charlestom</td>\n      <td>town</td>\n    </tr>\n    <tr>\n      <th>45</th>\n      <td>{as Executor to John Couturier, as Executor to...</td>\n      <td>as Executor to John Couturier</td>\n      <td>occupation</td>\n    </tr>\n    <tr>\n      <th>50</th>\n      <td>{as Executor Ely Kershaw, Planter as Executor ...</td>\n      <td>Planter as Executor Ely Kershaw</td>\n      <td>occupation</td>\n    </tr>\n    <tr>\n      <th>182</th>\n      <td>{Philip Hawkins, Executor Philip Hawkins}</td>\n      <td>Executor Philip Hawkins</td>\n      <td>occupation</td>\n    </tr>\n    <tr>\n      <th>256</th>\n      <td>{as Guardian to Mary Deborah L. Gowdey, Guardi...</td>\n      <td>as Guardian to Mary Deborah L. Gowdey</td>\n      <td>occupation</td>\n    </tr>\n    <tr>\n      <th>305</th>\n      <td>{Merchants, Charleston Merchants}</td>\n      <td>Charleston Merchants</td>\n      <td>occupation</td>\n    </tr>\n    <tr>\n      <th>383</th>\n      <td>{Physician, Assignee of James Simons}</td>\n      <td>Assignee of James Simons</td>\n      <td>occupation</td>\n    </tr>\n  </tbody>\n</table>\n</div>"
     },
     "execution_count": 46,
     "metadata": {},
     "output_type": "execute_result"
    }
   ],
   "source": [
    "#prepare loan dataset\n",
    "SC_CD_raw = pd.read_excel(\"../../Data/Post1790/SC/Post_1790_South_Carolina_CD.xlsx\",\n",
    "                      header = 11, usecols = 'D, E, F, G, H, M, N, S, T, U, V, W, AB, AC, AH, AI, AJ, AK, AL, AQ, AR')\n",
    "SC_CD_raw.columns = ['First Name', 'Last Name', 'town1', 'state1', 'occupation1', '6p_Dollar', '6p_Cents',\n",
    "                 'First Name.1', 'Last Name.1', 'town2', 'state2', 'occupation2', '6p_def_Dollar', '6p_def_Cents',\n",
    "                 'First Name.2', 'Last Name.2', 'town3', 'state3', 'occupation3', '3p_Dollar', '3p_Cents', ]\n",
    "SC_CD, change_df = combineCols(SC_CD_raw)\n",
    "SC_CD.loc[SC_CD.query('state.isna()').index, 'state'] = 'SC'\n",
    "CD_all = pd.concat([CD_all, SC_CD])\n",
    "change_df"
   ],
   "metadata": {
    "collapsed": false,
    "pycharm": {
     "name": "#%%\n"
    }
   }
  },
  {
   "cell_type": "code",
   "execution_count": 47,
   "outputs": [],
   "source": [
    "#prepare loan dataset\n",
    "SC_ASD_raw = pd.read_excel(\"../../Data/Post1790/SC/Post_1790_South_Carolina_ASD_transfers_removed.xlsx\", header = 11,\n",
    "                       usecols = 'D, E, F, G, H, M, N, O')\n",
    "SC_ASD_raw.columns = ['First Name', 'Last Name', 'town', 'state', 'occupation', '6p_Dollar', '6p_def_Dollar','3p_Dollar']\n",
    "for col in ['6p_', '6p_def_', '3p_']:\n",
    "    SC_ASD_raw[col+'Cents'] = SC_ASD_raw[col+'Dollar'] - np.round(SC_ASD_raw[col+'Dollar'], 0)\n",
    "    SC_ASD_raw[col+'Dollar'] = np.round(SC_ASD_raw['6p_Dollar'], 0)\n",
    "SC_ASD = SC_ASD_raw[['6p_Dollar', '6p_Cents', '6p_def_Dollar', '6p_def_Cents', '3p_Dollar', '3p_Cents',\n",
    "                     'town', 'state', 'occupation']]\n",
    "SC_ASD.loc[SC_ASD.query('state.isna()').index, 'state'] = 'SC'\n",
    "ASD_all = pd.concat([ASD_all, SC_ASD])"
   ],
   "metadata": {
    "collapsed": false,
    "pycharm": {
     "name": "#%%\n"
    }
   }
  },
  {
   "cell_type": "markdown",
   "source": [
    "### Virginia"
   ],
   "metadata": {
    "collapsed": false,
    "pycharm": {
     "name": "#%% md\n"
    }
   }
  },
  {
   "cell_type": "code",
   "execution_count": 48,
   "outputs": [
    {
     "data": {
      "text/plain": "'\\nVA CD not possible atm\\n'"
     },
     "execution_count": 48,
     "metadata": {},
     "output_type": "execute_result"
    }
   ],
   "source": [
    "\"\"\"\n",
    "VA CD not possible atm\n",
    "\"\"\""
   ],
   "metadata": {
    "collapsed": false,
    "pycharm": {
     "name": "#%%\n"
    }
   }
  },
  {
   "cell_type": "code",
   "execution_count": 49,
   "outputs": [
    {
     "name": "stdout",
     "output_type": "stream",
     "text": [
      "town column has multiple unique entries\n",
      "see table at end for new entries\n",
      "reformatting state\n",
      "occupation column has multiple unique entries\n",
      "see table at end for new entries\n"
     ]
    },
    {
     "name": "stderr",
     "output_type": "stream",
     "text": [
      "/var/folders/5s/dvrxt95949x1pm_sjxm85lj00000gn/T/ipykernel_37943/1460212957.py:11: SettingWithCopyWarning: \n",
      "A value is trying to be set on a copy of a slice from a DataFrame.\n",
      "Try using .loc[row_indexer,col_indexer] = value instead\n",
      "\n",
      "See the caveats in the documentation: https://pandas.pydata.org/pandas-docs/stable/user_guide/indexing.html#returning-a-view-versus-a-copy\n",
      "  VA_ASD.loc[VA_ASD.query('state.isna()').index, 'state'] = 'SC'\n"
     ]
    },
    {
     "data": {
      "text/plain": "                                                   old  \\\n0            {The Town Petersburg, Town of Petersburg}   \n1                         {Richmond, City of Richmond}   \n2                {Dinwiddie Country, Dinwiddie County}   \n3    {The Town Petersburg, Town of Petersburg, Town...   \n4                     {Halifox County, Halifax County}   \n..                                                 ...   \n743        {In trust & co I Ball, In trust for J Ball}   \n777  {Trust for Geo Morrison, In trust for George M...   \n831  {In trust for Jn Robinson, In trust for J Robi...   \n875  {Executors James Minor, Exec James Minor Louis...   \n905  {Adm of McKenne Sumner, Administrator of McKen...   \n\n                                     new        type  \n0                    The Town Petersburg        town  \n1                       City of Richmond        town  \n2                      Dinwiddie Country        town  \n3                    The Town Petersburg        town  \n4                         Halifox County        town  \n..                                   ...         ...  \n743                 In trust & co I Ball  occupation  \n777  In trust for George Morrison London  occupation  \n831          In trust for Jn Robinson RB  occupation  \n875           Exec James Minor Louisa Co  occupation  \n905     Administrator of McKennie Sumner  occupation  \n\n[380 rows x 3 columns]",
      "text/html": "<div>\n<style scoped>\n    .dataframe tbody tr th:only-of-type {\n        vertical-align: middle;\n    }\n\n    .dataframe tbody tr th {\n        vertical-align: top;\n    }\n\n    .dataframe thead th {\n        text-align: right;\n    }\n</style>\n<table border=\"1\" class=\"dataframe\">\n  <thead>\n    <tr style=\"text-align: right;\">\n      <th></th>\n      <th>old</th>\n      <th>new</th>\n      <th>type</th>\n    </tr>\n  </thead>\n  <tbody>\n    <tr>\n      <th>0</th>\n      <td>{The Town Petersburg, Town of Petersburg}</td>\n      <td>The Town Petersburg</td>\n      <td>town</td>\n    </tr>\n    <tr>\n      <th>1</th>\n      <td>{Richmond, City of Richmond}</td>\n      <td>City of Richmond</td>\n      <td>town</td>\n    </tr>\n    <tr>\n      <th>2</th>\n      <td>{Dinwiddie Country, Dinwiddie County}</td>\n      <td>Dinwiddie Country</td>\n      <td>town</td>\n    </tr>\n    <tr>\n      <th>3</th>\n      <td>{The Town Petersburg, Town of Petersburg, Town...</td>\n      <td>The Town Petersburg</td>\n      <td>town</td>\n    </tr>\n    <tr>\n      <th>4</th>\n      <td>{Halifox County, Halifax County}</td>\n      <td>Halifox County</td>\n      <td>town</td>\n    </tr>\n    <tr>\n      <th>...</th>\n      <td>...</td>\n      <td>...</td>\n      <td>...</td>\n    </tr>\n    <tr>\n      <th>743</th>\n      <td>{In trust &amp; co I Ball, In trust for J Ball}</td>\n      <td>In trust &amp; co I Ball</td>\n      <td>occupation</td>\n    </tr>\n    <tr>\n      <th>777</th>\n      <td>{Trust for Geo Morrison, In trust for George M...</td>\n      <td>In trust for George Morrison London</td>\n      <td>occupation</td>\n    </tr>\n    <tr>\n      <th>831</th>\n      <td>{In trust for Jn Robinson, In trust for J Robi...</td>\n      <td>In trust for Jn Robinson RB</td>\n      <td>occupation</td>\n    </tr>\n    <tr>\n      <th>875</th>\n      <td>{Executors James Minor, Exec James Minor Louis...</td>\n      <td>Exec James Minor Louisa Co</td>\n      <td>occupation</td>\n    </tr>\n    <tr>\n      <th>905</th>\n      <td>{Adm of McKenne Sumner, Administrator of McKen...</td>\n      <td>Administrator of McKennie Sumner</td>\n      <td>occupation</td>\n    </tr>\n  </tbody>\n</table>\n<p>380 rows × 3 columns</p>\n</div>"
     },
     "execution_count": 49,
     "metadata": {},
     "output_type": "execute_result"
    }
   ],
   "source": [
    "#prepare loan dataset\n",
    "VA_ASD_raw = pd.read_excel(\"../../Data/Post1790/VA/VA_ASD.xlsx\", header = 11,\n",
    "                       usecols = 'D, E, F, G, N, O, U, V, W, X, AE, AF, AL, AM, AN, AO, AW, AX')\n",
    "VA_ASD_raw.columns = ['First Name', 'Last Name', 'town1', 'occupation1', '6p_Dollar', '6p_Cents',\n",
    "                  'First Name.1', 'Last Name.1', 'town2', 'occupation2', '6p_def_Dollar', '6p_def_Cents',\n",
    "                  'First Name.2', 'Last Name.2', 'town3', 'occupation3', '3p_Dollar', '3p_Cents']\n",
    "VA_ASD_raw['state1'] = np.nan\n",
    "VA_ASD_raw['state2'] = np.nan\n",
    "VA_ASD_raw['state3'] = np.nan\n",
    "VA_ASD, change_df = combineCols(VA_ASD_raw)\n",
    "VA_ASD.loc[VA_ASD.query('state.isna()').index, 'state'] = 'SC'\n",
    "ASD_all = pd.concat([ASD_all, VA_ASD])\n",
    "change_df"
   ],
   "metadata": {
    "collapsed": false,
    "pycharm": {
     "name": "#%%\n"
    }
   }
  },
  {
   "cell_type": "markdown",
   "source": [
    "## Mapping Town/City to Counties - INCOMPLETE\n",
    "1. Connecticut: Referencing <a href = \"https://ctstatelibrary.org/cttowns/counties\">https://ctstatelibrary.org/cttowns/counties</a> I found that Huntington is now called Shelton and Chatham is now called East Hampton. The other two cases below are not mappable because those are not valid town names.\n",
    "2. Georgia: Investigate more, very few counties"
   ],
   "metadata": {
    "collapsed": false,
    "pycharm": {
     "name": "#%% md\n"
    }
   }
  },
  {
   "cell_type": "code",
   "execution_count": 50,
   "outputs": [],
   "source": [
    "# fuzzy string matching function\n",
    "def fuzzyMatch(unmatched_towns, towns, crosswalk, primary_dict, dict_matchcol = 'primary_city', initial = True, score_threshold = 85):\n",
    "    if initial:\n",
    "        print(\"\\nFuzzy City name - county matches\\n\")\n",
    "    else:\n",
    "        print(\"\\nFuzzy City name - county matches with string changes\\n\")\n",
    "    printedtowns = []\n",
    "    for town in unmatched_towns:\n",
    "        # extract best match\n",
    "        match_tuple = process.extractOne(town, [x for x in crosswalk[dict_matchcol] if not pd.isnull(x)])\n",
    "        score = match_tuple[1]\n",
    "        match = match_tuple[0]\n",
    "        # if match above threshold, change + print match so we can hand check\n",
    "        if score >= score_threshold:\n",
    "            if dict_matchcol == 'primary_city':\n",
    "                county = primary_dict[match]\n",
    "            if dict_matchcol == 'county':\n",
    "                county = match\n",
    "            # add match, print out match\n",
    "            if initial:\n",
    "                print(\"{} -> {} in {}\".format(town, match, county))\n",
    "                town_index = towns[towns['town'] == town].index\n",
    "                towns.loc[town_index, 'county'] = county\n",
    "            else:\n",
    "                original_town = towns[towns['town2'] == town]['town'].tolist()\n",
    "                if town not in printedtowns:\n",
    "                    print(\"{} (new name: {}) -> {} in {}\".format(original_town, town, match, county))\n",
    "                    printedtowns.append(town)\n",
    "                town_index = towns[towns['town'].apply(lambda x: x in original_town)].index\n",
    "                towns.loc[town_index, 'county'] = [county] * len(town_index)\n",
    "    return towns"
   ],
   "metadata": {
    "collapsed": false,
    "pycharm": {
     "name": "#%%\n"
    }
   }
  },
  {
   "cell_type": "code",
   "execution_count": 51,
   "outputs": [],
   "source": [
    "def directTownMatch(state_cw, towns, col = 'primary_city', towncol = 'town'):\n",
    "    print(\"Direct City name - county matches\\n\")\n",
    "    # match towns directly based off crosswalk\n",
    "    primary_dict = dict(zip(state_cw[col],state_cw['county']))\n",
    "    if col == 'primary_city':\n",
    "        towns['county'] = towns[towncol].apply(lambda x: primary_dict.get(x, np.nan))\n",
    "    if col == 'acceptable_cities':\n",
    "        for ind in towns.index:\n",
    "            town = towns.loc[ind, 'town']\n",
    "            county = state_cw[state_cw[col].apply(lambda x: town in x if not pd.isnull(x) else False)]['county'].tolist()\n",
    "            if len(county)>0:\n",
    "                towns.loc[ind, 'county'] = county[0]\n",
    "    t = towns[towns['county'].apply(lambda x: not pd.isnull(x))]\n",
    "    if towncol == 'town':\n",
    "        for tn, cty in zip(t['town'], t['county']):\n",
    "            print(\"{} was matched to {} directly using the crosswalk\".format(tn, cty))\n",
    "    if towncol == 'town2':\n",
    "        for tn, tn_og, cty in zip(t['town2'], t['town'], t['county']):\n",
    "            print(\"{} (original: {}) was matched to {} directly using the crosswalk\".format(tn, tn_og, cty))\n",
    "    return primary_dict, towns"
   ],
   "metadata": {
    "collapsed": false,
    "pycharm": {
     "name": "#%%\n"
    }
   }
  },
  {
   "cell_type": "code",
   "execution_count": 52,
   "outputs": [],
   "source": [
    "def directCountyMatch(state_cw, towns, towncol = 'town'):\n",
    "    print(\"\\nSome city names are actually county names\")\n",
    "    if towncol == 'town':\n",
    "        print(\"Direct City (county) name - county matches\\n\")\n",
    "    if towncol == 'town2':\n",
    "        print(\"Direct City (county) name with string changes - county matches\\n\")\n",
    "    # some own names are actually counties\n",
    "    # match towns based off whether town name is actually county name in crosswalk\n",
    "    counties = state_cw['county'].unique()\n",
    "    nanindex = towns[towns['county'].apply(lambda x: pd.isnull(x))].index\n",
    "    towns.loc[nanindex, 'county'] = towns.loc[nanindex, towncol].apply(lambda x: x if x in counties.tolist() else np.nan)\n",
    "    towns2 = towns.loc[nanindex]\n",
    "    nanindex2 = towns2[towns2['county'].apply(lambda x: not pd.isnull(x))].index\n",
    "    for t, c in zip(towns2.loc[nanindex2, towncol], towns2.loc[nanindex2, 'county']):\n",
    "        print(\"{} was matched to {} using the crosswalk\".format(t, c))\n",
    "    return towns"
   ],
   "metadata": {
    "collapsed": false,
    "pycharm": {
     "name": "#%%\n"
    }
   }
  },
  {
   "cell_type": "code",
   "execution_count": 53,
   "outputs": [],
   "source": [
    "# change column of town dataframe's type to either town or county\n",
    "def addType(towns, type = 'town'):\n",
    "    towns['name_type'] = [name_type if not pd.isnull(name_type) else type if not pd.isnull(county) else np.nan for name_type, county in\n",
    "                          zip(towns['name_type'], towns['county'])]\n",
    "    return towns"
   ],
   "metadata": {
    "collapsed": false,
    "pycharm": {
     "name": "#%%\n"
    }
   }
  },
  {
   "cell_type": "code",
   "execution_count": 54,
   "outputs": [],
   "source": [
    "city_county_cw = pd.read_excel('../../Data/CensusData/zip_code_database.xls')[['primary_city', 'acceptable_cities',\n",
    "                                                                               'unacceptable_cities', 'county', 'state']]"
   ],
   "metadata": {
    "collapsed": false,
    "pycharm": {
     "name": "#%%\n"
    }
   }
  },
  {
   "cell_type": "code",
   "execution_count": 55,
   "outputs": [
    {
     "name": "stdout",
     "output_type": "stream",
     "text": [
      "\n",
      "CT MATCHING \n",
      "\n",
      "Direct City name - county matches\n",
      "\n",
      "Hartford was matched to Hartford County directly using the crosswalk\n",
      "Bolton was matched to Tolland County directly using the crosswalk\n",
      "Wethersfield was matched to Hartford County directly using the crosswalk\n",
      "New Haven was matched to New Haven County directly using the crosswalk\n",
      "Farmington was matched to Hartford County directly using the crosswalk\n",
      "New London was matched to New London County directly using the crosswalk\n",
      "Cornwall was matched to Litchfield County directly using the crosswalk\n",
      "Stamford was matched to Fairfield County directly using the crosswalk\n",
      "East Hartford was matched to Hartford County directly using the crosswalk\n",
      "Bristol was matched to Hartford County directly using the crosswalk\n",
      "Lebanon was matched to New London County directly using the crosswalk\n",
      "Windsor was matched to Hartford County directly using the crosswalk\n",
      "Suffield was matched to Hartford County directly using the crosswalk\n",
      "Berlin was matched to Hartford County directly using the crosswalk\n",
      "Glastonbury was matched to Hartford County directly using the crosswalk\n",
      "Stafford was matched to Tolland County directly using the crosswalk\n",
      "Hebron was matched to Tolland County directly using the crosswalk\n",
      "Middletown was matched to Middlesex County directly using the crosswalk\n",
      "East Windsor was matched to Hartford County directly using the crosswalk\n",
      "Norwich was matched to New London County directly using the crosswalk\n",
      "Preston was matched to New London County directly using the crosswalk\n",
      "Sharon was matched to Litchfield County directly using the crosswalk\n",
      "Somers was matched to Tolland County directly using the crosswalk\n",
      "Goshen was matched to Litchfield County directly using the crosswalk\n",
      "Torrington was matched to Litchfield County directly using the crosswalk\n",
      "Watertown was matched to Litchfield County directly using the crosswalk\n",
      "Stonington was matched to New London County directly using the crosswalk\n",
      "Colchester was matched to New London County directly using the crosswalk\n",
      "Fairfield was matched to Fairfield County directly using the crosswalk\n",
      "Guilford was matched to New Haven County directly using the crosswalk\n",
      "Enfield was matched to Hartford County directly using the crosswalk\n",
      "Plainfield was matched to Windham County directly using the crosswalk\n",
      "Coventry was matched to Tolland County directly using the crosswalk\n",
      "Groton was matched to New London County directly using the crosswalk\n",
      "Bozrah was matched to New London County directly using the crosswalk\n",
      "Derby was matched to New Haven County directly using the crosswalk\n",
      "Woodstock was matched to Windham County directly using the crosswalk\n",
      "Windham was matched to Windham County directly using the crosswalk\n",
      "Stratford was matched to Fairfield County directly using the crosswalk\n",
      "Brooklyn was matched to Windham County directly using the crosswalk\n",
      "Haddam was matched to Middlesex County directly using the crosswalk\n",
      "Tolland was matched to Tolland County directly using the crosswalk\n",
      "Danbury was matched to Fairfield County directly using the crosswalk\n",
      "Newington was matched to Hartford County directly using the crosswalk\n",
      "Litchfield was matched to Litchfield County directly using the crosswalk\n",
      "Milford was matched to New Haven County directly using the crosswalk\n",
      "Pomfret was matched to Windham County directly using the crosswalk\n",
      "Killingworth was matched to Middlesex County directly using the crosswalk\n",
      "Granby was matched to Hartford County directly using the crosswalk\n",
      "Roxbury was matched to Litchfield County directly using the crosswalk\n",
      "New Hartford was matched to Litchfield County directly using the crosswalk\n",
      "East Haddam was matched to Middlesex County directly using the crosswalk\n",
      "Greenwich was matched to Fairfield County directly using the crosswalk\n",
      "New Milford was matched to Litchfield County directly using the crosswalk\n",
      "Canaan was matched to Litchfield County directly using the crosswalk\n",
      "Montville was matched to New London County directly using the crosswalk\n",
      "Norwalk was matched to Fairfield County directly using the crosswalk\n",
      "Canterbury was matched to Windham County directly using the crosswalk\n",
      "Branford was matched to New Haven County directly using the crosswalk\n",
      "Ashford was matched to Windham County directly using the crosswalk\n",
      "Willington was matched to Tolland County directly using the crosswalk\n",
      "Southbury was matched to New Haven County directly using the crosswalk\n",
      "North Haven was matched to New Haven County directly using the crosswalk\n",
      "Woodbury was matched to Litchfield County directly using the crosswalk\n",
      "Thompson was matched to Windham County directly using the crosswalk\n",
      "Hampton was matched to Windham County directly using the crosswalk\n",
      "Cheshire was matched to New Haven County directly using the crosswalk\n",
      "Voluntown was matched to New London County directly using the crosswalk\n",
      "Salisbury was matched to Litchfield County directly using the crosswalk\n",
      "Weston was matched to Fairfield County directly using the crosswalk\n",
      "Wallingford was matched to New Haven County directly using the crosswalk\n",
      "East Haven was matched to New Haven County directly using the crosswalk\n",
      "Ellington was matched to Tolland County directly using the crosswalk\n",
      "Durham was matched to Middlesex County directly using the crosswalk\n",
      "Waterbury was matched to New Haven County directly using the crosswalk\n",
      "Norfolk was matched to Litchfield County directly using the crosswalk\n",
      "Ridgefield was matched to Fairfield County directly using the crosswalk\n",
      "\n",
      "Fuzzy City name - county matches\n",
      "\n",
      "Lyme -> East Lyme in New London County\n",
      "Southhampton -> Hampton in Windham County\n",
      "Saybrook -> Old Saybrook in Middlesex County\n",
      "Mansfield -> Mansfield Center in Tolland County\n",
      "Northampton -> Hampton in Windham County\n",
      "Reading -> Redding in Fairfield County\n",
      "Symsbury -> Simsbury in Hartford County\n",
      "London -> New London in New London County\n",
      "Franklin -> North Franklin in New London County\n",
      "Cornwell -> Cornwall in Litchfield County\n",
      "Brooklyne -> Brooklyn in Windham County\n",
      "Stonnington -> Stonington in New London County\n",
      "Volentown -> Voluntown in New London County\n",
      "\n",
      "Fuzzy City name - county matches with string changes\n",
      "\n",
      "['Chatham'] (new name: East Hampton) -> East Hampton in Middlesex County\n",
      "['Huntington'] (new name: Shelton) -> Shelton in Fairfield County\n",
      "\n",
      "Final Unmatched Names\n",
      "\n",
      "Vermont was unable to be matched\n",
      "Connecticut was unable to be matched\n",
      "Connecticutt was unable to be matched\n",
      "\n",
      "GA MATCHING \n",
      "\n",
      "Direct City name - county matches\n",
      "\n",
      "Savannah was matched to Chatham County directly using the crosswalk\n",
      "Augusta was matched to Richmond County directly using the crosswalk\n",
      "\n",
      "Some city names are actually county names\n",
      "Direct City (county) name - county matches\n",
      "\n",
      "Effingham County was matched to Effingham County using the crosswalk\n",
      "Columbia County was matched to Columbia County using the crosswalk\n",
      "\n",
      "Final Unmatched Names\n",
      "\n",
      "State of Georgia was unable to be matched\n",
      "Georgia was unable to be matched\n",
      "\n",
      "MD MATCHING \n",
      "\n",
      "Direct City name - county matches\n",
      "\n",
      "Baltimore was matched to Baltimore County directly using the crosswalk\n",
      "Annapolis was matched to Anne Arundel County directly using the crosswalk\n",
      "Bladensburg was matched to Prince George's County directly using the crosswalk\n",
      "Cambridge was matched to Dorchester County directly using the crosswalk\n",
      "Frederick was matched to Frederick County directly using the crosswalk\n",
      "\n",
      "Some city names are actually county names\n",
      "Direct City (county) name with string changes - county matches\n",
      "\n",
      "Harford County was matched to Harford County using the crosswalk\n",
      "Baltimore County was matched to Baltimore County using the crosswalk\n",
      "Anne Arundel County was matched to Anne Arundel County using the crosswalk\n",
      "Frederick County was matched to Frederick County using the crosswalk\n",
      "Somerset County was matched to Somerset County using the crosswalk\n",
      "Caroline County was matched to Caroline County using the crosswalk\n",
      "Washington County was matched to Washington County using the crosswalk\n",
      "Kent County was matched to Kent County using the crosswalk\n",
      "Charles County was matched to Charles County using the crosswalk\n",
      "Montgomery County was matched to Montgomery County using the crosswalk\n",
      "Talbot County was matched to Talbot County using the crosswalk\n",
      "Calvert County was matched to Calvert County using the crosswalk\n",
      "Cecil County was matched to Cecil County using the crosswalk\n",
      "Dorchester County was matched to Dorchester County using the crosswalk\n",
      "Worcester County was matched to Worcester County using the crosswalk\n",
      "Allegany County was matched to Allegany County using the crosswalk\n",
      "Frederick County was matched to Frederick County using the crosswalk\n",
      "Montgomery County was matched to Montgomery County using the crosswalk\n",
      "Somerset County was matched to Somerset County using the crosswalk\n",
      "\n",
      "Fuzzy City name - county matches with string changes\n",
      "\n",
      "['Prince Georges County'] (new name: Prince Georges County) -> Prince George's County in Prince George's County\n",
      "['St Marys County'] (new name: St Marys County) -> St Mary's County in St Mary's County\n",
      "['Calver County'] (new name: Calver County) -> Calvert County in Calvert County\n",
      "['Queen Annes County'] (new name: Queen Annes County) -> Queen Anne's County in Queen Anne's County\n",
      "['Talbot'] (new name: Talbot) -> Talbot County in Talbot County\n",
      "['Fredrick Co Maryland'] (new name: Fredrick County) -> Frederick County in Frederick County\n",
      "\n",
      "Fuzzy City name - county matches with string changes\n",
      "\n",
      "['George Town'] (new name: George Town) -> Georgetown in Cecil County\n",
      "['Frederick Town'] (new name: Frederick Town) -> Frederick in Frederick County\n",
      "['Baltimore Town'] (new name: Baltimore Town) -> Baltimore in Baltimore County\n",
      "['Georges Town'] (new name: Georges Town) -> Georgetown in Cecil County\n",
      "['George town'] (new name: George town) -> Georgetown in Cecil County\n",
      "Baltimore City changed to Baltimore County\n",
      "\n",
      "Final Unmatched Names\n",
      "\n",
      "Maryland was unable to be matched\n",
      "Rotterdam was unable to be matched\n",
      "Doden Maryland was unable to be matched\n",
      "Isaac was unable to be matched\n",
      "London was unable to be matched\n",
      "\n",
      "NC MATCHING \n",
      "\n",
      "Direct City name - county matches\n",
      "\n",
      "Edenton was matched to Chowan County directly using the crosswalk\n",
      "Fayetteville was matched to Cumberland County directly using the crosswalk\n",
      "Wilmington was matched to New Hanover County directly using the crosswalk\n",
      "Salisbury was matched to Rowan County directly using the crosswalk\n",
      "Halifax was matched to Halifax County directly using the crosswalk\n",
      "Washington was matched to Beaufort County directly using the crosswalk\n",
      "Hillsborough was matched to Orange County directly using the crosswalk\n",
      "\n",
      "Some city names are actually county names\n",
      "Direct City (county) name - county matches\n",
      "\n",
      "Wayne County was matched to Wayne County using the crosswalk\n",
      "Rowan County was matched to Rowan County using the crosswalk\n",
      "Warren County was matched to Warren County using the crosswalk\n",
      "Perquimans County was matched to Perquimans County using the crosswalk\n",
      "Mecklenburg County was matched to Mecklenburg County using the crosswalk\n",
      "Edgecombe County was matched to Edgecombe County using the crosswalk\n",
      "Pitt County was matched to Pitt County using the crosswalk\n",
      "Currituck County was matched to Currituck County using the crosswalk\n",
      "Rockingham County was matched to Rockingham County using the crosswalk\n",
      "\n",
      "Fuzzy City name - county matches with string changes\n",
      "\n",
      "['Newbern'] (new name: Newbern) -> New Bern in Craven County\n",
      "['Tarborugh'] (new name: Tarboro) -> Tarboro in Edgecombe County\n",
      "['Murfrees Borough'] (new name: Murfrees Borough) -> Murfreesboro in Hertford County\n",
      "['Halifax', 'Halifax '] (new name: Halifax) -> Halifax in Halifax County\n",
      "\n",
      "Final Unmatched Names\n",
      "\n",
      "North Carolina was unable to be matched\n",
      "\n",
      "NH MATCHING \n",
      "\n",
      "Direct City name - county matches\n",
      "\n",
      "Portsmouth was matched to Rockingham County directly using the crosswalk\n",
      "Exeter was matched to Rockingham County directly using the crosswalk\n",
      "Deerfield was matched to Rockingham County directly using the crosswalk\n",
      "Greenland was matched to Rockingham County directly using the crosswalk\n",
      "Hampton was matched to Rockingham County directly using the crosswalk\n",
      "North Hampton was matched to Rockingham County directly using the crosswalk\n",
      "Newbury was matched to Merrimack County directly using the crosswalk\n",
      "Candia was matched to Rockingham County directly using the crosswalk\n",
      "Salem was matched to Rockingham County directly using the crosswalk\n",
      "Canterbury was matched to Merrimack County directly using the crosswalk\n",
      "New Castle was matched to Rockingham County directly using the crosswalk\n",
      "Pelham was matched to Hillsborough County directly using the crosswalk\n",
      "Concord was matched to Merrimack County directly using the crosswalk\n",
      "Barrington was matched to Strafford County directly using the crosswalk\n",
      "Tamworth was matched to Carroll County directly using the crosswalk\n",
      "Amherst was matched to Hillsborough County directly using the crosswalk\n",
      "Acworth was matched to Sullivan County directly using the crosswalk\n",
      "Somersworth was matched to Strafford County directly using the crosswalk\n",
      "Nottingham was matched to Rockingham County directly using the crosswalk\n",
      "Charlestown was matched to Sullivan County directly using the crosswalk\n",
      "Salisbury was matched to Merrimack County directly using the crosswalk\n",
      "Durham was matched to Strafford County directly using the crosswalk\n",
      "Hollis was matched to Hillsborough County directly using the crosswalk\n",
      "Dover was matched to Strafford County directly using the crosswalk\n",
      "Keene was matched to Cheshire County directly using the crosswalk\n",
      "Rye was matched to Rockingham County directly using the crosswalk\n",
      "Direct City name - county matches\n",
      "\n",
      "Kensington was matched to Rockingham County directly using the crosswalk\n",
      "London was matched to Rockingham County directly using the crosswalk\n",
      "Sandwich was matched to Carroll County directly using the crosswalk\n",
      "Pembroke was matched to Merrimack County directly using the crosswalk\n",
      "South Hampton was matched to Rockingham County directly using the crosswalk\n",
      "Hopkinton was matched to Merrimack County directly using the crosswalk\n",
      "Wakefield was matched to Carroll County directly using the crosswalk\n",
      "Alexandria was matched to Grafton County directly using the crosswalk\n",
      "\n",
      "Fuzzy City name - county matches with string changes\n",
      "\n",
      "['Charleston State of New Hampshire'] (new name: Charleston) -> Charlestown in Sullivan County\n",
      "['Portsmouth', 'Portsmouth New Hampshire'] (new name: Portsmouth) -> Portsmouth in Rockingham County\n",
      "['Merrimac'] (new name: Merrimac) -> Merrimack in Hillsborough County\n",
      "['Kingstown'] (new name: Kingstown) -> Kingston in Rockingham County\n",
      "['Marbury'] (new name: Marbury) -> Madbury in Strafford County\n",
      "['Gilmantown'] (new name: Gilmantown) -> Gilmanton in Belknap County\n",
      "['Newtown'] (new name: Newtown) -> Newton in Rockingham County\n",
      "['Londonberry'] (new name: Londonberry) -> Londonderry in Rockingham County\n",
      "['Newport in New Hampshire'] (new name: Newport in) -> Newport in Sullivan County\n",
      "\n",
      "Some city names are actually county names\n",
      "Direct City (county) name with string changes - county matches\n",
      "\n",
      "Rockingham County was matched to Rockingham County using the crosswalk\n",
      "\n",
      "Manual Match\n",
      "\n",
      "Brintwood was matched to Rockingham County\n",
      "Portsmouth New Hampshire was matched to Rockingham County\n",
      "\n",
      "Final Unmatched Names\n",
      "\n",
      "North Hampshire was unable to be matched\n",
      "State of New Hampshire was unable to be matched\n",
      "Glouster was unable to be matched\n",
      "York was unable to be matched\n",
      "Wells was unable to be matched\n",
      "\n",
      "NJ MATCHING \n",
      "\n",
      "Direct City name - county matches\n",
      "\n",
      "Cape May was matched to Cape May County directly using the crosswalk\n",
      "\n",
      "Fuzzy City name - county matches with string changes\n",
      "\n",
      "['Brunswick New Jersey'] (new name: Brunswick) -> New Brunswick in Middlesex County\n",
      "['Cape May New Jersey', 'Cape May'] (new name: Cape May) -> Cape May in Cape May County\n",
      "['Trenton New Jersey'] (new name: Trenton) -> Trenton in Mercer County\n",
      "['New Brunswick New Jersey'] (new name: New Brunswick) -> New Brunswick in Middlesex County\n",
      "['Mount Holley New Jersey'] (new name: Mount Holley) -> Mount Holly in Burlington County\n",
      "['Middlesex New Jersey'] (new name: Middlesex) -> Middlesex in Middlesex County\n",
      "['Princeton New Jersey'] (new name: Princeton) -> Princeton in Mercer County\n",
      "['Berlington New Jersey'] (new name: Berlington) -> Berlin in Camden County\n",
      "['Newton Township New Jersey'] (new name: Newton Township) -> Newton in Sussex County\n",
      "['Somerset County New Jersey'] (new name: Somerset County) -> Somerset in Somerset County\n",
      "\n",
      "Some city names are actually county names\n",
      "Direct City (county) name with string changes - county matches\n",
      "\n",
      "Monmouth County was matched to Monmouth County using the crosswalk\n",
      "\n",
      "Final Unmatched Names\n",
      "\n",
      "New Jersey was unable to be matched\n",
      "Huntington New Jersey was unable to be matched\n",
      "\n",
      "PA MATCHING \n",
      "\n",
      "Direct City name - county matches\n",
      "\n",
      "Philadelphia was matched to Philadelphia County directly using the crosswalk\n",
      "Lancaster was matched to Lancaster County directly using the crosswalk\n",
      "Reading was matched to Berks County directly using the crosswalk\n",
      "Bethlehem was matched to Northampton County directly using the crosswalk\n",
      "Montgomery was matched to Lycoming County directly using the crosswalk\n",
      "Chester was matched to Delaware County directly using the crosswalk\n",
      "Pittsburgh was matched to Allegheny County directly using the crosswalk\n",
      "\n",
      "Some city names are actually county names\n",
      "Direct City (county) name - county matches\n",
      "\n",
      "Philadelphia County was matched to Philadelphia County using the crosswalk\n",
      "Franklin County was matched to Franklin County using the crosswalk\n",
      "Chester County was matched to Chester County using the crosswalk\n",
      "Bucks County was matched to Bucks County using the crosswalk\n",
      "Montgomery County was matched to Montgomery County using the crosswalk\n",
      "Berks County was matched to Berks County using the crosswalk\n",
      "Dauphin County was matched to Dauphin County using the crosswalk\n",
      "Allegheny County was matched to Allegheny County using the crosswalk\n",
      "Westmoreland County was matched to Westmoreland County using the crosswalk\n",
      "Lancaster County was matched to Lancaster County using the crosswalk\n",
      "Northumberland County was matched to Northumberland County using the crosswalk\n",
      "Northampton County was matched to Northampton County using the crosswalk\n",
      "York County was matched to York County using the crosswalk\n",
      "Delaware County was matched to Delaware County using the crosswalk\n",
      "Bedford County was matched to Bedford County using the crosswalk\n",
      "Direct City name - county matches\n",
      "\n",
      "Armstrong was matched to Lycoming County directly using the crosswalk\n",
      "\n",
      "Some city names are actually county names\n",
      "Direct City (county) name with string changes - county matches\n",
      "\n",
      "Bucks County was matched to Bucks County using the crosswalk\n",
      "Delaware County was matched to Delaware County using the crosswalk\n",
      "Berks County was matched to Berks County using the crosswalk\n",
      "Chester County was matched to Chester County using the crosswalk\n",
      "Dauphin County was matched to Dauphin County using the crosswalk\n",
      "Allegheny County was matched to Allegheny County using the crosswalk\n",
      "Chester County was matched to Chester County using the crosswalk\n",
      "Berks County was matched to Berks County using the crosswalk\n",
      "Montgomery County was matched to Montgomery County using the crosswalk\n",
      "Franklin County was matched to Franklin County using the crosswalk\n",
      "Lancaster County was matched to Lancaster County using the crosswalk\n",
      "Berks County was matched to Berks County using the crosswalk\n",
      "Fayette County was matched to Fayette County using the crosswalk\n",
      "Delaware County was matched to Delaware County using the crosswalk\n",
      "Northampton County was matched to Northampton County using the crosswalk\n",
      "York County was matched to York County using the crosswalk\n",
      "Westmoreland County was matched to Westmoreland County using the crosswalk\n",
      "Franklin County was matched to Franklin County using the crosswalk\n",
      "Montgomery County was matched to Montgomery County using the crosswalk\n",
      "Northumberland County was matched to Northumberland County using the crosswalk\n",
      "\n",
      "Some city names are actually county names\n",
      "Direct City (county) name - county matches\n",
      "\n",
      "Direct City name - county matches\n",
      "\n",
      "\n",
      "Some city names are actually county names\n",
      "Direct City (county) name with string changes - county matches\n",
      "\n",
      "\n",
      "Fuzzy City name - county matches with string changes\n",
      "\n",
      "['Carlisle Pennsylvania'] (new name: Carlisle) -> Carlisle in Cumberland County\n",
      "['Germantown'] (new name: Germantown) -> New Germantown in Perry County\n",
      "['Westmoreland'] (new name: Westmoreland) -> Westmoreland City in Westmoreland County\n",
      "['Philadelphia', 'Blockley', 'Northan Liberties', 'Borden Town', 'Passyunk', 'Northern Liberties', 'German Town', 'The Northern Libert', 'Southwark'] (new name: Philadelphia) -> Philadelphia in Philadelphia County\n",
      "['Cumberland'] (new name: Cumberland) -> New Cumberland in Cumberland County\n",
      "['Reading', 'Reading Pennsylvania'] (new name: Reading) -> Reading in Berks County\n",
      "['Reading Berks County'] (new name: Reading Berks County) -> Reading in Berks County\n",
      "['County of Philadelphia'] (new name: County of Philadelphia) -> Philadelphia in Philadelphia County\n",
      "['York Town Pennsylvania', 'York Town'] (new name: York Town) -> York in York County\n",
      "['Lancaster', 'Lancaster Pennsylvania'] (new name: Lancaster) -> Lancaster in Lancaster County\n",
      "['The N Lib of Philadelphia'] (new name: The N Lib of Philadelphia) -> Philadelphia in Philadelphia County\n",
      "['Charleston South Carolina'] (new name: Charleston South Carolina) -> South Heights in Beaver County\n",
      "['Pittsburgh Pennsylvania', 'Pittsburgh'] (new name: Pittsburgh) -> Pittsburgh in Allegheny County\n",
      "['Chester County Pennsylvaina'] (new name: Chester County Pennsylvaina) -> Penn in Westmoreland County\n",
      "['Chambersburgh Pennsylvania'] (new name: Chambersburgh) -> Chambersburg in Franklin County\n",
      "['Frankford Philadelphia County'] (new name: Frankford Philadelphia County) -> Philadelphia in Philadelphia County\n",
      "['Dauphincoy Pennsylvania'] (new name: Dauphin) -> Dauphin in Dauphin County\n",
      "['Burlington New Jersey'] (new name: Burlington New Jersey) -> Burlington in Bradford County\n",
      "['Chester and County'] (new name: Chester and County) -> Chester in Delaware County\n",
      "['Dauphin and Company'] (new name: Dauphin and Company) -> Dauphin in Dauphin County\n",
      "['Hatter Philadelphia'] (new name: Hatter Philadelphia) -> Philadelphia in Philadelphia County\n",
      "['Kensington'] (new name: Kensington) -> New Kensington in Westmoreland County\n",
      "['Sunbury Pennsylvania'] (new name: Sunbury) -> Sunbury in Northumberland County\n",
      "['Church on Philadelphia'] (new name: Church on Philadelphia) -> Philadelphia in Philadelphia County\n",
      "['Newark'] (new name: Newark) -> New Park in York County\n",
      "['Philadelphila'] (new name: Philadelphila) -> Philadelphia in Philadelphia County\n",
      "['Northumberland County Virginia'] (new name: Northumberland County Virginia) -> Northumberland in Northumberland County\n",
      "['Paxton Tot Dauphin County'] (new name: Paxton Tot Dauphin County) -> Dauphin in Dauphin County\n",
      "\n",
      "Fuzzy City name - county matches with string changes\n",
      "\n",
      "['Northumb Country'] (new name: Northumb County) -> Elk County in Elk County\n",
      "['Northum County Pennsylvania'] (new name: Northum County) -> Northumberland County in Northumberland County\n",
      "['Cumb County Pennsylvania'] (new name: Cumb County) -> Washington County in Washington County\n",
      "\n",
      "Manual Match\n",
      "\n",
      "Charleston South Carolina was matched to Charleston County\n",
      "Burlington New Jersey was matched to Burlington County\n",
      "Northumberland County Virginia was matched to Northumberland County\n",
      "\n",
      "Fuzzy City name - county matches with string changes\n",
      "\n",
      "\n",
      "Fuzzy City name - county matches with string changes\n",
      "\n",
      "\n",
      "Manual Match\n",
      "\n",
      "Charleston South Carolina was matched to Charleston County\n",
      "Burlington New Jersey was matched to Burlington County\n",
      "Northumberland County Virginia was matched to Northumberland County\n",
      "\n",
      "Final Unmatched Names\n",
      "\n",
      "Pennsylvania was unable to be matched\n",
      "Barbadoes was unable to be matched\n",
      "Sta Croix was unable to be matched\n",
      "W Callisters Town was unable to be matched\n",
      "Maidenhead was unable to be matched\n",
      "St Eustatia was unable to be matched\n",
      "Kensignton was unable to be matched\n",
      "\n",
      "RI MATCHING \n",
      "\n",
      "Direct City name - county matches\n",
      "\n",
      "Providence was matched to Providence County directly using the crosswalk\n",
      "Little Compton was matched to Newport County directly using the crosswalk\n",
      "Warren was matched to Bristol County directly using the crosswalk\n",
      "East Greenwich was matched to Kent County directly using the crosswalk\n",
      "Johnston was matched to Providence County directly using the crosswalk\n",
      "Coventry was matched to Kent County directly using the crosswalk\n",
      "Newport was matched to Newport County directly using the crosswalk\n",
      "Cumberland was matched to Providence County directly using the crosswalk\n",
      "North Providence was matched to Providence County directly using the crosswalk\n",
      "Foster was matched to Providence County directly using the crosswalk\n",
      "Warwick was matched to Kent County directly using the crosswalk\n",
      "Bristol was matched to Bristol County directly using the crosswalk\n",
      "Smithfield was matched to Providence County directly using the crosswalk\n",
      "Barrington was matched to Bristol County directly using the crosswalk\n",
      "Cranston was matched to Providence County directly using the crosswalk\n",
      "Charlestown was matched to Washington County directly using the crosswalk\n",
      "West Greenwich was matched to Kent County directly using the crosswalk\n",
      "Portsmouth was matched to Newport County directly using the crosswalk\n",
      "Exeter was matched to Washington County directly using the crosswalk\n",
      "Tiverton was matched to Newport County directly using the crosswalk\n",
      "North Kingstown was matched to Washington County directly using the crosswalk\n",
      "\n",
      "Fuzzy City name - county matches with string changes\n",
      "\n",
      "['Newport State of Rhode Island', 'Newport'] (new name: Newport) -> Newport in Newport County\n",
      "['Scituate'] (new name: Scituate) -> North Scituate in Providence County\n",
      "['South Kingston'] (new name: South Kingston) -> Kingston in Washington County\n",
      "['South Kingstone'] (new name: South Kingstone) -> Kingston in Washington County\n",
      "['Johnson'] (new name: Johnson) -> Johnston in Providence County\n",
      "['North Kingston'] (new name: North Kingston) -> North Kingstown in Washington County\n",
      "['North Kingstone'] (new name: North Kingstone) -> North Kingstown in Washington County\n",
      "['Stoughton now of Providence'] (new name: Stoughton now  Providence) -> Providence in Providence County\n",
      "['Smithfeild'] (new name: Smithfeild) -> Smithfield in Providence County\n",
      "\n",
      "Manual Match\n",
      "\n",
      "Gloucester was matched to Providence County\n",
      "Richmond was matched to Washington County\n",
      "\n",
      "Final Unmatched Names\n",
      "\n",
      "Rhode Island was unable to be matched\n",
      "London was unable to be matched\n",
      "Springfield was unable to be matched\n",
      "\n",
      "SC MATCHING \n",
      "\n",
      "Direct City name - county matches\n",
      "\n",
      "Charleston was matched to Berkeley County directly using the crosswalk\n",
      "Georgetown was matched to Georgetown County directly using the crosswalk\n",
      "Camden was matched to Kershaw County directly using the crosswalk\n",
      "Columbia was matched to Richland County directly using the crosswalk\n",
      "Abbeville was matched to Abbeville County directly using the crosswalk\n",
      "Dorchester was matched to Dorchester County directly using the crosswalk\n",
      "Direct City name - county matches\n",
      "\n",
      "St Helena (original: St Helena) was matched to Beaufort County directly using the crosswalk\n",
      "\n",
      "Fuzzy City name - county matches with string changes\n",
      "\n",
      "['Charleston', 'Charleston  South Carolina', 'Charleston South Carolina'] (new name: Charleston) -> Charleston in Berkeley County\n",
      "['James Island'] (new name: James Island) -> Saint Helena Island in Beaufort County\n",
      "['Camden Planter'] (new name: Camden Planter) -> Camden in Kershaw County\n",
      "['St Johns'] (new name: St Johns) -> Johns Island in Charleston County\n",
      "['St Andrews'] (new name: St Andrews) -> Andrews in Georgetown County\n",
      "['96 District', 'Ninety six District'] (new name: Ninety six District) -> Ninety Six in Greenwood County\n",
      "['Charlestom'] (new name: Charlestom) -> Charleston in Berkeley County\n",
      "\n",
      "Fuzzy City name - county matches with string changes\n",
      "\n",
      "['Richard County'] (new name: Richard County) -> Richland County in Richland County\n",
      "St. Paul's was matched to Clarendon County\n",
      "Pee Dee was matched to Marion County\n",
      "St. George was matched to Dorchester County\n",
      "New River was matched to Beaufort County\n",
      "Winyaw was matched to Georgetown County\n",
      "Broad River was matched to Beaufort County\n",
      "Toogoodoo was matched to Charleston County\n",
      "St Pauls was matched to Clarendon County\n",
      "Savannah was matched to Chatham County\n",
      "James Island was matched to Charleston County\n",
      "St Andrews was matched to Richland County\n",
      "\n",
      "Final Unmatched Names\n",
      "\n",
      "South Carolina was unable to be matched\n",
      "Carolina was unable to be matched\n",
      "Richard Sennings was unable to be matched\n",
      "Long Cames was unable to be matched\n",
      "\n",
      "MA MATCHING \n",
      "\n",
      "Direct City name - county matches\n",
      "\n",
      "Boston was matched to Suffolk County directly using the crosswalk\n",
      "Springfield was matched to Hampden County directly using the crosswalk\n",
      "Pittsfield was matched to Berkshire County directly using the crosswalk\n",
      "Cambridge was matched to Middlesex County directly using the crosswalk\n",
      "Andover was matched to Essex County directly using the crosswalk\n",
      "Salem was matched to Essex County directly using the crosswalk\n",
      "Beverly was matched to Essex County directly using the crosswalk\n",
      "Ipswich was matched to Essex County directly using the crosswalk\n",
      "Rowley was matched to Essex County directly using the crosswalk\n",
      "Haverhill was matched to Essex County directly using the crosswalk\n",
      "Stoughton was matched to Norfolk County directly using the crosswalk\n",
      "Roxbury was matched to Suffolk County directly using the crosswalk\n",
      "Rehoboth was matched to Bristol County directly using the crosswalk\n",
      "Dighton was matched to Bristol County directly using the crosswalk\n",
      "Littleton was matched to Middlesex County directly using the crosswalk\n",
      "Sutton was matched to Worcester County directly using the crosswalk\n",
      "Ludlow was matched to Hampden County directly using the crosswalk\n",
      "Somerset was matched to Bristol County directly using the crosswalk\n",
      "Swansea was matched to Bristol County directly using the crosswalk\n",
      "Bridgewater was matched to Plymouth County directly using the crosswalk\n",
      "Dudley was matched to Worcester County directly using the crosswalk\n",
      "Westport was matched to Bristol County directly using the crosswalk\n",
      "Norton was matched to Bristol County directly using the crosswalk\n",
      "\n",
      "Fuzzy City name - county matches with string changes\n",
      "\n",
      "['Tyringham MA', 'Tyringham Massachusetts'] (new name: Tyringham) -> Tyringham in Berkshire County\n",
      "['Sturbridge MA'] (new name: Sturbridge) -> Sturbridge in Worcester County\n",
      "['Hadley Massachusetts'] (new name: Hadley) -> Hadley in Hampshire County\n",
      "['Boston state Massachusetts'] (new name: Boston state) -> Boston in Suffolk County\n",
      "['Worcester State Massachusetts'] (new name: Worcester) -> Worcester in Worcester County\n",
      "['Granby Massachusetts'] (new name: Granby) -> Granby in Hampshire County\n",
      "['Long Meadow Massachusetts'] (new name: Long Meadow) -> Longmeadow in Hampden County\n",
      "['Newbury Port'] (new name: Newbury Port) -> Newburyport in Essex County\n",
      "['Situate'] (new name: Situate) -> Scituate in Plymouth County\n",
      "['Almsbury'] (new name: Almsbury) -> Amesbury in Essex County\n",
      "['Cambridge', 'Cambridge Massachusetts'] (new name: Cambridge) -> Cambridge in Middlesex County\n",
      "['North Hampton'] (new name: North Hampton) -> Northampton in Hampshire County\n",
      "['Liecester'] (new name: Liecester) -> Leicester in Worcester County\n",
      "['Grafton Massachusetts'] (new name: Grafton) -> Grafton in Worcester County\n",
      "['Attleborough'] (new name: Attleborough) -> Attleboro in Bristol County\n",
      "['Falmouth Massachusetts'] (new name: Falmouth) -> Falmouth in Barnstable County\n",
      "['Chesterfield Massachusetts'] (new name: Chesterfield) -> Chesterfield in Hampshire County\n",
      "['Freetown'] (new name: Freetown) -> East Freetown in Bristol County\n",
      "\n",
      "Final Unmatched Names\n",
      "\n",
      "Kittery was unable to be matched\n",
      "Massachusetts was unable to be matched\n",
      "\n",
      "VA MATCHING \n",
      "\n",
      "Direct City name - county matches\n",
      "\n",
      "\n",
      "Fuzzy City name - county matches with string changes\n",
      "\n",
      "['Alexandria State of Virginia'] (new name: Alexandria  of) -> Alexandria in Fairfax County\n",
      "['Richmond Virginia'] (new name: Richmond) -> Richmond in Henrico County\n",
      "['Petersburg Virginia'] (new name: Petersburg) -> Petersburg in Grant County\n",
      "['Alexandria Virginia'] (new name: Alexandria) -> Alexandria in Fairfax County\n",
      "['Fredericksburg Virginia'] (new name: Fredericksburg) -> Fredericksburg in Spotsylvania County\n",
      "['Accomack County Virginia'] (new name: Accomack County) -> Accomac in Accomack County\n",
      "['King George Co Virginia'] (new name: King George Co) -> King George in King George County\n",
      "['James City County Virginia'] (new name: James City County) -> Chase City in Mecklenburg County\n",
      "['Virginia and Philadelphia'] (new name: and Philadelphia) -> King And Queen Court House in King and Queen County\n",
      "['Williamsburgh'] (new name: Williamsburgh) -> Williamsburg in Greenbrier County\n",
      "\n",
      "Fuzzy City name - county matches with string changes\n",
      "\n",
      "['Louden County Virginia'] (new name: Louden County) -> Loudoun County in Loudoun County\n",
      "['Ohio County Virginia'] (new name: Ohio County) -> Ohio County in Ohio County\n",
      "Portsmouth Virginia was matched to Norfolk County\n",
      "\n",
      "Final Unmatched Names\n",
      "\n",
      "Virginia was unable to be matched\n",
      "Virgina was unable to be matched\n",
      "\n",
      "DE MATCHING \n",
      "\n",
      "Direct City name - county matches\n",
      "\n",
      "\n",
      "Fuzzy City name - county matches with string changes\n",
      "\n",
      "['New Castle Delaware'] (new name: New Castle) -> New Castle in New Castle County\n",
      "['Delaware Newcastle County'] (new name: Newcastle County) -> New Castle in New Castle County\n",
      "['Wilmington Delaware'] (new name: Wilmington) -> Wilmington in New Castle County\n",
      "['New Castle County Delaware State'] (new name: New Castle County) -> New Castle in New Castle County\n",
      "\n",
      "Fuzzy City name - county matches with string changes\n",
      "\n",
      "['Kent Company Delaware'] (new name: Kent County) -> Kent County in Kent County\n",
      "\n",
      "Final Unmatched Names\n",
      "\n",
      "State of Delaware was unable to be matched\n",
      "Delaware State was unable to be matched\n"
     ]
    }
   ],
   "source": [
    "final_cw = pd.DataFrame(columns = ['town', 'county', 'state', 'name_type'])\n",
    "list_of_states = ['CT', 'GA', 'MD', 'NC', 'NH', 'NJ', 'PA', 'RI', 'SC',\n",
    "                  'MA', 'VA', 'DE']\n",
    "\n",
    "for state in list_of_states:\n",
    "    print(\"\\n{} MATCHING \\n\".format(state))\n",
    "    # create list of towns for each state\n",
    "    towns = CD_all[CD_all['state'] == state][['town']].drop_duplicates()\n",
    "    towns = towns[towns['town'].apply(lambda x: not pd.isnull(x))]\n",
    "    # state crosswalk\n",
    "    state_cw = city_county_cw[city_county_cw['state'] == state]\n",
    "    if state == 'VA':\n",
    "        state_cw = city_county_cw[city_county_cw['state'].apply(lambda x: x in ['VA', 'WV'])]\n",
    "    state_cw = state_cw[state_cw['county'].apply(lambda x: 'county' in x.lower() if not pd.isnull(x) else False)]\n",
    "    # try direct match: town name -> crosswalk town-county\n",
    "    oldtowns = towns.copy()\n",
    "    primary_dict, towns = directTownMatch(state_cw, towns, col = 'primary_city', towncol = 'town')\n",
    "    # label name type\n",
    "    towns['name_type'] = towns['county'].apply(lambda x: 'town' if not pd.isnull(x) else np.nan)\n",
    "\n",
    "    if state == 'CT':\n",
    "        # try fuzzy match: town name -> crosswalk town-county\n",
    "        unmatched_towns1 = towns[towns['county'].apply(lambda x: pd.isnull(x))]['town']\n",
    "        towns = fuzzyMatch(unmatched_towns1, towns, state_cw, primary_dict, dict_matchcol = 'primary_city', initial = True, score_threshold = 85)\n",
    "        towns = addType(towns)\n",
    "\n",
    "        # modify town names - towns changed names (see CT note)\n",
    "        # retry fuzzy match: town name -> crosswalk town-county\n",
    "        towns['town2'] = towns['town'].apply(lambda x: x.replace('Huntington', 'Shelton').replace('Chatham', 'East Hampton'))\n",
    "        unmatched_towns2 = towns[towns['county'].apply(lambda x: pd.isnull(x))]['town2']\n",
    "        towns = fuzzyMatch(unmatched_towns2, towns, state_cw, primary_dict, dict_matchcol ='primary_city', initial = False, score_threshold = 85)\n",
    "        towns = addType(towns)\n",
    "\n",
    "    if state == 'GA':\n",
    "        # some \"town\" names are actually counties\n",
    "        # try direct match: town (county) name -> crosswalk county\n",
    "        towns = directCountyMatch(state_cw, towns, towncol = 'town')\n",
    "        towns = addType(towns, 'county')\n",
    "    if state == 'MD':\n",
    "        # remove instances where Maryland is mentioned and unabbreviate county abbreviations\n",
    "        # use modified town names\n",
    "        # try direct match: town (county) name -> crosswalk county\n",
    "        towns['town2'] = towns['town'].apply(lambda x: x.replace('Maryland', '').replace('Co ', 'County').strip())\n",
    "        towns = directCountyMatch(state_cw, towns, towncol = 'town2')\n",
    "        towns = addType(towns, 'county')\n",
    "\n",
    "        # use modified town names\n",
    "        # try fuzzy match: town (county) name -> crosswalk county\n",
    "        unmatched_towns2 = towns[towns['county'].apply(lambda x: pd.isnull(x))]['town2']\n",
    "        towns = fuzzyMatch(unmatched_towns2, towns, state_cw, primary_dict, dict_matchcol = 'county', initial = False, score_threshold = 86)\n",
    "        towns = addType(towns, 'county')\n",
    "\n",
    "        # use modified town names\n",
    "        # try fuzzy match: town name -> crosswalk town-county\n",
    "        unmatched_towns2 = towns[towns['county'].apply(lambda x: pd.isnull(x))]['town2']\n",
    "        towns = fuzzyMatch(unmatched_towns2, towns, state_cw, primary_dict, dict_matchcol ='primary_city', initial = False, score_threshold = 85)\n",
    "        towns = addType(towns)\n",
    "\n",
    "\n",
    "        # correct a matching - Baltimore City to Baltimore County\n",
    "        print(\"Baltimore City changed to Baltimore County\")\n",
    "        towns['county'] = towns['county'].apply(lambda x: x.replace('City', 'County') if not pd.isnull(x) else x)\n",
    "        towns = addType(towns)\n",
    "    if state == 'NC':\n",
    "        # some \"town\" names are actually counties\n",
    "        # try direct match: town (county) name -> crosswalk county\n",
    "        towns = directCountyMatch(state_cw, towns, towncol = 'town')\n",
    "        towns = addType(towns, 'county')\n",
    "        # remove instances where North Carolina is mentioned and rename Tarborugh to enable matching\n",
    "        towns['town2'] = towns['town'].apply(lambda x: x.replace('North Carolina', '').replace('Tarborugh', 'Tarboro').strip())\n",
    "        # use modified town names\n",
    "        # try fuzzy match: town name -> crosswalk town-county\n",
    "        unmatched_towns2 = towns[towns['county'].apply(lambda x: pd.isnull(x))]['town2']\n",
    "        towns = fuzzyMatch(unmatched_towns2, towns, state_cw, primary_dict, dict_matchcol ='primary_city', initial = False, score_threshold = 85)\n",
    "        towns = addType(towns)\n",
    "    if state == 'NH':\n",
    "        # use acceptable_cities instead of primary_cities column to match in the crosswalk\n",
    "        # try direct match: town name -> crosswalk town-county\n",
    "        null_ind = towns[towns['county'].apply(lambda x: pd.isnull(x))].index\n",
    "        pdict, tn = directTownMatch(state_cw, towns.loc[null_ind], col = 'acceptable_cities', towncol = 'town')\n",
    "        towns.loc[null_ind] = tn\n",
    "        towns = addType(towns)\n",
    "        # remove instances where New Hampshire and other geo-jurisdictional terms are used\n",
    "        # rename Rockingham to enable matching\n",
    "        towns['town2'] = towns['town'].apply(lambda x: x.replace('State', '').replace('New Hampshire', '').replace('of ','').strip())\n",
    "        towns['town2'] = towns['town2'].apply(lambda x: x.replace('Rockingham', 'Rockingham County').strip())\n",
    "        # use modified town names\n",
    "        # try fuzzy match: town name -> crosswalk town-county\n",
    "        unmatched_towns2 = towns[towns['county'].apply(lambda x: pd.isnull(x))]['town2']\n",
    "        towns = fuzzyMatch(unmatched_towns2, towns, state_cw, primary_dict, dict_matchcol ='primary_city', initial = False, score_threshold = 85)\n",
    "        towns = addType(towns)\n",
    "        # some \"town\" names are actually counties\n",
    "        # use modified town names\n",
    "        # try direct match: town (county) name -> crosswalk county\n",
    "        towns = directCountyMatch(state_cw, towns, towncol = 'town2')\n",
    "        towns = addType(towns, 'county')\n",
    "        # manual fixes for matches\n",
    "        # manually adjust incorrect matches\n",
    "        print(\"\\nManual Match\\n\")\n",
    "        for town, county in zip(['Brintwood', 'Portsmouth New Hampshire'],\n",
    "                                ['Rockingham County', 'Rockingham County']):\n",
    "            print(\"{} was matched to {}\".format(town, county))\n",
    "            if town == 'Brintwood':\n",
    "                towns.loc[towns[towns['town'] == town].index, ['county', 'name_type']] = [county,'town]']\n",
    "            else:\n",
    "                towns.loc[towns[towns['town'] == town].index, ['county', 'name_type']] = [county,'county']\n",
    "    if state == 'NJ':\n",
    "        # remove instances where New Jersey is used\n",
    "        towns['town2'] = towns['town'].apply(lambda x: x.replace('New Jersey', '').strip())\n",
    "\n",
    "        # use modified town names\n",
    "        # try fuzzy match: town name -> crosswalk town-county\n",
    "        unmatched_towns2 = towns[towns['county'].apply(lambda x: pd.isnull(x))]['town2']\n",
    "        towns = fuzzyMatch(unmatched_towns2, towns, state_cw, primary_dict, dict_matchcol ='primary_city', initial = False, score_threshold = 85)\n",
    "        towns = addType(towns)\n",
    "        # some \"town\" names are actually counties\n",
    "        # use modified town names\n",
    "        # try direct match: town (county) name -> crosswalk county\n",
    "        towns = directCountyMatch(state_cw, towns, towncol = 'town2')\n",
    "        towns = addType(towns, 'county')\n",
    "    if state == 'PA':\n",
    "        # some \"town\" names are actually counties\n",
    "        # try direct match: town (county) name -> crosswalk county\n",
    "        towns = directCountyMatch(state_cw, towns, towncol = 'town')\n",
    "        towns = addType(towns, 'county')\n",
    "\n",
    "        # use acceptable_cities instead of primary_cities column to match in the crosswalk\n",
    "        # try direct match: town (county) name -> crosswalk county\n",
    "        null_ind = towns[towns['county'].apply(lambda x: pd.isnull(x))].index\n",
    "        pdict, tn = directTownMatch(state_cw, towns.loc[null_ind], col = 'acceptable_cities', towncol = 'town')\n",
    "        towns.loc[null_ind] = tn\n",
    "        towns = addType(towns, 'county')\n",
    "\n",
    "        # remove instances where New Jersey is used, fix some notational issues\n",
    "        # correct Dauphincoy to Dauphin and categorize Tulpehocken as being in Berks County\n",
    "        towns['town2'] = towns['town'].apply(lambda x: x.replace('Co ', 'County').replace('Delaware', 'Delaware County').strip())\n",
    "        towns['town2'] = towns['town2'].apply(lambda x: x.replace('Pennsylvania', '').replace('County County','County').strip())\n",
    "        towns['town2'] = towns['town2'].apply(lambda x: x.replace('Country', 'County').replace('Dauphincoy','Dauphin').strip())\n",
    "        towns['town2'] = towns['town2'].apply(lambda x: x.replace('Tulpehocken', 'Berks County').strip())\n",
    "\n",
    "        # categorize different Philadelphia neighborhoods as belonging in Philadelphia\n",
    "        philreptowns = ['Blockley', 'Northan Liberties', 'Northern Liberties', \\\n",
    "                        'The Northern Libert', 'Passyunk', 'German Town', 'Southwark', 'Borden Town'] # not sure on this last one...\n",
    "        for town in philreptowns:\n",
    "            towns['town2'] = towns['town2'].apply(lambda x: x.replace(town, 'Philadelphia'))\n",
    "        towns = addType(towns)\n",
    "        # use modified town names\n",
    "        # try direct match: town (county) name -> crosswalk county\n",
    "        unmatched_towns2 = towns[towns['county'].apply(lambda x: pd.isnull(x))]['town2']\n",
    "        towns = directCountyMatch(state_cw, towns, 'town2')\n",
    "        towns = addType(towns, 'county')\n",
    "        # some \"town\" names are actually counties\n",
    "        # try direct match: town (county) name -> crosswalk county\n",
    "        towns = directCountyMatch(state_cw, towns, towncol = 'town')\n",
    "        towns = addType(towns, 'county')\n",
    "\n",
    "        # use acceptable_cities instead of primary_cities column to match in the crosswalk\n",
    "        # try direct match: town (county) name -> crosswalk county\n",
    "        null_ind = towns[towns['county'].apply(lambda x: pd.isnull(x))].index\n",
    "        pdict, tn = directTownMatch(state_cw, towns.loc[null_ind], col = 'acceptable_cities', towncol = 'town')\n",
    "        towns.loc[null_ind] = tn\n",
    "        towns = addType(towns, 'county')\n",
    "\n",
    "        # remove instances where New Jersey is used, fix some notational issues\n",
    "        # correct Dauphincoy to Dauphin and categorize Tulpehocken as being in Berks County\n",
    "        towns['town2'] = towns['town'].apply(lambda x: x.replace('Co ', 'County').replace('Delaware', 'Delaware County').strip())\n",
    "        towns['town2'] = towns['town2'].apply(lambda x: x.replace('Pennsylvania', '').replace('County County','County').strip())\n",
    "        towns['town2'] = towns['town2'].apply(lambda x: x.replace('Country', 'County').replace('Dauphincoy','Dauphin').strip())\n",
    "        towns['town2'] = towns['town2'].apply(lambda x: x.replace('Tulpehocken', 'Berks County').strip())\n",
    "\n",
    "        # categorize different Philadelphia neighborhoods as belonging in Philadelphia\n",
    "        philreptowns = ['Blockley', 'Northan Liberties', 'Northern Liberties',\n",
    "                        'The Northern Libert', 'Passyunk', 'German Town', 'Southwark', 'Borden Town'] # not sure on this last one...\n",
    "        for town in philreptowns:\n",
    "            towns['town2'] = towns['town2'].apply(lambda x: x.replace(town, 'Philadelphia'))\n",
    "        towns = addType(towns)\n",
    "        # use modified town names\n",
    "        # try direct match: town (county) name -> crosswalk county\n",
    "        unmatched_towns2 = towns[towns['county'].apply(lambda x: pd.isnull(x))]['town2']\n",
    "        towns = directCountyMatch(state_cw, towns, 'town2')\n",
    "        towns = addType(towns, 'county')\n",
    "\n",
    "        # use modified town names\n",
    "        # try fuzzy match: town name -> crosswalk town-county\n",
    "        unmatched_towns2 = towns[towns['county'].apply(lambda x: pd.isnull(x))]['town2']\n",
    "        towns = fuzzyMatch(unmatched_towns2, towns, state_cw, primary_dict, dict_matchcol ='primary_city', initial = False, score_threshold = 85)\n",
    "        towns = addType(towns)\n",
    "\n",
    "        # use modified town names\n",
    "        # try fuzzy match: town (county) name -> crosswalk county\n",
    "        unmatched_towns2_1 = [x for x in towns[towns['county'].apply(lambda x: pd.isnull(x))]['town2'] if x != '']\n",
    "        towns = fuzzyMatch(unmatched_towns2_1, towns, state_cw, primary_dict, dict_matchcol = 'county', initial = False, score_threshold = 85)\n",
    "        towns = addType(towns, 'county')\n",
    "\n",
    "        # manually adjust incorrect matches\n",
    "        print(\"\\nManual Match\\n\")\n",
    "        for town, county, s in zip(['Charleston South Carolina', 'Burlington New Jersey', 'Northumberland County Virginia'],\n",
    "                                       ['Charleston County', 'Burlington County', 'Northumberland County'],\n",
    "                                       ['SC', 'NJ', 'VA']):\n",
    "            print(\"{} was matched to {}\".format(town, county))\n",
    "            towns.loc[towns[towns['town'] == town].index, ['county', 'state']] = [county, s]\n",
    "        towns = addType(towns, 'county')\n",
    "\n",
    "        # use modified town names\n",
    "        # try fuzzy match: town name -> crosswalk town-county\n",
    "        unmatched_towns2 = towns[towns['county'].apply(lambda x: pd.isnull(x))]['town2']\n",
    "        towns = fuzzyMatch(unmatched_towns2, towns, state_cw, primary_dict, dict_matchcol ='primary_city', initial = False, score_threshold = 85)\n",
    "        towns = addType(towns)\n",
    "\n",
    "        # use modified town names\n",
    "        # try fuzzy match: town (county) name -> crosswalk county\n",
    "        unmatched_towns2_1 = [x for x in towns[towns['county'].apply(lambda x: pd.isnull(x))]['town2'] if x != '']\n",
    "        towns = fuzzyMatch(unmatched_towns2_1, towns, state_cw, primary_dict, dict_matchcol = 'county', initial = False, score_threshold = 85)\n",
    "        towns = addType(towns, 'county')\n",
    "\n",
    "        # manually adjust incorrect matches\n",
    "        print(\"\\nManual Match\\n\")\n",
    "        for town, county, s in zip(['Charleston South Carolina', 'Burlington New Jersey', 'Northumberland County Virginia'],\n",
    "                                       ['Charleston County', 'Burlington County', 'Northumberland County'],\n",
    "                                       ['SC', 'NJ', 'VA']):\n",
    "            print(\"{} was matched to {}\".format(town, county))\n",
    "            towns.loc[towns[towns['town'] == town].index, ['county', 'state']] = [county, s]\n",
    "        towns = addType(towns, 'county')\n",
    "    if state == 'RI':\n",
    "        # remove instances where Rhode Island and other geo-jurisdictional terms are used\n",
    "        towns['town2'] = towns['town'].apply(lambda x: x.replace('Rhode Island', '').replace('State ', '').replace('of', '').strip())\n",
    "        # use modified town names\n",
    "        # try fuzzy match: town name -> crosswalk town-county\n",
    "        unmatched_towns2 = towns[towns['county'].apply(lambda x: pd.isnull(x))]['town2']\n",
    "        towns = fuzzyMatch(unmatched_towns2, towns, state_cw, primary_dict, dict_matchcol ='primary_city', initial = False, score_threshold = 85)\n",
    "        towns = addType(towns)\n",
    "\n",
    "        # manually adjust incorrect matches\n",
    "        print(\"\\nManual Match\\n\")\n",
    "        for town, county in zip(['Gloucester', 'Richmond'],\n",
    "                                ['Providence County', 'Washington County']):\n",
    "            print(\"{} was matched to {}\".format(town, county))\n",
    "            towns.loc[towns[towns['town'] == town].index, 'county'] = county\n",
    "        towns = addType(towns)\n",
    "\n",
    "    if state == 'SC':\n",
    "        # remove instances where South Carolina is used, change number to character\n",
    "        towns['town2'] = towns['town'].apply(lambda x: x.replace('South Carolina', '').replace('96', 'Ninety six').strip())\n",
    "\n",
    "        # use modified town names\n",
    "        # use acceptable_cities column\n",
    "        # try fuzzy match: town (county) name -> crosswalk county\n",
    "        null_ind = towns[towns['county'].apply(lambda x: pd.isnull(x))].index\n",
    "        pdict, tn = directTownMatch(state_cw, towns.loc[null_ind], col = 'acceptable_cities', towncol = 'town2')\n",
    "        towns.loc[null_ind] = tn\n",
    "        towns = addType(towns, 'county')\n",
    "\n",
    "        # use modified town names\n",
    "        # try fuzzy match: town (county) name -> crosswalk county\n",
    "        unmatched_towns2 = towns[towns['county'].apply(lambda x: pd.isnull(x))]['town2']\n",
    "        towns = fuzzyMatch(unmatched_towns2, towns, state_cw, primary_dict, dict_matchcol ='primary_city', initial = False, score_threshold = 85)\n",
    "        towns = addType(towns, 'county')\n",
    "\n",
    "        # some town names are actually county names\n",
    "        # use modified town names\n",
    "        # try fuzzy match: town (county) name -> crosswalk county\n",
    "        unmatched_towns2_1 = towns[towns['county'].apply(lambda x: pd.isnull(x))]['town2']\n",
    "        towns = fuzzyMatch(unmatched_towns2_1, towns, state_cw, primary_dict, dict_matchcol ='county', initial = False, score_threshold = 85)\n",
    "        towns = addType(towns, 'county')\n",
    "\n",
    "        townlist = ['St. Paul\\'s', 'Pee Dee', 'St. George', 'New River', 'Winyaw', 'Broad River', \\\n",
    "                    'Toogoodoo', 'St Pauls', 'Savannah', \\\n",
    "                    'James Island', 'St Andrews'] # last two are manual fixes\n",
    "        countylist = ['Clarendon County', 'Marion County', 'Dorchester County', 'Beaufort County', 'Georgetown County', 'Beaufort County',\n",
    "                      'Charleston County', 'Clarendon County', 'Chatham County', \\\n",
    "                      'Charleston County', 'Richland County']\n",
    "        for town, county in zip(townlist, countylist):\n",
    "            print(\"{} was matched to {}\".format(town, county))\n",
    "            towns.loc[towns[towns['town'] == town].index, 'county'] = county\n",
    "        towns = addType(towns)\n",
    "\n",
    "        towns.loc[towns[towns['town'] == 'Savannah'].index, 'state'] =  'GA'\n",
    "\n",
    "    if state == 'MA':\n",
    "        # remove instances where Massachusetts, MA or State is used\n",
    "        towns['town2'] = towns['town'].apply(lambda x: x.replace('MA', '').replace('Massachusetts', '').replace('State','').strip())\n",
    "        # use modified town names\n",
    "        # try fuzzy match: town (county) name -> crosswalk county\n",
    "        unmatched_towns2 = towns[towns['county'].apply(lambda x: pd.isnull(x))]['town2']\n",
    "        towns = fuzzyMatch(unmatched_towns2, towns, state_cw, primary_dict, dict_matchcol ='primary_city', initial = False, score_threshold = 85)\n",
    "        towns = addType(towns, 'county')\n",
    "\n",
    "    if state == 'VA':\n",
    "        # remove instances where Massachusetts, MA or State is used\n",
    "        towns['town2'] = towns['town'].apply(lambda x: x.replace('VA', '').replace('Virginia', '').replace('Virgina','').strip())\n",
    "        towns['town2'] = towns['town2'].apply(lambda x: x.replace('State', '').replace(' of ', '').strip())\n",
    "        # use modified town names\n",
    "        # try fuzzy match: town (county) name -> crosswalk county\n",
    "        unmatched_towns2 = towns[towns['county'].apply(lambda x: pd.isnull(x))]['town2']\n",
    "        towns = fuzzyMatch(unmatched_towns2, towns, state_cw, primary_dict, dict_matchcol ='primary_city', initial = False, score_threshold = 85)\n",
    "        towns = addType(towns, 'county')\n",
    "\n",
    "        # some town names are actually county names\n",
    "        # use modified town names\n",
    "        # try fuzzy match: town (county) name -> crosswalk county\n",
    "        unmatched_towns2_1 = towns[towns['county'].apply(lambda x: pd.isnull(x))]['town2']\n",
    "        towns = fuzzyMatch(unmatched_towns2_1, towns, state_cw, primary_dict, dict_matchcol ='county', initial = False, score_threshold = 85)\n",
    "        towns = addType(towns, 'county')\n",
    "\n",
    "        townlist = ['Portsmouth Virginia'] # last two are manual fixes\n",
    "        countylist = ['Norfolk County']\n",
    "        for town, county in zip(townlist, countylist):\n",
    "            print(\"{} was matched to {}\".format(town, county))\n",
    "            towns.loc[towns[towns['town'] == town].index, 'county'] = county\n",
    "        towns = addType(towns)\n",
    "    if state == 'DE':\n",
    "        # remove instances where Massachusetts, MA or State is used\n",
    "        towns['town2'] = towns['town'].apply(lambda x: x.replace('Delaware', '').replace('State', '').replace(' of ', '').strip())\n",
    "        towns['town2'] = towns['town2'].apply(lambda x: x.replace('Kent Company', 'Kent County').strip())\n",
    "        # use modified town names\n",
    "        # try fuzzy match: town (county) name -> crosswalk county\n",
    "        unmatched_towns2 = towns[towns['county'].apply(lambda x: pd.isnull(x))]['town2']\n",
    "        towns = fuzzyMatch(unmatched_towns2, towns, state_cw, primary_dict, dict_matchcol ='primary_city', initial = False, score_threshold = 85)\n",
    "        towns = addType(towns, 'county')\n",
    "\n",
    "        # some town names are actually county names\n",
    "        # use modified town names\n",
    "        # try fuzzy match: town (county) name -> crosswalk county\n",
    "        unmatched_towns2_1 = towns[towns['county'].apply(lambda x: pd.isnull(x))]['town2']\n",
    "        towns = fuzzyMatch(unmatched_towns2_1, towns, state_cw, primary_dict, dict_matchcol ='county', initial = False, score_threshold = 85)\n",
    "        towns = addType(towns, 'county')\n",
    "\n",
    "    # print out all unmatched names\n",
    "    print(\"\\nFinal Unmatched Names\\n\")\n",
    "    t = towns[towns['county'].apply(lambda x: pd.isnull(x))]\n",
    "    for tn in t['town']:\n",
    "        print(\"{} was unable to be matched\".format(tn))\n",
    "    towns = towns[towns['county'].apply(lambda x: not pd.isnull(x))]\n",
    "    towns['state'] = state\n",
    "\n",
    "    # only Georgia doesn't have a town2 column\n",
    "    if state not in ['GA']:\n",
    "        towns.drop('town2', axis = 1, inplace = True)\n",
    "\n",
    "    # correct states for certain counties/cities in PA and SC\n",
    "    if state == 'PA':\n",
    "        towns.loc[towns[towns['town'] == 'Charleston South Carolina'].index, 'state'] ='SC'\n",
    "        towns.loc[towns[towns['town'] == 'Northumberland County Virginia'].index, 'state'] = 'VA'\n",
    "    if state == 'SC':\n",
    "        towns.loc[towns[towns['town'] == 'Savannah'].index, 'state'] ='GA'\n",
    "\n",
    "\n",
    "    final_cw = pd.concat([final_cw, towns])"
   ],
   "metadata": {
    "collapsed": false,
    "pycharm": {
     "name": "#%%\n"
    }
   }
  },
  {
   "cell_type": "code",
   "execution_count": 56,
   "outputs": [],
   "source": [
    "final_cw.reset_index(inplace = True, drop = True)"
   ],
   "metadata": {
    "collapsed": false,
    "pycharm": {
     "name": "#%%\n"
    }
   }
  },
  {
   "cell_type": "code",
   "execution_count": 57,
   "outputs": [],
   "source": [
    "# manually input county, state and name type labels\n",
    "towns = ['Colchester', 'Charleston South Carolina', 'Philadelphia', 'Albany', 'Newark', 'Northumberland County Virginia', 'Savannah', 'City of New York', 'Long Island', 'Portsmouth Virginia']\n",
    "counties = ['New London County', 'Berkeley County', 'Philadelphia County', 'Albany County', 'Essex County', 'Northumberland County', 'Chatham County', 'New York County', \\\n",
    "            np.nan, 'Rockingham County']\n",
    "states = ['CT', 'SC', 'PA', 'NY', 'NJ', 'VA', 'GA', 'NY', 'NY', 'VA']\n",
    "for town, county, state in zip(towns, counties, states):\n",
    "    if town == 'Northumberland County Virginia':\n",
    "        final_cw.loc[final_cw[final_cw['town'] == town].index, ['county', 'state', 'name_type']] = [county, state, 'county']\n",
    "    elif pd.isnull(county):\n",
    "        final_cw.loc[final_cw[final_cw['town'] == town].index, ['county', 'state', 'name_type']] = [county, state, 'other']\n",
    "    else:\n",
    "        final_cw.loc[final_cw[final_cw['town'] == town].index, ['county', 'state', 'name_type']] = [county, state, 'town']"
   ],
   "metadata": {
    "collapsed": false,
    "pycharm": {
     "name": "#%%\n"
    }
   }
  },
  {
   "cell_type": "code",
   "execution_count": 58,
   "outputs": [],
   "source": [
    "# manually input county, state and name type labels\n",
    "colonies = ['New Hampshire', 'Massachusetts', 'Rhode Island', 'Connecticut', 'Conecticutt', 'New York', 'New Jersey', 'Pennsylvania', 'Delaware', 'Maryland', \\\n",
    "            'Virginia', 'North Carolina', 'South Carolina', 'Georgia', 'Vermont', 'Delawere', 'Virgina']\n",
    "abbrev = ['NH', 'MA', 'RI', 'CT', 'CT', 'NY', 'NJ', 'PA', 'DE', 'MD', 'VA', 'NC', 'SC', 'GA', 'VT', 'DE', 'VA']\n",
    "for colony, abrv in zip(colonies, abbrev):\n",
    "    ind = np.max(final_cw.index)+1\n",
    "    final_cw.loc[ind, ['town','county', 'state', 'name_type']] = [colony, np.nan, abrv, 'state']"
   ],
   "metadata": {
    "collapsed": false,
    "pycharm": {
     "name": "#%%\n"
    }
   }
  },
  {
   "cell_type": "code",
   "execution_count": 59,
   "outputs": [],
   "source": [
    "# manual replacement of counties that changed names or boders\n",
    "towns = ['Gilmantown', np.nan, 'Berlington New Jersey', np.nan, np.nan, np.nan, np.nan, np.nan, '96 District', \\\n",
    "         'Ninety six District', np.nan, np.nan, np.nan, np.nan, np.nan, 'Trenton New Jersey', 'Princeton New Jersey',\n",
    "         'Newbury', 'Pembroke', 'Hopkinton', 'Salisbury', 'Canterbury', 'Concord', np.nan, np.nan, np.nan]\n",
    "oldcounties = ['Belknap', 'Berkeley', 'Camden', 'Carroll', 'Columbia', 'Elk', 'Dorchester', 'Grant', 'Greenwood', \\\n",
    "               'Greenwood', 'Hampden', 'Kershaw', 'King and Queen', 'Lycoming', 'Marion', 'Mercer', 'Mercer',\n",
    "               'Merrimack', 'Merrimack', 'Merrimack', 'Merrimack', 'Merrimack', 'Merrimack', 'Norfolk', 'Perry', 'Sullivan']\n",
    "newcounties = ['Strafford', 'Charleston', 'Burlington', 'Strafford', 'Richmond', 'Northumberland', 'Charleston', 'Hampshire', 'Abbeville', \\\n",
    "               'Laurens', 'Hampshire', 'Lancaster', np.nan, 'Northumberland', 'Prince George\\'s', 'Hunterdon', 'Middlesex',\n",
    "               'Hillsborough', 'Hillsborough', 'Hillsborough', 'Hillsborough', 'Rockingham', 'Grafton', 'Suffolk', 'Cumberland', 'Cheshire']\n",
    "for town, oldcounty, newcounty in zip(towns, oldcounties, newcounties):\n",
    "    if not pd.isnull(town):\n",
    "        ind = final_cw[[t == town and oldcounty + ' County' == oc for t, oc in zip(final_cw['town'], final_cw['county'])]].index\n",
    "    else:\n",
    "        ind = final_cw[final_cw['county'] == oldcounty + ' County'].index\n",
    "    if pd.isnull(newcounty):\n",
    "        final_cw.loc[ind, 'county']  = newcounty\n",
    "    else:\n",
    "        final_cw.loc[ind, 'county']  = newcounty + ' County'\n",
    "    if len(ind) == 0:\n",
    "        print(town, oldcounty)\n",
    "#make corrections\n",
    "ind = final_cw[[c == 'Charleston County' and s == 'MD' for c, s in zip(final_cw['county'], final_cw['state'])]].index\n",
    "final_cw.loc[ind, 'county'] = 'Dorchester County'\n",
    "\n",
    "ind = final_cw[[c == 'Prince George\\'s County' and s == 'SC' for c, s in zip(final_cw['county'], final_cw['state'])]].index\n",
    "final_cw.loc[ind, 'county'] = 'Georgetown County'"
   ],
   "metadata": {
    "collapsed": false,
    "pycharm": {
     "name": "#%%\n"
    }
   }
  },
  {
   "cell_type": "code",
   "execution_count": 60,
   "outputs": [],
   "source": [
    "# manual fixes of assignments\n",
    "final_cw.loc[final_cw[final_cw['county'] == 'Prince George\\'s County'].index, 'county'] = 'Prince Georges County'\n",
    "final_cw.loc[final_cw[final_cw['county'] == 'Queen Anne\\'s County'].index, 'county'] = 'Queen Annes County'\n",
    "final_cw.loc[final_cw[final_cw['county'] == 'St Mary\\'s County'].index, 'county'] = 'St Marys County'\n",
    "\n",
    "# more manual fixes\n",
    "final_cw.loc[final_cw[final_cw['town'] == 'Doden Maryland'].index, ['county', 'name_type']] = ['Anne Arundel County', 'county']\n",
    "final_cw.loc[final_cw[final_cw['town'] == 'Huntington New Jersey'].index, ['county', 'name_type']] = ['Hunterdon County', 'county']\n",
    "# adding state labels\n",
    "final_cw.loc[final_cw[[pd.isnull(t) and not pd.isnull(s) and s != 'FR' for t, s in zip(final_cw['town'], final_cw['state'])]].index, 'name_type'] = 'state'\n",
    "\n",
    "final_cw.loc[final_cw[final_cw['town'] == 'Kittery'].index, ['county', 'name_type']] = ['York County', 'town']\n",
    "final_cw.loc[final_cw[final_cw['town'] == 'Kensignton'].index, ['county', 'name_type']] = ['Philadelphia County', 'neighborhood']\n",
    "final_cw.loc[final_cw[final_cw['town'] == 'York'].index, ['county', 'name_type']] = ['York County', 'town']\n",
    "final_cw.loc[final_cw[final_cw['town'] == 'Wells'].index, ['county', 'name_type']] = ['York County', 'town']\n",
    "final_cw.loc[final_cw[final_cw['town'] == 'James City County Virginia'].index, ['county']] = ['James City County']\n",
    "\n",
    "final_cw.loc[final_cw[final_cw['town'] == 'Cumb County Pennsylvania'].index, ['county']] = ['Cumberland County']\n",
    "final_cw.loc[final_cw[final_cw['town'] == 'Cumberland'].index, 'name_type'] = 'county'\n",
    "final_cw.loc[final_cw[final_cw['town'] == 'york town pennsylvania'].index, ['county', 'name_type']] = ['Philadelphia County', 'town']\n",
    "\n",
    "# Manual fixes of name_type\n",
    "final_cw.loc[final_cw['town'] == 'Virginia and Philadelphia', 'name_type'] = 'state'\n",
    "town_ind = final_cw[[nt == 'county' and ('County' not in c and 'Co ' not in c and 'Country' not in c and\n",
    "                                       'Talbot' not in c and 'Rockingham' not in c and 'Delaware' not in c)\n",
    "                       if not pd.isnull(c) else False for nt, c in zip(final_cw['name_type'], final_cw['town'])]].index\n",
    "final_cw.loc[town_ind, 'name_type'] = 'town'\n",
    "\n",
    "# some chester counties are mislabelled\n",
    "chester_ind = final_cw[final_cw['town'].apply(lambda x: 'Chester' in x and 'Massachusetts' not in x if not pd.isnull(x) else False)].index\n",
    "final_cw.loc[chester_ind, ['county', 'name_type']] = ['Chester County', 'county']\n",
    "\n",
    "# correctly label some counties\n",
    "\n",
    "county_ind = final_cw[[nt == 'town' and ('County of Philadelphia' in c or 'Paxton Tot Dauphin County' in c or 'Somerset County New Jersey' in c)\n",
    "                     for nt, c in zip(final_cw['name_type'], final_cw['town'])]].index\n",
    "final_cw.loc[county_ind, 'name_type'] = 'county'"
   ],
   "metadata": {
    "collapsed": false,
    "pycharm": {
     "name": "#%%\n"
    }
   }
  },
  {
   "cell_type": "code",
   "execution_count": 61,
   "outputs": [
    {
     "data": {
      "text/plain": "               town             county state name_type\n0          Hartford    Hartford County    CT      town\n1            Bolton     Tolland County    CT      town\n2      Wethersfield    Hartford County    CT      town\n3              Lyme  New London County    CT      town\n4         New Haven   New Haven County    CT      town\n..              ...                ...   ...       ...\n420  South Carolina                NaN    SC     state\n421         Georgia                NaN    GA     state\n422         Vermont                NaN    VT     state\n423        Delawere                NaN    DE     state\n424         Virgina                NaN    VA     state\n\n[425 rows x 4 columns]",
      "text/html": "<div>\n<style scoped>\n    .dataframe tbody tr th:only-of-type {\n        vertical-align: middle;\n    }\n\n    .dataframe tbody tr th {\n        vertical-align: top;\n    }\n\n    .dataframe thead th {\n        text-align: right;\n    }\n</style>\n<table border=\"1\" class=\"dataframe\">\n  <thead>\n    <tr style=\"text-align: right;\">\n      <th></th>\n      <th>town</th>\n      <th>county</th>\n      <th>state</th>\n      <th>name_type</th>\n    </tr>\n  </thead>\n  <tbody>\n    <tr>\n      <th>0</th>\n      <td>Hartford</td>\n      <td>Hartford County</td>\n      <td>CT</td>\n      <td>town</td>\n    </tr>\n    <tr>\n      <th>1</th>\n      <td>Bolton</td>\n      <td>Tolland County</td>\n      <td>CT</td>\n      <td>town</td>\n    </tr>\n    <tr>\n      <th>2</th>\n      <td>Wethersfield</td>\n      <td>Hartford County</td>\n      <td>CT</td>\n      <td>town</td>\n    </tr>\n    <tr>\n      <th>3</th>\n      <td>Lyme</td>\n      <td>New London County</td>\n      <td>CT</td>\n      <td>town</td>\n    </tr>\n    <tr>\n      <th>4</th>\n      <td>New Haven</td>\n      <td>New Haven County</td>\n      <td>CT</td>\n      <td>town</td>\n    </tr>\n    <tr>\n      <th>...</th>\n      <td>...</td>\n      <td>...</td>\n      <td>...</td>\n      <td>...</td>\n    </tr>\n    <tr>\n      <th>420</th>\n      <td>South Carolina</td>\n      <td>NaN</td>\n      <td>SC</td>\n      <td>state</td>\n    </tr>\n    <tr>\n      <th>421</th>\n      <td>Georgia</td>\n      <td>NaN</td>\n      <td>GA</td>\n      <td>state</td>\n    </tr>\n    <tr>\n      <th>422</th>\n      <td>Vermont</td>\n      <td>NaN</td>\n      <td>VT</td>\n      <td>state</td>\n    </tr>\n    <tr>\n      <th>423</th>\n      <td>Delawere</td>\n      <td>NaN</td>\n      <td>DE</td>\n      <td>state</td>\n    </tr>\n    <tr>\n      <th>424</th>\n      <td>Virgina</td>\n      <td>NaN</td>\n      <td>VA</td>\n      <td>state</td>\n    </tr>\n  </tbody>\n</table>\n<p>425 rows × 4 columns</p>\n</div>"
     },
     "execution_count": 61,
     "metadata": {},
     "output_type": "execute_result"
    }
   ],
   "source": [
    "final_cw"
   ],
   "metadata": {
    "collapsed": false,
    "pycharm": {
     "name": "#%%\n"
    }
   }
  },
  {
   "cell_type": "code",
   "execution_count": 62,
   "outputs": [],
   "source": [
    "# drop duplicates that occur for some reason\n",
    "final_cw.drop_duplicates(subset = ['town', 'state'], inplace = True)\n",
    "# add labels for county and name type to CD_all\n",
    "CD_all = pd.merge(CD_all, final_cw, on = ['town', 'state'], how = 'left')"
   ],
   "metadata": {
    "collapsed": false,
    "pycharm": {
     "name": "#%%\n"
    }
   }
  },
  {
   "cell_type": "code",
   "execution_count": 63,
   "outputs": [],
   "source": [
    "CD_all.loc[CD_all[CD_all['name_type'].apply(lambda x: pd.isnull(x))].index, 'name_type'] = 'other'"
   ],
   "metadata": {
    "collapsed": false,
    "pycharm": {
     "name": "#%%\n"
    }
   }
  },
  {
   "cell_type": "code",
   "execution_count": 64,
   "outputs": [],
   "source": [
    "CD_all.loc[CD_all.query('town == \"City of New York\" and name_type == \"other\"').index, ['county', 'name_type']] = ['New York County', 'town']\n",
    "CD_all.loc[CD_all[CD_all['town'].apply(lambda x: \"State\" in x if not pd.isnull(x) else False)].index, ['name_type']] = ['state']\n",
    "CD_all.loc[CD_all.query('town == \"Vermont\"').index, ['state', 'name_type']] = ['VT', 'state']\n",
    "# assigning unassinable towns as states\n",
    "CD_all.loc[CD_all.query('town == \"North Hampshire\" and name_type == \"other\"').index, ['name_type']] = ['state_flag']\n",
    "CD_all.loc[CD_all.query('town == \"Long Island\" and name_type == \"other\"').index, ['name_type']] = [ 'state']\n",
    "CD_all.loc[CD_all.query('town == \"Carolina\" and name_type == \"other\"').index, ['name_type']] = [ 'state_flag']\n",
    "CD_all.loc[CD_all.query('town == \"Doden\" and name_type == \"other\"').index, [ 'name_type']] = [ 'state_flag']\n",
    "CD_all.loc[CD_all.query('town == \"Isaac\" and name_type == \"other\"').index, [ 'name_type']] = [ 'state_flag']\n",
    "CD_all.loc[CD_all.query('town == \"Kittery\" and name_type == \"other\"').index, [ 'name_type']] = [ 'state_flag']\n",
    "CD_all.loc[CD_all.query('town == \"Glouster\" and name_type == \"other\"').index, ['name_type']] = [ 'state_flag']\n",
    "CD_all.loc[CD_all.query('town == \"York\" and name_type == \"other\"').index, [ 'name_type']] = [ 'state_flag']\n",
    "CD_all.loc[CD_all.query('town == \"Wells\" and name_type == \"other\"').index, [ 'name_type']] = ['state_flag']\n",
    "CD_all.loc[CD_all.query('town == \"W Callisters\" and name_type == \"other\"').index, ['name_type']] = ['state_flag']\n",
    "CD_all.loc[CD_all.query('town == \"Huntington\" and name_type == \"other\"').index, [ 'county', 'name_type']] = [ 'Hunterdon County', 'county']\n",
    "CD_all.loc[CD_all.query('town == \"Connecticutt\" and name_type == \"other\"').index, [ 'name_type']] = [  'county']\n",
    "CD_all.loc[CD_all.query('town == \"Charleston South Carolina\" and name_type == \"other\"').index, [ 'county', 'name_type']] = ['Charleston County', 'town']\n",
    "CD_all.loc[CD_all.query('town == \"Albany\" and name_type == \"other\"').index, ['county', 'name_type']] = ['Albany County', 'town']\n",
    "CD_all.loc[CD_all.query('town == \"Northumberland\" and name_type == \"other\"').index, ['county', 'name_type']] = [ 'Northumberland County', 'town']\n",
    "CD_all.loc[CD_all.query('town == \"Springfield\" and name_type == \"other\"').index, ['name_type']] = [ 'state_flag']\n",
    "CD_all.loc[CD_all.query('town == \"Long Cames\" and name_type == \"other\"').index, [ 'name_type']] = [ 'state_flag']\n",
    "CD_all.loc[CD_all.query('town == \"Savannah\" and name_type == \"other\"').index, [ 'name_type']] = [ 'state_flag']"
   ],
   "metadata": {
    "collapsed": false,
    "pycharm": {
     "name": "#%%\n"
    }
   }
  },
  {
   "cell_type": "code",
   "execution_count": 65,
   "outputs": [],
   "source": [
    "CD_all.loc[CD_all.query('name_type == \"other\" and town.isna() and county.isna() and not state.isna() and state != \"FR\"').index, 'name_type'] = 'state'"
   ],
   "metadata": {
    "collapsed": false,
    "pycharm": {
     "name": "#%%\n"
    }
   }
  },
  {
   "cell_type": "code",
   "execution_count": 66,
   "outputs": [],
   "source": [
    "# fix state\n",
    "ind = CD_all.query('name_type == \"other\" and not state.isna() and state != \"BVI\" and state != \"BM\" and state != \"GB\" and state != \"VI\" and state != \"FR\" and state != \"US\"').index\n",
    "CD_all.loc[ind, 'name_type'] = 'state'\n",
    "CD_all.loc[CD_all[CD_all['name_type'] == 'town]'].index, 'name_type'] = 'town'"
   ],
   "metadata": {
    "collapsed": false,
    "pycharm": {
     "name": "#%%\n"
    }
   }
  },
  {
   "cell_type": "code",
   "execution_count": 67,
   "outputs": [],
   "source": [
    "CD_all['6p_total'] = CD_all['6p_Dollar'] + CD_all['6p_Cents']/100"
   ],
   "metadata": {
    "collapsed": false,
    "pycharm": {
     "name": "#%%\n"
    }
   }
  },
  {
   "cell_type": "code",
   "execution_count": 68,
   "outputs": [],
   "source": [
    "grouped_assets = CD_all.groupby(['county', 'state']).agg({'6p_total': ['sum', 'count', 'mean']})\n",
    "grouped_assets.columns = grouped_assets.columns.map('_'.join).str.strip('_')\n",
    "grouped_assets.columns = ['6p_total', 'debtholder_county_count', 'mean_6p_held']\n",
    "grouped_assets = grouped_assets.reset_index()"
   ],
   "metadata": {
    "collapsed": false,
    "pycharm": {
     "name": "#%%\n"
    }
   }
  },
  {
   "cell_type": "code",
   "execution_count": 69,
   "outputs": [],
   "source": [
    "countyPop = pd.read_csv('../../Data/CensusData/countyPopulation.csv').drop(0).reset_index(drop = True)\n",
    "sub_cols =['Area Name', 'State/US Abbreviation', 'Total Population', 'White Male', 'White Male Age 16 Years and over']\n",
    "county_subset = countyPop[sub_cols]\n",
    "merged_geography = pd.merge(county_subset, grouped_assets, left_on = ['Area Name', 'State/US Abbreviation'], right_on=['county', 'state'], how = 'right')\n",
    "final_asset_data = merged_geography.drop(['Area Name', 'State/US Abbreviation'], axis = 1)\n",
    "final_asset_data['debt_per_capita'] = final_asset_data['6p_total']/final_asset_data['Total Population'].apply(lambda x: float(x))\n",
    "final_asset_data['debt_per_white_male'] = final_asset_data['6p_total']/final_asset_data['White Male'].apply(lambda x: float(x))"
   ],
   "metadata": {
    "collapsed": false,
    "pycharm": {
     "name": "#%%\n"
    }
   }
  },
  {
   "cell_type": "code",
   "execution_count": 70,
   "outputs": [],
   "source": [
    "# for david to use when doing histograms of occupations vs no occupations and grouping occupations\n",
    "CD_all.to_csv('../../Data/Post1790/Aggregated/raw/aggregated_CD.csv')\n",
    "# for Jiacheng to use when making table\n",
    "CD_all[['town', 'state', 'county', 'name_type']].drop_duplicates().to_csv('../../Data/AssetGeography/county_cw.csv')\n",
    "# for Maria to use when making maps\n",
    "final_asset_data.to_csv('../../Data/AssetGeography/county_debt_total.csv')"
   ],
   "metadata": {
    "collapsed": false,
    "pycharm": {
     "name": "#%%\n"
    }
   }
  },
  {
   "cell_type": "code",
   "execution_count": 71,
   "outputs": [
    {
     "name": "stdout",
     "output_type": "stream",
     "text": [
      "0.6572621033287072\n",
      "0.808369540361308\n"
     ]
    }
   ],
   "source": [
    "print(CD_all[CD_all['county'].apply(lambda x: not pd.isnull(x))]['6p_Dollar'].sum()/CD_all['6p_Dollar'].sum())\n",
    "print(CD_all[CD_all['county'].apply(lambda x: not pd.isnull(x))].shape[0]/CD_all.shape[0])"
   ],
   "metadata": {
    "collapsed": false,
    "pycharm": {
     "name": "#%%\n"
    }
   }
  }
 ],
 "metadata": {
  "kernelspec": {
   "display_name": "Python 3",
   "language": "python",
   "name": "python3"
  },
  "language_info": {
   "codemirror_mode": {
    "name": "ipython",
    "version": 2
   },
   "file_extension": ".py",
   "mimetype": "text/x-python",
   "name": "python",
   "nbconvert_exporter": "python",
   "pygments_lexer": "ipython2",
   "version": "2.7.6"
  }
 },
 "nbformat": 4,
 "nbformat_minor": 0
}