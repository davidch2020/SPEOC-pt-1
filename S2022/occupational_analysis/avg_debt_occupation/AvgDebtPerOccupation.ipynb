{
 "cells": [
  {
   "cell_type": "code",
   "execution_count": 1364,
   "id": "f83c33f1",
   "metadata": {
    "pycharm": {
     "name": "#%%\n"
    }
   },
   "outputs": [],
   "source": [
    "#Import libraries.\n",
    "import pandas as pd\n",
    "import numpy as np\n",
    "import matplotlib.pyplot as plt\n",
    "import rapidfuzz\n",
    "import difflib\n",
    "from nltk.corpus import stopwords\n",
    "from yake import KeywordExtractor"
   ]
  },
  {
   "cell_type": "code",
   "execution_count": 1365,
   "id": "f31339cf",
   "metadata": {
    "pycharm": {
     "name": "#%%\n"
    }
   },
   "outputs": [
    {
     "name": "stdout",
     "output_type": "stream",
     "text": [
      "['i', 'me', 'my', 'myself', 'we', 'our', 'ours', 'ourselves', 'you', \"you're\", \"you've\", \"you'll\", \"you'd\", 'your', 'yours', 'yourself', 'yourselves', 'he', 'him', 'his', 'himself', 'she', \"she's\", 'her', 'hers', 'herself', 'it', \"it's\", 'its', 'itself', 'they', 'them', 'their', 'theirs', 'themselves', 'what', 'which', 'who', 'whom', 'this', 'that', \"that'll\", 'these', 'those', 'am', 'is', 'are', 'was', 'were', 'be', 'been', 'being', 'have', 'has', 'had', 'having', 'do', 'does', 'did', 'doing', 'a', 'an', 'the', 'and', 'but', 'if', 'or', 'because', 'as', 'until', 'while', 'of', 'at', 'by', 'for', 'with', 'about', 'against', 'between', 'into', 'through', 'during', 'before', 'after', 'above', 'below', 'to', 'from', 'up', 'down', 'in', 'out', 'on', 'off', 'over', 'under', 'again', 'further', 'then', 'once', 'here', 'there', 'when', 'where', 'why', 'how', 'all', 'any', 'both', 'each', 'few', 'more', 'most', 'other', 'some', 'such', 'no', 'nor', 'not', 'only', 'own', 'same', 'so', 'than', 'too', 'very', 's', 't', 'can', 'will', 'just', 'don', \"don't\", 'should', \"should've\", 'now', 'd', 'll', 'm', 'o', 're', 've', 'y', 'ain', 'aren', \"aren't\", 'couldn', \"couldn't\", 'didn', \"didn't\", 'doesn', \"doesn't\", 'hadn', \"hadn't\", 'hasn', \"hasn't\", 'haven', \"haven't\", 'isn', \"isn't\", 'ma', 'mightn', \"mightn't\", 'mustn', \"mustn't\", 'needn', \"needn't\", 'shan', \"shan't\", 'shouldn', \"shouldn't\", 'wasn', \"wasn't\", 'weren', \"weren't\", 'won', \"won't\", 'wouldn', \"wouldn't\"]\n"
     ]
    }
   ],
   "source": [
    "Stops = stopwords.words('english') #Returns all stopwords in the English language. \n",
    "print(Stops)"
   ]
  },
  {
   "cell_type": "markdown",
   "id": "232a048d",
   "metadata": {
    "pycharm": {
     "name": "#%% md\n"
    }
   },
   "source": [
    "# Conneticut"
   ]
  },
  {
   "cell_type": "code",
   "execution_count": 1366,
   "id": "1b5a183c",
   "metadata": {
    "pycharm": {
     "name": "#%%\n"
    }
   },
   "outputs": [
    {
     "name": "stdout",
     "output_type": "stream",
     "text": [
      "     6p_Dollar  6p_Cents  6p_def_Dollar  6p_def_Cents  3p_Dollar  3p_Cents  \\\n",
      "0       1064.0      75.0          532.0          37.0      508.0      51.0   \n",
      "1        449.0      96.0          224.0          97.0      232.0      10.0   \n",
      "2        196.0      75.0           98.0          37.0      172.0      24.0   \n",
      "3         53.0      58.0           26.0          79.0       67.0       6.0   \n",
      "4        121.0      22.0           60.0          61.0       32.0      72.0   \n",
      "..         ...       ...            ...           ...        ...       ...   \n",
      "478       39.0      11.0           19.0          55.0       14.0       7.0   \n",
      "479       13.0      21.0            6.0          61.0        4.0      74.0   \n",
      "480      533.0      34.0          266.0          66.0      446.0      66.0   \n",
      "481      658.0      47.0          329.0          23.0      558.0      50.0   \n",
      "482       12.0      22.0            6.0          11.0       11.0       NaN   \n",
      "\n",
      "           town state occupation             county name_type  6p_total  \n",
      "0      Hartford    CT   Merchant    Hartford County      town   1064.75  \n",
      "1        Bolton    CT     Farmer     Tolland County      town    449.96  \n",
      "2      Hartford    CT   Merchant    Hartford County      town    196.75  \n",
      "3      Hartford    CT   Merchant    Hartford County      town     53.58  \n",
      "4          Lyme    CT     Farmer  New London County      town    121.22  \n",
      "..          ...   ...        ...                ...       ...       ...  \n",
      "478  Middletown    CT     Yeoman   Middlesex County      town     39.11  \n",
      "479  Middletown    CT     Yeoman   Middlesex County      town     13.21  \n",
      "480     Norwich    CT   Merchant  New London County      town    533.34  \n",
      "481     Norwich    CT   Merchant  New London County      town    658.47  \n",
      "482     Ashford    CT     Yeoman     Windham County      town     12.22  \n",
      "\n",
      "[483 rows x 12 columns]\n"
     ]
    }
   ],
   "source": [
    "State = 'CT'\n",
    "AllOccs = pd.read_csv('../../../Data/Post1790/aggregated_CD_noname.csv') #Returns aggregated CSV file. \n",
    "AllOccs.drop(columns=['Unnamed: 0'], inplace=True) #Drop duplicate index column which appears.\n",
    "AllOccsCT = AllOccs[AllOccs['state'] == State] #Separate rows by state\n",
    "AllOccsCT = AllOccsCT.dropna(subset=['occupation']).reset_index(drop=True) #Drop any rows w/o an occupation listed. \n",
    "print(AllOccsCT)"
   ]
  },
  {
   "cell_type": "code",
   "execution_count": 1367,
   "id": "64212276",
   "metadata": {
    "pycharm": {
     "name": "#%%\n"
    }
   },
   "outputs": [
    {
     "name": "stdout",
     "output_type": "stream",
     "text": [
      "                                                           occupation  6p_total  # of people\n",
      "0                                   Adminastrator of the Asa Waterman    218.47            1\n",
      "1                                      Adminastrator to David Fellows      0.00            1\n",
      "2   Adminastrator to the Estate of Epaphras Bull of Hartford Deceased     61.30            1\n",
      "3                        Adminastrator to the Estate of Samuel Tilley     94.67            1\n",
      "4            Adminastrator to the estate of Uriah Loomis Jun Deceased     73.50            1\n",
      "5                                          Administrator to J McCurdy   3413.72            2\n",
      "6                         Administrator to the estate of Daniel Unkus     54.05            1\n",
      "7                Adminstrator to the Estate of Ezekiel Carey Deceased     77.61            1\n",
      "8                  Adminstrator to the Estate of Ruth Skiffe Deceased     87.74            1\n",
      "9                                                          Apothecary      7.72            1\n",
      "10                                                           Attorney   4863.67            3\n",
      "11                                                    Attorney at Law   6250.93           17\n",
      "12                                                         Blacksmith    724.71            3\n",
      "13                                                             Broker    208.55            3\n",
      "14                                                          Carpenter    175.34            1\n",
      "15                                           Cashier of Hartford Bank     85.30            2\n",
      "16                                                           Clothier     53.33            1\n",
      "17                           Committee of the 1st Ecclestical Society    306.28            1\n",
      "18                         Committee of the 1st Society of Plainville    220.49            1\n",
      "19                                                             Cooper    124.76            1\n",
      "20                                                             Doctor    647.09            1\n",
      "21                                                            Esquire  13020.09           13\n",
      "22                           Executor to Ezra Selden of Lyme Deceased   1963.62            1\n",
      "23                               Executor to Stephen Johnson Deceased      6.02            1\n",
      "24                                 Executor to Stephen Keyes Deceased    266.67            1\n",
      "25                               Executor to William Nichols Deceased      4.70            1\n",
      "26                      Executor to the Estate of Tim Mather Deceased   1573.33            1\n",
      "27                 Executor to the Estate of Uriah Loomis is Deceased    614.19            1\n",
      "28                   Executors to the Estate of Jabez Hamlin Deceased    129.72            1\n",
      "29                                                             Farmer  36715.82          167\n",
      "30                                                          Gentleman  16624.32           32\n",
      "31                                                          Goldsmith      6.82            1\n",
      "32                                            Guardian to Betsey Coit   1020.45            1\n",
      "33                                                 Guardian to J Neff     58.11            1\n",
      "34                                           Guardian to Sally Morgan    167.06            1\n",
      "35                                                             Hatter    242.99            1\n",
      "36                                                         Inn Keeper    201.53            3\n",
      "37                                                             Joiner     53.33            1\n",
      "38                                                    Leather Dresser    666.67            1\n",
      "39                                                            Mariner   3831.05           13\n",
      "40                                                           Merchant  63745.92           62\n",
      "41                                                          Merchents     19.08            1\n",
      "42                                                             Miller     18.99            1\n",
      "43                                                            Molster    211.38            1\n",
      "44                                                          Physician   1303.46            3\n",
      "45                                                         Post Rider    676.91            3\n",
      "46                                                            Printer    204.78            2\n",
      "47                                                        Proprietors    276.90            1\n",
      "48                                                             Sadler   3524.74            1\n",
      "49                                                   School Committee    305.49            4\n",
      "50                                       School Committee 1st Society    426.04            1\n",
      "51                                      School Committee North Parish    108.79            1\n",
      "52                                     School Committee North Society    231.33            1\n",
      "53                                                      School Master   2213.75            2\n",
      "54                                                   Sherriffs Deputy    512.45            3\n",
      "55                                                         Shipwright    533.33            1\n",
      "56                                                          Shoemaker   1345.46            6\n",
      "57                                                  Society Committee    336.64            1\n",
      "58                                                  Society Treasurer    303.27            3\n",
      "59                                                            Soldier     78.48            1\n",
      "60                                                           Spinster   1731.58            6\n",
      "61                                                             Tanner    713.06            1\n",
      "62                                                             Taylor    209.81            1\n",
      "63                                                             Trader   9192.98           43\n",
      "64                                                            Traders    261.15            3\n",
      "65                                                          Treasurer   4523.35            4\n",
      "66                                  Treasurer 1st Society in Cornwall    175.27            1\n",
      "67                                          Treasurer Stepney Society    164.31            1\n",
      "68                                           Treasurer in 1st Society    282.37            1\n",
      "69                                       Treasurer of Preston Society   1447.26            1\n",
      "70                                          Treasurer of Yale College   2697.98            1\n",
      "71              Treasurer to the Society of Cincinnati in Connecticut   5793.34            2\n",
      "72                                                              Widow   6488.11           28\n",
      "73                                         Wife of Eliphalet Williams     63.64            1\n",
      "74                                                             Yeoman     64.54            3\n"
     ]
    }
   ],
   "source": [
    "OccsTotalsCT = AllOccsCT.groupby('occupation')['6p_total'].apply(sum).reset_index() #Combine duplicate occupations.\n",
    "OccsTotalsCT['# of people'] = OccsTotalsCT['occupation'].map(AllOccsCT['occupation'].value_counts(dropna=False)) #Map # of people that belong to each occupation.\n",
    "print(OccsTotalsCT.to_string())"
   ]
  },
  {
   "cell_type": "code",
   "execution_count": 1368,
   "id": "b47301a1",
   "metadata": {
    "pycharm": {
     "name": "#%%\n"
    }
   },
   "outputs": [],
   "source": [
    "#Function that returns the same dataframe, but with all stopwords removed from the occupation titles. \n",
    "def RemoveStopwords(OccsTotals):\n",
    "    OccsTotals['occupation'] = OccsTotals['occupation'].apply(lambda OccName: ' '.join(word.lower() for word in OccName.split() if word not in Stops))\n",
    "    return OccsTotals "
   ]
  },
  {
   "cell_type": "code",
   "execution_count": 1369,
   "id": "621f505b",
   "metadata": {
    "pycharm": {
     "name": "#%%\n"
    }
   },
   "outputs": [
    {
     "name": "stdout",
     "output_type": "stream",
     "text": [
      "                                              occupation  6p_total  # of people\n",
      "0                             adminastrator asa waterman    218.47            1\n",
      "1                            adminastrator david fellows      0.00            1\n",
      "2   adminastrator estate epaphras bull hartford deceased     61.30            1\n",
      "3                     adminastrator estate samuel tilley     94.67            1\n",
      "4         adminastrator estate uriah loomis jun deceased     73.50            1\n",
      "5                                administrator j mccurdy   3413.72            2\n",
      "6                      administrator estate daniel unkus     54.05            1\n",
      "7             adminstrator estate ezekiel carey deceased     77.61            1\n",
      "8               adminstrator estate ruth skiffe deceased     87.74            1\n",
      "9                                             apothecary      7.72            1\n",
      "10                                              attorney   4863.67            3\n",
      "11                                          attorney law   6250.93           17\n",
      "12                                            blacksmith    724.71            3\n",
      "13                                                broker    208.55            3\n",
      "14                                             carpenter    175.34            1\n",
      "15                                 cashier hartford bank     85.30            2\n",
      "16                                              clothier     53.33            1\n",
      "17                     committee 1st ecclestical society    306.28            1\n",
      "18                      committee 1st society plainville    220.49            1\n",
      "19                                                cooper    124.76            1\n",
      "20                                                doctor    647.09            1\n",
      "21                                               esquire  13020.09           13\n",
      "22                    executor ezra selden lyme deceased   1963.62            1\n",
      "23                     executor stephen johnson deceased      6.02            1\n",
      "24                       executor stephen keyes deceased    266.67            1\n",
      "25                     executor william nichols deceased      4.70            1\n",
      "26                   executor estate tim mather deceased   1573.33            1\n",
      "27                 executor estate uriah loomis deceased    614.19            1\n",
      "28                executors estate jabez hamlin deceased    129.72            1\n",
      "29                                                farmer  36715.82          167\n",
      "30                                             gentleman  16624.32           32\n",
      "31                                             goldsmith      6.82            1\n",
      "32                                  guardian betsey coit   1020.45            1\n",
      "33                                       guardian j neff     58.11            1\n",
      "34                                 guardian sally morgan    167.06            1\n",
      "35                                                hatter    242.99            1\n",
      "36                                            inn keeper    201.53            3\n",
      "37                                                joiner     53.33            1\n",
      "38                                       leather dresser    666.67            1\n",
      "39                                               mariner   3831.05           13\n",
      "40                                              merchant  63745.92           62\n",
      "41                                             merchents     19.08            1\n",
      "42                                                miller     18.99            1\n",
      "43                                               molster    211.38            1\n",
      "44                                             physician   1303.46            3\n",
      "45                                            post rider    676.91            3\n",
      "46                                               printer    204.78            2\n",
      "47                                           proprietors    276.90            1\n",
      "48                                                sadler   3524.74            1\n",
      "49                                      school committee    305.49            4\n",
      "50                          school committee 1st society    426.04            1\n",
      "51                         school committee north parish    108.79            1\n",
      "52                        school committee north society    231.33            1\n",
      "53                                         school master   2213.75            2\n",
      "54                                      sherriffs deputy    512.45            3\n",
      "55                                            shipwright    533.33            1\n",
      "56                                             shoemaker   1345.46            6\n",
      "57                                     society committee    336.64            1\n",
      "58                                     society treasurer    303.27            3\n",
      "59                                               soldier     78.48            1\n",
      "60                                              spinster   1731.58            6\n",
      "61                                                tanner    713.06            1\n",
      "62                                                taylor    209.81            1\n",
      "63                                                trader   9192.98           43\n",
      "64                                               traders    261.15            3\n",
      "65                                             treasurer   4523.35            4\n",
      "66                        treasurer 1st society cornwall    175.27            1\n",
      "67                             treasurer stepney society    164.31            1\n",
      "68                                 treasurer 1st society    282.37            1\n",
      "69                             treasurer preston society   1447.26            1\n",
      "70                                treasurer yale college   2697.98            1\n",
      "71              treasurer society cincinnati connecticut   5793.34            2\n",
      "72                                                 widow   6488.11           28\n",
      "73                               wife eliphalet williams     63.64            1\n",
      "74                                                yeoman     64.54            3\n"
     ]
    }
   ],
   "source": [
    "OccsTotalsCT = RemoveStopwords(OccsTotalsCT) #Call \n",
    "print(OccsTotalsCT.to_string())"
   ]
  },
  {
   "cell_type": "code",
   "execution_count": 1370,
   "id": "c1444826",
   "metadata": {},
   "outputs": [],
   "source": [
    "Remove = 2 #Define remove constant. "
   ]
  },
  {
   "cell_type": "code",
   "execution_count": 1371,
   "id": "f9e7f7be",
   "metadata": {
    "pycharm": {
     "name": "#%%\n"
    }
   },
   "outputs": [],
   "source": [
    "#This function will help determine how many words we can acceptably cut off from the end. \n",
    "def FindRemoveConst(Occupations):\n",
    "    TempMaxLength = 2\n",
    "    \n",
    "    print('Occupation Before --> Occupation After')\n",
    "    print('--------------------------------------')\n",
    "    print('\\n')\n",
    "    \n",
    "    for Occupation in Occupations:\n",
    "        if (len(Occupation.split()) > TempMaxLength): #If occupation has more than two words, remove last two words.\n",
    "            OccupationAfter = Occupation.rsplit(' ', Remove)[0] \n",
    "        else:\n",
    "            OccupationAfter = Occupation #Else, set them both equal to each other; nothing changes. \n",
    "        \n",
    "        print(Occupation + ' --> ' + OccupationAfter)"
   ]
  },
  {
   "cell_type": "code",
   "execution_count": 1372,
   "id": "f2417b8c",
   "metadata": {
    "pycharm": {
     "name": "#%%\n"
    }
   },
   "outputs": [
    {
     "name": "stdout",
     "output_type": "stream",
     "text": [
      "Occupation Before --> Occupation After\n",
      "--------------------------------------\n",
      "\n",
      "\n",
      "adminastrator asa waterman --> adminastrator\n",
      "adminastrator david fellows --> adminastrator\n",
      "adminastrator estate epaphras bull hartford deceased --> adminastrator estate epaphras bull\n",
      "adminastrator estate samuel tilley --> adminastrator estate\n",
      "adminastrator estate uriah loomis jun deceased --> adminastrator estate uriah loomis\n",
      "administrator j mccurdy --> administrator\n",
      "administrator estate daniel unkus --> administrator estate\n",
      "adminstrator estate ezekiel carey deceased --> adminstrator estate ezekiel\n",
      "adminstrator estate ruth skiffe deceased --> adminstrator estate ruth\n",
      "apothecary --> apothecary\n",
      "attorney --> attorney\n",
      "attorney law --> attorney law\n",
      "blacksmith --> blacksmith\n",
      "broker --> broker\n",
      "carpenter --> carpenter\n",
      "cashier hartford bank --> cashier\n",
      "clothier --> clothier\n",
      "committee 1st ecclestical society --> committee 1st\n",
      "committee 1st society plainville --> committee 1st\n",
      "cooper --> cooper\n",
      "doctor --> doctor\n",
      "esquire --> esquire\n",
      "executor ezra selden lyme deceased --> executor ezra selden\n",
      "executor stephen johnson deceased --> executor stephen\n",
      "executor stephen keyes deceased --> executor stephen\n",
      "executor william nichols deceased --> executor william\n",
      "executor estate tim mather deceased --> executor estate tim\n",
      "executor estate uriah loomis deceased --> executor estate uriah\n",
      "executors estate jabez hamlin deceased --> executors estate jabez\n",
      "farmer --> farmer\n",
      "gentleman --> gentleman\n",
      "goldsmith --> goldsmith\n",
      "guardian betsey coit --> guardian\n",
      "guardian j neff --> guardian\n",
      "guardian sally morgan --> guardian\n",
      "hatter --> hatter\n",
      "inn keeper --> inn keeper\n",
      "joiner --> joiner\n",
      "leather dresser --> leather dresser\n",
      "mariner --> mariner\n",
      "merchant --> merchant\n",
      "merchents --> merchents\n",
      "miller --> miller\n",
      "molster --> molster\n",
      "physician --> physician\n",
      "post rider --> post rider\n",
      "printer --> printer\n",
      "proprietors --> proprietors\n",
      "sadler --> sadler\n",
      "school committee --> school committee\n",
      "school committee 1st society --> school committee\n",
      "school committee north parish --> school committee\n",
      "school committee north society --> school committee\n",
      "school master --> school master\n",
      "sherriffs deputy --> sherriffs deputy\n",
      "shipwright --> shipwright\n",
      "shoemaker --> shoemaker\n",
      "society committee --> society committee\n",
      "society treasurer --> society treasurer\n",
      "soldier --> soldier\n",
      "spinster --> spinster\n",
      "tanner --> tanner\n",
      "taylor --> taylor\n",
      "trader --> trader\n",
      "traders --> traders\n",
      "treasurer --> treasurer\n",
      "treasurer 1st society cornwall --> treasurer 1st\n",
      "treasurer stepney society --> treasurer\n",
      "treasurer 1st society --> treasurer\n",
      "treasurer preston society --> treasurer\n",
      "treasurer yale college --> treasurer\n",
      "treasurer society cincinnati connecticut --> treasurer society\n",
      "widow --> widow\n",
      "wife eliphalet williams --> wife\n",
      "yeoman --> yeoman\n"
     ]
    }
   ],
   "source": [
    "FindRemoveConst(OccsTotalsCT['occupation'].tolist())"
   ]
  },
  {
   "cell_type": "code",
   "execution_count": 1373,
   "id": "fbda483f",
   "metadata": {
    "pycharm": {
     "name": "#%%\n"
    }
   },
   "outputs": [],
   "source": [
    "#Declare necessary parameters for KeywordExtractor() function.\n",
    "MaxLength = 2\n",
    "language = 'en' #Set language to English.\n",
    "MaxSize = 1  #Each keyword can only be a max. length of 1.\n",
    "DupThres = 0.5 #Words can not be used repeatedly in keywords. Treat each word separately. \n",
    "KeyExtractor = KeywordExtractor(lan=language, n=MaxSize, dedupLim=DupThres, features=None) #Create KeywordExtractor object.\n",
    "NoMerge = []"
   ]
  },
  {
   "cell_type": "code",
   "execution_count": 1374,
   "id": "e484a0cf",
   "metadata": {},
   "outputs": [],
   "source": [
    "# Manually clean items. \n",
    "Exceptions = {'inn keeper': 'inn keeper', 'leather dresser': 'leather dresser', 'post rider': 'post rider', \n",
    "              'school committee': 'school committee', 'school master': 'school master', 'society committee': 'committee', \n",
    "              'society treasurer': 'treasurer', 'frederick company': 'frederick company', 'the state north carolina': None,\n",
    "              'the state of north carolina' : 'the state of north carolina','in trust jacobus van eis somerset county': 'assignee', \n",
    "              'ah.vat law': 'attorney', 'black smith': 'blacksmith','book binder': 'book binder', 'ex estate john baird': 'executors', \n",
    "              'ex': 'executors', 'junior broker': 'broker', 'post master': 'post master', 'ship wright': 'ship wright', 'shop keeper': 'shopkeeper', \n",
    "              'christopher mary': 'individual', 'law': 'attorney', 'lawyer': 'attorney', \n",
    "              'adm alexander mccaraher late chester': 'administer', \n",
    "              'general treasurer state rhode island suceessors said': 'treasurer', 'behalf proprietors': 'proprietors', \n",
    "              'chaise maker': 'chaise maker', 'executrix william': 'executor', 'blacks smith': 'blacksmith', \n",
    "              'cabinet maker': 'cabinet maker', 'charleston merchants': 'merchants', 'hair dresser': 'hair dresser', \n",
    "              'south carolina': 'south carolina', 'vendue master': 'auctioneer', 'physician' : 'doctor', 'administer' : 'adminastrator',\n",
    "                'esquier' : 'esq', 'excuters' : 'excuetor', 'extors' : 'excuetor', 'esquire' : 'esq', 'executers' : 'excuetor',\n",
    "             'yeoman' : 'farmer', 'cordwainer' : 'shoemaker', 'joiner' : 'carpenter', 'innholder' : 'inn keeper', 'factor' : 'trader',\n",
    "             'asse john b ashe exe' : 'executors', 'trust' : 'assignee', 'pennsylvania' : None, 'co' : None, 'penniston' : None}"
   ]
  },
  {
   "cell_type": "code",
   "execution_count": 1375,
   "id": "f18de2a8",
   "metadata": {},
   "outputs": [
    {
     "name": "stdout",
     "output_type": "stream",
     "text": [
      "adm alexander mccaraher late chester: administer\n",
      "administer: adminastrator\n",
      "ah.vat law: attorney\n",
      "asse john b ashe exe: executors\n",
      "behalf proprietors: proprietors\n",
      "black smith: blacksmith\n",
      "blacks smith: blacksmith\n",
      "book binder: book binder\n",
      "cabinet maker: cabinet maker\n",
      "chaise maker: chaise maker\n",
      "charleston merchants: merchants\n",
      "christopher mary: individual\n",
      "co: None\n",
      "cordwainer: shoemaker\n",
      "esquier: esq\n",
      "esquire: esq\n",
      "ex: executors\n",
      "ex estate john baird: executors\n",
      "excuters: excuetor\n",
      "executers: excuetor\n",
      "executrix william: executor\n",
      "extors: excuetor\n",
      "factor: trader\n",
      "frederick company: frederick company\n",
      "general treasurer state rhode island suceessors said: treasurer\n",
      "hair dresser: hair dresser\n",
      "in trust jacobus van eis somerset county: assignee\n",
      "inn keeper: inn keeper\n",
      "innholder: inn keeper\n",
      "joiner: carpenter\n",
      "junior broker: broker\n",
      "law: attorney\n",
      "lawyer: attorney\n",
      "leather dresser: leather dresser\n",
      "penniston: None\n",
      "pennsylvania: None\n",
      "physician: doctor\n",
      "post master: post master\n",
      "post rider: post rider\n",
      "school committee: school committee\n",
      "school master: school master\n",
      "ship wright: ship wright\n",
      "shop keeper: shopkeeper\n",
      "society committee: committee\n",
      "society treasurer: treasurer\n",
      "south carolina: south carolina\n",
      "the state north carolina: None\n",
      "the state of north carolina: the state of north carolina\n",
      "trust: assignee\n",
      "vendue master: auctioneer\n",
      "yeoman: farmer\n"
     ]
    }
   ],
   "source": [
    "#Print alphabetized version of 'Exceptions'.\n",
    "for Name in sorted(Exceptions):\n",
    "    print(\"%s: %s\" % (Name, Exceptions[Name]))"
   ]
  },
  {
   "cell_type": "code",
   "execution_count": 1376,
   "id": "5d41aa78",
   "metadata": {},
   "outputs": [
    {
     "data": {
      "text/plain": [
       "'\\nItem = input()\\nif (Item in Exceptions) or (Item in Exceptions.values()): #Check keys and values of the dictionary. \\n    print(True)\\nelse:\\n    print(False)\\n'"
      ]
     },
     "execution_count": 1376,
     "metadata": {},
     "output_type": "execute_result"
    }
   ],
   "source": [
    "#Search for an item in 'Exceptions' dictionary. Uncomment when necessary.\n",
    "\"\"\"\n",
    "Item = input()\n",
    "if (Item in Exceptions) or (Item in Exceptions.values()): #Check keys and values of the dictionary. \n",
    "    print(True)\n",
    "else:\n",
    "    print(False)\n",
    "\"\"\""
   ]
  },
  {
   "cell_type": "code",
   "execution_count": 1377,
   "id": "eae4c139",
   "metadata": {
    "pycharm": {
     "name": "#%%\n"
    }
   },
   "outputs": [],
   "source": [
    "#Print what the merged occupations will look like. This will help us find any exceptions. \n",
    "def PrintFutureOccupations(Occupations):    \n",
    "    print('Occupations --> Potential Cleaned Occupations')\n",
    "    print('---------------------------------------------')\n",
    "    print('\\n')\n",
    "        \n",
    "    for Occupation in Occupations:\n",
    "        if (len(Occupation.split()) > MaxLength): #If occupation has more than two words in it, remove last two words. Depends on constant. Might change. \n",
    "            Occupation = Occupation.rsplit(' ', Remove)[0]\n",
    "            \n",
    "        Keywords = KeyExtractor.extract_keywords(Occupation) #Retrieve list of keywords. \n",
    "        \n",
    "        if (len(Keywords) == 0):\n",
    "            Keywords.append((Occupation, ' '))\n",
    "                    \n",
    "        print(Occupation + ' --> ' + str(Keywords[0][0])) #Print current occupation title to hypothetical cleaned occupation title."
   ]
  },
  {
   "cell_type": "code",
   "execution_count": 1378,
   "id": "b5d57c40",
   "metadata": {
    "pycharm": {
     "name": "#%%\n"
    }
   },
   "outputs": [
    {
     "name": "stdout",
     "output_type": "stream",
     "text": [
      "Occupations --> Potential Cleaned Occupations\n",
      "---------------------------------------------\n",
      "\n",
      "\n",
      "adminastrator --> adminastrator\n",
      "adminastrator --> adminastrator\n",
      "adminastrator estate epaphras bull --> adminastrator\n",
      "adminastrator estate --> adminastrator\n",
      "adminastrator estate uriah loomis --> adminastrator\n",
      "administrator --> administrator\n",
      "administrator estate --> administrator\n",
      "adminstrator estate ezekiel --> adminstrator\n",
      "adminstrator estate ruth --> adminstrator\n",
      "apothecary --> apothecary\n",
      "attorney --> attorney\n",
      "attorney law --> attorney\n",
      "blacksmith --> blacksmith\n",
      "broker --> broker\n",
      "carpenter --> carpenter\n",
      "cashier --> cashier\n",
      "clothier --> clothier\n",
      "committee 1st --> committee\n",
      "committee 1st --> committee\n",
      "cooper --> cooper\n",
      "doctor --> doctor\n",
      "esquire --> esquire\n",
      "executor ezra selden --> executor\n",
      "executor stephen --> executor\n",
      "executor stephen --> executor\n",
      "executor william --> executor\n",
      "executor estate tim --> executor\n",
      "executor estate uriah --> executor\n",
      "executors estate jabez --> executors\n",
      "farmer --> farmer\n",
      "gentleman --> gentleman\n",
      "goldsmith --> goldsmith\n",
      "guardian --> guardian\n",
      "guardian --> guardian\n",
      "guardian --> guardian\n",
      "hatter --> hatter\n",
      "inn keeper --> inn\n",
      "joiner --> joiner\n",
      "leather dresser --> leather\n",
      "mariner --> mariner\n",
      "merchant --> merchant\n",
      "merchents --> merchents\n",
      "miller --> miller\n",
      "molster --> molster\n",
      "physician --> physician\n",
      "post rider --> post\n",
      "printer --> printer\n",
      "proprietors --> proprietors\n",
      "sadler --> sadler\n",
      "school committee --> school\n",
      "school committee --> school\n",
      "school committee --> school\n",
      "school committee --> school\n",
      "school master --> school\n",
      "sherriffs deputy --> sherriffs\n",
      "shipwright --> shipwright\n",
      "shoemaker --> shoemaker\n",
      "society committee --> society\n",
      "society treasurer --> society\n",
      "soldier --> soldier\n",
      "spinster --> spinster\n",
      "tanner --> tanner\n",
      "taylor --> taylor\n",
      "trader --> trader\n",
      "traders --> traders\n",
      "treasurer --> treasurer\n",
      "treasurer 1st --> treasurer\n",
      "treasurer --> treasurer\n",
      "treasurer --> treasurer\n",
      "treasurer --> treasurer\n",
      "treasurer --> treasurer\n",
      "treasurer society --> treasurer\n",
      "widow --> widow\n",
      "wife --> wife\n",
      "yeoman --> yeoman\n"
     ]
    }
   ],
   "source": [
    "PrintFutureOccupations(OccsTotalsCT['occupation'].tolist())"
   ]
  },
  {
   "cell_type": "code",
   "execution_count": 1379,
   "id": "5133220c",
   "metadata": {
    "pycharm": {
     "name": "#%%\n"
    }
   },
   "outputs": [],
   "source": [
    "#Handle duplicate occupations that are spelled differently. Pass in 'occupation' column as a list. Pass in function which will do a manual check for each state (differs w/ each state). \n",
    "def MergeOccupations(OccsTotals):\n",
    "    OccsTotals['% of total people'] = None #Add a percent of total population column.\n",
    "    Occupations = OccsTotals['occupation'].tolist() #Returns 'occupation' column as a list.    \n",
    "    Index = 0 #Keep track of index. \n",
    "    \n",
    "    for Occupation in Occupations:\n",
    "        if (len(Occupation.split()) > MaxLength): #If occupation has more than two words in it, remove last two words. Depends on constant. Might change. \n",
    "            Occupation = Occupation.rsplit(' ', Remove)[0]\n",
    "            \n",
    "        Keywords = KeyExtractor.extract_keywords(Occupation) #Retrieve list of keywords. \n",
    "        \n",
    "        if (len(Keywords) == 0):\n",
    "            Keywords.append((Occupation, ' '))\n",
    "        \n",
    "        NewOccupation = Keywords[0][0] #Get new occupation from list of keywords. Based on which keyword has the highest rating.\n",
    "                \n",
    "        if (Occupation in Exceptions): #If occupation is an exception, set new occupation. \n",
    "            NewOccupation = Exceptions[Occupation]\n",
    "    \n",
    "        OccsTotals.loc[Index, 'occupation'] = NewOccupation #Replace occupation with new occupation in dataframe.\n",
    "        \n",
    "        Index += 1 #Increment. \n",
    "    \n",
    "    print('After Cleaning')\n",
    "    print('--------------')\n",
    "    print('\\n')\n",
    "    print(OccsTotals.to_string()) #Check\n",
    "    print('\\n')\n",
    "    \n",
    "    OccsTotals = OccsTotals.groupby('occupation')[['6p_total', '# of people', '% of total people']].apply(sum).reset_index() #Combine duplicate occupations, reset index. \n",
    "    OccsTotals['# of people'] = OccsTotals['# of people'].astype(int) #Convert values in '# of people' column to all ints. \n",
    "    \n",
    "    print('After Removing Duplicates and Summing')\n",
    "    print('-------------------------------------')\n",
    "    print('\\n')\n",
    "    print(OccsTotals.to_string()) #Check\n",
    "    print('\\n')\n",
    "    \n",
    "    Occupations = OccsTotals['occupation'].tolist() #Reinstantiate Occupations after changing OccsTotals\n",
    "    i = 0 #Declare new index.\n",
    "    while (i < len(Occupations)): \n",
    "        j = 0 #Declare new index.\n",
    "        while (j < len(Occupations)):                \n",
    "            if (rapidfuzz.fuzz.ratio(Occupations[i], Occupations[j]) > 80) and (Occupations[i] != Occupations[j]) and ((Occupations[j] not in NoMerge) and (Occupations[i] not in NoMerge))  : #Use fuzzy string matching to determine whether two occupations are the same or not.               \n",
    "                Total = float(OccsTotals.loc[j, '6p_total']) #Get total from duplicate occupation.\n",
    "                OccsTotals.loc[i, '6p_total'] += Total #Merge totals together.\n",
    "                \n",
    "                NumOfPeople = OccsTotals.loc[j, '# of people'] #Get number of people in row j.\n",
    "                OccsTotals.loc[i, '# of people'] += NumOfPeople #Add that number to row i.\n",
    "                \n",
    "                OccsTotals.drop(j, inplace=True) #Remove duplicate occupation.\n",
    "                OccsTotals = OccsTotals.reset_index(drop=True) #Reset index.\n",
    "                \n",
    "                print('Removed: ' + Occupations[j] + ' --> ' + Occupations[i])\n",
    "                \n",
    "                Occupations.remove(Occupations[j]) #Remove from list of occupations so loop will not iterate over it again.\n",
    "            else:\n",
    "                j += 1\n",
    "                \n",
    "        i += 1\n",
    "        \n",
    "    OccsTotals['average debt per person'] = OccsTotals['6p_total'] / OccsTotals['# of people'] #Add an average column.\n",
    "    OccsTotals['% of total people'] = (OccsTotals['# of people'] / OccsTotals['# of people'].sum()) * 100 #Assign values to '# of people column'.\n",
    "    OccsTotals = OccsTotals.sort_values('6p_total', ascending=False).reset_index(drop=True)\n",
    "    \n",
    "    print('\\n')\n",
    "    print('After Using Fuzzy String Matching')\n",
    "    print('---------------------------------')\n",
    "    print('\\n')\n",
    "    print(OccsTotals.to_string())\n",
    "    print('\\n')\n",
    "    \n",
    "    return OccsTotals\n",
    "        "
   ]
  },
  {
   "cell_type": "code",
   "execution_count": 1380,
   "id": "dffc9c72",
   "metadata": {
    "pycharm": {
     "name": "#%%\n"
    },
    "scrolled": false
   },
   "outputs": [
    {
     "name": "stdout",
     "output_type": "stream",
     "text": [
      "After Cleaning\n",
      "--------------\n",
      "\n",
      "\n",
      "          occupation  6p_total  # of people % of total people\n",
      "0      adminastrator    218.47            1              None\n",
      "1      adminastrator      0.00            1              None\n",
      "2      adminastrator     61.30            1              None\n",
      "3      adminastrator     94.67            1              None\n",
      "4      adminastrator     73.50            1              None\n",
      "5      administrator   3413.72            2              None\n",
      "6      administrator     54.05            1              None\n",
      "7       adminstrator     77.61            1              None\n",
      "8       adminstrator     87.74            1              None\n",
      "9         apothecary      7.72            1              None\n",
      "10          attorney   4863.67            3              None\n",
      "11          attorney   6250.93           17              None\n",
      "12        blacksmith    724.71            3              None\n",
      "13            broker    208.55            3              None\n",
      "14         carpenter    175.34            1              None\n",
      "15           cashier     85.30            2              None\n",
      "16          clothier     53.33            1              None\n",
      "17         committee    306.28            1              None\n",
      "18         committee    220.49            1              None\n",
      "19            cooper    124.76            1              None\n",
      "20            doctor    647.09            1              None\n",
      "21               esq  13020.09           13              None\n",
      "22          executor   1963.62            1              None\n",
      "23          executor      6.02            1              None\n",
      "24          executor    266.67            1              None\n",
      "25          executor      4.70            1              None\n",
      "26          executor   1573.33            1              None\n",
      "27          executor    614.19            1              None\n",
      "28         executors    129.72            1              None\n",
      "29            farmer  36715.82          167              None\n",
      "30         gentleman  16624.32           32              None\n",
      "31         goldsmith      6.82            1              None\n",
      "32          guardian   1020.45            1              None\n",
      "33          guardian     58.11            1              None\n",
      "34          guardian    167.06            1              None\n",
      "35            hatter    242.99            1              None\n",
      "36        inn keeper    201.53            3              None\n",
      "37         carpenter     53.33            1              None\n",
      "38   leather dresser    666.67            1              None\n",
      "39           mariner   3831.05           13              None\n",
      "40          merchant  63745.92           62              None\n",
      "41         merchents     19.08            1              None\n",
      "42            miller     18.99            1              None\n",
      "43           molster    211.38            1              None\n",
      "44            doctor   1303.46            3              None\n",
      "45        post rider    676.91            3              None\n",
      "46           printer    204.78            2              None\n",
      "47       proprietors    276.90            1              None\n",
      "48            sadler   3524.74            1              None\n",
      "49  school committee    305.49            4              None\n",
      "50  school committee    426.04            1              None\n",
      "51  school committee    108.79            1              None\n",
      "52  school committee    231.33            1              None\n",
      "53     school master   2213.75            2              None\n",
      "54         sherriffs    512.45            3              None\n",
      "55        shipwright    533.33            1              None\n",
      "56         shoemaker   1345.46            6              None\n",
      "57         committee    336.64            1              None\n",
      "58         treasurer    303.27            3              None\n",
      "59           soldier     78.48            1              None\n",
      "60          spinster   1731.58            6              None\n",
      "61            tanner    713.06            1              None\n",
      "62            taylor    209.81            1              None\n",
      "63            trader   9192.98           43              None\n",
      "64           traders    261.15            3              None\n",
      "65         treasurer   4523.35            4              None\n",
      "66         treasurer    175.27            1              None\n",
      "67         treasurer    164.31            1              None\n",
      "68         treasurer    282.37            1              None\n",
      "69         treasurer   1447.26            1              None\n",
      "70         treasurer   2697.98            1              None\n",
      "71         treasurer   5793.34            2              None\n",
      "72             widow   6488.11           28              None\n",
      "73              wife     63.64            1              None\n",
      "74            farmer     64.54            3              None\n",
      "\n",
      "\n",
      "After Removing Duplicates and Summing\n",
      "-------------------------------------\n",
      "\n",
      "\n",
      "          occupation  6p_total  # of people  % of total people\n",
      "0      adminastrator    447.94            5                  0\n",
      "1      administrator   3467.77            3                  0\n",
      "2       adminstrator    165.35            2                  0\n",
      "3         apothecary      7.72            1                  0\n",
      "4           attorney  11114.60           20                  0\n",
      "5         blacksmith    724.71            3                  0\n",
      "6             broker    208.55            3                  0\n",
      "7          carpenter    228.67            2                  0\n",
      "8            cashier     85.30            2                  0\n",
      "9           clothier     53.33            1                  0\n",
      "10         committee    863.41            3                  0\n",
      "11            cooper    124.76            1                  0\n",
      "12            doctor   1950.55            4                  0\n",
      "13               esq  13020.09           13                  0\n",
      "14          executor   4428.53            6                  0\n",
      "15         executors    129.72            1                  0\n",
      "16            farmer  36780.36          170                  0\n",
      "17         gentleman  16624.32           32                  0\n",
      "18         goldsmith      6.82            1                  0\n",
      "19          guardian   1245.62            3                  0\n",
      "20            hatter    242.99            1                  0\n",
      "21        inn keeper    201.53            3                  0\n",
      "22   leather dresser    666.67            1                  0\n",
      "23           mariner   3831.05           13                  0\n",
      "24          merchant  63745.92           62                  0\n",
      "25         merchents     19.08            1                  0\n",
      "26            miller     18.99            1                  0\n",
      "27           molster    211.38            1                  0\n",
      "28        post rider    676.91            3                  0\n",
      "29           printer    204.78            2                  0\n",
      "30       proprietors    276.90            1                  0\n",
      "31            sadler   3524.74            1                  0\n",
      "32  school committee   1071.65            7                  0\n",
      "33     school master   2213.75            2                  0\n",
      "34         sherriffs    512.45            3                  0\n",
      "35        shipwright    533.33            1                  0\n",
      "36         shoemaker   1345.46            6                  0\n",
      "37           soldier     78.48            1                  0\n",
      "38          spinster   1731.58            6                  0\n",
      "39            tanner    713.06            1                  0\n",
      "40            taylor    209.81            1                  0\n",
      "41            trader   9192.98           43                  0\n",
      "42           traders    261.15            3                  0\n",
      "43         treasurer  15387.15           14                  0\n",
      "44             widow   6488.11           28                  0\n",
      "45              wife     63.64            1                  0\n",
      "\n",
      "\n",
      "Removed: administrator --> adminastrator\n",
      "Removed: adminstrator --> adminastrator\n",
      "Removed: executors --> executor\n",
      "Removed: merchents --> merchant\n",
      "Removed: traders --> trader\n",
      "\n",
      "\n",
      "After Using Fuzzy String Matching\n",
      "---------------------------------\n",
      "\n",
      "\n",
      "          occupation  6p_total  # of people  % of total people  average debt per person\n",
      "0           merchant  63765.00           63          13.043478              1012.142857\n",
      "1             farmer  36780.36          170          35.196687               216.355059\n",
      "2          gentleman  16624.32           32           6.625259               519.510000\n",
      "3          treasurer  15387.15           14           2.898551              1099.082143\n",
      "4                esq  13020.09           13           2.691511              1001.545385\n",
      "5           attorney  11114.60           20           4.140787               555.730000\n",
      "6             trader   9454.13           46           9.523810               205.524565\n",
      "7              widow   6488.11           28           5.797101               231.718214\n",
      "8           executor   4558.25            7           1.449275               651.178571\n",
      "9      adminastrator   4081.06           10           2.070393               408.106000\n",
      "10           mariner   3831.05           13           2.691511               294.696154\n",
      "11            sadler   3524.74            1           0.207039              3524.740000\n",
      "12     school master   2213.75            2           0.414079              1106.875000\n",
      "13            doctor   1950.55            4           0.828157               487.637500\n",
      "14          spinster   1731.58            6           1.242236               288.596667\n",
      "15         shoemaker   1345.46            6           1.242236               224.243333\n",
      "16          guardian   1245.62            3           0.621118               415.206667\n",
      "17  school committee   1071.65            7           1.449275               153.092857\n",
      "18         committee    863.41            3           0.621118               287.803333\n",
      "19        blacksmith    724.71            3           0.621118               241.570000\n",
      "20            tanner    713.06            1           0.207039               713.060000\n",
      "21        post rider    676.91            3           0.621118               225.636667\n",
      "22   leather dresser    666.67            1           0.207039               666.670000\n",
      "23        shipwright    533.33            1           0.207039               533.330000\n",
      "24         sherriffs    512.45            3           0.621118               170.816667\n",
      "25       proprietors    276.90            1           0.207039               276.900000\n",
      "26            hatter    242.99            1           0.207039               242.990000\n",
      "27         carpenter    228.67            2           0.414079               114.335000\n",
      "28           molster    211.38            1           0.207039               211.380000\n",
      "29            taylor    209.81            1           0.207039               209.810000\n",
      "30            broker    208.55            3           0.621118                69.516667\n",
      "31           printer    204.78            2           0.414079               102.390000\n",
      "32        inn keeper    201.53            3           0.621118                67.176667\n",
      "33            cooper    124.76            1           0.207039               124.760000\n",
      "34           cashier     85.30            2           0.414079                42.650000\n",
      "35           soldier     78.48            1           0.207039                78.480000\n",
      "36              wife     63.64            1           0.207039                63.640000\n",
      "37          clothier     53.33            1           0.207039                53.330000\n",
      "38            miller     18.99            1           0.207039                18.990000\n",
      "39        apothecary      7.72            1           0.207039                 7.720000\n",
      "40         goldsmith      6.82            1           0.207039                 6.820000\n",
      "\n",
      "\n"
     ]
    }
   ],
   "source": [
    "OccsTotalsCT = MergeOccupations(OccsTotalsCT)"
   ]
  },
  {
   "cell_type": "code",
   "execution_count": 1381,
   "id": "a1c85dd0",
   "metadata": {
    "pycharm": {
     "name": "#%%\n"
    }
   },
   "outputs": [],
   "source": [
    "def TurnToExcel(DF, State):\n",
    "    DF.to_excel('./FinishedSpreadsheets/Occupations' + State + '.xlsx')"
   ]
  },
  {
   "cell_type": "code",
   "execution_count": 1382,
   "id": "2a8b5bc7",
   "metadata": {
    "pycharm": {
     "name": "#%%\n"
    }
   },
   "outputs": [],
   "source": [
    "TurnToExcel(OccsTotalsCT, State)"
   ]
  },
  {
   "cell_type": "markdown",
   "id": "6471988f",
   "metadata": {
    "pycharm": {
     "name": "#%% md\n"
    }
   },
   "source": [
    "# Georgia"
   ]
  },
  {
   "cell_type": "code",
   "execution_count": 1383,
   "id": "a96bbc32",
   "metadata": {
    "pycharm": {
     "name": "#%%\n"
    }
   },
   "outputs": [
    {
     "name": "stdout",
     "output_type": "stream",
     "text": [
      "   6p_Dollar    6p_Cents  6p_def_Dollar  6p_def_Cents  3p_Dollar  3p_Cents  \\\n",
      "0     4586.0     66.0000         2293.0       33.0000     3026.0     11.00   \n",
      "1        1.0     95.1133            1.0       47.5567        NaN      0.00   \n",
      "2        1.0     90.3000            1.0       45.1000        1.0     93.50   \n",
      "3        1.0    129.6533            1.0       64.8233        1.0    144.96   \n",
      "4        1.0    209.8633            1.0      104.9333        1.0    241.38   \n",
      "5        1.0  10108.9033            1.0     5054.4533        1.0   2729.40   \n",
      "6        1.0    114.7330            1.0       57.3330        1.0    124.45   \n",
      "7       20.0     26.1200           16.0       13.0600        NaN       NaN   \n",
      "8       37.0     18.2000           18.0        9.0900        NaN      0.00   \n",
      "9    10508.0     90.0000            NaN           NaN        NaN       NaN   \n",
      "\n",
      "               town state occupation           county name_type      6p_total  \n",
      "0  State of Georgia    GA  Gentleman              NaN     state   4586.660000  \n",
      "1          Savannah    GA   Merchant   Chatham County      town      1.951133  \n",
      "2          Savannah    GA   Merchant   Chatham County      town      1.903000  \n",
      "3          Savannah    GA  Merchants   Chatham County      town      2.296533  \n",
      "4          Savannah    GA   Merchant   Chatham County      town      3.098633  \n",
      "5           Augusta    GA        Esq  Richmond County      town    102.089033  \n",
      "6          Savannah    GA   Merchant   Chatham County      town      2.147330  \n",
      "7          Savannah    GA   Merchant   Chatham County      town     20.261200  \n",
      "8           Augusta    GA  Merchants  Richmond County      town     37.182000  \n",
      "9          Savannah    GA   Merchant   Chatham County      town  10508.900000  \n"
     ]
    }
   ],
   "source": [
    "State = 'GA'\n",
    "AllOccsGA = AllOccs[AllOccs['state'] == State] #Separate rows by state\n",
    "AllOccsGA = AllOccsGA.dropna(subset=['occupation']).reset_index(drop=True) #Drop any rows w/o an occupation listed. \n",
    "print(AllOccsGA)"
   ]
  },
  {
   "cell_type": "code",
   "execution_count": 1384,
   "id": "853ab773",
   "metadata": {
    "pycharm": {
     "name": "#%%\n"
    }
   },
   "outputs": [
    {
     "name": "stdout",
     "output_type": "stream",
     "text": [
      "  occupation      6p_total  # of people\n",
      "0        Esq    102.089033            1\n",
      "1  Gentleman   4586.660000            1\n",
      "2   Merchant  10538.261296            6\n",
      "3  Merchants     39.478533            2\n"
     ]
    }
   ],
   "source": [
    "OccsTotalsGA = AllOccsGA.groupby('occupation')['6p_total'].apply(sum).reset_index() #Combine duplicate occupations.\n",
    "OccsTotalsGA['# of people'] = OccsTotalsGA['occupation'].map(AllOccsGA['occupation'].value_counts(dropna=False)) #Map # of people that belong to each occupation.\n",
    "print(OccsTotalsGA.to_string())"
   ]
  },
  {
   "cell_type": "code",
   "execution_count": 1385,
   "id": "2ea99c0b",
   "metadata": {
    "pycharm": {
     "name": "#%%\n"
    }
   },
   "outputs": [
    {
     "name": "stdout",
     "output_type": "stream",
     "text": [
      "  occupation      6p_total  # of people\n",
      "0        esq    102.089033            1\n",
      "1  gentleman   4586.660000            1\n",
      "2   merchant  10538.261296            6\n",
      "3  merchants     39.478533            2\n"
     ]
    }
   ],
   "source": [
    "OccsTotalsGA = RemoveStopwords(OccsTotalsGA) \n",
    "print(OccsTotalsGA.to_string())"
   ]
  },
  {
   "cell_type": "code",
   "execution_count": 1386,
   "id": "c7250337",
   "metadata": {
    "pycharm": {
     "name": "#%%\n"
    }
   },
   "outputs": [
    {
     "name": "stdout",
     "output_type": "stream",
     "text": [
      "Occupation Before --> Occupation After\n",
      "--------------------------------------\n",
      "\n",
      "\n",
      "esq --> esq\n",
      "gentleman --> gentleman\n",
      "merchant --> merchant\n",
      "merchants --> merchants\n"
     ]
    }
   ],
   "source": [
    "FindRemoveConst(OccsTotalsGA['occupation'].tolist())"
   ]
  },
  {
   "cell_type": "code",
   "execution_count": 1387,
   "id": "2118797a",
   "metadata": {
    "pycharm": {
     "name": "#%%\n"
    }
   },
   "outputs": [
    {
     "name": "stdout",
     "output_type": "stream",
     "text": [
      "After Cleaning\n",
      "--------------\n",
      "\n",
      "\n",
      "  occupation      6p_total  # of people % of total people\n",
      "0        esq    102.089033            1              None\n",
      "1  gentleman   4586.660000            1              None\n",
      "2   merchant  10538.261296            6              None\n",
      "3  merchants     39.478533            2              None\n",
      "\n",
      "\n",
      "After Removing Duplicates and Summing\n",
      "-------------------------------------\n",
      "\n",
      "\n",
      "  occupation      6p_total  # of people  % of total people\n",
      "0        esq    102.089033            1                  0\n",
      "1  gentleman   4586.660000            1                  0\n",
      "2   merchant  10538.261296            6                  0\n",
      "3  merchants     39.478533            2                  0\n",
      "\n",
      "\n",
      "Removed: merchants --> merchant\n",
      "\n",
      "\n",
      "After Using Fuzzy String Matching\n",
      "---------------------------------\n",
      "\n",
      "\n",
      "  occupation      6p_total  # of people  % of total people  average debt per person\n",
      "0   merchant  10577.739829            8               80.0              1322.217479\n",
      "1  gentleman   4586.660000            1               10.0              4586.660000\n",
      "2        esq    102.089033            1               10.0               102.089033\n",
      "\n",
      "\n"
     ]
    }
   ],
   "source": [
    "OccsTotalsGA = MergeOccupations(OccsTotalsGA)"
   ]
  },
  {
   "cell_type": "code",
   "execution_count": 1388,
   "id": "4296f136",
   "metadata": {
    "pycharm": {
     "name": "#%%\n"
    }
   },
   "outputs": [],
   "source": [
    "TurnToExcel(OccsTotalsGA, State)"
   ]
  },
  {
   "cell_type": "markdown",
   "id": "5c6f3867",
   "metadata": {
    "pycharm": {
     "name": "#%% md\n"
    }
   },
   "source": [
    "# Maryland"
   ]
  },
  {
   "cell_type": "code",
   "execution_count": 1389,
   "id": "310b01f1",
   "metadata": {
    "pycharm": {
     "name": "#%%\n"
    },
    "scrolled": true
   },
   "outputs": [
    {
     "name": "stdout",
     "output_type": "stream",
     "text": [
      "    6p_Dollar  6p_Cents  6p_def_Dollar  6p_def_Cents  3p_Dollar  3p_Cents  \\\n",
      "0        17.0   66.5733           13.0       33.2833       14.0      76.4   \n",
      "1     26745.0   77.0000        13372.0       88.0000    50000.0      51.0   \n",
      "2      1243.0   42.0000          621.0       71.0000     1796.0      44.0   \n",
      "3       117.0   90.0000           58.0       94.0000      113.0      53.0   \n",
      "4       141.0    3.0000           70.0       51.0000      375.0      32.0   \n",
      "5        40.0   81.0000           20.0       40.0000       40.0      79.0   \n",
      "6       789.0   24.0000          394.0       61.0000        NaN       NaN   \n",
      "7       812.0   33.0000          406.0       16.0000      999.0      45.0   \n",
      "8       341.0    8.0000          170.0       53.0000      265.0      47.0   \n",
      "9      1122.0   48.0000          561.0       24.0000      761.0      65.0   \n",
      "10     1926.0   70.0000          963.0       35.0000      696.0      98.0   \n",
      "11     3120.0   91.0000         1560.0       45.0000     2499.0      70.0   \n",
      "12       61.0   94.0000           30.0       97.0000        NaN       NaN   \n",
      "13      946.0   41.0000          473.0       20.0000      816.0       4.0   \n",
      "14      114.0   59.0000           57.0       29.0000      113.0       1.0   \n",
      "15     6565.0   31.0000         3282.0       65.0000     1775.0      40.0   \n",
      "16      208.0   81.0000          104.0       40.0000        NaN       NaN   \n",
      "17     2300.0       NaN         1150.0           NaN     5607.0      90.0   \n",
      "18       22.0   50.0000           11.0       24.0000       17.0      62.0   \n",
      "19      504.0   28.0000          252.0       13.0000      554.0       6.0   \n",
      "20      230.0   65.0000          115.0       32.0000      239.0      30.0   \n",
      "21    21854.0   30.0000        10927.0       14.0000    25213.0      72.0   \n",
      "22      272.0   48.0000          136.0       24.0000      278.0      11.0   \n",
      "23      221.0   46.0000          110.0       72.0000      114.0      73.0   \n",
      "24     1503.0   32.0000            NaN           NaN     1119.0      53.0   \n",
      "25     3128.0   30.0000         1564.0       15.0000     1605.0      60.0   \n",
      "26     1085.0   24.0000          542.0       62.0000     1321.0      25.0   \n",
      "27      362.0   91.0000          181.0       43.0000      225.0      10.0   \n",
      "28       82.0   55.0000           41.0       28.0000       22.0      28.0   \n",
      "29       95.0   62.0000           47.0       81.0000       62.0      44.0   \n",
      "30        NaN       NaN            NaN           NaN       66.0      34.0   \n",
      "31      233.0   70.0000          116.0       85.0000      347.0      33.0   \n",
      "32      184.0   89.0000           92.0       44.0000      131.0       7.0   \n",
      "33       44.0   84.0000           22.0       42.0000       43.0      95.0   \n",
      "34      902.0   47.0000          451.0       23.0000      164.0      61.0   \n",
      "35        NaN       NaN            NaN           NaN      934.0      28.0   \n",
      "36        NaN       NaN            NaN           NaN      407.0      85.0   \n",
      "37        NaN       NaN            NaN           NaN     5849.0       6.0   \n",
      "38        NaN       NaN            NaN           NaN      168.0      52.0   \n",
      "39       75.0       NaN           37.0       50.0000       71.0      52.0   \n",
      "40      139.0   42.0000           69.0       71.0000       48.0      96.0   \n",
      "41     2138.0   94.0000         1069.0       47.0000     1418.0      11.0   \n",
      "42      206.0   66.0000            NaN           NaN      145.0      69.0   \n",
      "43        NaN       NaN            NaN           NaN    15000.0       NaN   \n",
      "44      715.0       NaN          357.0       51.0000      135.0      74.0   \n",
      "45        NaN       NaN            NaN           NaN     6973.0      81.0   \n",
      "46      102.0   74.0000           51.0       37.0000       78.0      33.0   \n",
      "47      511.0   78.0000          255.0       89.0000      314.0      45.0   \n",
      "48      214.0   40.0000          107.0       20.0000       63.0      50.0   \n",
      "49       25.0   28.0000           12.0       65.0000       88.0       NaN   \n",
      "50      193.0   57.0000           96.0       78.0000      181.0       NaN   \n",
      "51        NaN       NaN            NaN           NaN     5758.0      26.0   \n",
      "52     1330.0   16.0000            NaN           NaN        NaN       NaN   \n",
      "53       58.0   76.0000           29.0       38.0000       64.0      17.0   \n",
      "54      206.0   67.0000          103.0       33.0000       55.0      80.0   \n",
      "55       33.0   33.0000           16.0       67.0000       31.0      67.0   \n",
      "56      124.0   33.0000           62.0       17.0000      118.0      41.0   \n",
      "\n",
      "                     town state                       occupation  \\\n",
      "0               Baltimore    MD                              Esq   \n",
      "1             George Town    MD                        Merchants   \n",
      "2               Baltimore    MD                         Merchant   \n",
      "3               Baltimore    MD       Executor of Thomas Sollars   \n",
      "4        Baltimore County    MD       Executor of Sabret Sollars   \n",
      "5          Baltimore Town    MD                         Merchant   \n",
      "6               Baltimore    MD                         Merchant   \n",
      "7               Baltimore    MD                         Merchant   \n",
      "8             Bladensburg    MD                         Merchant   \n",
      "9               Annapolis    MD                        Shoemaker   \n",
      "10              Baltimore    MD                         Merchant   \n",
      "11            George Town    MD                         Merchant   \n",
      "12              Baltimore    MD                         Merchant   \n",
      "13       Baltimore County    MD                         Merchant   \n",
      "14              Annapolis    MD                        Shoemaker   \n",
      "15         Baltimore Town    MD                         Merchant   \n",
      "16              Baltimore    MD                         Merchant   \n",
      "17              Annapolis    MD                         Merchant   \n",
      "18              Annapolis    MD    Administrator of John Johnson   \n",
      "19              Annapolis    MD                         Merchant   \n",
      "20              Annapolis    MD                         Merchant   \n",
      "21            George Town    MD                         Merchant   \n",
      "22              Baltimore    MD                         Merchant   \n",
      "23              Baltimore    MD                         Merchant   \n",
      "24              Baltimore    MD                         Merchant   \n",
      "25            George Town    MD                        Merchants   \n",
      "26         Baltimore Town    MD                         Merchant   \n",
      "27       Baltimore County    MD                         Merchant   \n",
      "28              Annapolis    MD                         Merchant   \n",
      "29              Annapolis    MD                         Merchant   \n",
      "30              Annapolis    MD                         Merchant   \n",
      "31              Baltimore    MD                         Merchant   \n",
      "32              Baltimore    MD                         Merchant   \n",
      "33         Harford County    MD           Executor of Moses Ruth   \n",
      "34              Baltimore    MD                         Merchant   \n",
      "35            George Town    MD                         Merchant   \n",
      "36       Baltimore County    MD                         Merchant   \n",
      "37       Baltimore County    MD                         Merchant   \n",
      "38              Baltimore    MD                         Merchant   \n",
      "39  Prince Georges County    MD  Adminstrator of Robert Whitaker   \n",
      "40              Baltimore    MD                         Merchant   \n",
      "41              Baltimore    MD                         Merchant   \n",
      "42              Annapolis    MD                         Merchant   \n",
      "43              Baltimore    MD                         Merchant   \n",
      "44              Baltimore    MD                         Merchant   \n",
      "45              Baltimore    MD                         Merchant   \n",
      "46              Annapolis    MD                         Merchant   \n",
      "47              Baltimore    MD                         Merchant   \n",
      "48              Baltimore    MD                         Merchant   \n",
      "49              Baltimore    MD                         Merchant   \n",
      "50              Annapolis    MD                         Merchant   \n",
      "51              Annapolis    MD                         Merchant   \n",
      "52              Baltimore    MD                         Merchant   \n",
      "53         Baltimore Town    MD                         Merchant   \n",
      "54   Fredrick Co Maryland    MD                Frederick Company   \n",
      "55               Maryland    MD                       Shopkeeper   \n",
      "56               Maryland    MD                         Merchant   \n",
      "\n",
      "                   county name_type      6p_total  \n",
      "0        Baltimore County      town     17.665733  \n",
      "1            Cecil County      town  26745.770000  \n",
      "2        Baltimore County      town   1243.420000  \n",
      "3        Baltimore County      town    117.900000  \n",
      "4        Baltimore County    county    141.030000  \n",
      "5        Baltimore County      town     40.810000  \n",
      "6        Baltimore County      town    789.240000  \n",
      "7        Baltimore County      town    812.330000  \n",
      "8   Prince Georges County      town    341.080000  \n",
      "9     Anne Arundel County      town   1122.480000  \n",
      "10       Baltimore County      town   1926.700000  \n",
      "11           Cecil County      town   3120.910000  \n",
      "12       Baltimore County      town     61.940000  \n",
      "13       Baltimore County    county    946.410000  \n",
      "14    Anne Arundel County      town    114.590000  \n",
      "15       Baltimore County      town   6565.310000  \n",
      "16       Baltimore County      town    208.810000  \n",
      "17    Anne Arundel County      town           NaN  \n",
      "18    Anne Arundel County      town     22.500000  \n",
      "19    Anne Arundel County      town    504.280000  \n",
      "20    Anne Arundel County      town    230.650000  \n",
      "21           Cecil County      town  21854.300000  \n",
      "22       Baltimore County      town    272.480000  \n",
      "23       Baltimore County      town    221.460000  \n",
      "24       Baltimore County      town   1503.320000  \n",
      "25           Cecil County      town   3128.300000  \n",
      "26       Baltimore County      town   1085.240000  \n",
      "27       Baltimore County    county    362.910000  \n",
      "28    Anne Arundel County      town     82.550000  \n",
      "29    Anne Arundel County      town     95.620000  \n",
      "30    Anne Arundel County      town           NaN  \n",
      "31       Baltimore County      town    233.700000  \n",
      "32       Baltimore County      town    184.890000  \n",
      "33         Harford County    county     44.840000  \n",
      "34       Baltimore County      town    902.470000  \n",
      "35           Cecil County      town           NaN  \n",
      "36       Baltimore County    county           NaN  \n",
      "37       Baltimore County    county           NaN  \n",
      "38       Baltimore County      town           NaN  \n",
      "39  Prince Georges County    county           NaN  \n",
      "40       Baltimore County      town    139.420000  \n",
      "41       Baltimore County      town   2138.940000  \n",
      "42    Anne Arundel County      town    206.660000  \n",
      "43       Baltimore County      town           NaN  \n",
      "44       Baltimore County      town           NaN  \n",
      "45       Baltimore County      town           NaN  \n",
      "46    Anne Arundel County      town    102.740000  \n",
      "47       Baltimore County      town    511.780000  \n",
      "48       Baltimore County      town    214.400000  \n",
      "49       Baltimore County      town     25.280000  \n",
      "50    Anne Arundel County      town    193.570000  \n",
      "51    Anne Arundel County      town           NaN  \n",
      "52       Baltimore County      town   1330.160000  \n",
      "53       Baltimore County      town     58.760000  \n",
      "54       Frederick County    county    206.670000  \n",
      "55                    NaN     state     33.330000  \n",
      "56                    NaN     state    124.330000  \n"
     ]
    }
   ],
   "source": [
    "State = 'MD'\n",
    "AllOccsMD = AllOccs[AllOccs['state'] == State] #Separate rows by state\n",
    "AllOccsMD = AllOccsMD.dropna(subset=['occupation']).reset_index(drop=True) #Drop any rows w/o an occupation listed. \n",
    "print(AllOccsMD)"
   ]
  },
  {
   "cell_type": "code",
   "execution_count": 1390,
   "id": "45d5e94e",
   "metadata": {
    "pycharm": {
     "name": "#%%\n"
    }
   },
   "outputs": [
    {
     "name": "stdout",
     "output_type": "stream",
     "text": [
      "                         occupation      6p_total  # of people\n",
      "0     Administrator of John Johnson     22.500000            1\n",
      "1   Adminstrator of Robert Whitaker      0.000000            1\n",
      "2                               Esq     17.665733            1\n",
      "3            Executor of Moses Ruth     44.840000            1\n",
      "4        Executor of Sabret Sollars    141.030000            1\n",
      "5        Executor of Thomas Sollars    117.900000            1\n",
      "6                 Frederick Company    206.670000            1\n",
      "7                          Merchant  48636.870000           45\n",
      "8                         Merchants  29874.070000            2\n",
      "9                         Shoemaker   1237.070000            2\n",
      "10                       Shopkeeper     33.330000            1\n"
     ]
    }
   ],
   "source": [
    "OccsTotalsMD = AllOccsMD.groupby('occupation')['6p_total'].apply(sum).reset_index() #Combine duplicate occupations.\n",
    "OccsTotalsMD['# of people'] = OccsTotalsMD['occupation'].map(AllOccsMD['occupation'].value_counts(dropna=False)) #Map # of people that belong to each occupation.\n",
    "print(OccsTotalsMD.to_string())"
   ]
  },
  {
   "cell_type": "code",
   "execution_count": 1391,
   "id": "5a36cdfa",
   "metadata": {
    "pycharm": {
     "name": "#%%\n"
    }
   },
   "outputs": [
    {
     "name": "stdout",
     "output_type": "stream",
     "text": [
      "                      occupation      6p_total  # of people\n",
      "0     administrator john johnson     22.500000            1\n",
      "1   adminstrator robert whitaker      0.000000            1\n",
      "2                            esq     17.665733            1\n",
      "3            executor moses ruth     44.840000            1\n",
      "4        executor sabret sollars    141.030000            1\n",
      "5        executor thomas sollars    117.900000            1\n",
      "6              frederick company    206.670000            1\n",
      "7                       merchant  48636.870000           45\n",
      "8                      merchants  29874.070000            2\n",
      "9                      shoemaker   1237.070000            2\n",
      "10                    shopkeeper     33.330000            1\n"
     ]
    }
   ],
   "source": [
    "OccsTotalsMD = RemoveStopwords(OccsTotalsMD) \n",
    "print(OccsTotalsMD.to_string())"
   ]
  },
  {
   "cell_type": "code",
   "execution_count": 1392,
   "id": "074e9cc1",
   "metadata": {
    "pycharm": {
     "name": "#%%\n"
    }
   },
   "outputs": [
    {
     "name": "stdout",
     "output_type": "stream",
     "text": [
      "Occupation Before --> Occupation After\n",
      "--------------------------------------\n",
      "\n",
      "\n",
      "administrator john johnson --> administrator\n",
      "adminstrator robert whitaker --> adminstrator\n",
      "esq --> esq\n",
      "executor moses ruth --> executor\n",
      "executor sabret sollars --> executor\n",
      "executor thomas sollars --> executor\n",
      "frederick company --> frederick company\n",
      "merchant --> merchant\n",
      "merchants --> merchants\n",
      "shoemaker --> shoemaker\n",
      "shopkeeper --> shopkeeper\n"
     ]
    }
   ],
   "source": [
    "FindRemoveConst(OccsTotalsMD['occupation'].tolist())"
   ]
  },
  {
   "cell_type": "code",
   "execution_count": 1393,
   "id": "76676ae4",
   "metadata": {
    "pycharm": {
     "name": "#%%\n"
    }
   },
   "outputs": [
    {
     "name": "stdout",
     "output_type": "stream",
     "text": [
      "Occupations --> Potential Cleaned Occupations\n",
      "---------------------------------------------\n",
      "\n",
      "\n",
      "administrator --> administrator\n",
      "adminstrator --> adminstrator\n",
      "esq --> esq\n",
      "executor --> executor\n",
      "executor --> executor\n",
      "executor --> executor\n",
      "frederick company --> frederick\n",
      "merchant --> merchant\n",
      "merchants --> merchants\n",
      "shoemaker --> shoemaker\n",
      "shopkeeper --> shopkeeper\n"
     ]
    }
   ],
   "source": [
    "PrintFutureOccupations(OccsTotalsMD['occupation'].tolist())"
   ]
  },
  {
   "cell_type": "code",
   "execution_count": 1394,
   "id": "5d307ae3",
   "metadata": {
    "pycharm": {
     "name": "#%%\n"
    }
   },
   "outputs": [
    {
     "name": "stdout",
     "output_type": "stream",
     "text": [
      "After Cleaning\n",
      "--------------\n",
      "\n",
      "\n",
      "           occupation      6p_total  # of people % of total people\n",
      "0       administrator     22.500000            1              None\n",
      "1        adminstrator      0.000000            1              None\n",
      "2                 esq     17.665733            1              None\n",
      "3            executor     44.840000            1              None\n",
      "4            executor    141.030000            1              None\n",
      "5            executor    117.900000            1              None\n",
      "6   frederick company    206.670000            1              None\n",
      "7            merchant  48636.870000           45              None\n",
      "8           merchants  29874.070000            2              None\n",
      "9           shoemaker   1237.070000            2              None\n",
      "10         shopkeeper     33.330000            1              None\n",
      "\n",
      "\n",
      "After Removing Duplicates and Summing\n",
      "-------------------------------------\n",
      "\n",
      "\n",
      "          occupation      6p_total  # of people  % of total people\n",
      "0      administrator     22.500000            1                  0\n",
      "1       adminstrator      0.000000            1                  0\n",
      "2                esq     17.665733            1                  0\n",
      "3           executor    303.770000            3                  0\n",
      "4  frederick company    206.670000            1                  0\n",
      "5           merchant  48636.870000           45                  0\n",
      "6          merchants  29874.070000            2                  0\n",
      "7          shoemaker   1237.070000            2                  0\n",
      "8         shopkeeper     33.330000            1                  0\n",
      "\n",
      "\n",
      "Removed: adminstrator --> administrator\n",
      "Removed: merchants --> merchant\n",
      "\n",
      "\n",
      "After Using Fuzzy String Matching\n",
      "---------------------------------\n",
      "\n",
      "\n",
      "          occupation      6p_total  # of people  % of total people  average debt per person\n",
      "0           merchant  78510.940000           47          82.456140              1670.445532\n",
      "1          shoemaker   1237.070000            2           3.508772               618.535000\n",
      "2           executor    303.770000            3           5.263158               101.256667\n",
      "3  frederick company    206.670000            1           1.754386               206.670000\n",
      "4         shopkeeper     33.330000            1           1.754386                33.330000\n",
      "5      administrator     22.500000            2           3.508772                11.250000\n",
      "6                esq     17.665733            1           1.754386                17.665733\n",
      "\n",
      "\n"
     ]
    }
   ],
   "source": [
    "OccsTotalsMD = MergeOccupations(OccsTotalsMD)"
   ]
  },
  {
   "cell_type": "code",
   "execution_count": 1395,
   "id": "29c3885d",
   "metadata": {
    "pycharm": {
     "name": "#%%\n"
    }
   },
   "outputs": [],
   "source": [
    "TurnToExcel(OccsTotalsMD, State)"
   ]
  },
  {
   "cell_type": "markdown",
   "id": "085f8303",
   "metadata": {
    "pycharm": {
     "name": "#%% md\n"
    }
   },
   "source": [
    "# North Carolina"
   ]
  },
  {
   "cell_type": "code",
   "execution_count": 1396,
   "id": "2aadaaef",
   "metadata": {
    "pycharm": {
     "name": "#%%\n"
    },
    "scrolled": true
   },
   "outputs": [
    {
     "name": "stdout",
     "output_type": "stream",
     "text": [
      "    6p_Dollar  6p_Cents  6p_def_Dollar  6p_def_Cents  3p_Dollar  3p_Cents  \\\n",
      "0        85.0      25.0           42.0          62.0       41.0      82.0   \n",
      "1      2008.0      37.0         1004.0          18.0     1324.0      76.0   \n",
      "2        48.0      50.0           24.0          25.0        NaN       NaN   \n",
      "3       176.0       NaN           88.0           NaN      150.0      67.0   \n",
      "4     12283.0      44.0         6141.0          71.0    10781.0      94.0   \n",
      "5        41.0      26.0           20.0          64.0       15.0      83.0   \n",
      "6       206.0       8.0          103.0           5.0       50.0      69.0   \n",
      "7       228.0      12.0          114.0           6.0      157.0      80.0   \n",
      "8       252.0      32.0          126.0          16.0        NaN       NaN   \n",
      "9      4780.0      84.0         2390.0          41.0     4998.0      96.0   \n",
      "10        0.0       0.0          892.0          66.0     1339.0       NaN   \n",
      "11       62.0      51.0           31.0          26.0        NaN       NaN   \n",
      "\n",
      "              town state                   occupation          county  \\\n",
      "0     Wayne County    NC                     Merchant    Wayne County   \n",
      "1          Newbern    NC            Doctors of Physic   Craven County   \n",
      "2         Halifax     NC                    Merchants  Halifax County   \n",
      "3          Edenton    NC                    Merchants   Chowan County   \n",
      "4   North Carolina    NC                    Treasurer             NaN   \n",
      "5     Hillsborough    NC                     Merchant   Orange County   \n",
      "6          Newbern    NC                     Merchant   Craven County   \n",
      "7          Newbern    NC                     Merchant   Craven County   \n",
      "8          Newbern    NC                     Merchant   Craven County   \n",
      "9              NaN    NC  The State of North Carolina             NaN   \n",
      "10  North Carolina    NC      Asse of John B Ashe Exe             NaN   \n",
      "11  North Carolina    NC                       Farmer             NaN   \n",
      "\n",
      "   name_type  6p_total  \n",
      "0     county     85.25  \n",
      "1       town   2008.37  \n",
      "2       town     48.50  \n",
      "3       town       NaN  \n",
      "4      state  12283.44  \n",
      "5       town     41.26  \n",
      "6       town    206.08  \n",
      "7       town    228.12  \n",
      "8       town    252.32  \n",
      "9      state   4780.84  \n",
      "10     state      0.00  \n",
      "11     state     62.51  \n"
     ]
    }
   ],
   "source": [
    "State = 'NC'\n",
    "AllOccsNC = AllOccs[AllOccs['state'] == State] #Separate rows by state\n",
    "AllOccsNC = AllOccsNC.dropna(subset=['occupation']).reset_index(drop=True) #Drop any rows w/o an occupation listed. \n",
    "print(AllOccsNC)"
   ]
  },
  {
   "cell_type": "code",
   "execution_count": 1397,
   "id": "d17c5041",
   "metadata": {
    "pycharm": {
     "name": "#%%\n"
    }
   },
   "outputs": [
    {
     "name": "stdout",
     "output_type": "stream",
     "text": [
      "                    occupation  6p_total  # of people\n",
      "0      Asse of John B Ashe Exe      0.00            1\n",
      "1            Doctors of Physic   2008.37            1\n",
      "2                       Farmer     62.51            1\n",
      "3                     Merchant    813.03            5\n",
      "4                    Merchants     48.50            2\n",
      "5  The State of North Carolina   4780.84            1\n",
      "6                    Treasurer  12283.44            1\n"
     ]
    }
   ],
   "source": [
    "OccsTotalsNC = AllOccsNC.groupby('occupation')['6p_total'].apply(sum).reset_index() #Combine duplicate occupations.\n",
    "OccsTotalsNC['# of people'] = OccsTotalsNC['occupation'].map(AllOccsNC['occupation'].value_counts(dropna=False)) #Map # of people that belong to each occupation.\n",
    "print(OccsTotalsNC.to_string())"
   ]
  },
  {
   "cell_type": "code",
   "execution_count": 1398,
   "id": "82b87b9b",
   "metadata": {
    "pycharm": {
     "name": "#%%\n"
    }
   },
   "outputs": [
    {
     "name": "stdout",
     "output_type": "stream",
     "text": [
      "                 occupation  6p_total  # of people\n",
      "0      asse john b ashe exe      0.00            1\n",
      "1            doctors physic   2008.37            1\n",
      "2                    farmer     62.51            1\n",
      "3                  merchant    813.03            5\n",
      "4                 merchants     48.50            2\n",
      "5  the state north carolina   4780.84            1\n",
      "6                 treasurer  12283.44            1\n"
     ]
    }
   ],
   "source": [
    "OccsTotalsNC = RemoveStopwords(OccsTotalsNC) \n",
    "print(OccsTotalsNC.to_string())"
   ]
  },
  {
   "cell_type": "code",
   "execution_count": 1399,
   "id": "a000f84d",
   "metadata": {
    "pycharm": {
     "name": "#%%\n"
    }
   },
   "outputs": [
    {
     "name": "stdout",
     "output_type": "stream",
     "text": [
      "Occupation Before --> Occupation After\n",
      "--------------------------------------\n",
      "\n",
      "\n",
      "asse john b ashe exe --> asse john b\n",
      "doctors physic --> doctors physic\n",
      "farmer --> farmer\n",
      "merchant --> merchant\n",
      "merchants --> merchants\n",
      "the state north carolina --> the state\n",
      "treasurer --> treasurer\n"
     ]
    }
   ],
   "source": [
    "FindRemoveConst(OccsTotalsNC['occupation'].tolist())"
   ]
  },
  {
   "cell_type": "code",
   "execution_count": 1400,
   "id": "1ce48e7b",
   "metadata": {
    "pycharm": {
     "name": "#%%\n"
    }
   },
   "outputs": [],
   "source": [
    "Remove = 0"
   ]
  },
  {
   "cell_type": "code",
   "execution_count": 1401,
   "id": "09daca6e",
   "metadata": {
    "pycharm": {
     "name": "#%%\n"
    }
   },
   "outputs": [
    {
     "name": "stdout",
     "output_type": "stream",
     "text": [
      "Occupations --> Potential Cleaned Occupations\n",
      "---------------------------------------------\n",
      "\n",
      "\n",
      "asse john b ashe exe --> asse\n",
      "doctors physic --> doctors\n",
      "farmer --> farmer\n",
      "merchant --> merchant\n",
      "merchants --> merchants\n",
      "the state north carolina --> carolina\n",
      "treasurer --> treasurer\n"
     ]
    }
   ],
   "source": [
    "PrintFutureOccupations(OccsTotalsNC['occupation'].tolist())"
   ]
  },
  {
   "cell_type": "code",
   "execution_count": 1402,
   "id": "0e6d9351",
   "metadata": {
    "pycharm": {
     "name": "#%%\n"
    }
   },
   "outputs": [
    {
     "name": "stdout",
     "output_type": "stream",
     "text": [
      "After Cleaning\n",
      "--------------\n",
      "\n",
      "\n",
      "  occupation  6p_total  # of people % of total people\n",
      "0  executors      0.00            1              None\n",
      "1    doctors   2008.37            1              None\n",
      "2     farmer     62.51            1              None\n",
      "3   merchant    813.03            5              None\n",
      "4  merchants     48.50            2              None\n",
      "5       None   4780.84            1              None\n",
      "6  treasurer  12283.44            1              None\n",
      "\n",
      "\n",
      "After Removing Duplicates and Summing\n",
      "-------------------------------------\n",
      "\n",
      "\n",
      "  occupation  6p_total  # of people  % of total people\n",
      "0    doctors   2008.37            1                  0\n",
      "1  executors      0.00            1                  0\n",
      "2     farmer     62.51            1                  0\n",
      "3   merchant    813.03            5                  0\n",
      "4  merchants     48.50            2                  0\n",
      "5  treasurer  12283.44            1                  0\n",
      "\n",
      "\n",
      "Removed: merchants --> merchant\n",
      "\n",
      "\n",
      "After Using Fuzzy String Matching\n",
      "---------------------------------\n",
      "\n",
      "\n",
      "  occupation  6p_total  # of people  % of total people  average debt per person\n",
      "0  treasurer  12283.44            1           9.090909             12283.440000\n",
      "1    doctors   2008.37            1           9.090909              2008.370000\n",
      "2   merchant    861.53            7          63.636364               123.075714\n",
      "3     farmer     62.51            1           9.090909                62.510000\n",
      "4  executors      0.00            1           9.090909                 0.000000\n",
      "\n",
      "\n"
     ]
    }
   ],
   "source": [
    "OccsTotalsNC = MergeOccupations(OccsTotalsNC)"
   ]
  },
  {
   "cell_type": "code",
   "execution_count": 1403,
   "id": "df729e8d",
   "metadata": {
    "pycharm": {
     "name": "#%%\n"
    }
   },
   "outputs": [],
   "source": [
    "TurnToExcel(OccsTotalsNC, State)"
   ]
  },
  {
   "cell_type": "markdown",
   "id": "8d508c76",
   "metadata": {
    "pycharm": {
     "name": "#%% md\n"
    }
   },
   "source": [
    "# New Hampshire"
   ]
  },
  {
   "cell_type": "code",
   "execution_count": 1404,
   "id": "f1f7956a",
   "metadata": {
    "pycharm": {
     "name": "#%%\n"
    },
    "scrolled": true
   },
   "outputs": [
    {
     "name": "stdout",
     "output_type": "stream",
     "text": [
      "     6p_Dollar  6p_Cents  6p_def_Dollar  6p_def_Cents  3p_Dollar  3p_Cents  \\\n",
      "0        200.0       NaN          100.0           NaN       54.0       NaN   \n",
      "1        778.0       4.0          389.0           2.0      288.0       NaN   \n",
      "2       1490.0      73.0          745.0          37.0      436.0      77.0   \n",
      "3       2100.0      48.0         1050.0          23.0      928.0      46.0   \n",
      "4        149.0      62.0           74.0          81.0        NaN       NaN   \n",
      "..         ...       ...            ...           ...        ...       ...   \n",
      "161       81.0      69.0           40.0          84.0      741.0      54.0   \n",
      "162      187.0       2.0           93.0          51.0      146.0      70.0   \n",
      "163       12.0      73.0            6.0          37.0        0.0       0.0   \n",
      "164        9.0      16.0            4.0          58.0       10.0      16.0   \n",
      "165       40.0      67.0           20.0          33.0       25.0      96.0   \n",
      "\n",
      "                town state occupation             county name_type  6p_total  \n",
      "0         Portsmouth    NH      Widow  Rockingham County      town       NaN  \n",
      "1    North Hampshire    NH     Farmer                NaN     other    778.04  \n",
      "2         Portsmouth    NH  Physician  Rockingham County      town   1490.73  \n",
      "3             Exeter    NH      Widow  Rockingham County      town   2100.48  \n",
      "4         Rockingham    NH  Treasurer  Rockingham County    county    149.62  \n",
      "..               ...   ...        ...                ...       ...       ...  \n",
      "161           Exeter    NH   Merchant  Rockingham County      town     81.69  \n",
      "162       Portsmouth    NH  Physician  Rockingham County      town    187.02  \n",
      "163       Portsmouth    NH    Esquire  Rockingham County      town     12.73  \n",
      "164       Portsmouth    NH     Trader  Rockingham County      town      9.16  \n",
      "165       Alexandria    NH   Merchant     Grafton County      town     40.67  \n",
      "\n",
      "[166 rows x 12 columns]\n"
     ]
    }
   ],
   "source": [
    "State = 'NH'\n",
    "AllOccsNH = AllOccs[AllOccs['state'] == State] #Separate rows by state\n",
    "AllOccsNH = AllOccsNH.dropna(subset=['occupation']).reset_index(drop=True) #Drop any rows w/o an occupation listed. \n",
    "print(AllOccsNH)"
   ]
  },
  {
   "cell_type": "code",
   "execution_count": 1405,
   "id": "e32bb06e",
   "metadata": {
    "pycharm": {
     "name": "#%%\n"
    }
   },
   "outputs": [
    {
     "name": "stdout",
     "output_type": "stream",
     "text": [
      "    occupation  6p_total  # of people\n",
      "0        Baker   2159.04            1\n",
      "1   Blacksmith     54.88            1\n",
      "2        Clerk    715.60            7\n",
      "3   Cordwainer    742.05            2\n",
      "4      Esquire  61539.89           66\n",
      "5       Farmer    778.04            1\n",
      "6    Gentleman   3603.06            6\n",
      "7    Goldsmith    871.32            1\n",
      "8       Joiner    106.61            2\n",
      "9     Marniner    785.62            2\n",
      "10    Merchant  29715.41           26\n",
      "11     Painter     48.61            1\n",
      "12   Physician   7111.43           18\n",
      "13    Spinster     89.13            1\n",
      "14      Trader   2807.27            8\n",
      "15   Treasurer    149.62            1\n",
      "16       Widow   8790.45           10\n",
      "17      Yeoman   3397.94           12\n"
     ]
    }
   ],
   "source": [
    "OccsTotalsNH = AllOccsNH.groupby('occupation')['6p_total'].apply(sum).reset_index() #Combine duplicate occupations.\n",
    "OccsTotalsNH['# of people'] = OccsTotalsNH['occupation'].map(AllOccsNH['occupation'].value_counts(dropna=False)) #Map # of people that belong to each occupation.\n",
    "print(OccsTotalsNH.to_string())"
   ]
  },
  {
   "cell_type": "code",
   "execution_count": 1406,
   "id": "928ea4f4",
   "metadata": {
    "pycharm": {
     "name": "#%%\n"
    }
   },
   "outputs": [
    {
     "name": "stdout",
     "output_type": "stream",
     "text": [
      "    occupation  6p_total  # of people\n",
      "0        baker   2159.04            1\n",
      "1   blacksmith     54.88            1\n",
      "2        clerk    715.60            7\n",
      "3   cordwainer    742.05            2\n",
      "4      esquire  61539.89           66\n",
      "5       farmer    778.04            1\n",
      "6    gentleman   3603.06            6\n",
      "7    goldsmith    871.32            1\n",
      "8       joiner    106.61            2\n",
      "9     marniner    785.62            2\n",
      "10    merchant  29715.41           26\n",
      "11     painter     48.61            1\n",
      "12   physician   7111.43           18\n",
      "13    spinster     89.13            1\n",
      "14      trader   2807.27            8\n",
      "15   treasurer    149.62            1\n",
      "16       widow   8790.45           10\n",
      "17      yeoman   3397.94           12\n"
     ]
    }
   ],
   "source": [
    "OccsTotalsNH = RemoveStopwords(OccsTotalsNH) \n",
    "print(OccsTotalsNH.to_string())"
   ]
  },
  {
   "cell_type": "code",
   "execution_count": 1407,
   "id": "83dd8ae7",
   "metadata": {
    "pycharm": {
     "name": "#%%\n"
    },
    "scrolled": true
   },
   "outputs": [
    {
     "name": "stdout",
     "output_type": "stream",
     "text": [
      "Occupation Before --> Occupation After\n",
      "--------------------------------------\n",
      "\n",
      "\n",
      "baker --> baker\n",
      "blacksmith --> blacksmith\n",
      "clerk --> clerk\n",
      "cordwainer --> cordwainer\n",
      "esquire --> esquire\n",
      "farmer --> farmer\n",
      "gentleman --> gentleman\n",
      "goldsmith --> goldsmith\n",
      "joiner --> joiner\n",
      "marniner --> marniner\n",
      "merchant --> merchant\n",
      "painter --> painter\n",
      "physician --> physician\n",
      "spinster --> spinster\n",
      "trader --> trader\n",
      "treasurer --> treasurer\n",
      "widow --> widow\n",
      "yeoman --> yeoman\n"
     ]
    }
   ],
   "source": [
    "FindRemoveConst(OccsTotalsNH['occupation'].tolist())"
   ]
  },
  {
   "cell_type": "code",
   "execution_count": 1408,
   "id": "f7d9fdcd",
   "metadata": {
    "pycharm": {
     "name": "#%%\n"
    },
    "scrolled": true
   },
   "outputs": [
    {
     "name": "stdout",
     "output_type": "stream",
     "text": [
      "Occupations --> Potential Cleaned Occupations\n",
      "---------------------------------------------\n",
      "\n",
      "\n",
      "baker --> baker\n",
      "blacksmith --> blacksmith\n",
      "clerk --> clerk\n",
      "cordwainer --> cordwainer\n",
      "esquire --> esquire\n",
      "farmer --> farmer\n",
      "gentleman --> gentleman\n",
      "goldsmith --> goldsmith\n",
      "joiner --> joiner\n",
      "marniner --> marniner\n",
      "merchant --> merchant\n",
      "painter --> painter\n",
      "physician --> physician\n",
      "spinster --> spinster\n",
      "trader --> trader\n",
      "treasurer --> treasurer\n",
      "widow --> widow\n",
      "yeoman --> yeoman\n"
     ]
    }
   ],
   "source": [
    "PrintFutureOccupations(OccsTotalsNH['occupation'].tolist())"
   ]
  },
  {
   "cell_type": "code",
   "execution_count": 1409,
   "id": "8d8621d6",
   "metadata": {
    "pycharm": {
     "name": "#%%\n"
    }
   },
   "outputs": [
    {
     "name": "stdout",
     "output_type": "stream",
     "text": [
      "After Cleaning\n",
      "--------------\n",
      "\n",
      "\n",
      "    occupation  6p_total  # of people % of total people\n",
      "0        baker   2159.04            1              None\n",
      "1   blacksmith     54.88            1              None\n",
      "2        clerk    715.60            7              None\n",
      "3    shoemaker    742.05            2              None\n",
      "4          esq  61539.89           66              None\n",
      "5       farmer    778.04            1              None\n",
      "6    gentleman   3603.06            6              None\n",
      "7    goldsmith    871.32            1              None\n",
      "8    carpenter    106.61            2              None\n",
      "9     marniner    785.62            2              None\n",
      "10    merchant  29715.41           26              None\n",
      "11     painter     48.61            1              None\n",
      "12      doctor   7111.43           18              None\n",
      "13    spinster     89.13            1              None\n",
      "14      trader   2807.27            8              None\n",
      "15   treasurer    149.62            1              None\n",
      "16       widow   8790.45           10              None\n",
      "17      farmer   3397.94           12              None\n",
      "\n",
      "\n",
      "After Removing Duplicates and Summing\n",
      "-------------------------------------\n",
      "\n",
      "\n",
      "    occupation  6p_total  # of people  % of total people\n",
      "0        baker   2159.04            1                  0\n",
      "1   blacksmith     54.88            1                  0\n",
      "2    carpenter    106.61            2                  0\n",
      "3        clerk    715.60            7                  0\n",
      "4       doctor   7111.43           18                  0\n",
      "5          esq  61539.89           66                  0\n",
      "6       farmer   4175.98           13                  0\n",
      "7    gentleman   3603.06            6                  0\n",
      "8    goldsmith    871.32            1                  0\n",
      "9     marniner    785.62            2                  0\n",
      "10    merchant  29715.41           26                  0\n",
      "11     painter     48.61            1                  0\n",
      "12   shoemaker    742.05            2                  0\n",
      "13    spinster     89.13            1                  0\n",
      "14      trader   2807.27            8                  0\n",
      "15   treasurer    149.62            1                  0\n",
      "16       widow   8790.45           10                  0\n",
      "\n",
      "\n",
      "\n",
      "\n",
      "After Using Fuzzy String Matching\n",
      "---------------------------------\n",
      "\n",
      "\n",
      "    occupation  6p_total  # of people  % of total people  average debt per person\n",
      "0          esq  61539.89           66          39.759036               932.422576\n",
      "1     merchant  29715.41           26          15.662651              1142.900385\n",
      "2        widow   8790.45           10           6.024096               879.045000\n",
      "3       doctor   7111.43           18          10.843373               395.079444\n",
      "4       farmer   4175.98           13           7.831325               321.229231\n",
      "5    gentleman   3603.06            6           3.614458               600.510000\n",
      "6       trader   2807.27            8           4.819277               350.908750\n",
      "7        baker   2159.04            1           0.602410              2159.040000\n",
      "8    goldsmith    871.32            1           0.602410               871.320000\n",
      "9     marniner    785.62            2           1.204819               392.810000\n",
      "10   shoemaker    742.05            2           1.204819               371.025000\n",
      "11       clerk    715.60            7           4.216867               102.228571\n",
      "12   treasurer    149.62            1           0.602410               149.620000\n",
      "13   carpenter    106.61            2           1.204819                53.305000\n",
      "14    spinster     89.13            1           0.602410                89.130000\n",
      "15  blacksmith     54.88            1           0.602410                54.880000\n",
      "16     painter     48.61            1           0.602410                48.610000\n",
      "\n",
      "\n"
     ]
    }
   ],
   "source": [
    "OccsTotalsNH = MergeOccupations(OccsTotalsNH)"
   ]
  },
  {
   "cell_type": "code",
   "execution_count": 1410,
   "id": "a1220d8c",
   "metadata": {
    "pycharm": {
     "name": "#%%\n"
    }
   },
   "outputs": [],
   "source": [
    "TurnToExcel(OccsTotalsNH, State)"
   ]
  },
  {
   "cell_type": "markdown",
   "id": "5c8cfa44",
   "metadata": {
    "pycharm": {
     "name": "#%% md\n"
    }
   },
   "source": [
    "# New Jersey"
   ]
  },
  {
   "cell_type": "code",
   "execution_count": 1411,
   "id": "37b4b59e",
   "metadata": {
    "pycharm": {
     "name": "#%%\n"
    },
    "scrolled": true
   },
   "outputs": [
    {
     "name": "stdout",
     "output_type": "stream",
     "text": [
      "   6p_Dollar  6p_Cents  6p_def_Dollar  6p_def_Cents  3p_Dollar  3p_Cents  \\\n",
      "0     1324.0      81.0          662.0          41.0      675.0      52.0   \n",
      "1     1325.0      68.0          662.0          85.0      714.0      50.0   \n",
      "2      384.0      34.0          192.0          65.0      156.0      34.0   \n",
      "3     5017.0       5.0         2508.0          52.0     2053.0      54.0   \n",
      "4     1046.0      10.0          523.0           5.0      297.0      74.0   \n",
      "5      235.0       1.0          117.0          51.0      139.0      10.0   \n",
      "6        3.0      34.0            1.0          66.0        2.0      90.0   \n",
      "7      184.0       NaN           92.0           NaN      437.0       6.0   \n",
      "8       16.0      67.0            8.0          33.0        8.0      57.0   \n",
      "\n",
      "                         town state  \\\n",
      "0                  New Jersey    NJ   \n",
      "1                  New Jersey    NJ   \n",
      "2                  New Jersey    NJ   \n",
      "3                  New Jersey    NJ   \n",
      "4                  New Jersey    NJ   \n",
      "5  Monmouth County New Jersey    NJ   \n",
      "6                    Cape May    NJ   \n",
      "7                  New Jersey    NJ   \n",
      "8  Somerset County New Jersey    NJ   \n",
      "\n",
      "                                          occupation           county  \\\n",
      "0               Executor of Michael De Mott deceased              NaN   \n",
      "1                                    Attorney at law              NaN   \n",
      "2                                          Physician              NaN   \n",
      "3                                          Gentleman              NaN   \n",
      "4                                          Gentleman              NaN   \n",
      "5                                           Merchant  Monmouth County   \n",
      "6                                             Farmer  Cape May County   \n",
      "7                                            Esquire              NaN   \n",
      "8  In trust for Jacobus Van Eis of Somerset Count...  Somerset County   \n",
      "\n",
      "  name_type  6p_total  \n",
      "0     state   1324.81  \n",
      "1     state   1325.68  \n",
      "2     state    384.34  \n",
      "3     state   5017.05  \n",
      "4     state   1046.10  \n",
      "5    county    235.01  \n",
      "6      town      3.34  \n",
      "7     state       NaN  \n",
      "8    county     16.67  \n"
     ]
    }
   ],
   "source": [
    "State = 'NJ'\n",
    "AllOccsNJ = AllOccs[AllOccs['state'] == State] #Separate rows by state\n",
    "AllOccsNJ = AllOccsNJ.dropna(subset=['occupation']).reset_index(drop=True) #Drop any rows w/o an occupation listed. \n",
    "print(AllOccsNJ)"
   ]
  },
  {
   "cell_type": "code",
   "execution_count": 1412,
   "id": "182df817",
   "metadata": {
    "pycharm": {
     "name": "#%%\n"
    }
   },
   "outputs": [
    {
     "name": "stdout",
     "output_type": "stream",
     "text": [
      "                                                   occupation  6p_total  # of people\n",
      "0                                             Attorney at law   1325.68            1\n",
      "1                                                     Esquire      0.00            1\n",
      "2                        Executor of Michael De Mott deceased   1324.81            1\n",
      "3                                                      Farmer      3.34            1\n",
      "4                                                   Gentleman   6063.15            2\n",
      "5  In trust for Jacobus Van Eis of Somerset County New Jersey     16.67            1\n",
      "6                                                    Merchant    235.01            1\n",
      "7                                                   Physician    384.34            1\n"
     ]
    }
   ],
   "source": [
    "OccsTotalsNJ = AllOccsNJ.groupby('occupation')['6p_total'].apply(sum).reset_index() #Combine duplicate occupations.\n",
    "OccsTotalsNJ['# of people'] = OccsTotalsNJ['occupation'].map(AllOccsNJ['occupation'].value_counts(dropna=False)) #Map # of people that belong to each occupation.\n",
    "print(OccsTotalsNJ.to_string())"
   ]
  },
  {
   "cell_type": "code",
   "execution_count": 1413,
   "id": "e5f1ef6d",
   "metadata": {
    "pycharm": {
     "name": "#%%\n"
    }
   },
   "outputs": [
    {
     "name": "stdout",
     "output_type": "stream",
     "text": [
      "                                            occupation  6p_total  # of people\n",
      "0                                         attorney law   1325.68            1\n",
      "1                                              esquire      0.00            1\n",
      "2                    executor michael de mott deceased   1324.81            1\n",
      "3                                               farmer      3.34            1\n",
      "4                                            gentleman   6063.15            2\n",
      "5  in trust jacobus van eis somerset county new jersey     16.67            1\n",
      "6                                             merchant    235.01            1\n",
      "7                                            physician    384.34            1\n"
     ]
    }
   ],
   "source": [
    "OccsTotalsNJ = RemoveStopwords(OccsTotalsNJ) \n",
    "print(OccsTotalsNJ.to_string())"
   ]
  },
  {
   "cell_type": "code",
   "execution_count": 1414,
   "id": "09fdaec5",
   "metadata": {
    "pycharm": {
     "name": "#%%\n"
    }
   },
   "outputs": [
    {
     "name": "stdout",
     "output_type": "stream",
     "text": [
      "Occupation Before --> Occupation After\n",
      "--------------------------------------\n",
      "\n",
      "\n",
      "attorney law --> attorney law\n",
      "esquire --> esquire\n",
      "executor michael de mott deceased --> executor michael de mott deceased\n",
      "farmer --> farmer\n",
      "gentleman --> gentleman\n",
      "in trust jacobus van eis somerset county new jersey --> in trust jacobus van eis somerset county new jersey\n",
      "merchant --> merchant\n",
      "physician --> physician\n"
     ]
    }
   ],
   "source": [
    "FindRemoveConst(OccsTotalsNJ['occupation'].tolist())"
   ]
  },
  {
   "cell_type": "code",
   "execution_count": 1415,
   "id": "2c7aec05",
   "metadata": {
    "pycharm": {
     "name": "#%%\n"
    }
   },
   "outputs": [],
   "source": [
    "Remove = 2"
   ]
  },
  {
   "cell_type": "code",
   "execution_count": 1416,
   "id": "772d7e56",
   "metadata": {
    "pycharm": {
     "name": "#%%\n"
    }
   },
   "outputs": [
    {
     "name": "stdout",
     "output_type": "stream",
     "text": [
      "Occupations --> Potential Cleaned Occupations\n",
      "---------------------------------------------\n",
      "\n",
      "\n",
      "attorney law --> attorney\n",
      "esquire --> esquire\n",
      "executor michael de --> executor\n",
      "farmer --> farmer\n",
      "gentleman --> gentleman\n",
      "in trust jacobus van eis somerset county --> county\n",
      "merchant --> merchant\n",
      "physician --> physician\n"
     ]
    }
   ],
   "source": [
    "PrintFutureOccupations(OccsTotalsNJ['occupation'].tolist())"
   ]
  },
  {
   "cell_type": "code",
   "execution_count": 1417,
   "id": "93cc2763",
   "metadata": {
    "pycharm": {
     "name": "#%%\n"
    }
   },
   "outputs": [
    {
     "name": "stdout",
     "output_type": "stream",
     "text": [
      "After Cleaning\n",
      "--------------\n",
      "\n",
      "\n",
      "  occupation  6p_total  # of people % of total people\n",
      "0   attorney   1325.68            1              None\n",
      "1        esq      0.00            1              None\n",
      "2   executor   1324.81            1              None\n",
      "3     farmer      3.34            1              None\n",
      "4  gentleman   6063.15            2              None\n",
      "5   assignee     16.67            1              None\n",
      "6   merchant    235.01            1              None\n",
      "7     doctor    384.34            1              None\n",
      "\n",
      "\n",
      "After Removing Duplicates and Summing\n",
      "-------------------------------------\n",
      "\n",
      "\n",
      "  occupation  6p_total  # of people  % of total people\n",
      "0   assignee     16.67            1                  0\n",
      "1   attorney   1325.68            1                  0\n",
      "2     doctor    384.34            1                  0\n",
      "3        esq      0.00            1                  0\n",
      "4   executor   1324.81            1                  0\n",
      "5     farmer      3.34            1                  0\n",
      "6  gentleman   6063.15            2                  0\n",
      "7   merchant    235.01            1                  0\n",
      "\n",
      "\n",
      "\n",
      "\n",
      "After Using Fuzzy String Matching\n",
      "---------------------------------\n",
      "\n",
      "\n",
      "  occupation  6p_total  # of people  % of total people  average debt per person\n",
      "0  gentleman   6063.15            2          22.222222                 3031.575\n",
      "1   attorney   1325.68            1          11.111111                 1325.680\n",
      "2   executor   1324.81            1          11.111111                 1324.810\n",
      "3     doctor    384.34            1          11.111111                  384.340\n",
      "4   merchant    235.01            1          11.111111                  235.010\n",
      "5   assignee     16.67            1          11.111111                   16.670\n",
      "6     farmer      3.34            1          11.111111                    3.340\n",
      "7        esq      0.00            1          11.111111                    0.000\n",
      "\n",
      "\n"
     ]
    }
   ],
   "source": [
    "OccsTotalsNJ = MergeOccupations(OccsTotalsNJ)"
   ]
  },
  {
   "cell_type": "code",
   "execution_count": 1418,
   "id": "5be57fdc",
   "metadata": {
    "pycharm": {
     "name": "#%%\n"
    }
   },
   "outputs": [],
   "source": [
    "TurnToExcel(OccsTotalsNJ, State)"
   ]
  },
  {
   "cell_type": "markdown",
   "id": "a0767df6",
   "metadata": {
    "pycharm": {
     "name": "#%% md\n"
    }
   },
   "source": [
    "# New York"
   ]
  },
  {
   "cell_type": "code",
   "execution_count": 1419,
   "id": "0dffcde7",
   "metadata": {
    "pycharm": {
     "name": "#%%\n"
    },
    "scrolled": true
   },
   "outputs": [
    {
     "name": "stdout",
     "output_type": "stream",
     "text": [
      "    6p_Dollar  6p_Cents  6p_def_Dollar  6p_def_Cents  3p_Dollar  3p_Cents  \\\n",
      "0       131.0   15.0000           65.0       57.0000      146.0     69.00   \n",
      "1       118.0   45.0000           59.0       23.0000      124.0     94.00   \n",
      "2        23.0   69.0000           11.0       84.0000       24.0     99.00   \n",
      "3       261.0   31.0000          130.0       65.0000      340.0     53.00   \n",
      "4       933.0   33.0000          466.0       67.0000      781.0     67.00   \n",
      "5       555.0   86.0000          277.0       93.0000      637.0     27.00   \n",
      "6       230.0   90.0000          115.0       45.0000      179.0     91.00   \n",
      "7       377.0   49.0000          188.0       75.0000      385.0     98.00   \n",
      "8       286.0   43.0000          143.0       22.0000      248.0     68.00   \n",
      "9         NaN    1.0000            NaN           NaN        NaN       NaN   \n",
      "10        NaN       NaN            NaN           NaN     1601.0     94.00   \n",
      "11        1.0   46.7633            1.0       23.3833        1.0     63.34   \n",
      "12       20.0   34.5500           16.0       17.2700       15.0     37.71   \n",
      "13     1776.0   12.0000          888.0        6.0000     1553.0     33.00   \n",
      "14      685.0   93.0000          342.0       97.0000      203.0     67.00   \n",
      "15      334.0   70.0000          167.0       35.0000      340.0     68.00   \n",
      "16      609.0   42.0000          304.0       71.0000      432.0       NaN   \n",
      "17     1867.0   88.0000          933.0       93.0000      517.0     20.00   \n",
      "18      690.0   96.0000          345.0       48.0000      665.0     28.00   \n",
      "19      222.0    5.0000          111.0        3.0000      351.0     21.00   \n",
      "20       88.0   60.0000           44.0       30.0000       62.0     43.00   \n",
      "21      138.0   58.0000           69.0       29.0000       60.0     12.00   \n",
      "22      174.0   62.0000           87.0       31.0000        NaN       NaN   \n",
      "23      581.0   48.0000          290.0       74.0000      545.0     12.00   \n",
      "24      255.0   94.0000          127.0       97.0000      369.0     52.00   \n",
      "25       55.0   71.0000           27.0       86.0000       31.0     25.00   \n",
      "26      407.0   50.0000          203.0       75.0000      381.0      1.00   \n",
      "27       29.0   93.0000           14.0       96.0000        NaN       NaN   \n",
      "28      361.0   11.0000          180.0       55.0000      315.0     27.00   \n",
      "29      120.0   25.0000           60.0       12.0000       97.0     70.00   \n",
      "\n",
      "                 town state    occupation           county name_type  \\\n",
      "0   State of New York    NY  Schoolmaster              NaN     state   \n",
      "1   State of New York    NY        Farmer              NaN     state   \n",
      "2   State of New York    NY      Merchant              NaN     state   \n",
      "3    City of New York    NY      Merchant  New York County      town   \n",
      "4   State of New York    NY     Physician              NaN     state   \n",
      "5            New York    NY        Farmer              NaN     state   \n",
      "6    City of New York    NY      Merchant  New York County      town   \n",
      "7   State of New York    NY       Mariner              NaN     state   \n",
      "8            New York    NY      Merchant              NaN     state   \n",
      "9    City of New York    NY      Merchant  New York County      town   \n",
      "10   City of New York    NY      Merchant  New York County      town   \n",
      "11           New York    NY     Merchants              NaN     state   \n",
      "12           New York    NY      Merchant              NaN     state   \n",
      "13           New York    NY        Broker              NaN     state   \n",
      "14           New York    NY      Merchant              NaN     state   \n",
      "15           New York    NY      Merchant              NaN     state   \n",
      "16           New York    NY      Merchant              NaN     state   \n",
      "17           New York    NY     Merchants              NaN     state   \n",
      "18           New York    NY      Merchant              NaN     state   \n",
      "19           New York    NY      Merchant              NaN     state   \n",
      "20           New York    NY      Merchant              NaN     state   \n",
      "21           New York    NY      Merchant              NaN     state   \n",
      "22           New York    NY      Merchant              NaN     state   \n",
      "23           New York    NY     Merchants              NaN     state   \n",
      "24           New York    NY      Merchant              NaN     state   \n",
      "25           New York    NY      Merchant              NaN     state   \n",
      "26           New York    NY      Merchant              NaN     state   \n",
      "27           New York    NY      Merchant              NaN     state   \n",
      "28           New York    NY      Merchant              NaN     state   \n",
      "29           New York    NY      Merchant              NaN     state   \n",
      "\n",
      "       6p_total  \n",
      "0    131.150000  \n",
      "1    118.450000  \n",
      "2     23.690000  \n",
      "3    261.310000  \n",
      "4    933.330000  \n",
      "5    555.860000  \n",
      "6    230.900000  \n",
      "7    377.490000  \n",
      "8    286.430000  \n",
      "9           NaN  \n",
      "10          NaN  \n",
      "11     1.467633  \n",
      "12    20.345500  \n",
      "13  1776.120000  \n",
      "14   685.930000  \n",
      "15   334.700000  \n",
      "16   609.420000  \n",
      "17  1867.880000  \n",
      "18   690.960000  \n",
      "19   222.050000  \n",
      "20    88.600000  \n",
      "21   138.580000  \n",
      "22   174.620000  \n",
      "23   581.480000  \n",
      "24   255.940000  \n",
      "25    55.710000  \n",
      "26   407.500000  \n",
      "27    29.930000  \n",
      "28   361.110000  \n",
      "29   120.250000  \n"
     ]
    }
   ],
   "source": [
    "State = 'NY'\n",
    "AllOccsNY = AllOccs[AllOccs['state'] == State] #Separate rows by state\n",
    "AllOccsNY = AllOccsNY.dropna(subset=['occupation']).reset_index(drop=True) #Drop any rows w/o an occupation listed. \n",
    "print(AllOccsNY)"
   ]
  },
  {
   "cell_type": "code",
   "execution_count": 1420,
   "id": "55a2908c",
   "metadata": {
    "pycharm": {
     "name": "#%%\n"
    }
   },
   "outputs": [
    {
     "name": "stdout",
     "output_type": "stream",
     "text": [
      "     occupation     6p_total  # of people\n",
      "0        Broker  1776.120000            1\n",
      "1        Farmer   674.310000            2\n",
      "2       Mariner   377.490000            1\n",
      "3      Merchant  4997.975500           21\n",
      "4     Merchants  2450.827633            3\n",
      "5     Physician   933.330000            1\n",
      "6  Schoolmaster   131.150000            1\n"
     ]
    }
   ],
   "source": [
    "OccsTotalsNY = AllOccsNY.groupby('occupation')['6p_total'].apply(sum).reset_index() #Combine duplicate occupations.\n",
    "OccsTotalsNY['# of people'] = OccsTotalsNY['occupation'].map(AllOccsNY['occupation'].value_counts(dropna=False)) #Map # of people that belong to each occupation.\n",
    "print(OccsTotalsNY.to_string())"
   ]
  },
  {
   "cell_type": "code",
   "execution_count": 1421,
   "id": "cfd1bccc",
   "metadata": {
    "pycharm": {
     "name": "#%%\n"
    }
   },
   "outputs": [
    {
     "name": "stdout",
     "output_type": "stream",
     "text": [
      "     occupation     6p_total  # of people\n",
      "0        broker  1776.120000            1\n",
      "1        farmer   674.310000            2\n",
      "2       mariner   377.490000            1\n",
      "3      merchant  4997.975500           21\n",
      "4     merchants  2450.827633            3\n",
      "5     physician   933.330000            1\n",
      "6  schoolmaster   131.150000            1\n"
     ]
    }
   ],
   "source": [
    "OccsTotalsNY = RemoveStopwords(OccsTotalsNY) \n",
    "print(OccsTotalsNY.to_string())"
   ]
  },
  {
   "cell_type": "code",
   "execution_count": 1422,
   "id": "d3506939",
   "metadata": {
    "pycharm": {
     "name": "#%%\n"
    }
   },
   "outputs": [
    {
     "name": "stdout",
     "output_type": "stream",
     "text": [
      "Occupations --> Potential Cleaned Occupations\n",
      "---------------------------------------------\n",
      "\n",
      "\n",
      "broker --> broker\n",
      "farmer --> farmer\n",
      "mariner --> mariner\n",
      "merchant --> merchant\n",
      "merchants --> merchants\n",
      "physician --> physician\n",
      "schoolmaster --> schoolmaster\n"
     ]
    }
   ],
   "source": [
    "PrintFutureOccupations(OccsTotalsNY['occupation'].tolist())"
   ]
  },
  {
   "cell_type": "code",
   "execution_count": 1423,
   "id": "eeee4da1",
   "metadata": {
    "pycharm": {
     "name": "#%%\n"
    }
   },
   "outputs": [
    {
     "name": "stdout",
     "output_type": "stream",
     "text": [
      "After Cleaning\n",
      "--------------\n",
      "\n",
      "\n",
      "     occupation     6p_total  # of people % of total people\n",
      "0        broker  1776.120000            1              None\n",
      "1        farmer   674.310000            2              None\n",
      "2       mariner   377.490000            1              None\n",
      "3      merchant  4997.975500           21              None\n",
      "4     merchants  2450.827633            3              None\n",
      "5        doctor   933.330000            1              None\n",
      "6  schoolmaster   131.150000            1              None\n",
      "\n",
      "\n",
      "After Removing Duplicates and Summing\n",
      "-------------------------------------\n",
      "\n",
      "\n",
      "     occupation     6p_total  # of people  % of total people\n",
      "0        broker  1776.120000            1                  0\n",
      "1        doctor   933.330000            1                  0\n",
      "2        farmer   674.310000            2                  0\n",
      "3       mariner   377.490000            1                  0\n",
      "4      merchant  4997.975500           21                  0\n",
      "5     merchants  2450.827633            3                  0\n",
      "6  schoolmaster   131.150000            1                  0\n",
      "\n",
      "\n",
      "Removed: merchants --> merchant\n",
      "\n",
      "\n",
      "After Using Fuzzy String Matching\n",
      "---------------------------------\n",
      "\n",
      "\n",
      "     occupation     6p_total  # of people  % of total people  average debt per person\n",
      "0      merchant  7448.803133           24          80.000000               310.366797\n",
      "1        broker  1776.120000            1           3.333333              1776.120000\n",
      "2        doctor   933.330000            1           3.333333               933.330000\n",
      "3        farmer   674.310000            2           6.666667               337.155000\n",
      "4       mariner   377.490000            1           3.333333               377.490000\n",
      "5  schoolmaster   131.150000            1           3.333333               131.150000\n",
      "\n",
      "\n"
     ]
    }
   ],
   "source": [
    "OccsTotalsNY = MergeOccupations(OccsTotalsNY)"
   ]
  },
  {
   "cell_type": "code",
   "execution_count": 1424,
   "id": "46f13b88",
   "metadata": {
    "pycharm": {
     "name": "#%%\n"
    }
   },
   "outputs": [],
   "source": [
    "TurnToExcel(OccsTotalsNY, State)"
   ]
  },
  {
   "cell_type": "markdown",
   "id": "4b68d171",
   "metadata": {
    "pycharm": {
     "name": "#%% md\n"
    }
   },
   "source": [
    "# Pennsylvania"
   ]
  },
  {
   "cell_type": "code",
   "execution_count": 1425,
   "id": "21b316c6",
   "metadata": {
    "pycharm": {
     "name": "#%%\n"
    },
    "scrolled": true
   },
   "outputs": [
    {
     "name": "stdout",
     "output_type": "stream",
     "text": [
      "     6p_Dollar  6p_Cents  6p_def_Dollar  6p_def_Cents  3p_Dollar  3p_Cents  \\\n",
      "0          1.0    102.14            1.0         51.07        1.0    117.34   \n",
      "1       3212.0     38.00         1606.0         19.00     1400.0     66.00   \n",
      "2       4529.0     96.00         2264.0         98.00     3312.0     47.00   \n",
      "3        607.0      8.00          303.0         54.00      146.0     51.00   \n",
      "4       2050.0     74.00         1025.0         37.00      745.0     57.00   \n",
      "..         ...       ...            ...           ...        ...       ...   \n",
      "410     9544.0     97.00         4772.0         48.00     8590.0     46.00   \n",
      "411      880.0     75.00          440.0         38.00      753.0     91.00   \n",
      "412       20.0     25.00           10.0         13.00        NaN       NaN   \n",
      "413       43.0     60.00           21.0         80.00        NaN       NaN   \n",
      "414      150.0       NaN           75.0           NaN      138.0     90.00   \n",
      "\n",
      "                         town state occupation               county name_type  \\\n",
      "0                Philadelphia    PA    Mariner  Philadelphia County      town   \n",
      "1                Philadelphia    PA   Merchant  Philadelphia County      town   \n",
      "2                Philadelphia    PA   Merchant  Philadelphia County      town   \n",
      "3                Philadelphia    PA   Merchant  Philadelphia County      town   \n",
      "4       Carlisle Pennsylvania    PA   Merchant    Cumberland County      town   \n",
      "..                        ...   ...        ...                  ...       ...   \n",
      "410              Philadelphia    PA    Esquire  Philadelphia County      town   \n",
      "411              Philadelphia    PA    Esquire  Philadelphia County      town   \n",
      "412  York County Pennsylvania    PA    Esquire          York County    county   \n",
      "413                 York Town    PA     Taylor          York County      town   \n",
      "414              Philadelphia    PA   Merchant  Philadelphia County      town   \n",
      "\n",
      "      6p_total  \n",
      "0       2.0214  \n",
      "1    3212.3800  \n",
      "2    4529.9600  \n",
      "3     607.0800  \n",
      "4    2050.7400  \n",
      "..         ...  \n",
      "410  9544.9700  \n",
      "411   880.7500  \n",
      "412    20.2500  \n",
      "413    43.6000  \n",
      "414        NaN  \n",
      "\n",
      "[415 rows x 12 columns]\n"
     ]
    }
   ],
   "source": [
    "State = 'PA'\n",
    "AllOccsPA = AllOccs[AllOccs['state'] == State] #Separate rows by state\n",
    "AllOccsPA = AllOccsPA.dropna(subset=['occupation']).reset_index(drop=True) #Drop any rows w/o an occupation listed. \n",
    "print(AllOccsPA)"
   ]
  },
  {
   "cell_type": "code",
   "execution_count": 1426,
   "id": "35f22e8f",
   "metadata": {
    "pycharm": {
     "name": "#%%\n"
    }
   },
   "outputs": [
    {
     "name": "stdout",
     "output_type": "stream",
     "text": [
      "                                                         occupation     6p_total  # of people\n",
      "0                                                        AH.Vat Law      58.0500            1\n",
      "1        Adm of Alexander McCaraher late of Chester County Deceased     799.5100            1\n",
      "2                            Administer of the estate of Job Vernon    1865.4400            1\n",
      "3                                  Administor to the Est of J James      27.5300            1\n",
      "4                                                   Attorney at Law    1223.6200            1\n",
      "5                                                       Black Smith     692.2500            1\n",
      "6                                                       Book Binder     783.0700            1\n",
      "7                                                            Broker   64008.8400           60\n",
      "8                                                             Clerk    1855.5800            4\n",
      "9                                                                Co    2898.8600            4\n",
      "10                                                      Conveyancer     108.4000            1\n",
      "11                                                      Cordwainder     281.2500            1\n",
      "12                                                         Druggist    4922.4300            2\n",
      "13                                                          Esquier   20672.0700            6\n",
      "14                                                          Esquire   20770.1700           15\n",
      "15                                     Estate John Benezet Deceased       0.0000            1\n",
      "16                                                        Estate of    1979.6000            1\n",
      "17                                           Ex Philadelphia County    1802.9600            1\n",
      "18                                           Ex of William Honeyman     668.9600            1\n",
      "19                          Ex to the Estate of John Baird Bucks Co     115.9400            1\n",
      "20                              Executers of David Grierlate Y Town    5658.3600            1\n",
      "21                     Executor to the Estate Abraham Hull deceased      47.9100            1\n",
      "22                      Executor to the Estate Mathias Londenberger     493.8300            1\n",
      "23      Executor to the Estate of Doctor Benjamin Franklin deceased       0.0000            1\n",
      "24                                                           Farmer    1685.8100            5\n",
      "25                                                          Furrier    3107.1800            1\n",
      "26                                                        Gentleman    7540.6600            6\n",
      "27                                                        Goldsmith     142.2200            1\n",
      "28                                           Guardian to Adam Grier    1605.8000            1\n",
      "29                                        Guardian to Maria Benezet    2267.5000            1\n",
      "30                                    Guardian to William Chevalier     666.6600            1\n",
      "31                                                           Hatter    2291.7600            3\n",
      "32                                                       Inn Keeper    1668.6800            3\n",
      "33                                                    Junior Broker   10691.1200            3\n",
      "34                                                              Law    3942.1100            2\n",
      "35                                                           Lawyer    3472.9000            1\n",
      "36                                                          Mariner    3906.5714            5\n",
      "37                                                         Merchant  553198.9900          229\n",
      "38  Merchant Executer to the Estate of John Schweig Hauser deceased    5333.3300            1\n",
      "39                                                        Merchants   54042.2900            7\n",
      "40                                                     Pennsylvania     856.5600            1\n",
      "41                                                        Physician    1769.0100            1\n",
      "42                                                      Post Master    7083.5300            1\n",
      "43                                                          Printer    7423.7300            5\n",
      "44                             Printer in Trust for Jennet Thompson     294.0100            1\n",
      "45                                          Property of Mathematics     461.1100            1\n",
      "46                                                         Reverend     224.1200            1\n",
      "47                                                          Sheriff      56.2100            1\n",
      "48                                                      Ship Wright    1241.7600            1\n",
      "49                                                      Shop Keeper      41.4700            1\n",
      "50                                                       Shopkeeper     547.4800            2\n",
      "51                                                      Silversmith    1917.6500            2\n",
      "52                                                         Spinster     528.3300            1\n",
      "53                                                           Tanner    1192.2500            2\n",
      "54                                                           Taylor    2137.3900            4\n",
      "55                       Treasurer of the first Presbyterian Church     714.8100            1\n",
      "56                                             Trust By David Cloyd     618.1400            1\n",
      "57                                                            Widow    5576.5300            5\n",
      "58                                                           Yeoman    1136.0600            2\n",
      "59                         for Christopher Mary and Charity Pyrleus     846.2300            1\n",
      "60                           in trust for the Estate of Robert Dill    1436.5000            1\n"
     ]
    }
   ],
   "source": [
    "OccsTotalsPA = AllOccsPA.groupby('occupation')['6p_total'].apply(sum).reset_index() #Combine duplicate occupations.\n",
    "OccsTotalsPA['# of people'] = OccsTotalsPA['occupation'].map(AllOccsPA['occupation'].value_counts(dropna=False)) #Map # of people that belong to each occupation.\n",
    "print(OccsTotalsPA.to_string())"
   ]
  },
  {
   "cell_type": "code",
   "execution_count": 1427,
   "id": "97053a2b",
   "metadata": {
    "pycharm": {
     "name": "#%%\n"
    }
   },
   "outputs": [
    {
     "name": "stdout",
     "output_type": "stream",
     "text": [
      "                                               occupation     6p_total  # of people\n",
      "0                                              ah.vat law      58.0500            1\n",
      "1    adm alexander mccaraher late chester county deceased     799.5100            1\n",
      "2                            administer estate job vernon    1865.4400            1\n",
      "3                                  administor est j james      27.5300            1\n",
      "4                                            attorney law    1223.6200            1\n",
      "5                                             black smith     692.2500            1\n",
      "6                                             book binder     783.0700            1\n",
      "7                                                  broker   64008.8400           60\n",
      "8                                                   clerk    1855.5800            4\n",
      "9                                                      co    2898.8600            4\n",
      "10                                            conveyancer     108.4000            1\n",
      "11                                            cordwainder     281.2500            1\n",
      "12                                               druggist    4922.4300            2\n",
      "13                                                esquier   20672.0700            6\n",
      "14                                                esquire   20770.1700           15\n",
      "15                           estate john benezet deceased       0.0000            1\n",
      "16                                                 estate    1979.6000            1\n",
      "17                                 ex philadelphia county    1802.9600            1\n",
      "18                                    ex william honeyman     668.9600            1\n",
      "19                          ex estate john baird bucks co     115.9400            1\n",
      "20                       executers david grierlate y town    5658.3600            1\n",
      "21                  executor estate abraham hull deceased      47.9100            1\n",
      "22                   executor estate mathias londenberger     493.8300            1\n",
      "23      executor estate doctor benjamin franklin deceased       0.0000            1\n",
      "24                                                 farmer    1685.8100            5\n",
      "25                                                furrier    3107.1800            1\n",
      "26                                              gentleman    7540.6600            6\n",
      "27                                              goldsmith     142.2200            1\n",
      "28                                    guardian adam grier    1605.8000            1\n",
      "29                                 guardian maria benezet    2267.5000            1\n",
      "30                             guardian william chevalier     666.6600            1\n",
      "31                                                 hatter    2291.7600            3\n",
      "32                                             inn keeper    1668.6800            3\n",
      "33                                          junior broker   10691.1200            3\n",
      "34                                                    law    3942.1100            2\n",
      "35                                                 lawyer    3472.9000            1\n",
      "36                                                mariner    3906.5714            5\n",
      "37                                               merchant  553198.9900          229\n",
      "38  merchant executer estate john schweig hauser deceased    5333.3300            1\n",
      "39                                              merchants   54042.2900            7\n",
      "40                                           pennsylvania     856.5600            1\n",
      "41                                              physician    1769.0100            1\n",
      "42                                            post master    7083.5300            1\n",
      "43                                                printer    7423.7300            5\n",
      "44                          printer trust jennet thompson     294.0100            1\n",
      "45                                   property mathematics     461.1100            1\n",
      "46                                               reverend     224.1200            1\n",
      "47                                                sheriff      56.2100            1\n",
      "48                                            ship wright    1241.7600            1\n",
      "49                                            shop keeper      41.4700            1\n",
      "50                                             shopkeeper     547.4800            2\n",
      "51                                            silversmith    1917.6500            2\n",
      "52                                               spinster     528.3300            1\n",
      "53                                                 tanner    1192.2500            2\n",
      "54                                                 taylor    2137.3900            4\n",
      "55                    treasurer first presbyterian church     714.8100            1\n",
      "56                                   trust by david cloyd     618.1400            1\n",
      "57                                                  widow    5576.5300            5\n",
      "58                                                 yeoman    1136.0600            2\n",
      "59                       christopher mary charity pyrleus     846.2300            1\n",
      "60                               trust estate robert dill    1436.5000            1\n"
     ]
    }
   ],
   "source": [
    "OccsTotalsPA = RemoveStopwords(OccsTotalsPA) \n",
    "print(OccsTotalsPA.to_string())"
   ]
  },
  {
   "cell_type": "code",
   "execution_count": 1428,
   "id": "68e27f87",
   "metadata": {
    "pycharm": {
     "name": "#%%\n"
    }
   },
   "outputs": [
    {
     "name": "stdout",
     "output_type": "stream",
     "text": [
      "Occupation Before --> Occupation After\n",
      "--------------------------------------\n",
      "\n",
      "\n",
      "ah.vat law --> ah.vat law\n",
      "adm alexander mccaraher late chester county deceased --> adm alexander mccaraher late chester\n",
      "administer estate job vernon --> administer estate\n",
      "administor est j james --> administor est\n",
      "attorney law --> attorney law\n",
      "black smith --> black smith\n",
      "book binder --> book binder\n",
      "broker --> broker\n",
      "clerk --> clerk\n",
      "co --> co\n",
      "conveyancer --> conveyancer\n",
      "cordwainder --> cordwainder\n",
      "druggist --> druggist\n",
      "esquier --> esquier\n",
      "esquire --> esquire\n",
      "estate john benezet deceased --> estate john\n",
      "estate --> estate\n",
      "ex philadelphia county --> ex\n",
      "ex william honeyman --> ex\n",
      "ex estate john baird bucks co --> ex estate john baird\n",
      "executers david grierlate y town --> executers david grierlate\n",
      "executor estate abraham hull deceased --> executor estate abraham\n",
      "executor estate mathias londenberger --> executor estate\n",
      "executor estate doctor benjamin franklin deceased --> executor estate doctor benjamin\n",
      "farmer --> farmer\n",
      "furrier --> furrier\n",
      "gentleman --> gentleman\n",
      "goldsmith --> goldsmith\n",
      "guardian adam grier --> guardian\n",
      "guardian maria benezet --> guardian\n",
      "guardian william chevalier --> guardian\n",
      "hatter --> hatter\n",
      "inn keeper --> inn keeper\n",
      "junior broker --> junior broker\n",
      "law --> law\n",
      "lawyer --> lawyer\n",
      "mariner --> mariner\n",
      "merchant --> merchant\n",
      "merchant executer estate john schweig hauser deceased --> merchant executer estate john schweig\n",
      "merchants --> merchants\n",
      "pennsylvania --> pennsylvania\n",
      "physician --> physician\n",
      "post master --> post master\n",
      "printer --> printer\n",
      "printer trust jennet thompson --> printer trust\n",
      "property mathematics --> property mathematics\n",
      "reverend --> reverend\n",
      "sheriff --> sheriff\n",
      "ship wright --> ship wright\n",
      "shop keeper --> shop keeper\n",
      "shopkeeper --> shopkeeper\n",
      "silversmith --> silversmith\n",
      "spinster --> spinster\n",
      "tanner --> tanner\n",
      "taylor --> taylor\n",
      "treasurer first presbyterian church --> treasurer first\n",
      "trust by david cloyd --> trust by\n",
      "widow --> widow\n",
      "yeoman --> yeoman\n",
      "christopher mary charity pyrleus --> christopher mary\n",
      "trust estate robert dill --> trust estate\n"
     ]
    }
   ],
   "source": [
    "FindRemoveConst(OccsTotalsPA['occupation'].tolist())"
   ]
  },
  {
   "cell_type": "code",
   "execution_count": 1429,
   "id": "7fa72484",
   "metadata": {
    "pycharm": {
     "name": "#%%\n"
    },
    "scrolled": false
   },
   "outputs": [
    {
     "name": "stdout",
     "output_type": "stream",
     "text": [
      "Occupations --> Potential Cleaned Occupations\n",
      "---------------------------------------------\n",
      "\n",
      "\n",
      "ah.vat law --> ah.vat\n",
      "adm alexander mccaraher late chester --> adm\n",
      "administer estate --> administer\n",
      "administor est --> administor\n",
      "attorney law --> attorney\n",
      "black smith --> black\n",
      "book binder --> book\n",
      "broker --> broker\n",
      "clerk --> clerk\n",
      "co --> co\n",
      "conveyancer --> conveyancer\n",
      "cordwainder --> cordwainder\n",
      "druggist --> druggist\n",
      "esquier --> esquier\n",
      "esquire --> esquire\n",
      "estate john --> estate\n",
      "estate --> estate\n",
      "ex --> ex\n",
      "ex --> ex\n",
      "ex estate john baird --> baird\n",
      "executers david grierlate --> executers\n",
      "executor estate abraham --> executor\n",
      "executor estate --> executor\n",
      "executor estate doctor benjamin --> executor\n",
      "farmer --> farmer\n",
      "furrier --> furrier\n",
      "gentleman --> gentleman\n",
      "goldsmith --> goldsmith\n",
      "guardian --> guardian\n",
      "guardian --> guardian\n",
      "guardian --> guardian\n",
      "hatter --> hatter\n",
      "inn keeper --> inn\n",
      "junior broker --> junior\n",
      "law --> law\n",
      "lawyer --> lawyer\n",
      "mariner --> mariner\n",
      "merchant --> merchant\n",
      "merchant executer estate john schweig --> merchant\n",
      "merchants --> merchants\n",
      "pennsylvania --> pennsylvania\n",
      "physician --> physician\n",
      "post master --> post\n",
      "printer --> printer\n",
      "printer trust --> printer\n",
      "property mathematics --> property\n",
      "reverend --> reverend\n",
      "sheriff --> sheriff\n",
      "ship wright --> ship\n",
      "shop keeper --> shop\n",
      "shopkeeper --> shopkeeper\n",
      "silversmith --> silversmith\n",
      "spinster --> spinster\n",
      "tanner --> tanner\n",
      "taylor --> taylor\n",
      "treasurer first --> treasurer\n",
      "trust by --> trust\n",
      "widow --> widow\n",
      "yeoman --> yeoman\n",
      "christopher mary --> christopher\n",
      "trust estate --> trust\n"
     ]
    }
   ],
   "source": [
    "PrintFutureOccupations(OccsTotalsPA['occupation'].tolist())"
   ]
  },
  {
   "cell_type": "code",
   "execution_count": 1430,
   "id": "26b1bc87",
   "metadata": {
    "pycharm": {
     "name": "#%%\n"
    },
    "scrolled": false
   },
   "outputs": [
    {
     "name": "stdout",
     "output_type": "stream",
     "text": [
      "After Cleaning\n",
      "--------------\n",
      "\n",
      "\n",
      "     occupation     6p_total  # of people % of total people\n",
      "0      attorney      58.0500            1              None\n",
      "1    administer     799.5100            1              None\n",
      "2    administer    1865.4400            1              None\n",
      "3    administor      27.5300            1              None\n",
      "4      attorney    1223.6200            1              None\n",
      "5    blacksmith     692.2500            1              None\n",
      "6   book binder     783.0700            1              None\n",
      "7        broker   64008.8400           60              None\n",
      "8         clerk    1855.5800            4              None\n",
      "9          None    2898.8600            4              None\n",
      "10  conveyancer     108.4000            1              None\n",
      "11  cordwainder     281.2500            1              None\n",
      "12     druggist    4922.4300            2              None\n",
      "13          esq   20672.0700            6              None\n",
      "14          esq   20770.1700           15              None\n",
      "15       estate       0.0000            1              None\n",
      "16       estate    1979.6000            1              None\n",
      "17    executors    1802.9600            1              None\n",
      "18    executors     668.9600            1              None\n",
      "19    executors     115.9400            1              None\n",
      "20    executers    5658.3600            1              None\n",
      "21     executor      47.9100            1              None\n",
      "22     executor     493.8300            1              None\n",
      "23     executor       0.0000            1              None\n",
      "24       farmer    1685.8100            5              None\n",
      "25      furrier    3107.1800            1              None\n",
      "26    gentleman    7540.6600            6              None\n",
      "27    goldsmith     142.2200            1              None\n",
      "28     guardian    1605.8000            1              None\n",
      "29     guardian    2267.5000            1              None\n",
      "30     guardian     666.6600            1              None\n",
      "31       hatter    2291.7600            3              None\n",
      "32   inn keeper    1668.6800            3              None\n",
      "33       broker   10691.1200            3              None\n",
      "34     attorney    3942.1100            2              None\n",
      "35     attorney    3472.9000            1              None\n",
      "36      mariner    3906.5714            5              None\n",
      "37     merchant  553198.9900          229              None\n",
      "38     merchant    5333.3300            1              None\n",
      "39    merchants   54042.2900            7              None\n",
      "40         None     856.5600            1              None\n",
      "41       doctor    1769.0100            1              None\n",
      "42  post master    7083.5300            1              None\n",
      "43      printer    7423.7300            5              None\n",
      "44      printer     294.0100            1              None\n",
      "45     property     461.1100            1              None\n",
      "46     reverend     224.1200            1              None\n",
      "47      sheriff      56.2100            1              None\n",
      "48  ship wright    1241.7600            1              None\n",
      "49   shopkeeper      41.4700            1              None\n",
      "50   shopkeeper     547.4800            2              None\n",
      "51  silversmith    1917.6500            2              None\n",
      "52     spinster     528.3300            1              None\n",
      "53       tanner    1192.2500            2              None\n",
      "54       taylor    2137.3900            4              None\n",
      "55    treasurer     714.8100            1              None\n",
      "56        trust     618.1400            1              None\n",
      "57        widow    5576.5300            5              None\n",
      "58       farmer    1136.0600            2              None\n",
      "59   individual     846.2300            1              None\n",
      "60        trust    1436.5000            1              None\n",
      "\n",
      "\n",
      "After Removing Duplicates and Summing\n",
      "-------------------------------------\n",
      "\n",
      "\n",
      "     occupation     6p_total  # of people  % of total people\n",
      "0    administer    2664.9500            2                  0\n",
      "1    administor      27.5300            1                  0\n",
      "2      attorney    8696.6800            5                  0\n",
      "3    blacksmith     692.2500            1                  0\n",
      "4   book binder     783.0700            1                  0\n",
      "5        broker   74699.9600           63                  0\n",
      "6         clerk    1855.5800            4                  0\n",
      "7   conveyancer     108.4000            1                  0\n",
      "8   cordwainder     281.2500            1                  0\n",
      "9        doctor    1769.0100            1                  0\n",
      "10     druggist    4922.4300            2                  0\n",
      "11          esq   41442.2400           21                  0\n",
      "12       estate    1979.6000            2                  0\n",
      "13    executers    5658.3600            1                  0\n",
      "14     executor     541.7400            3                  0\n",
      "15    executors    2587.8600            3                  0\n",
      "16       farmer    2821.8700            7                  0\n",
      "17      furrier    3107.1800            1                  0\n",
      "18    gentleman    7540.6600            6                  0\n",
      "19    goldsmith     142.2200            1                  0\n",
      "20     guardian    4539.9600            3                  0\n",
      "21       hatter    2291.7600            3                  0\n",
      "22   individual     846.2300            1                  0\n",
      "23   inn keeper    1668.6800            3                  0\n",
      "24      mariner    3906.5714            5                  0\n",
      "25     merchant  558532.3200          230                  0\n",
      "26    merchants   54042.2900            7                  0\n",
      "27  post master    7083.5300            1                  0\n",
      "28      printer    7717.7400            6                  0\n",
      "29     property     461.1100            1                  0\n",
      "30     reverend     224.1200            1                  0\n",
      "31      sheriff      56.2100            1                  0\n",
      "32  ship wright    1241.7600            1                  0\n",
      "33   shopkeeper     588.9500            3                  0\n",
      "34  silversmith    1917.6500            2                  0\n",
      "35     spinster     528.3300            1                  0\n",
      "36       tanner    1192.2500            2                  0\n",
      "37       taylor    2137.3900            4                  0\n",
      "38    treasurer     714.8100            1                  0\n",
      "39        trust    2054.6400            2                  0\n",
      "40        widow    5576.5300            5                  0\n",
      "\n",
      "\n",
      "Removed: administor --> administer\n",
      "Removed: executor --> executers\n",
      "Removed: executors --> executers\n",
      "Removed: merchants --> merchant\n",
      "\n",
      "\n",
      "After Using Fuzzy String Matching\n",
      "---------------------------------\n",
      "\n",
      "\n",
      "     occupation     6p_total  # of people  % of total people  average debt per person\n",
      "0      merchant  612574.6100          237          57.804878              2584.702996\n",
      "1        broker   74699.9600           63          15.365854              1185.713651\n",
      "2           esq   41442.2400           21           5.121951              1973.440000\n",
      "3     executers    8787.9600            7           1.707317              1255.422857\n",
      "4      attorney    8696.6800            5           1.219512              1739.336000\n",
      "5       printer    7717.7400            6           1.463415              1286.290000\n",
      "6     gentleman    7540.6600            6           1.463415              1256.776667\n",
      "7   post master    7083.5300            1           0.243902              7083.530000\n",
      "8         widow    5576.5300            5           1.219512              1115.306000\n",
      "9      druggist    4922.4300            2           0.487805              2461.215000\n",
      "10     guardian    4539.9600            3           0.731707              1513.320000\n",
      "11      mariner    3906.5714            5           1.219512               781.314280\n",
      "12      furrier    3107.1800            1           0.243902              3107.180000\n",
      "13       farmer    2821.8700            7           1.707317               403.124286\n",
      "14   administer    2692.4800            3           0.731707               897.493333\n",
      "15       hatter    2291.7600            3           0.731707               763.920000\n",
      "16       taylor    2137.3900            4           0.975610               534.347500\n",
      "17        trust    2054.6400            2           0.487805              1027.320000\n",
      "18       estate    1979.6000            2           0.487805               989.800000\n",
      "19  silversmith    1917.6500            2           0.487805               958.825000\n",
      "20        clerk    1855.5800            4           0.975610               463.895000\n",
      "21       doctor    1769.0100            1           0.243902              1769.010000\n",
      "22   inn keeper    1668.6800            3           0.731707               556.226667\n",
      "23  ship wright    1241.7600            1           0.243902              1241.760000\n",
      "24       tanner    1192.2500            2           0.487805               596.125000\n",
      "25   individual     846.2300            1           0.243902               846.230000\n",
      "26  book binder     783.0700            1           0.243902               783.070000\n",
      "27    treasurer     714.8100            1           0.243902               714.810000\n",
      "28   blacksmith     692.2500            1           0.243902               692.250000\n",
      "29   shopkeeper     588.9500            3           0.731707               196.316667\n",
      "30     spinster     528.3300            1           0.243902               528.330000\n",
      "31     property     461.1100            1           0.243902               461.110000\n",
      "32  cordwainder     281.2500            1           0.243902               281.250000\n",
      "33     reverend     224.1200            1           0.243902               224.120000\n",
      "34    goldsmith     142.2200            1           0.243902               142.220000\n",
      "35  conveyancer     108.4000            1           0.243902               108.400000\n",
      "36      sheriff      56.2100            1           0.243902                56.210000\n",
      "\n",
      "\n"
     ]
    }
   ],
   "source": [
    "OccsTotalsPA = MergeOccupations(OccsTotalsPA)"
   ]
  },
  {
   "cell_type": "code",
   "execution_count": 1431,
   "id": "ba583411",
   "metadata": {
    "pycharm": {
     "name": "#%%\n"
    }
   },
   "outputs": [],
   "source": [
    "TurnToExcel(OccsTotalsPA, State)"
   ]
  },
  {
   "cell_type": "markdown",
   "id": "ee94923a",
   "metadata": {
    "pycharm": {
     "name": "#%% md\n"
    }
   },
   "source": [
    "# Rhode Island"
   ]
  },
  {
   "cell_type": "code",
   "execution_count": 1432,
   "id": "9babd2ef",
   "metadata": {
    "pycharm": {
     "name": "#%%\n"
    }
   },
   "outputs": [
    {
     "name": "stdout",
     "output_type": "stream",
     "text": [
      "     6p_Dollar  6p_Cents  6p_def_Dollar  6p_def_Cents  3p_Dollar  3p_Cents  \\\n",
      "0        154.0      20.0           77.0          10.0      192.0       NaN   \n",
      "1        194.0      54.0           97.0          27.0      222.0       1.0   \n",
      "2        359.0      50.0          179.0          76.0      254.0      21.0   \n",
      "3          7.0      16.0            3.0          58.0       55.0      82.0   \n",
      "4         35.0       2.0           17.0          51.0       38.0      94.0   \n",
      "..         ...       ...            ...           ...        ...       ...   \n",
      "443      164.0      96.0          165.0          27.0      100.0      22.0   \n",
      "444       59.0      90.0           29.0          95.0       70.0       8.0   \n",
      "445       28.0      44.0           14.0          22.0       29.0      70.0   \n",
      "446      142.0      44.0           71.0          22.0      132.0      43.0   \n",
      "447       33.0      33.0           17.0          39.0       31.0      94.0   \n",
      "\n",
      "             town state occupation             county name_type  6p_total  \n",
      "0    Rhode Island    RI     Farmer                NaN     state    154.20  \n",
      "1      Providence    RI   Merchant  Providence County      town    194.54  \n",
      "2      Providence    RI   Merchant  Providence County      town    359.50  \n",
      "3      Providence    RI   Merchant  Providence County      town      7.16  \n",
      "4      Providence    RI    Mariner  Providence County      town     35.02  \n",
      "..            ...   ...        ...                ...       ...       ...  \n",
      "443    Providence    RI   Merchant  Providence County      town    164.96  \n",
      "444       Johnson    RI    Esquire  Providence County      town     59.90  \n",
      "445      Cranston    RI     Yeoman  Providence County      town     28.44  \n",
      "446    Providence    RI   Merchant  Providence County      town    142.44  \n",
      "447  Rhode Island    RI   Merchant                NaN     state     33.33  \n",
      "\n",
      "[448 rows x 12 columns]\n"
     ]
    }
   ],
   "source": [
    "State = 'RI'\n",
    "AllOccsRI = AllOccs[AllOccs['state'] == State] #Separate rows by state\n",
    "AllOccsRI = AllOccsRI.dropna(subset=['occupation']).reset_index(drop=True) #Drop any rows w/o an occupation listed. \n",
    "print(AllOccsRI)"
   ]
  },
  {
   "cell_type": "code",
   "execution_count": 1433,
   "id": "0b8cd528",
   "metadata": {
    "pycharm": {
     "name": "#%%\n"
    }
   },
   "outputs": [
    {
     "name": "stdout",
     "output_type": "stream",
     "text": [
      "                                                                          occupation   6p_total  # of people\n",
      "0                      Administratrix to the Estate of Joshua Brown Esquire Deceased       0.00            1\n",
      "1                                                                        Auctioneers     460.77            3\n",
      "2                                                                              Baker     206.37            1\n",
      "3                                                                         Blacksmith     540.68            3\n",
      "4                                                                         Blockmaker       4.43            1\n",
      "5                                                                             Broker     171.50            2\n",
      "6                                                                            Butcher     235.70            1\n",
      "7                                                                          Carpenter       0.00            1\n",
      "8                                                                       Chaise Maker      47.57            1\n",
      "9                                                                             Cooper    1596.15            3\n",
      "10                                                                        Cordwainer     417.48            1\n",
      "11                                                                            Deacon      16.35            1\n",
      "12                                                                         Distiller     466.25            3\n",
      "13                                                                            Doctor     445.45            1\n",
      "14                                                                           Esquier      13.08            1\n",
      "15                                                                           Esquire   68388.42          129\n",
      "16                                        Extors to the Late Jn Jenckes Esq Deceased     124.50            1\n",
      "17                                    Extors to the Late Nicholas Brown Esq Deceased       0.00            1\n",
      "18                                                                            Farmer    1487.53            2\n",
      "19  General Treasurer of the state of Rhode Island and his suceessors in said office  199740.67            1\n",
      "20                                                                         Gentleman    2396.70           10\n",
      "21                                                                           Glazier     982.35            1\n",
      "22                                                                         Goldsmith       0.00            1\n",
      "23                                                                            Hatter     828.66            2\n",
      "24                                                                       Housewright     266.67            1\n",
      "25                                                                         Innholder    1430.29            8\n",
      "26                                                                          Labourer      67.16            2\n",
      "27                                                                           Mariner    4857.32           25\n",
      "28                                                                             Mason    1152.50            3\n",
      "29                                                                          Merchant   99957.63           97\n",
      "30                                                                         Merchants       4.29            1\n",
      "31                                                                         Physician    2676.24            7\n",
      "32                                                                          Reverend    2054.38            2\n",
      "33                                                                        Shipwright      89.72            2\n",
      "34                                                                         Shoemaker     114.88            1\n",
      "35                                                                          Spinster     721.33            3\n",
      "36                                                                            Taylor    1297.73            4\n",
      "37                                                                            Trader     436.34            5\n",
      "38                                                                Traders In Company      43.79            1\n",
      "39                                                             Treasurer Town Foster     131.11            1\n",
      "40                                                             Treasurer of Scituate     181.80            1\n",
      "41           Treasurer of St Johns Ledge No 1 of Tree and accepted Masons Providence     616.67            1\n",
      "42                             Treasurer of the Baptist Benevolent Society in Warren     120.83            1\n",
      "43                  Treasurer of the Congregational Benevolent Society in Providence     152.46            1\n",
      "44               Treasurer of the Society of Cincinnati in the State of Rhode Island    1432.30            1\n",
      "45                                 Treasurer of the State of Rhode Island Of Newport    2990.01            2\n",
      "46                         Treasurer of the State of Rhode Island Of Newport Esquire   16830.22            1\n",
      "47                         Treasurer to the Charitable Baptist Society in Providence     329.16            1\n",
      "48                                       Tresurer of the Catholic Society at Bristol      48.72            1\n",
      "49                                                                             Widow    6182.06           23\n",
      "50                                                                            Yeoman   13137.70           78\n",
      "51                                          in behalf of the Proprietors of Tiverton      58.64            1\n",
      "52                                               treasurer of the Town of Providence      73.71            1\n"
     ]
    }
   ],
   "source": [
    "OccsTotalsRI = AllOccsRI.groupby('occupation')['6p_total'].apply(sum).reset_index() #Combine duplicate occupations.\n",
    "OccsTotalsRI['# of people'] = OccsTotalsRI['occupation'].map(AllOccsRI['occupation'].value_counts(dropna=False)) #Map # of people that belong to each occupation.\n",
    "print(OccsTotalsRI.to_string())"
   ]
  },
  {
   "cell_type": "code",
   "execution_count": 1434,
   "id": "e204b240",
   "metadata": {
    "pycharm": {
     "name": "#%%\n"
    }
   },
   "outputs": [
    {
     "name": "stdout",
     "output_type": "stream",
     "text": [
      "                                                       occupation   6p_total  # of people\n",
      "0             administratrix estate joshua brown esquire deceased       0.00            1\n",
      "1                                                     auctioneers     460.77            3\n",
      "2                                                           baker     206.37            1\n",
      "3                                                      blacksmith     540.68            3\n",
      "4                                                      blockmaker       4.43            1\n",
      "5                                                          broker     171.50            2\n",
      "6                                                         butcher     235.70            1\n",
      "7                                                       carpenter       0.00            1\n",
      "8                                                    chaise maker      47.57            1\n",
      "9                                                          cooper    1596.15            3\n",
      "10                                                     cordwainer     417.48            1\n",
      "11                                                         deacon      16.35            1\n",
      "12                                                      distiller     466.25            3\n",
      "13                                                         doctor     445.45            1\n",
      "14                                                        esquier      13.08            1\n",
      "15                                                        esquire   68388.42          129\n",
      "16                            extors late jn jenckes esq deceased     124.50            1\n",
      "17                        extors late nicholas brown esq deceased       0.00            1\n",
      "18                                                         farmer    1487.53            2\n",
      "19    general treasurer state rhode island suceessors said office  199740.67            1\n",
      "20                                                      gentleman    2396.70           10\n",
      "21                                                        glazier     982.35            1\n",
      "22                                                      goldsmith       0.00            1\n",
      "23                                                         hatter     828.66            2\n",
      "24                                                    housewright     266.67            1\n",
      "25                                                      innholder    1430.29            8\n",
      "26                                                       labourer      67.16            2\n",
      "27                                                        mariner    4857.32           25\n",
      "28                                                          mason    1152.50            3\n",
      "29                                                       merchant   99957.63           97\n",
      "30                                                      merchants       4.29            1\n",
      "31                                                      physician    2676.24            7\n",
      "32                                                       reverend    2054.38            2\n",
      "33                                                     shipwright      89.72            2\n",
      "34                                                      shoemaker     114.88            1\n",
      "35                                                       spinster     721.33            3\n",
      "36                                                         taylor    1297.73            4\n",
      "37                                                         trader     436.34            5\n",
      "38                                             traders in company      43.79            1\n",
      "39                                          treasurer town foster     131.11            1\n",
      "40                                             treasurer scituate     181.80            1\n",
      "41  treasurer st johns ledge no 1 tree accepted masons providence     616.67            1\n",
      "42                    treasurer baptist benevolent society warren     120.83            1\n",
      "43         treasurer congregational benevolent society providence     152.46            1\n",
      "44                treasurer society cincinnati state rhode island    1432.30            1\n",
      "45                        treasurer state rhode island of newport    2990.01            2\n",
      "46                treasurer state rhode island of newport esquire   16830.22            1\n",
      "47                treasurer charitable baptist society providence     329.16            1\n",
      "48                              tresurer catholic society bristol      48.72            1\n",
      "49                                                          widow    6182.06           23\n",
      "50                                                         yeoman   13137.70           78\n",
      "51                                    behalf proprietors tiverton      58.64            1\n",
      "52                                      treasurer town providence      73.71            1\n"
     ]
    }
   ],
   "source": [
    "OccsTotalsRI = RemoveStopwords(OccsTotalsRI) \n",
    "print(OccsTotalsRI.to_string())"
   ]
  },
  {
   "cell_type": "code",
   "execution_count": 1435,
   "id": "d9abc649",
   "metadata": {
    "pycharm": {
     "name": "#%%\n"
    }
   },
   "outputs": [
    {
     "name": "stdout",
     "output_type": "stream",
     "text": [
      "Occupation Before --> Occupation After\n",
      "--------------------------------------\n",
      "\n",
      "\n",
      "administratrix estate joshua brown esquire deceased --> administratrix estate joshua brown\n",
      "auctioneers --> auctioneers\n",
      "baker --> baker\n",
      "blacksmith --> blacksmith\n",
      "blockmaker --> blockmaker\n",
      "broker --> broker\n",
      "butcher --> butcher\n",
      "carpenter --> carpenter\n",
      "chaise maker --> chaise maker\n",
      "cooper --> cooper\n",
      "cordwainer --> cordwainer\n",
      "deacon --> deacon\n",
      "distiller --> distiller\n",
      "doctor --> doctor\n",
      "esquier --> esquier\n",
      "esquire --> esquire\n",
      "extors late jn jenckes esq deceased --> extors late jn jenckes\n",
      "extors late nicholas brown esq deceased --> extors late nicholas brown\n",
      "farmer --> farmer\n",
      "general treasurer state rhode island suceessors said office --> general treasurer state rhode island suceessors\n",
      "gentleman --> gentleman\n",
      "glazier --> glazier\n",
      "goldsmith --> goldsmith\n",
      "hatter --> hatter\n",
      "housewright --> housewright\n",
      "innholder --> innholder\n",
      "labourer --> labourer\n",
      "mariner --> mariner\n",
      "mason --> mason\n",
      "merchant --> merchant\n",
      "merchants --> merchants\n",
      "physician --> physician\n",
      "reverend --> reverend\n",
      "shipwright --> shipwright\n",
      "shoemaker --> shoemaker\n",
      "spinster --> spinster\n",
      "taylor --> taylor\n",
      "trader --> trader\n",
      "traders in company --> traders\n",
      "treasurer town foster --> treasurer\n",
      "treasurer scituate --> treasurer scituate\n",
      "treasurer st johns ledge no 1 tree accepted masons providence --> treasurer st johns ledge no 1 tree accepted\n",
      "treasurer baptist benevolent society warren --> treasurer baptist benevolent\n",
      "treasurer congregational benevolent society providence --> treasurer congregational benevolent\n",
      "treasurer society cincinnati state rhode island --> treasurer society cincinnati state\n",
      "treasurer state rhode island of newport --> treasurer state rhode island\n",
      "treasurer state rhode island of newport esquire --> treasurer state rhode island of\n",
      "treasurer charitable baptist society providence --> treasurer charitable baptist\n",
      "tresurer catholic society bristol --> tresurer catholic\n",
      "widow --> widow\n",
      "yeoman --> yeoman\n",
      "behalf proprietors tiverton --> behalf\n",
      "treasurer town providence --> treasurer\n"
     ]
    }
   ],
   "source": [
    "FindRemoveConst(OccsTotalsRI['occupation'].tolist())"
   ]
  },
  {
   "cell_type": "code",
   "execution_count": 1436,
   "id": "95935b74",
   "metadata": {
    "pycharm": {
     "name": "#%%\n"
    }
   },
   "outputs": [],
   "source": [
    "Remove = 1"
   ]
  },
  {
   "cell_type": "code",
   "execution_count": 1437,
   "id": "f4f1dd51",
   "metadata": {
    "pycharm": {
     "name": "#%%\n"
    }
   },
   "outputs": [
    {
     "name": "stdout",
     "output_type": "stream",
     "text": [
      "Occupations --> Potential Cleaned Occupations\n",
      "---------------------------------------------\n",
      "\n",
      "\n",
      "administratrix estate joshua brown esquire --> administratrix\n",
      "auctioneers --> auctioneers\n",
      "baker --> baker\n",
      "blacksmith --> blacksmith\n",
      "blockmaker --> blockmaker\n",
      "broker --> broker\n",
      "butcher --> butcher\n",
      "carpenter --> carpenter\n",
      "chaise maker --> chaise\n",
      "cooper --> cooper\n",
      "cordwainer --> cordwainer\n",
      "deacon --> deacon\n",
      "distiller --> distiller\n",
      "doctor --> doctor\n",
      "esquier --> esquier\n",
      "esquire --> esquire\n",
      "extors late jn jenckes esq --> extors\n",
      "extors late nicholas brown esq --> extors\n",
      "farmer --> farmer\n",
      "general treasurer state rhode island suceessors said --> general\n",
      "gentleman --> gentleman\n",
      "glazier --> glazier\n",
      "goldsmith --> goldsmith\n",
      "hatter --> hatter\n",
      "housewright --> housewright\n",
      "innholder --> innholder\n",
      "labourer --> labourer\n",
      "mariner --> mariner\n",
      "mason --> mason\n",
      "merchant --> merchant\n",
      "merchants --> merchants\n",
      "physician --> physician\n",
      "reverend --> reverend\n",
      "shipwright --> shipwright\n",
      "shoemaker --> shoemaker\n",
      "spinster --> spinster\n",
      "taylor --> taylor\n",
      "trader --> trader\n",
      "traders in --> traders\n",
      "treasurer town --> treasurer\n",
      "treasurer scituate --> treasurer\n",
      "treasurer st johns ledge no 1 tree accepted masons --> treasurer\n",
      "treasurer baptist benevolent society --> treasurer\n",
      "treasurer congregational benevolent society --> treasurer\n",
      "treasurer society cincinnati state rhode --> treasurer\n",
      "treasurer state rhode island of --> treasurer\n",
      "treasurer state rhode island of newport --> treasurer\n",
      "treasurer charitable baptist society --> treasurer\n",
      "tresurer catholic society --> tresurer\n",
      "widow --> widow\n",
      "yeoman --> yeoman\n",
      "behalf proprietors --> behalf\n",
      "treasurer town --> treasurer\n"
     ]
    }
   ],
   "source": [
    "PrintFutureOccupations(OccsTotalsRI['occupation'].tolist())"
   ]
  },
  {
   "cell_type": "code",
   "execution_count": 1438,
   "id": "94e4648a",
   "metadata": {
    "scrolled": true
   },
   "outputs": [
    {
     "name": "stdout",
     "output_type": "stream",
     "text": [
      "After Cleaning\n",
      "--------------\n",
      "\n",
      "\n",
      "        occupation   6p_total  # of people % of total people\n",
      "0   administratrix       0.00            1              None\n",
      "1      auctioneers     460.77            3              None\n",
      "2            baker     206.37            1              None\n",
      "3       blacksmith     540.68            3              None\n",
      "4       blockmaker       4.43            1              None\n",
      "5           broker     171.50            2              None\n",
      "6          butcher     235.70            1              None\n",
      "7        carpenter       0.00            1              None\n",
      "8     chaise maker      47.57            1              None\n",
      "9           cooper    1596.15            3              None\n",
      "10       shoemaker     417.48            1              None\n",
      "11          deacon      16.35            1              None\n",
      "12       distiller     466.25            3              None\n",
      "13          doctor     445.45            1              None\n",
      "14             esq      13.08            1              None\n",
      "15             esq   68388.42          129              None\n",
      "16          extors     124.50            1              None\n",
      "17          extors       0.00            1              None\n",
      "18          farmer    1487.53            2              None\n",
      "19       treasurer  199740.67            1              None\n",
      "20       gentleman    2396.70           10              None\n",
      "21         glazier     982.35            1              None\n",
      "22       goldsmith       0.00            1              None\n",
      "23          hatter     828.66            2              None\n",
      "24     housewright     266.67            1              None\n",
      "25      inn keeper    1430.29            8              None\n",
      "26        labourer      67.16            2              None\n",
      "27         mariner    4857.32           25              None\n",
      "28           mason    1152.50            3              None\n",
      "29        merchant   99957.63           97              None\n",
      "30       merchants       4.29            1              None\n",
      "31          doctor    2676.24            7              None\n",
      "32        reverend    2054.38            2              None\n",
      "33      shipwright      89.72            2              None\n",
      "34       shoemaker     114.88            1              None\n",
      "35        spinster     721.33            3              None\n",
      "36          taylor    1297.73            4              None\n",
      "37          trader     436.34            5              None\n",
      "38         traders      43.79            1              None\n",
      "39       treasurer     131.11            1              None\n",
      "40       treasurer     181.80            1              None\n",
      "41       treasurer     616.67            1              None\n",
      "42       treasurer     120.83            1              None\n",
      "43       treasurer     152.46            1              None\n",
      "44       treasurer    1432.30            1              None\n",
      "45       treasurer    2990.01            2              None\n",
      "46       treasurer   16830.22            1              None\n",
      "47       treasurer     329.16            1              None\n",
      "48        tresurer      48.72            1              None\n",
      "49           widow    6182.06           23              None\n",
      "50          farmer   13137.70           78              None\n",
      "51     proprietors      58.64            1              None\n",
      "52       treasurer      73.71            1              None\n",
      "\n",
      "\n",
      "After Removing Duplicates and Summing\n",
      "-------------------------------------\n",
      "\n",
      "\n",
      "        occupation   6p_total  # of people  % of total people\n",
      "0   administratrix       0.00            1                  0\n",
      "1      auctioneers     460.77            3                  0\n",
      "2            baker     206.37            1                  0\n",
      "3       blacksmith     540.68            3                  0\n",
      "4       blockmaker       4.43            1                  0\n",
      "5           broker     171.50            2                  0\n",
      "6          butcher     235.70            1                  0\n",
      "7        carpenter       0.00            1                  0\n",
      "8     chaise maker      47.57            1                  0\n",
      "9           cooper    1596.15            3                  0\n",
      "10          deacon      16.35            1                  0\n",
      "11       distiller     466.25            3                  0\n",
      "12          doctor    3121.69            8                  0\n",
      "13             esq   68401.50          130                  0\n",
      "14          extors     124.50            2                  0\n",
      "15          farmer   14625.23           80                  0\n",
      "16       gentleman    2396.70           10                  0\n",
      "17         glazier     982.35            1                  0\n",
      "18       goldsmith       0.00            1                  0\n",
      "19          hatter     828.66            2                  0\n",
      "20     housewright     266.67            1                  0\n",
      "21      inn keeper    1430.29            8                  0\n",
      "22        labourer      67.16            2                  0\n",
      "23         mariner    4857.32           25                  0\n",
      "24           mason    1152.50            3                  0\n",
      "25        merchant   99957.63           97                  0\n",
      "26       merchants       4.29            1                  0\n",
      "27     proprietors      58.64            1                  0\n",
      "28        reverend    2054.38            2                  0\n",
      "29      shipwright      89.72            2                  0\n",
      "30       shoemaker     532.36            2                  0\n",
      "31        spinster     721.33            3                  0\n",
      "32          taylor    1297.73            4                  0\n",
      "33          trader     436.34            5                  0\n",
      "34         traders      43.79            1                  0\n",
      "35       treasurer  222598.94           12                  0\n",
      "36        tresurer      48.72            1                  0\n",
      "37           widow    6182.06           23                  0\n",
      "\n",
      "\n",
      "Removed: merchants --> merchant\n",
      "Removed: traders --> trader\n",
      "Removed: tresurer --> treasurer\n",
      "\n",
      "\n",
      "After Using Fuzzy String Matching\n",
      "---------------------------------\n",
      "\n",
      "\n",
      "        occupation   6p_total  # of people  % of total people  average debt per person\n",
      "0        treasurer  222647.66           13           2.901786             17126.743077\n",
      "1         merchant   99961.92           98          21.875000              1020.019592\n",
      "2              esq   68401.50          130          29.017857               526.165385\n",
      "3           farmer   14625.23           80          17.857143               182.815375\n",
      "4            widow    6182.06           23           5.133929               268.785217\n",
      "5          mariner    4857.32           25           5.580357               194.292800\n",
      "6           doctor    3121.69            8           1.785714               390.211250\n",
      "7        gentleman    2396.70           10           2.232143               239.670000\n",
      "8         reverend    2054.38            2           0.446429              1027.190000\n",
      "9           cooper    1596.15            3           0.669643               532.050000\n",
      "10      inn keeper    1430.29            8           1.785714               178.786250\n",
      "11          taylor    1297.73            4           0.892857               324.432500\n",
      "12           mason    1152.50            3           0.669643               384.166667\n",
      "13         glazier     982.35            1           0.223214               982.350000\n",
      "14          hatter     828.66            2           0.446429               414.330000\n",
      "15        spinster     721.33            3           0.669643               240.443333\n",
      "16      blacksmith     540.68            3           0.669643               180.226667\n",
      "17       shoemaker     532.36            2           0.446429               266.180000\n",
      "18          trader     480.13            6           1.339286                80.021667\n",
      "19       distiller     466.25            3           0.669643               155.416667\n",
      "20     auctioneers     460.77            3           0.669643               153.590000\n",
      "21     housewright     266.67            1           0.223214               266.670000\n",
      "22         butcher     235.70            1           0.223214               235.700000\n",
      "23           baker     206.37            1           0.223214               206.370000\n",
      "24          broker     171.50            2           0.446429                85.750000\n",
      "25          extors     124.50            2           0.446429                62.250000\n",
      "26      shipwright      89.72            2           0.446429                44.860000\n",
      "27        labourer      67.16            2           0.446429                33.580000\n",
      "28     proprietors      58.64            1           0.223214                58.640000\n",
      "29    chaise maker      47.57            1           0.223214                47.570000\n",
      "30          deacon      16.35            1           0.223214                16.350000\n",
      "31      blockmaker       4.43            1           0.223214                 4.430000\n",
      "32       carpenter       0.00            1           0.223214                 0.000000\n",
      "33       goldsmith       0.00            1           0.223214                 0.000000\n",
      "34  administratrix       0.00            1           0.223214                 0.000000\n",
      "\n",
      "\n"
     ]
    }
   ],
   "source": [
    "OccsTotalsRI = MergeOccupations(OccsTotalsRI)"
   ]
  },
  {
   "cell_type": "code",
   "execution_count": 1439,
   "id": "180c2381",
   "metadata": {
    "pycharm": {
     "name": "#%%\n"
    }
   },
   "outputs": [],
   "source": [
    "TurnToExcel(OccsTotalsRI, State)"
   ]
  },
  {
   "cell_type": "markdown",
   "id": "1bc7964f",
   "metadata": {
    "pycharm": {
     "name": "#%% md\n"
    }
   },
   "source": [
    "# South Carolina"
   ]
  },
  {
   "cell_type": "code",
   "execution_count": 1440,
   "id": "12391c58",
   "metadata": {
    "pycharm": {
     "name": "#%%\n"
    }
   },
   "outputs": [
    {
     "name": "stdout",
     "output_type": "stream",
     "text": [
      "     6p_Dollar   6p_Cents  6p_def_Dollar  6p_def_Cents  3p_Dollar  3p_Cents  \\\n",
      "0          1.0   824.4133            1.0      412.2033        1.0    941.54   \n",
      "1          1.0  3987.9033            1.0     1993.9533        1.0   3625.67   \n",
      "2         17.0   150.0000           13.0       75.0000       14.0    129.10   \n",
      "3         17.0  1067.9200           13.0      533.9600       14.0   1165.92   \n",
      "4         17.0   195.0200           13.0       97.5100       14.0    212.82   \n",
      "..         ...        ...            ...           ...        ...       ...   \n",
      "286        NaN        NaN            NaN           NaN      651.0     53.00   \n",
      "287        NaN        NaN            NaN           NaN      140.0     77.00   \n",
      "288        NaN        NaN            NaN           NaN      167.0     77.00   \n",
      "289        NaN        NaN            NaN           NaN     3600.0       NaN   \n",
      "290      180.0    47.0000           90.0       24.0000      207.0     93.00   \n",
      "\n",
      "               town state       occupation             county name_type  \\\n",
      "0    South Carolina    SC              Esq                NaN     state   \n",
      "1    South Carolina    SC              Esq                NaN     state   \n",
      "2        Charleston    SC         Merchant  Charleston County      town   \n",
      "3        Charleston    SC         Merchant  Charleston County      town   \n",
      "4          Carolina    SC         Excuetor                NaN     other   \n",
      "..              ...   ...              ...                ...       ...   \n",
      "286      Charleston    SC         Merchant  Charleston County      town   \n",
      "287      Charleston    SC         Merchant  Charleston County      town   \n",
      "288      Charleston    SC  Attorney at Law  Charleston County      town   \n",
      "289      Charleston    SC         Merchant  Charleston County      town   \n",
      "290  South Carolina    SC         Marriner                NaN     state   \n",
      "\n",
      "       6p_total  \n",
      "0      9.244133  \n",
      "1     40.879033  \n",
      "2     18.500000  \n",
      "3     27.679200  \n",
      "4     18.950200  \n",
      "..          ...  \n",
      "286         NaN  \n",
      "287         NaN  \n",
      "288         NaN  \n",
      "289         NaN  \n",
      "290  180.470000  \n",
      "\n",
      "[291 rows x 12 columns]\n"
     ]
    }
   ],
   "source": [
    "State = 'SC'\n",
    "AllOccsSC = AllOccs[AllOccs['state'] == State] #Separate rows by state\n",
    "AllOccsSC = AllOccsSC.dropna(subset=['occupation']).reset_index(drop=True) #Drop any rows w/o an occupation listed. \n",
    "print(AllOccsSC)"
   ]
  },
  {
   "cell_type": "code",
   "execution_count": 1441,
   "id": "060524d2",
   "metadata": {
    "pycharm": {
     "name": "#%%\n"
    }
   },
   "outputs": [
    {
     "name": "stdout",
     "output_type": "stream",
     "text": [
      "                                      occupation      6p_total  # of people\n",
      "0            Administrator to John Harleston Jun     33.330000            1\n",
      "1                 Administrator to Joseph Warley   1671.440000            1\n",
      "2                       Assignee of James Simons    345.020000            1\n",
      "3                                Attorney at Law   3690.940000            9\n",
      "4                                      Autioneer     10.650000            1\n",
      "5                                   Blacks smith   1423.480000            1\n",
      "6                                     Blockmaker   5264.230000            2\n",
      "7                                     Bricklayer     37.350000            1\n",
      "8                                         Broker   2334.890000           11\n",
      "9                                  Cabinet Maker     74.460000            1\n",
      "10                                     Carpenter    449.020000            5\n",
      "11                          Charleston Merchants     26.670000            2\n",
      "12                           Clerk of the Senate   1425.820000            2\n",
      "13                     Comtroller of the Customs     53.740000            1\n",
      "14                                           Esq     50.123166            2\n",
      "15                                      Excuetor     18.950200            1\n",
      "16                       Executor Philip Hawkins    239.100000            1\n",
      "17                   Executor of Benjamin Tucker    834.860000            2\n",
      "18                      Executor of Jacob Smiser     69.020000            1\n",
      "19                       Executor of James Peart     12.110000            1\n",
      "20                    Executor of Samuel Bonneau     23.720000            1\n",
      "21                   Executor of Sarah Lampriere     68.260000            1\n",
      "22                     Executor of William Gibbs     66.660000            1\n",
      "23                    Executor of William Parker    685.770000            1\n",
      "24                     Executor to Richard Mason   1024.910000            1\n",
      "25                   Executrix of William Savage     76.700000            1\n",
      "26                                        Factor   2961.480000            3\n",
      "27                                     Gentleman    474.430000            2\n",
      "28                                  Hair Dresser      0.000000            1\n",
      "29                                       Mariner    183.534700            3\n",
      "30                                      Marriner    180.470000            1\n",
      "31                                      Merchant  71013.904200          150\n",
      "32       Merchant as Executor to Benjamin Garden    234.960000            1\n",
      "33                                     Merchants    163.312700            2\n",
      "34                   One of Judges of the Courts   2257.180000            1\n",
      "35                                     Penniston    914.240000            1\n",
      "36                                     Physician   7971.000000           10\n",
      "37                                       Planter  12438.706667           31\n",
      "38               Planter as Executor Ely Kershaw    883.330000            1\n",
      "39                                       Printer    132.720000            2\n",
      "40                                       Sheriff   2133.326667            2\n",
      "41                                    Shipwright    153.540000            1\n",
      "42                                    Shopkeeper    190.660000            4\n",
      "43                                South Carolina      0.000000            1\n",
      "44                                      Spinster    364.590000            1\n",
      "45                                        Tanner    377.490000            1\n",
      "46  Trustee for the Cincinnati of South Carolina   2439.020000            1\n",
      "47                                 Vendue Master    112.540000            1\n",
      "48                                         Widow   4910.700000           14\n",
      "49         as Guardian to Mary Deborah L. Gowdey     17.150000            1\n",
      "50   as treasurer of the State of south carolina    262.140000            2\n"
     ]
    }
   ],
   "source": [
    "OccsTotalsSC = AllOccsSC.groupby('occupation')['6p_total'].apply(sum).reset_index() #Combine duplicate occupations.\n",
    "OccsTotalsSC['# of people'] = OccsTotalsSC['occupation'].map(AllOccsSC['occupation'].value_counts(dropna=False)) #Map # of people that belong to each occupation.\n",
    "print(OccsTotalsSC.to_string())"
   ]
  },
  {
   "cell_type": "code",
   "execution_count": 1442,
   "id": "e5ca1a03",
   "metadata": {
    "pycharm": {
     "name": "#%%\n"
    }
   },
   "outputs": [
    {
     "name": "stdout",
     "output_type": "stream",
     "text": [
      "                           occupation      6p_total  # of people\n",
      "0    administrator john harleston jun     33.330000            1\n",
      "1         administrator joseph warley   1671.440000            1\n",
      "2               assignee james simons    345.020000            1\n",
      "3                        attorney law   3690.940000            9\n",
      "4                           autioneer     10.650000            1\n",
      "5                        blacks smith   1423.480000            1\n",
      "6                          blockmaker   5264.230000            2\n",
      "7                          bricklayer     37.350000            1\n",
      "8                              broker   2334.890000           11\n",
      "9                       cabinet maker     74.460000            1\n",
      "10                          carpenter    449.020000            5\n",
      "11               charleston merchants     26.670000            2\n",
      "12                       clerk senate   1425.820000            2\n",
      "13                 comtroller customs     53.740000            1\n",
      "14                                esq     50.123166            2\n",
      "15                           excuetor     18.950200            1\n",
      "16            executor philip hawkins    239.100000            1\n",
      "17           executor benjamin tucker    834.860000            2\n",
      "18              executor jacob smiser     69.020000            1\n",
      "19               executor james peart     12.110000            1\n",
      "20            executor samuel bonneau     23.720000            1\n",
      "21           executor sarah lampriere     68.260000            1\n",
      "22             executor william gibbs     66.660000            1\n",
      "23            executor william parker    685.770000            1\n",
      "24             executor richard mason   1024.910000            1\n",
      "25           executrix william savage     76.700000            1\n",
      "26                             factor   2961.480000            3\n",
      "27                          gentleman    474.430000            2\n",
      "28                       hair dresser      0.000000            1\n",
      "29                            mariner    183.534700            3\n",
      "30                           marriner    180.470000            1\n",
      "31                           merchant  71013.904200          150\n",
      "32  merchant executor benjamin garden    234.960000            1\n",
      "33                          merchants    163.312700            2\n",
      "34                  one judges courts   2257.180000            1\n",
      "35                          penniston    914.240000            1\n",
      "36                          physician   7971.000000           10\n",
      "37                            planter  12438.706667           31\n",
      "38       planter executor ely kershaw    883.330000            1\n",
      "39                            printer    132.720000            2\n",
      "40                            sheriff   2133.326667            2\n",
      "41                         shipwright    153.540000            1\n",
      "42                         shopkeeper    190.660000            4\n",
      "43                     south carolina      0.000000            1\n",
      "44                           spinster    364.590000            1\n",
      "45                             tanner    377.490000            1\n",
      "46  trustee cincinnati south carolina   2439.020000            1\n",
      "47                      vendue master    112.540000            1\n",
      "48                              widow   4910.700000           14\n",
      "49    guardian mary deborah l. gowdey     17.150000            1\n",
      "50     treasurer state south carolina    262.140000            2\n"
     ]
    }
   ],
   "source": [
    "OccsTotalsSC = RemoveStopwords(OccsTotalsSC) \n",
    "print(OccsTotalsSC.to_string())"
   ]
  },
  {
   "cell_type": "code",
   "execution_count": 1443,
   "id": "c4a6e0d7",
   "metadata": {
    "pycharm": {
     "name": "#%%\n"
    }
   },
   "outputs": [
    {
     "name": "stdout",
     "output_type": "stream",
     "text": [
      "Occupation Before --> Occupation After\n",
      "--------------------------------------\n",
      "\n",
      "\n",
      "administrator john harleston jun --> administrator john harleston\n",
      "administrator joseph warley --> administrator joseph\n",
      "assignee james simons --> assignee james\n",
      "attorney law --> attorney law\n",
      "autioneer --> autioneer\n",
      "blacks smith --> blacks smith\n",
      "blockmaker --> blockmaker\n",
      "bricklayer --> bricklayer\n",
      "broker --> broker\n",
      "cabinet maker --> cabinet maker\n",
      "carpenter --> carpenter\n",
      "charleston merchants --> charleston merchants\n",
      "clerk senate --> clerk senate\n",
      "comtroller customs --> comtroller customs\n",
      "esq --> esq\n",
      "excuetor --> excuetor\n",
      "executor philip hawkins --> executor philip\n",
      "executor benjamin tucker --> executor benjamin\n",
      "executor jacob smiser --> executor jacob\n",
      "executor james peart --> executor james\n",
      "executor samuel bonneau --> executor samuel\n",
      "executor sarah lampriere --> executor sarah\n",
      "executor william gibbs --> executor william\n",
      "executor william parker --> executor william\n",
      "executor richard mason --> executor richard\n",
      "executrix william savage --> executrix william\n",
      "factor --> factor\n",
      "gentleman --> gentleman\n",
      "hair dresser --> hair dresser\n",
      "mariner --> mariner\n",
      "marriner --> marriner\n",
      "merchant --> merchant\n",
      "merchant executor benjamin garden --> merchant executor benjamin\n",
      "merchants --> merchants\n",
      "one judges courts --> one judges\n",
      "penniston --> penniston\n",
      "physician --> physician\n",
      "planter --> planter\n",
      "planter executor ely kershaw --> planter executor ely\n",
      "printer --> printer\n",
      "sheriff --> sheriff\n",
      "shipwright --> shipwright\n",
      "shopkeeper --> shopkeeper\n",
      "south carolina --> south carolina\n",
      "spinster --> spinster\n",
      "tanner --> tanner\n",
      "trustee cincinnati south carolina --> trustee cincinnati south\n",
      "vendue master --> vendue master\n",
      "widow --> widow\n",
      "guardian mary deborah l. gowdey --> guardian mary deborah l.\n",
      "treasurer state south carolina --> treasurer state south\n"
     ]
    }
   ],
   "source": [
    "FindRemoveConst(OccsTotalsSC['occupation'].tolist())"
   ]
  },
  {
   "cell_type": "code",
   "execution_count": 1444,
   "id": "4a98219b",
   "metadata": {
    "pycharm": {
     "name": "#%%\n"
    }
   },
   "outputs": [],
   "source": [
    "Remove = 1"
   ]
  },
  {
   "cell_type": "code",
   "execution_count": 1445,
   "id": "7a263e72",
   "metadata": {
    "pycharm": {
     "name": "#%%\n"
    }
   },
   "outputs": [
    {
     "name": "stdout",
     "output_type": "stream",
     "text": [
      "Occupations --> Potential Cleaned Occupations\n",
      "---------------------------------------------\n",
      "\n",
      "\n",
      "administrator john harleston --> administrator\n",
      "administrator joseph --> administrator\n",
      "assignee james --> assignee\n",
      "attorney law --> attorney\n",
      "autioneer --> autioneer\n",
      "blacks smith --> blacks\n",
      "blockmaker --> blockmaker\n",
      "bricklayer --> bricklayer\n",
      "broker --> broker\n",
      "cabinet maker --> cabinet\n",
      "carpenter --> carpenter\n",
      "charleston merchants --> charleston\n",
      "clerk senate --> clerk\n",
      "comtroller customs --> comtroller\n",
      "esq --> esq\n",
      "excuetor --> excuetor\n",
      "executor philip --> executor\n",
      "executor benjamin --> executor\n",
      "executor jacob --> executor\n",
      "executor james --> executor\n",
      "executor samuel --> executor\n",
      "executor sarah --> executor\n",
      "executor william --> executor\n",
      "executor william --> executor\n",
      "executor richard --> executor\n",
      "executrix william --> executrix\n",
      "factor --> factor\n",
      "gentleman --> gentleman\n",
      "hair dresser --> hair\n",
      "mariner --> mariner\n",
      "marriner --> marriner\n",
      "merchant --> merchant\n",
      "merchant executor benjamin --> merchant\n",
      "merchants --> merchants\n",
      "one judges --> judges\n",
      "penniston --> penniston\n",
      "physician --> physician\n",
      "planter --> planter\n",
      "planter executor ely --> planter\n",
      "printer --> printer\n",
      "sheriff --> sheriff\n",
      "shipwright --> shipwright\n",
      "shopkeeper --> shopkeeper\n",
      "south carolina --> south\n",
      "spinster --> spinster\n",
      "tanner --> tanner\n",
      "trustee cincinnati south --> trustee\n",
      "vendue master --> vendue\n",
      "widow --> widow\n",
      "guardian mary deborah l. --> guardian\n",
      "treasurer state south --> treasurer\n"
     ]
    }
   ],
   "source": [
    "PrintFutureOccupations(OccsTotalsSC['occupation'].tolist())"
   ]
  },
  {
   "cell_type": "code",
   "execution_count": 1446,
   "id": "ace789ea",
   "metadata": {
    "pycharm": {
     "name": "#%%\n"
    },
    "scrolled": false
   },
   "outputs": [
    {
     "name": "stdout",
     "output_type": "stream",
     "text": [
      "After Cleaning\n",
      "--------------\n",
      "\n",
      "\n",
      "        occupation      6p_total  # of people % of total people\n",
      "0    administrator     33.330000            1              None\n",
      "1    administrator   1671.440000            1              None\n",
      "2         assignee    345.020000            1              None\n",
      "3         attorney   3690.940000            9              None\n",
      "4        autioneer     10.650000            1              None\n",
      "5       blacksmith   1423.480000            1              None\n",
      "6       blockmaker   5264.230000            2              None\n",
      "7       bricklayer     37.350000            1              None\n",
      "8           broker   2334.890000           11              None\n",
      "9    cabinet maker     74.460000            1              None\n",
      "10       carpenter    449.020000            5              None\n",
      "11       merchants     26.670000            2              None\n",
      "12           clerk   1425.820000            2              None\n",
      "13      comtroller     53.740000            1              None\n",
      "14             esq     50.123166            2              None\n",
      "15        excuetor     18.950200            1              None\n",
      "16        executor    239.100000            1              None\n",
      "17        executor    834.860000            2              None\n",
      "18        executor     69.020000            1              None\n",
      "19        executor     12.110000            1              None\n",
      "20        executor     23.720000            1              None\n",
      "21        executor     68.260000            1              None\n",
      "22        executor     66.660000            1              None\n",
      "23        executor    685.770000            1              None\n",
      "24        executor   1024.910000            1              None\n",
      "25        executor     76.700000            1              None\n",
      "26          trader   2961.480000            3              None\n",
      "27       gentleman    474.430000            2              None\n",
      "28    hair dresser      0.000000            1              None\n",
      "29         mariner    183.534700            3              None\n",
      "30        marriner    180.470000            1              None\n",
      "31        merchant  71013.904200          150              None\n",
      "32        merchant    234.960000            1              None\n",
      "33       merchants    163.312700            2              None\n",
      "34          judges   2257.180000            1              None\n",
      "35            None    914.240000            1              None\n",
      "36          doctor   7971.000000           10              None\n",
      "37         planter  12438.706667           31              None\n",
      "38         planter    883.330000            1              None\n",
      "39         printer    132.720000            2              None\n",
      "40         sheriff   2133.326667            2              None\n",
      "41      shipwright    153.540000            1              None\n",
      "42      shopkeeper    190.660000            4              None\n",
      "43  south carolina      0.000000            1              None\n",
      "44        spinster    364.590000            1              None\n",
      "45          tanner    377.490000            1              None\n",
      "46         trustee   2439.020000            1              None\n",
      "47      auctioneer    112.540000            1              None\n",
      "48           widow   4910.700000           14              None\n",
      "49        guardian     17.150000            1              None\n",
      "50       treasurer    262.140000            2              None\n",
      "\n",
      "\n",
      "After Removing Duplicates and Summing\n",
      "-------------------------------------\n",
      "\n",
      "\n",
      "        occupation      6p_total  # of people  % of total people\n",
      "0    administrator   1704.770000            2                  0\n",
      "1         assignee    345.020000            1                  0\n",
      "2         attorney   3690.940000            9                  0\n",
      "3       auctioneer    112.540000            1                  0\n",
      "4        autioneer     10.650000            1                  0\n",
      "5       blacksmith   1423.480000            1                  0\n",
      "6       blockmaker   5264.230000            2                  0\n",
      "7       bricklayer     37.350000            1                  0\n",
      "8           broker   2334.890000           11                  0\n",
      "9    cabinet maker     74.460000            1                  0\n",
      "10       carpenter    449.020000            5                  0\n",
      "11           clerk   1425.820000            2                  0\n",
      "12      comtroller     53.740000            1                  0\n",
      "13          doctor   7971.000000           10                  0\n",
      "14             esq     50.123166            2                  0\n",
      "15        excuetor     18.950200            1                  0\n",
      "16        executor   3101.110000           11                  0\n",
      "17       gentleman    474.430000            2                  0\n",
      "18        guardian     17.150000            1                  0\n",
      "19    hair dresser      0.000000            1                  0\n",
      "20          judges   2257.180000            1                  0\n",
      "21         mariner    183.534700            3                  0\n",
      "22        marriner    180.470000            1                  0\n",
      "23        merchant  71248.864200          151                  0\n",
      "24       merchants    189.982700            4                  0\n",
      "25         planter  13322.036667           32                  0\n",
      "26         printer    132.720000            2                  0\n",
      "27         sheriff   2133.326667            2                  0\n",
      "28      shipwright    153.540000            1                  0\n",
      "29      shopkeeper    190.660000            4                  0\n",
      "30  south carolina      0.000000            1                  0\n",
      "31        spinster    364.590000            1                  0\n",
      "32          tanner    377.490000            1                  0\n",
      "33          trader   2961.480000            3                  0\n",
      "34       treasurer    262.140000            2                  0\n",
      "35         trustee   2439.020000            1                  0\n",
      "36           widow   4910.700000           14                  0\n",
      "\n",
      "\n",
      "Removed: autioneer --> auctioneer\n",
      "Removed: executor --> excuetor\n",
      "Removed: marriner --> mariner\n",
      "Removed: merchants --> merchant\n",
      "\n",
      "\n",
      "After Using Fuzzy String Matching\n",
      "---------------------------------\n",
      "\n",
      "\n",
      "        occupation      6p_total  # of people  % of total people  average debt per person\n",
      "0         merchant  71438.846900          155          53.448276               460.895786\n",
      "1          planter  13322.036667           32          11.034483               416.313646\n",
      "2           doctor   7971.000000           10           3.448276               797.100000\n",
      "3       blockmaker   5264.230000            2           0.689655              2632.115000\n",
      "4            widow   4910.700000           14           4.827586               350.764286\n",
      "5         attorney   3690.940000            9           3.103448               410.104444\n",
      "6         excuetor   3120.060200           12           4.137931               260.005017\n",
      "7           trader   2961.480000            3           1.034483               987.160000\n",
      "8          trustee   2439.020000            1           0.344828              2439.020000\n",
      "9           broker   2334.890000           11           3.793103               212.262727\n",
      "10          judges   2257.180000            1           0.344828              2257.180000\n",
      "11         sheriff   2133.326667            2           0.689655              1066.663333\n",
      "12   administrator   1704.770000            2           0.689655               852.385000\n",
      "13           clerk   1425.820000            2           0.689655               712.910000\n",
      "14      blacksmith   1423.480000            1           0.344828              1423.480000\n",
      "15       gentleman    474.430000            2           0.689655               237.215000\n",
      "16       carpenter    449.020000            5           1.724138                89.804000\n",
      "17          tanner    377.490000            1           0.344828               377.490000\n",
      "18        spinster    364.590000            1           0.344828               364.590000\n",
      "19         mariner    364.004700            4           1.379310                91.001175\n",
      "20        assignee    345.020000            1           0.344828               345.020000\n",
      "21       treasurer    262.140000            2           0.689655               131.070000\n",
      "22      shopkeeper    190.660000            4           1.379310                47.665000\n",
      "23      shipwright    153.540000            1           0.344828               153.540000\n",
      "24         printer    132.720000            2           0.689655                66.360000\n",
      "25      auctioneer    123.190000            2           0.689655                61.595000\n",
      "26   cabinet maker     74.460000            1           0.344828                74.460000\n",
      "27      comtroller     53.740000            1           0.344828                53.740000\n",
      "28             esq     50.123166            2           0.689655                25.061583\n",
      "29      bricklayer     37.350000            1           0.344828                37.350000\n",
      "30        guardian     17.150000            1           0.344828                17.150000\n",
      "31  south carolina      0.000000            1           0.344828                 0.000000\n",
      "32    hair dresser      0.000000            1           0.344828                 0.000000\n",
      "\n",
      "\n"
     ]
    }
   ],
   "source": [
    "OccsTotalsSC = MergeOccupations(OccsTotalsSC)"
   ]
  },
  {
   "cell_type": "code",
   "execution_count": 1447,
   "id": "ece1d867",
   "metadata": {
    "pycharm": {
     "name": "#%%\n"
    }
   },
   "outputs": [],
   "source": [
    "TurnToExcel(OccsTotalsSC, State)"
   ]
  },
  {
   "cell_type": "markdown",
   "id": "1928853b",
   "metadata": {
    "pycharm": {
     "name": "#%% md\n"
    }
   },
   "source": [
    "# Virginia"
   ]
  },
  {
   "cell_type": "code",
   "execution_count": 1448,
   "id": "ee201ede",
   "metadata": {
    "pycharm": {
     "name": "#%%\n"
    }
   },
   "outputs": [
    {
     "name": "stdout",
     "output_type": "stream",
     "text": [
      "   6p_Dollar  6p_Cents  6p_def_Dollar  6p_def_Cents  3p_Dollar  3p_Cents  \\\n",
      "0       17.0  351.6233           13.0      175.8133       14.0    384.09   \n",
      "1       78.0   33.0000           39.0       17.0000       42.0     30.00   \n",
      "2       66.0   66.0000           33.0       33.0000       63.0     24.00   \n",
      "3        3.0   82.0000            1.0       92.0000        3.0     74.00   \n",
      "4       46.0    2.0000           23.0        1.0000       44.0     89.00   \n",
      "\n",
      "                        town state occupation             county name_type  \\\n",
      "0        Portsmouth Virginia    VA  Merchants  Rockingham County      town   \n",
      "1   Accomack County Virginia    VA  Gentleman    Accomack County    county   \n",
      "2  Virginia and Philadelphia    VA   Merchant                NaN     state   \n",
      "3  Virginia and Philadelphia    VA   Merchant                NaN     state   \n",
      "4              Williamsburgh    VA     Weaver  Greenbrier County      town   \n",
      "\n",
      "    6p_total  \n",
      "0  20.516233  \n",
      "1  78.330000  \n",
      "2  66.660000  \n",
      "3   3.820000  \n",
      "4  46.020000  \n"
     ]
    }
   ],
   "source": [
    "State = 'VA'\n",
    "AllOccsVA = AllOccs[AllOccs['state'] == State] #Separate rows by state\n",
    "AllOccsVA = AllOccsVA.dropna(subset=['occupation']).reset_index(drop=True) #Drop any rows w/o an occupation listed. \n",
    "print(AllOccsVA)"
   ]
  },
  {
   "cell_type": "code",
   "execution_count": 1449,
   "id": "d92945a4",
   "metadata": {
    "pycharm": {
     "name": "#%%\n"
    }
   },
   "outputs": [
    {
     "name": "stdout",
     "output_type": "stream",
     "text": [
      "  occupation   6p_total  # of people\n",
      "0  Gentleman  78.330000            1\n",
      "1   Merchant  70.480000            2\n",
      "2  Merchants  20.516233            1\n",
      "3     Weaver  46.020000            1\n"
     ]
    }
   ],
   "source": [
    "OccsTotalsVA = AllOccsVA.groupby('occupation')['6p_total'].apply(sum).reset_index() #Combine duplicate occupations.\n",
    "OccsTotalsVA['# of people'] = OccsTotalsVA['occupation'].map(AllOccsVA['occupation'].value_counts(dropna=False)) #Map # of people that belong to each occupation.\n",
    "print(OccsTotalsVA.to_string())"
   ]
  },
  {
   "cell_type": "code",
   "execution_count": 1450,
   "id": "c6dee713",
   "metadata": {
    "pycharm": {
     "name": "#%%\n"
    }
   },
   "outputs": [
    {
     "name": "stdout",
     "output_type": "stream",
     "text": [
      "  occupation   6p_total  # of people\n",
      "0  gentleman  78.330000            1\n",
      "1   merchant  70.480000            2\n",
      "2  merchants  20.516233            1\n",
      "3     weaver  46.020000            1\n"
     ]
    }
   ],
   "source": [
    "OccsTotalsVA = RemoveStopwords(OccsTotalsVA) \n",
    "print(OccsTotalsVA.to_string())"
   ]
  },
  {
   "cell_type": "code",
   "execution_count": 1451,
   "id": "bb2bc595",
   "metadata": {
    "pycharm": {
     "name": "#%%\n"
    }
   },
   "outputs": [
    {
     "name": "stdout",
     "output_type": "stream",
     "text": [
      "Occupation Before --> Occupation After\n",
      "--------------------------------------\n",
      "\n",
      "\n",
      "gentleman --> gentleman\n",
      "merchant --> merchant\n",
      "merchants --> merchants\n",
      "weaver --> weaver\n"
     ]
    }
   ],
   "source": [
    "FindRemoveConst(OccsTotalsVA['occupation'].tolist())"
   ]
  },
  {
   "cell_type": "code",
   "execution_count": 1452,
   "id": "b1c0ea0f",
   "metadata": {
    "pycharm": {
     "name": "#%%\n"
    }
   },
   "outputs": [
    {
     "name": "stdout",
     "output_type": "stream",
     "text": [
      "Occupations --> Potential Cleaned Occupations\n",
      "---------------------------------------------\n",
      "\n",
      "\n",
      "gentleman --> gentleman\n",
      "merchant --> merchant\n",
      "merchants --> merchants\n",
      "weaver --> weaver\n"
     ]
    }
   ],
   "source": [
    "PrintFutureOccupations(OccsTotalsVA['occupation'].tolist())"
   ]
  },
  {
   "cell_type": "code",
   "execution_count": 1453,
   "id": "88948b0f",
   "metadata": {
    "pycharm": {
     "name": "#%%\n"
    },
    "scrolled": false
   },
   "outputs": [
    {
     "name": "stdout",
     "output_type": "stream",
     "text": [
      "After Cleaning\n",
      "--------------\n",
      "\n",
      "\n",
      "  occupation   6p_total  # of people % of total people\n",
      "0  gentleman  78.330000            1              None\n",
      "1   merchant  70.480000            2              None\n",
      "2  merchants  20.516233            1              None\n",
      "3     weaver  46.020000            1              None\n",
      "\n",
      "\n",
      "After Removing Duplicates and Summing\n",
      "-------------------------------------\n",
      "\n",
      "\n",
      "  occupation   6p_total  # of people  % of total people\n",
      "0  gentleman  78.330000            1                  0\n",
      "1   merchant  70.480000            2                  0\n",
      "2  merchants  20.516233            1                  0\n",
      "3     weaver  46.020000            1                  0\n",
      "\n",
      "\n",
      "Removed: merchants --> merchant\n",
      "\n",
      "\n",
      "After Using Fuzzy String Matching\n",
      "---------------------------------\n",
      "\n",
      "\n",
      "  occupation   6p_total  # of people  % of total people  average debt per person\n",
      "0   merchant  90.996233            3               60.0                30.332078\n",
      "1  gentleman  78.330000            1               20.0                78.330000\n",
      "2     weaver  46.020000            1               20.0                46.020000\n",
      "\n",
      "\n"
     ]
    }
   ],
   "source": [
    "OccsTotalsVA = MergeOccupations(OccsTotalsVA)"
   ]
  },
  {
   "cell_type": "code",
   "execution_count": 1454,
   "id": "3bcce130",
   "metadata": {
    "pycharm": {
     "name": "#%%\n"
    }
   },
   "outputs": [],
   "source": [
    "TurnToExcel(OccsTotalsVA, State)"
   ]
  },
  {
   "cell_type": "markdown",
   "id": "ed091659",
   "metadata": {
    "pycharm": {
     "name": "#%% md\n"
    }
   },
   "source": [
    "# All States"
   ]
  },
  {
   "cell_type": "code",
   "execution_count": 1455,
   "id": "df586664",
   "metadata": {
    "pycharm": {
     "name": "#%%\n"
    },
    "scrolled": false
   },
   "outputs": [
    {
     "name": "stdout",
     "output_type": "stream",
     "text": [
      "            occupation       6p_total  # of people  % of total people  average debt per person\n",
      "0             merchant   63765.000000           63          13.043478              1012.142857\n",
      "1               farmer   36780.360000          170          35.196687               216.355059\n",
      "2            gentleman   16624.320000           32           6.625259               519.510000\n",
      "3            treasurer   15387.150000           14           2.898551              1099.082143\n",
      "4                  esq   13020.090000           13           2.691511              1001.545385\n",
      "5             attorney   11114.600000           20           4.140787               555.730000\n",
      "6               trader    9454.130000           46           9.523810               205.524565\n",
      "7                widow    6488.110000           28           5.797101               231.718214\n",
      "8             executor    4558.250000            7           1.449275               651.178571\n",
      "9        adminastrator    4081.060000           10           2.070393               408.106000\n",
      "10             mariner    3831.050000           13           2.691511               294.696154\n",
      "11              sadler    3524.740000            1           0.207039              3524.740000\n",
      "12       school master    2213.750000            2           0.414079              1106.875000\n",
      "13              doctor    1950.550000            4           0.828157               487.637500\n",
      "14            spinster    1731.580000            6           1.242236               288.596667\n",
      "15           shoemaker    1345.460000            6           1.242236               224.243333\n",
      "16            guardian    1245.620000            3           0.621118               415.206667\n",
      "17    school committee    1071.650000            7           1.449275               153.092857\n",
      "18           committee     863.410000            3           0.621118               287.803333\n",
      "19          blacksmith     724.710000            3           0.621118               241.570000\n",
      "20              tanner     713.060000            1           0.207039               713.060000\n",
      "21          post rider     676.910000            3           0.621118               225.636667\n",
      "22     leather dresser     666.670000            1           0.207039               666.670000\n",
      "23          shipwright     533.330000            1           0.207039               533.330000\n",
      "24           sherriffs     512.450000            3           0.621118               170.816667\n",
      "25         proprietors     276.900000            1           0.207039               276.900000\n",
      "26              hatter     242.990000            1           0.207039               242.990000\n",
      "27           carpenter     228.670000            2           0.414079               114.335000\n",
      "28             molster     211.380000            1           0.207039               211.380000\n",
      "29              taylor     209.810000            1           0.207039               209.810000\n",
      "30              broker     208.550000            3           0.621118                69.516667\n",
      "31             printer     204.780000            2           0.414079               102.390000\n",
      "32          inn keeper     201.530000            3           0.621118                67.176667\n",
      "33              cooper     124.760000            1           0.207039               124.760000\n",
      "34             cashier      85.300000            2           0.414079                42.650000\n",
      "35             soldier      78.480000            1           0.207039                78.480000\n",
      "36                wife      63.640000            1           0.207039                63.640000\n",
      "37            clothier      53.330000            1           0.207039                53.330000\n",
      "38              miller      18.990000            1           0.207039                18.990000\n",
      "39          apothecary       7.720000            1           0.207039                 7.720000\n",
      "40           goldsmith       6.820000            1           0.207039                 6.820000\n",
      "41            merchant   10577.739829            8          80.000000              1322.217479\n",
      "42           gentleman    4586.660000            1          10.000000              4586.660000\n",
      "43                 esq     102.089033            1          10.000000               102.089033\n",
      "44            merchant   78510.940000           47          82.456140              1670.445532\n",
      "45           shoemaker    1237.070000            2           3.508772               618.535000\n",
      "46            executor     303.770000            3           5.263158               101.256667\n",
      "47   frederick company     206.670000            1           1.754386               206.670000\n",
      "48          shopkeeper      33.330000            1           1.754386                33.330000\n",
      "49       administrator      22.500000            2           3.508772                11.250000\n",
      "50                 esq      17.665733            1           1.754386                17.665733\n",
      "51           treasurer   12283.440000            1           9.090909             12283.440000\n",
      "52             doctors    2008.370000            1           9.090909              2008.370000\n",
      "53            merchant     861.530000            7          63.636364               123.075714\n",
      "54              farmer      62.510000            1           9.090909                62.510000\n",
      "55           executors       0.000000            1           9.090909                 0.000000\n",
      "56                 esq   61539.890000           66          39.759036               932.422576\n",
      "57            merchant   29715.410000           26          15.662651              1142.900385\n",
      "58               widow    8790.450000           10           6.024096               879.045000\n",
      "59              doctor    7111.430000           18          10.843373               395.079444\n",
      "60              farmer    4175.980000           13           7.831325               321.229231\n",
      "61           gentleman    3603.060000            6           3.614458               600.510000\n",
      "62              trader    2807.270000            8           4.819277               350.908750\n",
      "63               baker    2159.040000            1           0.602410              2159.040000\n",
      "64           goldsmith     871.320000            1           0.602410               871.320000\n",
      "65            marniner     785.620000            2           1.204819               392.810000\n",
      "66           shoemaker     742.050000            2           1.204819               371.025000\n",
      "67               clerk     715.600000            7           4.216867               102.228571\n",
      "68           treasurer     149.620000            1           0.602410               149.620000\n",
      "69           carpenter     106.610000            2           1.204819                53.305000\n",
      "70            spinster      89.130000            1           0.602410                89.130000\n",
      "71          blacksmith      54.880000            1           0.602410                54.880000\n",
      "72             painter      48.610000            1           0.602410                48.610000\n",
      "73           gentleman    6063.150000            2          22.222222              3031.575000\n",
      "74            attorney    1325.680000            1          11.111111              1325.680000\n",
      "75            executor    1324.810000            1          11.111111              1324.810000\n",
      "76              doctor     384.340000            1          11.111111               384.340000\n",
      "77            merchant     235.010000            1          11.111111               235.010000\n",
      "78            assignee      16.670000            1          11.111111                16.670000\n",
      "79              farmer       3.340000            1          11.111111                 3.340000\n",
      "80                 esq       0.000000            1          11.111111                 0.000000\n",
      "81            merchant    7448.803133           24          80.000000               310.366797\n",
      "82              broker    1776.120000            1           3.333333              1776.120000\n",
      "83              doctor     933.330000            1           3.333333               933.330000\n",
      "84              farmer     674.310000            2           6.666667               337.155000\n",
      "85             mariner     377.490000            1           3.333333               377.490000\n",
      "86        schoolmaster     131.150000            1           3.333333               131.150000\n",
      "87            merchant  612574.610000          237          57.804878              2584.702996\n",
      "88              broker   74699.960000           63          15.365854              1185.713651\n",
      "89                 esq   41442.240000           21           5.121951              1973.440000\n",
      "90           executers    8787.960000            7           1.707317              1255.422857\n",
      "91            attorney    8696.680000            5           1.219512              1739.336000\n",
      "92             printer    7717.740000            6           1.463415              1286.290000\n",
      "93           gentleman    7540.660000            6           1.463415              1256.776667\n",
      "94         post master    7083.530000            1           0.243902              7083.530000\n",
      "95               widow    5576.530000            5           1.219512              1115.306000\n",
      "96            druggist    4922.430000            2           0.487805              2461.215000\n",
      "97            guardian    4539.960000            3           0.731707              1513.320000\n",
      "98             mariner    3906.571400            5           1.219512               781.314280\n",
      "99             furrier    3107.180000            1           0.243902              3107.180000\n",
      "100             farmer    2821.870000            7           1.707317               403.124286\n",
      "101         administer    2692.480000            3           0.731707               897.493333\n",
      "102             hatter    2291.760000            3           0.731707               763.920000\n",
      "103             taylor    2137.390000            4           0.975610               534.347500\n",
      "104              trust    2054.640000            2           0.487805              1027.320000\n",
      "105             estate    1979.600000            2           0.487805               989.800000\n",
      "106        silversmith    1917.650000            2           0.487805               958.825000\n",
      "107              clerk    1855.580000            4           0.975610               463.895000\n",
      "108             doctor    1769.010000            1           0.243902              1769.010000\n",
      "109         inn keeper    1668.680000            3           0.731707               556.226667\n",
      "110        ship wright    1241.760000            1           0.243902              1241.760000\n",
      "111             tanner    1192.250000            2           0.487805               596.125000\n",
      "112         individual     846.230000            1           0.243902               846.230000\n",
      "113        book binder     783.070000            1           0.243902               783.070000\n",
      "114          treasurer     714.810000            1           0.243902               714.810000\n",
      "115         blacksmith     692.250000            1           0.243902               692.250000\n",
      "116         shopkeeper     588.950000            3           0.731707               196.316667\n",
      "117           spinster     528.330000            1           0.243902               528.330000\n",
      "118           property     461.110000            1           0.243902               461.110000\n",
      "119        cordwainder     281.250000            1           0.243902               281.250000\n",
      "120           reverend     224.120000            1           0.243902               224.120000\n",
      "121          goldsmith     142.220000            1           0.243902               142.220000\n",
      "122        conveyancer     108.400000            1           0.243902               108.400000\n",
      "123            sheriff      56.210000            1           0.243902                56.210000\n",
      "124          treasurer  222647.660000           13           2.901786             17126.743077\n",
      "125           merchant   99961.920000           98          21.875000              1020.019592\n",
      "126                esq   68401.500000          130          29.017857               526.165385\n",
      "127             farmer   14625.230000           80          17.857143               182.815375\n",
      "128              widow    6182.060000           23           5.133929               268.785217\n",
      "129            mariner    4857.320000           25           5.580357               194.292800\n",
      "130             doctor    3121.690000            8           1.785714               390.211250\n",
      "131          gentleman    2396.700000           10           2.232143               239.670000\n",
      "132           reverend    2054.380000            2           0.446429              1027.190000\n",
      "133             cooper    1596.150000            3           0.669643               532.050000\n",
      "134         inn keeper    1430.290000            8           1.785714               178.786250\n",
      "135             taylor    1297.730000            4           0.892857               324.432500\n",
      "136              mason    1152.500000            3           0.669643               384.166667\n",
      "137            glazier     982.350000            1           0.223214               982.350000\n",
      "138             hatter     828.660000            2           0.446429               414.330000\n",
      "139           spinster     721.330000            3           0.669643               240.443333\n",
      "140         blacksmith     540.680000            3           0.669643               180.226667\n",
      "141          shoemaker     532.360000            2           0.446429               266.180000\n",
      "142             trader     480.130000            6           1.339286                80.021667\n",
      "143          distiller     466.250000            3           0.669643               155.416667\n",
      "144        auctioneers     460.770000            3           0.669643               153.590000\n",
      "145        housewright     266.670000            1           0.223214               266.670000\n",
      "146            butcher     235.700000            1           0.223214               235.700000\n",
      "147              baker     206.370000            1           0.223214               206.370000\n",
      "148             broker     171.500000            2           0.446429                85.750000\n",
      "149             extors     124.500000            2           0.446429                62.250000\n",
      "150         shipwright      89.720000            2           0.446429                44.860000\n",
      "151           labourer      67.160000            2           0.446429                33.580000\n",
      "152        proprietors      58.640000            1           0.223214                58.640000\n",
      "153       chaise maker      47.570000            1           0.223214                47.570000\n",
      "154             deacon      16.350000            1           0.223214                16.350000\n",
      "155         blockmaker       4.430000            1           0.223214                 4.430000\n",
      "156          carpenter       0.000000            1           0.223214                 0.000000\n",
      "157          goldsmith       0.000000            1           0.223214                 0.000000\n",
      "158     administratrix       0.000000            1           0.223214                 0.000000\n",
      "159           merchant   71438.846900          155          53.448276               460.895786\n",
      "160            planter   13322.036667           32          11.034483               416.313646\n",
      "161             doctor    7971.000000           10           3.448276               797.100000\n",
      "162         blockmaker    5264.230000            2           0.689655              2632.115000\n",
      "163              widow    4910.700000           14           4.827586               350.764286\n",
      "164           attorney    3690.940000            9           3.103448               410.104444\n",
      "165           excuetor    3120.060200           12           4.137931               260.005017\n",
      "166             trader    2961.480000            3           1.034483               987.160000\n",
      "167            trustee    2439.020000            1           0.344828              2439.020000\n",
      "168             broker    2334.890000           11           3.793103               212.262727\n",
      "169             judges    2257.180000            1           0.344828              2257.180000\n",
      "170            sheriff    2133.326667            2           0.689655              1066.663333\n",
      "171      administrator    1704.770000            2           0.689655               852.385000\n",
      "172              clerk    1425.820000            2           0.689655               712.910000\n",
      "173         blacksmith    1423.480000            1           0.344828              1423.480000\n",
      "174          gentleman     474.430000            2           0.689655               237.215000\n",
      "175          carpenter     449.020000            5           1.724138                89.804000\n",
      "176             tanner     377.490000            1           0.344828               377.490000\n",
      "177           spinster     364.590000            1           0.344828               364.590000\n",
      "178            mariner     364.004700            4           1.379310                91.001175\n",
      "179           assignee     345.020000            1           0.344828               345.020000\n",
      "180          treasurer     262.140000            2           0.689655               131.070000\n",
      "181         shopkeeper     190.660000            4           1.379310                47.665000\n",
      "182         shipwright     153.540000            1           0.344828               153.540000\n",
      "183            printer     132.720000            2           0.689655                66.360000\n",
      "184         auctioneer     123.190000            2           0.689655                61.595000\n",
      "185      cabinet maker      74.460000            1           0.344828                74.460000\n",
      "186         comtroller      53.740000            1           0.344828                53.740000\n",
      "187                esq      50.123166            2           0.689655                25.061583\n",
      "188         bricklayer      37.350000            1           0.344828                37.350000\n",
      "189           guardian      17.150000            1           0.344828                17.150000\n",
      "190     south carolina       0.000000            1           0.344828                 0.000000\n",
      "191       hair dresser       0.000000            1           0.344828                 0.000000\n",
      "192           merchant      90.996233            3          60.000000                30.332078\n",
      "193          gentleman      78.330000            1          20.000000                78.330000\n",
      "194             weaver      46.020000            1          20.000000                46.020000\n"
     ]
    }
   ],
   "source": [
    "#Append each states occupation + totals dataframes to the end of each other. \n",
    "OccsTotalsAll = pd.concat([OccsTotalsCT, OccsTotalsGA, OccsTotalsMD, OccsTotalsNC, OccsTotalsNH, OccsTotalsNJ,\n",
    "                          OccsTotalsNY, OccsTotalsPA, OccsTotalsRI, OccsTotalsSC, OccsTotalsVA]).reset_index(drop=True)\n",
    "print(OccsTotalsAll.to_string())"
   ]
  },
  {
   "cell_type": "code",
   "execution_count": 1456,
   "id": "965dda18",
   "metadata": {
    "pycharm": {
     "name": "#%%\n"
    },
    "scrolled": false
   },
   "outputs": [
    {
     "name": "stdout",
     "output_type": "stream",
     "text": [
      "           occupation       6p_total  # of people\n",
      "0       adminastrator    4081.060000         10.0\n",
      "1          administer    2692.480000          3.0\n",
      "2       administrator    1727.270000          4.0\n",
      "3      administratrix       0.000000          1.0\n",
      "4          apothecary       7.720000          1.0\n",
      "5            assignee     361.690000          2.0\n",
      "6            attorney   24827.900000         35.0\n",
      "7          auctioneer     123.190000          2.0\n",
      "8         auctioneers     460.770000          3.0\n",
      "9               baker    2365.410000          2.0\n",
      "10         blacksmith    3436.000000          9.0\n",
      "11         blockmaker    5268.660000          3.0\n",
      "12        book binder     783.070000          1.0\n",
      "13         bricklayer      37.350000          1.0\n",
      "14             broker   79191.020000         80.0\n",
      "15            butcher     235.700000          1.0\n",
      "16      cabinet maker      74.460000          1.0\n",
      "17          carpenter     784.300000         10.0\n",
      "18            cashier      85.300000          2.0\n",
      "19       chaise maker      47.570000          1.0\n",
      "20              clerk    3997.000000         13.0\n",
      "21           clothier      53.330000          1.0\n",
      "22          committee     863.410000          3.0\n",
      "23         comtroller      53.740000          1.0\n",
      "24        conveyancer     108.400000          1.0\n",
      "25             cooper    1720.910000          4.0\n",
      "26        cordwainder     281.250000          1.0\n",
      "27             deacon      16.350000          1.0\n",
      "28          distiller     466.250000          3.0\n",
      "29             doctor   23241.350000         43.0\n",
      "30            doctors    2008.370000          1.0\n",
      "31           druggist    4922.430000          2.0\n",
      "32                esq  184573.597932        235.0\n",
      "33             estate    1979.600000          2.0\n",
      "34           excuetor    3120.060200         12.0\n",
      "35          executers    8787.960000          7.0\n",
      "36           executor    6186.830000         11.0\n",
      "37          executors       0.000000          1.0\n",
      "38             extors     124.500000          2.0\n",
      "39             farmer   59143.600000        274.0\n",
      "40  frederick company     206.670000          1.0\n",
      "41            furrier    3107.180000          1.0\n",
      "42          gentleman   41367.310000         60.0\n",
      "43            glazier     982.350000          1.0\n",
      "44          goldsmith    1020.360000          4.0\n",
      "45           guardian    5802.730000          7.0\n",
      "46       hair dresser       0.000000          1.0\n",
      "47             hatter    3363.410000          6.0\n",
      "48        housewright     266.670000          1.0\n",
      "49         individual     846.230000          1.0\n",
      "50         inn keeper    3300.500000         14.0\n",
      "51             judges    2257.180000          1.0\n",
      "52           labourer      67.160000          2.0\n",
      "53    leather dresser     666.670000          1.0\n",
      "54            mariner   13336.436100         48.0\n",
      "55           marniner     785.620000          2.0\n",
      "56              mason    1152.500000          3.0\n",
      "57           merchant  975180.806095        669.0\n",
      "58             miller      18.990000          1.0\n",
      "59            molster     211.380000          1.0\n",
      "60            painter      48.610000          1.0\n",
      "61            planter   13322.036667         32.0\n",
      "62        post master    7083.530000          1.0\n",
      "63         post rider     676.910000          3.0\n",
      "64            printer    8055.240000         10.0\n",
      "65           property     461.110000          1.0\n",
      "66        proprietors     335.540000          2.0\n",
      "67           reverend    2278.500000          3.0\n",
      "68             sadler    3524.740000          1.0\n",
      "69   school committee    1071.650000          7.0\n",
      "70      school master    2213.750000          2.0\n",
      "71       schoolmaster     131.150000          1.0\n",
      "72            sheriff    2189.536667          3.0\n",
      "73          sherriffs     512.450000          3.0\n",
      "74        ship wright    1241.760000          1.0\n",
      "75         shipwright     776.590000          4.0\n",
      "76          shoemaker    3856.940000         12.0\n",
      "77         shopkeeper     812.940000          8.0\n",
      "78        silversmith    1917.650000          2.0\n",
      "79            soldier      78.480000          1.0\n",
      "80     south carolina       0.000000          1.0\n",
      "81           spinster    3434.960000         12.0\n",
      "82             tanner    2282.800000          4.0\n",
      "83             taylor    3644.930000          9.0\n",
      "84             trader   15703.010000         63.0\n",
      "85          treasurer  251444.820000         32.0\n",
      "86              trust    2054.640000          2.0\n",
      "87            trustee    2439.020000          1.0\n",
      "88             weaver      46.020000          1.0\n",
      "89              widow   31947.850000         80.0\n",
      "90               wife      63.640000          1.0\n"
     ]
    }
   ],
   "source": [
    "OccsTotalsAll = OccsTotalsAll.groupby('occupation')[['6p_total', '# of people']].apply(sum).reset_index() #Combine duplicate occupations.\n",
    "print(OccsTotalsAll.to_string())"
   ]
  },
  {
   "cell_type": "code",
   "execution_count": 1457,
   "id": "364b505a",
   "metadata": {
    "pycharm": {
     "name": "#%%\n"
    },
    "scrolled": false
   },
   "outputs": [
    {
     "name": "stdout",
     "output_type": "stream",
     "text": [
      "Occupations --> Potential Cleaned Occupations\n",
      "---------------------------------------------\n",
      "\n",
      "\n",
      "adminastrator --> adminastrator\n",
      "administer --> administer\n",
      "administrator --> administrator\n",
      "administratrix --> administratrix\n",
      "apothecary --> apothecary\n",
      "assignee --> assignee\n",
      "attorney --> attorney\n",
      "auctioneer --> auctioneer\n",
      "auctioneers --> auctioneers\n",
      "baker --> baker\n",
      "blacksmith --> blacksmith\n",
      "blockmaker --> blockmaker\n",
      "book binder --> book\n",
      "bricklayer --> bricklayer\n",
      "broker --> broker\n",
      "butcher --> butcher\n",
      "cabinet maker --> cabinet\n",
      "carpenter --> carpenter\n",
      "cashier --> cashier\n",
      "chaise maker --> chaise\n",
      "clerk --> clerk\n",
      "clothier --> clothier\n",
      "committee --> committee\n",
      "comtroller --> comtroller\n",
      "conveyancer --> conveyancer\n",
      "cooper --> cooper\n",
      "cordwainder --> cordwainder\n",
      "deacon --> deacon\n",
      "distiller --> distiller\n",
      "doctor --> doctor\n",
      "doctors --> doctors\n",
      "druggist --> druggist\n",
      "esq --> esq\n",
      "estate --> estate\n",
      "excuetor --> excuetor\n",
      "executers --> executers\n",
      "executor --> executor\n",
      "executors --> executors\n",
      "extors --> extors\n",
      "farmer --> farmer\n",
      "frederick company --> frederick\n",
      "furrier --> furrier\n",
      "gentleman --> gentleman\n",
      "glazier --> glazier\n",
      "goldsmith --> goldsmith\n",
      "guardian --> guardian\n",
      "hair dresser --> hair\n",
      "hatter --> hatter\n",
      "housewright --> housewright\n",
      "individual --> individual\n",
      "inn keeper --> inn\n",
      "judges --> judges\n",
      "labourer --> labourer\n",
      "leather dresser --> leather\n",
      "mariner --> mariner\n",
      "marniner --> marniner\n",
      "mason --> mason\n",
      "merchant --> merchant\n",
      "miller --> miller\n",
      "molster --> molster\n",
      "painter --> painter\n",
      "planter --> planter\n",
      "post master --> post\n",
      "post rider --> post\n",
      "printer --> printer\n",
      "property --> property\n",
      "proprietors --> proprietors\n",
      "reverend --> reverend\n",
      "sadler --> sadler\n",
      "school committee --> school\n",
      "school master --> school\n",
      "schoolmaster --> schoolmaster\n",
      "sheriff --> sheriff\n",
      "sherriffs --> sherriffs\n",
      "ship wright --> ship\n",
      "shipwright --> shipwright\n",
      "shoemaker --> shoemaker\n",
      "shopkeeper --> shopkeeper\n",
      "silversmith --> silversmith\n",
      "soldier --> soldier\n",
      "south carolina --> south\n",
      "spinster --> spinster\n",
      "tanner --> tanner\n",
      "taylor --> taylor\n",
      "trader --> trader\n",
      "treasurer --> treasurer\n",
      "trust --> trust\n",
      "trustee --> trustee\n",
      "weaver --> weaver\n",
      "widow --> widow\n",
      "wife --> wife\n"
     ]
    }
   ],
   "source": [
    "PrintFutureOccupations(OccsTotalsAll['occupation'].tolist())"
   ]
  },
  {
   "cell_type": "code",
   "execution_count": 1458,
   "id": "6152b9d2",
   "metadata": {
    "pycharm": {
     "name": "#%%\n"
    }
   },
   "outputs": [],
   "source": [
    "#Exclude these wors from any fuzzy string matching. Causes errors. \n",
    "NoMerge.append('planter')\n",
    "NoMerge.append('printer')"
   ]
  },
  {
   "cell_type": "code",
   "execution_count": 1459,
   "id": "4204e8c6",
   "metadata": {
    "pycharm": {
     "name": "#%%\n"
    },
    "scrolled": false
   },
   "outputs": [
    {
     "name": "stdout",
     "output_type": "stream",
     "text": [
      "After Cleaning\n",
      "--------------\n",
      "\n",
      "\n",
      "           occupation       6p_total  # of people % of total people\n",
      "0       adminastrator    4081.060000         10.0              None\n",
      "1       adminastrator    2692.480000          3.0              None\n",
      "2       administrator    1727.270000          4.0              None\n",
      "3      administratrix       0.000000          1.0              None\n",
      "4          apothecary       7.720000          1.0              None\n",
      "5            assignee     361.690000          2.0              None\n",
      "6            attorney   24827.900000         35.0              None\n",
      "7          auctioneer     123.190000          2.0              None\n",
      "8         auctioneers     460.770000          3.0              None\n",
      "9               baker    2365.410000          2.0              None\n",
      "10         blacksmith    3436.000000          9.0              None\n",
      "11         blockmaker    5268.660000          3.0              None\n",
      "12        book binder     783.070000          1.0              None\n",
      "13         bricklayer      37.350000          1.0              None\n",
      "14             broker   79191.020000         80.0              None\n",
      "15            butcher     235.700000          1.0              None\n",
      "16      cabinet maker      74.460000          1.0              None\n",
      "17          carpenter     784.300000         10.0              None\n",
      "18            cashier      85.300000          2.0              None\n",
      "19       chaise maker      47.570000          1.0              None\n",
      "20              clerk    3997.000000         13.0              None\n",
      "21           clothier      53.330000          1.0              None\n",
      "22          committee     863.410000          3.0              None\n",
      "23         comtroller      53.740000          1.0              None\n",
      "24        conveyancer     108.400000          1.0              None\n",
      "25             cooper    1720.910000          4.0              None\n",
      "26        cordwainder     281.250000          1.0              None\n",
      "27             deacon      16.350000          1.0              None\n",
      "28          distiller     466.250000          3.0              None\n",
      "29             doctor   23241.350000         43.0              None\n",
      "30            doctors    2008.370000          1.0              None\n",
      "31           druggist    4922.430000          2.0              None\n",
      "32                esq  184573.597932        235.0              None\n",
      "33             estate    1979.600000          2.0              None\n",
      "34           excuetor    3120.060200         12.0              None\n",
      "35           excuetor    8787.960000          7.0              None\n",
      "36           executor    6186.830000         11.0              None\n",
      "37          executors       0.000000          1.0              None\n",
      "38           excuetor     124.500000          2.0              None\n",
      "39             farmer   59143.600000        274.0              None\n",
      "40  frederick company     206.670000          1.0              None\n",
      "41            furrier    3107.180000          1.0              None\n",
      "42          gentleman   41367.310000         60.0              None\n",
      "43            glazier     982.350000          1.0              None\n",
      "44          goldsmith    1020.360000          4.0              None\n",
      "45           guardian    5802.730000          7.0              None\n",
      "46       hair dresser       0.000000          1.0              None\n",
      "47             hatter    3363.410000          6.0              None\n",
      "48        housewright     266.670000          1.0              None\n",
      "49         individual     846.230000          1.0              None\n",
      "50         inn keeper    3300.500000         14.0              None\n",
      "51             judges    2257.180000          1.0              None\n",
      "52           labourer      67.160000          2.0              None\n",
      "53    leather dresser     666.670000          1.0              None\n",
      "54            mariner   13336.436100         48.0              None\n",
      "55           marniner     785.620000          2.0              None\n",
      "56              mason    1152.500000          3.0              None\n",
      "57           merchant  975180.806095        669.0              None\n",
      "58             miller      18.990000          1.0              None\n",
      "59            molster     211.380000          1.0              None\n",
      "60            painter      48.610000          1.0              None\n",
      "61            planter   13322.036667         32.0              None\n",
      "62        post master    7083.530000          1.0              None\n",
      "63         post rider     676.910000          3.0              None\n",
      "64            printer    8055.240000         10.0              None\n",
      "65           property     461.110000          1.0              None\n",
      "66        proprietors     335.540000          2.0              None\n",
      "67           reverend    2278.500000          3.0              None\n",
      "68             sadler    3524.740000          1.0              None\n",
      "69   school committee    1071.650000          7.0              None\n",
      "70      school master    2213.750000          2.0              None\n",
      "71       schoolmaster     131.150000          1.0              None\n",
      "72            sheriff    2189.536667          3.0              None\n",
      "73          sherriffs     512.450000          3.0              None\n",
      "74        ship wright    1241.760000          1.0              None\n",
      "75         shipwright     776.590000          4.0              None\n",
      "76          shoemaker    3856.940000         12.0              None\n",
      "77         shopkeeper     812.940000          8.0              None\n",
      "78        silversmith    1917.650000          2.0              None\n",
      "79            soldier      78.480000          1.0              None\n",
      "80     south carolina       0.000000          1.0              None\n",
      "81           spinster    3434.960000         12.0              None\n",
      "82             tanner    2282.800000          4.0              None\n",
      "83             taylor    3644.930000          9.0              None\n",
      "84             trader   15703.010000         63.0              None\n",
      "85          treasurer  251444.820000         32.0              None\n",
      "86           assignee    2054.640000          2.0              None\n",
      "87            trustee    2439.020000          1.0              None\n",
      "88             weaver      46.020000          1.0              None\n",
      "89              widow   31947.850000         80.0              None\n",
      "90               wife      63.640000          1.0              None\n",
      "\n",
      "\n",
      "After Removing Duplicates and Summing\n",
      "-------------------------------------\n",
      "\n",
      "\n",
      "           occupation       6p_total  # of people  % of total people\n",
      "0       adminastrator    6773.540000           13                  0\n",
      "1       administrator    1727.270000            4                  0\n",
      "2      administratrix       0.000000            1                  0\n",
      "3          apothecary       7.720000            1                  0\n",
      "4            assignee    2416.330000            4                  0\n",
      "5            attorney   24827.900000           35                  0\n",
      "6          auctioneer     123.190000            2                  0\n",
      "7         auctioneers     460.770000            3                  0\n",
      "8               baker    2365.410000            2                  0\n",
      "9          blacksmith    3436.000000            9                  0\n",
      "10         blockmaker    5268.660000            3                  0\n",
      "11        book binder     783.070000            1                  0\n",
      "12         bricklayer      37.350000            1                  0\n",
      "13             broker   79191.020000           80                  0\n",
      "14            butcher     235.700000            1                  0\n",
      "15      cabinet maker      74.460000            1                  0\n",
      "16          carpenter     784.300000           10                  0\n",
      "17            cashier      85.300000            2                  0\n",
      "18       chaise maker      47.570000            1                  0\n",
      "19              clerk    3997.000000           13                  0\n",
      "20           clothier      53.330000            1                  0\n",
      "21          committee     863.410000            3                  0\n",
      "22         comtroller      53.740000            1                  0\n",
      "23        conveyancer     108.400000            1                  0\n",
      "24             cooper    1720.910000            4                  0\n",
      "25        cordwainder     281.250000            1                  0\n",
      "26             deacon      16.350000            1                  0\n",
      "27          distiller     466.250000            3                  0\n",
      "28             doctor   23241.350000           43                  0\n",
      "29            doctors    2008.370000            1                  0\n",
      "30           druggist    4922.430000            2                  0\n",
      "31                esq  184573.597932          235                  0\n",
      "32             estate    1979.600000            2                  0\n",
      "33           excuetor   12032.520200           21                  0\n",
      "34           executor    6186.830000           11                  0\n",
      "35          executors       0.000000            1                  0\n",
      "36             farmer   59143.600000          274                  0\n",
      "37  frederick company     206.670000            1                  0\n",
      "38            furrier    3107.180000            1                  0\n",
      "39          gentleman   41367.310000           60                  0\n",
      "40            glazier     982.350000            1                  0\n",
      "41          goldsmith    1020.360000            4                  0\n",
      "42           guardian    5802.730000            7                  0\n",
      "43       hair dresser       0.000000            1                  0\n",
      "44             hatter    3363.410000            6                  0\n",
      "45        housewright     266.670000            1                  0\n",
      "46         individual     846.230000            1                  0\n",
      "47         inn keeper    3300.500000           14                  0\n",
      "48             judges    2257.180000            1                  0\n",
      "49           labourer      67.160000            2                  0\n",
      "50    leather dresser     666.670000            1                  0\n",
      "51            mariner   13336.436100           48                  0\n",
      "52           marniner     785.620000            2                  0\n",
      "53              mason    1152.500000            3                  0\n",
      "54           merchant  975180.806095          669                  0\n",
      "55             miller      18.990000            1                  0\n",
      "56            molster     211.380000            1                  0\n",
      "57            painter      48.610000            1                  0\n",
      "58            planter   13322.036667           32                  0\n",
      "59        post master    7083.530000            1                  0\n",
      "60         post rider     676.910000            3                  0\n",
      "61            printer    8055.240000           10                  0\n",
      "62           property     461.110000            1                  0\n",
      "63        proprietors     335.540000            2                  0\n",
      "64           reverend    2278.500000            3                  0\n",
      "65             sadler    3524.740000            1                  0\n",
      "66   school committee    1071.650000            7                  0\n",
      "67      school master    2213.750000            2                  0\n",
      "68       schoolmaster     131.150000            1                  0\n",
      "69            sheriff    2189.536667            3                  0\n",
      "70          sherriffs     512.450000            3                  0\n",
      "71        ship wright    1241.760000            1                  0\n",
      "72         shipwright     776.590000            4                  0\n",
      "73          shoemaker    3856.940000           12                  0\n",
      "74         shopkeeper     812.940000            8                  0\n",
      "75        silversmith    1917.650000            2                  0\n",
      "76            soldier      78.480000            1                  0\n",
      "77     south carolina       0.000000            1                  0\n",
      "78           spinster    3434.960000           12                  0\n",
      "79             tanner    2282.800000            4                  0\n",
      "80             taylor    3644.930000            9                  0\n",
      "81             trader   15703.010000           63                  0\n",
      "82          treasurer  251444.820000           32                  0\n",
      "83            trustee    2439.020000            1                  0\n",
      "84             weaver      46.020000            1                  0\n",
      "85              widow   31947.850000           80                  0\n",
      "86               wife      63.640000            1                  0\n",
      "\n",
      "\n",
      "Removed: administrator --> adminastrator\n",
      "Removed: administratrix --> adminastrator\n",
      "Removed: auctioneers --> auctioneer\n",
      "Removed: doctors --> doctor\n",
      "Removed: executor --> excuetor\n",
      "Removed: executors --> excuetor\n",
      "Removed: marniner --> mariner\n",
      "Removed: schoolmaster --> school master\n",
      "Removed: sherriffs --> sheriff\n",
      "Removed: shipwright --> ship wright\n",
      "\n",
      "\n",
      "After Using Fuzzy String Matching\n",
      "---------------------------------\n",
      "\n",
      "\n",
      "           occupation       6p_total  # of people  % of total people  average debt per person\n",
      "0            merchant  975180.806095          669          34.861907              1457.669366\n",
      "1           treasurer  251444.820000           32           1.667535              7857.650625\n",
      "2                 esq  184573.597932          235          12.245961               785.419566\n",
      "3              broker   79191.020000           80           4.168838               989.887750\n",
      "4              farmer   59143.600000          274          14.278270               215.852555\n",
      "5           gentleman   41367.310000           60           3.126628               689.455167\n",
      "6               widow   31947.850000           80           4.168838               399.348125\n",
      "7              doctor   25249.720000           44           2.292861               573.857273\n",
      "8            attorney   24827.900000           35           1.823867               709.368571\n",
      "9            excuetor   18219.350200           33           1.719646               552.101521\n",
      "10             trader   15703.010000           63           3.282960               249.254127\n",
      "11            mariner   14122.056100           50           2.605524               282.441122\n",
      "12            planter   13322.036667           32           1.667535               416.313646\n",
      "13      adminastrator    8500.810000           18           0.937989               472.267222\n",
      "14            printer    8055.240000           10           0.521105               805.524000\n",
      "15        post master    7083.530000            1           0.052110              7083.530000\n",
      "16           guardian    5802.730000            7           0.364773               828.961429\n",
      "17         blockmaker    5268.660000            3           0.156331              1756.220000\n",
      "18           druggist    4922.430000            2           0.104221              2461.215000\n",
      "19              clerk    3997.000000           13           0.677436               307.461538\n",
      "20          shoemaker    3856.940000           12           0.625326               321.411667\n",
      "21             taylor    3644.930000            9           0.468994               404.992222\n",
      "22             sadler    3524.740000            1           0.052110              3524.740000\n",
      "23         blacksmith    3436.000000            9           0.468994               381.777778\n",
      "24           spinster    3434.960000           12           0.625326               286.246667\n",
      "25             hatter    3363.410000            6           0.312663               560.568333\n",
      "26         inn keeper    3300.500000           14           0.729547               235.750000\n",
      "27            furrier    3107.180000            1           0.052110              3107.180000\n",
      "28            sheriff    2701.986667            6           0.312663               450.331111\n",
      "29            trustee    2439.020000            1           0.052110              2439.020000\n",
      "30           assignee    2416.330000            4           0.208442               604.082500\n",
      "31              baker    2365.410000            2           0.104221              1182.705000\n",
      "32      school master    2344.900000            3           0.156331               781.633333\n",
      "33             tanner    2282.800000            4           0.208442               570.700000\n",
      "34           reverend    2278.500000            3           0.156331               759.500000\n",
      "35             judges    2257.180000            1           0.052110              2257.180000\n",
      "36        ship wright    2018.350000            5           0.260552               403.670000\n",
      "37             estate    1979.600000            2           0.104221               989.800000\n",
      "38        silversmith    1917.650000            2           0.104221               958.825000\n",
      "39             cooper    1720.910000            4           0.208442               430.227500\n",
      "40              mason    1152.500000            3           0.156331               384.166667\n",
      "41   school committee    1071.650000            7           0.364773               153.092857\n",
      "42          goldsmith    1020.360000            4           0.208442               255.090000\n",
      "43            glazier     982.350000            1           0.052110               982.350000\n",
      "44          committee     863.410000            3           0.156331               287.803333\n",
      "45         individual     846.230000            1           0.052110               846.230000\n",
      "46         shopkeeper     812.940000            8           0.416884               101.617500\n",
      "47          carpenter     784.300000           10           0.521105                78.430000\n",
      "48        book binder     783.070000            1           0.052110               783.070000\n",
      "49         post rider     676.910000            3           0.156331               225.636667\n",
      "50    leather dresser     666.670000            1           0.052110               666.670000\n",
      "51         auctioneer     583.960000            5           0.260552               116.792000\n",
      "52          distiller     466.250000            3           0.156331               155.416667\n",
      "53           property     461.110000            1           0.052110               461.110000\n",
      "54        proprietors     335.540000            2           0.104221               167.770000\n",
      "55        cordwainder     281.250000            1           0.052110               281.250000\n",
      "56        housewright     266.670000            1           0.052110               266.670000\n",
      "57            butcher     235.700000            1           0.052110               235.700000\n",
      "58            molster     211.380000            1           0.052110               211.380000\n",
      "59  frederick company     206.670000            1           0.052110               206.670000\n",
      "60        conveyancer     108.400000            1           0.052110               108.400000\n",
      "61            cashier      85.300000            2           0.104221                42.650000\n",
      "62            soldier      78.480000            1           0.052110                78.480000\n",
      "63      cabinet maker      74.460000            1           0.052110                74.460000\n",
      "64           labourer      67.160000            2           0.104221                33.580000\n",
      "65               wife      63.640000            1           0.052110                63.640000\n",
      "66         comtroller      53.740000            1           0.052110                53.740000\n",
      "67           clothier      53.330000            1           0.052110                53.330000\n",
      "68            painter      48.610000            1           0.052110                48.610000\n",
      "69       chaise maker      47.570000            1           0.052110                47.570000\n",
      "70             weaver      46.020000            1           0.052110                46.020000\n",
      "71         bricklayer      37.350000            1           0.052110                37.350000\n",
      "72             miller      18.990000            1           0.052110                18.990000\n",
      "73             deacon      16.350000            1           0.052110                16.350000\n",
      "74         apothecary       7.720000            1           0.052110                 7.720000\n",
      "75     south carolina       0.000000            1           0.052110                 0.000000\n",
      "76       hair dresser       0.000000            1           0.052110                 0.000000\n",
      "\n",
      "\n"
     ]
    }
   ],
   "source": [
    "OccsTotalsAll = MergeOccupations(OccsTotalsAll)"
   ]
  },
  {
   "cell_type": "code",
   "execution_count": 1460,
   "id": "f34d0f23",
   "metadata": {
    "pycharm": {
     "name": "#%%\n"
    }
   },
   "outputs": [
    {
     "name": "stdout",
     "output_type": "stream",
     "text": [
      "           occupation       6p_total  # of people  % of total people  average debt per person\n",
      "0            merchant  975180.806095          669          34.898279              1457.669366\n",
      "1           treasurer  251444.820000           32           1.669275              7857.650625\n",
      "2                 esq  184573.597932          235          12.258738               785.419566\n",
      "3              broker   79191.020000           80           4.173187               989.887750\n",
      "4              farmer   59143.600000          274          14.293166               215.852555\n",
      "5           gentleman   41367.310000           60           3.129890               689.455167\n",
      "6               widow   31947.850000           80           4.173187               399.348125\n",
      "7              doctor   25249.720000           44           2.295253               573.857273\n",
      "8            attorney   24827.900000           35           1.825769               709.368571\n",
      "9            excuetor   18219.350200           33           1.721440               552.101521\n",
      "10             trader   15703.010000           63           3.286385               249.254127\n",
      "11            mariner   14122.056100           50           2.608242               282.441122\n",
      "12            planter   13322.036667           32           1.669275               416.313646\n",
      "13      adminastrator    8500.810000           18           0.938967               472.267222\n",
      "14            printer    8055.240000           10           0.521648               805.524000\n",
      "15        post master    7083.530000            1           0.052165              7083.530000\n",
      "16           guardian    5802.730000            7           0.365154               828.961429\n",
      "17         blockmaker    5268.660000            3           0.156495              1756.220000\n",
      "18           druggist    4922.430000            2           0.104330              2461.215000\n",
      "19              clerk    3997.000000           13           0.678143               307.461538\n",
      "20          shoemaker    3856.940000           12           0.625978               321.411667\n",
      "21             taylor    3644.930000            9           0.469484               404.992222\n",
      "22             sadler    3524.740000            1           0.052165              3524.740000\n",
      "23         blacksmith    3436.000000            9           0.469484               381.777778\n",
      "24           spinster    3434.960000           12           0.625978               286.246667\n",
      "25             hatter    3363.410000            6           0.312989               560.568333\n",
      "26         inn keeper    3300.500000           14           0.730308               235.750000\n",
      "27            furrier    3107.180000            1           0.052165              3107.180000\n",
      "28            sheriff    2701.986667            6           0.312989               450.331111\n",
      "29            trustee    2439.020000            1           0.052165              2439.020000\n",
      "30           assignee    2416.330000            4           0.208659               604.082500\n",
      "31              baker    2365.410000            2           0.104330              1182.705000\n",
      "32      school master    2344.900000            3           0.156495               781.633333\n",
      "33             tanner    2282.800000            4           0.208659               570.700000\n",
      "34           reverend    2278.500000            3           0.156495               759.500000\n",
      "35             judges    2257.180000            1           0.052165              2257.180000\n",
      "36        ship wright    2018.350000            5           0.260824               403.670000\n",
      "37             estate    1979.600000            2           0.104330               989.800000\n",
      "38        silversmith    1917.650000            2           0.104330               958.825000\n",
      "39             cooper    1720.910000            4           0.208659               430.227500\n",
      "40              mason    1152.500000            3           0.156495               384.166667\n",
      "41   school committee    1071.650000            7           0.365154               153.092857\n",
      "42          goldsmith    1020.360000            4           0.208659               255.090000\n",
      "43            glazier     982.350000            1           0.052165               982.350000\n",
      "44          committee     863.410000            3           0.156495               287.803333\n",
      "45         individual     846.230000            1           0.052165               846.230000\n",
      "46         shopkeeper     812.940000            8           0.417319               101.617500\n",
      "47          carpenter     784.300000           10           0.521648                78.430000\n",
      "48        book binder     783.070000            1           0.052165               783.070000\n",
      "49         post rider     676.910000            3           0.156495               225.636667\n",
      "50    leather dresser     666.670000            1           0.052165               666.670000\n",
      "51         auctioneer     583.960000            5           0.260824               116.792000\n",
      "52          distiller     466.250000            3           0.156495               155.416667\n",
      "53           property     461.110000            1           0.052165               461.110000\n",
      "54        proprietors     335.540000            2           0.104330               167.770000\n",
      "55        cordwainder     281.250000            1           0.052165               281.250000\n",
      "56        housewright     266.670000            1           0.052165               266.670000\n",
      "57            butcher     235.700000            1           0.052165               235.700000\n",
      "58            molster     211.380000            1           0.052165               211.380000\n",
      "59  frederick company     206.670000            1           0.052165               206.670000\n",
      "60        conveyancer     108.400000            1           0.052165               108.400000\n",
      "61            cashier      85.300000            2           0.104330                42.650000\n",
      "62            soldier      78.480000            1           0.052165                78.480000\n",
      "63      cabinet maker      74.460000            1           0.052165                74.460000\n",
      "64           labourer      67.160000            2           0.104330                33.580000\n",
      "65               wife      63.640000            1           0.052165                63.640000\n",
      "66         comtroller      53.740000            1           0.052165                53.740000\n",
      "67           clothier      53.330000            1           0.052165                53.330000\n",
      "68            painter      48.610000            1           0.052165                48.610000\n",
      "69       chaise maker      47.570000            1           0.052165                47.570000\n",
      "70             weaver      46.020000            1           0.052165                46.020000\n",
      "71         bricklayer      37.350000            1           0.052165                37.350000\n",
      "72             miller      18.990000            1           0.052165                18.990000\n",
      "73             deacon      16.350000            1           0.052165                16.350000\n",
      "74         apothecary       7.720000            1           0.052165                 7.720000\n"
     ]
    }
   ],
   "source": [
    "#Remove any occupatins will a total of '0'\n",
    "OccsTotalsAll = OccsTotalsAll[OccsTotalsAll['6p_total'] != 0].reset_index(drop=True)\n",
    "OccsTotalsAll['% of total people'] = (OccsTotalsAll['# of people'] / OccsTotalsAll['# of people'].sum()) * 100 #Recalculate the '% of total people'.\n",
    "print(OccsTotalsAll.to_string())"
   ]
  },
  {
   "cell_type": "code",
   "execution_count": 1461,
   "id": "e4f70239",
   "metadata": {
    "pycharm": {
     "name": "#%%\n"
    }
   },
   "outputs": [],
   "source": [
    "TurnToExcel(OccsTotalsAll, 'AllStates')"
   ]
  }
 ],
 "metadata": {
  "kernelspec": {
   "display_name": "Python 3 (ipykernel)",
   "language": "python",
   "name": "python3"
  },
  "language_info": {
   "codemirror_mode": {
    "name": "ipython",
    "version": 3
   },
   "file_extension": ".py",
   "mimetype": "text/x-python",
   "name": "python",
   "nbconvert_exporter": "python",
   "pygments_lexer": "ipython3",
   "version": "3.7.9"
  }
 },
 "nbformat": 4,
 "nbformat_minor": 5
}
