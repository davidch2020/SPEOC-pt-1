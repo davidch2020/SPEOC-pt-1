{
 "cells": [
  {
   "cell_type": "code",
   "execution_count": 1,
   "id": "f83c33f1",
   "metadata": {
    "pycharm": {
     "name": "#%%\n"
    }
   },
   "outputs": [],
   "source": [
    "#Import libraries.\n",
    "import pandas as pd\n",
    "import rapidfuzz\n",
    "from nltk.corpus import stopwords\n",
    "import numpy as np\n",
    "from yake import KeywordExtractor"
   ]
  },
  {
   "cell_type": "code",
   "execution_count": 2,
   "id": "f31339cf",
   "metadata": {
    "pycharm": {
     "name": "#%%\n"
    }
   },
   "outputs": [
    {
     "name": "stdout",
     "output_type": "stream",
     "text": [
      "['i', 'me', 'my', 'myself', 'we', 'our', 'ours', 'ourselves', 'you', \"you're\", \"you've\", \"you'll\", \"you'd\", 'your', 'yours', 'yourself', 'yourselves', 'he', 'him', 'his', 'himself', 'she', \"she's\", 'her', 'hers', 'herself', 'it', \"it's\", 'its', 'itself', 'they', 'them', 'their', 'theirs', 'themselves', 'what', 'which', 'who', 'whom', 'this', 'that', \"that'll\", 'these', 'those', 'am', 'is', 'are', 'was', 'were', 'be', 'been', 'being', 'have', 'has', 'had', 'having', 'do', 'does', 'did', 'doing', 'a', 'an', 'the', 'and', 'but', 'if', 'or', 'because', 'as', 'until', 'while', 'of', 'at', 'by', 'for', 'with', 'about', 'against', 'between', 'into', 'through', 'during', 'before', 'after', 'above', 'below', 'to', 'from', 'up', 'down', 'in', 'out', 'on', 'off', 'over', 'under', 'again', 'further', 'then', 'once', 'here', 'there', 'when', 'where', 'why', 'how', 'all', 'any', 'both', 'each', 'few', 'more', 'most', 'other', 'some', 'such', 'no', 'nor', 'not', 'only', 'own', 'same', 'so', 'than', 'too', 'very', 's', 't', 'can', 'will', 'just', 'don', \"don't\", 'should', \"should've\", 'now', 'd', 'll', 'm', 'o', 're', 've', 'y', 'ain', 'aren', \"aren't\", 'couldn', \"couldn't\", 'didn', \"didn't\", 'doesn', \"doesn't\", 'hadn', \"hadn't\", 'hasn', \"hasn't\", 'haven', \"haven't\", 'isn', \"isn't\", 'ma', 'mightn', \"mightn't\", 'mustn', \"mustn't\", 'needn', \"needn't\", 'shan', \"shan't\", 'shouldn', \"shouldn't\", 'wasn', \"wasn't\", 'weren', \"weren't\", 'won', \"won't\", 'wouldn', \"wouldn't\"]\n"
     ]
    }
   ],
   "source": [
    "Stops = stopwords.words('english') #Returns all stopwords in the English language. \n",
    "print(Stops)"
   ]
  },
  {
   "cell_type": "code",
   "execution_count": 3,
   "outputs": [],
   "source": [
    "# final manual dict\n",
    "datadict = {'adm':'administrator', 'administer':'administrator', 'administratrix estate joshua brown':'administrator',\n",
    "            'adminastrator':'administrator',\n",
    " 'ah.vat':'lawyer', 'asse john b':'executor', 'behalf':'executor', 'black':'blacksmith',\n",
    " 'blacks':'blacksmith', 'book':'book binder', 'chaise':'chaise maker', 'charleston':'merchant',\n",
    " 'christopher':'executor', 'cordwainder':'cordwainer', 'esq':'esquire', 'esquier':'esquire',\n",
    " 'ex':'executor', 'excuetor':'executor', 'executers':'executor', 'executor michael de mott deceased':'executor', 'executrix':'executor',\n",
    " 'extors late jn jenckes': 'executor', 'extors late nicholas brown':'executor','frderick':'soldier',\n",
    " 'general treasurer state rhode island suceessors':'treasurer','hair':'hair dresser','in trust jacobus van eis somerset county new jersey':'executor',\n",
    " 'inn':'inn keeper', 'innholder':'inn keeper', 'law':'lawyer', 'leather':'leather dresser', 'penniston': np.nan, 'pennsylvania': np.nan, 'post':'post master',\n",
    " 'property':'executor','school':'school master', 'ship':'ship wright','shop':'shop keeper', 'society':'treasurer', 'south':np.nan,\n",
    " 'the state':np.nan,'vendue':'vendue master', 'treasurer baptist benevolent':'treasurer', 'treasurer charitable baptist':'treasurer',\n",
    " 'treasurer congregational benevolent':'treasurer', 'treasurer society cincinnati state':'treasurer', 'treasurer st johns ledge no 1 tree accepted':'treasurer',\n",
    " 'treasurer state rhode island':'treasurer', 'tresurer catholic':'treasurer', 'trust':'trustee','baird':'executor',\n",
    "            'cabinet':'cabinet maker', 'asse john b ashe exe' : 'executors', 'trust' : 'assignee', 'pennsylvania' : 'no occupation', 'co' : 'no occupation', 'penniston' : 'no occupation',\n",
    "'committee':'committee member', 'controller':'customs controller',\n",
    "            'occupation':'no occupation'\n",
    " }"
   ],
   "metadata": {
    "collapsed": false,
    "pycharm": {
     "name": "#%%\n"
    }
   }
  },
  {
   "cell_type": "markdown",
   "id": "232a048d",
   "metadata": {
    "pycharm": {
     "name": "#%% md\n"
    }
   },
   "source": [
    "# Conneticut"
   ]
  },
  {
   "cell_type": "code",
   "execution_count": 3,
   "outputs": [],
   "source": [],
   "metadata": {
    "collapsed": false,
    "pycharm": {
     "name": "#%%\n"
    }
   }
  },
  {
   "cell_type": "code",
   "execution_count": 4,
   "id": "1b5a183c",
   "metadata": {
    "pycharm": {
     "name": "#%%\n"
    }
   },
   "outputs": [
    {
     "name": "stdout",
     "output_type": "stream",
     "text": [
      "     6p_Dollar  6p_Cents  6p_def_Dollar  6p_def_Cents  3p_Dollar  3p_Cents  \\\n",
      "0       1064.0      75.0          532.0          37.0      508.0      51.0   \n",
      "1        449.0      96.0          224.0          97.0      232.0      10.0   \n",
      "2        196.0      75.0           98.0          37.0      172.0      24.0   \n",
      "3         53.0      58.0           26.0          79.0       67.0       6.0   \n",
      "4        345.0      50.0          172.0          75.0      248.0      76.0   \n",
      "..         ...       ...            ...           ...        ...       ...   \n",
      "910       39.0      11.0           19.0          55.0       14.0       7.0   \n",
      "911       13.0      21.0            6.0          61.0        4.0      74.0   \n",
      "912      533.0      34.0          266.0          66.0      446.0      66.0   \n",
      "913      658.0      47.0          329.0          23.0      558.0      50.0   \n",
      "914       12.0      22.0            6.0          11.0       11.0       NaN   \n",
      "\n",
      "             town state     occupation                   Name  \\\n",
      "0        Hartford    CT       Merchant   ['Samuel W Pomeroy']   \n",
      "1          Bolton    CT         Farmer  ['Benjamin Trumbull']   \n",
      "2        Hartford    CT       Merchant     ['Thomas Hopkins']   \n",
      "3        Hartford    CT       Merchant        ['John Morgan']   \n",
      "4    Wethersfield    CT  No Occupation         ['John Lewis']   \n",
      "..            ...   ...            ...                    ...   \n",
      "910    Middletown    CT         Yeoman  ['Thomas Coggeshall']   \n",
      "911    Middletown    CT         Yeoman        ['Peleg Brown']   \n",
      "912       Norwich    CT       Merchant     ['Joseph Howland']   \n",
      "913       Norwich    CT       Merchant      ['Lynde McCurdy']   \n",
      "914       Ashford    CT         Yeoman        ['David Brown']   \n",
      "\n",
      "                county name_type  6p_total  \n",
      "0      Hartford County      town   1064.75  \n",
      "1       Tolland County      town    449.96  \n",
      "2      Hartford County      town    196.75  \n",
      "3      Hartford County      town     53.58  \n",
      "4      Hartford County      town    345.50  \n",
      "..                 ...       ...       ...  \n",
      "910   Middlesex County      town     39.11  \n",
      "911   Middlesex County      town     13.21  \n",
      "912  New London County      town    533.34  \n",
      "913  New London County      town    658.47  \n",
      "914     Windham County      town     12.22  \n",
      "\n",
      "[915 rows x 13 columns]\n"
     ]
    }
   ],
   "source": [
    "State = 'CT'\n",
    "AllOccs = pd.read_csv('../../../Data/Post1790/Aggregated/aggregated_CD.csv') #Returns aggregated CSV file.\n",
    "AllOccs.loc[AllOccs[AllOccs['occupation'].apply(lambda x: pd.isnull(x))].index, 'occupation'] = 'No Occupation'\n",
    "AllOccs.drop(columns=['Unnamed: 0'], inplace=True) #Drop duplicate index column which appears.\n",
    "AllOccsCT = AllOccs[AllOccs['state'] == State] #Separate rows by state\n",
    "AllOccsCT = AllOccsCT.dropna(subset=['occupation']).reset_index(drop=True) #Drop any rows w/o an occupation listed. \n",
    "print(AllOccsCT)"
   ]
  },
  {
   "cell_type": "code",
   "execution_count": 5,
   "id": "64212276",
   "metadata": {
    "pycharm": {
     "name": "#%%\n"
    }
   },
   "outputs": [
    {
     "name": "stdout",
     "output_type": "stream",
     "text": [
      "                                                           occupation   6p_total  # of people\n",
      "0                                   Adminastrator of the Asa Waterman     218.47            1\n",
      "1                                      Adminastrator to David Fellows       0.00            1\n",
      "2   Adminastrator to the Estate of Epaphras Bull of Hartford Deceased      61.30            1\n",
      "3                        Adminastrator to the Estate of Samuel Tilley      94.67            1\n",
      "4            Adminastrator to the estate of Uriah Loomis Jun Deceased      73.50            1\n",
      "5                                          Administrator to J McCurdy    3413.72            2\n",
      "6                         Administrator to the estate of Daniel Unkus      54.05            1\n",
      "7                Adminstrator to the Estate of Ezekiel Carey Deceased      77.61            1\n",
      "8                  Adminstrator to the Estate of Ruth Skiffe Deceased      87.74            1\n",
      "9                                                          Apothecary       7.72            1\n",
      "10                                                           Attorney    4863.67            3\n",
      "11                                                    Attorney at Law    6250.93           17\n",
      "12                                                         Blacksmith     724.71            3\n",
      "13                                                             Broker     208.55            3\n",
      "14                                                          Carpenter     175.34            1\n",
      "15                                           Cashier of Hartford Bank      85.30            2\n",
      "16                                                           Clothier      53.33            1\n",
      "17                           Committee of the 1st Ecclestical Society     306.28            1\n",
      "18                         Committee of the 1st Society of Plainville     220.49            1\n",
      "19                                                             Cooper     124.76            1\n",
      "20                                                             Doctor     647.09            1\n",
      "21                                                            Esquire   13020.09           13\n",
      "22                           Executor to Ezra Selden of Lyme Deceased    1963.62            1\n",
      "23                               Executor to Stephen Johnson Deceased       6.02            1\n",
      "24                                 Executor to Stephen Keyes Deceased     266.67            1\n",
      "25                               Executor to William Nichols Deceased       4.70            1\n",
      "26                      Executor to the Estate of Tim Mather Deceased    1573.33            1\n",
      "27                 Executor to the Estate of Uriah Loomis is Deceased     614.19            1\n",
      "28                   Executors to the Estate of Jabez Hamlin Deceased     129.72            1\n",
      "29                                                             Farmer   36715.82          167\n",
      "30                                                          Gentleman   16624.32           32\n",
      "31                                                          Goldsmith       6.82            1\n",
      "32                                            Guardian to Betsey Coit    1020.45            1\n",
      "33                                                 Guardian to J Neff      58.11            1\n",
      "34                                           Guardian to Sally Morgan     167.06            1\n",
      "35                                                             Hatter     242.99            1\n",
      "36                                                         Inn Keeper     201.53            3\n",
      "37                                                             Joiner      53.33            1\n",
      "38                                                    Leather Dresser     666.67            1\n",
      "39                                                            Mariner    3831.05           13\n",
      "40                                                           Merchant   63745.92           62\n",
      "41                                                          Merchents      19.08            1\n",
      "42                                                             Miller      18.99            1\n",
      "43                                                            Molster     211.38            1\n",
      "44                                                      No Occupation  673180.80          432\n",
      "45                                                          Physician    1303.46            3\n",
      "46                                                         Post Rider     676.91            3\n",
      "47                                                            Printer     204.78            2\n",
      "48                                                        Proprietors     276.90            1\n",
      "49                                                             Sadler    3524.74            1\n",
      "50                                                   School Committee     305.49            4\n",
      "51                                       School Committee 1st Society     426.04            1\n",
      "52                                      School Committee North Parish     108.79            1\n",
      "53                                     School Committee North Society     231.33            1\n",
      "54                                                      School Master    2213.75            2\n",
      "55                                                   Sherriffs Deputy     512.45            3\n",
      "56                                                         Shipwright     533.33            1\n",
      "57                                                          Shoemaker    1345.46            6\n",
      "58                                                  Society Committee     336.64            1\n",
      "59                                                  Society Treasurer     303.27            3\n",
      "60                                                            Soldier      78.48            1\n",
      "61                                                           Spinster    1731.58            6\n",
      "62                                                             Tanner     713.06            1\n",
      "63                                                             Taylor     209.81            1\n",
      "64                                                             Trader    9192.98           43\n",
      "65                                                            Traders     261.15            3\n",
      "66                                                          Treasurer    4523.35            4\n",
      "67                                  Treasurer 1st Society in Cornwall     175.27            1\n",
      "68                                          Treasurer Stepney Society     164.31            1\n",
      "69                                           Treasurer in 1st Society     282.37            1\n",
      "70                                       Treasurer of Preston Society    1447.26            1\n",
      "71                                          Treasurer of Yale College    2697.98            1\n",
      "72              Treasurer to the Society of Cincinnati in Connecticut    5793.34            2\n",
      "73                                                              Widow    6488.11           28\n",
      "74                                         Wife of Eliphalet Williams      63.64            1\n",
      "75                                                             Yeoman      64.54            3\n"
     ]
    }
   ],
   "source": [
    "OccsTotalsCT = AllOccsCT.groupby('occupation')['6p_total'].apply(sum).reset_index() #Combine duplicate occupations.\n",
    "OccsTotalsCT['# of people'] = OccsTotalsCT['occupation'].map(AllOccsCT['occupation'].value_counts(dropna=False)) #Map # of people that belong to each occupation.\n",
    "ogoccs = OccsTotalsCT[['occupation']]\n",
    "print(OccsTotalsCT.to_string())"
   ]
  },
  {
   "cell_type": "code",
   "execution_count": 6,
   "id": "b47301a1",
   "metadata": {
    "pycharm": {
     "name": "#%%\n"
    }
   },
   "outputs": [],
   "source": [
    "#Function that returns the same dataframe, but with all stopwords removed from the occupation titles. \n",
    "def RemoveStopwords(OccsTotals):\n",
    "    OccsTotals['occupation'] = OccsTotals['occupation'].apply(lambda OccName: ' '.join(word.lower() for word in OccName.split() if word not in Stops))\n",
    "    return OccsTotals "
   ]
  },
  {
   "cell_type": "code",
   "execution_count": 7,
   "id": "621f505b",
   "metadata": {
    "pycharm": {
     "name": "#%%\n"
    }
   },
   "outputs": [
    {
     "name": "stdout",
     "output_type": "stream",
     "text": [
      "                                              occupation   6p_total  # of people\n",
      "0                             adminastrator asa waterman     218.47            1\n",
      "1                            adminastrator david fellows       0.00            1\n",
      "2   adminastrator estate epaphras bull hartford deceased      61.30            1\n",
      "3                     adminastrator estate samuel tilley      94.67            1\n",
      "4         adminastrator estate uriah loomis jun deceased      73.50            1\n",
      "5                                administrator j mccurdy    3413.72            2\n",
      "6                      administrator estate daniel unkus      54.05            1\n",
      "7             adminstrator estate ezekiel carey deceased      77.61            1\n",
      "8               adminstrator estate ruth skiffe deceased      87.74            1\n",
      "9                                             apothecary       7.72            1\n",
      "10                                              attorney    4863.67            3\n",
      "11                                          attorney law    6250.93           17\n",
      "12                                            blacksmith     724.71            3\n",
      "13                                                broker     208.55            3\n",
      "14                                             carpenter     175.34            1\n",
      "15                                 cashier hartford bank      85.30            2\n",
      "16                                              clothier      53.33            1\n",
      "17                     committee 1st ecclestical society     306.28            1\n",
      "18                      committee 1st society plainville     220.49            1\n",
      "19                                                cooper     124.76            1\n",
      "20                                                doctor     647.09            1\n",
      "21                                               esquire   13020.09           13\n",
      "22                    executor ezra selden lyme deceased    1963.62            1\n",
      "23                     executor stephen johnson deceased       6.02            1\n",
      "24                       executor stephen keyes deceased     266.67            1\n",
      "25                     executor william nichols deceased       4.70            1\n",
      "26                   executor estate tim mather deceased    1573.33            1\n",
      "27                 executor estate uriah loomis deceased     614.19            1\n",
      "28                executors estate jabez hamlin deceased     129.72            1\n",
      "29                                                farmer   36715.82          167\n",
      "30                                             gentleman   16624.32           32\n",
      "31                                             goldsmith       6.82            1\n",
      "32                                  guardian betsey coit    1020.45            1\n",
      "33                                       guardian j neff      58.11            1\n",
      "34                                 guardian sally morgan     167.06            1\n",
      "35                                                hatter     242.99            1\n",
      "36                                            inn keeper     201.53            3\n",
      "37                                                joiner      53.33            1\n",
      "38                                       leather dresser     666.67            1\n",
      "39                                               mariner    3831.05           13\n",
      "40                                              merchant   63745.92           62\n",
      "41                                             merchents      19.08            1\n",
      "42                                                miller      18.99            1\n",
      "43                                               molster     211.38            1\n",
      "44                                         no occupation  673180.80          432\n",
      "45                                             physician    1303.46            3\n",
      "46                                            post rider     676.91            3\n",
      "47                                               printer     204.78            2\n",
      "48                                           proprietors     276.90            1\n",
      "49                                                sadler    3524.74            1\n",
      "50                                      school committee     305.49            4\n",
      "51                          school committee 1st society     426.04            1\n",
      "52                         school committee north parish     108.79            1\n",
      "53                        school committee north society     231.33            1\n",
      "54                                         school master    2213.75            2\n",
      "55                                      sherriffs deputy     512.45            3\n",
      "56                                            shipwright     533.33            1\n",
      "57                                             shoemaker    1345.46            6\n",
      "58                                     society committee     336.64            1\n",
      "59                                     society treasurer     303.27            3\n",
      "60                                               soldier      78.48            1\n",
      "61                                              spinster    1731.58            6\n",
      "62                                                tanner     713.06            1\n",
      "63                                                taylor     209.81            1\n",
      "64                                                trader    9192.98           43\n",
      "65                                               traders     261.15            3\n",
      "66                                             treasurer    4523.35            4\n",
      "67                        treasurer 1st society cornwall     175.27            1\n",
      "68                             treasurer stepney society     164.31            1\n",
      "69                                 treasurer 1st society     282.37            1\n",
      "70                             treasurer preston society    1447.26            1\n",
      "71                                treasurer yale college    2697.98            1\n",
      "72              treasurer society cincinnati connecticut    5793.34            2\n",
      "73                                                 widow    6488.11           28\n",
      "74                               wife eliphalet williams      63.64            1\n",
      "75                                                yeoman      64.54            3\n"
     ]
    },
    {
     "name": "stderr",
     "output_type": "stream",
     "text": [
      "/var/folders/5s/dvrxt95949x1pm_sjxm85lj00000gn/T/ipykernel_60320/1356372720.py:3: SettingWithCopyWarning: \n",
      "A value is trying to be set on a copy of a slice from a DataFrame.\n",
      "Try using .loc[row_indexer,col_indexer] = value instead\n",
      "\n",
      "See the caveats in the documentation: https://pandas.pydata.org/pandas-docs/stable/user_guide/indexing.html#returning-a-view-versus-a-copy\n",
      "  ogoccs['new occupation'] = OccsTotalsCT['occupation']\n"
     ]
    }
   ],
   "source": [
    "OccsTotalsCT = RemoveStopwords(OccsTotalsCT) #Call \n",
    "print(OccsTotalsCT.to_string())\n",
    "ogoccs['new occupation'] = OccsTotalsCT['occupation']"
   ]
  },
  {
   "cell_type": "code",
   "execution_count": 8,
   "id": "c1444826",
   "metadata": {
    "pycharm": {
     "name": "#%%\n"
    }
   },
   "outputs": [],
   "source": [
    "Remove = 2 #Define remove constant. "
   ]
  },
  {
   "cell_type": "code",
   "execution_count": 9,
   "id": "f9e7f7be",
   "metadata": {
    "pycharm": {
     "name": "#%%\n"
    }
   },
   "outputs": [],
   "source": [
    "#This function will help determine how many words we can acceptably cut off from the end. \n",
    "def FindRemoveConst(Occupations):\n",
    "    TempMaxLength = 2\n",
    "    \n",
    "    print('Occupation Before --> Occupation After')\n",
    "    print('--------------------------------------')\n",
    "    print('\\n')\n",
    "\n",
    "    retdict = dict()\n",
    "\n",
    "    for Occupation in Occupations:\n",
    "        if (len(Occupation.split()) > TempMaxLength): #If occupation has more than two words, remove last two words.\n",
    "            OccupationAfter = Occupation.rsplit(' ', Remove)[0] \n",
    "        else:\n",
    "            OccupationAfter = Occupation #Else, set them both equal to each other; nothing changes. \n",
    "        retdict[Occupation] = OccupationAfter\n",
    "        print(Occupation + ' --> ' + OccupationAfter)\n",
    "    return retdict"
   ]
  },
  {
   "cell_type": "code",
   "execution_count": 10,
   "id": "f2417b8c",
   "metadata": {
    "pycharm": {
     "name": "#%%\n"
    }
   },
   "outputs": [
    {
     "name": "stdout",
     "output_type": "stream",
     "text": [
      "Occupation Before --> Occupation After\n",
      "--------------------------------------\n",
      "\n",
      "\n",
      "adminastrator asa waterman --> adminastrator\n",
      "adminastrator david fellows --> adminastrator\n",
      "adminastrator estate epaphras bull hartford deceased --> adminastrator estate epaphras bull\n",
      "adminastrator estate samuel tilley --> adminastrator estate\n",
      "adminastrator estate uriah loomis jun deceased --> adminastrator estate uriah loomis\n",
      "administrator j mccurdy --> administrator\n",
      "administrator estate daniel unkus --> administrator estate\n",
      "adminstrator estate ezekiel carey deceased --> adminstrator estate ezekiel\n",
      "adminstrator estate ruth skiffe deceased --> adminstrator estate ruth\n",
      "apothecary --> apothecary\n",
      "attorney --> attorney\n",
      "attorney law --> attorney law\n",
      "blacksmith --> blacksmith\n",
      "broker --> broker\n",
      "carpenter --> carpenter\n",
      "cashier hartford bank --> cashier\n",
      "clothier --> clothier\n",
      "committee 1st ecclestical society --> committee 1st\n",
      "committee 1st society plainville --> committee 1st\n",
      "cooper --> cooper\n",
      "doctor --> doctor\n",
      "esquire --> esquire\n",
      "executor ezra selden lyme deceased --> executor ezra selden\n",
      "executor stephen johnson deceased --> executor stephen\n",
      "executor stephen keyes deceased --> executor stephen\n",
      "executor william nichols deceased --> executor william\n",
      "executor estate tim mather deceased --> executor estate tim\n",
      "executor estate uriah loomis deceased --> executor estate uriah\n",
      "executors estate jabez hamlin deceased --> executors estate jabez\n",
      "farmer --> farmer\n",
      "gentleman --> gentleman\n",
      "goldsmith --> goldsmith\n",
      "guardian betsey coit --> guardian\n",
      "guardian j neff --> guardian\n",
      "guardian sally morgan --> guardian\n",
      "hatter --> hatter\n",
      "inn keeper --> inn keeper\n",
      "joiner --> joiner\n",
      "leather dresser --> leather dresser\n",
      "mariner --> mariner\n",
      "merchant --> merchant\n",
      "merchents --> merchents\n",
      "miller --> miller\n",
      "molster --> molster\n",
      "no occupation --> no occupation\n",
      "physician --> physician\n",
      "post rider --> post rider\n",
      "printer --> printer\n",
      "proprietors --> proprietors\n",
      "sadler --> sadler\n",
      "school committee --> school committee\n",
      "school committee 1st society --> school committee\n",
      "school committee north parish --> school committee\n",
      "school committee north society --> school committee\n",
      "school master --> school master\n",
      "sherriffs deputy --> sherriffs deputy\n",
      "shipwright --> shipwright\n",
      "shoemaker --> shoemaker\n",
      "society committee --> society committee\n",
      "society treasurer --> society treasurer\n",
      "soldier --> soldier\n",
      "spinster --> spinster\n",
      "tanner --> tanner\n",
      "taylor --> taylor\n",
      "trader --> trader\n",
      "traders --> traders\n",
      "treasurer --> treasurer\n",
      "treasurer 1st society cornwall --> treasurer 1st\n",
      "treasurer stepney society --> treasurer\n",
      "treasurer 1st society --> treasurer\n",
      "treasurer preston society --> treasurer\n",
      "treasurer yale college --> treasurer\n",
      "treasurer society cincinnati connecticut --> treasurer society\n",
      "widow --> widow\n",
      "wife eliphalet williams --> wife\n",
      "yeoman --> yeoman\n"
     ]
    },
    {
     "name": "stderr",
     "output_type": "stream",
     "text": [
      "/var/folders/5s/dvrxt95949x1pm_sjxm85lj00000gn/T/ipykernel_60320/3165089881.py:2: SettingWithCopyWarning: \n",
      "A value is trying to be set on a copy of a slice from a DataFrame.\n",
      "Try using .loc[row_indexer,col_indexer] = value instead\n",
      "\n",
      "See the caveats in the documentation: https://pandas.pydata.org/pandas-docs/stable/user_guide/indexing.html#returning-a-view-versus-a-copy\n",
      "  ogoccs['new occupation'] = ogoccs['new occupation'].apply(lambda x: retdict[x])\n"
     ]
    }
   ],
   "source": [
    "retdict = FindRemoveConst(OccsTotalsCT['occupation'].tolist())\n",
    "ogoccs['new occupation'] = ogoccs['new occupation'].apply(lambda x: retdict[x])"
   ]
  },
  {
   "cell_type": "code",
   "execution_count": 11,
   "id": "fbda483f",
   "metadata": {
    "pycharm": {
     "name": "#%%\n"
    }
   },
   "outputs": [],
   "source": [
    "#Declare necessary parameters for KeywordExtractor() function.\n",
    "MaxLength = 2\n",
    "language = 'en' #Set language to English.\n",
    "MaxSize = 1  #Each keyword can only be a max. length of 1.\n",
    "DupThres = 0.5 #Words can not be used repeatedly in keywords. Treat each word separately. \n",
    "KeyExtractor = KeywordExtractor(lan=language, n=MaxSize, dedupLim=DupThres, features=None) #Create KeywordExtractor object.\n",
    "NoMerge = []"
   ]
  },
  {
   "cell_type": "code",
   "execution_count": 12,
   "id": "e484a0cf",
   "metadata": {
    "pycharm": {
     "name": "#%%\n"
    }
   },
   "outputs": [],
   "source": [
    "# Manually clean items. \n",
    "Exceptions = {'inn keeper': 'inn keeper', 'leather dresser': 'leather dresser', 'post rider': 'post rider', \n",
    "              'school committee': 'school committee', 'school master': 'school master', 'society committee': 'committee', \n",
    "              'society treasurer': 'treasurer', 'frederick company': 'frederick company', 'the state north carolina': None,\n",
    "              'the state of north carolina' : 'the state of north carolina','in trust jacobus van eis somerset county': 'assignee', \n",
    "              'ah.vat law': 'attorney', 'black smith': 'blacksmith','book binder': 'book binder', 'ex estate john baird': 'executors', \n",
    "              'ex': 'executors', 'junior broker': 'broker', 'post master': 'post master', 'ship wright': 'ship wright', 'shop keeper': 'shopkeeper', \n",
    "              'christopher mary': 'individual', 'law': 'attorney', 'lawyer': 'attorney', \n",
    "              'adm alexander mccaraher late chester': 'administer', \n",
    "              'general treasurer state rhode island suceessors said': 'treasurer', 'behalf proprietors': 'proprietors', \n",
    "              'chaise maker': 'chaise maker', 'executrix william': 'executor', 'blacks smith': 'blacksmith', \n",
    "              'cabinet maker': 'cabinet maker', 'charleston merchants': 'merchants', 'hair dresser': 'hair dresser', \n",
    "              'south carolina': 'south carolina', 'vendue master': 'auctioneer', 'physician' : 'doctor', 'administer' : 'adminastrator',\n",
    "                'esquier' : 'esq', 'excuters' : 'excuetor', 'extors' : 'excuetor', 'esquire' : 'esq', 'executers' : 'excuetor',\n",
    "             'yeoman' : 'farmer', 'cordwainer' : 'shoemaker', 'joiner' : 'carpenter', 'innholder' : 'inn keeper', 'factor' : 'trader',\n",
    "             'asse john b ashe exe' : 'executors', 'trust' : 'assignee', 'pennsylvania' : None, 'co' : None, 'penniston' : None,\n",
    "              'committee':'committee member', 'controller':'customs controller'}"
   ]
  },
  {
   "cell_type": "code",
   "execution_count": 13,
   "id": "f18de2a8",
   "metadata": {
    "pycharm": {
     "name": "#%%\n"
    }
   },
   "outputs": [
    {
     "name": "stdout",
     "output_type": "stream",
     "text": [
      "adm alexander mccaraher late chester: administer\n",
      "administer: adminastrator\n",
      "ah.vat law: attorney\n",
      "asse john b ashe exe: executors\n",
      "behalf proprietors: proprietors\n",
      "black smith: blacksmith\n",
      "blacks smith: blacksmith\n",
      "book binder: book binder\n",
      "cabinet maker: cabinet maker\n",
      "chaise maker: chaise maker\n",
      "charleston merchants: merchants\n",
      "christopher mary: individual\n",
      "co: None\n",
      "committee: committee member\n",
      "controller: customs controller\n",
      "cordwainer: shoemaker\n",
      "esquier: esq\n",
      "esquire: esq\n",
      "ex: executors\n",
      "ex estate john baird: executors\n",
      "excuters: excuetor\n",
      "executers: excuetor\n",
      "executrix william: executor\n",
      "extors: excuetor\n",
      "factor: trader\n",
      "frederick company: frederick company\n",
      "general treasurer state rhode island suceessors said: treasurer\n",
      "hair dresser: hair dresser\n",
      "in trust jacobus van eis somerset county: assignee\n",
      "inn keeper: inn keeper\n",
      "innholder: inn keeper\n",
      "joiner: carpenter\n",
      "junior broker: broker\n",
      "law: attorney\n",
      "lawyer: attorney\n",
      "leather dresser: leather dresser\n",
      "penniston: None\n",
      "pennsylvania: None\n",
      "physician: doctor\n",
      "post master: post master\n",
      "post rider: post rider\n",
      "school committee: school committee\n",
      "school master: school master\n",
      "ship wright: ship wright\n",
      "shop keeper: shopkeeper\n",
      "society committee: committee\n",
      "society treasurer: treasurer\n",
      "south carolina: south carolina\n",
      "the state north carolina: None\n",
      "the state of north carolina: the state of north carolina\n",
      "trust: assignee\n",
      "vendue master: auctioneer\n",
      "yeoman: farmer\n"
     ]
    }
   ],
   "source": [
    "#Print alphabetized version of 'Exceptions'.\n",
    "for Name in sorted(Exceptions):\n",
    "    print(\"%s: %s\" % (Name, Exceptions[Name]))"
   ]
  },
  {
   "cell_type": "code",
   "execution_count": 14,
   "id": "eae4c139",
   "metadata": {
    "pycharm": {
     "name": "#%%\n"
    }
   },
   "outputs": [],
   "source": [
    "#Print what the merged occupations will look like. This will help us find any exceptions. \n",
    "def PrintFutureOccupations(Occupations):    \n",
    "    print('Occupations --> Potential Cleaned Occupations')\n",
    "    print('---------------------------------------------')\n",
    "    print('\\n')\n",
    "\n",
    "    retdict = dict()\n",
    "    for Occupation in Occupations:\n",
    "        if (len(Occupation.split()) > MaxLength): #If occupation has more than two words in it, remove last two words. Depends on constant. Might change. \n",
    "            Occupation = Occupation.rsplit(' ', Remove)[0]\n",
    "            \n",
    "        Keywords = KeyExtractor.extract_keywords(Occupation) #Retrieve list of keywords. \n",
    "        \n",
    "        if (len(Keywords) == 0):\n",
    "            Keywords.append((Occupation, ' '))\n",
    "        retdict[Occupation] = str(Keywords[0][0])\n",
    "        print(Occupation + ' --> ' + str(Keywords[0][0])) #Print current occupation title to hypothetical cleaned occupation title.\n",
    "    return retdict"
   ]
  },
  {
   "cell_type": "code",
   "execution_count": 15,
   "id": "b5d57c40",
   "metadata": {
    "pycharm": {
     "name": "#%%\n"
    }
   },
   "outputs": [
    {
     "name": "stdout",
     "output_type": "stream",
     "text": [
      "Occupations --> Potential Cleaned Occupations\n",
      "---------------------------------------------\n",
      "\n",
      "\n",
      "adminastrator --> adminastrator\n",
      "adminastrator --> adminastrator\n",
      "adminastrator estate epaphras bull --> adminastrator\n",
      "adminastrator estate --> adminastrator\n",
      "adminastrator estate uriah loomis --> adminastrator\n",
      "administrator --> administrator\n",
      "administrator estate --> administrator\n",
      "adminstrator estate ezekiel --> adminstrator\n",
      "adminstrator estate ruth --> adminstrator\n",
      "apothecary --> apothecary\n",
      "attorney --> attorney\n",
      "attorney law --> attorney\n",
      "blacksmith --> blacksmith\n",
      "broker --> broker\n",
      "carpenter --> carpenter\n",
      "cashier --> cashier\n",
      "clothier --> clothier\n",
      "committee 1st --> committee\n",
      "committee 1st --> committee\n",
      "cooper --> cooper\n",
      "doctor --> doctor\n",
      "esquire --> esquire\n",
      "executor ezra selden --> executor\n",
      "executor stephen --> executor\n",
      "executor stephen --> executor\n",
      "executor william --> executor\n",
      "executor estate tim --> executor\n",
      "executor estate uriah --> executor\n",
      "executors estate jabez --> executors\n",
      "farmer --> farmer\n",
      "gentleman --> gentleman\n",
      "goldsmith --> goldsmith\n",
      "guardian --> guardian\n",
      "guardian --> guardian\n",
      "guardian --> guardian\n",
      "hatter --> hatter\n",
      "inn keeper --> inn\n",
      "joiner --> joiner\n",
      "leather dresser --> leather\n",
      "mariner --> mariner\n",
      "merchant --> merchant\n",
      "merchents --> merchents\n",
      "miller --> miller\n",
      "molster --> molster\n",
      "no occupation --> occupation\n",
      "physician --> physician\n",
      "post rider --> post\n",
      "printer --> printer\n",
      "proprietors --> proprietors\n",
      "sadler --> sadler\n",
      "school committee --> school\n",
      "school committee --> school\n",
      "school committee --> school\n",
      "school committee --> school\n",
      "school master --> school\n",
      "sherriffs deputy --> sherriffs\n",
      "shipwright --> shipwright\n",
      "shoemaker --> shoemaker\n",
      "society committee --> society\n",
      "society treasurer --> society\n",
      "soldier --> soldier\n",
      "spinster --> spinster\n",
      "tanner --> tanner\n",
      "taylor --> taylor\n",
      "trader --> trader\n",
      "traders --> traders\n",
      "treasurer --> treasurer\n",
      "treasurer 1st --> treasurer\n",
      "treasurer --> treasurer\n",
      "treasurer --> treasurer\n",
      "treasurer --> treasurer\n",
      "treasurer --> treasurer\n",
      "treasurer society --> treasurer\n",
      "widow --> widow\n",
      "wife --> wife\n",
      "yeoman --> yeoman\n"
     ]
    },
    {
     "name": "stderr",
     "output_type": "stream",
     "text": [
      "/var/folders/5s/dvrxt95949x1pm_sjxm85lj00000gn/T/ipykernel_60320/355176414.py:2: SettingWithCopyWarning: \n",
      "A value is trying to be set on a copy of a slice from a DataFrame.\n",
      "Try using .loc[row_indexer,col_indexer] = value instead\n",
      "\n",
      "See the caveats in the documentation: https://pandas.pydata.org/pandas-docs/stable/user_guide/indexing.html#returning-a-view-versus-a-copy\n",
      "  ogoccs['new occupation'] = ogoccs['new occupation'].apply(lambda x: retdict[x])\n"
     ]
    }
   ],
   "source": [
    "retdict = PrintFutureOccupations(OccsTotalsCT['occupation'].tolist())\n",
    "ogoccs['new occupation'] = ogoccs['new occupation'].apply(lambda x: retdict[x])"
   ]
  },
  {
   "cell_type": "code",
   "execution_count": 16,
   "id": "5133220c",
   "metadata": {
    "pycharm": {
     "name": "#%%\n"
    }
   },
   "outputs": [],
   "source": [
    "#Handle duplicate occupations that are spelled differently. Pass in 'occupation' column as a list. Pass in function which will do a manual check for each state (differs w/ each state). \n",
    "def MergeOccupations(OccsTotals):\n",
    "    OccsTotals['% of total people'] = None #Add a percent of total population column.\n",
    "    Occupations = OccsTotals['occupation'].tolist() #Returns 'occupation' column as a list.    \n",
    "    Index = 0 #Keep track of index. \n",
    "    \n",
    "    for Occupation in Occupations:\n",
    "        if (len(Occupation.split()) > MaxLength): #If occupation has more than two words in it, remove last two words. Depends on constant. Might change. \n",
    "            Occupation = Occupation.rsplit(' ', Remove)[0]\n",
    "            \n",
    "        Keywords = KeyExtractor.extract_keywords(Occupation) #Retrieve list of keywords. \n",
    "        \n",
    "        if (len(Keywords) == 0):\n",
    "            Keywords.append((Occupation, ' '))\n",
    "        \n",
    "        NewOccupation = Keywords[0][0] #Get new occupation from list of keywords. Based on which keyword has the highest rating.\n",
    "                \n",
    "        if (Occupation in Exceptions): #If occupation is an exception, set new occupation. \n",
    "            NewOccupation = Exceptions[Occupation]\n",
    "    \n",
    "        OccsTotals.loc[Index, 'occupation'] = NewOccupation #Replace occupation with new occupation in dataframe.\n",
    "        \n",
    "        Index += 1 #Increment. \n",
    "    \n",
    "    print('After Cleaning')\n",
    "    print('--------------')\n",
    "    print('\\n')\n",
    "    print(OccsTotals.to_string()) #Check\n",
    "    print('\\n')\n",
    "    \n",
    "    OccsTotals = OccsTotals.groupby('occupation')[['6p_total', '# of people', '% of total people']].apply(sum).reset_index() #Combine duplicate occupations, reset index. \n",
    "    OccsTotals['# of people'] = OccsTotals['# of people'].astype(int) #Convert values in '# of people' column to all ints. \n",
    "    \n",
    "    print('After Removing Duplicates and Summing')\n",
    "    print('-------------------------------------')\n",
    "    print('\\n')\n",
    "    print(OccsTotals.to_string()) #Check\n",
    "    print('\\n')\n",
    "    retdict = dict()\n",
    "    Occupations = OccsTotals['occupation'].tolist() #Reinstantiate Occupations after changing OccsTotals\n",
    "    i = 0 #Declare new index.\n",
    "    while (i < len(Occupations)): \n",
    "        j = 0 #Declare new index.\n",
    "        while (j < len(Occupations)):                \n",
    "            if (rapidfuzz.fuzz.ratio(Occupations[i], Occupations[j]) > 80) and (Occupations[i] != Occupations[j]) and ((Occupations[j] not in NoMerge) and (Occupations[i] not in NoMerge))  : #Use fuzzy string matching to determine whether two occupations are the same or not.               \n",
    "                Total = float(OccsTotals.loc[j, '6p_total']) #Get total from duplicate occupation.\n",
    "                OccsTotals.loc[i, '6p_total'] += Total #Merge totals together.\n",
    "                \n",
    "                NumOfPeople = OccsTotals.loc[j, '# of people'] #Get number of people in row j.\n",
    "                OccsTotals.loc[i, '# of people'] += NumOfPeople #Add that number to row i.\n",
    "                \n",
    "                OccsTotals.drop(j, inplace=True) #Remove duplicate occupation.\n",
    "                OccsTotals = OccsTotals.reset_index(drop=True) #Reset index.\n",
    "\n",
    "                retdict[Occupations[j]] = Occupations[i]\n",
    "                print('Removed: ' + Occupations[j] + ' --> ' + Occupations[i])\n",
    "\n",
    "                Occupations.remove(Occupations[j]) #Remove from list of occupations so loop will not iterate over it again.\n",
    "            else:\n",
    "                j += 1\n",
    "                \n",
    "        i += 1\n",
    "        \n",
    "    OccsTotals['average debt per person'] = OccsTotals['6p_total'] / OccsTotals['# of people'] #Add an average column.\n",
    "    OccsTotals['% of total people'] = (OccsTotals['# of people'] / OccsTotals['# of people'].sum()) * 100 #Assign values to '# of people column'.\n",
    "    OccsTotals = OccsTotals.sort_values('6p_total', ascending=False).reset_index(drop=True)\n",
    "    \n",
    "    print('\\n')\n",
    "    print('After Using Fuzzy String Matching')\n",
    "    print('---------------------------------')\n",
    "    print('\\n')\n",
    "    print(OccsTotals.to_string())\n",
    "    print('\\n')\n",
    "    \n",
    "    return retdict, OccsTotals\n",
    "        "
   ]
  },
  {
   "cell_type": "code",
   "execution_count": 17,
   "id": "dffc9c72",
   "metadata": {
    "pycharm": {
     "name": "#%%\n"
    },
    "scrolled": false
   },
   "outputs": [
    {
     "name": "stdout",
     "output_type": "stream",
     "text": [
      "After Cleaning\n",
      "--------------\n",
      "\n",
      "\n",
      "          occupation   6p_total  # of people % of total people\n",
      "0      adminastrator     218.47            1              None\n",
      "1      adminastrator       0.00            1              None\n",
      "2      adminastrator      61.30            1              None\n",
      "3      adminastrator      94.67            1              None\n",
      "4      adminastrator      73.50            1              None\n",
      "5      administrator    3413.72            2              None\n",
      "6      administrator      54.05            1              None\n",
      "7       adminstrator      77.61            1              None\n",
      "8       adminstrator      87.74            1              None\n",
      "9         apothecary       7.72            1              None\n",
      "10          attorney    4863.67            3              None\n",
      "11          attorney    6250.93           17              None\n",
      "12        blacksmith     724.71            3              None\n",
      "13            broker     208.55            3              None\n",
      "14         carpenter     175.34            1              None\n",
      "15           cashier      85.30            2              None\n",
      "16          clothier      53.33            1              None\n",
      "17         committee     306.28            1              None\n",
      "18         committee     220.49            1              None\n",
      "19            cooper     124.76            1              None\n",
      "20            doctor     647.09            1              None\n",
      "21               esq   13020.09           13              None\n",
      "22          executor    1963.62            1              None\n",
      "23          executor       6.02            1              None\n",
      "24          executor     266.67            1              None\n",
      "25          executor       4.70            1              None\n",
      "26          executor    1573.33            1              None\n",
      "27          executor     614.19            1              None\n",
      "28         executors     129.72            1              None\n",
      "29            farmer   36715.82          167              None\n",
      "30         gentleman   16624.32           32              None\n",
      "31         goldsmith       6.82            1              None\n",
      "32          guardian    1020.45            1              None\n",
      "33          guardian      58.11            1              None\n",
      "34          guardian     167.06            1              None\n",
      "35            hatter     242.99            1              None\n",
      "36        inn keeper     201.53            3              None\n",
      "37         carpenter      53.33            1              None\n",
      "38   leather dresser     666.67            1              None\n",
      "39           mariner    3831.05           13              None\n",
      "40          merchant   63745.92           62              None\n",
      "41         merchents      19.08            1              None\n",
      "42            miller      18.99            1              None\n",
      "43           molster     211.38            1              None\n",
      "44        occupation  673180.80          432              None\n",
      "45            doctor    1303.46            3              None\n",
      "46        post rider     676.91            3              None\n",
      "47           printer     204.78            2              None\n",
      "48       proprietors     276.90            1              None\n",
      "49            sadler    3524.74            1              None\n",
      "50  school committee     305.49            4              None\n",
      "51  school committee     426.04            1              None\n",
      "52  school committee     108.79            1              None\n",
      "53  school committee     231.33            1              None\n",
      "54     school master    2213.75            2              None\n",
      "55         sherriffs     512.45            3              None\n",
      "56        shipwright     533.33            1              None\n",
      "57         shoemaker    1345.46            6              None\n",
      "58         committee     336.64            1              None\n",
      "59         treasurer     303.27            3              None\n",
      "60           soldier      78.48            1              None\n",
      "61          spinster    1731.58            6              None\n",
      "62            tanner     713.06            1              None\n",
      "63            taylor     209.81            1              None\n",
      "64            trader    9192.98           43              None\n",
      "65           traders     261.15            3              None\n",
      "66         treasurer    4523.35            4              None\n",
      "67         treasurer     175.27            1              None\n",
      "68         treasurer     164.31            1              None\n",
      "69         treasurer     282.37            1              None\n",
      "70         treasurer    1447.26            1              None\n",
      "71         treasurer    2697.98            1              None\n",
      "72         treasurer    5793.34            2              None\n",
      "73             widow    6488.11           28              None\n",
      "74              wife      63.64            1              None\n",
      "75            farmer      64.54            3              None\n",
      "\n",
      "\n",
      "After Removing Duplicates and Summing\n",
      "-------------------------------------\n",
      "\n",
      "\n",
      "          occupation   6p_total  # of people  % of total people\n",
      "0      adminastrator     447.94            5                  0\n",
      "1      administrator    3467.77            3                  0\n",
      "2       adminstrator     165.35            2                  0\n",
      "3         apothecary       7.72            1                  0\n",
      "4           attorney   11114.60           20                  0\n",
      "5         blacksmith     724.71            3                  0\n",
      "6             broker     208.55            3                  0\n",
      "7          carpenter     228.67            2                  0\n",
      "8            cashier      85.30            2                  0\n",
      "9           clothier      53.33            1                  0\n",
      "10         committee     863.41            3                  0\n",
      "11            cooper     124.76            1                  0\n",
      "12            doctor    1950.55            4                  0\n",
      "13               esq   13020.09           13                  0\n",
      "14          executor    4428.53            6                  0\n",
      "15         executors     129.72            1                  0\n",
      "16            farmer   36780.36          170                  0\n",
      "17         gentleman   16624.32           32                  0\n",
      "18         goldsmith       6.82            1                  0\n",
      "19          guardian    1245.62            3                  0\n",
      "20            hatter     242.99            1                  0\n",
      "21        inn keeper     201.53            3                  0\n",
      "22   leather dresser     666.67            1                  0\n",
      "23           mariner    3831.05           13                  0\n",
      "24          merchant   63745.92           62                  0\n",
      "25         merchents      19.08            1                  0\n",
      "26            miller      18.99            1                  0\n",
      "27           molster     211.38            1                  0\n",
      "28        occupation  673180.80          432                  0\n",
      "29        post rider     676.91            3                  0\n",
      "30           printer     204.78            2                  0\n",
      "31       proprietors     276.90            1                  0\n",
      "32            sadler    3524.74            1                  0\n",
      "33  school committee    1071.65            7                  0\n",
      "34     school master    2213.75            2                  0\n",
      "35         sherriffs     512.45            3                  0\n",
      "36        shipwright     533.33            1                  0\n",
      "37         shoemaker    1345.46            6                  0\n",
      "38           soldier      78.48            1                  0\n",
      "39          spinster    1731.58            6                  0\n",
      "40            tanner     713.06            1                  0\n",
      "41            taylor     209.81            1                  0\n",
      "42            trader    9192.98           43                  0\n",
      "43           traders     261.15            3                  0\n",
      "44         treasurer   15387.15           14                  0\n",
      "45             widow    6488.11           28                  0\n",
      "46              wife      63.64            1                  0\n",
      "\n",
      "\n",
      "Removed: administrator --> adminastrator\n",
      "Removed: adminstrator --> adminastrator\n",
      "Removed: executors --> executor\n",
      "Removed: merchents --> merchant\n",
      "Removed: traders --> trader\n",
      "\n",
      "\n",
      "After Using Fuzzy String Matching\n",
      "---------------------------------\n",
      "\n",
      "\n",
      "          occupation   6p_total  # of people  % of total people  average debt per person\n",
      "0         occupation  673180.80          432          47.213115              1558.288889\n",
      "1           merchant   63765.00           63           6.885246              1012.142857\n",
      "2             farmer   36780.36          170          18.579235               216.355059\n",
      "3          gentleman   16624.32           32           3.497268               519.510000\n",
      "4          treasurer   15387.15           14           1.530055              1099.082143\n",
      "5                esq   13020.09           13           1.420765              1001.545385\n",
      "6           attorney   11114.60           20           2.185792               555.730000\n",
      "7             trader    9454.13           46           5.027322               205.524565\n",
      "8              widow    6488.11           28           3.060109               231.718214\n",
      "9           executor    4558.25            7           0.765027               651.178571\n",
      "10     adminastrator    4081.06           10           1.092896               408.106000\n",
      "11           mariner    3831.05           13           1.420765               294.696154\n",
      "12            sadler    3524.74            1           0.109290              3524.740000\n",
      "13     school master    2213.75            2           0.218579              1106.875000\n",
      "14            doctor    1950.55            4           0.437158               487.637500\n",
      "15          spinster    1731.58            6           0.655738               288.596667\n",
      "16         shoemaker    1345.46            6           0.655738               224.243333\n",
      "17          guardian    1245.62            3           0.327869               415.206667\n",
      "18  school committee    1071.65            7           0.765027               153.092857\n",
      "19         committee     863.41            3           0.327869               287.803333\n",
      "20        blacksmith     724.71            3           0.327869               241.570000\n",
      "21            tanner     713.06            1           0.109290               713.060000\n",
      "22        post rider     676.91            3           0.327869               225.636667\n",
      "23   leather dresser     666.67            1           0.109290               666.670000\n",
      "24        shipwright     533.33            1           0.109290               533.330000\n",
      "25         sherriffs     512.45            3           0.327869               170.816667\n",
      "26       proprietors     276.90            1           0.109290               276.900000\n",
      "27            hatter     242.99            1           0.109290               242.990000\n",
      "28         carpenter     228.67            2           0.218579               114.335000\n",
      "29           molster     211.38            1           0.109290               211.380000\n",
      "30            taylor     209.81            1           0.109290               209.810000\n",
      "31            broker     208.55            3           0.327869                69.516667\n",
      "32           printer     204.78            2           0.218579               102.390000\n",
      "33        inn keeper     201.53            3           0.327869                67.176667\n",
      "34            cooper     124.76            1           0.109290               124.760000\n",
      "35           cashier      85.30            2           0.218579                42.650000\n",
      "36           soldier      78.48            1           0.109290                78.480000\n",
      "37              wife      63.64            1           0.109290                63.640000\n",
      "38          clothier      53.33            1           0.109290                53.330000\n",
      "39            miller      18.99            1           0.109290                18.990000\n",
      "40        apothecary       7.72            1           0.109290                 7.720000\n",
      "41         goldsmith       6.82            1           0.109290                 6.820000\n",
      "\n",
      "\n"
     ]
    }
   ],
   "source": [
    "retdict, OccsTotalsCT = MergeOccupations(OccsTotalsCT)\n",
    "ogoccs['new occupation'] = ogoccs['new occupation'].apply(lambda x: retdict.get(x, x))"
   ]
  },
  {
   "cell_type": "code",
   "execution_count": 18,
   "id": "a1c85dd0",
   "metadata": {
    "pycharm": {
     "name": "#%%\n"
    }
   },
   "outputs": [],
   "source": [
    "def TurnToExcel(DF, State):\n",
    "    DF['occupation'] = DF['occupation'].apply(lambda x: datadict.get(x, x))\n",
    "    DF.to_excel('./FinishedSpreadsheets/Occupations' + State + '.xlsx')"
   ]
  },
  {
   "cell_type": "code",
   "execution_count": 19,
   "id": "2a8b5bc7",
   "metadata": {
    "pycharm": {
     "name": "#%%\n"
    }
   },
   "outputs": [],
   "source": [
    "TurnToExcel(OccsTotalsCT, State)"
   ]
  },
  {
   "cell_type": "markdown",
   "id": "6471988f",
   "metadata": {
    "pycharm": {
     "name": "#%% md\n"
    }
   },
   "source": [
    "# Georgia"
   ]
  },
  {
   "cell_type": "code",
   "execution_count": 20,
   "id": "a96bbc32",
   "metadata": {
    "pycharm": {
     "name": "#%%\n"
    }
   },
   "outputs": [
    {
     "name": "stdout",
     "output_type": "stream",
     "text": [
      "    6p_Dollar    6p_Cents  6p_def_Dollar  6p_def_Cents  3p_Dollar  3p_Cents  \\\n",
      "0      4586.0     66.0000         2293.0       33.0000     3026.0     11.00   \n",
      "1         1.0     95.1133            1.0       47.5567        NaN      0.00   \n",
      "2         1.0    890.0000            1.0      445.0000        1.0    570.70   \n",
      "3         1.0     90.3000            1.0       45.1000        1.0     93.50   \n",
      "4         1.0    249.7700            1.0      124.8900        1.0    273.65   \n",
      "5         1.0    114.6000            1.0       57.3000        1.0    123.94   \n",
      "6         1.0    227.5133            1.0      113.7533        NaN       NaN   \n",
      "7         1.0    129.6533            1.0       64.8233        1.0    144.96   \n",
      "8         1.0    209.8633            1.0      104.9333        1.0    241.38   \n",
      "9         1.0  10108.9033            1.0     5054.4533        1.0   2729.40   \n",
      "10        1.0    114.7330            1.0       57.3330        1.0    124.45   \n",
      "11       17.0    107.8000           13.0       53.9000       14.0    124.14   \n",
      "12       17.0    106.8233           13.0       53.4133       14.0    122.92   \n",
      "13       17.0    140.3200           13.0       70.1600       14.0    127.93   \n",
      "14       17.0   1349.0733           13.0      674.5333       14.0   1538.21   \n",
      "15       17.0   4857.6600           13.0     2428.8300       14.0   1748.76   \n",
      "16       20.0     26.1200           16.0       13.0600        NaN       NaN   \n",
      "17       37.0     18.2000           18.0        9.0900        NaN      0.00   \n",
      "18       37.0  13325.3300           18.0     6662.6700       17.0   3997.60   \n",
      "19       33.0     33.0000           16.0       66.0000       30.0     73.00   \n",
      "\n",
      "                town state     occupation  \\\n",
      "0   State of Georgia    GA      Gentleman   \n",
      "1           Savannah    GA       Merchant   \n",
      "2                NaN    GA  No Occupation   \n",
      "3           Savannah    GA       Merchant   \n",
      "4           Savannah    GA  No Occupation   \n",
      "5           Savannah    GA  No Occupation   \n",
      "6   Effingham County    GA  No Occupation   \n",
      "7           Savannah    GA      Merchants   \n",
      "8           Savannah    GA       Merchant   \n",
      "9            Augusta    GA            Esq   \n",
      "10          Savannah    GA       Merchant   \n",
      "11          Savannah    GA  No Occupation   \n",
      "12   Columbia County    GA  No Occupation   \n",
      "13          Savannah    GA  No Occupation   \n",
      "14           Georgia    GA  No Occupation   \n",
      "15  Effingham County    GA  No Occupation   \n",
      "16          Savannah    GA       Merchant   \n",
      "17           Augusta    GA      Merchants   \n",
      "18               NaN    GA  No Occupation   \n",
      "19           Georgia    GA  No Occupation   \n",
      "\n",
      "                                                 Name            county  \\\n",
      "0                                  ['Phineas Miller']               NaN   \n",
      "1                               ['Mordecai Sheftall']    Chatham County   \n",
      "2   ['Treasurer of the Cincinnati Society of Georg...               NaN   \n",
      "3                          ['Speirs McLeod and Co  ']    Chatham County   \n",
      "4                                  ['William Hunter']    Chatham County   \n",
      "5                            ['Noble Wimberly Jones']    Chatham County   \n",
      "6                                     ['James Smith']  Effingham County   \n",
      "7                               ['Lamb and Chukley ']    Chatham County   \n",
      "8                                ['Ebenezer Jackson']    Chatham County   \n",
      "9                                      ['John Meals']   Richmond County   \n",
      "10                                 ['William Hunter']    Chatham County   \n",
      "11                                 ['John Robertson']    Chatham County   \n",
      "12                                   ['William Ives']   Richmond County   \n",
      "13                                 ['Joseph Dacosta']    Chatham County   \n",
      "14                                ['Samuel Lawrence']               NaN   \n",
      "15                                    ['James Smith']  Effingham County   \n",
      "16                                  ['William Ewing']    Chatham County   \n",
      "17                        ['Jackson and Nightingale']   Richmond County   \n",
      "18                           ['The State of Georgia']               NaN   \n",
      "19                                    ['James Moore']               NaN   \n",
      "\n",
      "   name_type     6p_total  \n",
      "0      state  4586.660000  \n",
      "1       town     1.951133  \n",
      "2      state     9.900000  \n",
      "3       town     1.903000  \n",
      "4       town     3.497700  \n",
      "5       town     2.146000  \n",
      "6     county     3.275133  \n",
      "7       town     2.296533  \n",
      "8       town     3.098633  \n",
      "9       town   102.089033  \n",
      "10      town     2.147330  \n",
      "11      town    18.078000  \n",
      "12    county    18.068233  \n",
      "13      town    18.403200  \n",
      "14     state    30.490733  \n",
      "15    county    65.576600  \n",
      "16      town    20.261200  \n",
      "17      town    37.182000  \n",
      "18     state   170.253300  \n",
      "19     state    33.330000  \n"
     ]
    }
   ],
   "source": [
    "State = 'GA'\n",
    "AllOccsGA = AllOccs[AllOccs['state'] == State] #Separate rows by state\n",
    "AllOccsGA = AllOccsGA.dropna(subset=['occupation']).reset_index(drop=True) #Drop any rows w/o an occupation listed. \n",
    "print(AllOccsGA)"
   ]
  },
  {
   "cell_type": "code",
   "execution_count": 21,
   "id": "853ab773",
   "metadata": {
    "pycharm": {
     "name": "#%%\n"
    }
   },
   "outputs": [
    {
     "name": "stdout",
     "output_type": "stream",
     "text": [
      "      occupation     6p_total  # of people\n",
      "0            Esq   102.089033            1\n",
      "1      Gentleman  4586.660000            1\n",
      "2       Merchant    29.361296            5\n",
      "3      Merchants    39.478533            2\n",
      "4  No Occupation   373.018899           11\n"
     ]
    }
   ],
   "source": [
    "OccsTotalsGA = AllOccsGA.groupby('occupation')['6p_total'].apply(sum).reset_index() #Combine duplicate occupations.\n",
    "OccsTotalsGA['# of people'] = OccsTotalsGA['occupation'].map(AllOccsGA['occupation'].value_counts(dropna=False)) #Map # of people that belong to each occupation.\n",
    "print(OccsTotalsGA.to_string())\n",
    "\n",
    "temp_df = OccsTotalsGA[['occupation']]"
   ]
  },
  {
   "cell_type": "code",
   "execution_count": 22,
   "id": "2ea99c0b",
   "metadata": {
    "pycharm": {
     "name": "#%%\n"
    }
   },
   "outputs": [
    {
     "name": "stdout",
     "output_type": "stream",
     "text": [
      "      occupation     6p_total  # of people\n",
      "0            esq   102.089033            1\n",
      "1      gentleman  4586.660000            1\n",
      "2       merchant    29.361296            5\n",
      "3      merchants    39.478533            2\n",
      "4  no occupation   373.018899           11\n"
     ]
    },
    {
     "name": "stderr",
     "output_type": "stream",
     "text": [
      "/var/folders/5s/dvrxt95949x1pm_sjxm85lj00000gn/T/ipykernel_60320/925087446.py:4: SettingWithCopyWarning: \n",
      "A value is trying to be set on a copy of a slice from a DataFrame.\n",
      "Try using .loc[row_indexer,col_indexer] = value instead\n",
      "\n",
      "See the caveats in the documentation: https://pandas.pydata.org/pandas-docs/stable/user_guide/indexing.html#returning-a-view-versus-a-copy\n",
      "  temp_df['new occupation'] = OccsTotalsGA['occupation']\n"
     ]
    }
   ],
   "source": [
    "OccsTotalsGA = RemoveStopwords(OccsTotalsGA) \n",
    "print(OccsTotalsGA.to_string())\n",
    "\n",
    "temp_df['new occupation'] = OccsTotalsGA['occupation']\n",
    "ogoccs = pd.concat([ogoccs, temp_df])"
   ]
  },
  {
   "cell_type": "code",
   "execution_count": 23,
   "id": "c7250337",
   "metadata": {
    "pycharm": {
     "name": "#%%\n"
    }
   },
   "outputs": [
    {
     "name": "stdout",
     "output_type": "stream",
     "text": [
      "Occupation Before --> Occupation After\n",
      "--------------------------------------\n",
      "\n",
      "\n",
      "esq --> esq\n",
      "gentleman --> gentleman\n",
      "merchant --> merchant\n",
      "merchants --> merchants\n",
      "no occupation --> no occupation\n"
     ]
    }
   ],
   "source": [
    "retdict = FindRemoveConst(OccsTotalsGA['occupation'].tolist())\n",
    "ogoccs['new occupation'] = ogoccs['new occupation'].apply(lambda x: retdict.get(x, x))"
   ]
  },
  {
   "cell_type": "code",
   "execution_count": 24,
   "id": "2118797a",
   "metadata": {
    "pycharm": {
     "name": "#%%\n"
    }
   },
   "outputs": [
    {
     "name": "stdout",
     "output_type": "stream",
     "text": [
      "After Cleaning\n",
      "--------------\n",
      "\n",
      "\n",
      "   occupation     6p_total  # of people % of total people\n",
      "0         esq   102.089033            1              None\n",
      "1   gentleman  4586.660000            1              None\n",
      "2    merchant    29.361296            5              None\n",
      "3   merchants    39.478533            2              None\n",
      "4  occupation   373.018899           11              None\n",
      "\n",
      "\n",
      "After Removing Duplicates and Summing\n",
      "-------------------------------------\n",
      "\n",
      "\n",
      "   occupation     6p_total  # of people  % of total people\n",
      "0         esq   102.089033            1                  0\n",
      "1   gentleman  4586.660000            1                  0\n",
      "2    merchant    29.361296            5                  0\n",
      "3   merchants    39.478533            2                  0\n",
      "4  occupation   373.018899           11                  0\n",
      "\n",
      "\n",
      "Removed: merchants --> merchant\n",
      "\n",
      "\n",
      "After Using Fuzzy String Matching\n",
      "---------------------------------\n",
      "\n",
      "\n",
      "   occupation     6p_total  # of people  % of total people  average debt per person\n",
      "0   gentleman  4586.660000            1                5.0              4586.660000\n",
      "1  occupation   373.018899           11               55.0                33.910809\n",
      "2         esq   102.089033            1                5.0               102.089033\n",
      "3    merchant    68.839829            7               35.0                 9.834261\n",
      "\n",
      "\n"
     ]
    }
   ],
   "source": [
    "retdict, OccsTotalsGA = MergeOccupations(OccsTotalsGA)\n",
    "ogoccs['new occupation'] = ogoccs['new occupation'].apply(lambda x: retdict.get(x, x))"
   ]
  },
  {
   "cell_type": "code",
   "execution_count": 25,
   "id": "4296f136",
   "metadata": {
    "pycharm": {
     "name": "#%%\n"
    }
   },
   "outputs": [],
   "source": [
    "TurnToExcel(OccsTotalsGA, State)"
   ]
  },
  {
   "cell_type": "markdown",
   "id": "5c6f3867",
   "metadata": {
    "pycharm": {
     "name": "#%% md\n"
    }
   },
   "source": [
    "# Maryland"
   ]
  },
  {
   "cell_type": "code",
   "execution_count": 26,
   "id": "310b01f1",
   "metadata": {
    "pycharm": {
     "name": "#%%\n"
    },
    "scrolled": true
   },
   "outputs": [
    {
     "name": "stdout",
     "output_type": "stream",
     "text": [
      "     6p_Dollar  6p_Cents  6p_def_Dollar  6p_def_Cents  3p_Dollar  3p_Cents  \\\n",
      "0          1.0   58.7600            1.0       29.3800        1.0     64.17   \n",
      "1         17.0   66.5733           13.0       33.2833       14.0     76.40   \n",
      "2      26745.0   77.0000        13372.0       88.0000    50000.0     51.00   \n",
      "3       2049.0   84.0000         1024.0       91.0000     1470.0     48.00   \n",
      "4       1215.0   45.0000          607.0       72.0000     1292.0     90.00   \n",
      "..         ...       ...            ...           ...        ...       ...   \n",
      "517      303.0   12.0000          151.0       56.0000      275.0     32.00   \n",
      "518      587.0   63.0000          293.0       82.0000      437.0     41.00   \n",
      "519      283.0   33.0000          141.0       66.0000      261.0     59.00   \n",
      "520       33.0   33.0000           16.0       67.0000       31.0     67.00   \n",
      "521      124.0   33.0000           62.0       17.0000      118.0     41.00   \n",
      "\n",
      "                      town state     occupation  \\\n",
      "0                 Maryland    MD  No Occupation   \n",
      "1                Baltimore    MD            Esq   \n",
      "2              George Town    MD      Merchants   \n",
      "3    Prince Georges County    MD  No Occupation   \n",
      "4           Harford County    MD  No Occupation   \n",
      "..                     ...   ...            ...   \n",
      "517              Baltimore    MD  No Occupation   \n",
      "518               Maryland    MD  No Occupation   \n",
      "519               Maryland    MD  No Occupation   \n",
      "520               Maryland    MD     Shopkeeper   \n",
      "521               Maryland    MD       Merchant   \n",
      "\n",
      "                                        Name                 county name_type  \\\n",
      "0                          ['William Potts']                    NaN     state   \n",
      "1                        ['Samuel Sterrett']       Baltimore County      town   \n",
      "2    ['Uriah Forrest and Benjamin Stoddert']           Cecil County      town   \n",
      "3                        ['James Somervell']  Prince Georges County    county   \n",
      "4                            ['John Weston']         Harford County    county   \n",
      "..                                       ...                    ...       ...   \n",
      "517                       ['Richard Curson']       Baltimore County      town   \n",
      "518                          ['Thomas Hall']                    NaN     state   \n",
      "519                      ['Samuel Stirrett']                    NaN     state   \n",
      "520                        ['George Parker']                    NaN     state   \n",
      "521                       ['Edward Ireland']                    NaN     state   \n",
      "\n",
      "         6p_total  \n",
      "0        1.587600  \n",
      "1       17.665733  \n",
      "2    26745.770000  \n",
      "3     2049.840000  \n",
      "4     1215.450000  \n",
      "..            ...  \n",
      "517    303.120000  \n",
      "518    587.630000  \n",
      "519    283.330000  \n",
      "520     33.330000  \n",
      "521    124.330000  \n",
      "\n",
      "[522 rows x 13 columns]\n"
     ]
    }
   ],
   "source": [
    "State = 'MD'\n",
    "AllOccsMD = AllOccs[AllOccs['state'] == State] #Separate rows by state\n",
    "AllOccsMD = AllOccsMD.dropna(subset=['occupation']).reset_index(drop=True) #Drop any rows w/o an occupation listed. \n",
    "print(AllOccsMD)\n"
   ]
  },
  {
   "cell_type": "code",
   "execution_count": 27,
   "id": "45d5e94e",
   "metadata": {
    "pycharm": {
     "name": "#%%\n"
    }
   },
   "outputs": [
    {
     "name": "stdout",
     "output_type": "stream",
     "text": [
      "                         occupation       6p_total  # of people\n",
      "0     Administrator of John Johnson      22.500000            1\n",
      "1   Adminstrator of Robert Whitaker       0.000000            1\n",
      "2                               Esq      17.665733            1\n",
      "3            Executor of Moses Ruth      44.840000            1\n",
      "4        Executor of Sabret Sollars     141.030000            1\n",
      "5        Executor of Thomas Sollars     117.900000            1\n",
      "6                 Frederick Company     206.670000            1\n",
      "7                          Merchant   48636.870000           45\n",
      "8                         Merchants   29874.070000            2\n",
      "9                     No Occupation  767788.357600          465\n",
      "10                        Shoemaker    1237.070000            2\n",
      "11                       Shopkeeper      33.330000            1\n"
     ]
    }
   ],
   "source": [
    "OccsTotalsMD = AllOccsMD.groupby('occupation')['6p_total'].apply(sum).reset_index() #Combine duplicate occupations.\n",
    "OccsTotalsMD['# of people'] = OccsTotalsMD['occupation'].map(AllOccsMD['occupation'].value_counts(dropna=False)) #Map # of people that belong to each occupation.\n",
    "print(OccsTotalsMD.to_string())\n",
    "\n",
    "temp_df = OccsTotalsMD[['occupation']]"
   ]
  },
  {
   "cell_type": "code",
   "execution_count": 28,
   "id": "5a36cdfa",
   "metadata": {
    "pycharm": {
     "name": "#%%\n"
    }
   },
   "outputs": [
    {
     "name": "stdout",
     "output_type": "stream",
     "text": [
      "                      occupation       6p_total  # of people\n",
      "0     administrator john johnson      22.500000            1\n",
      "1   adminstrator robert whitaker       0.000000            1\n",
      "2                            esq      17.665733            1\n",
      "3            executor moses ruth      44.840000            1\n",
      "4        executor sabret sollars     141.030000            1\n",
      "5        executor thomas sollars     117.900000            1\n",
      "6              frederick company     206.670000            1\n",
      "7                       merchant   48636.870000           45\n",
      "8                      merchants   29874.070000            2\n",
      "9                  no occupation  767788.357600          465\n",
      "10                     shoemaker    1237.070000            2\n",
      "11                    shopkeeper      33.330000            1\n"
     ]
    },
    {
     "name": "stderr",
     "output_type": "stream",
     "text": [
      "/var/folders/5s/dvrxt95949x1pm_sjxm85lj00000gn/T/ipykernel_60320/646621115.py:2: SettingWithCopyWarning: \n",
      "A value is trying to be set on a copy of a slice from a DataFrame.\n",
      "Try using .loc[row_indexer,col_indexer] = value instead\n",
      "\n",
      "See the caveats in the documentation: https://pandas.pydata.org/pandas-docs/stable/user_guide/indexing.html#returning-a-view-versus-a-copy\n",
      "  temp_df['new occupation'] = OccsTotalsMD['occupation']\n"
     ]
    }
   ],
   "source": [
    "OccsTotalsMD = RemoveStopwords(OccsTotalsMD)\n",
    "temp_df['new occupation'] = OccsTotalsMD['occupation']\n",
    "ogoccs = pd.concat([ogoccs, temp_df])\n",
    "print(OccsTotalsMD.to_string())"
   ]
  },
  {
   "cell_type": "code",
   "execution_count": 29,
   "id": "074e9cc1",
   "metadata": {
    "pycharm": {
     "name": "#%%\n"
    }
   },
   "outputs": [
    {
     "name": "stdout",
     "output_type": "stream",
     "text": [
      "Occupation Before --> Occupation After\n",
      "--------------------------------------\n",
      "\n",
      "\n",
      "administrator john johnson --> administrator\n",
      "adminstrator robert whitaker --> adminstrator\n",
      "esq --> esq\n",
      "executor moses ruth --> executor\n",
      "executor sabret sollars --> executor\n",
      "executor thomas sollars --> executor\n",
      "frederick company --> frederick company\n",
      "merchant --> merchant\n",
      "merchants --> merchants\n",
      "no occupation --> no occupation\n",
      "shoemaker --> shoemaker\n",
      "shopkeeper --> shopkeeper\n"
     ]
    }
   ],
   "source": [
    "retdict = FindRemoveConst(OccsTotalsMD['occupation'].tolist())\n",
    "ogoccs['new occupation'] = ogoccs['new occupation'].apply(lambda x: retdict.get(x, x))"
   ]
  },
  {
   "cell_type": "code",
   "execution_count": 30,
   "id": "76676ae4",
   "metadata": {
    "pycharm": {
     "name": "#%%\n"
    }
   },
   "outputs": [
    {
     "name": "stdout",
     "output_type": "stream",
     "text": [
      "Occupations --> Potential Cleaned Occupations\n",
      "---------------------------------------------\n",
      "\n",
      "\n",
      "administrator --> administrator\n",
      "adminstrator --> adminstrator\n",
      "esq --> esq\n",
      "executor --> executor\n",
      "executor --> executor\n",
      "executor --> executor\n",
      "frederick company --> frederick\n",
      "merchant --> merchant\n",
      "merchants --> merchants\n",
      "no occupation --> occupation\n",
      "shoemaker --> shoemaker\n",
      "shopkeeper --> shopkeeper\n"
     ]
    }
   ],
   "source": [
    "retdict = PrintFutureOccupations(OccsTotalsMD['occupation'].tolist())\n",
    "ogoccs['new occupation'] = ogoccs['new occupation'].apply(lambda x: retdict.get(x, x))"
   ]
  },
  {
   "cell_type": "code",
   "execution_count": 31,
   "id": "5d307ae3",
   "metadata": {
    "pycharm": {
     "name": "#%%\n"
    }
   },
   "outputs": [
    {
     "name": "stdout",
     "output_type": "stream",
     "text": [
      "After Cleaning\n",
      "--------------\n",
      "\n",
      "\n",
      "           occupation       6p_total  # of people % of total people\n",
      "0       administrator      22.500000            1              None\n",
      "1        adminstrator       0.000000            1              None\n",
      "2                 esq      17.665733            1              None\n",
      "3            executor      44.840000            1              None\n",
      "4            executor     141.030000            1              None\n",
      "5            executor     117.900000            1              None\n",
      "6   frederick company     206.670000            1              None\n",
      "7            merchant   48636.870000           45              None\n",
      "8           merchants   29874.070000            2              None\n",
      "9          occupation  767788.357600          465              None\n",
      "10          shoemaker    1237.070000            2              None\n",
      "11         shopkeeper      33.330000            1              None\n",
      "\n",
      "\n",
      "After Removing Duplicates and Summing\n",
      "-------------------------------------\n",
      "\n",
      "\n",
      "          occupation       6p_total  # of people  % of total people\n",
      "0      administrator      22.500000            1                  0\n",
      "1       adminstrator       0.000000            1                  0\n",
      "2                esq      17.665733            1                  0\n",
      "3           executor     303.770000            3                  0\n",
      "4  frederick company     206.670000            1                  0\n",
      "5           merchant   48636.870000           45                  0\n",
      "6          merchants   29874.070000            2                  0\n",
      "7         occupation  767788.357600          465                  0\n",
      "8          shoemaker    1237.070000            2                  0\n",
      "9         shopkeeper      33.330000            1                  0\n",
      "\n",
      "\n",
      "Removed: adminstrator --> administrator\n",
      "Removed: merchants --> merchant\n",
      "\n",
      "\n",
      "After Using Fuzzy String Matching\n",
      "---------------------------------\n",
      "\n",
      "\n",
      "          occupation       6p_total  # of people  % of total people  average debt per person\n",
      "0         occupation  767788.357600          465          89.080460              1651.157758\n",
      "1           merchant   78510.940000           47           9.003831              1670.445532\n",
      "2          shoemaker    1237.070000            2           0.383142               618.535000\n",
      "3           executor     303.770000            3           0.574713               101.256667\n",
      "4  frederick company     206.670000            1           0.191571               206.670000\n",
      "5         shopkeeper      33.330000            1           0.191571                33.330000\n",
      "6      administrator      22.500000            2           0.383142                11.250000\n",
      "7                esq      17.665733            1           0.191571                17.665733\n",
      "\n",
      "\n"
     ]
    }
   ],
   "source": [
    "retdict, OccsTotalsMD = MergeOccupations(OccsTotalsMD)\n",
    "ogoccs['new occupation'] = ogoccs['new occupation'].apply(lambda x: retdict.get(x, x))"
   ]
  },
  {
   "cell_type": "code",
   "execution_count": 32,
   "id": "29c3885d",
   "metadata": {
    "pycharm": {
     "name": "#%%\n"
    }
   },
   "outputs": [],
   "source": [
    "TurnToExcel(OccsTotalsMD, State)"
   ]
  },
  {
   "cell_type": "markdown",
   "id": "085f8303",
   "metadata": {
    "pycharm": {
     "name": "#%% md\n"
    }
   },
   "source": [
    "# North Carolina"
   ]
  },
  {
   "cell_type": "code",
   "execution_count": 33,
   "id": "2aadaaef",
   "metadata": {
    "pycharm": {
     "name": "#%%\n"
    },
    "scrolled": true
   },
   "outputs": [
    {
     "name": "stdout",
     "output_type": "stream",
     "text": [
      "    6p_Dollar  6p_Cents  6p_def_Dollar  6p_def_Cents  3p_Dollar  3p_Cents  \\\n",
      "0      1865.0     58.00          932.0         74.00     1950.0      61.0   \n",
      "1        85.0     25.00           42.0         62.00       41.0      82.0   \n",
      "2       989.0     88.00          494.0         94.00     1006.0      12.0   \n",
      "3       335.0     50.00          167.0         75.00      155.0      96.0   \n",
      "4       174.0     32.00           87.0         16.00        NaN       NaN   \n",
      "5        53.0      2.00           26.0         51.00        NaN       NaN   \n",
      "6        30.0     81.00           15.0         40.00        NaN       NaN   \n",
      "7         4.0       NaN            2.0           NaN        NaN       NaN   \n",
      "8         5.0     59.00            2.0         79.00        NaN       NaN   \n",
      "9       116.0     76.00           58.0         38.00        NaN       NaN   \n",
      "10     1330.0     16.00          665.0          8.00      873.0      78.0   \n",
      "11     1577.0     20.00          788.0         60.00     1748.0      70.0   \n",
      "12     1380.0       NaN          690.0           NaN      885.0       5.0   \n",
      "13       15.0     30.00            7.0         65.00        NaN       NaN   \n",
      "14       21.0      4.00           10.0         52.00        NaN       NaN   \n",
      "15       10.0     52.00            5.0         26.00        NaN       NaN   \n",
      "16       81.0     80.00           40.0         89.00        NaN       NaN   \n",
      "17       14.0     94.00            7.0         47.00        NaN       NaN   \n",
      "18      458.0     54.00          229.0         26.00      512.0      50.0   \n",
      "19       19.0     56.00            9.0         77.00       20.0      78.0   \n",
      "20       98.0     66.00           49.0         33.00        NaN       NaN   \n",
      "21      442.0     53.00          221.0         26.00      296.0       5.0   \n",
      "22     1003.0     57.00          501.0         78.00      199.0      63.0   \n",
      "23       22.0     33.00           11.0         14.00        NaN       NaN   \n",
      "24       98.0     66.00           49.0         34.00       71.0       3.0   \n",
      "25      698.0     59.00          349.0         29.00      486.0      79.0   \n",
      "26      254.0     73.00          127.0         36.00      179.0      20.0   \n",
      "27       71.0     11.00           35.0         55.00       51.0      20.0   \n",
      "28     2008.0     37.00         1004.0         18.00     1324.0      76.0   \n",
      "29       19.0     64.00            9.0         81.00        NaN      72.0   \n",
      "30       48.0     50.00           24.0         25.00        NaN       NaN   \n",
      "31      176.0       NaN           88.0           NaN      150.0      67.0   \n",
      "32       32.0     62.00           16.0         31.00       32.0      63.0   \n",
      "33    12283.0     44.00         6141.0         71.00    10781.0      94.0   \n",
      "34       38.0     67.00           19.0         33.00        NaN       NaN   \n",
      "35      574.0     62.00          287.0         31.00       10.0      53.0   \n",
      "36      169.0      2.00           84.0         52.00      178.0      28.0   \n",
      "37      670.0     29.00          335.0         15.00      707.0       5.0   \n",
      "38       43.0     90.00           21.0         96.00       46.0      55.0   \n",
      "39      304.0     10.00          152.0         10.00      177.0      72.0   \n",
      "40       41.0     26.00           20.0         64.00       15.0      83.0   \n",
      "41       38.0     83.00           19.0         41.00       43.0      41.0   \n",
      "42       37.0      3.00           18.0         52.00       26.0      66.0   \n",
      "43       77.0     10.00           38.0         55.00       79.0      82.0   \n",
      "44      206.0      8.00          103.0          5.00       50.0      69.0   \n",
      "45       37.0     63.00           18.0         82.00       27.0      20.0   \n",
      "46       17.0     60.00            8.0         80.00       17.0      42.0   \n",
      "47      228.0     12.00          114.0          6.00      157.0      80.0   \n",
      "48      252.0     32.00          126.0         16.00        NaN       NaN   \n",
      "49     4780.0     84.00         2390.0         41.00     4998.0      96.0   \n",
      "50        0.0      0.00          892.0         66.00     1339.0       NaN   \n",
      "51      149.0     98.00           75.0           NaN        6.0       NaN   \n",
      "52     1123.0     84.00          561.0         93.00      356.0      34.0   \n",
      "53       62.0     51.00           31.0         26.00        NaN       NaN   \n",
      "54       16.0     66.67            8.0         33.33       71.0       2.0   \n",
      "55       78.0     50.00           39.0         25.00       22.0      50.0   \n",
      "56      333.0     33.00          166.0         66.00      301.0      62.0   \n",
      "57      123.0     38.00           61.0         69.00        NaN       NaN   \n",
      "58       26.0     21.00           13.0         11.00        NaN       NaN   \n",
      "\n",
      "                  town state                   occupation  \\\n",
      "0              Edenton    NC                No Occupation   \n",
      "1         Wayne County    NC                     Merchant   \n",
      "2              Edenton    NC                No Occupation   \n",
      "3              Edenton    NC                No Occupation   \n",
      "4              Newbern    NC                No Occupation   \n",
      "5         Rowan County    NC                No Occupation   \n",
      "6         Rowan County    NC                No Occupation   \n",
      "7         Rowan County    NC                No Occupation   \n",
      "8         Rowan County    NC                No Occupation   \n",
      "9        Warren County    NC                No Occupation   \n",
      "10           Tarborugh    NC                No Occupation   \n",
      "11             Newbern    NC                No Occupation   \n",
      "12    Murfrees Borough    NC                No Occupation   \n",
      "13   Perquimans County    NC                No Occupation   \n",
      "14  Mecklenburg County    NC                No Occupation   \n",
      "15       Warren County    NC                No Occupation   \n",
      "16        Fayetteville    NC                No Occupation   \n",
      "17          Wilmington    NC                No Occupation   \n",
      "18    Edgecombe County    NC                No Occupation   \n",
      "19         Pitt County    NC                No Occupation   \n",
      "20           Salisbury    NC                No Occupation   \n",
      "21             Newbern    NC                No Occupation   \n",
      "22             Edenton    NC                No Occupation   \n",
      "23             Halifax    NC                No Occupation   \n",
      "24             Halifax    NC                No Occupation   \n",
      "25             Newbern    NC                No Occupation   \n",
      "26          Washington    NC                No Occupation   \n",
      "27    Murfrees Borough    NC                No Occupation   \n",
      "28             Newbern    NC            Doctors of Physic   \n",
      "29             Newbern    NC                No Occupation   \n",
      "30            Halifax     NC                    Merchants   \n",
      "31             Edenton    NC                    Merchants   \n",
      "32             Newbern    NC                No Occupation   \n",
      "33      North Carolina    NC                    Treasurer   \n",
      "34    Currituck County    NC                No Occupation   \n",
      "35          Wilmington    NC                No Occupation   \n",
      "36             Edenton    NC                No Occupation   \n",
      "37             Edenton    NC                No Occupation   \n",
      "38             Edenton    NC                No Occupation   \n",
      "39             Edenton    NC                No Occupation   \n",
      "40        Hillsborough    NC                     Merchant   \n",
      "41   Rockingham County    NC                No Occupation   \n",
      "42             Edenton    NC                No Occupation   \n",
      "43             Edenton    NC                No Occupation   \n",
      "44             Newbern    NC                     Merchant   \n",
      "45        Hillsborough    NC                No Occupation   \n",
      "46             Edenton    NC                No Occupation   \n",
      "47             Newbern    NC                     Merchant   \n",
      "48             Newbern    NC                     Merchant   \n",
      "49                 NaN    NC  The State of North Carolina   \n",
      "50      North Carolina    NC      Asse of John B Ashe Exe   \n",
      "51      North Carolina    NC                No Occupation   \n",
      "52      North Carolina    NC                No Occupation   \n",
      "53      North Carolina    NC                       Farmer   \n",
      "54      North Carolina    NC                No Occupation   \n",
      "55      North Carolina    NC                No Occupation   \n",
      "56      North Carolina    NC                No Occupation   \n",
      "57      North Carolina    NC                No Occupation   \n",
      "58      North Carolina    NC                No Occupation   \n",
      "\n",
      "                                       Name              county name_type  \\\n",
      "0                       ['Nathaniel Allen']       Chowan County      town   \n",
      "1                          ['Joseph Green']        Wayne County    county   \n",
      "2                        ['Josiah Collins']       Chowan County      town   \n",
      "3                        ['Josiah Collins']       Chowan County      town   \n",
      "4                    ['John Council Bryan']       Craven County      town   \n",
      "5                         ['John Lowrance']        Rowan County    county   \n",
      "6                        ['Richard Graham']        Rowan County    county   \n",
      "7                       ['William Brandon']        Rowan County    county   \n",
      "8                       ['William Wallace']        Rowan County    county   \n",
      "9    ['Philemon Hawkins (son of Philemon)']       Warren County    county   \n",
      "10                         ['John  Ingles']    Edgecombe County      town   \n",
      "11                      ['Margaret Gaston']       Craven County      town   \n",
      "12                        ['Hardy Murfree']     Hertford County      town   \n",
      "13                       ['Robert Reddick']   Perquimans County    county   \n",
      "14                     ['Alexander Nelson']  Mecklenburg County    county   \n",
      "15  ['Philemon Hawkins ( Son of John Jun)']       Warren County    county   \n",
      "16                          ['John Ingram']   Cumberland County      town   \n",
      "17                        ['John Campbell']  New Hanover County      town   \n",
      "18                        ['Elnathan Tart']    Edgecombe County    county   \n",
      "19                           ['John Euson']         Pitt County    county   \n",
      "20                          ['Lewis Beard']        Rowan County      town   \n",
      "21                           ['Isaac Cole']       Craven County      town   \n",
      "22                       ['Josiah Collins']       Chowan County      town   \n",
      "23                        ['Bassett Stith']      Halifax County      town   \n",
      "24                        ['Bassett Stith']      Halifax County      town   \n",
      "25                           ['Isaac Cole']       Craven County      town   \n",
      "26                        ['Thomas Blount']     Beaufort County      town   \n",
      "27                        ['Hardy Murfree']     Hertford County      town   \n",
      "28                      ['William McClure']       Craven County      town   \n",
      "29                           ['Isaac Cole']       Craven County      town   \n",
      "30                       ['Amis and Burt ']      Halifax County      town   \n",
      "31                   ['William Littlejohn']       Chowan County      town   \n",
      "32                         ['Betty Wright']       Craven County      town   \n",
      "33                         ['John Haywood']                 NaN     state   \n",
      "34                       ['John Humphries']    Currituck County    county   \n",
      "35                          ['John Walker']  New Hanover County      town   \n",
      "36                      ['Nathaniel Allen']       Chowan County      town   \n",
      "37                      ['Nathaniel Allen']       Chowan County      town   \n",
      "38                      ['Nathaniel Allen']       Chowan County      town   \n",
      "39                       ['Josiah Collins']       Chowan County      town   \n",
      "40                            ['John Hogg']       Orange County      town   \n",
      "41                           ['John Linox']   Rockingham County    county   \n",
      "42                         ['Jacob Blount']       Chowan County      town   \n",
      "43                       ['Josiah Collins']       Chowan County      town   \n",
      "44                        ['Joseph Tagert']       Craven County      town   \n",
      "45                           ['John Casey']       Orange County      town   \n",
      "46                     ['Samuel Dickenson']       Chowan County      town   \n",
      "47                           ['Isaac Cole']       Craven County      town   \n",
      "48                           ['Isaac Cole']       Craven County      town   \n",
      "49                         ['John Haywood']                 NaN     state   \n",
      "50                 ['Thomas Edward Sumner']                 NaN     state   \n",
      "51                      ['Hugh Williamson']                 NaN     state   \n",
      "52                            ['Adam Hope']                 NaN     state   \n",
      "53                          ['George Idol']                 NaN     state   \n",
      "54                    ['Benjamin Leacraft']                 NaN     state   \n",
      "55                          ['John Nesbit']                 NaN     state   \n",
      "56                          ['John Walker']                 NaN     state   \n",
      "57                          ['John Nesbit']                 NaN     state   \n",
      "58                          ['John Nesbit']                 NaN     state   \n",
      "\n",
      "      6p_total  \n",
      "0    1865.5800  \n",
      "1      85.2500  \n",
      "2     989.8800  \n",
      "3     335.5000  \n",
      "4     174.3200  \n",
      "5      53.0200  \n",
      "6      30.8100  \n",
      "7          NaN  \n",
      "8       5.5900  \n",
      "9     116.7600  \n",
      "10   1330.1600  \n",
      "11   1577.2000  \n",
      "12         NaN  \n",
      "13     15.3000  \n",
      "14     21.0400  \n",
      "15     10.5200  \n",
      "16     81.8000  \n",
      "17     14.9400  \n",
      "18    458.5400  \n",
      "19     19.5600  \n",
      "20     98.6600  \n",
      "21    442.5300  \n",
      "22   1003.5700  \n",
      "23     22.3300  \n",
      "24     98.6600  \n",
      "25    698.5900  \n",
      "26    254.7300  \n",
      "27     71.1100  \n",
      "28   2008.3700  \n",
      "29     19.6400  \n",
      "30     48.5000  \n",
      "31         NaN  \n",
      "32     32.6200  \n",
      "33  12283.4400  \n",
      "34     38.6700  \n",
      "35    574.6200  \n",
      "36    169.0200  \n",
      "37    670.2900  \n",
      "38     43.9000  \n",
      "39    304.1000  \n",
      "40     41.2600  \n",
      "41     38.8300  \n",
      "42     37.0300  \n",
      "43     77.1000  \n",
      "44    206.0800  \n",
      "45     37.6300  \n",
      "46     17.6000  \n",
      "47    228.1200  \n",
      "48    252.3200  \n",
      "49   4780.8400  \n",
      "50      0.0000  \n",
      "51    149.9800  \n",
      "52   1123.8400  \n",
      "53     62.5100  \n",
      "54     16.6667  \n",
      "55     78.5000  \n",
      "56    333.3300  \n",
      "57    123.3800  \n",
      "58     26.2100  \n"
     ]
    }
   ],
   "source": [
    "State = 'NC'\n",
    "AllOccsNC = AllOccs[AllOccs['state'] == State] #Separate rows by state\n",
    "AllOccsNC = AllOccsNC.dropna(subset=['occupation']).reset_index(drop=True) #Drop any rows w/o an occupation listed. \n",
    "print(AllOccsNC)"
   ]
  },
  {
   "cell_type": "code",
   "execution_count": 34,
   "id": "d17c5041",
   "metadata": {
    "pycharm": {
     "name": "#%%\n"
    }
   },
   "outputs": [
    {
     "name": "stdout",
     "output_type": "stream",
     "text": [
      "                    occupation    6p_total  # of people\n",
      "0      Asse of John B Ashe Exe      0.0000            1\n",
      "1            Doctors of Physic   2008.3700            1\n",
      "2                       Farmer     62.5100            1\n",
      "3                     Merchant    813.0300            5\n",
      "4                    Merchants     48.5000            2\n",
      "5                No Occupation  13703.6567           47\n",
      "6  The State of North Carolina   4780.8400            1\n",
      "7                    Treasurer  12283.4400            1\n"
     ]
    }
   ],
   "source": [
    "OccsTotalsNC = AllOccsNC.groupby('occupation')['6p_total'].apply(sum).reset_index() #Combine duplicate occupations.\n",
    "OccsTotalsNC['# of people'] = OccsTotalsNC['occupation'].map(AllOccsNC['occupation'].value_counts(dropna=False)) #Map # of people that belong to each occupation.\n",
    "print(OccsTotalsNC.to_string())\n",
    "\n",
    "temp_df = OccsTotalsNC[['occupation']]"
   ]
  },
  {
   "cell_type": "code",
   "execution_count": 35,
   "id": "82b87b9b",
   "metadata": {
    "pycharm": {
     "name": "#%%\n"
    }
   },
   "outputs": [
    {
     "name": "stdout",
     "output_type": "stream",
     "text": [
      "                 occupation    6p_total  # of people\n",
      "0      asse john b ashe exe      0.0000            1\n",
      "1            doctors physic   2008.3700            1\n",
      "2                    farmer     62.5100            1\n",
      "3                  merchant    813.0300            5\n",
      "4                 merchants     48.5000            2\n",
      "5             no occupation  13703.6567           47\n",
      "6  the state north carolina   4780.8400            1\n",
      "7                 treasurer  12283.4400            1\n"
     ]
    },
    {
     "name": "stderr",
     "output_type": "stream",
     "text": [
      "/var/folders/5s/dvrxt95949x1pm_sjxm85lj00000gn/T/ipykernel_60320/3990776363.py:4: SettingWithCopyWarning: \n",
      "A value is trying to be set on a copy of a slice from a DataFrame.\n",
      "Try using .loc[row_indexer,col_indexer] = value instead\n",
      "\n",
      "See the caveats in the documentation: https://pandas.pydata.org/pandas-docs/stable/user_guide/indexing.html#returning-a-view-versus-a-copy\n",
      "  temp_df['new occupation'] = OccsTotalsNC['occupation']\n"
     ]
    }
   ],
   "source": [
    "OccsTotalsNC = RemoveStopwords(OccsTotalsNC) \n",
    "print(OccsTotalsNC.to_string())\n",
    "\n",
    "temp_df['new occupation'] = OccsTotalsNC['occupation']\n",
    "ogoccs = pd.concat([ogoccs, temp_df])"
   ]
  },
  {
   "cell_type": "code",
   "execution_count": 36,
   "id": "a000f84d",
   "metadata": {
    "pycharm": {
     "name": "#%%\n"
    }
   },
   "outputs": [
    {
     "name": "stdout",
     "output_type": "stream",
     "text": [
      "Occupation Before --> Occupation After\n",
      "--------------------------------------\n",
      "\n",
      "\n",
      "asse john b ashe exe --> asse john b\n",
      "doctors physic --> doctors physic\n",
      "farmer --> farmer\n",
      "merchant --> merchant\n",
      "merchants --> merchants\n",
      "no occupation --> no occupation\n",
      "the state north carolina --> the state\n",
      "treasurer --> treasurer\n"
     ]
    }
   ],
   "source": [
    "retdict = FindRemoveConst(OccsTotalsNC['occupation'].tolist())\n",
    "ogoccs['new occupation'] = ogoccs['new occupation'].apply(lambda x: retdict.get(x, x))"
   ]
  },
  {
   "cell_type": "code",
   "execution_count": 37,
   "id": "1ce48e7b",
   "metadata": {
    "pycharm": {
     "name": "#%%\n"
    }
   },
   "outputs": [],
   "source": [
    "Remove = 0"
   ]
  },
  {
   "cell_type": "code",
   "execution_count": 38,
   "id": "09daca6e",
   "metadata": {
    "pycharm": {
     "name": "#%%\n"
    }
   },
   "outputs": [
    {
     "name": "stdout",
     "output_type": "stream",
     "text": [
      "Occupations --> Potential Cleaned Occupations\n",
      "---------------------------------------------\n",
      "\n",
      "\n",
      "asse john b ashe exe --> asse\n",
      "doctors physic --> doctors\n",
      "farmer --> farmer\n",
      "merchant --> merchant\n",
      "merchants --> merchants\n",
      "no occupation --> occupation\n",
      "the state north carolina --> carolina\n",
      "treasurer --> treasurer\n"
     ]
    }
   ],
   "source": [
    "retdict = PrintFutureOccupations(OccsTotalsNC['occupation'].tolist())\n",
    "ogoccs['new occupation'] = ogoccs['new occupation'].apply(lambda x: retdict.get(x, x))"
   ]
  },
  {
   "cell_type": "code",
   "execution_count": 39,
   "id": "0e6d9351",
   "metadata": {
    "pycharm": {
     "name": "#%%\n"
    }
   },
   "outputs": [
    {
     "name": "stdout",
     "output_type": "stream",
     "text": [
      "After Cleaning\n",
      "--------------\n",
      "\n",
      "\n",
      "   occupation    6p_total  # of people % of total people\n",
      "0   executors      0.0000            1              None\n",
      "1     doctors   2008.3700            1              None\n",
      "2      farmer     62.5100            1              None\n",
      "3    merchant    813.0300            5              None\n",
      "4   merchants     48.5000            2              None\n",
      "5  occupation  13703.6567           47              None\n",
      "6        None   4780.8400            1              None\n",
      "7   treasurer  12283.4400            1              None\n",
      "\n",
      "\n",
      "After Removing Duplicates and Summing\n",
      "-------------------------------------\n",
      "\n",
      "\n",
      "   occupation    6p_total  # of people  % of total people\n",
      "0     doctors   2008.3700            1                  0\n",
      "1   executors      0.0000            1                  0\n",
      "2      farmer     62.5100            1                  0\n",
      "3    merchant    813.0300            5                  0\n",
      "4   merchants     48.5000            2                  0\n",
      "5  occupation  13703.6567           47                  0\n",
      "6   treasurer  12283.4400            1                  0\n",
      "\n",
      "\n",
      "Removed: merchants --> merchant\n",
      "\n",
      "\n",
      "After Using Fuzzy String Matching\n",
      "---------------------------------\n",
      "\n",
      "\n",
      "   occupation    6p_total  # of people  % of total people  average debt per person\n",
      "0  occupation  13703.6567           47          81.034483               291.567164\n",
      "1   treasurer  12283.4400            1           1.724138             12283.440000\n",
      "2     doctors   2008.3700            1           1.724138              2008.370000\n",
      "3    merchant    861.5300            7          12.068966               123.075714\n",
      "4      farmer     62.5100            1           1.724138                62.510000\n",
      "5   executors      0.0000            1           1.724138                 0.000000\n",
      "\n",
      "\n"
     ]
    }
   ],
   "source": [
    "retdict, OccsTotalsNC = MergeOccupations(OccsTotalsNC)\n",
    "ogoccs['new occupation'] = ogoccs['new occupation'].apply(lambda x: retdict.get(x, x))"
   ]
  },
  {
   "cell_type": "code",
   "execution_count": 40,
   "id": "df729e8d",
   "metadata": {
    "pycharm": {
     "name": "#%%\n"
    }
   },
   "outputs": [],
   "source": [
    "TurnToExcel(OccsTotalsNC, State)"
   ]
  },
  {
   "cell_type": "markdown",
   "id": "8d508c76",
   "metadata": {
    "pycharm": {
     "name": "#%% md\n"
    }
   },
   "source": [
    "# New Hampshire"
   ]
  },
  {
   "cell_type": "code",
   "execution_count": 41,
   "id": "f1f7956a",
   "metadata": {
    "pycharm": {
     "name": "#%%\n"
    },
    "scrolled": true
   },
   "outputs": [
    {
     "name": "stdout",
     "output_type": "stream",
     "text": [
      "     6p_Dollar  6p_Cents  6p_def_Dollar  6p_def_Cents  3p_Dollar  3p_Cents  \\\n",
      "0        371.0      45.0          185.0          72.0      141.0      71.0   \n",
      "1        200.0       NaN          100.0           NaN       54.0       NaN   \n",
      "2        778.0       4.0          389.0           2.0      288.0       NaN   \n",
      "3        222.0      78.0          111.0          40.0        NaN       NaN   \n",
      "4         68.0      72.0           34.0          36.0       73.0      24.0   \n",
      "..         ...       ...            ...           ...        ...       ...   \n",
      "169      187.0       2.0           93.0          51.0      146.0      70.0   \n",
      "170       12.0      73.0            6.0          37.0        0.0       0.0   \n",
      "171        9.0      16.0            4.0          58.0       10.0      16.0   \n",
      "172      168.0      28.0           84.0          13.0       60.0      54.0   \n",
      "173       40.0      67.0           20.0          33.0       25.0      96.0   \n",
      "\n",
      "                                  town state     occupation  \\\n",
      "0    Charleston State of New Hampshire    NH  No Occupation   \n",
      "1                           Portsmouth    NH          Widow   \n",
      "2                      North Hampshire    NH         Farmer   \n",
      "3             Portsmouth New Hampshire    NH  No Occupation   \n",
      "4               State of New Hampshire    NH  No Occupation   \n",
      "..                                 ...   ...            ...   \n",
      "169                         Portsmouth    NH      Physician   \n",
      "170                         Portsmouth    NH        Esquire   \n",
      "171                         Portsmouth    NH         Trader   \n",
      "172           Newport in New Hampshire    NH  No Occupation   \n",
      "173                         Alexandria    NH       Merchant   \n",
      "\n",
      "                                              Name             county  \\\n",
      "0                                 ['James Rogers']    Cheshire County   \n",
      "1    ['Elizabeth Sherburne', 'Elizabeth Sherburn']  Rockingham County   \n",
      "2                ['Amos Shephard', 'Amos Shepard']                NaN   \n",
      "3                               ['Samuel Gerrish']  Rockingham County   \n",
      "4                              ['Constant Storrs']                NaN   \n",
      "..                                             ...                ...   \n",
      "169                          ['Nathaniel A Haven']  Rockingham County   \n",
      "170                         ['Edward L Livermore']  Rockingham County   \n",
      "171                           ['Richard Billings']  Rockingham County   \n",
      "172                           ['Jeremiah Jenckes']    Cheshire County   \n",
      "173                 ['John Munray', 'John Murray']     Grafton County   \n",
      "\n",
      "      name_type  6p_total  \n",
      "0         state    371.45  \n",
      "1          town       NaN  \n",
      "2    state_flag    778.04  \n",
      "3          town    222.78  \n",
      "4         state     68.72  \n",
      "..          ...       ...  \n",
      "169        town    187.02  \n",
      "170        town     12.73  \n",
      "171        town      9.16  \n",
      "172        town    168.28  \n",
      "173        town     40.67  \n",
      "\n",
      "[174 rows x 13 columns]\n"
     ]
    }
   ],
   "source": [
    "State = 'NH'\n",
    "AllOccsNH = AllOccs[AllOccs['state'] == State] #Separate rows by state\n",
    "AllOccsNH = AllOccsNH.dropna(subset=['occupation']).reset_index(drop=True) #Drop any rows w/o an occupation listed. \n",
    "print(AllOccsNH)"
   ]
  },
  {
   "cell_type": "code",
   "execution_count": 42,
   "id": "e32bb06e",
   "metadata": {
    "pycharm": {
     "name": "#%%\n"
    }
   },
   "outputs": [
    {
     "name": "stdout",
     "output_type": "stream",
     "text": [
      "       occupation  6p_total  # of people\n",
      "0           Baker   2159.04            1\n",
      "1      Blacksmith     54.88            1\n",
      "2           Clerk    715.60            7\n",
      "3      Cordwainer    742.05            2\n",
      "4         Esquire  61539.89           66\n",
      "5          Farmer    778.04            1\n",
      "6       Gentleman   3603.06            6\n",
      "7       Goldsmith    871.32            1\n",
      "8          Joiner    106.61            2\n",
      "9        Marniner    785.62            2\n",
      "10       Merchant  29715.41           26\n",
      "11  No Occupation  48957.43            8\n",
      "12        Painter     48.61            1\n",
      "13      Physician   7111.43           18\n",
      "14       Spinster     89.13            1\n",
      "15         Trader   2807.27            8\n",
      "16      Treasurer    149.62            1\n",
      "17          Widow   8790.45           10\n",
      "18         Yeoman   3397.94           12\n"
     ]
    }
   ],
   "source": [
    "OccsTotalsNH = AllOccsNH.groupby('occupation')['6p_total'].apply(sum).reset_index() #Combine duplicate occupations.\n",
    "OccsTotalsNH['# of people'] = OccsTotalsNH['occupation'].map(AllOccsNH['occupation'].value_counts(dropna=False)) #Map # of people that belong to each occupation.\n",
    "print(OccsTotalsNH.to_string())\n",
    "\n",
    "temp_df = OccsTotalsNH[['occupation']]"
   ]
  },
  {
   "cell_type": "code",
   "execution_count": 43,
   "id": "928ea4f4",
   "metadata": {
    "pycharm": {
     "name": "#%%\n"
    }
   },
   "outputs": [
    {
     "name": "stdout",
     "output_type": "stream",
     "text": [
      "       occupation  6p_total  # of people\n",
      "0           baker   2159.04            1\n",
      "1      blacksmith     54.88            1\n",
      "2           clerk    715.60            7\n",
      "3      cordwainer    742.05            2\n",
      "4         esquire  61539.89           66\n",
      "5          farmer    778.04            1\n",
      "6       gentleman   3603.06            6\n",
      "7       goldsmith    871.32            1\n",
      "8          joiner    106.61            2\n",
      "9        marniner    785.62            2\n",
      "10       merchant  29715.41           26\n",
      "11  no occupation  48957.43            8\n",
      "12        painter     48.61            1\n",
      "13      physician   7111.43           18\n",
      "14       spinster     89.13            1\n",
      "15         trader   2807.27            8\n",
      "16      treasurer    149.62            1\n",
      "17          widow   8790.45           10\n",
      "18         yeoman   3397.94           12\n"
     ]
    },
    {
     "name": "stderr",
     "output_type": "stream",
     "text": [
      "/var/folders/5s/dvrxt95949x1pm_sjxm85lj00000gn/T/ipykernel_60320/1513769828.py:4: SettingWithCopyWarning: \n",
      "A value is trying to be set on a copy of a slice from a DataFrame.\n",
      "Try using .loc[row_indexer,col_indexer] = value instead\n",
      "\n",
      "See the caveats in the documentation: https://pandas.pydata.org/pandas-docs/stable/user_guide/indexing.html#returning-a-view-versus-a-copy\n",
      "  temp_df['new occupation'] = OccsTotalsNH['occupation']\n"
     ]
    }
   ],
   "source": [
    "OccsTotalsNH = RemoveStopwords(OccsTotalsNH) \n",
    "print(OccsTotalsNH.to_string())\n",
    "\n",
    "temp_df['new occupation'] = OccsTotalsNH['occupation']\n",
    "ogoccs = pd.concat([ogoccs, temp_df])"
   ]
  },
  {
   "cell_type": "code",
   "execution_count": 44,
   "id": "83dd8ae7",
   "metadata": {
    "pycharm": {
     "name": "#%%\n"
    },
    "scrolled": true
   },
   "outputs": [
    {
     "name": "stdout",
     "output_type": "stream",
     "text": [
      "Occupation Before --> Occupation After\n",
      "--------------------------------------\n",
      "\n",
      "\n",
      "baker --> baker\n",
      "blacksmith --> blacksmith\n",
      "clerk --> clerk\n",
      "cordwainer --> cordwainer\n",
      "esquire --> esquire\n",
      "farmer --> farmer\n",
      "gentleman --> gentleman\n",
      "goldsmith --> goldsmith\n",
      "joiner --> joiner\n",
      "marniner --> marniner\n",
      "merchant --> merchant\n",
      "no occupation --> no occupation\n",
      "painter --> painter\n",
      "physician --> physician\n",
      "spinster --> spinster\n",
      "trader --> trader\n",
      "treasurer --> treasurer\n",
      "widow --> widow\n",
      "yeoman --> yeoman\n"
     ]
    }
   ],
   "source": [
    "retdict = FindRemoveConst(OccsTotalsNH['occupation'].tolist())\n",
    "ogoccs['new occupation'] = ogoccs['new occupation'].apply(lambda x: retdict.get(x, x))"
   ]
  },
  {
   "cell_type": "code",
   "execution_count": 45,
   "id": "f7d9fdcd",
   "metadata": {
    "pycharm": {
     "name": "#%%\n"
    },
    "scrolled": true
   },
   "outputs": [
    {
     "name": "stdout",
     "output_type": "stream",
     "text": [
      "Occupations --> Potential Cleaned Occupations\n",
      "---------------------------------------------\n",
      "\n",
      "\n",
      "baker --> baker\n",
      "blacksmith --> blacksmith\n",
      "clerk --> clerk\n",
      "cordwainer --> cordwainer\n",
      "esquire --> esquire\n",
      "farmer --> farmer\n",
      "gentleman --> gentleman\n",
      "goldsmith --> goldsmith\n",
      "joiner --> joiner\n",
      "marniner --> marniner\n",
      "merchant --> merchant\n",
      "no occupation --> occupation\n",
      "painter --> painter\n",
      "physician --> physician\n",
      "spinster --> spinster\n",
      "trader --> trader\n",
      "treasurer --> treasurer\n",
      "widow --> widow\n",
      "yeoman --> yeoman\n"
     ]
    }
   ],
   "source": [
    "retdict = PrintFutureOccupations(OccsTotalsNH['occupation'].tolist())\n",
    "ogoccs['new occupation'] = ogoccs['new occupation'].apply(lambda x: retdict.get(x, x))"
   ]
  },
  {
   "cell_type": "code",
   "execution_count": 46,
   "id": "8d8621d6",
   "metadata": {
    "pycharm": {
     "name": "#%%\n"
    }
   },
   "outputs": [
    {
     "name": "stdout",
     "output_type": "stream",
     "text": [
      "After Cleaning\n",
      "--------------\n",
      "\n",
      "\n",
      "    occupation  6p_total  # of people % of total people\n",
      "0        baker   2159.04            1              None\n",
      "1   blacksmith     54.88            1              None\n",
      "2        clerk    715.60            7              None\n",
      "3    shoemaker    742.05            2              None\n",
      "4          esq  61539.89           66              None\n",
      "5       farmer    778.04            1              None\n",
      "6    gentleman   3603.06            6              None\n",
      "7    goldsmith    871.32            1              None\n",
      "8    carpenter    106.61            2              None\n",
      "9     marniner    785.62            2              None\n",
      "10    merchant  29715.41           26              None\n",
      "11  occupation  48957.43            8              None\n",
      "12     painter     48.61            1              None\n",
      "13      doctor   7111.43           18              None\n",
      "14    spinster     89.13            1              None\n",
      "15      trader   2807.27            8              None\n",
      "16   treasurer    149.62            1              None\n",
      "17       widow   8790.45           10              None\n",
      "18      farmer   3397.94           12              None\n",
      "\n",
      "\n",
      "After Removing Duplicates and Summing\n",
      "-------------------------------------\n",
      "\n",
      "\n",
      "    occupation  6p_total  # of people  % of total people\n",
      "0        baker   2159.04            1                  0\n",
      "1   blacksmith     54.88            1                  0\n",
      "2    carpenter    106.61            2                  0\n",
      "3        clerk    715.60            7                  0\n",
      "4       doctor   7111.43           18                  0\n",
      "5          esq  61539.89           66                  0\n",
      "6       farmer   4175.98           13                  0\n",
      "7    gentleman   3603.06            6                  0\n",
      "8    goldsmith    871.32            1                  0\n",
      "9     marniner    785.62            2                  0\n",
      "10    merchant  29715.41           26                  0\n",
      "11  occupation  48957.43            8                  0\n",
      "12     painter     48.61            1                  0\n",
      "13   shoemaker    742.05            2                  0\n",
      "14    spinster     89.13            1                  0\n",
      "15      trader   2807.27            8                  0\n",
      "16   treasurer    149.62            1                  0\n",
      "17       widow   8790.45           10                  0\n",
      "\n",
      "\n",
      "\n",
      "\n",
      "After Using Fuzzy String Matching\n",
      "---------------------------------\n",
      "\n",
      "\n",
      "    occupation  6p_total  # of people  % of total people  average debt per person\n",
      "0          esq  61539.89           66          37.931034               932.422576\n",
      "1   occupation  48957.43            8           4.597701              6119.678750\n",
      "2     merchant  29715.41           26          14.942529              1142.900385\n",
      "3        widow   8790.45           10           5.747126               879.045000\n",
      "4       doctor   7111.43           18          10.344828               395.079444\n",
      "5       farmer   4175.98           13           7.471264               321.229231\n",
      "6    gentleman   3603.06            6           3.448276               600.510000\n",
      "7       trader   2807.27            8           4.597701               350.908750\n",
      "8        baker   2159.04            1           0.574713              2159.040000\n",
      "9    goldsmith    871.32            1           0.574713               871.320000\n",
      "10    marniner    785.62            2           1.149425               392.810000\n",
      "11   shoemaker    742.05            2           1.149425               371.025000\n",
      "12       clerk    715.60            7           4.022989               102.228571\n",
      "13   treasurer    149.62            1           0.574713               149.620000\n",
      "14   carpenter    106.61            2           1.149425                53.305000\n",
      "15    spinster     89.13            1           0.574713                89.130000\n",
      "16  blacksmith     54.88            1           0.574713                54.880000\n",
      "17     painter     48.61            1           0.574713                48.610000\n",
      "\n",
      "\n"
     ]
    }
   ],
   "source": [
    "retdict, OccsTotalsNH = MergeOccupations(OccsTotalsNH)\n",
    "ogoccs['new occupation'] = ogoccs['new occupation'].apply(lambda x: retdict.get(x, x))"
   ]
  },
  {
   "cell_type": "code",
   "execution_count": 47,
   "id": "a1220d8c",
   "metadata": {
    "pycharm": {
     "name": "#%%\n"
    }
   },
   "outputs": [],
   "source": [
    "TurnToExcel(OccsTotalsNH, State)"
   ]
  },
  {
   "cell_type": "markdown",
   "id": "5c8cfa44",
   "metadata": {
    "pycharm": {
     "name": "#%% md\n"
    }
   },
   "source": [
    "# New Jersey"
   ]
  },
  {
   "cell_type": "code",
   "execution_count": 48,
   "id": "37b4b59e",
   "metadata": {
    "pycharm": {
     "name": "#%%\n"
    },
    "scrolled": true
   },
   "outputs": [
    {
     "name": "stdout",
     "output_type": "stream",
     "text": [
      "    6p_Dollar  6p_Cents  6p_def_Dollar  6p_def_Cents  3p_Dollar  3p_Cents  \\\n",
      "0       575.0      62.0          287.0          81.0      155.0      41.0   \n",
      "1       151.0      40.0           75.0          70.0      119.0       8.0   \n",
      "2       188.0      14.0           94.0           7.0      210.0       2.0   \n",
      "3      3676.0      44.0         1838.0          22.0     2106.0      11.0   \n",
      "4       124.0      21.0           62.0          11.0       56.0      20.0   \n",
      "5      1324.0      81.0          662.0          41.0      675.0      52.0   \n",
      "6       844.0      44.0          422.0          23.0      527.0      57.0   \n",
      "7       161.0      74.0           80.0          87.0       72.0      83.0   \n",
      "8        91.0      66.0           45.0          84.0       44.0       5.0   \n",
      "9       750.0      82.0          375.0          42.0      407.0      55.0   \n",
      "10      524.0      11.0          262.0           6.0      278.0      48.0   \n",
      "11      131.0      66.0           65.0          84.0       62.0      95.0   \n",
      "12      448.0      33.0          224.0          17.0      193.0      31.0   \n",
      "13     4326.0      79.0         2163.0          39.0     1945.0      97.0   \n",
      "14       29.0      56.0           14.0          78.0       15.0      63.0   \n",
      "15      110.0      10.0           55.0           6.0       59.0      32.0   \n",
      "16      239.0      62.0          119.0          81.0      159.0      41.0   \n",
      "17     1104.0      78.0          552.0          40.0     1071.0      62.0   \n",
      "18     1325.0      68.0          662.0          85.0      714.0      50.0   \n",
      "19       59.0      55.0           29.0          78.0        NaN       NaN   \n",
      "20      700.0      38.0          350.0          20.0      398.0      40.0   \n",
      "21      578.0       9.0          289.0           5.0      333.0      68.0   \n",
      "22     1168.0      56.0          584.0          29.0      543.0      23.0   \n",
      "23      190.0      71.0           95.0          36.0       58.0      96.0   \n",
      "24      537.0      86.0          268.0          94.0      299.0      53.0   \n",
      "25      384.0      34.0          192.0          65.0      156.0      34.0   \n",
      "26       74.0      88.0           37.0          45.0       39.0      55.0   \n",
      "27      331.0      96.0          165.0          99.0      167.0      55.0   \n",
      "28     1183.0      71.0          591.0           NaN      319.0      60.0   \n",
      "29      238.0      15.0          119.0           7.0      126.0      26.0   \n",
      "30       20.0       NaN           10.0           NaN       17.0       6.0   \n",
      "31      303.0      89.0          151.0          95.0      198.0      80.0   \n",
      "32     5017.0       5.0         2508.0          52.0     2053.0      54.0   \n",
      "33     1046.0      10.0          523.0           5.0      297.0      74.0   \n",
      "34      235.0       1.0          117.0          51.0      139.0      10.0   \n",
      "35      311.0      99.0          155.0          99.0      248.0      12.0   \n",
      "36        3.0      34.0            1.0          66.0        2.0      90.0   \n",
      "37      184.0       NaN           92.0           NaN      437.0       6.0   \n",
      "38       16.0      67.0            8.0          33.0        8.0      57.0   \n",
      "39       36.0       2.0           18.0           1.0       21.0      42.0   \n",
      "\n",
      "                          town state  \\\n",
      "0                   New Jersey    NJ   \n",
      "1        Huntington New Jersey    NJ   \n",
      "2                   New Jersey    NJ   \n",
      "3                   New Jersey    NJ   \n",
      "4                   New Jersey    NJ   \n",
      "5                   New Jersey    NJ   \n",
      "6                   New Jersey    NJ   \n",
      "7         Brunswick New Jersey    NJ   \n",
      "8                   New Jersey    NJ   \n",
      "9                   New Jersey    NJ   \n",
      "10                  New Jersey    NJ   \n",
      "11                  New Jersey    NJ   \n",
      "12                  New Jersey    NJ   \n",
      "13                  New Jersey    NJ   \n",
      "14                  New Jersey    NJ   \n",
      "15                  New Jersey    NJ   \n",
      "16                  New Jersey    NJ   \n",
      "17                  New Jersey    NJ   \n",
      "18                  New Jersey    NJ   \n",
      "19         Cape May New Jersey    NJ   \n",
      "20                  New Jersey    NJ   \n",
      "21          Trenton New Jersey    NJ   \n",
      "22    New Brunswick New Jersey    NJ   \n",
      "23     Mount Holley New Jersey    NJ   \n",
      "24          Trenton New Jersey    NJ   \n",
      "25                  New Jersey    NJ   \n",
      "26        Middlesex New Jersey    NJ   \n",
      "27                  New Jersey    NJ   \n",
      "28        Princeton New Jersey    NJ   \n",
      "29                  New Jersey    NJ   \n",
      "30       Berlington New Jersey    NJ   \n",
      "31                  New Jersey    NJ   \n",
      "32                  New Jersey    NJ   \n",
      "33                  New Jersey    NJ   \n",
      "34  Monmouth County New Jersey    NJ   \n",
      "35  Newton Township New Jersey    NJ   \n",
      "36                    Cape May    NJ   \n",
      "37                  New Jersey    NJ   \n",
      "38  Somerset County New Jersey    NJ   \n",
      "39                  New Jersey    NJ   \n",
      "\n",
      "                                           occupation  \\\n",
      "0                                       No Occupation   \n",
      "1                                       No Occupation   \n",
      "2                                       No Occupation   \n",
      "3                                       No Occupation   \n",
      "4                                       No Occupation   \n",
      "5                Executor of Michael De Mott deceased   \n",
      "6                                       No Occupation   \n",
      "7                                       No Occupation   \n",
      "8                                       No Occupation   \n",
      "9                                       No Occupation   \n",
      "10                                      No Occupation   \n",
      "11                                      No Occupation   \n",
      "12                                      No Occupation   \n",
      "13                                      No Occupation   \n",
      "14                                      No Occupation   \n",
      "15                                      No Occupation   \n",
      "16                                      No Occupation   \n",
      "17                                      No Occupation   \n",
      "18                                    Attorney at law   \n",
      "19                                      No Occupation   \n",
      "20                                      No Occupation   \n",
      "21                                      No Occupation   \n",
      "22                                      No Occupation   \n",
      "23                                      No Occupation   \n",
      "24                                      No Occupation   \n",
      "25                                          Physician   \n",
      "26                                      No Occupation   \n",
      "27                                      No Occupation   \n",
      "28                                      No Occupation   \n",
      "29                                      No Occupation   \n",
      "30                                      No Occupation   \n",
      "31                                      No Occupation   \n",
      "32                                          Gentleman   \n",
      "33                                          Gentleman   \n",
      "34                                           Merchant   \n",
      "35                                      No Occupation   \n",
      "36                                             Farmer   \n",
      "37                                            Esquire   \n",
      "38  In trust for Jacobus Van Eis of Somerset Count...   \n",
      "39                                      No Occupation   \n",
      "\n",
      "                                                 Name             county  \\\n",
      "0                                   ['Joseph Borden']                NaN   \n",
      "1           ['John Chamberlaine', 'John Chamberlain']                NaN   \n",
      "2                                    ['Aaron Malich']                NaN   \n",
      "3                                ['Archibald Mercer']                NaN   \n",
      "4   ['Derrick DeMott', 'Derrick De Mott', 'Derrick...                NaN   \n",
      "5        ['Derrick De Mott and Cornelius Williamson']                NaN   \n",
      "6                               ['William Applegate']                NaN   \n",
      "7                                    ['John D Alvey']   Middlesex County   \n",
      "8   ['Jaques Voorhess', 'Jaques Voorhees', 'Jaquee...                NaN   \n",
      "9   ['Jaques Voorhess', 'Jaques Voorhees', 'Jaquee...                NaN   \n",
      "10  ['Jaques Voorhess', 'Jaques Voorhees', 'Jaquee...                NaN   \n",
      "11  ['Jaques Voorhess', 'Jaques Voorhees', 'Jaquee...                NaN   \n",
      "12  ['Jaques Voorhess', 'Jaques Voorhees', 'Jaquee...                NaN   \n",
      "13  ['Jaques Voorhess', 'Jaques Voorhees', 'Jaquee...                NaN   \n",
      "14                               ['Rebecca Carlisle']                NaN   \n",
      "15                                     ['John Merns']                NaN   \n",
      "16                ['John Plehemous', 'John Plehemus']                NaN   \n",
      "17                                ['George Browning']                NaN   \n",
      "18                                    ['Aaron Ogden']                NaN   \n",
      "19                               ['Nathaniel Holmes']    Cape May County   \n",
      "20                                  ['John Woodhull']                NaN   \n",
      "21                               ['Pontius D Stelle']   Hunterdon County   \n",
      "22                                    ['Moses Scott']   Middlesex County   \n",
      "23                                   ['Peter Shiras']  Burlington County   \n",
      "24                               ['Pontius D Stelle']   Hunterdon County   \n",
      "25                                   ['Samuel Treat']                NaN   \n",
      "26                    ['John Bennet', 'John Bennett']   Middlesex County   \n",
      "27                                ['Philip Stockton']                NaN   \n",
      "28                                   ['Henry Piercy']   Middlesex County   \n",
      "29                                   ['John D Alvey']                NaN   \n",
      "30                                    ['Jacob Myers']  Burlington County   \n",
      "31                 ['Jebediah Swan', 'Jedediah Swan']                NaN   \n",
      "32                                   ['Isaac Wikoff']                NaN   \n",
      "33                                   ['Isaac Wikoff']                NaN   \n",
      "34                                 ['William Wikoff']    Monmouth County   \n",
      "35             ['Samuel S Cooper', 'Samuel S Copper']      Sussex County   \n",
      "36                                 ['David Whitaker']    Cape May County   \n",
      "37                                  ['Aaron Kitchel']                NaN   \n",
      "38  ['Peter Vanderveer in trust for Jacobus Van Ei...    Somerset County   \n",
      "39             ['William Speneer', 'William Spencer']                NaN   \n",
      "\n",
      "   name_type  6p_total  \n",
      "0      state    575.62  \n",
      "1      other    151.40  \n",
      "2      state    188.14  \n",
      "3      state   3676.44  \n",
      "4      state    124.21  \n",
      "5      state   1324.81  \n",
      "6      state    844.44  \n",
      "7       town    161.74  \n",
      "8      state     91.66  \n",
      "9      state    750.82  \n",
      "10     state    524.11  \n",
      "11     state    131.66  \n",
      "12     state    448.33  \n",
      "13     state   4326.79  \n",
      "14     state     29.56  \n",
      "15     state    110.10  \n",
      "16     state    239.62  \n",
      "17     state   1104.78  \n",
      "18     state   1325.68  \n",
      "19      town     59.55  \n",
      "20     state    700.38  \n",
      "21      town    578.09  \n",
      "22      town   1168.56  \n",
      "23      town    190.71  \n",
      "24      town    537.86  \n",
      "25     state    384.34  \n",
      "26      town     74.88  \n",
      "27     state    331.96  \n",
      "28      town   1183.71  \n",
      "29     state    238.15  \n",
      "30      town       NaN  \n",
      "31     state    303.89  \n",
      "32     state   5017.05  \n",
      "33     state   1046.10  \n",
      "34    county    235.01  \n",
      "35      town    311.99  \n",
      "36      town      3.34  \n",
      "37     state       NaN  \n",
      "38    county     16.67  \n",
      "39     state     36.02  \n"
     ]
    }
   ],
   "source": [
    "State = 'NJ'\n",
    "AllOccsNJ = AllOccs[AllOccs['state'] == State] #Separate rows by state\n",
    "AllOccsNJ = AllOccsNJ.dropna(subset=['occupation']).reset_index(drop=True) #Drop any rows w/o an occupation listed. \n",
    "print(AllOccsNJ)"
   ]
  },
  {
   "cell_type": "code",
   "execution_count": 49,
   "id": "182df817",
   "metadata": {
    "pycharm": {
     "name": "#%%\n"
    }
   },
   "outputs": [
    {
     "name": "stdout",
     "output_type": "stream",
     "text": [
      "                                                   occupation  6p_total  # of people\n",
      "0                                             Attorney at law   1325.68            1\n",
      "1                                                     Esquire      0.00            1\n",
      "2                        Executor of Michael De Mott deceased   1324.81            1\n",
      "3                                                      Farmer      3.34            1\n",
      "4                                                   Gentleman   6063.15            2\n",
      "5  In trust for Jacobus Van Eis of Somerset County New Jersey     16.67            1\n",
      "6                                                    Merchant    235.01            1\n",
      "7                                               No Occupation  19195.17           31\n",
      "8                                                   Physician    384.34            1\n"
     ]
    }
   ],
   "source": [
    "OccsTotalsNJ = AllOccsNJ.groupby('occupation')['6p_total'].apply(sum).reset_index() #Combine duplicate occupations.\n",
    "OccsTotalsNJ['# of people'] = OccsTotalsNJ['occupation'].map(AllOccsNJ['occupation'].value_counts(dropna=False)) #Map # of people that belong to each occupation.\n",
    "print(OccsTotalsNJ.to_string())\n",
    "\n",
    "temp_df = OccsTotalsNJ[['occupation']]"
   ]
  },
  {
   "cell_type": "code",
   "execution_count": 50,
   "id": "e5f1ef6d",
   "metadata": {
    "pycharm": {
     "name": "#%%\n"
    }
   },
   "outputs": [
    {
     "name": "stdout",
     "output_type": "stream",
     "text": [
      "                                            occupation  6p_total  # of people\n",
      "0                                         attorney law   1325.68            1\n",
      "1                                              esquire      0.00            1\n",
      "2                    executor michael de mott deceased   1324.81            1\n",
      "3                                               farmer      3.34            1\n",
      "4                                            gentleman   6063.15            2\n",
      "5  in trust jacobus van eis somerset county new jersey     16.67            1\n",
      "6                                             merchant    235.01            1\n",
      "7                                        no occupation  19195.17           31\n",
      "8                                            physician    384.34            1\n"
     ]
    },
    {
     "name": "stderr",
     "output_type": "stream",
     "text": [
      "/var/folders/5s/dvrxt95949x1pm_sjxm85lj00000gn/T/ipykernel_60320/1264834632.py:4: SettingWithCopyWarning: \n",
      "A value is trying to be set on a copy of a slice from a DataFrame.\n",
      "Try using .loc[row_indexer,col_indexer] = value instead\n",
      "\n",
      "See the caveats in the documentation: https://pandas.pydata.org/pandas-docs/stable/user_guide/indexing.html#returning-a-view-versus-a-copy\n",
      "  temp_df['new occupation'] = OccsTotalsNJ['occupation']\n"
     ]
    }
   ],
   "source": [
    "OccsTotalsNJ = RemoveStopwords(OccsTotalsNJ)\n",
    "print(OccsTotalsNJ.to_string())\n",
    "\n",
    "temp_df['new occupation'] = OccsTotalsNJ['occupation']\n",
    "ogoccs = pd.concat([ogoccs, temp_df])"
   ]
  },
  {
   "cell_type": "code",
   "execution_count": 51,
   "id": "09fdaec5",
   "metadata": {
    "pycharm": {
     "name": "#%%\n"
    }
   },
   "outputs": [
    {
     "name": "stdout",
     "output_type": "stream",
     "text": [
      "Occupation Before --> Occupation After\n",
      "--------------------------------------\n",
      "\n",
      "\n",
      "attorney law --> attorney law\n",
      "esquire --> esquire\n",
      "executor michael de mott deceased --> executor michael de mott deceased\n",
      "farmer --> farmer\n",
      "gentleman --> gentleman\n",
      "in trust jacobus van eis somerset county new jersey --> in trust jacobus van eis somerset county new jersey\n",
      "merchant --> merchant\n",
      "no occupation --> no occupation\n",
      "physician --> physician\n"
     ]
    }
   ],
   "source": [
    "retdict = FindRemoveConst(OccsTotalsNJ['occupation'].tolist())\n",
    "ogoccs['new occupation'] = ogoccs['new occupation'].apply(lambda x: retdict.get(x, x))"
   ]
  },
  {
   "cell_type": "code",
   "execution_count": 52,
   "id": "2c7aec05",
   "metadata": {
    "pycharm": {
     "name": "#%%\n"
    }
   },
   "outputs": [],
   "source": [
    "Remove = 2"
   ]
  },
  {
   "cell_type": "code",
   "execution_count": 53,
   "id": "772d7e56",
   "metadata": {
    "pycharm": {
     "name": "#%%\n"
    }
   },
   "outputs": [
    {
     "name": "stdout",
     "output_type": "stream",
     "text": [
      "Occupations --> Potential Cleaned Occupations\n",
      "---------------------------------------------\n",
      "\n",
      "\n",
      "attorney law --> attorney\n",
      "esquire --> esquire\n",
      "executor michael de --> executor\n",
      "farmer --> farmer\n",
      "gentleman --> gentleman\n",
      "in trust jacobus van eis somerset county --> county\n",
      "merchant --> merchant\n",
      "no occupation --> occupation\n",
      "physician --> physician\n"
     ]
    }
   ],
   "source": [
    "retdict = PrintFutureOccupations(OccsTotalsNJ['occupation'].tolist())\n",
    "ogoccs['new occupation'] = ogoccs['new occupation'].apply(lambda x: retdict.get(x, x))"
   ]
  },
  {
   "cell_type": "code",
   "execution_count": 54,
   "id": "93cc2763",
   "metadata": {
    "pycharm": {
     "name": "#%%\n"
    }
   },
   "outputs": [
    {
     "name": "stdout",
     "output_type": "stream",
     "text": [
      "After Cleaning\n",
      "--------------\n",
      "\n",
      "\n",
      "   occupation  6p_total  # of people % of total people\n",
      "0    attorney   1325.68            1              None\n",
      "1         esq      0.00            1              None\n",
      "2    executor   1324.81            1              None\n",
      "3      farmer      3.34            1              None\n",
      "4   gentleman   6063.15            2              None\n",
      "5    assignee     16.67            1              None\n",
      "6    merchant    235.01            1              None\n",
      "7  occupation  19195.17           31              None\n",
      "8      doctor    384.34            1              None\n",
      "\n",
      "\n",
      "After Removing Duplicates and Summing\n",
      "-------------------------------------\n",
      "\n",
      "\n",
      "   occupation  6p_total  # of people  % of total people\n",
      "0    assignee     16.67            1                  0\n",
      "1    attorney   1325.68            1                  0\n",
      "2      doctor    384.34            1                  0\n",
      "3         esq      0.00            1                  0\n",
      "4    executor   1324.81            1                  0\n",
      "5      farmer      3.34            1                  0\n",
      "6   gentleman   6063.15            2                  0\n",
      "7    merchant    235.01            1                  0\n",
      "8  occupation  19195.17           31                  0\n",
      "\n",
      "\n",
      "\n",
      "\n",
      "After Using Fuzzy String Matching\n",
      "---------------------------------\n",
      "\n",
      "\n",
      "   occupation  6p_total  # of people  % of total people  average debt per person\n",
      "0  occupation  19195.17           31               77.5               619.199032\n",
      "1   gentleman   6063.15            2                5.0              3031.575000\n",
      "2    attorney   1325.68            1                2.5              1325.680000\n",
      "3    executor   1324.81            1                2.5              1324.810000\n",
      "4      doctor    384.34            1                2.5               384.340000\n",
      "5    merchant    235.01            1                2.5               235.010000\n",
      "6    assignee     16.67            1                2.5                16.670000\n",
      "7      farmer      3.34            1                2.5                 3.340000\n",
      "8         esq      0.00            1                2.5                 0.000000\n",
      "\n",
      "\n"
     ]
    }
   ],
   "source": [
    "retdict, OccsTotalsNJ = MergeOccupations(OccsTotalsNJ)\n",
    "ogoccs['new occupation'] = ogoccs['new occupation'].apply(lambda x: retdict.get(x, x))"
   ]
  },
  {
   "cell_type": "code",
   "execution_count": 55,
   "id": "5be57fdc",
   "metadata": {
    "pycharm": {
     "name": "#%%\n"
    }
   },
   "outputs": [],
   "source": [
    "TurnToExcel(OccsTotalsNJ, State)"
   ]
  },
  {
   "cell_type": "markdown",
   "id": "a0767df6",
   "metadata": {
    "pycharm": {
     "name": "#%% md\n"
    }
   },
   "source": [
    "# New York"
   ]
  },
  {
   "cell_type": "code",
   "execution_count": 56,
   "id": "0dffcde7",
   "metadata": {
    "pycharm": {
     "name": "#%%\n"
    },
    "scrolled": true
   },
   "outputs": [
    {
     "name": "stdout",
     "output_type": "stream",
     "text": [
      "    6p_Dollar  6p_Cents  6p_def_Dollar  6p_def_Cents  3p_Dollar  3p_Cents  \\\n",
      "0       248.0   46.0000          124.0       23.0000      144.0       NaN   \n",
      "1       738.0   43.0000          369.0       22.0000      708.0     13.00   \n",
      "2       433.0   28.0000          216.0       64.0000      355.0      8.00   \n",
      "3        47.0   38.0000           23.0       69.0000       49.0     98.00   \n",
      "4       131.0   15.0000           65.0       57.0000      146.0     69.00   \n",
      "5       118.0   45.0000           59.0       23.0000      124.0     94.00   \n",
      "6        23.0   69.0000           11.0       84.0000       24.0     99.00   \n",
      "7       261.0   31.0000          130.0       65.0000      340.0     53.00   \n",
      "8       144.0   55.0000           72.0       28.0000       54.0       NaN   \n",
      "9       933.0   33.0000          466.0       67.0000      781.0     67.00   \n",
      "10      555.0   86.0000          277.0       93.0000      637.0     27.00   \n",
      "11      230.0   90.0000          115.0       45.0000      179.0     91.00   \n",
      "12      377.0   49.0000          188.0       75.0000      385.0     98.00   \n",
      "13       14.0   94.0000            7.0       48.0000       15.0     58.00   \n",
      "14       29.0   87.0000           14.0       94.0000        NaN       NaN   \n",
      "15      286.0   43.0000          143.0       22.0000      248.0     68.00   \n",
      "16       16.0   61.0000            8.0       31.0000      191.0     15.00   \n",
      "17        NaN    1.0000            NaN           NaN        NaN       NaN   \n",
      "18        NaN       NaN            NaN           NaN     1601.0     94.00   \n",
      "19        NaN       NaN            NaN           NaN       20.0       NaN   \n",
      "20        1.0   50.0000            1.0       25.0000        1.0     43.32   \n",
      "21        1.0  249.7733            1.0      124.8833        1.0    273.65   \n",
      "22        1.0   46.7633            1.0       23.3833        1.0     63.34   \n",
      "23       20.0   34.5500           16.0       17.2700       15.0     37.71   \n",
      "24      127.0   24.0000           63.0       62.0000        NaN       NaN   \n",
      "25       64.0   44.0000           32.0       22.0000       42.0     36.00   \n",
      "26       16.0   53.0000            8.0       27.0000       16.0     58.00   \n",
      "27     1147.0   82.0000          573.0       91.0000     2488.0       NaN   \n",
      "28     1776.0   12.0000          888.0        6.0000     1553.0     33.00   \n",
      "29      509.0   97.0000          254.0       98.0000      298.0     53.00   \n",
      "30      685.0   93.0000          342.0       97.0000      203.0     67.00   \n",
      "31       22.0   70.0000           11.0       36.0000       23.0     51.00   \n",
      "32      334.0   70.0000          167.0       35.0000      340.0     68.00   \n",
      "33        NaN       NaN            NaN        1.0000        NaN       NaN   \n",
      "34      609.0   42.0000          304.0       71.0000      432.0       NaN   \n",
      "35     1867.0   88.0000          933.0       93.0000      517.0     20.00   \n",
      "36      690.0   96.0000          345.0       48.0000      665.0     28.00   \n",
      "37      222.0    5.0000          111.0        3.0000      351.0     21.00   \n",
      "38     1335.0   12.0000          667.0       56.0000      757.0     44.00   \n",
      "39       88.0   60.0000           44.0       30.0000       62.0     43.00   \n",
      "40      408.0   11.0000          204.0        6.0000      306.0      8.00   \n",
      "41      396.0   20.0000          198.0       10.0000      360.0     33.00   \n",
      "42      100.0       NaN           50.0           NaN      600.0     62.00   \n",
      "43      129.0   72.0000           64.0       68.0000      812.0     45.00   \n",
      "44      138.0   58.0000           69.0       29.0000       60.0     12.00   \n",
      "45      174.0   62.0000           87.0       31.0000        NaN       NaN   \n",
      "46      581.0   48.0000          290.0       74.0000      545.0     12.00   \n",
      "47      255.0   94.0000          127.0       97.0000      369.0     52.00   \n",
      "48       55.0   71.0000           27.0       86.0000       31.0     25.00   \n",
      "49      407.0   50.0000          203.0       75.0000      381.0      1.00   \n",
      "50       29.0   93.0000           14.0       96.0000        NaN       NaN   \n",
      "51       61.0   63.0000            NaN           NaN        NaN       NaN   \n",
      "52      361.0   11.0000          180.0       55.0000      315.0     27.00   \n",
      "53      120.0   25.0000           60.0       12.0000       97.0     70.00   \n",
      "\n",
      "                 town state     occupation  \\\n",
      "0   State of New York    NY  No Occupation   \n",
      "1   State of New York    NY  No Occupation   \n",
      "2   State of New York    NY  No Occupation   \n",
      "3   State of New York    NY  No Occupation   \n",
      "4   State of New York    NY   Schoolmaster   \n",
      "5   State of New York    NY         Farmer   \n",
      "6   State of New York    NY       Merchant   \n",
      "7    City of New York    NY       Merchant   \n",
      "8            New York    NY  No Occupation   \n",
      "9   State of New York    NY      Physician   \n",
      "10           New York    NY         Farmer   \n",
      "11   City of New York    NY       Merchant   \n",
      "12  State of New York    NY        Mariner   \n",
      "13  State of New York    NY  No Occupation   \n",
      "14  State of New York    NY  No Occupation   \n",
      "15           New York    NY       Merchant   \n",
      "16        Long Island    NY  No Occupation   \n",
      "17   City of New York    NY       Merchant   \n",
      "18   City of New York    NY       Merchant   \n",
      "19           New York    NY  No Occupation   \n",
      "20           New York    NY  No Occupation   \n",
      "21           New York    NY  No Occupation   \n",
      "22           New York    NY      Merchants   \n",
      "23           New York    NY       Merchant   \n",
      "24           New York    NY  No Occupation   \n",
      "25           New York    NY  No Occupation   \n",
      "26           New York    NY  No Occupation   \n",
      "27           New York    NY  No Occupation   \n",
      "28           New York    NY         Broker   \n",
      "29           New York    NY  No Occupation   \n",
      "30           New York    NY       Merchant   \n",
      "31             Albany    NY  No Occupation   \n",
      "32           New York    NY       Merchant   \n",
      "33           New York    NY  No Occupation   \n",
      "34           New York    NY       Merchant   \n",
      "35           New York    NY      Merchants   \n",
      "36           New York    NY       Merchant   \n",
      "37           New York    NY       Merchant   \n",
      "38           New York    NY  No Occupation   \n",
      "39           New York    NY       Merchant   \n",
      "40           New York    NY  No Occupation   \n",
      "41           New York    NY  No Occupation   \n",
      "42           New York    NY  No Occupation   \n",
      "43           New York    NY  No Occupation   \n",
      "44           New York    NY       Merchant   \n",
      "45           New York    NY       Merchant   \n",
      "46           New York    NY      Merchants   \n",
      "47           New York    NY       Merchant   \n",
      "48           New York    NY       Merchant   \n",
      "49           New York    NY       Merchant   \n",
      "50           New York    NY       Merchant   \n",
      "51           New York    NY  No Occupation   \n",
      "52           New York    NY       Merchant   \n",
      "53           New York    NY       Merchant   \n",
      "\n",
      "                                                 Name           county  \\\n",
      "0                                  ['Stephen Potter']              NaN   \n",
      "1                                    ['Edmund Wells']              NaN   \n",
      "2                                   ['Benjamin Wood']              NaN   \n",
      "3                                ['Joseph Carpenter']              NaN   \n",
      "4                                 ['Martin McDonald']              NaN   \n",
      "5                                   ['Stephen Field']              NaN   \n",
      "6                                   ['Josiah Quinby']              NaN   \n",
      "7                                     ['John Mowatt']  New York County   \n",
      "8                                  ['Ammi R Robbins']              NaN   \n",
      "9                                     ['Samuel Gale']              NaN   \n",
      "10                                   ['Daniel Paine']              NaN   \n",
      "11                                    ['John Mowatt']  New York County   \n",
      "12                                ['Jeremiah Rogers']              NaN   \n",
      "13                                  ['Thomas Vailes']              NaN   \n",
      "14                                   ['Edmund Wells']              NaN   \n",
      "15                                 ['Solomon Simson']              NaN   \n",
      "16                                  ['William Jones']              NaN   \n",
      "17                                    ['John Mowatt']  New York County   \n",
      "18                                  ['Daniel Ludlow']  New York County   \n",
      "19                                    ['John Mowatt']              NaN   \n",
      "20                                 ['Ananias Cooper']              NaN   \n",
      "21                                   ['Seth Johnson']              NaN   \n",
      "22                             ['Peter Schermerhorn']              NaN   \n",
      "23                            ['Robert Ross Waddell']              NaN   \n",
      "24                                   ['William Boyd']              NaN   \n",
      "25                                 ['William Steele']              NaN   \n",
      "26                                 ['William Steele']              NaN   \n",
      "27                                 ['John Delafield']              NaN   \n",
      "28                  ['Isaac Whippoo', 'Isaac Whipoo']              NaN   \n",
      "29                               ['Susan Livingston']              NaN   \n",
      "30                                  ['Henry Chapman']              NaN   \n",
      "31                             ['Leonard Gansevoort']    Albany County   \n",
      "32                                    ['John Murray']              NaN   \n",
      "33                              ['William Patterson']              NaN   \n",
      "34                                ['Robert Robinson']              NaN   \n",
      "35  ['Theodosius Fowler in Co', 'Theodosius Fowler...              NaN   \n",
      "36                                   ['George Lewis']              NaN   \n",
      "37                                  ['Samuel Wilcox']              NaN   \n",
      "38                                   ['Seth Johnson']              NaN   \n",
      "39                               ['Robert Gilchrist']              NaN   \n",
      "40                                 ['Ananias Cooper']              NaN   \n",
      "41                                 ['Andrew Craigie']              NaN   \n",
      "42                                   ['Seth Johnson']              NaN   \n",
      "43                                   ['Seth Johnson']              NaN   \n",
      "44                               ['Robert Gilchrist']              NaN   \n",
      "45                                    ['John Motley']              NaN   \n",
      "46          ['Nicholas Low and Horace and S Johnson']              NaN   \n",
      "47                                    ['John Motley']              NaN   \n",
      "48                               ['Alexander Fowler']              NaN   \n",
      "49                                   ['George Lewis']              NaN   \n",
      "50                                    ['John Motley']              NaN   \n",
      "51                                ['Daniel Penfield']              NaN   \n",
      "52                               ['Robert Gilchrist']              NaN   \n",
      "53                            ['Robert Ross Waddell']              NaN   \n",
      "\n",
      "   name_type     6p_total  \n",
      "0      state   248.460000  \n",
      "1      state   738.430000  \n",
      "2      state   433.280000  \n",
      "3      state    47.380000  \n",
      "4      state   131.150000  \n",
      "5      state   118.450000  \n",
      "6      state    23.690000  \n",
      "7       town   261.310000  \n",
      "8      state   144.550000  \n",
      "9      state   933.330000  \n",
      "10     state   555.860000  \n",
      "11      town   230.900000  \n",
      "12     state   377.490000  \n",
      "13     state    14.940000  \n",
      "14     state    29.870000  \n",
      "15     state   286.430000  \n",
      "16     state    16.610000  \n",
      "17      town          NaN  \n",
      "18      town          NaN  \n",
      "19     state          NaN  \n",
      "20     state     1.500000  \n",
      "21     state     3.497733  \n",
      "22     state     1.467633  \n",
      "23     state    20.345500  \n",
      "24     state   127.240000  \n",
      "25     state    64.440000  \n",
      "26     state    16.530000  \n",
      "27     state  1147.820000  \n",
      "28     state  1776.120000  \n",
      "29     state   509.970000  \n",
      "30     state   685.930000  \n",
      "31      town    22.700000  \n",
      "32     state   334.700000  \n",
      "33     state          NaN  \n",
      "34     state   609.420000  \n",
      "35     state  1867.880000  \n",
      "36     state   690.960000  \n",
      "37     state   222.050000  \n",
      "38     state  1335.120000  \n",
      "39     state    88.600000  \n",
      "40     state   408.110000  \n",
      "41     state   396.200000  \n",
      "42     state          NaN  \n",
      "43     state   129.720000  \n",
      "44     state   138.580000  \n",
      "45     state   174.620000  \n",
      "46     state   581.480000  \n",
      "47     state   255.940000  \n",
      "48     state    55.710000  \n",
      "49     state   407.500000  \n",
      "50     state    29.930000  \n",
      "51     state    61.630000  \n",
      "52     state   361.110000  \n",
      "53     state   120.250000  \n"
     ]
    }
   ],
   "source": [
    "State = 'NY'\n",
    "AllOccsNY = AllOccs[AllOccs['state'] == State] #Separate rows by state\n",
    "AllOccsNY = AllOccsNY.dropna(subset=['occupation']).reset_index(drop=True) #Drop any rows w/o an occupation listed. \n",
    "print(AllOccsNY)"
   ]
  },
  {
   "cell_type": "code",
   "execution_count": 57,
   "id": "55a2908c",
   "metadata": {
    "pycharm": {
     "name": "#%%\n"
    }
   },
   "outputs": [
    {
     "name": "stdout",
     "output_type": "stream",
     "text": [
      "      occupation     6p_total  # of people\n",
      "0         Broker  1776.120000            1\n",
      "1         Farmer   674.310000            2\n",
      "2        Mariner   377.490000            1\n",
      "3       Merchant  4997.975500           21\n",
      "4      Merchants  2450.827633            3\n",
      "5  No Occupation  5897.997733           24\n",
      "6      Physician   933.330000            1\n",
      "7   Schoolmaster   131.150000            1\n"
     ]
    }
   ],
   "source": [
    "OccsTotalsNY = AllOccsNY.groupby('occupation')['6p_total'].apply(sum).reset_index() #Combine duplicate occupations.\n",
    "OccsTotalsNY['# of people'] = OccsTotalsNY['occupation'].map(AllOccsNY['occupation'].value_counts(dropna=False)) #Map # of people that belong to each occupation.\n",
    "print(OccsTotalsNY.to_string())\n",
    "\n",
    "temp_df = OccsTotalsNY[['occupation']]"
   ]
  },
  {
   "cell_type": "code",
   "execution_count": 58,
   "id": "cfd1bccc",
   "metadata": {
    "pycharm": {
     "name": "#%%\n"
    }
   },
   "outputs": [
    {
     "name": "stdout",
     "output_type": "stream",
     "text": [
      "      occupation     6p_total  # of people\n",
      "0         broker  1776.120000            1\n",
      "1         farmer   674.310000            2\n",
      "2        mariner   377.490000            1\n",
      "3       merchant  4997.975500           21\n",
      "4      merchants  2450.827633            3\n",
      "5  no occupation  5897.997733           24\n",
      "6      physician   933.330000            1\n",
      "7   schoolmaster   131.150000            1\n"
     ]
    },
    {
     "name": "stderr",
     "output_type": "stream",
     "text": [
      "/var/folders/5s/dvrxt95949x1pm_sjxm85lj00000gn/T/ipykernel_60320/1653663519.py:4: SettingWithCopyWarning: \n",
      "A value is trying to be set on a copy of a slice from a DataFrame.\n",
      "Try using .loc[row_indexer,col_indexer] = value instead\n",
      "\n",
      "See the caveats in the documentation: https://pandas.pydata.org/pandas-docs/stable/user_guide/indexing.html#returning-a-view-versus-a-copy\n",
      "  temp_df['new occupation'] = OccsTotalsNY['occupation']\n"
     ]
    }
   ],
   "source": [
    "OccsTotalsNY = RemoveStopwords(OccsTotalsNY) \n",
    "print(OccsTotalsNY.to_string())\n",
    "\n",
    "temp_df['new occupation'] = OccsTotalsNY['occupation']\n",
    "ogoccs = pd.concat([ogoccs, temp_df])"
   ]
  },
  {
   "cell_type": "code",
   "execution_count": 59,
   "id": "d3506939",
   "metadata": {
    "pycharm": {
     "name": "#%%\n"
    }
   },
   "outputs": [
    {
     "name": "stdout",
     "output_type": "stream",
     "text": [
      "Occupations --> Potential Cleaned Occupations\n",
      "---------------------------------------------\n",
      "\n",
      "\n",
      "broker --> broker\n",
      "farmer --> farmer\n",
      "mariner --> mariner\n",
      "merchant --> merchant\n",
      "merchants --> merchants\n",
      "no occupation --> occupation\n",
      "physician --> physician\n",
      "schoolmaster --> schoolmaster\n"
     ]
    }
   ],
   "source": [
    "retdict = PrintFutureOccupations(OccsTotalsNY['occupation'].tolist())\n",
    "ogoccs['new occupation'] = ogoccs['new occupation'].apply(lambda x: retdict.get(x, x))"
   ]
  },
  {
   "cell_type": "code",
   "execution_count": 60,
   "id": "eeee4da1",
   "metadata": {
    "pycharm": {
     "name": "#%%\n"
    }
   },
   "outputs": [
    {
     "name": "stdout",
     "output_type": "stream",
     "text": [
      "After Cleaning\n",
      "--------------\n",
      "\n",
      "\n",
      "     occupation     6p_total  # of people % of total people\n",
      "0        broker  1776.120000            1              None\n",
      "1        farmer   674.310000            2              None\n",
      "2       mariner   377.490000            1              None\n",
      "3      merchant  4997.975500           21              None\n",
      "4     merchants  2450.827633            3              None\n",
      "5    occupation  5897.997733           24              None\n",
      "6        doctor   933.330000            1              None\n",
      "7  schoolmaster   131.150000            1              None\n",
      "\n",
      "\n",
      "After Removing Duplicates and Summing\n",
      "-------------------------------------\n",
      "\n",
      "\n",
      "     occupation     6p_total  # of people  % of total people\n",
      "0        broker  1776.120000            1                  0\n",
      "1        doctor   933.330000            1                  0\n",
      "2        farmer   674.310000            2                  0\n",
      "3       mariner   377.490000            1                  0\n",
      "4      merchant  4997.975500           21                  0\n",
      "5     merchants  2450.827633            3                  0\n",
      "6    occupation  5897.997733           24                  0\n",
      "7  schoolmaster   131.150000            1                  0\n",
      "\n",
      "\n",
      "Removed: merchants --> merchant\n",
      "\n",
      "\n",
      "After Using Fuzzy String Matching\n",
      "---------------------------------\n",
      "\n",
      "\n",
      "     occupation     6p_total  # of people  % of total people  average debt per person\n",
      "0      merchant  7448.803133           24          44.444444               310.366797\n",
      "1    occupation  5897.997733           24          44.444444               245.749906\n",
      "2        broker  1776.120000            1           1.851852              1776.120000\n",
      "3        doctor   933.330000            1           1.851852               933.330000\n",
      "4        farmer   674.310000            2           3.703704               337.155000\n",
      "5       mariner   377.490000            1           1.851852               377.490000\n",
      "6  schoolmaster   131.150000            1           1.851852               131.150000\n",
      "\n",
      "\n"
     ]
    }
   ],
   "source": [
    "retdict, OccsTotalsNY = MergeOccupations(OccsTotalsNY)\n",
    "ogoccs['new occupation'] = ogoccs['new occupation'].apply(lambda x: retdict.get(x, x))"
   ]
  },
  {
   "cell_type": "code",
   "execution_count": 61,
   "id": "46f13b88",
   "metadata": {
    "pycharm": {
     "name": "#%%\n"
    }
   },
   "outputs": [],
   "source": [
    "TurnToExcel(OccsTotalsNY, State)"
   ]
  },
  {
   "cell_type": "markdown",
   "id": "4b68d171",
   "metadata": {
    "pycharm": {
     "name": "#%% md\n"
    }
   },
   "source": [
    "# Pennsylvania"
   ]
  },
  {
   "cell_type": "code",
   "execution_count": 62,
   "id": "21b316c6",
   "metadata": {
    "pycharm": {
     "name": "#%%\n"
    },
    "scrolled": true
   },
   "outputs": [
    {
     "name": "stdout",
     "output_type": "stream",
     "text": [
      "     6p_Dollar  6p_Cents  6p_def_Dollar  6p_def_Cents  3p_Dollar  3p_Cents  \\\n",
      "0          1.0    965.91            1.0        482.95        1.0   1110.37   \n",
      "1          1.0    102.14            1.0         51.07        1.0    117.34   \n",
      "2        158.0      1.00           79.0           NaN      158.0     10.00   \n",
      "3       3212.0     38.00         1606.0         19.00     1400.0     66.00   \n",
      "4       9601.0     24.00         4800.0         62.00     3079.0     84.00   \n",
      "..         ...       ...            ...           ...        ...       ...   \n",
      "937      582.0     52.00          291.0         26.00       92.0     84.00   \n",
      "938      150.0       NaN           75.0           NaN      138.0     90.00   \n",
      "939      526.0     95.00          263.0         47.00      281.0     74.00   \n",
      "940      143.0     33.00           71.0         66.00      107.0     51.00   \n",
      "941        NaN       NaN          423.0         14.00        NaN       NaN   \n",
      "\n",
      "             town state     occupation                   Name  \\\n",
      "0    Philadelphia    PA  No Occupation      ['Daniel W Cose']   \n",
      "1    Philadelphia    PA        Mariner     ['Edward Burrows']   \n",
      "2    Pennsylvania    PA  No Occupation  ['Christian Lybrant']   \n",
      "3    Philadelphia    PA       Merchant    ['Stephen Collins']   \n",
      "4       Lancaster    PA  No Occupation        ['Edward Hand']   \n",
      "..            ...   ...            ...                    ...   \n",
      "937  Philadelphia    PA  No Occupation   ['Mathew McConnell']   \n",
      "938  Philadelphia    PA       Merchant         ['Thomas Lea']   \n",
      "939  Philadelphia    PA  No Occupation   ['Mathew McConnell']   \n",
      "940  Philadelphia    PA  No Occupation  ['Samuel Allen Otis']   \n",
      "941  Philadelphia    PA  No Occupation  ['Cornelius Comegys']   \n",
      "\n",
      "                  county name_type   6p_total  \n",
      "0    Philadelphia County      town    10.6591  \n",
      "1    Philadelphia County      town     2.0214  \n",
      "2                    NaN     state   158.0100  \n",
      "3    Philadelphia County      town  3212.3800  \n",
      "4       Lancaster County      town  9601.2400  \n",
      "..                   ...       ...        ...  \n",
      "937  Philadelphia County      town   582.5200  \n",
      "938  Philadelphia County      town        NaN  \n",
      "939  Philadelphia County      town   526.9500  \n",
      "940  Philadelphia County      town   143.3300  \n",
      "941  Philadelphia County      town        NaN  \n",
      "\n",
      "[942 rows x 13 columns]\n"
     ]
    }
   ],
   "source": [
    "State = 'PA'\n",
    "AllOccsPA = AllOccs[AllOccs['state'] == State] #Separate rows by state\n",
    "AllOccsPA = AllOccsPA.dropna(subset=['occupation']).reset_index(drop=True) #Drop any rows w/o an occupation listed. \n",
    "print(AllOccsPA)"
   ]
  },
  {
   "cell_type": "code",
   "execution_count": 63,
   "id": "35f22e8f",
   "metadata": {
    "pycharm": {
     "name": "#%%\n"
    }
   },
   "outputs": [
    {
     "name": "stdout",
     "output_type": "stream",
     "text": [
      "                                                         occupation     6p_total  # of people\n",
      "0                                                        AH.Vat Law      58.0500            1\n",
      "1        Adm of Alexander McCaraher late of Chester County Deceased     799.5100            1\n",
      "2                            Administer of the estate of Job Vernon    1865.4400            1\n",
      "3                                  Administor to the Est of J James      27.5300            1\n",
      "4                                                   Attorney at Law    1223.6200            1\n",
      "5                                                       Black Smith     692.2500            1\n",
      "6                                                       Book Binder     783.0700            1\n",
      "7                                                            Broker   64008.8400           60\n",
      "8                                                             Clerk    1855.5800            4\n",
      "9                                                                Co    2898.8600            4\n",
      "10                                                      Conveyancer     108.4000            1\n",
      "11                                                      Cordwainder     281.2500            1\n",
      "12                                                         Druggist    4922.4300            2\n",
      "13                                                          Esquier   20672.0700            6\n",
      "14                                                          Esquire   20770.1700           15\n",
      "15                                     Estate John Benezet Deceased       0.0000            1\n",
      "16                                                        Estate of    1979.6000            1\n",
      "17                                           Ex Philadelphia County    1802.9600            1\n",
      "18                                           Ex of William Honeyman     668.9600            1\n",
      "19                          Ex to the Estate of John Baird Bucks Co     115.9400            1\n",
      "20                              Executers of David Grierlate Y Town    5658.3600            1\n",
      "21                     Executor to the Estate Abraham Hull deceased      47.9100            1\n",
      "22                      Executor to the Estate Mathias Londenberger     493.8300            1\n",
      "23      Executor to the Estate of Doctor Benjamin Franklin deceased       0.0000            1\n",
      "24                                                           Farmer    1685.8100            5\n",
      "25                                                          Furrier    3107.1800            1\n",
      "26                                                        Gentleman    7540.6600            6\n",
      "27                                                        Goldsmith     142.2200            1\n",
      "28                                           Guardian to Adam Grier    1605.8000            1\n",
      "29                                        Guardian to Maria Benezet    2267.5000            1\n",
      "30                                    Guardian to William Chevalier     666.6600            1\n",
      "31                                                           Hatter    2291.7600            3\n",
      "32                                                       Inn Keeper    1668.6800            3\n",
      "33                                                    Junior Broker   10691.1200            3\n",
      "34                                                              Law    3942.1100            2\n",
      "35                                                           Lawyer    3472.9000            1\n",
      "36                                                         Marchant    1133.2500            2\n",
      "37                                                          Mariner    3906.5714            5\n",
      "38                                                         Merchant  554945.2200          227\n",
      "39  Merchant Executer to the Estate of John Schweig Hauser deceased    5333.3300            1\n",
      "40                                                        Merchants   54042.2900            7\n",
      "41                                                    No Occupation  597445.0891          527\n",
      "42                                                     Pennsylvania     856.5600            1\n",
      "43                                                        Physician    1769.0100            1\n",
      "44                                                      Post Master    7083.5300            1\n",
      "45                                                          Printer    7423.7300            5\n",
      "46                             Printer in Trust for Jennet Thompson     294.0100            1\n",
      "47                                          Property of Mathematics     461.1100            1\n",
      "48                                                         Reverend     224.1200            1\n",
      "49                                                          Sheriff      56.2100            1\n",
      "50                                                      Ship Wright    1241.7600            1\n",
      "51                                                      Shop Keeper      41.4700            1\n",
      "52                                                       Shopkeeper     547.4800            2\n",
      "53                                                      Silversmith    1917.6500            2\n",
      "54                                                         Spinster     528.3300            1\n",
      "55                                                           Tanner    1192.2500            2\n",
      "56                                                           Taylor    2137.3900            4\n",
      "57                       Treasurer of the first Presbyterian Church     714.8100            1\n",
      "58                                             Trust By David Cloyd     618.1400            1\n",
      "59                                                            Widow    5576.5300            5\n",
      "60                                                           Yeoman    1136.0600            2\n",
      "61                         for Christopher Mary and Charity Pyrleus     846.2300            1\n",
      "62                           in trust for the Estate of Robert Dill    1436.5000            1\n"
     ]
    }
   ],
   "source": [
    "OccsTotalsPA = AllOccsPA.groupby('occupation')['6p_total'].apply(sum).reset_index() #Combine duplicate occupations.\n",
    "OccsTotalsPA['# of people'] = OccsTotalsPA['occupation'].map(AllOccsPA['occupation'].value_counts(dropna=False)) #Map # of people that belong to each occupation.\n",
    "print(OccsTotalsPA.to_string())\n",
    "\n",
    "temp_df = OccsTotalsPA[['occupation']]"
   ]
  },
  {
   "cell_type": "code",
   "execution_count": 64,
   "id": "97053a2b",
   "metadata": {
    "pycharm": {
     "name": "#%%\n"
    }
   },
   "outputs": [
    {
     "name": "stdout",
     "output_type": "stream",
     "text": [
      "                                               occupation     6p_total  # of people\n",
      "0                                              ah.vat law      58.0500            1\n",
      "1    adm alexander mccaraher late chester county deceased     799.5100            1\n",
      "2                            administer estate job vernon    1865.4400            1\n",
      "3                                  administor est j james      27.5300            1\n",
      "4                                            attorney law    1223.6200            1\n",
      "5                                             black smith     692.2500            1\n",
      "6                                             book binder     783.0700            1\n",
      "7                                                  broker   64008.8400           60\n",
      "8                                                   clerk    1855.5800            4\n",
      "9                                                      co    2898.8600            4\n",
      "10                                            conveyancer     108.4000            1\n",
      "11                                            cordwainder     281.2500            1\n",
      "12                                               druggist    4922.4300            2\n",
      "13                                                esquier   20672.0700            6\n",
      "14                                                esquire   20770.1700           15\n",
      "15                           estate john benezet deceased       0.0000            1\n",
      "16                                                 estate    1979.6000            1\n",
      "17                                 ex philadelphia county    1802.9600            1\n",
      "18                                    ex william honeyman     668.9600            1\n",
      "19                          ex estate john baird bucks co     115.9400            1\n",
      "20                       executers david grierlate y town    5658.3600            1\n",
      "21                  executor estate abraham hull deceased      47.9100            1\n",
      "22                   executor estate mathias londenberger     493.8300            1\n",
      "23      executor estate doctor benjamin franklin deceased       0.0000            1\n",
      "24                                                 farmer    1685.8100            5\n",
      "25                                                furrier    3107.1800            1\n",
      "26                                              gentleman    7540.6600            6\n",
      "27                                              goldsmith     142.2200            1\n",
      "28                                    guardian adam grier    1605.8000            1\n",
      "29                                 guardian maria benezet    2267.5000            1\n",
      "30                             guardian william chevalier     666.6600            1\n",
      "31                                                 hatter    2291.7600            3\n",
      "32                                             inn keeper    1668.6800            3\n",
      "33                                          junior broker   10691.1200            3\n",
      "34                                                    law    3942.1100            2\n",
      "35                                                 lawyer    3472.9000            1\n",
      "36                                               marchant    1133.2500            2\n",
      "37                                                mariner    3906.5714            5\n",
      "38                                               merchant  554945.2200          227\n",
      "39  merchant executer estate john schweig hauser deceased    5333.3300            1\n",
      "40                                              merchants   54042.2900            7\n",
      "41                                          no occupation  597445.0891          527\n",
      "42                                           pennsylvania     856.5600            1\n",
      "43                                              physician    1769.0100            1\n",
      "44                                            post master    7083.5300            1\n",
      "45                                                printer    7423.7300            5\n",
      "46                          printer trust jennet thompson     294.0100            1\n",
      "47                                   property mathematics     461.1100            1\n",
      "48                                               reverend     224.1200            1\n",
      "49                                                sheriff      56.2100            1\n",
      "50                                            ship wright    1241.7600            1\n",
      "51                                            shop keeper      41.4700            1\n",
      "52                                             shopkeeper     547.4800            2\n",
      "53                                            silversmith    1917.6500            2\n",
      "54                                               spinster     528.3300            1\n",
      "55                                                 tanner    1192.2500            2\n",
      "56                                                 taylor    2137.3900            4\n",
      "57                    treasurer first presbyterian church     714.8100            1\n",
      "58                                   trust by david cloyd     618.1400            1\n",
      "59                                                  widow    5576.5300            5\n",
      "60                                                 yeoman    1136.0600            2\n",
      "61                       christopher mary charity pyrleus     846.2300            1\n",
      "62                               trust estate robert dill    1436.5000            1\n"
     ]
    },
    {
     "name": "stderr",
     "output_type": "stream",
     "text": [
      "/var/folders/5s/dvrxt95949x1pm_sjxm85lj00000gn/T/ipykernel_60320/177176644.py:4: SettingWithCopyWarning: \n",
      "A value is trying to be set on a copy of a slice from a DataFrame.\n",
      "Try using .loc[row_indexer,col_indexer] = value instead\n",
      "\n",
      "See the caveats in the documentation: https://pandas.pydata.org/pandas-docs/stable/user_guide/indexing.html#returning-a-view-versus-a-copy\n",
      "  temp_df['new occupation'] = OccsTotalsPA['occupation']\n"
     ]
    }
   ],
   "source": [
    "OccsTotalsPA = RemoveStopwords(OccsTotalsPA) \n",
    "print(OccsTotalsPA.to_string())\n",
    "\n",
    "temp_df['new occupation'] = OccsTotalsPA['occupation']\n",
    "ogoccs = pd.concat([ogoccs, temp_df])"
   ]
  },
  {
   "cell_type": "code",
   "execution_count": 65,
   "id": "68e27f87",
   "metadata": {
    "pycharm": {
     "name": "#%%\n"
    }
   },
   "outputs": [
    {
     "name": "stdout",
     "output_type": "stream",
     "text": [
      "Occupation Before --> Occupation After\n",
      "--------------------------------------\n",
      "\n",
      "\n",
      "ah.vat law --> ah.vat law\n",
      "adm alexander mccaraher late chester county deceased --> adm alexander mccaraher late chester\n",
      "administer estate job vernon --> administer estate\n",
      "administor est j james --> administor est\n",
      "attorney law --> attorney law\n",
      "black smith --> black smith\n",
      "book binder --> book binder\n",
      "broker --> broker\n",
      "clerk --> clerk\n",
      "co --> co\n",
      "conveyancer --> conveyancer\n",
      "cordwainder --> cordwainder\n",
      "druggist --> druggist\n",
      "esquier --> esquier\n",
      "esquire --> esquire\n",
      "estate john benezet deceased --> estate john\n",
      "estate --> estate\n",
      "ex philadelphia county --> ex\n",
      "ex william honeyman --> ex\n",
      "ex estate john baird bucks co --> ex estate john baird\n",
      "executers david grierlate y town --> executers david grierlate\n",
      "executor estate abraham hull deceased --> executor estate abraham\n",
      "executor estate mathias londenberger --> executor estate\n",
      "executor estate doctor benjamin franklin deceased --> executor estate doctor benjamin\n",
      "farmer --> farmer\n",
      "furrier --> furrier\n",
      "gentleman --> gentleman\n",
      "goldsmith --> goldsmith\n",
      "guardian adam grier --> guardian\n",
      "guardian maria benezet --> guardian\n",
      "guardian william chevalier --> guardian\n",
      "hatter --> hatter\n",
      "inn keeper --> inn keeper\n",
      "junior broker --> junior broker\n",
      "law --> law\n",
      "lawyer --> lawyer\n",
      "marchant --> marchant\n",
      "mariner --> mariner\n",
      "merchant --> merchant\n",
      "merchant executer estate john schweig hauser deceased --> merchant executer estate john schweig\n",
      "merchants --> merchants\n",
      "no occupation --> no occupation\n",
      "pennsylvania --> pennsylvania\n",
      "physician --> physician\n",
      "post master --> post master\n",
      "printer --> printer\n",
      "printer trust jennet thompson --> printer trust\n",
      "property mathematics --> property mathematics\n",
      "reverend --> reverend\n",
      "sheriff --> sheriff\n",
      "ship wright --> ship wright\n",
      "shop keeper --> shop keeper\n",
      "shopkeeper --> shopkeeper\n",
      "silversmith --> silversmith\n",
      "spinster --> spinster\n",
      "tanner --> tanner\n",
      "taylor --> taylor\n",
      "treasurer first presbyterian church --> treasurer first\n",
      "trust by david cloyd --> trust by\n",
      "widow --> widow\n",
      "yeoman --> yeoman\n",
      "christopher mary charity pyrleus --> christopher mary\n",
      "trust estate robert dill --> trust estate\n"
     ]
    }
   ],
   "source": [
    "retdict = FindRemoveConst(OccsTotalsPA['occupation'].tolist())\n",
    "ogoccs['new occupation'] = ogoccs['new occupation'].apply(lambda x: retdict.get(x, x))"
   ]
  },
  {
   "cell_type": "code",
   "execution_count": 66,
   "id": "7fa72484",
   "metadata": {
    "pycharm": {
     "name": "#%%\n"
    },
    "scrolled": false
   },
   "outputs": [
    {
     "name": "stdout",
     "output_type": "stream",
     "text": [
      "Occupations --> Potential Cleaned Occupations\n",
      "---------------------------------------------\n",
      "\n",
      "\n",
      "ah.vat law --> ah.vat\n",
      "adm alexander mccaraher late chester --> adm\n",
      "administer estate --> administer\n",
      "administor est --> administor\n",
      "attorney law --> attorney\n",
      "black smith --> black\n",
      "book binder --> book\n",
      "broker --> broker\n",
      "clerk --> clerk\n",
      "co --> co\n",
      "conveyancer --> conveyancer\n",
      "cordwainder --> cordwainder\n",
      "druggist --> druggist\n",
      "esquier --> esquier\n",
      "esquire --> esquire\n",
      "estate john --> estate\n",
      "estate --> estate\n",
      "ex --> ex\n",
      "ex --> ex\n",
      "ex estate john baird --> baird\n",
      "executers david grierlate --> executers\n",
      "executor estate abraham --> executor\n",
      "executor estate --> executor\n",
      "executor estate doctor benjamin --> executor\n",
      "farmer --> farmer\n",
      "furrier --> furrier\n",
      "gentleman --> gentleman\n",
      "goldsmith --> goldsmith\n",
      "guardian --> guardian\n",
      "guardian --> guardian\n",
      "guardian --> guardian\n",
      "hatter --> hatter\n",
      "inn keeper --> inn\n",
      "junior broker --> junior\n",
      "law --> law\n",
      "lawyer --> lawyer\n",
      "marchant --> marchant\n",
      "mariner --> mariner\n",
      "merchant --> merchant\n",
      "merchant executer estate john schweig --> merchant\n",
      "merchants --> merchants\n",
      "no occupation --> occupation\n",
      "pennsylvania --> pennsylvania\n",
      "physician --> physician\n",
      "post master --> post\n",
      "printer --> printer\n",
      "printer trust --> printer\n",
      "property mathematics --> property\n",
      "reverend --> reverend\n",
      "sheriff --> sheriff\n",
      "ship wright --> ship\n",
      "shop keeper --> shop\n",
      "shopkeeper --> shopkeeper\n",
      "silversmith --> silversmith\n",
      "spinster --> spinster\n",
      "tanner --> tanner\n",
      "taylor --> taylor\n",
      "treasurer first --> treasurer\n",
      "trust by --> trust\n",
      "widow --> widow\n",
      "yeoman --> yeoman\n",
      "christopher mary --> christopher\n",
      "trust estate --> trust\n"
     ]
    }
   ],
   "source": [
    "retdict = PrintFutureOccupations(OccsTotalsPA['occupation'].tolist())\n",
    "ogoccs['new occupation'] = ogoccs['new occupation'].apply(lambda x: retdict.get(x, x))"
   ]
  },
  {
   "cell_type": "code",
   "execution_count": 67,
   "id": "26b1bc87",
   "metadata": {
    "pycharm": {
     "name": "#%%\n"
    },
    "scrolled": false
   },
   "outputs": [
    {
     "name": "stdout",
     "output_type": "stream",
     "text": [
      "After Cleaning\n",
      "--------------\n",
      "\n",
      "\n",
      "     occupation     6p_total  # of people % of total people\n",
      "0      attorney      58.0500            1              None\n",
      "1    administer     799.5100            1              None\n",
      "2    administer    1865.4400            1              None\n",
      "3    administor      27.5300            1              None\n",
      "4      attorney    1223.6200            1              None\n",
      "5    blacksmith     692.2500            1              None\n",
      "6   book binder     783.0700            1              None\n",
      "7        broker   64008.8400           60              None\n",
      "8         clerk    1855.5800            4              None\n",
      "9          None    2898.8600            4              None\n",
      "10  conveyancer     108.4000            1              None\n",
      "11  cordwainder     281.2500            1              None\n",
      "12     druggist    4922.4300            2              None\n",
      "13          esq   20672.0700            6              None\n",
      "14          esq   20770.1700           15              None\n",
      "15       estate       0.0000            1              None\n",
      "16       estate    1979.6000            1              None\n",
      "17    executors    1802.9600            1              None\n",
      "18    executors     668.9600            1              None\n",
      "19    executors     115.9400            1              None\n",
      "20    executers    5658.3600            1              None\n",
      "21     executor      47.9100            1              None\n",
      "22     executor     493.8300            1              None\n",
      "23     executor       0.0000            1              None\n",
      "24       farmer    1685.8100            5              None\n",
      "25      furrier    3107.1800            1              None\n",
      "26    gentleman    7540.6600            6              None\n",
      "27    goldsmith     142.2200            1              None\n",
      "28     guardian    1605.8000            1              None\n",
      "29     guardian    2267.5000            1              None\n",
      "30     guardian     666.6600            1              None\n",
      "31       hatter    2291.7600            3              None\n",
      "32   inn keeper    1668.6800            3              None\n",
      "33       broker   10691.1200            3              None\n",
      "34     attorney    3942.1100            2              None\n",
      "35     attorney    3472.9000            1              None\n",
      "36     marchant    1133.2500            2              None\n",
      "37      mariner    3906.5714            5              None\n",
      "38     merchant  554945.2200          227              None\n",
      "39     merchant    5333.3300            1              None\n",
      "40    merchants   54042.2900            7              None\n",
      "41   occupation  597445.0891          527              None\n",
      "42         None     856.5600            1              None\n",
      "43       doctor    1769.0100            1              None\n",
      "44  post master    7083.5300            1              None\n",
      "45      printer    7423.7300            5              None\n",
      "46      printer     294.0100            1              None\n",
      "47     property     461.1100            1              None\n",
      "48     reverend     224.1200            1              None\n",
      "49      sheriff      56.2100            1              None\n",
      "50  ship wright    1241.7600            1              None\n",
      "51   shopkeeper      41.4700            1              None\n",
      "52   shopkeeper     547.4800            2              None\n",
      "53  silversmith    1917.6500            2              None\n",
      "54     spinster     528.3300            1              None\n",
      "55       tanner    1192.2500            2              None\n",
      "56       taylor    2137.3900            4              None\n",
      "57    treasurer     714.8100            1              None\n",
      "58        trust     618.1400            1              None\n",
      "59        widow    5576.5300            5              None\n",
      "60       farmer    1136.0600            2              None\n",
      "61   individual     846.2300            1              None\n",
      "62        trust    1436.5000            1              None\n",
      "\n",
      "\n",
      "After Removing Duplicates and Summing\n",
      "-------------------------------------\n",
      "\n",
      "\n",
      "     occupation     6p_total  # of people  % of total people\n",
      "0    administer    2664.9500            2                  0\n",
      "1    administor      27.5300            1                  0\n",
      "2      attorney    8696.6800            5                  0\n",
      "3    blacksmith     692.2500            1                  0\n",
      "4   book binder     783.0700            1                  0\n",
      "5        broker   74699.9600           63                  0\n",
      "6         clerk    1855.5800            4                  0\n",
      "7   conveyancer     108.4000            1                  0\n",
      "8   cordwainder     281.2500            1                  0\n",
      "9        doctor    1769.0100            1                  0\n",
      "10     druggist    4922.4300            2                  0\n",
      "11          esq   41442.2400           21                  0\n",
      "12       estate    1979.6000            2                  0\n",
      "13    executers    5658.3600            1                  0\n",
      "14     executor     541.7400            3                  0\n",
      "15    executors    2587.8600            3                  0\n",
      "16       farmer    2821.8700            7                  0\n",
      "17      furrier    3107.1800            1                  0\n",
      "18    gentleman    7540.6600            6                  0\n",
      "19    goldsmith     142.2200            1                  0\n",
      "20     guardian    4539.9600            3                  0\n",
      "21       hatter    2291.7600            3                  0\n",
      "22   individual     846.2300            1                  0\n",
      "23   inn keeper    1668.6800            3                  0\n",
      "24     marchant    1133.2500            2                  0\n",
      "25      mariner    3906.5714            5                  0\n",
      "26     merchant  560278.5500          228                  0\n",
      "27    merchants   54042.2900            7                  0\n",
      "28   occupation  597445.0891          527                  0\n",
      "29  post master    7083.5300            1                  0\n",
      "30      printer    7717.7400            6                  0\n",
      "31     property     461.1100            1                  0\n",
      "32     reverend     224.1200            1                  0\n",
      "33      sheriff      56.2100            1                  0\n",
      "34  ship wright    1241.7600            1                  0\n",
      "35   shopkeeper     588.9500            3                  0\n",
      "36  silversmith    1917.6500            2                  0\n",
      "37     spinster     528.3300            1                  0\n",
      "38       tanner    1192.2500            2                  0\n",
      "39       taylor    2137.3900            4                  0\n",
      "40    treasurer     714.8100            1                  0\n",
      "41        trust    2054.6400            2                  0\n",
      "42        widow    5576.5300            5                  0\n",
      "\n",
      "\n",
      "Removed: administor --> administer\n",
      "Removed: executor --> executers\n",
      "Removed: executors --> executers\n",
      "Removed: merchant --> marchant\n",
      "Removed: merchants --> marchant\n",
      "\n",
      "\n",
      "After Using Fuzzy String Matching\n",
      "---------------------------------\n",
      "\n",
      "\n",
      "     occupation     6p_total  # of people  % of total people  average debt per person\n",
      "0      marchant  615454.0900          237          25.293490              2596.852700\n",
      "1    occupation  597445.0891          527          56.243330              1133.671896\n",
      "2        broker   74699.9600           63           6.723586              1185.713651\n",
      "3           esq   41442.2400           21           2.241195              1973.440000\n",
      "4     executers    8787.9600            7           0.747065              1255.422857\n",
      "5      attorney    8696.6800            5           0.533618              1739.336000\n",
      "6       printer    7717.7400            6           0.640342              1286.290000\n",
      "7     gentleman    7540.6600            6           0.640342              1256.776667\n",
      "8   post master    7083.5300            1           0.106724              7083.530000\n",
      "9         widow    5576.5300            5           0.533618              1115.306000\n",
      "10     druggist    4922.4300            2           0.213447              2461.215000\n",
      "11     guardian    4539.9600            3           0.320171              1513.320000\n",
      "12      mariner    3906.5714            5           0.533618               781.314280\n",
      "13      furrier    3107.1800            1           0.106724              3107.180000\n",
      "14       farmer    2821.8700            7           0.747065               403.124286\n",
      "15   administer    2692.4800            3           0.320171               897.493333\n",
      "16       hatter    2291.7600            3           0.320171               763.920000\n",
      "17       taylor    2137.3900            4           0.426894               534.347500\n",
      "18        trust    2054.6400            2           0.213447              1027.320000\n",
      "19       estate    1979.6000            2           0.213447               989.800000\n",
      "20  silversmith    1917.6500            2           0.213447               958.825000\n",
      "21        clerk    1855.5800            4           0.426894               463.895000\n",
      "22       doctor    1769.0100            1           0.106724              1769.010000\n",
      "23   inn keeper    1668.6800            3           0.320171               556.226667\n",
      "24  ship wright    1241.7600            1           0.106724              1241.760000\n",
      "25       tanner    1192.2500            2           0.213447               596.125000\n",
      "26   individual     846.2300            1           0.106724               846.230000\n",
      "27  book binder     783.0700            1           0.106724               783.070000\n",
      "28    treasurer     714.8100            1           0.106724               714.810000\n",
      "29   blacksmith     692.2500            1           0.106724               692.250000\n",
      "30   shopkeeper     588.9500            3           0.320171               196.316667\n",
      "31     spinster     528.3300            1           0.106724               528.330000\n",
      "32     property     461.1100            1           0.106724               461.110000\n",
      "33  cordwainder     281.2500            1           0.106724               281.250000\n",
      "34     reverend     224.1200            1           0.106724               224.120000\n",
      "35    goldsmith     142.2200            1           0.106724               142.220000\n",
      "36  conveyancer     108.4000            1           0.106724               108.400000\n",
      "37      sheriff      56.2100            1           0.106724                56.210000\n",
      "\n",
      "\n"
     ]
    }
   ],
   "source": [
    "retdict, OccsTotalsPA = MergeOccupations(OccsTotalsPA)\n",
    "ogoccs['new occupation'] = ogoccs['new occupation'].apply(lambda x: retdict.get(x, x))"
   ]
  },
  {
   "cell_type": "code",
   "execution_count": 68,
   "id": "ba583411",
   "metadata": {
    "pycharm": {
     "name": "#%%\n"
    }
   },
   "outputs": [],
   "source": [
    "TurnToExcel(OccsTotalsPA, State)"
   ]
  },
  {
   "cell_type": "markdown",
   "id": "ee94923a",
   "metadata": {
    "pycharm": {
     "name": "#%% md\n"
    }
   },
   "source": [
    "# Rhode Island"
   ]
  },
  {
   "cell_type": "code",
   "execution_count": 69,
   "id": "9babd2ef",
   "metadata": {
    "pycharm": {
     "name": "#%%\n"
    }
   },
   "outputs": [
    {
     "name": "stdout",
     "output_type": "stream",
     "text": [
      "     6p_Dollar  6p_Cents  6p_def_Dollar  6p_def_Cents  3p_Dollar  3p_Cents  \\\n",
      "0        154.0      20.0           77.0          10.0      192.0       NaN   \n",
      "1         60.0      37.0           30.0          18.0       63.0      83.0   \n",
      "2        342.0      70.0          171.0          35.0      231.0       NaN   \n",
      "3        194.0      54.0           97.0          27.0      222.0       1.0   \n",
      "4        130.0      93.0           65.0          47.0       54.0       NaN   \n",
      "..         ...       ...            ...           ...        ...       ...   \n",
      "461       28.0      44.0           14.0          22.0       29.0      70.0   \n",
      "462      142.0      44.0           71.0          22.0      132.0      43.0   \n",
      "463      183.0      33.0           91.0          67.0      175.0      60.0   \n",
      "464       83.0      33.0           41.0          67.0       79.0      75.0   \n",
      "465       33.0      33.0           17.0          39.0       31.0      94.0   \n",
      "\n",
      "                              town state     occupation  \\\n",
      "0                     Rhode Island    RI         Farmer   \n",
      "1                     Rhode Island    RI  No Occupation   \n",
      "2    Newport State of Rhode Island    RI  No Occupation   \n",
      "3                       Providence    RI       Merchant   \n",
      "4                       Providence    RI  No Occupation   \n",
      "..                             ...   ...            ...   \n",
      "461                       Cranston    RI         Yeoman   \n",
      "462                     Providence    RI       Merchant   \n",
      "463                   Rhode Island    RI  No Occupation   \n",
      "464                   Rhode Island    RI  No Occupation   \n",
      "465                   Rhode Island    RI       Merchant   \n",
      "\n",
      "                                                  Name             county  \\\n",
      "0                                    ['Richard Green']                NaN   \n",
      "1                                  ['Timothy Peckham']                NaN   \n",
      "2                                  ['Elizabeth Brown']     Newport County   \n",
      "3                            ['Clark and Nightingale']  Providence County   \n",
      "4                                   ['Welcome Arnold']  Providence County   \n",
      "..                                                 ...                ...   \n",
      "461  ['Nehemiah Rhodes', 'Nehemiah Rhodes Transferr...  Providence County   \n",
      "462  ['Clark and Nightingale transfer from register...  Providence County   \n",
      "463                                 ['Nicholas Brown']                NaN   \n",
      "464                                ['Elizabeth Brown']                NaN   \n",
      "465                                    ['John Updike']                NaN   \n",
      "\n",
      "    name_type  6p_total  \n",
      "0       state    154.20  \n",
      "1       state     60.37  \n",
      "2       state    342.70  \n",
      "3        town    194.54  \n",
      "4        town    130.93  \n",
      "..        ...       ...  \n",
      "461      town     28.44  \n",
      "462      town    142.44  \n",
      "463     state    183.33  \n",
      "464     state     83.33  \n",
      "465     state     33.33  \n",
      "\n",
      "[466 rows x 13 columns]\n"
     ]
    }
   ],
   "source": [
    "State = 'RI'\n",
    "AllOccsRI = AllOccs[AllOccs['state'] == State] #Separate rows by state\n",
    "AllOccsRI = AllOccsRI.dropna(subset=['occupation']).reset_index(drop=True) #Drop any rows w/o an occupation listed. \n",
    "print(AllOccsRI)"
   ]
  },
  {
   "cell_type": "code",
   "execution_count": 70,
   "id": "0b8cd528",
   "metadata": {
    "pycharm": {
     "name": "#%%\n"
    }
   },
   "outputs": [
    {
     "name": "stdout",
     "output_type": "stream",
     "text": [
      "                                                                          occupation   6p_total  # of people\n",
      "0                      Administratrix to the Estate of Joshua Brown Esquire Deceased       0.00            1\n",
      "1                                                                        Auctioneers     460.77            3\n",
      "2                                                                              Baker     206.37            1\n",
      "3                                                                         Blacksmith     540.68            3\n",
      "4                                                                         Blockmaker       4.43            1\n",
      "5                                                                             Broker     171.50            2\n",
      "6                                                                            Butcher     235.70            1\n",
      "7                                                                          Carpenter       0.00            1\n",
      "8                                                                       Chaise Maker      47.57            1\n",
      "9                                                                             Cooper    1596.15            3\n",
      "10                                                                        Cordwainer     417.48            1\n",
      "11                                                                            Deacon      16.35            1\n",
      "12                                                                         Distiller     466.25            3\n",
      "13                                                                            Doctor     445.45            1\n",
      "14                                                                           Esquier      13.08            1\n",
      "15                                                                           Esquire   68388.42          129\n",
      "16                                        Extors to the Late Jn Jenckes Esq Deceased     124.50            1\n",
      "17                                    Extors to the Late Nicholas Brown Esq Deceased       0.00            1\n",
      "18                                                                            Farmer    1487.53            2\n",
      "19  General Treasurer of the state of Rhode Island and his suceessors in said office  199740.67            1\n",
      "20                                                                         Gentleman    2396.70           10\n",
      "21                                                                           Glazier     982.35            1\n",
      "22                                                                         Goldsmith       0.00            1\n",
      "23                                                                            Hatter     828.66            2\n",
      "24                                                                       Housewright     266.67            1\n",
      "25                                                                         Innholder    1430.29            8\n",
      "26                                                                          Labourer      67.16            2\n",
      "27                                                                           Mariner    4857.32           25\n",
      "28                                                                             Mason    1152.50            3\n",
      "29                                                                          Merchant   99957.63           97\n",
      "30                                                                         Merchants       4.29            1\n",
      "31                                                                     No Occupation    2758.50           18\n",
      "32                                                                         Physician    2676.24            7\n",
      "33                                                                          Reverend    2054.38            2\n",
      "34                                                                        Shipwright      89.72            2\n",
      "35                                                                         Shoemaker     114.88            1\n",
      "36                                                                          Spinster     721.33            3\n",
      "37                                                                            Taylor    1297.73            4\n",
      "38                                                                            Trader     436.34            5\n",
      "39                                                                Traders In Company      43.79            1\n",
      "40                                                             Treasurer Town Foster     131.11            1\n",
      "41                                                             Treasurer of Scituate     181.80            1\n",
      "42           Treasurer of St Johns Ledge No 1 of Tree and accepted Masons Providence     616.67            1\n",
      "43                             Treasurer of the Baptist Benevolent Society in Warren     120.83            1\n",
      "44                  Treasurer of the Congregational Benevolent Society in Providence     152.46            1\n",
      "45               Treasurer of the Society of Cincinnati in the State of Rhode Island    1432.30            1\n",
      "46                                 Treasurer of the State of Rhode Island Of Newport    2990.01            2\n",
      "47                         Treasurer of the State of Rhode Island Of Newport Esquire   16830.22            1\n",
      "48                         Treasurer to the Charitable Baptist Society in Providence     329.16            1\n",
      "49                                       Tresurer of the Catholic Society at Bristol      48.72            1\n",
      "50                                                                             Widow    6182.06           23\n",
      "51                                                                            Yeoman   13137.70           78\n",
      "52                                          in behalf of the Proprietors of Tiverton      58.64            1\n",
      "53                                               treasurer of the Town of Providence      73.71            1\n"
     ]
    }
   ],
   "source": [
    "OccsTotalsRI = AllOccsRI.groupby('occupation')['6p_total'].apply(sum).reset_index() #Combine duplicate occupations.\n",
    "OccsTotalsRI['# of people'] = OccsTotalsRI['occupation'].map(AllOccsRI['occupation'].value_counts(dropna=False)) #Map # of people that belong to each occupation.\n",
    "print(OccsTotalsRI.to_string())\n",
    "\n",
    "temp_df = OccsTotalsRI[['occupation']]"
   ]
  },
  {
   "cell_type": "code",
   "execution_count": 71,
   "id": "e204b240",
   "metadata": {
    "pycharm": {
     "name": "#%%\n"
    }
   },
   "outputs": [
    {
     "name": "stdout",
     "output_type": "stream",
     "text": [
      "                                                       occupation   6p_total  # of people\n",
      "0             administratrix estate joshua brown esquire deceased       0.00            1\n",
      "1                                                     auctioneers     460.77            3\n",
      "2                                                           baker     206.37            1\n",
      "3                                                      blacksmith     540.68            3\n",
      "4                                                      blockmaker       4.43            1\n",
      "5                                                          broker     171.50            2\n",
      "6                                                         butcher     235.70            1\n",
      "7                                                       carpenter       0.00            1\n",
      "8                                                    chaise maker      47.57            1\n",
      "9                                                          cooper    1596.15            3\n",
      "10                                                     cordwainer     417.48            1\n",
      "11                                                         deacon      16.35            1\n",
      "12                                                      distiller     466.25            3\n",
      "13                                                         doctor     445.45            1\n",
      "14                                                        esquier      13.08            1\n",
      "15                                                        esquire   68388.42          129\n",
      "16                            extors late jn jenckes esq deceased     124.50            1\n",
      "17                        extors late nicholas brown esq deceased       0.00            1\n",
      "18                                                         farmer    1487.53            2\n",
      "19    general treasurer state rhode island suceessors said office  199740.67            1\n",
      "20                                                      gentleman    2396.70           10\n",
      "21                                                        glazier     982.35            1\n",
      "22                                                      goldsmith       0.00            1\n",
      "23                                                         hatter     828.66            2\n",
      "24                                                    housewright     266.67            1\n",
      "25                                                      innholder    1430.29            8\n",
      "26                                                       labourer      67.16            2\n",
      "27                                                        mariner    4857.32           25\n",
      "28                                                          mason    1152.50            3\n",
      "29                                                       merchant   99957.63           97\n",
      "30                                                      merchants       4.29            1\n",
      "31                                                  no occupation    2758.50           18\n",
      "32                                                      physician    2676.24            7\n",
      "33                                                       reverend    2054.38            2\n",
      "34                                                     shipwright      89.72            2\n",
      "35                                                      shoemaker     114.88            1\n",
      "36                                                       spinster     721.33            3\n",
      "37                                                         taylor    1297.73            4\n",
      "38                                                         trader     436.34            5\n",
      "39                                             traders in company      43.79            1\n",
      "40                                          treasurer town foster     131.11            1\n",
      "41                                             treasurer scituate     181.80            1\n",
      "42  treasurer st johns ledge no 1 tree accepted masons providence     616.67            1\n",
      "43                    treasurer baptist benevolent society warren     120.83            1\n",
      "44         treasurer congregational benevolent society providence     152.46            1\n",
      "45                treasurer society cincinnati state rhode island    1432.30            1\n",
      "46                        treasurer state rhode island of newport    2990.01            2\n",
      "47                treasurer state rhode island of newport esquire   16830.22            1\n",
      "48                treasurer charitable baptist society providence     329.16            1\n",
      "49                              tresurer catholic society bristol      48.72            1\n",
      "50                                                          widow    6182.06           23\n",
      "51                                                         yeoman   13137.70           78\n",
      "52                                    behalf proprietors tiverton      58.64            1\n",
      "53                                      treasurer town providence      73.71            1\n"
     ]
    },
    {
     "name": "stderr",
     "output_type": "stream",
     "text": [
      "/var/folders/5s/dvrxt95949x1pm_sjxm85lj00000gn/T/ipykernel_60320/3545872157.py:4: SettingWithCopyWarning: \n",
      "A value is trying to be set on a copy of a slice from a DataFrame.\n",
      "Try using .loc[row_indexer,col_indexer] = value instead\n",
      "\n",
      "See the caveats in the documentation: https://pandas.pydata.org/pandas-docs/stable/user_guide/indexing.html#returning-a-view-versus-a-copy\n",
      "  temp_df['new occupation'] = OccsTotalsRI['occupation']\n"
     ]
    }
   ],
   "source": [
    "OccsTotalsRI = RemoveStopwords(OccsTotalsRI) \n",
    "print(OccsTotalsRI.to_string())\n",
    "\n",
    "temp_df['new occupation'] = OccsTotalsRI['occupation']\n",
    "ogoccs = pd.concat([ogoccs, temp_df])"
   ]
  },
  {
   "cell_type": "code",
   "execution_count": 72,
   "id": "d9abc649",
   "metadata": {
    "pycharm": {
     "name": "#%%\n"
    }
   },
   "outputs": [
    {
     "name": "stdout",
     "output_type": "stream",
     "text": [
      "Occupation Before --> Occupation After\n",
      "--------------------------------------\n",
      "\n",
      "\n",
      "administratrix estate joshua brown esquire deceased --> administratrix estate joshua brown\n",
      "auctioneers --> auctioneers\n",
      "baker --> baker\n",
      "blacksmith --> blacksmith\n",
      "blockmaker --> blockmaker\n",
      "broker --> broker\n",
      "butcher --> butcher\n",
      "carpenter --> carpenter\n",
      "chaise maker --> chaise maker\n",
      "cooper --> cooper\n",
      "cordwainer --> cordwainer\n",
      "deacon --> deacon\n",
      "distiller --> distiller\n",
      "doctor --> doctor\n",
      "esquier --> esquier\n",
      "esquire --> esquire\n",
      "extors late jn jenckes esq deceased --> extors late jn jenckes\n",
      "extors late nicholas brown esq deceased --> extors late nicholas brown\n",
      "farmer --> farmer\n",
      "general treasurer state rhode island suceessors said office --> general treasurer state rhode island suceessors\n",
      "gentleman --> gentleman\n",
      "glazier --> glazier\n",
      "goldsmith --> goldsmith\n",
      "hatter --> hatter\n",
      "housewright --> housewright\n",
      "innholder --> innholder\n",
      "labourer --> labourer\n",
      "mariner --> mariner\n",
      "mason --> mason\n",
      "merchant --> merchant\n",
      "merchants --> merchants\n",
      "no occupation --> no occupation\n",
      "physician --> physician\n",
      "reverend --> reverend\n",
      "shipwright --> shipwright\n",
      "shoemaker --> shoemaker\n",
      "spinster --> spinster\n",
      "taylor --> taylor\n",
      "trader --> trader\n",
      "traders in company --> traders\n",
      "treasurer town foster --> treasurer\n",
      "treasurer scituate --> treasurer scituate\n",
      "treasurer st johns ledge no 1 tree accepted masons providence --> treasurer st johns ledge no 1 tree accepted\n",
      "treasurer baptist benevolent society warren --> treasurer baptist benevolent\n",
      "treasurer congregational benevolent society providence --> treasurer congregational benevolent\n",
      "treasurer society cincinnati state rhode island --> treasurer society cincinnati state\n",
      "treasurer state rhode island of newport --> treasurer state rhode island\n",
      "treasurer state rhode island of newport esquire --> treasurer state rhode island of\n",
      "treasurer charitable baptist society providence --> treasurer charitable baptist\n",
      "tresurer catholic society bristol --> tresurer catholic\n",
      "widow --> widow\n",
      "yeoman --> yeoman\n",
      "behalf proprietors tiverton --> behalf\n",
      "treasurer town providence --> treasurer\n"
     ]
    }
   ],
   "source": [
    "retdict = FindRemoveConst(OccsTotalsRI['occupation'].tolist())\n",
    "ogoccs['new occupation'] = ogoccs['new occupation'].apply(lambda x: retdict.get(x, x))"
   ]
  },
  {
   "cell_type": "code",
   "execution_count": 73,
   "id": "95935b74",
   "metadata": {
    "pycharm": {
     "name": "#%%\n"
    }
   },
   "outputs": [],
   "source": [
    "Remove = 1"
   ]
  },
  {
   "cell_type": "code",
   "execution_count": 74,
   "id": "f4f1dd51",
   "metadata": {
    "pycharm": {
     "name": "#%%\n"
    }
   },
   "outputs": [
    {
     "name": "stdout",
     "output_type": "stream",
     "text": [
      "Occupations --> Potential Cleaned Occupations\n",
      "---------------------------------------------\n",
      "\n",
      "\n",
      "administratrix estate joshua brown esquire --> administratrix\n",
      "auctioneers --> auctioneers\n",
      "baker --> baker\n",
      "blacksmith --> blacksmith\n",
      "blockmaker --> blockmaker\n",
      "broker --> broker\n",
      "butcher --> butcher\n",
      "carpenter --> carpenter\n",
      "chaise maker --> chaise\n",
      "cooper --> cooper\n",
      "cordwainer --> cordwainer\n",
      "deacon --> deacon\n",
      "distiller --> distiller\n",
      "doctor --> doctor\n",
      "esquier --> esquier\n",
      "esquire --> esquire\n",
      "extors late jn jenckes esq --> extors\n",
      "extors late nicholas brown esq --> extors\n",
      "farmer --> farmer\n",
      "general treasurer state rhode island suceessors said --> general\n",
      "gentleman --> gentleman\n",
      "glazier --> glazier\n",
      "goldsmith --> goldsmith\n",
      "hatter --> hatter\n",
      "housewright --> housewright\n",
      "innholder --> innholder\n",
      "labourer --> labourer\n",
      "mariner --> mariner\n",
      "mason --> mason\n",
      "merchant --> merchant\n",
      "merchants --> merchants\n",
      "no occupation --> occupation\n",
      "physician --> physician\n",
      "reverend --> reverend\n",
      "shipwright --> shipwright\n",
      "shoemaker --> shoemaker\n",
      "spinster --> spinster\n",
      "taylor --> taylor\n",
      "trader --> trader\n",
      "traders in --> traders\n",
      "treasurer town --> treasurer\n",
      "treasurer scituate --> treasurer\n",
      "treasurer st johns ledge no 1 tree accepted masons --> treasurer\n",
      "treasurer baptist benevolent society --> treasurer\n",
      "treasurer congregational benevolent society --> treasurer\n",
      "treasurer society cincinnati state rhode --> treasurer\n",
      "treasurer state rhode island of --> treasurer\n",
      "treasurer state rhode island of newport --> treasurer\n",
      "treasurer charitable baptist society --> treasurer\n",
      "tresurer catholic society --> tresurer\n",
      "widow --> widow\n",
      "yeoman --> yeoman\n",
      "behalf proprietors --> behalf\n",
      "treasurer town --> treasurer\n"
     ]
    }
   ],
   "source": [
    "retdict = PrintFutureOccupations(OccsTotalsRI['occupation'].tolist())\n",
    "ogoccs['new occupation'] = ogoccs['new occupation'].apply(lambda x: retdict.get(x, x))"
   ]
  },
  {
   "cell_type": "code",
   "execution_count": 75,
   "id": "94e4648a",
   "metadata": {
    "scrolled": true,
    "pycharm": {
     "name": "#%%\n"
    }
   },
   "outputs": [
    {
     "name": "stdout",
     "output_type": "stream",
     "text": [
      "After Cleaning\n",
      "--------------\n",
      "\n",
      "\n",
      "        occupation   6p_total  # of people % of total people\n",
      "0   administratrix       0.00            1              None\n",
      "1      auctioneers     460.77            3              None\n",
      "2            baker     206.37            1              None\n",
      "3       blacksmith     540.68            3              None\n",
      "4       blockmaker       4.43            1              None\n",
      "5           broker     171.50            2              None\n",
      "6          butcher     235.70            1              None\n",
      "7        carpenter       0.00            1              None\n",
      "8     chaise maker      47.57            1              None\n",
      "9           cooper    1596.15            3              None\n",
      "10       shoemaker     417.48            1              None\n",
      "11          deacon      16.35            1              None\n",
      "12       distiller     466.25            3              None\n",
      "13          doctor     445.45            1              None\n",
      "14             esq      13.08            1              None\n",
      "15             esq   68388.42          129              None\n",
      "16          extors     124.50            1              None\n",
      "17          extors       0.00            1              None\n",
      "18          farmer    1487.53            2              None\n",
      "19       treasurer  199740.67            1              None\n",
      "20       gentleman    2396.70           10              None\n",
      "21         glazier     982.35            1              None\n",
      "22       goldsmith       0.00            1              None\n",
      "23          hatter     828.66            2              None\n",
      "24     housewright     266.67            1              None\n",
      "25      inn keeper    1430.29            8              None\n",
      "26        labourer      67.16            2              None\n",
      "27         mariner    4857.32           25              None\n",
      "28           mason    1152.50            3              None\n",
      "29        merchant   99957.63           97              None\n",
      "30       merchants       4.29            1              None\n",
      "31      occupation    2758.50           18              None\n",
      "32          doctor    2676.24            7              None\n",
      "33        reverend    2054.38            2              None\n",
      "34      shipwright      89.72            2              None\n",
      "35       shoemaker     114.88            1              None\n",
      "36        spinster     721.33            3              None\n",
      "37          taylor    1297.73            4              None\n",
      "38          trader     436.34            5              None\n",
      "39         traders      43.79            1              None\n",
      "40       treasurer     131.11            1              None\n",
      "41       treasurer     181.80            1              None\n",
      "42       treasurer     616.67            1              None\n",
      "43       treasurer     120.83            1              None\n",
      "44       treasurer     152.46            1              None\n",
      "45       treasurer    1432.30            1              None\n",
      "46       treasurer    2990.01            2              None\n",
      "47       treasurer   16830.22            1              None\n",
      "48       treasurer     329.16            1              None\n",
      "49        tresurer      48.72            1              None\n",
      "50           widow    6182.06           23              None\n",
      "51          farmer   13137.70           78              None\n",
      "52     proprietors      58.64            1              None\n",
      "53       treasurer      73.71            1              None\n",
      "\n",
      "\n",
      "After Removing Duplicates and Summing\n",
      "-------------------------------------\n",
      "\n",
      "\n",
      "        occupation   6p_total  # of people  % of total people\n",
      "0   administratrix       0.00            1                  0\n",
      "1      auctioneers     460.77            3                  0\n",
      "2            baker     206.37            1                  0\n",
      "3       blacksmith     540.68            3                  0\n",
      "4       blockmaker       4.43            1                  0\n",
      "5           broker     171.50            2                  0\n",
      "6          butcher     235.70            1                  0\n",
      "7        carpenter       0.00            1                  0\n",
      "8     chaise maker      47.57            1                  0\n",
      "9           cooper    1596.15            3                  0\n",
      "10          deacon      16.35            1                  0\n",
      "11       distiller     466.25            3                  0\n",
      "12          doctor    3121.69            8                  0\n",
      "13             esq   68401.50          130                  0\n",
      "14          extors     124.50            2                  0\n",
      "15          farmer   14625.23           80                  0\n",
      "16       gentleman    2396.70           10                  0\n",
      "17         glazier     982.35            1                  0\n",
      "18       goldsmith       0.00            1                  0\n",
      "19          hatter     828.66            2                  0\n",
      "20     housewright     266.67            1                  0\n",
      "21      inn keeper    1430.29            8                  0\n",
      "22        labourer      67.16            2                  0\n",
      "23         mariner    4857.32           25                  0\n",
      "24           mason    1152.50            3                  0\n",
      "25        merchant   99957.63           97                  0\n",
      "26       merchants       4.29            1                  0\n",
      "27      occupation    2758.50           18                  0\n",
      "28     proprietors      58.64            1                  0\n",
      "29        reverend    2054.38            2                  0\n",
      "30      shipwright      89.72            2                  0\n",
      "31       shoemaker     532.36            2                  0\n",
      "32        spinster     721.33            3                  0\n",
      "33          taylor    1297.73            4                  0\n",
      "34          trader     436.34            5                  0\n",
      "35         traders      43.79            1                  0\n",
      "36       treasurer  222598.94           12                  0\n",
      "37        tresurer      48.72            1                  0\n",
      "38           widow    6182.06           23                  0\n",
      "\n",
      "\n",
      "Removed: merchants --> merchant\n",
      "Removed: traders --> trader\n",
      "Removed: tresurer --> treasurer\n",
      "\n",
      "\n",
      "After Using Fuzzy String Matching\n",
      "---------------------------------\n",
      "\n",
      "\n",
      "        occupation   6p_total  # of people  % of total people  average debt per person\n",
      "0        treasurer  222647.66           13           2.789700             17126.743077\n",
      "1         merchant   99961.92           98          21.030043              1020.019592\n",
      "2              esq   68401.50          130          27.896996               526.165385\n",
      "3           farmer   14625.23           80          17.167382               182.815375\n",
      "4            widow    6182.06           23           4.935622               268.785217\n",
      "5          mariner    4857.32           25           5.364807               194.292800\n",
      "6           doctor    3121.69            8           1.716738               390.211250\n",
      "7       occupation    2758.50           18           3.862661               153.250000\n",
      "8        gentleman    2396.70           10           2.145923               239.670000\n",
      "9         reverend    2054.38            2           0.429185              1027.190000\n",
      "10          cooper    1596.15            3           0.643777               532.050000\n",
      "11      inn keeper    1430.29            8           1.716738               178.786250\n",
      "12          taylor    1297.73            4           0.858369               324.432500\n",
      "13           mason    1152.50            3           0.643777               384.166667\n",
      "14         glazier     982.35            1           0.214592               982.350000\n",
      "15          hatter     828.66            2           0.429185               414.330000\n",
      "16        spinster     721.33            3           0.643777               240.443333\n",
      "17      blacksmith     540.68            3           0.643777               180.226667\n",
      "18       shoemaker     532.36            2           0.429185               266.180000\n",
      "19          trader     480.13            6           1.287554                80.021667\n",
      "20       distiller     466.25            3           0.643777               155.416667\n",
      "21     auctioneers     460.77            3           0.643777               153.590000\n",
      "22     housewright     266.67            1           0.214592               266.670000\n",
      "23         butcher     235.70            1           0.214592               235.700000\n",
      "24           baker     206.37            1           0.214592               206.370000\n",
      "25          broker     171.50            2           0.429185                85.750000\n",
      "26          extors     124.50            2           0.429185                62.250000\n",
      "27      shipwright      89.72            2           0.429185                44.860000\n",
      "28        labourer      67.16            2           0.429185                33.580000\n",
      "29     proprietors      58.64            1           0.214592                58.640000\n",
      "30    chaise maker      47.57            1           0.214592                47.570000\n",
      "31          deacon      16.35            1           0.214592                16.350000\n",
      "32      blockmaker       4.43            1           0.214592                 4.430000\n",
      "33  administratrix       0.00            1           0.214592                 0.000000\n",
      "34       carpenter       0.00            1           0.214592                 0.000000\n",
      "35       goldsmith       0.00            1           0.214592                 0.000000\n",
      "\n",
      "\n"
     ]
    }
   ],
   "source": [
    "retdict, OccsTotalsRI = MergeOccupations(OccsTotalsRI)\n",
    "ogoccs['new occupation'] = ogoccs['new occupation'].apply(lambda x: retdict.get(x, x))"
   ]
  },
  {
   "cell_type": "code",
   "execution_count": 76,
   "id": "180c2381",
   "metadata": {
    "pycharm": {
     "name": "#%%\n"
    }
   },
   "outputs": [],
   "source": [
    "TurnToExcel(OccsTotalsRI, State)"
   ]
  },
  {
   "cell_type": "markdown",
   "id": "1bc7964f",
   "metadata": {
    "pycharm": {
     "name": "#%% md\n"
    }
   },
   "source": [
    "# South Carolina"
   ]
  },
  {
   "cell_type": "code",
   "execution_count": 77,
   "id": "12391c58",
   "metadata": {
    "pycharm": {
     "name": "#%%\n"
    }
   },
   "outputs": [
    {
     "name": "stdout",
     "output_type": "stream",
     "text": [
      "     6p_Dollar   6p_Cents  6p_def_Dollar  6p_def_Cents  3p_Dollar  3p_Cents  \\\n",
      "0          1.0  1580.6300            1.0      790.3100        1.0   1818.62   \n",
      "1          1.0    47.4800            1.0       23.7500        1.0     51.90   \n",
      "2          1.0   824.4133            1.0      412.2033        1.0    941.54   \n",
      "3          1.0   322.7433            1.0      161.3733        1.0    349.98   \n",
      "4          1.0   333.0800            1.0      166.5400        1.0    359.55   \n",
      "..         ...        ...            ...           ...        ...       ...   \n",
      "357        NaN        NaN            NaN           NaN      167.0     77.00   \n",
      "358        NaN        NaN            NaN           NaN     3600.0       NaN   \n",
      "359       84.0    13.0000           42.0        7.0000       88.0     48.00   \n",
      "360      242.0    67.0000          121.0       33.0000       79.0     52.00   \n",
      "361      180.0    47.0000           90.0       24.0000      207.0     93.00   \n",
      "\n",
      "                           town state       occupation  \\\n",
      "0                    Charleston    SC    No Occupation   \n",
      "1                    Charleston    SC    No Occupation   \n",
      "2                South Carolina    SC              Esq   \n",
      "3    Charleston  South Carolina    SC    No Occupation   \n",
      "4    Charleston  South Carolina    SC    No Occupation   \n",
      "..                          ...   ...              ...   \n",
      "357                  Charleston    SC  Attorney at Law   \n",
      "358                  Charleston    SC         Merchant   \n",
      "359                  Charleston    SC    No Occupation   \n",
      "360                  Charleston    SC    No Occupation   \n",
      "361              South Carolina    SC         Marriner   \n",
      "\n",
      "                                    Name             county name_type  \\\n",
      "0                   ['John Paul Grimke']  Charleston County      town   \n",
      "1                         ['Jacob Read']  Charleston County      town   \n",
      "2                      ['Henry Laurens']                NaN     state   \n",
      "3    ['The Elders of the Congregation ']  Charleston County      town   \n",
      "4                     ['Alexander Bose']  Charleston County      town   \n",
      "..                                   ...                ...       ...   \n",
      "357                      ['Joshua Ward']  Charleston County      town   \n",
      "358                     ['Hugh Bethune']  Charleston County      town   \n",
      "359                   ['William Graham']  Charleston County      town   \n",
      "360                     ['Simeon Theus']  Charleston County      town   \n",
      "361                      ['Thomas Ross']                NaN     state   \n",
      "\n",
      "       6p_total  \n",
      "0     16.806300  \n",
      "1      1.474800  \n",
      "2      9.244133  \n",
      "3      4.227433  \n",
      "4      4.330800  \n",
      "..          ...  \n",
      "357         NaN  \n",
      "358         NaN  \n",
      "359   84.130000  \n",
      "360  242.670000  \n",
      "361  180.470000  \n",
      "\n",
      "[362 rows x 13 columns]\n"
     ]
    }
   ],
   "source": [
    "State = 'SC'\n",
    "AllOccsSC = AllOccs[AllOccs['state'] == State] #Separate rows by state\n",
    "AllOccsSC = AllOccsSC.dropna(subset=['occupation']).reset_index(drop=True) #Drop any rows w/o an occupation listed. \n",
    "print(AllOccsSC)"
   ]
  },
  {
   "cell_type": "code",
   "execution_count": 78,
   "id": "060524d2",
   "metadata": {
    "pycharm": {
     "name": "#%%\n"
    }
   },
   "outputs": [
    {
     "name": "stdout",
     "output_type": "stream",
     "text": [
      "                                      occupation       6p_total  # of people\n",
      "0            Administrator to John Harleston Jun      33.330000            1\n",
      "1                 Administrator to Joseph Warley    1671.440000            1\n",
      "2                       Assignee of James Simons     345.020000            1\n",
      "3                                Attorney at Law    3690.940000            9\n",
      "4                                      Autioneer      10.650000            1\n",
      "5                                   Blacks smith    1423.480000            1\n",
      "6                                     Blockmaker    5264.230000            2\n",
      "7                                     Bricklayer      37.350000            1\n",
      "8                                         Broker    2334.890000           11\n",
      "9                                  Cabinet Maker      74.460000            1\n",
      "10                                     Carpenter     449.020000            5\n",
      "11                          Charleston Merchants      26.670000            2\n",
      "12                           Clerk of the Senate    1425.820000            2\n",
      "13                     Comtroller of the Customs      53.740000            1\n",
      "14                                           Esq      50.123166            2\n",
      "15                                      Excuetor      18.950200            1\n",
      "16                       Executor Philip Hawkins     239.100000            1\n",
      "17                   Executor of Benjamin Tucker     834.860000            2\n",
      "18                      Executor of Jacob Smiser      69.020000            1\n",
      "19                       Executor of James Peart      12.110000            1\n",
      "20                    Executor of Samuel Bonneau      23.720000            1\n",
      "21                   Executor of Sarah Lampriere      68.260000            1\n",
      "22                     Executor of William Gibbs      66.660000            1\n",
      "23                    Executor of William Parker     685.770000            1\n",
      "24                     Executor to Richard Mason    1024.910000            1\n",
      "25                   Executrix of William Savage      76.700000            1\n",
      "26                                        Factor    2961.480000            3\n",
      "27                                     Gentleman     474.430000            2\n",
      "28                                  Hair Dresser       0.000000            1\n",
      "29                                       Mariner     183.534700            3\n",
      "30                                      Marriner     180.470000            1\n",
      "31                                      Merchant   78643.324200          150\n",
      "32       Merchant as Executor to Benjamin Garden     234.960000            1\n",
      "33                                     Merchants     163.312700            2\n",
      "34                                 No Occupation  833354.266395           71\n",
      "35                   One of Judges of the Courts    2257.180000            1\n",
      "36                                     Penniston     914.240000            1\n",
      "37                                     Physician    7971.000000           10\n",
      "38                                       Planter   12438.706667           31\n",
      "39               Planter as Executor Ely Kershaw     883.330000            1\n",
      "40                                       Printer     132.720000            2\n",
      "41                                       Sheriff    2133.326667            2\n",
      "42                                    Shipwright     153.540000            1\n",
      "43                                    Shopkeeper     190.660000            4\n",
      "44                                South Carolina       0.000000            1\n",
      "45                                      Spinster     364.590000            1\n",
      "46                                        Tanner     377.490000            1\n",
      "47  Trustee for the Cincinnati of South Carolina    2439.020000            1\n",
      "48                                 Vendue Master     112.540000            1\n",
      "49                                         Widow    4910.700000           14\n",
      "50         as Guardian to Mary Deborah L. Gowdey      17.150000            1\n",
      "51   as treasurer of the State of south carolina     262.140000            2\n"
     ]
    }
   ],
   "source": [
    "OccsTotalsSC = AllOccsSC.groupby('occupation')['6p_total'].apply(sum).reset_index() #Combine duplicate occupations.\n",
    "OccsTotalsSC['# of people'] = OccsTotalsSC['occupation'].map(AllOccsSC['occupation'].value_counts(dropna=False)) #Map # of people that belong to each occupation.\n",
    "print(OccsTotalsSC.to_string())\n",
    "\n",
    "temp_df = OccsTotalsSC[['occupation']]"
   ]
  },
  {
   "cell_type": "code",
   "execution_count": 79,
   "id": "e5ca1a03",
   "metadata": {
    "pycharm": {
     "name": "#%%\n"
    }
   },
   "outputs": [
    {
     "name": "stdout",
     "output_type": "stream",
     "text": [
      "                           occupation       6p_total  # of people\n",
      "0    administrator john harleston jun      33.330000            1\n",
      "1         administrator joseph warley    1671.440000            1\n",
      "2               assignee james simons     345.020000            1\n",
      "3                        attorney law    3690.940000            9\n",
      "4                           autioneer      10.650000            1\n",
      "5                        blacks smith    1423.480000            1\n",
      "6                          blockmaker    5264.230000            2\n",
      "7                          bricklayer      37.350000            1\n",
      "8                              broker    2334.890000           11\n",
      "9                       cabinet maker      74.460000            1\n",
      "10                          carpenter     449.020000            5\n",
      "11               charleston merchants      26.670000            2\n",
      "12                       clerk senate    1425.820000            2\n",
      "13                 comtroller customs      53.740000            1\n",
      "14                                esq      50.123166            2\n",
      "15                           excuetor      18.950200            1\n",
      "16            executor philip hawkins     239.100000            1\n",
      "17           executor benjamin tucker     834.860000            2\n",
      "18              executor jacob smiser      69.020000            1\n",
      "19               executor james peart      12.110000            1\n",
      "20            executor samuel bonneau      23.720000            1\n",
      "21           executor sarah lampriere      68.260000            1\n",
      "22             executor william gibbs      66.660000            1\n",
      "23            executor william parker     685.770000            1\n",
      "24             executor richard mason    1024.910000            1\n",
      "25           executrix william savage      76.700000            1\n",
      "26                             factor    2961.480000            3\n",
      "27                          gentleman     474.430000            2\n",
      "28                       hair dresser       0.000000            1\n",
      "29                            mariner     183.534700            3\n",
      "30                           marriner     180.470000            1\n",
      "31                           merchant   78643.324200          150\n",
      "32  merchant executor benjamin garden     234.960000            1\n",
      "33                          merchants     163.312700            2\n",
      "34                      no occupation  833354.266395           71\n",
      "35                  one judges courts    2257.180000            1\n",
      "36                          penniston     914.240000            1\n",
      "37                          physician    7971.000000           10\n",
      "38                            planter   12438.706667           31\n",
      "39       planter executor ely kershaw     883.330000            1\n",
      "40                            printer     132.720000            2\n",
      "41                            sheriff    2133.326667            2\n",
      "42                         shipwright     153.540000            1\n",
      "43                         shopkeeper     190.660000            4\n",
      "44                     south carolina       0.000000            1\n",
      "45                           spinster     364.590000            1\n",
      "46                             tanner     377.490000            1\n",
      "47  trustee cincinnati south carolina    2439.020000            1\n",
      "48                      vendue master     112.540000            1\n",
      "49                              widow    4910.700000           14\n",
      "50    guardian mary deborah l. gowdey      17.150000            1\n",
      "51     treasurer state south carolina     262.140000            2\n"
     ]
    },
    {
     "name": "stderr",
     "output_type": "stream",
     "text": [
      "/var/folders/5s/dvrxt95949x1pm_sjxm85lj00000gn/T/ipykernel_60320/2747012364.py:4: SettingWithCopyWarning: \n",
      "A value is trying to be set on a copy of a slice from a DataFrame.\n",
      "Try using .loc[row_indexer,col_indexer] = value instead\n",
      "\n",
      "See the caveats in the documentation: https://pandas.pydata.org/pandas-docs/stable/user_guide/indexing.html#returning-a-view-versus-a-copy\n",
      "  temp_df['new occupation'] = OccsTotalsSC['occupation']\n"
     ]
    }
   ],
   "source": [
    "OccsTotalsSC = RemoveStopwords(OccsTotalsSC) \n",
    "print(OccsTotalsSC.to_string())\n",
    "\n",
    "temp_df['new occupation'] = OccsTotalsSC['occupation']\n",
    "ogoccs = pd.concat([ogoccs, temp_df])"
   ]
  },
  {
   "cell_type": "code",
   "execution_count": 80,
   "id": "c4a6e0d7",
   "metadata": {
    "pycharm": {
     "name": "#%%\n"
    }
   },
   "outputs": [
    {
     "name": "stdout",
     "output_type": "stream",
     "text": [
      "Occupation Before --> Occupation After\n",
      "--------------------------------------\n",
      "\n",
      "\n",
      "administrator john harleston jun --> administrator john harleston\n",
      "administrator joseph warley --> administrator joseph\n",
      "assignee james simons --> assignee james\n",
      "attorney law --> attorney law\n",
      "autioneer --> autioneer\n",
      "blacks smith --> blacks smith\n",
      "blockmaker --> blockmaker\n",
      "bricklayer --> bricklayer\n",
      "broker --> broker\n",
      "cabinet maker --> cabinet maker\n",
      "carpenter --> carpenter\n",
      "charleston merchants --> charleston merchants\n",
      "clerk senate --> clerk senate\n",
      "comtroller customs --> comtroller customs\n",
      "esq --> esq\n",
      "excuetor --> excuetor\n",
      "executor philip hawkins --> executor philip\n",
      "executor benjamin tucker --> executor benjamin\n",
      "executor jacob smiser --> executor jacob\n",
      "executor james peart --> executor james\n",
      "executor samuel bonneau --> executor samuel\n",
      "executor sarah lampriere --> executor sarah\n",
      "executor william gibbs --> executor william\n",
      "executor william parker --> executor william\n",
      "executor richard mason --> executor richard\n",
      "executrix william savage --> executrix william\n",
      "factor --> factor\n",
      "gentleman --> gentleman\n",
      "hair dresser --> hair dresser\n",
      "mariner --> mariner\n",
      "marriner --> marriner\n",
      "merchant --> merchant\n",
      "merchant executor benjamin garden --> merchant executor benjamin\n",
      "merchants --> merchants\n",
      "no occupation --> no occupation\n",
      "one judges courts --> one judges\n",
      "penniston --> penniston\n",
      "physician --> physician\n",
      "planter --> planter\n",
      "planter executor ely kershaw --> planter executor ely\n",
      "printer --> printer\n",
      "sheriff --> sheriff\n",
      "shipwright --> shipwright\n",
      "shopkeeper --> shopkeeper\n",
      "south carolina --> south carolina\n",
      "spinster --> spinster\n",
      "tanner --> tanner\n",
      "trustee cincinnati south carolina --> trustee cincinnati south\n",
      "vendue master --> vendue master\n",
      "widow --> widow\n",
      "guardian mary deborah l. gowdey --> guardian mary deborah l.\n",
      "treasurer state south carolina --> treasurer state south\n"
     ]
    }
   ],
   "source": [
    "retdict = FindRemoveConst(OccsTotalsSC['occupation'].tolist())\n",
    "ogoccs['new occupation'] = ogoccs['new occupation'].apply(lambda x: retdict.get(x, x))"
   ]
  },
  {
   "cell_type": "code",
   "execution_count": 81,
   "id": "4a98219b",
   "metadata": {
    "pycharm": {
     "name": "#%%\n"
    }
   },
   "outputs": [],
   "source": [
    "Remove = 1"
   ]
  },
  {
   "cell_type": "code",
   "execution_count": 82,
   "id": "7a263e72",
   "metadata": {
    "pycharm": {
     "name": "#%%\n"
    }
   },
   "outputs": [
    {
     "name": "stdout",
     "output_type": "stream",
     "text": [
      "Occupations --> Potential Cleaned Occupations\n",
      "---------------------------------------------\n",
      "\n",
      "\n",
      "administrator john harleston --> administrator\n",
      "administrator joseph --> administrator\n",
      "assignee james --> assignee\n",
      "attorney law --> attorney\n",
      "autioneer --> autioneer\n",
      "blacks smith --> blacks\n",
      "blockmaker --> blockmaker\n",
      "bricklayer --> bricklayer\n",
      "broker --> broker\n",
      "cabinet maker --> cabinet\n",
      "carpenter --> carpenter\n",
      "charleston merchants --> charleston\n",
      "clerk senate --> clerk\n",
      "comtroller customs --> comtroller\n",
      "esq --> esq\n",
      "excuetor --> excuetor\n",
      "executor philip --> executor\n",
      "executor benjamin --> executor\n",
      "executor jacob --> executor\n",
      "executor james --> executor\n",
      "executor samuel --> executor\n",
      "executor sarah --> executor\n",
      "executor william --> executor\n",
      "executor william --> executor\n",
      "executor richard --> executor\n",
      "executrix william --> executrix\n",
      "factor --> factor\n",
      "gentleman --> gentleman\n",
      "hair dresser --> hair\n",
      "mariner --> mariner\n",
      "marriner --> marriner\n",
      "merchant --> merchant\n",
      "merchant executor benjamin --> merchant\n",
      "merchants --> merchants\n",
      "no occupation --> occupation\n",
      "one judges --> judges\n",
      "penniston --> penniston\n",
      "physician --> physician\n",
      "planter --> planter\n",
      "planter executor ely --> planter\n",
      "printer --> printer\n",
      "sheriff --> sheriff\n",
      "shipwright --> shipwright\n",
      "shopkeeper --> shopkeeper\n",
      "south carolina --> south\n",
      "spinster --> spinster\n",
      "tanner --> tanner\n",
      "trustee cincinnati south --> trustee\n",
      "vendue master --> vendue\n",
      "widow --> widow\n",
      "guardian mary deborah l. --> guardian\n",
      "treasurer state south --> treasurer\n"
     ]
    }
   ],
   "source": [
    "retdict = PrintFutureOccupations(OccsTotalsSC['occupation'].tolist())\n",
    "ogoccs['new occupation'] = ogoccs['new occupation'].apply(lambda x: retdict.get(x, x))"
   ]
  },
  {
   "cell_type": "code",
   "execution_count": 83,
   "id": "ace789ea",
   "metadata": {
    "pycharm": {
     "name": "#%%\n"
    },
    "scrolled": false
   },
   "outputs": [
    {
     "name": "stdout",
     "output_type": "stream",
     "text": [
      "After Cleaning\n",
      "--------------\n",
      "\n",
      "\n",
      "        occupation       6p_total  # of people % of total people\n",
      "0    administrator      33.330000            1              None\n",
      "1    administrator    1671.440000            1              None\n",
      "2         assignee     345.020000            1              None\n",
      "3         attorney    3690.940000            9              None\n",
      "4        autioneer      10.650000            1              None\n",
      "5       blacksmith    1423.480000            1              None\n",
      "6       blockmaker    5264.230000            2              None\n",
      "7       bricklayer      37.350000            1              None\n",
      "8           broker    2334.890000           11              None\n",
      "9    cabinet maker      74.460000            1              None\n",
      "10       carpenter     449.020000            5              None\n",
      "11       merchants      26.670000            2              None\n",
      "12           clerk    1425.820000            2              None\n",
      "13      comtroller      53.740000            1              None\n",
      "14             esq      50.123166            2              None\n",
      "15        excuetor      18.950200            1              None\n",
      "16        executor     239.100000            1              None\n",
      "17        executor     834.860000            2              None\n",
      "18        executor      69.020000            1              None\n",
      "19        executor      12.110000            1              None\n",
      "20        executor      23.720000            1              None\n",
      "21        executor      68.260000            1              None\n",
      "22        executor      66.660000            1              None\n",
      "23        executor     685.770000            1              None\n",
      "24        executor    1024.910000            1              None\n",
      "25        executor      76.700000            1              None\n",
      "26          trader    2961.480000            3              None\n",
      "27       gentleman     474.430000            2              None\n",
      "28    hair dresser       0.000000            1              None\n",
      "29         mariner     183.534700            3              None\n",
      "30        marriner     180.470000            1              None\n",
      "31        merchant   78643.324200          150              None\n",
      "32        merchant     234.960000            1              None\n",
      "33       merchants     163.312700            2              None\n",
      "34      occupation  833354.266395           71              None\n",
      "35          judges    2257.180000            1              None\n",
      "36            None     914.240000            1              None\n",
      "37          doctor    7971.000000           10              None\n",
      "38         planter   12438.706667           31              None\n",
      "39         planter     883.330000            1              None\n",
      "40         printer     132.720000            2              None\n",
      "41         sheriff    2133.326667            2              None\n",
      "42      shipwright     153.540000            1              None\n",
      "43      shopkeeper     190.660000            4              None\n",
      "44  south carolina       0.000000            1              None\n",
      "45        spinster     364.590000            1              None\n",
      "46          tanner     377.490000            1              None\n",
      "47         trustee    2439.020000            1              None\n",
      "48      auctioneer     112.540000            1              None\n",
      "49           widow    4910.700000           14              None\n",
      "50        guardian      17.150000            1              None\n",
      "51       treasurer     262.140000            2              None\n",
      "\n",
      "\n",
      "After Removing Duplicates and Summing\n",
      "-------------------------------------\n",
      "\n",
      "\n",
      "        occupation       6p_total  # of people  % of total people\n",
      "0    administrator    1704.770000            2                  0\n",
      "1         assignee     345.020000            1                  0\n",
      "2         attorney    3690.940000            9                  0\n",
      "3       auctioneer     112.540000            1                  0\n",
      "4        autioneer      10.650000            1                  0\n",
      "5       blacksmith    1423.480000            1                  0\n",
      "6       blockmaker    5264.230000            2                  0\n",
      "7       bricklayer      37.350000            1                  0\n",
      "8           broker    2334.890000           11                  0\n",
      "9    cabinet maker      74.460000            1                  0\n",
      "10       carpenter     449.020000            5                  0\n",
      "11           clerk    1425.820000            2                  0\n",
      "12      comtroller      53.740000            1                  0\n",
      "13          doctor    7971.000000           10                  0\n",
      "14             esq      50.123166            2                  0\n",
      "15        excuetor      18.950200            1                  0\n",
      "16        executor    3101.110000           11                  0\n",
      "17       gentleman     474.430000            2                  0\n",
      "18        guardian      17.150000            1                  0\n",
      "19    hair dresser       0.000000            1                  0\n",
      "20          judges    2257.180000            1                  0\n",
      "21         mariner     183.534700            3                  0\n",
      "22        marriner     180.470000            1                  0\n",
      "23        merchant   78878.284200          151                  0\n",
      "24       merchants     189.982700            4                  0\n",
      "25      occupation  833354.266395           71                  0\n",
      "26         planter   13322.036667           32                  0\n",
      "27         printer     132.720000            2                  0\n",
      "28         sheriff    2133.326667            2                  0\n",
      "29      shipwright     153.540000            1                  0\n",
      "30      shopkeeper     190.660000            4                  0\n",
      "31  south carolina       0.000000            1                  0\n",
      "32        spinster     364.590000            1                  0\n",
      "33          tanner     377.490000            1                  0\n",
      "34          trader    2961.480000            3                  0\n",
      "35       treasurer     262.140000            2                  0\n",
      "36         trustee    2439.020000            1                  0\n",
      "37           widow    4910.700000           14                  0\n",
      "\n",
      "\n",
      "Removed: autioneer --> auctioneer\n",
      "Removed: executor --> excuetor\n",
      "Removed: marriner --> mariner\n",
      "Removed: merchants --> merchant\n",
      "\n",
      "\n",
      "After Using Fuzzy String Matching\n",
      "---------------------------------\n",
      "\n",
      "\n",
      "        occupation       6p_total  # of people  % of total people  average debt per person\n",
      "0       occupation  833354.266395           71          19.667590             11737.384034\n",
      "1         merchant   79068.266900          155          42.936288               510.117851\n",
      "2          planter   13322.036667           32           8.864266               416.313646\n",
      "3           doctor    7971.000000           10           2.770083               797.100000\n",
      "4       blockmaker    5264.230000            2           0.554017              2632.115000\n",
      "5            widow    4910.700000           14           3.878116               350.764286\n",
      "6         attorney    3690.940000            9           2.493075               410.104444\n",
      "7         excuetor    3120.060200           12           3.324100               260.005017\n",
      "8           trader    2961.480000            3           0.831025               987.160000\n",
      "9          trustee    2439.020000            1           0.277008              2439.020000\n",
      "10          broker    2334.890000           11           3.047091               212.262727\n",
      "11          judges    2257.180000            1           0.277008              2257.180000\n",
      "12         sheriff    2133.326667            2           0.554017              1066.663333\n",
      "13   administrator    1704.770000            2           0.554017               852.385000\n",
      "14           clerk    1425.820000            2           0.554017               712.910000\n",
      "15      blacksmith    1423.480000            1           0.277008              1423.480000\n",
      "16       gentleman     474.430000            2           0.554017               237.215000\n",
      "17       carpenter     449.020000            5           1.385042                89.804000\n",
      "18          tanner     377.490000            1           0.277008               377.490000\n",
      "19        spinster     364.590000            1           0.277008               364.590000\n",
      "20         mariner     364.004700            4           1.108033                91.001175\n",
      "21        assignee     345.020000            1           0.277008               345.020000\n",
      "22       treasurer     262.140000            2           0.554017               131.070000\n",
      "23      shopkeeper     190.660000            4           1.108033                47.665000\n",
      "24      shipwright     153.540000            1           0.277008               153.540000\n",
      "25         printer     132.720000            2           0.554017                66.360000\n",
      "26      auctioneer     123.190000            2           0.554017                61.595000\n",
      "27   cabinet maker      74.460000            1           0.277008                74.460000\n",
      "28      comtroller      53.740000            1           0.277008                53.740000\n",
      "29             esq      50.123166            2           0.554017                25.061583\n",
      "30      bricklayer      37.350000            1           0.277008                37.350000\n",
      "31        guardian      17.150000            1           0.277008                17.150000\n",
      "32  south carolina       0.000000            1           0.277008                 0.000000\n",
      "33    hair dresser       0.000000            1           0.277008                 0.000000\n",
      "\n",
      "\n"
     ]
    }
   ],
   "source": [
    "retdict, OccsTotalsSC = MergeOccupations(OccsTotalsSC)\n",
    "ogoccs['new occupation'] = ogoccs['new occupation'].apply(lambda x: retdict.get(x, x))"
   ]
  },
  {
   "cell_type": "code",
   "execution_count": 84,
   "id": "ece1d867",
   "metadata": {
    "pycharm": {
     "name": "#%%\n"
    }
   },
   "outputs": [],
   "source": [
    "TurnToExcel(OccsTotalsSC, State)"
   ]
  },
  {
   "cell_type": "markdown",
   "id": "1928853b",
   "metadata": {
    "pycharm": {
     "name": "#%% md\n"
    }
   },
   "source": [
    "# Virginia"
   ]
  },
  {
   "cell_type": "code",
   "execution_count": 85,
   "id": "ee201ede",
   "metadata": {
    "pycharm": {
     "name": "#%%\n"
    }
   },
   "outputs": [
    {
     "name": "stdout",
     "output_type": "stream",
     "text": [
      "    6p_Dollar  6p_Cents  6p_def_Dollar  6p_def_Cents  3p_Dollar  3p_Cents  \\\n",
      "0        17.0  351.6233           13.0      175.8133       14.0    384.09   \n",
      "1       910.0   50.0000          455.0       25.0000      962.0     84.00   \n",
      "2       834.0   18.0000          417.0        8.0000      895.0     10.00   \n",
      "3      1936.0   28.0000          968.0       14.0000        NaN       NaN   \n",
      "4       243.0   94.0000          121.0       96.0000       65.0     85.00   \n",
      "5      1034.0   12.0000          517.0        6.0000      558.0     42.00   \n",
      "6       165.0   92.0000           82.0       96.0000      176.0     23.00   \n",
      "7       369.0   70.0000          184.0       84.0000      360.0     94.00   \n",
      "8      1468.0   80.0000          734.0       40.0000     1807.0     86.00   \n",
      "9      2363.0   94.0000         1181.0       97.0000     1804.0     50.00   \n",
      "10      309.0   60.0000          154.0       80.0000      167.0     17.00   \n",
      "11      165.0   89.0000           82.0       94.0000      666.0     21.00   \n",
      "12      100.0   88.0000           50.0       43.0000      105.0     65.00   \n",
      "13      295.0    5.0000          147.0       52.0000      154.0     82.00   \n",
      "14      465.0   74.0000          232.0       87.0000      780.0     81.00   \n",
      "15       49.0   56.0000           24.0       78.0000       50.0     87.00   \n",
      "16       39.0   13.0000           19.0       56.0000        NaN       NaN   \n",
      "17       84.0   51.0000           42.0       25.0000       85.0     67.00   \n",
      "18     2654.0   36.0000         1327.0       18.0000     1954.0     93.00   \n",
      "19      467.0   18.0000          233.0       59.0000      252.0     26.00   \n",
      "20      226.0   39.0000          113.0       19.0000       61.0     12.00   \n",
      "21      109.0   50.0000           54.0       76.0000       29.0     55.00   \n",
      "22      435.0    7.0000          217.0       53.0000      235.0     15.00   \n",
      "23      550.0    6.0000          275.0        4.0000      336.0       NaN   \n",
      "24     2206.0   72.0000         1103.0       36.0000      595.0     81.00   \n",
      "25       78.0   33.0000           39.0       17.0000       42.0     30.00   \n",
      "26      319.0   17.0000          159.0       59.0000      292.0     80.00   \n",
      "27       76.0   76.0000           38.0       39.0000       80.0     58.00   \n",
      "28        NaN       NaN            NaN           NaN      361.0     55.00   \n",
      "29       66.0   66.0000           33.0       33.0000       63.0     24.00   \n",
      "30        3.0   82.0000            1.0       92.0000        3.0     74.00   \n",
      "31       66.0   66.0000           33.0       33.0000       62.0     86.00   \n",
      "32       46.0    2.0000           23.0        1.0000       44.0     89.00   \n",
      "\n",
      "                            town state     occupation  \\\n",
      "0            Portsmouth Virginia    VA      Merchants   \n",
      "1                       Virginia    VA  No Occupation   \n",
      "2                        Virgina    VA  No Occupation   \n",
      "3                        Virgina    VA  No Occupation   \n",
      "4   Alexandria State of Virginia    VA  No Occupation   \n",
      "5                       Virginia    VA  No Occupation   \n",
      "6                       Virginia    VA  No Occupation   \n",
      "7                       Virginia    VA  No Occupation   \n",
      "8                       Virginia    VA  No Occupation   \n",
      "9                       Virginia    VA  No Occupation   \n",
      "10                      Virginia    VA  No Occupation   \n",
      "11                      Virginia    VA  No Occupation   \n",
      "12                      Virginia    VA  No Occupation   \n",
      "13                      Virginia    VA  No Occupation   \n",
      "14             Richmond Virginia    VA  No Occupation   \n",
      "15             Richmond Virginia    VA  No Occupation   \n",
      "16           Petersburg Virginia    VA  No Occupation   \n",
      "17             Richmond Virginia    VA  No Occupation   \n",
      "18           Petersburg Virginia    VA  No Occupation   \n",
      "19           Alexandria Virginia    VA  No Occupation   \n",
      "20                           NaN    VA  No Occupation   \n",
      "21        Louden County Virginia    VA  No Occupation   \n",
      "22                      Virginia    VA  No Occupation   \n",
      "23       Fredericksburg Virginia    VA  No Occupation   \n",
      "24          Ohio County Virginia    VA  No Occupation   \n",
      "25      Accomack County Virginia    VA      Gentleman   \n",
      "26       King George Co Virginia    VA  No Occupation   \n",
      "27    James City County Virginia    VA  No Occupation   \n",
      "28                      Virginia    VA  No Occupation   \n",
      "29     Virginia and Philadelphia    VA       Merchant   \n",
      "30     Virginia and Philadelphia    VA       Merchant   \n",
      "31                      Virginia    VA  No Occupation   \n",
      "32                 Williamsburgh    VA         Weaver   \n",
      "\n",
      "                                                 Name               county  \\\n",
      "0                                     ['John Casper']    Rockingham County   \n",
      "1      ['Thomas Thornton', 'The Rev Thomas Thornton']                  NaN   \n",
      "2                                     ['John Hunter']                  NaN   \n",
      "3                               ['Gerrard Alexander']                  NaN   \n",
      "4                                 ['William Hodgson']       Fairfax County   \n",
      "5   ['Daniel Carroll Brent', 'Daniel Carroll Brant...                  NaN   \n",
      "6   ['Charles Lee Virginia', 'Charles Lee', 'Richa...                  NaN   \n",
      "7                                  ['William Carlin']                  NaN   \n",
      "8   ['William Wilson and Co', 'William Wilson and ...                  NaN   \n",
      "9   ['Josiah Watson and Company', 'Josiah Watson a...                  NaN   \n",
      "10                                      ['Jacob Cox']                  NaN   \n",
      "11                                 ['Richard Conway']                  NaN   \n",
      "12                                   ['Samuel Beall']                  NaN   \n",
      "13  ['Josiah Watson and Companey', 'Josiah Watson ...                  NaN   \n",
      "14                                 ['George Pickett']       Henrico County   \n",
      "15                                   ['Robert Means']       Henrico County   \n",
      "16                               ['Archibald Gracie']     Hampshire County   \n",
      "17                        ['Hartshorne and Lindley ']       Henrico County   \n",
      "18                                  ['Michael Burke']     Hampshire County   \n",
      "19                               ['McCrea and Mease']       Fairfax County   \n",
      "20                              ['George Washington']                  NaN   \n",
      "21                                   ['David Thomas']       Loudoun County   \n",
      "22                                    ['James Craig']                  NaN   \n",
      "23                 ['George Weldon', 'George Weedon']  Spotsylvania County   \n",
      "24                                 ['David Chambers']          Ohio County   \n",
      "25                                  ['George Corbin']      Accomack County   \n",
      "26                                 ['William Stuart']   King George County   \n",
      "27   ['Samuel Beall', 'Smauel Beall', 'Samuel Beatt']    James City County   \n",
      "28                                   ['Joseph Latil']                  NaN   \n",
      "29           ['Martinus Huizinga', 'Martin Huizinga']                  NaN   \n",
      "30           ['Martinus Huizinga', 'Martin Huizinga']                  NaN   \n",
      "31                               ['Ebenezer Macnair']                  NaN   \n",
      "32                                  ['Samuel Paxton']    Greenbrier County   \n",
      "\n",
      "   name_type     6p_total  \n",
      "0       town    20.516233  \n",
      "1      state   910.500000  \n",
      "2      state   834.180000  \n",
      "3      state  1936.280000  \n",
      "4      state   243.940000  \n",
      "5      state  1034.120000  \n",
      "6      state   165.920000  \n",
      "7      state   369.700000  \n",
      "8      state  1468.800000  \n",
      "9      state  2363.940000  \n",
      "10     state   309.600000  \n",
      "11     state   165.890000  \n",
      "12     state   100.880000  \n",
      "13     state   295.050000  \n",
      "14      town   465.740000  \n",
      "15      town    49.560000  \n",
      "16      town    39.130000  \n",
      "17      town    84.510000  \n",
      "18      town  2654.360000  \n",
      "19      town   467.180000  \n",
      "20     state   226.390000  \n",
      "21    county   109.500000  \n",
      "22     state   435.070000  \n",
      "23      town   550.060000  \n",
      "24    county  2206.720000  \n",
      "25    county    78.330000  \n",
      "26    county   319.170000  \n",
      "27    county    76.760000  \n",
      "28     state          NaN  \n",
      "29     state    66.660000  \n",
      "30     state     3.820000  \n",
      "31     state    66.660000  \n",
      "32      town    46.020000  \n"
     ]
    }
   ],
   "source": [
    "State = 'VA'\n",
    "AllOccsVA = AllOccs[AllOccs['state'] == State] #Separate rows by state\n",
    "AllOccsVA = AllOccsVA.dropna(subset=['occupation']).reset_index(drop=True) #Drop any rows w/o an occupation listed. \n",
    "print(AllOccsVA)"
   ]
  },
  {
   "cell_type": "code",
   "execution_count": 86,
   "id": "d92945a4",
   "metadata": {
    "pycharm": {
     "name": "#%%\n"
    }
   },
   "outputs": [
    {
     "name": "stdout",
     "output_type": "stream",
     "text": [
      "      occupation      6p_total  # of people\n",
      "0      Gentleman     78.330000            1\n",
      "1       Merchant     70.480000            2\n",
      "2      Merchants     20.516233            1\n",
      "3  No Occupation  17949.610000           28\n",
      "4         Weaver     46.020000            1\n"
     ]
    }
   ],
   "source": [
    "OccsTotalsVA = AllOccsVA.groupby('occupation')['6p_total'].apply(sum).reset_index() #Combine duplicate occupations.\n",
    "OccsTotalsVA['# of people'] = OccsTotalsVA['occupation'].map(AllOccsVA['occupation'].value_counts(dropna=False)) #Map # of people that belong to each occupation.\n",
    "print(OccsTotalsVA.to_string())\n",
    "\n",
    "temp_df = OccsTotalsVA[['occupation']]"
   ]
  },
  {
   "cell_type": "code",
   "execution_count": 87,
   "id": "c6dee713",
   "metadata": {
    "pycharm": {
     "name": "#%%\n"
    }
   },
   "outputs": [
    {
     "name": "stdout",
     "output_type": "stream",
     "text": [
      "      occupation      6p_total  # of people\n",
      "0      gentleman     78.330000            1\n",
      "1       merchant     70.480000            2\n",
      "2      merchants     20.516233            1\n",
      "3  no occupation  17949.610000           28\n",
      "4         weaver     46.020000            1\n"
     ]
    },
    {
     "name": "stderr",
     "output_type": "stream",
     "text": [
      "/var/folders/5s/dvrxt95949x1pm_sjxm85lj00000gn/T/ipykernel_60320/3576601614.py:4: SettingWithCopyWarning: \n",
      "A value is trying to be set on a copy of a slice from a DataFrame.\n",
      "Try using .loc[row_indexer,col_indexer] = value instead\n",
      "\n",
      "See the caveats in the documentation: https://pandas.pydata.org/pandas-docs/stable/user_guide/indexing.html#returning-a-view-versus-a-copy\n",
      "  temp_df['new occupation'] = OccsTotalsVA['occupation']\n"
     ]
    }
   ],
   "source": [
    "OccsTotalsVA = RemoveStopwords(OccsTotalsVA) \n",
    "print(OccsTotalsVA.to_string())\n",
    "\n",
    "temp_df['new occupation'] = OccsTotalsVA['occupation']\n",
    "ogoccs = pd.concat([ogoccs, temp_df])"
   ]
  },
  {
   "cell_type": "code",
   "execution_count": 88,
   "id": "bb2bc595",
   "metadata": {
    "pycharm": {
     "name": "#%%\n"
    }
   },
   "outputs": [
    {
     "name": "stdout",
     "output_type": "stream",
     "text": [
      "Occupation Before --> Occupation After\n",
      "--------------------------------------\n",
      "\n",
      "\n",
      "gentleman --> gentleman\n",
      "merchant --> merchant\n",
      "merchants --> merchants\n",
      "no occupation --> no occupation\n",
      "weaver --> weaver\n"
     ]
    }
   ],
   "source": [
    "retdict = FindRemoveConst(OccsTotalsVA['occupation'].tolist())\n",
    "ogoccs['new occupation'] = ogoccs['new occupation'].apply(lambda x: retdict.get(x, x))"
   ]
  },
  {
   "cell_type": "code",
   "execution_count": 89,
   "id": "b1c0ea0f",
   "metadata": {
    "pycharm": {
     "name": "#%%\n"
    }
   },
   "outputs": [
    {
     "name": "stdout",
     "output_type": "stream",
     "text": [
      "Occupations --> Potential Cleaned Occupations\n",
      "---------------------------------------------\n",
      "\n",
      "\n",
      "gentleman --> gentleman\n",
      "merchant --> merchant\n",
      "merchants --> merchants\n",
      "no occupation --> occupation\n",
      "weaver --> weaver\n"
     ]
    }
   ],
   "source": [
    "retdict = PrintFutureOccupations(OccsTotalsVA['occupation'].tolist())\n",
    "ogoccs['new occupation'] = ogoccs['new occupation'].apply(lambda x: retdict.get(x, x))"
   ]
  },
  {
   "cell_type": "code",
   "execution_count": 90,
   "id": "88948b0f",
   "metadata": {
    "pycharm": {
     "name": "#%%\n"
    },
    "scrolled": false
   },
   "outputs": [
    {
     "name": "stdout",
     "output_type": "stream",
     "text": [
      "After Cleaning\n",
      "--------------\n",
      "\n",
      "\n",
      "   occupation      6p_total  # of people % of total people\n",
      "0   gentleman     78.330000            1              None\n",
      "1    merchant     70.480000            2              None\n",
      "2   merchants     20.516233            1              None\n",
      "3  occupation  17949.610000           28              None\n",
      "4      weaver     46.020000            1              None\n",
      "\n",
      "\n",
      "After Removing Duplicates and Summing\n",
      "-------------------------------------\n",
      "\n",
      "\n",
      "   occupation      6p_total  # of people  % of total people\n",
      "0   gentleman     78.330000            1                  0\n",
      "1    merchant     70.480000            2                  0\n",
      "2   merchants     20.516233            1                  0\n",
      "3  occupation  17949.610000           28                  0\n",
      "4      weaver     46.020000            1                  0\n",
      "\n",
      "\n",
      "Removed: merchants --> merchant\n",
      "\n",
      "\n",
      "After Using Fuzzy String Matching\n",
      "---------------------------------\n",
      "\n",
      "\n",
      "   occupation      6p_total  # of people  % of total people  average debt per person\n",
      "0  occupation  17949.610000           28          84.848485               641.057500\n",
      "1    merchant     90.996233            3           9.090909                30.332078\n",
      "2   gentleman     78.330000            1           3.030303                78.330000\n",
      "3      weaver     46.020000            1           3.030303                46.020000\n",
      "\n",
      "\n"
     ]
    }
   ],
   "source": [
    "retdict, OccsTotalsVA = MergeOccupations(OccsTotalsVA)\n",
    "ogoccs['new occupation'] = ogoccs['new occupation'].apply(lambda x: retdict.get(x, x))"
   ]
  },
  {
   "cell_type": "code",
   "execution_count": 91,
   "id": "3bcce130",
   "metadata": {
    "pycharm": {
     "name": "#%%\n"
    }
   },
   "outputs": [],
   "source": [
    "TurnToExcel(OccsTotalsVA, State)"
   ]
  },
  {
   "cell_type": "markdown",
   "id": "ed091659",
   "metadata": {
    "pycharm": {
     "name": "#%% md\n"
    }
   },
   "source": [
    "# All States"
   ]
  },
  {
   "cell_type": "code",
   "execution_count": 92,
   "id": "df586664",
   "metadata": {
    "pycharm": {
     "name": "#%%\n"
    },
    "scrolled": false
   },
   "outputs": [
    {
     "name": "stdout",
     "output_type": "stream",
     "text": [
      "            occupation       6p_total  # of people  % of total people  average debt per person\n",
      "0        no occupation  673180.800000          432          47.213115              1558.288889\n",
      "1             merchant   63765.000000           63           6.885246              1012.142857\n",
      "2               farmer   36780.360000          170          18.579235               216.355059\n",
      "3            gentleman   16624.320000           32           3.497268               519.510000\n",
      "4            treasurer   15387.150000           14           1.530055              1099.082143\n",
      "5              esquire   13020.090000           13           1.420765              1001.545385\n",
      "6             attorney   11114.600000           20           2.185792               555.730000\n",
      "7               trader    9454.130000           46           5.027322               205.524565\n",
      "8                widow    6488.110000           28           3.060109               231.718214\n",
      "9             executor    4558.250000            7           0.765027               651.178571\n",
      "10       administrator    4081.060000           10           1.092896               408.106000\n",
      "11             mariner    3831.050000           13           1.420765               294.696154\n",
      "12              sadler    3524.740000            1           0.109290              3524.740000\n",
      "13       school master    2213.750000            2           0.218579              1106.875000\n",
      "14              doctor    1950.550000            4           0.437158               487.637500\n",
      "15            spinster    1731.580000            6           0.655738               288.596667\n",
      "16           shoemaker    1345.460000            6           0.655738               224.243333\n",
      "17            guardian    1245.620000            3           0.327869               415.206667\n",
      "18    school committee    1071.650000            7           0.765027               153.092857\n",
      "19    committee member     863.410000            3           0.327869               287.803333\n",
      "20          blacksmith     724.710000            3           0.327869               241.570000\n",
      "21              tanner     713.060000            1           0.109290               713.060000\n",
      "22          post rider     676.910000            3           0.327869               225.636667\n",
      "23     leather dresser     666.670000            1           0.109290               666.670000\n",
      "24          shipwright     533.330000            1           0.109290               533.330000\n",
      "25           sherriffs     512.450000            3           0.327869               170.816667\n",
      "26         proprietors     276.900000            1           0.109290               276.900000\n",
      "27              hatter     242.990000            1           0.109290               242.990000\n",
      "28           carpenter     228.670000            2           0.218579               114.335000\n",
      "29             molster     211.380000            1           0.109290               211.380000\n",
      "30              taylor     209.810000            1           0.109290               209.810000\n",
      "31              broker     208.550000            3           0.327869                69.516667\n",
      "32             printer     204.780000            2           0.218579               102.390000\n",
      "33          inn keeper     201.530000            3           0.327869                67.176667\n",
      "34              cooper     124.760000            1           0.109290               124.760000\n",
      "35             cashier      85.300000            2           0.218579                42.650000\n",
      "36             soldier      78.480000            1           0.109290                78.480000\n",
      "37                wife      63.640000            1           0.109290                63.640000\n",
      "38            clothier      53.330000            1           0.109290                53.330000\n",
      "39              miller      18.990000            1           0.109290                18.990000\n",
      "40          apothecary       7.720000            1           0.109290                 7.720000\n",
      "41           goldsmith       6.820000            1           0.109290                 6.820000\n",
      "42           gentleman    4586.660000            1           5.000000              4586.660000\n",
      "43       no occupation     373.018899           11          55.000000                33.910809\n",
      "44             esquire     102.089033            1           5.000000               102.089033\n",
      "45            merchant      68.839829            7          35.000000                 9.834261\n",
      "46       no occupation  767788.357600          465          89.080460              1651.157758\n",
      "47            merchant   78510.940000           47           9.003831              1670.445532\n",
      "48           shoemaker    1237.070000            2           0.383142               618.535000\n",
      "49            executor     303.770000            3           0.574713               101.256667\n",
      "50   frederick company     206.670000            1           0.191571               206.670000\n",
      "51          shopkeeper      33.330000            1           0.191571                33.330000\n",
      "52       administrator      22.500000            2           0.383142                11.250000\n",
      "53             esquire      17.665733            1           0.191571                17.665733\n",
      "54       no occupation   13703.656700           47          81.034483               291.567164\n",
      "55           treasurer   12283.440000            1           1.724138             12283.440000\n",
      "56             doctors    2008.370000            1           1.724138              2008.370000\n",
      "57            merchant     861.530000            7          12.068966               123.075714\n",
      "58              farmer      62.510000            1           1.724138                62.510000\n",
      "59           executors       0.000000            1           1.724138                 0.000000\n",
      "60             esquire   61539.890000           66          37.931034               932.422576\n",
      "61       no occupation   48957.430000            8           4.597701              6119.678750\n",
      "62            merchant   29715.410000           26          14.942529              1142.900385\n",
      "63               widow    8790.450000           10           5.747126               879.045000\n",
      "64              doctor    7111.430000           18          10.344828               395.079444\n",
      "65              farmer    4175.980000           13           7.471264               321.229231\n",
      "66           gentleman    3603.060000            6           3.448276               600.510000\n",
      "67              trader    2807.270000            8           4.597701               350.908750\n",
      "68               baker    2159.040000            1           0.574713              2159.040000\n",
      "69           goldsmith     871.320000            1           0.574713               871.320000\n",
      "70            marniner     785.620000            2           1.149425               392.810000\n",
      "71           shoemaker     742.050000            2           1.149425               371.025000\n",
      "72               clerk     715.600000            7           4.022989               102.228571\n",
      "73           treasurer     149.620000            1           0.574713               149.620000\n",
      "74           carpenter     106.610000            2           1.149425                53.305000\n",
      "75            spinster      89.130000            1           0.574713                89.130000\n",
      "76          blacksmith      54.880000            1           0.574713                54.880000\n",
      "77             painter      48.610000            1           0.574713                48.610000\n",
      "78       no occupation   19195.170000           31          77.500000               619.199032\n",
      "79           gentleman    6063.150000            2           5.000000              3031.575000\n",
      "80            attorney    1325.680000            1           2.500000              1325.680000\n",
      "81            executor    1324.810000            1           2.500000              1324.810000\n",
      "82              doctor     384.340000            1           2.500000               384.340000\n",
      "83            merchant     235.010000            1           2.500000               235.010000\n",
      "84            assignee      16.670000            1           2.500000                16.670000\n",
      "85              farmer       3.340000            1           2.500000                 3.340000\n",
      "86             esquire       0.000000            1           2.500000                 0.000000\n",
      "87            merchant    7448.803133           24          44.444444               310.366797\n",
      "88       no occupation    5897.997733           24          44.444444               245.749906\n",
      "89              broker    1776.120000            1           1.851852              1776.120000\n",
      "90              doctor     933.330000            1           1.851852               933.330000\n",
      "91              farmer     674.310000            2           3.703704               337.155000\n",
      "92             mariner     377.490000            1           1.851852               377.490000\n",
      "93        schoolmaster     131.150000            1           1.851852               131.150000\n",
      "94            marchant  615454.090000          237          25.293490              2596.852700\n",
      "95       no occupation  597445.089100          527          56.243330              1133.671896\n",
      "96              broker   74699.960000           63           6.723586              1185.713651\n",
      "97             esquire   41442.240000           21           2.241195              1973.440000\n",
      "98            executor    8787.960000            7           0.747065              1255.422857\n",
      "99            attorney    8696.680000            5           0.533618              1739.336000\n",
      "100            printer    7717.740000            6           0.640342              1286.290000\n",
      "101          gentleman    7540.660000            6           0.640342              1256.776667\n",
      "102        post master    7083.530000            1           0.106724              7083.530000\n",
      "103              widow    5576.530000            5           0.533618              1115.306000\n",
      "104           druggist    4922.430000            2           0.213447              2461.215000\n",
      "105           guardian    4539.960000            3           0.320171              1513.320000\n",
      "106            mariner    3906.571400            5           0.533618               781.314280\n",
      "107            furrier    3107.180000            1           0.106724              3107.180000\n",
      "108             farmer    2821.870000            7           0.747065               403.124286\n",
      "109      administrator    2692.480000            3           0.320171               897.493333\n",
      "110             hatter    2291.760000            3           0.320171               763.920000\n",
      "111             taylor    2137.390000            4           0.426894               534.347500\n",
      "112           assignee    2054.640000            2           0.213447              1027.320000\n",
      "113             estate    1979.600000            2           0.213447               989.800000\n",
      "114        silversmith    1917.650000            2           0.213447               958.825000\n",
      "115              clerk    1855.580000            4           0.426894               463.895000\n",
      "116             doctor    1769.010000            1           0.106724              1769.010000\n",
      "117         inn keeper    1668.680000            3           0.320171               556.226667\n",
      "118        ship wright    1241.760000            1           0.106724              1241.760000\n",
      "119             tanner    1192.250000            2           0.213447               596.125000\n",
      "120         individual     846.230000            1           0.106724               846.230000\n",
      "121        book binder     783.070000            1           0.106724               783.070000\n",
      "122          treasurer     714.810000            1           0.106724               714.810000\n",
      "123         blacksmith     692.250000            1           0.106724               692.250000\n",
      "124         shopkeeper     588.950000            3           0.320171               196.316667\n",
      "125           spinster     528.330000            1           0.106724               528.330000\n",
      "126           executor     461.110000            1           0.106724               461.110000\n",
      "127         cordwainer     281.250000            1           0.106724               281.250000\n",
      "128           reverend     224.120000            1           0.106724               224.120000\n",
      "129          goldsmith     142.220000            1           0.106724               142.220000\n",
      "130        conveyancer     108.400000            1           0.106724               108.400000\n",
      "131            sheriff      56.210000            1           0.106724                56.210000\n",
      "132          treasurer  222647.660000           13           2.789700             17126.743077\n",
      "133           merchant   99961.920000           98          21.030043              1020.019592\n",
      "134            esquire   68401.500000          130          27.896996               526.165385\n",
      "135             farmer   14625.230000           80          17.167382               182.815375\n",
      "136              widow    6182.060000           23           4.935622               268.785217\n",
      "137            mariner    4857.320000           25           5.364807               194.292800\n",
      "138             doctor    3121.690000            8           1.716738               390.211250\n",
      "139      no occupation    2758.500000           18           3.862661               153.250000\n",
      "140          gentleman    2396.700000           10           2.145923               239.670000\n",
      "141           reverend    2054.380000            2           0.429185              1027.190000\n",
      "142             cooper    1596.150000            3           0.643777               532.050000\n",
      "143         inn keeper    1430.290000            8           1.716738               178.786250\n",
      "144             taylor    1297.730000            4           0.858369               324.432500\n",
      "145              mason    1152.500000            3           0.643777               384.166667\n",
      "146            glazier     982.350000            1           0.214592               982.350000\n",
      "147             hatter     828.660000            2           0.429185               414.330000\n",
      "148           spinster     721.330000            3           0.643777               240.443333\n",
      "149         blacksmith     540.680000            3           0.643777               180.226667\n",
      "150          shoemaker     532.360000            2           0.429185               266.180000\n",
      "151             trader     480.130000            6           1.287554                80.021667\n",
      "152          distiller     466.250000            3           0.643777               155.416667\n",
      "153        auctioneers     460.770000            3           0.643777               153.590000\n",
      "154        housewright     266.670000            1           0.214592               266.670000\n",
      "155            butcher     235.700000            1           0.214592               235.700000\n",
      "156              baker     206.370000            1           0.214592               206.370000\n",
      "157             broker     171.500000            2           0.429185                85.750000\n",
      "158             extors     124.500000            2           0.429185                62.250000\n",
      "159         shipwright      89.720000            2           0.429185                44.860000\n",
      "160           labourer      67.160000            2           0.429185                33.580000\n",
      "161        proprietors      58.640000            1           0.214592                58.640000\n",
      "162       chaise maker      47.570000            1           0.214592                47.570000\n",
      "163             deacon      16.350000            1           0.214592                16.350000\n",
      "164         blockmaker       4.430000            1           0.214592                 4.430000\n",
      "165     administratrix       0.000000            1           0.214592                 0.000000\n",
      "166          carpenter       0.000000            1           0.214592                 0.000000\n",
      "167          goldsmith       0.000000            1           0.214592                 0.000000\n",
      "168      no occupation  833354.266395           71          19.667590             11737.384034\n",
      "169           merchant   79068.266900          155          42.936288               510.117851\n",
      "170            planter   13322.036667           32           8.864266               416.313646\n",
      "171             doctor    7971.000000           10           2.770083               797.100000\n",
      "172         blockmaker    5264.230000            2           0.554017              2632.115000\n",
      "173              widow    4910.700000           14           3.878116               350.764286\n",
      "174           attorney    3690.940000            9           2.493075               410.104444\n",
      "175           executor    3120.060200           12           3.324100               260.005017\n",
      "176             trader    2961.480000            3           0.831025               987.160000\n",
      "177            trustee    2439.020000            1           0.277008              2439.020000\n",
      "178             broker    2334.890000           11           3.047091               212.262727\n",
      "179             judges    2257.180000            1           0.277008              2257.180000\n",
      "180            sheriff    2133.326667            2           0.554017              1066.663333\n",
      "181      administrator    1704.770000            2           0.554017               852.385000\n",
      "182              clerk    1425.820000            2           0.554017               712.910000\n",
      "183         blacksmith    1423.480000            1           0.277008              1423.480000\n",
      "184          gentleman     474.430000            2           0.554017               237.215000\n",
      "185          carpenter     449.020000            5           1.385042                89.804000\n",
      "186             tanner     377.490000            1           0.277008               377.490000\n",
      "187           spinster     364.590000            1           0.277008               364.590000\n",
      "188            mariner     364.004700            4           1.108033                91.001175\n",
      "189           assignee     345.020000            1           0.277008               345.020000\n",
      "190          treasurer     262.140000            2           0.554017               131.070000\n",
      "191         shopkeeper     190.660000            4           1.108033                47.665000\n",
      "192         shipwright     153.540000            1           0.277008               153.540000\n",
      "193            printer     132.720000            2           0.554017                66.360000\n",
      "194         auctioneer     123.190000            2           0.554017                61.595000\n",
      "195      cabinet maker      74.460000            1           0.277008                74.460000\n",
      "196         comtroller      53.740000            1           0.277008                53.740000\n",
      "197            esquire      50.123166            2           0.554017                25.061583\n",
      "198         bricklayer      37.350000            1           0.277008                37.350000\n",
      "199           guardian      17.150000            1           0.277008                17.150000\n",
      "200     south carolina       0.000000            1           0.277008                 0.000000\n",
      "201       hair dresser       0.000000            1           0.277008                 0.000000\n",
      "202      no occupation   17949.610000           28          84.848485               641.057500\n",
      "203           merchant      90.996233            3           9.090909                30.332078\n",
      "204          gentleman      78.330000            1           3.030303                78.330000\n",
      "205             weaver      46.020000            1           3.030303                46.020000\n"
     ]
    }
   ],
   "source": [
    "#Append each states occupation + totals dataframes to the end of each other. \n",
    "OccsTotalsAll = pd.concat([OccsTotalsCT, OccsTotalsGA, OccsTotalsMD, OccsTotalsNC, OccsTotalsNH, OccsTotalsNJ,\n",
    "                          OccsTotalsNY, OccsTotalsPA, OccsTotalsRI, OccsTotalsSC, OccsTotalsVA]).reset_index(drop=True)\n",
    "print(OccsTotalsAll.to_string())"
   ]
  },
  {
   "cell_type": "code",
   "execution_count": 93,
   "id": "965dda18",
   "metadata": {
    "pycharm": {
     "name": "#%%\n"
    },
    "scrolled": false
   },
   "outputs": [
    {
     "name": "stdout",
     "output_type": "stream",
     "text": [
      "           occupation      6p_total  # of people\n",
      "0       administrator  8.500810e+03         17.0\n",
      "1      administratrix  0.000000e+00          1.0\n",
      "2          apothecary  7.720000e+00          1.0\n",
      "3            assignee  2.416330e+03          4.0\n",
      "4            attorney  2.482790e+04         35.0\n",
      "5          auctioneer  1.231900e+02          2.0\n",
      "6         auctioneers  4.607700e+02          3.0\n",
      "7               baker  2.365410e+03          2.0\n",
      "8          blacksmith  3.436000e+03          9.0\n",
      "9          blockmaker  5.268660e+03          3.0\n",
      "10        book binder  7.830700e+02          1.0\n",
      "11         bricklayer  3.735000e+01          1.0\n",
      "12             broker  7.919102e+04         80.0\n",
      "13            butcher  2.357000e+02          1.0\n",
      "14      cabinet maker  7.446000e+01          1.0\n",
      "15          carpenter  7.843000e+02         10.0\n",
      "16            cashier  8.530000e+01          2.0\n",
      "17       chaise maker  4.757000e+01          1.0\n",
      "18              clerk  3.997000e+03         13.0\n",
      "19           clothier  5.333000e+01          1.0\n",
      "20   committee member  8.634100e+02          3.0\n",
      "21         comtroller  5.374000e+01          1.0\n",
      "22        conveyancer  1.084000e+02          1.0\n",
      "23             cooper  1.720910e+03          4.0\n",
      "24         cordwainer  2.812500e+02          1.0\n",
      "25             deacon  1.635000e+01          1.0\n",
      "26          distiller  4.662500e+02          3.0\n",
      "27             doctor  2.324135e+04         43.0\n",
      "28            doctors  2.008370e+03          1.0\n",
      "29           druggist  4.922430e+03          2.0\n",
      "30            esquire  1.845736e+05        235.0\n",
      "31             estate  1.979600e+03          2.0\n",
      "32           executor  1.855596e+04         31.0\n",
      "33          executors  0.000000e+00          1.0\n",
      "34             extors  1.245000e+02          2.0\n",
      "35             farmer  5.914360e+04        274.0\n",
      "36  frederick company  2.066700e+02          1.0\n",
      "37            furrier  3.107180e+03          1.0\n",
      "38          gentleman  4.136731e+04         60.0\n",
      "39            glazier  9.823500e+02          1.0\n",
      "40          goldsmith  1.020360e+03          4.0\n",
      "41           guardian  5.802730e+03          7.0\n",
      "42       hair dresser  0.000000e+00          1.0\n",
      "43             hatter  3.363410e+03          6.0\n",
      "44        housewright  2.666700e+02          1.0\n",
      "45         individual  8.462300e+02          1.0\n",
      "46         inn keeper  3.300500e+03         14.0\n",
      "47             judges  2.257180e+03          1.0\n",
      "48           labourer  6.716000e+01          2.0\n",
      "49    leather dresser  6.666700e+02          1.0\n",
      "50           marchant  6.154541e+05        237.0\n",
      "51            mariner  1.333644e+04         48.0\n",
      "52           marniner  7.856200e+02          2.0\n",
      "53              mason  1.152500e+03          3.0\n",
      "54           merchant  3.597267e+05        431.0\n",
      "55             miller  1.899000e+01          1.0\n",
      "56            molster  2.113800e+02          1.0\n",
      "57      no occupation  2.980604e+06       1662.0\n",
      "58            painter  4.861000e+01          1.0\n",
      "59            planter  1.332204e+04         32.0\n",
      "60        post master  7.083530e+03          1.0\n",
      "61         post rider  6.769100e+02          3.0\n",
      "62            printer  8.055240e+03         10.0\n",
      "63        proprietors  3.355400e+02          2.0\n",
      "64           reverend  2.278500e+03          3.0\n",
      "65             sadler  3.524740e+03          1.0\n",
      "66   school committee  1.071650e+03          7.0\n",
      "67      school master  2.213750e+03          2.0\n",
      "68       schoolmaster  1.311500e+02          1.0\n",
      "69            sheriff  2.189537e+03          3.0\n",
      "70          sherriffs  5.124500e+02          3.0\n",
      "71        ship wright  1.241760e+03          1.0\n",
      "72         shipwright  7.765900e+02          4.0\n",
      "73          shoemaker  3.856940e+03         12.0\n",
      "74         shopkeeper  8.129400e+02          8.0\n",
      "75        silversmith  1.917650e+03          2.0\n",
      "76            soldier  7.848000e+01          1.0\n",
      "77     south carolina  0.000000e+00          1.0\n",
      "78           spinster  3.434960e+03         12.0\n",
      "79             tanner  2.282800e+03          4.0\n",
      "80             taylor  3.644930e+03          9.0\n",
      "81             trader  1.570301e+04         63.0\n",
      "82          treasurer  2.514448e+05         32.0\n",
      "83            trustee  2.439020e+03          1.0\n",
      "84             weaver  4.602000e+01          1.0\n",
      "85              widow  3.194785e+04         80.0\n",
      "86               wife  6.364000e+01          1.0\n"
     ]
    }
   ],
   "source": [
    "OccsTotalsAll = OccsTotalsAll.groupby('occupation')[['6p_total', '# of people']].apply(sum).reset_index() #Combine duplicate occupations.\n",
    "print(OccsTotalsAll.to_string())"
   ]
  },
  {
   "cell_type": "code",
   "execution_count": 94,
   "id": "364b505a",
   "metadata": {
    "pycharm": {
     "name": "#%%\n"
    },
    "scrolled": false
   },
   "outputs": [
    {
     "name": "stdout",
     "output_type": "stream",
     "text": [
      "Occupations --> Potential Cleaned Occupations\n",
      "---------------------------------------------\n",
      "\n",
      "\n",
      "administrator --> administrator\n",
      "administratrix --> administratrix\n",
      "apothecary --> apothecary\n",
      "assignee --> assignee\n",
      "attorney --> attorney\n",
      "auctioneer --> auctioneer\n",
      "auctioneers --> auctioneers\n",
      "baker --> baker\n",
      "blacksmith --> blacksmith\n",
      "blockmaker --> blockmaker\n",
      "book binder --> book\n",
      "bricklayer --> bricklayer\n",
      "broker --> broker\n",
      "butcher --> butcher\n",
      "cabinet maker --> cabinet\n",
      "carpenter --> carpenter\n",
      "cashier --> cashier\n",
      "chaise maker --> chaise\n",
      "clerk --> clerk\n",
      "clothier --> clothier\n",
      "committee member --> committee\n",
      "comtroller --> comtroller\n",
      "conveyancer --> conveyancer\n",
      "cooper --> cooper\n",
      "cordwainer --> cordwainer\n",
      "deacon --> deacon\n",
      "distiller --> distiller\n",
      "doctor --> doctor\n",
      "doctors --> doctors\n",
      "druggist --> druggist\n",
      "esquire --> esquire\n",
      "estate --> estate\n",
      "executor --> executor\n",
      "executors --> executors\n",
      "extors --> extors\n",
      "farmer --> farmer\n",
      "frederick company --> frederick\n",
      "furrier --> furrier\n",
      "gentleman --> gentleman\n",
      "glazier --> glazier\n",
      "goldsmith --> goldsmith\n",
      "guardian --> guardian\n",
      "hair dresser --> hair\n",
      "hatter --> hatter\n",
      "housewright --> housewright\n",
      "individual --> individual\n",
      "inn keeper --> inn\n",
      "judges --> judges\n",
      "labourer --> labourer\n",
      "leather dresser --> leather\n",
      "marchant --> marchant\n",
      "mariner --> mariner\n",
      "marniner --> marniner\n",
      "mason --> mason\n",
      "merchant --> merchant\n",
      "miller --> miller\n",
      "molster --> molster\n",
      "no occupation --> occupation\n",
      "painter --> painter\n",
      "planter --> planter\n",
      "post master --> post\n",
      "post rider --> post\n",
      "printer --> printer\n",
      "proprietors --> proprietors\n",
      "reverend --> reverend\n",
      "sadler --> sadler\n",
      "school committee --> school\n",
      "school master --> school\n",
      "schoolmaster --> schoolmaster\n",
      "sheriff --> sheriff\n",
      "sherriffs --> sherriffs\n",
      "ship wright --> ship\n",
      "shipwright --> shipwright\n",
      "shoemaker --> shoemaker\n",
      "shopkeeper --> shopkeeper\n",
      "silversmith --> silversmith\n",
      "soldier --> soldier\n",
      "south carolina --> south\n",
      "spinster --> spinster\n",
      "tanner --> tanner\n",
      "taylor --> taylor\n",
      "trader --> trader\n",
      "treasurer --> treasurer\n",
      "trustee --> trustee\n",
      "weaver --> weaver\n",
      "widow --> widow\n",
      "wife --> wife\n"
     ]
    }
   ],
   "source": [
    "retdict = PrintFutureOccupations(OccsTotalsAll['occupation'].tolist())\n",
    "ogoccs['new occupation'] = ogoccs['new occupation'].apply(lambda x: retdict.get(x, x))"
   ]
  },
  {
   "cell_type": "code",
   "execution_count": 95,
   "id": "6152b9d2",
   "metadata": {
    "pycharm": {
     "name": "#%%\n"
    }
   },
   "outputs": [],
   "source": [
    "#Exclude these wors from any fuzzy string matching. Causes errors. \n",
    "NoMerge.append('planter')\n",
    "NoMerge.append('printer')"
   ]
  },
  {
   "cell_type": "code",
   "execution_count": 96,
   "id": "4204e8c6",
   "metadata": {
    "pycharm": {
     "name": "#%%\n"
    },
    "scrolled": false
   },
   "outputs": [
    {
     "name": "stdout",
     "output_type": "stream",
     "text": [
      "After Cleaning\n",
      "--------------\n",
      "\n",
      "\n",
      "           occupation      6p_total  # of people % of total people\n",
      "0       administrator  8.500810e+03         17.0              None\n",
      "1      administratrix  0.000000e+00          1.0              None\n",
      "2          apothecary  7.720000e+00          1.0              None\n",
      "3            assignee  2.416330e+03          4.0              None\n",
      "4            attorney  2.482790e+04         35.0              None\n",
      "5          auctioneer  1.231900e+02          2.0              None\n",
      "6         auctioneers  4.607700e+02          3.0              None\n",
      "7               baker  2.365410e+03          2.0              None\n",
      "8          blacksmith  3.436000e+03          9.0              None\n",
      "9          blockmaker  5.268660e+03          3.0              None\n",
      "10        book binder  7.830700e+02          1.0              None\n",
      "11         bricklayer  3.735000e+01          1.0              None\n",
      "12             broker  7.919102e+04         80.0              None\n",
      "13            butcher  2.357000e+02          1.0              None\n",
      "14      cabinet maker  7.446000e+01          1.0              None\n",
      "15          carpenter  7.843000e+02         10.0              None\n",
      "16            cashier  8.530000e+01          2.0              None\n",
      "17       chaise maker  4.757000e+01          1.0              None\n",
      "18              clerk  3.997000e+03         13.0              None\n",
      "19           clothier  5.333000e+01          1.0              None\n",
      "20          committee  8.634100e+02          3.0              None\n",
      "21         comtroller  5.374000e+01          1.0              None\n",
      "22        conveyancer  1.084000e+02          1.0              None\n",
      "23             cooper  1.720910e+03          4.0              None\n",
      "24          shoemaker  2.812500e+02          1.0              None\n",
      "25             deacon  1.635000e+01          1.0              None\n",
      "26          distiller  4.662500e+02          3.0              None\n",
      "27             doctor  2.324135e+04         43.0              None\n",
      "28            doctors  2.008370e+03          1.0              None\n",
      "29           druggist  4.922430e+03          2.0              None\n",
      "30                esq  1.845736e+05        235.0              None\n",
      "31             estate  1.979600e+03          2.0              None\n",
      "32           executor  1.855596e+04         31.0              None\n",
      "33          executors  0.000000e+00          1.0              None\n",
      "34           excuetor  1.245000e+02          2.0              None\n",
      "35             farmer  5.914360e+04        274.0              None\n",
      "36  frederick company  2.066700e+02          1.0              None\n",
      "37            furrier  3.107180e+03          1.0              None\n",
      "38          gentleman  4.136731e+04         60.0              None\n",
      "39            glazier  9.823500e+02          1.0              None\n",
      "40          goldsmith  1.020360e+03          4.0              None\n",
      "41           guardian  5.802730e+03          7.0              None\n",
      "42       hair dresser  0.000000e+00          1.0              None\n",
      "43             hatter  3.363410e+03          6.0              None\n",
      "44        housewright  2.666700e+02          1.0              None\n",
      "45         individual  8.462300e+02          1.0              None\n",
      "46         inn keeper  3.300500e+03         14.0              None\n",
      "47             judges  2.257180e+03          1.0              None\n",
      "48           labourer  6.716000e+01          2.0              None\n",
      "49    leather dresser  6.666700e+02          1.0              None\n",
      "50           marchant  6.154541e+05        237.0              None\n",
      "51            mariner  1.333644e+04         48.0              None\n",
      "52           marniner  7.856200e+02          2.0              None\n",
      "53              mason  1.152500e+03          3.0              None\n",
      "54           merchant  3.597267e+05        431.0              None\n",
      "55             miller  1.899000e+01          1.0              None\n",
      "56            molster  2.113800e+02          1.0              None\n",
      "57         occupation  2.980604e+06       1662.0              None\n",
      "58            painter  4.861000e+01          1.0              None\n",
      "59            planter  1.332204e+04         32.0              None\n",
      "60        post master  7.083530e+03          1.0              None\n",
      "61         post rider  6.769100e+02          3.0              None\n",
      "62            printer  8.055240e+03         10.0              None\n",
      "63        proprietors  3.355400e+02          2.0              None\n",
      "64           reverend  2.278500e+03          3.0              None\n",
      "65             sadler  3.524740e+03          1.0              None\n",
      "66   school committee  1.071650e+03          7.0              None\n",
      "67      school master  2.213750e+03          2.0              None\n",
      "68       schoolmaster  1.311500e+02          1.0              None\n",
      "69            sheriff  2.189537e+03          3.0              None\n",
      "70          sherriffs  5.124500e+02          3.0              None\n",
      "71        ship wright  1.241760e+03          1.0              None\n",
      "72         shipwright  7.765900e+02          4.0              None\n",
      "73          shoemaker  3.856940e+03         12.0              None\n",
      "74         shopkeeper  8.129400e+02          8.0              None\n",
      "75        silversmith  1.917650e+03          2.0              None\n",
      "76            soldier  7.848000e+01          1.0              None\n",
      "77     south carolina  0.000000e+00          1.0              None\n",
      "78           spinster  3.434960e+03         12.0              None\n",
      "79             tanner  2.282800e+03          4.0              None\n",
      "80             taylor  3.644930e+03          9.0              None\n",
      "81             trader  1.570301e+04         63.0              None\n",
      "82          treasurer  2.514448e+05         32.0              None\n",
      "83            trustee  2.439020e+03          1.0              None\n",
      "84             weaver  4.602000e+01          1.0              None\n",
      "85              widow  3.194785e+04         80.0              None\n",
      "86               wife  6.364000e+01          1.0              None\n",
      "\n",
      "\n",
      "After Removing Duplicates and Summing\n",
      "-------------------------------------\n",
      "\n",
      "\n",
      "           occupation      6p_total  # of people  % of total people\n",
      "0       administrator  8.500810e+03           17                  0\n",
      "1      administratrix  0.000000e+00            1                  0\n",
      "2          apothecary  7.720000e+00            1                  0\n",
      "3            assignee  2.416330e+03            4                  0\n",
      "4            attorney  2.482790e+04           35                  0\n",
      "5          auctioneer  1.231900e+02            2                  0\n",
      "6         auctioneers  4.607700e+02            3                  0\n",
      "7               baker  2.365410e+03            2                  0\n",
      "8          blacksmith  3.436000e+03            9                  0\n",
      "9          blockmaker  5.268660e+03            3                  0\n",
      "10        book binder  7.830700e+02            1                  0\n",
      "11         bricklayer  3.735000e+01            1                  0\n",
      "12             broker  7.919102e+04           80                  0\n",
      "13            butcher  2.357000e+02            1                  0\n",
      "14      cabinet maker  7.446000e+01            1                  0\n",
      "15          carpenter  7.843000e+02           10                  0\n",
      "16            cashier  8.530000e+01            2                  0\n",
      "17       chaise maker  4.757000e+01            1                  0\n",
      "18              clerk  3.997000e+03           13                  0\n",
      "19           clothier  5.333000e+01            1                  0\n",
      "20          committee  8.634100e+02            3                  0\n",
      "21         comtroller  5.374000e+01            1                  0\n",
      "22        conveyancer  1.084000e+02            1                  0\n",
      "23             cooper  1.720910e+03            4                  0\n",
      "24             deacon  1.635000e+01            1                  0\n",
      "25          distiller  4.662500e+02            3                  0\n",
      "26             doctor  2.324135e+04           43                  0\n",
      "27            doctors  2.008370e+03            1                  0\n",
      "28           druggist  4.922430e+03            2                  0\n",
      "29                esq  1.845736e+05          235                  0\n",
      "30             estate  1.979600e+03            2                  0\n",
      "31           excuetor  1.245000e+02            2                  0\n",
      "32           executor  1.855596e+04           31                  0\n",
      "33          executors  0.000000e+00            1                  0\n",
      "34             farmer  5.914360e+04          274                  0\n",
      "35  frederick company  2.066700e+02            1                  0\n",
      "36            furrier  3.107180e+03            1                  0\n",
      "37          gentleman  4.136731e+04           60                  0\n",
      "38            glazier  9.823500e+02            1                  0\n",
      "39          goldsmith  1.020360e+03            4                  0\n",
      "40           guardian  5.802730e+03            7                  0\n",
      "41       hair dresser  0.000000e+00            1                  0\n",
      "42             hatter  3.363410e+03            6                  0\n",
      "43        housewright  2.666700e+02            1                  0\n",
      "44         individual  8.462300e+02            1                  0\n",
      "45         inn keeper  3.300500e+03           14                  0\n",
      "46             judges  2.257180e+03            1                  0\n",
      "47           labourer  6.716000e+01            2                  0\n",
      "48    leather dresser  6.666700e+02            1                  0\n",
      "49           marchant  6.154541e+05          237                  0\n",
      "50            mariner  1.333644e+04           48                  0\n",
      "51           marniner  7.856200e+02            2                  0\n",
      "52              mason  1.152500e+03            3                  0\n",
      "53           merchant  3.597267e+05          431                  0\n",
      "54             miller  1.899000e+01            1                  0\n",
      "55            molster  2.113800e+02            1                  0\n",
      "56         occupation  2.980604e+06         1662                  0\n",
      "57            painter  4.861000e+01            1                  0\n",
      "58            planter  1.332204e+04           32                  0\n",
      "59        post master  7.083530e+03            1                  0\n",
      "60         post rider  6.769100e+02            3                  0\n",
      "61            printer  8.055240e+03           10                  0\n",
      "62        proprietors  3.355400e+02            2                  0\n",
      "63           reverend  2.278500e+03            3                  0\n",
      "64             sadler  3.524740e+03            1                  0\n",
      "65   school committee  1.071650e+03            7                  0\n",
      "66      school master  2.213750e+03            2                  0\n",
      "67       schoolmaster  1.311500e+02            1                  0\n",
      "68            sheriff  2.189537e+03            3                  0\n",
      "69          sherriffs  5.124500e+02            3                  0\n",
      "70        ship wright  1.241760e+03            1                  0\n",
      "71         shipwright  7.765900e+02            4                  0\n",
      "72          shoemaker  4.138190e+03           13                  0\n",
      "73         shopkeeper  8.129400e+02            8                  0\n",
      "74        silversmith  1.917650e+03            2                  0\n",
      "75            soldier  7.848000e+01            1                  0\n",
      "76     south carolina  0.000000e+00            1                  0\n",
      "77           spinster  3.434960e+03           12                  0\n",
      "78             tanner  2.282800e+03            4                  0\n",
      "79             taylor  3.644930e+03            9                  0\n",
      "80             trader  1.570301e+04           63                  0\n",
      "81          treasurer  2.514448e+05           32                  0\n",
      "82            trustee  2.439020e+03            1                  0\n",
      "83             weaver  4.602000e+01            1                  0\n",
      "84              widow  3.194785e+04           80                  0\n",
      "85               wife  6.364000e+01            1                  0\n",
      "\n",
      "\n",
      "Removed: administratrix --> administrator\n",
      "Removed: auctioneers --> auctioneer\n",
      "Removed: doctors --> doctor\n",
      "Removed: executor --> excuetor\n",
      "Removed: executors --> excuetor\n",
      "Removed: merchant --> marchant\n",
      "Removed: marniner --> mariner\n",
      "Removed: schoolmaster --> school master\n",
      "Removed: sherriffs --> sheriff\n",
      "Removed: shipwright --> ship wright\n",
      "\n",
      "\n",
      "After Using Fuzzy String Matching\n",
      "---------------------------------\n",
      "\n",
      "\n",
      "           occupation      6p_total  # of people  % of total people  average debt per person\n",
      "0          occupation  2.980604e+06         1662          46.424581              1793.383813\n",
      "1            marchant  9.751808e+05          668          18.659218              1459.851506\n",
      "2           treasurer  2.514448e+05           32           0.893855              7857.650625\n",
      "3                 esq  1.845736e+05          235           6.564246               785.419566\n",
      "4              broker  7.919102e+04           80           2.234637               989.887750\n",
      "5              farmer  5.914360e+04          274           7.653631               215.852555\n",
      "6           gentleman  4.136731e+04           60           1.675978               689.455167\n",
      "7               widow  3.194785e+04           80           2.234637               399.348125\n",
      "8              doctor  2.524972e+04           44           1.229050               573.857273\n",
      "9            attorney  2.482790e+04           35           0.977654               709.368571\n",
      "10           excuetor  1.868046e+04           34           0.949721               549.425300\n",
      "11             trader  1.570301e+04           63           1.759777               249.254127\n",
      "12            mariner  1.412206e+04           50           1.396648               282.441122\n",
      "13            planter  1.332204e+04           32           0.893855               416.313646\n",
      "14      administrator  8.500810e+03           18           0.502793               472.267222\n",
      "15            printer  8.055240e+03           10           0.279330               805.524000\n",
      "16        post master  7.083530e+03            1           0.027933              7083.530000\n",
      "17           guardian  5.802730e+03            7           0.195531               828.961429\n",
      "18         blockmaker  5.268660e+03            3           0.083799              1756.220000\n",
      "19           druggist  4.922430e+03            2           0.055866              2461.215000\n",
      "20          shoemaker  4.138190e+03           13           0.363128               318.322308\n",
      "21              clerk  3.997000e+03           13           0.363128               307.461538\n",
      "22             taylor  3.644930e+03            9           0.251397               404.992222\n",
      "23             sadler  3.524740e+03            1           0.027933              3524.740000\n",
      "24         blacksmith  3.436000e+03            9           0.251397               381.777778\n",
      "25           spinster  3.434960e+03           12           0.335196               286.246667\n",
      "26             hatter  3.363410e+03            6           0.167598               560.568333\n",
      "27         inn keeper  3.300500e+03           14           0.391061               235.750000\n",
      "28            furrier  3.107180e+03            1           0.027933              3107.180000\n",
      "29            sheriff  2.701987e+03            6           0.167598               450.331111\n",
      "30            trustee  2.439020e+03            1           0.027933              2439.020000\n",
      "31           assignee  2.416330e+03            4           0.111732               604.082500\n",
      "32              baker  2.365410e+03            2           0.055866              1182.705000\n",
      "33      school master  2.344900e+03            3           0.083799               781.633333\n",
      "34             tanner  2.282800e+03            4           0.111732               570.700000\n",
      "35           reverend  2.278500e+03            3           0.083799               759.500000\n",
      "36             judges  2.257180e+03            1           0.027933              2257.180000\n",
      "37        ship wright  2.018350e+03            5           0.139665               403.670000\n",
      "38             estate  1.979600e+03            2           0.055866               989.800000\n",
      "39        silversmith  1.917650e+03            2           0.055866               958.825000\n",
      "40             cooper  1.720910e+03            4           0.111732               430.227500\n",
      "41              mason  1.152500e+03            3           0.083799               384.166667\n",
      "42   school committee  1.071650e+03            7           0.195531               153.092857\n",
      "43          goldsmith  1.020360e+03            4           0.111732               255.090000\n",
      "44            glazier  9.823500e+02            1           0.027933               982.350000\n",
      "45          committee  8.634100e+02            3           0.083799               287.803333\n",
      "46         individual  8.462300e+02            1           0.027933               846.230000\n",
      "47         shopkeeper  8.129400e+02            8           0.223464               101.617500\n",
      "48          carpenter  7.843000e+02           10           0.279330                78.430000\n",
      "49        book binder  7.830700e+02            1           0.027933               783.070000\n",
      "50         post rider  6.769100e+02            3           0.083799               225.636667\n",
      "51    leather dresser  6.666700e+02            1           0.027933               666.670000\n",
      "52         auctioneer  5.839600e+02            5           0.139665               116.792000\n",
      "53          distiller  4.662500e+02            3           0.083799               155.416667\n",
      "54        proprietors  3.355400e+02            2           0.055866               167.770000\n",
      "55        housewright  2.666700e+02            1           0.027933               266.670000\n",
      "56            butcher  2.357000e+02            1           0.027933               235.700000\n",
      "57            molster  2.113800e+02            1           0.027933               211.380000\n",
      "58  frederick company  2.066700e+02            1           0.027933               206.670000\n",
      "59        conveyancer  1.084000e+02            1           0.027933               108.400000\n",
      "60            cashier  8.530000e+01            2           0.055866                42.650000\n",
      "61            soldier  7.848000e+01            1           0.027933                78.480000\n",
      "62      cabinet maker  7.446000e+01            1           0.027933                74.460000\n",
      "63           labourer  6.716000e+01            2           0.055866                33.580000\n",
      "64               wife  6.364000e+01            1           0.027933                63.640000\n",
      "65         comtroller  5.374000e+01            1           0.027933                53.740000\n",
      "66           clothier  5.333000e+01            1           0.027933                53.330000\n",
      "67            painter  4.861000e+01            1           0.027933                48.610000\n",
      "68       chaise maker  4.757000e+01            1           0.027933                47.570000\n",
      "69             weaver  4.602000e+01            1           0.027933                46.020000\n",
      "70         bricklayer  3.735000e+01            1           0.027933                37.350000\n",
      "71             miller  1.899000e+01            1           0.027933                18.990000\n",
      "72             deacon  1.635000e+01            1           0.027933                16.350000\n",
      "73         apothecary  7.720000e+00            1           0.027933                 7.720000\n",
      "74       hair dresser  0.000000e+00            1           0.027933                 0.000000\n",
      "75     south carolina  0.000000e+00            1           0.027933                 0.000000\n",
      "\n",
      "\n"
     ]
    }
   ],
   "source": [
    "retdict, OccsTotalsAll = MergeOccupations(OccsTotalsAll)\n",
    "ogoccs['new occupation'] = ogoccs['new occupation'].apply(lambda x: retdict.get(x, x))"
   ]
  },
  {
   "cell_type": "code",
   "execution_count": 97,
   "id": "f34d0f23",
   "metadata": {
    "pycharm": {
     "name": "#%%\n"
    }
   },
   "outputs": [
    {
     "name": "stdout",
     "output_type": "stream",
     "text": [
      "           occupation      6p_total  # of people  % of total people  average debt per person\n",
      "0          occupation  2.980604e+06         1662          46.450531              1793.383813\n",
      "1            marchant  9.751808e+05          668          18.669648              1459.851506\n",
      "2           treasurer  2.514448e+05           32           0.894354              7857.650625\n",
      "3                 esq  1.845736e+05          235           6.567915               785.419566\n",
      "4              broker  7.919102e+04           80           2.235886               989.887750\n",
      "5              farmer  5.914360e+04          274           7.657909               215.852555\n",
      "6           gentleman  4.136731e+04           60           1.676914               689.455167\n",
      "7               widow  3.194785e+04           80           2.235886               399.348125\n",
      "8              doctor  2.524972e+04           44           1.229737               573.857273\n",
      "9            attorney  2.482790e+04           35           0.978200               709.368571\n",
      "10           excuetor  1.868046e+04           34           0.950252               549.425300\n",
      "11             trader  1.570301e+04           63           1.760760               249.254127\n",
      "12            mariner  1.412206e+04           50           1.397429               282.441122\n",
      "13            planter  1.332204e+04           32           0.894354               416.313646\n",
      "14      administrator  8.500810e+03           18           0.503074               472.267222\n",
      "15            printer  8.055240e+03           10           0.279486               805.524000\n",
      "16        post master  7.083530e+03            1           0.027949              7083.530000\n",
      "17           guardian  5.802730e+03            7           0.195640               828.961429\n",
      "18         blockmaker  5.268660e+03            3           0.083846              1756.220000\n",
      "19           druggist  4.922430e+03            2           0.055897              2461.215000\n",
      "20          shoemaker  4.138190e+03           13           0.363331               318.322308\n",
      "21              clerk  3.997000e+03           13           0.363331               307.461538\n",
      "22             taylor  3.644930e+03            9           0.251537               404.992222\n",
      "23             sadler  3.524740e+03            1           0.027949              3524.740000\n",
      "24         blacksmith  3.436000e+03            9           0.251537               381.777778\n",
      "25           spinster  3.434960e+03           12           0.335383               286.246667\n",
      "26             hatter  3.363410e+03            6           0.167691               560.568333\n",
      "27         inn keeper  3.300500e+03           14           0.391280               235.750000\n",
      "28            furrier  3.107180e+03            1           0.027949              3107.180000\n",
      "29            sheriff  2.701987e+03            6           0.167691               450.331111\n",
      "30            trustee  2.439020e+03            1           0.027949              2439.020000\n",
      "31           assignee  2.416330e+03            4           0.111794               604.082500\n",
      "32              baker  2.365410e+03            2           0.055897              1182.705000\n",
      "33      school master  2.344900e+03            3           0.083846               781.633333\n",
      "34             tanner  2.282800e+03            4           0.111794               570.700000\n",
      "35           reverend  2.278500e+03            3           0.083846               759.500000\n",
      "36             judges  2.257180e+03            1           0.027949              2257.180000\n",
      "37        ship wright  2.018350e+03            5           0.139743               403.670000\n",
      "38             estate  1.979600e+03            2           0.055897               989.800000\n",
      "39        silversmith  1.917650e+03            2           0.055897               958.825000\n",
      "40             cooper  1.720910e+03            4           0.111794               430.227500\n",
      "41              mason  1.152500e+03            3           0.083846               384.166667\n",
      "42   school committee  1.071650e+03            7           0.195640               153.092857\n",
      "43          goldsmith  1.020360e+03            4           0.111794               255.090000\n",
      "44            glazier  9.823500e+02            1           0.027949               982.350000\n",
      "45          committee  8.634100e+02            3           0.083846               287.803333\n",
      "46         individual  8.462300e+02            1           0.027949               846.230000\n",
      "47         shopkeeper  8.129400e+02            8           0.223589               101.617500\n",
      "48          carpenter  7.843000e+02           10           0.279486                78.430000\n",
      "49        book binder  7.830700e+02            1           0.027949               783.070000\n",
      "50         post rider  6.769100e+02            3           0.083846               225.636667\n",
      "51    leather dresser  6.666700e+02            1           0.027949               666.670000\n",
      "52         auctioneer  5.839600e+02            5           0.139743               116.792000\n",
      "53          distiller  4.662500e+02            3           0.083846               155.416667\n",
      "54        proprietors  3.355400e+02            2           0.055897               167.770000\n",
      "55        housewright  2.666700e+02            1           0.027949               266.670000\n",
      "56            butcher  2.357000e+02            1           0.027949               235.700000\n",
      "57            molster  2.113800e+02            1           0.027949               211.380000\n",
      "58  frederick company  2.066700e+02            1           0.027949               206.670000\n",
      "59        conveyancer  1.084000e+02            1           0.027949               108.400000\n",
      "60            cashier  8.530000e+01            2           0.055897                42.650000\n",
      "61            soldier  7.848000e+01            1           0.027949                78.480000\n",
      "62      cabinet maker  7.446000e+01            1           0.027949                74.460000\n",
      "63           labourer  6.716000e+01            2           0.055897                33.580000\n",
      "64               wife  6.364000e+01            1           0.027949                63.640000\n",
      "65         comtroller  5.374000e+01            1           0.027949                53.740000\n",
      "66           clothier  5.333000e+01            1           0.027949                53.330000\n",
      "67            painter  4.861000e+01            1           0.027949                48.610000\n",
      "68       chaise maker  4.757000e+01            1           0.027949                47.570000\n",
      "69             weaver  4.602000e+01            1           0.027949                46.020000\n",
      "70         bricklayer  3.735000e+01            1           0.027949                37.350000\n",
      "71             miller  1.899000e+01            1           0.027949                18.990000\n",
      "72             deacon  1.635000e+01            1           0.027949                16.350000\n",
      "73         apothecary  7.720000e+00            1           0.027949                 7.720000\n"
     ]
    }
   ],
   "source": [
    "#Remove any occupatins will a total of '0'\n",
    "OccsTotalsAll = OccsTotalsAll[OccsTotalsAll['6p_total'] != 0].reset_index(drop=True)\n",
    "OccsTotalsAll['% of total people'] = (OccsTotalsAll['# of people'] / OccsTotalsAll['# of people'].sum()) * 100 #Recalculate the '% of total people'.\n",
    "print(OccsTotalsAll.to_string())"
   ]
  },
  {
   "cell_type": "code",
   "execution_count": 98,
   "outputs": [],
   "source": [
    "TurnToExcel(OccsTotalsAll, 'AllStates')"
   ],
   "metadata": {
    "collapsed": false,
    "pycharm": {
     "name": "#%%\n"
    }
   }
  },
  {
   "cell_type": "code",
   "execution_count": 99,
   "outputs": [],
   "source": [
    "ogoccs['new occupation'] = ogoccs['new occupation'].apply(lambda x: datadict.get(x, x))\n",
    "ogoccs.drop_duplicates().to_csv('occupation_crosswalk.csv')"
   ],
   "metadata": {
    "collapsed": false,
    "pycharm": {
     "name": "#%%\n"
    }
   }
  }
 ],
 "metadata": {
  "kernelspec": {
   "display_name": "Python 3 (ipykernel)",
   "language": "python",
   "name": "python3"
  },
  "language_info": {
   "codemirror_mode": {
    "name": "ipython",
    "version": 3
   },
   "file_extension": ".py",
   "mimetype": "text/x-python",
   "name": "python",
   "nbconvert_exporter": "python",
   "pygments_lexer": "ipython3",
   "version": "3.7.9"
  }
 },
 "nbformat": 4,
 "nbformat_minor": 5
}