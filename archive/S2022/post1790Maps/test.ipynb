{
 "cells": [
  {
   "cell_type": "code",
   "execution_count": 25,
   "outputs": [],
   "source": [
    "import pandas as pd\n",
    "import numpy as np\n",
    "import random\n",
    "from rapidfuzz import process\n"
   ],
   "metadata": {
    "collapsed": false,
    "pycharm": {
     "name": "#%%\n"
    }
   }
  },
  {
   "cell_type": "code",
   "execution_count": 2,
   "outputs": [],
   "source": [
    "NY_CD_raw = pd.read_excel(\"../../Data/Post1790/NY/NY_1790_CD.xlsx\",\n",
    "                      header = 11, usecols = 'H, I, M, N, X, Y, AC, AD, AM, AN, AR, AS')\n",
    "NY_CD_raw.columns = ['First Name', 'Last Name', '6p_Dollar', '6p_Cents',\n",
    "                     'First Name.1', 'Last Name.1', '6p_def_Dollar', '6p_def_Cents',\n",
    "                     'First Name.2', 'Last Name.2', '3p_Dollar', '3p_Cents']\n",
    "NY_CD_raw['state'] = np.nan\n",
    "NY_CD_raw['town'] = np.nan\n",
    "NY_CD_raw['occupation'] = np.nan\n",
    "NY_CD = NY_CD_raw[['6p_Dollar', '6p_Cents', '6p_def_Dollar', '6p_def_Cents','3p_Dollar', '3p_Cents',\n",
    "                   'town', 'state', 'occupation']]"
   ],
   "metadata": {
    "collapsed": false,
    "pycharm": {
     "name": "#%%\n"
    }
   }
  },
  {
   "cell_type": "code",
   "execution_count": 35,
   "outputs": [],
   "source": [
    "#prepare loan dataset\n",
    "PA_CD_raw = pd.read_excel(\"../../Data/Post1790/PA/PA_post1790_CD.xlsx\",\n",
    "                          header = 11, usecols = 'G, H, I, J, K, L, M, U, V, W, X, Y, Z, AA, AJ, AK, AL, AM, AN, AO, AP')\n",
    "PA_CD_raw.columns = ['First Name', 'Last Name', 'town1', 'state1', 'occupation1', '6p_Dollar', '6p_Cents',\n",
    "                     'First Name.1', 'Last Name.1', 'town2', 'state2', 'occupation2', '6p_def_Dollar', '6p_def_Cents',\n",
    "                     'First Name.2', 'Last Name.2', 'town3', 'state3', 'occupation3', '3p_Dollar', '3p_Cents', ]\n",
    "#inds = random.sample(PA_CD_raw[['First Name', 'Last Name', 'state1','6p_Dollar', '6p_Cents',]].index.tolist(), 20)\n",
    "inds = [923, 791,1142, 130, 733, 1158,  355,   80,   1102,   1109,\n",
    "        215,59, 54,  704,  703, 1014,  1042,  309, 962, 485]"
   ],
   "metadata": {
    "collapsed": false,
    "pycharm": {
     "name": "#%%\n"
    }
   }
  },
  {
   "cell_type": "code",
   "execution_count": 44,
   "outputs": [],
   "source": [
    "CD_all = pd.read_csv('../../Data/Post1790/aggregated_CD_noname.csv', index_col = 0)\n",
    "data = PA_CD_raw.loc[inds][['First Name', 'Last Name', 'state1']]\n",
    "data['county_real'] = CD_all.loc[np.array(inds)+1996]['county'].tolist()\n",
    "data['county_predicted'] = ['Philadelphia County', 'Philadelphia County', np.nan, 'Philadelphia County', 'Huntingdon County', np.nan, \\\n",
    "                            np.nan, 'Philadelphia County', 'York County', np.nan, np.nan, 'Northampton County', 'Philadelphia County', np.nan, \\\n",
    "                            'Philadelphia County', 'York County', np.nan, 'Philadelphia County', np.nan, np.nan]"
   ],
   "metadata": {
    "collapsed": false,
    "pycharm": {
     "name": "#%%\n"
    }
   }
  },
  {
   "cell_type": "code",
   "execution_count": 56,
   "outputs": [],
   "source": [
    "data['county_real'] = data['county_real'].apply(lambda x: str(x))\n",
    "data['county_predicted'] = data['county_predicted'].apply(lambda x: str(x))"
   ],
   "metadata": {
    "collapsed": false,
    "pycharm": {
     "name": "#%%\n"
    }
   }
  },
  {
   "cell_type": "code",
   "execution_count": 66,
   "outputs": [
    {
     "name": "stdout",
     "output_type": "stream",
     "text": [
      "12 predictions correct out of 20\n",
      "10 counties predicted correctly out of a total of 18 valid county values\n",
      "7 counties predicted as nan out of a total of 18 valid county values\n",
      "1 counties found but predicted incorrectly out of a total of 18 valid county values\n"
     ]
    }
   ],
   "source": [
    "sum_total = np.sum(data['county_real'] == data['county_predicted'])\n",
    "print(\"{} predictions correct out of 20\".format(sum_total))\n",
    "sum_counties = np.sum(data[data['county_real'].apply(lambda x: x != \"nan\")]['county_real'] == data[data['county_real'].apply(lambda x: x != \"nan\")]['county_predicted'])\n",
    "valid_counties = data[data['county_real'].apply(lambda x: x != \"nan\")].shape[0]\n",
    "print(\"{} counties predicted correctly out of a total of {} valid county values\".format(sum_counties, valid_counties))\n",
    "nan_counties = np.sum(data[data['county_real'].apply(lambda x: x != \"nan\")]['county_predicted'] == \"nan\")\n",
    "print(\"{} counties predicted as nan out of a total of {} valid county values\".format(nan_counties, valid_counties))\n",
    "print(\"{} counties found but predicted incorrectly out of a total of {} valid county values\".format(valid_counties - nan_counties - sum_counties, valid_counties))"
   ],
   "metadata": {
    "collapsed": false,
    "pycharm": {
     "name": "#%%\n"
    }
   }
  },
  {
   "cell_type": "code",
   "execution_count": 71,
   "outputs": [
    {
     "data": {
      "text/plain": "     First Name.2         Last Name.2\n0            John           Delafield\n9          Daniel  Crommelin and Sons\n10        William           Henderson\n11           John            O Conner\n13       Robert R             Randall\n...           ...                 ...\n2179            B             Pomeroy\n2182       B Jn A          Chevallier\n2183       Thomas         Fitzpatrick\n2184            E                Hart\n2192    William C             Mumford\n\n[883 rows x 2 columns]",
      "text/html": "<div>\n<style scoped>\n    .dataframe tbody tr th:only-of-type {\n        vertical-align: middle;\n    }\n\n    .dataframe tbody tr th {\n        vertical-align: top;\n    }\n\n    .dataframe thead th {\n        text-align: right;\n    }\n</style>\n<table border=\"1\" class=\"dataframe\">\n  <thead>\n    <tr style=\"text-align: right;\">\n      <th></th>\n      <th>First Name.2</th>\n      <th>Last Name.2</th>\n    </tr>\n  </thead>\n  <tbody>\n    <tr>\n      <th>0</th>\n      <td>John</td>\n      <td>Delafield</td>\n    </tr>\n    <tr>\n      <th>9</th>\n      <td>Daniel</td>\n      <td>Crommelin and Sons</td>\n    </tr>\n    <tr>\n      <th>10</th>\n      <td>William</td>\n      <td>Henderson</td>\n    </tr>\n    <tr>\n      <th>11</th>\n      <td>John</td>\n      <td>O Conner</td>\n    </tr>\n    <tr>\n      <th>13</th>\n      <td>Robert R</td>\n      <td>Randall</td>\n    </tr>\n    <tr>\n      <th>...</th>\n      <td>...</td>\n      <td>...</td>\n    </tr>\n    <tr>\n      <th>2179</th>\n      <td>B</td>\n      <td>Pomeroy</td>\n    </tr>\n    <tr>\n      <th>2182</th>\n      <td>B Jn A</td>\n      <td>Chevallier</td>\n    </tr>\n    <tr>\n      <th>2183</th>\n      <td>Thomas</td>\n      <td>Fitzpatrick</td>\n    </tr>\n    <tr>\n      <th>2184</th>\n      <td>E</td>\n      <td>Hart</td>\n    </tr>\n    <tr>\n      <th>2192</th>\n      <td>William C</td>\n      <td>Mumford</td>\n    </tr>\n  </tbody>\n</table>\n<p>883 rows × 2 columns</p>\n</div>"
     },
     "execution_count": 71,
     "metadata": {},
     "output_type": "execute_result"
    }
   ],
   "source": [
    "NY_CD_raw[NY_CD_raw['Last Name.2'].apply(lambda x: not pd.isnull(x))][['First Name.2', 'Last Name.2']].drop_duplicates()"
   ],
   "metadata": {
    "collapsed": false,
    "pycharm": {
     "name": "#%%\n"
    }
   }
  }
 ],
 "metadata": {
  "kernelspec": {
   "display_name": "Python 3",
   "language": "python",
   "name": "python3"
  },
  "language_info": {
   "codemirror_mode": {
    "name": "ipython",
    "version": 2
   },
   "file_extension": ".py",
   "mimetype": "text/x-python",
   "name": "python",
   "nbconvert_exporter": "python",
   "pygments_lexer": "ipython2",
   "version": "2.7.6"
  }
 },
 "nbformat": 4,
 "nbformat_minor": 0
}