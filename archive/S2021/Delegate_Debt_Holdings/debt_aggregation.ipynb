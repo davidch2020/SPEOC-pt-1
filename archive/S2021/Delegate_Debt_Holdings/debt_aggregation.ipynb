{
 "cells": [
  {
   "cell_type": "markdown",
   "metadata": {
    "pycharm": {
     "name": "#%% md\n"
    }
   },
   "source": [
    "<h3> Data Cleaning </h3>"
   ]
  },
  {
   "cell_type": "code",
   "execution_count": 1,
   "metadata": {
    "pycharm": {
     "name": "#%%\n"
    }
   },
   "outputs": [],
   "source": [
    "import numpy as np\n",
    "import pandas as pd"
   ]
  },
  {
   "cell_type": "code",
   "execution_count": 2,
   "metadata": {
    "pycharm": {
     "name": "#%%\n"
    }
   },
   "outputs": [],
   "source": [
    "delegates = pd.read_csv(\"../Data/Delegates/cleaned/constitutional_convention_delegates_cleaned.csv\", index_col = 0)\n",
    "state_delegates = pd.read_csv(\"../Data/Delegates/cleaned/State_Delegates_cleaned.csv\", index_col = 0)"
   ]
  },
  {
   "cell_type": "code",
   "execution_count": 3,
   "metadata": {
    "pycharm": {
     "name": "#%%\n"
    }
   },
   "outputs": [],
   "source": [
    "final_matching = pd.read_csv('Data/final_matching.csv').drop(['Unnamed: 0', 'Scores'], axis = 1)"
   ]
  },
  {
   "cell_type": "code",
   "execution_count": 4,
   "metadata": {
    "pycharm": {
     "name": "#%%\n"
    }
   },
   "outputs": [],
   "source": [
    "spec_names = final_matching[final_matching['Delegates'] != final_matching['Loan Matches']]"
   ]
  },
  {
   "cell_type": "markdown",
   "metadata": {
    "pycharm": {
     "name": "#%% md\n"
    }
   },
   "source": [
    "# Delegate Asset Database"
   ]
  },
  {
   "cell_type": "code",
   "execution_count": 5,
   "metadata": {
    "pycharm": {
     "name": "#%%\n"
    }
   },
   "outputs": [
    {
     "name": "stderr",
     "output_type": "stream",
     "text": [
      "/opt/anaconda3/lib/python3.7/site-packages/pandas/core/frame.py:4223: SettingWithCopyWarning: \n",
      "A value is trying to be set on a copy of a slice from a DataFrame\n",
      "\n",
      "See the caveats in the documentation: http://pandas.pydata.org/pandas-docs/stable/user_guide/indexing.html#returning-a-view-versus-a-copy\n",
      "  return super().rename(**kwargs)\n",
      "/opt/anaconda3/lib/python3.7/site-packages/ipykernel_launcher.py:4: FutureWarning: Sorting because non-concatenation axis is not aligned. A future version\n",
      "of pandas will change to not sort by default.\n",
      "\n",
      "To accept the future behavior, pass 'sort=False'.\n",
      "\n",
      "To retain the current behavior and silence the warning, pass 'sort=True'.\n",
      "\n",
      "  after removing the cwd from sys.path.\n"
     ]
    }
   ],
   "source": [
    "delegates_assets = delegates[['full name 1', 'full name 2', 'sign']]\n",
    "state_delegate_assets = state_delegates[['full name 1', 'State', 'Vote']]\n",
    "state_delegate_assets.rename(columns = {\"Vote\":\"sign\", \"State\":\"delegate_state\"}, inplace = True)\n",
    "total_assets = pd.concat([delegates_assets, state_delegate_assets]).reset_index(drop = True)"
   ]
  },
  {
   "cell_type": "code",
   "execution_count": 6,
   "metadata": {
    "pycharm": {
     "name": "#%%\n"
    }
   },
   "outputs": [],
   "source": [
    "#amending existing cases"
   ]
  },
  {
   "cell_type": "code",
   "execution_count": 7,
   "metadata": {
    "pycharm": {
     "name": "#%%\n"
    }
   },
   "outputs": [],
   "source": [
    "total_assets['full name 2'] = total_assets['full name 1']\n",
    "total_assets_full = total_assets"
   ]
  },
  {
   "cell_type": "code",
   "execution_count": 8,
   "metadata": {
    "pycharm": {
     "name": "#%%\n"
    }
   },
   "outputs": [],
   "source": [
    "merge_1 = pd.merge(total_assets_full.drop('full name 2', axis = 1), \n",
    "                   spec_names, left_on = 'full name 1', \n",
    "                   right_on = 'Delegates').drop('full name 1', axis = 1)\n",
    "merge_2 = pd.merge(total_assets_full.drop('full name 1', axis = 1), \n",
    "                   spec_names, left_on = 'full name 2', \n",
    "                   right_on = 'Delegates').drop('full name 2', axis = 1)\n",
    "merged = pd.concat([merge_1, merge_2]).drop_duplicates()"
   ]
  },
  {
   "cell_type": "code",
   "execution_count": 9,
   "metadata": {
    "pycharm": {
     "name": "#%%\n"
    }
   },
   "outputs": [],
   "source": [
    "total_assets_full.columns = ['delegate_state', 'delegate name', 'match name', 'sign']\n",
    "merged.columns =  ['delegate_state', 'sign',  'delegate name', 'match name']"
   ]
  },
  {
   "cell_type": "code",
   "execution_count": 10,
   "metadata": {
    "pycharm": {
     "name": "#%%\n"
    }
   },
   "outputs": [
    {
     "name": "stderr",
     "output_type": "stream",
     "text": [
      "/opt/anaconda3/lib/python3.7/site-packages/ipykernel_launcher.py:1: FutureWarning: Sorting because non-concatenation axis is not aligned. A future version\n",
      "of pandas will change to not sort by default.\n",
      "\n",
      "To accept the future behavior, pass 'sort=False'.\n",
      "\n",
      "To retain the current behavior and silence the warning, pass 'sort=True'.\n",
      "\n",
      "  \"\"\"Entry point for launching an IPython kernel.\n"
     ]
    }
   ],
   "source": [
    "total_assets_final = pd.concat([total_assets_full, merged])"
   ]
  },
  {
   "cell_type": "markdown",
   "metadata": {
    "pycharm": {
     "name": "#%% md\n"
    }
   },
   "source": [
    "### Full Name - First/Last Name Mapping"
   ]
  },
  {
   "cell_type": "code",
   "execution_count": 11,
   "metadata": {
    "pycharm": {
     "name": "#%%\n"
    }
   },
   "outputs": [],
   "source": [
    "state_firstlast = state_delegates[['full name 1', 'First Name', 'Last Name']].rename(columns = {'full name 1': 'Full Name'})\n",
    "const_firstlast = delegates[['full name 1', 'first name', 'last name']].rename(columns = {'first name':'First Name',\n",
    "                                                                                          'last name':'Last Name',\n",
    "                                                                                          'full name 1': 'Full Name'})\n",
    "cum_firstlast = pd.concat([state_firstlast, const_firstlast])"
   ]
  },
  {
   "cell_type": "markdown",
   "metadata": {
    "pycharm": {
     "name": "#%% md\n"
    }
   },
   "source": [
    "# Loans Dataset Matching"
   ]
  },
  {
   "cell_type": "code",
   "execution_count": 12,
   "metadata": {
    "pycharm": {
     "name": "#%%\n"
    }
   },
   "outputs": [],
   "source": [
    "#prepare loan dataset\n",
    "loans = pd.read_csv(\"Data/Pre1790/cleaned/loan_office_certificates_9_states_cleaned.csv\").drop('Unnamed: 0', axis = 1)\n",
    "\n",
    "loans = loans.rename(columns = {\"First Name 1 \":\"First Name 1\",\n",
    "                                \"Last Name 1 \":\"Last Name 1\",\n",
    "                                \"Specie Value \":\"Specie Value\"})\n",
    "\n",
    "loans['full name 1'] = loans['First Name 1'] + \" \" + loans['Last Name 1']\n",
    "loans['full name 2'] = loans['First Name 2'] + \" \" + loans['Last Name 2']\n",
    "loans['full name 3'] = loans['First Name 3'] + \" \" + loans['Last Name 3']"
   ]
  },
  {
   "cell_type": "code",
   "execution_count": 13,
   "metadata": {
    "pycharm": {
     "name": "#%%\n"
    }
   },
   "outputs": [],
   "source": [
    "#specie, face and num"
   ]
  },
  {
   "cell_type": "code",
   "execution_count": 14,
   "metadata": {
    "pycharm": {
     "name": "#%%\n"
    }
   },
   "outputs": [],
   "source": [
    "loans['index'] = loans.index\n",
    "\n",
    "loan_small_f1 = loans[['State', 'Year', 'Month', 'Day', 'full name 1', 'Face Value','Specie Value', 'notes', 'original text', 'index']]\n",
    "loan_small_f2 = loans[['State', 'Year', 'Month', 'Day', 'full name 2', 'Face Value','Specie Value', 'notes', 'original text', 'index']]\n",
    "loan_small_f3 = loans[['State', 'Year', 'Month', 'Day', 'full name 3', 'Face Value','Specie Value', 'notes', 'original text', 'index']]\n",
    "loan_office_cert_assets = pd.merge(total_assets_final,\n",
    "                                   loan_small_f1[loan_small_f1['full name 1'].apply(lambda x: not pd.isnull(x))],\n",
    "                                   left_on = 'match name', right_on = 'full name 1').drop('full name 1', axis = 1)\n",
    "add_to_assets = pd.merge(total_assets_final,\n",
    "                         loan_small_f2[loan_small_f2['full name 2'].apply(lambda x: not pd.isnull(x))],\n",
    "                         left_on = 'match name', right_on = 'full name 2').drop('full name 2', axis = 1)\n",
    "loan_office_cert_assets = pd.concat([loan_office_cert_assets, add_to_assets])\n",
    "add_to_assets = pd.merge(total_assets_final,\n",
    "                         loan_small_f3[loan_small_f3['full name 3'].apply(lambda x: not pd.isnull(x))],\n",
    "                         left_on = 'match name', right_on = 'full name 3').drop('full name 3', axis = 1)\n",
    "loan_office_cert_assets = pd.concat([loan_office_cert_assets, add_to_assets])\n",
    "loan_office_cert_assets = loan_office_cert_assets.drop_duplicates(['delegate name', 'index'])\n",
    "loan_office_cert_assets['delegate_state'] = loan_office_cert_assets['delegate_state'].apply(lambda x: 'Constitution' if pd.isnull(x) else x)"
   ]
  },
  {
   "cell_type": "code",
   "execution_count": 15,
   "metadata": {
    "pycharm": {
     "name": "#%%\n"
    }
   },
   "outputs": [],
   "source": [
    "loan_office_cert_assets.rename(columns={'Face Value':'Loan Office Certificates Face Value','Specie Value':'Loan Office Certificates Specie Value'}, inplace = True)"
   ]
  },
  {
   "cell_type": "code",
   "execution_count": 16,
   "metadata": {
    "pycharm": {
     "name": "#%%\n"
    }
   },
   "outputs": [
    {
     "data": {
      "text/html": [
       "<div>\n",
       "<style scoped>\n",
       "    .dataframe tbody tr th:only-of-type {\n",
       "        vertical-align: middle;\n",
       "    }\n",
       "\n",
       "    .dataframe tbody tr th {\n",
       "        vertical-align: top;\n",
       "    }\n",
       "\n",
       "    .dataframe thead tr th {\n",
       "        text-align: left;\n",
       "    }\n",
       "\n",
       "    .dataframe thead tr:last-of-type th {\n",
       "        text-align: right;\n",
       "    }\n",
       "</style>\n",
       "<table border=\"1\" class=\"dataframe\">\n",
       "  <thead>\n",
       "    <tr>\n",
       "      <th></th>\n",
       "      <th></th>\n",
       "      <th></th>\n",
       "      <th></th>\n",
       "      <th></th>\n",
       "      <th colspan=\"2\" halign=\"left\">Loan Office Certificates Face Value</th>\n",
       "      <th colspan=\"2\" halign=\"left\">Loan Office Certificates Specie Value</th>\n",
       "    </tr>\n",
       "    <tr>\n",
       "      <th></th>\n",
       "      <th></th>\n",
       "      <th></th>\n",
       "      <th></th>\n",
       "      <th></th>\n",
       "      <th>sum</th>\n",
       "      <th>count</th>\n",
       "      <th>sum</th>\n",
       "      <th>count</th>\n",
       "    </tr>\n",
       "    <tr>\n",
       "      <th>delegate name</th>\n",
       "      <th>First Name</th>\n",
       "      <th>Last Name</th>\n",
       "      <th>delegate_state</th>\n",
       "      <th>sign</th>\n",
       "      <th></th>\n",
       "      <th></th>\n",
       "      <th></th>\n",
       "      <th></th>\n",
       "    </tr>\n",
       "  </thead>\n",
       "  <tbody>\n",
       "    <tr>\n",
       "      <td>Aaron Austin</td>\n",
       "      <td>Aaron</td>\n",
       "      <td>Austin</td>\n",
       "      <td>CT</td>\n",
       "      <td>yes</td>\n",
       "      <td>3700</td>\n",
       "      <td>3</td>\n",
       "      <td>180.06667</td>\n",
       "      <td>3</td>\n",
       "    </tr>\n",
       "    <tr>\n",
       "      <td>Aaron Wood</td>\n",
       "      <td>Aaron</td>\n",
       "      <td>Wood</td>\n",
       "      <td>MA</td>\n",
       "      <td>no</td>\n",
       "      <td>600</td>\n",
       "      <td>1</td>\n",
       "      <td>66.72500</td>\n",
       "      <td>1</td>\n",
       "    </tr>\n",
       "    <tr>\n",
       "      <td>Abraham Faw</td>\n",
       "      <td>Abraham</td>\n",
       "      <td>Faw</td>\n",
       "      <td>MD</td>\n",
       "      <td>yes</td>\n",
       "      <td>400</td>\n",
       "      <td>1</td>\n",
       "      <td>35.53889</td>\n",
       "      <td>1</td>\n",
       "    </tr>\n",
       "    <tr>\n",
       "      <td>Abraham Holmes</td>\n",
       "      <td>Abraham</td>\n",
       "      <td>Holmes</td>\n",
       "      <td>MA</td>\n",
       "      <td>no</td>\n",
       "      <td>13200</td>\n",
       "      <td>8</td>\n",
       "      <td>527.52500</td>\n",
       "      <td>8</td>\n",
       "    </tr>\n",
       "    <tr>\n",
       "      <td>Abraham Smith</td>\n",
       "      <td>Abraham</td>\n",
       "      <td>Smith</td>\n",
       "      <td>MA</td>\n",
       "      <td>no</td>\n",
       "      <td>300</td>\n",
       "      <td>1</td>\n",
       "      <td>123.49170</td>\n",
       "      <td>1</td>\n",
       "    </tr>\n",
       "    <tr>\n",
       "      <td>...</td>\n",
       "      <td>...</td>\n",
       "      <td>...</td>\n",
       "      <td>...</td>\n",
       "      <td>...</td>\n",
       "      <td>...</td>\n",
       "      <td>...</td>\n",
       "      <td>...</td>\n",
       "      <td>...</td>\n",
       "    </tr>\n",
       "    <tr>\n",
       "      <td>William White</td>\n",
       "      <td>William</td>\n",
       "      <td>White</td>\n",
       "      <td>VA</td>\n",
       "      <td>no</td>\n",
       "      <td>11400</td>\n",
       "      <td>18</td>\n",
       "      <td>1197.58450</td>\n",
       "      <td>18</td>\n",
       "    </tr>\n",
       "    <tr>\n",
       "      <td>William Williams</td>\n",
       "      <td>William</td>\n",
       "      <td>Williams</td>\n",
       "      <td>CT</td>\n",
       "      <td>yes</td>\n",
       "      <td>14600</td>\n",
       "      <td>27</td>\n",
       "      <td>3922.76945</td>\n",
       "      <td>27</td>\n",
       "    </tr>\n",
       "    <tr>\n",
       "      <td>William Wilson</td>\n",
       "      <td>William</td>\n",
       "      <td>Wilson</td>\n",
       "      <td>PA</td>\n",
       "      <td>yes</td>\n",
       "      <td>2800</td>\n",
       "      <td>9</td>\n",
       "      <td>272.00277</td>\n",
       "      <td>9</td>\n",
       "    </tr>\n",
       "    <tr>\n",
       "      <td>William Woodhull</td>\n",
       "      <td>William</td>\n",
       "      <td>Woodhull</td>\n",
       "      <td>NJ</td>\n",
       "      <td>yes</td>\n",
       "      <td>1000</td>\n",
       "      <td>2</td>\n",
       "      <td>51.06944</td>\n",
       "      <td>2</td>\n",
       "    </tr>\n",
       "    <tr>\n",
       "      <td>Williams John</td>\n",
       "      <td>Williams</td>\n",
       "      <td>John</td>\n",
       "      <td>RI</td>\n",
       "      <td>no</td>\n",
       "      <td>108100</td>\n",
       "      <td>177</td>\n",
       "      <td>9922.43332</td>\n",
       "      <td>177</td>\n",
       "    </tr>\n",
       "  </tbody>\n",
       "</table>\n",
       "<p>492 rows × 4 columns</p>\n",
       "</div>"
      ],
      "text/plain": [
       "                                                          Loan Office Certificates Face Value  \\\n",
       "                                                                                          sum   \n",
       "delegate name    First Name Last Name delegate_state sign                                       \n",
       "Aaron Austin     Aaron      Austin    CT             yes                                 3700   \n",
       "Aaron Wood       Aaron      Wood      MA             no                                   600   \n",
       "Abraham Faw      Abraham    Faw       MD             yes                                  400   \n",
       "Abraham Holmes   Abraham    Holmes    MA             no                                 13200   \n",
       "Abraham Smith    Abraham    Smith     MA             no                                   300   \n",
       "...                                                                                       ...   \n",
       "William White    William    White     VA             no                                 11400   \n",
       "William Williams William    Williams  CT             yes                                14600   \n",
       "William Wilson   William    Wilson    PA             yes                                 2800   \n",
       "William Woodhull William    Woodhull  NJ             yes                                 1000   \n",
       "Williams John    Williams   John      RI             no                                108100   \n",
       "\n",
       "                                                                 \\\n",
       "                                                          count   \n",
       "delegate name    First Name Last Name delegate_state sign         \n",
       "Aaron Austin     Aaron      Austin    CT             yes      3   \n",
       "Aaron Wood       Aaron      Wood      MA             no       1   \n",
       "Abraham Faw      Abraham    Faw       MD             yes      1   \n",
       "Abraham Holmes   Abraham    Holmes    MA             no       8   \n",
       "Abraham Smith    Abraham    Smith     MA             no       1   \n",
       "...                                                         ...   \n",
       "William White    William    White     VA             no      18   \n",
       "William Williams William    Williams  CT             yes     27   \n",
       "William Wilson   William    Wilson    PA             yes      9   \n",
       "William Woodhull William    Woodhull  NJ             yes      2   \n",
       "Williams John    Williams   John      RI             no     177   \n",
       "\n",
       "                                                          Loan Office Certificates Specie Value  \\\n",
       "                                                                                            sum   \n",
       "delegate name    First Name Last Name delegate_state sign                                         \n",
       "Aaron Austin     Aaron      Austin    CT             yes                              180.06667   \n",
       "Aaron Wood       Aaron      Wood      MA             no                                66.72500   \n",
       "Abraham Faw      Abraham    Faw       MD             yes                               35.53889   \n",
       "Abraham Holmes   Abraham    Holmes    MA             no                               527.52500   \n",
       "Abraham Smith    Abraham    Smith     MA             no                               123.49170   \n",
       "...                                                                                         ...   \n",
       "William White    William    White     VA             no                              1197.58450   \n",
       "William Williams William    Williams  CT             yes                             3922.76945   \n",
       "William Wilson   William    Wilson    PA             yes                              272.00277   \n",
       "William Woodhull William    Woodhull  NJ             yes                               51.06944   \n",
       "Williams John    Williams   John      RI             no                              9922.43332   \n",
       "\n",
       "                                                                 \n",
       "                                                          count  \n",
       "delegate name    First Name Last Name delegate_state sign        \n",
       "Aaron Austin     Aaron      Austin    CT             yes      3  \n",
       "Aaron Wood       Aaron      Wood      MA             no       1  \n",
       "Abraham Faw      Abraham    Faw       MD             yes      1  \n",
       "Abraham Holmes   Abraham    Holmes    MA             no       8  \n",
       "Abraham Smith    Abraham    Smith     MA             no       1  \n",
       "...                                                         ...  \n",
       "William White    William    White     VA             no      18  \n",
       "William Williams William    Williams  CT             yes     27  \n",
       "William Wilson   William    Wilson    PA             yes      9  \n",
       "William Woodhull William    Woodhull  NJ             yes      2  \n",
       "Williams John    Williams   John      RI             no     177  \n",
       "\n",
       "[492 rows x 4 columns]"
      ]
     },
     "execution_count": 16,
     "metadata": {},
     "output_type": "execute_result"
    }
   ],
   "source": [
    "loan_office_cert_assets = pd.merge(cum_firstlast, loan_office_cert_assets, left_on = 'Full Name', right_on = 'delegate name').drop('Full Name', axis = 1).drop_duplicates()\n",
    "loan_office_cert_assets_agg = loan_office_cert_assets.groupby(['delegate name', 'First Name', 'Last Name', 'delegate_state', 'sign'])[['Loan Office Certificates Face Value', 'Loan Office Certificates Specie Value']].agg(['sum','count'])\n",
    "loan_office_cert_assets_agg"
   ]
  },
  {
   "cell_type": "markdown",
   "metadata": {
    "pycharm": {
     "name": "#%% md\n"
    }
   },
   "source": [
    "# Pierce Certificates"
   ]
  },
  {
   "cell_type": "code",
   "execution_count": 17,
   "metadata": {
    "pycharm": {
     "name": "#%%\n"
    }
   },
   "outputs": [],
   "source": [
    "#prepare pierce certificates\n",
    "pierce = pd.read_excel(\"Data/Pre1790/Pierce_Certs_cleaned_2019.xlsx\")\n",
    "\n",
    "#clean first and last names\n",
    "pierce = pierce[pierce['First'].apply(lambda x: not pd.isnull(x))]\n",
    "pierce_ind = pierce[pierce['Last'].apply(lambda x: type(x) != str)].index\n",
    "#fix issue with types for names\n",
    "pierce.loc[pierce_ind, 'Last'] = ['True'] * len(pierce_ind)\n",
    "#create full name\n",
    "pierce['full name 1'] = pierce['First'] + \" \" + pierce['Last']"
   ]
  },
  {
   "cell_type": "code",
   "execution_count": 18,
   "metadata": {
    "pycharm": {
     "name": "#%%\n"
    }
   },
   "outputs": [],
   "source": [
    "pierce_small_f1 = pierce[['State','full name 1', 'Value', 'CN']]\n",
    "pierce_cert_assets = pd.merge(total_assets_final,\n",
    "                              pierce_small_f1[pierce_small_f1['full name 1'].apply(lambda x: not pd.isnull(x))],\n",
    "                              left_on = 'match name', right_on = 'full name 1').drop('full name 1', axis = 1)\n",
    "pierce_cert_assets = pierce_cert_assets.drop_duplicates(['delegate name', 'CN'])\n",
    "pierce_cert_assets['delegate_state'] = pierce_cert_assets['delegate_state'].apply(lambda x: 'Constitution' if pd.isnull(x) else x)"
   ]
  },
  {
   "cell_type": "code",
   "execution_count": 19,
   "metadata": {
    "pycharm": {
     "name": "#%%\n"
    }
   },
   "outputs": [],
   "source": [
    "pierce_cert_assets.rename(columns={'Value':'Pierce Certificates Value'}, inplace = True)"
   ]
  },
  {
   "cell_type": "code",
   "execution_count": 20,
   "metadata": {
    "pycharm": {
     "name": "#%%\n"
    }
   },
   "outputs": [
    {
     "data": {
      "text/html": [
       "<div>\n",
       "<style scoped>\n",
       "    .dataframe tbody tr th:only-of-type {\n",
       "        vertical-align: middle;\n",
       "    }\n",
       "\n",
       "    .dataframe tbody tr th {\n",
       "        vertical-align: top;\n",
       "    }\n",
       "\n",
       "    .dataframe thead tr th {\n",
       "        text-align: left;\n",
       "    }\n",
       "\n",
       "    .dataframe thead tr:last-of-type th {\n",
       "        text-align: right;\n",
       "    }\n",
       "</style>\n",
       "<table border=\"1\" class=\"dataframe\">\n",
       "  <thead>\n",
       "    <tr>\n",
       "      <th></th>\n",
       "      <th></th>\n",
       "      <th></th>\n",
       "      <th></th>\n",
       "      <th></th>\n",
       "      <th colspan=\"2\" halign=\"left\">Pierce Certificates Value</th>\n",
       "    </tr>\n",
       "    <tr>\n",
       "      <th></th>\n",
       "      <th></th>\n",
       "      <th></th>\n",
       "      <th></th>\n",
       "      <th></th>\n",
       "      <th>sum</th>\n",
       "      <th>count</th>\n",
       "    </tr>\n",
       "    <tr>\n",
       "      <th>delegate name</th>\n",
       "      <th>First Name</th>\n",
       "      <th>Last Name</th>\n",
       "      <th>delegate_state</th>\n",
       "      <th>sign</th>\n",
       "      <th></th>\n",
       "      <th></th>\n",
       "    </tr>\n",
       "  </thead>\n",
       "  <tbody>\n",
       "    <tr>\n",
       "      <td>A. Fisher</td>\n",
       "      <td>A.</td>\n",
       "      <td>Fisher</td>\n",
       "      <td>MA</td>\n",
       "      <td>yes</td>\n",
       "      <td>199.10</td>\n",
       "      <td>2</td>\n",
       "    </tr>\n",
       "    <tr>\n",
       "      <td>Aaron Hall</td>\n",
       "      <td>Aaron</td>\n",
       "      <td>Hall</td>\n",
       "      <td>NH</td>\n",
       "      <td>yes</td>\n",
       "      <td>67.20</td>\n",
       "      <td>2</td>\n",
       "    </tr>\n",
       "    <tr>\n",
       "      <td>Aaron Wood</td>\n",
       "      <td>Aaron</td>\n",
       "      <td>Wood</td>\n",
       "      <td>MA</td>\n",
       "      <td>no</td>\n",
       "      <td>120.60</td>\n",
       "      <td>2</td>\n",
       "    </tr>\n",
       "    <tr>\n",
       "      <td>Abraham Baldwin</td>\n",
       "      <td>Abraham</td>\n",
       "      <td>Baldwin</td>\n",
       "      <td>Constitution</td>\n",
       "      <td>yes</td>\n",
       "      <td>3746.75</td>\n",
       "      <td>6</td>\n",
       "    </tr>\n",
       "    <tr>\n",
       "      <td>Abraham Smith</td>\n",
       "      <td>Abraham</td>\n",
       "      <td>Smith</td>\n",
       "      <td>MA</td>\n",
       "      <td>no</td>\n",
       "      <td>290.20</td>\n",
       "      <td>5</td>\n",
       "    </tr>\n",
       "    <tr>\n",
       "      <td>...</td>\n",
       "      <td>...</td>\n",
       "      <td>...</td>\n",
       "      <td>...</td>\n",
       "      <td>...</td>\n",
       "      <td>...</td>\n",
       "      <td>...</td>\n",
       "    </tr>\n",
       "    <tr>\n",
       "      <td>William White</td>\n",
       "      <td>William</td>\n",
       "      <td>White</td>\n",
       "      <td>VA</td>\n",
       "      <td>no</td>\n",
       "      <td>4272.54</td>\n",
       "      <td>26</td>\n",
       "    </tr>\n",
       "    <tr>\n",
       "      <td>William Williams</td>\n",
       "      <td>William</td>\n",
       "      <td>Williams</td>\n",
       "      <td>CT</td>\n",
       "      <td>yes</td>\n",
       "      <td>4035.61</td>\n",
       "      <td>48</td>\n",
       "    </tr>\n",
       "    <tr>\n",
       "      <td>William Wilson</td>\n",
       "      <td>William</td>\n",
       "      <td>Wilson</td>\n",
       "      <td>PA</td>\n",
       "      <td>yes</td>\n",
       "      <td>4800.33</td>\n",
       "      <td>36</td>\n",
       "    </tr>\n",
       "    <tr>\n",
       "      <td>Williams John</td>\n",
       "      <td>Williams</td>\n",
       "      <td>John</td>\n",
       "      <td>RI</td>\n",
       "      <td>no</td>\n",
       "      <td>6900.62</td>\n",
       "      <td>64</td>\n",
       "    </tr>\n",
       "    <tr>\n",
       "      <td>Zachariah Johnston</td>\n",
       "      <td>Zachariah</td>\n",
       "      <td>Johnston</td>\n",
       "      <td>VA</td>\n",
       "      <td>yes</td>\n",
       "      <td>147.20</td>\n",
       "      <td>1</td>\n",
       "    </tr>\n",
       "  </tbody>\n",
       "</table>\n",
       "<p>550 rows × 2 columns</p>\n",
       "</div>"
      ],
      "text/plain": [
       "                                                            Pierce Certificates Value  \\\n",
       "                                                                                  sum   \n",
       "delegate name      First Name Last Name delegate_state sign                             \n",
       "A. Fisher          A.         Fisher    MA             yes                     199.10   \n",
       "Aaron Hall         Aaron      Hall      NH             yes                      67.20   \n",
       "Aaron Wood         Aaron      Wood      MA             no                      120.60   \n",
       "Abraham Baldwin    Abraham    Baldwin   Constitution   yes                    3746.75   \n",
       "Abraham Smith      Abraham    Smith     MA             no                      290.20   \n",
       "...                                                                               ...   \n",
       "William White      William    White     VA             no                     4272.54   \n",
       "William Williams   William    Williams  CT             yes                    4035.61   \n",
       "William Wilson     William    Wilson    PA             yes                    4800.33   \n",
       "Williams John      Williams   John      RI             no                     6900.62   \n",
       "Zachariah Johnston Zachariah  Johnston  VA             yes                     147.20   \n",
       "\n",
       "                                                                   \n",
       "                                                            count  \n",
       "delegate name      First Name Last Name delegate_state sign        \n",
       "A. Fisher          A.         Fisher    MA             yes      2  \n",
       "Aaron Hall         Aaron      Hall      NH             yes      2  \n",
       "Aaron Wood         Aaron      Wood      MA             no       2  \n",
       "Abraham Baldwin    Abraham    Baldwin   Constitution   yes      6  \n",
       "Abraham Smith      Abraham    Smith     MA             no       5  \n",
       "...                                                           ...  \n",
       "William White      William    White     VA             no      26  \n",
       "William Williams   William    Williams  CT             yes     48  \n",
       "William Wilson     William    Wilson    PA             yes     36  \n",
       "Williams John      Williams   John      RI             no      64  \n",
       "Zachariah Johnston Zachariah  Johnston  VA             yes      1  \n",
       "\n",
       "[550 rows x 2 columns]"
      ]
     },
     "execution_count": 20,
     "metadata": {},
     "output_type": "execute_result"
    }
   ],
   "source": [
    "pierce_cert_assets = pd.merge(cum_firstlast, pierce_cert_assets, left_on = 'Full Name', right_on = 'delegate name').drop('Full Name', axis = 1).drop_duplicates()\n",
    "pierce_cert_assets_agg = pierce_cert_assets.groupby(['delegate name', 'First Name', 'Last Name', 'delegate_state', 'sign'])[['Pierce Certificates Value']].agg(['sum','count'])\n",
    "pierce_cert_assets_agg"
   ]
  },
  {
   "cell_type": "markdown",
   "metadata": {
    "pycharm": {
     "name": "#%% md\n"
    }
   },
   "source": [
    "# Marine Certificates"
   ]
  },
  {
   "cell_type": "code",
   "execution_count": 21,
   "metadata": {
    "pycharm": {
     "name": "#%%\n"
    }
   },
   "outputs": [],
   "source": [
    "#Read in file\n",
    "marine = pd.read_excel(\"Data/Pre1790/Marine_Liquidated_Debt_Certificates.xlsx\", header = 11)\n",
    "cols = marine.columns = [\"Page\",\"JPEG number\",\"Number\",\"Letter\",\"Date of the Certificate: Month\",\n",
    "                         \"Date of the Certificate: Day\",\"Date of the Certificate: Year\",\"First name\",\"Last name\",\n",
    "                         \"Title\",\"Time when the debt became due: Month\",\"Time when the debt became due: Day\",\n",
    "                         \"Time when the debt became due: Year\",\"Dollars\",\"90th\",\"Total Dollars_1\",\"Total Dollars_2\",\n",
    "                         \"Line Strike Thorugh: Yes?\",\"Line Strike Thorugh: Note\",\"Notes\"]\n",
    "marine.columns = cols\n",
    "\n",
    "marine = marine[marine['First name'].apply(lambda x: not pd.isnull(x))]\n",
    "\n",
    "#create full name\n",
    "marine['full name 1'] = marine['First name'] + \" \" + marine['Last name']"
   ]
  },
  {
   "cell_type": "code",
   "execution_count": 22,
   "metadata": {
    "pycharm": {
     "name": "#%%\n"
    }
   },
   "outputs": [],
   "source": [
    "marine_small_f1 = marine[['full name 1', 'Number', 'Dollars', '90th']]\n",
    "marine_cert_assets = pd.merge(total_assets_final,\n",
    "                              marine_small_f1[marine_small_f1['full name 1'].apply(lambda x: not pd.isnull(x))],\n",
    "                              left_on = 'match name', right_on = 'full name 1').drop('full name 1', axis = 1)\n",
    "marine_cert_assets = marine_cert_assets.drop_duplicates(['delegate name', 'Number'])\n",
    "marine_cert_assets['delegate_state'] = marine_cert_assets['delegate_state'].apply(lambda x: 'Constitution' if pd.isnull(x) else x)\n"
   ]
  },
  {
   "cell_type": "code",
   "execution_count": 23,
   "metadata": {
    "pycharm": {
     "name": "#%%\n"
    }
   },
   "outputs": [],
   "source": [
    "marine_cert_assets.rename(columns={'Dollars':'Marine Certificates Dollars','90th':'Marine Certificates 90th'}, inplace = True)"
   ]
  },
  {
   "cell_type": "code",
   "execution_count": 24,
   "metadata": {
    "pycharm": {
     "name": "#%%\n"
    }
   },
   "outputs": [
    {
     "data": {
      "text/html": [
       "<div>\n",
       "<style scoped>\n",
       "    .dataframe tbody tr th:only-of-type {\n",
       "        vertical-align: middle;\n",
       "    }\n",
       "\n",
       "    .dataframe tbody tr th {\n",
       "        vertical-align: top;\n",
       "    }\n",
       "\n",
       "    .dataframe thead tr th {\n",
       "        text-align: left;\n",
       "    }\n",
       "\n",
       "    .dataframe thead tr:last-of-type th {\n",
       "        text-align: right;\n",
       "    }\n",
       "</style>\n",
       "<table border=\"1\" class=\"dataframe\">\n",
       "  <thead>\n",
       "    <tr>\n",
       "      <th></th>\n",
       "      <th></th>\n",
       "      <th></th>\n",
       "      <th></th>\n",
       "      <th></th>\n",
       "      <th colspan=\"2\" halign=\"left\">Marine Certificates Dollars</th>\n",
       "      <th colspan=\"2\" halign=\"left\">Marine Certificates 90th</th>\n",
       "    </tr>\n",
       "    <tr>\n",
       "      <th></th>\n",
       "      <th></th>\n",
       "      <th></th>\n",
       "      <th></th>\n",
       "      <th></th>\n",
       "      <th>sum</th>\n",
       "      <th>count</th>\n",
       "      <th>sum</th>\n",
       "      <th>count</th>\n",
       "    </tr>\n",
       "    <tr>\n",
       "      <th>delegate name</th>\n",
       "      <th>First Name</th>\n",
       "      <th>Last Name</th>\n",
       "      <th>delegate_state</th>\n",
       "      <th>sign</th>\n",
       "      <th></th>\n",
       "      <th></th>\n",
       "      <th></th>\n",
       "      <th></th>\n",
       "    </tr>\n",
       "  </thead>\n",
       "  <tbody>\n",
       "    <tr>\n",
       "      <td>Benjamin Browne</td>\n",
       "      <td>Benjamin</td>\n",
       "      <td>Browne</td>\n",
       "      <td>MA</td>\n",
       "      <td>yes</td>\n",
       "      <td>141.0</td>\n",
       "      <td>1</td>\n",
       "      <td>50.0</td>\n",
       "      <td>1</td>\n",
       "    </tr>\n",
       "    <tr>\n",
       "      <td>Brown John</td>\n",
       "      <td>Brown</td>\n",
       "      <td>John</td>\n",
       "      <td>RI</td>\n",
       "      <td>yes</td>\n",
       "      <td>262.0</td>\n",
       "      <td>1</td>\n",
       "      <td>0.0</td>\n",
       "      <td>0</td>\n",
       "    </tr>\n",
       "    <tr>\n",
       "      <td>Clark John I</td>\n",
       "      <td>Clark</td>\n",
       "      <td>John I</td>\n",
       "      <td>RI</td>\n",
       "      <td>yes</td>\n",
       "      <td>71.0</td>\n",
       "      <td>1</td>\n",
       "      <td>68.0</td>\n",
       "      <td>1</td>\n",
       "    </tr>\n",
       "    <tr>\n",
       "      <td>David Bell</td>\n",
       "      <td>David</td>\n",
       "      <td>Bell</td>\n",
       "      <td>VA</td>\n",
       "      <td>no</td>\n",
       "      <td>108.0</td>\n",
       "      <td>1</td>\n",
       "      <td>14.0</td>\n",
       "      <td>1</td>\n",
       "    </tr>\n",
       "    <tr>\n",
       "      <td>David Rice</td>\n",
       "      <td>David</td>\n",
       "      <td>Rice</td>\n",
       "      <td>NC</td>\n",
       "      <td>yes</td>\n",
       "      <td>76.0</td>\n",
       "      <td>1</td>\n",
       "      <td>10.0</td>\n",
       "      <td>1</td>\n",
       "    </tr>\n",
       "    <tr>\n",
       "      <td>Davis John</td>\n",
       "      <td>Davis</td>\n",
       "      <td>John</td>\n",
       "      <td>RI</td>\n",
       "      <td>yes</td>\n",
       "      <td>35.0</td>\n",
       "      <td>1</td>\n",
       "      <td>25.0</td>\n",
       "      <td>1</td>\n",
       "    </tr>\n",
       "    <tr>\n",
       "      <td>George Houser</td>\n",
       "      <td>George</td>\n",
       "      <td>Houser</td>\n",
       "      <td>NC</td>\n",
       "      <td>yes</td>\n",
       "      <td>1047.0</td>\n",
       "      <td>1</td>\n",
       "      <td>2.0</td>\n",
       "      <td>1</td>\n",
       "    </tr>\n",
       "    <tr>\n",
       "      <td>James Neal</td>\n",
       "      <td>James</td>\n",
       "      <td>Neal</td>\n",
       "      <td>MA</td>\n",
       "      <td>no</td>\n",
       "      <td>42.0</td>\n",
       "      <td>1</td>\n",
       "      <td>24.0</td>\n",
       "      <td>1</td>\n",
       "    </tr>\n",
       "    <tr>\n",
       "      <td>John Brown</td>\n",
       "      <td>John</td>\n",
       "      <td>Brown</td>\n",
       "      <td>NC</td>\n",
       "      <td>no</td>\n",
       "      <td>262.0</td>\n",
       "      <td>1</td>\n",
       "      <td>0.0</td>\n",
       "      <td>0</td>\n",
       "    </tr>\n",
       "    <tr>\n",
       "      <td>John Davis</td>\n",
       "      <td>John</td>\n",
       "      <td>Davis</td>\n",
       "      <td>MA</td>\n",
       "      <td>yes</td>\n",
       "      <td>35.0</td>\n",
       "      <td>1</td>\n",
       "      <td>25.0</td>\n",
       "      <td>1</td>\n",
       "    </tr>\n",
       "    <tr>\n",
       "      <td>John Dunlap</td>\n",
       "      <td>John</td>\n",
       "      <td>Dunlap</td>\n",
       "      <td>MA</td>\n",
       "      <td>yes</td>\n",
       "      <td>1.0</td>\n",
       "      <td>1</td>\n",
       "      <td>85.0</td>\n",
       "      <td>1</td>\n",
       "    </tr>\n",
       "    <tr>\n",
       "      <td>John Elliot</td>\n",
       "      <td>John</td>\n",
       "      <td>Elliot</td>\n",
       "      <td>GA</td>\n",
       "      <td>yes</td>\n",
       "      <td>194.0</td>\n",
       "      <td>1</td>\n",
       "      <td>0.0</td>\n",
       "      <td>0</td>\n",
       "    </tr>\n",
       "    <tr>\n",
       "      <td>John Hunter</td>\n",
       "      <td>John</td>\n",
       "      <td>Hunter</td>\n",
       "      <td>SC</td>\n",
       "      <td>yes</td>\n",
       "      <td>310.0</td>\n",
       "      <td>1</td>\n",
       "      <td>51.0</td>\n",
       "      <td>1</td>\n",
       "    </tr>\n",
       "    <tr>\n",
       "      <td>John Jones</td>\n",
       "      <td>John</td>\n",
       "      <td>Jones</td>\n",
       "      <td>DE</td>\n",
       "      <td>yes</td>\n",
       "      <td>77.0</td>\n",
       "      <td>2</td>\n",
       "      <td>85.0</td>\n",
       "      <td>2</td>\n",
       "    </tr>\n",
       "    <tr>\n",
       "      <td>John K. Smith</td>\n",
       "      <td>John K.</td>\n",
       "      <td>Smith</td>\n",
       "      <td>MA</td>\n",
       "      <td>yes</td>\n",
       "      <td>23.0</td>\n",
       "      <td>1</td>\n",
       "      <td>85.0</td>\n",
       "      <td>1</td>\n",
       "    </tr>\n",
       "    <tr>\n",
       "      <td>John Rhea</td>\n",
       "      <td>John</td>\n",
       "      <td>Rhea</td>\n",
       "      <td>NC</td>\n",
       "      <td>yes</td>\n",
       "      <td>43.0</td>\n",
       "      <td>1</td>\n",
       "      <td>57.0</td>\n",
       "      <td>1</td>\n",
       "    </tr>\n",
       "    <tr>\n",
       "      <td>John Smith</td>\n",
       "      <td>John</td>\n",
       "      <td>Smith</td>\n",
       "      <td>NY</td>\n",
       "      <td>yes</td>\n",
       "      <td>23.0</td>\n",
       "      <td>1</td>\n",
       "      <td>85.0</td>\n",
       "      <td>1</td>\n",
       "    </tr>\n",
       "    <tr>\n",
       "      <td>John Taylor</td>\n",
       "      <td>John</td>\n",
       "      <td>Taylor</td>\n",
       "      <td>MA</td>\n",
       "      <td>no</td>\n",
       "      <td>72.0</td>\n",
       "      <td>1</td>\n",
       "      <td>45.0</td>\n",
       "      <td>1</td>\n",
       "    </tr>\n",
       "    <tr>\n",
       "      <td>John Taylor Gilman</td>\n",
       "      <td>John Taylor</td>\n",
       "      <td>Gilman</td>\n",
       "      <td>NH</td>\n",
       "      <td>yes</td>\n",
       "      <td>72.0</td>\n",
       "      <td>1</td>\n",
       "      <td>45.0</td>\n",
       "      <td>1</td>\n",
       "    </tr>\n",
       "    <tr>\n",
       "      <td>John Williams</td>\n",
       "      <td>John</td>\n",
       "      <td>Williams</td>\n",
       "      <td>VA</td>\n",
       "      <td>yes</td>\n",
       "      <td>28.0</td>\n",
       "      <td>2</td>\n",
       "      <td>111.0</td>\n",
       "      <td>2</td>\n",
       "    </tr>\n",
       "    <tr>\n",
       "      <td>Jonathan Smith</td>\n",
       "      <td>Jonathan</td>\n",
       "      <td>Smith</td>\n",
       "      <td>MA</td>\n",
       "      <td>no</td>\n",
       "      <td>106.0</td>\n",
       "      <td>2</td>\n",
       "      <td>147.0</td>\n",
       "      <td>2</td>\n",
       "    </tr>\n",
       "    <tr>\n",
       "      <td>Nathaniel Rogers</td>\n",
       "      <td>Nathaniel</td>\n",
       "      <td>Rogers</td>\n",
       "      <td>NH</td>\n",
       "      <td>yes</td>\n",
       "      <td>69.0</td>\n",
       "      <td>1</td>\n",
       "      <td>68.0</td>\n",
       "      <td>1</td>\n",
       "    </tr>\n",
       "    <tr>\n",
       "      <td>Samuel Johnston</td>\n",
       "      <td>Samuel</td>\n",
       "      <td>Johnston</td>\n",
       "      <td>NC</td>\n",
       "      <td>yes</td>\n",
       "      <td>52.0</td>\n",
       "      <td>1</td>\n",
       "      <td>45.0</td>\n",
       "      <td>1</td>\n",
       "    </tr>\n",
       "    <tr>\n",
       "      <td>Thomas Jones</td>\n",
       "      <td>Thomas</td>\n",
       "      <td>Jones</td>\n",
       "      <td>MA</td>\n",
       "      <td>yes</td>\n",
       "      <td>95.0</td>\n",
       "      <td>1</td>\n",
       "      <td>62.0</td>\n",
       "      <td>1</td>\n",
       "    </tr>\n",
       "    <tr>\n",
       "      <td>William Hart</td>\n",
       "      <td>William</td>\n",
       "      <td>Hart</td>\n",
       "      <td>CT</td>\n",
       "      <td>yes</td>\n",
       "      <td>45.0</td>\n",
       "      <td>1</td>\n",
       "      <td>65.0</td>\n",
       "      <td>1</td>\n",
       "    </tr>\n",
       "    <tr>\n",
       "      <td>William Jones</td>\n",
       "      <td>William</td>\n",
       "      <td>Jones</td>\n",
       "      <td>MA</td>\n",
       "      <td>no</td>\n",
       "      <td>1871.0</td>\n",
       "      <td>5</td>\n",
       "      <td>132.0</td>\n",
       "      <td>2</td>\n",
       "    </tr>\n",
       "    <tr>\n",
       "      <td>William Morris</td>\n",
       "      <td>William</td>\n",
       "      <td>Morris</td>\n",
       "      <td>MD</td>\n",
       "      <td>yes</td>\n",
       "      <td>471.0</td>\n",
       "      <td>3</td>\n",
       "      <td>4.0</td>\n",
       "      <td>1</td>\n",
       "    </tr>\n",
       "    <tr>\n",
       "      <td>William Samuel Johnson</td>\n",
       "      <td>William Samuel</td>\n",
       "      <td>Johnson</td>\n",
       "      <td>Constitution</td>\n",
       "      <td>yes</td>\n",
       "      <td>52.0</td>\n",
       "      <td>1</td>\n",
       "      <td>45.0</td>\n",
       "      <td>1</td>\n",
       "    </tr>\n",
       "    <tr>\n",
       "      <td>William Scott</td>\n",
       "      <td>William</td>\n",
       "      <td>Scott</td>\n",
       "      <td>SC</td>\n",
       "      <td>yes</td>\n",
       "      <td>84.0</td>\n",
       "      <td>1</td>\n",
       "      <td>10.0</td>\n",
       "      <td>1</td>\n",
       "    </tr>\n",
       "    <tr>\n",
       "      <td>William Smith</td>\n",
       "      <td>William</td>\n",
       "      <td>Smith</td>\n",
       "      <td>SC</td>\n",
       "      <td>yes</td>\n",
       "      <td>636.0</td>\n",
       "      <td>1</td>\n",
       "      <td>72.0</td>\n",
       "      <td>1</td>\n",
       "    </tr>\n",
       "    <tr>\n",
       "      <td>Williams John</td>\n",
       "      <td>Williams</td>\n",
       "      <td>John</td>\n",
       "      <td>RI</td>\n",
       "      <td>no</td>\n",
       "      <td>28.0</td>\n",
       "      <td>2</td>\n",
       "      <td>111.0</td>\n",
       "      <td>2</td>\n",
       "    </tr>\n",
       "  </tbody>\n",
       "</table>\n",
       "</div>"
      ],
      "text/plain": [
       "                                                                    Marine Certificates Dollars  \\\n",
       "                                                                                            sum   \n",
       "delegate name          First Name     Last Name delegate_state sign                               \n",
       "Benjamin Browne        Benjamin       Browne    MA             yes                        141.0   \n",
       "Brown John             Brown          John      RI             yes                        262.0   \n",
       "Clark John I           Clark          John I    RI             yes                         71.0   \n",
       "David Bell             David          Bell      VA             no                         108.0   \n",
       "David Rice             David          Rice      NC             yes                         76.0   \n",
       "Davis John             Davis          John      RI             yes                         35.0   \n",
       "George Houser          George         Houser    NC             yes                       1047.0   \n",
       "James Neal             James          Neal      MA             no                          42.0   \n",
       "John Brown             John           Brown     NC             no                         262.0   \n",
       "John Davis             John           Davis     MA             yes                         35.0   \n",
       "John Dunlap            John           Dunlap    MA             yes                          1.0   \n",
       "John Elliot            John           Elliot    GA             yes                        194.0   \n",
       "John Hunter            John           Hunter    SC             yes                        310.0   \n",
       "John Jones             John           Jones     DE             yes                         77.0   \n",
       "John K. Smith          John K.        Smith     MA             yes                         23.0   \n",
       "John Rhea              John           Rhea      NC             yes                         43.0   \n",
       "John Smith             John           Smith     NY             yes                         23.0   \n",
       "John Taylor            John           Taylor    MA             no                          72.0   \n",
       "John Taylor Gilman     John Taylor    Gilman    NH             yes                         72.0   \n",
       "John Williams          John           Williams  VA             yes                         28.0   \n",
       "Jonathan Smith         Jonathan       Smith     MA             no                         106.0   \n",
       "Nathaniel Rogers       Nathaniel      Rogers    NH             yes                         69.0   \n",
       "Samuel Johnston        Samuel         Johnston  NC             yes                         52.0   \n",
       "Thomas Jones           Thomas         Jones     MA             yes                         95.0   \n",
       "William Hart           William        Hart      CT             yes                         45.0   \n",
       "William Jones          William        Jones     MA             no                        1871.0   \n",
       "William Morris         William        Morris    MD             yes                        471.0   \n",
       "William Samuel Johnson William Samuel Johnson   Constitution   yes                         52.0   \n",
       "William Scott          William        Scott     SC             yes                         84.0   \n",
       "William Smith          William        Smith     SC             yes                        636.0   \n",
       "Williams John          Williams       John      RI             no                          28.0   \n",
       "\n",
       "                                                                           \\\n",
       "                                                                    count   \n",
       "delegate name          First Name     Last Name delegate_state sign         \n",
       "Benjamin Browne        Benjamin       Browne    MA             yes      1   \n",
       "Brown John             Brown          John      RI             yes      1   \n",
       "Clark John I           Clark          John I    RI             yes      1   \n",
       "David Bell             David          Bell      VA             no       1   \n",
       "David Rice             David          Rice      NC             yes      1   \n",
       "Davis John             Davis          John      RI             yes      1   \n",
       "George Houser          George         Houser    NC             yes      1   \n",
       "James Neal             James          Neal      MA             no       1   \n",
       "John Brown             John           Brown     NC             no       1   \n",
       "John Davis             John           Davis     MA             yes      1   \n",
       "John Dunlap            John           Dunlap    MA             yes      1   \n",
       "John Elliot            John           Elliot    GA             yes      1   \n",
       "John Hunter            John           Hunter    SC             yes      1   \n",
       "John Jones             John           Jones     DE             yes      2   \n",
       "John K. Smith          John K.        Smith     MA             yes      1   \n",
       "John Rhea              John           Rhea      NC             yes      1   \n",
       "John Smith             John           Smith     NY             yes      1   \n",
       "John Taylor            John           Taylor    MA             no       1   \n",
       "John Taylor Gilman     John Taylor    Gilman    NH             yes      1   \n",
       "John Williams          John           Williams  VA             yes      2   \n",
       "Jonathan Smith         Jonathan       Smith     MA             no       2   \n",
       "Nathaniel Rogers       Nathaniel      Rogers    NH             yes      1   \n",
       "Samuel Johnston        Samuel         Johnston  NC             yes      1   \n",
       "Thomas Jones           Thomas         Jones     MA             yes      1   \n",
       "William Hart           William        Hart      CT             yes      1   \n",
       "William Jones          William        Jones     MA             no       5   \n",
       "William Morris         William        Morris    MD             yes      3   \n",
       "William Samuel Johnson William Samuel Johnson   Constitution   yes      1   \n",
       "William Scott          William        Scott     SC             yes      1   \n",
       "William Smith          William        Smith     SC             yes      1   \n",
       "Williams John          Williams       John      RI             no       2   \n",
       "\n",
       "                                                                    Marine Certificates 90th  \\\n",
       "                                                                                         sum   \n",
       "delegate name          First Name     Last Name delegate_state sign                            \n",
       "Benjamin Browne        Benjamin       Browne    MA             yes                      50.0   \n",
       "Brown John             Brown          John      RI             yes                       0.0   \n",
       "Clark John I           Clark          John I    RI             yes                      68.0   \n",
       "David Bell             David          Bell      VA             no                       14.0   \n",
       "David Rice             David          Rice      NC             yes                      10.0   \n",
       "Davis John             Davis          John      RI             yes                      25.0   \n",
       "George Houser          George         Houser    NC             yes                       2.0   \n",
       "James Neal             James          Neal      MA             no                       24.0   \n",
       "John Brown             John           Brown     NC             no                        0.0   \n",
       "John Davis             John           Davis     MA             yes                      25.0   \n",
       "John Dunlap            John           Dunlap    MA             yes                      85.0   \n",
       "John Elliot            John           Elliot    GA             yes                       0.0   \n",
       "John Hunter            John           Hunter    SC             yes                      51.0   \n",
       "John Jones             John           Jones     DE             yes                      85.0   \n",
       "John K. Smith          John K.        Smith     MA             yes                      85.0   \n",
       "John Rhea              John           Rhea      NC             yes                      57.0   \n",
       "John Smith             John           Smith     NY             yes                      85.0   \n",
       "John Taylor            John           Taylor    MA             no                       45.0   \n",
       "John Taylor Gilman     John Taylor    Gilman    NH             yes                      45.0   \n",
       "John Williams          John           Williams  VA             yes                     111.0   \n",
       "Jonathan Smith         Jonathan       Smith     MA             no                      147.0   \n",
       "Nathaniel Rogers       Nathaniel      Rogers    NH             yes                      68.0   \n",
       "Samuel Johnston        Samuel         Johnston  NC             yes                      45.0   \n",
       "Thomas Jones           Thomas         Jones     MA             yes                      62.0   \n",
       "William Hart           William        Hart      CT             yes                      65.0   \n",
       "William Jones          William        Jones     MA             no                      132.0   \n",
       "William Morris         William        Morris    MD             yes                       4.0   \n",
       "William Samuel Johnson William Samuel Johnson   Constitution   yes                      45.0   \n",
       "William Scott          William        Scott     SC             yes                      10.0   \n",
       "William Smith          William        Smith     SC             yes                      72.0   \n",
       "Williams John          Williams       John      RI             no                      111.0   \n",
       "\n",
       "                                                                           \n",
       "                                                                    count  \n",
       "delegate name          First Name     Last Name delegate_state sign        \n",
       "Benjamin Browne        Benjamin       Browne    MA             yes      1  \n",
       "Brown John             Brown          John      RI             yes      0  \n",
       "Clark John I           Clark          John I    RI             yes      1  \n",
       "David Bell             David          Bell      VA             no       1  \n",
       "David Rice             David          Rice      NC             yes      1  \n",
       "Davis John             Davis          John      RI             yes      1  \n",
       "George Houser          George         Houser    NC             yes      1  \n",
       "James Neal             James          Neal      MA             no       1  \n",
       "John Brown             John           Brown     NC             no       0  \n",
       "John Davis             John           Davis     MA             yes      1  \n",
       "John Dunlap            John           Dunlap    MA             yes      1  \n",
       "John Elliot            John           Elliot    GA             yes      0  \n",
       "John Hunter            John           Hunter    SC             yes      1  \n",
       "John Jones             John           Jones     DE             yes      2  \n",
       "John K. Smith          John K.        Smith     MA             yes      1  \n",
       "John Rhea              John           Rhea      NC             yes      1  \n",
       "John Smith             John           Smith     NY             yes      1  \n",
       "John Taylor            John           Taylor    MA             no       1  \n",
       "John Taylor Gilman     John Taylor    Gilman    NH             yes      1  \n",
       "John Williams          John           Williams  VA             yes      2  \n",
       "Jonathan Smith         Jonathan       Smith     MA             no       2  \n",
       "Nathaniel Rogers       Nathaniel      Rogers    NH             yes      1  \n",
       "Samuel Johnston        Samuel         Johnston  NC             yes      1  \n",
       "Thomas Jones           Thomas         Jones     MA             yes      1  \n",
       "William Hart           William        Hart      CT             yes      1  \n",
       "William Jones          William        Jones     MA             no       2  \n",
       "William Morris         William        Morris    MD             yes      1  \n",
       "William Samuel Johnson William Samuel Johnson   Constitution   yes      1  \n",
       "William Scott          William        Scott     SC             yes      1  \n",
       "William Smith          William        Smith     SC             yes      1  \n",
       "Williams John          Williams       John      RI             no       2  "
      ]
     },
     "execution_count": 24,
     "metadata": {},
     "output_type": "execute_result"
    }
   ],
   "source": [
    "marine_cert_assets = pd.merge(cum_firstlast, marine_cert_assets, left_on = 'Full Name', right_on = 'delegate name').drop('Full Name', axis = 1).drop_duplicates()\n",
    "marine_cert_assets_agg = marine_cert_assets.groupby(['delegate name', 'First Name', 'Last Name', 'delegate_state', 'sign'])[['Marine Certificates Dollars', 'Marine Certificates 90th']].agg(['sum','count'])\n",
    "marine_cert_assets_agg"
   ]
  },
  {
   "cell_type": "markdown",
   "metadata": {
    "pycharm": {
     "name": "#%% md\n"
    }
   },
   "source": [
    "# Connecticut"
   ]
  },
  {
   "cell_type": "code",
   "execution_count": 25,
   "metadata": {
    "pycharm": {
     "name": "#%%\n"
    }
   },
   "outputs": [],
   "source": [
    "#Read in file\n",
    "CT = pd.read_excel(\"Data/Pre1790/liquidated_debt_certificates_CT.xlsx\", header = 11)\n",
    "cols = CT.columns = [\"Register Page\",\"JPEG number\",\"Number\",\"Letter\",\"Date of the Certificate: Month\",\n",
    "                     \"Date of the Certificate: Day\",\"Date of the Certificate: Year\",\"First name\",\"Last name\",\n",
    "                     \"Title\",\"First name 2\",\"Last name 2\",\"Title 2\",\"Time when the debt became due: Month\",\n",
    "                     \"Time when the debt became due: Day\", \"Time when the debt became due: Year\",\"Dollars\",\"90th\",\n",
    "                     \"Line Strike Thorugh: Yes?\",\"Line Strike Thorugh: Note\",\"Notes\"]\n",
    "CT.columns = cols\n",
    "CT = CT[CT['First name'].apply(lambda x: not pd.isnull(x))]\n",
    "\n",
    "#create full name\n",
    "CT['full name 1'] = CT['First name'] + \" \" + CT['Last name']\n",
    "CT['full name 2'] = CT['First name 2'] + \" \" + CT['Last name 2']"
   ]
  },
  {
   "cell_type": "code",
   "execution_count": 26,
   "metadata": {
    "pycharm": {
     "name": "#%%\n"
    }
   },
   "outputs": [
    {
     "name": "stderr",
     "output_type": "stream",
     "text": [
      "/opt/anaconda3/lib/python3.7/site-packages/ipykernel_launcher.py:2: SettingWithCopyWarning: \n",
      "A value is trying to be set on a copy of a slice from a DataFrame.\n",
      "Try using .loc[row_indexer,col_indexer] = value instead\n",
      "\n",
      "See the caveats in the documentation: http://pandas.pydata.org/pandas-docs/stable/user_guide/indexing.html#returning-a-view-versus-a-copy\n",
      "  \n"
     ]
    }
   ],
   "source": [
    "CT_short = CT[['full name 1', 'full name 2', 'Number', 'Dollars', '90th']]\n",
    "CT_short['Number'] = CT_short['Number'].apply(lambda x: 'CT_' + str(int(x)))"
   ]
  },
  {
   "cell_type": "markdown",
   "metadata": {
    "pycharm": {
     "name": "#%% md\n"
    }
   },
   "source": [
    "# Delaware"
   ]
  },
  {
   "cell_type": "code",
   "execution_count": 27,
   "metadata": {
    "pycharm": {
     "name": "#%%\n"
    }
   },
   "outputs": [],
   "source": [
    "#Read in file\n",
    "DE = pd.read_excel(\"Data/Pre1790/liquidated_debt_certificates_DE.xlsx\", header = 11)\n",
    "cols = DE.columns = [\"JPEG number\",\"Number\",\"Letter\",\"Date of the Certificate: Month\",\n",
    "                     \"Date of the Certificate: Day\",\"Date of the Certificate: Year\",\"Title\",\"First name\",\"Last name\",\n",
    "                     \"Time when the debt became due: Month\",\n",
    "                     \"Time when the debt became due: Day\", \"Time when the debt became due: Year\",\"Dollars\",\"90th\",\n",
    "                     \"Line Strike Through\",\"Note\"]\n",
    "DE.columns = cols\n",
    "\n",
    "DE = DE[DE['First name'].apply(lambda x: not pd.isnull(x))]\n",
    "\n",
    "#create full name\n",
    "DE['full name 1'] = DE['First name'] + \" \" + DE['Last name']"
   ]
  },
  {
   "cell_type": "code",
   "execution_count": 28,
   "metadata": {
    "pycharm": {
     "name": "#%%\n"
    }
   },
   "outputs": [
    {
     "name": "stderr",
     "output_type": "stream",
     "text": [
      "/opt/anaconda3/lib/python3.7/site-packages/ipykernel_launcher.py:2: SettingWithCopyWarning: \n",
      "A value is trying to be set on a copy of a slice from a DataFrame.\n",
      "Try using .loc[row_indexer,col_indexer] = value instead\n",
      "\n",
      "See the caveats in the documentation: http://pandas.pydata.org/pandas-docs/stable/user_guide/indexing.html#returning-a-view-versus-a-copy\n",
      "  \n",
      "/opt/anaconda3/lib/python3.7/site-packages/ipykernel_launcher.py:3: FutureWarning: Sorting because non-concatenation axis is not aligned. A future version\n",
      "of pandas will change to not sort by default.\n",
      "\n",
      "To accept the future behavior, pass 'sort=False'.\n",
      "\n",
      "To retain the current behavior and silence the warning, pass 'sort=True'.\n",
      "\n",
      "  This is separate from the ipykernel package so we can avoid doing imports until\n"
     ]
    }
   ],
   "source": [
    "DE_short = DE[['full name 1', 'Number', 'Dollars', '90th']]\n",
    "DE_short['Number'] = DE_short['Number'].apply(lambda x: 'DE_' + str(int(x)))\n",
    "states_short = pd.concat([DE_short, CT_short])"
   ]
  },
  {
   "cell_type": "markdown",
   "metadata": {
    "pycharm": {
     "name": "#%% md\n"
    }
   },
   "source": [
    "# Massachusetts"
   ]
  },
  {
   "cell_type": "code",
   "execution_count": 29,
   "metadata": {
    "pycharm": {
     "name": "#%%\n"
    }
   },
   "outputs": [],
   "source": [
    "#Read in file\n",
    "MA = pd.read_excel(\"Data/Pre1790/liquidated_debt_certificates_MA.xlsx\", header = 11)\n",
    "cols = [\"JPEG number\",\"Page\", \"Number\",\"Letter\",\"Date of the Certificate: Month\",\n",
    "                     \"Date of the Certificate: Day\",\"Date of the Certificate: Year\",\"First name\",\"Last name\",\"Title\",\n",
    "                     \"First name 2\",\"Last name 2\", \"Title 2\",\"Time when the debt became due: Month\",\n",
    "                     \"Time when the debt became due: Day\", \"Time when the debt became due: Year\",\"Dollars\",\"90th\",\n",
    "                     \"Line Strike Through\",\"Note\"]\n",
    "MA = MA[MA.columns[0:20]]\n",
    "MA.columns = cols\n",
    "\n",
    "MA = MA[MA['First name'].apply(lambda x: not pd.isnull(x))]\n",
    "\n",
    "#create full name\n",
    "MA['full name 1'] = MA['First name'] + \" \" + MA['Last name']\n",
    "MA['full name 2'] = MA['First name 2'] + \" \" + MA['Last name 2']"
   ]
  },
  {
   "cell_type": "code",
   "execution_count": 30,
   "metadata": {
    "pycharm": {
     "name": "#%%\n"
    }
   },
   "outputs": [
    {
     "name": "stderr",
     "output_type": "stream",
     "text": [
      "/opt/anaconda3/lib/python3.7/site-packages/ipykernel_launcher.py:2: SettingWithCopyWarning: \n",
      "A value is trying to be set on a copy of a slice from a DataFrame.\n",
      "Try using .loc[row_indexer,col_indexer] = value instead\n",
      "\n",
      "See the caveats in the documentation: http://pandas.pydata.org/pandas-docs/stable/user_guide/indexing.html#returning-a-view-versus-a-copy\n",
      "  \n",
      "/opt/anaconda3/lib/python3.7/site-packages/ipykernel_launcher.py:3: FutureWarning: Sorting because non-concatenation axis is not aligned. A future version\n",
      "of pandas will change to not sort by default.\n",
      "\n",
      "To accept the future behavior, pass 'sort=False'.\n",
      "\n",
      "To retain the current behavior and silence the warning, pass 'sort=True'.\n",
      "\n",
      "  This is separate from the ipykernel package so we can avoid doing imports until\n"
     ]
    }
   ],
   "source": [
    "MA_short = MA[['full name 1', 'full name 2', 'Number', 'Dollars', '90th']]\n",
    "MA_short['Number'] = MA_short['Number'].apply(lambda x: 'MA_' + str(int(x)))\n",
    "states_short = pd.concat([states_short, MA_short])"
   ]
  },
  {
   "cell_type": "markdown",
   "metadata": {
    "pycharm": {
     "name": "#%% md\n"
    }
   },
   "source": [
    "# New Hampshire"
   ]
  },
  {
   "cell_type": "code",
   "execution_count": 31,
   "metadata": {
    "pycharm": {
     "name": "#%%\n"
    }
   },
   "outputs": [],
   "source": [
    "#Read in file\n",
    "NH = pd.read_excel(\"Data/Pre1790/liquidated_debt_certificates_NH.xlsx\", header = 11)\n",
    "cols = [\"Page\",\"JPEG number\",\"Number\",\"Letter\",\"Date of the Certificate: Month\",\n",
    "                         \"Date of the Certificate: Day\",\"Date of the Certificate: Year\",\"First name\",\"Last name\",\n",
    "                         \"Title\",\"Time when the debt became due: Month\",\"Time when the debt became due: Day\",\n",
    "                         \"Time when the debt became due: Year\",\"Dollars\",\"90th\",\n",
    "                         \"Line Strike Thorugh: Yes?\",\"Line Strike Thorugh: Note\",\"Notes\"]\n",
    "NH.columns = cols\n",
    "\n",
    "NH = NH[NH['First name'].apply(lambda x: not pd.isnull(x))]\n",
    "\n",
    "#create full name\n",
    "NH['full name 1'] = NH['First name'] + \" \" + NH['Last name']"
   ]
  },
  {
   "cell_type": "code",
   "execution_count": 32,
   "metadata": {
    "pycharm": {
     "name": "#%%\n"
    }
   },
   "outputs": [
    {
     "name": "stderr",
     "output_type": "stream",
     "text": [
      "/opt/anaconda3/lib/python3.7/site-packages/ipykernel_launcher.py:2: SettingWithCopyWarning: \n",
      "A value is trying to be set on a copy of a slice from a DataFrame.\n",
      "Try using .loc[row_indexer,col_indexer] = value instead\n",
      "\n",
      "See the caveats in the documentation: http://pandas.pydata.org/pandas-docs/stable/user_guide/indexing.html#returning-a-view-versus-a-copy\n",
      "  \n",
      "/opt/anaconda3/lib/python3.7/site-packages/ipykernel_launcher.py:3: FutureWarning: Sorting because non-concatenation axis is not aligned. A future version\n",
      "of pandas will change to not sort by default.\n",
      "\n",
      "To accept the future behavior, pass 'sort=False'.\n",
      "\n",
      "To retain the current behavior and silence the warning, pass 'sort=True'.\n",
      "\n",
      "  This is separate from the ipykernel package so we can avoid doing imports until\n"
     ]
    }
   ],
   "source": [
    "NH_short = NH[['full name 1', 'Number', 'Dollars', '90th']]\n",
    "NH_short['Number'] = NH_short['Number'].apply(lambda x: 'NH_' + str(int(x)))\n",
    "states_short = pd.concat([states_short, NH_short])"
   ]
  },
  {
   "cell_type": "markdown",
   "metadata": {
    "pycharm": {
     "name": "#%% md\n"
    }
   },
   "source": [
    "# New Jersey"
   ]
  },
  {
   "cell_type": "code",
   "execution_count": 33,
   "metadata": {
    "pycharm": {
     "name": "#%%\n"
    }
   },
   "outputs": [],
   "source": [
    "#Read in file\n",
    "NJ = pd.read_excel(\"Data/Pre1790/liquidated_debt_certificates_NJ.xlsx\", header = 10)\n",
    "cols = [\"JPEG number\",\"Number\",\"Letter\",\"Date of the Certificate: Month\",\n",
    "        \"Date of the Certificate: Day\",\"Date of the Certificate: Year\",\"Title\",\"First name\",\"Last name\",\n",
    "        \"Title 2\",\"First name 2\",\"Last name 2\",\"Time when the debt became due: Month\",\n",
    "        \"Time when the debt became due: Day\", \"Time when the debt became due: Year\",\"Dollars\",\"90th\",\n",
    "        \"Strike Through Number\",\"Note\"]\n",
    "NJ = NJ[NJ.columns[0:19]]\n",
    "NJ.columns = cols\n",
    "\n",
    "NJ = NJ[NJ['First name'].apply(lambda x: not pd.isnull(x))]\n",
    "\n",
    "#create full name\n",
    "NJ['full name 1'] = NJ['First name'] + \" \" + NJ['Last name']\n",
    "NJ['full name 2'] = NJ['First name 2'] + \" \" + NJ['Last name 2']"
   ]
  },
  {
   "cell_type": "code",
   "execution_count": 34,
   "metadata": {
    "pycharm": {
     "name": "#%%\n"
    }
   },
   "outputs": [
    {
     "name": "stderr",
     "output_type": "stream",
     "text": [
      "/opt/anaconda3/lib/python3.7/site-packages/ipykernel_launcher.py:4: FutureWarning: Sorting because non-concatenation axis is not aligned. A future version\n",
      "of pandas will change to not sort by default.\n",
      "\n",
      "To accept the future behavior, pass 'sort=False'.\n",
      "\n",
      "To retain the current behavior and silence the warning, pass 'sort=True'.\n",
      "\n",
      "  after removing the cwd from sys.path.\n"
     ]
    }
   ],
   "source": [
    "NJ_short = NJ[['full name 1', 'full name 2', 'Number', 'Dollars', '90th']]\n",
    "NJ_short = NJ_short[NJ_short['Number'].apply(lambda x: not pd.isnull(x))]\n",
    "NJ_short['Number'] = NJ_short['Number'].apply(lambda x: 'NJ_' + str(int(x)))\n",
    "states_short = pd.concat([states_short, NJ_short])"
   ]
  },
  {
   "cell_type": "markdown",
   "metadata": {
    "pycharm": {
     "name": "#%% md\n"
    }
   },
   "source": [
    "# New York"
   ]
  },
  {
   "cell_type": "code",
   "execution_count": 35,
   "metadata": {
    "pycharm": {
     "name": "#%%\n"
    }
   },
   "outputs": [],
   "source": [
    "#Read in file\n",
    "NY = pd.read_excel(\"Data/Pre1790/liquidated_debt_certificates_NY.xlsx\", header = 10)\n",
    "cols = [\"Page\", \"JPEG number\",\"Number\",\"Letter\",\"Date of the Certificate: Month\",\n",
    "        \"Date of the Certificate: Day\",\"Date of the Certificate: Year\",\"First name\",\"Last name\",\n",
    "        \"Title\",\"First name 2\",\"Last name 2\",\"Title 2\",\"Time when the debt became due: Month\",\n",
    "        \"Time when the debt became due: Day\", \"Time when the debt became due: Year\",\"Dollars\",\"90th\",\n",
    "        \"Strike Through Yes?\",\"Note\", \"Notes\"]\n",
    "NY = NY[NY.columns[0:21]]\n",
    "NY.columns = cols\n",
    "\n",
    "NY = NY[NY['First name'].apply(lambda x: not pd.isnull(x))]\n",
    "\n",
    "#create full name\n",
    "NY['full name 1'] = NY['First name'] + \" \" + NY['Last name']\n",
    "NY['full name 2'] = NY['First name 2'] + \" \" + NY['Last name 2']"
   ]
  },
  {
   "cell_type": "code",
   "execution_count": 36,
   "metadata": {
    "pycharm": {
     "name": "#%%\n"
    }
   },
   "outputs": [
    {
     "name": "stderr",
     "output_type": "stream",
     "text": [
      "/opt/anaconda3/lib/python3.7/site-packages/ipykernel_launcher.py:4: FutureWarning: Sorting because non-concatenation axis is not aligned. A future version\n",
      "of pandas will change to not sort by default.\n",
      "\n",
      "To accept the future behavior, pass 'sort=False'.\n",
      "\n",
      "To retain the current behavior and silence the warning, pass 'sort=True'.\n",
      "\n",
      "  after removing the cwd from sys.path.\n"
     ]
    }
   ],
   "source": [
    "NY_short = NY[['full name 1', 'full name 2', 'Number', 'Dollars', '90th']]\n",
    "NY_short = NY_short[NY_short['Number'].apply(lambda x: not pd.isnull(x))]\n",
    "NY_short['Number'] = NY_short['Number'].apply(lambda x: 'NY_' + str(int(x)))\n",
    "states_short = pd.concat([states_short, NY_short])"
   ]
  },
  {
   "cell_type": "markdown",
   "metadata": {
    "pycharm": {
     "name": "#%% md\n"
    }
   },
   "source": [
    "# Pennsylvania P1"
   ]
  },
  {
   "cell_type": "code",
   "execution_count": 37,
   "metadata": {
    "pycharm": {
     "name": "#%%\n"
    }
   },
   "outputs": [],
   "source": [
    "#Read in file\n",
    "PA = pd.read_excel(\"Data/Pre1790/liquidated_debt_certificates_PA_story.xlsx\", header = 11)\n",
    "cols = [\"JPEG number\",\"Number\",\"Letter\",\"Date of the Certificate: Year\",\n",
    "        \"Date of the Certificate: Month\",\"Date of the Certificate: Date\",\"Title\",\"First name\",\"Last name\",\"Time when the debt became due: Year\",\n",
    "        \"Time when the debt became due: Month\",\"Time when the debt became due: Day\",\n",
    "        \"Dollars\",\"90th\",\"10th\", \"Exchange\",\"Amount in Specie_1\", \"Amount in Specie_2\",\"Line Strike Thorugh?\",\"Notes\"]\n",
    "PA = PA[PA.columns[1:21]]\n",
    "PA.columns = cols\n",
    "\n",
    "PA = PA[PA['First name'].apply(lambda x: not pd.isnull(x))]\n",
    "\n",
    "#create full name\n",
    "PA['full name 1'] = PA['First name'] + \" \" + PA['Last name']"
   ]
  },
  {
   "cell_type": "code",
   "execution_count": 38,
   "metadata": {
    "pycharm": {
     "name": "#%%\n"
    }
   },
   "outputs": [
    {
     "name": "stderr",
     "output_type": "stream",
     "text": [
      "/opt/anaconda3/lib/python3.7/site-packages/ipykernel_launcher.py:4: FutureWarning: Sorting because non-concatenation axis is not aligned. A future version\n",
      "of pandas will change to not sort by default.\n",
      "\n",
      "To accept the future behavior, pass 'sort=False'.\n",
      "\n",
      "To retain the current behavior and silence the warning, pass 'sort=True'.\n",
      "\n",
      "  after removing the cwd from sys.path.\n"
     ]
    }
   ],
   "source": [
    "PA_short_1 = PA[['full name 1', 'Number', 'Dollars', '90th']]\n",
    "PA_short_1 = PA_short_1[PA_short_1['Number'].apply(lambda x: not pd.isnull(x))]\n",
    "PA_short_1['Number'] = PA_short_1['Number'].apply(lambda x: 'PA_1_' + str(int(x)))\n",
    "states_short = pd.concat([states_short, PA_short_1])"
   ]
  },
  {
   "cell_type": "markdown",
   "metadata": {
    "pycharm": {
     "name": "#%% md\n"
    }
   },
   "source": [
    "# Pennsylvania P2"
   ]
  },
  {
   "cell_type": "code",
   "execution_count": 39,
   "metadata": {
    "pycharm": {
     "name": "#%%\n"
    }
   },
   "outputs": [],
   "source": [
    "#Read in file\n",
    "PA2 = pd.read_excel(\"Data/Pre1790/liquidated_debt_certificates_PA_stelle.xlsx\", header = 11)\n",
    "cols = [\"JPEG number\",\"Number\",\"Letter\",\"Date of the Certificate: Year\",\n",
    "        \"Date of the Certificate: Month\",\"Date of the Certificate: Date\",\"Title\",\"First name\",\"Last name\",\"Title 2\",\"First name 2\",\"Last name 2\",\n",
    "        \"Time when the debt became due: Year\", \"Time when the debt became due: Month\",\"Time when the debt became due: Day\",\n",
    "        \"Dollars\",\"90th\",\"Line Strike Thorugh?\",\"Notes\"]\n",
    "PA2 = PA2[PA2.columns[1:21]]\n",
    "PA2.columns = cols\n",
    "\n",
    "PA2 = PA2[PA2['First name'].apply(lambda x: not pd.isnull(x))]\n",
    "\n",
    "#create full name\n",
    "PA2['full name 1'] = PA2['First name'] + \" \" + PA2['Last name']\n",
    "PA2['full name 2'] = PA2['First name 2'] + \" \" + PA2['Last name 2']"
   ]
  },
  {
   "cell_type": "code",
   "execution_count": 40,
   "metadata": {
    "pycharm": {
     "name": "#%%\n"
    }
   },
   "outputs": [
    {
     "name": "stderr",
     "output_type": "stream",
     "text": [
      "/opt/anaconda3/lib/python3.7/site-packages/ipykernel_launcher.py:4: FutureWarning: Sorting because non-concatenation axis is not aligned. A future version\n",
      "of pandas will change to not sort by default.\n",
      "\n",
      "To accept the future behavior, pass 'sort=False'.\n",
      "\n",
      "To retain the current behavior and silence the warning, pass 'sort=True'.\n",
      "\n",
      "  after removing the cwd from sys.path.\n"
     ]
    }
   ],
   "source": [
    "PA_short_2 = PA2[['full name 1', 'full name 2', 'Number', 'Dollars', '90th']]\n",
    "PA_short_2 = PA_short_2[PA_short_2['Number'].apply(lambda x: not pd.isnull(x))]\n",
    "PA_short_2['Number'] = PA_short_2['Number'].apply(lambda x: 'PA_2_' + str(int(x)))\n",
    "states_short = pd.concat([states_short, PA_short_2])"
   ]
  },
  {
   "cell_type": "markdown",
   "metadata": {
    "pycharm": {
     "name": "#%% md\n"
    }
   },
   "source": [
    "# Rhode Island"
   ]
  },
  {
   "cell_type": "code",
   "execution_count": 41,
   "metadata": {
    "pycharm": {
     "name": "#%%\n"
    }
   },
   "outputs": [],
   "source": [
    "#Read in file\n",
    "RI = pd.read_excel(\"Data/Pre1790/liquidated_debt_certificates_RI.xlsx\", header = 12)\n",
    "cols =  [\"Page\", \"JPEG number\",\"Number\",\"Letter\",\"Date of the Certificate: Month\",\n",
    "        \"Date of the Certificate: Day\",\"Date of the Certificate: Year\",\"First name\",\"Last name\",\n",
    "        \"Title\",\"First name 2\",\"Last name 2\",\"Title 2\",\"Time when the debt became due: Month\",\n",
    "        \"Time when the debt became due: Day\", \"Time when the debt became due: Year\",\"Dollars\",\"90th\",\n",
    "        \"8th\"]\n",
    "RI = RI[RI.columns[0:19]]\n",
    "RI.columns = cols\n",
    "\n",
    "RI = RI[RI['First name'].apply(lambda x: not pd.isnull(x))]\n",
    "\n",
    "#create full name\n",
    "RI['full name 1'] = RI['First name'] + \" \" + RI['Last name']\n",
    "RI['full name 2'] = RI['First name 2'] + \" \" + RI['Last name 2']"
   ]
  },
  {
   "cell_type": "code",
   "execution_count": 42,
   "metadata": {
    "pycharm": {
     "name": "#%%\n"
    }
   },
   "outputs": [
    {
     "name": "stderr",
     "output_type": "stream",
     "text": [
      "/opt/anaconda3/lib/python3.7/site-packages/ipykernel_launcher.py:4: FutureWarning: Sorting because non-concatenation axis is not aligned. A future version\n",
      "of pandas will change to not sort by default.\n",
      "\n",
      "To accept the future behavior, pass 'sort=False'.\n",
      "\n",
      "To retain the current behavior and silence the warning, pass 'sort=True'.\n",
      "\n",
      "  after removing the cwd from sys.path.\n"
     ]
    }
   ],
   "source": [
    "RI_short = RI[['full name 1', 'full name 2', 'Number', 'Dollars', '90th']]\n",
    "RI_short = RI_short[RI_short['Number'].apply(lambda x: not pd.isnull(x))]\n",
    "RI_short['Number'] = RI_short['Number'].apply(lambda x: 'RI_' + str(int(x)))\n",
    "states_short = pd.concat([states_short, RI_short])"
   ]
  },
  {
   "cell_type": "markdown",
   "metadata": {
    "pycharm": {
     "name": "#%% md\n"
    }
   },
   "source": [
    "# Final Steps"
   ]
  },
  {
   "cell_type": "code",
   "execution_count": 43,
   "metadata": {
    "pycharm": {
     "name": "#%%\n"
    }
   },
   "outputs": [
    {
     "name": "stderr",
     "output_type": "stream",
     "text": [
      "/opt/anaconda3/lib/python3.7/site-packages/ipykernel_launcher.py:7: FutureWarning: Sorting because non-concatenation axis is not aligned. A future version\n",
      "of pandas will change to not sort by default.\n",
      "\n",
      "To accept the future behavior, pass 'sort=False'.\n",
      "\n",
      "To retain the current behavior and silence the warning, pass 'sort=True'.\n",
      "\n",
      "  import sys\n"
     ]
    }
   ],
   "source": [
    "state_cert_assets = pd.merge(total_assets_final,\n",
    "                                   states_short[states_short['full name 1'].apply(lambda x: not pd.isnull(x))],\n",
    "                                   left_on = 'match name', right_on = 'full name 1').drop('full name 1', axis = 1)\n",
    "add_to_assets = pd.merge(total_assets_final,\n",
    "                         states_short[states_short['full name 2'].apply(lambda x: not pd.isnull(x))],\n",
    "                         left_on = 'match name', right_on = 'full name 2').drop('full name 2', axis = 1)\n",
    "state_cert_assets = pd.concat([state_cert_assets, add_to_assets])\n",
    "state_cert_assets = state_cert_assets.drop_duplicates(['delegate name', 'Number'])\n",
    "state_cert_assets['delegate_state'] = state_cert_assets['delegate_state'].apply(lambda x: 'Constitution' if pd.isnull(x) else x)"
   ]
  },
  {
   "cell_type": "code",
   "execution_count": 44,
   "metadata": {
    "pycharm": {
     "name": "#%%\n"
    }
   },
   "outputs": [],
   "source": [
    "state_cert_assets.rename(columns={'Dollars':'State Certificates Dollars','90th':'State Certificates 90th'}, inplace = True)"
   ]
  },
  {
   "cell_type": "code",
   "execution_count": 45,
   "metadata": {
    "pycharm": {
     "name": "#%%\n"
    }
   },
   "outputs": [
    {
     "data": {
      "text/html": [
       "<div>\n",
       "<style scoped>\n",
       "    .dataframe tbody tr th:only-of-type {\n",
       "        vertical-align: middle;\n",
       "    }\n",
       "\n",
       "    .dataframe tbody tr th {\n",
       "        vertical-align: top;\n",
       "    }\n",
       "\n",
       "    .dataframe thead tr th {\n",
       "        text-align: left;\n",
       "    }\n",
       "\n",
       "    .dataframe thead tr:last-of-type th {\n",
       "        text-align: right;\n",
       "    }\n",
       "</style>\n",
       "<table border=\"1\" class=\"dataframe\">\n",
       "  <thead>\n",
       "    <tr>\n",
       "      <th></th>\n",
       "      <th></th>\n",
       "      <th></th>\n",
       "      <th></th>\n",
       "      <th></th>\n",
       "      <th colspan=\"2\" halign=\"left\">State Certificates Dollars</th>\n",
       "      <th colspan=\"2\" halign=\"left\">State Certificates 90th</th>\n",
       "    </tr>\n",
       "    <tr>\n",
       "      <th></th>\n",
       "      <th></th>\n",
       "      <th></th>\n",
       "      <th></th>\n",
       "      <th></th>\n",
       "      <th>sum</th>\n",
       "      <th>count</th>\n",
       "      <th>sum</th>\n",
       "      <th>count</th>\n",
       "    </tr>\n",
       "    <tr>\n",
       "      <th>delegate name</th>\n",
       "      <th>First Name</th>\n",
       "      <th>Last Name</th>\n",
       "      <th>delegate_state</th>\n",
       "      <th>sign</th>\n",
       "      <th></th>\n",
       "      <th></th>\n",
       "      <th></th>\n",
       "      <th></th>\n",
       "    </tr>\n",
       "  </thead>\n",
       "  <tbody>\n",
       "    <tr>\n",
       "      <td>Abraham Smith</td>\n",
       "      <td>Abraham</td>\n",
       "      <td>Smith</td>\n",
       "      <td>MA</td>\n",
       "      <td>no</td>\n",
       "      <td>4.0</td>\n",
       "      <td>1</td>\n",
       "      <td>0</td>\n",
       "      <td>0</td>\n",
       "    </tr>\n",
       "    <tr>\n",
       "      <td>Abraham Stout</td>\n",
       "      <td>Abraham</td>\n",
       "      <td>Stout</td>\n",
       "      <td>PA</td>\n",
       "      <td>yes</td>\n",
       "      <td>14.0</td>\n",
       "      <td>2</td>\n",
       "      <td>136</td>\n",
       "      <td>2</td>\n",
       "    </tr>\n",
       "    <tr>\n",
       "      <td>Albert Baker</td>\n",
       "      <td>Albert</td>\n",
       "      <td>Baker</td>\n",
       "      <td>NY</td>\n",
       "      <td>no</td>\n",
       "      <td>28.0</td>\n",
       "      <td>1</td>\n",
       "      <td>0</td>\n",
       "      <td>0</td>\n",
       "    </tr>\n",
       "    <tr>\n",
       "      <td>Alexander Hamilton</td>\n",
       "      <td>Alexander</td>\n",
       "      <td>Hamilton</td>\n",
       "      <td>Constitution</td>\n",
       "      <td>yes</td>\n",
       "      <td>160.0</td>\n",
       "      <td>1</td>\n",
       "      <td>0</td>\n",
       "      <td>0</td>\n",
       "    </tr>\n",
       "    <tr>\n",
       "      <td>Alexander Martin</td>\n",
       "      <td>Alexander</td>\n",
       "      <td>Martin</td>\n",
       "      <td>Constitution</td>\n",
       "      <td>no</td>\n",
       "      <td>124.0</td>\n",
       "      <td>2</td>\n",
       "      <td>110</td>\n",
       "      <td>2</td>\n",
       "    </tr>\n",
       "    <tr>\n",
       "      <td>...</td>\n",
       "      <td>...</td>\n",
       "      <td>...</td>\n",
       "      <td>...</td>\n",
       "      <td>...</td>\n",
       "      <td>...</td>\n",
       "      <td>...</td>\n",
       "      <td>...</td>\n",
       "      <td>...</td>\n",
       "    </tr>\n",
       "    <tr>\n",
       "      <td>William White</td>\n",
       "      <td>William</td>\n",
       "      <td>White</td>\n",
       "      <td>VA</td>\n",
       "      <td>no</td>\n",
       "      <td>721.0</td>\n",
       "      <td>12</td>\n",
       "      <td>383</td>\n",
       "      <td>10</td>\n",
       "    </tr>\n",
       "    <tr>\n",
       "      <td>William Williams</td>\n",
       "      <td>William</td>\n",
       "      <td>Williams</td>\n",
       "      <td>CT</td>\n",
       "      <td>yes</td>\n",
       "      <td>3532.0</td>\n",
       "      <td>13</td>\n",
       "      <td>486</td>\n",
       "      <td>9</td>\n",
       "    </tr>\n",
       "    <tr>\n",
       "      <td>William Wilson</td>\n",
       "      <td>William</td>\n",
       "      <td>Wilson</td>\n",
       "      <td>PA</td>\n",
       "      <td>yes</td>\n",
       "      <td>96.0</td>\n",
       "      <td>3</td>\n",
       "      <td>6</td>\n",
       "      <td>1</td>\n",
       "    </tr>\n",
       "    <tr>\n",
       "      <td>Williams John</td>\n",
       "      <td>Williams</td>\n",
       "      <td>John</td>\n",
       "      <td>RI</td>\n",
       "      <td>no</td>\n",
       "      <td>1766.0</td>\n",
       "      <td>19</td>\n",
       "      <td>579</td>\n",
       "      <td>16</td>\n",
       "    </tr>\n",
       "    <tr>\n",
       "      <td>Zephaniah Platt</td>\n",
       "      <td>Zephaniah</td>\n",
       "      <td>Platt</td>\n",
       "      <td>NY</td>\n",
       "      <td>yes</td>\n",
       "      <td>284.0</td>\n",
       "      <td>1</td>\n",
       "      <td>26</td>\n",
       "      <td>1</td>\n",
       "    </tr>\n",
       "  </tbody>\n",
       "</table>\n",
       "<p>459 rows × 4 columns</p>\n",
       "</div>"
      ],
      "text/plain": [
       "                                                            State Certificates Dollars  \\\n",
       "                                                                                   sum   \n",
       "delegate name      First Name Last Name delegate_state sign                              \n",
       "Abraham Smith      Abraham    Smith     MA             no                          4.0   \n",
       "Abraham Stout      Abraham    Stout     PA             yes                        14.0   \n",
       "Albert Baker       Albert     Baker     NY             no                         28.0   \n",
       "Alexander Hamilton Alexander  Hamilton  Constitution   yes                       160.0   \n",
       "Alexander Martin   Alexander  Martin    Constitution   no                        124.0   \n",
       "...                                                                                ...   \n",
       "William White      William    White     VA             no                        721.0   \n",
       "William Williams   William    Williams  CT             yes                      3532.0   \n",
       "William Wilson     William    Wilson    PA             yes                        96.0   \n",
       "Williams John      Williams   John      RI             no                       1766.0   \n",
       "Zephaniah Platt    Zephaniah  Platt     NY             yes                       284.0   \n",
       "\n",
       "                                                                   \\\n",
       "                                                            count   \n",
       "delegate name      First Name Last Name delegate_state sign         \n",
       "Abraham Smith      Abraham    Smith     MA             no       1   \n",
       "Abraham Stout      Abraham    Stout     PA             yes      2   \n",
       "Albert Baker       Albert     Baker     NY             no       1   \n",
       "Alexander Hamilton Alexander  Hamilton  Constitution   yes      1   \n",
       "Alexander Martin   Alexander  Martin    Constitution   no       2   \n",
       "...                                                           ...   \n",
       "William White      William    White     VA             no      12   \n",
       "William Williams   William    Williams  CT             yes     13   \n",
       "William Wilson     William    Wilson    PA             yes      3   \n",
       "Williams John      Williams   John      RI             no      19   \n",
       "Zephaniah Platt    Zephaniah  Platt     NY             yes      1   \n",
       "\n",
       "                                                            State Certificates 90th  \\\n",
       "                                                                                sum   \n",
       "delegate name      First Name Last Name delegate_state sign                           \n",
       "Abraham Smith      Abraham    Smith     MA             no                         0   \n",
       "Abraham Stout      Abraham    Stout     PA             yes                      136   \n",
       "Albert Baker       Albert     Baker     NY             no                         0   \n",
       "Alexander Hamilton Alexander  Hamilton  Constitution   yes                        0   \n",
       "Alexander Martin   Alexander  Martin    Constitution   no                       110   \n",
       "...                                                                             ...   \n",
       "William White      William    White     VA             no                       383   \n",
       "William Williams   William    Williams  CT             yes                      486   \n",
       "William Wilson     William    Wilson    PA             yes                        6   \n",
       "Williams John      Williams   John      RI             no                       579   \n",
       "Zephaniah Platt    Zephaniah  Platt     NY             yes                       26   \n",
       "\n",
       "                                                                   \n",
       "                                                            count  \n",
       "delegate name      First Name Last Name delegate_state sign        \n",
       "Abraham Smith      Abraham    Smith     MA             no       0  \n",
       "Abraham Stout      Abraham    Stout     PA             yes      2  \n",
       "Albert Baker       Albert     Baker     NY             no       0  \n",
       "Alexander Hamilton Alexander  Hamilton  Constitution   yes      0  \n",
       "Alexander Martin   Alexander  Martin    Constitution   no       2  \n",
       "...                                                           ...  \n",
       "William White      William    White     VA             no      10  \n",
       "William Williams   William    Williams  CT             yes      9  \n",
       "William Wilson     William    Wilson    PA             yes      1  \n",
       "Williams John      Williams   John      RI             no      16  \n",
       "Zephaniah Platt    Zephaniah  Platt     NY             yes      1  \n",
       "\n",
       "[459 rows x 4 columns]"
      ]
     },
     "execution_count": 45,
     "metadata": {},
     "output_type": "execute_result"
    }
   ],
   "source": [
    "state_cert_assets = pd.merge(cum_firstlast, state_cert_assets, left_on = 'Full Name', right_on = 'delegate name').drop('Full Name', axis = 1).drop_duplicates()\n",
    "state_cert_assets_agg = state_cert_assets.groupby(['delegate name', 'First Name', 'Last Name',  'delegate_state', 'sign'])[['State Certificates Dollars', 'State Certificates 90th']].agg(['sum','count'])\n",
    "state_cert_assets_agg"
   ]
  },
  {
   "cell_type": "code",
   "execution_count": 46,
   "metadata": {
    "pycharm": {
     "name": "#%%\n"
    }
   },
   "outputs": [],
   "source": [
    "loan_state_merge = pd.merge(loan_office_cert_assets_agg, state_cert_assets_agg, on = [\"delegate name\", \"First Name\", \"Last Name\", \"delegate_state\", \"sign\"],how = \"outer\")"
   ]
  },
  {
   "cell_type": "code",
   "execution_count": 47,
   "metadata": {
    "pycharm": {
     "name": "#%%\n"
    }
   },
   "outputs": [],
   "source": [
    "loan_state_marine_merge = pd.merge(loan_state_merge, marine_cert_assets_agg, on = [\"delegate name\", \"First Name\", \"Last Name\", \"delegate_state\", \"sign\"],how = \"outer\")"
   ]
  },
  {
   "cell_type": "code",
   "execution_count": 48,
   "metadata": {
    "pycharm": {
     "name": "#%%\n"
    }
   },
   "outputs": [],
   "source": [
    "loan_state_marine_pierce_merge = pd.merge(loan_state_marine_merge, pierce_cert_assets_agg, on = [\"delegate name\", \"First Name\", \"Last Name\", \"delegate_state\", \"sign\"],how = \"outer\")"
   ]
  },
  {
   "cell_type": "code",
   "execution_count": 49,
   "metadata": {
    "pycharm": {
     "name": "#%%\n"
    }
   },
   "outputs": [
    {
     "data": {
      "text/html": [
       "<div>\n",
       "<style scoped>\n",
       "    .dataframe tbody tr th:only-of-type {\n",
       "        vertical-align: middle;\n",
       "    }\n",
       "\n",
       "    .dataframe tbody tr th {\n",
       "        vertical-align: top;\n",
       "    }\n",
       "\n",
       "    .dataframe thead tr th {\n",
       "        text-align: left;\n",
       "    }\n",
       "\n",
       "    .dataframe thead tr:last-of-type th {\n",
       "        text-align: right;\n",
       "    }\n",
       "</style>\n",
       "<table border=\"1\" class=\"dataframe\">\n",
       "  <thead>\n",
       "    <tr>\n",
       "      <th></th>\n",
       "      <th></th>\n",
       "      <th></th>\n",
       "      <th></th>\n",
       "      <th></th>\n",
       "      <th colspan=\"2\" halign=\"left\">Loan Office Certificates Face Value</th>\n",
       "      <th colspan=\"2\" halign=\"left\">Loan Office Certificates Specie Value</th>\n",
       "      <th colspan=\"2\" halign=\"left\">State Certificates Dollars</th>\n",
       "      <th colspan=\"2\" halign=\"left\">State Certificates 90th</th>\n",
       "      <th colspan=\"2\" halign=\"left\">Marine Certificates Dollars</th>\n",
       "      <th colspan=\"2\" halign=\"left\">Marine Certificates 90th</th>\n",
       "      <th colspan=\"2\" halign=\"left\">Pierce Certificates Value</th>\n",
       "    </tr>\n",
       "    <tr>\n",
       "      <th></th>\n",
       "      <th></th>\n",
       "      <th></th>\n",
       "      <th></th>\n",
       "      <th></th>\n",
       "      <th>sum</th>\n",
       "      <th>count</th>\n",
       "      <th>sum</th>\n",
       "      <th>count</th>\n",
       "      <th>sum</th>\n",
       "      <th>count</th>\n",
       "      <th>sum</th>\n",
       "      <th>count</th>\n",
       "      <th>sum</th>\n",
       "      <th>count</th>\n",
       "      <th>sum</th>\n",
       "      <th>count</th>\n",
       "      <th>sum</th>\n",
       "      <th>count</th>\n",
       "    </tr>\n",
       "    <tr>\n",
       "      <th>delegate name</th>\n",
       "      <th>First Name</th>\n",
       "      <th>Last Name</th>\n",
       "      <th>delegate_state</th>\n",
       "      <th>sign</th>\n",
       "      <th></th>\n",
       "      <th></th>\n",
       "      <th></th>\n",
       "      <th></th>\n",
       "      <th></th>\n",
       "      <th></th>\n",
       "      <th></th>\n",
       "      <th></th>\n",
       "      <th></th>\n",
       "      <th></th>\n",
       "      <th></th>\n",
       "      <th></th>\n",
       "      <th></th>\n",
       "      <th></th>\n",
       "    </tr>\n",
       "  </thead>\n",
       "  <tbody>\n",
       "    <tr>\n",
       "      <td>Aaron Austin</td>\n",
       "      <td>Aaron</td>\n",
       "      <td>Austin</td>\n",
       "      <td>CT</td>\n",
       "      <td>yes</td>\n",
       "      <td>3700.0</td>\n",
       "      <td>3.0</td>\n",
       "      <td>180.06667</td>\n",
       "      <td>3.0</td>\n",
       "      <td>NaN</td>\n",
       "      <td>NaN</td>\n",
       "      <td>NaN</td>\n",
       "      <td>NaN</td>\n",
       "      <td>NaN</td>\n",
       "      <td>NaN</td>\n",
       "      <td>NaN</td>\n",
       "      <td>NaN</td>\n",
       "      <td>NaN</td>\n",
       "      <td>NaN</td>\n",
       "    </tr>\n",
       "    <tr>\n",
       "      <td>Aaron Wood</td>\n",
       "      <td>Aaron</td>\n",
       "      <td>Wood</td>\n",
       "      <td>MA</td>\n",
       "      <td>no</td>\n",
       "      <td>600.0</td>\n",
       "      <td>1.0</td>\n",
       "      <td>66.72500</td>\n",
       "      <td>1.0</td>\n",
       "      <td>NaN</td>\n",
       "      <td>NaN</td>\n",
       "      <td>NaN</td>\n",
       "      <td>NaN</td>\n",
       "      <td>NaN</td>\n",
       "      <td>NaN</td>\n",
       "      <td>NaN</td>\n",
       "      <td>NaN</td>\n",
       "      <td>120.60</td>\n",
       "      <td>2.0</td>\n",
       "    </tr>\n",
       "    <tr>\n",
       "      <td>Abraham Faw</td>\n",
       "      <td>Abraham</td>\n",
       "      <td>Faw</td>\n",
       "      <td>MD</td>\n",
       "      <td>yes</td>\n",
       "      <td>400.0</td>\n",
       "      <td>1.0</td>\n",
       "      <td>35.53889</td>\n",
       "      <td>1.0</td>\n",
       "      <td>NaN</td>\n",
       "      <td>NaN</td>\n",
       "      <td>NaN</td>\n",
       "      <td>NaN</td>\n",
       "      <td>NaN</td>\n",
       "      <td>NaN</td>\n",
       "      <td>NaN</td>\n",
       "      <td>NaN</td>\n",
       "      <td>NaN</td>\n",
       "      <td>NaN</td>\n",
       "    </tr>\n",
       "    <tr>\n",
       "      <td>Abraham Holmes</td>\n",
       "      <td>Abraham</td>\n",
       "      <td>Holmes</td>\n",
       "      <td>MA</td>\n",
       "      <td>no</td>\n",
       "      <td>13200.0</td>\n",
       "      <td>8.0</td>\n",
       "      <td>527.52500</td>\n",
       "      <td>8.0</td>\n",
       "      <td>NaN</td>\n",
       "      <td>NaN</td>\n",
       "      <td>NaN</td>\n",
       "      <td>NaN</td>\n",
       "      <td>NaN</td>\n",
       "      <td>NaN</td>\n",
       "      <td>NaN</td>\n",
       "      <td>NaN</td>\n",
       "      <td>NaN</td>\n",
       "      <td>NaN</td>\n",
       "    </tr>\n",
       "    <tr>\n",
       "      <td>Abraham Smith</td>\n",
       "      <td>Abraham</td>\n",
       "      <td>Smith</td>\n",
       "      <td>MA</td>\n",
       "      <td>no</td>\n",
       "      <td>300.0</td>\n",
       "      <td>1.0</td>\n",
       "      <td>123.49170</td>\n",
       "      <td>1.0</td>\n",
       "      <td>4.0</td>\n",
       "      <td>1.0</td>\n",
       "      <td>0</td>\n",
       "      <td>0.0</td>\n",
       "      <td>NaN</td>\n",
       "      <td>NaN</td>\n",
       "      <td>NaN</td>\n",
       "      <td>NaN</td>\n",
       "      <td>290.20</td>\n",
       "      <td>5.0</td>\n",
       "    </tr>\n",
       "    <tr>\n",
       "      <td>...</td>\n",
       "      <td>...</td>\n",
       "      <td>...</td>\n",
       "      <td>...</td>\n",
       "      <td>...</td>\n",
       "      <td>...</td>\n",
       "      <td>...</td>\n",
       "      <td>...</td>\n",
       "      <td>...</td>\n",
       "      <td>...</td>\n",
       "      <td>...</td>\n",
       "      <td>...</td>\n",
       "      <td>...</td>\n",
       "      <td>...</td>\n",
       "      <td>...</td>\n",
       "      <td>...</td>\n",
       "      <td>...</td>\n",
       "      <td>...</td>\n",
       "      <td>...</td>\n",
       "    </tr>\n",
       "    <tr>\n",
       "      <td>William Pinkney</td>\n",
       "      <td>William</td>\n",
       "      <td>Pinkney</td>\n",
       "      <td>MD</td>\n",
       "      <td>no</td>\n",
       "      <td>NaN</td>\n",
       "      <td>NaN</td>\n",
       "      <td>NaN</td>\n",
       "      <td>NaN</td>\n",
       "      <td>NaN</td>\n",
       "      <td>NaN</td>\n",
       "      <td>NaN</td>\n",
       "      <td>NaN</td>\n",
       "      <td>NaN</td>\n",
       "      <td>NaN</td>\n",
       "      <td>NaN</td>\n",
       "      <td>NaN</td>\n",
       "      <td>321.10</td>\n",
       "      <td>6.0</td>\n",
       "    </tr>\n",
       "    <tr>\n",
       "      <td>William R. Davie</td>\n",
       "      <td>William R.</td>\n",
       "      <td>Davie</td>\n",
       "      <td>Constitution</td>\n",
       "      <td>no</td>\n",
       "      <td>NaN</td>\n",
       "      <td>NaN</td>\n",
       "      <td>NaN</td>\n",
       "      <td>NaN</td>\n",
       "      <td>NaN</td>\n",
       "      <td>NaN</td>\n",
       "      <td>NaN</td>\n",
       "      <td>NaN</td>\n",
       "      <td>NaN</td>\n",
       "      <td>NaN</td>\n",
       "      <td>NaN</td>\n",
       "      <td>NaN</td>\n",
       "      <td>180.00</td>\n",
       "      <td>2.0</td>\n",
       "    </tr>\n",
       "    <tr>\n",
       "      <td>William Thornton</td>\n",
       "      <td>William</td>\n",
       "      <td>Thornton</td>\n",
       "      <td>VA</td>\n",
       "      <td>yes</td>\n",
       "      <td>NaN</td>\n",
       "      <td>NaN</td>\n",
       "      <td>NaN</td>\n",
       "      <td>NaN</td>\n",
       "      <td>NaN</td>\n",
       "      <td>NaN</td>\n",
       "      <td>NaN</td>\n",
       "      <td>NaN</td>\n",
       "      <td>NaN</td>\n",
       "      <td>NaN</td>\n",
       "      <td>NaN</td>\n",
       "      <td>NaN</td>\n",
       "      <td>423.43</td>\n",
       "      <td>6.0</td>\n",
       "    </tr>\n",
       "    <tr>\n",
       "      <td>William Washington</td>\n",
       "      <td>William</td>\n",
       "      <td>Washington</td>\n",
       "      <td>SC</td>\n",
       "      <td>yes</td>\n",
       "      <td>NaN</td>\n",
       "      <td>NaN</td>\n",
       "      <td>NaN</td>\n",
       "      <td>NaN</td>\n",
       "      <td>NaN</td>\n",
       "      <td>NaN</td>\n",
       "      <td>NaN</td>\n",
       "      <td>NaN</td>\n",
       "      <td>NaN</td>\n",
       "      <td>NaN</td>\n",
       "      <td>NaN</td>\n",
       "      <td>NaN</td>\n",
       "      <td>936.07</td>\n",
       "      <td>2.0</td>\n",
       "    </tr>\n",
       "    <tr>\n",
       "      <td>Zachariah Johnston</td>\n",
       "      <td>Zachariah</td>\n",
       "      <td>Johnston</td>\n",
       "      <td>VA</td>\n",
       "      <td>yes</td>\n",
       "      <td>NaN</td>\n",
       "      <td>NaN</td>\n",
       "      <td>NaN</td>\n",
       "      <td>NaN</td>\n",
       "      <td>NaN</td>\n",
       "      <td>NaN</td>\n",
       "      <td>NaN</td>\n",
       "      <td>NaN</td>\n",
       "      <td>NaN</td>\n",
       "      <td>NaN</td>\n",
       "      <td>NaN</td>\n",
       "      <td>NaN</td>\n",
       "      <td>147.20</td>\n",
       "      <td>1.0</td>\n",
       "    </tr>\n",
       "  </tbody>\n",
       "</table>\n",
       "<p>840 rows × 14 columns</p>\n",
       "</div>"
      ],
      "text/plain": [
       "                                                             Loan Office Certificates Face Value  \\\n",
       "                                                                                             sum   \n",
       "delegate name      First Name Last Name  delegate_state sign                                       \n",
       "Aaron Austin       Aaron      Austin     CT             yes                               3700.0   \n",
       "Aaron Wood         Aaron      Wood       MA             no                                 600.0   \n",
       "Abraham Faw        Abraham    Faw        MD             yes                                400.0   \n",
       "Abraham Holmes     Abraham    Holmes     MA             no                               13200.0   \n",
       "Abraham Smith      Abraham    Smith      MA             no                                 300.0   \n",
       "...                                                                                          ...   \n",
       "William Pinkney    William    Pinkney    MD             no                                   NaN   \n",
       "William R. Davie   William R. Davie      Constitution   no                                   NaN   \n",
       "William Thornton   William    Thornton   VA             yes                                  NaN   \n",
       "William Washington William    Washington SC             yes                                  NaN   \n",
       "Zachariah Johnston Zachariah  Johnston   VA             yes                                  NaN   \n",
       "\n",
       "                                                                    \\\n",
       "                                                             count   \n",
       "delegate name      First Name Last Name  delegate_state sign         \n",
       "Aaron Austin       Aaron      Austin     CT             yes    3.0   \n",
       "Aaron Wood         Aaron      Wood       MA             no     1.0   \n",
       "Abraham Faw        Abraham    Faw        MD             yes    1.0   \n",
       "Abraham Holmes     Abraham    Holmes     MA             no     8.0   \n",
       "Abraham Smith      Abraham    Smith      MA             no     1.0   \n",
       "...                                                            ...   \n",
       "William Pinkney    William    Pinkney    MD             no     NaN   \n",
       "William R. Davie   William R. Davie      Constitution   no     NaN   \n",
       "William Thornton   William    Thornton   VA             yes    NaN   \n",
       "William Washington William    Washington SC             yes    NaN   \n",
       "Zachariah Johnston Zachariah  Johnston   VA             yes    NaN   \n",
       "\n",
       "                                                             Loan Office Certificates Specie Value  \\\n",
       "                                                                                               sum   \n",
       "delegate name      First Name Last Name  delegate_state sign                                         \n",
       "Aaron Austin       Aaron      Austin     CT             yes                              180.06667   \n",
       "Aaron Wood         Aaron      Wood       MA             no                                66.72500   \n",
       "Abraham Faw        Abraham    Faw        MD             yes                               35.53889   \n",
       "Abraham Holmes     Abraham    Holmes     MA             no                               527.52500   \n",
       "Abraham Smith      Abraham    Smith      MA             no                               123.49170   \n",
       "...                                                                                            ...   \n",
       "William Pinkney    William    Pinkney    MD             no                                     NaN   \n",
       "William R. Davie   William R. Davie      Constitution   no                                     NaN   \n",
       "William Thornton   William    Thornton   VA             yes                                    NaN   \n",
       "William Washington William    Washington SC             yes                                    NaN   \n",
       "Zachariah Johnston Zachariah  Johnston   VA             yes                                    NaN   \n",
       "\n",
       "                                                                    \\\n",
       "                                                             count   \n",
       "delegate name      First Name Last Name  delegate_state sign         \n",
       "Aaron Austin       Aaron      Austin     CT             yes    3.0   \n",
       "Aaron Wood         Aaron      Wood       MA             no     1.0   \n",
       "Abraham Faw        Abraham    Faw        MD             yes    1.0   \n",
       "Abraham Holmes     Abraham    Holmes     MA             no     8.0   \n",
       "Abraham Smith      Abraham    Smith      MA             no     1.0   \n",
       "...                                                            ...   \n",
       "William Pinkney    William    Pinkney    MD             no     NaN   \n",
       "William R. Davie   William R. Davie      Constitution   no     NaN   \n",
       "William Thornton   William    Thornton   VA             yes    NaN   \n",
       "William Washington William    Washington SC             yes    NaN   \n",
       "Zachariah Johnston Zachariah  Johnston   VA             yes    NaN   \n",
       "\n",
       "                                                             State Certificates Dollars  \\\n",
       "                                                                                    sum   \n",
       "delegate name      First Name Last Name  delegate_state sign                              \n",
       "Aaron Austin       Aaron      Austin     CT             yes                         NaN   \n",
       "Aaron Wood         Aaron      Wood       MA             no                          NaN   \n",
       "Abraham Faw        Abraham    Faw        MD             yes                         NaN   \n",
       "Abraham Holmes     Abraham    Holmes     MA             no                          NaN   \n",
       "Abraham Smith      Abraham    Smith      MA             no                          4.0   \n",
       "...                                                                                 ...   \n",
       "William Pinkney    William    Pinkney    MD             no                          NaN   \n",
       "William R. Davie   William R. Davie      Constitution   no                          NaN   \n",
       "William Thornton   William    Thornton   VA             yes                         NaN   \n",
       "William Washington William    Washington SC             yes                         NaN   \n",
       "Zachariah Johnston Zachariah  Johnston   VA             yes                         NaN   \n",
       "\n",
       "                                                                    \\\n",
       "                                                             count   \n",
       "delegate name      First Name Last Name  delegate_state sign         \n",
       "Aaron Austin       Aaron      Austin     CT             yes    NaN   \n",
       "Aaron Wood         Aaron      Wood       MA             no     NaN   \n",
       "Abraham Faw        Abraham    Faw        MD             yes    NaN   \n",
       "Abraham Holmes     Abraham    Holmes     MA             no     NaN   \n",
       "Abraham Smith      Abraham    Smith      MA             no     1.0   \n",
       "...                                                            ...   \n",
       "William Pinkney    William    Pinkney    MD             no     NaN   \n",
       "William R. Davie   William R. Davie      Constitution   no     NaN   \n",
       "William Thornton   William    Thornton   VA             yes    NaN   \n",
       "William Washington William    Washington SC             yes    NaN   \n",
       "Zachariah Johnston Zachariah  Johnston   VA             yes    NaN   \n",
       "\n",
       "                                                             State Certificates 90th  \\\n",
       "                                                                                 sum   \n",
       "delegate name      First Name Last Name  delegate_state sign                           \n",
       "Aaron Austin       Aaron      Austin     CT             yes                      NaN   \n",
       "Aaron Wood         Aaron      Wood       MA             no                       NaN   \n",
       "Abraham Faw        Abraham    Faw        MD             yes                      NaN   \n",
       "Abraham Holmes     Abraham    Holmes     MA             no                       NaN   \n",
       "Abraham Smith      Abraham    Smith      MA             no                         0   \n",
       "...                                                                              ...   \n",
       "William Pinkney    William    Pinkney    MD             no                       NaN   \n",
       "William R. Davie   William R. Davie      Constitution   no                       NaN   \n",
       "William Thornton   William    Thornton   VA             yes                      NaN   \n",
       "William Washington William    Washington SC             yes                      NaN   \n",
       "Zachariah Johnston Zachariah  Johnston   VA             yes                      NaN   \n",
       "\n",
       "                                                                    \\\n",
       "                                                             count   \n",
       "delegate name      First Name Last Name  delegate_state sign         \n",
       "Aaron Austin       Aaron      Austin     CT             yes    NaN   \n",
       "Aaron Wood         Aaron      Wood       MA             no     NaN   \n",
       "Abraham Faw        Abraham    Faw        MD             yes    NaN   \n",
       "Abraham Holmes     Abraham    Holmes     MA             no     NaN   \n",
       "Abraham Smith      Abraham    Smith      MA             no     0.0   \n",
       "...                                                            ...   \n",
       "William Pinkney    William    Pinkney    MD             no     NaN   \n",
       "William R. Davie   William R. Davie      Constitution   no     NaN   \n",
       "William Thornton   William    Thornton   VA             yes    NaN   \n",
       "William Washington William    Washington SC             yes    NaN   \n",
       "Zachariah Johnston Zachariah  Johnston   VA             yes    NaN   \n",
       "\n",
       "                                                             Marine Certificates Dollars  \\\n",
       "                                                                                     sum   \n",
       "delegate name      First Name Last Name  delegate_state sign                               \n",
       "Aaron Austin       Aaron      Austin     CT             yes                          NaN   \n",
       "Aaron Wood         Aaron      Wood       MA             no                           NaN   \n",
       "Abraham Faw        Abraham    Faw        MD             yes                          NaN   \n",
       "Abraham Holmes     Abraham    Holmes     MA             no                           NaN   \n",
       "Abraham Smith      Abraham    Smith      MA             no                           NaN   \n",
       "...                                                                                  ...   \n",
       "William Pinkney    William    Pinkney    MD             no                           NaN   \n",
       "William R. Davie   William R. Davie      Constitution   no                           NaN   \n",
       "William Thornton   William    Thornton   VA             yes                          NaN   \n",
       "William Washington William    Washington SC             yes                          NaN   \n",
       "Zachariah Johnston Zachariah  Johnston   VA             yes                          NaN   \n",
       "\n",
       "                                                                    \\\n",
       "                                                             count   \n",
       "delegate name      First Name Last Name  delegate_state sign         \n",
       "Aaron Austin       Aaron      Austin     CT             yes    NaN   \n",
       "Aaron Wood         Aaron      Wood       MA             no     NaN   \n",
       "Abraham Faw        Abraham    Faw        MD             yes    NaN   \n",
       "Abraham Holmes     Abraham    Holmes     MA             no     NaN   \n",
       "Abraham Smith      Abraham    Smith      MA             no     NaN   \n",
       "...                                                            ...   \n",
       "William Pinkney    William    Pinkney    MD             no     NaN   \n",
       "William R. Davie   William R. Davie      Constitution   no     NaN   \n",
       "William Thornton   William    Thornton   VA             yes    NaN   \n",
       "William Washington William    Washington SC             yes    NaN   \n",
       "Zachariah Johnston Zachariah  Johnston   VA             yes    NaN   \n",
       "\n",
       "                                                             Marine Certificates 90th  \\\n",
       "                                                                                  sum   \n",
       "delegate name      First Name Last Name  delegate_state sign                            \n",
       "Aaron Austin       Aaron      Austin     CT             yes                       NaN   \n",
       "Aaron Wood         Aaron      Wood       MA             no                        NaN   \n",
       "Abraham Faw        Abraham    Faw        MD             yes                       NaN   \n",
       "Abraham Holmes     Abraham    Holmes     MA             no                        NaN   \n",
       "Abraham Smith      Abraham    Smith      MA             no                        NaN   \n",
       "...                                                                               ...   \n",
       "William Pinkney    William    Pinkney    MD             no                        NaN   \n",
       "William R. Davie   William R. Davie      Constitution   no                        NaN   \n",
       "William Thornton   William    Thornton   VA             yes                       NaN   \n",
       "William Washington William    Washington SC             yes                       NaN   \n",
       "Zachariah Johnston Zachariah  Johnston   VA             yes                       NaN   \n",
       "\n",
       "                                                                    \\\n",
       "                                                             count   \n",
       "delegate name      First Name Last Name  delegate_state sign         \n",
       "Aaron Austin       Aaron      Austin     CT             yes    NaN   \n",
       "Aaron Wood         Aaron      Wood       MA             no     NaN   \n",
       "Abraham Faw        Abraham    Faw        MD             yes    NaN   \n",
       "Abraham Holmes     Abraham    Holmes     MA             no     NaN   \n",
       "Abraham Smith      Abraham    Smith      MA             no     NaN   \n",
       "...                                                            ...   \n",
       "William Pinkney    William    Pinkney    MD             no     NaN   \n",
       "William R. Davie   William R. Davie      Constitution   no     NaN   \n",
       "William Thornton   William    Thornton   VA             yes    NaN   \n",
       "William Washington William    Washington SC             yes    NaN   \n",
       "Zachariah Johnston Zachariah  Johnston   VA             yes    NaN   \n",
       "\n",
       "                                                             Pierce Certificates Value  \\\n",
       "                                                                                   sum   \n",
       "delegate name      First Name Last Name  delegate_state sign                             \n",
       "Aaron Austin       Aaron      Austin     CT             yes                        NaN   \n",
       "Aaron Wood         Aaron      Wood       MA             no                      120.60   \n",
       "Abraham Faw        Abraham    Faw        MD             yes                        NaN   \n",
       "Abraham Holmes     Abraham    Holmes     MA             no                         NaN   \n",
       "Abraham Smith      Abraham    Smith      MA             no                      290.20   \n",
       "...                                                                                ...   \n",
       "William Pinkney    William    Pinkney    MD             no                      321.10   \n",
       "William R. Davie   William R. Davie      Constitution   no                      180.00   \n",
       "William Thornton   William    Thornton   VA             yes                     423.43   \n",
       "William Washington William    Washington SC             yes                     936.07   \n",
       "Zachariah Johnston Zachariah  Johnston   VA             yes                     147.20   \n",
       "\n",
       "                                                                    \n",
       "                                                             count  \n",
       "delegate name      First Name Last Name  delegate_state sign        \n",
       "Aaron Austin       Aaron      Austin     CT             yes    NaN  \n",
       "Aaron Wood         Aaron      Wood       MA             no     2.0  \n",
       "Abraham Faw        Abraham    Faw        MD             yes    NaN  \n",
       "Abraham Holmes     Abraham    Holmes     MA             no     NaN  \n",
       "Abraham Smith      Abraham    Smith      MA             no     5.0  \n",
       "...                                                            ...  \n",
       "William Pinkney    William    Pinkney    MD             no     6.0  \n",
       "William R. Davie   William R. Davie      Constitution   no     2.0  \n",
       "William Thornton   William    Thornton   VA             yes    6.0  \n",
       "William Washington William    Washington SC             yes    2.0  \n",
       "Zachariah Johnston Zachariah  Johnston   VA             yes    1.0  \n",
       "\n",
       "[840 rows x 14 columns]"
      ]
     },
     "execution_count": 49,
     "metadata": {},
     "output_type": "execute_result"
    }
   ],
   "source": [
    "loan_state_marine_pierce_merge"
   ]
  },
  {
   "cell_type": "code",
   "execution_count": 50,
   "metadata": {
    "pycharm": {
     "name": "#%%\n"
    }
   },
   "outputs": [
    {
     "name": "stderr",
     "output_type": "stream",
     "text": [
      "/opt/anaconda3/lib/python3.7/site-packages/ipykernel_launcher.py:8: FutureWarning: \n",
      ".ix is deprecated. Please use\n",
      ".loc for label based indexing or\n",
      ".iloc for positional indexing\n",
      "\n",
      "See the documentation here:\n",
      "http://pandas.pydata.org/pandas-docs/stable/user_guide/indexing.html#ix-indexer-is-deprecated\n",
      "  \n",
      "/opt/anaconda3/lib/python3.7/site-packages/IPython/core/interactiveshell.py:2855: PerformanceWarning: indexing past lexsort depth may impact performance.\n",
      "  raw_cell, store_history, silent, shell_futures)\n"
     ]
    }
   ],
   "source": [
    "cum_delegate_list = pd.merge(total_assets, cum_firstlast, left_on = 'delegate name', right_on = 'Full Name').drop_duplicates().drop(['match name', 'Full Name'], axis = 1)\n",
    "spec_index = cum_delegate_list[cum_delegate_list['delegate_state'].apply(lambda x: pd.isnull(x))].index\n",
    "cum_delegate_list.loc[spec_index, ['delegate_state']] = 'Constitution'\n",
    "cum_delegate_list = cum_delegate_list[['delegate name', 'First Name', 'Last Name', 'delegate_state', 'sign']]\n",
    "for row in cum_delegate_list.index:\n",
    "    row_vals = tuple(cum_delegate_list.loc[row].tolist())\n",
    "    if row_vals not in loan_state_marine_pierce_merge.index:\n",
    "        loan_state_marine_pierce_merge.ix[row_vals,:] = [np.nan] * 14"
   ]
  },
  {
   "cell_type": "code",
   "execution_count": 51,
   "metadata": {
    "pycharm": {
     "name": "#%%\n"
    }
   },
   "outputs": [],
   "source": [
    "loan_state_marine_pierce_merge = loan_state_marine_pierce_merge.sort_values('Last Name')"
   ]
  },
  {
   "cell_type": "code",
   "execution_count": 52,
   "metadata": {
    "pycharm": {
     "name": "#%%\n"
    }
   },
   "outputs": [],
   "source": [
    "loan_office_cert_assets_agg.to_csv('Producables/Separate/Loan_Office_Certificates_Matched.csv')\n",
    "pierce_cert_assets_agg.to_csv('Producables/Separate/Pierce_Certificates_Matched.csv')\n",
    "marine_cert_assets_agg.to_csv('Producables/Separate/Marine_Certificates_Matched.csv')\n",
    "state_cert_assets_agg.to_csv('Producables/Separate/State_Certificates_Matched.csv')"
   ]
  },
  {
   "cell_type": "code",
   "execution_count": 53,
   "metadata": {
    "pycharm": {
     "name": "#%%\n"
    }
   },
   "outputs": [],
   "source": [
    "loan_state_marine_pierce_merge.fillna(value = 0, inplace = True)"
   ]
  },
  {
   "cell_type": "code",
   "execution_count": 54,
   "metadata": {
    "pycharm": {
     "name": "#%%\n"
    }
   },
   "outputs": [],
   "source": [
    "loan_state_marine_pierce_merge.to_csv('Producables/Delegate_Pre1790_Assets.csv')"
   ]
  }
 ],
 "metadata": {
  "kernelspec": {
   "display_name": "Python 3",
   "language": "python",
   "name": "python3"
  },
  "language_info": {
   "codemirror_mode": {
    "name": "ipython",
    "version": 3
   },
   "file_extension": ".py",
   "mimetype": "text/x-python",
   "name": "python",
   "nbconvert_exporter": "python",
   "pygments_lexer": "ipython3",
   "version": "3.7.4"
  }
 },
 "nbformat": 4,
 "nbformat_minor": 4
}