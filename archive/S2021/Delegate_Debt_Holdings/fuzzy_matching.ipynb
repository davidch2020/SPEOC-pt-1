{
 "cells": [
  {
   "cell_type": "markdown",
   "metadata": {
    "pycharm": {
     "name": "#%% md\n"
    }
   },
   "source": [
    "<h3> Data Cleaning </h3>"
   ]
  },
  {
   "cell_type": "code",
   "execution_count": 25,
   "metadata": {
    "pycharm": {
     "name": "#%%\n"
    }
   },
   "outputs": [],
   "source": [
    "import numpy as np\n",
    "import pandas as pd\n",
    "import rapidfuzz\n",
    "from rapidfuzz import process"
   ]
  },
  {
   "cell_type": "code",
   "execution_count": 26,
   "metadata": {
    "pycharm": {
     "name": "#%%\n"
    }
   },
   "outputs": [],
   "source": [
    "delegates = pd.read_csv(\"../Data/Delegates/cleaned/constitutional_convention_delegates_cleaned.csv\", index_col = 0)\n",
    "state_delegates = pd.read_csv(\"../Data/Delegates/cleaned/State_Delegates_cleaned.csv\", index_col = 0)"
   ]
  },
  {
   "cell_type": "code",
   "execution_count": 27,
   "metadata": {
    "pycharm": {
     "name": "#%%\n"
    }
   },
   "outputs": [
    {
     "name": "stdout",
     "output_type": "stream",
     "text": [
      "delegate dimensions: (55, 8)\n"
     ]
    },
    {
     "data": {
      "text/plain": "       first name    last name        state sign? sign last name 2  \\\n0  William Samuel      Johnson  Connecticut   yes  yes         NaN   \n1           Roger      Sherman  Connecticut   yes  yes         NaN   \n2          Oliver    Ellsworth  Connecticut    no   no    Elsworth   \n3          George         Read     Delaware   yes  yes         NaN   \n4         Gunning  Bedford Jr.     Delaware   yes  yes         NaN   \n\n              full name 1      full name 2  \n0  William Samuel Johnson              NaN  \n1           Roger Sherman              NaN  \n2        Oliver Ellsworth  Oliver Elsworth  \n3             George Read              NaN  \n4     Gunning Bedford Jr.              NaN  ",
      "text/html": "<div>\n<style scoped>\n    .dataframe tbody tr th:only-of-type {\n        vertical-align: middle;\n    }\n\n    .dataframe tbody tr th {\n        vertical-align: top;\n    }\n\n    .dataframe thead th {\n        text-align: right;\n    }\n</style>\n<table border=\"1\" class=\"dataframe\">\n  <thead>\n    <tr style=\"text-align: right;\">\n      <th></th>\n      <th>first name</th>\n      <th>last name</th>\n      <th>state</th>\n      <th>sign?</th>\n      <th>sign</th>\n      <th>last name 2</th>\n      <th>full name 1</th>\n      <th>full name 2</th>\n    </tr>\n  </thead>\n  <tbody>\n    <tr>\n      <th>0</th>\n      <td>William Samuel</td>\n      <td>Johnson</td>\n      <td>Connecticut</td>\n      <td>yes</td>\n      <td>yes</td>\n      <td>NaN</td>\n      <td>William Samuel Johnson</td>\n      <td>NaN</td>\n    </tr>\n    <tr>\n      <th>1</th>\n      <td>Roger</td>\n      <td>Sherman</td>\n      <td>Connecticut</td>\n      <td>yes</td>\n      <td>yes</td>\n      <td>NaN</td>\n      <td>Roger Sherman</td>\n      <td>NaN</td>\n    </tr>\n    <tr>\n      <th>2</th>\n      <td>Oliver</td>\n      <td>Ellsworth</td>\n      <td>Connecticut</td>\n      <td>no</td>\n      <td>no</td>\n      <td>Elsworth</td>\n      <td>Oliver Ellsworth</td>\n      <td>Oliver Elsworth</td>\n    </tr>\n    <tr>\n      <th>3</th>\n      <td>George</td>\n      <td>Read</td>\n      <td>Delaware</td>\n      <td>yes</td>\n      <td>yes</td>\n      <td>NaN</td>\n      <td>George Read</td>\n      <td>NaN</td>\n    </tr>\n    <tr>\n      <th>4</th>\n      <td>Gunning</td>\n      <td>Bedford Jr.</td>\n      <td>Delaware</td>\n      <td>yes</td>\n      <td>yes</td>\n      <td>NaN</td>\n      <td>Gunning Bedford Jr.</td>\n      <td>NaN</td>\n    </tr>\n  </tbody>\n</table>\n</div>"
     },
     "execution_count": 27,
     "metadata": {},
     "output_type": "execute_result"
    }
   ],
   "source": [
    "print(\"delegate dimensions:\", delegates.shape)\n",
    "delegates.head()"
   ]
  },
  {
   "cell_type": "code",
   "execution_count": 28,
   "metadata": {
    "pycharm": {
     "name": "#%%\n"
    }
   },
   "outputs": [
    {
     "name": "stdout",
     "output_type": "stream",
     "text": [
      "state delegate dimensions: (1696, 9)\n"
     ]
    },
    {
     "data": {
      "text/plain": "   Last Name First Name   Position State County / Town Vote  \\\n0    Stevens       John  President    NJ     Hunterdon  yes   \n1       Fell       John        NaN    NJ        Bergen  yes   \n2  Zabriskie      Peter        NaN    NJ        Bergen  yes   \n3    Hennion  Cornelius        NaN    NJ        Bergen  yes   \n4   Chetwood       John        NaN    NJ         Essex  yes   \n\n         full name 1  name duplication  state-name duplication  \n0       John Stevens              True                   False  \n1          John Fell             False                   False  \n2    Peter Zabriskie             False                   False  \n3  Cornelius Hennion             False                   False  \n4      John Chetwood             False                   False  ",
      "text/html": "<div>\n<style scoped>\n    .dataframe tbody tr th:only-of-type {\n        vertical-align: middle;\n    }\n\n    .dataframe tbody tr th {\n        vertical-align: top;\n    }\n\n    .dataframe thead th {\n        text-align: right;\n    }\n</style>\n<table border=\"1\" class=\"dataframe\">\n  <thead>\n    <tr style=\"text-align: right;\">\n      <th></th>\n      <th>Last Name</th>\n      <th>First Name</th>\n      <th>Position</th>\n      <th>State</th>\n      <th>County / Town</th>\n      <th>Vote</th>\n      <th>full name 1</th>\n      <th>name duplication</th>\n      <th>state-name duplication</th>\n    </tr>\n  </thead>\n  <tbody>\n    <tr>\n      <th>0</th>\n      <td>Stevens</td>\n      <td>John</td>\n      <td>President</td>\n      <td>NJ</td>\n      <td>Hunterdon</td>\n      <td>yes</td>\n      <td>John Stevens</td>\n      <td>True</td>\n      <td>False</td>\n    </tr>\n    <tr>\n      <th>1</th>\n      <td>Fell</td>\n      <td>John</td>\n      <td>NaN</td>\n      <td>NJ</td>\n      <td>Bergen</td>\n      <td>yes</td>\n      <td>John Fell</td>\n      <td>False</td>\n      <td>False</td>\n    </tr>\n    <tr>\n      <th>2</th>\n      <td>Zabriskie</td>\n      <td>Peter</td>\n      <td>NaN</td>\n      <td>NJ</td>\n      <td>Bergen</td>\n      <td>yes</td>\n      <td>Peter Zabriskie</td>\n      <td>False</td>\n      <td>False</td>\n    </tr>\n    <tr>\n      <th>3</th>\n      <td>Hennion</td>\n      <td>Cornelius</td>\n      <td>NaN</td>\n      <td>NJ</td>\n      <td>Bergen</td>\n      <td>yes</td>\n      <td>Cornelius Hennion</td>\n      <td>False</td>\n      <td>False</td>\n    </tr>\n    <tr>\n      <th>4</th>\n      <td>Chetwood</td>\n      <td>John</td>\n      <td>NaN</td>\n      <td>NJ</td>\n      <td>Essex</td>\n      <td>yes</td>\n      <td>John Chetwood</td>\n      <td>False</td>\n      <td>False</td>\n    </tr>\n  </tbody>\n</table>\n</div>"
     },
     "execution_count": 28,
     "metadata": {},
     "output_type": "execute_result"
    }
   ],
   "source": [
    "print(\"state delegate dimensions:\", state_delegates.shape)\n",
    "state_delegates.head()"
   ]
  },
  {
   "cell_type": "code",
   "execution_count": 29,
   "outputs": [],
   "source": [
    "# eliminating name duplication because I don't think matching by state is feasible\n",
    "state_delegates = state_delegates[state_delegates['name duplication'] == False]"
   ],
   "metadata": {
    "collapsed": false,
    "pycharm": {
     "name": "#%%\n"
    }
   }
  },
  {
   "cell_type": "markdown",
   "metadata": {
    "pycharm": {
     "name": "#%% md\n"
    }
   },
   "source": [
    "# Algorithm for Name Matching"
   ]
  },
  {
   "cell_type": "markdown",
   "metadata": {
    "pycharm": {
     "name": "#%% md\n"
    }
   },
   "source": [
    "1. Run fuzzy match with score threshold of 80\n",
    "2. Get unique set of names for each pair, get rid of ???\n",
    "    1. If one word for either, remove match\n",
    "    2. Else run word comparison - if there are min(n, m) matches (above 90) then keep match else discard\n",
    "3. Go through manually"
   ]
  },
  {
   "cell_type": "code",
   "execution_count": 30,
   "metadata": {
    "pycharm": {
     "name": "#%%\n"
    }
   },
   "outputs": [],
   "source": [
    "def fuzzy_merge(lst1, lst2, threshold=85, limit = 100):\n",
    "    \"\"\"\n",
    "    :param df_1: the left list to join\n",
    "    :param df_2: the right list to join\n",
    "    :param threshold: how close the matches should be to return a match, based on Levenshtein distance\n",
    "    :param limit: the amount of matches that will get returned, these are sorted high to low\n",
    "    :return: dataframe with boths keys and matches\n",
    "    \"\"\"\n",
    "    \n",
    "    delegates = pd.Series([x for x in lst1.unique() if not pd.isnull(x)])\n",
    "    possible =  [x for x in lst2.unique().tolist() if not pd.isnull(x)]\n",
    "    #get matches\n",
    "    #process.extract uses a combination of all four fuzzywuzzy scores\n",
    "    matches = delegates.apply(lambda x: process.extract(x, possible, limit=limit))\n",
    "    \n",
    "    match_df = pd.DataFrame(columns = ['Delegates', 'Loan Matches'])\n",
    "    \n",
    "    for delegate, matchset in zip(delegates, matches):\n",
    "        matchset_thres = [name for name in matchset if name[1] >= threshold]\n",
    "        if len(matchset_thres) == 0:\n",
    "            add_df = pd.DataFrame(data = {'Delegates': [delegate], 'Loan Matches': [\"\"], 'Scores': [0]})\n",
    "            match_df = pd.concat([match_df, add_df])\n",
    "        else:\n",
    "            delegate_lst = [delegate] * len(matchset_thres)\n",
    "            add_df = pd.DataFrame(data = {'Delegates': delegate_lst, \n",
    "                                          'Loan Matches': [x[0] for x in matchset_thres],\n",
    "                                          'Scores': [x[1] for x in matchset_thres]})\n",
    "            match_df = pd.concat([match_df, add_df])\n",
    "\n",
    "    return match_df"
   ]
  },
  {
   "cell_type": "code",
   "execution_count": 31,
   "metadata": {
    "pycharm": {
     "name": "#%%\n"
    }
   },
   "outputs": [],
   "source": [
    "#function for performing the second step of the match\n",
    "def matchFunction(lst1, lst2, score = 90):\n",
    "    #check if our matches are actually min 2 words each\n",
    "    #make sure our match is because the individual are similar, not because the phrase or one word in the phrase is similar\n",
    "    #lst1 = list(pd.Series(lst1).unique())\n",
    "    #lst2 = list(pd.Series(lst2).unique())\n",
    "    threshold = min(len(lst1), len(lst2))\n",
    "    matches = 0\n",
    "    nomatch = []\n",
    "    i = 0\n",
    "    for wd1 in lst1:\n",
    "        #modifying which words we compare - dont want to compare first in lst1 with last in lst2\n",
    "        for wd2 in lst2:\n",
    "            if wd1 not in nomatch and process.extract(wd1, [wd2])[0][1] > score:\n",
    "                matches+=1\n",
    "                nomatch.append(wd1)\n",
    "        i+=1\n",
    "    return matches >= threshold"
   ]
  },
  {
   "cell_type": "markdown",
   "metadata": {
    "pycharm": {
     "name": "#%% md\n"
    }
   },
   "source": [
    "## Matching Loan Office Certificates"
   ]
  },
  {
   "cell_type": "markdown",
   "metadata": {
    "pycharm": {
     "name": "#%% md\n"
    }
   },
   "source": [
    "### Matching on Constitutional Convention"
   ]
  },
  {
   "cell_type": "code",
   "execution_count": 32,
   "metadata": {
    "pycharm": {
     "name": "#%%\n"
    }
   },
   "outputs": [],
   "source": [
    "def produceMatches(delegates, debt, delegate_names, debt_names,\n",
    "                   threshold = 85, score = 90):\n",
    "    initial = True\n",
    "    join_df = pd.DataFrame()\n",
    "    for del_name in delegate_names:\n",
    "        for debt_name in debt_names:\n",
    "            if initial:\n",
    "                join_df = fuzzy_merge(delegates[del_name], debt[debt_name], threshold)\n",
    "                initial = False\n",
    "            else:\n",
    "                add_df = fuzzy_merge(delegates[del_name], debt[debt_name], threshold)\n",
    "                join_df = pd.concat([join_df, add_df])\n",
    "    join_df = join_df.drop_duplicates().reset_index(drop = True)\n",
    "    join_df = join_df[join_df['Scores'].apply(lambda x: x != 0)]\n",
    "    join_df = join_df[join_df['Loan Matches'].apply(lambda x: not pd.isnull(x))]    \n",
    "    \n",
    "    #clean data\n",
    "    join_df_p2 = join_df[join_df['Loan Matches'].apply(lambda x: len(list(set(x.replace(\"??\", \"\").strip().split(\" \"))))>=2)]\n",
    "    #run second step of matching\n",
    "    join_df_p2_final = join_df_p2[[matchFunction(x.split(\" \"), y.split(\" \"), score) for x, y in zip(join_df_p2['Delegates'], join_df_p2['Loan Matches'])]]\n",
    "    #select only the highest scoring loan match name pairing \n",
    "    join_df_p2_final.sort_values(by = 'Scores', ascending = False, inplace = True)\n",
    "    join_df_p2_final_ind = join_df_p2_final[['Delegates','Loan Matches']].drop_duplicates().index\n",
    "    join_df_p2_final = join_df_p2_final.loc[join_df_p2_final_ind]\n",
    "\n",
    "    idx = join_df_p2_final.groupby(['Delegates'])['Scores'].transform(max) == join_df_p2_final['Scores']\n",
    "\n",
    "    return join_df_p2_final[idx]"
   ]
  },
  {
   "cell_type": "code",
   "execution_count": 33,
   "outputs": [],
   "source": [
    "def addValues(l1, l2):\n",
    "    for v in l2:\n",
    "        if v not in l1:\n",
    "            l1.append(v)\n",
    "    return l1"
   ],
   "metadata": {
    "collapsed": false,
    "pycharm": {
     "name": "#%%\n"
    }
   }
  },
  {
   "cell_type": "code",
   "execution_count": 34,
   "metadata": {
    "pycharm": {
     "name": "#%%\n"
    }
   },
   "outputs": [],
   "source": [
    "def addLoanStates(df):\n",
    "    df['state1'] = df['Loan Matches'].apply(lambda x: \n",
    "                                            list(loans[loans['full name 1'] == x]['State'].unique()))\n",
    "    df['state2'] = df['Loan Matches'].apply(lambda x: \n",
    "                                            list(loans[loans['full name 2'] == x]['State'].unique()))\n",
    "    df['state3'] = df['Loan Matches'].apply(lambda x: \n",
    "                                            list(loans[loans['full name 3'] == x]['State'].unique()))\n",
    "    df['state'] = [addValues(addValues(s1, s2), s3) for s1, s2, s3 in zip(df['state1'], df['state2'], df['state3'])]\n",
    "    df['state'] = df['state'].apply(lambda lst: ['unspecified' if pd.isnull(x) else x for x in lst])\n",
    "    \n",
    "    df.drop(['state1', 'state2', 'state3'], axis = 1, inplace = True)\n",
    "    colnames = ['Delegates','Loan Matches','Scores']\n",
    "    df = pd.concat([df, df['state'].apply(pd.Series)], axis = 1)\n",
    "    colnames1 = colnames.copy()\n",
    "    colnames1.extend(np.arange(len(df.columns)-4))\n",
    "    df = df[colnames1]\n",
    "    colnames.extend(['name'+str(i) for i in np.arange(len(df.columns) - 3)])\n",
    "    df.columns = colnames\n",
    "    df = pd.wide_to_long(df, stubnames = 'name', \n",
    "                         i = ['Delegates','Loan Matches', 'Scores'], \n",
    "                         j = 'Person').reset_index().drop('Person', axis = 1).drop_duplicates()\n",
    "    df = df[df['name'].apply(lambda x: not pd.isnull(x))]\n",
    "    return df"
   ]
  },
  {
   "cell_type": "code",
   "execution_count": 35,
   "metadata": {
    "pycharm": {
     "name": "#%%\n"
    }
   },
   "outputs": [],
   "source": [
    "#prepare loan dataset\n",
    "loans = pd.read_csv(\"../Data/Pre1790/Cleaned/loan_office_certificates_9_states_cleaned.csv\", index_col = 0)\n",
    "\n",
    "loans = loans.rename(columns = {\"First Name 1 \":\"First Name 1\",\n",
    "                                \"Last Name 1 \":\"Last Name 1\"})\n",
    "\n",
    "loans['full name 1'] = loans['First Name 1'] + \" \" + loans['Last Name 1']\n",
    "loans['full name 2'] = loans['First Name 2'] + \" \" + loans['Last Name 2']\n",
    "loans['full name 3'] = loans['First Name 3'] + \" \" + loans['Last Name 3']"
   ]
  },
  {
   "cell_type": "code",
   "execution_count": 36,
   "metadata": {
    "pycharm": {
     "name": "#%%\n"
    }
   },
   "outputs": [
    {
     "name": "stderr",
     "output_type": "stream",
     "text": [
      "/var/folders/5s/dvrxt95949x1pm_sjxm85lj00000gn/T/ipykernel_43490/1685944764.py:22: SettingWithCopyWarning: \n",
      "A value is trying to be set on a copy of a slice from a DataFrame\n",
      "\n",
      "See the caveats in the documentation: https://pandas.pydata.org/pandas-docs/stable/user_guide/indexing.html#returning-a-view-versus-a-copy\n",
      "  join_df_p2_final.sort_values(by = 'Scores', ascending = False, inplace = True)\n",
      "/var/folders/5s/dvrxt95949x1pm_sjxm85lj00000gn/T/ipykernel_43490/1685944764.py:22: SettingWithCopyWarning: \n",
      "A value is trying to be set on a copy of a slice from a DataFrame\n",
      "\n",
      "See the caveats in the documentation: https://pandas.pydata.org/pandas-docs/stable/user_guide/indexing.html#returning-a-view-versus-a-copy\n",
      "  join_df_p2_final.sort_values(by = 'Scores', ascending = False, inplace = True)\n"
     ]
    }
   ],
   "source": [
    "#name matching for constitutional convention and state convention to debt list\n",
    "loan_office_const = produceMatches(delegates, loans, delegate_names = ['full name 1', 'full name 2'], debt_names = ['full name 1', 'full name 2', 'full name 3'], threshold = 85, score = 90)\n",
    "loan_office_state = produceMatches(state_delegates, loans, delegate_names = ['full name 1'], debt_names = ['full name 1', 'full name 2', 'full name 3'])"
   ]
  },
  {
   "cell_type": "code",
   "execution_count": 37,
   "metadata": {
    "pycharm": {
     "name": "#%%\n"
    }
   },
   "outputs": [],
   "source": [
    "loan_office_const = addLoanStates(loan_office_const)\n",
    "loan_office_state = addLoanStates(loan_office_state)"
   ]
  },
  {
   "cell_type": "code",
   "execution_count": 38,
   "metadata": {
    "pycharm": {
     "name": "#%%\n"
    }
   },
   "outputs": [],
   "source": [
    "loan_office_const.rename(columns={\"name\": \"state\"}, inplace = True)\n",
    "loan_office_state.rename(columns={\"name\": \"state\"}, inplace = True)"
   ]
  },
  {
   "cell_type": "code",
   "execution_count": 39,
   "metadata": {
    "pycharm": {
     "name": "#%%\n"
    }
   },
   "outputs": [],
   "source": [
    "#master dataset\n",
    "loan_office_const['match'] = 'Loan Office'\n",
    "loan_office_state['match'] = 'Loan Office'\n",
    "cumulative_matching_const = loan_office_const\n",
    "cumulative_matching_state = loan_office_state"
   ]
  },
  {
   "cell_type": "code",
   "execution_count": 46,
   "outputs": [
    {
     "ename": "KeyError",
     "evalue": "'PA'",
     "output_type": "error",
     "traceback": [
      "\u001B[0;31m---------------------------------------------------------------------------\u001B[0m",
      "\u001B[0;31mKeyError\u001B[0m                                  Traceback (most recent call last)",
      "\u001B[0;32m/var/folders/5s/dvrxt95949x1pm_sjxm85lj00000gn/T/ipykernel_43490/4232358098.py\u001B[0m in \u001B[0;36m<module>\u001B[0;34m\u001B[0m\n\u001B[1;32m      1\u001B[0m \u001B[0mstate_dict\u001B[0m \u001B[0;34m=\u001B[0m \u001B[0mdict\u001B[0m\u001B[0;34m(\u001B[0m\u001B[0mzip\u001B[0m\u001B[0;34m(\u001B[0m\u001B[0mnp\u001B[0m\u001B[0;34m.\u001B[0m\u001B[0marange\u001B[0m\u001B[0;34m(\u001B[0m\u001B[0;36m1\u001B[0m\u001B[0;34m,\u001B[0m \u001B[0;36m10\u001B[0m\u001B[0;34m,\u001B[0m \u001B[0;36m1\u001B[0m\u001B[0;34m)\u001B[0m\u001B[0;34m,\u001B[0m \u001B[0;34m[\u001B[0m\u001B[0;34m'NH'\u001B[0m\u001B[0;34m,\u001B[0m \u001B[0;34m'MA'\u001B[0m\u001B[0;34m,\u001B[0m \u001B[0;34m'CT'\u001B[0m\u001B[0;34m,\u001B[0m \u001B[0;34m'NY'\u001B[0m\u001B[0;34m,\u001B[0m \u001B[0;34m'NJ'\u001B[0m\u001B[0;34m,\u001B[0m \u001B[0;34m'PA'\u001B[0m\u001B[0;34m,\u001B[0m \u001B[0;34m'DE'\u001B[0m\u001B[0;34m,\u001B[0m \u001B[0;34m'MD'\u001B[0m\u001B[0;34m,\u001B[0m \u001B[0;34m'VA'\u001B[0m\u001B[0;34m]\u001B[0m\u001B[0;34m)\u001B[0m\u001B[0;34m)\u001B[0m\u001B[0;34m\u001B[0m\u001B[0;34m\u001B[0m\u001B[0m\n\u001B[0;32m----> 2\u001B[0;31m \u001B[0mcumulative_matching_const\u001B[0m\u001B[0;34m[\u001B[0m\u001B[0;34m'state'\u001B[0m\u001B[0;34m]\u001B[0m \u001B[0;34m=\u001B[0m \u001B[0mcumulative_matching_const\u001B[0m\u001B[0;34m[\u001B[0m\u001B[0;34m'state'\u001B[0m\u001B[0;34m]\u001B[0m\u001B[0;34m.\u001B[0m\u001B[0mapply\u001B[0m\u001B[0;34m(\u001B[0m\u001B[0;32mlambda\u001B[0m \u001B[0mx\u001B[0m\u001B[0;34m:\u001B[0m \u001B[0mstate_dict\u001B[0m\u001B[0;34m[\u001B[0m\u001B[0mx\u001B[0m\u001B[0;34m]\u001B[0m\u001B[0;34m)\u001B[0m\u001B[0;34m\u001B[0m\u001B[0;34m\u001B[0m\u001B[0m\n\u001B[0m\u001B[1;32m      3\u001B[0m \u001B[0mcumulative_matching_const\u001B[0m\u001B[0;34m[\u001B[0m\u001B[0mcumulative_matching_const\u001B[0m\u001B[0;34m[\u001B[0m\u001B[0;34m'Scores'\u001B[0m\u001B[0;34m]\u001B[0m \u001B[0;34m!=\u001B[0m \u001B[0;36m100\u001B[0m\u001B[0;34m]\u001B[0m\u001B[0;34m\u001B[0m\u001B[0;34m\u001B[0m\u001B[0m\n",
      "\u001B[0;32m/usr/local/lib/python3.9/site-packages/pandas/core/series.py\u001B[0m in \u001B[0;36mapply\u001B[0;34m(self, func, convert_dtype, args, **kwargs)\u001B[0m\n\u001B[1;32m   4431\u001B[0m         \u001B[0mdtype\u001B[0m\u001B[0;34m:\u001B[0m \u001B[0mfloat64\u001B[0m\u001B[0;34m\u001B[0m\u001B[0;34m\u001B[0m\u001B[0m\n\u001B[1;32m   4432\u001B[0m         \"\"\"\n\u001B[0;32m-> 4433\u001B[0;31m         \u001B[0;32mreturn\u001B[0m \u001B[0mSeriesApply\u001B[0m\u001B[0;34m(\u001B[0m\u001B[0mself\u001B[0m\u001B[0;34m,\u001B[0m \u001B[0mfunc\u001B[0m\u001B[0;34m,\u001B[0m \u001B[0mconvert_dtype\u001B[0m\u001B[0;34m,\u001B[0m \u001B[0margs\u001B[0m\u001B[0;34m,\u001B[0m \u001B[0mkwargs\u001B[0m\u001B[0;34m)\u001B[0m\u001B[0;34m.\u001B[0m\u001B[0mapply\u001B[0m\u001B[0;34m(\u001B[0m\u001B[0;34m)\u001B[0m\u001B[0;34m\u001B[0m\u001B[0;34m\u001B[0m\u001B[0m\n\u001B[0m\u001B[1;32m   4434\u001B[0m \u001B[0;34m\u001B[0m\u001B[0m\n\u001B[1;32m   4435\u001B[0m     def _reduce(\n",
      "\u001B[0;32m/usr/local/lib/python3.9/site-packages/pandas/core/apply.py\u001B[0m in \u001B[0;36mapply\u001B[0;34m(self)\u001B[0m\n\u001B[1;32m   1080\u001B[0m             \u001B[0;32mreturn\u001B[0m \u001B[0mself\u001B[0m\u001B[0;34m.\u001B[0m\u001B[0mapply_str\u001B[0m\u001B[0;34m(\u001B[0m\u001B[0;34m)\u001B[0m\u001B[0;34m\u001B[0m\u001B[0;34m\u001B[0m\u001B[0m\n\u001B[1;32m   1081\u001B[0m \u001B[0;34m\u001B[0m\u001B[0m\n\u001B[0;32m-> 1082\u001B[0;31m         \u001B[0;32mreturn\u001B[0m \u001B[0mself\u001B[0m\u001B[0;34m.\u001B[0m\u001B[0mapply_standard\u001B[0m\u001B[0;34m(\u001B[0m\u001B[0;34m)\u001B[0m\u001B[0;34m\u001B[0m\u001B[0;34m\u001B[0m\u001B[0m\n\u001B[0m\u001B[1;32m   1083\u001B[0m \u001B[0;34m\u001B[0m\u001B[0m\n\u001B[1;32m   1084\u001B[0m     \u001B[0;32mdef\u001B[0m \u001B[0magg\u001B[0m\u001B[0;34m(\u001B[0m\u001B[0mself\u001B[0m\u001B[0;34m)\u001B[0m\u001B[0;34m:\u001B[0m\u001B[0;34m\u001B[0m\u001B[0;34m\u001B[0m\u001B[0m\n",
      "\u001B[0;32m/usr/local/lib/python3.9/site-packages/pandas/core/apply.py\u001B[0m in \u001B[0;36mapply_standard\u001B[0;34m(self)\u001B[0m\n\u001B[1;32m   1135\u001B[0m                 \u001B[0;31m# List[Union[Callable[..., Any], str]]]]]\"; expected\u001B[0m\u001B[0;34m\u001B[0m\u001B[0;34m\u001B[0m\u001B[0;34m\u001B[0m\u001B[0m\n\u001B[1;32m   1136\u001B[0m                 \u001B[0;31m# \"Callable[[Any], Any]\"\u001B[0m\u001B[0;34m\u001B[0m\u001B[0;34m\u001B[0m\u001B[0;34m\u001B[0m\u001B[0m\n\u001B[0;32m-> 1137\u001B[0;31m                 mapped = lib.map_infer(\n\u001B[0m\u001B[1;32m   1138\u001B[0m                     \u001B[0mvalues\u001B[0m\u001B[0;34m,\u001B[0m\u001B[0;34m\u001B[0m\u001B[0;34m\u001B[0m\u001B[0m\n\u001B[1;32m   1139\u001B[0m                     \u001B[0mf\u001B[0m\u001B[0;34m,\u001B[0m  \u001B[0;31m# type: ignore[arg-type]\u001B[0m\u001B[0;34m\u001B[0m\u001B[0;34m\u001B[0m\u001B[0m\n",
      "\u001B[0;32mpandas/_libs/lib.pyx\u001B[0m in \u001B[0;36mpandas._libs.lib.map_infer\u001B[0;34m()\u001B[0m\n",
      "\u001B[0;32m/var/folders/5s/dvrxt95949x1pm_sjxm85lj00000gn/T/ipykernel_43490/4232358098.py\u001B[0m in \u001B[0;36m<lambda>\u001B[0;34m(x)\u001B[0m\n\u001B[1;32m      1\u001B[0m \u001B[0mstate_dict\u001B[0m \u001B[0;34m=\u001B[0m \u001B[0mdict\u001B[0m\u001B[0;34m(\u001B[0m\u001B[0mzip\u001B[0m\u001B[0;34m(\u001B[0m\u001B[0mnp\u001B[0m\u001B[0;34m.\u001B[0m\u001B[0marange\u001B[0m\u001B[0;34m(\u001B[0m\u001B[0;36m1\u001B[0m\u001B[0;34m,\u001B[0m \u001B[0;36m10\u001B[0m\u001B[0;34m,\u001B[0m \u001B[0;36m1\u001B[0m\u001B[0;34m)\u001B[0m\u001B[0;34m,\u001B[0m \u001B[0;34m[\u001B[0m\u001B[0;34m'NH'\u001B[0m\u001B[0;34m,\u001B[0m \u001B[0;34m'MA'\u001B[0m\u001B[0;34m,\u001B[0m \u001B[0;34m'CT'\u001B[0m\u001B[0;34m,\u001B[0m \u001B[0;34m'NY'\u001B[0m\u001B[0;34m,\u001B[0m \u001B[0;34m'NJ'\u001B[0m\u001B[0;34m,\u001B[0m \u001B[0;34m'PA'\u001B[0m\u001B[0;34m,\u001B[0m \u001B[0;34m'DE'\u001B[0m\u001B[0;34m,\u001B[0m \u001B[0;34m'MD'\u001B[0m\u001B[0;34m,\u001B[0m \u001B[0;34m'VA'\u001B[0m\u001B[0;34m]\u001B[0m\u001B[0;34m)\u001B[0m\u001B[0;34m)\u001B[0m\u001B[0;34m\u001B[0m\u001B[0;34m\u001B[0m\u001B[0m\n\u001B[0;32m----> 2\u001B[0;31m \u001B[0mcumulative_matching_const\u001B[0m\u001B[0;34m[\u001B[0m\u001B[0;34m'state'\u001B[0m\u001B[0;34m]\u001B[0m \u001B[0;34m=\u001B[0m \u001B[0mcumulative_matching_const\u001B[0m\u001B[0;34m[\u001B[0m\u001B[0;34m'state'\u001B[0m\u001B[0;34m]\u001B[0m\u001B[0;34m.\u001B[0m\u001B[0mapply\u001B[0m\u001B[0;34m(\u001B[0m\u001B[0;32mlambda\u001B[0m \u001B[0mx\u001B[0m\u001B[0;34m:\u001B[0m \u001B[0mstate_dict\u001B[0m\u001B[0;34m[\u001B[0m\u001B[0mx\u001B[0m\u001B[0;34m]\u001B[0m\u001B[0;34m)\u001B[0m\u001B[0;34m\u001B[0m\u001B[0;34m\u001B[0m\u001B[0m\n\u001B[0m\u001B[1;32m      3\u001B[0m \u001B[0mcumulative_matching_const\u001B[0m\u001B[0;34m[\u001B[0m\u001B[0mcumulative_matching_const\u001B[0m\u001B[0;34m[\u001B[0m\u001B[0;34m'Scores'\u001B[0m\u001B[0;34m]\u001B[0m \u001B[0;34m!=\u001B[0m \u001B[0;36m100\u001B[0m\u001B[0;34m]\u001B[0m\u001B[0;34m\u001B[0m\u001B[0;34m\u001B[0m\u001B[0m\n",
      "\u001B[0;31mKeyError\u001B[0m: 'PA'"
     ]
    }
   ],
   "source": [
    "state_dict = dict(zip(np.arange(1, 10, 1), ['NH', 'MA', 'CT', 'NY', 'NJ', 'PA', 'DE', 'MD', 'VA']))\n",
    "cumulative_matching_const['state'] = cumulative_matching_const['state'].apply(lambda x: state_dict[x])"
   ],
   "metadata": {
    "collapsed": false,
    "pycharm": {
     "name": "#%%\n"
    }
   }
  },
  {
   "cell_type": "code",
   "execution_count": 47,
   "outputs": [
    {
     "data": {
      "text/plain": "                 Delegates       Loan Matches     Scores state        match\n40      William C. Houston  William C. Huston  97.142857    NJ  Loan Office\n42        William Paterson  William Palterson  96.969697    NJ  Loan Office\n44        William Paterson  William Patterson  96.969697    PA  Loan Office\n46         Oliver Elsworth   Oliver Ellsworth  96.774194    CT  Loan Office\n48          William Blount      William Blunt  96.296296    VA  Loan Office\n50           David Brearly     David Brearley  96.296296    NJ  Loan Office\n52          John F. Mercer        John Mercer  95.000000    MD  Loan Office\n54       William L. Pierce     William Pierce  95.000000    PA  Loan Office\n56     Gunning Bedford Jr.    Gunning Bedford  95.000000    PA  Loan Office\n57     Gunning Bedford Jr.    Gunning Bedford  95.000000    DE  Loan Office\n58  William Samuel Johnson    William Johnson  95.000000    DE  Loan Office\n59  William Samuel Johnson    William Johnson  95.000000    MD  Loan Office",
      "text/html": "<div>\n<style scoped>\n    .dataframe tbody tr th:only-of-type {\n        vertical-align: middle;\n    }\n\n    .dataframe tbody tr th {\n        vertical-align: top;\n    }\n\n    .dataframe thead th {\n        text-align: right;\n    }\n</style>\n<table border=\"1\" class=\"dataframe\">\n  <thead>\n    <tr style=\"text-align: right;\">\n      <th></th>\n      <th>Delegates</th>\n      <th>Loan Matches</th>\n      <th>Scores</th>\n      <th>state</th>\n      <th>match</th>\n    </tr>\n  </thead>\n  <tbody>\n    <tr>\n      <th>40</th>\n      <td>William C. Houston</td>\n      <td>William C. Huston</td>\n      <td>97.142857</td>\n      <td>NJ</td>\n      <td>Loan Office</td>\n    </tr>\n    <tr>\n      <th>42</th>\n      <td>William Paterson</td>\n      <td>William Palterson</td>\n      <td>96.969697</td>\n      <td>NJ</td>\n      <td>Loan Office</td>\n    </tr>\n    <tr>\n      <th>44</th>\n      <td>William Paterson</td>\n      <td>William Patterson</td>\n      <td>96.969697</td>\n      <td>PA</td>\n      <td>Loan Office</td>\n    </tr>\n    <tr>\n      <th>46</th>\n      <td>Oliver Elsworth</td>\n      <td>Oliver Ellsworth</td>\n      <td>96.774194</td>\n      <td>CT</td>\n      <td>Loan Office</td>\n    </tr>\n    <tr>\n      <th>48</th>\n      <td>William Blount</td>\n      <td>William Blunt</td>\n      <td>96.296296</td>\n      <td>VA</td>\n      <td>Loan Office</td>\n    </tr>\n    <tr>\n      <th>50</th>\n      <td>David Brearly</td>\n      <td>David Brearley</td>\n      <td>96.296296</td>\n      <td>NJ</td>\n      <td>Loan Office</td>\n    </tr>\n    <tr>\n      <th>52</th>\n      <td>John F. Mercer</td>\n      <td>John Mercer</td>\n      <td>95.000000</td>\n      <td>MD</td>\n      <td>Loan Office</td>\n    </tr>\n    <tr>\n      <th>54</th>\n      <td>William L. Pierce</td>\n      <td>William Pierce</td>\n      <td>95.000000</td>\n      <td>PA</td>\n      <td>Loan Office</td>\n    </tr>\n    <tr>\n      <th>56</th>\n      <td>Gunning Bedford Jr.</td>\n      <td>Gunning Bedford</td>\n      <td>95.000000</td>\n      <td>PA</td>\n      <td>Loan Office</td>\n    </tr>\n    <tr>\n      <th>57</th>\n      <td>Gunning Bedford Jr.</td>\n      <td>Gunning Bedford</td>\n      <td>95.000000</td>\n      <td>DE</td>\n      <td>Loan Office</td>\n    </tr>\n    <tr>\n      <th>58</th>\n      <td>William Samuel Johnson</td>\n      <td>William Johnson</td>\n      <td>95.000000</td>\n      <td>DE</td>\n      <td>Loan Office</td>\n    </tr>\n    <tr>\n      <th>59</th>\n      <td>William Samuel Johnson</td>\n      <td>William Johnson</td>\n      <td>95.000000</td>\n      <td>MD</td>\n      <td>Loan Office</td>\n    </tr>\n  </tbody>\n</table>\n</div>"
     },
     "execution_count": 47,
     "metadata": {},
     "output_type": "execute_result"
    }
   ],
   "source": [
    "cumulative_matching_const[cumulative_matching_const['Scores'] != 100]"
   ],
   "metadata": {
    "collapsed": false,
    "pycharm": {
     "name": "#%%\n"
    }
   }
  },
  {
   "cell_type": "markdown",
   "source": [
    "* Keep in mind that many individuals bought PA certificates, even if they were not PA residents\n",
    "Notes\n",
    "1. Same middle name, loan office state matches delegate state - confident about match\n",
    "2. No William Palterson's, states match - confident\n",
    "3. There are many William Patterson's (uncertain if match)\n",
    "4. 2 Oliver Ellsworth's but fairly confident ours is a match\n",
    "5. William Blunt's exist in NY - this William Blunt is in VA, and our William Blount is from NC (likely not a match)\n",
    "6. Loan office state matches delegate state - confident about match\n",
    "7. Many John Mercer's but same state (likely a match)\n",
    "8. Many William Pierce's, no state match\n",
    "9. Gunning Bedford match\n",
    "10. William Samuel Johnson - many William Johnson's, not a match"
   ],
   "metadata": {
    "collapsed": false,
    "pycharm": {
     "name": "#%% md\n"
    }
   }
  },
  {
   "cell_type": "markdown",
   "metadata": {
    "pycharm": {
     "name": "#%% md\n"
    }
   },
   "source": [
    "# Pierce Certificates\n",
    "\n",
    "What's the likelihood an individual received Pierce Certificates from two states\n"
   ]
  },
  {
   "cell_type": "code",
   "execution_count": 75,
   "metadata": {
    "pycharm": {
     "name": "#%%\n"
    }
   },
   "outputs": [
    {
     "name": "stderr",
     "output_type": "stream",
     "text": [
      "/var/folders/5s/dvrxt95949x1pm_sjxm85lj00000gn/T/ipykernel_43490/3956700345.py:2: DtypeWarning: Columns (1) have mixed types. Specify dtype option on import or set low_memory=False.\n",
      "  pierce = pd.read_csv(\"../Data/Pre1790/Cleaned/Pierce_Certs_cleaned_2021.csv\", index_col = 0)\n"
     ]
    }
   ],
   "source": [
    "#prepare pierce certificates\n",
    "pierce = pd.read_csv(\"../Data/Pre1790/Cleaned/Pierce_Certs_cleaned_2021.csv\", index_col = 0)\n",
    "\n",
    "#create full name\n",
    "pierce['full name 1'] = pierce['First'] + \" \" + pierce['Last']\n",
    "pierce['full name 2'] = pierce['First 2'] + \" \" + pierce['Last 2']"
   ]
  },
  {
   "cell_type": "code",
   "execution_count": 77,
   "metadata": {
    "pycharm": {
     "name": "#%%\n"
    }
   },
   "outputs": [
    {
     "name": "stderr",
     "output_type": "stream",
     "text": [
      "/var/folders/5s/dvrxt95949x1pm_sjxm85lj00000gn/T/ipykernel_43490/1685944764.py:22: SettingWithCopyWarning: \n",
      "A value is trying to be set on a copy of a slice from a DataFrame\n",
      "\n",
      "See the caveats in the documentation: https://pandas.pydata.org/pandas-docs/stable/user_guide/indexing.html#returning-a-view-versus-a-copy\n",
      "  join_df_p2_final.sort_values(by = 'Scores', ascending = False, inplace = True)\n",
      "/var/folders/5s/dvrxt95949x1pm_sjxm85lj00000gn/T/ipykernel_43490/1685944764.py:22: SettingWithCopyWarning: \n",
      "A value is trying to be set on a copy of a slice from a DataFrame\n",
      "\n",
      "See the caveats in the documentation: https://pandas.pydata.org/pandas-docs/stable/user_guide/indexing.html#returning-a-view-versus-a-copy\n",
      "  join_df_p2_final.sort_values(by = 'Scores', ascending = False, inplace = True)\n"
     ]
    }
   ],
   "source": [
    "#name matching for constitutional convention and state convention to debt list\n",
    "pierce_const = produceMatches(delegates, pierce, delegate_names = ['full name 1', 'full name 2'], debt_names = ['full name 1', 'full name 2'])\n",
    "pierce_state = produceMatches(state_delegates, pierce, delegate_names = ['full name 1'], debt_names = ['full name 1', 'full name 2'])"
   ]
  },
  {
   "cell_type": "code",
   "execution_count": 78,
   "metadata": {
    "pycharm": {
     "name": "#%%\n"
    }
   },
   "outputs": [],
   "source": [
    "def addPierceStates(df):\n",
    "    df['state1'] = df['Loan Matches'].apply(lambda x: \n",
    "                                            list(pierce[pierce['full name 1'] == x]['State'].unique()))\n",
    "    df['state2'] = df['Loan Matches'].apply(lambda x: \n",
    "                                            list(pierce[pierce['full name 2'] == x]['State'].unique()))\n",
    "    df['state'] = [addValues(s1, s2) for s1, s2 in zip(df['state1'], df['state2'])]\n",
    "    df['state'] = df['state'].apply(lambda lst: ['unspecified' if pd.isnull(x) else x for x in lst])\n",
    "\n",
    "    df.drop(['state1', 'state2'], axis = 1, inplace = True)\n",
    "    colnames = ['Delegates','Loan Matches','Scores']\n",
    "    df = pd.concat([df, df['state'].apply(pd.Series)], axis = 1)\n",
    "    colnames1 = colnames.copy()\n",
    "    colnames1.extend(np.arange(len(df.columns)-4))\n",
    "    df = df[colnames1]\n",
    "    colnames.extend(['name'+str(i) for i in np.arange(len(df.columns) - 3)])\n",
    "    df.columns = colnames\n",
    "    df = pd.wide_to_long(df, stubnames = 'name', \n",
    "                         i = ['Delegates','Loan Matches', 'Scores'], \n",
    "                         j = 'Person').reset_index().drop('Person', axis = 1).drop_duplicates()\n",
    "    df = df[df['name'].apply(lambda x: not pd.isnull(x))]\n",
    "    return df"
   ]
  },
  {
   "cell_type": "code",
   "execution_count": 79,
   "metadata": {
    "pycharm": {
     "name": "#%%\n"
    }
   },
   "outputs": [],
   "source": [
    "pierce_const = addPierceStates(pierce_const)\n",
    "pierce_state = addPierceStates(pierce_state)"
   ]
  },
  {
   "cell_type": "code",
   "execution_count": 80,
   "metadata": {
    "pycharm": {
     "name": "#%%\n"
    }
   },
   "outputs": [],
   "source": [
    "pierce_const.rename(columns={\"name\": \"state\"}, inplace = True)\n",
    "pierce_state.rename(columns={\"name\": \"state\"}, inplace = True)"
   ]
  },
  {
   "cell_type": "code",
   "execution_count": 81,
   "outputs": [],
   "source": [
    "#master dataset\n",
    "pierce_const['match'] = 'Pierce'\n",
    "pierce_state['match'] = 'Pierce'"
   ],
   "metadata": {
    "collapsed": false,
    "pycharm": {
     "name": "#%%\n"
    }
   }
  },
  {
   "cell_type": "code",
   "execution_count": 82,
   "metadata": {
    "pycharm": {
     "name": "#%%\n"
    }
   },
   "outputs": [],
   "source": [
    "cumulative_matching_const = pd.concat([cumulative_matching_const, pierce_const]).drop_duplicates()"
   ]
  },
  {
   "cell_type": "code",
   "execution_count": 83,
   "metadata": {
    "pycharm": {
     "name": "#%%\n"
    }
   },
   "outputs": [],
   "source": [
    "cumulative_matching_state = pd.concat([cumulative_matching_state, pierce_state]).drop_duplicates()"
   ]
  },
  {
   "cell_type": "code",
   "execution_count": 93,
   "outputs": [
    {
     "data": {
      "text/plain": "            CN    Last First  Value  Group  \\\n55885  83851.0  Mercer  John   80.0  106.0   \n\n                                          To Whom Issued State  Officer  \\\n55885  Regiment of officers and men paid to different...   NaN      0.0   \n\n      Last 2 First 2 original text  full name 1 full name 2  \n55885    NaN     NaN           NaN  John Mercer         NaN  ",
      "text/html": "<div>\n<style scoped>\n    .dataframe tbody tr th:only-of-type {\n        vertical-align: middle;\n    }\n\n    .dataframe tbody tr th {\n        vertical-align: top;\n    }\n\n    .dataframe thead th {\n        text-align: right;\n    }\n</style>\n<table border=\"1\" class=\"dataframe\">\n  <thead>\n    <tr style=\"text-align: right;\">\n      <th></th>\n      <th>CN</th>\n      <th>Last</th>\n      <th>First</th>\n      <th>Value</th>\n      <th>Group</th>\n      <th>To Whom Issued</th>\n      <th>State</th>\n      <th>Officer</th>\n      <th>Last 2</th>\n      <th>First 2</th>\n      <th>original text</th>\n      <th>full name 1</th>\n      <th>full name 2</th>\n    </tr>\n  </thead>\n  <tbody>\n    <tr>\n      <th>55885</th>\n      <td>83851.0</td>\n      <td>Mercer</td>\n      <td>John</td>\n      <td>80.0</td>\n      <td>106.0</td>\n      <td>Regiment of officers and men paid to different...</td>\n      <td>NaN</td>\n      <td>0.0</td>\n      <td>NaN</td>\n      <td>NaN</td>\n      <td>NaN</td>\n      <td>John Mercer</td>\n      <td>NaN</td>\n    </tr>\n  </tbody>\n</table>\n</div>"
     },
     "execution_count": 93,
     "metadata": {},
     "output_type": "execute_result"
    }
   ],
   "source": [
    "pierce[pierce['full name 1'] == 'John Mercer']"
   ],
   "metadata": {
    "collapsed": false,
    "pycharm": {
     "name": "#%%\n"
    }
   }
  },
  {
   "cell_type": "code",
   "execution_count": 84,
   "outputs": [
    {
     "data": {
      "text/plain": "                  Delegates        Loan Matches     Scores        state  \\\n88          Abraham Baldwin    Abraham Baldwine  96.774194           CT   \n96         Charles Pinckney  Charles C Pinckney  95.000000  unspecified   \n104  William Samuel Johnson     William Johnson  95.000000           CT   \n105  William Samuel Johnson     William Johnson  95.000000  unspecified   \n106  William Samuel Johnson     William Johnson  95.000000           MA   \n107  William Samuel Johnson     William Johnson  95.000000           NJ   \n108  William Samuel Johnson     William Johnson  95.000000           NY   \n109  William Samuel Johnson     William Johnson  95.000000           VA   \n110  William Samuel Johnson     William Johnson  95.000000           MD   \n112        John Lansing Jr.        John Lansing  95.000000  unspecified   \n120          John F. Mercer         John Mercer  95.000000  unspecified   \n128           Luther Martin       Martin Luther  95.000000           CT   \n136       William L. Pierce      William Pierce  95.000000           MA   \n137       William L. Pierce      William Pierce  95.000000           CT   \n138       William L. Pierce      William Pierce  95.000000  unspecified   \n139       William L. Pierce      William Pierce  95.000000           NC   \n144      William C. Houston      William Huston  87.500000           PA   \n152        William R. Davie      William Davies  86.666667           MD   \n\n      match  \n88   Pierce  \n96   Pierce  \n104  Pierce  \n105  Pierce  \n106  Pierce  \n107  Pierce  \n108  Pierce  \n109  Pierce  \n110  Pierce  \n112  Pierce  \n120  Pierce  \n128  Pierce  \n136  Pierce  \n137  Pierce  \n138  Pierce  \n139  Pierce  \n144  Pierce  \n152  Pierce  ",
      "text/html": "<div>\n<style scoped>\n    .dataframe tbody tr th:only-of-type {\n        vertical-align: middle;\n    }\n\n    .dataframe tbody tr th {\n        vertical-align: top;\n    }\n\n    .dataframe thead th {\n        text-align: right;\n    }\n</style>\n<table border=\"1\" class=\"dataframe\">\n  <thead>\n    <tr style=\"text-align: right;\">\n      <th></th>\n      <th>Delegates</th>\n      <th>Loan Matches</th>\n      <th>Scores</th>\n      <th>state</th>\n      <th>match</th>\n    </tr>\n  </thead>\n  <tbody>\n    <tr>\n      <th>88</th>\n      <td>Abraham Baldwin</td>\n      <td>Abraham Baldwine</td>\n      <td>96.774194</td>\n      <td>CT</td>\n      <td>Pierce</td>\n    </tr>\n    <tr>\n      <th>96</th>\n      <td>Charles Pinckney</td>\n      <td>Charles C Pinckney</td>\n      <td>95.000000</td>\n      <td>unspecified</td>\n      <td>Pierce</td>\n    </tr>\n    <tr>\n      <th>104</th>\n      <td>William Samuel Johnson</td>\n      <td>William Johnson</td>\n      <td>95.000000</td>\n      <td>CT</td>\n      <td>Pierce</td>\n    </tr>\n    <tr>\n      <th>105</th>\n      <td>William Samuel Johnson</td>\n      <td>William Johnson</td>\n      <td>95.000000</td>\n      <td>unspecified</td>\n      <td>Pierce</td>\n    </tr>\n    <tr>\n      <th>106</th>\n      <td>William Samuel Johnson</td>\n      <td>William Johnson</td>\n      <td>95.000000</td>\n      <td>MA</td>\n      <td>Pierce</td>\n    </tr>\n    <tr>\n      <th>107</th>\n      <td>William Samuel Johnson</td>\n      <td>William Johnson</td>\n      <td>95.000000</td>\n      <td>NJ</td>\n      <td>Pierce</td>\n    </tr>\n    <tr>\n      <th>108</th>\n      <td>William Samuel Johnson</td>\n      <td>William Johnson</td>\n      <td>95.000000</td>\n      <td>NY</td>\n      <td>Pierce</td>\n    </tr>\n    <tr>\n      <th>109</th>\n      <td>William Samuel Johnson</td>\n      <td>William Johnson</td>\n      <td>95.000000</td>\n      <td>VA</td>\n      <td>Pierce</td>\n    </tr>\n    <tr>\n      <th>110</th>\n      <td>William Samuel Johnson</td>\n      <td>William Johnson</td>\n      <td>95.000000</td>\n      <td>MD</td>\n      <td>Pierce</td>\n    </tr>\n    <tr>\n      <th>112</th>\n      <td>John Lansing Jr.</td>\n      <td>John Lansing</td>\n      <td>95.000000</td>\n      <td>unspecified</td>\n      <td>Pierce</td>\n    </tr>\n    <tr>\n      <th>120</th>\n      <td>John F. Mercer</td>\n      <td>John Mercer</td>\n      <td>95.000000</td>\n      <td>unspecified</td>\n      <td>Pierce</td>\n    </tr>\n    <tr>\n      <th>128</th>\n      <td>Luther Martin</td>\n      <td>Martin Luther</td>\n      <td>95.000000</td>\n      <td>CT</td>\n      <td>Pierce</td>\n    </tr>\n    <tr>\n      <th>136</th>\n      <td>William L. Pierce</td>\n      <td>William Pierce</td>\n      <td>95.000000</td>\n      <td>MA</td>\n      <td>Pierce</td>\n    </tr>\n    <tr>\n      <th>137</th>\n      <td>William L. Pierce</td>\n      <td>William Pierce</td>\n      <td>95.000000</td>\n      <td>CT</td>\n      <td>Pierce</td>\n    </tr>\n    <tr>\n      <th>138</th>\n      <td>William L. Pierce</td>\n      <td>William Pierce</td>\n      <td>95.000000</td>\n      <td>unspecified</td>\n      <td>Pierce</td>\n    </tr>\n    <tr>\n      <th>139</th>\n      <td>William L. Pierce</td>\n      <td>William Pierce</td>\n      <td>95.000000</td>\n      <td>NC</td>\n      <td>Pierce</td>\n    </tr>\n    <tr>\n      <th>144</th>\n      <td>William C. Houston</td>\n      <td>William Huston</td>\n      <td>87.500000</td>\n      <td>PA</td>\n      <td>Pierce</td>\n    </tr>\n    <tr>\n      <th>152</th>\n      <td>William R. Davie</td>\n      <td>William Davies</td>\n      <td>86.666667</td>\n      <td>MD</td>\n      <td>Pierce</td>\n    </tr>\n  </tbody>\n</table>\n</div>"
     },
     "execution_count": 84,
     "metadata": {},
     "output_type": "execute_result"
    }
   ],
   "source": [
    "pierce_const[pierce_const['Scores'] != 100]"
   ],
   "metadata": {
    "collapsed": false,
    "pycharm": {
     "name": "#%%\n"
    }
   }
  },
  {
   "cell_type": "markdown",
   "source": [
    "### Notes\n",
    "1. Likely match - Baldwine doesn't exist, Baldwin fought in the war\n",
    "2. Should match to Charles C. Pinckney\n",
    "3. William Samuel Johnson does not match to William Johnson\n",
    "4. John Lansing Jr. is a likely match\n",
    "5. John Mercer is likely a match\n",
    "6. Luther Martin is likely not a match\n",
    "7. William Pierce should match to Virginia (unspecified??) - others are not matches\n",
    "8. William Huston is not a match\n",
    "9. William Davies is not a match"
   ],
   "metadata": {
    "collapsed": false,
    "pycharm": {
     "name": "#%% md\n"
    }
   }
  },
  {
   "cell_type": "markdown",
   "metadata": {
    "pycharm": {
     "name": "#%% md\n"
    }
   },
   "source": [
    "# Marine Certificates"
   ]
  },
  {
   "cell_type": "code",
   "execution_count": 300,
   "metadata": {
    "pycharm": {
     "name": "#%%\n"
    }
   },
   "outputs": [],
   "source": [
    "#prepare pierce certificates\n",
    "marine = pd.read_csv(\"../Data/Pre1790/Cleaned/Marine_Liquidated_Debt_Certificates_cleaned.csv\").drop('Unnamed: 0', axis = 1)\n",
    "#create full name\n",
    "marine['full name 1'] = marine['First name'] + \" \" + marine['Last name']\n",
    "marine['full name 2'] = marine['first name 2'] + \" \" + marine['last name 2']"
   ]
  },
  {
   "cell_type": "code",
   "execution_count": 301,
   "metadata": {
    "pycharm": {
     "name": "#%%\n"
    }
   },
   "outputs": [
    {
     "name": "stderr",
     "output_type": "stream",
     "text": [
      "/opt/anaconda3/lib/python3.7/site-packages/ipykernel_launcher.py:28: FutureWarning: Sorting because non-concatenation axis is not aligned. A future version\n",
      "of pandas will change to not sort by default.\n",
      "\n",
      "To accept the future behavior, pass 'sort=False'.\n",
      "\n",
      "To retain the current behavior and silence the warning, pass 'sort=True'.\n",
      "\n",
      "/opt/anaconda3/lib/python3.7/site-packages/ipykernel_launcher.py:22: FutureWarning: Sorting because non-concatenation axis is not aligned. A future version\n",
      "of pandas will change to not sort by default.\n",
      "\n",
      "To accept the future behavior, pass 'sort=False'.\n",
      "\n",
      "To retain the current behavior and silence the warning, pass 'sort=True'.\n",
      "\n",
      "/opt/anaconda3/lib/python3.7/site-packages/ipykernel_launcher.py:21: SettingWithCopyWarning: \n",
      "A value is trying to be set on a copy of a slice from a DataFrame\n",
      "\n",
      "See the caveats in the documentation: http://pandas.pydata.org/pandas-docs/stable/user_guide/indexing.html#returning-a-view-versus-a-copy\n"
     ]
    }
   ],
   "source": [
    "#name matching for constitutional convention and state convention to debt list\n",
    "marine_const = produceMatches(delegates, marine, delegate_names = ['full name 1', 'full name 2'], debt_names = ['full name 1', 'full name 2'])\n",
    "marine_state = produceMatches(state_delegates, marine, delegate_names = ['full name 1'], debt_names = ['full name 1', 'full name 2'])"
   ]
  },
  {
   "cell_type": "code",
   "execution_count": 302,
   "metadata": {
    "pycharm": {
     "name": "#%%\n"
    }
   },
   "outputs": [],
   "source": [
    "marine_const['state'] = 'Marine'\n",
    "marine_state['state'] = 'Marine'"
   ]
  },
  {
   "cell_type": "code",
   "execution_count": 303,
   "metadata": {
    "pycharm": {
     "name": "#%%\n"
    }
   },
   "outputs": [],
   "source": [
    "cumulative_matching_const = pd.concat([cumulative_matching_const, marine_const]).drop_duplicates()"
   ]
  },
  {
   "cell_type": "code",
   "execution_count": 304,
   "metadata": {
    "pycharm": {
     "name": "#%%\n"
    }
   },
   "outputs": [],
   "source": [
    "cumulative_matching_state = pd.concat([cumulative_matching_state, marine_state]).drop_duplicates()"
   ]
  },
  {
   "cell_type": "markdown",
   "source": [
    "# Liquidated Debt Certificates"
   ],
   "metadata": {
    "collapsed": false,
    "pycharm": {
     "name": "#%% md\n"
    }
   }
  },
  {
   "cell_type": "markdown",
   "metadata": {
    "pycharm": {
     "name": "#%% md\n"
    }
   },
   "source": [
    "# Connecticut"
   ]
  },
  {
   "cell_type": "code",
   "execution_count": 305,
   "metadata": {
    "pycharm": {
     "name": "#%%\n"
    }
   },
   "outputs": [],
   "source": [
    "#Read in file\n",
    "CT = pd.read_csv(\"../Data/Pre1790/Cleaned/liquidated_debt_certificates_CT_cleaned.csv\").drop('Unnamed: 0', axis = 1)\n",
    "\n",
    "#create full name\n",
    "CT['full name 1'] = CT['First name'] + \" \" + CT['Last name']\n",
    "CT['full name 2'] = CT['First name 2'] + \" \" + CT['Last name 2']"
   ]
  },
  {
   "cell_type": "code",
   "execution_count": 306,
   "metadata": {
    "pycharm": {
     "name": "#%%\n"
    }
   },
   "outputs": [
    {
     "name": "stderr",
     "output_type": "stream",
     "text": [
      "/opt/anaconda3/lib/python3.7/site-packages/ipykernel_launcher.py:28: FutureWarning: Sorting because non-concatenation axis is not aligned. A future version\n",
      "of pandas will change to not sort by default.\n",
      "\n",
      "To accept the future behavior, pass 'sort=False'.\n",
      "\n",
      "To retain the current behavior and silence the warning, pass 'sort=True'.\n",
      "\n",
      "/opt/anaconda3/lib/python3.7/site-packages/ipykernel_launcher.py:22: FutureWarning: Sorting because non-concatenation axis is not aligned. A future version\n",
      "of pandas will change to not sort by default.\n",
      "\n",
      "To accept the future behavior, pass 'sort=False'.\n",
      "\n",
      "To retain the current behavior and silence the warning, pass 'sort=True'.\n",
      "\n",
      "/opt/anaconda3/lib/python3.7/site-packages/ipykernel_launcher.py:21: SettingWithCopyWarning: \n",
      "A value is trying to be set on a copy of a slice from a DataFrame\n",
      "\n",
      "See the caveats in the documentation: http://pandas.pydata.org/pandas-docs/stable/user_guide/indexing.html#returning-a-view-versus-a-copy\n"
     ]
    }
   ],
   "source": [
    "#name matching for constitutional convention and state convention to debt list\n",
    "CT_const = produceMatches(delegates, CT, delegate_names = ['full name 1', 'full name 2'], debt_names = ['full name 1', 'full name 2'])\n",
    "CT_state = produceMatches(state_delegates, CT, delegate_names = ['full name 1'], debt_names = ['full name 1', 'full name 2'])"
   ]
  },
  {
   "cell_type": "code",
   "execution_count": 307,
   "metadata": {
    "pycharm": {
     "name": "#%%\n"
    }
   },
   "outputs": [],
   "source": [
    "CT_const['state'] = 'CT'\n",
    "CT_state['state'] = 'CT'"
   ]
  },
  {
   "cell_type": "code",
   "execution_count": 308,
   "metadata": {
    "pycharm": {
     "name": "#%%\n"
    }
   },
   "outputs": [],
   "source": [
    "cumulative_matching_const = pd.concat([cumulative_matching_const, CT_const]).drop_duplicates()"
   ]
  },
  {
   "cell_type": "code",
   "execution_count": 309,
   "metadata": {
    "pycharm": {
     "name": "#%%\n"
    }
   },
   "outputs": [],
   "source": [
    "cumulative_matching_state = pd.concat([cumulative_matching_state, CT_state]).drop_duplicates()"
   ]
  },
  {
   "cell_type": "markdown",
   "metadata": {
    "pycharm": {
     "name": "#%% md\n"
    }
   },
   "source": [
    "# Delaware"
   ]
  },
  {
   "cell_type": "code",
   "execution_count": 310,
   "metadata": {
    "pycharm": {
     "name": "#%%\n"
    }
   },
   "outputs": [],
   "source": [
    "#Read in file\n",
    "DE = pd.read_csv(\"../Data/Pre1790/Cleaned/liquidated_debt_certificates_DE_cleaned.csv\").drop('Unnamed: 0', axis = 1)\n",
    "\n",
    "#create full name\n",
    "DE['full name 1'] = DE['First name'] + \" \" + DE['Last name']\n",
    "DE['full name 2'] = DE['First name 2'] + \" \" + DE['Last name 2']"
   ]
  },
  {
   "cell_type": "code",
   "execution_count": 311,
   "metadata": {
    "pycharm": {
     "name": "#%%\n"
    }
   },
   "outputs": [
    {
     "name": "stderr",
     "output_type": "stream",
     "text": [
      "/opt/anaconda3/lib/python3.7/site-packages/ipykernel_launcher.py:28: FutureWarning: Sorting because non-concatenation axis is not aligned. A future version\n",
      "of pandas will change to not sort by default.\n",
      "\n",
      "To accept the future behavior, pass 'sort=False'.\n",
      "\n",
      "To retain the current behavior and silence the warning, pass 'sort=True'.\n",
      "\n",
      "/opt/anaconda3/lib/python3.7/site-packages/ipykernel_launcher.py:22: FutureWarning: Sorting because non-concatenation axis is not aligned. A future version\n",
      "of pandas will change to not sort by default.\n",
      "\n",
      "To accept the future behavior, pass 'sort=False'.\n",
      "\n",
      "To retain the current behavior and silence the warning, pass 'sort=True'.\n",
      "\n",
      "/opt/anaconda3/lib/python3.7/site-packages/ipykernel_launcher.py:21: SettingWithCopyWarning: \n",
      "A value is trying to be set on a copy of a slice from a DataFrame\n",
      "\n",
      "See the caveats in the documentation: http://pandas.pydata.org/pandas-docs/stable/user_guide/indexing.html#returning-a-view-versus-a-copy\n"
     ]
    }
   ],
   "source": [
    "#name matching for constitutional convention and state convention to debt list\n",
    "DE_const = produceMatches(delegates, DE, delegate_names = ['full name 1', 'full name 2'], debt_names = ['full name 1'])\n",
    "DE_state = produceMatches(state_delegates, DE, delegate_names = ['full name 1'], debt_names = ['full name 1'])"
   ]
  },
  {
   "cell_type": "code",
   "execution_count": 312,
   "metadata": {
    "pycharm": {
     "name": "#%%\n"
    }
   },
   "outputs": [],
   "source": [
    "DE_const['state'] = 'DE'\n",
    "DE_state['state'] = 'DE'"
   ]
  },
  {
   "cell_type": "code",
   "execution_count": 313,
   "metadata": {
    "pycharm": {
     "name": "#%%\n"
    }
   },
   "outputs": [],
   "source": [
    "cumulative_matching_const = pd.concat([cumulative_matching_const, DE_const]).drop_duplicates()"
   ]
  },
  {
   "cell_type": "code",
   "execution_count": 314,
   "metadata": {
    "pycharm": {
     "name": "#%%\n"
    }
   },
   "outputs": [],
   "source": [
    "cumulative_matching_state = pd.concat([cumulative_matching_state, DE_state]).drop_duplicates()"
   ]
  },
  {
   "cell_type": "markdown",
   "metadata": {
    "pycharm": {
     "name": "#%% md\n"
    }
   },
   "source": [
    "# Massachusetts"
   ]
  },
  {
   "cell_type": "code",
   "execution_count": 315,
   "metadata": {
    "pycharm": {
     "name": "#%%\n"
    }
   },
   "outputs": [],
   "source": [
    "#Read in file\n",
    "MA = pd.read_csv(\"../Data/Pre1790/Cleaned/liquidated_debt_certificates_MA_cleaned.csv\").drop('Unnamed: 0', axis = 1)\n",
    "\n",
    "#create full name\n",
    "MA['full name 1'] = MA['First name'] + \" \" + MA['Last name']\n",
    "MA['full name 2'] = MA['First name 2'] + \" \" + MA['Last name 2']"
   ]
  },
  {
   "cell_type": "code",
   "execution_count": 316,
   "metadata": {
    "pycharm": {
     "name": "#%%\n"
    }
   },
   "outputs": [
    {
     "name": "stderr",
     "output_type": "stream",
     "text": [
      "/opt/anaconda3/lib/python3.7/site-packages/ipykernel_launcher.py:28: FutureWarning: Sorting because non-concatenation axis is not aligned. A future version\n",
      "of pandas will change to not sort by default.\n",
      "\n",
      "To accept the future behavior, pass 'sort=False'.\n",
      "\n",
      "To retain the current behavior and silence the warning, pass 'sort=True'.\n",
      "\n",
      "/opt/anaconda3/lib/python3.7/site-packages/ipykernel_launcher.py:22: FutureWarning: Sorting because non-concatenation axis is not aligned. A future version\n",
      "of pandas will change to not sort by default.\n",
      "\n",
      "To accept the future behavior, pass 'sort=False'.\n",
      "\n",
      "To retain the current behavior and silence the warning, pass 'sort=True'.\n",
      "\n",
      "/opt/anaconda3/lib/python3.7/site-packages/ipykernel_launcher.py:21: SettingWithCopyWarning: \n",
      "A value is trying to be set on a copy of a slice from a DataFrame\n",
      "\n",
      "See the caveats in the documentation: http://pandas.pydata.org/pandas-docs/stable/user_guide/indexing.html#returning-a-view-versus-a-copy\n"
     ]
    }
   ],
   "source": [
    "#name matching for constitutional convention and state convention to debt list\n",
    "MA_const = produceMatches(delegates, MA, delegate_names = ['full name 1', 'full name 2'], debt_names = ['full name 1', 'full name 2'])\n",
    "MA_state = produceMatches(state_delegates, MA, delegate_names = ['full name 1'], debt_names = ['full name 1', 'full name 2'])"
   ]
  },
  {
   "cell_type": "code",
   "execution_count": 317,
   "metadata": {
    "pycharm": {
     "name": "#%%\n"
    }
   },
   "outputs": [],
   "source": [
    "MA_const['state'] = 'MA'\n",
    "MA_state['state'] = 'MA'"
   ]
  },
  {
   "cell_type": "code",
   "execution_count": 318,
   "metadata": {
    "pycharm": {
     "name": "#%%\n"
    }
   },
   "outputs": [],
   "source": [
    "cumulative_matching_const = pd.concat([cumulative_matching_const, MA_const]).drop_duplicates()"
   ]
  },
  {
   "cell_type": "code",
   "execution_count": 319,
   "metadata": {
    "pycharm": {
     "name": "#%%\n"
    }
   },
   "outputs": [],
   "source": [
    "cumulative_matching_state = pd.concat([cumulative_matching_state, MA_state]).drop_duplicates()"
   ]
  },
  {
   "cell_type": "markdown",
   "metadata": {
    "pycharm": {
     "name": "#%% md\n"
    }
   },
   "source": [
    "# New Hampshire"
   ]
  },
  {
   "cell_type": "code",
   "execution_count": 320,
   "metadata": {
    "pycharm": {
     "name": "#%%\n"
    }
   },
   "outputs": [],
   "source": [
    "#Read in file\n",
    "NH = pd.read_csv('../Data/Pre1790/cleaned/liquidated_debt_certificates_NH_cleaned.csv').drop('Unnamed: 0', axis = 1)\n",
    "\n",
    "#create full name\n",
    "NH['full name 1'] = NH['First name'] + \" \" + NH['Last name']"
   ]
  },
  {
   "cell_type": "code",
   "execution_count": 321,
   "metadata": {
    "pycharm": {
     "name": "#%%\n"
    }
   },
   "outputs": [
    {
     "name": "stderr",
     "output_type": "stream",
     "text": [
      "/opt/anaconda3/lib/python3.7/site-packages/ipykernel_launcher.py:28: FutureWarning: Sorting because non-concatenation axis is not aligned. A future version\n",
      "of pandas will change to not sort by default.\n",
      "\n",
      "To accept the future behavior, pass 'sort=False'.\n",
      "\n",
      "To retain the current behavior and silence the warning, pass 'sort=True'.\n",
      "\n",
      "/opt/anaconda3/lib/python3.7/site-packages/ipykernel_launcher.py:22: FutureWarning: Sorting because non-concatenation axis is not aligned. A future version\n",
      "of pandas will change to not sort by default.\n",
      "\n",
      "To accept the future behavior, pass 'sort=False'.\n",
      "\n",
      "To retain the current behavior and silence the warning, pass 'sort=True'.\n",
      "\n",
      "/opt/anaconda3/lib/python3.7/site-packages/ipykernel_launcher.py:21: SettingWithCopyWarning: \n",
      "A value is trying to be set on a copy of a slice from a DataFrame\n",
      "\n",
      "See the caveats in the documentation: http://pandas.pydata.org/pandas-docs/stable/user_guide/indexing.html#returning-a-view-versus-a-copy\n"
     ]
    }
   ],
   "source": [
    "#name matching for constitutional convention and state convention to debt list\n",
    "NH_const = produceMatches(delegates, NH, delegate_names = ['full name 1', 'full name 2'], debt_names = ['full name 1'])\n",
    "NH_state = produceMatches(state_delegates, NH, delegate_names = ['full name 1'], debt_names = ['full name 1'])"
   ]
  },
  {
   "cell_type": "code",
   "execution_count": 322,
   "metadata": {
    "pycharm": {
     "name": "#%%\n"
    }
   },
   "outputs": [],
   "source": [
    "NH_const['state'] = 'NH'\n",
    "NH_state['state'] = 'NH'"
   ]
  },
  {
   "cell_type": "code",
   "execution_count": 323,
   "metadata": {
    "pycharm": {
     "name": "#%%\n"
    }
   },
   "outputs": [],
   "source": [
    "cumulative_matching_const = pd.concat([cumulative_matching_const, NH_const]).drop_duplicates()"
   ]
  },
  {
   "cell_type": "code",
   "execution_count": 324,
   "metadata": {
    "pycharm": {
     "name": "#%%\n"
    }
   },
   "outputs": [],
   "source": [
    "cumulative_matching_state = pd.concat([cumulative_matching_state, NH_state]).drop_duplicates()"
   ]
  },
  {
   "cell_type": "markdown",
   "metadata": {
    "pycharm": {
     "name": "#%% md\n"
    }
   },
   "source": [
    "# New Jersey"
   ]
  },
  {
   "cell_type": "code",
   "execution_count": 325,
   "metadata": {
    "pycharm": {
     "name": "#%%\n"
    }
   },
   "outputs": [],
   "source": [
    "#Read in file\n",
    "NJ = pd.read_csv('../Data/Pre1790/cleaned/liquidated_debt_certificates_NJ_cleaned.csv').drop('Unnamed: 0', axis = 1)\n",
    "\n",
    "#create full name\n",
    "NJ['full name 1'] = NJ['First name'] + \" \" + NJ['Last name']\n",
    "NJ['full name 2'] = NJ['First name 2'] + \" \" + NJ['Last name 2']"
   ]
  },
  {
   "cell_type": "code",
   "execution_count": 326,
   "metadata": {
    "pycharm": {
     "name": "#%%\n"
    }
   },
   "outputs": [
    {
     "name": "stderr",
     "output_type": "stream",
     "text": [
      "/opt/anaconda3/lib/python3.7/site-packages/ipykernel_launcher.py:28: FutureWarning: Sorting because non-concatenation axis is not aligned. A future version\n",
      "of pandas will change to not sort by default.\n",
      "\n",
      "To accept the future behavior, pass 'sort=False'.\n",
      "\n",
      "To retain the current behavior and silence the warning, pass 'sort=True'.\n",
      "\n",
      "/opt/anaconda3/lib/python3.7/site-packages/ipykernel_launcher.py:22: FutureWarning: Sorting because non-concatenation axis is not aligned. A future version\n",
      "of pandas will change to not sort by default.\n",
      "\n",
      "To accept the future behavior, pass 'sort=False'.\n",
      "\n",
      "To retain the current behavior and silence the warning, pass 'sort=True'.\n",
      "\n",
      "/opt/anaconda3/lib/python3.7/site-packages/ipykernel_launcher.py:21: SettingWithCopyWarning: \n",
      "A value is trying to be set on a copy of a slice from a DataFrame\n",
      "\n",
      "See the caveats in the documentation: http://pandas.pydata.org/pandas-docs/stable/user_guide/indexing.html#returning-a-view-versus-a-copy\n"
     ]
    }
   ],
   "source": [
    "#name matching for constitutional convention and state convention to debt list\n",
    "NJ_const = produceMatches(delegates, NJ, delegate_names = ['full name 1', 'full name 2'], debt_names = ['full name 1', 'full name 2'])\n",
    "NJ_state = produceMatches(state_delegates, NJ, delegate_names = ['full name 1'], debt_names = ['full name 1', 'full name 2'])"
   ]
  },
  {
   "cell_type": "code",
   "execution_count": 327,
   "metadata": {
    "pycharm": {
     "name": "#%%\n"
    }
   },
   "outputs": [],
   "source": [
    "NJ_const['state'] = 'NJ'\n",
    "NJ_state['state'] = 'NJ'"
   ]
  },
  {
   "cell_type": "code",
   "execution_count": 328,
   "metadata": {
    "pycharm": {
     "name": "#%%\n"
    }
   },
   "outputs": [],
   "source": [
    "cumulative_matching_const = pd.concat([cumulative_matching_const, NJ_const]).drop_duplicates()"
   ]
  },
  {
   "cell_type": "code",
   "execution_count": 329,
   "metadata": {
    "pycharm": {
     "name": "#%%\n"
    }
   },
   "outputs": [],
   "source": [
    "cumulative_matching_state = pd.concat([cumulative_matching_state, NJ_state]).drop_duplicates()"
   ]
  },
  {
   "cell_type": "markdown",
   "metadata": {
    "pycharm": {
     "name": "#%% md\n"
    }
   },
   "source": [
    "# New York"
   ]
  },
  {
   "cell_type": "code",
   "execution_count": 330,
   "metadata": {
    "pycharm": {
     "name": "#%%\n"
    }
   },
   "outputs": [],
   "source": [
    "#Read in file\n",
    "NY = pd.read_csv('../Data/Pre1790/cleaned/liquidated_debt_certificates_NY_cleaned.csv').drop('Unnamed: 0', axis = 1)\n",
    "\n",
    "\n",
    "#create full name\n",
    "NY['full name 1'] = NY['First name'] + \" \" + NY['Last name']\n",
    "NY['full name 2'] = NY['First name 2'] + \" \" + NY['Last name 2']\n",
    "NY['full name 3'] = NY['First name 3'] + \" \" + NY['Last name 3']"
   ]
  },
  {
   "cell_type": "code",
   "execution_count": 331,
   "metadata": {
    "pycharm": {
     "name": "#%%\n"
    }
   },
   "outputs": [
    {
     "name": "stderr",
     "output_type": "stream",
     "text": [
      "/opt/anaconda3/lib/python3.7/site-packages/ipykernel_launcher.py:28: FutureWarning: Sorting because non-concatenation axis is not aligned. A future version\n",
      "of pandas will change to not sort by default.\n",
      "\n",
      "To accept the future behavior, pass 'sort=False'.\n",
      "\n",
      "To retain the current behavior and silence the warning, pass 'sort=True'.\n",
      "\n",
      "/opt/anaconda3/lib/python3.7/site-packages/ipykernel_launcher.py:22: FutureWarning: Sorting because non-concatenation axis is not aligned. A future version\n",
      "of pandas will change to not sort by default.\n",
      "\n",
      "To accept the future behavior, pass 'sort=False'.\n",
      "\n",
      "To retain the current behavior and silence the warning, pass 'sort=True'.\n",
      "\n",
      "/opt/anaconda3/lib/python3.7/site-packages/ipykernel_launcher.py:21: SettingWithCopyWarning: \n",
      "A value is trying to be set on a copy of a slice from a DataFrame\n",
      "\n",
      "See the caveats in the documentation: http://pandas.pydata.org/pandas-docs/stable/user_guide/indexing.html#returning-a-view-versus-a-copy\n"
     ]
    }
   ],
   "source": [
    "#name matching for constitutional convention and state convention to debt list\n",
    "NY_const = produceMatches(delegates, NY, delegate_names = ['full name 1', 'full name 2'], debt_names = ['full name 1', 'full name 2', 'full name 3'])\n",
    "NY_state = produceMatches(state_delegates, NY, delegate_names = ['full name 1'], debt_names = ['full name 1', 'full name 2', 'full name 3'])"
   ]
  },
  {
   "cell_type": "code",
   "execution_count": 332,
   "metadata": {
    "pycharm": {
     "name": "#%%\n"
    }
   },
   "outputs": [],
   "source": [
    "NY_const['state'] = 'NJ'\n",
    "NY_const['state'] = 'NJ'"
   ]
  },
  {
   "cell_type": "code",
   "execution_count": 333,
   "metadata": {
    "pycharm": {
     "name": "#%%\n"
    }
   },
   "outputs": [],
   "source": [
    "cumulative_matching_const = pd.concat([cumulative_matching_const, NY_const]).drop_duplicates()"
   ]
  },
  {
   "cell_type": "code",
   "execution_count": 334,
   "metadata": {
    "pycharm": {
     "name": "#%%\n"
    }
   },
   "outputs": [
    {
     "name": "stderr",
     "output_type": "stream",
     "text": [
      "/opt/anaconda3/lib/python3.7/site-packages/ipykernel_launcher.py:1: FutureWarning: Sorting because non-concatenation axis is not aligned. A future version\n",
      "of pandas will change to not sort by default.\n",
      "\n",
      "To accept the future behavior, pass 'sort=False'.\n",
      "\n",
      "To retain the current behavior and silence the warning, pass 'sort=True'.\n",
      "\n",
      "  \"\"\"Entry point for launching an IPython kernel.\n"
     ]
    }
   ],
   "source": [
    "cumulative_matching_state = pd.concat([cumulative_matching_state, NY_state]).drop_duplicates()"
   ]
  },
  {
   "cell_type": "markdown",
   "metadata": {
    "pycharm": {
     "name": "#%% md\n"
    }
   },
   "source": [
    "# Pennsylvania P1"
   ]
  },
  {
   "cell_type": "code",
   "execution_count": 335,
   "metadata": {
    "pycharm": {
     "name": "#%%\n"
    }
   },
   "outputs": [],
   "source": [
    "#Read in file\n",
    "PA = pd.read_csv('../Data/Pre1790/cleaned/liquidated_debt_certificates_PA_story_cleaned.csv').drop('Unnamed: 0', axis = 1)\n",
    "\n",
    "#create full name\n",
    "PA['full name 1'] = PA['First name'] + \" \" + PA['Last name']"
   ]
  },
  {
   "cell_type": "code",
   "execution_count": 336,
   "metadata": {
    "pycharm": {
     "name": "#%%\n"
    }
   },
   "outputs": [
    {
     "name": "stderr",
     "output_type": "stream",
     "text": [
      "/opt/anaconda3/lib/python3.7/site-packages/ipykernel_launcher.py:28: FutureWarning: Sorting because non-concatenation axis is not aligned. A future version\n",
      "of pandas will change to not sort by default.\n",
      "\n",
      "To accept the future behavior, pass 'sort=False'.\n",
      "\n",
      "To retain the current behavior and silence the warning, pass 'sort=True'.\n",
      "\n",
      "/opt/anaconda3/lib/python3.7/site-packages/ipykernel_launcher.py:22: FutureWarning: Sorting because non-concatenation axis is not aligned. A future version\n",
      "of pandas will change to not sort by default.\n",
      "\n",
      "To accept the future behavior, pass 'sort=False'.\n",
      "\n",
      "To retain the current behavior and silence the warning, pass 'sort=True'.\n",
      "\n",
      "/opt/anaconda3/lib/python3.7/site-packages/ipykernel_launcher.py:21: SettingWithCopyWarning: \n",
      "A value is trying to be set on a copy of a slice from a DataFrame\n",
      "\n",
      "See the caveats in the documentation: http://pandas.pydata.org/pandas-docs/stable/user_guide/indexing.html#returning-a-view-versus-a-copy\n"
     ]
    }
   ],
   "source": [
    "#name matching for constitutional convention and state convention to debt list\n",
    "PA_const = produceMatches(delegates, PA, delegate_names = ['full name 1', 'full name 2'], debt_names = ['full name 1'])\n",
    "PA_state = produceMatches(state_delegates, PA, delegate_names = ['full name 1'], debt_names = ['full name 1'])"
   ]
  },
  {
   "cell_type": "code",
   "execution_count": 337,
   "metadata": {
    "pycharm": {
     "name": "#%%\n"
    }
   },
   "outputs": [],
   "source": [
    "PA_const['state'] = 'PA'\n",
    "PA_state['state'] = 'PA'"
   ]
  },
  {
   "cell_type": "code",
   "execution_count": 338,
   "metadata": {
    "pycharm": {
     "name": "#%%\n"
    }
   },
   "outputs": [],
   "source": [
    "cumulative_matching_const = pd.concat([cumulative_matching_const, PA_const]).drop_duplicates()"
   ]
  },
  {
   "cell_type": "code",
   "execution_count": 339,
   "metadata": {
    "pycharm": {
     "name": "#%%\n"
    }
   },
   "outputs": [],
   "source": [
    "cumulative_matching_state = pd.concat([cumulative_matching_state, PA_state]).drop_duplicates()"
   ]
  },
  {
   "cell_type": "markdown",
   "metadata": {
    "pycharm": {
     "name": "#%% md\n"
    }
   },
   "source": [
    "# Pennsylvania P2"
   ]
  },
  {
   "cell_type": "code",
   "execution_count": 340,
   "metadata": {
    "pycharm": {
     "name": "#%%\n"
    }
   },
   "outputs": [],
   "source": [
    "#Read in file\n",
    "PA2 = pd.read_csv(\"../Data/Pre1790/cleaned/liquidated_debt_certificates_PA_stelle_cleaned.csv\").drop('Unnamed: 0', axis = 1)\n",
    "#create full name\n",
    "PA2['full name 1'] = PA2['First name'] + \" \" + PA2['Last name']\n",
    "PA2['full name 2'] = PA2['First name 2'] + \" \" + PA2['Last name 2']"
   ]
  },
  {
   "cell_type": "code",
   "execution_count": 341,
   "metadata": {
    "pycharm": {
     "name": "#%%\n"
    }
   },
   "outputs": [
    {
     "name": "stderr",
     "output_type": "stream",
     "text": [
      "/opt/anaconda3/lib/python3.7/site-packages/ipykernel_launcher.py:28: FutureWarning: Sorting because non-concatenation axis is not aligned. A future version\n",
      "of pandas will change to not sort by default.\n",
      "\n",
      "To accept the future behavior, pass 'sort=False'.\n",
      "\n",
      "To retain the current behavior and silence the warning, pass 'sort=True'.\n",
      "\n",
      "/opt/anaconda3/lib/python3.7/site-packages/ipykernel_launcher.py:22: FutureWarning: Sorting because non-concatenation axis is not aligned. A future version\n",
      "of pandas will change to not sort by default.\n",
      "\n",
      "To accept the future behavior, pass 'sort=False'.\n",
      "\n",
      "To retain the current behavior and silence the warning, pass 'sort=True'.\n",
      "\n",
      "/opt/anaconda3/lib/python3.7/site-packages/ipykernel_launcher.py:21: SettingWithCopyWarning: \n",
      "A value is trying to be set on a copy of a slice from a DataFrame\n",
      "\n",
      "See the caveats in the documentation: http://pandas.pydata.org/pandas-docs/stable/user_guide/indexing.html#returning-a-view-versus-a-copy\n"
     ]
    }
   ],
   "source": [
    "#name matching for constitutional convention and state convention to debt list\n",
    "PA_const_2 = produceMatches(delegates, PA2, delegate_names = ['full name 1', 'full name 2'], debt_names = ['full name 1', 'full name 2'])\n",
    "PA_state_2 = produceMatches(state_delegates, PA2, delegate_names = ['full name 1'], debt_names = ['full name 1', 'full name 2'])"
   ]
  },
  {
   "cell_type": "code",
   "execution_count": 342,
   "metadata": {
    "pycharm": {
     "name": "#%%\n"
    }
   },
   "outputs": [],
   "source": [
    "PA_const_2['state'] = 'PA'\n",
    "PA_state_2['state'] = 'PA'"
   ]
  },
  {
   "cell_type": "code",
   "execution_count": 343,
   "metadata": {
    "pycharm": {
     "name": "#%%\n"
    }
   },
   "outputs": [],
   "source": [
    "cumulative_matching_const = pd.concat([cumulative_matching_const, PA_const_2]).drop_duplicates()"
   ]
  },
  {
   "cell_type": "code",
   "execution_count": 344,
   "metadata": {
    "pycharm": {
     "name": "#%%\n"
    }
   },
   "outputs": [],
   "source": [
    "cumulative_matching_state = pd.concat([cumulative_matching_state, PA_state_2]).drop_duplicates()"
   ]
  },
  {
   "cell_type": "markdown",
   "metadata": {
    "pycharm": {
     "name": "#%% md\n"
    }
   },
   "source": [
    "# Rhode Island"
   ]
  },
  {
   "cell_type": "code",
   "execution_count": 345,
   "metadata": {
    "pycharm": {
     "name": "#%%\n"
    }
   },
   "outputs": [],
   "source": [
    "#Read in file\n",
    "RI = pd.read_csv(\"../Data/Pre1790/cleaned/liquidated_debt_certificates_RI_cleaned.csv\").drop('Unnamed: 0', axis = 1)\n",
    "#create full name\n",
    "RI['full name 1'] = RI['First name'] + \" \" + RI['Last name']\n",
    "RI['full name 2'] = RI['First name 2'] + \" \" + RI['Last name 2']"
   ]
  },
  {
   "cell_type": "code",
   "execution_count": 346,
   "metadata": {
    "pycharm": {
     "name": "#%%\n"
    }
   },
   "outputs": [
    {
     "name": "stderr",
     "output_type": "stream",
     "text": [
      "/opt/anaconda3/lib/python3.7/site-packages/ipykernel_launcher.py:28: FutureWarning: Sorting because non-concatenation axis is not aligned. A future version\n",
      "of pandas will change to not sort by default.\n",
      "\n",
      "To accept the future behavior, pass 'sort=False'.\n",
      "\n",
      "To retain the current behavior and silence the warning, pass 'sort=True'.\n",
      "\n",
      "/opt/anaconda3/lib/python3.7/site-packages/ipykernel_launcher.py:22: FutureWarning: Sorting because non-concatenation axis is not aligned. A future version\n",
      "of pandas will change to not sort by default.\n",
      "\n",
      "To accept the future behavior, pass 'sort=False'.\n",
      "\n",
      "To retain the current behavior and silence the warning, pass 'sort=True'.\n",
      "\n",
      "/opt/anaconda3/lib/python3.7/site-packages/ipykernel_launcher.py:21: SettingWithCopyWarning: \n",
      "A value is trying to be set on a copy of a slice from a DataFrame\n",
      "\n",
      "See the caveats in the documentation: http://pandas.pydata.org/pandas-docs/stable/user_guide/indexing.html#returning-a-view-versus-a-copy\n"
     ]
    }
   ],
   "source": [
    "#name matching for constitutional convention and state convention to debt list\n",
    "RI_const = produceMatches(delegates, RI, delegate_names = ['full name 1', 'full name 2'], debt_names = ['full name 1', 'full name 2'])\n",
    "RI_state = produceMatches(state_delegates, RI, delegate_names = ['full name 1'], debt_names = ['full name 1', 'full name 2'])"
   ]
  },
  {
   "cell_type": "code",
   "execution_count": 347,
   "metadata": {
    "pycharm": {
     "name": "#%%\n"
    }
   },
   "outputs": [],
   "source": [
    "RI_const['state'] = 'RI'\n",
    "RI_state['state'] = 'RI'"
   ]
  },
  {
   "cell_type": "code",
   "execution_count": 348,
   "metadata": {
    "pycharm": {
     "name": "#%%\n"
    }
   },
   "outputs": [],
   "source": [
    "cumulative_matching_const = pd.concat([cumulative_matching_const, RI_const]).drop_duplicates()"
   ]
  },
  {
   "cell_type": "code",
   "execution_count": 349,
   "metadata": {
    "pycharm": {
     "name": "#%%\n"
    }
   },
   "outputs": [],
   "source": [
    "cumulative_matching_state = pd.concat([cumulative_matching_state, RI_state]).drop_duplicates()"
   ]
  },
  {
   "cell_type": "markdown",
   "metadata": {
    "pycharm": {
     "name": "#%% md\n"
    }
   },
   "source": [
    "# Final Steps"
   ]
  },
  {
   "cell_type": "code",
   "execution_count": 350,
   "metadata": {
    "pycharm": {
     "name": "#%%\n"
    }
   },
   "outputs": [],
   "source": [
    "cum_matching = pd.concat([cumulative_matching_const, cumulative_matching_state]).drop_duplicates()"
   ]
  },
  {
   "cell_type": "code",
   "execution_count": 351,
   "metadata": {
    "pycharm": {
     "name": "#%%\n"
    }
   },
   "outputs": [],
   "source": [
    "cum_matching.to_csv('../Data/final_matching.csv')"
   ]
  }
 ],
 "metadata": {
  "kernelspec": {
   "display_name": "Python 3",
   "language": "python",
   "name": "python3"
  },
  "language_info": {
   "codemirror_mode": {
    "name": "ipython",
    "version": 3
   },
   "file_extension": ".py",
   "mimetype": "text/x-python",
   "name": "python",
   "nbconvert_exporter": "python",
   "pygments_lexer": "ipython3",
   "version": "3.7.4"
  }
 },
 "nbformat": 4,
 "nbformat_minor": 4
}