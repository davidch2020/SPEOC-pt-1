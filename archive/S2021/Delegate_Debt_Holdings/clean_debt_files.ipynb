{
 "cells": [
  {
   "cell_type": "markdown",
   "metadata": {
    "pycharm": {
     "name": "#%% md\n"
    }
   },
   "source": [
    "# CLEANING DELEGATES"
   ]
  },
  {
   "cell_type": "code",
   "execution_count": 1,
   "metadata": {
    "pycharm": {
     "name": "#%%\n"
    }
   },
   "outputs": [],
   "source": [
    "import numpy as np\n",
    "import pandas as pd\n",
    "import re"
   ]
  },
  {
   "cell_type": "code",
   "execution_count": 3,
   "metadata": {
    "pycharm": {
     "name": "#%%\n"
    }
   },
   "outputs": [
    {
     "name": "stdout",
     "output_type": "stream",
     "text": [
      "number of alt first names: 0\n",
      "number of alt last names: 4\n"
     ]
    }
   ],
   "source": [
    "delegates = pd.read_excel(\"../../Data/Delegates/constitutional_convention_1787.xlsx\", header = 2)\n",
    "\n",
    "#cleaning strings for constitutional convention delegates\n",
    "delegates['state'] = [x.strip() for x in delegates['state']]\n",
    "delegates['sign'] = [x.strip() for x in delegates['sign?']]\n",
    "delegates['first name'] = [x.strip() for x in delegates['first name']]\n",
    "delegates['last name'] = [x.strip() for x in delegates['last name']]\n",
    "\n",
    "#might want to separate names with parentheses into last name 1/2\n",
    "sumaltfirst = sum([\"(\" in x for x in delegates['first name']])\n",
    "print(\"number of alt first names:\", sumaltfirst)\n",
    "\n",
    "sumaltlast = sum([\"(\" in x for x in delegates['last name']])\n",
    "print(\"number of alt last names:\", sumaltlast)\n",
    "\n",
    "\n",
    "#construct full names for delegate files\n",
    "delegates['last name 2'] = [np.nan if \"(\" not in x else  x[x.find(\"(\")+1:].replace(\")\",\"\")  for x in delegates['last name']]\n",
    "#handle special case\n",
    "delegates.loc[40, 'last name 2'] = 'Fitzsimmons'\n",
    "\n",
    "delegates['last name'] = delegates['last name'].apply(lambda x: re.sub(r'\\([^)]*\\)', '', x).strip())\n",
    "delegates['full name 1'] = delegates['first name'] + \" \" + delegates['last name']\n",
    "delegates['full name 2'] = delegates['first name'] + \" \" + delegates['last name 2']"
   ]
  },
  {
   "cell_type": "code",
   "execution_count": 4,
   "metadata": {
    "pycharm": {
     "name": "#%%\n"
    }
   },
   "outputs": [],
   "source": [
    "state_delegates = pd.read_excel(\"../../Data/Delegates/State Delegates.xlsx\", header = 2)\n",
    "\n",
    "#cleaning strings for state convention delegates\n",
    "missing_ind = state_delegates[state_delegates['First Name'].apply(lambda x: type(x) != str)].index\n",
    "state_delegates.loc[missing_ind, 'First Name'] = ['William', 'Ebenezer']\n",
    "# Rhode Island last & first name columns are flipped\n",
    "RI_index = state_delegates[state_delegates['State'] == 'RI'].index\n",
    "ln = state_delegates.loc[RI_index, 'Last Name']\n",
    "state_delegates.loc[RI_index, 'Last Name'] = state_delegates.loc[RI_index, 'First Name']\n",
    "state_delegates.loc[RI_index, 'First Name'] = ln\n",
    "\n",
    "state_delegates['full name 1'] = state_delegates['First Name'] + \" \" + state_delegates['Last Name']\n"
   ]
  },
  {
   "cell_type": "markdown",
   "source": [],
   "metadata": {
    "collapsed": false,
    "pycharm": {
     "name": "#%% md\n"
    }
   }
  },
  {
   "cell_type": "code",
   "execution_count": 5,
   "outputs": [
    {
     "name": "stdout",
     "output_type": "stream",
     "text": [
      "56 duplicated names\n",
      "15 duplicated names after also grouping by state\n"
     ]
    }
   ],
   "source": [
    "sd_vc = state_delegates['full name 1'].value_counts()\n",
    "dups = sum(state_delegates['full name 1'].value_counts()) - sd_vc.shape[0]\n",
    "\n",
    "sds_vc = state_delegates[['full name 1','State']].value_counts()\n",
    "dups_state = sum(state_delegates['full name 1'].value_counts()) - sds_vc.shape[0]\n",
    "\n",
    "print(\"{} duplicated names\".format(dups))\n",
    "print(\"{} duplicated names after also grouping by state\".format(dups_state))\n",
    "# tells us that even at best, we won't be able to match 15 of the delegates from state conventions\n",
    "\n",
    "sd_names = sd_vc[sd_vc == 2].index\n",
    "sds_names = sds_vc[sds_vc == 2].index\n",
    "\n",
    "# label duplicated names\n",
    "state_delegates['name duplication'] = pd.to_numeric(state_delegates['full name 1'].apply(lambda x: x in sd_names))\n",
    "state_delegates['state-name duplication'] = pd.to_numeric([(name, state) in sds_names for state, name in zip(state_delegates['State'], state_delegates['full name 1'])])"
   ],
   "metadata": {
    "collapsed": false,
    "pycharm": {
     "name": "#%%\n"
    }
   }
  },
  {
   "cell_type": "code",
   "execution_count": 6,
   "outputs": [],
   "source": [
    "\n",
    "delegates.to_csv('../Data/Delegates/cleaned/constitutional_convention_delegates_cleaned.csv')\n",
    "state_delegates.to_csv('../Data/Delegates/cleaned/State_Delegates_cleaned.csv')"
   ],
   "metadata": {
    "collapsed": false,
    "pycharm": {
     "name": "#%%\n"
    }
   }
  },
  {
   "cell_type": "markdown",
   "metadata": {
    "pycharm": {
     "name": "#%% md\n"
    }
   },
   "source": [
    "# CLEAN LOAN CERTIFICATES"
   ]
  },
  {
   "cell_type": "code",
   "execution_count": 7,
   "metadata": {
    "pycharm": {
     "name": "#%%\n"
    }
   },
   "outputs": [],
   "source": [
    "import math\n",
    "import spacy"
   ]
  },
  {
   "cell_type": "code",
   "execution_count": 8,
   "metadata": {
    "pycharm": {
     "name": "#%%\n"
    }
   },
   "outputs": [],
   "source": [
    "delegates_og = pd.read_csv(\"../Data/Delegates/cleaned/constitutional_convention_delegates_cleaned.csv\", index_col = 0)\n",
    "delegates = delegates_og.copy()"
   ]
  },
  {
   "cell_type": "markdown",
   "metadata": {
    "pycharm": {
     "name": "#%% md\n"
    }
   },
   "source": [
    "## Clean Loan Office Certificates from the 9 States"
   ]
  },
  {
   "cell_type": "code",
   "execution_count": 9,
   "metadata": {
    "pycharm": {
     "name": "#%%\n"
    }
   },
   "outputs": [],
   "source": [
    "loans_og = pd.read_excel(\"../Data/Pre1790/loan_office_certificates_9_states.xlsx\")"
   ]
  },
  {
   "cell_type": "code",
   "execution_count": 10,
   "outputs": [],
   "source": [
    "# create copy\n",
    "loans = loans_og.copy()"
   ],
   "metadata": {
    "collapsed": false,
    "pycharm": {
     "name": "#%%\n"
    }
   }
  },
  {
   "cell_type": "code",
   "execution_count": 11,
   "outputs": [
    {
     "data": {
      "text/plain": "       State  Year  Month   Day Title 1               First Name 1   \\\n0          1  1778      3  13.0     Col                      Joshua   \n1          1  1777      9   2.0     NaN                     Charles   \n2          1  1777      9  10.0     NaN                     Stephen   \n3          1  1777      9  13.0     NaN                       David   \n4          1  1777      9  15.0     NaN                        John   \n...      ...   ...    ...   ...     ...                         ...   \n80908      9  1780      1   1.0     NaN                    John Hay   \n80909      9  1779      5  25.0     NaN  Isaac & Thoroughgood Smith   \n80910      9  1779      5  25.0     NaN  Isaac & Thoroughgood Smith   \n80911      9  1779      3  13.0     NaN               Samuel Oldham   \n80912      9  1779      5  20.0     NaN         Baker Blow & Oldham   \n\n      Last Name 1  Title 2 First Name 2 Last Name 2  Face Value  Specie Value   \n0        Wentworth     NaN          NaN         NaN         200      108.27780  \n1        Treadwell     NaN          NaN         NaN         200      199.37780  \n2         Cleverly     NaN          NaN         NaN         200      194.51110  \n3         Griffith     NaN          NaN         NaN         200      192.71110  \n4        Mansfield     NaN          NaN         NaN         200      191.52220  \n...            ...     ...          ...         ...         ...            ...  \n80908          NaN     NaN          NaN         NaN         400       13.61667  \n80909          NaN     NaN          NaN         NaN         300       22.86250  \n80910          NaN     NaN          NaN         NaN         800       60.96667  \n80911          NaN     NaN          NaN         NaN         500       48.11806  \n80912          NaN     NaN          NaN         NaN        2000      154.88890  \n\n[80913 rows x 12 columns]",
      "text/html": "<div>\n<style scoped>\n    .dataframe tbody tr th:only-of-type {\n        vertical-align: middle;\n    }\n\n    .dataframe tbody tr th {\n        vertical-align: top;\n    }\n\n    .dataframe thead th {\n        text-align: right;\n    }\n</style>\n<table border=\"1\" class=\"dataframe\">\n  <thead>\n    <tr style=\"text-align: right;\">\n      <th></th>\n      <th>State</th>\n      <th>Year</th>\n      <th>Month</th>\n      <th>Day</th>\n      <th>Title 1</th>\n      <th>First Name 1</th>\n      <th>Last Name 1</th>\n      <th>Title 2</th>\n      <th>First Name 2</th>\n      <th>Last Name 2</th>\n      <th>Face Value</th>\n      <th>Specie Value</th>\n    </tr>\n  </thead>\n  <tbody>\n    <tr>\n      <th>0</th>\n      <td>1</td>\n      <td>1778</td>\n      <td>3</td>\n      <td>13.0</td>\n      <td>Col</td>\n      <td>Joshua</td>\n      <td>Wentworth</td>\n      <td>NaN</td>\n      <td>NaN</td>\n      <td>NaN</td>\n      <td>200</td>\n      <td>108.27780</td>\n    </tr>\n    <tr>\n      <th>1</th>\n      <td>1</td>\n      <td>1777</td>\n      <td>9</td>\n      <td>2.0</td>\n      <td>NaN</td>\n      <td>Charles</td>\n      <td>Treadwell</td>\n      <td>NaN</td>\n      <td>NaN</td>\n      <td>NaN</td>\n      <td>200</td>\n      <td>199.37780</td>\n    </tr>\n    <tr>\n      <th>2</th>\n      <td>1</td>\n      <td>1777</td>\n      <td>9</td>\n      <td>10.0</td>\n      <td>NaN</td>\n      <td>Stephen</td>\n      <td>Cleverly</td>\n      <td>NaN</td>\n      <td>NaN</td>\n      <td>NaN</td>\n      <td>200</td>\n      <td>194.51110</td>\n    </tr>\n    <tr>\n      <th>3</th>\n      <td>1</td>\n      <td>1777</td>\n      <td>9</td>\n      <td>13.0</td>\n      <td>NaN</td>\n      <td>David</td>\n      <td>Griffith</td>\n      <td>NaN</td>\n      <td>NaN</td>\n      <td>NaN</td>\n      <td>200</td>\n      <td>192.71110</td>\n    </tr>\n    <tr>\n      <th>4</th>\n      <td>1</td>\n      <td>1777</td>\n      <td>9</td>\n      <td>15.0</td>\n      <td>NaN</td>\n      <td>John</td>\n      <td>Mansfield</td>\n      <td>NaN</td>\n      <td>NaN</td>\n      <td>NaN</td>\n      <td>200</td>\n      <td>191.52220</td>\n    </tr>\n    <tr>\n      <th>...</th>\n      <td>...</td>\n      <td>...</td>\n      <td>...</td>\n      <td>...</td>\n      <td>...</td>\n      <td>...</td>\n      <td>...</td>\n      <td>...</td>\n      <td>...</td>\n      <td>...</td>\n      <td>...</td>\n      <td>...</td>\n    </tr>\n    <tr>\n      <th>80908</th>\n      <td>9</td>\n      <td>1780</td>\n      <td>1</td>\n      <td>1.0</td>\n      <td>NaN</td>\n      <td>John Hay</td>\n      <td>NaN</td>\n      <td>NaN</td>\n      <td>NaN</td>\n      <td>NaN</td>\n      <td>400</td>\n      <td>13.61667</td>\n    </tr>\n    <tr>\n      <th>80909</th>\n      <td>9</td>\n      <td>1779</td>\n      <td>5</td>\n      <td>25.0</td>\n      <td>NaN</td>\n      <td>Isaac &amp; Thoroughgood Smith</td>\n      <td>NaN</td>\n      <td>NaN</td>\n      <td>NaN</td>\n      <td>NaN</td>\n      <td>300</td>\n      <td>22.86250</td>\n    </tr>\n    <tr>\n      <th>80910</th>\n      <td>9</td>\n      <td>1779</td>\n      <td>5</td>\n      <td>25.0</td>\n      <td>NaN</td>\n      <td>Isaac &amp; Thoroughgood Smith</td>\n      <td>NaN</td>\n      <td>NaN</td>\n      <td>NaN</td>\n      <td>NaN</td>\n      <td>800</td>\n      <td>60.96667</td>\n    </tr>\n    <tr>\n      <th>80911</th>\n      <td>9</td>\n      <td>1779</td>\n      <td>3</td>\n      <td>13.0</td>\n      <td>NaN</td>\n      <td>Samuel Oldham</td>\n      <td>NaN</td>\n      <td>NaN</td>\n      <td>NaN</td>\n      <td>NaN</td>\n      <td>500</td>\n      <td>48.11806</td>\n    </tr>\n    <tr>\n      <th>80912</th>\n      <td>9</td>\n      <td>1779</td>\n      <td>5</td>\n      <td>20.0</td>\n      <td>NaN</td>\n      <td>Baker Blow &amp; Oldham</td>\n      <td>NaN</td>\n      <td>NaN</td>\n      <td>NaN</td>\n      <td>NaN</td>\n      <td>2000</td>\n      <td>154.88890</td>\n    </tr>\n  </tbody>\n</table>\n<p>80913 rows × 12 columns</p>\n</div>"
     },
     "execution_count": 11,
     "metadata": {},
     "output_type": "execute_result"
    }
   ],
   "source": [
    "loans"
   ],
   "metadata": {
    "collapsed": false,
    "pycharm": {
     "name": "#%%\n"
    }
   }
  },
  {
   "cell_type": "code",
   "execution_count": 12,
   "metadata": {
    "pycharm": {
     "name": "#%%\n"
    }
   },
   "outputs": [],
   "source": [
    "#create column for third name \n",
    "loans['Title 3'] = pd.Series(dtype = 'object')\n",
    "loans['First Name 3'] = pd.Series(dtype = 'object')\n",
    "loans['Last Name 3'] = pd.Series(dtype = 'object')\n",
    "\n",
    "#create column to store original text stored in first name column, and notes on what I changed\n",
    "loans['notes'] = pd.Series(dtype = 'object')\n",
    "loans['original text'] = pd.Series(dtype = 'object')"
   ]
  },
  {
   "cell_type": "code",
   "execution_count": 13,
   "metadata": {
    "pycharm": {
     "name": "#%%\n"
    }
   },
   "outputs": [],
   "source": [
    "#reorganize columns\n",
    "loans = loans[list(loans.columns[:10]) + list(loans.columns[12:15]) + list(loans.columns[10:12]) + ['notes','original text']]"
   ]
  },
  {
   "cell_type": "code",
   "execution_count": 14,
   "metadata": {
    "pycharm": {
     "name": "#%%\n"
    }
   },
   "outputs": [
    {
     "name": "stdout",
     "output_type": "stream",
     "text": [
      "checking if there are any columns with valid last name 1 and first name 2\n"
     ]
    },
    {
     "data": {
      "text/plain": "False"
     },
     "execution_count": 14,
     "metadata": {},
     "output_type": "execute_result"
    }
   ],
   "source": [
    "# function to handle isNan and other datatypes\n",
    "def betterIsNan(x):\n",
    "    try: \n",
    "        return math.isnan(x)\n",
    "    except:\n",
    "        return False\n",
    "\n",
    "print(\"checking if there are any columns with valid last name 1 and first name 2\")\n",
    "# this would be a problem, we wouldn't know if one or two individuals owned each stock\n",
    "any([betterIsNan(x) and betterIsNan(y) and not betterIsNan(w) and not betterIsNan(z) for w, x, y, z in zip(loans['First Name 1 '], loans['Last Name 1 '], loans['First Name 2'], loans['Last Name 2'])])"
   ]
  },
  {
   "cell_type": "code",
   "execution_count": 15,
   "metadata": {
    "pycharm": {
     "name": "#%%\n"
    }
   },
   "outputs": [
    {
     "name": "stdout",
     "output_type": "stream",
     "text": [
      "checking if there are any columns with valid last name 2 and first name 1\n"
     ]
    },
    {
     "data": {
      "text/plain": "False"
     },
     "execution_count": 15,
     "metadata": {},
     "output_type": "execute_result"
    }
   ],
   "source": [
    "print(\"checking if there are any columns with valid last name 2 and first name 1\")\n",
    "# this would be a problem, we wouldn't know if one or two individuals owned each stock\n",
    "any([betterIsNan(w) and betterIsNan(z) and not betterIsNan(x) and not betterIsNan(y) for w, x, y, z in zip(loans['First Name 1 '], loans['Last Name 1 '], loans['First Name 2'], loans['Last Name 2'])])"
   ]
  },
  {
   "cell_type": "code",
   "execution_count": 16,
   "metadata": {
    "pycharm": {
     "name": "#%%\n"
    }
   },
   "outputs": [],
   "source": [
    "def replaceWhitespace(x):\n",
    "    return \" \".join(x.split()) if type(x) != float else x"
   ]
  },
  {
   "cell_type": "code",
   "execution_count": 17,
   "metadata": {
    "pycharm": {
     "name": "#%%\n"
    }
   },
   "outputs": [],
   "source": [
    "loans['First Name 1 '] = loans['First Name 1 '].apply(lambda x: replaceWhitespace(x))"
   ]
  },
  {
   "cell_type": "code",
   "execution_count": 18,
   "outputs": [],
   "source": [
    "# define situations where certain certificates cannot be matched"
   ],
   "metadata": {
    "collapsed": false,
    "pycharm": {
     "name": "#%%\n"
    }
   }
  },
  {
   "cell_type": "code",
   "execution_count": 19,
   "outputs": [],
   "source": [
    "# null value\n",
    "loans.loc[[pd.isnull(fn) and pd.isnull(ln) for fn, ln in zip(loans['First Name 1 '], loans['Last Name 1 '])], 'match eligible'] = False\n",
    "# no first name, yes last name\n",
    "loans.loc[[pd.isnull(fn) and not pd.isnull(ln) for fn, ln in zip(loans['First Name 1 '], loans['Last Name 1 '])], ['notes', 'match eligible']] = [['possibly Pierce Long', False], [np.nan, False], ['possibly John Witherspoon', False]]\n",
    "# 1 character first name, no last name\n",
    "loans.loc[[(len(fn.split())==1 if type(fn) != float else False) and pd.isnull(ln) for fn, ln in zip(loans['First Name 1 '], loans['Last Name 1 '])], 'match eligible'] = False"
   ],
   "metadata": {
    "collapsed": false,
    "pycharm": {
     "name": "#%%\n"
    }
   }
  },
  {
   "cell_type": "code",
   "execution_count": 20,
   "metadata": {
    "pycharm": {
     "name": "#%%\n"
    }
   },
   "outputs": [],
   "source": [
    "# define \"weird first names\" as names with more than one character in their first name, and no last name"
   ]
  },
  {
   "cell_type": "code",
   "execution_count": 21,
   "outputs": [
    {
     "data": {
      "text/plain": "       State  Year  Month   Day Title 1               First Name 1   \\\n2428       2  1777      3  10.0     NaN                 Lee & Jones   \n2759       2  1777      4  11.0     NaN         Clark & Nightingale   \n2760       2  1777      4  11.0     NaN         Clark & Nightingale   \n2761       2  1777      4  11.0     NaN         Clark & Nightingale   \n2762       2  1777      4  11.0     NaN         Clark & Nightingale   \n...      ...   ...    ...   ...     ...                         ...   \n80908      9  1780      1   1.0     NaN                    John Hay   \n80909      9  1779      5  25.0     NaN  Isaac & Thoroughgood Smith   \n80910      9  1779      5  25.0     NaN  Isaac & Thoroughgood Smith   \n80911      9  1779      3  13.0     NaN               Samuel Oldham   \n80912      9  1779      5  20.0     NaN         Baker Blow & Oldham   \n\n      Last Name 1  Title 2 First Name 2 Last Name 2 Title 3 First Name 3  \\\n2428           NaN     NaN          NaN         NaN     NaN          NaN   \n2759           NaN     NaN          NaN         NaN     NaN          NaN   \n2760           NaN     NaN          NaN         NaN     NaN          NaN   \n2761           NaN     NaN          NaN         NaN     NaN          NaN   \n2762           NaN     NaN          NaN         NaN     NaN          NaN   \n...            ...     ...          ...         ...     ...          ...   \n80908          NaN     NaN          NaN         NaN     NaN          NaN   \n80909          NaN     NaN          NaN         NaN     NaN          NaN   \n80910          NaN     NaN          NaN         NaN     NaN          NaN   \n80911          NaN     NaN          NaN         NaN     NaN          NaN   \n80912          NaN     NaN          NaN         NaN     NaN          NaN   \n\n      Last Name 3  Face Value  Specie Value  notes original text  \\\n2428          NaN         600      600.00000   NaN           NaN   \n2759          NaN         400      400.00000   NaN           NaN   \n2760          NaN         400      400.00000   NaN           NaN   \n2761          NaN         400      400.00000   NaN           NaN   \n2762          NaN         400      400.00000   NaN           NaN   \n...           ...         ...            ...   ...           ...   \n80908         NaN         400       13.61667   NaN           NaN   \n80909         NaN         300       22.86250   NaN           NaN   \n80910         NaN         800       60.96667   NaN           NaN   \n80911         NaN         500       48.11806   NaN           NaN   \n80912         NaN        2000      154.88890   NaN           NaN   \n\n      match eligible  \n2428             NaN  \n2759             NaN  \n2760             NaN  \n2761             NaN  \n2762             NaN  \n...              ...  \n80908            NaN  \n80909            NaN  \n80910            NaN  \n80911            NaN  \n80912            NaN  \n\n[4033 rows x 18 columns]",
      "text/html": "<div>\n<style scoped>\n    .dataframe tbody tr th:only-of-type {\n        vertical-align: middle;\n    }\n\n    .dataframe tbody tr th {\n        vertical-align: top;\n    }\n\n    .dataframe thead th {\n        text-align: right;\n    }\n</style>\n<table border=\"1\" class=\"dataframe\">\n  <thead>\n    <tr style=\"text-align: right;\">\n      <th></th>\n      <th>State</th>\n      <th>Year</th>\n      <th>Month</th>\n      <th>Day</th>\n      <th>Title 1</th>\n      <th>First Name 1</th>\n      <th>Last Name 1</th>\n      <th>Title 2</th>\n      <th>First Name 2</th>\n      <th>Last Name 2</th>\n      <th>Title 3</th>\n      <th>First Name 3</th>\n      <th>Last Name 3</th>\n      <th>Face Value</th>\n      <th>Specie Value</th>\n      <th>notes</th>\n      <th>original text</th>\n      <th>match eligible</th>\n    </tr>\n  </thead>\n  <tbody>\n    <tr>\n      <th>2428</th>\n      <td>2</td>\n      <td>1777</td>\n      <td>3</td>\n      <td>10.0</td>\n      <td>NaN</td>\n      <td>Lee &amp; Jones</td>\n      <td>NaN</td>\n      <td>NaN</td>\n      <td>NaN</td>\n      <td>NaN</td>\n      <td>NaN</td>\n      <td>NaN</td>\n      <td>NaN</td>\n      <td>600</td>\n      <td>600.00000</td>\n      <td>NaN</td>\n      <td>NaN</td>\n      <td>NaN</td>\n    </tr>\n    <tr>\n      <th>2759</th>\n      <td>2</td>\n      <td>1777</td>\n      <td>4</td>\n      <td>11.0</td>\n      <td>NaN</td>\n      <td>Clark &amp; Nightingale</td>\n      <td>NaN</td>\n      <td>NaN</td>\n      <td>NaN</td>\n      <td>NaN</td>\n      <td>NaN</td>\n      <td>NaN</td>\n      <td>NaN</td>\n      <td>400</td>\n      <td>400.00000</td>\n      <td>NaN</td>\n      <td>NaN</td>\n      <td>NaN</td>\n    </tr>\n    <tr>\n      <th>2760</th>\n      <td>2</td>\n      <td>1777</td>\n      <td>4</td>\n      <td>11.0</td>\n      <td>NaN</td>\n      <td>Clark &amp; Nightingale</td>\n      <td>NaN</td>\n      <td>NaN</td>\n      <td>NaN</td>\n      <td>NaN</td>\n      <td>NaN</td>\n      <td>NaN</td>\n      <td>NaN</td>\n      <td>400</td>\n      <td>400.00000</td>\n      <td>NaN</td>\n      <td>NaN</td>\n      <td>NaN</td>\n    </tr>\n    <tr>\n      <th>2761</th>\n      <td>2</td>\n      <td>1777</td>\n      <td>4</td>\n      <td>11.0</td>\n      <td>NaN</td>\n      <td>Clark &amp; Nightingale</td>\n      <td>NaN</td>\n      <td>NaN</td>\n      <td>NaN</td>\n      <td>NaN</td>\n      <td>NaN</td>\n      <td>NaN</td>\n      <td>NaN</td>\n      <td>400</td>\n      <td>400.00000</td>\n      <td>NaN</td>\n      <td>NaN</td>\n      <td>NaN</td>\n    </tr>\n    <tr>\n      <th>2762</th>\n      <td>2</td>\n      <td>1777</td>\n      <td>4</td>\n      <td>11.0</td>\n      <td>NaN</td>\n      <td>Clark &amp; Nightingale</td>\n      <td>NaN</td>\n      <td>NaN</td>\n      <td>NaN</td>\n      <td>NaN</td>\n      <td>NaN</td>\n      <td>NaN</td>\n      <td>NaN</td>\n      <td>400</td>\n      <td>400.00000</td>\n      <td>NaN</td>\n      <td>NaN</td>\n      <td>NaN</td>\n    </tr>\n    <tr>\n      <th>...</th>\n      <td>...</td>\n      <td>...</td>\n      <td>...</td>\n      <td>...</td>\n      <td>...</td>\n      <td>...</td>\n      <td>...</td>\n      <td>...</td>\n      <td>...</td>\n      <td>...</td>\n      <td>...</td>\n      <td>...</td>\n      <td>...</td>\n      <td>...</td>\n      <td>...</td>\n      <td>...</td>\n      <td>...</td>\n      <td>...</td>\n    </tr>\n    <tr>\n      <th>80908</th>\n      <td>9</td>\n      <td>1780</td>\n      <td>1</td>\n      <td>1.0</td>\n      <td>NaN</td>\n      <td>John Hay</td>\n      <td>NaN</td>\n      <td>NaN</td>\n      <td>NaN</td>\n      <td>NaN</td>\n      <td>NaN</td>\n      <td>NaN</td>\n      <td>NaN</td>\n      <td>400</td>\n      <td>13.61667</td>\n      <td>NaN</td>\n      <td>NaN</td>\n      <td>NaN</td>\n    </tr>\n    <tr>\n      <th>80909</th>\n      <td>9</td>\n      <td>1779</td>\n      <td>5</td>\n      <td>25.0</td>\n      <td>NaN</td>\n      <td>Isaac &amp; Thoroughgood Smith</td>\n      <td>NaN</td>\n      <td>NaN</td>\n      <td>NaN</td>\n      <td>NaN</td>\n      <td>NaN</td>\n      <td>NaN</td>\n      <td>NaN</td>\n      <td>300</td>\n      <td>22.86250</td>\n      <td>NaN</td>\n      <td>NaN</td>\n      <td>NaN</td>\n    </tr>\n    <tr>\n      <th>80910</th>\n      <td>9</td>\n      <td>1779</td>\n      <td>5</td>\n      <td>25.0</td>\n      <td>NaN</td>\n      <td>Isaac &amp; Thoroughgood Smith</td>\n      <td>NaN</td>\n      <td>NaN</td>\n      <td>NaN</td>\n      <td>NaN</td>\n      <td>NaN</td>\n      <td>NaN</td>\n      <td>NaN</td>\n      <td>800</td>\n      <td>60.96667</td>\n      <td>NaN</td>\n      <td>NaN</td>\n      <td>NaN</td>\n    </tr>\n    <tr>\n      <th>80911</th>\n      <td>9</td>\n      <td>1779</td>\n      <td>3</td>\n      <td>13.0</td>\n      <td>NaN</td>\n      <td>Samuel Oldham</td>\n      <td>NaN</td>\n      <td>NaN</td>\n      <td>NaN</td>\n      <td>NaN</td>\n      <td>NaN</td>\n      <td>NaN</td>\n      <td>NaN</td>\n      <td>500</td>\n      <td>48.11806</td>\n      <td>NaN</td>\n      <td>NaN</td>\n      <td>NaN</td>\n    </tr>\n    <tr>\n      <th>80912</th>\n      <td>9</td>\n      <td>1779</td>\n      <td>5</td>\n      <td>20.0</td>\n      <td>NaN</td>\n      <td>Baker Blow &amp; Oldham</td>\n      <td>NaN</td>\n      <td>NaN</td>\n      <td>NaN</td>\n      <td>NaN</td>\n      <td>NaN</td>\n      <td>NaN</td>\n      <td>NaN</td>\n      <td>2000</td>\n      <td>154.88890</td>\n      <td>NaN</td>\n      <td>NaN</td>\n      <td>NaN</td>\n    </tr>\n  </tbody>\n</table>\n<p>4033 rows × 18 columns</p>\n</div>"
     },
     "execution_count": 21,
     "metadata": {},
     "output_type": "execute_result"
    }
   ],
   "source": [
    "weird_first = [(len(fn.split())>1 if type(fn) != float else False) and pd.isnull(ln) for fn, ln in zip(loans['First Name 1 '], loans['Last Name 1 '])]\n",
    "weird_first_names = loans.loc[weird_first]\n",
    "weird_first_names"
   ],
   "metadata": {
    "collapsed": false,
    "pycharm": {
     "name": "#%%\n"
    }
   }
  },
  {
   "cell_type": "markdown",
   "metadata": {
    "pycharm": {
     "name": "#%% md\n"
    }
   },
   "source": [
    "<h2> Handle Corrections of Executors </h2>"
   ]
  },
  {
   "cell_type": "markdown",
   "metadata": {
    "pycharm": {
     "name": "#%% md\n"
    }
   },
   "source": [
    "How do we want to consider executors? Are they irrelevant (ie: do we only care about the person who they are executing for, or do we also care about them - and just add a note saying \"executor\")? \n",
    "\n",
    "Empirically, what interest do the executors have? They probably don't have any direct financial interest in the debt but there could definitely be incentives for them to be interested in the stability of the debt, such as shared business interests, desire to properly help execute a will etc?\n",
    "\n",
    "What do we do when we cannot properly identify executors? Or trustees?"
   ]
  },
  {
   "cell_type": "code",
   "execution_count": 22,
   "metadata": {
    "pycharm": {
     "name": "#%%\n"
    }
   },
   "outputs": [],
   "source": [
    "# I use the title executor to generaly indicate someone keeping money for another - could also be trustee etc"
   ]
  },
  {
   "cell_type": "code",
   "execution_count": 23,
   "metadata": {
    "pycharm": {
     "name": "#%%\n"
    }
   },
   "outputs": [],
   "source": [
    "# trend below - if its Executors just get Atkinsons\n",
    "# if its David Mackey and Debt Executor just do David Mackey\n",
    "# for jacob lentz and phillip fisher lentz I kept jacob fisher and removed philip lentz\n",
    "# there are records for jacob fisher being a soldier but no records for philip lentz\n",
    "# otherwise find the word \"to\" or \"of\" and get the name right after that"
   ]
  },
  {
   "cell_type": "code",
   "execution_count": 24,
   "metadata": {
    "pycharm": {
     "name": "#%%\n"
    }
   },
   "outputs": [
    {
     "data": {
      "text/plain": "(40, 18)"
     },
     "execution_count": 24,
     "metadata": {},
     "output_type": "execute_result"
    }
   ],
   "source": [
    "weird_first_names[weird_first_names['First Name 1 '].apply(lambda x: \"exec\" in x.lower() or \"executor\" in x.lower() or \"ex.\" in x.lower())].shape"
   ]
  },
  {
   "cell_type": "code",
   "execution_count": 25,
   "metadata": {
    "pycharm": {
     "name": "#%%\n"
    }
   },
   "outputs": [
    {
     "data": {
      "text/plain": "(40, 18)"
     },
     "execution_count": 25,
     "metadata": {},
     "output_type": "execute_result"
    }
   ],
   "source": [
    "executor = weird_first_names[weird_first_names['First Name 1 '].apply(lambda x: \"exec\" in x.lower() or \"executor\" in x.lower() or \"ex.\" in x.lower())]\n",
    "executor.shape"
   ]
  },
  {
   "cell_type": "code",
   "execution_count": 26,
   "metadata": {
    "pycharm": {
     "name": "#%%\n"
    }
   },
   "outputs": [],
   "source": [
    "#executor['First Name 1 '].unique().tolist()"
   ]
  },
  {
   "cell_type": "code",
   "execution_count": 27,
   "metadata": {
    "pycharm": {
     "name": "#%%\n"
    }
   },
   "outputs": [
    {
     "name": "stdout",
     "output_type": "stream",
     "text": [
      "Robert Morris and John Simon executor to the estate of\n",
      "Robert Morris and John Simon executor to the estate of\n",
      "Robert Morris and John Simon executor to the estate of R Gerraty\n"
     ]
    }
   ],
   "source": [
    "for x in executor.loc[[39712, 39713, 40030]]['First Name 1 ']:\n",
    "    print(x)"
   ]
  },
  {
   "cell_type": "code",
   "execution_count": 28,
   "metadata": {
    "pycharm": {
     "name": "#%%\n"
    }
   },
   "outputs": [
    {
     "data": {
      "text/plain": "array(['Sam Hasting', 'B Winchester', 'Will Thomas Hubbard Esq deceased',\n       'Benj Winchester', 'estate R Gerraty',\n       'estate Jacob Carver Deceased', 'Stephen Boyd', 'David Mackey',\n       'Leon Ampach', 'Conaard Teulps', 'Estale Ju Eighter',\n       'Jacob Fisher', 'Mat Mease and Co.', 'Jacob Calvert',\n       'Christ V. Cross', 'Atkinsons'], dtype=object)"
     },
     "execution_count": 28,
     "metadata": {},
     "output_type": "execute_result"
    }
   ],
   "source": [
    "executor_names = executor['First Name 1 ']\n",
    "#handle special cases\n",
    "executor_names = executor_names.replace(\"Atkinsons Executors\", \"Atkinsons\")\n",
    "executor_names = executor_names.replace(\"David Mackey and Debt Executor\", \"David Mackey\")\n",
    "executor_names = executor_names.replace(\"Jacob Fisher Philip Lentz Ex.\", \"Jacob Fisher\")\n",
    "executor_names = executor_names.replace(\"Robert Morris and John Simon executor to the estate of\", \"Robert Morris and John Simon executor to the estate of R Gerraty\")\n",
    "spec_status_names = (\"David Mackey\", \"Atkinsons\", \"Jacob Fisher\", \"Robert Morris\") \n",
    "#find string after the words to or of\n",
    "post_of = executor_names.apply(lambda x: x[x.lower().find(' to '):] if x not in spec_status_names else x)\n",
    "post_to = executor_names.apply(lambda x: x[x.lower().find(' of '):] if x not in spec_status_names else x)\n",
    "#merge results - we keep the result that occurred later, because we wan tot capture everything before of/to\n",
    "pre_processing_executor_names = pd.Series(x if len(x) >= len(y) else y for x, y in zip(post_of, post_to))\n",
    "#remove stop words\n",
    "pre_processing_executor_names = pre_processing_executor_names.apply(lambda x: x.replace(\"to\", \"\").replace(\"To\", \"\").replace(\"of\", \"\").replace(\"Of\",\" \").strip())\n",
    "pre_processing_executor_names = pre_processing_executor_names.apply(lambda x: x.replace(\"the\", \"\").replace(\"  \", \" \").strip())\n",
    "pre_processing_executor_names.unique()"
   ]
  },
  {
   "cell_type": "code",
   "execution_count": 29,
   "metadata": {
    "pycharm": {
     "name": "#%%\n"
    }
   },
   "outputs": [],
   "source": [
    "executor_names = dict(zip(pre_processing_executor_names, pre_processing_executor_names))"
   ]
  },
  {
   "cell_type": "code",
   "execution_count": 30,
   "metadata": {
    "pycharm": {
     "name": "#%%\n"
    }
   },
   "outputs": [],
   "source": [
    "executor_names['estate Jacob Carver Deceased'] = 'Jacob Carver'\n",
    "executor_names['estate R Gerraty'] = 'R Gerraty'\n",
    "executor_names['Will Thomas Hubbard Esq deceased'] = 'Will Thomas Hubbard'\n",
    "executor_names['Mat Mease and Co.'] = 'Mat Mease'\n",
    "post_processing_executor_names = [executor_names[x] for x in pre_processing_executor_names]\n",
    "post_processing_executor_index = executor['First Name 1 '].index\n",
    "#post_processing_executor_names"
   ]
  },
  {
   "cell_type": "code",
   "execution_count": 31,
   "metadata": {
    "pycharm": {
     "name": "#%%\n"
    }
   },
   "outputs": [
    {
     "name": "stderr",
     "output_type": "stream",
     "text": [
      "/var/folders/5s/dvrxt95949x1pm_sjxm85lj00000gn/T/ipykernel_37726/1771453653.py:2: SettingWithCopyWarning: \n",
      "A value is trying to be set on a copy of a slice from a DataFrame.\n",
      "Try using .loc[row_indexer,col_indexer] = value instead\n",
      "\n",
      "See the caveats in the documentation: https://pandas.pydata.org/pandas-docs/stable/user_guide/indexing.html#returning-a-view-versus-a-copy\n",
      "  executor['original text'] = executor['First Name 1 '].copy()\n",
      "/var/folders/5s/dvrxt95949x1pm_sjxm85lj00000gn/T/ipykernel_37726/1771453653.py:3: SettingWithCopyWarning: \n",
      "A value is trying to be set on a copy of a slice from a DataFrame.\n",
      "Try using .loc[row_indexer,col_indexer] = value instead\n",
      "\n",
      "See the caveats in the documentation: https://pandas.pydata.org/pandas-docs/stable/user_guide/indexing.html#returning-a-view-versus-a-copy\n",
      "  executor['First Name 1 '] = post_processing_executor_names\n",
      "/var/folders/5s/dvrxt95949x1pm_sjxm85lj00000gn/T/ipykernel_37726/1771453653.py:4: SettingWithCopyWarning: \n",
      "A value is trying to be set on a copy of a slice from a DataFrame.\n",
      "Try using .loc[row_indexer,col_indexer] = value instead\n",
      "\n",
      "See the caveats in the documentation: https://pandas.pydata.org/pandas-docs/stable/user_guide/indexing.html#returning-a-view-versus-a-copy\n",
      "  executor['Last Name 1 '] = [x.split(\" \")[-1] for x in executor['First Name 1 ']]\n",
      "/var/folders/5s/dvrxt95949x1pm_sjxm85lj00000gn/T/ipykernel_37726/1771453653.py:5: SettingWithCopyWarning: \n",
      "A value is trying to be set on a copy of a slice from a DataFrame.\n",
      "Try using .loc[row_indexer,col_indexer] = value instead\n",
      "\n",
      "See the caveats in the documentation: https://pandas.pydata.org/pandas-docs/stable/user_guide/indexing.html#returning-a-view-versus-a-copy\n",
      "  executor['First Name 1 '] = [\" \".join(x.split(\" \")[:-1]) for x in executor['First Name 1 ']]\n"
     ]
    }
   ],
   "source": [
    "#changing recipient of all the money\n",
    "executor['original text'] = executor['First Name 1 '].copy()\n",
    "executor['First Name 1 '] = post_processing_executor_names\n",
    "executor['Last Name 1 '] = [x.split(\" \")[-1] for x in executor['First Name 1 ']]\n",
    "executor['First Name 1 '] = [\" \".join(x.split(\" \")[:-1]) for x in executor['First Name 1 ']]\n",
    "#executor"
   ]
  },
  {
   "cell_type": "code",
   "execution_count": 32,
   "metadata": {
    "pycharm": {
     "name": "#%%\n"
    }
   },
   "outputs": [],
   "source": [
    "executor_names = executor['original text']\n",
    "#handle special cases\n",
    "executor_names = executor_names.replace(\"Atkinsons Executors\", \"\")\n",
    "executor_names = executor_names.replace(\"David Mackey and Debt Executor\", \"David Mackey\")\n",
    "executor_names = executor_names.replace(\"Jacob Fisher Philip Lentz Ex.\", \"Philip Lentz\")\n",
    "executor_names = executor_names.replace(\"Robert Morris and John Simon executor to the estate of\", \"Robert Morris and John Simon\")\n",
    "executor_names = executor_names.replace(\"William Allison Ex. Of Mat Mease and Co.\", \"William Allison\")\n",
    "spec_status_names = (\"David Mackey\", \"\", \"Philip Lentz\", \"Robert Morris and John Simon\", \"William Allison\") \n",
    "#find string after the words to or of\n",
    "post_exec = executor_names.apply(lambda x: x[:x.lower().find(' exec')] if x not in spec_status_names else x)\n",
    "post_exec_to = executor_names.apply(lambda x: x[:x.lower().find(' to')] if x not in spec_status_names else x)\n",
    "#merge results\n",
    "pre_processing_executors = pd.Series(x if len(x) < len(y) else y for x, y in zip(post_exec, post_exec_to)).apply(lambda x: x.replace(\"Ex.\", \"\").strip())\n",
    "#remove stop words\n",
    "#pre_processing_executors"
   ]
  },
  {
   "cell_type": "code",
   "execution_count": 33,
   "metadata": {
    "pycharm": {
     "name": "#%%\n"
    }
   },
   "outputs": [
    {
     "name": "stdout",
     "output_type": "stream",
     "text": [
      "['Sam Austin', 'Benj Allen', 'Joseph Allen', 'William B', 'William B', 'William B', 'William B', 'William B', 'William B', 'William B', 'William B', 'William B', 'William B', 'To Allen', 'To Allen', 'Robert Morris', 'Robert Morris', 'Robert Morris', 'Isaac Roush', 'John Edwards', 'David Mackey', 'David Mackey', 'George Liller', 'George Kelcher', 'George Kelcher', 'John Penny Cacker', 'Philip Lentz', 'Philip Lentz', 'Philip Lentz', 'William Allison', 'William Allison', 'Isaac Rauch', 'Jacob Fisher', 'John Edwards', '', '', '', '', '', '']\n",
      "[nan, nan, nan, nan, nan, nan, nan, nan, nan, nan, nan, nan, nan, nan, nan, 'John Simon', 'John Simon', 'John Simon', 'Mary Utrey', nan, nan, nan, nan, 'Peter Sherer', 'Peter Sherer', nan, nan, nan, nan, nan, nan, 'Mary Sallie', 'Chris Lentz', nan, nan, nan, nan, nan, nan, nan]\n"
     ]
    }
   ],
   "source": [
    "names1 = []\n",
    "names2 = []\n",
    "for name in pre_processing_executors:\n",
    "    names = name.split(\"and\")\n",
    "    if len(names) > 1:\n",
    "        names1.append(names[0].strip())\n",
    "        names2.append(names[1].strip())\n",
    "    else:\n",
    "        names2.append(np.nan)\n",
    "        names1.append(name.strip())\n",
    "print(names1)\n",
    "print(names2)"
   ]
  },
  {
   "cell_type": "code",
   "execution_count": 34,
   "metadata": {
    "pycharm": {
     "name": "#%%\n"
    }
   },
   "outputs": [],
   "source": [
    "#manually adjust william b to william b townsend because cod did not process it correctly\n",
    "names1 = [name  if name != 'William B' else 'William B Townsend' for name in names1]"
   ]
  },
  {
   "cell_type": "code",
   "execution_count": 35,
   "metadata": {
    "pycharm": {
     "name": "#%%\n"
    }
   },
   "outputs": [
    {
     "name": "stderr",
     "output_type": "stream",
     "text": [
      "/var/folders/5s/dvrxt95949x1pm_sjxm85lj00000gn/T/ipykernel_37726/107894297.py:2: SettingWithCopyWarning: \n",
      "A value is trying to be set on a copy of a slice from a DataFrame.\n",
      "Try using .loc[row_indexer,col_indexer] = value instead\n",
      "\n",
      "See the caveats in the documentation: https://pandas.pydata.org/pandas-docs/stable/user_guide/indexing.html#returning-a-view-versus-a-copy\n",
      "  executor['First Name 2'] = names1\n",
      "/var/folders/5s/dvrxt95949x1pm_sjxm85lj00000gn/T/ipykernel_37726/107894297.py:3: SettingWithCopyWarning: \n",
      "A value is trying to be set on a copy of a slice from a DataFrame.\n",
      "Try using .loc[row_indexer,col_indexer] = value instead\n",
      "\n",
      "See the caveats in the documentation: https://pandas.pydata.org/pandas-docs/stable/user_guide/indexing.html#returning-a-view-versus-a-copy\n",
      "  executor['Last Name 2'] = [x.split(\" \")[-1] if x != '' else x for x in names1]\n",
      "/var/folders/5s/dvrxt95949x1pm_sjxm85lj00000gn/T/ipykernel_37726/107894297.py:4: SettingWithCopyWarning: \n",
      "A value is trying to be set on a copy of a slice from a DataFrame.\n",
      "Try using .loc[row_indexer,col_indexer] = value instead\n",
      "\n",
      "See the caveats in the documentation: https://pandas.pydata.org/pandas-docs/stable/user_guide/indexing.html#returning-a-view-versus-a-copy\n",
      "  executor['First Name 2'] = [\" \".join(x.split(\" \")[:-1]) if x != '' else x for x in executor['First Name 2'] ]\n",
      "/var/folders/5s/dvrxt95949x1pm_sjxm85lj00000gn/T/ipykernel_37726/107894297.py:5: SettingWithCopyWarning: \n",
      "A value is trying to be set on a copy of a slice from a DataFrame.\n",
      "Try using .loc[row_indexer,col_indexer] = value instead\n",
      "\n",
      "See the caveats in the documentation: https://pandas.pydata.org/pandas-docs/stable/user_guide/indexing.html#returning-a-view-versus-a-copy\n",
      "  executor['Title 2'] = [\"executor\" if x != '' else np.nan for x in executor['First Name 2']]\n",
      "/var/folders/5s/dvrxt95949x1pm_sjxm85lj00000gn/T/ipykernel_37726/107894297.py:7: SettingWithCopyWarning: \n",
      "A value is trying to be set on a copy of a slice from a DataFrame.\n",
      "Try using .loc[row_indexer,col_indexer] = value instead\n",
      "\n",
      "See the caveats in the documentation: https://pandas.pydata.org/pandas-docs/stable/user_guide/indexing.html#returning-a-view-versus-a-copy\n",
      "  executor['First Name 3'] = names2\n",
      "/var/folders/5s/dvrxt95949x1pm_sjxm85lj00000gn/T/ipykernel_37726/107894297.py:8: SettingWithCopyWarning: \n",
      "A value is trying to be set on a copy of a slice from a DataFrame.\n",
      "Try using .loc[row_indexer,col_indexer] = value instead\n",
      "\n",
      "See the caveats in the documentation: https://pandas.pydata.org/pandas-docs/stable/user_guide/indexing.html#returning-a-view-versus-a-copy\n",
      "  executor['Last Name 3'] = [x.split(\" \")[-1]  if not pd.isnull(x) else x for x in executor['First Name 3']]\n",
      "/var/folders/5s/dvrxt95949x1pm_sjxm85lj00000gn/T/ipykernel_37726/107894297.py:9: SettingWithCopyWarning: \n",
      "A value is trying to be set on a copy of a slice from a DataFrame.\n",
      "Try using .loc[row_indexer,col_indexer] = value instead\n",
      "\n",
      "See the caveats in the documentation: https://pandas.pydata.org/pandas-docs/stable/user_guide/indexing.html#returning-a-view-versus-a-copy\n",
      "  executor['First Name 3'] = [\" \".join(x.split(\" \")[:-1])  if not pd.isnull(x) else x for x in executor['First Name 3']]\n",
      "/var/folders/5s/dvrxt95949x1pm_sjxm85lj00000gn/T/ipykernel_37726/107894297.py:10: SettingWithCopyWarning: \n",
      "A value is trying to be set on a copy of a slice from a DataFrame.\n",
      "Try using .loc[row_indexer,col_indexer] = value instead\n",
      "\n",
      "See the caveats in the documentation: https://pandas.pydata.org/pandas-docs/stable/user_guide/indexing.html#returning-a-view-versus-a-copy\n",
      "  executor['Title 3'] = [\"executor\" if not pd.isnull(x) else np.nan for x in executor['First Name 3']]\n"
     ]
    }
   ],
   "source": [
    "#changing recipient of all the money\n",
    "executor['First Name 2'] = names1\n",
    "executor['Last Name 2'] = [x.split(\" \")[-1] if x != '' else x for x in names1]\n",
    "executor['First Name 2'] = [\" \".join(x.split(\" \")[:-1]) if x != '' else x for x in executor['First Name 2'] ]\n",
    "executor['Title 2'] = [\"executor\" if x != '' else np.nan for x in executor['First Name 2']]\n",
    "\n",
    "executor['First Name 3'] = names2\n",
    "executor['Last Name 3'] = [x.split(\" \")[-1]  if not pd.isnull(x) else x for x in executor['First Name 3']]\n",
    "executor['First Name 3'] = [\" \".join(x.split(\" \")[:-1])  if not pd.isnull(x) else x for x in executor['First Name 3']]\n",
    "executor['Title 3'] = [\"executor\" if not pd.isnull(x) else np.nan for x in executor['First Name 3']]\n",
    "#executor"
   ]
  },
  {
   "cell_type": "code",
   "execution_count": 36,
   "metadata": {
    "pycharm": {
     "name": "#%%\n"
    }
   },
   "outputs": [
    {
     "name": "stderr",
     "output_type": "stream",
     "text": [
      "/var/folders/5s/dvrxt95949x1pm_sjxm85lj00000gn/T/ipykernel_37726/3082030523.py:1: SettingWithCopyWarning: \n",
      "A value is trying to be set on a copy of a slice from a DataFrame\n",
      "\n",
      "See the caveats in the documentation: https://pandas.pydata.org/pandas-docs/stable/user_guide/indexing.html#returning-a-view-versus-a-copy\n",
      "  executor['notes'][[x == \"Jacob\" and y == \"Carver\" for x, y in zip(executor['First Name 1 '], executor['Last Name 1 '])]] = \"Deceased, Estate\"\n",
      "/var/folders/5s/dvrxt95949x1pm_sjxm85lj00000gn/T/ipykernel_37726/3082030523.py:2: SettingWithCopyWarning: \n",
      "A value is trying to be set on a copy of a slice from a DataFrame\n",
      "\n",
      "See the caveats in the documentation: https://pandas.pydata.org/pandas-docs/stable/user_guide/indexing.html#returning-a-view-versus-a-copy\n",
      "  executor['notes'][[x == \"R\" and y == \"Gerraty\" for x, y in zip(executor['First Name 1 '], executor['Last Name 1 '])]] = \"Estate\"\n",
      "/var/folders/5s/dvrxt95949x1pm_sjxm85lj00000gn/T/ipykernel_37726/3082030523.py:3: SettingWithCopyWarning: \n",
      "A value is trying to be set on a copy of a slice from a DataFrame\n",
      "\n",
      "See the caveats in the documentation: https://pandas.pydata.org/pandas-docs/stable/user_guide/indexing.html#returning-a-view-versus-a-copy\n",
      "  executor['notes'][[x == \"Will Thomas\" and y == \"Hubbard\" for x, y in zip(executor['First Name 1 '], executor['Last Name 1 '])]] = \"Deceased\"\n"
     ]
    }
   ],
   "source": [
    "executor['notes'][[x == \"Jacob\" and y == \"Carver\" for x, y in zip(executor['First Name 1 '], executor['Last Name 1 '])]] = \"Deceased, Estate\"\n",
    "executor['notes'][[x == \"R\" and y == \"Gerraty\" for x, y in zip(executor['First Name 1 '], executor['Last Name 1 '])]] = \"Estate\"\n",
    "executor['notes'][[x == \"Will Thomas\" and y == \"Hubbard\" for x, y in zip(executor['First Name 1 '], executor['Last Name 1 '])]] = \"Deceased\""
   ]
  },
  {
   "cell_type": "markdown",
   "metadata": {
    "pycharm": {
     "name": "#%% md\n"
    }
   },
   "source": [
    "<h3> Modify weird_first_names to include corrections </h3>"
   ]
  },
  {
   "cell_type": "code",
   "execution_count": 37,
   "metadata": {
    "pycharm": {
     "name": "#%%\n"
    }
   },
   "outputs": [],
   "source": [
    "#make adjustments here\n",
    "weird_first_names.loc[executor.index] = executor"
   ]
  },
  {
   "cell_type": "code",
   "execution_count": 38,
   "metadata": {
    "pycharm": {
     "name": "#%%\n"
    }
   },
   "outputs": [],
   "source": [
    "executor_cleaned = weird_first_names.loc[executor.index]\n",
    "filter_out_names = executor_cleaned.index.tolist()\n",
    "#executor_cleaned"
   ]
  },
  {
   "cell_type": "code",
   "execution_count": 39,
   "metadata": {
    "pycharm": {
     "name": "#%%\n"
    }
   },
   "outputs": [],
   "source": [
    "#trend below - if its two and's deal with first case below\n",
    "#if its two &'s deal with second case below\n",
    "#otherwise just split the names"
   ]
  },
  {
   "cell_type": "code",
   "execution_count": 40,
   "metadata": {
    "pycharm": {
     "name": "#%%\n"
    }
   },
   "outputs": [
    {
     "data": {
      "text/plain": "(2261, 18)"
     },
     "execution_count": 40,
     "metadata": {},
     "output_type": "execute_result"
    }
   ],
   "source": [
    "two_names = weird_first_names[weird_first_names['First Name 1 '].apply(lambda x: (\"&\" in x or \" and \" in x.lower()))]\n",
    "new_index = [x not in filter_out_names for x in two_names.index]\n",
    "two_names = two_names.loc[new_index]\n",
    "two_names.shape"
   ]
  },
  {
   "cell_type": "markdown",
   "metadata": {
    "pycharm": {
     "name": "#%% md\n"
    }
   },
   "source": [
    "<h2> Handle corrections of names with weird combinators </h2> "
   ]
  },
  {
   "cell_type": "code",
   "execution_count": 41,
   "metadata": {
    "pycharm": {
     "name": "#%%\n"
    }
   },
   "outputs": [
    {
     "name": "stderr",
     "output_type": "stream",
     "text": [
      "/var/folders/5s/dvrxt95949x1pm_sjxm85lj00000gn/T/ipykernel_37726/2905605538.py:2: SettingWithCopyWarning: \n",
      "A value is trying to be set on a copy of a slice from a DataFrame.\n",
      "Try using .loc[row_indexer,col_indexer] = value instead\n",
      "\n",
      "See the caveats in the documentation: https://pandas.pydata.org/pandas-docs/stable/user_guide/indexing.html#returning-a-view-versus-a-copy\n",
      "  multiple_and['original text'] = multiple_and['First Name 1 ']\n"
     ]
    }
   ],
   "source": [
    "multiple_and = two_names[two_names['First Name 1 '].apply(lambda x: x.count('and') > 1)]\n",
    "multiple_and['original text'] = multiple_and['First Name 1 ']\n",
    "#multiple_and"
   ]
  },
  {
   "cell_type": "code",
   "execution_count": 42,
   "metadata": {
    "pycharm": {
     "name": "#%%\n"
    }
   },
   "outputs": [],
   "source": [
    "#add sarah charman to name 3, executor\n",
    "#add john cavott and jacob aivl as executors?? in name 3\n",
    "#add oiriginal to the present string"
   ]
  },
  {
   "cell_type": "code",
   "execution_count": 43,
   "metadata": {
    "pycharm": {
     "name": "#%%\n"
    }
   },
   "outputs": [
    {
     "name": "stderr",
     "output_type": "stream",
     "text": [
      "/var/folders/5s/dvrxt95949x1pm_sjxm85lj00000gn/T/ipykernel_37726/911496042.py:1: SettingWithCopyWarning: \n",
      "A value is trying to be set on a copy of a slice from a DataFrame.\n",
      "Try using .loc[row_indexer,col_indexer] = value instead\n",
      "\n",
      "See the caveats in the documentation: https://pandas.pydata.org/pandas-docs/stable/user_guide/indexing.html#returning-a-view-versus-a-copy\n",
      "  multiple_and['First Name 1 '] = multiple_and['First Name 1 '].replace('Sarah Charman for the use of Gilbert Hammond and Cornelius Tommand',\n",
      "/var/folders/5s/dvrxt95949x1pm_sjxm85lj00000gn/T/ipykernel_37726/911496042.py:3: SettingWithCopyWarning: \n",
      "A value is trying to be set on a copy of a slice from a DataFrame.\n",
      "Try using .loc[row_indexer,col_indexer] = value instead\n",
      "\n",
      "See the caveats in the documentation: https://pandas.pydata.org/pandas-docs/stable/user_guide/indexing.html#returning-a-view-versus-a-copy\n",
      "  multiple_and['First Name 1 '] = multiple_and['First Name 1 '].replace('John Cavott and Jacob Aivl for Moses Dichey and George Dukey',\n",
      "/var/folders/5s/dvrxt95949x1pm_sjxm85lj00000gn/T/ipykernel_37726/911496042.py:5: SettingWithCopyWarning: \n",
      "A value is trying to be set on a copy of a slice from a DataFrame.\n",
      "Try using .loc[row_indexer,col_indexer] = value instead\n",
      "\n",
      "See the caveats in the documentation: https://pandas.pydata.org/pandas-docs/stable/user_guide/indexing.html#returning-a-view-versus-a-copy\n",
      "  multiple_and['First Name 1 '] = multiple_and['First Name 1 '].replace('Jn Nixon I M Nerbitt and Alexander Forster',\n",
      "/var/folders/5s/dvrxt95949x1pm_sjxm85lj00000gn/T/ipykernel_37726/911496042.py:7: SettingWithCopyWarning: \n",
      "A value is trying to be set on a copy of a slice from a DataFrame.\n",
      "Try using .loc[row_indexer,col_indexer] = value instead\n",
      "\n",
      "See the caveats in the documentation: https://pandas.pydata.org/pandas-docs/stable/user_guide/indexing.html#returning-a-view-versus-a-copy\n",
      "  multiple_and['First Name 1 '] = multiple_and['First Name 1 '].replace('Samuel Ely and Michael Gellington Esq and Co',\n"
     ]
    }
   ],
   "source": [
    "multiple_and['First Name 1 '] = multiple_and['First Name 1 '].replace('Sarah Charman for the use of Gilbert Hammond and Cornelius Tommand', \n",
    "                                                                      'Gilbert Hammond and Cornelius Tommand')\n",
    "multiple_and['First Name 1 '] = multiple_and['First Name 1 '].replace('John Cavott and Jacob Aivl for Moses Dichey and George Dukey', \n",
    "                                                                      'Moses Dichey and George Dukey')\n",
    "multiple_and['First Name 1 '] = multiple_and['First Name 1 '].replace('Jn Nixon I M Nerbitt and Alexander Forster', \n",
    "                                                                      'Jn Nixon and I M Nerbitt and Alexander Forster')\n",
    "multiple_and['First Name 1 '] = multiple_and['First Name 1 '].replace('Samuel Ely and Michael Gellington Esq and Co',\n",
    "                                                                     'Samuel Ely and Michael Gellington Esq')"
   ]
  },
  {
   "cell_type": "code",
   "execution_count": 44,
   "metadata": {
    "pycharm": {
     "name": "#%%\n"
    }
   },
   "outputs": [],
   "source": [
    "tempindex = multiple_and[multiple_and['First Name 1 '].apply(lambda x: x == 'Gilbert Hammond and Cornelius Tommand')].index\n",
    "multiple_and.loc[tempindex, ['First Name 3', 'Last Name 3', 'Title 3']] = ['Sarah', 'Charman', 'executor']\n",
    "tempindex = multiple_and[multiple_and['First Name 1 '].apply(lambda x: x == 'John Cavott and Jacob Aivl')].index\n",
    "multiple_and.loc[tempindex, ['First Name 3', 'Last Name 3', 'Title 3']] = ['John', 'Cavott', 'executor']\n",
    "multiple_and.loc[tempindex, 'notes'] = ['Jacob Aivl executor']"
   ]
  },
  {
   "cell_type": "markdown",
   "metadata": {
    "pycharm": {
     "name": "#%% md\n"
    }
   },
   "source": [
    "<h3> Fix by replacing in two_names, not superior weird_first_names </h3> "
   ]
  },
  {
   "cell_type": "code",
   "execution_count": 45,
   "metadata": {
    "pycharm": {
     "name": "#%%\n"
    }
   },
   "outputs": [],
   "source": [
    "two_names.loc[multiple_and.index] = multiple_and\n",
    "multiple_and_cleaned = two_names.loc[multiple_and.index]\n",
    "multiple_and_cleaned['original text'] = multiple_and_cleaned['First Name 1 ']\n",
    "#multiple_and_cleaned"
   ]
  },
  {
   "cell_type": "code",
   "execution_count": 46,
   "metadata": {
    "pycharm": {
     "name": "#%%\n"
    }
   },
   "outputs": [
    {
     "name": "stderr",
     "output_type": "stream",
     "text": [
      "/var/folders/5s/dvrxt95949x1pm_sjxm85lj00000gn/T/ipykernel_37726/1794561497.py:4: SettingWithCopyWarning: \n",
      "A value is trying to be set on a copy of a slice from a DataFrame.\n",
      "Try using .loc[row_indexer,col_indexer] = value instead\n",
      "\n",
      "See the caveats in the documentation: https://pandas.pydata.org/pandas-docs/stable/user_guide/indexing.html#returning-a-view-versus-a-copy\n",
      "  multiple_and_symbol['original text'] = multiple_and_symbol['First Name 1 ']\n",
      "/var/folders/5s/dvrxt95949x1pm_sjxm85lj00000gn/T/ipykernel_37726/1794561497.py:5: SettingWithCopyWarning: \n",
      "A value is trying to be set on a copy of a slice from a DataFrame.\n",
      "Try using .loc[row_indexer,col_indexer] = value instead\n",
      "\n",
      "See the caveats in the documentation: https://pandas.pydata.org/pandas-docs/stable/user_guide/indexing.html#returning-a-view-versus-a-copy\n",
      "  multiple_and_symbol['First Name 1 '] = multiple_and_symbol['First Name 1 '].replace('Peter Brown & Nic Jacobs Ex & …….',\n"
     ]
    }
   ],
   "source": [
    "multiple_and_symbol = two_names[two_names['First Name 1 '].apply(lambda x: x.count('&') > 1)]\n",
    "#executive decision made - nic jacobs is executor of peter brown\n",
    "#add that nicholas jacobs is executor\n",
    "multiple_and_symbol['original text'] = multiple_and_symbol['First Name 1 ']\n",
    "multiple_and_symbol['First Name 1 '] = multiple_and_symbol['First Name 1 '].replace('Peter Brown & Nic Jacobs Ex & …….', \n",
    "                                                                                    'Peter Brown')\n",
    "tempindex = multiple_and_symbol[multiple_and_symbol['First Name 1 '].apply(lambda x: x == 'Peter Brown')].index\n",
    "multiple_and_symbol.loc[tempindex, ['First Name 2', 'Last Name 2', 'Title 2']] = ['Nic', 'Jacobs', 'executor']\n",
    "tempindex = multiple_and_symbol[multiple_and_symbol['First Name 1 '].apply(lambda x: x == 'Hre Rest & Ch & St Pr Chumess')].index\n",
    "multiple_and_symbol.loc[tempindex, ['First Name 1 ', 'Last Name 1 ', \n",
    "                                    'Last Name 2', 'First Name 3', 'Last Name 3']] = ['Hre', 'Rest', 'Ch', 'St Pr', 'Chumess']"
   ]
  },
  {
   "cell_type": "code",
   "execution_count": 47,
   "metadata": {
    "pycharm": {
     "name": "#%%\n"
    }
   },
   "outputs": [
    {
     "data": {
      "text/plain": "       State  Year  Month   Day Title 1 First Name 1  Last Name 1    Title 2  \\\n57469      6  1779      8  14.0     NaN           Hre         Rest       NaN   \n57680      6  1779      9   2.0     NaN   Peter Brown          NaN  executor   \n\n      First Name 2 Last Name 2 Title 3 First Name 3 Last Name 3  Face Value  \\\n57469          NaN          Ch     NaN        St Pr     Chumess         500   \n57680          Nic      Jacobs     NaN          NaN         NaN         400   \n\n       Specie Value  notes                      original text match eligible  \n57469       29.41667   NaN      Hre Rest & Ch & St Pr Chumess            NaN  \n57680       22.13333   NaN  Peter Brown & Nic Jacobs Ex & …….            NaN  ",
      "text/html": "<div>\n<style scoped>\n    .dataframe tbody tr th:only-of-type {\n        vertical-align: middle;\n    }\n\n    .dataframe tbody tr th {\n        vertical-align: top;\n    }\n\n    .dataframe thead th {\n        text-align: right;\n    }\n</style>\n<table border=\"1\" class=\"dataframe\">\n  <thead>\n    <tr style=\"text-align: right;\">\n      <th></th>\n      <th>State</th>\n      <th>Year</th>\n      <th>Month</th>\n      <th>Day</th>\n      <th>Title 1</th>\n      <th>First Name 1</th>\n      <th>Last Name 1</th>\n      <th>Title 2</th>\n      <th>First Name 2</th>\n      <th>Last Name 2</th>\n      <th>Title 3</th>\n      <th>First Name 3</th>\n      <th>Last Name 3</th>\n      <th>Face Value</th>\n      <th>Specie Value</th>\n      <th>notes</th>\n      <th>original text</th>\n      <th>match eligible</th>\n    </tr>\n  </thead>\n  <tbody>\n    <tr>\n      <th>57469</th>\n      <td>6</td>\n      <td>1779</td>\n      <td>8</td>\n      <td>14.0</td>\n      <td>NaN</td>\n      <td>Hre</td>\n      <td>Rest</td>\n      <td>NaN</td>\n      <td>NaN</td>\n      <td>Ch</td>\n      <td>NaN</td>\n      <td>St Pr</td>\n      <td>Chumess</td>\n      <td>500</td>\n      <td>29.41667</td>\n      <td>NaN</td>\n      <td>Hre Rest &amp; Ch &amp; St Pr Chumess</td>\n      <td>NaN</td>\n    </tr>\n    <tr>\n      <th>57680</th>\n      <td>6</td>\n      <td>1779</td>\n      <td>9</td>\n      <td>2.0</td>\n      <td>NaN</td>\n      <td>Peter Brown</td>\n      <td>NaN</td>\n      <td>executor</td>\n      <td>Nic</td>\n      <td>Jacobs</td>\n      <td>NaN</td>\n      <td>NaN</td>\n      <td>NaN</td>\n      <td>400</td>\n      <td>22.13333</td>\n      <td>NaN</td>\n      <td>Peter Brown &amp; Nic Jacobs Ex &amp; …….</td>\n      <td>NaN</td>\n    </tr>\n  </tbody>\n</table>\n</div>"
     },
     "execution_count": 47,
     "metadata": {},
     "output_type": "execute_result"
    }
   ],
   "source": [
    "two_names.loc[multiple_and_symbol.index] = multiple_and_symbol\n",
    "two_names.loc[multiple_and_symbol.index]"
   ]
  },
  {
   "cell_type": "code",
   "execution_count": 48,
   "metadata": {
    "pycharm": {
     "name": "#%%\n"
    }
   },
   "outputs": [
    {
     "data": {
      "text/plain": "Empty DataFrame\nColumns: [State, Year, Month, Day, Title 1, First Name 1 , Last Name 1 , Title 2, First Name 2, Last Name 2, Title 3, First Name 3, Last Name 3, Face Value, Specie Value , notes, original text, match eligible]\nIndex: []",
      "text/html": "<div>\n<style scoped>\n    .dataframe tbody tr th:only-of-type {\n        vertical-align: middle;\n    }\n\n    .dataframe tbody tr th {\n        vertical-align: top;\n    }\n\n    .dataframe thead th {\n        text-align: right;\n    }\n</style>\n<table border=\"1\" class=\"dataframe\">\n  <thead>\n    <tr style=\"text-align: right;\">\n      <th></th>\n      <th>State</th>\n      <th>Year</th>\n      <th>Month</th>\n      <th>Day</th>\n      <th>Title 1</th>\n      <th>First Name 1</th>\n      <th>Last Name 1</th>\n      <th>Title 2</th>\n      <th>First Name 2</th>\n      <th>Last Name 2</th>\n      <th>Title 3</th>\n      <th>First Name 3</th>\n      <th>Last Name 3</th>\n      <th>Face Value</th>\n      <th>Specie Value</th>\n      <th>notes</th>\n      <th>original text</th>\n      <th>match eligible</th>\n    </tr>\n  </thead>\n  <tbody>\n  </tbody>\n</table>\n</div>"
     },
     "execution_count": 48,
     "metadata": {},
     "output_type": "execute_result"
    }
   ],
   "source": [
    "#checking to make sure no string has both \"and\" and \"&\" as split symbol\n",
    "two_names[(two_names['First Name 1 '].apply(lambda x: \"&\" in x and \" and \" in x))]"
   ]
  },
  {
   "cell_type": "code",
   "execution_count": 49,
   "metadata": {
    "pycharm": {
     "name": "#%%\n"
    }
   },
   "outputs": [],
   "source": [
    "more_complicated = two_names[two_names['First Name 1 '].apply(lambda x: \" in \" in x or \" of \" in x or \"to \" in x or \"for\" in x)]\n",
    "more_complicated_names = more_complicated['First Name 1 '].unique().tolist()"
   ]
  },
  {
   "cell_type": "code",
   "execution_count": 50,
   "metadata": {
    "pycharm": {
     "name": "#%%\n"
    }
   },
   "outputs": [
    {
     "name": "stderr",
     "output_type": "stream",
     "text": [
      "/var/folders/5s/dvrxt95949x1pm_sjxm85lj00000gn/T/ipykernel_37726/3350884426.py:1: SettingWithCopyWarning: \n",
      "A value is trying to be set on a copy of a slice from a DataFrame.\n",
      "Try using .loc[row_indexer,col_indexer] = value instead\n",
      "\n",
      "See the caveats in the documentation: https://pandas.pydata.org/pandas-docs/stable/user_guide/indexing.html#returning-a-view-versus-a-copy\n",
      "  more_complicated['original text'] = more_complicated['First Name 1 ']\n"
     ]
    }
   ],
   "source": [
    "more_complicated['original text'] = more_complicated['First Name 1 ']"
   ]
  },
  {
   "cell_type": "code",
   "execution_count": 51,
   "metadata": {
    "pycharm": {
     "name": "#%%\n"
    }
   },
   "outputs": [
    {
     "name": "stdout",
     "output_type": "stream",
     "text": [
      "30\n",
      "['John Gray &Tho Dawes Fws.to Sarah Green', 'Jn Gray & Thomas Dawes Trustees to Sach Green', 'Nathaniel Appleton and other trustees of Judah Monis Legasy', 'John Barrett & Sons Trustees to Creditors of John Elsworth', 'Society for Relief of Poor Masters of ships widows and children', 'Corporation for the Relief of Poor and Distressed Presbyterian Ministers', 'Jeremiah Halsey and Sarah Gaston for the Estate of Gaston Dec', 'Wm Allison & Sam Caldwell Ex to the est of David Caldwell for children', 'Jacob Brush & Mary Wroop to the est of Jacob Carver Ded', 'Mathew Greer & Mathew Greer for the heirs of Thomas Jones Deceased', 'Joseph Jacket and Anthany Jacket Trustees of Presbyterian Congregation N town', 'Isaac Roush & Mary Bldney of Jacob Carver', 'Samuel Johnston Inna Hanna and I Johnston in trust for the Hierrs of Phil Johnston', 'Michele Shubart For Corporation of Michelle & Zion Churches', 'Corporation for relief of poor and distressed presbyterian ministers', 'Ed Keasby & J Bilber by the Ers of J Dickinson', 'Gen. Kelehner and Pr. Sheser Esq. to State of Conrad Scheele', 'Andrew Hagenbach and Catherine Brobst Guardians of John Brobst', 'Robert Patterson Guardin for Sarah and Mary Stewart', 'Peter Knight & Sus Woodrow Ex to the Estate of H Woodrow', 'James Camble NO 7015 is not on file & in supposed to the number not delivered', 'The rector of christ and st. peters churches', 'Jere Kalbey & S Gaston to the Estate John Gaston de', 'Jer Hals by & I Gaston Ex for the Estate of Jn Gaster', 'John Smith and James McDonald Guardian of the Heirs of John Gibson', 'Ex of William Stadlerman and Pk Lickon Ex of William Stadlerman', 'Michael Schubert for St Michael and Zeus Corporation', 'John Steinmetz for Corperetion of F Mich & Lions Cer', 'A and J J Caldwell for EvMitchell', 'Jon Steinmetz for St Michaels and Zions Cerpreatere']\n"
     ]
    }
   ],
   "source": [
    "print(len(more_complicated_names))\n",
    "print(more_complicated_names)"
   ]
  },
  {
   "cell_type": "code",
   "execution_count": 52,
   "metadata": {
    "pycharm": {
     "name": "#%%\n"
    }
   },
   "outputs": [],
   "source": [
    "#add notes saying that its an organization\n",
    "#add trustees/people for - label as executor\n",
    "#create dictionary corresponding to object that dictates how cases are tobe handled"
   ]
  },
  {
   "cell_type": "code",
   "execution_count": 53,
   "metadata": {
    "pycharm": {
     "name": "#%%\n"
    }
   },
   "outputs": [],
   "source": [
    "#this code will be very long because its manual"
   ]
  },
  {
   "cell_type": "code",
   "execution_count": 54,
   "metadata": {
    "pycharm": {
     "name": "#%%\n"
    }
   },
   "outputs": [],
   "source": [
    "tempindex = more_complicated[more_complicated['First Name 1 '].apply(lambda x: x == 'John Gray &Tho Dawes Fws.to Sarah Green')].index\n",
    "results = ['Sarah', 'Green', 'executor', 'John', 'Gray', 'executor', 'Tho', 'Dawes']\n",
    "more_complicated.loc[tempindex, ['First Name 1 ', 'Last Name 1 ', 'Title 2', 'First Name 2', 'Last Name 2', 'Title 3', 'First Name 3', 'Last Name 3']] = results\n",
    "\n",
    "tempindex = more_complicated[more_complicated['First Name 1 '].apply(lambda x: x == 'Jn Gray & Thomas Dawes Trustees to Sach Green')].index\n",
    "results = ['Sarah', 'Green', 'executor', 'Jn', 'Gray', 'executor', 'Thomas', 'Dawes']\n",
    "more_complicated.loc[tempindex, ['First Name 1 ', 'Last Name 1 ', 'Title 2', 'First Name 2', 'Last Name 2', 'Title 3', 'First Name 3', 'Last Name 3']] = results\n",
    "\n",
    "tempindex = more_complicated[more_complicated['First Name 1 '].apply(lambda x: x ==  'Nathaniel Appleton and other trustees of Judah Monis Legasy')].index\n",
    "results = ['Judah', 'Monis', 'legacy', 'executor', 'Nathaniel', 'Appleton']\n",
    "more_complicated.loc[tempindex, ['First Name 1 ', 'Last Name 1 ', 'notes', 'Title 2', 'First Name 2', 'Last Name 2']] = results\n",
    "\n",
    "tempindex = more_complicated[more_complicated['First Name 1 '].apply(lambda x: x ==  'John Barrett & Sons Trustees to Creditors of John Elsworth')].index\n",
    "results = ['John', 'Elsworth', 'creditors', 'executor', 'John', 'Barrett']\n",
    "more_complicated.loc[tempindex, ['First Name 1 ', 'Last Name 1 ', 'notes', 'Title 2', 'First Name 2', 'Last Name 2']] = results\n",
    "\n",
    "tempindex = more_complicated[more_complicated['First Name 1 '].apply(lambda x: x ==  'Society for Relief of Poor Masters of ships widows and children')].index\n",
    "results = ['organization', 'Society for Relief of Poor Masters of ships widows and children']\n",
    "more_complicated.loc[tempindex, ['Title 1', 'First Name 1 ']] = results\n",
    "\n",
    "tempindex = more_complicated[more_complicated['First Name 1 '].apply(lambda x: x ==  'Corporation for the Relief of Poor and Distressed Presbyterian Ministers')].index\n",
    "results = ['organization', 'Corporation for the Relief of Poor and Distressed Presbyterian Ministers']\n",
    "more_complicated.loc[tempindex, ['Title 1', 'First Name 1 ']] = results\n",
    "\n",
    "tempindex = more_complicated[more_complicated['First Name 1 '].apply(lambda x: x == 'Jeremiah Halsey and Sarah Gaston for the Estate of Gaston Dec')].index\n",
    "results = ['Gaston', 'Dec', 'estate', 'executor', 'Jeremiah', 'Halsey', 'executor', 'Sarah', ' ']\n",
    "more_complicated.loc[tempindex, ['First Name 1 ', 'Last Name 1 ', 'notes', 'Title 2', 'First Name 2', 'Last Name 2', 'Title 3', 'First Name 3', 'Last Name 3']] = results\n",
    "\n",
    "tempindex = more_complicated[more_complicated['First Name 1 '].apply(lambda x: x ==  'Wm Allison & Sam Caldwell Ex to the est of David Caldwell for children')].index\n",
    "results = ['David', 'Caldwell', 'estate for children', 'executor', 'Sam', 'Caldwell', 'executor', 'Wm', 'Allison']\n",
    "more_complicated.loc[tempindex, ['First Name 1 ', 'Last Name 1 ', 'notes', 'Title 2', 'First Name 2', 'Last Name 2', 'Title 3', 'First Name 3', 'Last Name 3']] = results\n",
    "\n",
    "tempindex = more_complicated[more_complicated['First Name 1 '].apply(lambda x: x ==  'Jacob Brush & Mary Wroop to the est of Jacob Carver Ded')].index\n",
    "results = ['Jacob', 'Carver', 'estate, deceased', 'executor', 'Jacob', 'Brush', 'executor', 'Mary', 'Wroop']\n",
    "more_complicated.loc[tempindex, ['First Name 1 ', 'Last Name 1 ', 'notes', 'Title 2', 'First Name 2', 'Last Name 2', 'Title 3', 'First Name 3', 'Last Name 3']] = results\n",
    "\n",
    "tempindex = more_complicated[more_complicated['First Name 1 '].apply(lambda x: x ==   'Mathew Greer & Mathew Greer for the heirs of Thomas Jones Deceased')].index\n",
    "results = ['Thomas', 'Jones', 'heirs, deceased', 'executor', 'Mathew', 'Greer']\n",
    "more_complicated.loc[tempindex, ['First Name 1 ', 'Last Name 1 ', 'notes', 'Title 2', 'First Name 2', 'Last Name 2']] = results"
   ]
  },
  {
   "cell_type": "code",
   "execution_count": 55,
   "metadata": {
    "pycharm": {
     "name": "#%%\n"
    }
   },
   "outputs": [],
   "source": [
    "tempindex = more_complicated[more_complicated['First Name 1 '].apply(lambda x: x ==  'Joseph Jacket and Anthany Jacket Trustees of Presbyterian Congregation N town')].index\n",
    "results = ['organization', 'Presbyterian Congregation N town', 'executor', 'Joseph', 'Jacket', 'executor', 'Anthany', 'Jacket']\n",
    "more_complicated.loc[tempindex, ['Title 1', 'First Name 1 ', 'Title 2', 'First Name 2', 'Last Name 2', 'Title 3', 'First Name 3', 'Last Name 3']] = results\n",
    "\n",
    "tempindex = more_complicated[more_complicated['First Name 1 '].apply(lambda x: x ==  'Isaac Roush & Mary Bldney of Jacob Carver')].index\n",
    "results = ['Jacob', 'Carver', 'executor', 'Mary', 'Bldney', 'executor', 'Isaac', 'Roush']\n",
    "more_complicated.loc[tempindex, ['First Name 1 ', 'Last Name 1 ', 'Title 2', 'First Name 2', 'Last Name 2', 'Title 3', 'First Name 3', 'Last Name 3']] = results\n",
    "\n",
    "tempindex = more_complicated[more_complicated['First Name 1 '].apply(lambda x: x ==  'Samuel Johnston Inna Hanna and I Johnston in trust for the Hierrs of Phil Johnston')].index\n",
    "results = ['Phil', 'Johnston', 'heirs', 'executor', 'Samuel', 'Johnston', 'executor', 'Inna Hanna', 'Johnston']\n",
    "more_complicated.loc[tempindex, ['First Name 1 ', 'Last Name 1 ', 'notes', 'Title 2', 'First Name 2', 'Last Name 2', 'Title 3', 'First Name 3', 'Last Name 3']] = results\n",
    "\n",
    "tempindex = more_complicated[more_complicated['First Name 1 '].apply(lambda x: x ==  'Michele Shubart For Corporation of Michelle & Zion Churches')].index\n",
    "results = ['organization', 'Corporation of Michelle & Zion Churches', 'executor', 'Michele', 'Shubart']\n",
    "more_complicated.loc[tempindex, ['Title 1', 'First Name 1 ', 'Title 2', 'First Name 2', 'Last Name 2']] = results\n",
    "\n",
    "tempindex = more_complicated[more_complicated['First Name 1 '].apply(lambda x: x ==  'Corporation for relief of poor and distressed presbyterian ministers')].index\n",
    "results = ['organization', 'Corporation for relief of poor and distressed presbyterian ministers']\n",
    "more_complicated.loc[tempindex, ['Title 1', 'First Name 1 ']] = results\n",
    "\n",
    "tempindex = more_complicated[more_complicated['First Name 1 '].apply(lambda x: x ==  'Ed Keasby & J Bilber by the Ers of J Dickinson')].index\n",
    "results = ['J', 'Dickinson', 'executor', 'Ed', 'Keasby', 'executor', 'J', 'Bilber']\n",
    "more_complicated.loc[tempindex, ['First Name 1 ', 'Last Name 1 ', 'Title 2', 'First Name 2', 'Last Name 2', 'Title 3', 'First Name 3', 'Last Name 3']] = results\n",
    "\n",
    "tempindex = more_complicated[more_complicated['First Name 1 '].apply(lambda x: x ==  'Gen. Kelehner and Pr. Sheser Esq. to State of Conrad Scheele')].index\n",
    "results = ['Conrad', 'Scheele', 'estate', 'executor', 'Gen.', 'Kelehner', 'executor', 'Pr. Sheser', 'Esq']\n",
    "more_complicated.loc[tempindex, ['First Name 1 ', 'Last Name 1 ', 'notes', 'Title 2', 'First Name 2', 'Last Name 2', 'Title 3', 'First Name 3', 'Last Name 3']] = results\n",
    "\n",
    "tempindex = more_complicated[more_complicated['First Name 1 '].apply(lambda x: x ==  'Andrew Hagenbach and Catherine Brobst Guardians of John Brobst')].index\n",
    "results = ['John', 'Brobst', 'executor', 'Andrew', 'Hagenbach', 'executor', 'Catherine', 'Brobst']\n",
    "more_complicated.loc[tempindex, ['First Name 1 ', 'Last Name 1 ', 'Title 2', 'First Name 2', 'Last Name 2', 'Title 3', 'First Name 3', 'Last Name 3']] = results\n",
    "\n",
    "tempindex = more_complicated[more_complicated['First Name 1 '].apply(lambda x: x ==  'Robert Patterson Guardin for Sarah and Mary Stewart')].index\n",
    "results = ['Sarah', 'Stewart', 'Mary', 'Stewart', 'executor', 'Robert', 'Patterson']\n",
    "more_complicated.loc[tempindex, ['First Name 1 ', 'Last Name 1 ', 'First Name 2', 'Last Name 2', 'Title 3', 'First Name 3', 'Last Name 3']] = results\n",
    "\n",
    "tempindex = more_complicated[more_complicated['First Name 1 '].apply(lambda x: x ==  'Peter Knight & Sus Woodrow Ex to the Estate of H Woodrow')].index\n",
    "results = ['H', 'Woodrow', 'estate', 'executor', 'Peter', 'Knight', 'executor', 'Sus', 'Woodrow']\n",
    "more_complicated.loc[tempindex, ['First Name 1 ', 'Last Name 1 ', 'notes', 'Title 2', 'First Name 2', 'Last Name 2', 'Title 3', 'First Name 3', 'Last Name 3']] = results"
   ]
  },
  {
   "cell_type": "code",
   "execution_count": 56,
   "metadata": {
    "pycharm": {
     "name": "#%%\n"
    }
   },
   "outputs": [],
   "source": [
    "tempindex = more_complicated[more_complicated['First Name 1 '].apply(lambda x: x ==  'James Camble NO 7015 is not on file & in supposed to the number not delivered')].index\n",
    "results = ['problem', 'James Camble NO 7015 is not on file & in supposed to the number not delivered']\n",
    "more_complicated.loc[tempindex, ['Title 1', 'First Name 1 ']] = results\n",
    "\n",
    "tempindex = more_complicated[more_complicated['First Name 1 '].apply(lambda x: x ==  'The rector of christ and st. peters churches')].index\n",
    "results = ['organization', 'The rector of christ and st. peters churches']\n",
    "more_complicated.loc[tempindex, ['Title 1', 'First Name 1 ']] = results\n",
    "\n",
    "tempindex = more_complicated[more_complicated['First Name 1 '].apply(lambda x: x ==  'Jere Kalbey & S Gaston to the Estate John Gaston de')].index\n",
    "results = ['John', 'Gaston de', 'estate', 'executor', 'Jere', 'Kalbey', 'executor', 'S', 'Gaston']\n",
    "more_complicated.loc[tempindex, ['First Name 1 ', 'Last Name 1 ', 'notes', 'Title 2', 'First Name 2', 'Last Name 2', 'Title 3', 'First Name 3', 'Last Name 3']] = results\n",
    "\n",
    "tempindex = more_complicated[more_complicated['First Name 1 '].apply(lambda x: x ==   'Jer Hals by & I Gaston Ex for the Estate of Jn Gaster')].index\n",
    "results = ['Jn', 'Gaster', 'estate', 'executor', 'Jer', 'Hals', 'executor', 'I', 'Gaston']\n",
    "more_complicated.loc[tempindex, ['First Name 1 ', 'Last Name 1 ', 'notes', 'Title 2', 'First Name 2', 'Last Name 2', 'Title 3', 'First Name 3', 'Last Name 3']] = results\n",
    "\n",
    "tempindex = more_complicated[more_complicated['First Name 1 '].apply(lambda x: x ==  'John Smith and James McDonald Guardian of the Heirs of John Gibson')].index\n",
    "results = ['John', 'Gibson', 'heirs', 'executor', 'John', 'Smith', 'executor', 'James', 'McDonald']\n",
    "more_complicated.loc[tempindex, ['First Name 1 ', 'Last Name 1 ', 'notes', 'Title 2', 'First Name 2', 'Last Name 2', 'Title 3', 'First Name 3', 'Last Name 3']] = results\n",
    "\n",
    "tempindex = more_complicated[more_complicated['First Name 1 '].apply(lambda x: x ==  'Ex of William Stadlerman and Pk Lickon Ex of William Stadlerman')].index\n",
    "results = ['William', 'Stadlerman', 'executor', 'Pk', 'Lickon']\n",
    "more_complicated.loc[tempindex, ['First Name 1 ', 'Last Name 1 ', 'Title 2', 'First Name 2', 'Last Name 2']] = results\n",
    "\n",
    "tempindex = more_complicated[more_complicated['First Name 1 '].apply(lambda x: x ==  'Michael Schubert for St Michael and Zeus Corporation')].index\n",
    "results = ['organization', 'St Michael and Zeus Corporation', 'executor', 'Michael', 'Schubert']\n",
    "more_complicated.loc[tempindex, ['Title 1', 'First Name 1 ', 'Title 2', 'First Name 2', 'Last Name 2']] = results\n",
    "\n",
    "tempindex = more_complicated[more_complicated['First Name 1 '].apply(lambda x: x == 'John Steinmetz for Corperetion of F Mich & Lions Cer')].index\n",
    "results = ['organization', 'Corperetion of F Mich & Lions Cer', 'executor', 'John', 'Steinmetz']\n",
    "more_complicated.loc[tempindex, ['Title 1', 'First Name 1 ', 'Title 2', 'First Name 2', 'Last Name 2']] = results\n",
    "\n",
    "tempindex = more_complicated[more_complicated['First Name 1 '].apply(lambda x: x ==  'A and J J Caldwell for EvMitchell')].index\n",
    "results = ['Ev', 'Mitchell', 'executor', 'A', 'Caldwell', 'executor', 'J J', 'Caldwell']\n",
    "more_complicated.loc[tempindex, ['First Name 1 ', 'Last Name 1 ', 'Title 2', 'First Name 2', 'Last Name 2', 'Title 3', 'First Name 3', 'Last Name 3']] = results\n",
    "\n",
    "tempindex = more_complicated[more_complicated['First Name 1 '].apply(lambda x: x == 'Jon Steinmetz for St Michaels and Zions Cerpreatere')].index\n",
    "results = ['organization', 'St Michaels and Zions Cerpreatere', 'executor', 'Jon', 'Steinmetz']\n",
    "more_complicated.loc[tempindex, ['Title 1', 'First Name 1 ', 'Title 2', 'First Name 2', 'Last Name 2']] = results"
   ]
  },
  {
   "cell_type": "code",
   "execution_count": 57,
   "metadata": {
    "pycharm": {
     "name": "#%%\n"
    }
   },
   "outputs": [],
   "source": [
    "two_names.loc[more_complicated.index] = more_complicated\n",
    "more_complicated_cleaned = two_names.loc[more_complicated.index]\n",
    "#two_names.loc[more_complicated.index]"
   ]
  },
  {
   "cell_type": "markdown",
   "metadata": {
    "pycharm": {
     "name": "#%% md\n"
    }
   },
   "source": [
    "<h2> Handle corrections of and co. </h2>"
   ]
  },
  {
   "cell_type": "code",
   "execution_count": 58,
   "metadata": {
    "pycharm": {
     "name": "#%%\n"
    }
   },
   "outputs": [],
   "source": [
    "has_co = two_names[two_names['First Name 1 '].apply(lambda x: x[-2:] == \"Co\" or \"co.\" in x.lower() or \" others \" in x.lower() and not betterIsNan(x))]\n",
    "has_co_names = pd.Series(has_co['First Name 1 '].unique())"
   ]
  },
  {
   "cell_type": "code",
   "execution_count": 59,
   "metadata": {
    "pycharm": {
     "name": "#%%\n"
    }
   },
   "outputs": [
    {
     "name": "stderr",
     "output_type": "stream",
     "text": [
      "/var/folders/5s/dvrxt95949x1pm_sjxm85lj00000gn/T/ipykernel_37726/883158524.py:1: SettingWithCopyWarning: \n",
      "A value is trying to be set on a copy of a slice from a DataFrame.\n",
      "Try using .loc[row_indexer,col_indexer] = value instead\n",
      "\n",
      "See the caveats in the documentation: https://pandas.pydata.org/pandas-docs/stable/user_guide/indexing.html#returning-a-view-versus-a-copy\n",
      "  has_co['original text'] = has_co['First Name 1 ']\n"
     ]
    }
   ],
   "source": [
    "has_co['original text'] = has_co['First Name 1 ']"
   ]
  },
  {
   "cell_type": "code",
   "execution_count": 60,
   "metadata": {
    "pycharm": {
     "name": "#%%\n"
    }
   },
   "outputs": [
    {
     "name": "stderr",
     "output_type": "stream",
     "text": [
      "/var/folders/5s/dvrxt95949x1pm_sjxm85lj00000gn/T/ipykernel_37726/2560514637.py:2: SettingWithCopyWarning: \n",
      "A value is trying to be set on a copy of a slice from a DataFrame\n",
      "\n",
      "See the caveats in the documentation: https://pandas.pydata.org/pandas-docs/stable/user_guide/indexing.html#returning-a-view-versus-a-copy\n",
      "  has_co['First Name 1 '][capt_sam_filter] = \"Samuel\"\n",
      "/var/folders/5s/dvrxt95949x1pm_sjxm85lj00000gn/T/ipykernel_37726/2560514637.py:3: SettingWithCopyWarning: \n",
      "A value is trying to be set on a copy of a slice from a DataFrame\n",
      "\n",
      "See the caveats in the documentation: https://pandas.pydata.org/pandas-docs/stable/user_guide/indexing.html#returning-a-view-versus-a-copy\n",
      "  has_co['Last Name 1 '][capt_sam_filter] = \"Wilman\"\n",
      "/var/folders/5s/dvrxt95949x1pm_sjxm85lj00000gn/T/ipykernel_37726/2560514637.py:4: SettingWithCopyWarning: \n",
      "A value is trying to be set on a copy of a slice from a DataFrame\n",
      "\n",
      "See the caveats in the documentation: https://pandas.pydata.org/pandas-docs/stable/user_guide/indexing.html#returning-a-view-versus-a-copy\n",
      "  has_co['Title 1'][capt_sam_filter] = \"Capt\"\n",
      "/var/folders/5s/dvrxt95949x1pm_sjxm85lj00000gn/T/ipykernel_37726/2560514637.py:7: SettingWithCopyWarning: \n",
      "A value is trying to be set on a copy of a slice from a DataFrame\n",
      "\n",
      "See the caveats in the documentation: https://pandas.pydata.org/pandas-docs/stable/user_guide/indexing.html#returning-a-view-versus-a-copy\n",
      "  has_co['First Name 1 '][paris_bro_filter] = math.nan\n",
      "/var/folders/5s/dvrxt95949x1pm_sjxm85lj00000gn/T/ipykernel_37726/2560514637.py:8: SettingWithCopyWarning: \n",
      "A value is trying to be set on a copy of a slice from a DataFrame\n",
      "\n",
      "See the caveats in the documentation: https://pandas.pydata.org/pandas-docs/stable/user_guide/indexing.html#returning-a-view-versus-a-copy\n",
      "  has_co['Last Name 1 '][paris_bro_filter] = \"Paris\"\n",
      "/var/folders/5s/dvrxt95949x1pm_sjxm85lj00000gn/T/ipykernel_37726/2560514637.py:9: SettingWithCopyWarning: \n",
      "A value is trying to be set on a copy of a slice from a DataFrame\n",
      "\n",
      "See the caveats in the documentation: https://pandas.pydata.org/pandas-docs/stable/user_guide/indexing.html#returning-a-view-versus-a-copy\n",
      "  has_co['notes'][paris_bro_filter] = \"brothers\"\n",
      "/var/folders/5s/dvrxt95949x1pm_sjxm85lj00000gn/T/ipykernel_37726/2560514637.py:12: SettingWithCopyWarning: \n",
      "A value is trying to be set on a copy of a slice from a DataFrame\n",
      "\n",
      "See the caveats in the documentation: https://pandas.pydata.org/pandas-docs/stable/user_guide/indexing.html#returning-a-view-versus-a-copy\n",
      "  has_co['Last Name 1 '][gs_dewint_filter] = \"Dewint\"\n",
      "/var/folders/5s/dvrxt95949x1pm_sjxm85lj00000gn/T/ipykernel_37726/2560514637.py:13: SettingWithCopyWarning: \n",
      "A value is trying to be set on a copy of a slice from a DataFrame\n",
      "\n",
      "See the caveats in the documentation: https://pandas.pydata.org/pandas-docs/stable/user_guide/indexing.html#returning-a-view-versus-a-copy\n",
      "  has_co['First Name 1 '][gs_dewint_filter] = \"GS.\"\n"
     ]
    }
   ],
   "source": [
    "capt_sam_filter = [x == 'Capt Samuel Wilman and Co.' for x in has_co['First Name 1 ']]\n",
    "has_co['First Name 1 '][capt_sam_filter] = \"Samuel\"\n",
    "has_co['Last Name 1 '][capt_sam_filter] = \"Wilman\"\n",
    "has_co['Title 1'][capt_sam_filter] = \"Capt\"\n",
    "\n",
    "paris_bro_filter = [x == 'Paris Brothers and co.' for x in has_co['First Name 1 ']]\n",
    "has_co['First Name 1 '][paris_bro_filter] = math.nan\n",
    "has_co['Last Name 1 '][paris_bro_filter] = \"Paris\"\n",
    "has_co['notes'][paris_bro_filter] = \"brothers\"\n",
    "\n",
    "gs_dewint_filter = [x == 'GS.Dewint & Co' for x in has_co['First Name 1 ']]\n",
    "has_co['Last Name 1 '][gs_dewint_filter] = \"Dewint\"\n",
    "has_co['First Name 1 '][gs_dewint_filter] = \"GS.\""
   ]
  },
  {
   "cell_type": "code",
   "execution_count": 61,
   "metadata": {
    "pycharm": {
     "name": "#%%\n"
    }
   },
   "outputs": [],
   "source": [
    "spec_status_names = ['Capt Samuel Wilman and Co.', 'Paris Brothers and co.', 'GS.Dewint & Co']\n",
    "spec_status_first_names = ['Samuel', math.nan, 'GS.']\n",
    "post_and_sym = has_co_names.apply(lambda x: x[:x.lower().find('&')] if x not in spec_status_names else x)\n",
    "post_and = has_co_names.apply(lambda x: x[:x.lower().find('and')] if x not in spec_status_names else x)\n",
    "#merge results\n",
    "pre_processing_co_names = pd.Series(y if len(x) >= len(y) else y for x, y in zip(post_and_sym, post_and))\n",
    "#remove stop words\n",
    "pre_processing_co_names = pre_processing_co_names.apply(lambda x: x.replace(\"&\", \"\").replace(\"Co.\", \"\").replace(\"co.\",\" \").strip())\n",
    "pre_processing_co_names = pre_processing_co_names.apply(lambda x: x.replace(\" C\", \"\").replace(\" other\", \"\").strip())"
   ]
  },
  {
   "cell_type": "code",
   "execution_count": 62,
   "metadata": {
    "pycharm": {
     "name": "#%%\n"
    }
   },
   "outputs": [],
   "source": [
    "replace_co = dict(pd.Series(pre_processing_co_names.tolist(), index = has_co_names))\n",
    "del replace_co[spec_status_names[0]]\n",
    "del replace_co[spec_status_names[1]]\n",
    "del replace_co[spec_status_names[2]]"
   ]
  },
  {
   "cell_type": "code",
   "execution_count": 63,
   "metadata": {
    "pycharm": {
     "name": "#%%\n"
    }
   },
   "outputs": [],
   "source": [
    "change_names = [x not in spec_status_first_names for x in has_co['First Name 1 ']]"
   ]
  },
  {
   "cell_type": "code",
   "execution_count": 64,
   "metadata": {
    "pycharm": {
     "name": "#%%\n"
    }
   },
   "outputs": [],
   "source": [
    "has_co.loc[change_names, 'First Name 1 '] = has_co['First Name 1 '][change_names].apply(lambda x: replace_co[x])\n",
    "has_co.loc[change_names, 'Last Name 1 '] = [x.split(\" \")[-1] for x in has_co['First Name 1 '][change_names]]\n",
    "has_co.loc[change_names, 'First Name 1 '] = [\" \".join(x.split(\" \")[:-1]) for x in has_co['First Name 1 '][change_names]]"
   ]
  },
  {
   "cell_type": "code",
   "execution_count": 65,
   "metadata": {
    "pycharm": {
     "name": "#%%\n"
    }
   },
   "outputs": [],
   "source": [
    "#special correction\n",
    "has_co.loc[has_co[has_co['original text'] == 'George Hand & Co'].index, 'Last Name 1 '] = 'Hand'"
   ]
  },
  {
   "cell_type": "code",
   "execution_count": 66,
   "metadata": {
    "pycharm": {
     "name": "#%%\n"
    }
   },
   "outputs": [],
   "source": [
    "two_names.loc[has_co.index] = has_co"
   ]
  },
  {
   "cell_type": "markdown",
   "metadata": {
    "pycharm": {
     "name": "#%% md\n"
    }
   },
   "source": [
    "<h2> Handling Heirs </h2>"
   ]
  },
  {
   "cell_type": "code",
   "execution_count": 67,
   "metadata": {
    "pycharm": {
     "name": "#%%\n"
    }
   },
   "outputs": [],
   "source": [
    "def heirPresent(x):\n",
    "    try:\n",
    "        return \"heir\" in x.lower()\n",
    "    except:\n",
    "        return False"
   ]
  },
  {
   "cell_type": "code",
   "execution_count": 68,
   "metadata": {
    "pycharm": {
     "name": "#%%\n"
    }
   },
   "outputs": [],
   "source": [
    "heirs = two_names[two_names['First Name 1 '].apply(lambda x: heirPresent(x))]\n",
    "heirs_names = heirs['First Name 1 '].unique()"
   ]
  },
  {
   "cell_type": "code",
   "execution_count": 69,
   "metadata": {
    "pycharm": {
     "name": "#%%\n"
    }
   },
   "outputs": [
    {
     "data": {
      "text/plain": "       State  Year  Month  Day Title 1                      First Name 1   \\\n40272      6  1777      5  8.0     NaN  Margarett Grant herself and heirs   \n\n      Last Name 1  Title 2 First Name 2 Last Name 2 Title 3 First Name 3  \\\n40272          NaN     NaN          NaN         NaN     NaN          NaN   \n\n      Last Name 3  Face Value  Specie Value  notes original text  \\\n40272         NaN         500          500.0   NaN           NaN   \n\n      match eligible  \n40272            NaN  ",
      "text/html": "<div>\n<style scoped>\n    .dataframe tbody tr th:only-of-type {\n        vertical-align: middle;\n    }\n\n    .dataframe tbody tr th {\n        vertical-align: top;\n    }\n\n    .dataframe thead th {\n        text-align: right;\n    }\n</style>\n<table border=\"1\" class=\"dataframe\">\n  <thead>\n    <tr style=\"text-align: right;\">\n      <th></th>\n      <th>State</th>\n      <th>Year</th>\n      <th>Month</th>\n      <th>Day</th>\n      <th>Title 1</th>\n      <th>First Name 1</th>\n      <th>Last Name 1</th>\n      <th>Title 2</th>\n      <th>First Name 2</th>\n      <th>Last Name 2</th>\n      <th>Title 3</th>\n      <th>First Name 3</th>\n      <th>Last Name 3</th>\n      <th>Face Value</th>\n      <th>Specie Value</th>\n      <th>notes</th>\n      <th>original text</th>\n      <th>match eligible</th>\n    </tr>\n  </thead>\n  <tbody>\n    <tr>\n      <th>40272</th>\n      <td>6</td>\n      <td>1777</td>\n      <td>5</td>\n      <td>8.0</td>\n      <td>NaN</td>\n      <td>Margarett Grant herself and heirs</td>\n      <td>NaN</td>\n      <td>NaN</td>\n      <td>NaN</td>\n      <td>NaN</td>\n      <td>NaN</td>\n      <td>NaN</td>\n      <td>NaN</td>\n      <td>500</td>\n      <td>500.0</td>\n      <td>NaN</td>\n      <td>NaN</td>\n      <td>NaN</td>\n    </tr>\n  </tbody>\n</table>\n</div>"
     },
     "execution_count": 69,
     "metadata": {},
     "output_type": "execute_result"
    }
   ],
   "source": [
    "heirs"
   ]
  },
  {
   "cell_type": "code",
   "execution_count": 70,
   "metadata": {
    "pycharm": {
     "name": "#%%\n"
    }
   },
   "outputs": [],
   "source": [
    "heirs.loc[40272, 'First Name 1 '] = \"Margaret\"\n",
    "heirs.loc[40272, 'Last Name 1 '] = \"Grant\"\n",
    "heirs.loc[40272, 'notes'] = \"heirs\""
   ]
  },
  {
   "cell_type": "code",
   "execution_count": 71,
   "metadata": {
    "pycharm": {
     "name": "#%%\n"
    }
   },
   "outputs": [
    {
     "data": {
      "text/plain": "       State  Year  Month  Day Title 1 First Name 1  Last Name 1  Title 2  \\\n40272      6  1777      5  8.0     NaN      Margaret        Grant     NaN   \n\n      First Name 2 Last Name 2 Title 3 First Name 3 Last Name 3  Face Value  \\\n40272          NaN         NaN     NaN          NaN         NaN         500   \n\n       Specie Value   notes original text match eligible  \n40272          500.0  heirs           NaN            NaN  ",
      "text/html": "<div>\n<style scoped>\n    .dataframe tbody tr th:only-of-type {\n        vertical-align: middle;\n    }\n\n    .dataframe tbody tr th {\n        vertical-align: top;\n    }\n\n    .dataframe thead th {\n        text-align: right;\n    }\n</style>\n<table border=\"1\" class=\"dataframe\">\n  <thead>\n    <tr style=\"text-align: right;\">\n      <th></th>\n      <th>State</th>\n      <th>Year</th>\n      <th>Month</th>\n      <th>Day</th>\n      <th>Title 1</th>\n      <th>First Name 1</th>\n      <th>Last Name 1</th>\n      <th>Title 2</th>\n      <th>First Name 2</th>\n      <th>Last Name 2</th>\n      <th>Title 3</th>\n      <th>First Name 3</th>\n      <th>Last Name 3</th>\n      <th>Face Value</th>\n      <th>Specie Value</th>\n      <th>notes</th>\n      <th>original text</th>\n      <th>match eligible</th>\n    </tr>\n  </thead>\n  <tbody>\n    <tr>\n      <th>40272</th>\n      <td>6</td>\n      <td>1777</td>\n      <td>5</td>\n      <td>8.0</td>\n      <td>NaN</td>\n      <td>Margaret</td>\n      <td>Grant</td>\n      <td>NaN</td>\n      <td>NaN</td>\n      <td>NaN</td>\n      <td>NaN</td>\n      <td>NaN</td>\n      <td>NaN</td>\n      <td>500</td>\n      <td>500.0</td>\n      <td>heirs</td>\n      <td>NaN</td>\n      <td>NaN</td>\n    </tr>\n  </tbody>\n</table>\n</div>"
     },
     "execution_count": 71,
     "metadata": {},
     "output_type": "execute_result"
    }
   ],
   "source": [
    "two_names.loc[heirs.index] = heirs\n",
    "two_names.loc[heirs.index]"
   ]
  },
  {
   "cell_type": "code",
   "execution_count": 72,
   "metadata": {
    "pycharm": {
     "name": "#%%\n"
    }
   },
   "outputs": [],
   "source": [
    "filter_out_names.extend(has_co.index.tolist())\n",
    "filter_out_names.extend(heirs.index.tolist())\n",
    "filter_out_names.extend(more_complicated.index.tolist())"
   ]
  },
  {
   "cell_type": "code",
   "execution_count": 73,
   "metadata": {
    "pycharm": {
     "name": "#%%\n"
    }
   },
   "outputs": [],
   "source": [
    "filter_out_names = list(set(filter_out_names))"
   ]
  },
  {
   "cell_type": "markdown",
   "metadata": {
    "pycharm": {
     "name": "#%% md\n"
    }
   },
   "source": [
    "<h2> Handling names separated by & and \"and\" </h2>"
   ]
  },
  {
   "cell_type": "code",
   "execution_count": 74,
   "metadata": {
    "pycharm": {
     "name": "#%%\n"
    }
   },
   "outputs": [],
   "source": [
    "and_sep_filter = [x not in filter_out_names for x in two_names.index]"
   ]
  },
  {
   "cell_type": "code",
   "execution_count": 75,
   "metadata": {
    "pycharm": {
     "name": "#%%\n"
    }
   },
   "outputs": [],
   "source": [
    "def splitNames(x):\n",
    "    x = x.replace(\" And \", \" and \")\n",
    "    if \"&\" in x:\n",
    "        return x.split(\"&\")\n",
    "    return x.split(\" and \")"
   ]
  },
  {
   "cell_type": "code",
   "execution_count": 76,
   "metadata": {
    "pycharm": {
     "name": "#%%\n"
    }
   },
   "outputs": [
    {
     "data": {
      "text/plain": "2    1717\n1       2\n3       1\nName: First Name 1 , dtype: int64"
     },
     "execution_count": 76,
     "metadata": {},
     "output_type": "execute_result"
    }
   ],
   "source": [
    "normal_join = two_names.loc[and_sep_filter]\n",
    "normal_join['First Name 1 '].apply(lambda x: splitNames(x)).apply(lambda x: len(x)).value_counts()"
   ]
  },
  {
   "cell_type": "code",
   "execution_count": 77,
   "metadata": {
    "pycharm": {
     "name": "#%%\n"
    }
   },
   "outputs": [
    {
     "name": "stderr",
     "output_type": "stream",
     "text": [
      "/var/folders/5s/dvrxt95949x1pm_sjxm85lj00000gn/T/ipykernel_37726/1955299422.py:1: SettingWithCopyWarning: \n",
      "A value is trying to be set on a copy of a slice from a DataFrame.\n",
      "Try using .loc[row_indexer,col_indexer] = value instead\n",
      "\n",
      "See the caveats in the documentation: https://pandas.pydata.org/pandas-docs/stable/user_guide/indexing.html#returning-a-view-versus-a-copy\n",
      "  normal_join['original text'] = normal_join['First Name 1 ']\n"
     ]
    }
   ],
   "source": [
    "normal_join['original text'] = normal_join['First Name 1 ']"
   ]
  },
  {
   "cell_type": "code",
   "execution_count": 78,
   "metadata": {
    "pycharm": {
     "name": "#%%\n"
    }
   },
   "outputs": [],
   "source": [
    "joinedNames = normal_join['First Name 1 '].apply(lambda x: splitNames(x))"
   ]
  },
  {
   "cell_type": "code",
   "execution_count": 79,
   "metadata": {
    "pycharm": {
     "name": "#%%\n"
    }
   },
   "outputs": [
    {
     "name": "stdout",
     "output_type": "stream",
     "text": [
      "139\n"
     ]
    }
   ],
   "source": [
    "print(len(normal_join['First Name 1 '].unique()))\n",
    "#normal_join['First Name 1 '].unique()"
   ]
  },
  {
   "cell_type": "code",
   "execution_count": 80,
   "metadata": {
    "pycharm": {
     "name": "#%%\n"
    }
   },
   "outputs": [],
   "source": [
    "def parseNames(ind, val):\n",
    "    if len(val) == 1:\n",
    "        val = val[0]\n",
    "        normal_join.loc[ind, 'Last Name 1 '] = val.split(\" \")[-1].strip()\n",
    "        normal_join.loc[ind, 'First Name 1 '] = \" \".join(val.split(\" \")[:-1]).strip()\n",
    "    elif len(val) == 2:\n",
    "        name1 = val[0].strip().split(\" \")\n",
    "        name2 = val[1].strip().split(\" \")\n",
    "        #normal handling\n",
    "        if len(name1) == 1 and len(name2) == 1:\n",
    "            \n",
    "            normal_join.loc[ind, 'notes'] = normal_join.loc[ind, 'First Name 1 ']\n",
    "            \n",
    "            normal_join.loc[ind, 'Last Name 1 '] = name1[0]\n",
    "            normal_join.loc[ind, 'First Name 1 '] = math.nan\n",
    "\n",
    "            normal_join.loc[ind, 'Last Name 2'] = name2[0]\n",
    "            normal_join.loc[ind, 'First Name 2'] = math.nan\n",
    "        elif len(name1) == 1:\n",
    "            normal_join.loc[ind, 'notes'] = normal_join.loc[ind, 'First Name 1 ']\n",
    "            if 'Van ' in name2:\n",
    "                normal_join.loc[ind, 'Last Name 1 '] = name1[0]\n",
    "                normal_join.loc[ind, 'First Name 1 '] = np.nan\n",
    "\n",
    "                normal_join.loc[ind, 'Last Name 2'] = \" \".join(name2)\n",
    "            else:\n",
    "                normal_join.loc[ind, 'Last Name 1 '] = name2[-1].strip()\n",
    "                normal_join.loc[ind, 'First Name 1 '] = name1[0]\n",
    "\n",
    "                normal_join.loc[ind, 'Last Name 2'] = name2[-1].strip()\n",
    "                normal_join.loc[ind, 'First Name 2'] = \" \".join(name2[:-1])\n",
    "        elif len(name2) == 1:\n",
    "            normal_join.loc[ind, 'notes'] = normal_join.loc[ind, 'First Name 1 ']\n",
    "            endings = set(['Comp.', 'son', 'ex', 'others', 'Sons', 'Son'])\n",
    "            if 'Van ' in name1:\n",
    "                normal_join.loc[ind, 'Last Name 1 '] = \" \".join(name1)\n",
    "                normal_join.loc[ind, 'First Name 1 '] = math.nan\n",
    "                normal_join.loc[ind, 'Last Name 2'] = \" \".join(name2)\n",
    "                normal_join.loc[ind, 'First Name 2'] = math.nan\n",
    "            elif len(endings.intersection(set(name2))) > 0:\n",
    "                normal_join.loc[ind, 'Last Name 1 '] = name1[-1].strip()\n",
    "                normal_join.loc[ind, 'First Name 1 '] = \" \".join(name1[:-1])\n",
    "            else:\n",
    "                normal_join.loc[ind, 'First Name 1 '] = math.nan\n",
    "                normal_join.loc[ind, 'Last Name 1 '] = name1[0].strip()\n",
    "                normal_join.loc[ind, 'Last Name 2'] = name1[1].strip()\n",
    "                normal_join.loc[ind, 'Last Name 3'] = name2[0].strip()\n",
    "        else:\n",
    "            normal_join.loc[ind, 'Last Name 1 '] = name1[-1].strip()\n",
    "            normal_join.loc[ind, 'First Name 1 '] = \" \".join(name1[:-1])\n",
    "            \n",
    "            normal_join.loc[ind, 'Last Name 2'] = name2[-1].strip()\n",
    "            normal_join.loc[ind, 'First Name 2'] = \" \".join(name2[:-1])\n",
    "    else:\n",
    "        name1 = val[0].split(\" \")\n",
    "        name2 = val[1].split(\" \")\n",
    "        name3 = val[2].split(\" \")\n",
    "        \n",
    "        normal_join.loc[ind, 'Last Name 1 '] = name1[-1].strip()\n",
    "        normal_join.loc[ind, 'First Name 1 '] = \" \".join(name1[:-1])\n",
    "            \n",
    "        normal_join.loc[ind, 'Last Name 2'] = name2[-1].strip()\n",
    "        normal_join.loc[ind, 'First Name 2'] = \" \".join(name2[:-1])\n",
    "          \n",
    "        normal_join.loc[ind, 'Last Name 3'] = name3[-1].strip()\n",
    "        normal_join.loc[ind, 'First Name 3'] = \" \".join(name3[:-1])"
   ]
  },
  {
   "cell_type": "code",
   "execution_count": 81,
   "metadata": {
    "pycharm": {
     "name": "#%%\n"
    }
   },
   "outputs": [],
   "source": [
    "for ind, val in joinedNames.items():\n",
    "    parseNames(ind, val)"
   ]
  },
  {
   "cell_type": "code",
   "execution_count": 82,
   "metadata": {
    "pycharm": {
     "name": "#%%\n"
    }
   },
   "outputs": [],
   "source": [
    "two_names.loc[normal_join.index] = normal_join\n",
    "normal_join_cleaned = two_names.loc[normal_join.index]\n",
    "#two_names.loc[normal_join.index]"
   ]
  },
  {
   "cell_type": "code",
   "execution_count": 83,
   "metadata": {
    "pycharm": {
     "name": "#%%\n"
    }
   },
   "outputs": [],
   "source": [
    "#manual edits"
   ]
  },
  {
   "cell_type": "code",
   "execution_count": 84,
   "metadata": {
    "pycharm": {
     "name": "#%%\n"
    }
   },
   "outputs": [],
   "source": [
    "normal_join_cleaned.loc[normal_join_cleaned[normal_join_cleaned['original text'] == 'Sam Ely and Jn Gallaher Esq'].index,\n",
    "                        ['Title 2','First Name 2', 'Last Name 2']] = ['Esq', 'Jn', 'Gallaher']\n",
    "normal_join_cleaned.loc[normal_join_cleaned[normal_join_cleaned['original text'] == 'Simon Dreisbach For Estates and John fox'].index,\n",
    "                        ['First Name 1 ', 'Last Name 1 ']] = ['Simon', 'Dreisbach']"
   ]
  },
  {
   "cell_type": "code",
   "execution_count": 85,
   "metadata": {
    "pycharm": {
     "name": "#%%\n"
    }
   },
   "outputs": [],
   "source": [
    "weird_first_names.loc[two_names.index] = two_names"
   ]
  },
  {
   "cell_type": "code",
   "execution_count": 86,
   "metadata": {
    "pycharm": {
     "name": "#%%\n"
    }
   },
   "outputs": [],
   "source": [
    "filter_out_names.extend(normal_join.index)"
   ]
  },
  {
   "cell_type": "code",
   "execution_count": 87,
   "metadata": {
    "pycharm": {
     "name": "#%%\n"
    }
   },
   "outputs": [],
   "source": [
    "filter_out_names.extend(two_names.index.tolist())\n",
    "filter_out_names = list(set(filter_out_names))"
   ]
  },
  {
   "cell_type": "markdown",
   "metadata": {
    "pycharm": {
     "name": "#%% md\n"
    }
   },
   "source": [
    "<h3> Handling treasurers </h3>"
   ]
  },
  {
   "cell_type": "code",
   "execution_count": 88,
   "metadata": {
    "pycharm": {
     "name": "#%%\n"
    }
   },
   "outputs": [],
   "source": [
    "#society's treasurer lyme - just society \n",
    "#get organization name from words after treasurer"
   ]
  },
  {
   "cell_type": "code",
   "execution_count": 89,
   "metadata": {
    "pycharm": {
     "name": "#%%\n"
    }
   },
   "outputs": [],
   "source": [
    "def testString(string, match):\n",
    "    try:\n",
    "        return match in string.lower()\n",
    "    except:\n",
    "        return False"
   ]
  },
  {
   "cell_type": "code",
   "execution_count": 90,
   "metadata": {
    "pycharm": {
     "name": "#%%\n"
    }
   },
   "outputs": [
    {
     "data": {
      "text/plain": "(70, 18)"
     },
     "execution_count": 90,
     "metadata": {},
     "output_type": "execute_result"
    }
   ],
   "source": [
    "treasurer = weird_first_names[weird_first_names['First Name 1 '].apply(lambda x: testString(x, \"treas\") and x not in filter_out_names)]\n",
    "treasurer.shape"
   ]
  },
  {
   "cell_type": "code",
   "execution_count": 91,
   "metadata": {
    "pycharm": {
     "name": "#%%\n"
    }
   },
   "outputs": [
    {
     "data": {
      "text/plain": "array(['Ebenezer Storer Treasurer H College',\n       'Job Cushing Treasurer for Shrewsbury',\n       'Jos Richards Treas 2nd Precinct Roxbury',\n       'Dan Thurston Treasurer Church in Franklin',\n       'Simeon Howard Treasurer Convention of Ministers',\n       'Eli Root Treasurer of Pittsfield', \"Society's Treasurer Lyme\"],\n      dtype=object)"
     },
     "execution_count": 91,
     "metadata": {},
     "output_type": "execute_result"
    }
   ],
   "source": [
    "filter_out_names.extend(treasurer['First Name 1 '].unique().tolist())\n",
    "treasurer['First Name 1 '].unique()"
   ]
  },
  {
   "cell_type": "code",
   "execution_count": 92,
   "metadata": {
    "pycharm": {
     "name": "#%%\n"
    }
   },
   "outputs": [
    {
     "name": "stderr",
     "output_type": "stream",
     "text": [
      "/var/folders/5s/dvrxt95949x1pm_sjxm85lj00000gn/T/ipykernel_37726/3580645778.py:1: SettingWithCopyWarning: \n",
      "A value is trying to be set on a copy of a slice from a DataFrame.\n",
      "Try using .loc[row_indexer,col_indexer] = value instead\n",
      "\n",
      "See the caveats in the documentation: https://pandas.pydata.org/pandas-docs/stable/user_guide/indexing.html#returning-a-view-versus-a-copy\n",
      "  treasurer['original text'] = treasurer['First Name 1 ']\n"
     ]
    }
   ],
   "source": [
    "treasurer['original text'] = treasurer['First Name 1 ']"
   ]
  },
  {
   "cell_type": "code",
   "execution_count": 93,
   "metadata": {
    "pycharm": {
     "name": "#%%\n"
    }
   },
   "outputs": [],
   "source": [
    "#some long code handling treasurer replacements"
   ]
  },
  {
   "cell_type": "code",
   "execution_count": 94,
   "metadata": {
    "pycharm": {
     "name": "#%%\n"
    }
   },
   "outputs": [],
   "source": [
    "tempindex = treasurer[treasurer['First Name 1 '].apply(lambda x: x ==  'Ebenezer Storer Treasurer H College')].index\n",
    "results = ['organization', 'H College', 'treasurer', 'Ebenezer', 'Storer']\n",
    "treasurer.loc[tempindex, ['Title 1', 'First Name 1 ', 'Title 2', 'First Name 2', 'Last Name 2']] = results\n",
    "\n",
    "tempindex = treasurer[treasurer['First Name 1 '].apply(lambda x: x ==  'Job Cushing Treasurer for Shrewsbury')].index\n",
    "results = ['organization', 'Shrewsbury', 'treasurer', 'Job', 'Cushing']\n",
    "treasurer.loc[tempindex, ['Title 1', 'First Name 1 ', 'Title 2', 'First Name 2', 'Last Name 2']] = results\n",
    "\n",
    "tempindex = treasurer[treasurer['First Name 1 '].apply(lambda x: x ==  'Jos Richards Treas 2nd Precinct Roxbury')].index\n",
    "results = ['organization', '2nd Precinct Roxbury', 'treasurer', 'Jos', 'Richards']\n",
    "treasurer.loc[tempindex, ['Title 1', 'First Name 1 ', 'Title 2', 'First Name 2', 'Last Name 2']] = results\n",
    "\n",
    "tempindex = treasurer[treasurer['First Name 1 '].apply(lambda x: x ==  'Dan Thurston Treasurer Church in Franklin')].index\n",
    "results = ['organization', 'Church in Franklin', 'treasurer', 'Dan', 'Thurston']\n",
    "treasurer.loc[tempindex, ['Title 1', 'First Name 1 ', 'Title 2', 'First Name 2', 'Last Name 2']] = results\n",
    "\n",
    "tempindex = treasurer[treasurer['First Name 1 '].apply(lambda x: x ==  'Simeon Howard Treasurer Convention of Ministers')].index\n",
    "results = ['organization', 'Convention of Ministers', 'treasurer', 'Simeon', 'Howard']\n",
    "treasurer.loc[tempindex, ['Title 1', 'First Name 1 ', 'Title 2', 'First Name 2', 'Last Name 2']] = results\n",
    "\n",
    "tempindex = treasurer[treasurer['First Name 1 '].apply(lambda x: x ==  'Eli Root Treasurer of Pittsfield')].index\n",
    "results = ['organization', 'Pittsfield', 'treasurer', 'Eli', 'Root']\n",
    "treasurer.loc[tempindex, ['Title 1', 'First Name 1 ', 'Title 2', 'First Name 2', 'Last Name 2']] = results\n",
    "\n",
    "tempindex = treasurer[treasurer['First Name 1 '].apply(lambda x: x ==  \"Society's Treasurer Lyme\")].index\n",
    "results = ['organization', 'Society', 'treasurer', 'Lyme']\n",
    "treasurer.loc[tempindex, ['Title 1', 'First Name 1 ', 'Title 2', 'Last Name 2']] = results"
   ]
  },
  {
   "cell_type": "code",
   "execution_count": 95,
   "metadata": {
    "pycharm": {
     "name": "#%%\n"
    }
   },
   "outputs": [],
   "source": [
    "weird_first_names.loc[treasurer.index] = treasurer\n",
    "treasurer_cleaned = weird_first_names.loc[treasurer.index]\n",
    "#weird_first_names.loc[treasurer.index]"
   ]
  },
  {
   "cell_type": "code",
   "execution_count": 96,
   "metadata": {
    "pycharm": {
     "name": "#%%\n"
    }
   },
   "outputs": [],
   "source": [
    "filter_out_names.extend(treasurer_cleaned.index.tolist())"
   ]
  },
  {
   "cell_type": "markdown",
   "metadata": {
    "pycharm": {
     "name": "#%% md\n"
    }
   },
   "source": [
    "<h2> Handling everything else </h2>"
   ]
  },
  {
   "cell_type": "code",
   "execution_count": 97,
   "metadata": {
    "pycharm": {
     "name": "#%%\n"
    }
   },
   "outputs": [
    {
     "data": {
      "text/plain": "(1662, 18)"
     },
     "execution_count": 97,
     "metadata": {},
     "output_type": "execute_result"
    }
   ],
   "source": [
    "other_cases = weird_first_names[pd.Series(weird_first_names.index).apply(lambda x: x not in filter_out_names).values]\n",
    "other_cases.shape"
   ]
  },
  {
   "cell_type": "code",
   "execution_count": 98,
   "metadata": {
    "pycharm": {
     "name": "#%%\n"
    }
   },
   "outputs": [],
   "source": [
    "#len(other_cases['First Name 1 '].unique())"
   ]
  },
  {
   "cell_type": "code",
   "execution_count": 99,
   "metadata": {
    "pycharm": {
     "name": "#%%\n"
    }
   },
   "outputs": [],
   "source": [
    "nlp = spacy.load(\"en_core_web_sm\")\n",
    "other_fixed_names = []\n",
    "for entity in other_cases['First Name 1 ']:\n",
    "    doc = nlp(entity)\n",
    "    if len(doc.ents) == 1:\n",
    "        ent = doc.ents[0]\n",
    "        if ent.label_ == \"PERSON\" and ent.text == entity:\n",
    "            other_fixed_names.append(ent.text)\n",
    "        elif ent.label == \"ORG\" and ent.text == entity:\n",
    "            other_fixed_names.append(ent.text)\n",
    "        else:\n",
    "            other_fixed_names.append(False)\n",
    "    elif len(doc.ents) == 2:\n",
    "        ent = doc.ents[0]\n",
    "        ent2 = doc.ents[1]\n",
    "        if ent.label_ == \"Person\" and ent2.label_ == \"Person\" and (ent.text + \" \" + ent2.text) == entity:\n",
    "            other_fixed_names.append(ent.text + \" \" + ent2.text)\n",
    "        else:\n",
    "            other_fixed_names.append(False)\n",
    "    else:\n",
    "        other_fixed_names.append(False)"
   ]
  },
  {
   "cell_type": "code",
   "execution_count": 100,
   "metadata": {
    "pycharm": {
     "name": "#%%\n"
    }
   },
   "outputs": [
    {
     "name": "stdout",
     "output_type": "stream",
     "text": [
      "435\n"
     ]
    }
   ],
   "source": [
    "#what is william thomas exos james ecum\n",
    "print(sum([1 if x is False else 0 for x in other_fixed_names]))\n",
    "#set(other_fixed_names)"
   ]
  },
  {
   "cell_type": "markdown",
   "metadata": {
    "pycharm": {
     "name": "#%% md\n"
    }
   },
   "source": [
    "<h3> Proper names that are just misplaced </h3>"
   ]
  },
  {
   "cell_type": "code",
   "execution_count": 101,
   "metadata": {
    "pycharm": {
     "name": "#%%\n"
    }
   },
   "outputs": [],
   "source": [
    "indices = [not x if x is False else False for x in other_fixed_names]\n",
    "indices_neg = [not x for x in indices]"
   ]
  },
  {
   "cell_type": "code",
   "execution_count": 102,
   "metadata": {
    "pycharm": {
     "name": "#%%\n"
    }
   },
   "outputs": [],
   "source": [
    "swap_names = pd.Series(other_fixed_names)[indices_neg]"
   ]
  },
  {
   "cell_type": "code",
   "execution_count": 103,
   "metadata": {
    "pycharm": {
     "name": "#%%\n"
    }
   },
   "outputs": [],
   "source": [
    "other_cases.loc[indices_neg, 'First Name 1 '] = swap_names\n",
    "other_cases.loc[indices_neg, 'Last Name 1 '] = [x.split(\" \")[-1] for x in swap_names]\n",
    "other_cases.loc[indices_neg, 'First Name 1 '] = [\" \".join(x.split(\" \")[:-1]) for x in swap_names]"
   ]
  },
  {
   "cell_type": "code",
   "execution_count": 104,
   "outputs": [],
   "source": [
    "def removeStringDuplicates(string):\n",
    "    return \" \".join(sorted(set(string.split()), key=string.split().index))"
   ],
   "metadata": {
    "collapsed": false,
    "pycharm": {
     "name": "#%%\n"
    }
   }
  },
  {
   "cell_type": "code",
   "execution_count": 105,
   "metadata": {
    "pycharm": {
     "name": "#%%\n"
    }
   },
   "outputs": [],
   "source": [
    "weird_first_names.loc[other_cases[indices_neg].index] = other_cases.loc[indices_neg]\n",
    "weird_first_names.loc[other_cases[indices_neg].index, 'First Name 1 '] = weird_first_names.loc[other_cases[indices_neg].index]['First Name 1 '].apply(lambda x: removeStringDuplicates(x))"
   ]
  },
  {
   "cell_type": "code",
   "execution_count": 106,
   "outputs": [
    {
     "data": {
      "text/plain": "       State  Year  Month   Day Title 1  First Name 1  Last Name 1  Title 2  \\\n10301      2  1779      1  28.0     NaN     John Davis     Williams     NaN   \n34954      5  1779      3  31.0     NaN     John Treat        Crane     NaN   \n35442      5  1779      4  21.0     NaN  Samuel Wright     Hortsham     NaN   \n35798      5  1779      5   4.0     NaN        Abraham       Haring     NaN   \n35805      5  1779      5   4.0     NaN        Abraham       Haring     NaN   \n...      ...   ...    ...   ...     ...            ...          ...     ...   \n80895      9  1780      2   1.0     NaN          Jesse       Taylor     NaN   \n80906      9  1779      3  19.0     NaN        William      Bradley     NaN   \n80907      9  1779      3  19.0     NaN         Samuel       Oldham     NaN   \n80908      9  1780      1   1.0     NaN           John          Hay     NaN   \n80911      9  1779      3  13.0     NaN         Samuel       Oldham     NaN   \n\n      First Name 2 Last Name 2 Title 3 First Name 3 Last Name 3  Face Value  \\\n10301          NaN         NaN     NaN          NaN         NaN         500   \n34954          NaN         NaN     NaN          NaN         NaN         500   \n35442          NaN         NaN     NaN          NaN         NaN         400   \n35798          NaN         NaN     NaN          NaN         NaN         400   \n35805          NaN         NaN     NaN          NaN         NaN         300   \n...            ...         ...     ...          ...         ...         ...   \n80895          NaN         NaN     NaN          NaN         NaN         300   \n80906          NaN         NaN     NaN          NaN         NaN        1000   \n80907          NaN         NaN     NaN          NaN         NaN        1000   \n80908          NaN         NaN     NaN          NaN         NaN         400   \n80911          NaN         NaN     NaN          NaN         NaN         500   \n\n       Specie Value  notes original text match eligible  \n10301      58.791670   NaN           NaN            NaN  \n34954      45.423610   NaN           NaN            NaN  \n35442      33.983330   NaN           NaN            NaN  \n35798      32.600000   NaN           NaN            NaN  \n35805      24.450000   NaN           NaN            NaN  \n...              ...   ...           ...            ...  \n80895       9.020833   NaN           NaN            NaN  \n80906      94.402780   NaN           NaN            NaN  \n80907      94.402780   NaN           NaN            NaN  \n80908      13.616670   NaN           NaN            NaN  \n80911      48.118060   NaN           NaN            NaN  \n\n[1227 rows x 18 columns]",
      "text/html": "<div>\n<style scoped>\n    .dataframe tbody tr th:only-of-type {\n        vertical-align: middle;\n    }\n\n    .dataframe tbody tr th {\n        vertical-align: top;\n    }\n\n    .dataframe thead th {\n        text-align: right;\n    }\n</style>\n<table border=\"1\" class=\"dataframe\">\n  <thead>\n    <tr style=\"text-align: right;\">\n      <th></th>\n      <th>State</th>\n      <th>Year</th>\n      <th>Month</th>\n      <th>Day</th>\n      <th>Title 1</th>\n      <th>First Name 1</th>\n      <th>Last Name 1</th>\n      <th>Title 2</th>\n      <th>First Name 2</th>\n      <th>Last Name 2</th>\n      <th>Title 3</th>\n      <th>First Name 3</th>\n      <th>Last Name 3</th>\n      <th>Face Value</th>\n      <th>Specie Value</th>\n      <th>notes</th>\n      <th>original text</th>\n      <th>match eligible</th>\n    </tr>\n  </thead>\n  <tbody>\n    <tr>\n      <th>10301</th>\n      <td>2</td>\n      <td>1779</td>\n      <td>1</td>\n      <td>28.0</td>\n      <td>NaN</td>\n      <td>John Davis</td>\n      <td>Williams</td>\n      <td>NaN</td>\n      <td>NaN</td>\n      <td>NaN</td>\n      <td>NaN</td>\n      <td>NaN</td>\n      <td>NaN</td>\n      <td>500</td>\n      <td>58.791670</td>\n      <td>NaN</td>\n      <td>NaN</td>\n      <td>NaN</td>\n    </tr>\n    <tr>\n      <th>34954</th>\n      <td>5</td>\n      <td>1779</td>\n      <td>3</td>\n      <td>31.0</td>\n      <td>NaN</td>\n      <td>John Treat</td>\n      <td>Crane</td>\n      <td>NaN</td>\n      <td>NaN</td>\n      <td>NaN</td>\n      <td>NaN</td>\n      <td>NaN</td>\n      <td>NaN</td>\n      <td>500</td>\n      <td>45.423610</td>\n      <td>NaN</td>\n      <td>NaN</td>\n      <td>NaN</td>\n    </tr>\n    <tr>\n      <th>35442</th>\n      <td>5</td>\n      <td>1779</td>\n      <td>4</td>\n      <td>21.0</td>\n      <td>NaN</td>\n      <td>Samuel Wright</td>\n      <td>Hortsham</td>\n      <td>NaN</td>\n      <td>NaN</td>\n      <td>NaN</td>\n      <td>NaN</td>\n      <td>NaN</td>\n      <td>NaN</td>\n      <td>400</td>\n      <td>33.983330</td>\n      <td>NaN</td>\n      <td>NaN</td>\n      <td>NaN</td>\n    </tr>\n    <tr>\n      <th>35798</th>\n      <td>5</td>\n      <td>1779</td>\n      <td>5</td>\n      <td>4.0</td>\n      <td>NaN</td>\n      <td>Abraham</td>\n      <td>Haring</td>\n      <td>NaN</td>\n      <td>NaN</td>\n      <td>NaN</td>\n      <td>NaN</td>\n      <td>NaN</td>\n      <td>NaN</td>\n      <td>400</td>\n      <td>32.600000</td>\n      <td>NaN</td>\n      <td>NaN</td>\n      <td>NaN</td>\n    </tr>\n    <tr>\n      <th>35805</th>\n      <td>5</td>\n      <td>1779</td>\n      <td>5</td>\n      <td>4.0</td>\n      <td>NaN</td>\n      <td>Abraham</td>\n      <td>Haring</td>\n      <td>NaN</td>\n      <td>NaN</td>\n      <td>NaN</td>\n      <td>NaN</td>\n      <td>NaN</td>\n      <td>NaN</td>\n      <td>300</td>\n      <td>24.450000</td>\n      <td>NaN</td>\n      <td>NaN</td>\n      <td>NaN</td>\n    </tr>\n    <tr>\n      <th>...</th>\n      <td>...</td>\n      <td>...</td>\n      <td>...</td>\n      <td>...</td>\n      <td>...</td>\n      <td>...</td>\n      <td>...</td>\n      <td>...</td>\n      <td>...</td>\n      <td>...</td>\n      <td>...</td>\n      <td>...</td>\n      <td>...</td>\n      <td>...</td>\n      <td>...</td>\n      <td>...</td>\n      <td>...</td>\n      <td>...</td>\n    </tr>\n    <tr>\n      <th>80895</th>\n      <td>9</td>\n      <td>1780</td>\n      <td>2</td>\n      <td>1.0</td>\n      <td>NaN</td>\n      <td>Jesse</td>\n      <td>Taylor</td>\n      <td>NaN</td>\n      <td>NaN</td>\n      <td>NaN</td>\n      <td>NaN</td>\n      <td>NaN</td>\n      <td>NaN</td>\n      <td>300</td>\n      <td>9.020833</td>\n      <td>NaN</td>\n      <td>NaN</td>\n      <td>NaN</td>\n    </tr>\n    <tr>\n      <th>80906</th>\n      <td>9</td>\n      <td>1779</td>\n      <td>3</td>\n      <td>19.0</td>\n      <td>NaN</td>\n      <td>William</td>\n      <td>Bradley</td>\n      <td>NaN</td>\n      <td>NaN</td>\n      <td>NaN</td>\n      <td>NaN</td>\n      <td>NaN</td>\n      <td>NaN</td>\n      <td>1000</td>\n      <td>94.402780</td>\n      <td>NaN</td>\n      <td>NaN</td>\n      <td>NaN</td>\n    </tr>\n    <tr>\n      <th>80907</th>\n      <td>9</td>\n      <td>1779</td>\n      <td>3</td>\n      <td>19.0</td>\n      <td>NaN</td>\n      <td>Samuel</td>\n      <td>Oldham</td>\n      <td>NaN</td>\n      <td>NaN</td>\n      <td>NaN</td>\n      <td>NaN</td>\n      <td>NaN</td>\n      <td>NaN</td>\n      <td>1000</td>\n      <td>94.402780</td>\n      <td>NaN</td>\n      <td>NaN</td>\n      <td>NaN</td>\n    </tr>\n    <tr>\n      <th>80908</th>\n      <td>9</td>\n      <td>1780</td>\n      <td>1</td>\n      <td>1.0</td>\n      <td>NaN</td>\n      <td>John</td>\n      <td>Hay</td>\n      <td>NaN</td>\n      <td>NaN</td>\n      <td>NaN</td>\n      <td>NaN</td>\n      <td>NaN</td>\n      <td>NaN</td>\n      <td>400</td>\n      <td>13.616670</td>\n      <td>NaN</td>\n      <td>NaN</td>\n      <td>NaN</td>\n    </tr>\n    <tr>\n      <th>80911</th>\n      <td>9</td>\n      <td>1779</td>\n      <td>3</td>\n      <td>13.0</td>\n      <td>NaN</td>\n      <td>Samuel</td>\n      <td>Oldham</td>\n      <td>NaN</td>\n      <td>NaN</td>\n      <td>NaN</td>\n      <td>NaN</td>\n      <td>NaN</td>\n      <td>NaN</td>\n      <td>500</td>\n      <td>48.118060</td>\n      <td>NaN</td>\n      <td>NaN</td>\n      <td>NaN</td>\n    </tr>\n  </tbody>\n</table>\n<p>1227 rows × 18 columns</p>\n</div>"
     },
     "execution_count": 106,
     "metadata": {},
     "output_type": "execute_result"
    }
   ],
   "source": [
    "weird_first_names.loc[other_cases[indices_neg].index]"
   ],
   "metadata": {
    "collapsed": false,
    "pycharm": {
     "name": "#%%\n"
    }
   }
  },
  {
   "cell_type": "markdown",
   "metadata": {
    "pycharm": {
     "name": "#%% md\n"
    }
   },
   "source": [
    "<h2> Handling other weird names/organizations </h2>"
   ]
  },
  {
   "cell_type": "code",
   "execution_count": 107,
   "metadata": {
    "pycharm": {
     "name": "#%%\n"
    }
   },
   "outputs": [],
   "source": [
    "other_cases_fixed = pd.read_csv('../Data/export_weird_names.csv')"
   ]
  },
  {
   "cell_type": "code",
   "execution_count": 108,
   "metadata": {
    "pycharm": {
     "name": "#%%\n"
    }
   },
   "outputs": [],
   "source": [
    "index_indices = other_cases[indices].index"
   ]
  },
  {
   "cell_type": "code",
   "execution_count": 109,
   "metadata": {
    "pycharm": {
     "name": "#%%\n"
    }
   },
   "outputs": [],
   "source": [
    "for ind in index_indices:\n",
    "    fname = other_cases.loc[ind, 'First Name 1 ']\n",
    "    series = other_cases_fixed[other_cases_fixed['original name'].apply(lambda x: x == fname)].drop('original name', axis = 1).values.flatten().tolist()\n",
    "    other_cases.loc[ind, ['Title 1','First Name 1 ','Last Name 1 ','Title 2','First Name 2','Last Name 2',\n",
    "                          'Title 3','First Name 3','Last Name 3','notes','original text']] = series      "
   ]
  },
  {
   "cell_type": "code",
   "execution_count": 110,
   "metadata": {
    "pycharm": {
     "name": "#%%\n"
    }
   },
   "outputs": [
    {
     "data": {
      "text/plain": "       State  Year  Month   Day       Title 1  \\\n5804       2  1778      1   1.0  organization   \n5805       2  1778      1   1.0  organization   \n5806       2  1778      1   1.0  organization   \n5807       2  1778      1   1.0  organization   \n5808       2  1778      1   1.0  organization   \n...      ...   ...    ...   ...           ...   \n80855      9  1779      3  29.0           NaN   \n80856      9  1779      3  29.0           NaN   \n80858      9  1779      5  16.0           NaN   \n80860      9  1779      3   9.0           NaN   \n80861      9  1779      3  10.0           NaN   \n\n                           First Name 1  Last Name 1  Title 2 First Name 2  \\\n5804   The Navy Board Eastern Department          NaN     NaN          NaN   \n5805   The Navy Board Eastern Department          NaN     NaN          NaN   \n5806   The Navy Board Eastern Department          NaN     NaN          NaN   \n5807   The Navy Board Eastern Department          NaN     NaN          NaN   \n5808   The Navy Board Eastern Department          NaN     NaN          NaN   \n...                                  ...          ...     ...          ...   \n80855                              Michl        Stump     NaN          NaN   \n80856                              Michl        Stump     NaN          NaN   \n80858                            Captn C       Mossby     NaN          NaN   \n80860                               Fras       Hobday     NaN          NaN   \n80861                            Peter B      Whiting     NaN          NaN   \n\n      Last Name 2 Title 3 First Name 3 Last Name 3  Face Value  Specie Value   \\\n5804          NaN     NaN          NaN         NaN         600     411.466700   \n5805          NaN     NaN          NaN         NaN         600     411.466700   \n5806          NaN     NaN          NaN         NaN         500     342.888900   \n5807          NaN     NaN          NaN         NaN         500     342.888900   \n5808          NaN     NaN          NaN         NaN         500     342.888900   \n...           ...     ...          ...         ...         ...            ...   \n80855         NaN     NaN          NaN         NaN         300      27.429170   \n80856         NaN     NaN          NaN         NaN         800      73.144440   \n80858         NaN     NaN          NaN         NaN          49       3.843097   \n80860         NaN     NaN          NaN         NaN         140      13.646110   \n80861         NaN     NaN          NaN         NaN         113      10.978260   \n\n      notes                      original text match eligible  \n5804    NaN  The Navy Board Eastern Department            NaN  \n5805    NaN  The Navy Board Eastern Department            NaN  \n5806    NaN  The Navy Board Eastern Department            NaN  \n5807    NaN  The Navy Board Eastern Department            NaN  \n5808    NaN  The Navy Board Eastern Department            NaN  \n...     ...                                ...            ...  \n80855   NaN                        Michl Stump            NaN  \n80856   NaN                        Michl Stump            NaN  \n80858   NaN                     Captn C Mossby            NaN  \n80860   NaN                        Fras Hobday            NaN  \n80861   NaN                    Peter B Whiting            NaN  \n\n[435 rows x 18 columns]",
      "text/html": "<div>\n<style scoped>\n    .dataframe tbody tr th:only-of-type {\n        vertical-align: middle;\n    }\n\n    .dataframe tbody tr th {\n        vertical-align: top;\n    }\n\n    .dataframe thead th {\n        text-align: right;\n    }\n</style>\n<table border=\"1\" class=\"dataframe\">\n  <thead>\n    <tr style=\"text-align: right;\">\n      <th></th>\n      <th>State</th>\n      <th>Year</th>\n      <th>Month</th>\n      <th>Day</th>\n      <th>Title 1</th>\n      <th>First Name 1</th>\n      <th>Last Name 1</th>\n      <th>Title 2</th>\n      <th>First Name 2</th>\n      <th>Last Name 2</th>\n      <th>Title 3</th>\n      <th>First Name 3</th>\n      <th>Last Name 3</th>\n      <th>Face Value</th>\n      <th>Specie Value</th>\n      <th>notes</th>\n      <th>original text</th>\n      <th>match eligible</th>\n    </tr>\n  </thead>\n  <tbody>\n    <tr>\n      <th>5804</th>\n      <td>2</td>\n      <td>1778</td>\n      <td>1</td>\n      <td>1.0</td>\n      <td>organization</td>\n      <td>The Navy Board Eastern Department</td>\n      <td>NaN</td>\n      <td>NaN</td>\n      <td>NaN</td>\n      <td>NaN</td>\n      <td>NaN</td>\n      <td>NaN</td>\n      <td>NaN</td>\n      <td>600</td>\n      <td>411.466700</td>\n      <td>NaN</td>\n      <td>The Navy Board Eastern Department</td>\n      <td>NaN</td>\n    </tr>\n    <tr>\n      <th>5805</th>\n      <td>2</td>\n      <td>1778</td>\n      <td>1</td>\n      <td>1.0</td>\n      <td>organization</td>\n      <td>The Navy Board Eastern Department</td>\n      <td>NaN</td>\n      <td>NaN</td>\n      <td>NaN</td>\n      <td>NaN</td>\n      <td>NaN</td>\n      <td>NaN</td>\n      <td>NaN</td>\n      <td>600</td>\n      <td>411.466700</td>\n      <td>NaN</td>\n      <td>The Navy Board Eastern Department</td>\n      <td>NaN</td>\n    </tr>\n    <tr>\n      <th>5806</th>\n      <td>2</td>\n      <td>1778</td>\n      <td>1</td>\n      <td>1.0</td>\n      <td>organization</td>\n      <td>The Navy Board Eastern Department</td>\n      <td>NaN</td>\n      <td>NaN</td>\n      <td>NaN</td>\n      <td>NaN</td>\n      <td>NaN</td>\n      <td>NaN</td>\n      <td>NaN</td>\n      <td>500</td>\n      <td>342.888900</td>\n      <td>NaN</td>\n      <td>The Navy Board Eastern Department</td>\n      <td>NaN</td>\n    </tr>\n    <tr>\n      <th>5807</th>\n      <td>2</td>\n      <td>1778</td>\n      <td>1</td>\n      <td>1.0</td>\n      <td>organization</td>\n      <td>The Navy Board Eastern Department</td>\n      <td>NaN</td>\n      <td>NaN</td>\n      <td>NaN</td>\n      <td>NaN</td>\n      <td>NaN</td>\n      <td>NaN</td>\n      <td>NaN</td>\n      <td>500</td>\n      <td>342.888900</td>\n      <td>NaN</td>\n      <td>The Navy Board Eastern Department</td>\n      <td>NaN</td>\n    </tr>\n    <tr>\n      <th>5808</th>\n      <td>2</td>\n      <td>1778</td>\n      <td>1</td>\n      <td>1.0</td>\n      <td>organization</td>\n      <td>The Navy Board Eastern Department</td>\n      <td>NaN</td>\n      <td>NaN</td>\n      <td>NaN</td>\n      <td>NaN</td>\n      <td>NaN</td>\n      <td>NaN</td>\n      <td>NaN</td>\n      <td>500</td>\n      <td>342.888900</td>\n      <td>NaN</td>\n      <td>The Navy Board Eastern Department</td>\n      <td>NaN</td>\n    </tr>\n    <tr>\n      <th>...</th>\n      <td>...</td>\n      <td>...</td>\n      <td>...</td>\n      <td>...</td>\n      <td>...</td>\n      <td>...</td>\n      <td>...</td>\n      <td>...</td>\n      <td>...</td>\n      <td>...</td>\n      <td>...</td>\n      <td>...</td>\n      <td>...</td>\n      <td>...</td>\n      <td>...</td>\n      <td>...</td>\n      <td>...</td>\n      <td>...</td>\n    </tr>\n    <tr>\n      <th>80855</th>\n      <td>9</td>\n      <td>1779</td>\n      <td>3</td>\n      <td>29.0</td>\n      <td>NaN</td>\n      <td>Michl</td>\n      <td>Stump</td>\n      <td>NaN</td>\n      <td>NaN</td>\n      <td>NaN</td>\n      <td>NaN</td>\n      <td>NaN</td>\n      <td>NaN</td>\n      <td>300</td>\n      <td>27.429170</td>\n      <td>NaN</td>\n      <td>Michl Stump</td>\n      <td>NaN</td>\n    </tr>\n    <tr>\n      <th>80856</th>\n      <td>9</td>\n      <td>1779</td>\n      <td>3</td>\n      <td>29.0</td>\n      <td>NaN</td>\n      <td>Michl</td>\n      <td>Stump</td>\n      <td>NaN</td>\n      <td>NaN</td>\n      <td>NaN</td>\n      <td>NaN</td>\n      <td>NaN</td>\n      <td>NaN</td>\n      <td>800</td>\n      <td>73.144440</td>\n      <td>NaN</td>\n      <td>Michl Stump</td>\n      <td>NaN</td>\n    </tr>\n    <tr>\n      <th>80858</th>\n      <td>9</td>\n      <td>1779</td>\n      <td>5</td>\n      <td>16.0</td>\n      <td>NaN</td>\n      <td>Captn C</td>\n      <td>Mossby</td>\n      <td>NaN</td>\n      <td>NaN</td>\n      <td>NaN</td>\n      <td>NaN</td>\n      <td>NaN</td>\n      <td>NaN</td>\n      <td>49</td>\n      <td>3.843097</td>\n      <td>NaN</td>\n      <td>Captn C Mossby</td>\n      <td>NaN</td>\n    </tr>\n    <tr>\n      <th>80860</th>\n      <td>9</td>\n      <td>1779</td>\n      <td>3</td>\n      <td>9.0</td>\n      <td>NaN</td>\n      <td>Fras</td>\n      <td>Hobday</td>\n      <td>NaN</td>\n      <td>NaN</td>\n      <td>NaN</td>\n      <td>NaN</td>\n      <td>NaN</td>\n      <td>NaN</td>\n      <td>140</td>\n      <td>13.646110</td>\n      <td>NaN</td>\n      <td>Fras Hobday</td>\n      <td>NaN</td>\n    </tr>\n    <tr>\n      <th>80861</th>\n      <td>9</td>\n      <td>1779</td>\n      <td>3</td>\n      <td>10.0</td>\n      <td>NaN</td>\n      <td>Peter B</td>\n      <td>Whiting</td>\n      <td>NaN</td>\n      <td>NaN</td>\n      <td>NaN</td>\n      <td>NaN</td>\n      <td>NaN</td>\n      <td>NaN</td>\n      <td>113</td>\n      <td>10.978260</td>\n      <td>NaN</td>\n      <td>Peter B Whiting</td>\n      <td>NaN</td>\n    </tr>\n  </tbody>\n</table>\n<p>435 rows × 18 columns</p>\n</div>"
     },
     "execution_count": 110,
     "metadata": {},
     "output_type": "execute_result"
    }
   ],
   "source": [
    "other_cases[indices]"
   ]
  },
  {
   "cell_type": "code",
   "execution_count": 111,
   "metadata": {
    "pycharm": {
     "name": "#%%\n"
    }
   },
   "outputs": [],
   "source": [
    "weird_first_names.loc[other_cases.index] = other_cases\n",
    "other_cases_cleaned = weird_first_names.loc[other_cases.index]"
   ]
  },
  {
   "cell_type": "markdown",
   "metadata": {
    "pycharm": {
     "name": "#%% md\n"
    }
   },
   "source": [
    "## Move weird_first_names back to laons"
   ]
  },
  {
   "cell_type": "code",
   "execution_count": 112,
   "metadata": {
    "pycharm": {
     "name": "#%%\n"
    }
   },
   "outputs": [],
   "source": [
    "loans.loc[weird_first_names.index] = weird_first_names"
   ]
  },
  {
   "cell_type": "code",
   "execution_count": 113,
   "metadata": {
    "pycharm": {
     "name": "#%%\n"
    }
   },
   "outputs": [],
   "source": [
    "#add additional row that is the same as the first when last name 2 applies\n",
    "#add index indicating shared"
   ]
  },
  {
   "cell_type": "code",
   "execution_count": 114,
   "metadata": {
    "pycharm": {
     "name": "#%%\n"
    }
   },
   "outputs": [
    {
     "data": {
      "text/plain": "(373, 4)"
     },
     "execution_count": 114,
     "metadata": {},
     "output_type": "execute_result"
    }
   ],
   "source": [
    "(loans[[not x for x in loans['Last Name 2'].apply(betterIsNan)]][['First Name 1 ', 'Last Name 1 ', 'First Name 2', 'Last Name 2']].drop_duplicates()).shape"
   ]
  },
  {
   "cell_type": "code",
   "execution_count": 115,
   "metadata": {
    "pycharm": {
     "name": "#%%\n"
    }
   },
   "outputs": [
    {
     "data": {
      "text/plain": "(3109, 4)"
     },
     "execution_count": 115,
     "metadata": {},
     "output_type": "execute_result"
    }
   ],
   "source": [
    "loans[[not x for x in loans['Last Name 2'].apply(betterIsNan)]][['First Name 1 ', 'Last Name 1 ', 'First Name 2', 'Last Name 2']].shape"
   ]
  },
  {
   "cell_type": "code",
   "execution_count": 116,
   "metadata": {
    "collapsed": true,
    "jupyter": {
     "outputs_hidden": true
    },
    "pycharm": {
     "name": "#%%\n"
    }
   },
   "outputs": [
    {
     "data": {
      "text/plain": "                                 First Name 1    Last Name 1   \\\n2253                                   Abraham     Livingston   \n2428                                       NaN            Lee   \n2759                                       NaN          Clark   \n2822                                       NaN          Pitts   \n3644                                       NaN         Bryant   \n3749                                       Sam        Hasting   \n3807                                       NaN        Hubbart   \n4000                                     Sarah          Green   \n4017                                      John           Gray   \n4233                                       NaN           Hunt   \n4987                                         B     Winchester   \n4989                                         B     Winchester   \n5173                                      Mary         Butler   \n5362                                 H College            NaN   \n5564                                     Sarah          Green   \n6505                                   William      Molineaux   \n7396                                       NaN        Jackson   \n7447                                       NaN           Otis   \n7539                                Shrewsbury            NaN   \n8196                               Will Thomas        Hubbard   \n8247                                    Samuel        Colburn   \n8455                                     Judah          Monis   \n8937                                      Benj     Winchester   \n9107                                     Isaac          Smith   \n9176                      2nd Precinct Roxbury            NaN   \n9939                                       NaN         Parker   \n11969                                      Asa       Waterman   \n12876                                   Samuel      Salisbury   \n13102                                      NaN        Cushing   \n13574                                     John       Elsworth   \n13584                                    Sarah          White   \n13838                                    Peter         Wikoff   \n13970                                   Daniel         Tucker   \n14248                       Church in Franklin            NaN   \n14296                  Convention of Ministers            NaN   \n14312                               Pittsfield            NaN   \n14342                                        J          Smith   \n16240                                  William       Dunscomb   \n17885                                   Daniel        Lathrop   \n18694                                    Cubil         Bishop   \n19036                                 Hannah B           Lord   \n19163                                    Petty        Pelvine   \n19188                                   Eunice      Wadsworth   \n19319                                        S        Griffin   \n19373                                 Hezekiah        Sanford   \n19553                                    Caleb            May   \n19567                                   Joseph      Kingsbury   \n19693                              Christopher       Thompson   \n19900                                     John         Ripley   \n20170                                  Society            NaN   \n20784                                    Encas         Munson   \n21327                                    Isaac          Beers   \n21489                                 Nehemiah        Hubbard   \n22082                                 Hezekiah          Odell   \n22084                                 Hezekiah          Odell   \n22494                                    David         Clason   \n22511                                 Benjamin        Bassett   \n22523                                     Elez          Minot   \n22610                                    Jacob           Weed   \n23024                                   Joseph       Kingsman   \n23072                                      NaN          Riggs   \n23548                                    David         Perrin   \n23582                                 Jonathan         Wright   \n23605                                  Sioncon        Burnham   \n23659                                  Abraham        Stevens   \n23908                                   Daniel        Lathrop   \n24152                                     John         Pierce   \n24240                                     Mary         Loomer   \n24375                                   Judith          Damon   \n24399                                    Silas          Holly   \n24507                                    Silas          Holly   \n24631                                    Jonah          Tredd   \n26451                                  Susanna          Miles   \n26586                                  John H.        Beckman   \n26752                                      NaN          Henry   \n26817                                Catherine          Douer   \n26995                                     Adam     Sternbergh   \n27094                                  Charles      Dickenson   \n27438                                     John  Van Renselaer   \n28794                                  Killiam  Van Renselaer   \n28873                                   Robert         Totten   \n29188                                 Johannis         Becker   \n29348                                  Johanis           Baal   \n29366                                   Daniel          Gross   \n29383                                  Gerrard        Beckman   \n29400                                 Casparus         Conyne   \n29679                                  Levinus        Lansing   \n29682                                   Robert  Van Den Bergh   \n29794                                Archibald         Mercer   \n29804                                 Gerretic         Gerrit   \n29851                                    James          Bourd   \n29865                                    Peter           John   \n29949                                    Abiel            Fry   \n30072                                  William         Morice   \n30435                                  Gerrite         Garret   \n30564                                     John         Meyers   \n30575                                  Apalona         Meyers   \n31041                                Catharine           Douw   \n32085                                  Solomon       Hasbrook   \n32489                                     John         Inhout   \n32591                                Catherine        Stevens   \n32913                                      NaN         Mercer   \n33053                                   Edward         Keasly   \n33567                                     John        Stevens   \n33670                                Archibald         Mercer   \n33749                                   Waters          Smith   \n33984                                      NaN         Forman   \n34089                               Perrigrine          Ember   \n35278                                      NaN          Ogden   \n35285                                      NaN        Stephen   \n35816                                      NaN       Hendrick   \n36071                                     Theo     Covenhoven   \n36094                                   Samuel         Evertt   \n36193                                    Isaac        Vandorn   \n36232                                 Hendrick          Smock   \n36554                                    David     Williamson   \n36815                                     John        Vankirk   \n37423                                  William     Covenhoven   \n39232                                 Hendrick         TenEyk   \n39418                                   Thomas        Mifflin   \n39431                                   Thomas        Mifflin   \n39594                                       Jo       Bonfield   \n39596                                     John       Bonfield   \n39712                                        R        Gerraty   \n39769                                      NaN          Prior   \n39822                                      Geu         Walker   \n39838                                    James         Scarle   \n39847                                  Anthony         Hocker   \n39853                                Archibald         Mercer   \n39858                                Archibald         Mereer   \n39867                                     John      Templeton   \n39942                             Mary Abraham        Charles   \n39954                                     John      Chevalier   \n40053                                  Francis      Hopkinson   \n40054                                  William        Heysham   \n40216                                     Anna     Cunningham   \n40229                                 Anna Dav     Cunningham   \n40284                                    Peter         Wikoff   \n40373                                  Anthony        Stocker   \n40380                                  Anthony       Strother   \n40474                                   Gaston            Dec   \n40503                                      Sam         Morton   \n40518                                    David       Caldwell   \n40523                                  William        Allison   \n40600                                    Jacob         Carver   \n40611                                    Jacob         Carver   \n40646                                      NaN        Benezet   \n40713                                   Samuel         Vernon   \n40857                                  Gilbert        Hammond   \n40901                                   Samuel         Verner   \n40959                                  William        Allison   \n40967                                  William        Allison   \n40977                                     John       Blackley   \n41000                                    Peter        Wilkoff   \n41176                                 Townsand          White   \n41198                                  Matthew          Allen   \n41393                                      NaN         Simons   \n41418                                     John          Ewing   \n41428                                     John          Ewing   \n41450                                      NaN          Rotch   \n41514                                        J          Gleen   \n41668                                 Jonathan       Sargeant   \n41857                                   Andrew       Caldwell   \n42567                                     Rich         Walker   \n42845                                   Thomas          Jones   \n42885                                     John          Green   \n42937                                   Joseph           Boyd   \n42973                                    Moses         Dichey   \n44405                                Elizabeth         Latima   \n44427                                Elizabeth        Latimer   \n44558                                      NaN           Levy   \n45198                              Thestah Off     Fummingham   \n45624                                     Mary        Roberts   \n45701                                Archibald         Mercer   \n45745         Presbyterian Congregation N town            NaN   \n46924                                    Jacob         Carver   \n46941                                     John          Lilly   \n46952                                   Joseph         Clarke   \n46966                                      Hal         Turnby   \n47060                                     Cath        McWater   \n47173                                      Jer         Halsey   \n47293                                      NaN         Milner   \n47454                                   Andrew       Caldwell   \n47466                                   Andrew       Caldwell   \n47552                                     Phil       Johnston   \n47734                                   Michel       Churches   \n47758  Corporation of Michelle & Zion Churches            NaN   \n48237                                      NaN        Chalone   \n48243                                      NaN        Charles   \n48274                                      NaN          Vance   \n48314                                   Josiah          Moore   \n48594                                    Jacob         Geiger   \n48596                                  Letitea         Correy   \n48605                                  Lelitia         Correy   \n48660                                      NaN         Milner   \n48661                                      NaN          Craig   \n48749                                  Timothy           Wood   \n48767                                     John           Wood   \n48824                                     Anna        Painter   \n49145                                      NaN         Furman   \n49428                                        I          Sears   \n49433                                    Isaac          Sears   \n49440                                    Ilean          Smith   \n49581                                  Stephen           Boyd   \n49582                                    David         Mackey   \n49611                                  William           Boyd   \n50185                                      NaN         Furman   \n50297                                        J      Dickinson   \n50478                                      NaN            Sam   \n50644                                      NaN         Tramen   \n51099                                     Leon         Ampach   \n51130                                     Leon        Anshach   \n51262                                    Nexon        Nesbitt   \n51268                                    Nixon        Nisbitt   \n51340                                      Mac         Croken   \n51345                                  Conaard         Teulps   \n51363                                      NaN        Lambson   \n51367                                   Conrad        Scheele   \n51478                                      NaN          Peter   \n51546                                   Robert        Paisley   \n51730                                      NaN        Michael   \n51742                                      NaN       Hezekiah   \n51894                                      NaN         Taylor   \n51920                                      NaN         Jayber   \n51938                                   Samuel          Allen   \n52146                                   Robert         Steven   \n52167                                   Dewald            Ent   \n52176                                   Robert        Stevens   \n52556                                   Thomas       Hutchins   \n52809                              John Pingel        Herlake   \n52934                                      NaN           Keph   \n52957                                        J        Hartman   \n52968                                    Isaac        Hartman   \n53038                                     John         Brobst   \n53479                                    Jacob         Bilman   \n53566                                      NaN      the Craig   \n53602                                   Thomas          Craig   \n53690                                    Sarah        Stewart   \n53730                                       Jn          Nixon   \n53731                                      Sam     Lightburne   \n53762                                      NaN           Wood   \n54408                                  Richard        jarvill   \n54455                                   Philip            Fox   \n54473                                  Emannet        Shultze   \n54495                                Estale Ju        Eighter   \n54837                                   Andrew       Caldwell   \n54845                               John Isaac          Kline   \n54921                                    Peter       Breenner   \n55195                         Hachinach Church            NaN   \n55258                                      NaN         Messer   \n55262                           German Society            NaN   \n55273                                      NaN         Mercer   \n55410                                   Samuel          Jones   \n55432                              Hugh Samuel           Jons   \n55521                                        H        Woodrow   \n55674                                   Detrik          Pecse   \n55780                                  Dutrich          Reese   \n55831                                      NaN           Levi   \n56020                                      NaN       VanUhsam   \n56038                                      NaN           John   \n56093                                      NaN            Van   \n56095                                     John           Mann   \n56384                                Christian        Weedman   \n56802                                      NaN        Michael   \n57004                                   Robert      Stevenson   \n57005                                      Rob      Stevenson   \n57010                                   Robert      Stevenson   \n57191                                     Fred        Fearing   \n57291                                  William         Rigden   \n57367                               Herman Van           Tiel   \n57469                                                     Hre   \n57473                                    Jacob         Fisher   \n57476                                       Ed         Keasby   \n57634                                      Mat          Mease   \n57653                                      NaN         Samuel   \n57674                                    Peter          Brown   \n57680                                    Peter          Brown   \n57702                                      NaN         Dubois   \n57944                                     John      Gaston de   \n57951                                       Jn         Gaster   \n58213                                   Samuel          Delap   \n58246                      Guilliaume Sabatier           Sits   \n59227                           German Society            NaN   \n59863                                     John         Gibson   \n60005                                      NaN           John   \n60010                          In Peingle Harr           Lake   \n60120                                       Jn        Klinger   \n60132                                     John        Klinger   \n60205                                      NaN          Peter   \n60775                                     Will      Rigden jr   \n61546                                      NaN       Meredith   \n61570                                      NaN       Meredith   \n61724                                   Robert           Weis   \n61726                                   Robert           Will   \n61970                                  William     Stadlerman   \n61973                                      NaN         Rutter   \n62583                                      Sam            Ely   \n62594                                      NaN         Camble   \n62693                                      Sam            Ely   \n62770                                   Samuel            Ely   \n67543                      Simon Dreisbach For        Estates   \n68296                                      NaN       Ferrason   \n68299                                      NaN       Terrason   \n68314                                      NaN          North   \n69124                                     John            Man   \n69185                                   Samuel      Purviance   \n69187                                   Samuel     Purseyaner   \n69200                                 Jeremiah         Halsey   \n69231                                    Henry          Brown   \n69327          St Michael and Zeus Corporation            NaN   \n69634                                      Doc           Russ   \n69638                                  Detrick          Ruser   \n69823                                    Peter         Wilson   \n70033                                  William      Alexander   \n70077                                    Jacob        Calvert   \n70110                                      NaN         Foulke   \n70133                                Christ V.          Cross   \n70246        Corperetion of F Mich & Lions Cer            NaN   \n70305                                  William       Haztelon   \n70335                           German Society            NaN   \n71032                                       Ev       Mitchell   \n71933                                      NaN      McCulloch   \n72125        St Michaels and Zions Cerpreatere            NaN   \n72367                                      NaN           Read   \n72803                                      NaN           Glan   \n72811                                   Edward      Armstrong   \n73066                                     John         Rogers   \n73095                                      NaN         Rogers   \n73117                                  William         Horsey   \n73122                                      NaN        Wallace   \n73475                                      NaN  Massachusetts   \n73787                                      NaN         Harris   \n73840                                      NaN        Eastman   \n73892                                      NaN          Arell   \n74092                                      NaN        Allison   \n74162                                      NaN        Wilkins   \n74275                                      NaN           Hooe   \n74396                                      NaN        Russell   \n74474                                      NaN        Richard   \n75535                                   George          Vande   \n75562                                   Thomas      Coppinger   \n75958                                      NaN        Kirsley   \n76300                                  Eleanor       Lansdale   \n76730                                      NaN            Hec   \n76774                                   Robert         Finley   \n77028                                      NaN         McLure   \n77048                                    Polly       Sterrett   \n77205                                     John           Hall   \n77446                                      NaN        Russell   \n77900                             Francis Fair        Brother   \n78659                                   George          Vance   \n78681                                  William        Hammond   \n79496                                      NaN          Davis   \n79509                                      NaN         Phripp   \n79576                                 William          Ruffin   \n79672                                      NaN         Newton   \n79677                                      Jno      Kuykendal   \n79916                                      NaN            Ker   \n79939                                      NaN           Miss   \n79960                                    Isaac          Smith   \n79978                                      NaN         Messrs   \n79983                                               Atkinsons   \n80024                                      NaN           Keel   \n80068                                      NaN        Roulhac   \n80279                                   Thomas          Roane   \n80516                                    Peter         Conway   \n80636                                      NaN       Mitchell   \n80662                                      NaN           Mess   \n80775                                      NaN          Smith   \n80799                                      NaN          Baker   \n80831                                   Thomas        Varring   \n80896                                      NaN        Doerner   \n80904                                      NaN       Mitchell   \n\n                   First Name 2    Last Name 2  \n2253                    William       Turnbull  \n2428                        NaN          Jones  \n2759                        NaN    Nightingale  \n2822                        NaN           Call  \n3644                        NaN         Dennie  \n3749                        Sam         Austin  \n3807                        NaN         Greene  \n4000                       John           Gray  \n4017                     Thomas          Dawes  \n4233                        NaN      Sherburne  \n4987                       Benj          Allen  \n4989                     Joseph          Allen  \n5173                    Abigail        Belknap  \n5362                   Ebenezer         Storer  \n5564                         Jn           Gray  \n6505                       John      Molineaux  \n7396                        NaN          Tracy  \n7447                        NaN        Andrews  \n7539                        Job        Cushing  \n8196                  William B       Townsend  \n8247                  Nathaniel          Deane  \n8455                  Nathaniel       Appleton  \n8937                         To          Allen  \n9107                          S         Hooper  \n9176                        Jos       Richards  \n9939                        NaN         Eustis  \n11969                      John       Waterman  \n12876                   Stephen      Salisbury  \n13102                       NaN          White  \n13574                      John        Barrett  \n13584                      Mary         Thayer  \n13838                     Isaac         Wikoff  \n13970                    Robert         Tucker  \n14248                       Dan       Thurston  \n14296                    Simeon         Howard  \n14312                       Eli           Root  \n14342                         S         Hooper  \n16240                   William      Somersall  \n17885                    Joshua        Lathrop  \n18694                      Lucy         Bishop  \n19036                    Mary B           Lord  \n19163                     Sarah        Pelvine  \n19188                    Belsey      Wadsworth  \n19319                    Daniel        Dickson  \n19373                    Samuel        Sanford  \n19553                    Thomas            May  \n19567                  Ebenezer       Kinsbury  \n19693                         P           Cock  \n19900                  Jeremiah         Ripley  \n20170                       NaN           Lyme  \n20784                    Eunice        Atwater  \n21327                     Elias          Beers  \n21489                  Lay Saul         Alvord  \n22082                      Mery          Odell  \n22084                      Mary          Odell  \n22494                     Enoch         Clason  \n22511                    Joseph        Bassett  \n22523                    Martha          Minot  \n22610                    Israel           Weed  \n23024                  Nehemiah       Laurence  \n23072                       NaN          Dairs  \n23548                  Jedediah          Morse  \n23582                      Mary          Wight  \n23605                   Timothy        Burnham  \n23659                    Samuel        Stevens  \n23908                    Joseph        Lathrop  \n24152                    Joshua         Pierce  \n24240                      Anne         Loomer  \n24375                 Nathaniel          Damon  \n24399                     Jonah          Holly  \n24507                     Jonas          Holly  \n24631                       Tim          Tredd  \n26451                      Mary          Miles  \n26586                    Martin        Beekman  \n26752                       NaN      McClellen  \n26817                    Rachel          Douer  \n26995                     Jacob     Sternbergh  \n27094                 Cornelius            Ray  \n27438                     David  Van Renselaer  \n28794                     Peter  Van Renselaer  \n28873                     James         Totten  \n29188                      Jost         Becker  \n29348                    Getruy           Baal  \n29366                 Catharine          Paris  \n29383                   William        Beekman  \n29400                     Henry  Van Renselaer  \n29679                   Jacob F        Lansing  \n29682                  Hendrick  Van Den Bergh  \n29794                    John P        Schenck  \n29804                   Abraham     Van Keuren  \n29851                     David          Bourd  \n29865                   William     Van Leuven  \n29949                      Abel           Gale  \n30072                   William          Green  \n30435                   Abraham     Van Keuren  \n30564                  Hendrick           Myer  \n30575                    George          Snell  \n31041                    Rachel           Douw  \n32085                      John       Hasbrook  \n32489                     Peter         Snyder  \n32591                    Waters          Smith  \n32913                       NaN          Skenk  \n33053                   Charles     Bilderback  \n33567                   William        Burnett  \n33670                      J.P.          Skenk  \n33749                 Catherine        Stevens  \n33984                       NaN           Hunt  \n34089                       Van          Ember  \n35278                       NaN          Curti  \n35285                       NaN           Ford  \n35816                       NaN         Clears  \n36071                   William     Covenhoven  \n36094                   William         Evertt  \n36193                     Peter        Vandorn  \n36232                    George          Smock  \n36554                   William      Willamson  \n36815                    Josiah        Vankrik  \n37423                      Theo     Covenhoven  \n39232                     Jacob         TenEyk  \n39418                  Jonathan         Miffin  \n39431                      John         Miffin  \n39594                    Acklam       Bonfield  \n39596                    Acklam       Bonfield  \n39712                    Robert         Morris  \n39769                       NaN            Joy  \n39822                        Mc        Shulert  \n39838                    Thomas      Hopkinson  \n39847                    Thomas        Wharton  \n39853                    John P         Schenk  \n39858                        Jp          Shink  \n39867                    Brenda           Hall  \n39942                 Elizabeth        Clinton  \n39954                     Peter      Chevalier  \n40053                     James         Scarle  \n40054                      Frac      Hopkinson  \n40216                    George     Cunningham  \n40229                   George      Cunningham  \n40284                     Isaac         Wiloff  \n40373                    Thomas        Wharton  \n40380                    Thomas        Thorton  \n40474                  Jeremiah         Halsey  \n40503                      John         Morton  \n40518                       Sam       Caldwell  \n40523                    Samuel       Caldwell  \n40600                     Jacob          Brush  \n40611                     Isaac          Roush  \n40646                       NaN        Backman  \n40713                   William         Vernon  \n40857                 Cornelius        Tommand  \n40901                         W         Verner  \n40959                      John       Bleakley  \n40967                 Margarett        Wilkins  \n40977                   William        Allison  \n41000                     Isaac        Wilkoff  \n41176                      John          White  \n41198                   William        Allison  \n41393                       NaN          Henry  \n41418                     Smith       Sergeant  \n41428                  Jonathan        Sergant  \n41450                       NaN         Jarvis  \n41514                      Mark          Glenn  \n41668                      John          Erwin  \n41857                     James       Caldwell  \n42567                      Wile         Ramsey  \n42845                    Mathew          Greer  \n42885                   Matthew          Green  \n42937                       Ann           Roan  \n42973                    George          Dukey  \n44405                      Jane         Latima  \n44427                      Jane        Latimer  \n44558                       NaN           Levy  \n45198                    Nathan        Donnell  \n45624                       Ann        Roberts  \n45701                       J P         Schenk  \n45745                    Joseph         Jacket  \n46924                      Mary         Bldney  \n46941                         W        Withrow  \n46952                         W        Withrow  \n46966                     Johan           Cook  \n47060                      John         Walles  \n47173                     Saiah         Gaston  \n47293                       NaN         Haynes  \n47454                    Samuel       Coldwell  \n47466                     Isaac       Coldwell  \n47552                    Samuel       Johnston  \n47734                      Zion       Churches  \n47758                   Michele        Shubart  \n48237                       NaN          White  \n48243                       NaN          White  \n48274                       NaN       Caldwell  \n48314                   William       Rigdense  \n48594                     Henry         Geiger  \n48596                        Am         Correy  \n48605                       Ann         Correy  \n48660                       NaN          Sherr  \n48661                       NaN        Cummins  \n48749                   Abraham         Cuyler  \n48767                   Abraham         Caylor  \n48824              George Young       Gerardia  \n49145                       NaN           Hunt  \n49428                       P N          Smith  \n49433                       R N          Smith  \n49440                        RN          Smith  \n49581                      John        Edwards  \n49582                     David         Mackey  \n49611                        H.           Boyd  \n50185                       NaN           Yard  \n50297                        Ed         Keasby  \n50478                       NaN         Havard  \n50644                       NaN           Hunt  \n51099                    George         Liller  \n51130                       Geo         Seller  \n51262                   Forster        Nesbitt  \n51268                    Foster        Nisbitt  \n51340                   William          Munns  \n51345                    George        Kelcher  \n51363                   William          Meeum  \n51367                      Gen.       Kelehner  \n51478                       NaN         Dumont  \n51546                       Sar        Clinlow  \n51730                       NaN           Hohn  \n51742                       NaN      Hooghtalm  \n51894                       NaN      Alexander  \n51920                       NaN       Mesander  \n51938                     James         Wilson  \n52146                      Cor.         Steven  \n52167                       Geo         Miller  \n52176                     Corns        Stevens  \n52556                    Daniel          Smith  \n52809                         J        Nickson  \n52934                       NaN         Doryea  \n52957                    Herman            Fil  \n52968                Heeman Van            Jul  \n53038                    Andrew      Hagenbach  \n53479                    Philip         Sidler  \n53566                 Ja Gamiel         Dowdel  \n53602              James Ganeal        Davidal  \n53690                      Mary        Stewart  \n53730                       I M        Nerbitt  \n53731                         I         Harvey  \n53762                       NaN         Cuyler  \n54408                    Thomas         Haslip  \n54455                    Simeon      Dreisback  \n54473                      John    Pennybacker  \n54495                John Penny         Cacker  \n54837                     Jabez       Caldwell  \n54845                    George          Klein  \n54921                        Jn      Trappagan  \n55195                       Jun        Abraham  \n55258                       NaN          Spark  \n55262                   Michele        Shubert  \n55273                       NaN         Schenk  \n55410                  Margaret        Jackson  \n55432                     Neary        Jackson  \n55521                     Peter         Knight  \n55674                   Michael        Shubert  \n55780                   Michele        Shubart  \n55831                       NaN           Levi  \n56020                       NaN         Clarks  \n56038                       NaN            Mam  \n56093                       NaN           Vrem  \n56095                    Andrew         Dunbar  \n56384  Samuel Harris Esq Mathia         Birkly  \n56802                       NaN           Cart  \n57004               Christopher      Stevenson  \n57005                      Corn      Stevenson  \n57010                      Coss      Stevenson  \n57191                 Sebastian         Miller  \n57291                    Edward      Middleton  \n57367                         I        Hartman  \n57469                       NaN             Ch  \n57473                    Philip          Lentz  \n57476                        Ch     Bilderback  \n57634                   William        Allison  \n57653                       NaN            Rea  \n57674                         N        Jacoobs  \n57680                       Nic         Jacobs  \n57702                       NaN         Hutman  \n57944                      Jere         Kalbey  \n57951                       Jer           Hals  \n58213                 John Hans          Delap  \n58246                    Pierce        Despres  \n59227                   Michael        Shutart  \n59863                      John          Smith  \n60005                       NaN        Pringle  \n60010                John Nixon             Ex  \n60120                    Ernest        Klinger  \n60132                    Ernest        Klinger  \n60205                       NaN          Henry  \n60775                    Joshua          Moore  \n61546                       NaN         Clymer  \n61570                       NaN         Plymir  \n61724                      John           Weis  \n61726                        Jn           Will  \n61970                        Pk         Lickon  \n61973                       NaN          Potts  \n62583               Jn Gallaher            Esq  \n62594                       NaN         Cooper  \n62693                    Michel      Gellinger  \n62770        Michael Gellington            Esq  \n67543                      John            fox  \n68296                       NaN           Pocy  \n68299                       NaN           Pory  \n68314                       NaN       Trescott  \n69124                    Andrew         Dunham  \n69185                    Robert      Purviance  \n69187                    Robert     Purseyaner  \n69200                     Sarah         Gaster  \n69231                    Thomas          Brown  \n69327                   Michael       Schubert  \n69634                      Mich        Shubart  \n69638                   Michael        Shabach  \n69823                     Isaac         Wikoff  \n70033                      Earl       Sterling  \n70077                     Isaac          Rauch  \n70110                       NaN        Hameren  \n70133                     Jacob         Fisher  \n70246                      John      Steinmetz  \n70305                      John      Wilhinson  \n70335                         M        Shubart  \n71032                         A       Caldwell  \n71933                       NaN       Peterson  \n72125                       Jon      Steinmetz  \n72367                       NaN         Gilpin  \n72803                       NaN         McClay  \n72811                   Rebecca      Armstrong  \n73066                   Richard          Cooke  \n73095                       NaN          Cooke  \n73117                     Isaac         Horsey  \n73122                       NaN       Davidson  \n73475                       NaN         Milner  \n73787                       NaN           Wood  \n73840                       NaN           Neth  \n73892                       NaN         Cooper  \n74092                       NaN         Ramsey  \n74162                       NaN       Gassaway  \n74275                       NaN      Harrisons  \n74396                       NaN        Gilmore  \n74474                       NaN       Jennings  \n75535                    Robert        Nielson  \n75562                      John        Denmese  \n75958                       NaN         Monrow  \n76300                    Thomas       Lansdale  \n76730                       NaN      Harrisons  \n76774                      Mark         Kerwan  \n77028                       NaN       Sterrett  \n77048                   Harriet       Sterrett  \n77205                      John       Crunbury  \n77446                       NaN        Gilmour  \n77900                     Allen          Luynn  \n78659                    Robert        Nielson  \n78681                    Robert          Moose  \n79496                       NaN         Morris  \n79509                       NaN        Bondoin  \n79576                     Jno H          Cocke  \n79672                       NaN          Kelly  \n79677                     Henry      Kuykendal  \n79916                       NaN           Lyon  \n79939                       NaN          Early  \n79960              Thoroughgood          Smith  \n79978                       NaN         Newton  \n79983                                           \n80024                       NaN        Roberts  \n80068                       NaN          Compy  \n80279                   William          Roane  \n80516                     James           Ball  \n80636                       NaN         Graham  \n80662                       NaN          Early  \n80775                       NaN       Gatewood  \n80799                       NaN           Blow  \n80831                   William        Varring  \n80896                       NaN           Mark  \n80904                       NaN         Oldham  ",
      "text/html": "<div>\n<style scoped>\n    .dataframe tbody tr th:only-of-type {\n        vertical-align: middle;\n    }\n\n    .dataframe tbody tr th {\n        vertical-align: top;\n    }\n\n    .dataframe thead th {\n        text-align: right;\n    }\n</style>\n<table border=\"1\" class=\"dataframe\">\n  <thead>\n    <tr style=\"text-align: right;\">\n      <th></th>\n      <th>First Name 1</th>\n      <th>Last Name 1</th>\n      <th>First Name 2</th>\n      <th>Last Name 2</th>\n    </tr>\n  </thead>\n  <tbody>\n    <tr>\n      <th>2253</th>\n      <td>Abraham</td>\n      <td>Livingston</td>\n      <td>William</td>\n      <td>Turnbull</td>\n    </tr>\n    <tr>\n      <th>2428</th>\n      <td>NaN</td>\n      <td>Lee</td>\n      <td>NaN</td>\n      <td>Jones</td>\n    </tr>\n    <tr>\n      <th>2759</th>\n      <td>NaN</td>\n      <td>Clark</td>\n      <td>NaN</td>\n      <td>Nightingale</td>\n    </tr>\n    <tr>\n      <th>2822</th>\n      <td>NaN</td>\n      <td>Pitts</td>\n      <td>NaN</td>\n      <td>Call</td>\n    </tr>\n    <tr>\n      <th>3644</th>\n      <td>NaN</td>\n      <td>Bryant</td>\n      <td>NaN</td>\n      <td>Dennie</td>\n    </tr>\n    <tr>\n      <th>3749</th>\n      <td>Sam</td>\n      <td>Hasting</td>\n      <td>Sam</td>\n      <td>Austin</td>\n    </tr>\n    <tr>\n      <th>3807</th>\n      <td>NaN</td>\n      <td>Hubbart</td>\n      <td>NaN</td>\n      <td>Greene</td>\n    </tr>\n    <tr>\n      <th>4000</th>\n      <td>Sarah</td>\n      <td>Green</td>\n      <td>John</td>\n      <td>Gray</td>\n    </tr>\n    <tr>\n      <th>4017</th>\n      <td>John</td>\n      <td>Gray</td>\n      <td>Thomas</td>\n      <td>Dawes</td>\n    </tr>\n    <tr>\n      <th>4233</th>\n      <td>NaN</td>\n      <td>Hunt</td>\n      <td>NaN</td>\n      <td>Sherburne</td>\n    </tr>\n    <tr>\n      <th>4987</th>\n      <td>B</td>\n      <td>Winchester</td>\n      <td>Benj</td>\n      <td>Allen</td>\n    </tr>\n    <tr>\n      <th>4989</th>\n      <td>B</td>\n      <td>Winchester</td>\n      <td>Joseph</td>\n      <td>Allen</td>\n    </tr>\n    <tr>\n      <th>5173</th>\n      <td>Mary</td>\n      <td>Butler</td>\n      <td>Abigail</td>\n      <td>Belknap</td>\n    </tr>\n    <tr>\n      <th>5362</th>\n      <td>H College</td>\n      <td>NaN</td>\n      <td>Ebenezer</td>\n      <td>Storer</td>\n    </tr>\n    <tr>\n      <th>5564</th>\n      <td>Sarah</td>\n      <td>Green</td>\n      <td>Jn</td>\n      <td>Gray</td>\n    </tr>\n    <tr>\n      <th>6505</th>\n      <td>William</td>\n      <td>Molineaux</td>\n      <td>John</td>\n      <td>Molineaux</td>\n    </tr>\n    <tr>\n      <th>7396</th>\n      <td>NaN</td>\n      <td>Jackson</td>\n      <td>NaN</td>\n      <td>Tracy</td>\n    </tr>\n    <tr>\n      <th>7447</th>\n      <td>NaN</td>\n      <td>Otis</td>\n      <td>NaN</td>\n      <td>Andrews</td>\n    </tr>\n    <tr>\n      <th>7539</th>\n      <td>Shrewsbury</td>\n      <td>NaN</td>\n      <td>Job</td>\n      <td>Cushing</td>\n    </tr>\n    <tr>\n      <th>8196</th>\n      <td>Will Thomas</td>\n      <td>Hubbard</td>\n      <td>William B</td>\n      <td>Townsend</td>\n    </tr>\n    <tr>\n      <th>8247</th>\n      <td>Samuel</td>\n      <td>Colburn</td>\n      <td>Nathaniel</td>\n      <td>Deane</td>\n    </tr>\n    <tr>\n      <th>8455</th>\n      <td>Judah</td>\n      <td>Monis</td>\n      <td>Nathaniel</td>\n      <td>Appleton</td>\n    </tr>\n    <tr>\n      <th>8937</th>\n      <td>Benj</td>\n      <td>Winchester</td>\n      <td>To</td>\n      <td>Allen</td>\n    </tr>\n    <tr>\n      <th>9107</th>\n      <td>Isaac</td>\n      <td>Smith</td>\n      <td>S</td>\n      <td>Hooper</td>\n    </tr>\n    <tr>\n      <th>9176</th>\n      <td>2nd Precinct Roxbury</td>\n      <td>NaN</td>\n      <td>Jos</td>\n      <td>Richards</td>\n    </tr>\n    <tr>\n      <th>9939</th>\n      <td>NaN</td>\n      <td>Parker</td>\n      <td>NaN</td>\n      <td>Eustis</td>\n    </tr>\n    <tr>\n      <th>11969</th>\n      <td>Asa</td>\n      <td>Waterman</td>\n      <td>John</td>\n      <td>Waterman</td>\n    </tr>\n    <tr>\n      <th>12876</th>\n      <td>Samuel</td>\n      <td>Salisbury</td>\n      <td>Stephen</td>\n      <td>Salisbury</td>\n    </tr>\n    <tr>\n      <th>13102</th>\n      <td>NaN</td>\n      <td>Cushing</td>\n      <td>NaN</td>\n      <td>White</td>\n    </tr>\n    <tr>\n      <th>13574</th>\n      <td>John</td>\n      <td>Elsworth</td>\n      <td>John</td>\n      <td>Barrett</td>\n    </tr>\n    <tr>\n      <th>13584</th>\n      <td>Sarah</td>\n      <td>White</td>\n      <td>Mary</td>\n      <td>Thayer</td>\n    </tr>\n    <tr>\n      <th>13838</th>\n      <td>Peter</td>\n      <td>Wikoff</td>\n      <td>Isaac</td>\n      <td>Wikoff</td>\n    </tr>\n    <tr>\n      <th>13970</th>\n      <td>Daniel</td>\n      <td>Tucker</td>\n      <td>Robert</td>\n      <td>Tucker</td>\n    </tr>\n    <tr>\n      <th>14248</th>\n      <td>Church in Franklin</td>\n      <td>NaN</td>\n      <td>Dan</td>\n      <td>Thurston</td>\n    </tr>\n    <tr>\n      <th>14296</th>\n      <td>Convention of Ministers</td>\n      <td>NaN</td>\n      <td>Simeon</td>\n      <td>Howard</td>\n    </tr>\n    <tr>\n      <th>14312</th>\n      <td>Pittsfield</td>\n      <td>NaN</td>\n      <td>Eli</td>\n      <td>Root</td>\n    </tr>\n    <tr>\n      <th>14342</th>\n      <td>J</td>\n      <td>Smith</td>\n      <td>S</td>\n      <td>Hooper</td>\n    </tr>\n    <tr>\n      <th>16240</th>\n      <td>William</td>\n      <td>Dunscomb</td>\n      <td>William</td>\n      <td>Somersall</td>\n    </tr>\n    <tr>\n      <th>17885</th>\n      <td>Daniel</td>\n      <td>Lathrop</td>\n      <td>Joshua</td>\n      <td>Lathrop</td>\n    </tr>\n    <tr>\n      <th>18694</th>\n      <td>Cubil</td>\n      <td>Bishop</td>\n      <td>Lucy</td>\n      <td>Bishop</td>\n    </tr>\n    <tr>\n      <th>19036</th>\n      <td>Hannah B</td>\n      <td>Lord</td>\n      <td>Mary B</td>\n      <td>Lord</td>\n    </tr>\n    <tr>\n      <th>19163</th>\n      <td>Petty</td>\n      <td>Pelvine</td>\n      <td>Sarah</td>\n      <td>Pelvine</td>\n    </tr>\n    <tr>\n      <th>19188</th>\n      <td>Eunice</td>\n      <td>Wadsworth</td>\n      <td>Belsey</td>\n      <td>Wadsworth</td>\n    </tr>\n    <tr>\n      <th>19319</th>\n      <td>S</td>\n      <td>Griffin</td>\n      <td>Daniel</td>\n      <td>Dickson</td>\n    </tr>\n    <tr>\n      <th>19373</th>\n      <td>Hezekiah</td>\n      <td>Sanford</td>\n      <td>Samuel</td>\n      <td>Sanford</td>\n    </tr>\n    <tr>\n      <th>19553</th>\n      <td>Caleb</td>\n      <td>May</td>\n      <td>Thomas</td>\n      <td>May</td>\n    </tr>\n    <tr>\n      <th>19567</th>\n      <td>Joseph</td>\n      <td>Kingsbury</td>\n      <td>Ebenezer</td>\n      <td>Kinsbury</td>\n    </tr>\n    <tr>\n      <th>19693</th>\n      <td>Christopher</td>\n      <td>Thompson</td>\n      <td>P</td>\n      <td>Cock</td>\n    </tr>\n    <tr>\n      <th>19900</th>\n      <td>John</td>\n      <td>Ripley</td>\n      <td>Jeremiah</td>\n      <td>Ripley</td>\n    </tr>\n    <tr>\n      <th>20170</th>\n      <td>Society</td>\n      <td>NaN</td>\n      <td>NaN</td>\n      <td>Lyme</td>\n    </tr>\n    <tr>\n      <th>20784</th>\n      <td>Encas</td>\n      <td>Munson</td>\n      <td>Eunice</td>\n      <td>Atwater</td>\n    </tr>\n    <tr>\n      <th>21327</th>\n      <td>Isaac</td>\n      <td>Beers</td>\n      <td>Elias</td>\n      <td>Beers</td>\n    </tr>\n    <tr>\n      <th>21489</th>\n      <td>Nehemiah</td>\n      <td>Hubbard</td>\n      <td>Lay Saul</td>\n      <td>Alvord</td>\n    </tr>\n    <tr>\n      <th>22082</th>\n      <td>Hezekiah</td>\n      <td>Odell</td>\n      <td>Mery</td>\n      <td>Odell</td>\n    </tr>\n    <tr>\n      <th>22084</th>\n      <td>Hezekiah</td>\n      <td>Odell</td>\n      <td>Mary</td>\n      <td>Odell</td>\n    </tr>\n    <tr>\n      <th>22494</th>\n      <td>David</td>\n      <td>Clason</td>\n      <td>Enoch</td>\n      <td>Clason</td>\n    </tr>\n    <tr>\n      <th>22511</th>\n      <td>Benjamin</td>\n      <td>Bassett</td>\n      <td>Joseph</td>\n      <td>Bassett</td>\n    </tr>\n    <tr>\n      <th>22523</th>\n      <td>Elez</td>\n      <td>Minot</td>\n      <td>Martha</td>\n      <td>Minot</td>\n    </tr>\n    <tr>\n      <th>22610</th>\n      <td>Jacob</td>\n      <td>Weed</td>\n      <td>Israel</td>\n      <td>Weed</td>\n    </tr>\n    <tr>\n      <th>23024</th>\n      <td>Joseph</td>\n      <td>Kingsman</td>\n      <td>Nehemiah</td>\n      <td>Laurence</td>\n    </tr>\n    <tr>\n      <th>23072</th>\n      <td>NaN</td>\n      <td>Riggs</td>\n      <td>NaN</td>\n      <td>Dairs</td>\n    </tr>\n    <tr>\n      <th>23548</th>\n      <td>David</td>\n      <td>Perrin</td>\n      <td>Jedediah</td>\n      <td>Morse</td>\n    </tr>\n    <tr>\n      <th>23582</th>\n      <td>Jonathan</td>\n      <td>Wright</td>\n      <td>Mary</td>\n      <td>Wight</td>\n    </tr>\n    <tr>\n      <th>23605</th>\n      <td>Sioncon</td>\n      <td>Burnham</td>\n      <td>Timothy</td>\n      <td>Burnham</td>\n    </tr>\n    <tr>\n      <th>23659</th>\n      <td>Abraham</td>\n      <td>Stevens</td>\n      <td>Samuel</td>\n      <td>Stevens</td>\n    </tr>\n    <tr>\n      <th>23908</th>\n      <td>Daniel</td>\n      <td>Lathrop</td>\n      <td>Joseph</td>\n      <td>Lathrop</td>\n    </tr>\n    <tr>\n      <th>24152</th>\n      <td>John</td>\n      <td>Pierce</td>\n      <td>Joshua</td>\n      <td>Pierce</td>\n    </tr>\n    <tr>\n      <th>24240</th>\n      <td>Mary</td>\n      <td>Loomer</td>\n      <td>Anne</td>\n      <td>Loomer</td>\n    </tr>\n    <tr>\n      <th>24375</th>\n      <td>Judith</td>\n      <td>Damon</td>\n      <td>Nathaniel</td>\n      <td>Damon</td>\n    </tr>\n    <tr>\n      <th>24399</th>\n      <td>Silas</td>\n      <td>Holly</td>\n      <td>Jonah</td>\n      <td>Holly</td>\n    </tr>\n    <tr>\n      <th>24507</th>\n      <td>Silas</td>\n      <td>Holly</td>\n      <td>Jonas</td>\n      <td>Holly</td>\n    </tr>\n    <tr>\n      <th>24631</th>\n      <td>Jonah</td>\n      <td>Tredd</td>\n      <td>Tim</td>\n      <td>Tredd</td>\n    </tr>\n    <tr>\n      <th>26451</th>\n      <td>Susanna</td>\n      <td>Miles</td>\n      <td>Mary</td>\n      <td>Miles</td>\n    </tr>\n    <tr>\n      <th>26586</th>\n      <td>John H.</td>\n      <td>Beckman</td>\n      <td>Martin</td>\n      <td>Beekman</td>\n    </tr>\n    <tr>\n      <th>26752</th>\n      <td>NaN</td>\n      <td>Henry</td>\n      <td>NaN</td>\n      <td>McClellen</td>\n    </tr>\n    <tr>\n      <th>26817</th>\n      <td>Catherine</td>\n      <td>Douer</td>\n      <td>Rachel</td>\n      <td>Douer</td>\n    </tr>\n    <tr>\n      <th>26995</th>\n      <td>Adam</td>\n      <td>Sternbergh</td>\n      <td>Jacob</td>\n      <td>Sternbergh</td>\n    </tr>\n    <tr>\n      <th>27094</th>\n      <td>Charles</td>\n      <td>Dickenson</td>\n      <td>Cornelius</td>\n      <td>Ray</td>\n    </tr>\n    <tr>\n      <th>27438</th>\n      <td>John</td>\n      <td>Van Renselaer</td>\n      <td>David</td>\n      <td>Van Renselaer</td>\n    </tr>\n    <tr>\n      <th>28794</th>\n      <td>Killiam</td>\n      <td>Van Renselaer</td>\n      <td>Peter</td>\n      <td>Van Renselaer</td>\n    </tr>\n    <tr>\n      <th>28873</th>\n      <td>Robert</td>\n      <td>Totten</td>\n      <td>James</td>\n      <td>Totten</td>\n    </tr>\n    <tr>\n      <th>29188</th>\n      <td>Johannis</td>\n      <td>Becker</td>\n      <td>Jost</td>\n      <td>Becker</td>\n    </tr>\n    <tr>\n      <th>29348</th>\n      <td>Johanis</td>\n      <td>Baal</td>\n      <td>Getruy</td>\n      <td>Baal</td>\n    </tr>\n    <tr>\n      <th>29366</th>\n      <td>Daniel</td>\n      <td>Gross</td>\n      <td>Catharine</td>\n      <td>Paris</td>\n    </tr>\n    <tr>\n      <th>29383</th>\n      <td>Gerrard</td>\n      <td>Beckman</td>\n      <td>William</td>\n      <td>Beekman</td>\n    </tr>\n    <tr>\n      <th>29400</th>\n      <td>Casparus</td>\n      <td>Conyne</td>\n      <td>Henry</td>\n      <td>Van Renselaer</td>\n    </tr>\n    <tr>\n      <th>29679</th>\n      <td>Levinus</td>\n      <td>Lansing</td>\n      <td>Jacob F</td>\n      <td>Lansing</td>\n    </tr>\n    <tr>\n      <th>29682</th>\n      <td>Robert</td>\n      <td>Van Den Bergh</td>\n      <td>Hendrick</td>\n      <td>Van Den Bergh</td>\n    </tr>\n    <tr>\n      <th>29794</th>\n      <td>Archibald</td>\n      <td>Mercer</td>\n      <td>John P</td>\n      <td>Schenck</td>\n    </tr>\n    <tr>\n      <th>29804</th>\n      <td>Gerretic</td>\n      <td>Gerrit</td>\n      <td>Abraham</td>\n      <td>Van Keuren</td>\n    </tr>\n    <tr>\n      <th>29851</th>\n      <td>James</td>\n      <td>Bourd</td>\n      <td>David</td>\n      <td>Bourd</td>\n    </tr>\n    <tr>\n      <th>29865</th>\n      <td>Peter</td>\n      <td>John</td>\n      <td>William</td>\n      <td>Van Leuven</td>\n    </tr>\n    <tr>\n      <th>29949</th>\n      <td>Abiel</td>\n      <td>Fry</td>\n      <td>Abel</td>\n      <td>Gale</td>\n    </tr>\n    <tr>\n      <th>30072</th>\n      <td>William</td>\n      <td>Morice</td>\n      <td>William</td>\n      <td>Green</td>\n    </tr>\n    <tr>\n      <th>30435</th>\n      <td>Gerrite</td>\n      <td>Garret</td>\n      <td>Abraham</td>\n      <td>Van Keuren</td>\n    </tr>\n    <tr>\n      <th>30564</th>\n      <td>John</td>\n      <td>Meyers</td>\n      <td>Hendrick</td>\n      <td>Myer</td>\n    </tr>\n    <tr>\n      <th>30575</th>\n      <td>Apalona</td>\n      <td>Meyers</td>\n      <td>George</td>\n      <td>Snell</td>\n    </tr>\n    <tr>\n      <th>31041</th>\n      <td>Catharine</td>\n      <td>Douw</td>\n      <td>Rachel</td>\n      <td>Douw</td>\n    </tr>\n    <tr>\n      <th>32085</th>\n      <td>Solomon</td>\n      <td>Hasbrook</td>\n      <td>John</td>\n      <td>Hasbrook</td>\n    </tr>\n    <tr>\n      <th>32489</th>\n      <td>John</td>\n      <td>Inhout</td>\n      <td>Peter</td>\n      <td>Snyder</td>\n    </tr>\n    <tr>\n      <th>32591</th>\n      <td>Catherine</td>\n      <td>Stevens</td>\n      <td>Waters</td>\n      <td>Smith</td>\n    </tr>\n    <tr>\n      <th>32913</th>\n      <td>NaN</td>\n      <td>Mercer</td>\n      <td>NaN</td>\n      <td>Skenk</td>\n    </tr>\n    <tr>\n      <th>33053</th>\n      <td>Edward</td>\n      <td>Keasly</td>\n      <td>Charles</td>\n      <td>Bilderback</td>\n    </tr>\n    <tr>\n      <th>33567</th>\n      <td>John</td>\n      <td>Stevens</td>\n      <td>William</td>\n      <td>Burnett</td>\n    </tr>\n    <tr>\n      <th>33670</th>\n      <td>Archibald</td>\n      <td>Mercer</td>\n      <td>J.P.</td>\n      <td>Skenk</td>\n    </tr>\n    <tr>\n      <th>33749</th>\n      <td>Waters</td>\n      <td>Smith</td>\n      <td>Catherine</td>\n      <td>Stevens</td>\n    </tr>\n    <tr>\n      <th>33984</th>\n      <td>NaN</td>\n      <td>Forman</td>\n      <td>NaN</td>\n      <td>Hunt</td>\n    </tr>\n    <tr>\n      <th>34089</th>\n      <td>Perrigrine</td>\n      <td>Ember</td>\n      <td>Van</td>\n      <td>Ember</td>\n    </tr>\n    <tr>\n      <th>35278</th>\n      <td>NaN</td>\n      <td>Ogden</td>\n      <td>NaN</td>\n      <td>Curti</td>\n    </tr>\n    <tr>\n      <th>35285</th>\n      <td>NaN</td>\n      <td>Stephen</td>\n      <td>NaN</td>\n      <td>Ford</td>\n    </tr>\n    <tr>\n      <th>35816</th>\n      <td>NaN</td>\n      <td>Hendrick</td>\n      <td>NaN</td>\n      <td>Clears</td>\n    </tr>\n    <tr>\n      <th>36071</th>\n      <td>Theo</td>\n      <td>Covenhoven</td>\n      <td>William</td>\n      <td>Covenhoven</td>\n    </tr>\n    <tr>\n      <th>36094</th>\n      <td>Samuel</td>\n      <td>Evertt</td>\n      <td>William</td>\n      <td>Evertt</td>\n    </tr>\n    <tr>\n      <th>36193</th>\n      <td>Isaac</td>\n      <td>Vandorn</td>\n      <td>Peter</td>\n      <td>Vandorn</td>\n    </tr>\n    <tr>\n      <th>36232</th>\n      <td>Hendrick</td>\n      <td>Smock</td>\n      <td>George</td>\n      <td>Smock</td>\n    </tr>\n    <tr>\n      <th>36554</th>\n      <td>David</td>\n      <td>Williamson</td>\n      <td>William</td>\n      <td>Willamson</td>\n    </tr>\n    <tr>\n      <th>36815</th>\n      <td>John</td>\n      <td>Vankirk</td>\n      <td>Josiah</td>\n      <td>Vankrik</td>\n    </tr>\n    <tr>\n      <th>37423</th>\n      <td>William</td>\n      <td>Covenhoven</td>\n      <td>Theo</td>\n      <td>Covenhoven</td>\n    </tr>\n    <tr>\n      <th>39232</th>\n      <td>Hendrick</td>\n      <td>TenEyk</td>\n      <td>Jacob</td>\n      <td>TenEyk</td>\n    </tr>\n    <tr>\n      <th>39418</th>\n      <td>Thomas</td>\n      <td>Mifflin</td>\n      <td>Jonathan</td>\n      <td>Miffin</td>\n    </tr>\n    <tr>\n      <th>39431</th>\n      <td>Thomas</td>\n      <td>Mifflin</td>\n      <td>John</td>\n      <td>Miffin</td>\n    </tr>\n    <tr>\n      <th>39594</th>\n      <td>Jo</td>\n      <td>Bonfield</td>\n      <td>Acklam</td>\n      <td>Bonfield</td>\n    </tr>\n    <tr>\n      <th>39596</th>\n      <td>John</td>\n      <td>Bonfield</td>\n      <td>Acklam</td>\n      <td>Bonfield</td>\n    </tr>\n    <tr>\n      <th>39712</th>\n      <td>R</td>\n      <td>Gerraty</td>\n      <td>Robert</td>\n      <td>Morris</td>\n    </tr>\n    <tr>\n      <th>39769</th>\n      <td>NaN</td>\n      <td>Prior</td>\n      <td>NaN</td>\n      <td>Joy</td>\n    </tr>\n    <tr>\n      <th>39822</th>\n      <td>Geu</td>\n      <td>Walker</td>\n      <td>Mc</td>\n      <td>Shulert</td>\n    </tr>\n    <tr>\n      <th>39838</th>\n      <td>James</td>\n      <td>Scarle</td>\n      <td>Thomas</td>\n      <td>Hopkinson</td>\n    </tr>\n    <tr>\n      <th>39847</th>\n      <td>Anthony</td>\n      <td>Hocker</td>\n      <td>Thomas</td>\n      <td>Wharton</td>\n    </tr>\n    <tr>\n      <th>39853</th>\n      <td>Archibald</td>\n      <td>Mercer</td>\n      <td>John P</td>\n      <td>Schenk</td>\n    </tr>\n    <tr>\n      <th>39858</th>\n      <td>Archibald</td>\n      <td>Mereer</td>\n      <td>Jp</td>\n      <td>Shink</td>\n    </tr>\n    <tr>\n      <th>39867</th>\n      <td>John</td>\n      <td>Templeton</td>\n      <td>Brenda</td>\n      <td>Hall</td>\n    </tr>\n    <tr>\n      <th>39942</th>\n      <td>Mary Abraham</td>\n      <td>Charles</td>\n      <td>Elizabeth</td>\n      <td>Clinton</td>\n    </tr>\n    <tr>\n      <th>39954</th>\n      <td>John</td>\n      <td>Chevalier</td>\n      <td>Peter</td>\n      <td>Chevalier</td>\n    </tr>\n    <tr>\n      <th>40053</th>\n      <td>Francis</td>\n      <td>Hopkinson</td>\n      <td>James</td>\n      <td>Scarle</td>\n    </tr>\n    <tr>\n      <th>40054</th>\n      <td>William</td>\n      <td>Heysham</td>\n      <td>Frac</td>\n      <td>Hopkinson</td>\n    </tr>\n    <tr>\n      <th>40216</th>\n      <td>Anna</td>\n      <td>Cunningham</td>\n      <td>George</td>\n      <td>Cunningham</td>\n    </tr>\n    <tr>\n      <th>40229</th>\n      <td>Anna Dav</td>\n      <td>Cunningham</td>\n      <td>George</td>\n      <td>Cunningham</td>\n    </tr>\n    <tr>\n      <th>40284</th>\n      <td>Peter</td>\n      <td>Wikoff</td>\n      <td>Isaac</td>\n      <td>Wiloff</td>\n    </tr>\n    <tr>\n      <th>40373</th>\n      <td>Anthony</td>\n      <td>Stocker</td>\n      <td>Thomas</td>\n      <td>Wharton</td>\n    </tr>\n    <tr>\n      <th>40380</th>\n      <td>Anthony</td>\n      <td>Strother</td>\n      <td>Thomas</td>\n      <td>Thorton</td>\n    </tr>\n    <tr>\n      <th>40474</th>\n      <td>Gaston</td>\n      <td>Dec</td>\n      <td>Jeremiah</td>\n      <td>Halsey</td>\n    </tr>\n    <tr>\n      <th>40503</th>\n      <td>Sam</td>\n      <td>Morton</td>\n      <td>John</td>\n      <td>Morton</td>\n    </tr>\n    <tr>\n      <th>40518</th>\n      <td>David</td>\n      <td>Caldwell</td>\n      <td>Sam</td>\n      <td>Caldwell</td>\n    </tr>\n    <tr>\n      <th>40523</th>\n      <td>William</td>\n      <td>Allison</td>\n      <td>Samuel</td>\n      <td>Caldwell</td>\n    </tr>\n    <tr>\n      <th>40600</th>\n      <td>Jacob</td>\n      <td>Carver</td>\n      <td>Jacob</td>\n      <td>Brush</td>\n    </tr>\n    <tr>\n      <th>40611</th>\n      <td>Jacob</td>\n      <td>Carver</td>\n      <td>Isaac</td>\n      <td>Roush</td>\n    </tr>\n    <tr>\n      <th>40646</th>\n      <td>NaN</td>\n      <td>Benezet</td>\n      <td>NaN</td>\n      <td>Backman</td>\n    </tr>\n    <tr>\n      <th>40713</th>\n      <td>Samuel</td>\n      <td>Vernon</td>\n      <td>William</td>\n      <td>Vernon</td>\n    </tr>\n    <tr>\n      <th>40857</th>\n      <td>Gilbert</td>\n      <td>Hammond</td>\n      <td>Cornelius</td>\n      <td>Tommand</td>\n    </tr>\n    <tr>\n      <th>40901</th>\n      <td>Samuel</td>\n      <td>Verner</td>\n      <td>W</td>\n      <td>Verner</td>\n    </tr>\n    <tr>\n      <th>40959</th>\n      <td>William</td>\n      <td>Allison</td>\n      <td>John</td>\n      <td>Bleakley</td>\n    </tr>\n    <tr>\n      <th>40967</th>\n      <td>William</td>\n      <td>Allison</td>\n      <td>Margarett</td>\n      <td>Wilkins</td>\n    </tr>\n    <tr>\n      <th>40977</th>\n      <td>John</td>\n      <td>Blackley</td>\n      <td>William</td>\n      <td>Allison</td>\n    </tr>\n    <tr>\n      <th>41000</th>\n      <td>Peter</td>\n      <td>Wilkoff</td>\n      <td>Isaac</td>\n      <td>Wilkoff</td>\n    </tr>\n    <tr>\n      <th>41176</th>\n      <td>Townsand</td>\n      <td>White</td>\n      <td>John</td>\n      <td>White</td>\n    </tr>\n    <tr>\n      <th>41198</th>\n      <td>Matthew</td>\n      <td>Allen</td>\n      <td>William</td>\n      <td>Allison</td>\n    </tr>\n    <tr>\n      <th>41393</th>\n      <td>NaN</td>\n      <td>Simons</td>\n      <td>NaN</td>\n      <td>Henry</td>\n    </tr>\n    <tr>\n      <th>41418</th>\n      <td>John</td>\n      <td>Ewing</td>\n      <td>Smith</td>\n      <td>Sergeant</td>\n    </tr>\n    <tr>\n      <th>41428</th>\n      <td>John</td>\n      <td>Ewing</td>\n      <td>Jonathan</td>\n      <td>Sergant</td>\n    </tr>\n    <tr>\n      <th>41450</th>\n      <td>NaN</td>\n      <td>Rotch</td>\n      <td>NaN</td>\n      <td>Jarvis</td>\n    </tr>\n    <tr>\n      <th>41514</th>\n      <td>J</td>\n      <td>Gleen</td>\n      <td>Mark</td>\n      <td>Glenn</td>\n    </tr>\n    <tr>\n      <th>41668</th>\n      <td>Jonathan</td>\n      <td>Sargeant</td>\n      <td>John</td>\n      <td>Erwin</td>\n    </tr>\n    <tr>\n      <th>41857</th>\n      <td>Andrew</td>\n      <td>Caldwell</td>\n      <td>James</td>\n      <td>Caldwell</td>\n    </tr>\n    <tr>\n      <th>42567</th>\n      <td>Rich</td>\n      <td>Walker</td>\n      <td>Wile</td>\n      <td>Ramsey</td>\n    </tr>\n    <tr>\n      <th>42845</th>\n      <td>Thomas</td>\n      <td>Jones</td>\n      <td>Mathew</td>\n      <td>Greer</td>\n    </tr>\n    <tr>\n      <th>42885</th>\n      <td>John</td>\n      <td>Green</td>\n      <td>Matthew</td>\n      <td>Green</td>\n    </tr>\n    <tr>\n      <th>42937</th>\n      <td>Joseph</td>\n      <td>Boyd</td>\n      <td>Ann</td>\n      <td>Roan</td>\n    </tr>\n    <tr>\n      <th>42973</th>\n      <td>Moses</td>\n      <td>Dichey</td>\n      <td>George</td>\n      <td>Dukey</td>\n    </tr>\n    <tr>\n      <th>44405</th>\n      <td>Elizabeth</td>\n      <td>Latima</td>\n      <td>Jane</td>\n      <td>Latima</td>\n    </tr>\n    <tr>\n      <th>44427</th>\n      <td>Elizabeth</td>\n      <td>Latimer</td>\n      <td>Jane</td>\n      <td>Latimer</td>\n    </tr>\n    <tr>\n      <th>44558</th>\n      <td>NaN</td>\n      <td>Levy</td>\n      <td>NaN</td>\n      <td>Levy</td>\n    </tr>\n    <tr>\n      <th>45198</th>\n      <td>Thestah Off</td>\n      <td>Fummingham</td>\n      <td>Nathan</td>\n      <td>Donnell</td>\n    </tr>\n    <tr>\n      <th>45624</th>\n      <td>Mary</td>\n      <td>Roberts</td>\n      <td>Ann</td>\n      <td>Roberts</td>\n    </tr>\n    <tr>\n      <th>45701</th>\n      <td>Archibald</td>\n      <td>Mercer</td>\n      <td>J P</td>\n      <td>Schenk</td>\n    </tr>\n    <tr>\n      <th>45745</th>\n      <td>Presbyterian Congregation N town</td>\n      <td>NaN</td>\n      <td>Joseph</td>\n      <td>Jacket</td>\n    </tr>\n    <tr>\n      <th>46924</th>\n      <td>Jacob</td>\n      <td>Carver</td>\n      <td>Mary</td>\n      <td>Bldney</td>\n    </tr>\n    <tr>\n      <th>46941</th>\n      <td>John</td>\n      <td>Lilly</td>\n      <td>W</td>\n      <td>Withrow</td>\n    </tr>\n    <tr>\n      <th>46952</th>\n      <td>Joseph</td>\n      <td>Clarke</td>\n      <td>W</td>\n      <td>Withrow</td>\n    </tr>\n    <tr>\n      <th>46966</th>\n      <td>Hal</td>\n      <td>Turnby</td>\n      <td>Johan</td>\n      <td>Cook</td>\n    </tr>\n    <tr>\n      <th>47060</th>\n      <td>Cath</td>\n      <td>McWater</td>\n      <td>John</td>\n      <td>Walles</td>\n    </tr>\n    <tr>\n      <th>47173</th>\n      <td>Jer</td>\n      <td>Halsey</td>\n      <td>Saiah</td>\n      <td>Gaston</td>\n    </tr>\n    <tr>\n      <th>47293</th>\n      <td>NaN</td>\n      <td>Milner</td>\n      <td>NaN</td>\n      <td>Haynes</td>\n    </tr>\n    <tr>\n      <th>47454</th>\n      <td>Andrew</td>\n      <td>Caldwell</td>\n      <td>Samuel</td>\n      <td>Coldwell</td>\n    </tr>\n    <tr>\n      <th>47466</th>\n      <td>Andrew</td>\n      <td>Caldwell</td>\n      <td>Isaac</td>\n      <td>Coldwell</td>\n    </tr>\n    <tr>\n      <th>47552</th>\n      <td>Phil</td>\n      <td>Johnston</td>\n      <td>Samuel</td>\n      <td>Johnston</td>\n    </tr>\n    <tr>\n      <th>47734</th>\n      <td>Michel</td>\n      <td>Churches</td>\n      <td>Zion</td>\n      <td>Churches</td>\n    </tr>\n    <tr>\n      <th>47758</th>\n      <td>Corporation of Michelle &amp; Zion Churches</td>\n      <td>NaN</td>\n      <td>Michele</td>\n      <td>Shubart</td>\n    </tr>\n    <tr>\n      <th>48237</th>\n      <td>NaN</td>\n      <td>Chalone</td>\n      <td>NaN</td>\n      <td>White</td>\n    </tr>\n    <tr>\n      <th>48243</th>\n      <td>NaN</td>\n      <td>Charles</td>\n      <td>NaN</td>\n      <td>White</td>\n    </tr>\n    <tr>\n      <th>48274</th>\n      <td>NaN</td>\n      <td>Vance</td>\n      <td>NaN</td>\n      <td>Caldwell</td>\n    </tr>\n    <tr>\n      <th>48314</th>\n      <td>Josiah</td>\n      <td>Moore</td>\n      <td>William</td>\n      <td>Rigdense</td>\n    </tr>\n    <tr>\n      <th>48594</th>\n      <td>Jacob</td>\n      <td>Geiger</td>\n      <td>Henry</td>\n      <td>Geiger</td>\n    </tr>\n    <tr>\n      <th>48596</th>\n      <td>Letitea</td>\n      <td>Correy</td>\n      <td>Am</td>\n      <td>Correy</td>\n    </tr>\n    <tr>\n      <th>48605</th>\n      <td>Lelitia</td>\n      <td>Correy</td>\n      <td>Ann</td>\n      <td>Correy</td>\n    </tr>\n    <tr>\n      <th>48660</th>\n      <td>NaN</td>\n      <td>Milner</td>\n      <td>NaN</td>\n      <td>Sherr</td>\n    </tr>\n    <tr>\n      <th>48661</th>\n      <td>NaN</td>\n      <td>Craig</td>\n      <td>NaN</td>\n      <td>Cummins</td>\n    </tr>\n    <tr>\n      <th>48749</th>\n      <td>Timothy</td>\n      <td>Wood</td>\n      <td>Abraham</td>\n      <td>Cuyler</td>\n    </tr>\n    <tr>\n      <th>48767</th>\n      <td>John</td>\n      <td>Wood</td>\n      <td>Abraham</td>\n      <td>Caylor</td>\n    </tr>\n    <tr>\n      <th>48824</th>\n      <td>Anna</td>\n      <td>Painter</td>\n      <td>George Young</td>\n      <td>Gerardia</td>\n    </tr>\n    <tr>\n      <th>49145</th>\n      <td>NaN</td>\n      <td>Furman</td>\n      <td>NaN</td>\n      <td>Hunt</td>\n    </tr>\n    <tr>\n      <th>49428</th>\n      <td>I</td>\n      <td>Sears</td>\n      <td>P N</td>\n      <td>Smith</td>\n    </tr>\n    <tr>\n      <th>49433</th>\n      <td>Isaac</td>\n      <td>Sears</td>\n      <td>R N</td>\n      <td>Smith</td>\n    </tr>\n    <tr>\n      <th>49440</th>\n      <td>Ilean</td>\n      <td>Smith</td>\n      <td>RN</td>\n      <td>Smith</td>\n    </tr>\n    <tr>\n      <th>49581</th>\n      <td>Stephen</td>\n      <td>Boyd</td>\n      <td>John</td>\n      <td>Edwards</td>\n    </tr>\n    <tr>\n      <th>49582</th>\n      <td>David</td>\n      <td>Mackey</td>\n      <td>David</td>\n      <td>Mackey</td>\n    </tr>\n    <tr>\n      <th>49611</th>\n      <td>William</td>\n      <td>Boyd</td>\n      <td>H.</td>\n      <td>Boyd</td>\n    </tr>\n    <tr>\n      <th>50185</th>\n      <td>NaN</td>\n      <td>Furman</td>\n      <td>NaN</td>\n      <td>Yard</td>\n    </tr>\n    <tr>\n      <th>50297</th>\n      <td>J</td>\n      <td>Dickinson</td>\n      <td>Ed</td>\n      <td>Keasby</td>\n    </tr>\n    <tr>\n      <th>50478</th>\n      <td>NaN</td>\n      <td>Sam</td>\n      <td>NaN</td>\n      <td>Havard</td>\n    </tr>\n    <tr>\n      <th>50644</th>\n      <td>NaN</td>\n      <td>Tramen</td>\n      <td>NaN</td>\n      <td>Hunt</td>\n    </tr>\n    <tr>\n      <th>51099</th>\n      <td>Leon</td>\n      <td>Ampach</td>\n      <td>George</td>\n      <td>Liller</td>\n    </tr>\n    <tr>\n      <th>51130</th>\n      <td>Leon</td>\n      <td>Anshach</td>\n      <td>Geo</td>\n      <td>Seller</td>\n    </tr>\n    <tr>\n      <th>51262</th>\n      <td>Nexon</td>\n      <td>Nesbitt</td>\n      <td>Forster</td>\n      <td>Nesbitt</td>\n    </tr>\n    <tr>\n      <th>51268</th>\n      <td>Nixon</td>\n      <td>Nisbitt</td>\n      <td>Foster</td>\n      <td>Nisbitt</td>\n    </tr>\n    <tr>\n      <th>51340</th>\n      <td>Mac</td>\n      <td>Croken</td>\n      <td>William</td>\n      <td>Munns</td>\n    </tr>\n    <tr>\n      <th>51345</th>\n      <td>Conaard</td>\n      <td>Teulps</td>\n      <td>George</td>\n      <td>Kelcher</td>\n    </tr>\n    <tr>\n      <th>51363</th>\n      <td>NaN</td>\n      <td>Lambson</td>\n      <td>William</td>\n      <td>Meeum</td>\n    </tr>\n    <tr>\n      <th>51367</th>\n      <td>Conrad</td>\n      <td>Scheele</td>\n      <td>Gen.</td>\n      <td>Kelehner</td>\n    </tr>\n    <tr>\n      <th>51478</th>\n      <td>NaN</td>\n      <td>Peter</td>\n      <td>NaN</td>\n      <td>Dumont</td>\n    </tr>\n    <tr>\n      <th>51546</th>\n      <td>Robert</td>\n      <td>Paisley</td>\n      <td>Sar</td>\n      <td>Clinlow</td>\n    </tr>\n    <tr>\n      <th>51730</th>\n      <td>NaN</td>\n      <td>Michael</td>\n      <td>NaN</td>\n      <td>Hohn</td>\n    </tr>\n    <tr>\n      <th>51742</th>\n      <td>NaN</td>\n      <td>Hezekiah</td>\n      <td>NaN</td>\n      <td>Hooghtalm</td>\n    </tr>\n    <tr>\n      <th>51894</th>\n      <td>NaN</td>\n      <td>Taylor</td>\n      <td>NaN</td>\n      <td>Alexander</td>\n    </tr>\n    <tr>\n      <th>51920</th>\n      <td>NaN</td>\n      <td>Jayber</td>\n      <td>NaN</td>\n      <td>Mesander</td>\n    </tr>\n    <tr>\n      <th>51938</th>\n      <td>Samuel</td>\n      <td>Allen</td>\n      <td>James</td>\n      <td>Wilson</td>\n    </tr>\n    <tr>\n      <th>52146</th>\n      <td>Robert</td>\n      <td>Steven</td>\n      <td>Cor.</td>\n      <td>Steven</td>\n    </tr>\n    <tr>\n      <th>52167</th>\n      <td>Dewald</td>\n      <td>Ent</td>\n      <td>Geo</td>\n      <td>Miller</td>\n    </tr>\n    <tr>\n      <th>52176</th>\n      <td>Robert</td>\n      <td>Stevens</td>\n      <td>Corns</td>\n      <td>Stevens</td>\n    </tr>\n    <tr>\n      <th>52556</th>\n      <td>Thomas</td>\n      <td>Hutchins</td>\n      <td>Daniel</td>\n      <td>Smith</td>\n    </tr>\n    <tr>\n      <th>52809</th>\n      <td>John Pingel</td>\n      <td>Herlake</td>\n      <td>J</td>\n      <td>Nickson</td>\n    </tr>\n    <tr>\n      <th>52934</th>\n      <td>NaN</td>\n      <td>Keph</td>\n      <td>NaN</td>\n      <td>Doryea</td>\n    </tr>\n    <tr>\n      <th>52957</th>\n      <td>J</td>\n      <td>Hartman</td>\n      <td>Herman</td>\n      <td>Fil</td>\n    </tr>\n    <tr>\n      <th>52968</th>\n      <td>Isaac</td>\n      <td>Hartman</td>\n      <td>Heeman Van</td>\n      <td>Jul</td>\n    </tr>\n    <tr>\n      <th>53038</th>\n      <td>John</td>\n      <td>Brobst</td>\n      <td>Andrew</td>\n      <td>Hagenbach</td>\n    </tr>\n    <tr>\n      <th>53479</th>\n      <td>Jacob</td>\n      <td>Bilman</td>\n      <td>Philip</td>\n      <td>Sidler</td>\n    </tr>\n    <tr>\n      <th>53566</th>\n      <td>NaN</td>\n      <td>the Craig</td>\n      <td>Ja Gamiel</td>\n      <td>Dowdel</td>\n    </tr>\n    <tr>\n      <th>53602</th>\n      <td>Thomas</td>\n      <td>Craig</td>\n      <td>James Ganeal</td>\n      <td>Davidal</td>\n    </tr>\n    <tr>\n      <th>53690</th>\n      <td>Sarah</td>\n      <td>Stewart</td>\n      <td>Mary</td>\n      <td>Stewart</td>\n    </tr>\n    <tr>\n      <th>53730</th>\n      <td>Jn</td>\n      <td>Nixon</td>\n      <td>I M</td>\n      <td>Nerbitt</td>\n    </tr>\n    <tr>\n      <th>53731</th>\n      <td>Sam</td>\n      <td>Lightburne</td>\n      <td>I</td>\n      <td>Harvey</td>\n    </tr>\n    <tr>\n      <th>53762</th>\n      <td>NaN</td>\n      <td>Wood</td>\n      <td>NaN</td>\n      <td>Cuyler</td>\n    </tr>\n    <tr>\n      <th>54408</th>\n      <td>Richard</td>\n      <td>jarvill</td>\n      <td>Thomas</td>\n      <td>Haslip</td>\n    </tr>\n    <tr>\n      <th>54455</th>\n      <td>Philip</td>\n      <td>Fox</td>\n      <td>Simeon</td>\n      <td>Dreisback</td>\n    </tr>\n    <tr>\n      <th>54473</th>\n      <td>Emannet</td>\n      <td>Shultze</td>\n      <td>John</td>\n      <td>Pennybacker</td>\n    </tr>\n    <tr>\n      <th>54495</th>\n      <td>Estale Ju</td>\n      <td>Eighter</td>\n      <td>John Penny</td>\n      <td>Cacker</td>\n    </tr>\n    <tr>\n      <th>54837</th>\n      <td>Andrew</td>\n      <td>Caldwell</td>\n      <td>Jabez</td>\n      <td>Caldwell</td>\n    </tr>\n    <tr>\n      <th>54845</th>\n      <td>John Isaac</td>\n      <td>Kline</td>\n      <td>George</td>\n      <td>Klein</td>\n    </tr>\n    <tr>\n      <th>54921</th>\n      <td>Peter</td>\n      <td>Breenner</td>\n      <td>Jn</td>\n      <td>Trappagan</td>\n    </tr>\n    <tr>\n      <th>55195</th>\n      <td>Hachinach Church</td>\n      <td>NaN</td>\n      <td>Jun</td>\n      <td>Abraham</td>\n    </tr>\n    <tr>\n      <th>55258</th>\n      <td>NaN</td>\n      <td>Messer</td>\n      <td>NaN</td>\n      <td>Spark</td>\n    </tr>\n    <tr>\n      <th>55262</th>\n      <td>German Society</td>\n      <td>NaN</td>\n      <td>Michele</td>\n      <td>Shubert</td>\n    </tr>\n    <tr>\n      <th>55273</th>\n      <td>NaN</td>\n      <td>Mercer</td>\n      <td>NaN</td>\n      <td>Schenk</td>\n    </tr>\n    <tr>\n      <th>55410</th>\n      <td>Samuel</td>\n      <td>Jones</td>\n      <td>Margaret</td>\n      <td>Jackson</td>\n    </tr>\n    <tr>\n      <th>55432</th>\n      <td>Hugh Samuel</td>\n      <td>Jons</td>\n      <td>Neary</td>\n      <td>Jackson</td>\n    </tr>\n    <tr>\n      <th>55521</th>\n      <td>H</td>\n      <td>Woodrow</td>\n      <td>Peter</td>\n      <td>Knight</td>\n    </tr>\n    <tr>\n      <th>55674</th>\n      <td>Detrik</td>\n      <td>Pecse</td>\n      <td>Michael</td>\n      <td>Shubert</td>\n    </tr>\n    <tr>\n      <th>55780</th>\n      <td>Dutrich</td>\n      <td>Reese</td>\n      <td>Michele</td>\n      <td>Shubart</td>\n    </tr>\n    <tr>\n      <th>55831</th>\n      <td>NaN</td>\n      <td>Levi</td>\n      <td>NaN</td>\n      <td>Levi</td>\n    </tr>\n    <tr>\n      <th>56020</th>\n      <td>NaN</td>\n      <td>VanUhsam</td>\n      <td>NaN</td>\n      <td>Clarks</td>\n    </tr>\n    <tr>\n      <th>56038</th>\n      <td>NaN</td>\n      <td>John</td>\n      <td>NaN</td>\n      <td>Mam</td>\n    </tr>\n    <tr>\n      <th>56093</th>\n      <td>NaN</td>\n      <td>Van</td>\n      <td>NaN</td>\n      <td>Vrem</td>\n    </tr>\n    <tr>\n      <th>56095</th>\n      <td>John</td>\n      <td>Mann</td>\n      <td>Andrew</td>\n      <td>Dunbar</td>\n    </tr>\n    <tr>\n      <th>56384</th>\n      <td>Christian</td>\n      <td>Weedman</td>\n      <td>Samuel Harris Esq Mathia</td>\n      <td>Birkly</td>\n    </tr>\n    <tr>\n      <th>56802</th>\n      <td>NaN</td>\n      <td>Michael</td>\n      <td>NaN</td>\n      <td>Cart</td>\n    </tr>\n    <tr>\n      <th>57004</th>\n      <td>Robert</td>\n      <td>Stevenson</td>\n      <td>Christopher</td>\n      <td>Stevenson</td>\n    </tr>\n    <tr>\n      <th>57005</th>\n      <td>Rob</td>\n      <td>Stevenson</td>\n      <td>Corn</td>\n      <td>Stevenson</td>\n    </tr>\n    <tr>\n      <th>57010</th>\n      <td>Robert</td>\n      <td>Stevenson</td>\n      <td>Coss</td>\n      <td>Stevenson</td>\n    </tr>\n    <tr>\n      <th>57191</th>\n      <td>Fred</td>\n      <td>Fearing</td>\n      <td>Sebastian</td>\n      <td>Miller</td>\n    </tr>\n    <tr>\n      <th>57291</th>\n      <td>William</td>\n      <td>Rigden</td>\n      <td>Edward</td>\n      <td>Middleton</td>\n    </tr>\n    <tr>\n      <th>57367</th>\n      <td>Herman Van</td>\n      <td>Tiel</td>\n      <td>I</td>\n      <td>Hartman</td>\n    </tr>\n    <tr>\n      <th>57469</th>\n      <td></td>\n      <td>Hre</td>\n      <td>NaN</td>\n      <td>Ch</td>\n    </tr>\n    <tr>\n      <th>57473</th>\n      <td>Jacob</td>\n      <td>Fisher</td>\n      <td>Philip</td>\n      <td>Lentz</td>\n    </tr>\n    <tr>\n      <th>57476</th>\n      <td>Ed</td>\n      <td>Keasby</td>\n      <td>Ch</td>\n      <td>Bilderback</td>\n    </tr>\n    <tr>\n      <th>57634</th>\n      <td>Mat</td>\n      <td>Mease</td>\n      <td>William</td>\n      <td>Allison</td>\n    </tr>\n    <tr>\n      <th>57653</th>\n      <td>NaN</td>\n      <td>Samuel</td>\n      <td>NaN</td>\n      <td>Rea</td>\n    </tr>\n    <tr>\n      <th>57674</th>\n      <td>Peter</td>\n      <td>Brown</td>\n      <td>N</td>\n      <td>Jacoobs</td>\n    </tr>\n    <tr>\n      <th>57680</th>\n      <td>Peter</td>\n      <td>Brown</td>\n      <td>Nic</td>\n      <td>Jacobs</td>\n    </tr>\n    <tr>\n      <th>57702</th>\n      <td>NaN</td>\n      <td>Dubois</td>\n      <td>NaN</td>\n      <td>Hutman</td>\n    </tr>\n    <tr>\n      <th>57944</th>\n      <td>John</td>\n      <td>Gaston de</td>\n      <td>Jere</td>\n      <td>Kalbey</td>\n    </tr>\n    <tr>\n      <th>57951</th>\n      <td>Jn</td>\n      <td>Gaster</td>\n      <td>Jer</td>\n      <td>Hals</td>\n    </tr>\n    <tr>\n      <th>58213</th>\n      <td>Samuel</td>\n      <td>Delap</td>\n      <td>John Hans</td>\n      <td>Delap</td>\n    </tr>\n    <tr>\n      <th>58246</th>\n      <td>Guilliaume Sabatier</td>\n      <td>Sits</td>\n      <td>Pierce</td>\n      <td>Despres</td>\n    </tr>\n    <tr>\n      <th>59227</th>\n      <td>German Society</td>\n      <td>NaN</td>\n      <td>Michael</td>\n      <td>Shutart</td>\n    </tr>\n    <tr>\n      <th>59863</th>\n      <td>John</td>\n      <td>Gibson</td>\n      <td>John</td>\n      <td>Smith</td>\n    </tr>\n    <tr>\n      <th>60005</th>\n      <td>NaN</td>\n      <td>John</td>\n      <td>NaN</td>\n      <td>Pringle</td>\n    </tr>\n    <tr>\n      <th>60010</th>\n      <td>In Peingle Harr</td>\n      <td>Lake</td>\n      <td>John Nixon</td>\n      <td>Ex</td>\n    </tr>\n    <tr>\n      <th>60120</th>\n      <td>Jn</td>\n      <td>Klinger</td>\n      <td>Ernest</td>\n      <td>Klinger</td>\n    </tr>\n    <tr>\n      <th>60132</th>\n      <td>John</td>\n      <td>Klinger</td>\n      <td>Ernest</td>\n      <td>Klinger</td>\n    </tr>\n    <tr>\n      <th>60205</th>\n      <td>NaN</td>\n      <td>Peter</td>\n      <td>NaN</td>\n      <td>Henry</td>\n    </tr>\n    <tr>\n      <th>60775</th>\n      <td>Will</td>\n      <td>Rigden jr</td>\n      <td>Joshua</td>\n      <td>Moore</td>\n    </tr>\n    <tr>\n      <th>61546</th>\n      <td>NaN</td>\n      <td>Meredith</td>\n      <td>NaN</td>\n      <td>Clymer</td>\n    </tr>\n    <tr>\n      <th>61570</th>\n      <td>NaN</td>\n      <td>Meredith</td>\n      <td>NaN</td>\n      <td>Plymir</td>\n    </tr>\n    <tr>\n      <th>61724</th>\n      <td>Robert</td>\n      <td>Weis</td>\n      <td>John</td>\n      <td>Weis</td>\n    </tr>\n    <tr>\n      <th>61726</th>\n      <td>Robert</td>\n      <td>Will</td>\n      <td>Jn</td>\n      <td>Will</td>\n    </tr>\n    <tr>\n      <th>61970</th>\n      <td>William</td>\n      <td>Stadlerman</td>\n      <td>Pk</td>\n      <td>Lickon</td>\n    </tr>\n    <tr>\n      <th>61973</th>\n      <td>NaN</td>\n      <td>Rutter</td>\n      <td>NaN</td>\n      <td>Potts</td>\n    </tr>\n    <tr>\n      <th>62583</th>\n      <td>Sam</td>\n      <td>Ely</td>\n      <td>Jn Gallaher</td>\n      <td>Esq</td>\n    </tr>\n    <tr>\n      <th>62594</th>\n      <td>NaN</td>\n      <td>Camble</td>\n      <td>NaN</td>\n      <td>Cooper</td>\n    </tr>\n    <tr>\n      <th>62693</th>\n      <td>Sam</td>\n      <td>Ely</td>\n      <td>Michel</td>\n      <td>Gellinger</td>\n    </tr>\n    <tr>\n      <th>62770</th>\n      <td>Samuel</td>\n      <td>Ely</td>\n      <td>Michael Gellington</td>\n      <td>Esq</td>\n    </tr>\n    <tr>\n      <th>67543</th>\n      <td>Simon Dreisbach For</td>\n      <td>Estates</td>\n      <td>John</td>\n      <td>fox</td>\n    </tr>\n    <tr>\n      <th>68296</th>\n      <td>NaN</td>\n      <td>Ferrason</td>\n      <td>NaN</td>\n      <td>Pocy</td>\n    </tr>\n    <tr>\n      <th>68299</th>\n      <td>NaN</td>\n      <td>Terrason</td>\n      <td>NaN</td>\n      <td>Pory</td>\n    </tr>\n    <tr>\n      <th>68314</th>\n      <td>NaN</td>\n      <td>North</td>\n      <td>NaN</td>\n      <td>Trescott</td>\n    </tr>\n    <tr>\n      <th>69124</th>\n      <td>John</td>\n      <td>Man</td>\n      <td>Andrew</td>\n      <td>Dunham</td>\n    </tr>\n    <tr>\n      <th>69185</th>\n      <td>Samuel</td>\n      <td>Purviance</td>\n      <td>Robert</td>\n      <td>Purviance</td>\n    </tr>\n    <tr>\n      <th>69187</th>\n      <td>Samuel</td>\n      <td>Purseyaner</td>\n      <td>Robert</td>\n      <td>Purseyaner</td>\n    </tr>\n    <tr>\n      <th>69200</th>\n      <td>Jeremiah</td>\n      <td>Halsey</td>\n      <td>Sarah</td>\n      <td>Gaster</td>\n    </tr>\n    <tr>\n      <th>69231</th>\n      <td>Henry</td>\n      <td>Brown</td>\n      <td>Thomas</td>\n      <td>Brown</td>\n    </tr>\n    <tr>\n      <th>69327</th>\n      <td>St Michael and Zeus Corporation</td>\n      <td>NaN</td>\n      <td>Michael</td>\n      <td>Schubert</td>\n    </tr>\n    <tr>\n      <th>69634</th>\n      <td>Doc</td>\n      <td>Russ</td>\n      <td>Mich</td>\n      <td>Shubart</td>\n    </tr>\n    <tr>\n      <th>69638</th>\n      <td>Detrick</td>\n      <td>Ruser</td>\n      <td>Michael</td>\n      <td>Shabach</td>\n    </tr>\n    <tr>\n      <th>69823</th>\n      <td>Peter</td>\n      <td>Wilson</td>\n      <td>Isaac</td>\n      <td>Wikoff</td>\n    </tr>\n    <tr>\n      <th>70033</th>\n      <td>William</td>\n      <td>Alexander</td>\n      <td>Earl</td>\n      <td>Sterling</td>\n    </tr>\n    <tr>\n      <th>70077</th>\n      <td>Jacob</td>\n      <td>Calvert</td>\n      <td>Isaac</td>\n      <td>Rauch</td>\n    </tr>\n    <tr>\n      <th>70110</th>\n      <td>NaN</td>\n      <td>Foulke</td>\n      <td>NaN</td>\n      <td>Hameren</td>\n    </tr>\n    <tr>\n      <th>70133</th>\n      <td>Christ V.</td>\n      <td>Cross</td>\n      <td>Jacob</td>\n      <td>Fisher</td>\n    </tr>\n    <tr>\n      <th>70246</th>\n      <td>Corperetion of F Mich &amp; Lions Cer</td>\n      <td>NaN</td>\n      <td>John</td>\n      <td>Steinmetz</td>\n    </tr>\n    <tr>\n      <th>70305</th>\n      <td>William</td>\n      <td>Haztelon</td>\n      <td>John</td>\n      <td>Wilhinson</td>\n    </tr>\n    <tr>\n      <th>70335</th>\n      <td>German Society</td>\n      <td>NaN</td>\n      <td>M</td>\n      <td>Shubart</td>\n    </tr>\n    <tr>\n      <th>71032</th>\n      <td>Ev</td>\n      <td>Mitchell</td>\n      <td>A</td>\n      <td>Caldwell</td>\n    </tr>\n    <tr>\n      <th>71933</th>\n      <td>NaN</td>\n      <td>McCulloch</td>\n      <td>NaN</td>\n      <td>Peterson</td>\n    </tr>\n    <tr>\n      <th>72125</th>\n      <td>St Michaels and Zions Cerpreatere</td>\n      <td>NaN</td>\n      <td>Jon</td>\n      <td>Steinmetz</td>\n    </tr>\n    <tr>\n      <th>72367</th>\n      <td>NaN</td>\n      <td>Read</td>\n      <td>NaN</td>\n      <td>Gilpin</td>\n    </tr>\n    <tr>\n      <th>72803</th>\n      <td>NaN</td>\n      <td>Glan</td>\n      <td>NaN</td>\n      <td>McClay</td>\n    </tr>\n    <tr>\n      <th>72811</th>\n      <td>Edward</td>\n      <td>Armstrong</td>\n      <td>Rebecca</td>\n      <td>Armstrong</td>\n    </tr>\n    <tr>\n      <th>73066</th>\n      <td>John</td>\n      <td>Rogers</td>\n      <td>Richard</td>\n      <td>Cooke</td>\n    </tr>\n    <tr>\n      <th>73095</th>\n      <td>NaN</td>\n      <td>Rogers</td>\n      <td>NaN</td>\n      <td>Cooke</td>\n    </tr>\n    <tr>\n      <th>73117</th>\n      <td>William</td>\n      <td>Horsey</td>\n      <td>Isaac</td>\n      <td>Horsey</td>\n    </tr>\n    <tr>\n      <th>73122</th>\n      <td>NaN</td>\n      <td>Wallace</td>\n      <td>NaN</td>\n      <td>Davidson</td>\n    </tr>\n    <tr>\n      <th>73475</th>\n      <td>NaN</td>\n      <td>Massachusetts</td>\n      <td>NaN</td>\n      <td>Milner</td>\n    </tr>\n    <tr>\n      <th>73787</th>\n      <td>NaN</td>\n      <td>Harris</td>\n      <td>NaN</td>\n      <td>Wood</td>\n    </tr>\n    <tr>\n      <th>73840</th>\n      <td>NaN</td>\n      <td>Eastman</td>\n      <td>NaN</td>\n      <td>Neth</td>\n    </tr>\n    <tr>\n      <th>73892</th>\n      <td>NaN</td>\n      <td>Arell</td>\n      <td>NaN</td>\n      <td>Cooper</td>\n    </tr>\n    <tr>\n      <th>74092</th>\n      <td>NaN</td>\n      <td>Allison</td>\n      <td>NaN</td>\n      <td>Ramsey</td>\n    </tr>\n    <tr>\n      <th>74162</th>\n      <td>NaN</td>\n      <td>Wilkins</td>\n      <td>NaN</td>\n      <td>Gassaway</td>\n    </tr>\n    <tr>\n      <th>74275</th>\n      <td>NaN</td>\n      <td>Hooe</td>\n      <td>NaN</td>\n      <td>Harrisons</td>\n    </tr>\n    <tr>\n      <th>74396</th>\n      <td>NaN</td>\n      <td>Russell</td>\n      <td>NaN</td>\n      <td>Gilmore</td>\n    </tr>\n    <tr>\n      <th>74474</th>\n      <td>NaN</td>\n      <td>Richard</td>\n      <td>NaN</td>\n      <td>Jennings</td>\n    </tr>\n    <tr>\n      <th>75535</th>\n      <td>George</td>\n      <td>Vande</td>\n      <td>Robert</td>\n      <td>Nielson</td>\n    </tr>\n    <tr>\n      <th>75562</th>\n      <td>Thomas</td>\n      <td>Coppinger</td>\n      <td>John</td>\n      <td>Denmese</td>\n    </tr>\n    <tr>\n      <th>75958</th>\n      <td>NaN</td>\n      <td>Kirsley</td>\n      <td>NaN</td>\n      <td>Monrow</td>\n    </tr>\n    <tr>\n      <th>76300</th>\n      <td>Eleanor</td>\n      <td>Lansdale</td>\n      <td>Thomas</td>\n      <td>Lansdale</td>\n    </tr>\n    <tr>\n      <th>76730</th>\n      <td>NaN</td>\n      <td>Hec</td>\n      <td>NaN</td>\n      <td>Harrisons</td>\n    </tr>\n    <tr>\n      <th>76774</th>\n      <td>Robert</td>\n      <td>Finley</td>\n      <td>Mark</td>\n      <td>Kerwan</td>\n    </tr>\n    <tr>\n      <th>77028</th>\n      <td>NaN</td>\n      <td>McLure</td>\n      <td>NaN</td>\n      <td>Sterrett</td>\n    </tr>\n    <tr>\n      <th>77048</th>\n      <td>Polly</td>\n      <td>Sterrett</td>\n      <td>Harriet</td>\n      <td>Sterrett</td>\n    </tr>\n    <tr>\n      <th>77205</th>\n      <td>John</td>\n      <td>Hall</td>\n      <td>John</td>\n      <td>Crunbury</td>\n    </tr>\n    <tr>\n      <th>77446</th>\n      <td>NaN</td>\n      <td>Russell</td>\n      <td>NaN</td>\n      <td>Gilmour</td>\n    </tr>\n    <tr>\n      <th>77900</th>\n      <td>Francis Fair</td>\n      <td>Brother</td>\n      <td>Allen</td>\n      <td>Luynn</td>\n    </tr>\n    <tr>\n      <th>78659</th>\n      <td>George</td>\n      <td>Vance</td>\n      <td>Robert</td>\n      <td>Nielson</td>\n    </tr>\n    <tr>\n      <th>78681</th>\n      <td>William</td>\n      <td>Hammond</td>\n      <td>Robert</td>\n      <td>Moose</td>\n    </tr>\n    <tr>\n      <th>79496</th>\n      <td>NaN</td>\n      <td>Davis</td>\n      <td>NaN</td>\n      <td>Morris</td>\n    </tr>\n    <tr>\n      <th>79509</th>\n      <td>NaN</td>\n      <td>Phripp</td>\n      <td>NaN</td>\n      <td>Bondoin</td>\n    </tr>\n    <tr>\n      <th>79576</th>\n      <td>William</td>\n      <td>Ruffin</td>\n      <td>Jno H</td>\n      <td>Cocke</td>\n    </tr>\n    <tr>\n      <th>79672</th>\n      <td>NaN</td>\n      <td>Newton</td>\n      <td>NaN</td>\n      <td>Kelly</td>\n    </tr>\n    <tr>\n      <th>79677</th>\n      <td>Jno</td>\n      <td>Kuykendal</td>\n      <td>Henry</td>\n      <td>Kuykendal</td>\n    </tr>\n    <tr>\n      <th>79916</th>\n      <td>NaN</td>\n      <td>Ker</td>\n      <td>NaN</td>\n      <td>Lyon</td>\n    </tr>\n    <tr>\n      <th>79939</th>\n      <td>NaN</td>\n      <td>Miss</td>\n      <td>NaN</td>\n      <td>Early</td>\n    </tr>\n    <tr>\n      <th>79960</th>\n      <td>Isaac</td>\n      <td>Smith</td>\n      <td>Thoroughgood</td>\n      <td>Smith</td>\n    </tr>\n    <tr>\n      <th>79978</th>\n      <td>NaN</td>\n      <td>Messrs</td>\n      <td>NaN</td>\n      <td>Newton</td>\n    </tr>\n    <tr>\n      <th>79983</th>\n      <td></td>\n      <td>Atkinsons</td>\n      <td></td>\n      <td></td>\n    </tr>\n    <tr>\n      <th>80024</th>\n      <td>NaN</td>\n      <td>Keel</td>\n      <td>NaN</td>\n      <td>Roberts</td>\n    </tr>\n    <tr>\n      <th>80068</th>\n      <td>NaN</td>\n      <td>Roulhac</td>\n      <td>NaN</td>\n      <td>Compy</td>\n    </tr>\n    <tr>\n      <th>80279</th>\n      <td>Thomas</td>\n      <td>Roane</td>\n      <td>William</td>\n      <td>Roane</td>\n    </tr>\n    <tr>\n      <th>80516</th>\n      <td>Peter</td>\n      <td>Conway</td>\n      <td>James</td>\n      <td>Ball</td>\n    </tr>\n    <tr>\n      <th>80636</th>\n      <td>NaN</td>\n      <td>Mitchell</td>\n      <td>NaN</td>\n      <td>Graham</td>\n    </tr>\n    <tr>\n      <th>80662</th>\n      <td>NaN</td>\n      <td>Mess</td>\n      <td>NaN</td>\n      <td>Early</td>\n    </tr>\n    <tr>\n      <th>80775</th>\n      <td>NaN</td>\n      <td>Smith</td>\n      <td>NaN</td>\n      <td>Gatewood</td>\n    </tr>\n    <tr>\n      <th>80799</th>\n      <td>NaN</td>\n      <td>Baker</td>\n      <td>NaN</td>\n      <td>Blow</td>\n    </tr>\n    <tr>\n      <th>80831</th>\n      <td>Thomas</td>\n      <td>Varring</td>\n      <td>William</td>\n      <td>Varring</td>\n    </tr>\n    <tr>\n      <th>80896</th>\n      <td>NaN</td>\n      <td>Doerner</td>\n      <td>NaN</td>\n      <td>Mark</td>\n    </tr>\n    <tr>\n      <th>80904</th>\n      <td>NaN</td>\n      <td>Mitchell</td>\n      <td>NaN</td>\n      <td>Oldham</td>\n    </tr>\n  </tbody>\n</table>\n</div>"
     },
     "metadata": {},
     "output_type": "display_data"
    }
   ],
   "source": [
    "#checking if there are any names in first name column that are two first names\n",
    "#check confirmed - also shows that there are no NA first name or last name columns\n",
    "with pd.option_context('display.max_rows', None, 'display.max_columns', None):  # more options can be specified also\n",
    "    display(loans[[not x for x in loans['Last Name 2'].apply(betterIsNan)]][['First Name 1 ', 'Last Name 1 ', 'First Name 2', 'Last Name 2']].drop_duplicates())"
   ]
  },
  {
   "cell_type": "markdown",
   "metadata": {
    "pycharm": {
     "name": "#%% md\n"
    }
   },
   "source": [
    "## Final Manual Replacement"
   ]
  },
  {
   "cell_type": "code",
   "execution_count": 117,
   "metadata": {
    "pycharm": {
     "name": "#%%\n"
    }
   },
   "outputs": [],
   "source": [
    "repl_index = loans[loans['First Name 1 '].apply(lambda x: not pd.isnull(x) and x == 'Peter & Anna Maricha')].index\n",
    "loans.loc[repl_index, 'original text'] = 'Peter & Anna Maricha Jay'\n",
    "loans.loc[repl_index, ['First Name 1 ', 'Last Name 1 ', 'First Name 2', 'Last Name 2']] = ['Peter', 'Jay', 'Anna', 'Maricha Jay']\n",
    "repl_index = loans[loans['First Name 1 '].apply(lambda x: not pd.isnull(x) and x == 'Myndert & Mary')].index\n",
    "loans.loc[repl_index, 'original text'] = 'Myndert & Mary Van Schaick'\n",
    "loans.loc[repl_index, ['First Name 1 ', 'Last Name 1 ', 'First Name 2', 'Last Name 2']] = ['Myndert', 'Van Schaick', 'Mary', 'Van Schaick']"
   ]
  },
  {
   "cell_type": "code",
   "execution_count": 118,
   "metadata": {
    "pycharm": {
     "name": "#%%\n"
    }
   },
   "outputs": [],
   "source": [
    "repl_index = loans[[not pd.isnull(x) and '&' in x and pd.isnull(y) for x, y in zip(loans['First Name 1 '], loans['Title 1'])]].index\n",
    "loans.loc[repl_index, 'original text'] = [x + \" \" + y for x, y in zip(loans.loc[repl_index, 'First Name 1 '], loans.loc[repl_index, 'Last Name 1 '])]\n",
    "loans.loc[repl_index, ['Last Name 2']] = loans.loc[repl_index, 'Last Name 1 ']\n",
    "loans.loc[repl_index, ['Last Name 1 ']] = loans.loc[repl_index, 'First Name 1 '].apply(lambda x: x.replace(\"&\", \"\")).tolist()\n",
    "loans.loc[repl_index, ['First Name 1 ']] = [np.nan] * len(repl_index)"
   ]
  },
  {
   "cell_type": "code",
   "execution_count": 119,
   "metadata": {
    "pycharm": {
     "name": "#%%\n"
    }
   },
   "outputs": [],
   "source": [
    "repl_index = loans[loans['Last Name 1 '].apply(lambda x: not pd.isnull(x) and '&' in x)].index\n",
    "loans.loc[repl_index, 'original text'] = [x + \" \" + y for x, y in zip(loans.loc[repl_index, 'First Name 1 '], loans.loc[repl_index, 'Last Name 1 '])]\n",
    "loans.loc[repl_index, ['First Name 1 ']] = 'Samuel'\n",
    "loans.loc[repl_index, ['Last Name 1 ']] = 'Grant'\n",
    "loans.loc[repl_index, ['notes']] = 'son'"
   ]
  },
  {
   "cell_type": "code",
   "execution_count": 120,
   "metadata": {
    "pycharm": {
     "name": "#%%\n"
    }
   },
   "outputs": [],
   "source": [
    "repl_index = loans[loans['Last Name 1 '].apply(lambda x: x == 'Gordon Treasurer to the Convention of Ministers')].index\n",
    "loans.loc[repl_index, ['Title 1', 'Last Name 1 ', 'notes', 'original text']] = ['Treasurer', 'Gordon', 'Convention of Ministers', \n",
    "                                                                               'William Gordon Treasurer to the Convention of Ministers']\n",
    "repl_index = loans[loans['Last Name 1 '].apply(lambda x: x == 'Thurston Treas Church Wrentham')].index\n",
    "loans.loc[repl_index, ['Title 1', 'Last Name 1 ', 'notes', 'original text']] = ['Treasurer', 'Thurston', 'Church Wrentham', \n",
    "                                                                                'Daniel Thurston Treas Church Wrentham']\n",
    "repl_index = loans[loans['Last Name 1 '].apply(lambda x: x == 'Biglow Guardian to her Children')].index\n",
    "loans.loc[repl_index, ['Title 1', 'Last Name 1 ', 'notes', 'original text']] = ['Guardian', 'Biglow', 'children', \n",
    "                                                                                'Anna Biglow Guardian to her Children']\n",
    "repl_index = loans[loans['Last Name 1 '].apply(lambda x: x == 'Miller Treas Westminster')].index\n",
    "loans.loc[repl_index, ['Title 1', 'Last Name 1 ', 'notes', 'original text']] = ['Treas', 'Miller', 'Westminster', \n",
    "                                                                                'Joseph Miller Treas Westminster']\n",
    "repl_index = loans[loans['Last Name 1 '].apply(lambda x: x == 'Allen Executor to B Winchester')].index\n",
    "loans.loc[repl_index, ['Title 1', 'Last Name 1 ', 'First Name 2', 'Last Name 2', 'original text']] = ['Executor', 'Allen', 'B', 'Winchester', \n",
    "                                                                                                      'Joseph Allen Executor to B Winchester']\n",
    "repl_index = loans[loans['Last Name 1 '].apply(lambda x: x == 'Estates')].index \n",
    "loans.loc[repl_index, ['First Name 1 ', 'Last Name 1 ', 'notes']] = ['Simon', 'Dreisbach', 'Estates']"
   ]
  },
  {
   "cell_type": "code",
   "execution_count": 121,
   "metadata": {
    "pycharm": {
     "name": "#%%\n"
    }
   },
   "outputs": [],
   "source": [
    "repl_index = loans[loans['original text'].apply(lambda x: x == 'Justus of the academy of New York')].index \n",
    "loans.loc[repl_index, 'First Name 1 '] = 'Justus of the academy of New York'\n",
    "repl_index = loans[loans['First Name 1 '].apply(lambda x: x == 'Corperetion of F Mich & Lions Cer')].index \n",
    "loans.loc[repl_index, ['First Name 1 ', 'Last Name 1 ', 'Title 2', 'First Name 2', 'Last Name 2', 'Title 3', 'First Name 3', 'Last Name 3']] = ['F', 'Mich', np.nan, 'Lions', 'Cer', 'executor', 'John', 'Steinmetz']\n",
    "repl_index = loans[loans['original text'].apply(lambda x: x == 'Gilbert Hammond and Cornelius Tommand')].index \n",
    "loans.loc[repl_index, ['First Name 1 ', 'Last Name 1 ', 'First Name 2', 'Last Name 2', 'original text']] = ['Gilbert', 'Hammond', 'Cornelius', 'Tommand', 'Sarah Charman executor for Gilbert Hammond and Cornelius Tommand']\n",
    "repl_index = loans[loans['original text'].apply(lambda x: not pd.isnull(x) and 'Christian Weedman & Samuel Harris Esq Mathia Birkly' in x)].index\n",
    "loans.loc[repl_index, ['First Name 2', 'Last Name 2']] = ['Samuel', 'Harris']"
   ]
  },
  {
   "cell_type": "code",
   "execution_count": 122,
   "metadata": {
    "pycharm": {
     "name": "#%%\n"
    }
   },
   "outputs": [],
   "source": [
    "tempindex = loans[loans['First Name 1 '] == 'Catherine Elizabeth and Sarah'].index\n",
    "loans.loc[tempindex, ['First Name 1 ', 'First Name 2', \n",
    "                      'Last Name 2', 'First Name 3', \n",
    "                      'Last Name 3', 'original text']] = ['Catherine', 'Elizabeth', 'Depeyster', \n",
    "                                                          'Sarah', 'Depeyster', 'Catherine Elizabeth and Sarah Depeyster']\n",
    "tempindex = loans[loans['First Name 1 '] == 'Samuel and John'].index\n",
    "loans.loc[tempindex, ['First Name 1 ', 'First Name 2', \n",
    "                      'Last Name 2', 'original text']] = ['Samuel', 'John', 'HansDelap', \n",
    "                                                          'Samuel and John']\n",
    "tempindex = loans[loans['First Name 1 '] == 'Sam and Rob'].index\n",
    "loans.loc[tempindex, ['First Name 1 ', 'First Name 2', \n",
    "                      'Last Name 2', 'original text']] = ['Sam', 'Rob', 'Paweance', \n",
    "                                                          'Sam and Rob']\n",
    "tempindex = loans[loans['First Name 1 '] == 'Robert and John'].index\n",
    "loans.loc[tempindex, ['First Name 1 ', 'First Name 2', \n",
    "                      'Last Name 2', 'original text']] = ['Robert', 'John', 'Wayne', \n",
    "                                                          'Robert and John']\n",
    "tempindex = loans[loans['First Name 1 '] == 'Levin and Jos'].index\n",
    "loans.loc[tempindex, ['First Name 1 ', 'First Name 2', \n",
    "                      'Last Name 2', 'original text']] = ['Levin', 'Jos', 'Derickson', \n",
    "                                                          'Levin and Jos']"
   ]
  },
  {
   "cell_type": "code",
   "execution_count": 122,
   "metadata": {
    "pycharm": {
     "name": "#%%\n"
    }
   },
   "outputs": [],
   "source": []
  },
  {
   "cell_type": "markdown",
   "metadata": {
    "pycharm": {
     "name": "#%% md\n"
    }
   },
   "source": [
    "## Handle Businesses"
   ]
  },
  {
   "cell_type": "code",
   "execution_count": 123,
   "metadata": {
    "pycharm": {
     "name": "#%%\n"
    }
   },
   "outputs": [],
   "source": [
    "business_names_raw = loans[[pd.isnull(x) and pd.isnull(y) and pd.isnull(z) for x, y, z in zip(loans['First Name 1 '], loans['First Name 2'], loans['First Name 3'])]]"
   ]
  },
  {
   "cell_type": "code",
   "execution_count": 124,
   "metadata": {
    "pycharm": {
     "name": "#%%\n"
    }
   },
   "outputs": [
    {
     "data": {
      "text/plain": "374                      NaN\n414                      NaN\n492                      NaN\n523                      NaN\n524                      NaN\n                ...         \n80901         Doerner & Mark\n80902         Doerner & Mark\n80903         Doerner & Mark\n80904      Mitchell & Oldham\n80912    Baker Blow & Oldham\nName: original text, Length: 1603, dtype: object"
     },
     "execution_count": 124,
     "metadata": {},
     "output_type": "execute_result"
    }
   ],
   "source": [
    "business_names_raw['original text'].apply(lambda x: x.replace(' and ', ' & ') if not pd.isnull(x) else x)"
   ]
  },
  {
   "cell_type": "code",
   "execution_count": 125,
   "metadata": {
    "pycharm": {
     "name": "#%%\n"
    }
   },
   "outputs": [],
   "source": [
    "business_names_raw[['original text', 'Last Name 1 ', 'Last Name 2', 'Last Name 3']].drop_duplicates().to_csv(\"company_names_raw.csv\", index = False)"
   ]
  },
  {
   "cell_type": "code",
   "execution_count": 126,
   "metadata": {
    "pycharm": {
     "name": "#%%\n"
    }
   },
   "outputs": [],
   "source": [
    "business_names_cleaned = pd.read_csv(\"company_names_clean.csv\")\n",
    "business_names_cleaned = business_names_cleaned[business_names_cleaned.columns[:7]]"
   ]
  },
  {
   "cell_type": "code",
   "execution_count": 127,
   "metadata": {
    "pycharm": {
     "name": "#%%\n"
    }
   },
   "outputs": [
    {
     "data": {
      "text/plain": "                 Record    Title First Name 1  Last Name 1  First Name 2   \\\n0            Col Pierce  Colonel        Samuel       Pierce           NaN   \n1                Halsey  Colonel      Jeremiah       Halsey           NaN   \n2        Dr Wetherspoon      NaN          John  Witherspoon           NaN   \n3           Lee & Jones      NaN           NaN          Lee           NaN   \n4   Clark & Nightingale      NaN          John        Clark        Joseph   \n..                  ...      ...           ...          ...           ...   \n83      Milner & Haynes      NaN           NaN       Milner           NaN   \n84    Mitchell & Graham      NaN           NaN     Mitchell           NaN   \n85     Smith & Gatewood      NaN           NaN        Smith           NaN   \n86       Doerner & Mark      NaN           NaN      Doerner           NaN   \n87    Mitchell & Oldham      NaN           NaN     Mitchell           NaN   \n\n   Last Name 2                                               Notes  \n0           NaN  https://www.historicnewengland.org/explore/col...  \n1           NaN  https://www.geni.com/people/Col-Jeremiah-Halse...  \n2           NaN                                                NaN  \n3         Jones                                                NaN  \n4   Nightingale  https://www.brown.edu/academics/public-humanit...  \n..          ...                                                ...  \n83       Haynes                                                NaN  \n84       Graham                                                NaN  \n85     Gatewood                                                NaN  \n86         Mark                                                NaN  \n87       Oldham                                                NaN  \n\n[88 rows x 7 columns]",
      "text/html": "<div>\n<style scoped>\n    .dataframe tbody tr th:only-of-type {\n        vertical-align: middle;\n    }\n\n    .dataframe tbody tr th {\n        vertical-align: top;\n    }\n\n    .dataframe thead th {\n        text-align: right;\n    }\n</style>\n<table border=\"1\" class=\"dataframe\">\n  <thead>\n    <tr style=\"text-align: right;\">\n      <th></th>\n      <th>Record</th>\n      <th>Title</th>\n      <th>First Name 1</th>\n      <th>Last Name 1</th>\n      <th>First Name 2</th>\n      <th>Last Name 2</th>\n      <th>Notes</th>\n    </tr>\n  </thead>\n  <tbody>\n    <tr>\n      <th>0</th>\n      <td>Col Pierce</td>\n      <td>Colonel</td>\n      <td>Samuel</td>\n      <td>Pierce</td>\n      <td>NaN</td>\n      <td>NaN</td>\n      <td>https://www.historicnewengland.org/explore/col...</td>\n    </tr>\n    <tr>\n      <th>1</th>\n      <td>Halsey</td>\n      <td>Colonel</td>\n      <td>Jeremiah</td>\n      <td>Halsey</td>\n      <td>NaN</td>\n      <td>NaN</td>\n      <td>https://www.geni.com/people/Col-Jeremiah-Halse...</td>\n    </tr>\n    <tr>\n      <th>2</th>\n      <td>Dr Wetherspoon</td>\n      <td>NaN</td>\n      <td>John</td>\n      <td>Witherspoon</td>\n      <td>NaN</td>\n      <td>NaN</td>\n      <td>NaN</td>\n    </tr>\n    <tr>\n      <th>3</th>\n      <td>Lee &amp; Jones</td>\n      <td>NaN</td>\n      <td>NaN</td>\n      <td>Lee</td>\n      <td>NaN</td>\n      <td>Jones</td>\n      <td>NaN</td>\n    </tr>\n    <tr>\n      <th>4</th>\n      <td>Clark &amp; Nightingale</td>\n      <td>NaN</td>\n      <td>John</td>\n      <td>Clark</td>\n      <td>Joseph</td>\n      <td>Nightingale</td>\n      <td>https://www.brown.edu/academics/public-humanit...</td>\n    </tr>\n    <tr>\n      <th>...</th>\n      <td>...</td>\n      <td>...</td>\n      <td>...</td>\n      <td>...</td>\n      <td>...</td>\n      <td>...</td>\n      <td>...</td>\n    </tr>\n    <tr>\n      <th>83</th>\n      <td>Milner &amp; Haynes</td>\n      <td>NaN</td>\n      <td>NaN</td>\n      <td>Milner</td>\n      <td>NaN</td>\n      <td>Haynes</td>\n      <td>NaN</td>\n    </tr>\n    <tr>\n      <th>84</th>\n      <td>Mitchell &amp; Graham</td>\n      <td>NaN</td>\n      <td>NaN</td>\n      <td>Mitchell</td>\n      <td>NaN</td>\n      <td>Graham</td>\n      <td>NaN</td>\n    </tr>\n    <tr>\n      <th>85</th>\n      <td>Smith &amp; Gatewood</td>\n      <td>NaN</td>\n      <td>NaN</td>\n      <td>Smith</td>\n      <td>NaN</td>\n      <td>Gatewood</td>\n      <td>NaN</td>\n    </tr>\n    <tr>\n      <th>86</th>\n      <td>Doerner &amp; Mark</td>\n      <td>NaN</td>\n      <td>NaN</td>\n      <td>Doerner</td>\n      <td>NaN</td>\n      <td>Mark</td>\n      <td>NaN</td>\n    </tr>\n    <tr>\n      <th>87</th>\n      <td>Mitchell &amp; Oldham</td>\n      <td>NaN</td>\n      <td>NaN</td>\n      <td>Mitchell</td>\n      <td>NaN</td>\n      <td>Oldham</td>\n      <td>NaN</td>\n    </tr>\n  </tbody>\n</table>\n<p>88 rows × 7 columns</p>\n</div>"
     },
     "execution_count": 127,
     "metadata": {},
     "output_type": "execute_result"
    }
   ],
   "source": [
    "business_names_cleaned"
   ]
  },
  {
   "cell_type": "code",
   "execution_count": 128,
   "metadata": {
    "pycharm": {
     "name": "#%%\n"
    }
   },
   "outputs": [],
   "source": [
    "for ind in business_names_cleaned.index:\n",
    "    record = business_names_cleaned.loc[ind]['Record']\n",
    "    loc_index = loans[loans['original text'] == record].index\n",
    "    data = business_names_cleaned.loc[ind][['Title', 'First Name 1 ', 'Last Name 1 ', 'First Name 2 ', 'Last Name 2 ', 'Notes']].tolist()\n",
    "    loans.loc[loc_index, ['Title 1', 'First Name 1 ', 'Last Name 1 ', 'First Name 2', 'Last Name 2', 'notes']] = data"
   ]
  },
  {
   "cell_type": "code",
   "execution_count": 129,
   "metadata": {
    "pycharm": {
     "name": "#%%\n"
    }
   },
   "outputs": [
    {
     "data": {
      "text/plain": "       State  Year  Month   Day Title 1 First Name 1  Last Name 1  Title 2  \\\n0          1  1778      3  13.0     Col        Joshua    Wentworth     NaN   \n1          1  1777      9   2.0     NaN       Charles    Treadwell     NaN   \n2          1  1777      9  10.0     NaN       Stephen     Cleverly     NaN   \n3          1  1777      9  13.0     NaN         David     Griffith     NaN   \n4          1  1777      9  15.0     NaN          John    Mansfield     NaN   \n...      ...   ...    ...   ...     ...           ...          ...     ...   \n80908      9  1780      1   1.0     NaN          John          Hay     NaN   \n80909      9  1779      5  25.0     NaN         Isaac        Smith     NaN   \n80910      9  1779      5  25.0     NaN         Isaac        Smith     NaN   \n80911      9  1779      3  13.0     NaN        Samuel       Oldham     NaN   \n80912      9  1779      5  20.0     NaN           NaN        Baker     NaN   \n\n       First Name 2 Last Name 2 Title 3 First Name 3 Last Name 3  Face Value  \\\n0               NaN         NaN     NaN          NaN         NaN         200   \n1               NaN         NaN     NaN          NaN         NaN         200   \n2               NaN         NaN     NaN          NaN         NaN         200   \n3               NaN         NaN     NaN          NaN         NaN         200   \n4               NaN         NaN     NaN          NaN         NaN         200   \n...             ...         ...     ...          ...         ...         ...   \n80908           NaN         NaN     NaN          NaN         NaN         400   \n80909  Thoroughgood       Smith     NaN          NaN         NaN         300   \n80910  Thoroughgood       Smith     NaN          NaN         NaN         800   \n80911           NaN         NaN     NaN          NaN         NaN         500   \n80912           NaN        Blow     NaN          NaN      Oldham        2000   \n\n       Specie Value                        notes               original text  \\\n0          108.27780                         NaN                         NaN   \n1          199.37780                         NaN                         NaN   \n2          194.51110                         NaN                         NaN   \n3          192.71110                         NaN                         NaN   \n4          191.52220                         NaN                         NaN   \n...              ...                         ...                         ...   \n80908       13.61667                         NaN                         NaN   \n80909       22.86250  Isaac & Thoroughgood Smith  Isaac & Thoroughgood Smith   \n80910       60.96667  Isaac & Thoroughgood Smith  Isaac & Thoroughgood Smith   \n80911       48.11806                         NaN                         NaN   \n80912      154.88890         Baker Blow & Oldham         Baker Blow & Oldham   \n\n      match eligible  \n0                NaN  \n1                NaN  \n2                NaN  \n3                NaN  \n4                NaN  \n...              ...  \n80908            NaN  \n80909            NaN  \n80910            NaN  \n80911            NaN  \n80912            NaN  \n\n[80913 rows x 18 columns]",
      "text/html": "<div>\n<style scoped>\n    .dataframe tbody tr th:only-of-type {\n        vertical-align: middle;\n    }\n\n    .dataframe tbody tr th {\n        vertical-align: top;\n    }\n\n    .dataframe thead th {\n        text-align: right;\n    }\n</style>\n<table border=\"1\" class=\"dataframe\">\n  <thead>\n    <tr style=\"text-align: right;\">\n      <th></th>\n      <th>State</th>\n      <th>Year</th>\n      <th>Month</th>\n      <th>Day</th>\n      <th>Title 1</th>\n      <th>First Name 1</th>\n      <th>Last Name 1</th>\n      <th>Title 2</th>\n      <th>First Name 2</th>\n      <th>Last Name 2</th>\n      <th>Title 3</th>\n      <th>First Name 3</th>\n      <th>Last Name 3</th>\n      <th>Face Value</th>\n      <th>Specie Value</th>\n      <th>notes</th>\n      <th>original text</th>\n      <th>match eligible</th>\n    </tr>\n  </thead>\n  <tbody>\n    <tr>\n      <th>0</th>\n      <td>1</td>\n      <td>1778</td>\n      <td>3</td>\n      <td>13.0</td>\n      <td>Col</td>\n      <td>Joshua</td>\n      <td>Wentworth</td>\n      <td>NaN</td>\n      <td>NaN</td>\n      <td>NaN</td>\n      <td>NaN</td>\n      <td>NaN</td>\n      <td>NaN</td>\n      <td>200</td>\n      <td>108.27780</td>\n      <td>NaN</td>\n      <td>NaN</td>\n      <td>NaN</td>\n    </tr>\n    <tr>\n      <th>1</th>\n      <td>1</td>\n      <td>1777</td>\n      <td>9</td>\n      <td>2.0</td>\n      <td>NaN</td>\n      <td>Charles</td>\n      <td>Treadwell</td>\n      <td>NaN</td>\n      <td>NaN</td>\n      <td>NaN</td>\n      <td>NaN</td>\n      <td>NaN</td>\n      <td>NaN</td>\n      <td>200</td>\n      <td>199.37780</td>\n      <td>NaN</td>\n      <td>NaN</td>\n      <td>NaN</td>\n    </tr>\n    <tr>\n      <th>2</th>\n      <td>1</td>\n      <td>1777</td>\n      <td>9</td>\n      <td>10.0</td>\n      <td>NaN</td>\n      <td>Stephen</td>\n      <td>Cleverly</td>\n      <td>NaN</td>\n      <td>NaN</td>\n      <td>NaN</td>\n      <td>NaN</td>\n      <td>NaN</td>\n      <td>NaN</td>\n      <td>200</td>\n      <td>194.51110</td>\n      <td>NaN</td>\n      <td>NaN</td>\n      <td>NaN</td>\n    </tr>\n    <tr>\n      <th>3</th>\n      <td>1</td>\n      <td>1777</td>\n      <td>9</td>\n      <td>13.0</td>\n      <td>NaN</td>\n      <td>David</td>\n      <td>Griffith</td>\n      <td>NaN</td>\n      <td>NaN</td>\n      <td>NaN</td>\n      <td>NaN</td>\n      <td>NaN</td>\n      <td>NaN</td>\n      <td>200</td>\n      <td>192.71110</td>\n      <td>NaN</td>\n      <td>NaN</td>\n      <td>NaN</td>\n    </tr>\n    <tr>\n      <th>4</th>\n      <td>1</td>\n      <td>1777</td>\n      <td>9</td>\n      <td>15.0</td>\n      <td>NaN</td>\n      <td>John</td>\n      <td>Mansfield</td>\n      <td>NaN</td>\n      <td>NaN</td>\n      <td>NaN</td>\n      <td>NaN</td>\n      <td>NaN</td>\n      <td>NaN</td>\n      <td>200</td>\n      <td>191.52220</td>\n      <td>NaN</td>\n      <td>NaN</td>\n      <td>NaN</td>\n    </tr>\n    <tr>\n      <th>...</th>\n      <td>...</td>\n      <td>...</td>\n      <td>...</td>\n      <td>...</td>\n      <td>...</td>\n      <td>...</td>\n      <td>...</td>\n      <td>...</td>\n      <td>...</td>\n      <td>...</td>\n      <td>...</td>\n      <td>...</td>\n      <td>...</td>\n      <td>...</td>\n      <td>...</td>\n      <td>...</td>\n      <td>...</td>\n      <td>...</td>\n    </tr>\n    <tr>\n      <th>80908</th>\n      <td>9</td>\n      <td>1780</td>\n      <td>1</td>\n      <td>1.0</td>\n      <td>NaN</td>\n      <td>John</td>\n      <td>Hay</td>\n      <td>NaN</td>\n      <td>NaN</td>\n      <td>NaN</td>\n      <td>NaN</td>\n      <td>NaN</td>\n      <td>NaN</td>\n      <td>400</td>\n      <td>13.61667</td>\n      <td>NaN</td>\n      <td>NaN</td>\n      <td>NaN</td>\n    </tr>\n    <tr>\n      <th>80909</th>\n      <td>9</td>\n      <td>1779</td>\n      <td>5</td>\n      <td>25.0</td>\n      <td>NaN</td>\n      <td>Isaac</td>\n      <td>Smith</td>\n      <td>NaN</td>\n      <td>Thoroughgood</td>\n      <td>Smith</td>\n      <td>NaN</td>\n      <td>NaN</td>\n      <td>NaN</td>\n      <td>300</td>\n      <td>22.86250</td>\n      <td>Isaac &amp; Thoroughgood Smith</td>\n      <td>Isaac &amp; Thoroughgood Smith</td>\n      <td>NaN</td>\n    </tr>\n    <tr>\n      <th>80910</th>\n      <td>9</td>\n      <td>1779</td>\n      <td>5</td>\n      <td>25.0</td>\n      <td>NaN</td>\n      <td>Isaac</td>\n      <td>Smith</td>\n      <td>NaN</td>\n      <td>Thoroughgood</td>\n      <td>Smith</td>\n      <td>NaN</td>\n      <td>NaN</td>\n      <td>NaN</td>\n      <td>800</td>\n      <td>60.96667</td>\n      <td>Isaac &amp; Thoroughgood Smith</td>\n      <td>Isaac &amp; Thoroughgood Smith</td>\n      <td>NaN</td>\n    </tr>\n    <tr>\n      <th>80911</th>\n      <td>9</td>\n      <td>1779</td>\n      <td>3</td>\n      <td>13.0</td>\n      <td>NaN</td>\n      <td>Samuel</td>\n      <td>Oldham</td>\n      <td>NaN</td>\n      <td>NaN</td>\n      <td>NaN</td>\n      <td>NaN</td>\n      <td>NaN</td>\n      <td>NaN</td>\n      <td>500</td>\n      <td>48.11806</td>\n      <td>NaN</td>\n      <td>NaN</td>\n      <td>NaN</td>\n    </tr>\n    <tr>\n      <th>80912</th>\n      <td>9</td>\n      <td>1779</td>\n      <td>5</td>\n      <td>20.0</td>\n      <td>NaN</td>\n      <td>NaN</td>\n      <td>Baker</td>\n      <td>NaN</td>\n      <td>NaN</td>\n      <td>Blow</td>\n      <td>NaN</td>\n      <td>NaN</td>\n      <td>Oldham</td>\n      <td>2000</td>\n      <td>154.88890</td>\n      <td>Baker Blow &amp; Oldham</td>\n      <td>Baker Blow &amp; Oldham</td>\n      <td>NaN</td>\n    </tr>\n  </tbody>\n</table>\n<p>80913 rows × 18 columns</p>\n</div>"
     },
     "execution_count": 129,
     "metadata": {},
     "output_type": "execute_result"
    }
   ],
   "source": [
    "loans"
   ]
  },
  {
   "cell_type": "code",
   "execution_count": 130,
   "metadata": {
    "pycharm": {
     "name": "#%%\n"
    }
   },
   "outputs": [],
   "source": [
    "loans.to_csv('../Data/Pre1790/cleaned/loan_office_certificates_9_states_cleaned.csv')"
   ]
  },
  {
   "cell_type": "markdown",
   "metadata": {
    "pycharm": {
     "name": "#%% md\n"
    }
   },
   "source": [
    "# CLEAN MARINE CERTIFICATES"
   ]
  },
  {
   "cell_type": "code",
   "execution_count": 131,
   "metadata": {
    "pycharm": {
     "name": "#%%\n"
    }
   },
   "outputs": [
    {
     "name": "stderr",
     "output_type": "stream",
     "text": [
      "/usr/local/lib/python3.9/site-packages/openpyxl/worksheet/_reader.py:312: UserWarning: Unknown extension is not supported and will be removed\n",
      "  warn(msg)\n"
     ]
    }
   ],
   "source": [
    "marine = pd.read_excel(\"../Data/Pre1790/Marine_Liquidated_Debt_Certificates.xlsx\", header = 11)\n",
    "cols = marine.columns = [\"Page\",\"JPEG number\",\"Number\",\"Letter\",\"Date of the Certificate: Month\",\n",
    "                         \"Date of the Certificate: Day\",\"Date of the Certificate: Year\",\"First name\",\"Last name\",\n",
    "                         \"Title\",\"Time when the debt became due: Month\",\"Time when the debt became due: Day\",\n",
    "                         \"Time when the debt became due: Year\",\"Dollars\",\"90th\",\"Total Dollars_1\",\"Total Dollars_2\",\n",
    "                         \"Line Strike Thorugh: Yes?\",\"Line Strike Thorugh: Note\",\"Notes\"]\n",
    "marine.columns = cols"
   ]
  },
  {
   "cell_type": "code",
   "execution_count": 132,
   "metadata": {
    "pycharm": {
     "name": "#%%\n"
    }
   },
   "outputs": [],
   "source": [
    "marine['original text'] = np.nan\n",
    "marine['cleaning notes'] = np.nan\n",
    "marine['first name 2'] = np.nan\n",
    "marine['last name 2'] = np.nan"
   ]
  },
  {
   "cell_type": "code",
   "execution_count": 133,
   "metadata": {
    "pycharm": {
     "name": "#%%\n"
    }
   },
   "outputs": [],
   "source": [
    "repl_index = marine[marine['First name'].apply(lambda x: not pd.isnull(x) and 'dee' in x.lower())].index\n",
    "marine.loc[repl_index, ['First name', 'Last name', 'cleaning notes', 'original text']] = ['John', 'Young', 'estate, deceased', \n",
    "                                                                                          'The Estate of John Young dee The Estate of John Young Deceased']"
   ]
  },
  {
   "cell_type": "code",
   "execution_count": 134,
   "metadata": {
    "pycharm": {
     "name": "#%%\n"
    }
   },
   "outputs": [],
   "source": [
    "repl_index = marine[marine['First name'].apply(lambda x: not pd.isnull(x) and 'deceased' in x.lower())].index\n",
    "marine.loc[repl_index, ['cleaning notes']] = ['estate, deceased']\n",
    "marine.loc[repl_index, ['original text']] = marine['First name']\n",
    "marine.loc[repl_index, ['First name']] = marine.loc[repl_index, 'First name'].apply(lambda x: x.lower().replace(\"estate of\", \"\").replace(\"deceased\", \"\").strip())\n",
    "\n",
    "marine.loc[repl_index, ['Last name']] = marine.loc[repl_index, 'First name'].apply(lambda x: x.split(\" \")[1])\n",
    "marine.loc[repl_index, ['First name']] = marine.loc[repl_index, 'First name'].apply(lambda x: x.split(\" \")[0])"
   ]
  },
  {
   "cell_type": "code",
   "execution_count": 135,
   "metadata": {
    "pycharm": {
     "name": "#%%\n"
    }
   },
   "outputs": [],
   "source": [
    "repl_index = marine[marine['First name'].apply(lambda x: not pd.isnull(x) and 'estate' in x.lower())].index\n",
    "marine.loc[repl_index, ['cleaning notes']] = ['estate']\n",
    "marine.loc[repl_index, ['original text']] = marine['First name']\n",
    "marine.loc[repl_index, ['First name']] = marine.loc[repl_index, 'First name'].apply(lambda x: x.lower().replace(\"estate\", \"\").replace(\"the\", \"\").replace(\"of\",\"\").strip())\n",
    "marine.loc[repl_index, ['Last name']] = marine.loc[repl_index, 'First name'].apply(lambda x: x.split(\" \")[-1])\n",
    "marine.loc[repl_index, ['First name']] = marine.loc[repl_index, 'First name'].apply(lambda x: \" \".join(x.split(\" \")[:-1]))"
   ]
  },
  {
   "cell_type": "code",
   "execution_count": 136,
   "metadata": {
    "pycharm": {
     "name": "#%%\n"
    }
   },
   "outputs": [],
   "source": [
    "repl_index = marine[marine['First name'].apply(lambda x: x == 'Moses Bush & Sons')].index\n",
    "marine.loc[repl_index, ['First name', 'Last name', 'cleaning notes', 'original text']] = ['Moses', 'Bush', 'sons', 'Moses Bush & Sons']\n",
    "repl_index = marine[marine['First name'].apply(lambda x: x == 'J Mc Nesbitt & Co')].index\n",
    "marine.loc[repl_index, ['First name', 'Last name', 'cleaning notes', 'original text']] = ['J Mc', 'Nesbitt', 'Co', 'J Mc Nesbitt & Co']"
   ]
  },
  {
   "cell_type": "code",
   "execution_count": 137,
   "metadata": {
    "pycharm": {
     "name": "#%%\n"
    }
   },
   "outputs": [],
   "source": [
    "repl_index = marine[marine['First name'].apply(lambda x: x == 'Hoov and Harrison')].index\n",
    "marine.loc[repl_index, ['First name', 'Last name', 'last name 2', 'original text']] = [np.nan, 'Hoov', 'Harrison', 'Hoov and Harrison']"
   ]
  },
  {
   "cell_type": "code",
   "execution_count": 138,
   "metadata": {
    "pycharm": {
     "name": "#%%\n"
    }
   },
   "outputs": [],
   "source": [
    "repl_index = marine[marine['Last name'].apply(lambda x: not pd.isnull(x) and 'deceased' in x.lower())].index\n",
    "marine.loc[repl_index, 'cleaning notes'] = 'deceased'\n",
    "marine.loc[repl_index, ['Last name']] = marine.loc[repl_index, 'Last name'].apply(lambda x: x.lower().replace(\"Deceased\", \"\").strip())"
   ]
  },
  {
   "cell_type": "code",
   "execution_count": 139,
   "metadata": {
    "pycharm": {
     "name": "#%%\n"
    }
   },
   "outputs": [],
   "source": [
    "repl_index = marine[marine['Last name'].apply(lambda x: not pd.isnull(x) and 'Weaver deed' == x)].index\n",
    "marine.loc[repl_index, 'cleaning notes'] = 'deed'\n",
    "marine.loc[repl_index, ['Last name']] = ['Weaver']"
   ]
  },
  {
   "cell_type": "code",
   "execution_count": 140,
   "metadata": {
    "pycharm": {
     "name": "#%%\n"
    }
   },
   "outputs": [],
   "source": [
    "marine.to_csv('../Data/Pre1790/cleaned/Marine_Liquidated_Debt_Certificates_cleaned.csv')"
   ]
  },
  {
   "cell_type": "markdown",
   "metadata": {
    "pycharm": {
     "name": "#%% md\n"
    }
   },
   "source": [
    "# CLEAN PIERCE CERTIFICATES"
   ]
  },
  {
   "cell_type": "code",
   "execution_count": 141,
   "metadata": {
    "pycharm": {
     "name": "#%%\n"
    }
   },
   "outputs": [],
   "source": [
    "pierce = pd.read_excel(\"../Data/Pre1790/Pierce_Certs_cleaned_2019.xlsx\")"
   ]
  },
  {
   "cell_type": "code",
   "execution_count": 142,
   "metadata": {
    "pycharm": {
     "name": "#%%\n"
    }
   },
   "outputs": [],
   "source": [
    "pierce = pierce[pierce['First'].apply(lambda x: type(x) != bool)]"
   ]
  },
  {
   "cell_type": "code",
   "execution_count": 143,
   "metadata": {
    "pycharm": {
     "name": "#%%\n"
    }
   },
   "outputs": [],
   "source": [
    "repl_index = pierce[pierce['Last'].apply(lambda x: type(x) == bool)].index\n",
    "pierce.loc[repl_index, 'Last'] = \"True\""
   ]
  },
  {
   "cell_type": "code",
   "execution_count": 144,
   "metadata": {
    "pycharm": {
     "name": "#%%\n"
    }
   },
   "outputs": [],
   "source": [
    "pierce = pierce[pierce['Last'].apply(lambda x: not pd.isnull(x))]"
   ]
  },
  {
   "cell_type": "code",
   "execution_count": 145,
   "metadata": {
    "pycharm": {
     "name": "#%%\n"
    }
   },
   "outputs": [],
   "source": [
    "pierce['First'] = pierce['First'].apply(lambda x: x.strip() if not pd.isnull(x) else x)\n",
    "pierce['Last'] = pierce['Last'].apply(lambda x: x.strip() if not pd.isnull(x) else x)"
   ]
  },
  {
   "cell_type": "code",
   "execution_count": 146,
   "metadata": {
    "pycharm": {
     "name": "#%%\n"
    }
   },
   "outputs": [],
   "source": [
    "pierce['Last 2'] = np.nan\n",
    "pierce['First 2'] = np.nan\n",
    "pierce['original text'] = np.nan"
   ]
  },
  {
   "cell_type": "code",
   "execution_count": 147,
   "metadata": {
    "pycharm": {
     "name": "#%%\n"
    }
   },
   "outputs": [],
   "source": [
    "repl_index = pierce[pierce['First'].apply(lambda x: x == 'P. & J.')].index\n",
    "pierce.loc[repl_index, ['First', 'Last', 'First 2', 'Last 2', 'original text']] = ['P.', 'Bemant', 'J.', 'Porter', 'P. & J. Bemant &. Porter']\n",
    "repl_index = pierce[pierce['First'].apply(lambda x: x == 'S & Delano')].index\n",
    "pierce.loc[repl_index, ['First', 'Last', 'First 2', 'Last 2', 'original text']] = ['S', 'Darting', 'Delano', 'Darting', 'S & Delano Darting']\n",
    "repl_index = pierce[pierce['First'].apply(lambda x: x == 'Benjamin & Donnelly')].index\n",
    "pierce.loc[repl_index, ['Last', 'Last 2', 'original text']] = ['Benjamin', 'Donnelly', 'Benjamin & Donnelly X']\n",
    "repl_index = pierce[pierce['First'].apply(lambda x: x == 'Thomas G Jr.')].index\n",
    "pierce.loc[repl_index, ['First', 'Last', 'original text']] = ['Thomas G', 'Alford Jr.', 'Thomas G Jr. Alford']\n",
    "repl_index = pierce[pierce['First'].apply(lambda x: x == 'Thomas G Sr.')].index\n",
    "pierce.loc[repl_index, ['First', 'Last', 'original text']] = ['Thomas G', 'Alford Sr.', 'Thomas G Sr. Alford']\n",
    "repl_index = pierce[pierce['First'].apply(lambda x: x == 'Tho G Jr.')].index\n",
    "pierce.loc[repl_index, ['First', 'Last', 'original text']] = ['Tho G', 'Alvord Jr.', 'Tho G Jr. Alvord']\n",
    "repl_index = pierce[pierce['First'].apply(lambda x: x == 'Tho G Sr.')].index\n",
    "pierce.loc[repl_index, ['First', 'Last', 'original text']] = ['Tho G', 'Alvord Sr.', 'Tho G Sr. Alvord']\n",
    "repl_index = pierce[pierce['First'].apply(lambda x: x == 'John (see Berrick)')].index\n",
    "pierce.loc[repl_index, ['First', 'Last', 'original text']] = ['John', 'Berrick', 'John (see Berrick) Benrick']\n",
    "repl_index = pierce[pierce['First'].apply(lambda x: x == 'James (alias Cady)')].index\n",
    "pierce.loc[repl_index, ['First', 'original text']] = ['James', 'James (alias Cady)']\n",
    "repl_index = pierce[pierce['First'].apply(lambda x: x == 'John F (?)')].index\n",
    "pierce.loc[repl_index, ['First', 'original text']] = ['John F', 'John F (?) Conrad']\n",
    "repl_index = pierce[pierce['First'].apply(lambda x: x == 'M. for J. Jones')].index\n",
    "pierce.loc[repl_index, ['First', 'original text']] = ['J.', 'M. for J. Jones Jones']\n",
    "repl_index = pierce[pierce['First'].apply(lambda x: x == 'William And Lewis')].index\n",
    "pierce.loc[repl_index, ['First', 'Last', 'First 2', 'Last 2','original text']] = ['William', 'Rice', 'Lewis', 'Rice', 'William And Lewis Rice']\n",
    "repl_index = pierce[pierce['First'].apply(lambda x: x == 'alias Hodge S')].index\n",
    "pierce.loc[repl_index, ['First', 'Last','original text']] = ['Hodge S', 'Rollins', 'alias Hodge S Rollins']\n",
    "repl_index = pierce[pierce['CN'].apply(lambda x: x == 84601)].index\n",
    "pierce.loc[repl_index, ['First', 'Last', 'Last 2','original text']] = [np.nan, 'Benjamin', 'Donnelly', 'Benjamin & Donnelly Benjamin']\n",
    "repl_index = pierce[pierce['First'].apply(lambda x: x == 'John P Jr.')].index\n",
    "pierce.loc[repl_index, ['First', 'Last','original text']] = ['John P', 'Salter Jr.', 'John P Jr. Salter']\n",
    "repl_index = pierce[pierce['First'].apply(lambda x: x == 'John P Sr.')].index\n",
    "pierce.loc[repl_index, ['First', 'Last','original text']] = ['John P', 'Salter Sr.', 'John P Sr. Salter']"
   ]
  },
  {
   "cell_type": "code",
   "execution_count": 148,
   "metadata": {
    "pycharm": {
     "name": "#%%\n"
    }
   },
   "outputs": [
    {
     "data": {
      "text/plain": "          CN                 Last     First    Value  Group  \\\n7167   26818  Blanchard & Russell       NaN   375.00   40.0   \n16503  65707       Code (or Coad)   William    40.60   81.0   \n21787   1682          De La Mater      John   300.00    9.0   \n21788  66542          De la Mater      John   112.60   81.0   \n21789  33666        De La Rouerie     A. Ma  3724.33   49.0   \n21790  33618        De La Rouerie     Amand  1306.83   48.0   \n21791  33642        De La Rouerie  B. G. A.   905.66   48.0   \n64458  67902   Peffer (or Pepper)        Ge    33.30   85.0   \n64654  67902   Pepper (or Peffer)        Ge    33.30   85.0   \n84977  65918        Van De Bogart    Nichol    44.66   81.0   \n\n                                          To Whom Issued State  Officer  \\\n7167                     Officers paid to November  1783   NaN      1.0   \n16503  First New York Regiment  Col. G. Van Shaick; M...    NY      0.0   \n21787  Officers under Gen. Armand  paid to December  ...   NaN      1.0   \n21788  First New York Regiment  Col. G. Van Shaick; M...    NY      0.0   \n21789       Officers  foreign  paid to November 15  1783     F      1.0   \n21790       Officers  foreign  paid to November 15  1783     F      1.0   \n21791       Officers  foreign  paid to November 15  1783     F      1.0   \n64458  Tenth (old) Pennsylvania Regiment  paid to Jan...    PA      0.0   \n64654  Tenth (old) Pennsylvania Regiment  paid to Jan...    PA      0.0   \n84977  First New York Regiment  Col. G. Van Shaick; M...    NY      0.0   \n\n      Last 2 First 2 original text  \n7167     NaN     NaN           NaN  \n16503    NaN     NaN           NaN  \n21787    NaN     NaN           NaN  \n21788    NaN     NaN           NaN  \n21789    NaN     NaN           NaN  \n21790    NaN     NaN           NaN  \n21791    NaN     NaN           NaN  \n64458    NaN     NaN           NaN  \n64654    NaN     NaN           NaN  \n84977    NaN     NaN           NaN  ",
      "text/html": "<div>\n<style scoped>\n    .dataframe tbody tr th:only-of-type {\n        vertical-align: middle;\n    }\n\n    .dataframe tbody tr th {\n        vertical-align: top;\n    }\n\n    .dataframe thead th {\n        text-align: right;\n    }\n</style>\n<table border=\"1\" class=\"dataframe\">\n  <thead>\n    <tr style=\"text-align: right;\">\n      <th></th>\n      <th>CN</th>\n      <th>Last</th>\n      <th>First</th>\n      <th>Value</th>\n      <th>Group</th>\n      <th>To Whom Issued</th>\n      <th>State</th>\n      <th>Officer</th>\n      <th>Last 2</th>\n      <th>First 2</th>\n      <th>original text</th>\n    </tr>\n  </thead>\n  <tbody>\n    <tr>\n      <th>7167</th>\n      <td>26818</td>\n      <td>Blanchard &amp; Russell</td>\n      <td>NaN</td>\n      <td>375.00</td>\n      <td>40.0</td>\n      <td>Officers paid to November  1783</td>\n      <td>NaN</td>\n      <td>1.0</td>\n      <td>NaN</td>\n      <td>NaN</td>\n      <td>NaN</td>\n    </tr>\n    <tr>\n      <th>16503</th>\n      <td>65707</td>\n      <td>Code (or Coad)</td>\n      <td>William</td>\n      <td>40.60</td>\n      <td>81.0</td>\n      <td>First New York Regiment  Col. G. Van Shaick; M...</td>\n      <td>NY</td>\n      <td>0.0</td>\n      <td>NaN</td>\n      <td>NaN</td>\n      <td>NaN</td>\n    </tr>\n    <tr>\n      <th>21787</th>\n      <td>1682</td>\n      <td>De La Mater</td>\n      <td>John</td>\n      <td>300.00</td>\n      <td>9.0</td>\n      <td>Officers under Gen. Armand  paid to December  ...</td>\n      <td>NaN</td>\n      <td>1.0</td>\n      <td>NaN</td>\n      <td>NaN</td>\n      <td>NaN</td>\n    </tr>\n    <tr>\n      <th>21788</th>\n      <td>66542</td>\n      <td>De la Mater</td>\n      <td>John</td>\n      <td>112.60</td>\n      <td>81.0</td>\n      <td>First New York Regiment  Col. G. Van Shaick; M...</td>\n      <td>NY</td>\n      <td>0.0</td>\n      <td>NaN</td>\n      <td>NaN</td>\n      <td>NaN</td>\n    </tr>\n    <tr>\n      <th>21789</th>\n      <td>33666</td>\n      <td>De La Rouerie</td>\n      <td>A. Ma</td>\n      <td>3724.33</td>\n      <td>49.0</td>\n      <td>Officers  foreign  paid to November 15  1783</td>\n      <td>F</td>\n      <td>1.0</td>\n      <td>NaN</td>\n      <td>NaN</td>\n      <td>NaN</td>\n    </tr>\n    <tr>\n      <th>21790</th>\n      <td>33618</td>\n      <td>De La Rouerie</td>\n      <td>Amand</td>\n      <td>1306.83</td>\n      <td>48.0</td>\n      <td>Officers  foreign  paid to November 15  1783</td>\n      <td>F</td>\n      <td>1.0</td>\n      <td>NaN</td>\n      <td>NaN</td>\n      <td>NaN</td>\n    </tr>\n    <tr>\n      <th>21791</th>\n      <td>33642</td>\n      <td>De La Rouerie</td>\n      <td>B. G. A.</td>\n      <td>905.66</td>\n      <td>48.0</td>\n      <td>Officers  foreign  paid to November 15  1783</td>\n      <td>F</td>\n      <td>1.0</td>\n      <td>NaN</td>\n      <td>NaN</td>\n      <td>NaN</td>\n    </tr>\n    <tr>\n      <th>64458</th>\n      <td>67902</td>\n      <td>Peffer (or Pepper)</td>\n      <td>Ge</td>\n      <td>33.30</td>\n      <td>85.0</td>\n      <td>Tenth (old) Pennsylvania Regiment  paid to Jan...</td>\n      <td>PA</td>\n      <td>0.0</td>\n      <td>NaN</td>\n      <td>NaN</td>\n      <td>NaN</td>\n    </tr>\n    <tr>\n      <th>64654</th>\n      <td>67902</td>\n      <td>Pepper (or Peffer)</td>\n      <td>Ge</td>\n      <td>33.30</td>\n      <td>85.0</td>\n      <td>Tenth (old) Pennsylvania Regiment  paid to Jan...</td>\n      <td>PA</td>\n      <td>0.0</td>\n      <td>NaN</td>\n      <td>NaN</td>\n      <td>NaN</td>\n    </tr>\n    <tr>\n      <th>84977</th>\n      <td>65918</td>\n      <td>Van De Bogart</td>\n      <td>Nichol</td>\n      <td>44.66</td>\n      <td>81.0</td>\n      <td>First New York Regiment  Col. G. Van Shaick; M...</td>\n      <td>NY</td>\n      <td>0.0</td>\n      <td>NaN</td>\n      <td>NaN</td>\n      <td>NaN</td>\n    </tr>\n  </tbody>\n</table>\n</div>"
     },
     "execution_count": 148,
     "metadata": {},
     "output_type": "execute_result"
    }
   ],
   "source": [
    "pierce[pierce['Last'].apply(lambda x: not pd.isnull(x) and len(x.split(\" \")) > 2)]"
   ]
  },
  {
   "cell_type": "code",
   "execution_count": 149,
   "metadata": {
    "pycharm": {
     "name": "#%%\n"
    }
   },
   "outputs": [],
   "source": [
    "repl_index = pierce[pierce['Last'].apply(lambda x: x == 'Blanchard & Russell')].index\n",
    "pierce.loc[repl_index, ['Last', 'Last 2', 'original text']] = ['Blanchard', 'Russell', 'Blanchard & Russell']\n",
    "repl_index = pierce[pierce['Last'].apply(lambda x: x == 'Code (or Coad)')].index\n",
    "pierce.loc[repl_index, ['Last', 'First 2', 'Last 2', 'original text']] = ['Code', 'William', 'Coad', 'William Code (or Coad)']\n",
    "repl_index = pierce[pierce['Last'].apply(lambda x: x == 'Peffer (or Pepper)')].index\n",
    "pierce.loc[repl_index, ['Last', 'First 2', 'Last 2', 'original text']] = ['Peffer', 'Ge', 'Pepper', 'Ge Peffer (or Pepper)']"
   ]
  },
  {
   "cell_type": "code",
   "execution_count": 150,
   "metadata": {
    "pycharm": {
     "name": "#%%\n"
    }
   },
   "outputs": [],
   "source": [
    "ind = pierce[pierce['Last'] == 'Pepper (or Peffer)'].index\n",
    "pierce.drop(ind, inplace = True)"
   ]
  },
  {
   "cell_type": "code",
   "execution_count": 151,
   "metadata": {
    "pycharm": {
     "name": "#%%\n"
    }
   },
   "outputs": [],
   "source": [
    "pierce.to_csv('../Data/Pre1790/cleaned/Pierce_Certs_cleaned_2021.csv')"
   ]
  }
 ],
 "metadata": {
  "kernelspec": {
   "display_name": "Python 3",
   "language": "python",
   "name": "python3"
  },
  "language_info": {
   "codemirror_mode": {
    "name": "ipython",
    "version": 3
   },
   "file_extension": ".py",
   "mimetype": "text/x-python",
   "name": "python",
   "nbconvert_exporter": "python",
   "pygments_lexer": "ipython3",
   "version": "3.7.4"
  }
 },
 "nbformat": 4,
 "nbformat_minor": 5
}