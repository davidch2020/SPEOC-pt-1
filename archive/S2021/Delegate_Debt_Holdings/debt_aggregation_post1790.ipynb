{
 "cells": [
  {
   "cell_type": "markdown",
   "metadata": {
    "pycharm": {
     "name": "#%% md\n"
    }
   },
   "source": [
    "<h3> Data Cleaning </h3>"
   ]
  },
  {
   "cell_type": "code",
   "execution_count": 1,
   "metadata": {
    "pycharm": {
     "name": "#%%\n"
    }
   },
   "outputs": [],
   "source": [
    "import numpy as np\n",
    "import pandas as pd"
   ]
  },
  {
   "cell_type": "code",
   "execution_count": 2,
   "metadata": {
    "pycharm": {
     "name": "#%%\n"
    }
   },
   "outputs": [],
   "source": [
    "delegates = pd.read_csv(\"../Data/Delegates/cleaned/constitutional_convention_delegates_cleaned.csv\").drop('Unnamed: 0', axis = 1)\n",
    "state_delegates = pd.read_csv(\"../Data/Delegates/cleaned/State_Delegates_cleaned.csv\").drop('Unnamed: 0', axis = 1)"
   ]
  },
  {
   "cell_type": "code",
   "execution_count": 3,
   "metadata": {
    "pycharm": {
     "name": "#%%\n"
    }
   },
   "outputs": [],
   "source": [
    "final_matching = pd.read_csv('../Data/final_matching.csv').drop(['Unnamed: 0', 'Scores'], axis = 1)"
   ]
  },
  {
   "cell_type": "code",
   "execution_count": 4,
   "metadata": {
    "pycharm": {
     "name": "#%%\n"
    }
   },
   "outputs": [],
   "source": [
    "spec_names = final_matching[final_matching['Delegates'] != final_matching['Loan Matches']]"
   ]
  },
  {
   "cell_type": "markdown",
   "metadata": {
    "pycharm": {
     "name": "#%% md\n"
    }
   },
   "source": [
    "# Delegate Asset Database"
   ]
  },
  {
   "cell_type": "code",
   "execution_count": 5,
   "metadata": {
    "pycharm": {
     "name": "#%%\n"
    }
   },
   "outputs": [
    {
     "name": "stderr",
     "output_type": "stream",
     "text": [
      "/opt/anaconda3/lib/python3.7/site-packages/pandas/core/frame.py:4223: SettingWithCopyWarning: \n",
      "A value is trying to be set on a copy of a slice from a DataFrame\n",
      "\n",
      "See the caveats in the documentation: http://pandas.pydata.org/pandas-docs/stable/user_guide/indexing.html#returning-a-view-versus-a-copy\n",
      "  return super().rename(**kwargs)\n",
      "/opt/anaconda3/lib/python3.7/site-packages/ipykernel_launcher.py:4: FutureWarning: Sorting because non-concatenation axis is not aligned. A future version\n",
      "of pandas will change to not sort by default.\n",
      "\n",
      "To accept the future behavior, pass 'sort=False'.\n",
      "\n",
      "To retain the current behavior and silence the warning, pass 'sort=True'.\n",
      "\n",
      "  after removing the cwd from sys.path.\n"
     ]
    }
   ],
   "source": [
    "delegates_assets = delegates[['full name 1', 'full name 2', 'sign']]\n",
    "state_delegate_assets = state_delegates[['full name 1', 'State', 'Vote']]\n",
    "state_delegate_assets.rename(columns = {\"Vote\":\"sign\", \"State\":\"delegate_state\"}, inplace = True)\n",
    "total_assets = pd.concat([delegates_assets, state_delegate_assets]).reset_index(drop = True)"
   ]
  },
  {
   "cell_type": "code",
   "execution_count": 6,
   "metadata": {
    "pycharm": {
     "name": "#%%\n"
    }
   },
   "outputs": [],
   "source": [
    "#amending existing cases"
   ]
  },
  {
   "cell_type": "code",
   "execution_count": 7,
   "metadata": {
    "pycharm": {
     "name": "#%%\n"
    }
   },
   "outputs": [],
   "source": [
    "total_assets['full name 2'] = total_assets['full name 1']\n",
    "total_assets_full = total_assets"
   ]
  },
  {
   "cell_type": "code",
   "execution_count": 8,
   "metadata": {
    "pycharm": {
     "name": "#%%\n"
    }
   },
   "outputs": [],
   "source": [
    "merge_1 = pd.merge(total_assets_full.drop('full name 2', axis = 1), \n",
    "                   spec_names, left_on = 'full name 1', \n",
    "                   right_on = 'Delegates').drop('full name 1', axis = 1)\n",
    "merge_2 = pd.merge(total_assets_full.drop('full name 1', axis = 1), \n",
    "                   spec_names, left_on = 'full name 2', \n",
    "                   right_on = 'Delegates').drop('full name 2', axis = 1)\n",
    "merged = pd.concat([merge_1, merge_2]).drop_duplicates()"
   ]
  },
  {
   "cell_type": "code",
   "execution_count": 9,
   "metadata": {
    "pycharm": {
     "name": "#%%\n"
    }
   },
   "outputs": [],
   "source": [
    "total_assets_full.columns = ['delegate_state', 'delegate name', 'match name', 'sign']\n",
    "merged.columns =  ['delegate_state', 'sign',  'delegate name', 'match name']"
   ]
  },
  {
   "cell_type": "code",
   "execution_count": 10,
   "metadata": {
    "pycharm": {
     "name": "#%%\n"
    }
   },
   "outputs": [
    {
     "name": "stderr",
     "output_type": "stream",
     "text": [
      "/opt/anaconda3/lib/python3.7/site-packages/ipykernel_launcher.py:1: FutureWarning: Sorting because non-concatenation axis is not aligned. A future version\n",
      "of pandas will change to not sort by default.\n",
      "\n",
      "To accept the future behavior, pass 'sort=False'.\n",
      "\n",
      "To retain the current behavior and silence the warning, pass 'sort=True'.\n",
      "\n",
      "  \"\"\"Entry point for launching an IPython kernel.\n"
     ]
    }
   ],
   "source": [
    "total_assets_final = pd.concat([total_assets_full, merged])"
   ]
  },
  {
   "cell_type": "markdown",
   "metadata": {
    "pycharm": {
     "name": "#%% md\n"
    }
   },
   "source": [
    "### Full Name - First/Last Name Mapping"
   ]
  },
  {
   "cell_type": "code",
   "execution_count": 11,
   "metadata": {
    "pycharm": {
     "name": "#%%\n"
    }
   },
   "outputs": [],
   "source": [
    "state_firstlast = state_delegates[['full name 1', 'First Name', 'Last Name']].rename(columns = {'full name 1': 'Full Name'})\n",
    "const_firstlast = delegates[['full name 1', 'first name', 'last name']].rename(columns = {'first name':'First Name',\n",
    "                                                                                          'last name':'Last Name',\n",
    "                                                                                          'full name 1': 'Full Name'})\n",
    "cum_firstlast = pd.concat([state_firstlast, const_firstlast])"
   ]
  },
  {
   "cell_type": "markdown",
   "metadata": {
    "pycharm": {
     "name": "#%% md\n"
    }
   },
   "source": [
    "# Connecticut Assumed Debt Dataset Matching"
   ]
  },
  {
   "cell_type": "code",
   "execution_count": 12,
   "metadata": {
    "pycharm": {
     "name": "#%%\n"
    }
   },
   "outputs": [],
   "source": [
    "#prepare loan dataset\n",
    "CT_ASD = pd.read_excel(\"../Data/Post1790/CT/CT_post1790_ASD_ledger.xlsx\", header = 13, usecols = 'H, I, N, O, X, Y, AD, AE, AN, AO, AT, AU')\n",
    "CT_ASD.columns = ['First Name', 'Last Name', '6p_Dollar', '6p_Cents', 'First Name.1', 'Last Name.1', '6p_def_Dollar', '6p_def_Cents',\n",
    "                  'First Name.2', 'Last Name.2', '3p_Dollar', '3p_Cents']\n",
    "CT_ASD['full name 1'] = CT_ASD['First Name'] + \" \" + CT_ASD['Last Name']\n",
    "CT_ASD['full name 2'] = CT_ASD['First Name.1'] + \" \" + CT_ASD['Last Name.1']\n",
    "CT_ASD['full name 3'] = CT_ASD['First Name.2'] + \" \" + CT_ASD['Last Name.2']"
   ]
  },
  {
   "cell_type": "code",
   "execution_count": 13,
   "metadata": {
    "pycharm": {
     "name": "#%%\n"
    }
   },
   "outputs": [],
   "source": [
    "CT_ASD['index'] = CT_ASD.index\n",
    "\n",
    "CT_ASD_f1 = CT_ASD[['full name 1', '6p_Dollar','6p_Cents',]]\n",
    "CT_ASD_f2 = CT_ASD[['full name 2', '6p_def_Dollar','6p_def_Cents']]\n",
    "CT_ASD_f3 = CT_ASD[['full name 3', '3p_Dollar', '3p_Cents']]"
   ]
  },
  {
   "cell_type": "code",
   "execution_count": 14,
   "metadata": {
    "pycharm": {
     "name": "#%%\n"
    }
   },
   "outputs": [],
   "source": [
    "CT_ASD_6p = pd.merge(total_assets_final, CT_ASD_f1[CT_ASD_f1['full name 1'].apply(lambda x: not pd.isnull(x))],\n",
    "                     left_on = 'match name', right_on = 'full name 1').drop(['full name 1','match name'], axis = 1)\n",
    "CT_ASD_6p_def = pd.merge(total_assets_final, CT_ASD_f2[CT_ASD_f2['full name 2'].apply(lambda x: not pd.isnull(x))],\n",
    "                         left_on = 'match name', right_on = 'full name 2').drop(['full name 2','match name'], axis = 1)\n",
    "CT_ASD_3p = pd.merge(total_assets_final, CT_ASD_f3[CT_ASD_f3['full name 3'].apply(lambda x: not pd.isnull(x))],\n",
    "                         left_on = 'match name', right_on = 'full name 3').drop(['full name 3','match name'], axis = 1)"
   ]
  },
  {
   "cell_type": "code",
   "execution_count": 15,
   "metadata": {
    "pycharm": {
     "name": "#%%\n"
    }
   },
   "outputs": [
    {
     "data": {
      "text/html": [
       "<div>\n",
       "<style scoped>\n",
       "    .dataframe tbody tr th:only-of-type {\n",
       "        vertical-align: middle;\n",
       "    }\n",
       "\n",
       "    .dataframe tbody tr th {\n",
       "        vertical-align: top;\n",
       "    }\n",
       "\n",
       "    .dataframe thead th {\n",
       "        text-align: right;\n",
       "    }\n",
       "</style>\n",
       "<table border=\"1\" class=\"dataframe\">\n",
       "  <thead>\n",
       "    <tr style=\"text-align: right;\">\n",
       "      <th></th>\n",
       "      <th>delegate name</th>\n",
       "      <th>delegate_state</th>\n",
       "      <th>sign</th>\n",
       "      <th>6p_Dollar</th>\n",
       "      <th>6p_Cents</th>\n",
       "      <th>6p_def_Dollar</th>\n",
       "      <th>6p_def_Cents</th>\n",
       "      <th>3p_Dollar</th>\n",
       "      <th>3p_Cents</th>\n",
       "    </tr>\n",
       "  </thead>\n",
       "  <tbody>\n",
       "    <tr>\n",
       "      <td>0</td>\n",
       "      <td>Roger Sherman</td>\n",
       "      <td>NaN</td>\n",
       "      <td>yes</td>\n",
       "      <td>3435.0</td>\n",
       "      <td>91.0</td>\n",
       "      <td>1717.0</td>\n",
       "      <td>96.0</td>\n",
       "      <td>NaN</td>\n",
       "      <td>NaN</td>\n",
       "    </tr>\n",
       "    <tr>\n",
       "      <td>1</td>\n",
       "      <td>Roger Sherman</td>\n",
       "      <td>CT</td>\n",
       "      <td>yes</td>\n",
       "      <td>3435.0</td>\n",
       "      <td>91.0</td>\n",
       "      <td>1717.0</td>\n",
       "      <td>96.0</td>\n",
       "      <td>NaN</td>\n",
       "      <td>NaN</td>\n",
       "    </tr>\n",
       "    <tr>\n",
       "      <td>2</td>\n",
       "      <td>Oliver Ellsworth</td>\n",
       "      <td>NaN</td>\n",
       "      <td>no</td>\n",
       "      <td>2660.0</td>\n",
       "      <td>98.0</td>\n",
       "      <td>1330.0</td>\n",
       "      <td>50.0</td>\n",
       "      <td>1995.0</td>\n",
       "      <td>75.0</td>\n",
       "    </tr>\n",
       "    <tr>\n",
       "      <td>3</td>\n",
       "      <td>Oliver Ellsworth</td>\n",
       "      <td>CT</td>\n",
       "      <td>yes</td>\n",
       "      <td>2660.0</td>\n",
       "      <td>98.0</td>\n",
       "      <td>1330.0</td>\n",
       "      <td>50.0</td>\n",
       "      <td>1995.0</td>\n",
       "      <td>75.0</td>\n",
       "    </tr>\n",
       "    <tr>\n",
       "      <td>4</td>\n",
       "      <td>John Dickinson</td>\n",
       "      <td>NaN</td>\n",
       "      <td>yes</td>\n",
       "      <td>3227.0</td>\n",
       "      <td>29.0</td>\n",
       "      <td>1613.0</td>\n",
       "      <td>65.0</td>\n",
       "      <td>2420.0</td>\n",
       "      <td>47.0</td>\n",
       "    </tr>\n",
       "  </tbody>\n",
       "</table>\n",
       "</div>"
      ],
      "text/plain": [
       "      delegate name delegate_state sign  6p_Dollar  6p_Cents  6p_def_Dollar  \\\n",
       "0     Roger Sherman            NaN  yes     3435.0      91.0         1717.0   \n",
       "1     Roger Sherman             CT  yes     3435.0      91.0         1717.0   \n",
       "2  Oliver Ellsworth            NaN   no     2660.0      98.0         1330.0   \n",
       "3  Oliver Ellsworth             CT  yes     2660.0      98.0         1330.0   \n",
       "4    John Dickinson            NaN  yes     3227.0      29.0         1613.0   \n",
       "\n",
       "   6p_def_Cents  3p_Dollar  3p_Cents  \n",
       "0          96.0        NaN       NaN  \n",
       "1          96.0        NaN       NaN  \n",
       "2          50.0     1995.0      75.0  \n",
       "3          50.0     1995.0      75.0  \n",
       "4          65.0     2420.0      47.0  "
      ]
     },
     "execution_count": 15,
     "metadata": {},
     "output_type": "execute_result"
    }
   ],
   "source": [
    "CT_ASD_agg = pd.merge(CT_ASD_6p, CT_ASD_6p_def, on = ['delegate name','delegate_state','sign'], how = 'outer')\n",
    "CT_ASD_agg = pd.merge(CT_ASD_agg, CT_ASD_3p, on = ['delegate name','delegate_state','sign'], how = 'outer')\n",
    "CT_ASD_agg.head()"
   ]
  },
  {
   "cell_type": "markdown",
   "metadata": {
    "pycharm": {
     "name": "#%% md\n"
    }
   },
   "source": [
    "# Maryland Assumed Debt Dataset Matching"
   ]
  },
  {
   "cell_type": "code",
   "execution_count": 16,
   "metadata": {
    "pycharm": {
     "name": "#%%\n"
    }
   },
   "outputs": [],
   "source": [
    "#prepare loan dataset\n",
    "MD_ASD = pd.read_excel(\"../Data/Post1790/MD/MD_post1790_ASD.xlsx\", header = 11, usecols = 'G, H, L, M, U, V, Z, AA, AI, AJ, AN, AO')\n",
    "MD_ASD.columns = ['First Name', 'Last Name', '6p_Dollar', '6p_Cents', 'First Name.1', 'Last Name.1', '6p_def_Dollar', '6p_def_Cents',\n",
    "                  'First Name.2', 'Last Name.2', '3p_Dollar', '3p_Cents']\n",
    "MD_ASD['full name 1'] = MD_ASD['First Name'] + \" \" + MD_ASD['Last Name']\n",
    "MD_ASD['full name 2'] = MD_ASD['First Name.1'] + \" \" + MD_ASD['Last Name.1']\n",
    "MD_ASD['full name 3'] = MD_ASD['First Name.2'] + \" \" + MD_ASD['Last Name.2']"
   ]
  },
  {
   "cell_type": "code",
   "execution_count": 17,
   "metadata": {
    "pycharm": {
     "name": "#%%\n"
    }
   },
   "outputs": [],
   "source": [
    "MD_ASD['index'] = MD_ASD.index\n",
    "\n",
    "MD_ASD_f1 = MD_ASD[['full name 1', '6p_Dollar','6p_Cents',]]\n",
    "MD_ASD_f2 = MD_ASD[['full name 2', '6p_def_Dollar','6p_def_Cents']]\n",
    "MD_ASD_f3 = MD_ASD[['full name 3', '3p_Dollar', '3p_Cents']]"
   ]
  },
  {
   "cell_type": "code",
   "execution_count": 18,
   "metadata": {
    "pycharm": {
     "name": "#%%\n"
    }
   },
   "outputs": [],
   "source": [
    "MD_ASD_6p = pd.merge(total_assets_final, MD_ASD_f1[MD_ASD_f1['full name 1'].apply(lambda x: not pd.isnull(x))],\n",
    "                     left_on = 'match name', right_on = 'full name 1').drop(['full name 1','match name'], axis = 1)\n",
    "MD_ASD_6p_def = pd.merge(total_assets_final, MD_ASD_f2[MD_ASD_f2['full name 2'].apply(lambda x: not pd.isnull(x))],\n",
    "                         left_on = 'match name', right_on = 'full name 2').drop(['full name 2','match name'], axis = 1)\n",
    "MD_ASD_3p = pd.merge(total_assets_final, MD_ASD_f3[MD_ASD_f3['full name 3'].apply(lambda x: not pd.isnull(x))],\n",
    "                         left_on = 'match name', right_on = 'full name 3').drop(['full name 3','match name'], axis = 1)"
   ]
  },
  {
   "cell_type": "code",
   "execution_count": 19,
   "metadata": {
    "pycharm": {
     "name": "#%%\n"
    }
   },
   "outputs": [
    {
     "data": {
      "text/html": [
       "<div>\n",
       "<style scoped>\n",
       "    .dataframe tbody tr th:only-of-type {\n",
       "        vertical-align: middle;\n",
       "    }\n",
       "\n",
       "    .dataframe tbody tr th {\n",
       "        vertical-align: top;\n",
       "    }\n",
       "\n",
       "    .dataframe thead th {\n",
       "        text-align: right;\n",
       "    }\n",
       "</style>\n",
       "<table border=\"1\" class=\"dataframe\">\n",
       "  <thead>\n",
       "    <tr style=\"text-align: right;\">\n",
       "      <th></th>\n",
       "      <th>delegate name</th>\n",
       "      <th>delegate_state</th>\n",
       "      <th>sign</th>\n",
       "      <th>6p_Dollar</th>\n",
       "      <th>6p_Cents</th>\n",
       "      <th>6p_def_Dollar</th>\n",
       "      <th>6p_def_Cents</th>\n",
       "      <th>3p_Dollar</th>\n",
       "      <th>3p_Cents</th>\n",
       "    </tr>\n",
       "  </thead>\n",
       "  <tbody>\n",
       "    <tr>\n",
       "      <td>0</td>\n",
       "      <td>William Moore</td>\n",
       "      <td>DE</td>\n",
       "      <td>yes</td>\n",
       "      <td>2726.0</td>\n",
       "      <td>99.0</td>\n",
       "      <td>1363.0</td>\n",
       "      <td>50.0</td>\n",
       "      <td>2045.0</td>\n",
       "      <td>93.0</td>\n",
       "    </tr>\n",
       "    <tr>\n",
       "      <td>1</td>\n",
       "      <td>George Plater</td>\n",
       "      <td>MD</td>\n",
       "      <td>yes</td>\n",
       "      <td>127.0</td>\n",
       "      <td>86.0</td>\n",
       "      <td>NaN</td>\n",
       "      <td>NaN</td>\n",
       "      <td>95.0</td>\n",
       "      <td>91.0</td>\n",
       "    </tr>\n",
       "    <tr>\n",
       "      <td>2</td>\n",
       "      <td>Nicholas Carroll</td>\n",
       "      <td>MD</td>\n",
       "      <td>yes</td>\n",
       "      <td>685.0</td>\n",
       "      <td>96.0</td>\n",
       "      <td>342.0</td>\n",
       "      <td>98.0</td>\n",
       "      <td>514.0</td>\n",
       "      <td>48.0</td>\n",
       "    </tr>\n",
       "    <tr>\n",
       "      <td>3</td>\n",
       "      <td>George Gale</td>\n",
       "      <td>MD</td>\n",
       "      <td>yes</td>\n",
       "      <td>1894.0</td>\n",
       "      <td>21.0</td>\n",
       "      <td>947.0</td>\n",
       "      <td>11.0</td>\n",
       "      <td>1420.0</td>\n",
       "      <td>66.0</td>\n",
       "    </tr>\n",
       "    <tr>\n",
       "      <td>4</td>\n",
       "      <td>James Williams</td>\n",
       "      <td>MA</td>\n",
       "      <td>no</td>\n",
       "      <td>8645.0</td>\n",
       "      <td>13.0</td>\n",
       "      <td>4322.0</td>\n",
       "      <td>58.0</td>\n",
       "      <td>6483.0</td>\n",
       "      <td>87.0</td>\n",
       "    </tr>\n",
       "  </tbody>\n",
       "</table>\n",
       "</div>"
      ],
      "text/plain": [
       "      delegate name delegate_state sign  6p_Dollar  6p_Cents  6p_def_Dollar  \\\n",
       "0     William Moore             DE  yes     2726.0      99.0         1363.0   \n",
       "1     George Plater             MD  yes      127.0      86.0            NaN   \n",
       "2  Nicholas Carroll             MD  yes      685.0      96.0          342.0   \n",
       "3       George Gale             MD  yes     1894.0      21.0          947.0   \n",
       "4    James Williams             MA   no     8645.0      13.0         4322.0   \n",
       "\n",
       "   6p_def_Cents  3p_Dollar  3p_Cents  \n",
       "0          50.0     2045.0      93.0  \n",
       "1           NaN       95.0      91.0  \n",
       "2          98.0      514.0      48.0  \n",
       "3          11.0     1420.0      66.0  \n",
       "4          58.0     6483.0      87.0  "
      ]
     },
     "execution_count": 19,
     "metadata": {},
     "output_type": "execute_result"
    }
   ],
   "source": [
    "MD_ASD_agg = pd.merge(MD_ASD_6p, MD_ASD_6p_def, on = ['delegate name','delegate_state','sign'], how = 'outer')\n",
    "MD_ASD_agg = pd.merge(MD_ASD_agg, MD_ASD_3p, on = ['delegate name','delegate_state','sign'], how = 'outer')\n",
    "MD_ASD_agg.head()"
   ]
  },
  {
   "cell_type": "code",
   "execution_count": 20,
   "metadata": {
    "pycharm": {
     "name": "#%%\n"
    }
   },
   "outputs": [],
   "source": [
    "cumulative_ASD = pd.concat([CT_ASD_agg, MD_ASD_agg])"
   ]
  },
  {
   "cell_type": "markdown",
   "metadata": {
    "pycharm": {
     "name": "#%% md\n"
    }
   },
   "source": [
    "# North Carolina Assumed Debt Dataset Matching"
   ]
  },
  {
   "cell_type": "code",
   "execution_count": 21,
   "metadata": {
    "pycharm": {
     "name": "#%%\n"
    }
   },
   "outputs": [],
   "source": [
    "#prepare loan dataset\n",
    "NC_ASD = pd.read_excel(\"../Data/Post1790/NC/T695_R3_NC_ASD.xlsx\", header = 10, usecols = 'H, I, P, Q, R, S, T, U')\n",
    "NC_ASD.columns = ['First Name', 'Last Name', '6p_Dollar', '6p_Cents', '6p_def_Dollar', '6p_def_Cents', '3p_Dollar', '3p_Cents']\n",
    "NC_ASD['full name 1'] = NC_ASD['First Name'] + \" \" + NC_ASD['Last Name']"
   ]
  },
  {
   "cell_type": "code",
   "execution_count": 22,
   "metadata": {
    "pycharm": {
     "name": "#%%\n"
    }
   },
   "outputs": [],
   "source": [
    "NC_ASD_f = NC_ASD[['full name 1', '6p_Dollar', '6p_Cents', '6p_def_Dollar', '6p_def_Cents', '3p_Dollar', '3p_Cents']]"
   ]
  },
  {
   "cell_type": "code",
   "execution_count": 23,
   "metadata": {
    "pycharm": {
     "name": "#%%\n"
    }
   },
   "outputs": [],
   "source": [
    "NC_ASD_agg = pd.merge(total_assets_final, NC_ASD_f[NC_ASD_f['full name 1'].apply(lambda x: not pd.isnull(x))],\n",
    "                     left_on = 'match name', right_on = 'full name 1').drop(['full name 1', 'match name'], axis = 1)"
   ]
  },
  {
   "cell_type": "code",
   "execution_count": 24,
   "metadata": {
    "pycharm": {
     "name": "#%%\n"
    }
   },
   "outputs": [
    {
     "data": {
      "text/html": [
       "<div>\n",
       "<style scoped>\n",
       "    .dataframe tbody tr th:only-of-type {\n",
       "        vertical-align: middle;\n",
       "    }\n",
       "\n",
       "    .dataframe tbody tr th {\n",
       "        vertical-align: top;\n",
       "    }\n",
       "\n",
       "    .dataframe thead th {\n",
       "        text-align: right;\n",
       "    }\n",
       "</style>\n",
       "<table border=\"1\" class=\"dataframe\">\n",
       "  <thead>\n",
       "    <tr style=\"text-align: right;\">\n",
       "      <th></th>\n",
       "      <th>delegate name</th>\n",
       "      <th>delegate_state</th>\n",
       "      <th>sign</th>\n",
       "      <th>6p_Dollar</th>\n",
       "      <th>6p_Cents</th>\n",
       "      <th>6p_def_Dollar</th>\n",
       "      <th>6p_def_Cents</th>\n",
       "      <th>3p_Dollar</th>\n",
       "      <th>3p_Cents</th>\n",
       "    </tr>\n",
       "  </thead>\n",
       "  <tbody>\n",
       "    <tr>\n",
       "      <td>0</td>\n",
       "      <td>William Blount</td>\n",
       "      <td>NaN</td>\n",
       "      <td>yes</td>\n",
       "      <td>61.0</td>\n",
       "      <td>492.66</td>\n",
       "      <td>61.0</td>\n",
       "      <td>246.32</td>\n",
       "      <td>61.0</td>\n",
       "      <td>369.49</td>\n",
       "    </tr>\n",
       "    <tr>\n",
       "      <td>1</td>\n",
       "      <td>William Blount</td>\n",
       "      <td>NC</td>\n",
       "      <td>yes</td>\n",
       "      <td>61.0</td>\n",
       "      <td>492.66</td>\n",
       "      <td>61.0</td>\n",
       "      <td>246.32</td>\n",
       "      <td>61.0</td>\n",
       "      <td>369.49</td>\n",
       "    </tr>\n",
       "    <tr>\n",
       "      <td>2</td>\n",
       "      <td>William Blount</td>\n",
       "      <td>NC</td>\n",
       "      <td>yes</td>\n",
       "      <td>61.0</td>\n",
       "      <td>492.66</td>\n",
       "      <td>61.0</td>\n",
       "      <td>246.32</td>\n",
       "      <td>61.0</td>\n",
       "      <td>369.49</td>\n",
       "    </tr>\n",
       "    <tr>\n",
       "      <td>3</td>\n",
       "      <td>Hugh Williamson</td>\n",
       "      <td>NaN</td>\n",
       "      <td>yes</td>\n",
       "      <td>61.0</td>\n",
       "      <td>1086.60</td>\n",
       "      <td>61.0</td>\n",
       "      <td>543.30</td>\n",
       "      <td>61.0</td>\n",
       "      <td>814.94</td>\n",
       "    </tr>\n",
       "    <tr>\n",
       "      <td>4</td>\n",
       "      <td>Hugh Williamson</td>\n",
       "      <td>NC</td>\n",
       "      <td>yes</td>\n",
       "      <td>61.0</td>\n",
       "      <td>1086.60</td>\n",
       "      <td>61.0</td>\n",
       "      <td>543.30</td>\n",
       "      <td>61.0</td>\n",
       "      <td>814.94</td>\n",
       "    </tr>\n",
       "  </tbody>\n",
       "</table>\n",
       "</div>"
      ],
      "text/plain": [
       "     delegate name delegate_state sign  6p_Dollar  6p_Cents  6p_def_Dollar  \\\n",
       "0   William Blount            NaN  yes       61.0    492.66           61.0   \n",
       "1   William Blount             NC  yes       61.0    492.66           61.0   \n",
       "2   William Blount             NC  yes       61.0    492.66           61.0   \n",
       "3  Hugh Williamson            NaN  yes       61.0   1086.60           61.0   \n",
       "4  Hugh Williamson             NC  yes       61.0   1086.60           61.0   \n",
       "\n",
       "   6p_def_Cents  3p_Dollar  3p_Cents  \n",
       "0        246.32       61.0    369.49  \n",
       "1        246.32       61.0    369.49  \n",
       "2        246.32       61.0    369.49  \n",
       "3        543.30       61.0    814.94  \n",
       "4        543.30       61.0    814.94  "
      ]
     },
     "execution_count": 24,
     "metadata": {},
     "output_type": "execute_result"
    }
   ],
   "source": [
    "NC_ASD_agg.head()"
   ]
  },
  {
   "cell_type": "code",
   "execution_count": 25,
   "metadata": {
    "pycharm": {
     "name": "#%%\n"
    }
   },
   "outputs": [],
   "source": [
    "cumulative_ASD = pd.concat([NC_ASD_agg, cumulative_ASD])"
   ]
  },
  {
   "cell_type": "markdown",
   "metadata": {
    "pycharm": {
     "name": "#%% md\n"
    }
   },
   "source": [
    "# New Hampshire Assumed Debt Dataset Matching"
   ]
  },
  {
   "cell_type": "code",
   "execution_count": 26,
   "metadata": {
    "pycharm": {
     "name": "#%%\n"
    }
   },
   "outputs": [],
   "source": [
    "#prepare loan dataset\n",
    "NH_ASD = pd.read_excel(\"../Data/Post1790/NH/T652_New_Hampshire_ASD.xlsx\", header = 11, usecols = 'G, H, M, N, V, W, AB, AC, AK, AL, AM, AN')\n",
    "NH_ASD.columns = ['First Name', 'Last Name', '6p_Dollar', '6p_Cents', 'First Name.1', 'Last Name.1', '6p_def_Dollar', '6p_def_Cents',\n",
    "                  'First Name.2', 'Last Name.2', '3p_Dollar', '3p_Cents']\n",
    "NH_ASD['full name 1'] = NH_ASD['First Name'] + \" \" + NH_ASD['Last Name']\n",
    "NH_ASD['full name 2'] = NH_ASD['First Name.1'] + \" \" + NH_ASD['Last Name.1']\n",
    "NH_ASD['full name 3'] = NH_ASD['First Name.2'] + \" \" + NH_ASD['Last Name.2']"
   ]
  },
  {
   "cell_type": "code",
   "execution_count": 27,
   "metadata": {
    "pycharm": {
     "name": "#%%\n"
    }
   },
   "outputs": [],
   "source": [
    "NH_ASD['index'] = NH_ASD.index\n",
    "\n",
    "NH_ASD_f1 = NH_ASD[['full name 1', '6p_Dollar','6p_Cents',]]\n",
    "NH_ASD_f2 = NH_ASD[['full name 2', '6p_def_Dollar','6p_def_Cents']]\n",
    "NH_ASD_f3 = NH_ASD[['full name 3', '3p_Dollar', '3p_Cents']]"
   ]
  },
  {
   "cell_type": "code",
   "execution_count": 28,
   "metadata": {
    "pycharm": {
     "name": "#%%\n"
    }
   },
   "outputs": [],
   "source": [
    "NH_ASD_6p = pd.merge(total_assets_final, NH_ASD_f1[NH_ASD_f1['full name 1'].apply(lambda x: not pd.isnull(x))],\n",
    "                     left_on = 'match name', right_on = 'full name 1').drop(['full name 1','match name'], axis = 1)\n",
    "NH_ASD_6p_def = pd.merge(total_assets_final, NH_ASD_f2[NH_ASD_f2['full name 2'].apply(lambda x: not pd.isnull(x))],\n",
    "                         left_on = 'match name', right_on = 'full name 2').drop(['full name 2','match name'], axis = 1)\n",
    "NH_ASD_3p = pd.merge(total_assets_final, NH_ASD_f3[NH_ASD_f3['full name 3'].apply(lambda x: not pd.isnull(x))],\n",
    "                         left_on = 'match name', right_on = 'full name 3').drop(['full name 3','match name'], axis = 1)"
   ]
  },
  {
   "cell_type": "code",
   "execution_count": 29,
   "metadata": {
    "pycharm": {
     "name": "#%%\n"
    }
   },
   "outputs": [
    {
     "data": {
      "text/html": [
       "<div>\n",
       "<style scoped>\n",
       "    .dataframe tbody tr th:only-of-type {\n",
       "        vertical-align: middle;\n",
       "    }\n",
       "\n",
       "    .dataframe tbody tr th {\n",
       "        vertical-align: top;\n",
       "    }\n",
       "\n",
       "    .dataframe thead th {\n",
       "        text-align: right;\n",
       "    }\n",
       "</style>\n",
       "<table border=\"1\" class=\"dataframe\">\n",
       "  <thead>\n",
       "    <tr style=\"text-align: right;\">\n",
       "      <th></th>\n",
       "      <th>delegate name</th>\n",
       "      <th>delegate_state</th>\n",
       "      <th>sign</th>\n",
       "      <th>6p_Dollar</th>\n",
       "      <th>6p_Cents</th>\n",
       "      <th>6p_def_Dollar</th>\n",
       "      <th>6p_def_Cents</th>\n",
       "      <th>3p_Dollar</th>\n",
       "      <th>3p_Cents</th>\n",
       "    </tr>\n",
       "  </thead>\n",
       "  <tbody>\n",
       "    <tr>\n",
       "      <td>0</td>\n",
       "      <td>John Langdon</td>\n",
       "      <td>NaN</td>\n",
       "      <td>yes</td>\n",
       "      <td>959.0</td>\n",
       "      <td>25.0</td>\n",
       "      <td>479.0</td>\n",
       "      <td>63.0</td>\n",
       "      <td>719.4375</td>\n",
       "      <td>NaN</td>\n",
       "    </tr>\n",
       "    <tr>\n",
       "      <td>1</td>\n",
       "      <td>John Langdon</td>\n",
       "      <td>NaN</td>\n",
       "      <td>yes</td>\n",
       "      <td>959.0</td>\n",
       "      <td>25.0</td>\n",
       "      <td>479.0</td>\n",
       "      <td>63.0</td>\n",
       "      <td>124.9425</td>\n",
       "      <td>NaN</td>\n",
       "    </tr>\n",
       "    <tr>\n",
       "      <td>2</td>\n",
       "      <td>John Langdon</td>\n",
       "      <td>NaN</td>\n",
       "      <td>yes</td>\n",
       "      <td>959.0</td>\n",
       "      <td>25.0</td>\n",
       "      <td>479.0</td>\n",
       "      <td>63.0</td>\n",
       "      <td>129.8700</td>\n",
       "      <td>NaN</td>\n",
       "    </tr>\n",
       "    <tr>\n",
       "      <td>3</td>\n",
       "      <td>John Langdon</td>\n",
       "      <td>NaN</td>\n",
       "      <td>yes</td>\n",
       "      <td>959.0</td>\n",
       "      <td>25.0</td>\n",
       "      <td>83.0</td>\n",
       "      <td>30.0</td>\n",
       "      <td>719.4375</td>\n",
       "      <td>NaN</td>\n",
       "    </tr>\n",
       "    <tr>\n",
       "      <td>4</td>\n",
       "      <td>John Langdon</td>\n",
       "      <td>NaN</td>\n",
       "      <td>yes</td>\n",
       "      <td>959.0</td>\n",
       "      <td>25.0</td>\n",
       "      <td>83.0</td>\n",
       "      <td>30.0</td>\n",
       "      <td>124.9425</td>\n",
       "      <td>NaN</td>\n",
       "    </tr>\n",
       "  </tbody>\n",
       "</table>\n",
       "</div>"
      ],
      "text/plain": [
       "  delegate name delegate_state sign  6p_Dollar  6p_Cents  6p_def_Dollar  \\\n",
       "0  John Langdon            NaN  yes      959.0      25.0          479.0   \n",
       "1  John Langdon            NaN  yes      959.0      25.0          479.0   \n",
       "2  John Langdon            NaN  yes      959.0      25.0          479.0   \n",
       "3  John Langdon            NaN  yes      959.0      25.0           83.0   \n",
       "4  John Langdon            NaN  yes      959.0      25.0           83.0   \n",
       "\n",
       "   6p_def_Cents  3p_Dollar  3p_Cents  \n",
       "0          63.0   719.4375       NaN  \n",
       "1          63.0   124.9425       NaN  \n",
       "2          63.0   129.8700       NaN  \n",
       "3          30.0   719.4375       NaN  \n",
       "4          30.0   124.9425       NaN  "
      ]
     },
     "execution_count": 29,
     "metadata": {},
     "output_type": "execute_result"
    }
   ],
   "source": [
    "NH_ASD_agg = pd.merge(NH_ASD_6p, NH_ASD_6p_def, on = ['delegate name','delegate_state','sign'], how = 'outer')\n",
    "NH_ASD_agg = pd.merge(NH_ASD_agg, NH_ASD_3p, on = ['delegate name','delegate_state','sign'], how = 'outer')\n",
    "NH_ASD_agg.head()"
   ]
  },
  {
   "cell_type": "code",
   "execution_count": 30,
   "metadata": {
    "pycharm": {
     "name": "#%%\n"
    }
   },
   "outputs": [],
   "source": [
    "cumulative_ASD = pd.concat([NH_ASD_agg, cumulative_ASD])"
   ]
  },
  {
   "cell_type": "markdown",
   "metadata": {
    "pycharm": {
     "name": "#%% md\n"
    }
   },
   "source": [
    "# New York Assumed Debt Dataset Matching"
   ]
  },
  {
   "cell_type": "code",
   "execution_count": 31,
   "metadata": {
    "pycharm": {
     "name": "#%%\n"
    }
   },
   "outputs": [],
   "source": [
    "#prepare loan dataset\n",
    "NY_ASD = pd.read_excel(\"../Data/Post1790/NY/NY_1790_ASD.xlsx\", header = 11, usecols = 'H, I, M, N, X, Y, AC, AD, AM, AN, AR, AS')\n",
    "NY_ASD.columns = ['First Name', 'Last Name', '6p_Dollar', '6p_Cents', 'First Name.1', 'Last Name.1', '6p_def_Dollar', '6p_def_Cents',\n",
    "                  'First Name.2', 'Last Name.2', '3p_Dollar', '3p_Cents']\n",
    "NY_ASD['full name 1'] = NY_ASD['First Name'] + \" \" + NY_ASD['Last Name']\n",
    "NY_ASD['full name 2'] = NY_ASD['First Name.1'] + \" \" + NY_ASD['Last Name.1']\n",
    "NY_ASD['full name 3'] = NY_ASD['First Name.2'] + \" \" + NY_ASD['Last Name.2']"
   ]
  },
  {
   "cell_type": "code",
   "execution_count": 32,
   "metadata": {
    "pycharm": {
     "name": "#%%\n"
    }
   },
   "outputs": [],
   "source": [
    "NY_ASD['index'] = NY_ASD.index\n",
    "\n",
    "NY_ASD_f1 = NY_ASD[['full name 1', '6p_Dollar','6p_Cents',]]\n",
    "NY_ASD_f2 = NY_ASD[['full name 2', '6p_def_Dollar','6p_def_Cents']]\n",
    "NY_ASD_f3 = NY_ASD[['full name 3', '3p_Dollar', '3p_Cents']]"
   ]
  },
  {
   "cell_type": "code",
   "execution_count": 33,
   "metadata": {
    "pycharm": {
     "name": "#%%\n"
    }
   },
   "outputs": [],
   "source": [
    "NY_ASD_6p = pd.merge(total_assets_final, NY_ASD_f1[NY_ASD_f1['full name 1'].apply(lambda x: not pd.isnull(x))],\n",
    "                     left_on = 'match name', right_on = 'full name 1').drop(['full name 1','match name'], axis = 1)\n",
    "NY_ASD_6p_def = pd.merge(total_assets_final, NY_ASD_f2[NY_ASD_f2['full name 2'].apply(lambda x: not pd.isnull(x))],\n",
    "                         left_on = 'match name', right_on = 'full name 2').drop(['full name 2','match name'], axis = 1)\n",
    "NY_ASD_3p = pd.merge(total_assets_final, NY_ASD_f3[NY_ASD_f3['full name 3'].apply(lambda x: not pd.isnull(x))],\n",
    "                         left_on = 'match name', right_on = 'full name 3').drop(['full name 3','match name'], axis = 1)"
   ]
  },
  {
   "cell_type": "code",
   "execution_count": 34,
   "metadata": {
    "pycharm": {
     "name": "#%%\n"
    }
   },
   "outputs": [
    {
     "data": {
      "text/html": [
       "<div>\n",
       "<style scoped>\n",
       "    .dataframe tbody tr th:only-of-type {\n",
       "        vertical-align: middle;\n",
       "    }\n",
       "\n",
       "    .dataframe tbody tr th {\n",
       "        vertical-align: top;\n",
       "    }\n",
       "\n",
       "    .dataframe thead th {\n",
       "        text-align: right;\n",
       "    }\n",
       "</style>\n",
       "<table border=\"1\" class=\"dataframe\">\n",
       "  <thead>\n",
       "    <tr style=\"text-align: right;\">\n",
       "      <th></th>\n",
       "      <th>delegate name</th>\n",
       "      <th>delegate_state</th>\n",
       "      <th>sign</th>\n",
       "      <th>6p_Dollar</th>\n",
       "      <th>6p_Cents</th>\n",
       "      <th>6p_def_Dollar</th>\n",
       "      <th>6p_def_Cents</th>\n",
       "      <th>3p_Dollar</th>\n",
       "      <th>3p_Cents</th>\n",
       "    </tr>\n",
       "  </thead>\n",
       "  <tbody>\n",
       "    <tr>\n",
       "      <td>0</td>\n",
       "      <td>Rufus King</td>\n",
       "      <td>NaN</td>\n",
       "      <td>yes</td>\n",
       "      <td>1357</td>\n",
       "      <td>NaN</td>\n",
       "      <td>678.0</td>\n",
       "      <td>50</td>\n",
       "      <td>1017.0</td>\n",
       "      <td>74.0</td>\n",
       "    </tr>\n",
       "    <tr>\n",
       "      <td>1</td>\n",
       "      <td>Rufus King</td>\n",
       "      <td>NaN</td>\n",
       "      <td>yes</td>\n",
       "      <td>1357</td>\n",
       "      <td>NaN</td>\n",
       "      <td>678.0</td>\n",
       "      <td>50</td>\n",
       "      <td>421.0</td>\n",
       "      <td>60.0</td>\n",
       "    </tr>\n",
       "    <tr>\n",
       "      <td>2</td>\n",
       "      <td>Rufus King</td>\n",
       "      <td>NaN</td>\n",
       "      <td>yes</td>\n",
       "      <td>281</td>\n",
       "      <td>0.0</td>\n",
       "      <td>678.0</td>\n",
       "      <td>50</td>\n",
       "      <td>1017.0</td>\n",
       "      <td>74.0</td>\n",
       "    </tr>\n",
       "    <tr>\n",
       "      <td>3</td>\n",
       "      <td>Rufus King</td>\n",
       "      <td>NaN</td>\n",
       "      <td>yes</td>\n",
       "      <td>281</td>\n",
       "      <td>0.0</td>\n",
       "      <td>678.0</td>\n",
       "      <td>50</td>\n",
       "      <td>421.0</td>\n",
       "      <td>60.0</td>\n",
       "    </tr>\n",
       "    <tr>\n",
       "      <td>4</td>\n",
       "      <td>Rufus King</td>\n",
       "      <td>MA</td>\n",
       "      <td>yes</td>\n",
       "      <td>1357</td>\n",
       "      <td>NaN</td>\n",
       "      <td>678.0</td>\n",
       "      <td>50</td>\n",
       "      <td>1017.0</td>\n",
       "      <td>74.0</td>\n",
       "    </tr>\n",
       "  </tbody>\n",
       "</table>\n",
       "</div>"
      ],
      "text/plain": [
       "  delegate name delegate_state sign 6p_Dollar  6p_Cents  6p_def_Dollar  \\\n",
       "0    Rufus King            NaN  yes      1357       NaN          678.0   \n",
       "1    Rufus King            NaN  yes      1357       NaN          678.0   \n",
       "2    Rufus King            NaN  yes       281       0.0          678.0   \n",
       "3    Rufus King            NaN  yes       281       0.0          678.0   \n",
       "4    Rufus King             MA  yes      1357       NaN          678.0   \n",
       "\n",
       "  6p_def_Cents  3p_Dollar  3p_Cents  \n",
       "0           50     1017.0      74.0  \n",
       "1           50      421.0      60.0  \n",
       "2           50     1017.0      74.0  \n",
       "3           50      421.0      60.0  \n",
       "4           50     1017.0      74.0  "
      ]
     },
     "execution_count": 34,
     "metadata": {},
     "output_type": "execute_result"
    }
   ],
   "source": [
    "NY_ASD_agg = pd.merge(NY_ASD_6p, NY_ASD_6p_def, on = ['delegate name','delegate_state','sign'], how = 'outer')\n",
    "NY_ASD_agg = pd.merge(NY_ASD_agg, NY_ASD_3p, on = ['delegate name','delegate_state','sign'], how = 'outer')\n",
    "NY_ASD_agg.head()"
   ]
  },
  {
   "cell_type": "code",
   "execution_count": 35,
   "metadata": {
    "pycharm": {
     "name": "#%%\n"
    }
   },
   "outputs": [],
   "source": [
    "cumulative_ASD = pd.concat([NY_ASD_agg, cumulative_ASD])"
   ]
  },
  {
   "cell_type": "markdown",
   "metadata": {
    "pycharm": {
     "name": "#%% md\n"
    }
   },
   "source": [
    "# Rhode Island Assumed Debt Dataset Matching"
   ]
  },
  {
   "cell_type": "code",
   "execution_count": 36,
   "metadata": {
    "pycharm": {
     "name": "#%%\n"
    }
   },
   "outputs": [],
   "source": [
    "#prepare loan dataset\n",
    "RI_ASD = pd.read_excel(\"../Data/Post1790/RI/T653_Rhode_Island_ASD.xlsx\", header = 11, usecols = 'H, I, N, O, X, Y, AD, AE, AN, AO, AT, AU')\n",
    "RI_ASD.columns = ['First Name', 'Last Name', '6p_Dollar', '6p_Cents', 'First Name.1', 'Last Name.1', '6p_def_Dollar', '6p_def_Cents',\n",
    "                  'First Name.2', 'Last Name.2', '3p_Dollar', '3p_Cents']\n",
    "RI_ASD['full name 1'] = RI_ASD['First Name'] + \" \" + RI_ASD['Last Name']\n",
    "RI_ASD['full name 2'] = RI_ASD['First Name.1'] + \" \" + RI_ASD['Last Name.1']\n",
    "RI_ASD['full name 3'] = RI_ASD['First Name.2'] + \" \" + RI_ASD['Last Name.2']"
   ]
  },
  {
   "cell_type": "code",
   "execution_count": 37,
   "metadata": {
    "pycharm": {
     "name": "#%%\n"
    }
   },
   "outputs": [],
   "source": [
    "RI_ASD['index'] = RI_ASD.index\n",
    "\n",
    "RI_ASD_f1 = RI_ASD[['full name 1', '6p_Dollar','6p_Cents',]]\n",
    "RI_ASD_f2 = RI_ASD[['full name 2', '6p_def_Dollar','6p_def_Cents']]\n",
    "RI_ASD_f3 = RI_ASD[['full name 3', '3p_Dollar', '3p_Cents']]"
   ]
  },
  {
   "cell_type": "code",
   "execution_count": 38,
   "metadata": {
    "pycharm": {
     "name": "#%%\n"
    }
   },
   "outputs": [],
   "source": [
    "RI_ASD_6p = pd.merge(total_assets_final, RI_ASD_f1[RI_ASD_f1['full name 1'].apply(lambda x: not pd.isnull(x))],\n",
    "                     left_on = 'match name', right_on = 'full name 1').drop(['full name 1','match name'], axis = 1)\n",
    "RI_ASD_6p_def = pd.merge(total_assets_final, RI_ASD_f2[RI_ASD_f2['full name 2'].apply(lambda x: not pd.isnull(x))],\n",
    "                         left_on = 'match name', right_on = 'full name 2').drop(['full name 2','match name'], axis = 1)\n",
    "RI_ASD_3p = pd.merge(total_assets_final, RI_ASD_f3[RI_ASD_f3['full name 3'].apply(lambda x: not pd.isnull(x))],\n",
    "                         left_on = 'match name', right_on = 'full name 3').drop(['full name 3','match name'], axis = 1)"
   ]
  },
  {
   "cell_type": "code",
   "execution_count": 39,
   "metadata": {
    "pycharm": {
     "name": "#%%\n"
    }
   },
   "outputs": [
    {
     "data": {
      "text/html": [
       "<div>\n",
       "<style scoped>\n",
       "    .dataframe tbody tr th:only-of-type {\n",
       "        vertical-align: middle;\n",
       "    }\n",
       "\n",
       "    .dataframe tbody tr th {\n",
       "        vertical-align: top;\n",
       "    }\n",
       "\n",
       "    .dataframe thead th {\n",
       "        text-align: right;\n",
       "    }\n",
       "</style>\n",
       "<table border=\"1\" class=\"dataframe\">\n",
       "  <thead>\n",
       "    <tr style=\"text-align: right;\">\n",
       "      <th></th>\n",
       "      <th>delegate name</th>\n",
       "      <th>delegate_state</th>\n",
       "      <th>sign</th>\n",
       "      <th>6p_Dollar</th>\n",
       "      <th>6p_Cents</th>\n",
       "      <th>6p_def_Dollar</th>\n",
       "      <th>6p_def_Cents</th>\n",
       "      <th>3p_Dollar</th>\n",
       "      <th>3p_Cents</th>\n",
       "    </tr>\n",
       "  </thead>\n",
       "  <tbody>\n",
       "    <tr>\n",
       "      <td>0</td>\n",
       "      <td>Benjamin Hall</td>\n",
       "      <td>MD</td>\n",
       "      <td>yes</td>\n",
       "      <td>405.0</td>\n",
       "      <td>2.0</td>\n",
       "      <td>202.0</td>\n",
       "      <td>50.0</td>\n",
       "      <td>303.0</td>\n",
       "      <td>76.0</td>\n",
       "    </tr>\n",
       "    <tr>\n",
       "      <td>1</td>\n",
       "      <td>Thomas Allen</td>\n",
       "      <td>VA</td>\n",
       "      <td>no</td>\n",
       "      <td>12.0</td>\n",
       "      <td>64.0</td>\n",
       "      <td>6.0</td>\n",
       "      <td>32.0</td>\n",
       "      <td>9.0</td>\n",
       "      <td>47.0</td>\n",
       "    </tr>\n",
       "    <tr>\n",
       "      <td>2</td>\n",
       "      <td>Allen Thomas</td>\n",
       "      <td>RI</td>\n",
       "      <td>yes</td>\n",
       "      <td>12.0</td>\n",
       "      <td>64.0</td>\n",
       "      <td>6.0</td>\n",
       "      <td>32.0</td>\n",
       "      <td>9.0</td>\n",
       "      <td>47.0</td>\n",
       "    </tr>\n",
       "    <tr>\n",
       "      <td>3</td>\n",
       "      <td>John Smith</td>\n",
       "      <td>NY</td>\n",
       "      <td>yes</td>\n",
       "      <td>2271.0</td>\n",
       "      <td>93.0</td>\n",
       "      <td>1135.0</td>\n",
       "      <td>96.0</td>\n",
       "      <td>1703.0</td>\n",
       "      <td>94.0</td>\n",
       "    </tr>\n",
       "    <tr>\n",
       "      <td>4</td>\n",
       "      <td>John K. Smith</td>\n",
       "      <td>MA</td>\n",
       "      <td>yes</td>\n",
       "      <td>2271.0</td>\n",
       "      <td>93.0</td>\n",
       "      <td>1135.0</td>\n",
       "      <td>96.0</td>\n",
       "      <td>1703.0</td>\n",
       "      <td>94.0</td>\n",
       "    </tr>\n",
       "  </tbody>\n",
       "</table>\n",
       "</div>"
      ],
      "text/plain": [
       "   delegate name delegate_state sign  6p_Dollar  6p_Cents  6p_def_Dollar  \\\n",
       "0  Benjamin Hall             MD  yes      405.0       2.0          202.0   \n",
       "1   Thomas Allen             VA   no       12.0      64.0            6.0   \n",
       "2   Allen Thomas             RI  yes       12.0      64.0            6.0   \n",
       "3     John Smith             NY  yes     2271.0      93.0         1135.0   \n",
       "4  John K. Smith             MA  yes     2271.0      93.0         1135.0   \n",
       "\n",
       "   6p_def_Cents  3p_Dollar  3p_Cents  \n",
       "0          50.0      303.0      76.0  \n",
       "1          32.0        9.0      47.0  \n",
       "2          32.0        9.0      47.0  \n",
       "3          96.0     1703.0      94.0  \n",
       "4          96.0     1703.0      94.0  "
      ]
     },
     "execution_count": 39,
     "metadata": {},
     "output_type": "execute_result"
    }
   ],
   "source": [
    "RI_ASD_agg = pd.merge(RI_ASD_6p, RI_ASD_6p_def, on = ['delegate name','delegate_state','sign'], how = 'outer')\n",
    "RI_ASD_agg = pd.merge(RI_ASD_agg, RI_ASD_3p, on = ['delegate name','delegate_state','sign'], how = 'outer')\n",
    "RI_ASD_agg.head()"
   ]
  },
  {
   "cell_type": "code",
   "execution_count": 40,
   "metadata": {
    "pycharm": {
     "name": "#%%\n"
    }
   },
   "outputs": [],
   "source": [
    "cumulative_ASD = pd.concat([RI_ASD_agg, cumulative_ASD])"
   ]
  },
  {
   "cell_type": "markdown",
   "metadata": {
    "pycharm": {
     "name": "#%% md\n"
    }
   },
   "source": [
    "# South Carolina Assumed Debt Dataset Matching"
   ]
  },
  {
   "cell_type": "code",
   "execution_count": 41,
   "metadata": {
    "pycharm": {
     "name": "#%%\n"
    }
   },
   "outputs": [],
   "source": [
    "#prepare loan dataset\n",
    "SC_ASD = pd.read_excel(\"../Data/Post1790/SC/Post_1790_South_Carolina_ASD_transfers_removed.xlsx\", header = 11, usecols = 'D, E, M, N, O')\n",
    "SC_ASD.columns = ['First Name', 'Last Name', '6p_Dollar', '6p_def_Dollar','3p_Dollar']\n",
    "SC_ASD['full name 1'] = SC_ASD['First Name'] + \" \" + SC_ASD['Last Name']"
   ]
  },
  {
   "cell_type": "code",
   "execution_count": 42,
   "metadata": {
    "pycharm": {
     "name": "#%%\n"
    }
   },
   "outputs": [],
   "source": [
    "SC_ASD['6p_Cents'] = SC_ASD['6p_Dollar'] % 1\n",
    "SC_ASD['6p_Dollar'] = np.floor(SC_ASD['6p_Dollar'])\n",
    "SC_ASD['6p_def_Cents'] = SC_ASD['6p_def_Dollar'] % 1\n",
    "SC_ASD['6p_def_Dollar'] = np.floor(SC_ASD['6p_def_Dollar'])\n",
    "SC_ASD['3p_Cents'] = SC_ASD['3p_Dollar'] % 1\n",
    "SC_ASD['3p_Dollar'] = np.floor(SC_ASD['3p_Dollar'])"
   ]
  },
  {
   "cell_type": "code",
   "execution_count": 43,
   "metadata": {
    "pycharm": {
     "name": "#%%\n"
    }
   },
   "outputs": [],
   "source": [
    "SC_ASD_f = SC_ASD[['full name 1', '6p_Dollar', '6p_Cents', '6p_def_Dollar', '6p_def_Cents', '3p_Dollar', '3p_Cents']]"
   ]
  },
  {
   "cell_type": "code",
   "execution_count": 44,
   "metadata": {
    "pycharm": {
     "name": "#%%\n"
    }
   },
   "outputs": [],
   "source": [
    "SC_ASD_agg = pd.merge(total_assets_final, SC_ASD_f[SC_ASD_f['full name 1'].apply(lambda x: not pd.isnull(x))],\n",
    "                     left_on = 'match name', right_on = 'full name 1').drop(['full name 1', 'match name'], axis = 1)"
   ]
  },
  {
   "cell_type": "code",
   "execution_count": 45,
   "metadata": {
    "pycharm": {
     "name": "#%%\n"
    }
   },
   "outputs": [
    {
     "data": {
      "text/html": [
       "<div>\n",
       "<style scoped>\n",
       "    .dataframe tbody tr th:only-of-type {\n",
       "        vertical-align: middle;\n",
       "    }\n",
       "\n",
       "    .dataframe tbody tr th {\n",
       "        vertical-align: top;\n",
       "    }\n",
       "\n",
       "    .dataframe thead th {\n",
       "        text-align: right;\n",
       "    }\n",
       "</style>\n",
       "<table border=\"1\" class=\"dataframe\">\n",
       "  <thead>\n",
       "    <tr style=\"text-align: right;\">\n",
       "      <th></th>\n",
       "      <th>delegate name</th>\n",
       "      <th>delegate_state</th>\n",
       "      <th>sign</th>\n",
       "      <th>6p_Dollar</th>\n",
       "      <th>6p_Cents</th>\n",
       "      <th>6p_def_Dollar</th>\n",
       "      <th>6p_def_Cents</th>\n",
       "      <th>3p_Dollar</th>\n",
       "      <th>3p_Cents</th>\n",
       "    </tr>\n",
       "  </thead>\n",
       "  <tbody>\n",
       "    <tr>\n",
       "      <td>0</td>\n",
       "      <td>Robert Morris</td>\n",
       "      <td>NaN</td>\n",
       "      <td>yes</td>\n",
       "      <td>1767.0</td>\n",
       "      <td>0.875556</td>\n",
       "      <td>883.0</td>\n",
       "      <td>0.937778</td>\n",
       "      <td>1325.0</td>\n",
       "      <td>0.906667</td>\n",
       "    </tr>\n",
       "    <tr>\n",
       "      <td>1</td>\n",
       "      <td>Thomas Fitzsimons</td>\n",
       "      <td>NaN</td>\n",
       "      <td>yes</td>\n",
       "      <td>1010.0</td>\n",
       "      <td>0.933333</td>\n",
       "      <td>505.0</td>\n",
       "      <td>0.466667</td>\n",
       "      <td>758.0</td>\n",
       "      <td>0.200000</td>\n",
       "    </tr>\n",
       "    <tr>\n",
       "      <td>2</td>\n",
       "      <td>John Rutledge</td>\n",
       "      <td>NaN</td>\n",
       "      <td>yes</td>\n",
       "      <td>579.0</td>\n",
       "      <td>0.280000</td>\n",
       "      <td>289.0</td>\n",
       "      <td>0.630000</td>\n",
       "      <td>434.0</td>\n",
       "      <td>0.450000</td>\n",
       "    </tr>\n",
       "    <tr>\n",
       "      <td>3</td>\n",
       "      <td>John Rutledge</td>\n",
       "      <td>SC</td>\n",
       "      <td>yes</td>\n",
       "      <td>579.0</td>\n",
       "      <td>0.280000</td>\n",
       "      <td>289.0</td>\n",
       "      <td>0.630000</td>\n",
       "      <td>434.0</td>\n",
       "      <td>0.450000</td>\n",
       "    </tr>\n",
       "    <tr>\n",
       "      <td>4</td>\n",
       "      <td>Daniel Hall</td>\n",
       "      <td>CT</td>\n",
       "      <td>no</td>\n",
       "      <td>2072.0</td>\n",
       "      <td>0.160000</td>\n",
       "      <td>1036.0</td>\n",
       "      <td>0.700000</td>\n",
       "      <td>1554.0</td>\n",
       "      <td>0.110000</td>\n",
       "    </tr>\n",
       "  </tbody>\n",
       "</table>\n",
       "</div>"
      ],
      "text/plain": [
       "       delegate name delegate_state sign  6p_Dollar  6p_Cents  6p_def_Dollar  \\\n",
       "0      Robert Morris            NaN  yes     1767.0  0.875556          883.0   \n",
       "1  Thomas Fitzsimons            NaN  yes     1010.0  0.933333          505.0   \n",
       "2      John Rutledge            NaN  yes      579.0  0.280000          289.0   \n",
       "3      John Rutledge             SC  yes      579.0  0.280000          289.0   \n",
       "4        Daniel Hall             CT   no     2072.0  0.160000         1036.0   \n",
       "\n",
       "   6p_def_Cents  3p_Dollar  3p_Cents  \n",
       "0      0.937778     1325.0  0.906667  \n",
       "1      0.466667      758.0  0.200000  \n",
       "2      0.630000      434.0  0.450000  \n",
       "3      0.630000      434.0  0.450000  \n",
       "4      0.700000     1554.0  0.110000  "
      ]
     },
     "execution_count": 45,
     "metadata": {},
     "output_type": "execute_result"
    }
   ],
   "source": [
    "SC_ASD_agg.head()"
   ]
  },
  {
   "cell_type": "code",
   "execution_count": 46,
   "metadata": {
    "pycharm": {
     "name": "#%%\n"
    }
   },
   "outputs": [],
   "source": [
    "cumulative_ASD = pd.concat([SC_ASD_agg, cumulative_ASD])"
   ]
  },
  {
   "cell_type": "markdown",
   "metadata": {
    "pycharm": {
     "name": "#%% md\n"
    }
   },
   "source": [
    "# Virginia Assumed Debt Dataset Matching"
   ]
  },
  {
   "cell_type": "code",
   "execution_count": 47,
   "metadata": {
    "pycharm": {
     "name": "#%%\n"
    }
   },
   "outputs": [],
   "source": [
    "#prepare loan dataset\n",
    "VA_ASD = pd.read_excel(\"../Data/Post1790/VA/VA_ASD.xlsx\", header = 11, usecols = 'D, E, N, O, U, V, AE, AF, AL, AM, AW, AX')\n",
    "VA_ASD.columns = ['First Name', 'Last Name', '6p_Dollar', '6p_Cents', 'First Name.1', 'Last Name.1', '6p_def_Dollar', '6p_def_Cents',\n",
    "                  'First Name.2', 'Last Name.2', '3p_Dollar', '3p_Cents']\n",
    "VA_ASD['full name 1'] = VA_ASD['First Name'] + \" \" + VA_ASD['Last Name']\n",
    "VA_ASD['full name 2'] = VA_ASD['First Name.1'] + \" \" + VA_ASD['Last Name.1']\n",
    "VA_ASD['full name 3'] = VA_ASD['First Name.2'] + \" \" + VA_ASD['Last Name.2']"
   ]
  },
  {
   "cell_type": "code",
   "execution_count": 48,
   "metadata": {
    "pycharm": {
     "name": "#%%\n"
    }
   },
   "outputs": [],
   "source": [
    "VA_ASD['index'] = VA_ASD.index\n",
    "\n",
    "VA_ASD_f1 = VA_ASD[['full name 1', '6p_Dollar','6p_Cents',]]\n",
    "VA_ASD_f2 = VA_ASD[['full name 2', '6p_def_Dollar','6p_def_Cents']]\n",
    "VA_ASD_f3 = VA_ASD[['full name 3', '3p_Dollar', '3p_Cents']]"
   ]
  },
  {
   "cell_type": "code",
   "execution_count": 49,
   "metadata": {
    "pycharm": {
     "name": "#%%\n"
    }
   },
   "outputs": [],
   "source": [
    "VA_ASD_6p = pd.merge(total_assets_final, VA_ASD_f1[VA_ASD_f1['full name 1'].apply(lambda x: not pd.isnull(x))],\n",
    "                     left_on = 'match name', right_on = 'full name 1').drop(['full name 1','match name'], axis = 1)\n",
    "VA_ASD_6p_def = pd.merge(total_assets_final, VA_ASD_f2[VA_ASD_f2['full name 2'].apply(lambda x: not pd.isnull(x))],\n",
    "                         left_on = 'match name', right_on = 'full name 2').drop(['full name 2','match name'], axis = 1)\n",
    "VA_ASD_3p = pd.merge(total_assets_final, VA_ASD_f3[VA_ASD_f3['full name 3'].apply(lambda x: not pd.isnull(x))],\n",
    "                         left_on = 'match name', right_on = 'full name 3').drop(['full name 3','match name'], axis = 1)"
   ]
  },
  {
   "cell_type": "code",
   "execution_count": 50,
   "metadata": {
    "pycharm": {
     "name": "#%%\n"
    }
   },
   "outputs": [
    {
     "data": {
      "text/html": [
       "<div>\n",
       "<style scoped>\n",
       "    .dataframe tbody tr th:only-of-type {\n",
       "        vertical-align: middle;\n",
       "    }\n",
       "\n",
       "    .dataframe tbody tr th {\n",
       "        vertical-align: top;\n",
       "    }\n",
       "\n",
       "    .dataframe thead th {\n",
       "        text-align: right;\n",
       "    }\n",
       "</style>\n",
       "<table border=\"1\" class=\"dataframe\">\n",
       "  <thead>\n",
       "    <tr style=\"text-align: right;\">\n",
       "      <th></th>\n",
       "      <th>delegate name</th>\n",
       "      <th>delegate_state</th>\n",
       "      <th>sign</th>\n",
       "      <th>6p_Dollar</th>\n",
       "      <th>6p_Cents</th>\n",
       "      <th>6p_def_Dollar</th>\n",
       "      <th>6p_def_Cents</th>\n",
       "      <th>3p_Dollar</th>\n",
       "      <th>3p_Cents</th>\n",
       "    </tr>\n",
       "  </thead>\n",
       "  <tbody>\n",
       "    <tr>\n",
       "      <td>0</td>\n",
       "      <td>John Blair</td>\n",
       "      <td>NaN</td>\n",
       "      <td>yes</td>\n",
       "      <td>4229.0</td>\n",
       "      <td>97.0</td>\n",
       "      <td>2114.0</td>\n",
       "      <td>99.0</td>\n",
       "      <td>3172.0</td>\n",
       "      <td>48.0</td>\n",
       "    </tr>\n",
       "    <tr>\n",
       "      <td>1</td>\n",
       "      <td>John Blair</td>\n",
       "      <td>NaN</td>\n",
       "      <td>yes</td>\n",
       "      <td>4229.0</td>\n",
       "      <td>97.0</td>\n",
       "      <td>2114.0</td>\n",
       "      <td>99.0</td>\n",
       "      <td>642.0</td>\n",
       "      <td>3.0</td>\n",
       "    </tr>\n",
       "    <tr>\n",
       "      <td>2</td>\n",
       "      <td>John Blair</td>\n",
       "      <td>NaN</td>\n",
       "      <td>yes</td>\n",
       "      <td>4229.0</td>\n",
       "      <td>97.0</td>\n",
       "      <td>428.0</td>\n",
       "      <td>2.0</td>\n",
       "      <td>3172.0</td>\n",
       "      <td>48.0</td>\n",
       "    </tr>\n",
       "    <tr>\n",
       "      <td>3</td>\n",
       "      <td>John Blair</td>\n",
       "      <td>NaN</td>\n",
       "      <td>yes</td>\n",
       "      <td>4229.0</td>\n",
       "      <td>97.0</td>\n",
       "      <td>428.0</td>\n",
       "      <td>2.0</td>\n",
       "      <td>642.0</td>\n",
       "      <td>3.0</td>\n",
       "    </tr>\n",
       "    <tr>\n",
       "      <td>4</td>\n",
       "      <td>John Blair</td>\n",
       "      <td>NaN</td>\n",
       "      <td>yes</td>\n",
       "      <td>856.0</td>\n",
       "      <td>4.0</td>\n",
       "      <td>2114.0</td>\n",
       "      <td>99.0</td>\n",
       "      <td>3172.0</td>\n",
       "      <td>48.0</td>\n",
       "    </tr>\n",
       "  </tbody>\n",
       "</table>\n",
       "</div>"
      ],
      "text/plain": [
       "  delegate name delegate_state sign  6p_Dollar  6p_Cents  6p_def_Dollar  \\\n",
       "0    John Blair            NaN  yes     4229.0      97.0         2114.0   \n",
       "1    John Blair            NaN  yes     4229.0      97.0         2114.0   \n",
       "2    John Blair            NaN  yes     4229.0      97.0          428.0   \n",
       "3    John Blair            NaN  yes     4229.0      97.0          428.0   \n",
       "4    John Blair            NaN  yes      856.0       4.0         2114.0   \n",
       "\n",
       "   6p_def_Cents  3p_Dollar  3p_Cents  \n",
       "0          99.0     3172.0      48.0  \n",
       "1          99.0      642.0       3.0  \n",
       "2           2.0     3172.0      48.0  \n",
       "3           2.0      642.0       3.0  \n",
       "4          99.0     3172.0      48.0  "
      ]
     },
     "execution_count": 50,
     "metadata": {},
     "output_type": "execute_result"
    }
   ],
   "source": [
    "VA_ASD_agg = pd.merge(VA_ASD_6p, VA_ASD_6p_def, on = ['delegate name','delegate_state','sign'], how = 'outer')\n",
    "VA_ASD_agg = pd.merge(VA_ASD_agg, VA_ASD_3p, on = ['delegate name','delegate_state','sign'], how = 'outer')\n",
    "VA_ASD_agg.head()"
   ]
  },
  {
   "cell_type": "code",
   "execution_count": 51,
   "metadata": {
    "pycharm": {
     "name": "#%%\n"
    }
   },
   "outputs": [],
   "source": [
    "cumulative_ASD = pd.concat([VA_ASD_agg, cumulative_ASD])"
   ]
  },
  {
   "cell_type": "markdown",
   "metadata": {
    "pycharm": {
     "name": "#%% md\n"
    }
   },
   "source": [
    "# Assembling Cumulative Assumed State Debt File"
   ]
  },
  {
   "cell_type": "code",
   "execution_count": 52,
   "metadata": {
    "pycharm": {
     "name": "#%%\n"
    }
   },
   "outputs": [],
   "source": [
    "cumulative_ASD['delegate_state'] = cumulative_ASD['delegate_state'].apply(lambda x: 'Constitution' if pd.isnull(x) else x)"
   ]
  },
  {
   "cell_type": "code",
   "execution_count": 53,
   "metadata": {
    "pycharm": {
     "name": "#%%\n"
    }
   },
   "outputs": [],
   "source": [
    "cumulative_ASD_assets = pd.merge(cum_firstlast, cumulative_ASD, left_on = 'Full Name', right_on = 'delegate name').drop('Full Name', axis = 1).drop_duplicates()"
   ]
  },
  {
   "cell_type": "code",
   "execution_count": 54,
   "metadata": {
    "pycharm": {
     "name": "#%%\n"
    }
   },
   "outputs": [],
   "source": [
    "cumulative_ASD_assets = cumulative_ASD_assets.rename(columns = {'6p_Dollar':'ASD_6p_Dollar', '6p_Cents':'ASD_6p_Cents','6p_def_Dollar':'ASD_6p_def_Dollar', \n",
    "                                                                '6p_def_Cents':'ASD_6p_def_Cents', '3p_Dollar':'ASD_3p_Dollar','3p_Cents':'ASD_3p_Cents'})"
   ]
  },
  {
   "cell_type": "code",
   "execution_count": 55,
   "metadata": {
    "pycharm": {
     "name": "#%%\n"
    }
   },
   "outputs": [],
   "source": [
    "spec_index = cumulative_ASD_assets[cumulative_ASD_assets['ASD_6p_def_Cents'].apply(lambda x: type(x) == str)].index\n",
    "cumulative_ASD_assets.loc[spec_index, ['ASD_6p_def_Cents']] = 0"
   ]
  },
  {
   "cell_type": "code",
   "execution_count": 56,
   "metadata": {
    "pycharm": {
     "name": "#%%\n"
    }
   },
   "outputs": [],
   "source": [
    "cumulative_ASD_assets_agg = cumulative_ASD_assets.groupby(['delegate name', 'First Name', 'Last Name',  'delegate_state', 'sign'])[['ASD_6p_Dollar','ASD_6p_Cents','ASD_6p_def_Dollar','ASD_6p_def_Cents','ASD_3p_Dollar','ASD_3p_Cents']].agg(['sum','count'])\n",
    "cumulative_ASD_assets_agg.sort_values('Last Name', inplace = True)"
   ]
  },
  {
   "cell_type": "code",
   "execution_count": 57,
   "metadata": {
    "pycharm": {
     "name": "#%%\n"
    }
   },
   "outputs": [
    {
     "data": {
      "text/html": [
       "<div>\n",
       "<style scoped>\n",
       "    .dataframe tbody tr th:only-of-type {\n",
       "        vertical-align: middle;\n",
       "    }\n",
       "\n",
       "    .dataframe tbody tr th {\n",
       "        vertical-align: top;\n",
       "    }\n",
       "\n",
       "    .dataframe thead tr th {\n",
       "        text-align: left;\n",
       "    }\n",
       "\n",
       "    .dataframe thead tr:last-of-type th {\n",
       "        text-align: right;\n",
       "    }\n",
       "</style>\n",
       "<table border=\"1\" class=\"dataframe\">\n",
       "  <thead>\n",
       "    <tr>\n",
       "      <th></th>\n",
       "      <th></th>\n",
       "      <th></th>\n",
       "      <th></th>\n",
       "      <th></th>\n",
       "      <th colspan=\"2\" halign=\"left\">ASD_6p_Dollar</th>\n",
       "      <th colspan=\"2\" halign=\"left\">ASD_6p_Cents</th>\n",
       "      <th colspan=\"2\" halign=\"left\">ASD_6p_def_Dollar</th>\n",
       "      <th colspan=\"2\" halign=\"left\">ASD_6p_def_Cents</th>\n",
       "      <th colspan=\"2\" halign=\"left\">ASD_3p_Dollar</th>\n",
       "      <th colspan=\"2\" halign=\"left\">ASD_3p_Cents</th>\n",
       "    </tr>\n",
       "    <tr>\n",
       "      <th></th>\n",
       "      <th></th>\n",
       "      <th></th>\n",
       "      <th></th>\n",
       "      <th></th>\n",
       "      <th>sum</th>\n",
       "      <th>count</th>\n",
       "      <th>sum</th>\n",
       "      <th>count</th>\n",
       "      <th>sum</th>\n",
       "      <th>count</th>\n",
       "      <th>sum</th>\n",
       "      <th>count</th>\n",
       "      <th>sum</th>\n",
       "      <th>count</th>\n",
       "      <th>sum</th>\n",
       "      <th>count</th>\n",
       "    </tr>\n",
       "    <tr>\n",
       "      <th>delegate name</th>\n",
       "      <th>First Name</th>\n",
       "      <th>Last Name</th>\n",
       "      <th>delegate_state</th>\n",
       "      <th>sign</th>\n",
       "      <th></th>\n",
       "      <th></th>\n",
       "      <th></th>\n",
       "      <th></th>\n",
       "      <th></th>\n",
       "      <th></th>\n",
       "      <th></th>\n",
       "      <th></th>\n",
       "      <th></th>\n",
       "      <th></th>\n",
       "      <th></th>\n",
       "      <th></th>\n",
       "    </tr>\n",
       "  </thead>\n",
       "  <tbody>\n",
       "    <tr>\n",
       "      <td>Samuel Adams</td>\n",
       "      <td>Samuel</td>\n",
       "      <td>Adams</td>\n",
       "      <td>MA</td>\n",
       "      <td>yes</td>\n",
       "      <td>0.0</td>\n",
       "      <td>0</td>\n",
       "      <td>0.0</td>\n",
       "      <td>0</td>\n",
       "      <td>231.0</td>\n",
       "      <td>1</td>\n",
       "      <td>26.0</td>\n",
       "      <td>1</td>\n",
       "      <td>0.0</td>\n",
       "      <td>0</td>\n",
       "      <td>0.0</td>\n",
       "      <td>0</td>\n",
       "    </tr>\n",
       "    <tr>\n",
       "      <td>Matthew Adgate</td>\n",
       "      <td>Matthew</td>\n",
       "      <td>Adgate</td>\n",
       "      <td>NY</td>\n",
       "      <td>no</td>\n",
       "      <td>129.0</td>\n",
       "      <td>1</td>\n",
       "      <td>39.0</td>\n",
       "      <td>1</td>\n",
       "      <td>64.0</td>\n",
       "      <td>1</td>\n",
       "      <td>69.0</td>\n",
       "      <td>1</td>\n",
       "      <td>0.0</td>\n",
       "      <td>0</td>\n",
       "      <td>0.0</td>\n",
       "      <td>0</td>\n",
       "    </tr>\n",
       "    <tr>\n",
       "      <td>Thomas Allen</td>\n",
       "      <td>Thomas</td>\n",
       "      <td>Allen</td>\n",
       "      <td>VA</td>\n",
       "      <td>no</td>\n",
       "      <td>12.0</td>\n",
       "      <td>1</td>\n",
       "      <td>64.0</td>\n",
       "      <td>1</td>\n",
       "      <td>6.0</td>\n",
       "      <td>1</td>\n",
       "      <td>32.0</td>\n",
       "      <td>1</td>\n",
       "      <td>9.0</td>\n",
       "      <td>1</td>\n",
       "      <td>47.0</td>\n",
       "      <td>1</td>\n",
       "    </tr>\n",
       "    <tr>\n",
       "      <td>John  Allen</td>\n",
       "      <td>John</td>\n",
       "      <td>Allen</td>\n",
       "      <td>VA</td>\n",
       "      <td>yes</td>\n",
       "      <td>26.0</td>\n",
       "      <td>1</td>\n",
       "      <td>42.0</td>\n",
       "      <td>1</td>\n",
       "      <td>13.0</td>\n",
       "      <td>1</td>\n",
       "      <td>20.0</td>\n",
       "      <td>1</td>\n",
       "      <td>19.0</td>\n",
       "      <td>1</td>\n",
       "      <td>81.0</td>\n",
       "      <td>1</td>\n",
       "    </tr>\n",
       "    <tr>\n",
       "      <td>John Allen</td>\n",
       "      <td>John</td>\n",
       "      <td>Allen</td>\n",
       "      <td>NC</td>\n",
       "      <td>yes</td>\n",
       "      <td>26.0</td>\n",
       "      <td>1</td>\n",
       "      <td>42.0</td>\n",
       "      <td>1</td>\n",
       "      <td>13.0</td>\n",
       "      <td>1</td>\n",
       "      <td>20.0</td>\n",
       "      <td>1</td>\n",
       "      <td>19.0</td>\n",
       "      <td>1</td>\n",
       "      <td>81.0</td>\n",
       "      <td>1</td>\n",
       "    </tr>\n",
       "    <tr>\n",
       "      <td>...</td>\n",
       "      <td>...</td>\n",
       "      <td>...</td>\n",
       "      <td>...</td>\n",
       "      <td>...</td>\n",
       "      <td>...</td>\n",
       "      <td>...</td>\n",
       "      <td>...</td>\n",
       "      <td>...</td>\n",
       "      <td>...</td>\n",
       "      <td>...</td>\n",
       "      <td>...</td>\n",
       "      <td>...</td>\n",
       "      <td>...</td>\n",
       "      <td>...</td>\n",
       "      <td>...</td>\n",
       "      <td>...</td>\n",
       "    </tr>\n",
       "    <tr>\n",
       "      <td>John Wood</td>\n",
       "      <td>John</td>\n",
       "      <td>Wood</td>\n",
       "      <td>NY</td>\n",
       "      <td>no</td>\n",
       "      <td>160.0</td>\n",
       "      <td>1</td>\n",
       "      <td>27.0</td>\n",
       "      <td>1</td>\n",
       "      <td>80.0</td>\n",
       "      <td>1</td>\n",
       "      <td>13.0</td>\n",
       "      <td>1</td>\n",
       "      <td>120.0</td>\n",
       "      <td>1</td>\n",
       "      <td>19.0</td>\n",
       "      <td>1</td>\n",
       "    </tr>\n",
       "    <tr>\n",
       "      <td>Joseph Wood</td>\n",
       "      <td>Joseph</td>\n",
       "      <td>Wood</td>\n",
       "      <td>MA</td>\n",
       "      <td>yes</td>\n",
       "      <td>104.0</td>\n",
       "      <td>1</td>\n",
       "      <td>47.0</td>\n",
       "      <td>1</td>\n",
       "      <td>52.0</td>\n",
       "      <td>1</td>\n",
       "      <td>23.0</td>\n",
       "      <td>1</td>\n",
       "      <td>0.0</td>\n",
       "      <td>0</td>\n",
       "      <td>0.0</td>\n",
       "      <td>0</td>\n",
       "    </tr>\n",
       "    <tr>\n",
       "      <td>Archibald Woods</td>\n",
       "      <td>Archibald</td>\n",
       "      <td>Woods</td>\n",
       "      <td>VA</td>\n",
       "      <td>yes</td>\n",
       "      <td>231.0</td>\n",
       "      <td>1</td>\n",
       "      <td>3.0</td>\n",
       "      <td>1</td>\n",
       "      <td>115.0</td>\n",
       "      <td>1</td>\n",
       "      <td>51.0</td>\n",
       "      <td>1</td>\n",
       "      <td>0.0</td>\n",
       "      <td>0</td>\n",
       "      <td>0.0</td>\n",
       "      <td>0</td>\n",
       "    </tr>\n",
       "    <tr>\n",
       "      <td rowspan=\"2\" valign=\"top\">George Wythe</td>\n",
       "      <td rowspan=\"2\" valign=\"top\">George</td>\n",
       "      <td rowspan=\"2\" valign=\"top\">Wythe</td>\n",
       "      <td>Constitution</td>\n",
       "      <td>no</td>\n",
       "      <td>760.0</td>\n",
       "      <td>1</td>\n",
       "      <td>19.0</td>\n",
       "      <td>1</td>\n",
       "      <td>380.0</td>\n",
       "      <td>1</td>\n",
       "      <td>10.0</td>\n",
       "      <td>1</td>\n",
       "      <td>570.0</td>\n",
       "      <td>1</td>\n",
       "      <td>14.0</td>\n",
       "      <td>1</td>\n",
       "    </tr>\n",
       "    <tr>\n",
       "      <td>VA</td>\n",
       "      <td>yes</td>\n",
       "      <td>760.0</td>\n",
       "      <td>1</td>\n",
       "      <td>19.0</td>\n",
       "      <td>1</td>\n",
       "      <td>380.0</td>\n",
       "      <td>1</td>\n",
       "      <td>10.0</td>\n",
       "      <td>1</td>\n",
       "      <td>570.0</td>\n",
       "      <td>1</td>\n",
       "      <td>14.0</td>\n",
       "      <td>1</td>\n",
       "    </tr>\n",
       "  </tbody>\n",
       "</table>\n",
       "<p>270 rows × 12 columns</p>\n",
       "</div>"
      ],
      "text/plain": [
       "                                                         ASD_6p_Dollar        \\\n",
       "                                                                   sum count   \n",
       "delegate name   First Name Last Name delegate_state sign                       \n",
       "Samuel Adams    Samuel     Adams     MA             yes            0.0     0   \n",
       "Matthew Adgate  Matthew    Adgate    NY             no           129.0     1   \n",
       "Thomas Allen    Thomas     Allen     VA             no            12.0     1   \n",
       "John  Allen     John       Allen     VA             yes           26.0     1   \n",
       "John Allen      John       Allen     NC             yes           26.0     1   \n",
       "...                                                                ...   ...   \n",
       "John Wood       John       Wood      NY             no           160.0     1   \n",
       "Joseph Wood     Joseph     Wood      MA             yes          104.0     1   \n",
       "Archibald Woods Archibald  Woods     VA             yes          231.0     1   \n",
       "George Wythe    George     Wythe     Constitution   no           760.0     1   \n",
       "                                     VA             yes          760.0     1   \n",
       "\n",
       "                                                         ASD_6p_Cents        \\\n",
       "                                                                  sum count   \n",
       "delegate name   First Name Last Name delegate_state sign                      \n",
       "Samuel Adams    Samuel     Adams     MA             yes           0.0     0   \n",
       "Matthew Adgate  Matthew    Adgate    NY             no           39.0     1   \n",
       "Thomas Allen    Thomas     Allen     VA             no           64.0     1   \n",
       "John  Allen     John       Allen     VA             yes          42.0     1   \n",
       "John Allen      John       Allen     NC             yes          42.0     1   \n",
       "...                                                               ...   ...   \n",
       "John Wood       John       Wood      NY             no           27.0     1   \n",
       "Joseph Wood     Joseph     Wood      MA             yes          47.0     1   \n",
       "Archibald Woods Archibald  Woods     VA             yes           3.0     1   \n",
       "George Wythe    George     Wythe     Constitution   no           19.0     1   \n",
       "                                     VA             yes          19.0     1   \n",
       "\n",
       "                                                         ASD_6p_def_Dollar  \\\n",
       "                                                                       sum   \n",
       "delegate name   First Name Last Name delegate_state sign                     \n",
       "Samuel Adams    Samuel     Adams     MA             yes              231.0   \n",
       "Matthew Adgate  Matthew    Adgate    NY             no                64.0   \n",
       "Thomas Allen    Thomas     Allen     VA             no                 6.0   \n",
       "John  Allen     John       Allen     VA             yes               13.0   \n",
       "John Allen      John       Allen     NC             yes               13.0   \n",
       "...                                                                    ...   \n",
       "John Wood       John       Wood      NY             no                80.0   \n",
       "Joseph Wood     Joseph     Wood      MA             yes               52.0   \n",
       "Archibald Woods Archibald  Woods     VA             yes              115.0   \n",
       "George Wythe    George     Wythe     Constitution   no               380.0   \n",
       "                                     VA             yes              380.0   \n",
       "\n",
       "                                                                \\\n",
       "                                                         count   \n",
       "delegate name   First Name Last Name delegate_state sign         \n",
       "Samuel Adams    Samuel     Adams     MA             yes      1   \n",
       "Matthew Adgate  Matthew    Adgate    NY             no       1   \n",
       "Thomas Allen    Thomas     Allen     VA             no       1   \n",
       "John  Allen     John       Allen     VA             yes      1   \n",
       "John Allen      John       Allen     NC             yes      1   \n",
       "...                                                        ...   \n",
       "John Wood       John       Wood      NY             no       1   \n",
       "Joseph Wood     Joseph     Wood      MA             yes      1   \n",
       "Archibald Woods Archibald  Woods     VA             yes      1   \n",
       "George Wythe    George     Wythe     Constitution   no       1   \n",
       "                                     VA             yes      1   \n",
       "\n",
       "                                                         ASD_6p_def_Cents  \\\n",
       "                                                                      sum   \n",
       "delegate name   First Name Last Name delegate_state sign                    \n",
       "Samuel Adams    Samuel     Adams     MA             yes              26.0   \n",
       "Matthew Adgate  Matthew    Adgate    NY             no               69.0   \n",
       "Thomas Allen    Thomas     Allen     VA             no               32.0   \n",
       "John  Allen     John       Allen     VA             yes              20.0   \n",
       "John Allen      John       Allen     NC             yes              20.0   \n",
       "...                                                                   ...   \n",
       "John Wood       John       Wood      NY             no               13.0   \n",
       "Joseph Wood     Joseph     Wood      MA             yes              23.0   \n",
       "Archibald Woods Archibald  Woods     VA             yes              51.0   \n",
       "George Wythe    George     Wythe     Constitution   no               10.0   \n",
       "                                     VA             yes              10.0   \n",
       "\n",
       "                                                               ASD_3p_Dollar  \\\n",
       "                                                         count           sum   \n",
       "delegate name   First Name Last Name delegate_state sign                       \n",
       "Samuel Adams    Samuel     Adams     MA             yes      1           0.0   \n",
       "Matthew Adgate  Matthew    Adgate    NY             no       1           0.0   \n",
       "Thomas Allen    Thomas     Allen     VA             no       1           9.0   \n",
       "John  Allen     John       Allen     VA             yes      1          19.0   \n",
       "John Allen      John       Allen     NC             yes      1          19.0   \n",
       "...                                                        ...           ...   \n",
       "John Wood       John       Wood      NY             no       1         120.0   \n",
       "Joseph Wood     Joseph     Wood      MA             yes      1           0.0   \n",
       "Archibald Woods Archibald  Woods     VA             yes      1           0.0   \n",
       "George Wythe    George     Wythe     Constitution   no       1         570.0   \n",
       "                                     VA             yes      1         570.0   \n",
       "\n",
       "                                                               ASD_3p_Cents  \\\n",
       "                                                         count          sum   \n",
       "delegate name   First Name Last Name delegate_state sign                      \n",
       "Samuel Adams    Samuel     Adams     MA             yes      0          0.0   \n",
       "Matthew Adgate  Matthew    Adgate    NY             no       0          0.0   \n",
       "Thomas Allen    Thomas     Allen     VA             no       1         47.0   \n",
       "John  Allen     John       Allen     VA             yes      1         81.0   \n",
       "John Allen      John       Allen     NC             yes      1         81.0   \n",
       "...                                                        ...          ...   \n",
       "John Wood       John       Wood      NY             no       1         19.0   \n",
       "Joseph Wood     Joseph     Wood      MA             yes      0          0.0   \n",
       "Archibald Woods Archibald  Woods     VA             yes      0          0.0   \n",
       "George Wythe    George     Wythe     Constitution   no       1         14.0   \n",
       "                                     VA             yes      1         14.0   \n",
       "\n",
       "                                                                \n",
       "                                                         count  \n",
       "delegate name   First Name Last Name delegate_state sign        \n",
       "Samuel Adams    Samuel     Adams     MA             yes      0  \n",
       "Matthew Adgate  Matthew    Adgate    NY             no       0  \n",
       "Thomas Allen    Thomas     Allen     VA             no       1  \n",
       "John  Allen     John       Allen     VA             yes      1  \n",
       "John Allen      John       Allen     NC             yes      1  \n",
       "...                                                        ...  \n",
       "John Wood       John       Wood      NY             no       1  \n",
       "Joseph Wood     Joseph     Wood      MA             yes      0  \n",
       "Archibald Woods Archibald  Woods     VA             yes      0  \n",
       "George Wythe    George     Wythe     Constitution   no       1  \n",
       "                                     VA             yes      1  \n",
       "\n",
       "[270 rows x 12 columns]"
      ]
     },
     "execution_count": 57,
     "metadata": {},
     "output_type": "execute_result"
    }
   ],
   "source": [
    "cumulative_ASD_assets_agg"
   ]
  },
  {
   "cell_type": "markdown",
   "metadata": {
    "pycharm": {
     "name": "#%% md\n"
    }
   },
   "source": [
    "# Connecticut Continental Debt Dataset Matching"
   ]
  },
  {
   "cell_type": "code",
   "execution_count": 58,
   "metadata": {
    "pycharm": {
     "name": "#%%\n"
    }
   },
   "outputs": [],
   "source": [
    "#prepare loan dataset\n",
    "CT_CD = pd.read_excel(\"../Data/Post1790/CT/CT_post1790_CD_ledger.xlsx\", header = 13, usecols = 'H, I, N, O, X, Y, AD, AE, AN, AO, AT, AU')\n",
    "CT_CD.columns = ['First Name', 'Last Name', '6p_Dollar', '6p_Cents', 'First Name.1', 'Last Name.1', '6p_def_Dollar', '6p_def_Cents',\n",
    "                  'First Name.2', 'Last Name.2', '3p_Dollar', '3p_Cents']\n",
    "CT_CD['full name 1'] = CT_CD['First Name'] + \" \" + CT_CD['Last Name']\n",
    "CT_CD['full name 2'] = CT_CD['First Name.1'] + \" \" + CT_CD['Last Name.1']\n",
    "CT_CD['full name 3'] = CT_CD['First Name.2'] + \" \" + CT_CD['Last Name.2']"
   ]
  },
  {
   "cell_type": "code",
   "execution_count": 59,
   "metadata": {
    "pycharm": {
     "name": "#%%\n"
    }
   },
   "outputs": [],
   "source": [
    "CT_CD['index'] = CT_CD.index\n",
    "\n",
    "CT_CD_f1 = CT_CD[['full name 1', '6p_Dollar','6p_Cents',]]\n",
    "CT_CD_f2 = CT_CD[['full name 2', '6p_def_Dollar','6p_def_Cents']]\n",
    "CT_CD_f3 = CT_CD[['full name 3', '3p_Dollar', '3p_Cents']]"
   ]
  },
  {
   "cell_type": "code",
   "execution_count": 60,
   "metadata": {
    "pycharm": {
     "name": "#%%\n"
    }
   },
   "outputs": [],
   "source": [
    "CT_CD_6p = pd.merge(total_assets_final, CT_CD_f1[CT_CD_f1['full name 1'].apply(lambda x: not pd.isnull(x))],\n",
    "                     left_on = 'match name', right_on = 'full name 1').drop(['full name 1','match name'], axis = 1)\n",
    "CT_CD_6p_def = pd.merge(total_assets_final, CT_CD_f2[CT_CD_f2['full name 2'].apply(lambda x: not pd.isnull(x))],\n",
    "                         left_on = 'match name', right_on = 'full name 2').drop(['full name 2','match name'], axis = 1)\n",
    "CT_CD_3p = pd.merge(total_assets_final, CT_CD_f3[CT_CD_f3['full name 3'].apply(lambda x: not pd.isnull(x))],\n",
    "                         left_on = 'match name', right_on = 'full name 3').drop(['full name 3','match name'], axis = 1)"
   ]
  },
  {
   "cell_type": "code",
   "execution_count": 61,
   "metadata": {
    "pycharm": {
     "name": "#%%\n"
    }
   },
   "outputs": [
    {
     "data": {
      "text/html": [
       "<div>\n",
       "<style scoped>\n",
       "    .dataframe tbody tr th:only-of-type {\n",
       "        vertical-align: middle;\n",
       "    }\n",
       "\n",
       "    .dataframe tbody tr th {\n",
       "        vertical-align: top;\n",
       "    }\n",
       "\n",
       "    .dataframe thead th {\n",
       "        text-align: right;\n",
       "    }\n",
       "</style>\n",
       "<table border=\"1\" class=\"dataframe\">\n",
       "  <thead>\n",
       "    <tr style=\"text-align: right;\">\n",
       "      <th></th>\n",
       "      <th>delegate name</th>\n",
       "      <th>delegate_state</th>\n",
       "      <th>sign</th>\n",
       "      <th>6p_Dollar</th>\n",
       "      <th>6p_Cents</th>\n",
       "      <th>6p_def_Dollar</th>\n",
       "      <th>6p_def_Cents</th>\n",
       "      <th>3p_Dollar</th>\n",
       "      <th>3p_Cents</th>\n",
       "    </tr>\n",
       "  </thead>\n",
       "  <tbody>\n",
       "    <tr>\n",
       "      <td>0</td>\n",
       "      <td>Roger Sherman</td>\n",
       "      <td>NaN</td>\n",
       "      <td>yes</td>\n",
       "      <td>229.0</td>\n",
       "      <td>97.0</td>\n",
       "      <td>114.0</td>\n",
       "      <td>98.0</td>\n",
       "      <td>288.0</td>\n",
       "      <td>NaN</td>\n",
       "    </tr>\n",
       "    <tr>\n",
       "      <td>1</td>\n",
       "      <td>Roger Sherman</td>\n",
       "      <td>NaN</td>\n",
       "      <td>yes</td>\n",
       "      <td>229.0</td>\n",
       "      <td>97.0</td>\n",
       "      <td>114.0</td>\n",
       "      <td>98.0</td>\n",
       "      <td>10.0</td>\n",
       "      <td>4.0</td>\n",
       "    </tr>\n",
       "    <tr>\n",
       "      <td>2</td>\n",
       "      <td>Roger Sherman</td>\n",
       "      <td>NaN</td>\n",
       "      <td>yes</td>\n",
       "      <td>229.0</td>\n",
       "      <td>97.0</td>\n",
       "      <td>114.0</td>\n",
       "      <td>98.0</td>\n",
       "      <td>3.0</td>\n",
       "      <td>90.0</td>\n",
       "    </tr>\n",
       "    <tr>\n",
       "      <td>3</td>\n",
       "      <td>Roger Sherman</td>\n",
       "      <td>NaN</td>\n",
       "      <td>yes</td>\n",
       "      <td>229.0</td>\n",
       "      <td>97.0</td>\n",
       "      <td>2.0</td>\n",
       "      <td>47.0</td>\n",
       "      <td>288.0</td>\n",
       "      <td>NaN</td>\n",
       "    </tr>\n",
       "    <tr>\n",
       "      <td>4</td>\n",
       "      <td>Roger Sherman</td>\n",
       "      <td>NaN</td>\n",
       "      <td>yes</td>\n",
       "      <td>229.0</td>\n",
       "      <td>97.0</td>\n",
       "      <td>2.0</td>\n",
       "      <td>47.0</td>\n",
       "      <td>10.0</td>\n",
       "      <td>4.0</td>\n",
       "    </tr>\n",
       "  </tbody>\n",
       "</table>\n",
       "</div>"
      ],
      "text/plain": [
       "   delegate name delegate_state sign  6p_Dollar  6p_Cents  6p_def_Dollar  \\\n",
       "0  Roger Sherman            NaN  yes      229.0      97.0          114.0   \n",
       "1  Roger Sherman            NaN  yes      229.0      97.0          114.0   \n",
       "2  Roger Sherman            NaN  yes      229.0      97.0          114.0   \n",
       "3  Roger Sherman            NaN  yes      229.0      97.0            2.0   \n",
       "4  Roger Sherman            NaN  yes      229.0      97.0            2.0   \n",
       "\n",
       "   6p_def_Cents  3p_Dollar  3p_Cents  \n",
       "0          98.0      288.0       NaN  \n",
       "1          98.0       10.0       4.0  \n",
       "2          98.0        3.0      90.0  \n",
       "3          47.0      288.0       NaN  \n",
       "4          47.0       10.0       4.0  "
      ]
     },
     "execution_count": 61,
     "metadata": {},
     "output_type": "execute_result"
    }
   ],
   "source": [
    "CT_CD_agg = pd.merge(CT_CD_6p, CT_CD_6p_def, on = ['delegate name','delegate_state','sign'], how = 'outer')\n",
    "CT_CD_agg = pd.merge(CT_CD_agg, CT_CD_3p, on = ['delegate name','delegate_state','sign'], how = 'outer')\n",
    "CT_CD_agg.head()"
   ]
  },
  {
   "cell_type": "markdown",
   "metadata": {
    "pycharm": {
     "name": "#%% md\n"
    }
   },
   "source": [
    "# Maryland Continental Debt Dataset Matching"
   ]
  },
  {
   "cell_type": "code",
   "execution_count": 62,
   "metadata": {
    "pycharm": {
     "name": "#%%\n"
    }
   },
   "outputs": [],
   "source": [
    "#prepare loan dataset\n",
    "MD_CD = pd.read_excel(\"../Data/Post1790/MD/MD_post1790_CD.xlsx\", header = 11, usecols = 'G, H, L, M, U, V, Z, AA, AI, AJ, AN, AO')\n",
    "MD_CD.columns = ['First Name', 'Last Name', '6p_Dollar', '6p_Cents', 'First Name.1', 'Last Name.1', '6p_def_Dollar', '6p_def_Cents',\n",
    "                  'First Name.2', 'Last Name.2', '3p_Dollar', '3p_Cents']\n",
    "MD_CD['full name 1'] = MD_CD['First Name'] + \" \" + MD_CD['Last Name']\n",
    "MD_CD['full name 2'] = MD_CD['First Name.1'] + \" \" + MD_CD['Last Name.1']\n",
    "MD_CD['full name 3'] = MD_CD['First Name.2'].apply(lambda x: str(x)) + \" \" + MD_CD['Last Name.2']"
   ]
  },
  {
   "cell_type": "code",
   "execution_count": 63,
   "metadata": {
    "pycharm": {
     "name": "#%%\n"
    }
   },
   "outputs": [],
   "source": [
    "MD_CD['index'] = MD_CD.index\n",
    "\n",
    "MD_CD_f1 = MD_CD[['full name 1', '6p_Dollar','6p_Cents',]]\n",
    "MD_CD_f2 = MD_CD[['full name 2', '6p_def_Dollar','6p_def_Cents']]\n",
    "MD_CD_f3 = MD_CD[['full name 3', '3p_Dollar', '3p_Cents']]"
   ]
  },
  {
   "cell_type": "code",
   "execution_count": 64,
   "metadata": {
    "pycharm": {
     "name": "#%%\n"
    }
   },
   "outputs": [],
   "source": [
    "MD_CD_6p = pd.merge(total_assets_final, MD_CD_f1[MD_CD_f1['full name 1'].apply(lambda x: not pd.isnull(x))],\n",
    "                     left_on = 'match name', right_on = 'full name 1').drop(['full name 1','match name'], axis = 1)\n",
    "MD_CD_6p_def = pd.merge(total_assets_final, MD_CD_f2[MD_CD_f2['full name 2'].apply(lambda x: not pd.isnull(x))],\n",
    "                         left_on = 'match name', right_on = 'full name 2').drop(['full name 2','match name'], axis = 1)\n",
    "MD_CD_3p = pd.merge(total_assets_final, MD_CD_f3[MD_CD_f3['full name 3'].apply(lambda x: not pd.isnull(x))],\n",
    "                         left_on = 'match name', right_on = 'full name 3').drop(['full name 3','match name'], axis = 1)"
   ]
  },
  {
   "cell_type": "code",
   "execution_count": 65,
   "metadata": {
    "pycharm": {
     "name": "#%%\n"
    }
   },
   "outputs": [
    {
     "data": {
      "text/html": [
       "<div>\n",
       "<style scoped>\n",
       "    .dataframe tbody tr th:only-of-type {\n",
       "        vertical-align: middle;\n",
       "    }\n",
       "\n",
       "    .dataframe tbody tr th {\n",
       "        vertical-align: top;\n",
       "    }\n",
       "\n",
       "    .dataframe thead th {\n",
       "        text-align: right;\n",
       "    }\n",
       "</style>\n",
       "<table border=\"1\" class=\"dataframe\">\n",
       "  <thead>\n",
       "    <tr style=\"text-align: right;\">\n",
       "      <th></th>\n",
       "      <th>delegate name</th>\n",
       "      <th>delegate_state</th>\n",
       "      <th>sign</th>\n",
       "      <th>6p_Dollar</th>\n",
       "      <th>6p_Cents</th>\n",
       "      <th>6p_def_Dollar</th>\n",
       "      <th>6p_def_Cents</th>\n",
       "      <th>3p_Dollar</th>\n",
       "      <th>3p_Cents</th>\n",
       "    </tr>\n",
       "  </thead>\n",
       "  <tbody>\n",
       "    <tr>\n",
       "      <td>0</td>\n",
       "      <td>Luther Martin</td>\n",
       "      <td>NaN</td>\n",
       "      <td>no</td>\n",
       "      <td>967.0</td>\n",
       "      <td>94.0</td>\n",
       "      <td>483.0</td>\n",
       "      <td>97.0</td>\n",
       "      <td>540.0</td>\n",
       "      <td>76.0</td>\n",
       "    </tr>\n",
       "    <tr>\n",
       "      <td>1</td>\n",
       "      <td>Luther Martin</td>\n",
       "      <td>NaN</td>\n",
       "      <td>no</td>\n",
       "      <td>967.0</td>\n",
       "      <td>94.0</td>\n",
       "      <td>483.0</td>\n",
       "      <td>97.0</td>\n",
       "      <td>1068.0</td>\n",
       "      <td>NaN</td>\n",
       "    </tr>\n",
       "    <tr>\n",
       "      <td>2</td>\n",
       "      <td>Luther Martin</td>\n",
       "      <td>MD</td>\n",
       "      <td>no</td>\n",
       "      <td>967.0</td>\n",
       "      <td>94.0</td>\n",
       "      <td>483.0</td>\n",
       "      <td>97.0</td>\n",
       "      <td>540.0</td>\n",
       "      <td>76.0</td>\n",
       "    </tr>\n",
       "    <tr>\n",
       "      <td>3</td>\n",
       "      <td>Luther Martin</td>\n",
       "      <td>MD</td>\n",
       "      <td>no</td>\n",
       "      <td>967.0</td>\n",
       "      <td>94.0</td>\n",
       "      <td>483.0</td>\n",
       "      <td>97.0</td>\n",
       "      <td>1068.0</td>\n",
       "      <td>NaN</td>\n",
       "    </tr>\n",
       "    <tr>\n",
       "      <td>4</td>\n",
       "      <td>Alexander Hamilton</td>\n",
       "      <td>NaN</td>\n",
       "      <td>yes</td>\n",
       "      <td>2822.0</td>\n",
       "      <td>88.0</td>\n",
       "      <td>1411.0</td>\n",
       "      <td>44.0</td>\n",
       "      <td>847.0</td>\n",
       "      <td>53.0</td>\n",
       "    </tr>\n",
       "  </tbody>\n",
       "</table>\n",
       "</div>"
      ],
      "text/plain": [
       "        delegate name delegate_state sign  6p_Dollar  6p_Cents  6p_def_Dollar  \\\n",
       "0       Luther Martin            NaN   no      967.0      94.0          483.0   \n",
       "1       Luther Martin            NaN   no      967.0      94.0          483.0   \n",
       "2       Luther Martin             MD   no      967.0      94.0          483.0   \n",
       "3       Luther Martin             MD   no      967.0      94.0          483.0   \n",
       "4  Alexander Hamilton            NaN  yes     2822.0      88.0         1411.0   \n",
       "\n",
       "   6p_def_Cents  3p_Dollar  3p_Cents  \n",
       "0          97.0      540.0      76.0  \n",
       "1          97.0     1068.0       NaN  \n",
       "2          97.0      540.0      76.0  \n",
       "3          97.0     1068.0       NaN  \n",
       "4          44.0      847.0      53.0  "
      ]
     },
     "execution_count": 65,
     "metadata": {},
     "output_type": "execute_result"
    }
   ],
   "source": [
    "MD_CD_agg = pd.merge(MD_CD_6p, MD_CD_6p_def, on = ['delegate name','delegate_state','sign'], how = 'outer')\n",
    "MD_CD_agg = pd.merge(MD_CD_agg, MD_CD_3p, on = ['delegate name','delegate_state','sign'], how = 'outer')\n",
    "MD_CD_agg.head()"
   ]
  },
  {
   "cell_type": "code",
   "execution_count": 66,
   "metadata": {
    "pycharm": {
     "name": "#%%\n"
    }
   },
   "outputs": [],
   "source": [
    "cumulative_CD = pd.concat([CT_CD_agg, MD_CD_agg])"
   ]
  },
  {
   "cell_type": "markdown",
   "metadata": {
    "pycharm": {
     "name": "#%% md\n"
    }
   },
   "source": [
    "# North Carolina Continental Debt Dataset Matching"
   ]
  },
  {
   "cell_type": "code",
   "execution_count": 67,
   "metadata": {
    "pycharm": {
     "name": "#%%\n"
    }
   },
   "outputs": [],
   "source": [
    "#prepare loan dataset\n",
    "NC_CD = pd.read_excel(\"../Data/Post1790/NC/T695_R4_NC_CD.xlsx\", header = 11, usecols = 'J, K, W, X, Z, AA, AC, AD ')\n",
    "NC_CD.columns = ['First Name', 'Last Name', '6p_Dollar', '6p_Cents', '6p_def_Dollar', '6p_def_Cents', '3p_Dollar', '3p_Cents']\n",
    "NC_CD['full name 1'] = NC_CD['First Name'] + \" \" + NC_CD['Last Name']"
   ]
  },
  {
   "cell_type": "code",
   "execution_count": 68,
   "metadata": {
    "pycharm": {
     "name": "#%%\n"
    }
   },
   "outputs": [],
   "source": [
    "NC_CD_f = NC_CD[['full name 1', '6p_Dollar', '6p_Cents', '6p_def_Dollar', '6p_def_Cents', '3p_Dollar', '3p_Cents']]"
   ]
  },
  {
   "cell_type": "code",
   "execution_count": 69,
   "metadata": {
    "pycharm": {
     "name": "#%%\n"
    }
   },
   "outputs": [],
   "source": [
    "NC_CD_agg = pd.merge(total_assets_final, NC_CD_f[NC_CD_f['full name 1'].apply(lambda x: not pd.isnull(x))],\n",
    "                     left_on = 'match name', right_on = 'full name 1').drop(['full name 1', 'match name'], axis = 1)"
   ]
  },
  {
   "cell_type": "code",
   "execution_count": 70,
   "metadata": {
    "pycharm": {
     "name": "#%%\n"
    }
   },
   "outputs": [
    {
     "data": {
      "text/html": [
       "<div>\n",
       "<style scoped>\n",
       "    .dataframe tbody tr th:only-of-type {\n",
       "        vertical-align: middle;\n",
       "    }\n",
       "\n",
       "    .dataframe tbody tr th {\n",
       "        vertical-align: top;\n",
       "    }\n",
       "\n",
       "    .dataframe thead th {\n",
       "        text-align: right;\n",
       "    }\n",
       "</style>\n",
       "<table border=\"1\" class=\"dataframe\">\n",
       "  <thead>\n",
       "    <tr style=\"text-align: right;\">\n",
       "      <th></th>\n",
       "      <th>delegate name</th>\n",
       "      <th>delegate_state</th>\n",
       "      <th>sign</th>\n",
       "      <th>6p_Dollar</th>\n",
       "      <th>6p_Cents</th>\n",
       "      <th>6p_def_Dollar</th>\n",
       "      <th>6p_def_Cents</th>\n",
       "      <th>3p_Dollar</th>\n",
       "      <th>3p_Cents</th>\n",
       "    </tr>\n",
       "  </thead>\n",
       "  <tbody>\n",
       "    <tr>\n",
       "      <td>0</td>\n",
       "      <td>John Ingram</td>\n",
       "      <td>DE</td>\n",
       "      <td>yes</td>\n",
       "      <td>81.0</td>\n",
       "      <td>80.0</td>\n",
       "      <td>40.0</td>\n",
       "      <td>89.0</td>\n",
       "      <td>NaN</td>\n",
       "      <td>NaN</td>\n",
       "    </tr>\n",
       "    <tr>\n",
       "      <td>1</td>\n",
       "      <td>John Ingram</td>\n",
       "      <td>NC</td>\n",
       "      <td>yes</td>\n",
       "      <td>81.0</td>\n",
       "      <td>80.0</td>\n",
       "      <td>40.0</td>\n",
       "      <td>89.0</td>\n",
       "      <td>NaN</td>\n",
       "      <td>NaN</td>\n",
       "    </tr>\n",
       "    <tr>\n",
       "      <td>2</td>\n",
       "      <td>Thomas Blount</td>\n",
       "      <td>NC</td>\n",
       "      <td>yes</td>\n",
       "      <td>254.0</td>\n",
       "      <td>73.0</td>\n",
       "      <td>127.0</td>\n",
       "      <td>36.0</td>\n",
       "      <td>179.0</td>\n",
       "      <td>20.0</td>\n",
       "    </tr>\n",
       "    <tr>\n",
       "      <td>3</td>\n",
       "      <td>John A. Campbell</td>\n",
       "      <td>NC</td>\n",
       "      <td>no</td>\n",
       "      <td>14.0</td>\n",
       "      <td>94.0</td>\n",
       "      <td>7.0</td>\n",
       "      <td>47.0</td>\n",
       "      <td>NaN</td>\n",
       "      <td>NaN</td>\n",
       "    </tr>\n",
       "  </tbody>\n",
       "</table>\n",
       "</div>"
      ],
      "text/plain": [
       "      delegate name delegate_state sign  6p_Dollar  6p_Cents  6p_def_Dollar  \\\n",
       "0       John Ingram             DE  yes       81.0      80.0           40.0   \n",
       "1       John Ingram             NC  yes       81.0      80.0           40.0   \n",
       "2     Thomas Blount             NC  yes      254.0      73.0          127.0   \n",
       "3  John A. Campbell             NC   no       14.0      94.0            7.0   \n",
       "\n",
       "   6p_def_Cents  3p_Dollar  3p_Cents  \n",
       "0          89.0        NaN       NaN  \n",
       "1          89.0        NaN       NaN  \n",
       "2          36.0      179.0      20.0  \n",
       "3          47.0        NaN       NaN  "
      ]
     },
     "execution_count": 70,
     "metadata": {},
     "output_type": "execute_result"
    }
   ],
   "source": [
    "NC_CD_agg.head()"
   ]
  },
  {
   "cell_type": "code",
   "execution_count": 71,
   "metadata": {
    "pycharm": {
     "name": "#%%\n"
    }
   },
   "outputs": [],
   "source": [
    "cumulative_CD = pd.concat([NC_CD_agg, cumulative_CD])"
   ]
  },
  {
   "cell_type": "markdown",
   "metadata": {
    "pycharm": {
     "name": "#%% md\n"
    }
   },
   "source": [
    "# New Hampshire Continental Debt Dataset Matching"
   ]
  },
  {
   "cell_type": "code",
   "execution_count": 72,
   "metadata": {
    "pycharm": {
     "name": "#%%\n"
    }
   },
   "outputs": [],
   "source": [
    "#prepare loan dataset\n",
    "NH_CD = pd.read_excel(\"../Data/Post1790/NH/T652_R6_New_Hampshire_CD.xlsx\", header = 10, usecols = 'I, J, N, O, P, Q, R, S')\n",
    "NH_CD.columns = ['First Name', 'Last Name', '6p_Dollar', '6p_Cents',  '6p_def_Dollar', '6p_def_Cents', '3p_Dollar', '3p_Cents']\n",
    "NH_CD['full name 1'] = NH_CD['First Name'] + \" \" + NH_CD['Last Name']"
   ]
  },
  {
   "cell_type": "code",
   "execution_count": 73,
   "metadata": {
    "pycharm": {
     "name": "#%%\n"
    }
   },
   "outputs": [],
   "source": [
    "NH_CD['index'] = NH_CD.index\n",
    "\n",
    "NH_CD_f = NH_CD[['full name 1', '6p_Dollar', '6p_Cents', '6p_def_Dollar', '6p_def_Cents', '3p_Dollar', '3p_Cents']]"
   ]
  },
  {
   "cell_type": "code",
   "execution_count": 74,
   "metadata": {
    "pycharm": {
     "name": "#%%\n"
    }
   },
   "outputs": [],
   "source": [
    "NH_CD_agg = pd.merge(total_assets_final, NH_CD_f[NH_CD_f['full name 1'].apply(lambda x: not pd.isnull(x))],\n",
    "                     left_on = 'match name', right_on = 'full name 1').drop(['full name 1', 'match name'], axis = 1)"
   ]
  },
  {
   "cell_type": "code",
   "execution_count": 75,
   "metadata": {
    "pycharm": {
     "name": "#%%\n"
    }
   },
   "outputs": [
    {
     "data": {
      "text/html": [
       "<div>\n",
       "<style scoped>\n",
       "    .dataframe tbody tr th:only-of-type {\n",
       "        vertical-align: middle;\n",
       "    }\n",
       "\n",
       "    .dataframe tbody tr th {\n",
       "        vertical-align: top;\n",
       "    }\n",
       "\n",
       "    .dataframe thead th {\n",
       "        text-align: right;\n",
       "    }\n",
       "</style>\n",
       "<table border=\"1\" class=\"dataframe\">\n",
       "  <thead>\n",
       "    <tr style=\"text-align: right;\">\n",
       "      <th></th>\n",
       "      <th>delegate name</th>\n",
       "      <th>delegate_state</th>\n",
       "      <th>sign</th>\n",
       "      <th>6p_Dollar</th>\n",
       "      <th>6p_Cents</th>\n",
       "      <th>6p_def_Dollar</th>\n",
       "      <th>6p_def_Cents</th>\n",
       "      <th>3p_Dollar</th>\n",
       "      <th>3p_Cents</th>\n",
       "    </tr>\n",
       "  </thead>\n",
       "  <tbody>\n",
       "    <tr>\n",
       "      <td>0</td>\n",
       "      <td>John Langdon</td>\n",
       "      <td>NaN</td>\n",
       "      <td>yes</td>\n",
       "      <td>12396.0</td>\n",
       "      <td>79.0</td>\n",
       "      <td>6198.0</td>\n",
       "      <td>39.0</td>\n",
       "      <td>7977.0</td>\n",
       "      <td>60.0</td>\n",
       "    </tr>\n",
       "    <tr>\n",
       "      <td>1</td>\n",
       "      <td>John Langdon</td>\n",
       "      <td>NH</td>\n",
       "      <td>yes</td>\n",
       "      <td>12396.0</td>\n",
       "      <td>79.0</td>\n",
       "      <td>6198.0</td>\n",
       "      <td>39.0</td>\n",
       "      <td>7977.0</td>\n",
       "      <td>60.0</td>\n",
       "    </tr>\n",
       "    <tr>\n",
       "      <td>2</td>\n",
       "      <td>John Parker</td>\n",
       "      <td>SC</td>\n",
       "      <td>yes</td>\n",
       "      <td>38.0</td>\n",
       "      <td>2.0</td>\n",
       "      <td>19.0</td>\n",
       "      <td>1.0</td>\n",
       "      <td>10.0</td>\n",
       "      <td>26.0</td>\n",
       "    </tr>\n",
       "    <tr>\n",
       "      <td>3</td>\n",
       "      <td>Jacob Brown</td>\n",
       "      <td>SC</td>\n",
       "      <td>no</td>\n",
       "      <td>582.0</td>\n",
       "      <td>35.0</td>\n",
       "      <td>291.0</td>\n",
       "      <td>18.0</td>\n",
       "      <td>218.0</td>\n",
       "      <td>85.0</td>\n",
       "    </tr>\n",
       "    <tr>\n",
       "      <td>4</td>\n",
       "      <td>Thomas Williams</td>\n",
       "      <td>NC</td>\n",
       "      <td>no</td>\n",
       "      <td>400.0</td>\n",
       "      <td>0.0</td>\n",
       "      <td>200.0</td>\n",
       "      <td>0.0</td>\n",
       "      <td>349.0</td>\n",
       "      <td>60.0</td>\n",
       "    </tr>\n",
       "  </tbody>\n",
       "</table>\n",
       "</div>"
      ],
      "text/plain": [
       "     delegate name delegate_state sign  6p_Dollar  6p_Cents  6p_def_Dollar  \\\n",
       "0     John Langdon            NaN  yes    12396.0      79.0         6198.0   \n",
       "1     John Langdon             NH  yes    12396.0      79.0         6198.0   \n",
       "2      John Parker             SC  yes       38.0       2.0           19.0   \n",
       "3      Jacob Brown             SC   no      582.0      35.0          291.0   \n",
       "4  Thomas Williams             NC   no      400.0       0.0          200.0   \n",
       "\n",
       "   6p_def_Cents  3p_Dollar  3p_Cents  \n",
       "0          39.0     7977.0      60.0  \n",
       "1          39.0     7977.0      60.0  \n",
       "2           1.0       10.0      26.0  \n",
       "3          18.0      218.0      85.0  \n",
       "4           0.0      349.0      60.0  "
      ]
     },
     "execution_count": 75,
     "metadata": {},
     "output_type": "execute_result"
    }
   ],
   "source": [
    "NH_CD_agg.head()"
   ]
  },
  {
   "cell_type": "code",
   "execution_count": 76,
   "metadata": {
    "pycharm": {
     "name": "#%%\n"
    }
   },
   "outputs": [],
   "source": [
    "cumulative_CD = pd.concat([NH_CD_agg, cumulative_CD])"
   ]
  },
  {
   "cell_type": "markdown",
   "metadata": {
    "pycharm": {
     "name": "#%% md\n"
    }
   },
   "source": [
    "# New York Continental Debt Dataset Matching"
   ]
  },
  {
   "cell_type": "code",
   "execution_count": 77,
   "metadata": {
    "pycharm": {
     "name": "#%%\n"
    }
   },
   "outputs": [],
   "source": [
    "#prepare loan dataset\n",
    "NY_CD = pd.read_excel(\"../Data/Post1790/NY/NY_1790_CD.xlsx\", header = 11, usecols = 'H, I, M, N, X, Y, AC, AD, AM, AN, AR, AS')\n",
    "NY_CD.columns = ['First Name', 'Last Name', '6p_Dollar', '6p_Cents', 'First Name.1', 'Last Name.1', '6p_def_Dollar', '6p_def_Cents',\n",
    "                  'First Name.2', 'Last Name.2', '3p_Dollar', '3p_Cents']\n",
    "NY_CD['full name 1'] = NY_CD['First Name'] + \" \" + NY_CD['Last Name']\n",
    "NY_CD['full name 2'] = NY_CD['First Name.1'] + \" \" + NY_CD['Last Name.1']\n",
    "NY_CD['full name 3'] = NY_CD['First Name.2'] + \" \" + NY_CD['Last Name.2']"
   ]
  },
  {
   "cell_type": "code",
   "execution_count": 78,
   "metadata": {
    "pycharm": {
     "name": "#%%\n"
    }
   },
   "outputs": [],
   "source": [
    "NY_CD['index'] = NY_CD.index\n",
    "\n",
    "NY_CD_f1 = NY_CD[['full name 1', '6p_Dollar','6p_Cents',]]\n",
    "NY_CD_f2 = NY_CD[['full name 2', '6p_def_Dollar','6p_def_Cents']]\n",
    "NY_CD_f3 = NY_CD[['full name 3', '3p_Dollar', '3p_Cents']]"
   ]
  },
  {
   "cell_type": "code",
   "execution_count": 79,
   "metadata": {
    "pycharm": {
     "name": "#%%\n"
    }
   },
   "outputs": [],
   "source": [
    "NY_CD_6p = pd.merge(total_assets_final, NY_CD_f1[NY_CD_f1['full name 1'].apply(lambda x: not pd.isnull(x))],\n",
    "                     left_on = 'match name', right_on = 'full name 1').drop(['full name 1','match name'], axis = 1)\n",
    "NY_CD_6p_def = pd.merge(total_assets_final, NY_CD_f2[NY_CD_f2['full name 2'].apply(lambda x: not pd.isnull(x))],\n",
    "                         left_on = 'match name', right_on = 'full name 2').drop(['full name 2','match name'], axis = 1)\n",
    "NY_CD_3p = pd.merge(total_assets_final, NY_CD_f3[NY_CD_f3['full name 3'].apply(lambda x: not pd.isnull(x))],\n",
    "                         left_on = 'match name', right_on = 'full name 3').drop(['full name 3','match name'], axis = 1)"
   ]
  },
  {
   "cell_type": "code",
   "execution_count": 80,
   "metadata": {
    "pycharm": {
     "name": "#%%\n"
    }
   },
   "outputs": [
    {
     "data": {
      "text/html": [
       "<div>\n",
       "<style scoped>\n",
       "    .dataframe tbody tr th:only-of-type {\n",
       "        vertical-align: middle;\n",
       "    }\n",
       "\n",
       "    .dataframe tbody tr th {\n",
       "        vertical-align: top;\n",
       "    }\n",
       "\n",
       "    .dataframe thead th {\n",
       "        text-align: right;\n",
       "    }\n",
       "</style>\n",
       "<table border=\"1\" class=\"dataframe\">\n",
       "  <thead>\n",
       "    <tr style=\"text-align: right;\">\n",
       "      <th></th>\n",
       "      <th>delegate name</th>\n",
       "      <th>delegate_state</th>\n",
       "      <th>sign</th>\n",
       "      <th>6p_Dollar</th>\n",
       "      <th>6p_Cents</th>\n",
       "      <th>6p_def_Dollar</th>\n",
       "      <th>6p_def_Cents</th>\n",
       "      <th>3p_Dollar</th>\n",
       "      <th>3p_Cents</th>\n",
       "    </tr>\n",
       "  </thead>\n",
       "  <tbody>\n",
       "    <tr>\n",
       "      <td>0</td>\n",
       "      <td>Jonathan Dayton</td>\n",
       "      <td>NaN</td>\n",
       "      <td>yes</td>\n",
       "      <td>17060.0</td>\n",
       "      <td>82.0</td>\n",
       "      <td>8530.0</td>\n",
       "      <td>40.0</td>\n",
       "      <td>11332.0</td>\n",
       "      <td>93.0</td>\n",
       "    </tr>\n",
       "    <tr>\n",
       "      <td>1</td>\n",
       "      <td>Jonathan Dayton</td>\n",
       "      <td>NaN</td>\n",
       "      <td>yes</td>\n",
       "      <td>17060.0</td>\n",
       "      <td>82.0</td>\n",
       "      <td>8530.0</td>\n",
       "      <td>40.0</td>\n",
       "      <td>2069.0</td>\n",
       "      <td>91.0</td>\n",
       "    </tr>\n",
       "    <tr>\n",
       "      <td>2</td>\n",
       "      <td>Jonathan Dayton</td>\n",
       "      <td>NaN</td>\n",
       "      <td>yes</td>\n",
       "      <td>17060.0</td>\n",
       "      <td>82.0</td>\n",
       "      <td>8530.0</td>\n",
       "      <td>40.0</td>\n",
       "      <td>376.0</td>\n",
       "      <td>76.0</td>\n",
       "    </tr>\n",
       "    <tr>\n",
       "      <td>3</td>\n",
       "      <td>Jonathan Dayton</td>\n",
       "      <td>NaN</td>\n",
       "      <td>yes</td>\n",
       "      <td>17060.0</td>\n",
       "      <td>82.0</td>\n",
       "      <td>8530.0</td>\n",
       "      <td>40.0</td>\n",
       "      <td>2496.0</td>\n",
       "      <td>78.0</td>\n",
       "    </tr>\n",
       "    <tr>\n",
       "      <td>4</td>\n",
       "      <td>Jonathan Dayton</td>\n",
       "      <td>NaN</td>\n",
       "      <td>yes</td>\n",
       "      <td>17060.0</td>\n",
       "      <td>82.0</td>\n",
       "      <td>8530.0</td>\n",
       "      <td>40.0</td>\n",
       "      <td>1050.0</td>\n",
       "      <td>0.0</td>\n",
       "    </tr>\n",
       "  </tbody>\n",
       "</table>\n",
       "</div>"
      ],
      "text/plain": [
       "     delegate name delegate_state sign  6p_Dollar  6p_Cents  6p_def_Dollar  \\\n",
       "0  Jonathan Dayton            NaN  yes    17060.0      82.0         8530.0   \n",
       "1  Jonathan Dayton            NaN  yes    17060.0      82.0         8530.0   \n",
       "2  Jonathan Dayton            NaN  yes    17060.0      82.0         8530.0   \n",
       "3  Jonathan Dayton            NaN  yes    17060.0      82.0         8530.0   \n",
       "4  Jonathan Dayton            NaN  yes    17060.0      82.0         8530.0   \n",
       "\n",
       "   6p_def_Cents  3p_Dollar  3p_Cents  \n",
       "0          40.0    11332.0      93.0  \n",
       "1          40.0     2069.0      91.0  \n",
       "2          40.0      376.0      76.0  \n",
       "3          40.0     2496.0      78.0  \n",
       "4          40.0     1050.0       0.0  "
      ]
     },
     "execution_count": 80,
     "metadata": {},
     "output_type": "execute_result"
    }
   ],
   "source": [
    "NY_CD_agg = pd.merge(NY_CD_6p, NY_CD_6p_def, on = ['delegate name','delegate_state','sign'], how = 'outer')\n",
    "NY_CD_agg = pd.merge(NY_CD_agg, NY_CD_3p, on = ['delegate name','delegate_state','sign'], how = 'outer')\n",
    "NY_CD_agg.head()"
   ]
  },
  {
   "cell_type": "code",
   "execution_count": 81,
   "metadata": {
    "pycharm": {
     "name": "#%%\n"
    }
   },
   "outputs": [],
   "source": [
    "cumulative_CD = pd.concat([NY_CD_agg, cumulative_CD])"
   ]
  },
  {
   "cell_type": "markdown",
   "metadata": {
    "pycharm": {
     "name": "#%% md\n"
    }
   },
   "source": [
    "# South Carolina Continental Debt Dataset Matching"
   ]
  },
  {
   "cell_type": "code",
   "execution_count": 82,
   "metadata": {
    "pycharm": {
     "name": "#%%\n"
    }
   },
   "outputs": [],
   "source": [
    "#prepare loan dataset\n",
    "SC_CD = pd.read_excel(\"../Data/Post1790/SC/Post_1790_South_Carolina_CD.xlsx\", header = 11, usecols = 'D, E, M, N, S, T, AB, AC, AH, AI, AQ, AR')\n",
    "SC_CD.columns = ['First Name', 'Last Name', '6p_Dollar', '6p_Cents', 'First Name.1', 'Last Name.1', '6p_def_Dollar', '6p_def_Cents',\n",
    "                  'First Name.2', 'Last Name.2', '3p_Dollar', '3p_Cents']\n",
    "SC_CD['full name 1'] = SC_CD['First Name'] + \" \" + SC_CD['Last Name']\n",
    "SC_CD['full name 2'] = SC_CD['First Name.1'] + \" \" + SC_CD['Last Name.1']\n",
    "SC_CD['full name 3'] = SC_CD['First Name.2'].apply(lambda x: str(x)) + \" \" + SC_CD['Last Name.2']"
   ]
  },
  {
   "cell_type": "code",
   "execution_count": 83,
   "metadata": {
    "pycharm": {
     "name": "#%%\n"
    }
   },
   "outputs": [],
   "source": [
    "SC_CD['index'] = SC_CD.index\n",
    "\n",
    "SC_CD_f1 = SC_CD[['full name 1', '6p_Dollar','6p_Cents',]]\n",
    "SC_CD_f2 = SC_CD[['full name 2', '6p_def_Dollar','6p_def_Cents']]\n",
    "SC_CD_f3 = SC_CD[['full name 3', '3p_Dollar', '3p_Cents']]"
   ]
  },
  {
   "cell_type": "code",
   "execution_count": 84,
   "metadata": {
    "pycharm": {
     "name": "#%%\n"
    }
   },
   "outputs": [],
   "source": [
    "SC_CD_6p = pd.merge(total_assets_final, SC_CD_f1[SC_CD_f1['full name 1'].apply(lambda x: not pd.isnull(x))],\n",
    "                     left_on = 'match name', right_on = 'full name 1').drop(['full name 1','match name'], axis = 1)\n",
    "SC_CD_6p_def = pd.merge(total_assets_final, SC_CD_f2[SC_CD_f2['full name 2'].apply(lambda x: not pd.isnull(x))],\n",
    "                         left_on = 'match name', right_on = 'full name 2').drop(['full name 2','match name'], axis = 1)\n",
    "SC_CD_3p = pd.merge(total_assets_final, SC_CD_f3[SC_CD_f3['full name 3'].apply(lambda x: not pd.isnull(x))],\n",
    "                         left_on = 'match name', right_on = 'full name 3').drop(['full name 3','match name'], axis = 1)"
   ]
  },
  {
   "cell_type": "code",
   "execution_count": 85,
   "metadata": {
    "pycharm": {
     "name": "#%%\n"
    }
   },
   "outputs": [
    {
     "data": {
      "text/html": [
       "<div>\n",
       "<style scoped>\n",
       "    .dataframe tbody tr th:only-of-type {\n",
       "        vertical-align: middle;\n",
       "    }\n",
       "\n",
       "    .dataframe tbody tr th {\n",
       "        vertical-align: top;\n",
       "    }\n",
       "\n",
       "    .dataframe thead th {\n",
       "        text-align: right;\n",
       "    }\n",
       "</style>\n",
       "<table border=\"1\" class=\"dataframe\">\n",
       "  <thead>\n",
       "    <tr style=\"text-align: right;\">\n",
       "      <th></th>\n",
       "      <th>delegate name</th>\n",
       "      <th>delegate_state</th>\n",
       "      <th>sign</th>\n",
       "      <th>6p_Dollar</th>\n",
       "      <th>6p_Cents</th>\n",
       "      <th>6p_def_Dollar</th>\n",
       "      <th>6p_def_Cents</th>\n",
       "      <th>3p_Dollar</th>\n",
       "      <th>3p_Cents</th>\n",
       "    </tr>\n",
       "  </thead>\n",
       "  <tbody>\n",
       "    <tr>\n",
       "      <td>0</td>\n",
       "      <td>Daniel Hall</td>\n",
       "      <td>CT</td>\n",
       "      <td>no</td>\n",
       "      <td>123.0</td>\n",
       "      <td>29.0</td>\n",
       "      <td>61.0</td>\n",
       "      <td>65.0</td>\n",
       "      <td>NaN</td>\n",
       "      <td>NaN</td>\n",
       "    </tr>\n",
       "    <tr>\n",
       "      <td>1</td>\n",
       "      <td>George Parker</td>\n",
       "      <td>VA</td>\n",
       "      <td>yes</td>\n",
       "      <td>33.0</td>\n",
       "      <td>33.0</td>\n",
       "      <td>16.0</td>\n",
       "      <td>67.0</td>\n",
       "      <td>31.0</td>\n",
       "      <td>67.0</td>\n",
       "    </tr>\n",
       "    <tr>\n",
       "      <td>2</td>\n",
       "      <td>Thomas Smith</td>\n",
       "      <td>VA</td>\n",
       "      <td>yes</td>\n",
       "      <td>10508.0</td>\n",
       "      <td>90.0</td>\n",
       "      <td>NaN</td>\n",
       "      <td>NaN</td>\n",
       "      <td>NaN</td>\n",
       "      <td>NaN</td>\n",
       "    </tr>\n",
       "    <tr>\n",
       "      <td>3</td>\n",
       "      <td>Thomas Smith</td>\n",
       "      <td>MA</td>\n",
       "      <td>no</td>\n",
       "      <td>10508.0</td>\n",
       "      <td>90.0</td>\n",
       "      <td>NaN</td>\n",
       "      <td>NaN</td>\n",
       "      <td>NaN</td>\n",
       "      <td>NaN</td>\n",
       "    </tr>\n",
       "    <tr>\n",
       "      <td>4</td>\n",
       "      <td>William Mason</td>\n",
       "      <td>VA</td>\n",
       "      <td>yes</td>\n",
       "      <td>1024.0</td>\n",
       "      <td>91.0</td>\n",
       "      <td>512.0</td>\n",
       "      <td>46.0</td>\n",
       "      <td>276.0</td>\n",
       "      <td>65.0</td>\n",
       "    </tr>\n",
       "  </tbody>\n",
       "</table>\n",
       "</div>"
      ],
      "text/plain": [
       "   delegate name delegate_state sign  6p_Dollar  6p_Cents  6p_def_Dollar  \\\n",
       "0    Daniel Hall             CT   no      123.0      29.0           61.0   \n",
       "1  George Parker             VA  yes       33.0      33.0           16.0   \n",
       "2   Thomas Smith             VA  yes    10508.0      90.0            NaN   \n",
       "3   Thomas Smith             MA   no    10508.0      90.0            NaN   \n",
       "4  William Mason             VA  yes     1024.0      91.0          512.0   \n",
       "\n",
       "   6p_def_Cents  3p_Dollar  3p_Cents  \n",
       "0          65.0        NaN       NaN  \n",
       "1          67.0       31.0      67.0  \n",
       "2           NaN        NaN       NaN  \n",
       "3           NaN        NaN       NaN  \n",
       "4          46.0      276.0      65.0  "
      ]
     },
     "execution_count": 85,
     "metadata": {},
     "output_type": "execute_result"
    }
   ],
   "source": [
    "SC_CD_agg = pd.merge(SC_CD_6p, SC_CD_6p_def, on = ['delegate name','delegate_state','sign'], how = 'outer')\n",
    "SC_CD_agg = pd.merge(SC_CD_agg, SC_CD_3p, on = ['delegate name','delegate_state','sign'], how = 'outer')\n",
    "SC_CD_agg.head()"
   ]
  },
  {
   "cell_type": "code",
   "execution_count": 86,
   "metadata": {
    "pycharm": {
     "name": "#%%\n"
    }
   },
   "outputs": [],
   "source": [
    "cumulative_CD = pd.concat([cumulative_CD, SC_CD_agg])"
   ]
  },
  {
   "cell_type": "markdown",
   "metadata": {
    "pycharm": {
     "name": "#%% md\n"
    }
   },
   "source": [
    "# Pennsylvania Continental Debt Dataset Matching"
   ]
  },
  {
   "cell_type": "code",
   "execution_count": 87,
   "metadata": {
    "pycharm": {
     "name": "#%%\n"
    }
   },
   "outputs": [],
   "source": [
    "#prepare loan dataset\n",
    "PA_CD = pd.read_excel(\"../Data/Post1790/PA/PA_post1790_CD.xlsx\", header = 11, usecols = 'G, H, L, M, U, V, Z, AA, AI, AJ, AO, AP')\n",
    "PA_CD.columns = ['First Name', 'Last Name', '6p_Dollar', '6p_Cents', 'First Name.1', 'Last Name.1', '6p_def_Dollar', '6p_def_Cents',\n",
    "                  'First Name.2', 'Last Name.2', '3p_Dollar', '3p_Cents']\n",
    "PA_CD['full name 1'] = PA_CD['First Name'] + \" \" + PA_CD['Last Name']\n",
    "PA_CD['full name 2'] = PA_CD['First Name.1'] + \" \" + PA_CD['Last Name.1']\n",
    "PA_CD['full name 3'] = PA_CD['First Name.2'].apply(lambda x: str(x)) + \" \" + PA_CD['Last Name.2']"
   ]
  },
  {
   "cell_type": "code",
   "execution_count": 88,
   "metadata": {
    "pycharm": {
     "name": "#%%\n"
    }
   },
   "outputs": [],
   "source": [
    "PA_CD['index'] = PA_CD.index\n",
    "\n",
    "PA_CD_f1 = PA_CD[['full name 1', '6p_Dollar','6p_Cents',]]\n",
    "PA_CD_f2 = PA_CD[['full name 2', '6p_def_Dollar','6p_def_Cents']]\n",
    "PA_CD_f3 = PA_CD[['full name 3', '3p_Dollar', '3p_Cents']]"
   ]
  },
  {
   "cell_type": "code",
   "execution_count": 89,
   "metadata": {
    "pycharm": {
     "name": "#%%\n"
    }
   },
   "outputs": [],
   "source": [
    "PA_CD_6p = pd.merge(total_assets_final, PA_CD_f1[PA_CD_f1['full name 1'].apply(lambda x: not pd.isnull(x))],\n",
    "                     left_on = 'match name', right_on = 'full name 1').drop(['full name 1','match name'], axis = 1)\n",
    "PA_CD_6p_def = pd.merge(total_assets_final, PA_CD_f2[PA_CD_f2['full name 2'].apply(lambda x: not pd.isnull(x))],\n",
    "                         left_on = 'match name', right_on = 'full name 2').drop(['full name 2','match name'], axis = 1)\n",
    "PA_CD_3p = pd.merge(total_assets_final, PA_CD_f3[PA_CD_f3['full name 3'].apply(lambda x: not pd.isnull(x))],\n",
    "                         left_on = 'match name', right_on = 'full name 3').drop(['full name 3','match name'], axis = 1)"
   ]
  },
  {
   "cell_type": "code",
   "execution_count": 90,
   "metadata": {
    "pycharm": {
     "name": "#%%\n"
    }
   },
   "outputs": [
    {
     "data": {
      "text/html": [
       "<div>\n",
       "<style scoped>\n",
       "    .dataframe tbody tr th:only-of-type {\n",
       "        vertical-align: middle;\n",
       "    }\n",
       "\n",
       "    .dataframe tbody tr th {\n",
       "        vertical-align: top;\n",
       "    }\n",
       "\n",
       "    .dataframe thead th {\n",
       "        text-align: right;\n",
       "    }\n",
       "</style>\n",
       "<table border=\"1\" class=\"dataframe\">\n",
       "  <thead>\n",
       "    <tr style=\"text-align: right;\">\n",
       "      <th></th>\n",
       "      <th>delegate name</th>\n",
       "      <th>delegate_state</th>\n",
       "      <th>sign</th>\n",
       "      <th>6p_Dollar</th>\n",
       "      <th>6p_Cents</th>\n",
       "      <th>6p_def_Dollar</th>\n",
       "      <th>6p_def_Cents</th>\n",
       "      <th>3p_Dollar</th>\n",
       "      <th>3p_Cents</th>\n",
       "    </tr>\n",
       "  </thead>\n",
       "  <tbody>\n",
       "    <tr>\n",
       "      <td>0</td>\n",
       "      <td>Daniel Carroll</td>\n",
       "      <td>NaN</td>\n",
       "      <td>yes</td>\n",
       "      <td>151.0</td>\n",
       "      <td>4.0</td>\n",
       "      <td>75.0</td>\n",
       "      <td>52.0</td>\n",
       "      <td>NaN</td>\n",
       "      <td>NaN</td>\n",
       "    </tr>\n",
       "    <tr>\n",
       "      <td>1</td>\n",
       "      <td>Elbridge Gerry</td>\n",
       "      <td>NaN</td>\n",
       "      <td>no</td>\n",
       "      <td>1516.0</td>\n",
       "      <td>67.0</td>\n",
       "      <td>758.0</td>\n",
       "      <td>33.0</td>\n",
       "      <td>NaN</td>\n",
       "      <td>NaN</td>\n",
       "    </tr>\n",
       "    <tr>\n",
       "      <td>2</td>\n",
       "      <td>Hugh Williamson</td>\n",
       "      <td>NaN</td>\n",
       "      <td>yes</td>\n",
       "      <td>149.0</td>\n",
       "      <td>98.0</td>\n",
       "      <td>75.0</td>\n",
       "      <td>NaN</td>\n",
       "      <td>NaN</td>\n",
       "      <td>NaN</td>\n",
       "    </tr>\n",
       "    <tr>\n",
       "      <td>3</td>\n",
       "      <td>Hugh Williamson</td>\n",
       "      <td>NC</td>\n",
       "      <td>yes</td>\n",
       "      <td>149.0</td>\n",
       "      <td>98.0</td>\n",
       "      <td>75.0</td>\n",
       "      <td>NaN</td>\n",
       "      <td>NaN</td>\n",
       "      <td>NaN</td>\n",
       "    </tr>\n",
       "    <tr>\n",
       "      <td>4</td>\n",
       "      <td>Robert Morris</td>\n",
       "      <td>NaN</td>\n",
       "      <td>yes</td>\n",
       "      <td>2390.0</td>\n",
       "      <td>36.0</td>\n",
       "      <td>1195.0</td>\n",
       "      <td>18.0</td>\n",
       "      <td>NaN</td>\n",
       "      <td>NaN</td>\n",
       "    </tr>\n",
       "  </tbody>\n",
       "</table>\n",
       "</div>"
      ],
      "text/plain": [
       "     delegate name delegate_state sign  6p_Dollar  6p_Cents  6p_def_Dollar  \\\n",
       "0   Daniel Carroll            NaN  yes      151.0       4.0           75.0   \n",
       "1   Elbridge Gerry            NaN   no     1516.0      67.0          758.0   \n",
       "2  Hugh Williamson            NaN  yes      149.0      98.0           75.0   \n",
       "3  Hugh Williamson             NC  yes      149.0      98.0           75.0   \n",
       "4    Robert Morris            NaN  yes     2390.0      36.0         1195.0   \n",
       "\n",
       "   6p_def_Cents  3p_Dollar  3p_Cents  \n",
       "0          52.0        NaN       NaN  \n",
       "1          33.0        NaN       NaN  \n",
       "2           NaN        NaN       NaN  \n",
       "3           NaN        NaN       NaN  \n",
       "4          18.0        NaN       NaN  "
      ]
     },
     "execution_count": 90,
     "metadata": {},
     "output_type": "execute_result"
    }
   ],
   "source": [
    "PA_CD_agg = pd.merge(PA_CD_6p, PA_CD_6p_def, on = ['delegate name','delegate_state','sign'], how = 'outer')\n",
    "PA_CD_agg = pd.merge(PA_CD_agg, PA_CD_3p, on = ['delegate name','delegate_state','sign'], how = 'outer')\n",
    "PA_CD_agg.head()"
   ]
  },
  {
   "cell_type": "code",
   "execution_count": 91,
   "metadata": {
    "pycharm": {
     "name": "#%%\n"
    }
   },
   "outputs": [],
   "source": [
    "cumulative_CD = pd.concat([cumulative_CD, PA_CD_agg])"
   ]
  },
  {
   "cell_type": "markdown",
   "metadata": {
    "pycharm": {
     "name": "#%% md\n"
    }
   },
   "source": [
    "# Rhode Island Continental Debt Dataset Matching"
   ]
  },
  {
   "cell_type": "code",
   "execution_count": 92,
   "metadata": {
    "pycharm": {
     "name": "#%%\n"
    }
   },
   "outputs": [],
   "source": [
    "#prepare loan dataset\n",
    "RI_CD = pd.read_excel(\"../Data/Post1790/RI/T653_Rhode_Island_CD.xlsx\", header = 11, usecols = 'G, H, L, M, U, V, Z, AA, AI, AJ, AN, AO')\n",
    "RI_CD.columns = ['First Name', 'Last Name', '6p_Dollar', '6p_Cents', 'First Name.1', 'Last Name.1', '6p_def_Dollar', '6p_def_Cents',\n",
    "                  'First Name.2', 'Last Name.2', '3p_Dollar', '3p_Cents']\n",
    "RI_CD['full name 1'] = RI_CD['First Name'] + \" \" + RI_CD['Last Name']\n",
    "RI_CD['full name 2'] = RI_CD['First Name.1'] + \" \" + RI_CD['Last Name.1']\n",
    "RI_CD['full name 3'] = RI_CD['First Name.2'] + \" \" + RI_CD['Last Name.2']"
   ]
  },
  {
   "cell_type": "code",
   "execution_count": 93,
   "metadata": {
    "pycharm": {
     "name": "#%%\n"
    }
   },
   "outputs": [],
   "source": [
    "RI_CD['index'] = RI_CD.index\n",
    "\n",
    "RI_CD_f1 = RI_CD[['full name 1', '6p_Dollar','6p_Cents',]]\n",
    "RI_CD_f2 = RI_CD[['full name 2', '6p_def_Dollar','6p_def_Cents']]\n",
    "RI_CD_f3 = RI_CD[['full name 3', '3p_Dollar', '3p_Cents']]"
   ]
  },
  {
   "cell_type": "code",
   "execution_count": 94,
   "metadata": {
    "pycharm": {
     "name": "#%%\n"
    }
   },
   "outputs": [],
   "source": [
    "RI_CD_6p = pd.merge(total_assets_final, RI_CD_f1[RI_CD_f1['full name 1'].apply(lambda x: not pd.isnull(x))],\n",
    "                     left_on = 'match name', right_on = 'full name 1').drop(['full name 1','match name'], axis = 1)\n",
    "RI_CD_6p_def = pd.merge(total_assets_final, RI_CD_f2[RI_CD_f2['full name 2'].apply(lambda x: not pd.isnull(x))],\n",
    "                         left_on = 'match name', right_on = 'full name 2').drop(['full name 2','match name'], axis = 1)\n",
    "RI_CD_3p = pd.merge(total_assets_final, RI_CD_f3[RI_CD_f3['full name 3'].apply(lambda x: not pd.isnull(x))],\n",
    "                         left_on = 'match name', right_on = 'full name 3').drop(['full name 3','match name'], axis = 1)"
   ]
  },
  {
   "cell_type": "code",
   "execution_count": 95,
   "metadata": {
    "pycharm": {
     "name": "#%%\n"
    }
   },
   "outputs": [
    {
     "data": {
      "text/html": [
       "<div>\n",
       "<style scoped>\n",
       "    .dataframe tbody tr th:only-of-type {\n",
       "        vertical-align: middle;\n",
       "    }\n",
       "\n",
       "    .dataframe tbody tr th {\n",
       "        vertical-align: top;\n",
       "    }\n",
       "\n",
       "    .dataframe thead th {\n",
       "        text-align: right;\n",
       "    }\n",
       "</style>\n",
       "<table border=\"1\" class=\"dataframe\">\n",
       "  <thead>\n",
       "    <tr style=\"text-align: right;\">\n",
       "      <th></th>\n",
       "      <th>delegate name</th>\n",
       "      <th>delegate_state</th>\n",
       "      <th>sign</th>\n",
       "      <th>6p_Dollar</th>\n",
       "      <th>6p_Cents</th>\n",
       "      <th>6p_def_Dollar</th>\n",
       "      <th>6p_def_Cents</th>\n",
       "      <th>3p_Dollar</th>\n",
       "      <th>3p_Cents</th>\n",
       "    </tr>\n",
       "  </thead>\n",
       "  <tbody>\n",
       "    <tr>\n",
       "      <td>0</td>\n",
       "      <td>Luther Martin</td>\n",
       "      <td>NaN</td>\n",
       "      <td>no</td>\n",
       "      <td>20.0</td>\n",
       "      <td>63.0</td>\n",
       "      <td>10.0</td>\n",
       "      <td>31.0</td>\n",
       "      <td>14.0</td>\n",
       "      <td>73.0</td>\n",
       "    </tr>\n",
       "    <tr>\n",
       "      <td>1</td>\n",
       "      <td>Luther Martin</td>\n",
       "      <td>MD</td>\n",
       "      <td>no</td>\n",
       "      <td>20.0</td>\n",
       "      <td>63.0</td>\n",
       "      <td>10.0</td>\n",
       "      <td>31.0</td>\n",
       "      <td>14.0</td>\n",
       "      <td>73.0</td>\n",
       "    </tr>\n",
       "    <tr>\n",
       "      <td>2</td>\n",
       "      <td>William Hall</td>\n",
       "      <td>DE</td>\n",
       "      <td>yes</td>\n",
       "      <td>167.0</td>\n",
       "      <td>98.0</td>\n",
       "      <td>83.0</td>\n",
       "      <td>98.0</td>\n",
       "      <td>87.0</td>\n",
       "      <td>41.0</td>\n",
       "    </tr>\n",
       "    <tr>\n",
       "      <td>3</td>\n",
       "      <td>Richard Smith</td>\n",
       "      <td>DE</td>\n",
       "      <td>yes</td>\n",
       "      <td>43.0</td>\n",
       "      <td>45.0</td>\n",
       "      <td>21.0</td>\n",
       "      <td>72.0</td>\n",
       "      <td>40.0</td>\n",
       "      <td>97.0</td>\n",
       "    </tr>\n",
       "    <tr>\n",
       "      <td>4</td>\n",
       "      <td>Joseph Barker</td>\n",
       "      <td>DE</td>\n",
       "      <td>yes</td>\n",
       "      <td>58.0</td>\n",
       "      <td>64.0</td>\n",
       "      <td>29.0</td>\n",
       "      <td>32.0</td>\n",
       "      <td>21.0</td>\n",
       "      <td>12.0</td>\n",
       "    </tr>\n",
       "  </tbody>\n",
       "</table>\n",
       "</div>"
      ],
      "text/plain": [
       "   delegate name delegate_state sign  6p_Dollar  6p_Cents  6p_def_Dollar  \\\n",
       "0  Luther Martin            NaN   no       20.0      63.0           10.0   \n",
       "1  Luther Martin             MD   no       20.0      63.0           10.0   \n",
       "2   William Hall             DE  yes      167.0      98.0           83.0   \n",
       "3  Richard Smith             DE  yes       43.0      45.0           21.0   \n",
       "4  Joseph Barker             DE  yes       58.0      64.0           29.0   \n",
       "\n",
       "   6p_def_Cents  3p_Dollar  3p_Cents  \n",
       "0          31.0       14.0      73.0  \n",
       "1          31.0       14.0      73.0  \n",
       "2          98.0       87.0      41.0  \n",
       "3          72.0       40.0      97.0  \n",
       "4          32.0       21.0      12.0  "
      ]
     },
     "execution_count": 95,
     "metadata": {},
     "output_type": "execute_result"
    }
   ],
   "source": [
    "RI_CD_agg = pd.merge(RI_CD_6p, RI_CD_6p_def, on = ['delegate name','delegate_state','sign'], how = 'outer')\n",
    "RI_CD_agg = pd.merge(RI_CD_agg, RI_CD_3p, on = ['delegate name','delegate_state','sign'], how = 'outer')\n",
    "RI_CD_agg.head()"
   ]
  },
  {
   "cell_type": "code",
   "execution_count": 96,
   "metadata": {
    "pycharm": {
     "name": "#%%\n"
    }
   },
   "outputs": [],
   "source": [
    "cumulative_CD = pd.concat([RI_CD_agg, cumulative_CD])"
   ]
  },
  {
   "cell_type": "markdown",
   "metadata": {
    "pycharm": {
     "name": "#%% md\n"
    }
   },
   "source": [
    "# Virginia Continental Debt Dataset Matching"
   ]
  },
  {
   "cell_type": "code",
   "execution_count": 97,
   "metadata": {
    "pycharm": {
     "name": "#%%\n"
    }
   },
   "outputs": [],
   "source": [
    "#prepare loan dataset\n",
    "VA_CD = pd.read_excel(\"../Data/Post1790/VA/VA_CD.xlsx\", header = 11, usecols = 'H, I, K, L, U, V, X, Y, AH, AI, AK, AL')\n",
    "VA_CD.columns = ['First Name', 'Last Name', '6p_Dollar', '6p_Cents', 'First Name.1', 'Last Name.1', '6p_def_Dollar', '6p_def_Cents',\n",
    "                  'First Name.2', 'Last Name.2', '3p_Dollar', '3p_Cents']\n",
    "VA_CD['full name 1'] = VA_CD['First Name'] + \" \" + VA_CD['Last Name']\n",
    "VA_CD['full name 2'] = VA_CD['First Name.1'] + \" \" + VA_CD['Last Name.1']\n",
    "VA_CD['full name 3'] = VA_CD['First Name.2'] + \" \" + VA_CD['Last Name.2']"
   ]
  },
  {
   "cell_type": "code",
   "execution_count": 98,
   "metadata": {
    "pycharm": {
     "name": "#%%\n"
    }
   },
   "outputs": [],
   "source": [
    "VA_CD['index'] = VA_CD.index\n",
    "\n",
    "VA_CD_f1 = VA_CD[['full name 1', '6p_Dollar','6p_Cents',]]\n",
    "VA_CD_f2 = VA_CD[['full name 2', '6p_def_Dollar','6p_def_Cents']]\n",
    "VA_CD_f3 = VA_CD[['full name 3', '3p_Dollar', '3p_Cents']]"
   ]
  },
  {
   "cell_type": "code",
   "execution_count": 99,
   "metadata": {
    "pycharm": {
     "name": "#%%\n"
    }
   },
   "outputs": [],
   "source": [
    "VA_CD_6p = pd.merge(total_assets_final, VA_CD_f1[VA_CD_f1['full name 1'].apply(lambda x: not pd.isnull(x))],\n",
    "                     left_on = 'match name', right_on = 'full name 1').drop(['full name 1','match name'], axis = 1)\n",
    "VA_CD_6p_def = pd.merge(total_assets_final, VA_CD_f2[VA_CD_f2['full name 2'].apply(lambda x: not pd.isnull(x))],\n",
    "                         left_on = 'match name', right_on = 'full name 2').drop(['full name 2','match name'], axis = 1)\n",
    "VA_CD_3p = pd.merge(total_assets_final, VA_CD_f3[VA_CD_f3['full name 3'].apply(lambda x: not pd.isnull(x))],\n",
    "                         left_on = 'match name', right_on = 'full name 3').drop(['full name 3','match name'], axis = 1)"
   ]
  },
  {
   "cell_type": "code",
   "execution_count": 100,
   "metadata": {
    "pycharm": {
     "name": "#%%\n"
    }
   },
   "outputs": [
    {
     "data": {
      "text/html": [
       "<div>\n",
       "<style scoped>\n",
       "    .dataframe tbody tr th:only-of-type {\n",
       "        vertical-align: middle;\n",
       "    }\n",
       "\n",
       "    .dataframe tbody tr th {\n",
       "        vertical-align: top;\n",
       "    }\n",
       "\n",
       "    .dataframe thead th {\n",
       "        text-align: right;\n",
       "    }\n",
       "</style>\n",
       "<table border=\"1\" class=\"dataframe\">\n",
       "  <thead>\n",
       "    <tr style=\"text-align: right;\">\n",
       "      <th></th>\n",
       "      <th>delegate name</th>\n",
       "      <th>delegate_state</th>\n",
       "      <th>sign</th>\n",
       "      <th>6p_Dollar</th>\n",
       "      <th>6p_Cents</th>\n",
       "      <th>6p_def_Dollar</th>\n",
       "      <th>6p_def_Cents</th>\n",
       "      <th>3p_Dollar</th>\n",
       "      <th>3p_Cents</th>\n",
       "    </tr>\n",
       "  </thead>\n",
       "  <tbody>\n",
       "    <tr>\n",
       "      <td>0</td>\n",
       "      <td>George Read</td>\n",
       "      <td>NaN</td>\n",
       "      <td>yes</td>\n",
       "      <td>767.0</td>\n",
       "      <td>88.0</td>\n",
       "      <td>NaN</td>\n",
       "      <td>NaN</td>\n",
       "      <td>NaN</td>\n",
       "      <td>NaN</td>\n",
       "    </tr>\n",
       "    <tr>\n",
       "      <td>1</td>\n",
       "      <td>Robert Morris</td>\n",
       "      <td>NaN</td>\n",
       "      <td>yes</td>\n",
       "      <td>5000.0</td>\n",
       "      <td>0.0</td>\n",
       "      <td>NaN</td>\n",
       "      <td>NaN</td>\n",
       "      <td>NaN</td>\n",
       "      <td>NaN</td>\n",
       "    </tr>\n",
       "    <tr>\n",
       "      <td>2</td>\n",
       "      <td>John Blair</td>\n",
       "      <td>NaN</td>\n",
       "      <td>yes</td>\n",
       "      <td>652.0</td>\n",
       "      <td>86.0</td>\n",
       "      <td>326.0</td>\n",
       "      <td>44.0</td>\n",
       "      <td>386.0</td>\n",
       "      <td>53.0</td>\n",
       "    </tr>\n",
       "    <tr>\n",
       "      <td>3</td>\n",
       "      <td>John Blair</td>\n",
       "      <td>NaN</td>\n",
       "      <td>yes</td>\n",
       "      <td>652.0</td>\n",
       "      <td>86.0</td>\n",
       "      <td>326.0</td>\n",
       "      <td>44.0</td>\n",
       "      <td>242.0</td>\n",
       "      <td>75.0</td>\n",
       "    </tr>\n",
       "    <tr>\n",
       "      <td>4</td>\n",
       "      <td>John Blair</td>\n",
       "      <td>NaN</td>\n",
       "      <td>yes</td>\n",
       "      <td>652.0</td>\n",
       "      <td>86.0</td>\n",
       "      <td>326.0</td>\n",
       "      <td>44.0</td>\n",
       "      <td>25.0</td>\n",
       "      <td>NaN</td>\n",
       "    </tr>\n",
       "  </tbody>\n",
       "</table>\n",
       "</div>"
      ],
      "text/plain": [
       "   delegate name delegate_state sign  6p_Dollar  6p_Cents  6p_def_Dollar  \\\n",
       "0    George Read            NaN  yes      767.0      88.0            NaN   \n",
       "1  Robert Morris            NaN  yes     5000.0       0.0            NaN   \n",
       "2     John Blair            NaN  yes      652.0      86.0          326.0   \n",
       "3     John Blair            NaN  yes      652.0      86.0          326.0   \n",
       "4     John Blair            NaN  yes      652.0      86.0          326.0   \n",
       "\n",
       "   6p_def_Cents  3p_Dollar  3p_Cents  \n",
       "0           NaN        NaN       NaN  \n",
       "1           NaN        NaN       NaN  \n",
       "2          44.0      386.0      53.0  \n",
       "3          44.0      242.0      75.0  \n",
       "4          44.0       25.0       NaN  "
      ]
     },
     "execution_count": 100,
     "metadata": {},
     "output_type": "execute_result"
    }
   ],
   "source": [
    "VA_CD_agg = pd.merge(VA_CD_6p, VA_CD_6p_def, on = ['delegate name','delegate_state','sign'], how = 'outer')\n",
    "VA_CD_agg = pd.merge(VA_CD_agg, VA_CD_3p, on = ['delegate name','delegate_state','sign'], how = 'outer')\n",
    "VA_CD_agg.head()"
   ]
  },
  {
   "cell_type": "code",
   "execution_count": 101,
   "metadata": {
    "pycharm": {
     "name": "#%%\n"
    }
   },
   "outputs": [],
   "source": [
    "cumulative_CD = pd.concat([VA_CD_agg, cumulative_CD])"
   ]
  },
  {
   "cell_type": "markdown",
   "metadata": {
    "pycharm": {
     "name": "#%% md\n"
    }
   },
   "source": [
    "# Georgia Continental Debt Dataset Matching"
   ]
  },
  {
   "cell_type": "code",
   "execution_count": 102,
   "metadata": {
    "pycharm": {
     "name": "#%%\n"
    }
   },
   "outputs": [],
   "source": [
    "#prepare loan dataset\n",
    "GA_CD = pd.read_excel(\"../Data/Post1790/GA/T694_GA_Loan_Office_CD.xlsx\", header = 10, usecols = 'Q, R, Z, AA, AB, AC, AD, AE')\n",
    "GA_CD.columns = ['First Name', 'Last Name', '6p_Dollar', '6p_Cents',  '6p_def_Dollar', '6p_def_Cents', '3p_Dollar', '3p_Cents']\n",
    "GA_CD['full name 1'] = GA_CD['First Name'] + \" \" + GA_CD['Last Name']"
   ]
  },
  {
   "cell_type": "code",
   "execution_count": 103,
   "metadata": {
    "pycharm": {
     "name": "#%%\n"
    }
   },
   "outputs": [],
   "source": [
    "GA_CD['index'] = GA_CD.index\n",
    "\n",
    "GA_CD_f = GA_CD[['full name 1', '6p_Dollar', '6p_Cents', '6p_def_Dollar', '6p_def_Cents', '3p_Dollar', '3p_Cents']]"
   ]
  },
  {
   "cell_type": "code",
   "execution_count": 104,
   "metadata": {
    "pycharm": {
     "name": "#%%\n"
    }
   },
   "outputs": [],
   "source": [
    "GA_CD_agg = pd.merge(total_assets_final, GA_CD_f[GA_CD_f['full name 1'].apply(lambda x: not pd.isnull(x))],\n",
    "                     left_on = 'match name', right_on = 'full name 1').drop(['full name 1', 'match name'], axis = 1)"
   ]
  },
  {
   "cell_type": "code",
   "execution_count": 105,
   "metadata": {
    "pycharm": {
     "name": "#%%\n"
    }
   },
   "outputs": [
    {
     "data": {
      "text/html": [
       "<div>\n",
       "<style scoped>\n",
       "    .dataframe tbody tr th:only-of-type {\n",
       "        vertical-align: middle;\n",
       "    }\n",
       "\n",
       "    .dataframe tbody tr th {\n",
       "        vertical-align: top;\n",
       "    }\n",
       "\n",
       "    .dataframe thead th {\n",
       "        text-align: right;\n",
       "    }\n",
       "</style>\n",
       "<table border=\"1\" class=\"dataframe\">\n",
       "  <thead>\n",
       "    <tr style=\"text-align: right;\">\n",
       "      <th></th>\n",
       "      <th>delegate name</th>\n",
       "      <th>delegate_state</th>\n",
       "      <th>sign</th>\n",
       "      <th>6p_Dollar</th>\n",
       "      <th>6p_Cents</th>\n",
       "      <th>6p_def_Dollar</th>\n",
       "      <th>6p_def_Cents</th>\n",
       "      <th>3p_Dollar</th>\n",
       "      <th>3p_Cents</th>\n",
       "    </tr>\n",
       "  </thead>\n",
       "  <tbody>\n",
       "    <tr>\n",
       "      <td>0</td>\n",
       "      <td>Nathaniel Russell</td>\n",
       "      <td>SC</td>\n",
       "      <td>yes</td>\n",
       "      <td>1.0</td>\n",
       "      <td>3987.9033</td>\n",
       "      <td>1.0</td>\n",
       "      <td>1993.9533</td>\n",
       "      <td>1.0</td>\n",
       "      <td>3625.67</td>\n",
       "    </tr>\n",
       "    <tr>\n",
       "      <td>1</td>\n",
       "      <td>Henry Laurens</td>\n",
       "      <td>SC</td>\n",
       "      <td>yes</td>\n",
       "      <td>1.0</td>\n",
       "      <td>824.4133</td>\n",
       "      <td>1.0</td>\n",
       "      <td>412.2033</td>\n",
       "      <td>1.0</td>\n",
       "      <td>941.54</td>\n",
       "    </tr>\n",
       "    <tr>\n",
       "      <td>2</td>\n",
       "      <td>Henry Laurens</td>\n",
       "      <td>SC</td>\n",
       "      <td>yes</td>\n",
       "      <td>1.0</td>\n",
       "      <td>824.4133</td>\n",
       "      <td>1.0</td>\n",
       "      <td>412.2033</td>\n",
       "      <td>1.0</td>\n",
       "      <td>941.54</td>\n",
       "    </tr>\n",
       "  </tbody>\n",
       "</table>\n",
       "</div>"
      ],
      "text/plain": [
       "       delegate name delegate_state sign  6p_Dollar   6p_Cents  6p_def_Dollar  \\\n",
       "0  Nathaniel Russell             SC  yes        1.0  3987.9033            1.0   \n",
       "1      Henry Laurens             SC  yes        1.0   824.4133            1.0   \n",
       "2      Henry Laurens             SC  yes        1.0   824.4133            1.0   \n",
       "\n",
       "   6p_def_Cents  3p_Dollar  3p_Cents  \n",
       "0     1993.9533        1.0   3625.67  \n",
       "1      412.2033        1.0    941.54  \n",
       "2      412.2033        1.0    941.54  "
      ]
     },
     "execution_count": 105,
     "metadata": {},
     "output_type": "execute_result"
    }
   ],
   "source": [
    "GA_CD_agg.head()"
   ]
  },
  {
   "cell_type": "code",
   "execution_count": 106,
   "metadata": {
    "pycharm": {
     "name": "#%%\n"
    }
   },
   "outputs": [],
   "source": [
    "cumulative_CD = pd.concat([GA_CD_agg, cumulative_CD])"
   ]
  },
  {
   "cell_type": "markdown",
   "metadata": {
    "pycharm": {
     "name": "#%% md\n"
    }
   },
   "source": [
    "# New Jersey Continental Debt Dataset Matching"
   ]
  },
  {
   "cell_type": "code",
   "execution_count": 107,
   "metadata": {
    "pycharm": {
     "name": "#%%\n"
    }
   },
   "outputs": [],
   "source": [
    "#prepare loan dataset\n",
    "NJ_CD = pd.read_excel(\"../Data/Post1790/NJ/NJ_3_percent_stock_T698_R1_R2.xlsx\", header = 10, usecols = 'D, E, L, M')\n",
    "NJ_CD.columns = ['First Name', 'Last Name', '3p_Dollar', '3p_Cents']\n",
    "NJ_CD['full name 1'] = NJ_CD['First Name'] + \" \" + NJ_CD['Last Name']"
   ]
  },
  {
   "cell_type": "code",
   "execution_count": 108,
   "metadata": {
    "pycharm": {
     "name": "#%%\n"
    }
   },
   "outputs": [],
   "source": [
    "NJ_CD['index'] = NJ_CD.index\n",
    "\n",
    "NJ_CD_f = NJ_CD[['full name 1',  '3p_Dollar', '3p_Cents']]"
   ]
  },
  {
   "cell_type": "code",
   "execution_count": 109,
   "metadata": {
    "pycharm": {
     "name": "#%%\n"
    }
   },
   "outputs": [],
   "source": [
    "NJ_CD_agg = pd.merge(total_assets_final, NJ_CD_f[NJ_CD_f['full name 1'].apply(lambda x: not pd.isnull(x))],\n",
    "                     left_on = 'match name', right_on = 'full name 1').drop(['full name 1', 'match name'], axis = 1)"
   ]
  },
  {
   "cell_type": "code",
   "execution_count": 110,
   "metadata": {
    "pycharm": {
     "name": "#%%\n"
    }
   },
   "outputs": [
    {
     "data": {
      "text/html": [
       "<div>\n",
       "<style scoped>\n",
       "    .dataframe tbody tr th:only-of-type {\n",
       "        vertical-align: middle;\n",
       "    }\n",
       "\n",
       "    .dataframe tbody tr th {\n",
       "        vertical-align: top;\n",
       "    }\n",
       "\n",
       "    .dataframe thead th {\n",
       "        text-align: right;\n",
       "    }\n",
       "</style>\n",
       "<table border=\"1\" class=\"dataframe\">\n",
       "  <thead>\n",
       "    <tr style=\"text-align: right;\">\n",
       "      <th></th>\n",
       "      <th>delegate name</th>\n",
       "      <th>delegate_state</th>\n",
       "      <th>sign</th>\n",
       "      <th>3p_Dollar</th>\n",
       "      <th>3p_Cents</th>\n",
       "    </tr>\n",
       "  </thead>\n",
       "  <tbody>\n",
       "    <tr>\n",
       "      <td>0</td>\n",
       "      <td>Jonathan Dayton</td>\n",
       "      <td>NaN</td>\n",
       "      <td>yes</td>\n",
       "      <td>168</td>\n",
       "      <td>52</td>\n",
       "    </tr>\n",
       "    <tr>\n",
       "      <td>1</td>\n",
       "      <td>Jonathan Dayton</td>\n",
       "      <td>NaN</td>\n",
       "      <td>yes</td>\n",
       "      <td>302</td>\n",
       "      <td>9</td>\n",
       "    </tr>\n",
       "    <tr>\n",
       "      <td>2</td>\n",
       "      <td>Robert Morris</td>\n",
       "      <td>NaN</td>\n",
       "      <td>yes</td>\n",
       "      <td>156</td>\n",
       "      <td>53</td>\n",
       "    </tr>\n",
       "    <tr>\n",
       "      <td>3</td>\n",
       "      <td>Robert Morris</td>\n",
       "      <td>NaN</td>\n",
       "      <td>yes</td>\n",
       "      <td>69</td>\n",
       "      <td>9</td>\n",
       "    </tr>\n",
       "    <tr>\n",
       "      <td>4</td>\n",
       "      <td>Robert Morris</td>\n",
       "      <td>NaN</td>\n",
       "      <td>yes</td>\n",
       "      <td>166</td>\n",
       "      <td>15</td>\n",
       "    </tr>\n",
       "  </tbody>\n",
       "</table>\n",
       "</div>"
      ],
      "text/plain": [
       "     delegate name delegate_state sign 3p_Dollar 3p_Cents\n",
       "0  Jonathan Dayton            NaN  yes       168       52\n",
       "1  Jonathan Dayton            NaN  yes       302        9\n",
       "2    Robert Morris            NaN  yes       156       53\n",
       "3    Robert Morris            NaN  yes        69        9\n",
       "4    Robert Morris            NaN  yes       166       15"
      ]
     },
     "execution_count": 110,
     "metadata": {},
     "output_type": "execute_result"
    }
   ],
   "source": [
    "NJ_CD_agg.head()"
   ]
  },
  {
   "cell_type": "code",
   "execution_count": 111,
   "metadata": {
    "pycharm": {
     "name": "#%%\n"
    }
   },
   "outputs": [
    {
     "name": "stderr",
     "output_type": "stream",
     "text": [
      "/opt/anaconda3/lib/python3.7/site-packages/ipykernel_launcher.py:1: FutureWarning: Sorting because non-concatenation axis is not aligned. A future version\n",
      "of pandas will change to not sort by default.\n",
      "\n",
      "To accept the future behavior, pass 'sort=False'.\n",
      "\n",
      "To retain the current behavior and silence the warning, pass 'sort=True'.\n",
      "\n",
      "  \"\"\"Entry point for launching an IPython kernel.\n"
     ]
    }
   ],
   "source": [
    "cumulative_CD = pd.concat([NJ_CD_agg, cumulative_CD])"
   ]
  },
  {
   "cell_type": "markdown",
   "metadata": {
    "pycharm": {
     "name": "#%% md\n"
    }
   },
   "source": [
    "# Assembling the Continental Debt File"
   ]
  },
  {
   "cell_type": "code",
   "execution_count": 112,
   "metadata": {
    "pycharm": {
     "name": "#%%\n"
    }
   },
   "outputs": [],
   "source": [
    "cumulative_CD['delegate_state'] = cumulative_CD['delegate_state'].apply(lambda x: 'Constitution' if pd.isnull(x) else x)"
   ]
  },
  {
   "cell_type": "code",
   "execution_count": 113,
   "metadata": {
    "pycharm": {
     "name": "#%%\n"
    }
   },
   "outputs": [],
   "source": [
    "cumulative_CD_assets = pd.merge(cum_firstlast, cumulative_CD, left_on = 'Full Name', right_on = 'delegate name').drop('Full Name', axis = 1).drop_duplicates()\n",
    "cumulative_CD_assets = cumulative_CD_assets.rename(columns = {'6p_Dollar':'CD_6p_Dollar', '6p_Cents':'CD_6p_Cents','6p_def_Dollar':'CD_6p_def_Dollar', \n",
    "                                                                '6p_def_Cents':'CD_6p_def_Cents', '3p_Dollar':'CD_3p_Dollar','3p_Cents':'CD_3p_Cents'})"
   ]
  },
  {
   "cell_type": "code",
   "execution_count": 114,
   "metadata": {
    "pycharm": {
     "name": "#%%\n"
    }
   },
   "outputs": [],
   "source": [
    "cumulative_CD_assets_agg = cumulative_CD_assets.groupby(['delegate name', 'First Name', 'Last Name',  'delegate_state', 'sign'])[['CD_6p_Dollar','CD_6p_Cents','CD_6p_def_Dollar','CD_6p_def_Cents','CD_3p_Dollar','CD_3p_Cents']].agg(['sum','count'])\n",
    "cumulative_CD_assets_agg.sort_values('Last Name', inplace = True)"
   ]
  },
  {
   "cell_type": "code",
   "execution_count": 115,
   "metadata": {
    "pycharm": {
     "name": "#%%\n"
    }
   },
   "outputs": [
    {
     "data": {
      "text/html": [
       "<div>\n",
       "<style scoped>\n",
       "    .dataframe tbody tr th:only-of-type {\n",
       "        vertical-align: middle;\n",
       "    }\n",
       "\n",
       "    .dataframe tbody tr th {\n",
       "        vertical-align: top;\n",
       "    }\n",
       "\n",
       "    .dataframe thead tr th {\n",
       "        text-align: left;\n",
       "    }\n",
       "\n",
       "    .dataframe thead tr:last-of-type th {\n",
       "        text-align: right;\n",
       "    }\n",
       "</style>\n",
       "<table border=\"1\" class=\"dataframe\">\n",
       "  <thead>\n",
       "    <tr>\n",
       "      <th></th>\n",
       "      <th></th>\n",
       "      <th></th>\n",
       "      <th></th>\n",
       "      <th></th>\n",
       "      <th colspan=\"2\" halign=\"left\">CD_6p_Dollar</th>\n",
       "      <th colspan=\"2\" halign=\"left\">CD_6p_Cents</th>\n",
       "      <th colspan=\"2\" halign=\"left\">CD_6p_def_Dollar</th>\n",
       "      <th colspan=\"2\" halign=\"left\">CD_6p_def_Cents</th>\n",
       "      <th colspan=\"2\" halign=\"left\">CD_3p_Dollar</th>\n",
       "      <th>...</th>\n",
       "      <th colspan=\"2\" halign=\"left\">ASD_6p_Cents</th>\n",
       "      <th colspan=\"2\" halign=\"left\">ASD_6p_def_Dollar</th>\n",
       "      <th colspan=\"2\" halign=\"left\">ASD_6p_def_Cents</th>\n",
       "      <th colspan=\"2\" halign=\"left\">ASD_3p_Dollar</th>\n",
       "      <th colspan=\"2\" halign=\"left\">ASD_3p_Cents</th>\n",
       "    </tr>\n",
       "    <tr>\n",
       "      <th></th>\n",
       "      <th></th>\n",
       "      <th></th>\n",
       "      <th></th>\n",
       "      <th></th>\n",
       "      <th>sum</th>\n",
       "      <th>count</th>\n",
       "      <th>sum</th>\n",
       "      <th>count</th>\n",
       "      <th>sum</th>\n",
       "      <th>count</th>\n",
       "      <th>sum</th>\n",
       "      <th>count</th>\n",
       "      <th>sum</th>\n",
       "      <th>count</th>\n",
       "      <th>...</th>\n",
       "      <th>sum</th>\n",
       "      <th>count</th>\n",
       "      <th>sum</th>\n",
       "      <th>count</th>\n",
       "      <th>sum</th>\n",
       "      <th>count</th>\n",
       "      <th>sum</th>\n",
       "      <th>count</th>\n",
       "      <th>sum</th>\n",
       "      <th>count</th>\n",
       "    </tr>\n",
       "    <tr>\n",
       "      <th>delegate name</th>\n",
       "      <th>First Name</th>\n",
       "      <th>Last Name</th>\n",
       "      <th>delegate_state</th>\n",
       "      <th>sign</th>\n",
       "      <th></th>\n",
       "      <th></th>\n",
       "      <th></th>\n",
       "      <th></th>\n",
       "      <th></th>\n",
       "      <th></th>\n",
       "      <th></th>\n",
       "      <th></th>\n",
       "      <th></th>\n",
       "      <th></th>\n",
       "      <th></th>\n",
       "      <th></th>\n",
       "      <th></th>\n",
       "      <th></th>\n",
       "      <th></th>\n",
       "      <th></th>\n",
       "      <th></th>\n",
       "      <th></th>\n",
       "      <th></th>\n",
       "      <th></th>\n",
       "      <th></th>\n",
       "    </tr>\n",
       "  </thead>\n",
       "  <tbody>\n",
       "    <tr>\n",
       "      <td>John Allen</td>\n",
       "      <td>John</td>\n",
       "      <td>Allen</td>\n",
       "      <td>NC</td>\n",
       "      <td>yes</td>\n",
       "      <td>116.0</td>\n",
       "      <td>1.0</td>\n",
       "      <td>31.0</td>\n",
       "      <td>1.0</td>\n",
       "      <td>58.0</td>\n",
       "      <td>1.0</td>\n",
       "      <td>15.0</td>\n",
       "      <td>1.0</td>\n",
       "      <td>122.0</td>\n",
       "      <td>1.0</td>\n",
       "      <td>...</td>\n",
       "      <td>42.0</td>\n",
       "      <td>1.0</td>\n",
       "      <td>13.0</td>\n",
       "      <td>1.0</td>\n",
       "      <td>20.0</td>\n",
       "      <td>1.0</td>\n",
       "      <td>19.0</td>\n",
       "      <td>1.0</td>\n",
       "      <td>81.0</td>\n",
       "      <td>1.0</td>\n",
       "    </tr>\n",
       "    <tr>\n",
       "      <td>John  Allen</td>\n",
       "      <td>John</td>\n",
       "      <td>Allen</td>\n",
       "      <td>VA</td>\n",
       "      <td>yes</td>\n",
       "      <td>116.0</td>\n",
       "      <td>1.0</td>\n",
       "      <td>31.0</td>\n",
       "      <td>1.0</td>\n",
       "      <td>58.0</td>\n",
       "      <td>1.0</td>\n",
       "      <td>15.0</td>\n",
       "      <td>1.0</td>\n",
       "      <td>122.0</td>\n",
       "      <td>1.0</td>\n",
       "      <td>...</td>\n",
       "      <td>42.0</td>\n",
       "      <td>1.0</td>\n",
       "      <td>13.0</td>\n",
       "      <td>1.0</td>\n",
       "      <td>20.0</td>\n",
       "      <td>1.0</td>\n",
       "      <td>19.0</td>\n",
       "      <td>1.0</td>\n",
       "      <td>81.0</td>\n",
       "      <td>1.0</td>\n",
       "    </tr>\n",
       "    <tr>\n",
       "      <td>Thomas Allen</td>\n",
       "      <td>Thomas</td>\n",
       "      <td>Allen</td>\n",
       "      <td>VA</td>\n",
       "      <td>no</td>\n",
       "      <td>357.0</td>\n",
       "      <td>1.0</td>\n",
       "      <td>38.0</td>\n",
       "      <td>1.0</td>\n",
       "      <td>178.0</td>\n",
       "      <td>1.0</td>\n",
       "      <td>69.0</td>\n",
       "      <td>1.0</td>\n",
       "      <td>291.0</td>\n",
       "      <td>1.0</td>\n",
       "      <td>...</td>\n",
       "      <td>64.0</td>\n",
       "      <td>1.0</td>\n",
       "      <td>6.0</td>\n",
       "      <td>1.0</td>\n",
       "      <td>32.0</td>\n",
       "      <td>1.0</td>\n",
       "      <td>9.0</td>\n",
       "      <td>1.0</td>\n",
       "      <td>47.0</td>\n",
       "      <td>1.0</td>\n",
       "    </tr>\n",
       "    <tr>\n",
       "      <td>Thomas Anderson</td>\n",
       "      <td>Thomas</td>\n",
       "      <td>Anderson</td>\n",
       "      <td>NJ</td>\n",
       "      <td>yes</td>\n",
       "      <td>0.0</td>\n",
       "      <td>0.0</td>\n",
       "      <td>0.0</td>\n",
       "      <td>0.0</td>\n",
       "      <td>0.0</td>\n",
       "      <td>0.0</td>\n",
       "      <td>0.0</td>\n",
       "      <td>0.0</td>\n",
       "      <td>64.0</td>\n",
       "      <td>2.0</td>\n",
       "      <td>...</td>\n",
       "      <td>NaN</td>\n",
       "      <td>NaN</td>\n",
       "      <td>NaN</td>\n",
       "      <td>NaN</td>\n",
       "      <td>NaN</td>\n",
       "      <td>NaN</td>\n",
       "      <td>NaN</td>\n",
       "      <td>NaN</td>\n",
       "      <td>NaN</td>\n",
       "      <td>NaN</td>\n",
       "    </tr>\n",
       "    <tr>\n",
       "      <td>James Anderson</td>\n",
       "      <td>James</td>\n",
       "      <td>Anderson</td>\n",
       "      <td>NC</td>\n",
       "      <td>yes</td>\n",
       "      <td>32.0</td>\n",
       "      <td>1.0</td>\n",
       "      <td>48.0</td>\n",
       "      <td>1.0</td>\n",
       "      <td>16.0</td>\n",
       "      <td>1.0</td>\n",
       "      <td>25.0</td>\n",
       "      <td>1.0</td>\n",
       "      <td>878.0</td>\n",
       "      <td>2.0</td>\n",
       "      <td>...</td>\n",
       "      <td>NaN</td>\n",
       "      <td>NaN</td>\n",
       "      <td>NaN</td>\n",
       "      <td>NaN</td>\n",
       "      <td>NaN</td>\n",
       "      <td>NaN</td>\n",
       "      <td>NaN</td>\n",
       "      <td>NaN</td>\n",
       "      <td>NaN</td>\n",
       "      <td>NaN</td>\n",
       "    </tr>\n",
       "    <tr>\n",
       "      <td>...</td>\n",
       "      <td>...</td>\n",
       "      <td>...</td>\n",
       "      <td>...</td>\n",
       "      <td>...</td>\n",
       "      <td>...</td>\n",
       "      <td>...</td>\n",
       "      <td>...</td>\n",
       "      <td>...</td>\n",
       "      <td>...</td>\n",
       "      <td>...</td>\n",
       "      <td>...</td>\n",
       "      <td>...</td>\n",
       "      <td>...</td>\n",
       "      <td>...</td>\n",
       "      <td>...</td>\n",
       "      <td>...</td>\n",
       "      <td>...</td>\n",
       "      <td>...</td>\n",
       "      <td>...</td>\n",
       "      <td>...</td>\n",
       "      <td>...</td>\n",
       "      <td>...</td>\n",
       "      <td>...</td>\n",
       "      <td>...</td>\n",
       "      <td>...</td>\n",
       "    </tr>\n",
       "    <tr>\n",
       "      <td rowspan=\"2\" valign=\"top\">Joseph Wood</td>\n",
       "      <td rowspan=\"2\" valign=\"top\">Joseph</td>\n",
       "      <td rowspan=\"2\" valign=\"top\">Wood</td>\n",
       "      <td rowspan=\"2\" valign=\"top\">MA</td>\n",
       "      <td>no</td>\n",
       "      <td>NaN</td>\n",
       "      <td>NaN</td>\n",
       "      <td>NaN</td>\n",
       "      <td>NaN</td>\n",
       "      <td>NaN</td>\n",
       "      <td>NaN</td>\n",
       "      <td>NaN</td>\n",
       "      <td>NaN</td>\n",
       "      <td>NaN</td>\n",
       "      <td>NaN</td>\n",
       "      <td>...</td>\n",
       "      <td>47.0</td>\n",
       "      <td>1.0</td>\n",
       "      <td>52.0</td>\n",
       "      <td>1.0</td>\n",
       "      <td>23.0</td>\n",
       "      <td>1.0</td>\n",
       "      <td>0.0</td>\n",
       "      <td>0.0</td>\n",
       "      <td>0.0</td>\n",
       "      <td>0.0</td>\n",
       "    </tr>\n",
       "    <tr>\n",
       "      <td>yes</td>\n",
       "      <td>NaN</td>\n",
       "      <td>NaN</td>\n",
       "      <td>NaN</td>\n",
       "      <td>NaN</td>\n",
       "      <td>NaN</td>\n",
       "      <td>NaN</td>\n",
       "      <td>NaN</td>\n",
       "      <td>NaN</td>\n",
       "      <td>NaN</td>\n",
       "      <td>NaN</td>\n",
       "      <td>...</td>\n",
       "      <td>47.0</td>\n",
       "      <td>1.0</td>\n",
       "      <td>52.0</td>\n",
       "      <td>1.0</td>\n",
       "      <td>23.0</td>\n",
       "      <td>1.0</td>\n",
       "      <td>0.0</td>\n",
       "      <td>0.0</td>\n",
       "      <td>0.0</td>\n",
       "      <td>0.0</td>\n",
       "    </tr>\n",
       "    <tr>\n",
       "      <td>Archibald Woods</td>\n",
       "      <td>Archibald</td>\n",
       "      <td>Woods</td>\n",
       "      <td>VA</td>\n",
       "      <td>yes</td>\n",
       "      <td>NaN</td>\n",
       "      <td>NaN</td>\n",
       "      <td>NaN</td>\n",
       "      <td>NaN</td>\n",
       "      <td>NaN</td>\n",
       "      <td>NaN</td>\n",
       "      <td>NaN</td>\n",
       "      <td>NaN</td>\n",
       "      <td>NaN</td>\n",
       "      <td>NaN</td>\n",
       "      <td>...</td>\n",
       "      <td>3.0</td>\n",
       "      <td>1.0</td>\n",
       "      <td>115.0</td>\n",
       "      <td>1.0</td>\n",
       "      <td>51.0</td>\n",
       "      <td>1.0</td>\n",
       "      <td>0.0</td>\n",
       "      <td>0.0</td>\n",
       "      <td>0.0</td>\n",
       "      <td>0.0</td>\n",
       "    </tr>\n",
       "    <tr>\n",
       "      <td rowspan=\"2\" valign=\"top\">George Wythe</td>\n",
       "      <td rowspan=\"2\" valign=\"top\">George</td>\n",
       "      <td rowspan=\"2\" valign=\"top\">Wythe</td>\n",
       "      <td>Constitution</td>\n",
       "      <td>no</td>\n",
       "      <td>NaN</td>\n",
       "      <td>NaN</td>\n",
       "      <td>NaN</td>\n",
       "      <td>NaN</td>\n",
       "      <td>NaN</td>\n",
       "      <td>NaN</td>\n",
       "      <td>NaN</td>\n",
       "      <td>NaN</td>\n",
       "      <td>NaN</td>\n",
       "      <td>NaN</td>\n",
       "      <td>...</td>\n",
       "      <td>19.0</td>\n",
       "      <td>1.0</td>\n",
       "      <td>380.0</td>\n",
       "      <td>1.0</td>\n",
       "      <td>10.0</td>\n",
       "      <td>1.0</td>\n",
       "      <td>570.0</td>\n",
       "      <td>1.0</td>\n",
       "      <td>14.0</td>\n",
       "      <td>1.0</td>\n",
       "    </tr>\n",
       "    <tr>\n",
       "      <td>VA</td>\n",
       "      <td>yes</td>\n",
       "      <td>NaN</td>\n",
       "      <td>NaN</td>\n",
       "      <td>NaN</td>\n",
       "      <td>NaN</td>\n",
       "      <td>NaN</td>\n",
       "      <td>NaN</td>\n",
       "      <td>NaN</td>\n",
       "      <td>NaN</td>\n",
       "      <td>NaN</td>\n",
       "      <td>NaN</td>\n",
       "      <td>...</td>\n",
       "      <td>19.0</td>\n",
       "      <td>1.0</td>\n",
       "      <td>380.0</td>\n",
       "      <td>1.0</td>\n",
       "      <td>10.0</td>\n",
       "      <td>1.0</td>\n",
       "      <td>570.0</td>\n",
       "      <td>1.0</td>\n",
       "      <td>14.0</td>\n",
       "      <td>1.0</td>\n",
       "    </tr>\n",
       "  </tbody>\n",
       "</table>\n",
       "<p>446 rows × 24 columns</p>\n",
       "</div>"
      ],
      "text/plain": [
       "                                                         CD_6p_Dollar        \\\n",
       "                                                                  sum count   \n",
       "delegate name   First Name Last Name delegate_state sign                      \n",
       "John Allen      John       Allen     NC             yes         116.0   1.0   \n",
       "John  Allen     John       Allen     VA             yes         116.0   1.0   \n",
       "Thomas Allen    Thomas     Allen     VA             no          357.0   1.0   \n",
       "Thomas Anderson Thomas     Anderson  NJ             yes           0.0   0.0   \n",
       "James Anderson  James      Anderson  NC             yes          32.0   1.0   \n",
       "...                                                               ...   ...   \n",
       "Joseph Wood     Joseph     Wood      MA             no            NaN   NaN   \n",
       "                                                    yes           NaN   NaN   \n",
       "Archibald Woods Archibald  Woods     VA             yes           NaN   NaN   \n",
       "George Wythe    George     Wythe     Constitution   no            NaN   NaN   \n",
       "                                     VA             yes           NaN   NaN   \n",
       "\n",
       "                                                         CD_6p_Cents        \\\n",
       "                                                                 sum count   \n",
       "delegate name   First Name Last Name delegate_state sign                     \n",
       "John Allen      John       Allen     NC             yes         31.0   1.0   \n",
       "John  Allen     John       Allen     VA             yes         31.0   1.0   \n",
       "Thomas Allen    Thomas     Allen     VA             no          38.0   1.0   \n",
       "Thomas Anderson Thomas     Anderson  NJ             yes          0.0   0.0   \n",
       "James Anderson  James      Anderson  NC             yes         48.0   1.0   \n",
       "...                                                              ...   ...   \n",
       "Joseph Wood     Joseph     Wood      MA             no           NaN   NaN   \n",
       "                                                    yes          NaN   NaN   \n",
       "Archibald Woods Archibald  Woods     VA             yes          NaN   NaN   \n",
       "George Wythe    George     Wythe     Constitution   no           NaN   NaN   \n",
       "                                     VA             yes          NaN   NaN   \n",
       "\n",
       "                                                         CD_6p_def_Dollar  \\\n",
       "                                                                      sum   \n",
       "delegate name   First Name Last Name delegate_state sign                    \n",
       "John Allen      John       Allen     NC             yes              58.0   \n",
       "John  Allen     John       Allen     VA             yes              58.0   \n",
       "Thomas Allen    Thomas     Allen     VA             no              178.0   \n",
       "Thomas Anderson Thomas     Anderson  NJ             yes               0.0   \n",
       "James Anderson  James      Anderson  NC             yes              16.0   \n",
       "...                                                                   ...   \n",
       "Joseph Wood     Joseph     Wood      MA             no                NaN   \n",
       "                                                    yes               NaN   \n",
       "Archibald Woods Archibald  Woods     VA             yes               NaN   \n",
       "George Wythe    George     Wythe     Constitution   no                NaN   \n",
       "                                     VA             yes               NaN   \n",
       "\n",
       "                                                                \\\n",
       "                                                         count   \n",
       "delegate name   First Name Last Name delegate_state sign         \n",
       "John Allen      John       Allen     NC             yes    1.0   \n",
       "John  Allen     John       Allen     VA             yes    1.0   \n",
       "Thomas Allen    Thomas     Allen     VA             no     1.0   \n",
       "Thomas Anderson Thomas     Anderson  NJ             yes    0.0   \n",
       "James Anderson  James      Anderson  NC             yes    1.0   \n",
       "...                                                        ...   \n",
       "Joseph Wood     Joseph     Wood      MA             no     NaN   \n",
       "                                                    yes    NaN   \n",
       "Archibald Woods Archibald  Woods     VA             yes    NaN   \n",
       "George Wythe    George     Wythe     Constitution   no     NaN   \n",
       "                                     VA             yes    NaN   \n",
       "\n",
       "                                                         CD_6p_def_Cents  \\\n",
       "                                                                     sum   \n",
       "delegate name   First Name Last Name delegate_state sign                   \n",
       "John Allen      John       Allen     NC             yes             15.0   \n",
       "John  Allen     John       Allen     VA             yes             15.0   \n",
       "Thomas Allen    Thomas     Allen     VA             no              69.0   \n",
       "Thomas Anderson Thomas     Anderson  NJ             yes              0.0   \n",
       "James Anderson  James      Anderson  NC             yes             25.0   \n",
       "...                                                                  ...   \n",
       "Joseph Wood     Joseph     Wood      MA             no               NaN   \n",
       "                                                    yes              NaN   \n",
       "Archibald Woods Archibald  Woods     VA             yes              NaN   \n",
       "George Wythe    George     Wythe     Constitution   no               NaN   \n",
       "                                     VA             yes              NaN   \n",
       "\n",
       "                                                               CD_3p_Dollar  \\\n",
       "                                                         count          sum   \n",
       "delegate name   First Name Last Name delegate_state sign                      \n",
       "John Allen      John       Allen     NC             yes    1.0        122.0   \n",
       "John  Allen     John       Allen     VA             yes    1.0        122.0   \n",
       "Thomas Allen    Thomas     Allen     VA             no     1.0        291.0   \n",
       "Thomas Anderson Thomas     Anderson  NJ             yes    0.0         64.0   \n",
       "James Anderson  James      Anderson  NC             yes    1.0        878.0   \n",
       "...                                                        ...          ...   \n",
       "Joseph Wood     Joseph     Wood      MA             no     NaN          NaN   \n",
       "                                                    yes    NaN          NaN   \n",
       "Archibald Woods Archibald  Woods     VA             yes    NaN          NaN   \n",
       "George Wythe    George     Wythe     Constitution   no     NaN          NaN   \n",
       "                                     VA             yes    NaN          NaN   \n",
       "\n",
       "                                                                ...  \\\n",
       "                                                         count  ...   \n",
       "delegate name   First Name Last Name delegate_state sign        ...   \n",
       "John Allen      John       Allen     NC             yes    1.0  ...   \n",
       "John  Allen     John       Allen     VA             yes    1.0  ...   \n",
       "Thomas Allen    Thomas     Allen     VA             no     1.0  ...   \n",
       "Thomas Anderson Thomas     Anderson  NJ             yes    2.0  ...   \n",
       "James Anderson  James      Anderson  NC             yes    2.0  ...   \n",
       "...                                                        ...  ...   \n",
       "Joseph Wood     Joseph     Wood      MA             no     NaN  ...   \n",
       "                                                    yes    NaN  ...   \n",
       "Archibald Woods Archibald  Woods     VA             yes    NaN  ...   \n",
       "George Wythe    George     Wythe     Constitution   no     NaN  ...   \n",
       "                                     VA             yes    NaN  ...   \n",
       "\n",
       "                                                         ASD_6p_Cents        \\\n",
       "                                                                  sum count   \n",
       "delegate name   First Name Last Name delegate_state sign                      \n",
       "John Allen      John       Allen     NC             yes          42.0   1.0   \n",
       "John  Allen     John       Allen     VA             yes          42.0   1.0   \n",
       "Thomas Allen    Thomas     Allen     VA             no           64.0   1.0   \n",
       "Thomas Anderson Thomas     Anderson  NJ             yes           NaN   NaN   \n",
       "James Anderson  James      Anderson  NC             yes           NaN   NaN   \n",
       "...                                                               ...   ...   \n",
       "Joseph Wood     Joseph     Wood      MA             no           47.0   1.0   \n",
       "                                                    yes          47.0   1.0   \n",
       "Archibald Woods Archibald  Woods     VA             yes           3.0   1.0   \n",
       "George Wythe    George     Wythe     Constitution   no           19.0   1.0   \n",
       "                                     VA             yes          19.0   1.0   \n",
       "\n",
       "                                                         ASD_6p_def_Dollar  \\\n",
       "                                                                       sum   \n",
       "delegate name   First Name Last Name delegate_state sign                     \n",
       "John Allen      John       Allen     NC             yes               13.0   \n",
       "John  Allen     John       Allen     VA             yes               13.0   \n",
       "Thomas Allen    Thomas     Allen     VA             no                 6.0   \n",
       "Thomas Anderson Thomas     Anderson  NJ             yes                NaN   \n",
       "James Anderson  James      Anderson  NC             yes                NaN   \n",
       "...                                                                    ...   \n",
       "Joseph Wood     Joseph     Wood      MA             no                52.0   \n",
       "                                                    yes               52.0   \n",
       "Archibald Woods Archibald  Woods     VA             yes              115.0   \n",
       "George Wythe    George     Wythe     Constitution   no               380.0   \n",
       "                                     VA             yes              380.0   \n",
       "\n",
       "                                                                \\\n",
       "                                                         count   \n",
       "delegate name   First Name Last Name delegate_state sign         \n",
       "John Allen      John       Allen     NC             yes    1.0   \n",
       "John  Allen     John       Allen     VA             yes    1.0   \n",
       "Thomas Allen    Thomas     Allen     VA             no     1.0   \n",
       "Thomas Anderson Thomas     Anderson  NJ             yes    NaN   \n",
       "James Anderson  James      Anderson  NC             yes    NaN   \n",
       "...                                                        ...   \n",
       "Joseph Wood     Joseph     Wood      MA             no     1.0   \n",
       "                                                    yes    1.0   \n",
       "Archibald Woods Archibald  Woods     VA             yes    1.0   \n",
       "George Wythe    George     Wythe     Constitution   no     1.0   \n",
       "                                     VA             yes    1.0   \n",
       "\n",
       "                                                         ASD_6p_def_Cents  \\\n",
       "                                                                      sum   \n",
       "delegate name   First Name Last Name delegate_state sign                    \n",
       "John Allen      John       Allen     NC             yes              20.0   \n",
       "John  Allen     John       Allen     VA             yes              20.0   \n",
       "Thomas Allen    Thomas     Allen     VA             no               32.0   \n",
       "Thomas Anderson Thomas     Anderson  NJ             yes               NaN   \n",
       "James Anderson  James      Anderson  NC             yes               NaN   \n",
       "...                                                                   ...   \n",
       "Joseph Wood     Joseph     Wood      MA             no               23.0   \n",
       "                                                    yes              23.0   \n",
       "Archibald Woods Archibald  Woods     VA             yes              51.0   \n",
       "George Wythe    George     Wythe     Constitution   no               10.0   \n",
       "                                     VA             yes              10.0   \n",
       "\n",
       "                                                               ASD_3p_Dollar  \\\n",
       "                                                         count           sum   \n",
       "delegate name   First Name Last Name delegate_state sign                       \n",
       "John Allen      John       Allen     NC             yes    1.0          19.0   \n",
       "John  Allen     John       Allen     VA             yes    1.0          19.0   \n",
       "Thomas Allen    Thomas     Allen     VA             no     1.0           9.0   \n",
       "Thomas Anderson Thomas     Anderson  NJ             yes    NaN           NaN   \n",
       "James Anderson  James      Anderson  NC             yes    NaN           NaN   \n",
       "...                                                        ...           ...   \n",
       "Joseph Wood     Joseph     Wood      MA             no     1.0           0.0   \n",
       "                                                    yes    1.0           0.0   \n",
       "Archibald Woods Archibald  Woods     VA             yes    1.0           0.0   \n",
       "George Wythe    George     Wythe     Constitution   no     1.0         570.0   \n",
       "                                     VA             yes    1.0         570.0   \n",
       "\n",
       "                                                               ASD_3p_Cents  \\\n",
       "                                                         count          sum   \n",
       "delegate name   First Name Last Name delegate_state sign                      \n",
       "John Allen      John       Allen     NC             yes    1.0         81.0   \n",
       "John  Allen     John       Allen     VA             yes    1.0         81.0   \n",
       "Thomas Allen    Thomas     Allen     VA             no     1.0         47.0   \n",
       "Thomas Anderson Thomas     Anderson  NJ             yes    NaN          NaN   \n",
       "James Anderson  James      Anderson  NC             yes    NaN          NaN   \n",
       "...                                                        ...          ...   \n",
       "Joseph Wood     Joseph     Wood      MA             no     0.0          0.0   \n",
       "                                                    yes    0.0          0.0   \n",
       "Archibald Woods Archibald  Woods     VA             yes    0.0          0.0   \n",
       "George Wythe    George     Wythe     Constitution   no     1.0         14.0   \n",
       "                                     VA             yes    1.0         14.0   \n",
       "\n",
       "                                                                \n",
       "                                                         count  \n",
       "delegate name   First Name Last Name delegate_state sign        \n",
       "John Allen      John       Allen     NC             yes    1.0  \n",
       "John  Allen     John       Allen     VA             yes    1.0  \n",
       "Thomas Allen    Thomas     Allen     VA             no     1.0  \n",
       "Thomas Anderson Thomas     Anderson  NJ             yes    NaN  \n",
       "James Anderson  James      Anderson  NC             yes    NaN  \n",
       "...                                                        ...  \n",
       "Joseph Wood     Joseph     Wood      MA             no     0.0  \n",
       "                                                    yes    0.0  \n",
       "Archibald Woods Archibald  Woods     VA             yes    0.0  \n",
       "George Wythe    George     Wythe     Constitution   no     1.0  \n",
       "                                     VA             yes    1.0  \n",
       "\n",
       "[446 rows x 24 columns]"
      ]
     },
     "execution_count": 115,
     "metadata": {},
     "output_type": "execute_result"
    }
   ],
   "source": [
    "CD_ASD_merge = pd.merge(cumulative_CD_assets_agg, cumulative_ASD_assets_agg, on = ['delegate name','First Name','Last Name','delegate_state','sign'], how = 'outer')\n",
    "CD_ASD_merge"
   ]
  },
  {
   "cell_type": "code",
   "execution_count": 116,
   "metadata": {
    "pycharm": {
     "name": "#%%\n"
    }
   },
   "outputs": [],
   "source": [
    "cum_delegate_list = pd.merge(total_assets, cum_firstlast, left_on = 'delegate name', right_on = 'Full Name').drop_duplicates().drop(['match name', 'Full Name'], axis = 1)\n",
    "spec_index = cum_delegate_list[cum_delegate_list['delegate_state'].apply(lambda x: pd.isnull(x))].index\n",
    "cum_delegate_list.loc[spec_index, ['delegate_state']] = 'Constitution'\n",
    "cum_delegate_list = cum_delegate_list[['delegate name', 'First Name', 'Last Name', 'delegate_state', 'sign']]"
   ]
  },
  {
   "cell_type": "code",
   "execution_count": 117,
   "metadata": {
    "pycharm": {
     "name": "#%%\n"
    }
   },
   "outputs": [
    {
     "name": "stderr",
     "output_type": "stream",
     "text": [
      "/opt/anaconda3/lib/python3.7/site-packages/ipykernel_launcher.py:4: FutureWarning: \n",
      ".ix is deprecated. Please use\n",
      ".loc for label based indexing or\n",
      ".iloc for positional indexing\n",
      "\n",
      "See the documentation here:\n",
      "http://pandas.pydata.org/pandas-docs/stable/user_guide/indexing.html#ix-indexer-is-deprecated\n",
      "  after removing the cwd from sys.path.\n",
      "/opt/anaconda3/lib/python3.7/site-packages/IPython/core/interactiveshell.py:2855: PerformanceWarning: indexing past lexsort depth may impact performance.\n",
      "  raw_cell, store_history, silent, shell_futures)\n"
     ]
    }
   ],
   "source": [
    "for row in cum_delegate_list.index:\n",
    "    row_vals = tuple(cum_delegate_list.loc[row].tolist())\n",
    "    if row_vals not in CD_ASD_merge.index:\n",
    "        CD_ASD_merge.ix[row_vals,:] = [np.nan] * 24"
   ]
  },
  {
   "cell_type": "code",
   "execution_count": 118,
   "metadata": {
    "pycharm": {
     "name": "#%%\n"
    }
   },
   "outputs": [],
   "source": [
    "CD_ASD_merge = CD_ASD_merge.sort_values('Last Name')"
   ]
  },
  {
   "cell_type": "code",
   "execution_count": 119,
   "metadata": {
    "pycharm": {
     "name": "#%%\n"
    }
   },
   "outputs": [],
   "source": [
    "CD_ASD_merge.to_csv(\"Producables/Delegates_Post1790_Assets.csv\")"
   ]
  },
  {
   "cell_type": "code",
   "execution_count": 120,
   "metadata": {
    "pycharm": {
     "name": "#%%\n"
    }
   },
   "outputs": [],
   "source": [
    "cumulative_CD_assets_agg.to_csv('Producables/Separate/CD_debt_Matched.csv')"
   ]
  },
  {
   "cell_type": "code",
   "execution_count": 121,
   "metadata": {
    "pycharm": {
     "name": "#%%\n"
    }
   },
   "outputs": [],
   "source": [
    "cumulative_ASD_assets_agg.to_csv('Producables/Separate/ASD_debt_Matched.csv')"
   ]
  }
 ],
 "metadata": {
  "kernelspec": {
   "display_name": "Python 3",
   "language": "python",
   "name": "python3"
  },
  "language_info": {
   "codemirror_mode": {
    "name": "ipython",
    "version": 3
   },
   "file_extension": ".py",
   "mimetype": "text/x-python",
   "name": "python",
   "nbconvert_exporter": "python",
   "pygments_lexer": "ipython3",
   "version": "3.7.4"
  }
 },
 "nbformat": 4,
 "nbformat_minor": 4
}