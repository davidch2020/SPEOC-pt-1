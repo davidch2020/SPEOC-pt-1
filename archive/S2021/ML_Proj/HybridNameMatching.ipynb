{
 "cells": [
  {
   "cell_type": "code",
   "execution_count": 80,
   "metadata": {},
   "outputs": [],
   "source": [
    "import numpy as np\n",
    "import pandas as pd"
   ]
  },
  {
   "cell_type": "code",
   "execution_count": 81,
   "metadata": {},
   "outputs": [],
   "source": [
    "import textdistance\n",
    "import rapidfuzz\n",
    "from rapidfuzz import process\n",
    "import whoswho\n",
    "from whoswho import who"
   ]
  },
  {
   "cell_type": "code",
   "execution_count": 82,
   "metadata": {},
   "outputs": [],
   "source": [
    "matching = pd.read_csv('ML_Proj/matching.csv', index_col = 0)"
   ]
  },
  {
   "cell_type": "markdown",
   "metadata": {},
   "source": [
    "### Edit-Based methods"
   ]
  },
  {
   "cell_type": "code",
   "execution_count": 83,
   "metadata": {},
   "outputs": [],
   "source": [
    "#jaro-winkler distance\n",
    "matching['Jaro'] = [textdistance.jaro.similarity(og, match) for \n",
    "                    og, match in zip(matching['Original Name'], matching['Matches'])]"
   ]
  },
  {
   "cell_type": "code",
   "execution_count": 84,
   "metadata": {},
   "outputs": [],
   "source": [
    "#hamming distance\n",
    "matching['Hamming Distance'] = [textdistance.hamming.distance(og, match) for \n",
    "                                og, match in zip(matching['Original Name'], matching['Matches'])]\n",
    "matching['Hamming Distance Normalized'] = [textdistance.hamming.normalized_distance(og, match) for \n",
    "                                           og, match in zip(matching['Original Name'], matching['Matches'])]"
   ]
  },
  {
   "cell_type": "code",
   "execution_count": 85,
   "metadata": {},
   "outputs": [],
   "source": [
    "#fuzzy string matching process score\n",
    "matching['Fuzzy Process'] = [process.extract(og, [match])[0][1] for \n",
    "                             og, match in zip(matching['Original Name'], matching['Matches'])]"
   ]
  },
  {
   "cell_type": "markdown",
   "metadata": {},
   "source": [
    "### Sequence-Based methods"
   ]
  },
  {
   "cell_type": "code",
   "execution_count": 86,
   "metadata": {},
   "outputs": [],
   "source": [
    "#longest common subsequence similarity\n",
    "matching['LCSSeq'] = [textdistance.lcsseq.similarity(og, match) for \n",
    "                      og, match in zip(matching['Original Name'], matching['Matches'])]\n",
    "matching['LCSSeq Normalized'] = [textdistance.lcsseq.normalized_similarity(og, match) for \n",
    "                                 og, match in zip(matching['Original Name'], matching['Matches'])]"
   ]
  },
  {
   "cell_type": "code",
   "execution_count": 87,
   "metadata": {},
   "outputs": [],
   "source": [
    "#longest common substring similarity\n",
    "matching['LCSStr'] = [textdistance.lcsstr.similarity(og, match) for \n",
    "                      og, match in zip(matching['Original Name'], matching['Matches'])]\n",
    "matching['LCSStr Normalized'] = [textdistance.lcsstr.normalized_similarity(og, match) for \n",
    "                                 og, match in zip(matching['Original Name'], matching['Matches'])]"
   ]
  },
  {
   "cell_type": "code",
   "execution_count": 88,
   "metadata": {},
   "outputs": [],
   "source": [
    "#ratcliff obershelp similarity\n",
    "matching['Ratcliff-Obershelp'] = [textdistance.ratcliff_obershelp.similarity(og, match) for \n",
    "                                  og, match in zip(matching['Original Name'], matching['Matches'])]"
   ]
  },
  {
   "cell_type": "markdown",
   "metadata": {},
   "source": [
    "### Sound Based Methods"
   ]
  },
  {
   "cell_type": "code",
   "execution_count": 89,
   "metadata": {},
   "outputs": [],
   "source": [
    "#longest common subsequence similarity\n",
    "matching['MRA'] = [textdistance.mra.similarity(og, match) for \n",
    "                      og, match in zip(matching['Original Name'], matching['Matches'])]\n",
    "matching['MRA Normalized'] = [textdistance.mra.normalized_similarity(og, match) for \n",
    "                              og, match in zip(matching['Original Name'], matching['Matches'])]"
   ]
  },
  {
   "cell_type": "markdown",
   "metadata": {},
   "source": [
    "### Supplemental methods"
   ]
  },
  {
   "cell_type": "code",
   "execution_count": 90,
   "metadata": {},
   "outputs": [],
   "source": [
    "# whos who\n",
    "matching['Whos Who'] = [int(who.match(og, match)) for og, match in zip(matching['Original Name'], matching['Matches'])]\n",
    "matching['Whos Who Score'] = [who.ratio(og, match) for og, match in zip(matching['Original Name'], matching['Matches'])]"
   ]
  },
  {
   "cell_type": "code",
   "execution_count": 91,
   "metadata": {},
   "outputs": [],
   "source": [
    "# details embedded in names\n",
    "prefixsuffix = set(['deceased', 'honorable', 'esqr', 'trustees', 'his', 'inlaws', 'and', 'son', 'of'])\n",
    "matching['prefixsuffix'] = [len(set(match.split(\" \")).intersection(prefixsuffix))>0 for match in matching['Matches']]\n",
    "namesuffix = ['jr', 'sr', 'jr.', 'sr.', '1d', '1st', '2d', '2nd', '3d', '3rd', '4d', '4th']\n",
    "matching['namesuffix'] = [len(set(match.split(\" \")).intersection(namesuffix))>0 for match in matching['Matches']]"
   ]
  },
  {
   "cell_type": "code",
   "execution_count": 92,
   "metadata": {},
   "outputs": [],
   "source": [
    "#which letters are different\n",
    "col_difs = [\"\".join(sorted([m.lower() for m in match if m.lower() not in \n",
    "                            list(set([m.lower() for m in match]).intersection(set([o.lower() for o in og])))]))\n",
    "            for og, match in zip(matching['Original Name'], matching['Matches'])]\n",
    "matching['no differing letters'] = pd.Series([l == \"\" for l in col_difs]).apply(lambda x: int(x))\n",
    "matching['differing e'] = pd.Series([l == \"e\" for l in col_difs]).apply(lambda x: int(x))\n",
    "matching['differing s'] = pd.Series([l == \"s\" for l in col_difs]).apply(lambda x: int(x))\n",
    "matching['differing c'] = pd.Series([l == \"c\" for l in col_difs]).apply(lambda x: int(x))"
   ]
  },
  {
   "cell_type": "code",
   "execution_count": 93,
   "metadata": {},
   "outputs": [],
   "source": [
    "#name frequency\n",
    "def findFrequency(wordlst, countlst):\n",
    "    pcts = []\n",
    "    for word in wordlst:\n",
    "        val = sum([w == word for w in countlst])/len(countlst)\n",
    "        pcts.append(val)\n",
    "    return np.mean(pcts)\n",
    "total_name_list = [name for namelist in list(matching['Original Name'].apply(lambda x: x.split(\" \"))) for name in namelist]\n",
    "total_name_list.extend([name for namelist in list(matching['Matches'].apply(lambda x: x.split(\" \"))) for name in namelist])\n",
    "matching['frequency'] = [findFrequency(match.split(\" \"), total_name_list) for match in matching['Matches']]"
   ]
  },
  {
   "cell_type": "code",
   "execution_count": 94,
   "metadata": {},
   "outputs": [],
   "source": [
    "# match contains digit\n",
    "matching['Contains Digit'] = pd.Series([any([char.isdigit() for char in match]) for match in matching['Matches']]).apply(lambda x: int(x))"
   ]
  },
  {
   "cell_type": "code",
   "execution_count": 95,
   "metadata": {},
   "outputs": [],
   "source": [
    "#number of different words\n",
    "matching['Num Dif Words'] = [len(set(match.split(\" \")).intersection(set(og.split(\" \"))))\n",
    "                             for og, match in zip(matching['Original Name'], matching['Matches'])]\n",
    "matching['Num Dif Words Normalized'] = [len(set(match.split(\" \")).intersection(set(og.split(\" \"))))/len(match.split(\" \")) \n",
    "                                        for og, match in zip(matching['Original Name'], matching['Matches'])]"
   ]
  },
  {
   "cell_type": "code",
   "execution_count": 96,
   "metadata": {},
   "outputs": [],
   "source": [
    "#where the differences were located (first, last, in between)\n",
    "matching['First Word Dif'] = pd.Series([og.split(\" \")[0] == match.split(\" \")[0] \n",
    "                                        for og, match in zip(matching['Original Name'], matching['Matches'])]).apply(lambda x: int(x))\n",
    "matching['Middle Word Dif'] = pd.Series([og.split(\" \")[1:-1] == match.split(\" \")[1:-1] \n",
    "                                         for og, match in zip(matching['Original Name'], matching['Matches'])]).apply(lambda x: int(x))\n",
    "matching['Last Word Dif'] = pd.Series([og.split(\" \")[-1] == match.split(\" \")[-1] \n",
    "                                       for og, match in zip(matching['Original Name'], matching['Matches'])]).apply(lambda x: int(x))"
   ]
  }
 ],
 "metadata": {
  "kernelspec": {
   "display_name": "Python 3",
   "language": "python",
   "name": "python3"
  },
  "language_info": {
   "codemirror_mode": {
    "name": "ipython",
    "version": 3
   },
   "file_extension": ".py",
   "mimetype": "text/x-python",
   "name": "python",
   "nbconvert_exporter": "python",
   "pygments_lexer": "ipython3",
   "version": "3.7.4"
  }
 },
 "nbformat": 4,
 "nbformat_minor": 4
}
