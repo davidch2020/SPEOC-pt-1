{
 "cells": [
  {
   "cell_type": "code",
   "execution_count": 21,
   "metadata": {},
   "outputs": [],
   "source": [
    "import pandas as pd\n",
    "import numpy as np\n",
    "from whoswho import who\n",
    "from rapidfuzz import process"
   ]
  },
  {
   "cell_type": "code",
   "execution_count": 22,
   "metadata": {},
   "outputs": [],
   "source": [
    "def stringToList(x):\n",
    "    return x.strip('][\\\"\\'').split(', ') if not pd.isnull(x) else x"
   ]
  },
  {
   "cell_type": "code",
   "execution_count": 23,
   "metadata": {},
   "outputs": [],
   "source": [
    "matching = pd.read_csv(\"../Data/final_matching.csv\", index_col = 0)\n",
    "matching_post1790 = pd.read_csv(\"../Data/final_matching_post1790.csv\", index_col = 0)"
   ]
  },
  {
   "cell_type": "code",
   "execution_count": 24,
   "metadata": {},
   "outputs": [],
   "source": [
    "all_matches_post1790 = pd.read_csv('../Data/total_matching_post1790.csv', index_col = 0)"
   ]
  },
  {
   "cell_type": "code",
   "execution_count": 25,
   "metadata": {},
   "outputs": [],
   "source": [
    "matching_merged = pd.concat([matching, matching_post1790]).drop_duplicates()\n",
    "matching_merged = matching_merged[matching_merged['Scores'] != 100][['Delegates', 'Loan Matches', 'state']]\n",
    "matching_merged.columns = ['Original Name', 'Matches', 'state']\n",
    "all_matches_post1790.columns = ['Original Name', 'Matches', 'state']\n",
    "final_matching = pd.concat([matching_merged, all_matches_post1790], axis = 0)\n",
    "final_matching.reset_index(drop = True, inplace = True)"
   ]
  },
  {
   "cell_type": "code",
   "execution_count": 26,
   "metadata": {},
   "outputs": [
    {
     "data": {
      "text/html": [
       "<div>\n",
       "<style scoped>\n",
       "    .dataframe tbody tr th:only-of-type {\n",
       "        vertical-align: middle;\n",
       "    }\n",
       "\n",
       "    .dataframe tbody tr th {\n",
       "        vertical-align: top;\n",
       "    }\n",
       "\n",
       "    .dataframe thead th {\n",
       "        text-align: right;\n",
       "    }\n",
       "</style>\n",
       "<table border=\"1\" class=\"dataframe\">\n",
       "  <thead>\n",
       "    <tr style=\"text-align: right;\">\n",
       "      <th></th>\n",
       "      <th>Original Name</th>\n",
       "      <th>Matches</th>\n",
       "      <th>state</th>\n",
       "    </tr>\n",
       "  </thead>\n",
       "  <tbody>\n",
       "    <tr>\n",
       "      <td>0</td>\n",
       "      <td>William C. Houston</td>\n",
       "      <td>William C. Huston</td>\n",
       "      <td>5.0</td>\n",
       "    </tr>\n",
       "    <tr>\n",
       "      <td>1</td>\n",
       "      <td>William Paterson</td>\n",
       "      <td>William Palterson</td>\n",
       "      <td>5.0</td>\n",
       "    </tr>\n",
       "    <tr>\n",
       "      <td>2</td>\n",
       "      <td>William Paterson</td>\n",
       "      <td>William Patterson</td>\n",
       "      <td>6.0</td>\n",
       "    </tr>\n",
       "    <tr>\n",
       "      <td>3</td>\n",
       "      <td>Oliver Elsworth</td>\n",
       "      <td>Oliver Ellsworth</td>\n",
       "      <td>3.0</td>\n",
       "    </tr>\n",
       "    <tr>\n",
       "      <td>4</td>\n",
       "      <td>Nicholas Gilman</td>\n",
       "      <td>Nichols Gilman</td>\n",
       "      <td>1.0</td>\n",
       "    </tr>\n",
       "    <tr>\n",
       "      <td>...</td>\n",
       "      <td>...</td>\n",
       "      <td>...</td>\n",
       "      <td>...</td>\n",
       "    </tr>\n",
       "    <tr>\n",
       "      <td>3321</td>\n",
       "      <td>John Wilson</td>\n",
       "      <td>John 2d Wilson</td>\n",
       "      <td>VA</td>\n",
       "    </tr>\n",
       "    <tr>\n",
       "      <td>3322</td>\n",
       "      <td>James Gray</td>\n",
       "      <td>James W Gray</td>\n",
       "      <td>VA</td>\n",
       "    </tr>\n",
       "    <tr>\n",
       "      <td>3323</td>\n",
       "      <td>William Smith</td>\n",
       "      <td>William S Smith</td>\n",
       "      <td>VA</td>\n",
       "    </tr>\n",
       "    <tr>\n",
       "      <td>3324</td>\n",
       "      <td>William Smith</td>\n",
       "      <td>William V Smith</td>\n",
       "      <td>VA</td>\n",
       "    </tr>\n",
       "    <tr>\n",
       "      <td>3325</td>\n",
       "      <td>James Smith</td>\n",
       "      <td>James 3d Smith</td>\n",
       "      <td>VA</td>\n",
       "    </tr>\n",
       "  </tbody>\n",
       "</table>\n",
       "<p>3326 rows × 3 columns</p>\n",
       "</div>"
      ],
      "text/plain": [
       "           Original Name            Matches state\n",
       "0     William C. Houston  William C. Huston   5.0\n",
       "1       William Paterson  William Palterson   5.0\n",
       "2       William Paterson  William Patterson   6.0\n",
       "3        Oliver Elsworth   Oliver Ellsworth   3.0\n",
       "4        Nicholas Gilman     Nichols Gilman   1.0\n",
       "...                  ...                ...   ...\n",
       "3321         John Wilson     John 2d Wilson    VA\n",
       "3322          James Gray       James W Gray    VA\n",
       "3323       William Smith    William S Smith    VA\n",
       "3324       William Smith    William V Smith    VA\n",
       "3325         James Smith     James 3d Smith    VA\n",
       "\n",
       "[3326 rows x 3 columns]"
      ]
     },
     "execution_count": 26,
     "metadata": {},
     "output_type": "execute_result"
    }
   ],
   "source": [
    "final_matching"
   ]
  },
  {
   "cell_type": "code",
   "execution_count": 9,
   "metadata": {},
   "outputs": [],
   "source": [
    "final_matching.to_csv('../ML_Proj/matching.csv')"
   ]
  },
  {
   "cell_type": "code",
   "execution_count": null,
   "metadata": {},
   "outputs": [],
   "source": []
  }
 ],
 "metadata": {
  "kernelspec": {
   "display_name": "Python 3",
   "language": "python",
   "name": "python3"
  },
  "language_info": {
   "codemirror_mode": {
    "name": "ipython",
    "version": 3
   },
   "file_extension": ".py",
   "mimetype": "text/x-python",
   "name": "python",
   "nbconvert_exporter": "python",
   "pygments_lexer": "ipython3",
   "version": "3.7.4"
  }
 },
 "nbformat": 4,
 "nbformat_minor": 4
}
