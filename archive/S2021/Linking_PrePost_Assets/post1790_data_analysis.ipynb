{
 "cells": [
  {
   "cell_type": "code",
   "execution_count": 1,
   "metadata": {},
   "outputs": [],
   "source": [
    "import pandas as pd\n",
    "import numpy as np\n",
    "from itertools import chain"
   ]
  },
  {
   "cell_type": "code",
   "execution_count": 2,
   "metadata": {},
   "outputs": [],
   "source": [
    "df = pd.read_csv('prepost_matched_debt_files.csv', index_col = 0)"
   ]
  },
  {
   "cell_type": "code",
   "execution_count": 3,
   "metadata": {},
   "outputs": [],
   "source": [
    "def stringToList(x):\n",
    "    lst = x.strip('][\\\"\\'').split(', ') if not pd.isnull(x) else x\n",
    "    return [x.strip('\\\"\\' ') for x in lst] if not pd.isnull(x) else x"
   ]
  },
  {
   "cell_type": "code",
   "execution_count": 4,
   "metadata": {},
   "outputs": [],
   "source": [
    "df['full name'] = df['full name'].apply(lambda x: stringToList(x))\n",
    "df['Same State Loan Office'] = df['Same State Loan Office'].apply(lambda x: \n",
    "                                                                  stringToList(x))\n",
    "df['Different State Loan Office'] = df['Different State Loan Office'].apply(lambda x: \n",
    "                                                                            stringToList(x))\n",
    "df['Same State Liquidated Debt'] = df['Same State Liquidated Debt'].apply(lambda x: \n",
    "                                                                          stringToList(x))\n",
    "df['Different State Liquidated Debt'] = df['Different State Liquidated Debt'].apply(lambda x: \n",
    "                                                                                    stringToList(x))\n",
    "df['Pierce Certificates'] = df['Pierce Certificates'].apply(lambda x: \n",
    "                                                            stringToList(x))"
   ]
  },
  {
   "cell_type": "markdown",
   "metadata": {},
   "source": [
    "# How many unique individuals were issued 6 percent stocks and deferred 6 percent stocks in 1790 and after?"
   ]
  },
  {
   "cell_type": "code",
   "execution_count": 5,
   "metadata": {},
   "outputs": [
    {
     "data": {
      "text/plain": [
       "state\n",
       "BM       2\n",
       "BVI      4\n",
       "CT     684\n",
       "DE       7\n",
       "FR       2\n",
       "GA      14\n",
       "GB       2\n",
       "MA     108\n",
       "MD     277\n",
       "NC      41\n",
       "NH     132\n",
       "NJ      32\n",
       "NY      39\n",
       "PA     609\n",
       "RI     335\n",
       "SC     208\n",
       "US       1\n",
       "VA      27\n",
       "VI       4\n",
       "VT       6\n",
       "Name: full name, dtype: int64"
      ]
     },
     "execution_count": 5,
     "metadata": {},
     "output_type": "execute_result"
    }
   ],
   "source": [
    "df.groupby('state')['full name'].count()"
   ]
  },
  {
   "cell_type": "markdown",
   "metadata": {},
   "source": [
    "# How many unique groups of individuals\n",
    "- were original purchasers of loan office certicates of the same state as the 6 percent stock?\n",
    "- were original purchasers of loan office certicates issued from another state?\n",
    "- were original recipients of liquidated debt certicates issued by the same-state loan office? other state loan offices?\n",
    "- were original recipients of the Pierce Certicates?"
   ]
  },
  {
   "cell_type": "markdown",
   "metadata": {},
   "source": [
    "### How many unique groups of individuals were original purchasers of loan office certicates of the same state as the 6 percent stock?"
   ]
  },
  {
   "cell_type": "code",
   "execution_count": 6,
   "metadata": {},
   "outputs": [
    {
     "data": {
      "text/plain": [
       "CT    304\n",
       "PA    241\n",
       "MD     92\n",
       "NH     53\n",
       "MA     34\n",
       "SC     14\n",
       "RI     11\n",
       "NJ     11\n",
       "VA     10\n",
       "NY      4\n",
       "DE      2\n",
       "GA      2\n",
       "Name: state, dtype: int64"
      ]
     },
     "execution_count": 6,
     "metadata": {},
     "output_type": "execute_result"
    }
   ],
   "source": [
    "df[df['Same State Loan Office'].apply(lambda x: \n",
    "                                      type(x) == list)]['state'].value_counts()"
   ]
  },
  {
   "cell_type": "markdown",
   "metadata": {},
   "source": [
    "### How many unique groups of individuals were original purchasers of loan office certicates of a different state as the 6 percent stock?"
   ]
  },
  {
   "cell_type": "code",
   "execution_count": 7,
   "metadata": {},
   "outputs": [
    {
     "data": {
      "text/plain": [
       "CT    98\n",
       "PA    97\n",
       "MD    53\n",
       "MA    36\n",
       "NH    25\n",
       "VA    15\n",
       "SC    15\n",
       "NY    14\n",
       "NJ    11\n",
       "RI     8\n",
       "DE     6\n",
       "GA     2\n",
       "Name: state, dtype: int64"
      ]
     },
     "execution_count": 7,
     "metadata": {},
     "output_type": "execute_result"
    }
   ],
   "source": [
    "df[df['Different State Loan Office'].apply(lambda x: \n",
    "                                           type(x) == list)]['state'].value_counts()"
   ]
  },
  {
   "cell_type": "markdown",
   "metadata": {},
   "source": [
    "##### Aside: How many unique groups of individuals were original purchasers of loan office certicates of a different and same state as the 6 percent stock?"
   ]
  },
  {
   "cell_type": "code",
   "execution_count": 8,
   "metadata": {},
   "outputs": [
    {
     "data": {
      "text/plain": [
       "PA    74\n",
       "CT    59\n",
       "MD    24\n",
       "MA    22\n",
       "SC    11\n",
       "VA     9\n",
       "NJ     7\n",
       "RI     7\n",
       "NH     6\n",
       "NY     3\n",
       "GA     2\n",
       "DE     2\n",
       "Name: state, dtype: int64"
      ]
     },
     "execution_count": 8,
     "metadata": {},
     "output_type": "execute_result"
    }
   ],
   "source": [
    "df[[type(ss) == list and type(ds) == list for \n",
    "    ss, ds in zip(df['Same State Loan Office'], \n",
    "                  df['Different State Loan Office'])]]['state'].value_counts()"
   ]
  },
  {
   "cell_type": "markdown",
   "metadata": {},
   "source": [
    "### How many unique groups of individuals were original recipients of liquidated debt certificates issued by the same state loan office?"
   ]
  },
  {
   "cell_type": "code",
   "execution_count": 9,
   "metadata": {},
   "outputs": [
    {
     "data": {
      "text/plain": [
       "PA    173\n",
       "CT    111\n",
       "MA     27\n",
       "NH     26\n",
       "NJ     10\n",
       "SC      7\n",
       "RI      7\n",
       "MD      7\n",
       "NY      6\n",
       "VA      2\n",
       "GA      2\n",
       "DE      1\n",
       "NC      1\n",
       "Name: state, dtype: int64"
      ]
     },
     "execution_count": 9,
     "metadata": {},
     "output_type": "execute_result"
    }
   ],
   "source": [
    "df[df['Same State Liquidated Debt'].apply(lambda x: \n",
    "                                          type(x) == list)]['state'].value_counts()"
   ]
  },
  {
   "cell_type": "markdown",
   "metadata": {},
   "source": [
    "### How many unique groups of individuals were original recipients of liquidated debt certificates issued by another state loan office?"
   ]
  },
  {
   "cell_type": "code",
   "execution_count": 10,
   "metadata": {},
   "outputs": [
    {
     "data": {
      "text/plain": [
       "CT    174\n",
       "PA     98\n",
       "NH     43\n",
       "MA     38\n",
       "MD     38\n",
       "RI     13\n",
       "SC     12\n",
       "NJ     11\n",
       "NY      8\n",
       "DE      2\n",
       "GA      2\n",
       "VA      1\n",
       "Name: state, dtype: int64"
      ]
     },
     "execution_count": 10,
     "metadata": {},
     "output_type": "execute_result"
    }
   ],
   "source": [
    "df[df['Different State Liquidated Debt'].apply(lambda x: \n",
    "                                               type(x) == list)]['state'].value_counts()"
   ]
  },
  {
   "cell_type": "markdown",
   "metadata": {},
   "source": [
    "##### Aside: How many unique groups of individuals were original purchasers of liquidated debt certificates from the same and another loan office?"
   ]
  },
  {
   "cell_type": "code",
   "execution_count": 11,
   "metadata": {},
   "outputs": [
    {
     "data": {
      "text/plain": [
       "CT    110\n",
       "PA     55\n",
       "NH     26\n",
       "MA     25\n",
       "NJ     10\n",
       "RI      7\n",
       "SC      6\n",
       "MD      6\n",
       "NY      5\n",
       "GA      2\n",
       "DE      1\n",
       "Name: state, dtype: int64"
      ]
     },
     "execution_count": 11,
     "metadata": {},
     "output_type": "execute_result"
    }
   ],
   "source": [
    "df[[type(ss) == list and type(ds) == list for \n",
    "    ss, ds in zip(df['Same State Liquidated Debt'], \n",
    "                  df['Different State Liquidated Debt'])]]['state'].value_counts()"
   ]
  },
  {
   "cell_type": "markdown",
   "metadata": {},
   "source": [
    "### How many unique groups of individuals were original recipients of the Pierce Certicates, corresponding to the same state?"
   ]
  },
  {
   "cell_type": "code",
   "execution_count": 12,
   "metadata": {},
   "outputs": [
    {
     "data": {
      "text/plain": [
       "CT    169\n",
       "PA    131\n",
       "MD     65\n",
       "MA     32\n",
       "NH     25\n",
       "SC     14\n",
       "RI     14\n",
       "NY     13\n",
       "VA      7\n",
       "NJ      6\n",
       "DE      3\n",
       "GA      2\n",
       "NC      1\n",
       "Name: state, dtype: int64"
      ]
     },
     "execution_count": 12,
     "metadata": {},
     "output_type": "execute_result"
    }
   ],
   "source": [
    "df[df['Pierce Certificates'].apply(lambda x: \n",
    "                                   type(x) == list)]['state'].value_counts()"
   ]
  },
  {
   "cell_type": "markdown",
   "metadata": {},
   "source": [
    "### For how many unique groups of individuals do the face values of their pre-1790 certificates equal the sum of the face values of the 6 percent and deferred 6 percent stocks that they received?"
   ]
  },
  {
   "cell_type": "markdown",
   "metadata": {},
   "source": [
    "##### Number of people with non-zero assets and that the debt values from pre-1790 and post-1790 are equal"
   ]
  },
  {
   "cell_type": "code",
   "execution_count": 13,
   "metadata": {},
   "outputs": [
    {
     "data": {
      "text/html": [
       "<div>\n",
       "<style scoped>\n",
       "    .dataframe tbody tr th:only-of-type {\n",
       "        vertical-align: middle;\n",
       "    }\n",
       "\n",
       "    .dataframe tbody tr th {\n",
       "        vertical-align: top;\n",
       "    }\n",
       "\n",
       "    .dataframe thead th {\n",
       "        text-align: right;\n",
       "    }\n",
       "</style>\n",
       "<table border=\"1\" class=\"dataframe\">\n",
       "  <thead>\n",
       "    <tr style=\"text-align: right;\">\n",
       "      <th></th>\n",
       "      <th>full name</th>\n",
       "      <th>state</th>\n",
       "      <th>state debt</th>\n",
       "      <th>Same State Loan Office</th>\n",
       "      <th>Different State Loan Office</th>\n",
       "      <th>Same State Liquidated Debt</th>\n",
       "      <th>Different State Liquidated Debt</th>\n",
       "      <th>Pierce Certificates</th>\n",
       "      <th>Total</th>\n",
       "      <th>SSLO Total</th>\n",
       "      <th>DSLO Total</th>\n",
       "      <th>SSLD Total</th>\n",
       "      <th>DSLD Total</th>\n",
       "      <th>PC Total</th>\n",
       "      <th>Debt Total</th>\n",
       "      <th>tot_pre1790_certs</th>\n",
       "    </tr>\n",
       "  </thead>\n",
       "  <tbody>\n",
       "    <tr>\n",
       "      <td>36</td>\n",
       "      <td>[Aaron Kelsey]</td>\n",
       "      <td>CT</td>\n",
       "      <td>CT</td>\n",
       "      <td>[Aaron Kelsey]</td>\n",
       "      <td>NaN</td>\n",
       "      <td>NaN</td>\n",
       "      <td>NaN</td>\n",
       "      <td>NaN</td>\n",
       "      <td>95.10</td>\n",
       "      <td>95.10834</td>\n",
       "      <td>0.0</td>\n",
       "      <td>0.000000</td>\n",
       "      <td>0.0</td>\n",
       "      <td>0.0</td>\n",
       "      <td>95.108340</td>\n",
       "      <td>1</td>\n",
       "    </tr>\n",
       "    <tr>\n",
       "      <td>45</td>\n",
       "      <td>[Abel Morse]</td>\n",
       "      <td>CT</td>\n",
       "      <td>CT</td>\n",
       "      <td>[Abel Morse]</td>\n",
       "      <td>NaN</td>\n",
       "      <td>NaN</td>\n",
       "      <td>NaN</td>\n",
       "      <td>NaN</td>\n",
       "      <td>1388.83</td>\n",
       "      <td>1388.86930</td>\n",
       "      <td>0.0</td>\n",
       "      <td>0.000000</td>\n",
       "      <td>0.0</td>\n",
       "      <td>0.0</td>\n",
       "      <td>1388.869300</td>\n",
       "      <td>1</td>\n",
       "    </tr>\n",
       "    <tr>\n",
       "      <td>46</td>\n",
       "      <td>[Abel Patchen]</td>\n",
       "      <td>CT</td>\n",
       "      <td>CT</td>\n",
       "      <td>[Abel Patchen]</td>\n",
       "      <td>NaN</td>\n",
       "      <td>NaN</td>\n",
       "      <td>NaN</td>\n",
       "      <td>NaN</td>\n",
       "      <td>153.96</td>\n",
       "      <td>153.97916</td>\n",
       "      <td>0.0</td>\n",
       "      <td>0.000000</td>\n",
       "      <td>0.0</td>\n",
       "      <td>0.0</td>\n",
       "      <td>153.979160</td>\n",
       "      <td>1</td>\n",
       "    </tr>\n",
       "    <tr>\n",
       "      <td>68</td>\n",
       "      <td>[Abraham Brinsmade]</td>\n",
       "      <td>CT</td>\n",
       "      <td>CT</td>\n",
       "      <td>[Abraham Brinsmade]</td>\n",
       "      <td>NaN</td>\n",
       "      <td>NaN</td>\n",
       "      <td>NaN</td>\n",
       "      <td>NaN</td>\n",
       "      <td>400.00</td>\n",
       "      <td>400.00000</td>\n",
       "      <td>0.0</td>\n",
       "      <td>0.000000</td>\n",
       "      <td>0.0</td>\n",
       "      <td>0.0</td>\n",
       "      <td>400.000000</td>\n",
       "      <td>1</td>\n",
       "    </tr>\n",
       "    <tr>\n",
       "      <td>121</td>\n",
       "      <td>[Amos Miller]</td>\n",
       "      <td>CT</td>\n",
       "      <td>CT</td>\n",
       "      <td>[Amos Miller]</td>\n",
       "      <td>NaN</td>\n",
       "      <td>NaN</td>\n",
       "      <td>NaN</td>\n",
       "      <td>NaN</td>\n",
       "      <td>654.05</td>\n",
       "      <td>654.07640</td>\n",
       "      <td>0.0</td>\n",
       "      <td>0.000000</td>\n",
       "      <td>0.0</td>\n",
       "      <td>0.0</td>\n",
       "      <td>654.076400</td>\n",
       "      <td>1</td>\n",
       "    </tr>\n",
       "    <tr>\n",
       "      <td>...</td>\n",
       "      <td>...</td>\n",
       "      <td>...</td>\n",
       "      <td>...</td>\n",
       "      <td>...</td>\n",
       "      <td>...</td>\n",
       "      <td>...</td>\n",
       "      <td>...</td>\n",
       "      <td>...</td>\n",
       "      <td>...</td>\n",
       "      <td>...</td>\n",
       "      <td>...</td>\n",
       "      <td>...</td>\n",
       "      <td>...</td>\n",
       "      <td>...</td>\n",
       "      <td>...</td>\n",
       "      <td>...</td>\n",
       "    </tr>\n",
       "    <tr>\n",
       "      <td>2251</td>\n",
       "      <td>[Thomas Hawkins]</td>\n",
       "      <td>MD</td>\n",
       "      <td>MD</td>\n",
       "      <td>[Thomas Hawkins]</td>\n",
       "      <td>NaN</td>\n",
       "      <td>NaN</td>\n",
       "      <td>NaN</td>\n",
       "      <td>NaN</td>\n",
       "      <td>120.72</td>\n",
       "      <td>120.72224</td>\n",
       "      <td>0.0</td>\n",
       "      <td>0.000000</td>\n",
       "      <td>0.0</td>\n",
       "      <td>0.0</td>\n",
       "      <td>120.722240</td>\n",
       "      <td>1</td>\n",
       "    </tr>\n",
       "    <tr>\n",
       "      <td>2387</td>\n",
       "      <td>[William Dickensheet]</td>\n",
       "      <td>MD</td>\n",
       "      <td>MD</td>\n",
       "      <td>[William Dickensheet]</td>\n",
       "      <td>NaN</td>\n",
       "      <td>NaN</td>\n",
       "      <td>NaN</td>\n",
       "      <td>NaN</td>\n",
       "      <td>50.00</td>\n",
       "      <td>50.00833</td>\n",
       "      <td>0.0</td>\n",
       "      <td>0.000000</td>\n",
       "      <td>0.0</td>\n",
       "      <td>0.0</td>\n",
       "      <td>50.008330</td>\n",
       "      <td>1</td>\n",
       "    </tr>\n",
       "    <tr>\n",
       "      <td>2427</td>\n",
       "      <td>[William House]</td>\n",
       "      <td>MD</td>\n",
       "      <td>MD</td>\n",
       "      <td>[William House]</td>\n",
       "      <td>NaN</td>\n",
       "      <td>NaN</td>\n",
       "      <td>NaN</td>\n",
       "      <td>NaN</td>\n",
       "      <td>25.47</td>\n",
       "      <td>25.48750</td>\n",
       "      <td>0.0</td>\n",
       "      <td>0.000000</td>\n",
       "      <td>0.0</td>\n",
       "      <td>0.0</td>\n",
       "      <td>25.487500</td>\n",
       "      <td>1</td>\n",
       "    </tr>\n",
       "    <tr>\n",
       "      <td>2484</td>\n",
       "      <td>[William Sitgreaves]</td>\n",
       "      <td>PA</td>\n",
       "      <td>PA</td>\n",
       "      <td>NaN</td>\n",
       "      <td>NaN</td>\n",
       "      <td>[William Sitgreaves]</td>\n",
       "      <td>NaN</td>\n",
       "      <td>NaN</td>\n",
       "      <td>1277.57</td>\n",
       "      <td>0.00000</td>\n",
       "      <td>0.0</td>\n",
       "      <td>1277.577778</td>\n",
       "      <td>0.0</td>\n",
       "      <td>0.0</td>\n",
       "      <td>1277.577778</td>\n",
       "      <td>1</td>\n",
       "    </tr>\n",
       "    <tr>\n",
       "      <td>2520</td>\n",
       "      <td>[William Wyvell]</td>\n",
       "      <td>MD</td>\n",
       "      <td>MD</td>\n",
       "      <td>[William Wyvell]</td>\n",
       "      <td>NaN</td>\n",
       "      <td>NaN</td>\n",
       "      <td>NaN</td>\n",
       "      <td>NaN</td>\n",
       "      <td>22.50</td>\n",
       "      <td>22.50000</td>\n",
       "      <td>0.0</td>\n",
       "      <td>0.000000</td>\n",
       "      <td>0.0</td>\n",
       "      <td>0.0</td>\n",
       "      <td>22.500000</td>\n",
       "      <td>1</td>\n",
       "    </tr>\n",
       "  </tbody>\n",
       "</table>\n",
       "<p>74 rows × 16 columns</p>\n",
       "</div>"
      ],
      "text/plain": [
       "                  full name state state debt Same State Loan Office  \\\n",
       "36           [Aaron Kelsey]    CT         CT         [Aaron Kelsey]   \n",
       "45             [Abel Morse]    CT         CT           [Abel Morse]   \n",
       "46           [Abel Patchen]    CT         CT         [Abel Patchen]   \n",
       "68      [Abraham Brinsmade]    CT         CT    [Abraham Brinsmade]   \n",
       "121           [Amos Miller]    CT         CT          [Amos Miller]   \n",
       "...                     ...   ...        ...                    ...   \n",
       "2251       [Thomas Hawkins]    MD         MD       [Thomas Hawkins]   \n",
       "2387  [William Dickensheet]    MD         MD  [William Dickensheet]   \n",
       "2427        [William House]    MD         MD        [William House]   \n",
       "2484   [William Sitgreaves]    PA         PA                    NaN   \n",
       "2520       [William Wyvell]    MD         MD       [William Wyvell]   \n",
       "\n",
       "     Different State Loan Office Same State Liquidated Debt  \\\n",
       "36                           NaN                        NaN   \n",
       "45                           NaN                        NaN   \n",
       "46                           NaN                        NaN   \n",
       "68                           NaN                        NaN   \n",
       "121                          NaN                        NaN   \n",
       "...                          ...                        ...   \n",
       "2251                         NaN                        NaN   \n",
       "2387                         NaN                        NaN   \n",
       "2427                         NaN                        NaN   \n",
       "2484                         NaN       [William Sitgreaves]   \n",
       "2520                         NaN                        NaN   \n",
       "\n",
       "     Different State Liquidated Debt Pierce Certificates    Total  SSLO Total  \\\n",
       "36                               NaN                 NaN    95.10    95.10834   \n",
       "45                               NaN                 NaN  1388.83  1388.86930   \n",
       "46                               NaN                 NaN   153.96   153.97916   \n",
       "68                               NaN                 NaN   400.00   400.00000   \n",
       "121                              NaN                 NaN   654.05   654.07640   \n",
       "...                              ...                 ...      ...         ...   \n",
       "2251                             NaN                 NaN   120.72   120.72224   \n",
       "2387                             NaN                 NaN    50.00    50.00833   \n",
       "2427                             NaN                 NaN    25.47    25.48750   \n",
       "2484                             NaN                 NaN  1277.57     0.00000   \n",
       "2520                             NaN                 NaN    22.50    22.50000   \n",
       "\n",
       "      DSLO Total   SSLD Total  DSLD Total  PC Total   Debt Total  \\\n",
       "36           0.0     0.000000         0.0       0.0    95.108340   \n",
       "45           0.0     0.000000         0.0       0.0  1388.869300   \n",
       "46           0.0     0.000000         0.0       0.0   153.979160   \n",
       "68           0.0     0.000000         0.0       0.0   400.000000   \n",
       "121          0.0     0.000000         0.0       0.0   654.076400   \n",
       "...          ...          ...         ...       ...          ...   \n",
       "2251         0.0     0.000000         0.0       0.0   120.722240   \n",
       "2387         0.0     0.000000         0.0       0.0    50.008330   \n",
       "2427         0.0     0.000000         0.0       0.0    25.487500   \n",
       "2484         0.0  1277.577778         0.0       0.0  1277.577778   \n",
       "2520         0.0     0.000000         0.0       0.0    22.500000   \n",
       "\n",
       "      tot_pre1790_certs  \n",
       "36                    1  \n",
       "45                    1  \n",
       "46                    1  \n",
       "68                    1  \n",
       "121                   1  \n",
       "...                 ...  \n",
       "2251                  1  \n",
       "2387                  1  \n",
       "2427                  1  \n",
       "2484                  1  \n",
       "2520                  1  \n",
       "\n",
       "[74 rows x 16 columns]"
      ]
     },
     "execution_count": 13,
     "metadata": {},
     "output_type": "execute_result"
    }
   ],
   "source": [
    "df[[abs(tt-dt)<=1 and tt != 0 \n",
    "    for tt, dt in zip(df['Total'], df['Debt Total'])]]"
   ]
  },
  {
   "cell_type": "code",
   "execution_count": 14,
   "metadata": {},
   "outputs": [
    {
     "data": {
      "text/plain": [
       "1210"
      ]
     },
     "execution_count": 14,
     "metadata": {},
     "output_type": "execute_result"
    }
   ],
   "source": [
    "df[df['tot_pre1790_certs'] != 0].shape[0]"
   ]
  },
  {
   "cell_type": "code",
   "execution_count": 15,
   "metadata": {},
   "outputs": [
    {
     "data": {
      "text/plain": [
       "74"
      ]
     },
     "execution_count": 15,
     "metadata": {},
     "output_type": "execute_result"
    }
   ],
   "source": [
    "df[[abs(tt-dt)<=1 and tt != 0 \n",
    "    for tt, dt in zip(df['Total'], df['Debt Total'])]].shape[0]"
   ]
  },
  {
   "cell_type": "markdown",
   "metadata": {},
   "source": [
    "##### State Distribution"
   ]
  },
  {
   "cell_type": "code",
   "execution_count": 16,
   "metadata": {},
   "outputs": [
    {
     "data": {
      "text/plain": [
       "CT    45\n",
       "MD    15\n",
       "PA     9\n",
       "NH     4\n",
       "VA     1\n",
       "Name: state, dtype: int64"
      ]
     },
     "execution_count": 16,
     "metadata": {},
     "output_type": "execute_result"
    }
   ],
   "source": [
    "df[[abs(tt-dt)<=1 and tt != 0 \n",
    "    for tt, dt in zip(df['Total'], df['Debt Total'])]]['state'].value_counts()"
   ]
  },
  {
   "cell_type": "markdown",
   "metadata": {},
   "source": [
    "##### Number of people with zero assets and equal values\n",
    "Most of these occur when someone has 3% but no 6% certificates"
   ]
  },
  {
   "cell_type": "code",
   "execution_count": 17,
   "metadata": {},
   "outputs": [
    {
     "data": {
      "text/plain": [
       "11"
      ]
     },
     "execution_count": 17,
     "metadata": {},
     "output_type": "execute_result"
    }
   ],
   "source": [
    "df[[tt == dt and tt == 0 \n",
    "    for tt, dt in zip(df['Total'], df['Debt Total'])]].shape[0]"
   ]
  },
  {
   "cell_type": "markdown",
   "metadata": {},
   "source": [
    "##### State Distribution"
   ]
  },
  {
   "cell_type": "code",
   "execution_count": 18,
   "metadata": {},
   "outputs": [
    {
     "data": {
      "text/plain": [
       "CT    6\n",
       "SC    3\n",
       "PA    1\n",
       "NY    1\n",
       "Name: state, dtype: int64"
      ]
     },
     "execution_count": 18,
     "metadata": {},
     "output_type": "execute_result"
    }
   ],
   "source": [
    "df[[tt == dt and tt == 0 \n",
    "    for tt, dt in zip(df['Total'], df['Debt Total'])]]['state'].value_counts()"
   ]
  },
  {
   "cell_type": "markdown",
   "metadata": {},
   "source": [
    "### Who, and how many unique groups of people redeemed certificates with Hamilton and were not original owners/purchasers"
   ]
  },
  {
   "cell_type": "code",
   "execution_count": 19,
   "metadata": {},
   "outputs": [
    {
     "data": {
      "text/plain": [
       "1313"
      ]
     },
     "execution_count": 19,
     "metadata": {},
     "output_type": "execute_result"
    }
   ],
   "source": [
    "df[[tot == 0 and tt != 0 for tot, tt in zip(df['tot_pre1790_certs'], df['Total'])]].shape[0]"
   ]
  },
  {
   "cell_type": "code",
   "execution_count": 20,
   "metadata": {},
   "outputs": [
    {
     "data": {
      "text/html": [
       "<div>\n",
       "<style scoped>\n",
       "    .dataframe tbody tr th:only-of-type {\n",
       "        vertical-align: middle;\n",
       "    }\n",
       "\n",
       "    .dataframe tbody tr th {\n",
       "        vertical-align: top;\n",
       "    }\n",
       "\n",
       "    .dataframe thead th {\n",
       "        text-align: right;\n",
       "    }\n",
       "</style>\n",
       "<table border=\"1\" class=\"dataframe\">\n",
       "  <thead>\n",
       "    <tr style=\"text-align: right;\">\n",
       "      <th></th>\n",
       "      <th>full name</th>\n",
       "      <th>state</th>\n",
       "      <th>state debt</th>\n",
       "      <th>Same State Loan Office</th>\n",
       "      <th>Different State Loan Office</th>\n",
       "      <th>Same State Liquidated Debt</th>\n",
       "      <th>Different State Liquidated Debt</th>\n",
       "      <th>Pierce Certificates</th>\n",
       "      <th>Total</th>\n",
       "      <th>SSLO Total</th>\n",
       "      <th>DSLO Total</th>\n",
       "      <th>SSLD Total</th>\n",
       "      <th>DSLD Total</th>\n",
       "      <th>PC Total</th>\n",
       "      <th>Debt Total</th>\n",
       "      <th>tot_pre1790_certs</th>\n",
       "    </tr>\n",
       "  </thead>\n",
       "  <tbody>\n",
       "    <tr>\n",
       "      <td>3</td>\n",
       "      <td>[James O'Hara]</td>\n",
       "      <td>PA</td>\n",
       "      <td>PA</td>\n",
       "      <td>NaN</td>\n",
       "      <td>NaN</td>\n",
       "      <td>NaN</td>\n",
       "      <td>NaN</td>\n",
       "      <td>NaN</td>\n",
       "      <td>33.44</td>\n",
       "      <td>0.0</td>\n",
       "      <td>0.0</td>\n",
       "      <td>0.0</td>\n",
       "      <td>0.0</td>\n",
       "      <td>0.0</td>\n",
       "      <td>0.0</td>\n",
       "      <td>0</td>\n",
       "    </tr>\n",
       "    <tr>\n",
       "      <td>4</td>\n",
       "      <td>[Agness ann]</td>\n",
       "      <td>PA</td>\n",
       "      <td>PA</td>\n",
       "      <td>NaN</td>\n",
       "      <td>NaN</td>\n",
       "      <td>NaN</td>\n",
       "      <td>NaN</td>\n",
       "      <td>NaN</td>\n",
       "      <td>883.63</td>\n",
       "      <td>0.0</td>\n",
       "      <td>0.0</td>\n",
       "      <td>0.0</td>\n",
       "      <td>0.0</td>\n",
       "      <td>0.0</td>\n",
       "      <td>0.0</td>\n",
       "      <td>0</td>\n",
       "    </tr>\n",
       "    <tr>\n",
       "      <td>5</td>\n",
       "      <td>[Anne Maria]</td>\n",
       "      <td>PA</td>\n",
       "      <td>PA</td>\n",
       "      <td>NaN</td>\n",
       "      <td>NaN</td>\n",
       "      <td>NaN</td>\n",
       "      <td>NaN</td>\n",
       "      <td>NaN</td>\n",
       "      <td>255.77</td>\n",
       "      <td>0.0</td>\n",
       "      <td>0.0</td>\n",
       "      <td>0.0</td>\n",
       "      <td>0.0</td>\n",
       "      <td>0.0</td>\n",
       "      <td>0.0</td>\n",
       "      <td>0</td>\n",
       "    </tr>\n",
       "    <tr>\n",
       "      <td>6</td>\n",
       "      <td>[Charles Godfreid]</td>\n",
       "      <td>PA</td>\n",
       "      <td>PA</td>\n",
       "      <td>NaN</td>\n",
       "      <td>NaN</td>\n",
       "      <td>NaN</td>\n",
       "      <td>NaN</td>\n",
       "      <td>NaN</td>\n",
       "      <td>3260.83</td>\n",
       "      <td>0.0</td>\n",
       "      <td>0.0</td>\n",
       "      <td>0.0</td>\n",
       "      <td>0.0</td>\n",
       "      <td>0.0</td>\n",
       "      <td>0.0</td>\n",
       "      <td>0</td>\n",
       "    </tr>\n",
       "    <tr>\n",
       "      <td>7</td>\n",
       "      <td>[Daniel W]</td>\n",
       "      <td>PA</td>\n",
       "      <td>PA</td>\n",
       "      <td>NaN</td>\n",
       "      <td>NaN</td>\n",
       "      <td>NaN</td>\n",
       "      <td>NaN</td>\n",
       "      <td>NaN</td>\n",
       "      <td>269.57</td>\n",
       "      <td>0.0</td>\n",
       "      <td>0.0</td>\n",
       "      <td>0.0</td>\n",
       "      <td>0.0</td>\n",
       "      <td>0.0</td>\n",
       "      <td>0.0</td>\n",
       "      <td>0</td>\n",
       "    </tr>\n",
       "    <tr>\n",
       "      <td>...</td>\n",
       "      <td>...</td>\n",
       "      <td>...</td>\n",
       "      <td>...</td>\n",
       "      <td>...</td>\n",
       "      <td>...</td>\n",
       "      <td>...</td>\n",
       "      <td>...</td>\n",
       "      <td>...</td>\n",
       "      <td>...</td>\n",
       "      <td>...</td>\n",
       "      <td>...</td>\n",
       "      <td>...</td>\n",
       "      <td>...</td>\n",
       "      <td>...</td>\n",
       "      <td>...</td>\n",
       "      <td>...</td>\n",
       "    </tr>\n",
       "    <tr>\n",
       "      <td>2529</td>\n",
       "      <td>[Zebulon Waterman]</td>\n",
       "      <td>CT</td>\n",
       "      <td>CT</td>\n",
       "      <td>NaN</td>\n",
       "      <td>NaN</td>\n",
       "      <td>NaN</td>\n",
       "      <td>NaN</td>\n",
       "      <td>NaN</td>\n",
       "      <td>306.61</td>\n",
       "      <td>0.0</td>\n",
       "      <td>0.0</td>\n",
       "      <td>0.0</td>\n",
       "      <td>0.0</td>\n",
       "      <td>0.0</td>\n",
       "      <td>0.0</td>\n",
       "      <td>0</td>\n",
       "    </tr>\n",
       "    <tr>\n",
       "      <td>2530</td>\n",
       "      <td>[Zephaniah Andrews]</td>\n",
       "      <td>RI</td>\n",
       "      <td>RI</td>\n",
       "      <td>NaN</td>\n",
       "      <td>NaN</td>\n",
       "      <td>NaN</td>\n",
       "      <td>NaN</td>\n",
       "      <td>NaN</td>\n",
       "      <td>1728.74</td>\n",
       "      <td>0.0</td>\n",
       "      <td>0.0</td>\n",
       "      <td>0.0</td>\n",
       "      <td>0.0</td>\n",
       "      <td>0.0</td>\n",
       "      <td>0.0</td>\n",
       "      <td>0</td>\n",
       "    </tr>\n",
       "    <tr>\n",
       "      <td>2531</td>\n",
       "      <td>[Zephaniah Brown]</td>\n",
       "      <td>RI</td>\n",
       "      <td>RI</td>\n",
       "      <td>NaN</td>\n",
       "      <td>NaN</td>\n",
       "      <td>NaN</td>\n",
       "      <td>NaN</td>\n",
       "      <td>NaN</td>\n",
       "      <td>2415.08</td>\n",
       "      <td>0.0</td>\n",
       "      <td>0.0</td>\n",
       "      <td>0.0</td>\n",
       "      <td>0.0</td>\n",
       "      <td>0.0</td>\n",
       "      <td>0.0</td>\n",
       "      <td>0</td>\n",
       "    </tr>\n",
       "    <tr>\n",
       "      <td>2532</td>\n",
       "      <td>[Zephaniah Davis]</td>\n",
       "      <td>CT</td>\n",
       "      <td>CT</td>\n",
       "      <td>NaN</td>\n",
       "      <td>NaN</td>\n",
       "      <td>NaN</td>\n",
       "      <td>NaN</td>\n",
       "      <td>NaN</td>\n",
       "      <td>77.20</td>\n",
       "      <td>0.0</td>\n",
       "      <td>0.0</td>\n",
       "      <td>0.0</td>\n",
       "      <td>0.0</td>\n",
       "      <td>0.0</td>\n",
       "      <td>0.0</td>\n",
       "      <td>0</td>\n",
       "    </tr>\n",
       "    <tr>\n",
       "      <td>2533</td>\n",
       "      <td>[Zuriel Waterman]</td>\n",
       "      <td>RI</td>\n",
       "      <td>RI</td>\n",
       "      <td>NaN</td>\n",
       "      <td>NaN</td>\n",
       "      <td>NaN</td>\n",
       "      <td>NaN</td>\n",
       "      <td>NaN</td>\n",
       "      <td>10.95</td>\n",
       "      <td>0.0</td>\n",
       "      <td>0.0</td>\n",
       "      <td>0.0</td>\n",
       "      <td>0.0</td>\n",
       "      <td>0.0</td>\n",
       "      <td>0.0</td>\n",
       "      <td>0</td>\n",
       "    </tr>\n",
       "  </tbody>\n",
       "</table>\n",
       "<p>1313 rows × 16 columns</p>\n",
       "</div>"
      ],
      "text/plain": [
       "                full name state state debt Same State Loan Office  \\\n",
       "3          [James O'Hara]    PA         PA                    NaN   \n",
       "4            [Agness ann]    PA         PA                    NaN   \n",
       "5            [Anne Maria]    PA         PA                    NaN   \n",
       "6      [Charles Godfreid]    PA         PA                    NaN   \n",
       "7              [Daniel W]    PA         PA                    NaN   \n",
       "...                   ...   ...        ...                    ...   \n",
       "2529   [Zebulon Waterman]    CT         CT                    NaN   \n",
       "2530  [Zephaniah Andrews]    RI         RI                    NaN   \n",
       "2531    [Zephaniah Brown]    RI         RI                    NaN   \n",
       "2532    [Zephaniah Davis]    CT         CT                    NaN   \n",
       "2533    [Zuriel Waterman]    RI         RI                    NaN   \n",
       "\n",
       "     Different State Loan Office Same State Liquidated Debt  \\\n",
       "3                            NaN                        NaN   \n",
       "4                            NaN                        NaN   \n",
       "5                            NaN                        NaN   \n",
       "6                            NaN                        NaN   \n",
       "7                            NaN                        NaN   \n",
       "...                          ...                        ...   \n",
       "2529                         NaN                        NaN   \n",
       "2530                         NaN                        NaN   \n",
       "2531                         NaN                        NaN   \n",
       "2532                         NaN                        NaN   \n",
       "2533                         NaN                        NaN   \n",
       "\n",
       "     Different State Liquidated Debt Pierce Certificates    Total  SSLO Total  \\\n",
       "3                                NaN                 NaN    33.44         0.0   \n",
       "4                                NaN                 NaN   883.63         0.0   \n",
       "5                                NaN                 NaN   255.77         0.0   \n",
       "6                                NaN                 NaN  3260.83         0.0   \n",
       "7                                NaN                 NaN   269.57         0.0   \n",
       "...                              ...                 ...      ...         ...   \n",
       "2529                             NaN                 NaN   306.61         0.0   \n",
       "2530                             NaN                 NaN  1728.74         0.0   \n",
       "2531                             NaN                 NaN  2415.08         0.0   \n",
       "2532                             NaN                 NaN    77.20         0.0   \n",
       "2533                             NaN                 NaN    10.95         0.0   \n",
       "\n",
       "      DSLO Total  SSLD Total  DSLD Total  PC Total  Debt Total  \\\n",
       "3            0.0         0.0         0.0       0.0         0.0   \n",
       "4            0.0         0.0         0.0       0.0         0.0   \n",
       "5            0.0         0.0         0.0       0.0         0.0   \n",
       "6            0.0         0.0         0.0       0.0         0.0   \n",
       "7            0.0         0.0         0.0       0.0         0.0   \n",
       "...          ...         ...         ...       ...         ...   \n",
       "2529         0.0         0.0         0.0       0.0         0.0   \n",
       "2530         0.0         0.0         0.0       0.0         0.0   \n",
       "2531         0.0         0.0         0.0       0.0         0.0   \n",
       "2532         0.0         0.0         0.0       0.0         0.0   \n",
       "2533         0.0         0.0         0.0       0.0         0.0   \n",
       "\n",
       "      tot_pre1790_certs  \n",
       "3                     0  \n",
       "4                     0  \n",
       "5                     0  \n",
       "6                     0  \n",
       "7                     0  \n",
       "...                 ...  \n",
       "2529                  0  \n",
       "2530                  0  \n",
       "2531                  0  \n",
       "2532                  0  \n",
       "2533                  0  \n",
       "\n",
       "[1313 rows x 16 columns]"
      ]
     },
     "execution_count": 20,
     "metadata": {},
     "output_type": "execute_result"
    }
   ],
   "source": [
    "df[[tot == 0 and tt != 0 for tot, tt in zip(df['tot_pre1790_certs'], df['Total'])]]"
   ]
  },
  {
   "cell_type": "markdown",
   "metadata": {},
   "source": [
    "##### state distribution"
   ]
  },
  {
   "cell_type": "code",
   "execution_count": 21,
   "metadata": {},
   "outputs": [
    {
     "data": {
      "text/plain": [
       "RI     318\n",
       "PA     248\n",
       "CT     236\n",
       "SC     186\n",
       "MD     129\n",
       "NH      43\n",
       "MA      41\n",
       "NC      40\n",
       "NY      14\n",
       "NJ      13\n",
       "GA      12\n",
       "VA      11\n",
       "VT       6\n",
       "VI       4\n",
       "BVI      4\n",
       "GB       2\n",
       "FR       2\n",
       "BM       2\n",
       "US       1\n",
       "DE       1\n",
       "Name: state, dtype: int64"
      ]
     },
     "execution_count": 21,
     "metadata": {},
     "output_type": "execute_result"
    }
   ],
   "source": [
    "df[[tot == 0 and tt != 0 for tot, tt in zip(df['tot_pre1790_certs'], df['Total'])]]['state'].value_counts()"
   ]
  },
  {
   "cell_type": "code",
   "execution_count": 22,
   "metadata": {},
   "outputs": [],
   "source": [
    "namelsts = df[[tot == 0 and tt != 0 for \n",
    "               tot, tt in zip(df['tot_pre1790_certs'], df['Total'])]]['full name'].apply(lambda x: pd.Series(x)).values\n",
    "names = [x for x in list(chain.from_iterable(namelsts)) if not pd.isnull(x)]"
   ]
  },
  {
   "cell_type": "code",
   "execution_count": 23,
   "metadata": {},
   "outputs": [],
   "source": [
    "name_state_asset = pd.DataFrame({}, columns = ['Full Name', 'Total', 'state'])"
   ]
  },
  {
   "cell_type": "code",
   "execution_count": 24,
   "metadata": {},
   "outputs": [],
   "source": [
    "name_df = df[[tot == 0 and tt != 0 for \n",
    "              tot, tt in zip(df['tot_pre1790_certs'], df['Total'])]]['full name'].apply(lambda x: pd.Series(x))\n",
    "name_df\n",
    "for name in names:\n",
    "    ind1 = name_df[name_df[0] == name].index.tolist()\n",
    "    ind2 = name_df[name_df[1] == name].index.tolist()\n",
    "    ind3 = name_df[name_df[2] == name].index.tolist()\n",
    "    ind4 = name_df[name_df[3] == name].index.tolist()\n",
    "    ind5 = name_df[name_df[4] == name].index.tolist()\n",
    "    ind1.extend(ind2)\n",
    "    ind1.extend(ind3)\n",
    "    ind1.extend(ind4)\n",
    "    ind1.extend(ind5)\n",
    "    ind1 = list(set(ind1))\n",
    "    tot_assets = df.loc[ind1, 'Total'].sum()\n",
    "    state = df.loc[ind1, 'state'].values[0]\n",
    "    add_df = pd.DataFrame()\n",
    "    add_df['Full Name'] = [name]\n",
    "    add_df['Total'] = [tot_assets]\n",
    "    add_df['state'] = [state]\n",
    "    name_state_asset = pd.concat([name_state_asset, add_df])"
   ]
  },
  {
   "cell_type": "code",
   "execution_count": 25,
   "metadata": {},
   "outputs": [],
   "source": [
    "cd_names = pd.DataFrame(name_state_asset.groupby(['Full Name', 'state'])['Total'].sum()).reset_index()"
   ]
  },
  {
   "cell_type": "markdown",
   "metadata": {},
   "source": [
    "### How many unique people redeemed certificates with Hamilton and were not original owners/purchasers"
   ]
  },
  {
   "cell_type": "code",
   "execution_count": 27,
   "metadata": {},
   "outputs": [
    {
     "data": {
      "text/plain": [
       "1325"
      ]
     },
     "execution_count": 27,
     "metadata": {},
     "output_type": "execute_result"
    }
   ],
   "source": [
    "len(set(cd_names['Full Name']))"
   ]
  },
  {
   "cell_type": "code",
   "execution_count": 28,
   "metadata": {},
   "outputs": [],
   "source": [
    "cd_names.to_csv(\"speculator_names.csv\")"
   ]
  }
 ],
 "metadata": {
  "kernelspec": {
   "display_name": "Python 3",
   "language": "python",
   "name": "python3"
  },
  "language_info": {
   "codemirror_mode": {
    "name": "ipython",
    "version": 3
   },
   "file_extension": ".py",
   "mimetype": "text/x-python",
   "name": "python",
   "nbconvert_exporter": "python",
   "pygments_lexer": "ipython3",
   "version": "3.7.4"
  }
 },
 "nbformat": 4,
 "nbformat_minor": 4
}
