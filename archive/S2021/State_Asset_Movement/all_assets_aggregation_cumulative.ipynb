{
 "cells": [
  {
   "cell_type": "code",
   "execution_count": 1,
   "metadata": {},
   "outputs": [],
   "source": [
    "import pandas as pd\n",
    "import numpy as np\n",
    "import json"
   ]
  },
  {
   "cell_type": "code",
   "execution_count": 2,
   "metadata": {},
   "outputs": [],
   "source": [
    "#importing data (pre1790)\n",
    "pre1790 = pd.read_csv('prepost_data_aggregations/statewise_debt_aggregation_Pre1790.csv')\n",
    "pre1790.columns = ['state', 'Loan Office Certificates Specie Value','State Liquidated Debt Dollars','Pierce Certificates Value']"
   ]
  },
  {
   "cell_type": "code",
   "execution_count": 3,
   "metadata": {},
   "outputs": [],
   "source": [
    "#importing data (post1790)\n",
    "post1790 = pd.read_csv('prepost_data_aggregations/statewise_debt_aggregation_Post1790.csv', index_col = 0)\n",
    "post1790_ds = pd.read_csv('prepost_data_aggregations/statewise_debt_aggregation_Post1790_debtstate.csv', index_col = 0)\n",
    "post1790_rep = pd.read_csv('prepost_data_aggregations/statewise_debt_aggregation_Post1790_rep.csv', index_col = 0)"
   ]
  },
  {
   "cell_type": "code",
   "execution_count": 4,
   "metadata": {},
   "outputs": [],
   "source": [
    "state_pop = pd.read_csv('../Data/statepop.csv')[['State', 'Total Pop', 'Slave Pop']]"
   ]
  },
  {
   "cell_type": "code",
   "execution_count": 5,
   "metadata": {},
   "outputs": [],
   "source": [
    "state_pop['White Pop'] = state_pop['Total Pop'] - state_pop['Slave Pop']\n",
    "state_pop.dropna(inplace = True)\n",
    "state_pop = state_pop[['State', 'White Pop']]\n",
    "state_pop.columns = ['state', 'pop']"
   ]
  },
  {
   "cell_type": "code",
   "execution_count": 6,
   "metadata": {},
   "outputs": [],
   "source": [
    "with open('state_abbrev.json') as file:\n",
    "    state_abbrev = json.load(file)"
   ]
  },
  {
   "cell_type": "code",
   "execution_count": 7,
   "metadata": {},
   "outputs": [],
   "source": [
    "state_pop['state'] = state_pop['state'].apply(lambda x: state_abbrev[x])"
   ]
  },
  {
   "cell_type": "code",
   "execution_count": 8,
   "metadata": {},
   "outputs": [
    {
     "name": "stdout",
     "output_type": "stream",
     "text": [
      "pre1790: 26860611.73, post1790: 14476118.95, ratio: 0.54\n"
     ]
    }
   ],
   "source": [
    "#pre 1790 and post1790 asset totals\n",
    "pre1790cols = ['Loan Office Certificates Specie Value', 'State Liquidated Debt Dollars', 'Pierce Certificates Value']\n",
    "post1790cols = ['ASD Total', 'CD Total']\n",
    "pre1790['pre1790 total'] = pre1790[pre1790cols].sum(axis = 1)\n",
    "post1790['post1790 total'] = post1790[post1790cols].sum(axis = 1)\n",
    "post1790_ds['post1790 total'] = post1790_ds[post1790cols].sum(axis = 1)\n",
    "post1790_rep['post1790 total'] = post1790_rep[post1790cols].sum(axis = 1)\n",
    "pre1790_tot = pre1790['pre1790 total'].sum()\n",
    "post1790_tot = post1790['post1790 total'].sum()\n",
    "print(\"pre1790: {:.2f}, post1790: {:.2f}, ratio: {:.2f}\".format(pre1790_tot, post1790_tot, post1790_tot/pre1790_tot))"
   ]
  },
  {
   "cell_type": "code",
   "execution_count": 9,
   "metadata": {},
   "outputs": [],
   "source": [
    "def calculateMetrics(df):\n",
    "    #aggregates\n",
    "    df = df.fillna(0)\n",
    "    df = pd.merge(df, state_pop, on = 'state', how = 'outer')\n",
    "    \n",
    "    df['pre1790 pct'] = df['pre1790 total']/pre1790_tot * 100\n",
    "    df['post1790 pct'] = df['post1790 total']/post1790_tot * 100\n",
    "    df['total asset dif'] = df['post1790 total'] - df['pre1790 total']\n",
    "    #reweighting of post1790 assets\n",
    "    df['total asset dif (adj)'] = df['post1790 total']*pre1790_tot/post1790_tot - all_debts_ds['pre1790 total']\n",
    "    df['total asset pct dif'] = (df['post1790 pct'] - df['pre1790 pct'])\n",
    "    \n",
    "    df['Loan Office pct'] =  df['Loan Office Certificates Specie Value']/df['Loan Office Certificates Specie Value'].sum()\n",
    "    df['State Liquidated pct'] =  df['State Liquidated Debt Dollars']/df['State Liquidated Debt Dollars'].sum()\n",
    "    df['Pierce pct'] =  df['Pierce Certificates Value']/df['Pierce Certificates Value'].sum()\n",
    "    df['CD pct'] =  df['CD Total']/df[ 'CD Total'].sum()\n",
    "    df['ASD pct'] =  df['ASD Total']/df['ASD Total'].sum()\n",
    "    \n",
    "    df['pre1790 total (pop adj)'] = df['pre1790 total']/df['pop']\n",
    "    df['post1790 total (pop adj)'] = df['post1790 total']/df['pop']\n",
    "    \n",
    "    df['pre1790 pct (pop adj)'] = df['pre1790 total (pop adj)']/df['pre1790 total (pop adj)'].sum() * 100\n",
    "    df['post1790 pct (pop adj)'] = df['post1790 total (pop adj)']/df['post1790 total (pop adj)'].sum() * 100 \n",
    "    df['total asset dif (pop adj)'] = df['post1790 total (pop adj)'] - df['pre1790 total (pop adj)']\n",
    "    df['total asset pct dif (pop adj)'] =  df['post1790 pct (pop adj)'] - df['pre1790 pct (pop adj)']\n",
    "    return df.round(2)"
   ]
  },
  {
   "cell_type": "code",
   "execution_count": 10,
   "metadata": {},
   "outputs": [],
   "source": [
    "#default"
   ]
  },
  {
   "cell_type": "code",
   "execution_count": 11,
   "metadata": {},
   "outputs": [],
   "source": [
    "all_debts = pd.merge(pre1790[['state', 'pre1790 total']], post1790[['state', 'post1790 total']], \n",
    "                     on = 'state', how = 'outer').round(2)\n",
    "#all_debts"
   ]
  },
  {
   "cell_type": "code",
   "execution_count": 18,
   "metadata": {},
   "outputs": [],
   "source": [
    "post1790_ds.columns = ['state', 'ASD Total', 'CD Total', 'post1790 total']\n",
    "all_debts_ds = pd.merge(pre1790, post1790_ds, \n",
    "                        on = 'state', how = 'outer').round(2)\n",
    "all_debts_ds = calculateMetrics(all_debts_ds)\n",
    "#all_debts_ds"
   ]
  },
  {
   "cell_type": "code",
   "execution_count": 13,
   "metadata": {},
   "outputs": [],
   "source": [
    "post1790_rep.loc[post1790_rep[post1790_rep['state'] == 'NY loan office'].index, 'state'] = 'NY'"
   ]
  },
  {
   "cell_type": "code",
   "execution_count": 17,
   "metadata": {},
   "outputs": [],
   "source": [
    "post1790_rep.loc[post1790_rep[post1790_rep['state'] == 'NY loan office'].index, 'state'] = 'NY'\n",
    "post1790_rep = post1790_rep.groupby('state')[['ASD Total','CD Total', 'post1790 total']].sum().reset_index()\n",
    "all_debts_rep = pd.merge(pre1790, post1790_rep, \n",
    "                        on = 'state', how = 'outer').round(2)\n",
    "all_debts_rep = calculateMetrics(all_debts_rep)\n",
    "#all_debts_rep"
   ]
  },
  {
   "cell_type": "code",
   "execution_count": 15,
   "metadata": {},
   "outputs": [],
   "source": [
    "all_debts_ds.to_csv('statewise_all_assets_ds.csv')"
   ]
  },
  {
   "cell_type": "code",
   "execution_count": 16,
   "metadata": {},
   "outputs": [],
   "source": [
    "all_debts_rep.to_csv('statewise_all_assets_rep.csv')"
   ]
  }
 ],
 "metadata": {
  "kernelspec": {
   "display_name": "Python 3",
   "language": "python",
   "name": "python3"
  },
  "language_info": {
   "codemirror_mode": {
    "name": "ipython",
    "version": 3
   },
   "file_extension": ".py",
   "mimetype": "text/x-python",
   "name": "python",
   "nbconvert_exporter": "python",
   "pygments_lexer": "ipython3",
   "version": "3.8.8"
  }
 },
 "nbformat": 4,
 "nbformat_minor": 4
}
