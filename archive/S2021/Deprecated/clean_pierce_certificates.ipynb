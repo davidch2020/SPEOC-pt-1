{
 "cells": [
  {
   "cell_type": "markdown",
   "metadata": {},
   "source": [
    "# CLEAN PIERCE CERTIFICATES"
   ]
  },
  {
   "cell_type": "code",
   "execution_count": 2,
   "metadata": {},
   "outputs": [],
   "source": [
    "import numpy as np\n",
    "import pandas as pd\n",
    "import fuzzywuzzy\n",
    "from fuzzywuzzy import fuzz\n",
    "from fuzzywuzzy import process"
   ]
  },
  {
   "cell_type": "code",
   "execution_count": 81,
   "metadata": {},
   "outputs": [],
   "source": [
    "pierce = pd.read_excel(\"Data/Pre1790/Pierce_Certs_cleaned_2019.xlsx\")"
   ]
  },
  {
   "cell_type": "code",
   "execution_count": 82,
   "metadata": {},
   "outputs": [],
   "source": [
    "pierce = pierce[pierce['First'].apply(lambda x: type(x) != bool)]"
   ]
  },
  {
   "cell_type": "code",
   "execution_count": 83,
   "metadata": {},
   "outputs": [],
   "source": [
    "repl_index = pierce[pierce['Last'].apply(lambda x: type(x) == bool)].index\n",
    "pierce.loc[repl_index, 'Last'] = \"True\""
   ]
  },
  {
   "cell_type": "code",
   "execution_count": 91,
   "metadata": {},
   "outputs": [],
   "source": [
    "pierce = pierce[pierce['Last'].apply(lambda x: not pd.isnull(x))]"
   ]
  },
  {
   "cell_type": "code",
   "execution_count": 93,
   "metadata": {
    "collapsed": true,
    "jupyter": {
     "outputs_hidden": true
    }
   },
   "outputs": [
    {
     "name": "stderr",
     "output_type": "stream",
     "text": [
      "/opt/anaconda3/lib/python3.7/site-packages/ipykernel_launcher.py:1: SettingWithCopyWarning: \n",
      "A value is trying to be set on a copy of a slice from a DataFrame.\n",
      "Try using .loc[row_indexer,col_indexer] = value instead\n",
      "\n",
      "See the caveats in the documentation: http://pandas.pydata.org/pandas-docs/stable/user_guide/indexing.html#returning-a-view-versus-a-copy\n",
      "  \"\"\"Entry point for launching an IPython kernel.\n",
      "/opt/anaconda3/lib/python3.7/site-packages/ipykernel_launcher.py:2: SettingWithCopyWarning: \n",
      "A value is trying to be set on a copy of a slice from a DataFrame.\n",
      "Try using .loc[row_indexer,col_indexer] = value instead\n",
      "\n",
      "See the caveats in the documentation: http://pandas.pydata.org/pandas-docs/stable/user_guide/indexing.html#returning-a-view-versus-a-copy\n",
      "  \n"
     ]
    }
   ],
   "source": [
    "pierce['First'] = pierce['First'].apply(lambda x: x.strip() if not pd.isnull(x) else x)\n",
    "pierce['Last'] = pierce['Last'].apply(lambda x: x.strip() if not pd.isnull(x) else x)"
   ]
  },
  {
   "cell_type": "code",
   "execution_count": 94,
   "metadata": {
    "collapsed": true,
    "jupyter": {
     "outputs_hidden": true
    }
   },
   "outputs": [
    {
     "name": "stderr",
     "output_type": "stream",
     "text": [
      "/opt/anaconda3/lib/python3.7/site-packages/ipykernel_launcher.py:1: SettingWithCopyWarning: \n",
      "A value is trying to be set on a copy of a slice from a DataFrame.\n",
      "Try using .loc[row_indexer,col_indexer] = value instead\n",
      "\n",
      "See the caveats in the documentation: http://pandas.pydata.org/pandas-docs/stable/user_guide/indexing.html#returning-a-view-versus-a-copy\n",
      "  \"\"\"Entry point for launching an IPython kernel.\n",
      "/opt/anaconda3/lib/python3.7/site-packages/ipykernel_launcher.py:2: SettingWithCopyWarning: \n",
      "A value is trying to be set on a copy of a slice from a DataFrame.\n",
      "Try using .loc[row_indexer,col_indexer] = value instead\n",
      "\n",
      "See the caveats in the documentation: http://pandas.pydata.org/pandas-docs/stable/user_guide/indexing.html#returning-a-view-versus-a-copy\n",
      "  \n",
      "/opt/anaconda3/lib/python3.7/site-packages/ipykernel_launcher.py:3: SettingWithCopyWarning: \n",
      "A value is trying to be set on a copy of a slice from a DataFrame.\n",
      "Try using .loc[row_indexer,col_indexer] = value instead\n",
      "\n",
      "See the caveats in the documentation: http://pandas.pydata.org/pandas-docs/stable/user_guide/indexing.html#returning-a-view-versus-a-copy\n",
      "  This is separate from the ipykernel package so we can avoid doing imports until\n"
     ]
    }
   ],
   "source": [
    "pierce['Last 2'] = np.nan\n",
    "pierce['First 2'] = np.nan\n",
    "pierce['original text'] = np.nan"
   ]
  },
  {
   "cell_type": "code",
   "execution_count": 103,
   "metadata": {},
   "outputs": [],
   "source": [
    "repl_index = pierce[pierce['First'].apply(lambda x: x == 'P. & J.')].index\n",
    "pierce.loc[repl_index, ['First', 'Last', 'First 2', 'Last 2', 'original text']] = ['P.', 'Bemant', 'J.', 'Porter', 'P. & J. Bemant &. Porter']\n",
    "repl_index = pierce[pierce['First'].apply(lambda x: x == 'S & Delano')].index\n",
    "pierce.loc[repl_index, ['First', 'Last', 'First 2', 'Last 2', 'original text']] = ['S', 'Darting', 'Delano', 'Darting', 'S & Delano Darting']\n",
    "repl_index = pierce[pierce['First'].apply(lambda x: x == 'Benjamin & Donnelly')].index\n",
    "pierce.loc[repl_index, ['Last', 'Last 2', 'original text']] = ['Benjamin', 'Donnelly', 'Benjamin & Donnelly X']\n",
    "repl_index = pierce[pierce['First'].apply(lambda x: x == 'Thomas G Jr.')].index\n",
    "pierce.loc[repl_index, ['First', 'Last', 'original text']] = ['Thomas G', 'Alford Jr.', 'Thomas G Jr. Alford']\n",
    "repl_index = pierce[pierce['First'].apply(lambda x: x == 'Thomas G Sr.')].index\n",
    "pierce.loc[repl_index, ['First', 'Last', 'original text']] = ['Thomas G', 'Alford Sr.', 'Thomas G Sr. Alford']\n",
    "repl_index = pierce[pierce['First'].apply(lambda x: x == 'Tho G Jr.')].index\n",
    "pierce.loc[repl_index, ['First', 'Last', 'original text']] = ['Tho G', 'Alvord Jr.', 'Tho G Jr. Alvord']\n",
    "repl_index = pierce[pierce['First'].apply(lambda x: x == 'Tho G Sr.')].index\n",
    "pierce.loc[repl_index, ['First', 'Last', 'original text']] = ['Tho G', 'Alvord Sr.', 'Tho G Sr. Alvord']\n",
    "repl_index = pierce[pierce['First'].apply(lambda x: x == 'John (see Berrick)')].index\n",
    "pierce.loc[repl_index, ['First', 'Last', 'original text']] = ['John', 'Berrick', 'John (see Berrick) Benrick']\n",
    "repl_index = pierce[pierce['First'].apply(lambda x: x == 'J C B V')].index\n",
    "pierce.loc[repl_index, ['First', 'original text']] = ['John C B V', 'J C B V Bonhagle']\n",
    "repl_index = pierce[pierce['First'].apply(lambda x: x == 'James (alias Cady)')].index\n",
    "pierce.loc[repl_index, ['First', 'original text']] = ['James', 'James (alias Cady)']\n",
    "repl_index = pierce[pierce['First'].apply(lambda x: x == 'John F (?)')].index\n",
    "pierce.loc[repl_index, ['First', 'original text']] = ['John F', 'John F (?) Conrad']\n",
    "repl_index = pierce[pierce['First'].apply(lambda x: x == 'M. for J. Jones')].index\n",
    "pierce.loc[repl_index, ['First', 'original text']] = ['J.', 'M. for J. Jones Jones']\n",
    "repl_index = pierce[pierce['First'].apply(lambda x: x == 'William And Lewis')].index\n",
    "pierce.loc[repl_index, ['First', 'Last', 'First 2', 'Last 2','original text']] = ['William', 'Rice', 'Lewis', 'Rice', 'William And Lewis Rice']\n",
    "repl_index = pierce[pierce['First'].apply(lambda x: x == 'alias Hodge S')].index\n",
    "pierce.loc[repl_index, ['First', 'Last','original text']] = ['Hodge S', 'Rollins', 'alias Hodge S Rollins']\n",
    "repl_index = pierce[pierce['CN'].apply(lambda x: x == 84601)].index\n",
    "pierce.loc[repl_index, ['First', 'Last', 'Last 2','original text']] = [np.nan, 'Benjamin', 'Donnelly', 'Benjamin & Donnelly Benjamin']\n",
    "repl_index = pierce[pierce['First'].apply(lambda x: x == 'John P Jr.')].index\n",
    "pierce.loc[repl_index, ['First', 'Last','original text']] = ['John P', 'Salter Jr.', 'John P Jr. Salter']\n",
    "repl_index = pierce[pierce['First'].apply(lambda x: x == 'John P Sr.')].index\n",
    "pierce.loc[repl_index, ['First', 'Last','original text']] = ['John P', 'Salter Sr.', 'John P Sr. Salter']"
   ]
  },
  {
   "cell_type": "code",
   "execution_count": 112,
   "metadata": {},
   "outputs": [
    {
     "data": {
      "text/html": [
       "<div>\n",
       "<style scoped>\n",
       "    .dataframe tbody tr th:only-of-type {\n",
       "        vertical-align: middle;\n",
       "    }\n",
       "\n",
       "    .dataframe tbody tr th {\n",
       "        vertical-align: top;\n",
       "    }\n",
       "\n",
       "    .dataframe thead th {\n",
       "        text-align: right;\n",
       "    }\n",
       "</style>\n",
       "<table border=\"1\" class=\"dataframe\">\n",
       "  <thead>\n",
       "    <tr style=\"text-align: right;\">\n",
       "      <th></th>\n",
       "      <th>CN</th>\n",
       "      <th>Last</th>\n",
       "      <th>First</th>\n",
       "      <th>Value</th>\n",
       "      <th>Group</th>\n",
       "      <th>To Whom Issued</th>\n",
       "      <th>State</th>\n",
       "      <th>Officer</th>\n",
       "      <th>Last 2</th>\n",
       "      <th>First 2</th>\n",
       "      <th>original text</th>\n",
       "    </tr>\n",
       "  </thead>\n",
       "  <tbody>\n",
       "    <tr>\n",
       "      <td>16503</td>\n",
       "      <td>65707</td>\n",
       "      <td>Code (or Coad)</td>\n",
       "      <td>William</td>\n",
       "      <td>40.60</td>\n",
       "      <td>81.0</td>\n",
       "      <td>First New York Regiment  Col. G. Van Shaick; M...</td>\n",
       "      <td>NY</td>\n",
       "      <td>0.0</td>\n",
       "      <td>NaN</td>\n",
       "      <td>NaN</td>\n",
       "      <td>NaN</td>\n",
       "    </tr>\n",
       "    <tr>\n",
       "      <td>21787</td>\n",
       "      <td>1682</td>\n",
       "      <td>De La Mater</td>\n",
       "      <td>John</td>\n",
       "      <td>300.00</td>\n",
       "      <td>9.0</td>\n",
       "      <td>Officers under Gen. Armand  paid to December  ...</td>\n",
       "      <td>NaN</td>\n",
       "      <td>1.0</td>\n",
       "      <td>NaN</td>\n",
       "      <td>NaN</td>\n",
       "      <td>NaN</td>\n",
       "    </tr>\n",
       "    <tr>\n",
       "      <td>21788</td>\n",
       "      <td>66542</td>\n",
       "      <td>De la Mater</td>\n",
       "      <td>John</td>\n",
       "      <td>112.60</td>\n",
       "      <td>81.0</td>\n",
       "      <td>First New York Regiment  Col. G. Van Shaick; M...</td>\n",
       "      <td>NY</td>\n",
       "      <td>0.0</td>\n",
       "      <td>NaN</td>\n",
       "      <td>NaN</td>\n",
       "      <td>NaN</td>\n",
       "    </tr>\n",
       "    <tr>\n",
       "      <td>21789</td>\n",
       "      <td>33666</td>\n",
       "      <td>De La Rouerie</td>\n",
       "      <td>A. Ma</td>\n",
       "      <td>3724.33</td>\n",
       "      <td>49.0</td>\n",
       "      <td>Officers  foreign  paid to November 15  1783</td>\n",
       "      <td>F</td>\n",
       "      <td>1.0</td>\n",
       "      <td>NaN</td>\n",
       "      <td>NaN</td>\n",
       "      <td>NaN</td>\n",
       "    </tr>\n",
       "    <tr>\n",
       "      <td>21790</td>\n",
       "      <td>33618</td>\n",
       "      <td>De La Rouerie</td>\n",
       "      <td>Amand</td>\n",
       "      <td>1306.83</td>\n",
       "      <td>48.0</td>\n",
       "      <td>Officers  foreign  paid to November 15  1783</td>\n",
       "      <td>F</td>\n",
       "      <td>1.0</td>\n",
       "      <td>NaN</td>\n",
       "      <td>NaN</td>\n",
       "      <td>NaN</td>\n",
       "    </tr>\n",
       "    <tr>\n",
       "      <td>21791</td>\n",
       "      <td>33642</td>\n",
       "      <td>De La Rouerie</td>\n",
       "      <td>B. G. A.</td>\n",
       "      <td>905.66</td>\n",
       "      <td>48.0</td>\n",
       "      <td>Officers  foreign  paid to November 15  1783</td>\n",
       "      <td>F</td>\n",
       "      <td>1.0</td>\n",
       "      <td>NaN</td>\n",
       "      <td>NaN</td>\n",
       "      <td>NaN</td>\n",
       "    </tr>\n",
       "    <tr>\n",
       "      <td>64458</td>\n",
       "      <td>67902</td>\n",
       "      <td>Peffer (or Pepper)</td>\n",
       "      <td>Ge</td>\n",
       "      <td>33.30</td>\n",
       "      <td>85.0</td>\n",
       "      <td>Tenth (old) Pennsylvania Regiment  paid to Jan...</td>\n",
       "      <td>PA</td>\n",
       "      <td>0.0</td>\n",
       "      <td>NaN</td>\n",
       "      <td>NaN</td>\n",
       "      <td>NaN</td>\n",
       "    </tr>\n",
       "    <tr>\n",
       "      <td>64654</td>\n",
       "      <td>67902</td>\n",
       "      <td>Pepper (or Peffer)</td>\n",
       "      <td>Ge</td>\n",
       "      <td>33.30</td>\n",
       "      <td>85.0</td>\n",
       "      <td>Tenth (old) Pennsylvania Regiment  paid to Jan...</td>\n",
       "      <td>PA</td>\n",
       "      <td>0.0</td>\n",
       "      <td>NaN</td>\n",
       "      <td>NaN</td>\n",
       "      <td>NaN</td>\n",
       "    </tr>\n",
       "    <tr>\n",
       "      <td>84977</td>\n",
       "      <td>65918</td>\n",
       "      <td>Van De Bogart</td>\n",
       "      <td>Nichol</td>\n",
       "      <td>44.66</td>\n",
       "      <td>81.0</td>\n",
       "      <td>First New York Regiment  Col. G. Van Shaick; M...</td>\n",
       "      <td>NY</td>\n",
       "      <td>0.0</td>\n",
       "      <td>NaN</td>\n",
       "      <td>NaN</td>\n",
       "      <td>NaN</td>\n",
       "    </tr>\n",
       "  </tbody>\n",
       "</table>\n",
       "</div>"
      ],
      "text/plain": [
       "          CN                Last     First    Value  Group  \\\n",
       "16503  65707      Code (or Coad)   William    40.60   81.0   \n",
       "21787   1682         De La Mater      John   300.00    9.0   \n",
       "21788  66542         De la Mater      John   112.60   81.0   \n",
       "21789  33666       De La Rouerie     A. Ma  3724.33   49.0   \n",
       "21790  33618       De La Rouerie     Amand  1306.83   48.0   \n",
       "21791  33642       De La Rouerie  B. G. A.   905.66   48.0   \n",
       "64458  67902  Peffer (or Pepper)        Ge    33.30   85.0   \n",
       "64654  67902  Pepper (or Peffer)        Ge    33.30   85.0   \n",
       "84977  65918       Van De Bogart    Nichol    44.66   81.0   \n",
       "\n",
       "                                          To Whom Issued State  Officer  \\\n",
       "16503  First New York Regiment  Col. G. Van Shaick; M...    NY      0.0   \n",
       "21787  Officers under Gen. Armand  paid to December  ...   NaN      1.0   \n",
       "21788  First New York Regiment  Col. G. Van Shaick; M...    NY      0.0   \n",
       "21789       Officers  foreign  paid to November 15  1783     F      1.0   \n",
       "21790       Officers  foreign  paid to November 15  1783     F      1.0   \n",
       "21791       Officers  foreign  paid to November 15  1783     F      1.0   \n",
       "64458  Tenth (old) Pennsylvania Regiment  paid to Jan...    PA      0.0   \n",
       "64654  Tenth (old) Pennsylvania Regiment  paid to Jan...    PA      0.0   \n",
       "84977  First New York Regiment  Col. G. Van Shaick; M...    NY      0.0   \n",
       "\n",
       "      Last 2 First 2 original text  \n",
       "16503    NaN     NaN           NaN  \n",
       "21787    NaN     NaN           NaN  \n",
       "21788    NaN     NaN           NaN  \n",
       "21789    NaN     NaN           NaN  \n",
       "21790    NaN     NaN           NaN  \n",
       "21791    NaN     NaN           NaN  \n",
       "64458    NaN     NaN           NaN  \n",
       "64654    NaN     NaN           NaN  \n",
       "84977    NaN     NaN           NaN  "
      ]
     },
     "execution_count": 112,
     "metadata": {},
     "output_type": "execute_result"
    }
   ],
   "source": [
    "pierce[pierce['Last'].apply(lambda x: not pd.isnull(x) and len(x.split(\" \")) > 2)]"
   ]
  },
  {
   "cell_type": "code",
   "execution_count": 113,
   "metadata": {},
   "outputs": [],
   "source": [
    "repl_index = pierce[pierce['Last'].apply(lambda x: x == 'Blanchard & Russell')].index\n",
    "pierce.loc[repl_index, ['Last', 'Last 2', 'original text']] = ['Blanchard', 'Russell', 'Blanchard & Russell']\n",
    "repl_index = pierce[pierce['Last'].apply(lambda x: x == 'Code (or Coad)')].index\n",
    "pierce.loc[repl_index, ['Last', 'First 2', 'Last 2', 'original text']] = ['Code', 'William', 'Coad', 'William Code (or Coad)']\n",
    "repl_index = pierce[pierce['Last'].apply(lambda x: x == 'Peffer (or Pepper)')].index\n",
    "pierce.loc[repl_index, ['Last', 'First 2', 'Last 2', 'original text']] = ['Peffer', 'Ge', 'Pepper', 'Ge Peffer (or Pepper)']"
   ]
  },
  {
   "cell_type": "code",
   "execution_count": 115,
   "metadata": {},
   "outputs": [
    {
     "name": "stderr",
     "output_type": "stream",
     "text": [
      "/opt/anaconda3/lib/python3.7/site-packages/pandas/core/frame.py:4102: SettingWithCopyWarning: \n",
      "A value is trying to be set on a copy of a slice from a DataFrame\n",
      "\n",
      "See the caveats in the documentation: http://pandas.pydata.org/pandas-docs/stable/user_guide/indexing.html#returning-a-view-versus-a-copy\n",
      "  errors=errors,\n"
     ]
    }
   ],
   "source": [
    "ind = pierce[pierce['Last'] == 'Pepper (or Peffer)'].index\n",
    "pierce.drop(ind, inplace = True)"
   ]
  },
  {
   "cell_type": "code",
   "execution_count": 117,
   "metadata": {},
   "outputs": [],
   "source": [
    "pierce.to_csv('Data/Pre1790/cleaned/Pierce_Certs_cleaned_2021.csv')"
   ]
  }
 ],
 "metadata": {
  "kernelspec": {
   "display_name": "Python 3",
   "language": "python",
   "name": "python3"
  },
  "language_info": {
   "codemirror_mode": {
    "name": "ipython",
    "version": 3
   },
   "file_extension": ".py",
   "mimetype": "text/x-python",
   "name": "python",
   "nbconvert_exporter": "python",
   "pygments_lexer": "ipython3",
   "version": "3.7.4"
  }
 },
 "nbformat": 4,
 "nbformat_minor": 4
}
