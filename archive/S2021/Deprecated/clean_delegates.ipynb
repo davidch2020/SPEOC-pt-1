{
 "cells": [
  {
   "cell_type": "code",
   "execution_count": 1,
   "metadata": {},
   "outputs": [],
   "source": [
    "import numpy as np\n",
    "import pandas as pd\n",
    "import re"
   ]
  },
  {
   "cell_type": "code",
   "execution_count": 7,
   "metadata": {},
   "outputs": [],
   "source": [
    "delegates = pd.read_excel(\"Data/Delegates/constitutional_convention_1787.xlsx\", header = 2)\n",
    "state_delegates = pd.read_excel(\"Data/Delegates/State Delegates.xlsx\", header = 2)"
   ]
  },
  {
   "cell_type": "code",
   "execution_count": 8,
   "metadata": {},
   "outputs": [
    {
     "name": "stdout",
     "output_type": "stream",
     "text": [
      "number of alt first names: 0\n",
      "number of alt last names: 4\n"
     ]
    }
   ],
   "source": [
    "#cleaning strings for constitutional convention delegates\n",
    "delegates['state'] = [x.strip() for x in delegates['state']]\n",
    "delegates['sign'] = [x.strip() for x in delegates['sign?']]\n",
    "delegates['first name'] = [x.strip() for x in delegates['first name']]\n",
    "delegates['last name'] = [x.strip() for x in delegates['last name']]\n",
    "\n",
    "#might want to separate names with parentheses into last name 1/2\n",
    "sumaltfirst = sum([\"(\" in x for x in delegates['first name']])\n",
    "print(\"number of alt first names:\", sumaltfirst)\n",
    "\n",
    "sumaltlast = sum([\"(\" in x for x in delegates['last name']])\n",
    "print(\"number of alt last names:\", sumaltlast)\n",
    "\n",
    "#handle special case\n",
    "delegates.loc[40, 'last name 2'] = 'Fitzsimons (Fitzsimmons)'\n",
    "\n",
    "#construct full names for delegate files\n",
    "delegates['last name 2'] = [np.nan if \"(\" not in x else  x[x.find(\"(\")+1:].replace(\")\",\"\")  for x in delegates['last name']]\n",
    "delegates['last name'] = delegates['last name'].apply(lambda x: re.sub(r'\\([^)]*\\)', '', x).strip())\n",
    "delegates['full name 1'] = delegates['first name'] + \" \" + delegates['last name']\n",
    "delegates['full name 2'] = delegates['first name'] + \" \" + delegates['last name 2']"
   ]
  },
  {
   "cell_type": "code",
   "execution_count": 10,
   "metadata": {},
   "outputs": [],
   "source": [
    "#cleaning strings for state convention delegates\n",
    "missing_ind = state_delegates[state_delegates['First Name'].apply(lambda x: type(x) != str)].index\n",
    "state_delegates.loc[missing_ind, 'First Name'] = ['William', 'Ebenezer']\n",
    "\n",
    "state_delegates['full name 1'] = state_delegates['First Name'] + \" \" + state_delegates['Last Name']\n",
    "\n",
    "delegates.to_csv('Data/Delegates/cleaned/constitutional_convention_delegates_cleaned.csv')\n",
    "state_delegates.to_csv('Data/Delegates/cleaned/State_Delegates_cleaned.csv')"
   ]
  }
 ],
 "metadata": {
  "kernelspec": {
   "display_name": "Python 3",
   "language": "python",
   "name": "python3"
  },
  "language_info": {
   "codemirror_mode": {
    "name": "ipython",
    "version": 3
   },
   "file_extension": ".py",
   "mimetype": "text/x-python",
   "name": "python",
   "nbconvert_exporter": "python",
   "pygments_lexer": "ipython3",
   "version": "3.7.4"
  }
 },
 "nbformat": 4,
 "nbformat_minor": 5
}
