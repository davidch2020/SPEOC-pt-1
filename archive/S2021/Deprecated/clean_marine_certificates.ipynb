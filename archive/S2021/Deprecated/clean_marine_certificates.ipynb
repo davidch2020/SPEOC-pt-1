{
 "cells": [
  {
   "cell_type": "markdown",
   "metadata": {},
   "source": [
    "# CLEAN MARINE CERTIFICATES"
   ]
  },
  {
   "cell_type": "code",
   "execution_count": 1,
   "metadata": {},
   "outputs": [],
   "source": [
    "import numpy as np\n",
    "import pandas as pd\n",
    "import fuzzywuzzy\n",
    "from fuzzywuzzy import fuzz\n",
    "from fuzzywuzzy import process"
   ]
  },
  {
   "cell_type": "code",
   "execution_count": 42,
   "metadata": {},
   "outputs": [],
   "source": [
    "marine = pd.read_excel(\"Data/Pre1790/Marine_Liquidated_Debt_Certificates.xlsx\", header = 11)\n",
    "cols = marine.columns = [\"Page\",\"JPEG number\",\"Number\",\"Letter\",\"Date of the Certificate: Month\",\n",
    "                         \"Date of the Certificate: Day\",\"Date of the Certificate: Year\",\"First name\",\"Last name\",\n",
    "                         \"Title\",\"Time when the debt became due: Month\",\"Time when the debt became due: Day\",\n",
    "                         \"Time when the debt became due: Year\",\"Dollars\",\"90th\",\"Total Dollars_1\",\"Total Dollars_2\",\n",
    "                         \"Line Strike Thorugh: Yes?\",\"Line Strike Thorugh: Note\",\"Notes\"]\n",
    "marine.columns = cols"
   ]
  },
  {
   "cell_type": "code",
   "execution_count": 43,
   "metadata": {},
   "outputs": [],
   "source": [
    "marine['original text'] = np.nan\n",
    "marine['cleaning notes'] = np.nan\n",
    "marine['first name 2'] = np.nan\n",
    "marine['last name 2'] = np.nan"
   ]
  },
  {
   "cell_type": "code",
   "execution_count": 44,
   "metadata": {},
   "outputs": [],
   "source": [
    "repl_index = marine[marine['First name'].apply(lambda x: not pd.isnull(x) and 'dee' in x.lower())].index\n",
    "marine.loc[repl_index, ['First name', 'Last name', 'cleaning notes', 'original text']] = ['John', 'Young', 'estate, deceased', \n",
    "                                                                                          'The Estate of John Young dee The Estate of John Young Deceased']"
   ]
  },
  {
   "cell_type": "code",
   "execution_count": 45,
   "metadata": {},
   "outputs": [],
   "source": [
    "repl_index = marine[marine['First name'].apply(lambda x: not pd.isnull(x) and 'deceased' in x.lower())].index\n",
    "marine.loc[repl_index, ['cleaning notes']] = ['estate, deceased']\n",
    "marine.loc[repl_index, ['original text']] = marine['First name']\n",
    "marine.loc[repl_index, ['First name']] = marine.loc[repl_index, 'First name'].apply(lambda x: x.lower().replace(\"estate of\", \"\").replace(\"deceased\", \"\").strip())\n",
    "\n",
    "marine.loc[repl_index, ['Last name']] = marine.loc[repl_index, 'First name'].apply(lambda x: x.split(\" \")[1])\n",
    "marine.loc[repl_index, ['First name']] = marine.loc[repl_index, 'First name'].apply(lambda x: x.split(\" \")[0])"
   ]
  },
  {
   "cell_type": "code",
   "execution_count": 46,
   "metadata": {},
   "outputs": [],
   "source": [
    "repl_index = marine[marine['First name'].apply(lambda x: not pd.isnull(x) and 'estate' in x.lower())].index\n",
    "marine.loc[repl_index, ['cleaning notes']] = ['estate']\n",
    "marine.loc[repl_index, ['original text']] = marine['First name']\n",
    "marine.loc[repl_index, ['First name']] = marine.loc[repl_index, 'First name'].apply(lambda x: x.lower().replace(\"estate\", \"\").replace(\"the\", \"\").replace(\"of\",\"\").strip())\n",
    "marine.loc[repl_index, ['Last name']] = marine.loc[repl_index, 'First name'].apply(lambda x: x.split(\" \")[-1])\n",
    "marine.loc[repl_index, ['First name']] = marine.loc[repl_index, 'First name'].apply(lambda x: \" \".join(x.split(\" \")[:-1]))"
   ]
  },
  {
   "cell_type": "code",
   "execution_count": 48,
   "metadata": {},
   "outputs": [],
   "source": [
    "repl_index = marine[marine['First name'].apply(lambda x: x == 'Moses Bush & Sons')].index\n",
    "marine.loc[repl_index, ['First name', 'Last name', 'cleaning notes', 'original text']] = ['Moses', 'Bush', 'sons', 'Moses Bush & Sons']\n",
    "repl_index = marine[marine['First name'].apply(lambda x: x == 'J Mc Nesbitt & Co')].index\n",
    "marine.loc[repl_index, ['First name', 'Last name', 'cleaning notes', 'original text']] = ['J Mc', 'Nesbitt', 'Co', 'J Mc Nesbitt & Co']"
   ]
  },
  {
   "cell_type": "code",
   "execution_count": 49,
   "metadata": {},
   "outputs": [],
   "source": [
    "repl_index = marine[marine['First name'].apply(lambda x: x == 'Hoov and Harrison')].index\n",
    "marine.loc[repl_index, ['First name', 'Last name', 'last name 2', 'original text']] = [np.nan, 'Hoov', 'Harrison', 'Hoov and Harrison']"
   ]
  },
  {
   "cell_type": "code",
   "execution_count": 57,
   "metadata": {},
   "outputs": [],
   "source": [
    "repl_index = marine[marine['Last name'].apply(lambda x: not pd.isnull(x) and 'deceased' in x.lower())].index\n",
    "marine.loc[repl_index, 'cleaning notes'] = 'deceased'\n",
    "marine.loc[repl_index, ['Last name']] = marine.loc[repl_index, 'Last name'].apply(lambda x: x.lower().replace(\"Deceased\", \"\").strip())"
   ]
  },
  {
   "cell_type": "code",
   "execution_count": 60,
   "metadata": {},
   "outputs": [],
   "source": [
    "repl_index = marine[marine['Last name'].apply(lambda x: not pd.isnull(x) and 'Weaver deed' == x)].index\n",
    "marine.loc[repl_index, 'cleaning notes'] = 'deed'\n",
    "marine.loc[repl_index, ['Last name']] = ['Weaver']"
   ]
  },
  {
   "cell_type": "code",
   "execution_count": 63,
   "metadata": {},
   "outputs": [],
   "source": [
    "marine.to_csv('Data/Pre1790/cleaned/Marine_Liquidated_Debt_Certificates_cleaned.csv')"
   ]
  }
 ],
 "metadata": {
  "kernelspec": {
   "display_name": "Python 3",
   "language": "python",
   "name": "python3"
  },
  "language_info": {
   "codemirror_mode": {
    "name": "ipython",
    "version": 3
   },
   "file_extension": ".py",
   "mimetype": "text/x-python",
   "name": "python",
   "nbconvert_exporter": "python",
   "pygments_lexer": "ipython3",
   "version": "3.7.4"
  }
 },
 "nbformat": 4,
 "nbformat_minor": 4
}
