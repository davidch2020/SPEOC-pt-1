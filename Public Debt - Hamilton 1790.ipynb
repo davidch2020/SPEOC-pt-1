{
 "cells": [
  {
   "cell_type": "code",
   "execution_count": 31,
   "id": "4d7940bd",
   "metadata": {
    "scrolled": false
   },
   "outputs": [],
   "source": [
    "import pandas as pd\n",
    "\n",
    "file_path = 'data_clean/final_data_CD.csv'\n",
    "data = pd.read_csv(file_path)"
   ]
  },
  {
   "cell_type": "code",
   "execution_count": 32,
   "id": "0de7523d",
   "metadata": {},
   "outputs": [],
   "source": [
    "# function to classify debt holders + officials\n",
    "def classify_debt_holder(row):\n",
    "    name = str(row['Full Search Name']).lower()\n",
    "    public_official_keywords = ['treasurer', 'public official', 'government', 'secretary', 'comptroller']\n",
    "\n",
    "    if any(keyword in name for keyword in public_official_keywords):\n",
    "        return 'public', row['Full Search Name']\n",
    "    else:\n",
    "        return 'private', None\n",
    "    \n",
    "data['debt_holder_type'], data['official'] = zip(*data.apply(classify_debt_holder, axis=1)) # apply function to dataset"
   ]
  },
  {
   "cell_type": "code",
   "execution_count": 33,
   "id": "84c0c08c",
   "metadata": {},
   "outputs": [],
   "source": [
    "# combine debt\n",
    "debt_by_state = data.groupby(['Group State', 'debt_holder_type'])['final_total'].sum().unstack(fill_value=0)\n",
    "\n",
    "# make sure public and private are columns\n",
    "debt_by_state = debt_by_state.reindex(columns=['public', 'private'], fill_value=0)\n",
    "\n",
    "debt_by_state.reset_index(inplace=True)"
   ]
  },
  {
   "cell_type": "code",
   "execution_count": 36,
   "id": "54b1e6f0",
   "metadata": {},
   "outputs": [],
   "source": [
    "# rename columns so its easier to read\n",
    "debt_by_state.columns = ['State', 'Public Debt', 'Private Debt']\n",
    "debt_by_state['Public Debt'] = 0 # set public debt to zero because we don't have data for that\n",
    "\n",
    "# make private debt readable\n",
    "debt_by_state['Private Debt'] = debt_by_state['Private Debt'].apply(lambda x: f\"{x:,.2f}\")"
   ]
  },
  {
   "cell_type": "code",
   "execution_count": 37,
   "id": "60be3884",
   "metadata": {},
   "outputs": [
    {
     "name": "stdout",
     "output_type": "stream",
     "text": [
      "       Public Debt  Private Debt\n",
      "State                           \n",
      "CT               0  1,516,750.76\n",
      "DE               0     16,903.78\n",
      "GA               0     18,446.75\n",
      "MA               0    163,989.20\n",
      "MD               0  1,555,678.22\n",
      "NC               0     53,942.82\n",
      "NH               0    265,757.19\n",
      "NJ               0     43,738.58\n",
      "NY               0  1,866,244.90\n",
      "PA               0  3,378,843.37\n",
      "RI               0    844,056.80\n",
      "SC               0  1,498,912.85\n",
      "VA               0     32,357.20\n",
      "VT               0      5,994.95\n"
     ]
    }
   ],
   "source": [
    "state_names = {\n",
    "    'CT': 'Connecticut', 'DE': 'Delaware', 'GA': 'Georgia', 'MA': 'Massachusetts', 'MD': 'Maryland',\n",
    "    'NC': 'North Carolina', 'NH': 'New Hampshire', 'NJ': 'New Jersey', 'NY': 'New York', 'PA': 'Pennsylvania',\n",
    "    'RI': 'Rhode Island', 'SC': 'South Carolina', 'VA': 'Virginia', 'VT': 'Vermont'\n",
    "}\n",
    "\n",
    "# print final table w state column as a row\n",
    "debt_by_state.set_index('State', inplace=True)\n",
    "print(debt_by_state)"
   ]
  }
 ],
 "metadata": {
  "kernelspec": {
   "display_name": "Python 3 (ipykernel)",
   "language": "python",
   "name": "python3"
  },
  "language_info": {
   "codemirror_mode": {
    "name": "ipython",
    "version": 3
   },
   "file_extension": ".py",
   "mimetype": "text/x-python",
   "name": "python",
   "nbconvert_exporter": "python",
   "pygments_lexer": "ipython3",
   "version": "3.11.7"
  }
 },
 "nbformat": 4,
 "nbformat_minor": 5
}
