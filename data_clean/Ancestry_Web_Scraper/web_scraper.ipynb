{
 "cells": [
  {
   "cell_type": "code",
   "execution_count": null,
   "id": "e514acef",
   "metadata": {},
   "outputs": [],
   "source": [
    "from selenium import webdriver\n",
    "from selenium.webdriver.chrome.options import Options\n",
    "from selenium.webdriver.common.by import By\n",
    "from selenium.common.exceptions import NoSuchElementException, ElementNotInteractableException, TimeoutException\n",
    "from selenium.webdriver.support.wait import WebDriverWait\n",
    "from selenium.webdriver.support.expected_conditions import element_to_be_clickable, presence_of_element_located\n",
    "from selenium.webdriver.chrome.service import Service\n",
    "from webdriver_manager.chrome import ChromeDriverManager\n",
    "import csv \n",
    "import pandas as pd\n",
    "import time\n",
    "import math"
   ]
  },
  {
   "cell_type": "code",
   "execution_count": null,
   "id": "5a684644",
   "metadata": {},
   "outputs": [],
   "source": [
    "# options\n",
    "options = Options()\n",
    "options.add_argument('--headless')\n",
    "options.add_argument(\"--window-size=1000,1000\")\n",
    "options.add_argument('--disable-blink-features=AutomationControlled')\n",
    "options.add_argument('--no-sandbox')   "
   ]
  },
  {
   "cell_type": "markdown",
   "id": "d8c34c36",
   "metadata": {},
   "source": [
    "# Populations of Towns"
   ]
  },
  {
   "cell_type": "markdown",
   "id": "57b8c9ad",
   "metadata": {},
   "source": [
    "<font size=\"4\"> The goal is to find the total population of every town in *final_data_CD.csv.* </font> <br>\n",
    "* **Input**\n",
    "    * ```final_data_CD.csv``` <br>\n",
    "       - This contains the continental debt held by individuals. For this particular project, we only care about the towns that these individuals are from. </a><br>\n",
    "* **Output**\n",
    "    * ```town_pops_clean.csv``` <br>\n",
    "       - This file will contain the populations of every town. "
   ]
  },
  {
   "cell_type": "code",
   "execution_count": null,
   "id": "93ff1421",
   "metadata": {},
   "outputs": [],
   "source": [
    "cd_df = pd.read_csv(\"../final_data_CD.csv\")\n",
    "towns = cd_df[['Group State', 'Group County', 'Group Town']].drop_duplicates().dropna().reset_index()\n",
    "towns.drop(columns={\"index\"}, inplace=True) \n",
    "print(towns)"
   ]
  },
  {
   "cell_type": "code",
   "execution_count": null,
   "id": "f1a4bea7",
   "metadata": {},
   "outputs": [],
   "source": [
    "# drop states where census data ancestry does not have records for: VA, GA, NJ, DE\n",
    "towns_c = towns.copy()\n",
    "towns = towns.drop(towns[towns['Group State'].isin(['VA', 'GA', 'NJ', 'DE'])].index)\n",
    "towns_d = towns_c[~towns_c.index.isin(towns.index)]\n",
    "print(towns_d)"
   ]
  },
  {
   "cell_type": "code",
   "execution_count": null,
   "id": "d6637f95",
   "metadata": {},
   "outputs": [],
   "source": [
    "# dictionary of state codes to actual state names (avoids potential errors)\n",
    "codes = {\n",
    "    'CT':'Connecticut',\n",
    "    'ME':'Maine',\n",
    "    'MD':'Maryland',\n",
    "    'MA':'Massachusetts',\n",
    "    'NH':'New Hampshire',\n",
    "    'NY':'New York',\n",
    "    'NC':'North Carolina',\n",
    "    'PA':'Pennsylvania',\n",
    "    'RI':'Rhode Island',\n",
    "    'SC':'South Carolina',\n",
    "    'VT':'Vermont',\n",
    "    'VA':'Virginia',\n",
    "    'GA':'Georgia',\n",
    "    'NJ':'New Jersey',\n",
    "    'DE':'Deleware'\n",
    "}"
   ]
  },
  {
   "cell_type": "code",
   "execution_count": null,
   "id": "85ecde78",
   "metadata": {},
   "outputs": [],
   "source": [
    "# handle naming exceptions\n",
    "exceptions = {\n",
    "    'Philadelphia County':'Philadelphia',\n",
    "    'Charleston County':'Charleston',\n",
    "    'New Haven County':'New Haven'\n",
    "}"
   ]
  },
  {
   "cell_type": "markdown",
   "id": "2132df4a",
   "metadata": {},
   "source": [
    "## Accessing Ancestry"
   ]
  },
  {
   "cell_type": "markdown",
   "id": "2c145049",
   "metadata": {},
   "source": [
    "1. Access the 1790 census on Ancestry.com using the Selenium library. \n",
    "2. Handle county names. Some county names have '[county name] County County'.\n",
    "3. Access searchbar using Selenium. Selenium inputs [town, county, state, USA] into searchbar. \n",
    "4. Selenium clicks on the \"Search\" button and waits for 0.75 seconds. \n",
    "5. Once new webpage is loaded, ```&event_x=0-0-0_1-0```, is added to the current url. This restricts the search only to the town and excludes surrounding counties/towns. \n",
    "6. Selenium finds the total number of results, which corresponds to the population of the town. This population is added to the ```town_pops``` dictionary. If there are no results for that town, 'NR' is added to the dictionary instead. \n",
    "7. Steps 1-6 are repeated for every town. \n",
    "\n",
    "<span style=\"color: red;\">**Note: Runtime will be long. There were approximately ~400 unique towns.**</span>"
   ]
  },
  {
   "cell_type": "code",
   "execution_count": null,
   "id": "14f47b0f",
   "metadata": {},
   "outputs": [],
   "source": [
    "def ancestry(error_handling, towns_l):\n",
    "    town_pops = {} # dictionary of all the populations of each town \n",
    "    driver = webdriver.Chrome(service=Service(ChromeDriverManager().install()), options=options)\n",
    "    wait = WebDriverWait(driver, 30)\n",
    "    census_url = \"https://www.ancestry.com/search/collections/5058/\"\n",
    "    for town in towns_l:\n",
    "        # handle '[name] county county'\n",
    "\n",
    "        if not error_handling:\n",
    "            county = town[2][:-7].replace(' County', '')\n",
    "            loc_add = town[3] + \", \" + county + \", \" + codes[town[1]] + \", USA \"\n",
    "        else:\n",
    "            county = town[2]\n",
    "            loc_add = town[3] + \", \" + county + \", \" + town[1] + \", USA \"\n",
    "\n",
    "        try:\n",
    "            # open 1790 census \n",
    "            try:\n",
    "                driver.get(census_url)\n",
    "            except:\n",
    "                driver.close()\n",
    "                driver.get(census_url)   \n",
    "\n",
    "            # handle some exceptions to county names \n",
    "            if county in exceptions:\n",
    "                county = exceptions[county]\n",
    "\n",
    "            print(\"-------------------------\")\n",
    "            print(loc_add) ## \n",
    "\n",
    "            # wait until event searchbar is visible, then click on it: handles error i noticed\n",
    "            xpath = \"/html/body/div[3]/div/div/div/div/section/div/div/div/div/div/form/div[1]/div/fieldset[2]/div[2]/div/input\"\n",
    "            try:\n",
    "                wait.until(element_to_be_clickable((By.XPATH, xpath))).click()\n",
    "            except: # mostly to handle timeout exceptions: close tab and try again\n",
    "                driver.close()\n",
    "                driver.get(census_url)\n",
    "                time.sleep(0.25)\n",
    "                wait.until(element_to_be_clickable((By.XPATH, xpath))).click()\n",
    "\n",
    "            input_t = driver.find_element(By.XPATH, xpath)\n",
    "            input_t.send_keys(loc_add)\n",
    "            time.sleep(0.75)\n",
    "\n",
    "            # click on search button \n",
    "            wait.until(element_to_be_clickable((By.XPATH, \"/html/body/div[3]/div/div/div/div/section/div/div/div/div/div/form/div[1]/div/div[9]/div[1]/input\"))).click()\n",
    "            time.sleep(0.75)\n",
    "\n",
    "            # add restrictions: we want exact town population\n",
    "            print(driver.current_url) ##\n",
    "            driver.get(driver.current_url + \"&event_x=0-0-0_1-0\")\n",
    "\n",
    "            # check if town is correct: handles error i noticed\n",
    "            title_pl = wait.until(presence_of_element_located((By.XPATH, \"//*[@id='refineView']/form/div[3]/div/div[1]/div\"))).get_attribute(\"title\")\n",
    "            if (title_pl + \" \" == loc_add):\n",
    "                # add to town_pops \n",
    "                try:\n",
    "                    pop = driver.find_element(By.CLASS_NAME, \"resultsLabel\")\n",
    "                    town_pops[loc_add] = int(pop.text.split(\"of\")[1].replace(',','')) \n",
    "                except NoSuchElementException:\n",
    "                    town_pops[loc_add] = \"NR\"\n",
    "            else:\n",
    "\n",
    "                print(\"Titles don't match\")\n",
    "                print(\"title on page = \" + title_pl)\n",
    "                town_pops[loc_add] = \"NR\"\n",
    "\n",
    "            print(town_pops[loc_add]) ##\n",
    "            print(len(town_pops)) ##\n",
    "            print(driver.current_url) ##\n",
    "            print(\"-------------------------\")\n",
    "            #driver.close() # close current tab \n",
    "            #driver = webdriver.Chrome(service=Service(ChromeDriverManager().install()), options=options) # restart chrome \n",
    "            #wait = WebDriverWait(driver, 30)\n",
    "        except Exception as e:\n",
    "            print(\"___________________________________\")\n",
    "            print(\"ERROR! Moving swiftly to next town\")\n",
    "            print(e)\n",
    "            print(\"___________________________________\")\n",
    "            town_pops[loc_add] = 'ER'\n",
    "            driver = webdriver.Chrome(service=Service(ChromeDriverManager().install()), options=options) # restart chrome \n",
    "            wait = WebDriverWait(driver, 30)\n",
    "            continue\n",
    "    \n",
    "    return town_pops"
   ]
  },
  {
   "cell_type": "code",
   "execution_count": null,
   "id": "8e0189ca",
   "metadata": {},
   "outputs": [],
   "source": [
    "town_pops = ancestry(False, towns.values.tolist())"
   ]
  },
  {
   "cell_type": "code",
   "execution_count": null,
   "id": "07805f38",
   "metadata": {},
   "outputs": [],
   "source": [
    "# save town_pops dictionary as a csv file \n",
    "df = pd.DataFrame.from_dict(town_pops, orient=\"index\")\n",
    "df.to_csv(\"town_pops.csv\")\n",
    "df = pd.read_csv(\"town_pops.csv\", index_col=0)\n",
    "print(df)\n",
    "# printing result"
   ]
  },
  {
   "cell_type": "markdown",
   "id": "87f5f77a",
   "metadata": {},
   "source": [
    "## Fix Formatting"
   ]
  },
  {
   "cell_type": "markdown",
   "id": "e84de537",
   "metadata": {},
   "source": [
    "Why? As of right now, there are only two columns. The first column has the location, which includes the town, county, state, and country all in one cell. This is not easy to read. Therefore, town, county, state, and country must become their own columns. The next column has the population. There are no column titles either. The code below fixes these issues. "
   ]
  },
  {
   "cell_type": "code",
   "execution_count": null,
   "id": "321c7009",
   "metadata": {},
   "outputs": [],
   "source": [
    "# read csv \n",
    "towns_df = pd.read_csv(\"town_pops.csv\")\n",
    "\n",
    "# split location name into multiple columns \n",
    "towns_df = towns_df.assign(**towns_df['Unnamed: 0'].str.split(', ', expand=True).add_prefix('Info_'))\n",
    "\n",
    "# rename columns\n",
    "towns_df.rename(columns={'0':'population', 'Info_0':'city', 'Info_1':'county', \n",
    "                         'Info_2':'state', 'Info_3':'country'}, inplace=True)\n",
    "\n",
    "# remove last three columns and original location column\n",
    "towns_df.drop(columns={\"Unnamed: 0\"}, inplace=True)\n",
    "\n",
    "# reorder columns\n",
    "towns_df = towns_df[['city', 'county', 'state', 'country', 'population']]\n",
    "print(towns_df)\n",
    "\n",
    "towns_df.to_csv(\"town_pops_clean.csv\")"
   ]
  },
  {
   "cell_type": "markdown",
   "id": "c5dff150",
   "metadata": {},
   "source": [
    "## Handle Mistakes"
   ]
  },
  {
   "cell_type": "markdown",
   "id": "2f46fb7d",
   "metadata": {},
   "source": [
    "Why? The code isn't perfect. If Selenium crashed, the program marked that town as 'ER' in ```town_pops``` and moved onto the next town. It's time to go back and fix these. Also, there are individual discrepancies that must be taken care of. The code below essentially finds the rows in ```town_pops_clean.csv``` that have either 'ER' or are in the ```er_indexes``` list, which contains individual town indexes. "
   ]
  },
  {
   "cell_type": "code",
   "execution_count": null,
   "id": "62f41337",
   "metadata": {},
   "outputs": [],
   "source": [
    "# handle individual cases (pass in their indexes)\n",
    "er_indexes = [901, 926, 992, 1065, 1142]"
   ]
  },
  {
   "cell_type": "code",
   "execution_count": null,
   "id": "dccaec3a",
   "metadata": {},
   "outputs": [],
   "source": [
    "# find the populations of towns when webdriver crashed\n",
    "csv_town = pd.read_csv(\"town_pops_clean.csv\")\n",
    "csv_town = csv_town[[\"Unnamed: 0\", \"state\", \"county\", \"city\", \"country\", \"population\"]]\n",
    "\n",
    "# handle errors (rows with 'ER')\n",
    "errors = csv_town.loc[csv_town['population'].isin([\"ER\"])].drop(columns={'population', 'country'}).values.tolist()\n",
    "\n",
    "# handle individual discrepancies \n",
    "indiv_disc = csv_town.loc[csv_town.index.isin(er_indexes)].drop(columns={'population', 'country'}).values.tolist()\n",
    "\n",
    "er_towns = errors + indiv_disc\n",
    "print(er_towns)"
   ]
  },
  {
   "cell_type": "markdown",
   "id": "d7ebdc50",
   "metadata": {},
   "source": [
    "## Rerunning the Program"
   ]
  },
  {
   "cell_type": "markdown",
   "id": "6b2ce1b4",
   "metadata": {},
   "source": [
    "At this point, the ```ancestry``` function is ran again: ```error_handling``` is set to ```True``` and ```towns_l``` is now set to ```er_towns```. Once that's done, the towns are replaced with their new populations. "
   ]
  },
  {
   "cell_type": "code",
   "execution_count": null,
   "id": "e37cece8",
   "metadata": {
    "scrolled": true
   },
   "outputs": [],
   "source": [
    "town_pops = ancestry(True, er_towns)"
   ]
  },
  {
   "cell_type": "code",
   "execution_count": null,
   "id": "42bf8d43",
   "metadata": {},
   "outputs": [],
   "source": [
    "towns_d.replace({\"Group State\": codes}, inplace=True)\n",
    "towns_d.rename(columns={\"Group State\":\"state\", \"Group County\":\"county\", \"Group Town\":\"city\"}, inplace=True)\n",
    "towns_d[\"country\"] = \"USA\"\n",
    "towns_d[\"population\"] = \"NR\"\n",
    "towns_d = towns_d[[\"city\", \"county\", \"state\", \"country\", \"population\"]]\n",
    "print(towns_d)"
   ]
  },
  {
   "cell_type": "code",
   "execution_count": null,
   "id": "abe28e63",
   "metadata": {},
   "outputs": [],
   "source": [
    "# after rerunning program\n",
    "print(town_pops) # should print out the new populations for each wrong town \n",
    "town_copy = pd.read_csv(\"town_pops_clean.csv\")\n",
    "town_copy[\"location\"] = town_copy[\"city\"] + \", \" + town_copy[\"county\"] + \", \" + town_copy[\"state\"] + \", \" + town_copy[\"country\"]\n",
    "print(town_copy[[\"population\", \"location\"]]) \n",
    "\n",
    "for town in town_pops.keys():\n",
    "    town_copy.loc[town_copy[\"location\"] == town, \"population\"] = town_pops[town]\n",
    "town_copy.drop(columns={\"Unnamed: 0\", \"location\"}, inplace=True)\n",
    "\n",
    "# town_copy = pd.concat([town_copy, towns_d]).reset_index()\n",
    "\n",
    "print(town_copy) \n",
    "\n",
    "town_copy.to_csv(\"town_pops_clean_2.csv\")"
   ]
  },
  {
   "cell_type": "code",
   "execution_count": null,
   "id": "3bf229c9",
   "metadata": {},
   "outputs": [],
   "source": [
    "# find the frequencies of \"no records\"\n",
    "town_pop_csv = pd.read_csv(\"town_pops_clean.csv\")\n",
    "res = sum(x == 'NR' for x in town_pop_csv[\"population\"].values.tolist())\n",
    "print(\"Frequency of NR is : \" + str(res))"
   ]
  },
  {
   "cell_type": "markdown",
   "id": "d81a63d5",
   "metadata": {},
   "source": [
    "# Part II"
   ]
  },
  {
   "cell_type": "markdown",
   "id": "2288e2a5",
   "metadata": {},
   "source": [
    "Get all towns from Ancestry. Run the same program, again. This will prevent us from having to rerun the program again when Assumed State Debt is added. Once the ```ancestry``` method finishes, run all code from **Fix Formatting** through **Rerunning program**."
   ]
  },
  {
   "cell_type": "code",
   "execution_count": null,
   "id": "0abaa8d0",
   "metadata": {},
   "outputs": [],
   "source": [
    "from selenium.webdriver.support.ui import Select\n",
    "from selenium.common.exceptions import StaleElementReferenceException"
   ]
  },
  {
   "cell_type": "code",
   "execution_count": null,
   "id": "b4883f89",
   "metadata": {},
   "outputs": [],
   "source": [
    "driver = webdriver.Chrome(service=Service(ChromeDriverManager().install()), options=options)\n",
    "wait = WebDriverWait(driver, 30)\n",
    "census_url = \"https://www.ancestry.com/search/collections/5058/\"\n",
    "driver.get(census_url)"
   ]
  },
  {
   "cell_type": "code",
   "execution_count": null,
   "id": "3ac9c4fc",
   "metadata": {},
   "outputs": [],
   "source": [
    "list_obj = driver.find_element(By.XPATH, \"//*[@id='browseOptions0']\")\n",
    "select_obj = Select(list_obj)\n",
    "state_op = select_obj.options\n",
    "del state_op[0] # remove \"Choose...\"\n",
    "states_c = {} # we'll add the counties that are in each state, here \n",
    "for state in state_op:\n",
    "    states_c[state.text] = {}\n",
    "print(states_c)"
   ]
  },
  {
   "cell_type": "code",
   "execution_count": null,
   "id": "45c69537",
   "metadata": {},
   "outputs": [],
   "source": [
    "# go through each state (X)\n",
    "# use selenium to find all the options for counties (X)\n",
    "# store counties in the 'counties' dictionary (X) \n",
    "\n",
    "for state in states_c.keys():\n",
    "    try:\n",
    "        select_obj.select_by_visible_text(state)    \n",
    "    except:\n",
    "        list_obj = driver.find_element(By.XPATH, \"//*[@id='browseOptions0']\")\n",
    "        select_obj = Select(list_obj)\n",
    "        select_obj.select_by_visible_text(state)    \n",
    "            \n",
    "    time.sleep(0.25)\n",
    "    county_ele = wait.until(presence_of_element_located((By.XPATH, \"//*[@id='browseOptions1']\")))\n",
    "    county_obj = Select(county_ele)\n",
    "    county_op = county_obj.options\n",
    "    \n",
    "    for county in county_op:\n",
    "        if county.text == \"Choose...\":\n",
    "            continue\n",
    "        else:\n",
    "            states_c[state][county.text] = []\n",
    "    \n",
    "print(states_c)"
   ]
  },
  {
   "cell_type": "code",
   "execution_count": null,
   "id": "6bda6427",
   "metadata": {
    "scrolled": true
   },
   "outputs": [],
   "source": [
    "# go through each county in each state (x)\n",
    "# use selenium find towns in each county \n",
    "# add to dictionary \n",
    "# https://github.com/SeleniumHQ/selenium/issues/7186 \n",
    "\n",
    "for state in states_c.keys():\n",
    "        state_ele = wait.until(presence_of_element_located((By.XPATH, \"//*[@id='browseOptions0']\")))\n",
    "        select_obj = Select(state_ele)\n",
    "        select_obj.select_by_visible_text(state)  \n",
    "        time.sleep(0.25)\n",
    "        \n",
    "        for county in states_c[state].keys():\n",
    "            while True:\n",
    "                maxIterations = 10\n",
    "                try:\n",
    "                    county_ele = wait.until(presence_of_element_located((By.XPATH, \"//*[@id='browseOptions1']\")))\n",
    "                    select = Select(county_ele)\n",
    "                    select.select_by_visible_text(county)\n",
    "                    break\n",
    "                except (StaleElementReferenceException, NoSuchElementException) as error:\n",
    "                    maxIterations -= 1\n",
    "                    if maxIterations == 0:\n",
    "                        throw\n",
    "                \n",
    "            # get list of towns \n",
    "            time.sleep(1)\n",
    "            town_ele = wait.until(presence_of_element_located((By.XPATH, \"//*[@id='browselevel2']\")))\n",
    "            town_ele_t = town_ele.text\n",
    "            print(state + \", \" + county)\n",
    "            print(\"______________\")\n",
    "            \n",
    "            if town_ele_t is None:\n",
    "                print(\"town_ele is None\\n\")\n",
    "                time.sleep(1)\n",
    "                town_ele = wait.until(presence_of_element_located((By.XPATH, \"//*[@id='browselevel2']\")))\n",
    "            \n",
    "            town_l = town_ele_t.split(\"\\n\")\n",
    "            \n",
    "            for town in town_l:\n",
    "                town_x = town.strip()\n",
    "                \n",
    "                if town_x != \"Not Stated\":\n",
    "                    states_c[state][county].append(town_x)\n",
    "                    \n",
    "            print(len(states_c[state][county]))\n",
    "            print(\"\\n\")\n",
    "\n",
    "print(states_c)"
   ]
  },
  {
   "cell_type": "code",
   "execution_count": null,
   "id": "78b5db46",
   "metadata": {},
   "outputs": [],
   "source": [
    "# create list of towns\n",
    "# go through entire dictionary \n",
    "# append each town into the list \n",
    "\n",
    "towns_an = []\n",
    "\n",
    "for state in states_c.keys():\n",
    "    for county in states_c[state].keys():\n",
    "        for town in states_c[state][county]:\n",
    "            towns_an.append([0, state, county, town])\n",
    "            \n",
    "print(towns_an)"
   ]
  },
  {
   "cell_type": "code",
   "execution_count": null,
   "id": "3e0885f3",
   "metadata": {},
   "outputs": [],
   "source": [
    "town_pops = ancestry(error_handling=True, towns_l=towns_an) # running program again"
   ]
  },
  {
   "cell_type": "code",
   "execution_count": null,
   "id": "ff11fe0f",
   "metadata": {},
   "outputs": [],
   "source": [
    "print(town_pops)"
   ]
  },
  {
   "cell_type": "code",
   "execution_count": null,
   "id": "cfdf4874",
   "metadata": {},
   "outputs": [],
   "source": [
    "# save town_pops dictionary as a csv file \n",
    "df = pd.DataFrame.from_dict(town_pops, orient=\"index\")\n",
    "df.to_csv(\"town_pops_2.csv\")\n",
    "df = pd.read_csv(\"town_pops_2.csv\", index_col=0)\n",
    "print(df)\n",
    "# printing result"
   ]
  }
 ],
 "metadata": {
  "kernelspec": {
   "display_name": "Python 3 (ipykernel)",
   "language": "python",
   "name": "python3"
  },
  "language_info": {
   "codemirror_mode": {
    "name": "ipython",
    "version": 3
   },
   "file_extension": ".py",
   "mimetype": "text/x-python",
   "name": "python",
   "nbconvert_exporter": "python",
   "pygments_lexer": "ipython3",
   "version": "3.11.3"
  }
 },
 "nbformat": 4,
 "nbformat_minor": 5
}
