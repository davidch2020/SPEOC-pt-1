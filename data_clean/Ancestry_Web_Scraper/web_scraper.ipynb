{
 "cells": [
  {
   "cell_type": "code",
   "execution_count": 1,
   "id": "e514acef",
   "metadata": {},
   "outputs": [],
   "source": [
    "from selenium import webdriver\n",
    "from selenium.webdriver.chrome.options import Options\n",
    "from selenium.webdriver.common.by import By\n",
    "from selenium.common.exceptions import NoSuchElementException, ElementNotInteractableException, TimeoutException\n",
    "from selenium.webdriver.support.wait import WebDriverWait\n",
    "from selenium.webdriver.support.expected_conditions import element_to_be_clickable, presence_of_element_located\n",
    "from selenium.webdriver.chrome.service import Service\n",
    "from webdriver_manager.chrome import ChromeDriverManager\n",
    "import csv \n",
    "import pandas as pd\n",
    "import time\n",
    "import math"
   ]
  },
  {
   "cell_type": "code",
   "execution_count": 2,
   "id": "5a684644",
   "metadata": {},
   "outputs": [],
   "source": [
    "# options\n",
    "options = Options()\n",
    "options.add_argument('--headless')\n",
    "options.add_argument(\"--window-size=1000,1000\")\n",
    "options.add_argument('--disable-blink-features=AutomationControlled')\n",
    "options.add_argument('--no-sandbox')   "
   ]
  },
  {
   "cell_type": "markdown",
   "id": "d8c34c36",
   "metadata": {},
   "source": [
    "# Populations of Towns"
   ]
  },
  {
   "cell_type": "markdown",
   "id": "57b8c9ad",
   "metadata": {},
   "source": [
    "<font size=\"4\"> The goal is to find the total population of every town in *final_data_CD.csv.* </font> <br>\n",
    "* **Input**\n",
    "    * ```final_data_CD.csv``` <br>\n",
    "       - This contains the continental debt held by individuals. For this particular project, we only care about the towns that these individuals are from. </a><br>\n",
    "* **Output**\n",
    "    * ```town_pops_clean.csv``` <br>\n",
    "       - This file will contain the populations of every town. "
   ]
  },
  {
   "cell_type": "code",
   "execution_count": 3,
   "id": "93ff1421",
   "metadata": {},
   "outputs": [
    {
     "name": "stdout",
     "output_type": "stream",
     "text": [
      "     index Group State           Group County       Group Town\n",
      "0        2          RI         Bristol County          Bristol\n",
      "1        3          CT        Hartford County         Hartford\n",
      "2        5          RI      Providence County   North Scituate\n",
      "3        6          CT       New Haven County        New Haven\n",
      "4        7          NH      Rockingham County       Portsmouth\n",
      "..     ...         ...                    ...              ...\n",
      "460   3779          PA  Northumberland County          Sunbury\n",
      "461   3796          PA     York County County             Fawn\n",
      "462   3818          PA  Chester County County       New London\n",
      "463   3836          NY   Queens County County  South Hempstead\n",
      "464   3838          VA     King George County      King George\n",
      "\n",
      "[465 rows x 4 columns]\n"
     ]
    }
   ],
   "source": [
    "cd_df = pd.read_csv(\"final_data_CD.csv\")\n",
    "towns = cd_df[['Group State', 'Group County', 'Group Town']].drop_duplicates().dropna().reset_index()\n",
    "print(towns)"
   ]
  },
  {
   "cell_type": "code",
   "execution_count": 4,
   "id": "f1a4bea7",
   "metadata": {},
   "outputs": [
    {
     "name": "stdout",
     "output_type": "stream",
     "text": [
      "     index Group State               Group County       Group Town\n",
      "0        2          RI             Bristol County          Bristol\n",
      "1        3          CT            Hartford County         Hartford\n",
      "2        5          RI          Providence County   North Scituate\n",
      "3        6          CT           New Haven County        New Haven\n",
      "4        7          NH          Rockingham County       Portsmouth\n",
      "..     ...         ...                        ...              ...\n",
      "459   3771          NY  Westchester County County          Stephen\n",
      "460   3779          PA      Northumberland County          Sunbury\n",
      "461   3796          PA         York County County             Fawn\n",
      "462   3818          PA      Chester County County       New London\n",
      "463   3836          NY       Queens County County  South Hempstead\n",
      "\n",
      "[445 rows x 4 columns]\n"
     ]
    }
   ],
   "source": [
    "# drop states where census data ancestry does not have records for: VA, GA, NJ, DE\n",
    "towns.drop(towns[towns['Group State'].isin(['VA', 'GA', 'NJ', 'DE'])].index, inplace=True)\n",
    "print(towns)"
   ]
  },
  {
   "cell_type": "code",
   "execution_count": 5,
   "id": "d6637f95",
   "metadata": {},
   "outputs": [],
   "source": [
    "# dictionary of state codes to actual state names (avoids potential errors)\n",
    "codes = {\n",
    "    'CT':'Connecticut',\n",
    "    'ME':'Maine',\n",
    "    'MD':'Maryland',\n",
    "    'MA':'Massachusetts',\n",
    "    'NH':'New Hampshire',\n",
    "    'NY':'New York',\n",
    "    'NC':'North Carolina',\n",
    "    'PA':'Pennsylvania',\n",
    "    'RI':'Rhode Island',\n",
    "    'SC':'South Carolina',\n",
    "    'VT':'Vermont' \n",
    "}"
   ]
  },
  {
   "cell_type": "code",
   "execution_count": 6,
   "id": "85ecde78",
   "metadata": {},
   "outputs": [],
   "source": [
    "# handle naming exceptions\n",
    "exceptions = {\n",
    "    'Philadelphia County':'Philadelphia',\n",
    "    'Charleston County':'Charleston',\n",
    "    'New Haven County':'New Haven'\n",
    "}"
   ]
  },
  {
   "cell_type": "markdown",
   "id": "2132df4a",
   "metadata": {},
   "source": [
    "## Accessing Ancestry"
   ]
  },
  {
   "cell_type": "markdown",
   "id": "2c145049",
   "metadata": {},
   "source": [
    "1. Access the 1790 census on Ancestry.com using the Selenium library. \n",
    "2. Handle county names. Some county names have '[county name] County County'.\n",
    "3. Access searchbar using Selenium. Selenium inputs [town, county, state, USA] into searchbar. \n",
    "4. Selenium clicks on the \"Search\" button and waits for 0.75 seconds. \n",
    "5. Once new webpage is loaded, ```&event_x=0-0-0_1-0```, is added to the current url. This restricts the search only to the town and excludes surrounding counties/towns. \n",
    "6. Selenium finds the total number of results, which corresponds to the population of the town. This population is added to the ```town_pops``` dictionary. If there are no results for that town, 'NR' is added to the dictionary instead. \n",
    "7. Steps 1-6 are repeated for every town. \n",
    "\n",
    "<span style=\"color: red;\">**Note: Runtime will be long. There were approximately ~400 unique towns.**</span>"
   ]
  },
  {
   "cell_type": "code",
   "execution_count": 10,
   "id": "14f47b0f",
   "metadata": {},
   "outputs": [
    {
     "name": "stdout",
     "output_type": "stream",
     "text": [
      "-------------------------\n",
      "Bristol, Bristol, Rhode Island, USA \n",
      "https://www.ancestry.com/search/collections/5058/?event=_bristol-bristol-rhode+island-usa_5479\n",
      "253\n",
      "1\n",
      "https://www.ancestry.com/search/collections/5058/?event=_bristol-bristol-rhode+island-usa_5479&event_x=0-0-0_1-0\n",
      "-------------------------\n",
      "-------------------------\n",
      "Hartford, Hartford, Connecticut, USA \n",
      "https://www.ancestry.com/search/collections/5058/?event=_hartford-hartford-connecticut-usa_999\n",
      "666\n",
      "2\n",
      "https://www.ancestry.com/search/collections/5058/?event=_hartford-hartford-connecticut-usa_999&event_x=0-0-0_1-0\n",
      "-------------------------\n",
      "-------------------------\n",
      "North Scituate, Providence, Rhode Island, USA \n",
      "https://www.ancestry.com/search/collections/5058/?event=_north+scituate-providence-rhode+island-usa_5526\n",
      "NR\n",
      "3\n",
      "https://www.ancestry.com/search/collections/5058/?event=_north+scituate-providence-rhode+island-usa_5526&event_x=0-0-0_1-0\n",
      "-------------------------\n",
      "-------------------------\n",
      "New Haven, New Haven, Connecticut, USA \n"
     ]
    },
    {
     "ename": "KeyboardInterrupt",
     "evalue": "",
     "output_type": "error",
     "traceback": [
      "\u001b[0;31m---------------------------------------------------------------------------\u001b[0m",
      "\u001b[0;31mKeyboardInterrupt\u001b[0m                         Traceback (most recent call last)",
      "Cell \u001b[0;32mIn[10], line 55\u001b[0m\n\u001b[1;32m     52\u001b[0m time\u001b[38;5;241m.\u001b[39msleep(\u001b[38;5;241m0.75\u001b[39m)\n\u001b[1;32m     54\u001b[0m \u001b[38;5;66;03m# add restrictions: we want exact town population\u001b[39;00m\n\u001b[0;32m---> 55\u001b[0m \u001b[38;5;28mprint\u001b[39m(\u001b[43mdriver\u001b[49m\u001b[38;5;241;43m.\u001b[39;49m\u001b[43mcurrent_url\u001b[49m) \u001b[38;5;66;03m##\u001b[39;00m\n\u001b[1;32m     56\u001b[0m driver\u001b[38;5;241m.\u001b[39mget(driver\u001b[38;5;241m.\u001b[39mcurrent_url \u001b[38;5;241m+\u001b[39m \u001b[38;5;124m\"\u001b[39m\u001b[38;5;124m&event_x=0-0-0_1-0\u001b[39m\u001b[38;5;124m\"\u001b[39m)\n\u001b[1;32m     58\u001b[0m \u001b[38;5;66;03m# check if town is correct: handles error i noticed\u001b[39;00m\n",
      "File \u001b[0;32m~/Library/Python/3.11/lib/python/site-packages/selenium/webdriver/remote/webdriver.py:530\u001b[0m, in \u001b[0;36mWebDriver.current_url\u001b[0;34m(self)\u001b[0m\n\u001b[1;32m    521\u001b[0m \u001b[38;5;129m@property\u001b[39m\n\u001b[1;32m    522\u001b[0m \u001b[38;5;28;01mdef\u001b[39;00m \u001b[38;5;21mcurrent_url\u001b[39m(\u001b[38;5;28mself\u001b[39m) \u001b[38;5;241m-\u001b[39m\u001b[38;5;241m>\u001b[39m \u001b[38;5;28mstr\u001b[39m:\n\u001b[1;32m    523\u001b[0m \u001b[38;5;250m    \u001b[39m\u001b[38;5;124;03m\"\"\"Gets the URL of the current page.\u001b[39;00m\n\u001b[1;32m    524\u001b[0m \n\u001b[1;32m    525\u001b[0m \u001b[38;5;124;03m    :Usage:\u001b[39;00m\n\u001b[0;32m   (...)\u001b[0m\n\u001b[1;32m    528\u001b[0m \u001b[38;5;124;03m            driver.current_url\u001b[39;00m\n\u001b[1;32m    529\u001b[0m \u001b[38;5;124;03m    \"\"\"\u001b[39;00m\n\u001b[0;32m--> 530\u001b[0m     \u001b[38;5;28;01mreturn\u001b[39;00m \u001b[38;5;28;43mself\u001b[39;49m\u001b[38;5;241;43m.\u001b[39;49m\u001b[43mexecute\u001b[49m\u001b[43m(\u001b[49m\u001b[43mCommand\u001b[49m\u001b[38;5;241;43m.\u001b[39;49m\u001b[43mGET_CURRENT_URL\u001b[49m\u001b[43m)\u001b[49m[\u001b[38;5;124m\"\u001b[39m\u001b[38;5;124mvalue\u001b[39m\u001b[38;5;124m\"\u001b[39m]\n",
      "File \u001b[0;32m~/Library/Python/3.11/lib/python/site-packages/selenium/webdriver/remote/webdriver.py:438\u001b[0m, in \u001b[0;36mWebDriver.execute\u001b[0;34m(self, driver_command, params)\u001b[0m\n\u001b[1;32m    435\u001b[0m     \u001b[38;5;28;01melif\u001b[39;00m \u001b[38;5;124m\"\u001b[39m\u001b[38;5;124msessionId\u001b[39m\u001b[38;5;124m\"\u001b[39m \u001b[38;5;129;01mnot\u001b[39;00m \u001b[38;5;129;01min\u001b[39;00m params:\n\u001b[1;32m    436\u001b[0m         params[\u001b[38;5;124m\"\u001b[39m\u001b[38;5;124msessionId\u001b[39m\u001b[38;5;124m\"\u001b[39m] \u001b[38;5;241m=\u001b[39m \u001b[38;5;28mself\u001b[39m\u001b[38;5;241m.\u001b[39msession_id\n\u001b[0;32m--> 438\u001b[0m response \u001b[38;5;241m=\u001b[39m \u001b[38;5;28;43mself\u001b[39;49m\u001b[38;5;241;43m.\u001b[39;49m\u001b[43mcommand_executor\u001b[49m\u001b[38;5;241;43m.\u001b[39;49m\u001b[43mexecute\u001b[49m\u001b[43m(\u001b[49m\u001b[43mdriver_command\u001b[49m\u001b[43m,\u001b[49m\u001b[43m \u001b[49m\u001b[43mparams\u001b[49m\u001b[43m)\u001b[49m\n\u001b[1;32m    439\u001b[0m \u001b[38;5;28;01mif\u001b[39;00m response:\n\u001b[1;32m    440\u001b[0m     \u001b[38;5;28mself\u001b[39m\u001b[38;5;241m.\u001b[39merror_handler\u001b[38;5;241m.\u001b[39mcheck_response(response)\n",
      "File \u001b[0;32m~/Library/Python/3.11/lib/python/site-packages/selenium/webdriver/remote/remote_connection.py:290\u001b[0m, in \u001b[0;36mRemoteConnection.execute\u001b[0;34m(self, command, params)\u001b[0m\n\u001b[1;32m    288\u001b[0m data \u001b[38;5;241m=\u001b[39m utils\u001b[38;5;241m.\u001b[39mdump_json(params)\n\u001b[1;32m    289\u001b[0m url \u001b[38;5;241m=\u001b[39m \u001b[38;5;124mf\u001b[39m\u001b[38;5;124m\"\u001b[39m\u001b[38;5;132;01m{\u001b[39;00m\u001b[38;5;28mself\u001b[39m\u001b[38;5;241m.\u001b[39m_url\u001b[38;5;132;01m}\u001b[39;00m\u001b[38;5;132;01m{\u001b[39;00mpath\u001b[38;5;132;01m}\u001b[39;00m\u001b[38;5;124m\"\u001b[39m\n\u001b[0;32m--> 290\u001b[0m \u001b[38;5;28;01mreturn\u001b[39;00m \u001b[38;5;28;43mself\u001b[39;49m\u001b[38;5;241;43m.\u001b[39;49m\u001b[43m_request\u001b[49m\u001b[43m(\u001b[49m\u001b[43mcommand_info\u001b[49m\u001b[43m[\u001b[49m\u001b[38;5;241;43m0\u001b[39;49m\u001b[43m]\u001b[49m\u001b[43m,\u001b[49m\u001b[43m \u001b[49m\u001b[43murl\u001b[49m\u001b[43m,\u001b[49m\u001b[43m \u001b[49m\u001b[43mbody\u001b[49m\u001b[38;5;241;43m=\u001b[39;49m\u001b[43mdata\u001b[49m\u001b[43m)\u001b[49m\n",
      "File \u001b[0;32m~/Library/Python/3.11/lib/python/site-packages/selenium/webdriver/remote/remote_connection.py:311\u001b[0m, in \u001b[0;36mRemoteConnection._request\u001b[0;34m(self, method, url, body)\u001b[0m\n\u001b[1;32m    308\u001b[0m     body \u001b[38;5;241m=\u001b[39m \u001b[38;5;28;01mNone\u001b[39;00m\n\u001b[1;32m    310\u001b[0m \u001b[38;5;28;01mif\u001b[39;00m \u001b[38;5;28mself\u001b[39m\u001b[38;5;241m.\u001b[39mkeep_alive:\n\u001b[0;32m--> 311\u001b[0m     response \u001b[38;5;241m=\u001b[39m \u001b[38;5;28;43mself\u001b[39;49m\u001b[38;5;241;43m.\u001b[39;49m\u001b[43m_conn\u001b[49m\u001b[38;5;241;43m.\u001b[39;49m\u001b[43mrequest\u001b[49m\u001b[43m(\u001b[49m\u001b[43mmethod\u001b[49m\u001b[43m,\u001b[49m\u001b[43m \u001b[49m\u001b[43murl\u001b[49m\u001b[43m,\u001b[49m\u001b[43m \u001b[49m\u001b[43mbody\u001b[49m\u001b[38;5;241;43m=\u001b[39;49m\u001b[43mbody\u001b[49m\u001b[43m,\u001b[49m\u001b[43m \u001b[49m\u001b[43mheaders\u001b[49m\u001b[38;5;241;43m=\u001b[39;49m\u001b[43mheaders\u001b[49m\u001b[43m)\u001b[49m\n\u001b[1;32m    312\u001b[0m     statuscode \u001b[38;5;241m=\u001b[39m response\u001b[38;5;241m.\u001b[39mstatus\n\u001b[1;32m    313\u001b[0m \u001b[38;5;28;01melse\u001b[39;00m:\n",
      "File \u001b[0;32m~/Library/Python/3.11/lib/python/site-packages/urllib3/_request_methods.py:110\u001b[0m, in \u001b[0;36mRequestMethods.request\u001b[0;34m(self, method, url, body, fields, headers, json, **urlopen_kw)\u001b[0m\n\u001b[1;32m    107\u001b[0m     urlopen_kw[\u001b[38;5;124m\"\u001b[39m\u001b[38;5;124mbody\u001b[39m\u001b[38;5;124m\"\u001b[39m] \u001b[38;5;241m=\u001b[39m body\n\u001b[1;32m    109\u001b[0m \u001b[38;5;28;01mif\u001b[39;00m method \u001b[38;5;129;01min\u001b[39;00m \u001b[38;5;28mself\u001b[39m\u001b[38;5;241m.\u001b[39m_encode_url_methods:\n\u001b[0;32m--> 110\u001b[0m     \u001b[38;5;28;01mreturn\u001b[39;00m \u001b[38;5;28;43mself\u001b[39;49m\u001b[38;5;241;43m.\u001b[39;49m\u001b[43mrequest_encode_url\u001b[49m\u001b[43m(\u001b[49m\n\u001b[1;32m    111\u001b[0m \u001b[43m        \u001b[49m\u001b[43mmethod\u001b[49m\u001b[43m,\u001b[49m\n\u001b[1;32m    112\u001b[0m \u001b[43m        \u001b[49m\u001b[43murl\u001b[49m\u001b[43m,\u001b[49m\n\u001b[1;32m    113\u001b[0m \u001b[43m        \u001b[49m\u001b[43mfields\u001b[49m\u001b[38;5;241;43m=\u001b[39;49m\u001b[43mfields\u001b[49m\u001b[43m,\u001b[49m\u001b[43m  \u001b[49m\u001b[38;5;66;43;03m# type: ignore[arg-type]\u001b[39;49;00m\n\u001b[1;32m    114\u001b[0m \u001b[43m        \u001b[49m\u001b[43mheaders\u001b[49m\u001b[38;5;241;43m=\u001b[39;49m\u001b[43mheaders\u001b[49m\u001b[43m,\u001b[49m\n\u001b[1;32m    115\u001b[0m \u001b[43m        \u001b[49m\u001b[38;5;241;43m*\u001b[39;49m\u001b[38;5;241;43m*\u001b[39;49m\u001b[43murlopen_kw\u001b[49m\u001b[43m,\u001b[49m\n\u001b[1;32m    116\u001b[0m \u001b[43m    \u001b[49m\u001b[43m)\u001b[49m\n\u001b[1;32m    117\u001b[0m \u001b[38;5;28;01melse\u001b[39;00m:\n\u001b[1;32m    118\u001b[0m     \u001b[38;5;28;01mreturn\u001b[39;00m \u001b[38;5;28mself\u001b[39m\u001b[38;5;241m.\u001b[39mrequest_encode_body(\n\u001b[1;32m    119\u001b[0m         method, url, fields\u001b[38;5;241m=\u001b[39mfields, headers\u001b[38;5;241m=\u001b[39mheaders, \u001b[38;5;241m*\u001b[39m\u001b[38;5;241m*\u001b[39murlopen_kw\n\u001b[1;32m    120\u001b[0m     )\n",
      "File \u001b[0;32m~/Library/Python/3.11/lib/python/site-packages/urllib3/_request_methods.py:143\u001b[0m, in \u001b[0;36mRequestMethods.request_encode_url\u001b[0;34m(self, method, url, fields, headers, **urlopen_kw)\u001b[0m\n\u001b[1;32m    140\u001b[0m \u001b[38;5;28;01mif\u001b[39;00m fields:\n\u001b[1;32m    141\u001b[0m     url \u001b[38;5;241m+\u001b[39m\u001b[38;5;241m=\u001b[39m \u001b[38;5;124m\"\u001b[39m\u001b[38;5;124m?\u001b[39m\u001b[38;5;124m\"\u001b[39m \u001b[38;5;241m+\u001b[39m urlencode(fields)\n\u001b[0;32m--> 143\u001b[0m \u001b[38;5;28;01mreturn\u001b[39;00m \u001b[38;5;28;43mself\u001b[39;49m\u001b[38;5;241;43m.\u001b[39;49m\u001b[43murlopen\u001b[49m\u001b[43m(\u001b[49m\u001b[43mmethod\u001b[49m\u001b[43m,\u001b[49m\u001b[43m \u001b[49m\u001b[43murl\u001b[49m\u001b[43m,\u001b[49m\u001b[43m \u001b[49m\u001b[38;5;241;43m*\u001b[39;49m\u001b[38;5;241;43m*\u001b[39;49m\u001b[43mextra_kw\u001b[49m\u001b[43m)\u001b[49m\n",
      "File \u001b[0;32m~/Library/Python/3.11/lib/python/site-packages/urllib3/poolmanager.py:433\u001b[0m, in \u001b[0;36mPoolManager.urlopen\u001b[0;34m(self, method, url, redirect, **kw)\u001b[0m\n\u001b[1;32m    431\u001b[0m     response \u001b[38;5;241m=\u001b[39m conn\u001b[38;5;241m.\u001b[39murlopen(method, url, \u001b[38;5;241m*\u001b[39m\u001b[38;5;241m*\u001b[39mkw)\n\u001b[1;32m    432\u001b[0m \u001b[38;5;28;01melse\u001b[39;00m:\n\u001b[0;32m--> 433\u001b[0m     response \u001b[38;5;241m=\u001b[39m \u001b[43mconn\u001b[49m\u001b[38;5;241;43m.\u001b[39;49m\u001b[43murlopen\u001b[49m\u001b[43m(\u001b[49m\u001b[43mmethod\u001b[49m\u001b[43m,\u001b[49m\u001b[43m \u001b[49m\u001b[43mu\u001b[49m\u001b[38;5;241;43m.\u001b[39;49m\u001b[43mrequest_uri\u001b[49m\u001b[43m,\u001b[49m\u001b[43m \u001b[49m\u001b[38;5;241;43m*\u001b[39;49m\u001b[38;5;241;43m*\u001b[39;49m\u001b[43mkw\u001b[49m\u001b[43m)\u001b[49m\n\u001b[1;32m    435\u001b[0m redirect_location \u001b[38;5;241m=\u001b[39m redirect \u001b[38;5;129;01mand\u001b[39;00m response\u001b[38;5;241m.\u001b[39mget_redirect_location()\n\u001b[1;32m    436\u001b[0m \u001b[38;5;28;01mif\u001b[39;00m \u001b[38;5;129;01mnot\u001b[39;00m redirect_location:\n",
      "File \u001b[0;32m~/Library/Python/3.11/lib/python/site-packages/urllib3/connectionpool.py:790\u001b[0m, in \u001b[0;36mHTTPConnectionPool.urlopen\u001b[0;34m(self, method, url, body, headers, retries, redirect, assert_same_host, timeout, pool_timeout, release_conn, chunked, body_pos, preload_content, decode_content, **response_kw)\u001b[0m\n\u001b[1;32m    787\u001b[0m response_conn \u001b[38;5;241m=\u001b[39m conn \u001b[38;5;28;01mif\u001b[39;00m \u001b[38;5;129;01mnot\u001b[39;00m release_conn \u001b[38;5;28;01melse\u001b[39;00m \u001b[38;5;28;01mNone\u001b[39;00m\n\u001b[1;32m    789\u001b[0m \u001b[38;5;66;03m# Make the request on the HTTPConnection object\u001b[39;00m\n\u001b[0;32m--> 790\u001b[0m response \u001b[38;5;241m=\u001b[39m \u001b[38;5;28;43mself\u001b[39;49m\u001b[38;5;241;43m.\u001b[39;49m\u001b[43m_make_request\u001b[49m\u001b[43m(\u001b[49m\n\u001b[1;32m    791\u001b[0m \u001b[43m    \u001b[49m\u001b[43mconn\u001b[49m\u001b[43m,\u001b[49m\n\u001b[1;32m    792\u001b[0m \u001b[43m    \u001b[49m\u001b[43mmethod\u001b[49m\u001b[43m,\u001b[49m\n\u001b[1;32m    793\u001b[0m \u001b[43m    \u001b[49m\u001b[43murl\u001b[49m\u001b[43m,\u001b[49m\n\u001b[1;32m    794\u001b[0m \u001b[43m    \u001b[49m\u001b[43mtimeout\u001b[49m\u001b[38;5;241;43m=\u001b[39;49m\u001b[43mtimeout_obj\u001b[49m\u001b[43m,\u001b[49m\n\u001b[1;32m    795\u001b[0m \u001b[43m    \u001b[49m\u001b[43mbody\u001b[49m\u001b[38;5;241;43m=\u001b[39;49m\u001b[43mbody\u001b[49m\u001b[43m,\u001b[49m\n\u001b[1;32m    796\u001b[0m \u001b[43m    \u001b[49m\u001b[43mheaders\u001b[49m\u001b[38;5;241;43m=\u001b[39;49m\u001b[43mheaders\u001b[49m\u001b[43m,\u001b[49m\n\u001b[1;32m    797\u001b[0m \u001b[43m    \u001b[49m\u001b[43mchunked\u001b[49m\u001b[38;5;241;43m=\u001b[39;49m\u001b[43mchunked\u001b[49m\u001b[43m,\u001b[49m\n\u001b[1;32m    798\u001b[0m \u001b[43m    \u001b[49m\u001b[43mretries\u001b[49m\u001b[38;5;241;43m=\u001b[39;49m\u001b[43mretries\u001b[49m\u001b[43m,\u001b[49m\n\u001b[1;32m    799\u001b[0m \u001b[43m    \u001b[49m\u001b[43mresponse_conn\u001b[49m\u001b[38;5;241;43m=\u001b[39;49m\u001b[43mresponse_conn\u001b[49m\u001b[43m,\u001b[49m\n\u001b[1;32m    800\u001b[0m \u001b[43m    \u001b[49m\u001b[43mpreload_content\u001b[49m\u001b[38;5;241;43m=\u001b[39;49m\u001b[43mpreload_content\u001b[49m\u001b[43m,\u001b[49m\n\u001b[1;32m    801\u001b[0m \u001b[43m    \u001b[49m\u001b[43mdecode_content\u001b[49m\u001b[38;5;241;43m=\u001b[39;49m\u001b[43mdecode_content\u001b[49m\u001b[43m,\u001b[49m\n\u001b[1;32m    802\u001b[0m \u001b[43m    \u001b[49m\u001b[38;5;241;43m*\u001b[39;49m\u001b[38;5;241;43m*\u001b[39;49m\u001b[43mresponse_kw\u001b[49m\u001b[43m,\u001b[49m\n\u001b[1;32m    803\u001b[0m \u001b[43m\u001b[49m\u001b[43m)\u001b[49m\n\u001b[1;32m    805\u001b[0m \u001b[38;5;66;03m# Everything went great!\u001b[39;00m\n\u001b[1;32m    806\u001b[0m clean_exit \u001b[38;5;241m=\u001b[39m \u001b[38;5;28;01mTrue\u001b[39;00m\n",
      "File \u001b[0;32m~/Library/Python/3.11/lib/python/site-packages/urllib3/connectionpool.py:536\u001b[0m, in \u001b[0;36mHTTPConnectionPool._make_request\u001b[0;34m(self, conn, method, url, body, headers, retries, timeout, chunked, response_conn, preload_content, decode_content, enforce_content_length)\u001b[0m\n\u001b[1;32m    534\u001b[0m \u001b[38;5;66;03m# Receive the response from the server\u001b[39;00m\n\u001b[1;32m    535\u001b[0m \u001b[38;5;28;01mtry\u001b[39;00m:\n\u001b[0;32m--> 536\u001b[0m     response \u001b[38;5;241m=\u001b[39m \u001b[43mconn\u001b[49m\u001b[38;5;241;43m.\u001b[39;49m\u001b[43mgetresponse\u001b[49m\u001b[43m(\u001b[49m\u001b[43m)\u001b[49m\n\u001b[1;32m    537\u001b[0m \u001b[38;5;28;01mexcept\u001b[39;00m (BaseSSLError, \u001b[38;5;167;01mOSError\u001b[39;00m) \u001b[38;5;28;01mas\u001b[39;00m e:\n\u001b[1;32m    538\u001b[0m     \u001b[38;5;28mself\u001b[39m\u001b[38;5;241m.\u001b[39m_raise_timeout(err\u001b[38;5;241m=\u001b[39me, url\u001b[38;5;241m=\u001b[39murl, timeout_value\u001b[38;5;241m=\u001b[39mread_timeout)\n",
      "File \u001b[0;32m~/Library/Python/3.11/lib/python/site-packages/urllib3/connection.py:454\u001b[0m, in \u001b[0;36mHTTPConnection.getresponse\u001b[0;34m(self)\u001b[0m\n\u001b[1;32m    451\u001b[0m \u001b[38;5;28;01mfrom\u001b[39;00m \u001b[38;5;21;01m.\u001b[39;00m\u001b[38;5;21;01mresponse\u001b[39;00m \u001b[38;5;28;01mimport\u001b[39;00m HTTPResponse\n\u001b[1;32m    453\u001b[0m \u001b[38;5;66;03m# Get the response from http.client.HTTPConnection\u001b[39;00m\n\u001b[0;32m--> 454\u001b[0m httplib_response \u001b[38;5;241m=\u001b[39m \u001b[38;5;28;43msuper\u001b[39;49m\u001b[43m(\u001b[49m\u001b[43m)\u001b[49m\u001b[38;5;241;43m.\u001b[39;49m\u001b[43mgetresponse\u001b[49m\u001b[43m(\u001b[49m\u001b[43m)\u001b[49m\n\u001b[1;32m    456\u001b[0m \u001b[38;5;28;01mtry\u001b[39;00m:\n\u001b[1;32m    457\u001b[0m     assert_header_parsing(httplib_response\u001b[38;5;241m.\u001b[39mmsg)\n",
      "File \u001b[0;32m/Library/Frameworks/Python.framework/Versions/3.11/lib/python3.11/http/client.py:1375\u001b[0m, in \u001b[0;36mHTTPConnection.getresponse\u001b[0;34m(self)\u001b[0m\n\u001b[1;32m   1373\u001b[0m \u001b[38;5;28;01mtry\u001b[39;00m:\n\u001b[1;32m   1374\u001b[0m     \u001b[38;5;28;01mtry\u001b[39;00m:\n\u001b[0;32m-> 1375\u001b[0m         \u001b[43mresponse\u001b[49m\u001b[38;5;241;43m.\u001b[39;49m\u001b[43mbegin\u001b[49m\u001b[43m(\u001b[49m\u001b[43m)\u001b[49m\n\u001b[1;32m   1376\u001b[0m     \u001b[38;5;28;01mexcept\u001b[39;00m \u001b[38;5;167;01mConnectionError\u001b[39;00m:\n\u001b[1;32m   1377\u001b[0m         \u001b[38;5;28mself\u001b[39m\u001b[38;5;241m.\u001b[39mclose()\n",
      "File \u001b[0;32m/Library/Frameworks/Python.framework/Versions/3.11/lib/python3.11/http/client.py:318\u001b[0m, in \u001b[0;36mHTTPResponse.begin\u001b[0;34m(self)\u001b[0m\n\u001b[1;32m    316\u001b[0m \u001b[38;5;66;03m# read until we get a non-100 response\u001b[39;00m\n\u001b[1;32m    317\u001b[0m \u001b[38;5;28;01mwhile\u001b[39;00m \u001b[38;5;28;01mTrue\u001b[39;00m:\n\u001b[0;32m--> 318\u001b[0m     version, status, reason \u001b[38;5;241m=\u001b[39m \u001b[38;5;28;43mself\u001b[39;49m\u001b[38;5;241;43m.\u001b[39;49m\u001b[43m_read_status\u001b[49m\u001b[43m(\u001b[49m\u001b[43m)\u001b[49m\n\u001b[1;32m    319\u001b[0m     \u001b[38;5;28;01mif\u001b[39;00m status \u001b[38;5;241m!=\u001b[39m CONTINUE:\n\u001b[1;32m    320\u001b[0m         \u001b[38;5;28;01mbreak\u001b[39;00m\n",
      "File \u001b[0;32m/Library/Frameworks/Python.framework/Versions/3.11/lib/python3.11/http/client.py:279\u001b[0m, in \u001b[0;36mHTTPResponse._read_status\u001b[0;34m(self)\u001b[0m\n\u001b[1;32m    278\u001b[0m \u001b[38;5;28;01mdef\u001b[39;00m \u001b[38;5;21m_read_status\u001b[39m(\u001b[38;5;28mself\u001b[39m):\n\u001b[0;32m--> 279\u001b[0m     line \u001b[38;5;241m=\u001b[39m \u001b[38;5;28mstr\u001b[39m(\u001b[38;5;28mself\u001b[39m\u001b[38;5;241m.\u001b[39mfp\u001b[38;5;241m.\u001b[39mreadline(_MAXLINE \u001b[38;5;241m+\u001b[39m \u001b[38;5;241m1\u001b[39m), \u001b[38;5;124m\"\u001b[39m\u001b[38;5;124miso-8859-1\u001b[39m\u001b[38;5;124m\"\u001b[39m)\n\u001b[1;32m    280\u001b[0m     \u001b[38;5;28;01mif\u001b[39;00m \u001b[38;5;28mlen\u001b[39m(line) \u001b[38;5;241m>\u001b[39m _MAXLINE:\n\u001b[1;32m    281\u001b[0m         \u001b[38;5;28;01mraise\u001b[39;00m LineTooLong(\u001b[38;5;124m\"\u001b[39m\u001b[38;5;124mstatus line\u001b[39m\u001b[38;5;124m\"\u001b[39m)\n",
      "File \u001b[0;32m/Library/Frameworks/Python.framework/Versions/3.11/lib/python3.11/socket.py:706\u001b[0m, in \u001b[0;36mSocketIO.readinto\u001b[0;34m(self, b)\u001b[0m\n\u001b[1;32m    704\u001b[0m \u001b[38;5;28;01mwhile\u001b[39;00m \u001b[38;5;28;01mTrue\u001b[39;00m:\n\u001b[1;32m    705\u001b[0m     \u001b[38;5;28;01mtry\u001b[39;00m:\n\u001b[0;32m--> 706\u001b[0m         \u001b[38;5;28;01mreturn\u001b[39;00m \u001b[38;5;28;43mself\u001b[39;49m\u001b[38;5;241;43m.\u001b[39;49m\u001b[43m_sock\u001b[49m\u001b[38;5;241;43m.\u001b[39;49m\u001b[43mrecv_into\u001b[49m\u001b[43m(\u001b[49m\u001b[43mb\u001b[49m\u001b[43m)\u001b[49m\n\u001b[1;32m    707\u001b[0m     \u001b[38;5;28;01mexcept\u001b[39;00m timeout:\n\u001b[1;32m    708\u001b[0m         \u001b[38;5;28mself\u001b[39m\u001b[38;5;241m.\u001b[39m_timeout_occurred \u001b[38;5;241m=\u001b[39m \u001b[38;5;28;01mTrue\u001b[39;00m\n",
      "\u001b[0;31mKeyboardInterrupt\u001b[0m: "
     ]
    }
   ],
   "source": [
    "town_pops = {} # dictionary of all the populations of each town \n",
    "error_handling = False\n",
    "\n",
    "# uncomment when handling errors (post-running main script) \n",
    "# towns_l = er_towns\n",
    "\n",
    "# uncomment when going through entire table\n",
    "towns_l = towns.values.tolist()\n",
    "\n",
    "# if we want to do it by section --> towns_l = towns_l[88:]\n",
    "driver = webdriver.Chrome(service=Service(ChromeDriverManager().install()), options=options)\n",
    "wait = WebDriverWait(driver, 30)\n",
    "census_url = \"https://www.ancestry.com/search/collections/5058/\"\n",
    "for town in towns_l:\n",
    "    # handle '[name] county county'\n",
    "    \n",
    "    if not error_handling:\n",
    "        county = town[2][:-7].replace(' County', '')\n",
    "        loc_add = town[3] + \", \" + county + \", \" + codes[town[1]] + \", USA \"\n",
    "    else:\n",
    "        loc_add = town[3] + \", \" + town[2] + \", \" + town[1] + \", USA \"\n",
    "        \n",
    "    try:\n",
    "        # open 1790 census \n",
    "        try:\n",
    "            driver.get(census_url)\n",
    "        except:\n",
    "            driver.close()\n",
    "            driver.get(census_url)   \n",
    "\n",
    "        # handle some exceptions to county names \n",
    "        if county in exceptions:\n",
    "            county = exceptions[county]\n",
    "\n",
    "        print(\"-------------------------\")\n",
    "        print(loc_add) ## \n",
    "\n",
    "        # wait until event searchbar is visible, then click on it: handles error i noticed\n",
    "        xpath = \"/html/body/div[3]/div/div/div/div/section/div/div/div/div/div/form/div[1]/div/fieldset[2]/div[2]/div/input\"\n",
    "        try:\n",
    "            wait.until(element_to_be_clickable((By.XPATH, xpath))).click()\n",
    "        except: # mostly to handle timeout exceptions: close tab and try again\n",
    "            driver.close()\n",
    "            driver.get(census_url)\n",
    "            time.sleep(0.25)\n",
    "            wait.until(element_to_be_clickable((By.XPATH, xpath))).click()\n",
    "\n",
    "        input_t = driver.find_element(By.XPATH, xpath)\n",
    "        input_t.send_keys(loc_add)\n",
    "        time.sleep(0.75)\n",
    "\n",
    "        # click on search button \n",
    "        wait.until(element_to_be_clickable((By.XPATH, \"/html/body/div[3]/div/div/div/div/section/div/div/div/div/div/form/div[1]/div/div[9]/div[1]/input\"))).click()\n",
    "        time.sleep(0.75)\n",
    "\n",
    "        # add restrictions: we want exact town population\n",
    "        print(driver.current_url) ##\n",
    "        driver.get(driver.current_url + \"&event_x=0-0-0_1-0\")\n",
    "\n",
    "        # check if town is correct: handles error i noticed\n",
    "        title_pl = wait.until(presence_of_element_located((By.XPATH, \"//*[@id='refineView']/form/div[3]/div/div[1]/div\"))).get_attribute(\"title\")\n",
    "        if (title_pl + \" \" == loc_add):\n",
    "            # add to town_pops \n",
    "            try:\n",
    "                pop = driver.find_element(By.CLASS_NAME, \"resultsLabel\")\n",
    "                town_pops[loc_add] = int(pop.text.split(\"of\")[1].replace(',','')) \n",
    "            except NoSuchElementException:\n",
    "                town_pops[loc_add] = \"NR\"\n",
    "        else:\n",
    "\n",
    "            print(\"Titles don't match\")\n",
    "            print(\"title on page = \" + title_pl)\n",
    "            town_pops[loc_add] = \"NR\"\n",
    "\n",
    "        print(town_pops[loc_add]) ##\n",
    "        print(len(town_pops)) ##\n",
    "        print(driver.current_url) ##\n",
    "        print(\"-------------------------\")\n",
    "        #driver.close() # close current tab \n",
    "        #driver = webdriver.Chrome(service=Service(ChromeDriverManager().install()), options=options) # restart chrome \n",
    "        #wait = WebDriverWait(driver, 30)\n",
    "    except Exception as e:\n",
    "        print(\"___________________________________\")\n",
    "        print(\"ERROR! Moving swiftly to next town\")\n",
    "        print(e)\n",
    "        print(\"___________________________________\")\n",
    "        town_pops[loc_add] = 'ER'\n",
    "        driver = webdriver.Chrome(service=Service(ChromeDriverManager().install()), options=options) # restart chrome \n",
    "        wait = WebDriverWait(driver, 30)\n",
    "        continue"
   ]
  },
  {
   "cell_type": "code",
   "execution_count": 218,
   "id": "07805f38",
   "metadata": {},
   "outputs": [
    {
     "name": "stdout",
     "output_type": "stream",
     "text": [
      "                city          county          state country population\n",
      "0            Bristol         Bristol   Rhode Island    USA         253\n",
      "1           Hartford        Hartford    Connecticut    USA         666\n",
      "2     North Scituate      Providence   Rhode Island    USA          NR\n",
      "3          New Haven       New Haven    Connecticut    USA         919\n",
      "4         Portsmouth      Rockingham  New Hampshire    USA         893\n",
      "..               ...             ...            ...     ...        ...\n",
      "398          Stephen     Westchester       New York    USA          NR\n",
      "399          Sunbury  Northumberland   Pennsylvania    USA          NR\n",
      "400             Fawn            York   Pennsylvania    USA         230\n",
      "401       New London         Chester   Pennsylvania    USA         120\n",
      "402  South Hempstead          Queens       New York    USA          NR\n",
      "\n",
      "[403 rows x 5 columns]\n",
      "Frequency of ER is : 0\n"
     ]
    }
   ],
   "source": [
    "# save town_pops dictionary as a csv file \n",
    "df = pd.DataFrame.from_dict(town_pops, orient=\"index\")\n",
    "df.to_csv(\"town_pops.csv\")\n",
    "df = pd.read_csv(\"town_pops.csv\", index_col=0)\n",
    "print(df)\n",
    "# printing result"
   ]
  },
  {
   "cell_type": "markdown",
   "id": "87f5f77a",
   "metadata": {},
   "source": [
    "## Fix Formatting"
   ]
  },
  {
   "cell_type": "markdown",
   "id": "e84de537",
   "metadata": {},
   "source": [
    "Why? As of right now, there are only two columns. The first column has the location, which includes the town, county, state, and country all in one cell. This is not easy to read. Therefore, town, county, state, and country must become their own columns. The next column has the population. There are no column titles either. The code below fixes these issues. "
   ]
  },
  {
   "cell_type": "code",
   "execution_count": 166,
   "id": "321c7009",
   "metadata": {},
   "outputs": [
    {
     "name": "stdout",
     "output_type": "stream",
     "text": [
      "                city          county          state country population\n",
      "0            Bristol         Bristol   Rhode Island    USA         253\n",
      "1           Hartford        Hartford    Connecticut    USA         666\n",
      "2     North Scituate      Providence   Rhode Island    USA          NR\n",
      "3          New Haven       New Haven    Connecticut    USA         919\n",
      "4         Portsmouth      Rockingham  New Hampshire    USA         893\n",
      "..               ...             ...            ...     ...        ...\n",
      "398          Stephen     Westchester       New York    USA          NR\n",
      "399          Sunbury  Northumberland   Pennsylvania    USA          NR\n",
      "400             Fawn            York   Pennsylvania    USA         230\n",
      "401       New London         Chester   Pennsylvania    USA         120\n",
      "402  South Hempstead          Queens       New York    USA          NR\n",
      "\n",
      "[403 rows x 5 columns]\n"
     ]
    }
   ],
   "source": [
    "# read csv \n",
    "towns_df = pd.read_csv(\"town_pops.csv\")\n",
    "\n",
    "# split location name into multiple columns \n",
    "towns_df = towns_df.assign(**towns_df['Unnamed: 0'].str.split(', ', expand=True).add_prefix('Info_'))\n",
    "\n",
    "# rename columns\n",
    "towns_df.rename(columns={'0':'population', 'Info_0':'city', 'Info_1':'county', \n",
    "                         'Info_2':'state', 'Info_3':'country'}, inplace=True)\n",
    "\n",
    "# remove last three columns and original location column\n",
    "towns_df.drop(columns={\"Unnamed: 0\", \"Info_4\", \"Info_5\", \"Info_6\"}, inplace=True)\n",
    "\n",
    "# reorder columns\n",
    "towns_df = towns_df[['city', 'county', 'state', 'country', 'population']]\n",
    "print(towns_df)\n",
    "\n",
    "towns_df.to_csv(\"town_pops_clean.csv\")"
   ]
  },
  {
   "cell_type": "markdown",
   "id": "c5dff150",
   "metadata": {},
   "source": [
    "## Handle Mistakes"
   ]
  },
  {
   "cell_type": "markdown",
   "id": "2f46fb7d",
   "metadata": {},
   "source": [
    "Why? The code isn't perfect. If Selenium crashed, the program marked that town as 'ER' in ```town_pops``` and moved onto the next town. It's time to go back and fix these. Also, there are individual discrepancies that must be taken care of. The code below essentially finds the rows in ```town_pops_clean.csv``` that have either 'ER' or are in the ```er_indexes``` list, which contains individual town indexes. "
   ]
  },
  {
   "cell_type": "code",
   "execution_count": 265,
   "id": "62f41337",
   "metadata": {},
   "outputs": [],
   "source": [
    "# handle individual cases (using their indexes)\n",
    "er_indexes = [11, 52, 88, 287]"
   ]
  },
  {
   "cell_type": "code",
   "execution_count": 266,
   "id": "dccaec3a",
   "metadata": {},
   "outputs": [
    {
     "name": "stdout",
     "output_type": "stream",
     "text": [
      "[[11, 'Connecticut', 'Windham', 'Woodstock'], [52, 'Rhode Island', 'Kent', 'Warwick'], [88, 'North Carolina', 'Halifax', 'Halifax'], [287, 'New Hampshire', 'Grafton', 'Alexandria']]\n"
     ]
    }
   ],
   "source": [
    "# find the populations of towns when webdriver crashed\n",
    "csv_town = pd.read_csv(\"town_pops_clean.csv\")\n",
    "csv_town = csv_town[[\"Unnamed: 0\", \"state\", \"county\", \"city\", \"country\", \"population\"]]\n",
    "\n",
    "# handle errors (rows with 'ER')\n",
    "errors = csv_town.loc[csv_town['population'].isin([\"ER\"])].drop(columns={'population', 'country'}).values.tolist()\n",
    "\n",
    "# handle individual discrepancies \n",
    "indiv_disc = csv_town.loc[csv_town.index.isin(er_indexes)].drop(columns={'population', 'country'}).values.tolist()\n",
    "\n",
    "er_towns = errors + indiv_disc\n",
    "print(er_towns)"
   ]
  },
  {
   "cell_type": "markdown",
   "id": "d7ebdc50",
   "metadata": {},
   "source": [
    "## Rerunning the Program"
   ]
  },
  {
   "cell_type": "markdown",
   "id": "6b2ce1b4",
   "metadata": {},
   "source": [
    "At this point, run the program under **Accessing Ancestry** again. Set ```error_handling``` equal to ```True```. Uncomment the line: ```towns_l = er_towns```. Comment the line: ```towns_l = towns.values.tolist()```. Once that's done, the code below essentially replaces the towns with the new populations. "
   ]
  },
  {
   "cell_type": "code",
   "execution_count": 269,
   "id": "abe28e63",
   "metadata": {},
   "outputs": [
    {
     "name": "stdout",
     "output_type": "stream",
     "text": [
      "{'Woodstock, Windham, Connecticut, USA ': 331, 'Warwick, Kent, Rhode Island, USA ': 'NR', 'Halifax, Halifax, North Carolina, USA ': 'NR', 'Alexandria, Grafton, New Hampshire, USA ': 54}\n",
      "    population                                        location\n",
      "0          253            Bristol, Bristol, Rhode Island, USA \n",
      "1          666           Hartford, Hartford, Connecticut, USA \n",
      "2           NR  North Scituate, Providence, Rhode Island, USA \n",
      "3          919         New Haven, New Haven, Connecticut, USA \n",
      "4          893     Portsmouth, Rockingham, New Hampshire, USA \n",
      "..         ...                                             ...\n",
      "398         NR            Stephen, Westchester, New York, USA \n",
      "399         NR     Sunbury, Northumberland, Pennsylvania, USA \n",
      "400        230                  Fawn, York, Pennsylvania, USA \n",
      "401        120         New London, Chester, Pennsylvania, USA \n",
      "402         NR         South Hempstead, Queens, New York, USA \n",
      "\n",
      "[403 rows x 2 columns]\n",
      "                city          county          state country population\n",
      "0            Bristol         Bristol   Rhode Island    USA         253\n",
      "1           Hartford        Hartford    Connecticut    USA         666\n",
      "2     North Scituate      Providence   Rhode Island    USA          NR\n",
      "3          New Haven       New Haven    Connecticut    USA         919\n",
      "4         Portsmouth      Rockingham  New Hampshire    USA         893\n",
      "..               ...             ...            ...     ...        ...\n",
      "398          Stephen     Westchester       New York    USA          NR\n",
      "399          Sunbury  Northumberland   Pennsylvania    USA          NR\n",
      "400             Fawn            York   Pennsylvania    USA         230\n",
      "401       New London         Chester   Pennsylvania    USA         120\n",
      "402  South Hempstead          Queens       New York    USA          NR\n",
      "\n",
      "[403 rows x 5 columns]\n"
     ]
    }
   ],
   "source": [
    "# after rerunning program\n",
    "print(town_pops) # should print out the new populations for each wrong town \n",
    "town_copy = pd.read_csv(\"town_pops_clean.csv\")\n",
    "town_copy[\"location\"] = town_copy[\"city\"] + \", \" + town_copy[\"county\"] + \", \" + town_copy[\"state\"] + \", \" + town_copy[\"country\"]\n",
    "print(town_copy[[\"population\", \"location\"]]) \n",
    "\n",
    "for town in town_pops.keys():\n",
    "    town_copy.loc[town_copy[\"location\"] == town, \"population\"] = town_pops[town]\n",
    "town_copy.drop(columns={\"Unnamed: 0\", \"location\"}, inplace=True)\n",
    "print(town_copy) \n",
    "town_copy.to_csv(\"town_pops clean.csv\")"
   ]
  },
  {
   "cell_type": "code",
   "execution_count": 270,
   "id": "3bf229c9",
   "metadata": {},
   "outputs": [
    {
     "name": "stdout",
     "output_type": "stream",
     "text": [
      "Frequency of NR is : 151\n"
     ]
    }
   ],
   "source": [
    "# find the frequencies of \"no records\"\n",
    "town_pop_csv = pd.read_csv(\"town_pops_clean.csv\")\n",
    "res = sum(x == 'NR' for x in town_pop_csv[\"population\"].values.tolist())\n",
    "print(\"Frequency of NR is : \" + str(res))"
   ]
  }
 ],
 "metadata": {
  "kernelspec": {
   "display_name": "Python 3 (ipykernel)",
   "language": "python",
   "name": "python3"
  },
  "language_info": {
   "codemirror_mode": {
    "name": "ipython",
    "version": 3
   },
   "file_extension": ".py",
   "mimetype": "text/x-python",
   "name": "python",
   "nbconvert_exporter": "python",
   "pygments_lexer": "ipython3",
   "version": "3.11.3"
  }
 },
 "nbformat": 4,
 "nbformat_minor": 5
}
